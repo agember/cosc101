{
 "cells": [
  {
   "cell_type": "markdown",
   "id": "111d1859-669a-4396-b054-36231555c294",
   "metadata": {
    "slideshow": {
     "slide_type": "skip"
    },
    "tags": []
   },
   "source": [
    "# definite vs indefinite iteration; while loops\n",
    "_COSC 101, Introduction to Computing I, 2021-10-06_"
   ]
  },
  {
   "cell_type": "markdown",
   "id": "0321198b-07af-4c3f-ad12-28b1b78de95f",
   "metadata": {
    "jp-MarkdownHeadingCollapsed": true,
    "slideshow": {
     "slide_type": "skip"
    },
    "tags": []
   },
   "source": [
    "## Announcements\n",
    "* Homework 4 due tomorrow at 5pm\n",
    "* Single DEI reflection due Tues, Nov 30"
   ]
  },
  {
   "cell_type": "markdown",
   "id": "2c0fb352-0de8-4723-bf7e-cd9adb8f05a6",
   "metadata": {
    "slideshow": {
     "slide_type": "skip"
    },
    "tags": [
     "notes-only"
    ]
   },
   "source": [
    "## Outline\n",
    "* Warm-up\n",
    "* Definite vs indefinite iteration\n",
    "* while loops"
   ]
  },
  {
   "cell_type": "markdown",
   "id": "31355098-9b07-4763-80e4-a5298f246db3",
   "metadata": {
    "slideshow": {
     "slide_type": "slide"
    },
    "tags": []
   },
   "source": [
    "## Warm-up\n",
    "_Write a function called `only_letters` that takes a string and returns true if the string only contains letters, and false otherwise._"
   ]
  },
  {
   "cell_type": "code",
   "execution_count": 2,
   "id": "e5601a71-748d-465d-abf1-e5c9d150a580",
   "metadata": {
    "slideshow": {
     "slide_type": "skip"
    },
    "tags": [
     "notes-only"
    ]
   },
   "outputs": [
    {
     "data": {
      "text/plain": [
       "TestResults(failed=0, attempted=4)"
      ]
     },
     "execution_count": 2,
     "metadata": {},
     "output_type": "execute_result"
    }
   ],
   "source": [
    "import doctest\n",
    "import string\n",
    "def only_letters(s):\n",
    "    \"\"\"\n",
    "    Checks if a string contains only letters\n",
    "    \n",
    "    >>> only_letters(\"nIcE\")\n",
    "    True\n",
    "    >>> only_letters(\"a I\")\n",
    "    False\n",
    "    >>> only_letters(\"H2O\")\n",
    "    False\n",
    "    >>> only_letters(\"I2\")\n",
    "    False\n",
    "    \"\"\"\n",
    "    non_letter = False\n",
    "    for c in s:\n",
    "        if c not in string.ascii_letters:\n",
    "            non_letter = True\n",
    "    if non_letter:\n",
    "        return False\n",
    "    else:\n",
    "        return True\n",
    "\n",
    "doctest.testmod()"
   ]
  },
  {
   "cell_type": "markdown",
   "id": "25eb1ac8-e9a9-4cae-942a-5992f4ea0362",
   "metadata": {
    "slideshow": {
     "slide_type": "skip"
    },
    "tags": [
     "worksheet-only"
    ]
   },
   "source": [
    "```\n",
    "\n",
    "\n",
    "\n",
    "\n",
    "\n",
    "\n",
    "\n",
    "\n",
    "\n",
    "\n",
    "\n",
    "\n",
    "\n",
    "\n",
    "\n",
    "```\n",
    "🛑 **STOP HERE** after completing the warm-up question; please **DO NOT WORK AHEAD**. If you have extra time, work on the extra practice problems at the end of the worksheet."
   ]
  },
  {
   "cell_type": "markdown",
   "id": "d05103f0-f506-480d-8453-2ddf0d18114a",
   "metadata": {
    "slideshow": {
     "slide_type": "slide"
    },
    "tags": []
   },
   "source": [
    "## Definite vs indefinite iteration"
   ]
  },
  {
   "cell_type": "markdown",
   "id": "d8900b8f-46e4-42cf-93b5-e3ef86715d99",
   "metadata": {
    "slideshow": {
     "slide_type": "skip"
    },
    "tags": [
     "notes-only"
    ]
   },
   "source": [
    "### Overview\n",
    "* Do we know how many times a task needs to be repeated before beginning the repetition?\n",
    "    * Definite — number of iterations is known before loop starts\n",
    "        * E.g., interview 50 people for a research study\n",
    "    * Indefinite — number of iterations is not known before loop starts\n",
    "        * E.g., call potential participants until 50 people have agreed to be part of the study\n",
    "* Which type of loop to use?\n",
    "    * Definite — `for` loop\n",
    "    * Indefinite — `while` loop\n",
    "    * Can always use a `while` loop in place of a `for` loop\n",
    "* How is the number of iterations determined?\n",
    "    * `for` loop iterates over a sequence of values\n",
    "        * E.g., `for person in participants`\n",
    "    * `while` loop repeats as long as a condition is true\n",
    "        * E.g., `while num_participants < 50`\n",
    "    \n",
    "### Practice"
   ]
  },
  {
   "cell_type": "markdown",
   "id": "4eade141-ba7c-4549-b955-b282c95ee5f8",
   "metadata": {
    "tags": []
   },
   "source": [
    "_For each of the following situtations, determine whether it is definite or indefinite iteration._\n",
    "\n",
    "\\#1) Roll a 6-sided die 20 times and count the number of times a 6 is rolled"
   ]
  },
  {
   "cell_type": "markdown",
   "id": "c5fc6694-35dd-489e-a67f-d6799d05b0eb",
   "metadata": {
    "slideshow": {
     "slide_type": "skip"
    },
    "tags": [
     "notes-only"
    ]
   },
   "source": [
    "Definite — need exactly 20 iterations"
   ]
  },
  {
   "cell_type": "markdown",
   "id": "c4884fcb-edd4-445b-8874-bd7dee16aa63",
   "metadata": {
    "slideshow": {
     "slide_type": "skip"
    },
    "tags": [
     "worksheet-only"
    ]
   },
   "source": [
    "```\n",
    "\n",
    "```"
   ]
  },
  {
   "cell_type": "markdown",
   "id": "6caf1b8f-8e8f-445c-ac95-be4c75fb08dd",
   "metadata": {
    "slideshow": {
     "slide_type": "fragment"
    },
    "tags": []
   },
   "source": [
    "\\#2) Roll a 6-sided die until a 6 is rolled"
   ]
  },
  {
   "cell_type": "markdown",
   "id": "ed1913c9-eeaa-40e4-bb71-ab8cee61113b",
   "metadata": {
    "slideshow": {
     "slide_type": "skip"
    },
    "tags": [
     "notes-only"
    ]
   },
   "source": [
    "Indefinite — number of iterations depends on the outcome of each roll"
   ]
  },
  {
   "cell_type": "markdown",
   "id": "67d5e957-9d1d-432f-a4c8-28bf73c7f6e4",
   "metadata": {
    "slideshow": {
     "slide_type": "skip"
    },
    "tags": [
     "worksheet-only"
    ]
   },
   "source": [
    "```\n",
    "\n",
    "```"
   ]
  },
  {
   "cell_type": "markdown",
   "id": "c46d35c1-e6fc-4188-bf3a-6aa4d8bada8c",
   "metadata": {
    "slideshow": {
     "slide_type": "fragment"
    },
    "tags": []
   },
   "source": [
    "\\#3) Count the number of letters in a string"
   ]
  },
  {
   "cell_type": "markdown",
   "id": "a405713b-7a61-4eb9-bfd0-f024fa3f395f",
   "metadata": {
    "slideshow": {
     "slide_type": "skip"
    },
    "tags": [
     "notes-only"
    ]
   },
   "source": [
    "Definite — the number of iterations equals the number of characters in the string"
   ]
  },
  {
   "cell_type": "markdown",
   "id": "593ff7d4-004f-42bf-980b-9655af199eb5",
   "metadata": {
    "slideshow": {
     "slide_type": "skip"
    },
    "tags": [
     "worksheet-only"
    ]
   },
   "source": [
    "```\n",
    "\n",
    "```"
   ]
  },
  {
   "cell_type": "markdown",
   "id": "e97be3ec-6fca-41a2-afab-7bb6b72400a4",
   "metadata": {
    "slideshow": {
     "slide_type": "fragment"
    },
    "tags": []
   },
   "source": [
    "\\#4) Ask the user to enter words (one at a time) until they have entered 100 words"
   ]
  },
  {
   "cell_type": "markdown",
   "id": "1c692e85-9194-48e4-9442-4e47a44fe429",
   "metadata": {
    "slideshow": {
     "slide_type": "skip"
    },
    "tags": [
     "notes-only"
    ]
   },
   "source": [
    "Definite — need exactly 100 iterations"
   ]
  },
  {
   "cell_type": "markdown",
   "id": "290b7281-2f22-4869-8bb4-a249cadafad8",
   "metadata": {
    "slideshow": {
     "slide_type": "skip"
    },
    "tags": [
     "worksheet-only"
    ]
   },
   "source": [
    "```\n",
    "\n",
    "```"
   ]
  },
  {
   "cell_type": "markdown",
   "id": "caee4436-4eb5-49d4-92ee-6a9fffeb4ee2",
   "metadata": {
    "slideshow": {
     "slide_type": "fragment"
    },
    "tags": []
   },
   "source": [
    "\\#5) Ask the user to enter words (one word at a time) until they have entered at least 100 characters"
   ]
  },
  {
   "cell_type": "markdown",
   "id": "d421aa21-d796-4f27-8dad-a3b51183c4ce",
   "metadata": {
    "slideshow": {
     "slide_type": "skip"
    },
    "tags": [
     "notes-only"
    ]
   },
   "source": [
    "Indefinite — number of iterations depends on the length of each word"
   ]
  },
  {
   "cell_type": "markdown",
   "id": "3cd11018-d9ab-4b14-b16b-7fec2f793d45",
   "metadata": {
    "slideshow": {
     "slide_type": "skip"
    },
    "tags": [
     "worksheet-only"
    ]
   },
   "source": [
    "```\n",
    "\n",
    "```\n",
    "🛑 **STOP HERE** after completing the above questions; please **DO NOT WORK AHEAD**. If you have extra time, work on the extra practice problems at the end of the worksheet."
   ]
  },
  {
   "cell_type": "markdown",
   "id": "4f1599d6-06af-4132-9159-9ed44e1d61e9",
   "metadata": {
    "slideshow": {
     "slide_type": "slide"
    },
    "tags": []
   },
   "source": [
    "## while loops"
   ]
  },
  {
   "cell_type": "markdown",
   "id": "37382cd2-f7cf-4ca2-a74c-71df06702db3",
   "metadata": {
    "slideshow": {
     "slide_type": "skip"
    },
    "tags": [
     "notes-only"
    ]
   },
   "source": [
    "### Overview\n",
    "* Use a boolean expression to determine whether or not the loop executes (again)\n",
    "    * Similar to using a boolean expression in a conditional statement to determine whether or not to execute the if-body\n",
    "* Example code"
   ]
  },
  {
   "cell_type": "code",
   "execution_count": 4,
   "id": "df25b9ba-251b-4706-8201-554ddcf45e3f",
   "metadata": {
    "tags": [
     "notes-only"
    ]
   },
   "outputs": [
    {
     "name": "stdout",
     "output_type": "stream",
     "text": [
      "1\n",
      "2\n",
      "3\n",
      "4\n",
      "5\n",
      "Done\n"
     ]
    }
   ],
   "source": [
    "count = 0\n",
    "while count < 5:\n",
    "    count = count + 1\n",
    "    print(count)\n",
    "print(\"Done\")"
   ]
  },
  {
   "cell_type": "markdown",
   "id": "bfbee3c5-99b4-4333-88c8-ebf90ca8bc8b",
   "metadata": {
    "slideshow": {
     "slide_type": "skip"
    },
    "tags": [
     "notes-only"
    ]
   },
   "source": [
    "* Control flow\n",
    "\n",
    "![](figures/while_loops/while_loop_example.png)\n",
    "\n",
    "* The body of the loop **must** change the value of one or more variables used in the loop condition such that eventually the loop condition is false\n",
    "* _What happens if the loop condition is always true?_ — the loop runs forever; called an infinite loop"
   ]
  },
  {
   "cell_type": "markdown",
   "id": "40f7ea8e-2b35-4b73-8b9b-803bbb535295",
   "metadata": {
    "slideshow": {
     "slide_type": "slide"
    },
    "tags": []
   },
   "source": [
    "### Practice understanding while loops\n",
    "_What is the output of each of the following programs?_"
   ]
  },
  {
   "cell_type": "code",
   "execution_count": 6,
   "id": "4530018f-b7d3-497b-94b7-43b1a472e7fd",
   "metadata": {
    "tags": [
     "worksheet-code-only"
    ]
   },
   "outputs": [
    {
     "name": "stdout",
     "output_type": "stream",
     "text": [
      "2\n",
      "4\n",
      "8\n",
      "16\n"
     ]
    }
   ],
   "source": [
    "#1)\n",
    "total = 1\n",
    "while total < 16:\n",
    "    total = total * 2\n",
    "    print(total)"
   ]
  },
  {
   "cell_type": "markdown",
   "id": "ee2e2c8f-30f7-4492-9617-7a7eee3ad8fb",
   "metadata": {
    "slideshow": {
     "slide_type": "skip"
    },
    "tags": [
     "worksheet-only"
    ]
   },
   "source": [
    "```\n",
    "\n",
    "\n",
    "\n",
    "\n",
    "```"
   ]
  },
  {
   "cell_type": "code",
   "execution_count": 7,
   "id": "9c8c4e13-91b4-4829-98f3-f37641898885",
   "metadata": {
    "slideshow": {
     "slide_type": "subslide"
    },
    "tags": [
     "worksheet-code-only"
    ]
   },
   "outputs": [
    {
     "name": "stdout",
     "output_type": "stream",
     "text": [
      "6 5\n",
      "4 4\n",
      "2 3\n",
      "0 2\n"
     ]
    }
   ],
   "source": [
    "#2)\n",
    "a = 6\n",
    "b = 5\n",
    "while a >= 0 and b > 0:\n",
    "    print(a, b)\n",
    "    a = a - 2\n",
    "    b = b - 1"
   ]
  },
  {
   "cell_type": "markdown",
   "id": "ca7aadcf-179c-44f2-a8d2-9ac1230fd2c2",
   "metadata": {
    "slideshow": {
     "slide_type": "skip"
    },
    "tags": [
     "worksheet-only"
    ]
   },
   "source": [
    "```\n",
    "\n",
    "\n",
    "\n",
    "\n",
    "```"
   ]
  },
  {
   "cell_type": "code",
   "execution_count": null,
   "id": "bf6f36be-489d-4d13-b90b-4912699cce41",
   "metadata": {
    "slideshow": {
     "slide_type": "subslide"
    },
    "tags": [
     "worksheet-code-only"
    ]
   },
   "outputs": [],
   "source": [
    "#3)\n",
    "i = 1\n",
    "while i < 5:\n",
    "    if i % 3 == 1:\n",
    "        i = i + 1\n",
    "    elif i % 3 == 2:\n",
    "        i = i - 1\n",
    "    print(i)"
   ]
  },
  {
   "cell_type": "markdown",
   "id": "f7cf676e-9454-46bb-a693-6c8a7f75af33",
   "metadata": {
    "slideshow": {
     "slide_type": "skip"
    },
    "tags": [
     "worksheet-only"
    ]
   },
   "source": [
    "```\n",
    "\n",
    "\n",
    "\n",
    "\n",
    "```"
   ]
  },
  {
   "cell_type": "markdown",
   "id": "c9bfd5b8-6657-4088-83bb-863a32b66eed",
   "metadata": {
    "slideshow": {
     "slide_type": "slide"
    },
    "tags": []
   },
   "source": [
    "### Practice writing while loops\n",
    "\\#1) _Write a function called `ask_words` that takes an integer and prompts the user to enter words (one word at a time) until the total number of characters entered equals or exceeds the provided number._"
   ]
  },
  {
   "cell_type": "code",
   "execution_count": 10,
   "id": "bccdb07d-73f2-478f-a5ac-14356e33ed35",
   "metadata": {
    "slideshow": {
     "slide_type": "skip"
    },
    "tags": [
     "notes-only"
    ]
   },
   "outputs": [],
   "source": [
    "def ask_words(target):\n",
    "    count = 0\n",
    "    while (count < target):\n",
    "        word = input(\"Enter a word: \")\n",
    "        count = count + len(word)"
   ]
  },
  {
   "cell_type": "markdown",
   "id": "b7b3050c-654f-45c3-b512-8d5e51ac3559",
   "metadata": {
    "slideshow": {
     "slide_type": "skip"
    },
    "tags": [
     "worksheet-only"
    ]
   },
   "source": [
    "```\n",
    "\n",
    "\n",
    "\n",
    "\n",
    "\n",
    "\n",
    "\n",
    "\n",
    "\n",
    "\n",
    "```"
   ]
  },
  {
   "cell_type": "markdown",
   "id": "f8a35118-44ab-4b53-b316-ed47777d1c8c",
   "metadata": {
    "slideshow": {
     "slide_type": "subslide"
    },
    "tags": []
   },
   "source": [
    "\\#2) _In the biological process of cell division, a parent cell divides into two daughter cells. Each of these two daughter cells then divides into two grandaughter cells. Each of these four grandaughter cells then divides into two great-grandaughter cells, etc. In other words, the total number of cells doubles with each round of cell division. Write a function called `cells` that takes a number of rounds of cell division that occur and returns the total number of cells that exist after the specified number of rounds. Assume you start with a single cell._"
   ]
  },
  {
   "cell_type": "code",
   "execution_count": 14,
   "id": "0b53e0b5-3a38-4c41-bd3b-95c3503ee007",
   "metadata": {
    "slideshow": {
     "slide_type": "skip"
    },
    "tags": [
     "notes-only"
    ]
   },
   "outputs": [],
   "source": [
    "def cells(rounds):\n",
    "    \"\"\"\n",
    "    Determines the number of cells that will exist after the specified number of rounds of cell division\n",
    "    \n",
    "    >>> cells(0)\n",
    "    1\n",
    "    >>> cells(1)\n",
    "    2\n",
    "    >>> cells(2)\n",
    "    4\n",
    "    >>> cells(5)\n",
    "    32\n",
    "    \"\"\"\n",
    "    total = 1\n",
    "    while (rounds > 0):\n",
    "        total = total * 2\n",
    "        rounds = rounds - 1\n",
    "    return total"
   ]
  },
  {
   "cell_type": "markdown",
   "id": "def8e6f5-4515-4901-be72-3a45a5e75762",
   "metadata": {
    "slideshow": {
     "slide_type": "skip"
    },
    "tags": [
     "worksheet-only"
    ]
   },
   "source": [
    "```\n",
    "\n",
    "\n",
    "\n",
    "\n",
    "\n",
    "\n",
    "\n",
    "\n",
    "\n",
    "\n",
    "\n",
    "\n",
    "```"
   ]
  },
  {
   "cell_type": "markdown",
   "id": "25a65bb6-74c5-47d0-9d3e-813cc667010f",
   "metadata": {
    "slideshow": {
     "slide_type": "fragment"
    },
    "tags": []
   },
   "source": [
    "\\#3) _Again, consider the biological process of cell division. Write a function called `rounds` that takes the number of cells that should exist, and computes the number of rounds of cell division that must occur to have at least that many cells (asuming you started with a single cell)._"
   ]
  },
  {
   "cell_type": "code",
   "execution_count": 15,
   "id": "cb71bc19-2227-4126-b16b-94244dbcb487",
   "metadata": {
    "slideshow": {
     "slide_type": "skip"
    },
    "tags": [
     "notes-only"
    ]
   },
   "outputs": [],
   "source": [
    "def rounds(target):\n",
    "    \"\"\"\n",
    "    Determines the number of rounds of cell division that must occur to have the target number of cells\n",
    "    \n",
    "    >>> rounds(1)\n",
    "    0\n",
    "    >>> rounds(2)\n",
    "    1\n",
    "    >>> rounds(4)\n",
    "    2\n",
    "    >>> rounds(5)\n",
    "    3\n",
    "    \"\"\"\n",
    "    cells = 1\n",
    "    count = 0\n",
    "    while cells < target:\n",
    "        cells = cells * 2\n",
    "        count = count + 1\n",
    "    return count"
   ]
  },
  {
   "cell_type": "markdown",
   "id": "27d02485-1684-492e-8538-e3a4d8626c12",
   "metadata": {
    "slideshow": {
     "slide_type": "skip"
    },
    "tags": [
     "worksheet-only"
    ]
   },
   "source": [
    "```\n",
    "\n",
    "\n",
    "\n",
    "\n",
    "\n",
    "\n",
    "\n",
    "\n",
    "\n",
    "\n",
    "\n",
    "\n",
    "```"
   ]
  },
  {
   "cell_type": "code",
   "execution_count": 16,
   "id": "6736b64f-f2da-4f69-84b1-8522df2a2bde",
   "metadata": {
    "slideshow": {
     "slide_type": "skip"
    },
    "tags": [
     "notes-only"
    ]
   },
   "outputs": [
    {
     "data": {
      "text/plain": [
       "TestResults(failed=0, attempted=12)"
      ]
     },
     "execution_count": 16,
     "metadata": {},
     "output_type": "execute_result"
    }
   ],
   "source": [
    "doctest.testmod()"
   ]
  },
  {
   "cell_type": "markdown",
   "id": "b760b79a-e097-4d77-ba11-47e81f3d57e0",
   "metadata": {
    "slideshow": {
     "slide_type": "slide"
    },
    "tags": []
   },
   "source": [
    "## Extra practice"
   ]
  },
  {
   "cell_type": "markdown",
   "id": "97d6ab14-ed5c-4364-90fe-6336aee60741",
   "metadata": {},
   "source": [
    "\\#1) _Write a function called `get_donations` that takes a fundraising goal (in dollars) and repeatedly asks the user for donation amounts until the fundraising goal has been met. The function should return the total number of donations entered._"
   ]
  },
  {
   "cell_type": "code",
   "execution_count": 17,
   "id": "bc325d71-cce6-4bc2-86c8-17bdb76e5590",
   "metadata": {
    "slideshow": {
     "slide_type": "skip"
    },
    "tags": [
     "notes-only"
    ]
   },
   "outputs": [],
   "source": [
    "def get_donations(goal):\n",
    "    count = 0\n",
    "    raised = 0\n",
    "    while (raised < goal):\n",
    "        contribution = float(input(\"Donation amount: $\"))\n",
    "        raised = raised + contribution\n",
    "        count = count + 1\n",
    "    return count"
   ]
  },
  {
   "cell_type": "markdown",
   "id": "e91acb32-9069-413a-9246-5cb2e070e3e5",
   "metadata": {
    "slideshow": {
     "slide_type": "skip"
    },
    "tags": [
     "worksheet-only"
    ]
   },
   "source": [
    "```\n",
    "\n",
    "\n",
    "\n",
    "\n",
    "\n",
    "\n",
    "\n",
    "\n",
    "\n",
    "\n",
    "\n",
    "\n",
    "\n",
    "\n",
    "\n",
    "```"
   ]
  },
  {
   "cell_type": "markdown",
   "id": "3c5d4225-a7d2-46f3-8f31-2e33b54b9af5",
   "metadata": {
    "slideshow": {
     "slide_type": "subslide"
    },
    "tags": []
   },
   "source": [
    "\\#2) _Various measures of public health (e.g., number of active cases of COVID-19) are often reporting using a rolling average (e.g., the average over the past 7 days). A slight variation of a rolling average is an estimated weighted moving average (EWMA), which takes a fraction of the previous average and a fraction of a new value and computes a new average. For example, the 7-day EWMA of active COVID-19 cases is computed using the following formula:_\n",
    "\n",
    "`new_average = previous_average * (6 / 7) + todays_count * (1 / 7)`\n",
    "\n",
    "_Write a function called `compute_ewma` that takes the previous average and the current count and computes a new average._"
   ]
  },
  {
   "cell_type": "code",
   "execution_count": 19,
   "id": "84c6c257-26cc-49da-8e8e-30dd64eddcfa",
   "metadata": {
    "slideshow": {
     "slide_type": "skip"
    },
    "tags": [
     "notes-only"
    ]
   },
   "outputs": [],
   "source": [
    "def compute_ewma(previous, today):\n",
    "    new = previous * (6 / 7) + today * (1 / 7)\n",
    "    return new"
   ]
  },
  {
   "cell_type": "markdown",
   "id": "13510d1f-709c-40cc-a648-a5d9a8c0d9c2",
   "metadata": {
    "slideshow": {
     "slide_type": "skip"
    },
    "tags": [
     "worksheet-only"
    ]
   },
   "source": [
    "```\n",
    "\n",
    "\n",
    "\n",
    "\n",
    "\n",
    "\n",
    "\n",
    "\n",
    "```"
   ]
  },
  {
   "cell_type": "markdown",
   "id": "0ca50be3-3494-44c8-810e-ac495cbdb594",
   "metadata": {
    "slideshow": {
     "slide_type": "fragment"
    },
    "tags": []
   },
   "source": [
    "_Write a function called `monitor_average` that takes a threshold and asks for daily case counts until the EWMA exceeds the threshold._"
   ]
  },
  {
   "cell_type": "code",
   "execution_count": 20,
   "id": "90e3d613-0540-447e-b7ab-0f1cf5e2e9dd",
   "metadata": {
    "slideshow": {
     "slide_type": "skip"
    },
    "tags": [
     "notes-only"
    ]
   },
   "outputs": [],
   "source": [
    "def monitor_average(threshold):\n",
    "    day = 1\n",
    "    average = 0\n",
    "    while (average < threshold):\n",
    "        today = int(input(\"Number of active cases on day \"+str(day)+\"? \"))\n",
    "        average = compute_ewma(average, today)\n",
    "        day = day + 1\n",
    "    print(\"The EWMA of active cases exceeded the threshold on day\", day)"
   ]
  }
 ],
 "metadata": {
  "kernelspec": {
   "display_name": "Python 3 (ipykernel)",
   "language": "python",
   "name": "python3"
  },
  "language_info": {
   "codemirror_mode": {
    "name": "ipython",
    "version": 3
   },
   "file_extension": ".py",
   "mimetype": "text/x-python",
   "name": "python",
   "nbconvert_exporter": "python",
   "pygments_lexer": "ipython3",
   "version": "3.8.2"
  }
 },
 "nbformat": 4,
 "nbformat_minor": 5
}
