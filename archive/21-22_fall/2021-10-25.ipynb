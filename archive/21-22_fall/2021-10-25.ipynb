{
 "cells": [
  {
   "cell_type": "markdown",
   "id": "5f7022fe-ef2e-490a-8b8b-ed4ff5a60402",
   "metadata": {
    "slideshow": {
     "slide_type": "skip"
    },
    "tags": []
   },
   "source": [
    "# string indexing; string slicing\n",
    "_COSC 101, Introduction to Computing I, 2021-10-25_"
   ]
  },
  {
   "cell_type": "markdown",
   "id": "26c41ea4-38b5-4cca-88de-2596498fb2f3",
   "metadata": {
    "slideshow": {
     "slide_type": "skip"
    },
    "tags": []
   },
   "source": [
    "## Announcements\n",
    "* Homework 6 due Thursday"
   ]
  },
  {
   "cell_type": "markdown",
   "id": "cd9be63e-475e-443b-b58f-d3b535efbed4",
   "metadata": {
    "jp-MarkdownHeadingCollapsed": true,
    "slideshow": {
     "slide_type": "skip"
    },
    "tags": [
     "notes-only"
    ]
   },
   "source": [
    "## Outline\n",
    "* Warm-up\n",
    "* string indexing\n",
    "* string slicing\n",
    "* Programmatic poetry"
   ]
  },
  {
   "cell_type": "markdown",
   "id": "832daeb0-49a0-4119-828f-ecf141b70da1",
   "metadata": {
    "slideshow": {
     "slide_type": "slide"
    },
    "tags": []
   },
   "source": [
    "## Warm-up\n",
    "_For each of the following programs, fill-in the blanks such that the program produces the expected output._"
   ]
  },
  {
   "cell_type": "code",
   "execution_count": null,
   "id": "65c20e0b-33fc-4686-a4e7-1d2f1928ea6c",
   "metadata": {},
   "outputs": [],
   "source": [
    "#1)\n",
    "phrase1 = \"Let it go, \"\n",
    "phrase2 = \"Can't hold it back anymore.\"\n",
    "print(__________ * __________ + __________)\n",
    "phrase3 = \"Turn away and slam the door.\"\n",
    "print(__________ * __________ + __________)\n",
    "print(\"~Elsa from Frozen\")"
   ]
  },
  {
   "cell_type": "markdown",
   "id": "3151b069-3fde-47a2-a771-09afc1e6a06f",
   "metadata": {},
   "source": [
    "Expected output:\n",
    "```\n",
    "Let it go, Let it go, Can't hold it back anymore.\n",
    "Let it go, Let it go, Turn away and slam the door.\n",
    "~Elsa from Frozen\n",
    "```"
   ]
  },
  {
   "cell_type": "code",
   "execution_count": 34,
   "id": "432c415b-9093-45c6-a74a-27a84d189bcd",
   "metadata": {
    "slideshow": {
     "slide_type": "skip"
    },
    "tags": [
     "notes-only"
    ]
   },
   "outputs": [
    {
     "name": "stdout",
     "output_type": "stream",
     "text": [
      "Let it go, Let it go, Can't hold it back anymore.\n",
      "Let it go, Let it go, Turn away and slam the door.\n",
      "~Elsa from Frozen\n"
     ]
    }
   ],
   "source": [
    "phrase1 = \"Let it go, \"\n",
    "phrase2 = \"Can't hold it back anymore.\"\n",
    "print(phrase1 * 2 + phrase2)\n",
    "phrase3 = \"Turn away and slam the door.\"\n",
    "print(phrase1 * 2 + phrase3)\n",
    "print(\"~Elsa from Frozen\")"
   ]
  },
  {
   "cell_type": "code",
   "execution_count": null,
   "id": "fb3b6f27-fc95-445f-8bba-515790bfd11b",
   "metadata": {
    "slideshow": {
     "slide_type": "subslide"
    },
    "tags": []
   },
   "outputs": [],
   "source": [
    "#2)\n",
    "suffix = \"ice\"\n",
    "for __________________________________:\n",
    "    print(__________ + suffix)"
   ]
  },
  {
   "cell_type": "markdown",
   "id": "97ecc8ae-8536-4579-80c9-383fffefb45e",
   "metadata": {},
   "source": [
    "Expected output:\n",
    "```\n",
    "dice\n",
    "rice\n",
    "slice\n",
    "twice\n",
    "```"
   ]
  },
  {
   "cell_type": "code",
   "execution_count": 45,
   "id": "26500dbc-4d29-4173-809b-964e6dc30492",
   "metadata": {
    "slideshow": {
     "slide_type": "skip"
    },
    "tags": [
     "notes-only"
    ]
   },
   "outputs": [
    {
     "name": "stdout",
     "output_type": "stream",
     "text": [
      "dice\n",
      "rice\n",
      "slice\n",
      "twice\n"
     ]
    }
   ],
   "source": [
    "suffix = \"ice\"\n",
    "for prefix in ['d', 'r', 'sl', 'tw']:\n",
    "    print(prefix + suffix)"
   ]
  },
  {
   "cell_type": "markdown",
   "id": "a9cbcb91-3789-4af5-9d04-982c1d008798",
   "metadata": {
    "slideshow": {
     "slide_type": "skip"
    },
    "tags": [
     "worksheet-only"
    ]
   },
   "source": [
    "🛑 **STOP HERE** after completing the warm-up; please **DO NOT WORK AHEAD**. If you have extra time, think about a poem or song lyrics you enjoy."
   ]
  },
  {
   "cell_type": "markdown",
   "id": "f3885d05-7211-4ef1-b066-c8177074fa5a",
   "metadata": {
    "slideshow": {
     "slide_type": "skip"
    },
    "tags": [
     "notes-only"
    ]
   },
   "source": [
    "## Strings\n",
    "Already know how to…\n",
    "* Represent a string — surround sequence of characters with single (`'`), double (`\"`), triple-single (`'''`), or triple-double (`\"\"\"`) quotes\n",
    "* Concatenate strings — using `+` operator\n",
    "* Repeat strings — using `*` operator\n",
    "* Count the number of characters — using `len` function"
   ]
  },
  {
   "cell_type": "markdown",
   "id": "41df2650-b417-4d72-bf21-2fb304b1c636",
   "metadata": {
    "slideshow": {
     "slide_type": "slide"
    },
    "tags": []
   },
   "source": [
    "## String indexing"
   ]
  },
  {
   "cell_type": "markdown",
   "id": "7120a9d5-be4c-4b70-859a-7eb1bef2b8f1",
   "metadata": {
    "slideshow": {
     "slide_type": "skip"
    },
    "tags": [
     "notes-only"
    ]
   },
   "source": [
    "### Overview\n",
    "* Characters are numbered left to right starting from 0\n",
    "    ```\n",
    "      0   1   2   3   4   5   6   7   8   9\n",
    "    ┏━━━┳━━━┳━━━┳━━━┳━━━┳━━━┳━━━┳━━━┳━━━┳━━━┓\n",
    "    ┃ C ┃ o ┃ l ┃ g ┃ a ┃ t ┃ e ┃   ┃ 1 ┃ 3 ┃\n",
    "    ┗━━━┻━━━┻━━━┻━━━┻━━━┻━━━┻━━━┻━━━┻━━━┻━━━┛\n",
    "    ```\n",
    "* To access a specific character: use the string name followed by the character number (or index) in square brackets (`[]`)"
   ]
  },
  {
   "cell_type": "code",
   "execution_count": 35,
   "id": "c589ce8f-a8f8-47f6-9204-6096cc494596",
   "metadata": {
    "slideshow": {
     "slide_type": "skip"
    },
    "tags": [
     "notes-only"
    ]
   },
   "outputs": [
    {
     "name": "stdout",
     "output_type": "stream",
     "text": [
      "C\n",
      "o\n",
      "a\n"
     ]
    }
   ],
   "source": [
    "myString = 'Colgate 13'\n",
    "print(myString[0])\n",
    "print(myString[1])\n",
    "print(myString[4])"
   ]
  },
  {
   "cell_type": "markdown",
   "id": "0523d5d1-7541-4cdb-8ef3-f4d37ed02f15",
   "metadata": {
    "slideshow": {
     "slide_type": "skip"
    },
    "tags": [
     "notes-only"
    ]
   },
   "source": [
    "* Can also use negative numbers (starting at `-1`) to get a character relative to the end of the string"
   ]
  },
  {
   "cell_type": "code",
   "execution_count": 36,
   "id": "801b02e5-1613-4a85-83aa-6905cf532955",
   "metadata": {
    "slideshow": {
     "slide_type": "skip"
    },
    "tags": [
     "notes-only"
    ]
   },
   "outputs": [
    {
     "name": "stdout",
     "output_type": "stream",
     "text": [
      "3\n",
      "e\n"
     ]
    }
   ],
   "source": [
    "print(myString[-1])\n",
    "print(myString[-4])"
   ]
  },
  {
   "cell_type": "markdown",
   "id": "9492eb55-23c6-4bd9-9209-9eee7750ff34",
   "metadata": {
    "slideshow": {
     "slide_type": "skip"
    },
    "tags": [
     "notes-only"
    ]
   },
   "source": [
    "### Practice"
   ]
  },
  {
   "cell_type": "markdown",
   "id": "1319c320-9d1b-42f8-860d-b86e922b1c94",
   "metadata": {},
   "source": [
    "_For each of the following programs, fill-in the blanks such that the program produces the expected output._"
   ]
  },
  {
   "cell_type": "code",
   "execution_count": null,
   "id": "2c5343a1-5c7a-4c22-a47c-5d8df89b412a",
   "metadata": {},
   "outputs": [],
   "source": [
    "#1)\n",
    "name = \"Ruth Bader Ginsburg\"\n",
    "initials = name[___] + name[___] + name[___]\n",
    "print(initials)\n",
    "result = __________\n",
    "for letter in initials:\n",
    "    result += __________ + __________\n",
    "print(result)"
   ]
  },
  {
   "cell_type": "markdown",
   "id": "262f39e7-61e9-4df7-864d-d2ec3a83c14b",
   "metadata": {},
   "source": [
    "Expected output:\n",
    "```\n",
    "RBG\n",
    "R.B.G.\n",
    "```"
   ]
  },
  {
   "cell_type": "code",
   "execution_count": 1,
   "id": "ae6d7036-91a6-4bc1-a586-85ab36a26329",
   "metadata": {
    "slideshow": {
     "slide_type": "skip"
    },
    "tags": [
     "notes-only"
    ]
   },
   "outputs": [
    {
     "name": "stdout",
     "output_type": "stream",
     "text": [
      "RBG\n",
      "R.B.G.\n"
     ]
    }
   ],
   "source": [
    "name = \"Ruth Bader Ginsburg\"\n",
    "initials = name[0] + name[5] + name[11]\n",
    "print(initials)\n",
    "result = \"\"\n",
    "for letter in initials:\n",
    "    result += letter + \".\"\n",
    "print(result)"
   ]
  },
  {
   "cell_type": "code",
   "execution_count": null,
   "id": "5fe45da5-46a6-4b77-b58c-a6b69317445d",
   "metadata": {
    "slideshow": {
     "slide_type": "subslide"
    },
    "tags": []
   },
   "outputs": [],
   "source": [
    "#2)\n",
    "full = \"New York\"\n",
    "abbreviation = full[-___] + full[-___]\n",
    "print(abbreviation)"
   ]
  },
  {
   "cell_type": "markdown",
   "id": "e0f97321-5b69-4951-8155-12d1eb12cbf9",
   "metadata": {},
   "source": [
    "Expected output:\n",
    "```\n",
    "NY\n",
    "```"
   ]
  },
  {
   "cell_type": "code",
   "execution_count": 61,
   "id": "f9fa8a7e-9ce3-4d0b-ad24-db29c5c3be3f",
   "metadata": {
    "slideshow": {
     "slide_type": "skip"
    },
    "tags": [
     "notes-only"
    ]
   },
   "outputs": [
    {
     "name": "stdout",
     "output_type": "stream",
     "text": [
      "NY\n"
     ]
    }
   ],
   "source": [
    "full = \"New York\"\n",
    "abbreviation = full[-8] + full[-4]\n",
    "print(abbreviation)"
   ]
  },
  {
   "cell_type": "markdown",
   "id": "a729ea5e-bc04-4981-acad-70277535b0a8",
   "metadata": {
    "slideshow": {
     "slide_type": "skip"
    },
    "tags": [
     "worksheet-only"
    ]
   },
   "source": [
    "🛑 **STOP HERE** after completing the above questions; please **DO NOT WORK AHEAD**. If you have extra time, think about a poem or song lyrics you enjoy."
   ]
  },
  {
   "cell_type": "markdown",
   "id": "b7e9fd7a-8623-4217-bd82-317c4a19a7df",
   "metadata": {
    "slideshow": {
     "slide_type": "slide"
    },
    "tags": []
   },
   "source": [
    "## String slicing"
   ]
  },
  {
   "cell_type": "markdown",
   "id": "fcfb80ef-9bf2-468f-ae53-4e99049aaabd",
   "metadata": {
    "slideshow": {
     "slide_type": "skip"
    },
    "tags": [
     "notes-only"
    ]
   },
   "source": [
    "### Overview\n",
    "* Used to select a contiguous subset of characters in a string\n",
    "* Put starting and ending indices in square brackets separated by a colon\n",
    "    * Includes character at starting index, but excludes character at ending index—similar to sequence generated by `range` going to `STOP-1`"
   ]
  },
  {
   "cell_type": "code",
   "execution_count": 37,
   "id": "cc92d345-c08b-4f69-a5d4-bdf08752c710",
   "metadata": {
    "slideshow": {
     "slide_type": "skip"
    },
    "tags": [
     "notes-only"
    ]
   },
   "outputs": [
    {
     "name": "stdout",
     "output_type": "stream",
     "text": [
      "Colgate\n",
      "13\n"
     ]
    }
   ],
   "source": [
    "print(myString[0:7])\n",
    "print(myString[8:10])"
   ]
  },
  {
   "cell_type": "markdown",
   "id": "04c4a428-3cd8-4c6c-bc37-6f13ce1b229a",
   "metadata": {
    "slideshow": {
     "slide_type": "skip"
    },
    "tags": [
     "notes-only"
    ]
   },
   "source": [
    "* _What happens if you exclude the starting index?_ —slice starts at the beginning of the string"
   ]
  },
  {
   "cell_type": "code",
   "execution_count": 38,
   "id": "f4d4593c-4bf1-443e-a74e-6baa1502a6d1",
   "metadata": {
    "slideshow": {
     "slide_type": "skip"
    },
    "tags": [
     "notes-only"
    ]
   },
   "outputs": [
    {
     "name": "stdout",
     "output_type": "stream",
     "text": [
      "Col\n"
     ]
    }
   ],
   "source": [
    "print(myString[:3])"
   ]
  },
  {
   "cell_type": "markdown",
   "id": "4e2511a9-6d68-4fa2-8f74-7f327a1d09dc",
   "metadata": {
    "slideshow": {
     "slide_type": "skip"
    },
    "tags": [
     "notes-only"
    ]
   },
   "source": [
    "* _What happens if you exclude the ending index?_ —slice stops at the end of the string"
   ]
  },
  {
   "cell_type": "code",
   "execution_count": 39,
   "id": "55d9da5b-fc05-4f9b-9dde-d000f0485972",
   "metadata": {
    "slideshow": {
     "slide_type": "skip"
    },
    "tags": [
     "notes-only"
    ]
   },
   "outputs": [
    {
     "name": "stdout",
     "output_type": "stream",
     "text": [
      "13\n"
     ]
    }
   ],
   "source": [
    "print(myString[8:])"
   ]
  },
  {
   "cell_type": "markdown",
   "id": "4857bc4b-5a84-47bf-ad7d-045bd2361303",
   "metadata": {
    "slideshow": {
     "slide_type": "skip"
    },
    "tags": [
     "notes-only"
    ]
   },
   "source": [
    "### Practice"
   ]
  },
  {
   "cell_type": "markdown",
   "id": "d952fc5d-30e0-4310-bb4e-de38b900e75a",
   "metadata": {},
   "source": [
    "_For each of the following programs, fill-in the blanks such that the program produces the expected output._"
   ]
  },
  {
   "cell_type": "code",
   "execution_count": null,
   "id": "06064dc6-d932-4cab-9593-ae04ba560c3d",
   "metadata": {},
   "outputs": [],
   "source": [
    "#1)\n",
    "line1 = \"You may write me down in history\"\n",
    "print(line1)\n",
    "line2 = \"W\" + line1[___:___] + line1[-___] + \" your bitter, twisted lies,\"\n",
    "print(line2)\n",
    "line3 = line1[:___] + \"trod me\" + line1[-___:-___] + \"the very dirt\"\n",
    "print(line3)\n",
    "line4 = \"But still\" + line2[___] + \" like dust\" + line2[___] + \" I'll rise.\"\n",
    "print(line4)\n",
    "print(\"~Maya Angelou\")"
   ]
  },
  {
   "cell_type": "markdown",
   "id": "a8ddeb4d-46df-4b75-8b73-b550ba437ac0",
   "metadata": {},
   "source": [
    "Expected output:\n",
    "```\n",
    "You may write me down in history\n",
    "With your bitter, twisted lies,\n",
    "You may trod me in the very dirt\n",
    "But still, like dust, I'll rise.\n",
    "~Maya Angelou\n",
    "```"
   ]
  },
  {
   "cell_type": "code",
   "execution_count": 2,
   "id": "aabdbd6f-5ba9-4a24-a004-5a7d96092b57",
   "metadata": {
    "slideshow": {
     "slide_type": "skip"
    },
    "tags": [
     "notes-only"
    ]
   },
   "outputs": [
    {
     "name": "stdout",
     "output_type": "stream",
     "text": [
      "You may write me down in history\n",
      "With your bitter, twisted lies,\n",
      "You may trod me in the very dirt\n",
      "But still, like dust, I'll rise.\n",
      "~Maya Angelou\n"
     ]
    }
   ],
   "source": [
    "line1 = \"You may write me down in history\"\n",
    "print(line1)\n",
    "line2 = \"W\" + line1[10:12] + line1[-7] + \" your bitter, twisted lies,\"\n",
    "print(line2)\n",
    "line3 = line1[:8] + \"trod me\" + line1[-11:-7] + \"the very dirt\"\n",
    "print(line3)\n",
    "line4 = \"But still\" + line2[-1] + \" like dust\" + line2[-1] + \" I'll rise.\"\n",
    "print(line4)\n",
    "print(\"~Maya Angelou\")"
   ]
  },
  {
   "cell_type": "code",
   "execution_count": null,
   "id": "d0eb1729-5b41-4ef3-a513-7b58b01ee6c0",
   "metadata": {
    "slideshow": {
     "slide_type": "subslide"
    },
    "tags": []
   },
   "outputs": [],
   "source": [
    "#2)\n",
    "sport = 'figure skating'\n",
    "print(sport[___:___])\n",
    "print(sport[:___])\n",
    "print(sport[___] + sport[___:])\n",
    "print(sport[-___:-___])"
   ]
  },
  {
   "cell_type": "markdown",
   "id": "7d173633-6c7b-4b08-894d-28d30cce072e",
   "metadata": {},
   "source": [
    "Expected output:\n",
    "```\n",
    "tin\n",
    "figure\n",
    "king\n",
    "kat\n",
    "```"
   ]
  },
  {
   "cell_type": "code",
   "execution_count": 41,
   "id": "bf032011-a956-42b0-807a-46cfd4aaced0",
   "metadata": {
    "slideshow": {
     "slide_type": "skip"
    },
    "tags": [
     "notes-only"
    ]
   },
   "outputs": [
    {
     "name": "stdout",
     "output_type": "stream",
     "text": [
      "tin\n",
      "figure\n",
      "king\n",
      "kat\n"
     ]
    }
   ],
   "source": [
    "sport = 'figure skating'\n",
    "print(sport[10:13])\n",
    "print(sport[:6])\n",
    "print(sport[8] + sport[11:])\n",
    "print(sport[-6:-3])"
   ]
  },
  {
   "cell_type": "markdown",
   "id": "cfb0fcca-f396-44ba-b0e8-e47215bc9b35",
   "metadata": {
    "slideshow": {
     "slide_type": "skip"
    },
    "tags": [
     "worksheet-only"
    ]
   },
   "source": [
    "<div style=\"page-break-after:always;\"></div>"
   ]
  },
  {
   "cell_type": "code",
   "execution_count": null,
   "id": "c41a605a-09df-4a87-9dac-3217ad97c5dc",
   "metadata": {
    "slideshow": {
     "slide_type": "subslide"
    },
    "tags": []
   },
   "outputs": [],
   "source": [
    "#3)\n",
    "line1 = \"When the light is gr\" + \"e\" * ___ + \"n you go.\"\n",
    "print(line1)\n",
    "line2 = line1[:___] + \"red\" + line1[-___:-___] + \"stop.\"\n",
    "print(line2)\n",
    "print(\"But what do you do\")\n",
    "line4 = line2[:___] + \"turns blue\"\n",
    "print(line4)\n",
    "print(\"With orange and lavender spots?\")\n",
    "print(\"~Shel Silverstein\")"
   ]
  },
  {
   "cell_type": "markdown",
   "id": "af4733b4-8946-40ab-b8f7-7c9149f09ed2",
   "metadata": {},
   "source": [
    "Expected output:\n",
    "```\n",
    "When the light is green you go.\n",
    "When the light is red you stop.\n",
    "But what do you do\n",
    "When the light turns blue\n",
    "With orange and lavender spots?\n",
    "~Shel Silverstein\n",
    "```"
   ]
  },
  {
   "cell_type": "code",
   "execution_count": 42,
   "id": "3b42d77a-5b30-462f-9523-da1eaa0ded1f",
   "metadata": {
    "slideshow": {
     "slide_type": "skip"
    },
    "tags": [
     "notes-only"
    ]
   },
   "outputs": [
    {
     "name": "stdout",
     "output_type": "stream",
     "text": [
      "When the light is green you go.\n",
      "When the light is red you stop.\n",
      "But what do you do\n",
      "When the light turns blue\n",
      "With orange and lavender spots?\n",
      "~Shel Silverstein\n"
     ]
    }
   ],
   "source": [
    "line1 = \"When the light is gr\" + \"e\" * 2 + \"n you go.\"\n",
    "print(line1)\n",
    "line2 = line1[:18] + \"red\" + line1[-8:-3] + \"stop.\"\n",
    "print(line2)\n",
    "print(\"But what do you do\")\n",
    "line4 = line2[:15] + \"turns blue\"\n",
    "print(line4)\n",
    "print(\"With orange and lavender spots?\")\n",
    "print(\"~Shel Silverstein\")"
   ]
  },
  {
   "cell_type": "markdown",
   "id": "784a976e-261d-40dc-b34c-a29e07923326",
   "metadata": {
    "slideshow": {
     "slide_type": "skip"
    },
    "tags": [
     "worksheet-only"
    ]
   },
   "source": [
    "🛑 **STOP HERE** after completing the above questions; please **DO NOT WORK AHEAD**. If you have extra time, think about a poem or song lyrics you enjoy."
   ]
  },
  {
   "cell_type": "markdown",
   "id": "72af981c-01ee-4bed-8caf-b30a605611a5",
   "metadata": {
    "slideshow": {
     "slide_type": "slide"
    },
    "tags": []
   },
   "source": [
    "## Programmatic poetry\n",
    "_Write a program that outputs part of a poem or song lyrics. Your program **must** use string:_\n",
    "* Concatenation\n",
    "* Repetition\n",
    "* Indexing\n",
    "* Slicing"
   ]
  }
 ],
 "metadata": {
  "kernelspec": {
   "display_name": "Python 3 (ipykernel)",
   "language": "python",
   "name": "python3"
  },
  "language_info": {
   "codemirror_mode": {
    "name": "ipython",
    "version": 3
   },
   "file_extension": ".py",
   "mimetype": "text/x-python",
   "name": "python",
   "nbconvert_exporter": "python",
   "pygments_lexer": "ipython3",
   "version": "3.8.2"
  }
 },
 "nbformat": 4,
 "nbformat_minor": 5
}
