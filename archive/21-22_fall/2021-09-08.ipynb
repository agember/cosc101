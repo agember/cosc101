{
 "cells": [
  {
   "cell_type": "markdown",
   "id": "b70466f9",
   "metadata": {
    "slideshow": {
     "slide_type": "skip"
    },
    "tags": []
   },
   "source": [
    "# Nested and chained conditionals\n",
    "_COSC 101, Introduction to Computing I, 2021-09-08_"
   ]
  },
  {
   "cell_type": "markdown",
   "id": "1bdbe4ec",
   "metadata": {
    "slideshow": {
     "slide_type": "skip"
    },
    "tags": []
   },
   "source": [
    "## Announcements\n",
    "* Homework 1 due tomorrow at 5pm"
   ]
  },
  {
   "cell_type": "markdown",
   "id": "41b3d6e8",
   "metadata": {
    "slideshow": {
     "slide_type": "skip"
    },
    "tags": [
     "notes-only"
    ]
   },
   "source": [
    "## Outline\n",
    "* Warm-up\n",
    "* Nested conditionals\n",
    "* Chained conditionals"
   ]
  },
  {
   "cell_type": "markdown",
   "id": "aa0980d7",
   "metadata": {
    "slideshow": {
     "slide_type": "slide"
    },
    "tags": []
   },
   "source": [
    "## Warm-up\n",
    "\\#1) _Draw a flowchart for the following program:_"
   ]
  },
  {
   "cell_type": "code",
   "execution_count": null,
   "id": "def76190",
   "metadata": {},
   "outputs": [],
   "source": [
    "day = input(\"Today is \")\n",
    "if (day == \"Saturday\" or day == \"Sunday\"):\n",
    "    print(\"It is the weekend\")\n",
    "else:\n",
    "    print(\"It is a weekday\")\n",
    "if (day == \"Wednesday\"):\n",
    "    print(\"Halfway to the weekend\")\n",
    "print(\"Happy \" + day + \"!\")"
   ]
  },
  {
   "cell_type": "markdown",
   "id": "17f3c26b-ee64-4725-9c38-2b9db1c027a5",
   "metadata": {
    "slideshow": {
     "slide_type": "skip"
    },
    "tags": [
     "worksheet-only"
    ]
   },
   "source": [
    "```\n",
    "\n",
    "```"
   ]
  },
  {
   "cell_type": "markdown",
   "id": "674c016c",
   "metadata": {
    "slideshow": {
     "slide_type": "fragment"
    },
    "tags": []
   },
   "source": [
    "\\#2) _What will the program output if a user enters `Saturday`?_"
   ]
  },
  {
   "cell_type": "markdown",
   "id": "50805590",
   "metadata": {
    "slideshow": {
     "slide_type": "skip"
    },
    "tags": [
     "notes-only"
    ]
   },
   "source": [
    "```\n",
    "Today is Saturday\n",
    "It is the weekend\n",
    "Happy Saturday!\n",
    "```"
   ]
  },
  {
   "cell_type": "markdown",
   "id": "5e9bfdd9-ca1e-476f-96c1-e7ba19293ef5",
   "metadata": {
    "slideshow": {
     "slide_type": "skip"
    },
    "tags": [
     "worksheet-only"
    ]
   },
   "source": [
    "```\n",
    "\n",
    "\n",
    "\n",
    "```"
   ]
  },
  {
   "cell_type": "markdown",
   "id": "0bb3410b",
   "metadata": {
    "slideshow": {
     "slide_type": "fragment"
    },
    "tags": []
   },
   "source": [
    "\\#3) _What will the program output if a user enters `Monday`?_"
   ]
  },
  {
   "cell_type": "markdown",
   "id": "86179eb0",
   "metadata": {
    "slideshow": {
     "slide_type": "skip"
    },
    "tags": [
     "notes-only"
    ]
   },
   "source": [
    "```\n",
    "Today is Monday\n",
    "It is a weekday\n",
    "Happy Monday!\n",
    "```"
   ]
  },
  {
   "cell_type": "markdown",
   "id": "c8d2fdaf-cda9-453f-986f-e47310efbcb4",
   "metadata": {
    "slideshow": {
     "slide_type": "skip"
    },
    "tags": [
     "worksheet-only"
    ]
   },
   "source": [
    "```\n",
    "\n",
    "\n",
    "\n",
    "```"
   ]
  },
  {
   "cell_type": "markdown",
   "id": "09eb00c7",
   "metadata": {
    "slideshow": {
     "slide_type": "fragment"
    },
    "tags": []
   },
   "source": [
    "\\#4) _What will the program output if a user enters `Wednesday`?_"
   ]
  },
  {
   "cell_type": "markdown",
   "id": "d1f86777",
   "metadata": {
    "slideshow": {
     "slide_type": "skip"
    },
    "tags": [
     "notes-only"
    ]
   },
   "source": [
    "```\n",
    "Today is Wednesday\n",
    "It is a weekday\n",
    "Happy Wednesday!\n",
    "Halfway to the weekend\n",
    "```"
   ]
  },
  {
   "cell_type": "markdown",
   "id": "85863e9e-78ae-4a6d-8cab-313e031df20a",
   "metadata": {
    "slideshow": {
     "slide_type": "skip"
    },
    "tags": [
     "worksheet-only"
    ]
   },
   "source": [
    "```\n",
    "\n",
    "\n",
    "\n",
    "```\n",
    "🛑 **STOP HERE** after completing the warm-up; please **DO NOT WORK AHEAD**. If you have extra time, work on the extra practice problems at the end of the worksheet."
   ]
  },
  {
   "cell_type": "markdown",
   "id": "276bd9e8-e912-489f-92bd-1dc2c386b303",
   "metadata": {
    "slideshow": {
     "slide_type": "slide"
    },
    "tags": []
   },
   "source": [
    "## Nested conditionals"
   ]
  },
  {
   "cell_type": "markdown",
   "id": "58154a27",
   "metadata": {
    "slideshow": {
     "slide_type": "skip"
    },
    "tags": [
     "notes-only"
    ]
   },
   "source": [
    "The statements that are executed when a condition is true (or false) may include another if statement"
   ]
  },
  {
   "cell_type": "markdown",
   "id": "c3b2b11c-a8e9-49ae-aa22-e962be15f9ee",
   "metadata": {
    "slideshow": {
     "slide_type": "skip"
    },
    "tags": []
   },
   "source": [
    "### Example"
   ]
  },
  {
   "cell_type": "code",
   "execution_count": null,
   "id": "c0dfe145",
   "metadata": {
    "tags": [
     "worksheet-code-only"
    ]
   },
   "outputs": [],
   "source": [
    "x = int(input(\"x=\"))\n",
    "y = int(input(\"y=\"))\n",
    "if x > 0:\n",
    "    if y > 0:\n",
    "        print(\"x is positive, y is positive\")\n",
    "    else:\n",
    "        print(\"x is positive, y is negative\")\n",
    "else:\n",
    "    print(\"x is not positive\")\n",
    "print(x, \"+\", y, \"=\", x+y)"
   ]
  },
  {
   "cell_type": "markdown",
   "id": "265776f0",
   "metadata": {
    "slideshow": {
     "slide_type": "skip"
    },
    "tags": [
     "notes-only"
    ]
   },
   "source": [
    "![Flowchart for nested conditionals example](figures/conditionals/example_nested.png)"
   ]
  },
  {
   "cell_type": "markdown",
   "id": "8019cf36-e2c2-482b-b525-b2fd31b5557e",
   "metadata": {
    "slideshow": {
     "slide_type": "slide"
    },
    "tags": []
   },
   "source": [
    "### Practice\n",
    "\\#1) _Draw a flowchart for the following program:_"
   ]
  },
  {
   "cell_type": "code",
   "execution_count": null,
   "id": "e277b56a-6ae2-43d0-8028-fbce8f96318a",
   "metadata": {
    "tags": [
     "worksheet-code-only"
    ]
   },
   "outputs": [],
   "source": [
    "a = int(input(\"a=\"))\n",
    "if a >= 50:\n",
    "    print(\"Large\")\n",
    "else:\n",
    "    if (a < 10):\n",
    "        print (\"Small\")\n",
    "    else:\n",
    "        print(\"Medium\")"
   ]
  },
  {
   "cell_type": "markdown",
   "id": "5b5f6fbb-32fb-492c-8800-9d534ef19233",
   "metadata": {
    "slideshow": {
     "slide_type": "skip"
    },
    "tags": [
     "worksheet-only"
    ]
   },
   "source": [
    "```\n",
    "\n",
    "\n",
    "\n",
    "\n",
    "\n",
    "\n",
    "\n",
    "\n",
    "\n",
    "```"
   ]
  },
  {
   "cell_type": "markdown",
   "id": "929bbab1-2f42-4c44-b8f8-3e963fe0efa0",
   "metadata": {
    "slideshow": {
     "slide_type": "fragment"
    },
    "tags": []
   },
   "source": [
    "\\#2) _What will the program output if a user enters `5`?_"
   ]
  },
  {
   "cell_type": "markdown",
   "id": "10a09f9a-17b7-44f1-a7ee-9fd3544c06a0",
   "metadata": {
    "slideshow": {
     "slide_type": "skip"
    },
    "tags": [
     "notes-only"
    ]
   },
   "source": [
    "`Small`"
   ]
  },
  {
   "cell_type": "markdown",
   "id": "1b193ecf-29f2-4bd9-b9c7-d638272ce176",
   "metadata": {
    "slideshow": {
     "slide_type": "skip"
    },
    "tags": [
     "worksheet-only"
    ]
   },
   "source": [
    "```\n",
    "```"
   ]
  },
  {
   "cell_type": "markdown",
   "id": "66b08a50-850a-4f62-a015-56ac260b7b38",
   "metadata": {
    "slideshow": {
     "slide_type": "fragment"
    },
    "tags": []
   },
   "source": [
    "\\#3) _What will the program output if a user enters `10`?_"
   ]
  },
  {
   "cell_type": "markdown",
   "id": "3abdadf8-12aa-4683-9eed-2dc25de80c59",
   "metadata": {
    "slideshow": {
     "slide_type": "skip"
    },
    "tags": [
     "notes-only"
    ]
   },
   "source": [
    "`Medium`"
   ]
  },
  {
   "cell_type": "markdown",
   "id": "fda52df9-28f6-4467-b768-2932caee5b13",
   "metadata": {
    "slideshow": {
     "slide_type": "skip"
    },
    "tags": [
     "worksheet-only"
    ]
   },
   "source": [
    "```\n",
    "```"
   ]
  },
  {
   "cell_type": "markdown",
   "id": "56af518a-3d3c-44e7-8e0b-62053709df95",
   "metadata": {
    "slideshow": {
     "slide_type": "fragment"
    },
    "tags": []
   },
   "source": [
    "\\#4) _What will the program output if a user enters `55`?_"
   ]
  },
  {
   "cell_type": "markdown",
   "id": "8f4beba5-3245-4401-87cc-40a27ae41f3e",
   "metadata": {
    "slideshow": {
     "slide_type": "skip"
    },
    "tags": [
     "notes-only"
    ]
   },
   "source": [
    "`Large`"
   ]
  },
  {
   "cell_type": "markdown",
   "id": "af07c4e0-894d-4efd-b753-02472880669d",
   "metadata": {
    "slideshow": {
     "slide_type": "skip"
    },
    "tags": [
     "worksheet-only"
    ]
   },
   "source": [
    "```\n",
    "```"
   ]
  },
  {
   "cell_type": "markdown",
   "id": "f6c90d38-39cb-4e32-8d6d-c8c41bdcfc51",
   "metadata": {
    "slideshow": {
     "slide_type": "subslide"
    },
    "tags": []
   },
   "source": [
    "\\#5) _Draw a flowchart for the following program:_"
   ]
  },
  {
   "cell_type": "code",
   "execution_count": null,
   "id": "3b828695-7af1-4785-bceb-28a75c1b359f",
   "metadata": {
    "tags": [
     "worksheet-code-only"
    ]
   },
   "outputs": [],
   "source": [
    "i = int(input(\"i=\"))\n",
    "j = int(input(\"j=\"))\n",
    "if i > 5:\n",
    "    if j > 15:\n",
    "        print(\"A\")\n",
    "else:\n",
    "    if j > 15:\n",
    "        print(\"B\")\n",
    "if i > 10:\n",
    "    print(\"C\")"
   ]
  },
  {
   "cell_type": "markdown",
   "id": "71affdaf-0891-40e1-8a70-a366f9153ad9",
   "metadata": {
    "slideshow": {
     "slide_type": "skip"
    },
    "tags": [
     "worksheet-only"
    ]
   },
   "source": [
    "```\n",
    "\n",
    "\n",
    "\n",
    "\n",
    "\n",
    "\n",
    "\n",
    "\n",
    "```"
   ]
  },
  {
   "cell_type": "markdown",
   "id": "3a43d34d-b37c-4abb-ae57-942e9614e966",
   "metadata": {
    "slideshow": {
     "slide_type": "fragment"
    },
    "tags": []
   },
   "source": [
    "\\#6) _What will the program output if a user enters `5` and `20`?_"
   ]
  },
  {
   "cell_type": "markdown",
   "id": "3c585534-5938-4bc8-b788-3469a87dd5c2",
   "metadata": {
    "slideshow": {
     "slide_type": "skip"
    },
    "tags": [
     "notes-only"
    ]
   },
   "source": [
    "`B`"
   ]
  },
  {
   "cell_type": "markdown",
   "id": "455fbddb-19e5-4b63-980d-37ec3fd66b78",
   "metadata": {
    "slideshow": {
     "slide_type": "skip"
    },
    "tags": [
     "worksheet-only"
    ]
   },
   "source": [
    "```\n",
    "```"
   ]
  },
  {
   "cell_type": "markdown",
   "id": "7cc5df31-0fd4-42da-8bff-35e68e43f99e",
   "metadata": {
    "slideshow": {
     "slide_type": "fragment"
    },
    "tags": []
   },
   "source": [
    "\\#7) _What will the program output if a user enters `10` and `40`?_"
   ]
  },
  {
   "cell_type": "markdown",
   "id": "dbe58aa9-7894-4411-8aea-e7be4fad0cd9",
   "metadata": {
    "slideshow": {
     "slide_type": "skip"
    },
    "tags": [
     "notes-only"
    ]
   },
   "source": [
    "`A`"
   ]
  },
  {
   "cell_type": "markdown",
   "id": "90c073d3-2f1b-4adc-9d94-468d967f8fe9",
   "metadata": {
    "slideshow": {
     "slide_type": "skip"
    },
    "tags": [
     "worksheet-only"
    ]
   },
   "source": [
    "```\n",
    "```"
   ]
  },
  {
   "cell_type": "markdown",
   "id": "9647e802-ebb4-41e8-801c-2e95d3ce1504",
   "metadata": {
    "slideshow": {
     "slide_type": "fragment"
    },
    "tags": []
   },
   "source": [
    "\\#8) _What will the program output if a user enters `20` and `5`?_"
   ]
  },
  {
   "cell_type": "markdown",
   "id": "5d7067c2-935a-4f0b-9e26-8949b9deb6fd",
   "metadata": {
    "slideshow": {
     "slide_type": "skip"
    },
    "tags": [
     "notes-only"
    ]
   },
   "source": [
    "`C`"
   ]
  },
  {
   "cell_type": "markdown",
   "id": "adee1028-4a50-4ebd-819f-b3cf167b88d4",
   "metadata": {
    "slideshow": {
     "slide_type": "skip"
    },
    "tags": [
     "worksheet-only"
    ]
   },
   "source": [
    "```\n",
    "```\n",
    "🛑 **STOP HERE** after completing the above questions; please **DO NOT WORK AHEAD**. If you have extra time, work on the extra practice problems at the end of the worksheet."
   ]
  },
  {
   "cell_type": "markdown",
   "id": "4b3d2fa3-0ab6-470d-ae26-dd266b87c72b",
   "metadata": {
    "slideshow": {
     "slide_type": "slide"
    },
    "tags": []
   },
   "source": [
    "## Chained conditionals"
   ]
  },
  {
   "cell_type": "markdown",
   "id": "364d7e1b-5d42-4378-bfb6-91774b0dfa03",
   "metadata": {
    "slideshow": {
     "slide_type": "skip"
    },
    "tags": [
     "notes-only"
    ]
   },
   "source": [
    "Multiple conditions that are checked in sequence"
   ]
  },
  {
   "cell_type": "markdown",
   "id": "45f364ef-6b68-48ef-990d-b373fae2a50c",
   "metadata": {
    "slideshow": {
     "slide_type": "skip"
    },
    "tags": []
   },
   "source": [
    "### Example"
   ]
  },
  {
   "cell_type": "code",
   "execution_count": null,
   "id": "af2501b8-d9c1-4241-854f-15da8ec8d231",
   "metadata": {
    "tags": [
     "worksheet-code-only"
    ]
   },
   "outputs": [],
   "source": [
    "day = int(input(\"Day? \"))\n",
    "if day <= 7:\n",
    "    print(\"1st week\")\n",
    "elif day > 7 and day <= 14:\n",
    "    print(\"2nd week\")\n",
    "else:\n",
    "    print(\"Beyond\")\n",
    "print(\"End\")"
   ]
  },
  {
   "cell_type": "markdown",
   "id": "b5287dbc-080a-4b27-95b6-8bff15691a78",
   "metadata": {
    "slideshow": {
     "slide_type": "skip"
    },
    "tags": [
     "notes-only"
    ]
   },
   "source": [
    "![Flowchart for chained conditionals example](figures/conditionals/example_chained.png)"
   ]
  },
  {
   "cell_type": "markdown",
   "id": "ccc2645f-fd02-4ed1-a0af-46c323356401",
   "metadata": {
    "slideshow": {
     "slide_type": "slide"
    },
    "tags": []
   },
   "source": [
    "### Practice\n",
    "_Re-write each program to use chained conditionals instead of nested conditionals_"
   ]
  },
  {
   "cell_type": "code",
   "execution_count": null,
   "id": "1f9f1ace-a1a5-4fbc-bd48-09a95bdb66a9",
   "metadata": {},
   "outputs": [],
   "source": [
    "#1)\n",
    "a = int(input(\"a=\"))\n",
    "if a >= 50:\n",
    "    print(\"Large\")\n",
    "else:\n",
    "    if (a < 10):\n",
    "        print (\"Small\")\n",
    "    else:\n",
    "        print(\"Medium\")"
   ]
  },
  {
   "cell_type": "code",
   "execution_count": null,
   "id": "ec454f57-513e-46cf-a0f3-3e1cb8598182",
   "metadata": {
    "slideshow": {
     "slide_type": "skip"
    },
    "tags": [
     "notes-only"
    ]
   },
   "outputs": [],
   "source": [
    "a = int(input(\"a=\"))\n",
    "if a >= 50:\n",
    "    print(\"Large\")\n",
    "elif (a < 10):\n",
    "    print (\"Small\")\n",
    "else:\n",
    "    print(\"Medium\")"
   ]
  },
  {
   "cell_type": "markdown",
   "id": "2e755f68-c054-4cce-80c8-d459a64ec4ab",
   "metadata": {
    "slideshow": {
     "slide_type": "skip"
    },
    "tags": [
     "worksheet-only"
    ]
   },
   "source": [
    "```Python\n",
    "\n",
    "\n",
    "\n",
    "\n",
    "\n",
    "\n",
    "\n",
    "\n",
    "```"
   ]
  },
  {
   "cell_type": "code",
   "execution_count": null,
   "id": "cbab647b-a5b8-47d4-88a4-e13a6f2db59c",
   "metadata": {
    "slideshow": {
     "slide_type": "fragment"
    },
    "tags": []
   },
   "outputs": [],
   "source": [
    "#2)\n",
    "i = int(input(\"i=\"))\n",
    "j = int(input(\"j=\"))\n",
    "if i > 5:\n",
    "    if j > 15:\n",
    "        print(\"A\")\n",
    "else:\n",
    "    if j > 15:\n",
    "        print(\"B\")\n",
    "if i > 10:\n",
    "    print(\"C\")"
   ]
  },
  {
   "cell_type": "code",
   "execution_count": null,
   "id": "0d5d81ed-1db8-4df1-b4a2-4aed47159928",
   "metadata": {
    "slideshow": {
     "slide_type": "skip"
    },
    "tags": [
     "notes-only"
    ]
   },
   "outputs": [],
   "source": [
    "i = int(input(\"i=\"))\n",
    "j = int(input(\"j=\"))\n",
    "if i > 5 and j > 15:\n",
    "    print(\"A\")\n",
    "elif j > 15:\n",
    "    print(\"B\")\n",
    "if i > 10:\n",
    "    print(\"C\")"
   ]
  },
  {
   "cell_type": "markdown",
   "id": "e382a654-faca-4121-89ee-e3437a599cfe",
   "metadata": {
    "slideshow": {
     "slide_type": "skip"
    },
    "tags": [
     "worksheet-only"
    ]
   },
   "source": [
    "```Python\n",
    "\n",
    "\n",
    "\n",
    "\n",
    "\n",
    "\n",
    "\n",
    "\n",
    "```\n",
    "🛑 **STOP HERE** after completing the above questions; please **DO NOT WORK AHEAD**. If you have extra time, work on the extra practice problems at the end of the worksheet."
   ]
  },
  {
   "cell_type": "markdown",
   "id": "ece6d305-009c-43a1-8e6b-916192adb2ac",
   "metadata": {
    "slideshow": {
     "slide_type": "slide"
    },
    "tags": []
   },
   "source": [
    "## Extra practice\n",
    "\n",
    "### Programming with conditionals\n",
    "\\#1) _Write a program that asks for a person's age and outputs whether they are a minor (under 18), an adult (18 or older), and/or a teenager (age 13 through 19)._"
   ]
  },
  {
   "cell_type": "code",
   "execution_count": 5,
   "id": "9088badb-dd2e-4222-bae8-f16193bef7a3",
   "metadata": {
    "slideshow": {
     "slide_type": "skip"
    },
    "tags": [
     "notes-only"
    ]
   },
   "outputs": [
    {
     "name": "stdin",
     "output_type": "stream",
     "text": [
      "How old are you?  15\n"
     ]
    },
    {
     "name": "stdout",
     "output_type": "stream",
     "text": [
      "You are a minor\n",
      "You are a teenager\n"
     ]
    }
   ],
   "source": [
    "age = int(input(\"How old are you? \"))\n",
    "if (age < 18):\n",
    "    print(\"You are a minor\")\n",
    "else:\n",
    "    print(\"You are an adult\")\n",
    "if (age >= 13 and age <= 19):\n",
    "    print(\"You are a teenager\")"
   ]
  },
  {
   "cell_type": "markdown",
   "id": "c591b0f6-0262-4e33-bd28-3138b1795aa2",
   "metadata": {
    "slideshow": {
     "slide_type": "skip"
    },
    "tags": [
     "worksheet-only"
    ]
   },
   "source": [
    "```Python\n",
    "\n",
    "\n",
    "\n",
    "\n",
    "\n",
    "\n",
    "\n",
    "```"
   ]
  },
  {
   "cell_type": "markdown",
   "id": "f40b9579-ba71-4fa4-945f-49cc4ce563ef",
   "metadata": {
    "slideshow": {
     "slide_type": "fragment"
    },
    "tags": []
   },
   "source": [
    "\\#2) _Write a program that asks for the number of hours an employee works each week and outputs whether they work full-time (40 or more hours), half-time (exactly 20 hours) or part-time (less than 40 hours, but not exactly 20 hours)._"
   ]
  },
  {
   "cell_type": "code",
   "execution_count": 6,
   "id": "08199378-b718-440e-a530-6be44530e1de",
   "metadata": {
    "slideshow": {
     "slide_type": "skip"
    },
    "tags": [
     "notes-only"
    ]
   },
   "outputs": [
    {
     "name": "stdin",
     "output_type": "stream",
     "text": [
      "How many hours do you work each week?  35\n"
     ]
    },
    {
     "name": "stdout",
     "output_type": "stream",
     "text": [
      "You work part-time\n"
     ]
    }
   ],
   "source": [
    "hours = int(input(\"How many hours do you work each week? \"))\n",
    "if (hours == 20):\n",
    "    print(\"You work half-time\")\n",
    "elif (hours >= 40):\n",
    "    print(\"You work full-time\")\n",
    "else:\n",
    "    print(\"You work part-time\")"
   ]
  },
  {
   "cell_type": "markdown",
   "id": "596cfc22-389b-4a25-b4bf-e56964cf1348",
   "metadata": {
    "slideshow": {
     "slide_type": "slide"
    },
    "tags": []
   },
   "source": [
    "### Tracing conditionals\n",
    "_For each of the following programs, which code blocks will be executed when the listed conditions are true?_"
   ]
  },
  {
   "cell_type": "markdown",
   "id": "03d5b6d8-372d-4eda-a2e0-ea1cc501a74e",
   "metadata": {},
   "source": [
    "```Python\n",
    "if condition 1:\n",
    "    code block A\n",
    "if condition 2:\n",
    "    code block B\n",
    "elif condition 3:\n",
    "    code block C\n",
    "else:\n",
    "    code block D\n",
    "```"
   ]
  },
  {
   "cell_type": "markdown",
   "id": "8650dfb4-b112-4619-8e84-9cfd87988412",
   "metadata": {},
   "source": [
    "\\#1) _When conditions 1 and 2 are True_"
   ]
  },
  {
   "cell_type": "markdown",
   "id": "5e372753-671e-4ffa-8b13-98eb6d5c6b65",
   "metadata": {
    "slideshow": {
     "slide_type": "skip"
    },
    "tags": [
     "notes-only"
    ]
   },
   "source": [
    "A, B"
   ]
  },
  {
   "cell_type": "markdown",
   "id": "4bb593da-b7ba-4f67-8950-833e8cb94e0a",
   "metadata": {
    "slideshow": {
     "slide_type": "fragment"
    },
    "tags": []
   },
   "source": [
    "\\#2) _When conditions 2 and 3 are True_"
   ]
  },
  {
   "cell_type": "markdown",
   "id": "1107fa84-9db5-4d92-9ccb-0fdfe0badec7",
   "metadata": {
    "slideshow": {
     "slide_type": "skip"
    },
    "tags": [
     "notes-only"
    ]
   },
   "source": [
    "B"
   ]
  },
  {
   "cell_type": "markdown",
   "id": "afcafe4e-a127-4526-b3bb-3fdd05a8a009",
   "metadata": {
    "slideshow": {
     "slide_type": "fragment"
    },
    "tags": []
   },
   "source": [
    "\\#3) _When only condition 1 is True_"
   ]
  },
  {
   "cell_type": "markdown",
   "id": "fc26164a-1ddd-4c74-a7f2-202af5640d45",
   "metadata": {
    "slideshow": {
     "slide_type": "skip"
    },
    "tags": [
     "notes-only"
    ]
   },
   "source": [
    "A"
   ]
  },
  {
   "cell_type": "markdown",
   "id": "009e78d6-06a9-42ff-8da2-9fa5759c9b18",
   "metadata": {
    "slideshow": {
     "slide_type": "subslide"
    },
    "tags": []
   },
   "source": [
    "```Python\n",
    "if condition 1:\n",
    "    code block A\n",
    "    if condition 2:\n",
    "        code block B\n",
    "    elif condition 3:\n",
    "        code block C\n",
    "else:\n",
    "    code block D\n",
    "```"
   ]
  },
  {
   "cell_type": "markdown",
   "id": "04d958ac-5beb-4a4f-9ed9-01fa588ea885",
   "metadata": {},
   "source": [
    "\\#4) _When conditions 1 and 2 are True_"
   ]
  },
  {
   "cell_type": "markdown",
   "id": "c5b66111-9a51-46a2-91b3-712ef199f6e2",
   "metadata": {
    "slideshow": {
     "slide_type": "skip"
    },
    "tags": [
     "notes-only"
    ]
   },
   "source": [
    "A, B"
   ]
  },
  {
   "cell_type": "markdown",
   "id": "97a50b64-990c-49fc-99e5-06d3fe9c0e61",
   "metadata": {
    "slideshow": {
     "slide_type": "fragment"
    },
    "tags": []
   },
   "source": [
    "\\#5) _When conditions 2 and 3 are True_"
   ]
  },
  {
   "cell_type": "markdown",
   "id": "db530c55-b1db-44eb-98a7-78bf3106c061",
   "metadata": {
    "slideshow": {
     "slide_type": "skip"
    },
    "tags": [
     "notes-only"
    ]
   },
   "source": [
    "D"
   ]
  },
  {
   "cell_type": "markdown",
   "id": "736b334c-68ac-46fe-903f-190de576754e",
   "metadata": {
    "slideshow": {
     "slide_type": "fragment"
    },
    "tags": []
   },
   "source": [
    "\\#6) _When only condition 1 is True_"
   ]
  },
  {
   "cell_type": "markdown",
   "id": "ba8fd4e0-f047-4fae-a2c8-3da08cbc503d",
   "metadata": {
    "slideshow": {
     "slide_type": "skip"
    },
    "tags": [
     "notes-only"
    ]
   },
   "source": [
    "A"
   ]
  },
  {
   "cell_type": "markdown",
   "id": "b36c2522-279c-4e2d-bade-9e93e0d261e7",
   "metadata": {
    "slideshow": {
     "slide_type": "subslide"
    },
    "tags": []
   },
   "source": [
    "```Python\n",
    "if condition 1:\n",
    "    code block A\n",
    "    if condition 2:\n",
    "        code block B\n",
    "    else:\n",
    "        code block C\n",
    "if condition 3:\n",
    "    code block D\n",
    "```"
   ]
  },
  {
   "cell_type": "markdown",
   "id": "e9216712-baa7-4c42-8279-872b2599014d",
   "metadata": {},
   "source": [
    "\\#7) _When conditions 1 and 2 are True_"
   ]
  },
  {
   "cell_type": "markdown",
   "id": "2e667520-8690-4d02-b8ae-03348938ecd3",
   "metadata": {
    "slideshow": {
     "slide_type": "skip"
    },
    "tags": [
     "notes-only"
    ]
   },
   "source": [
    "A, B"
   ]
  },
  {
   "cell_type": "markdown",
   "id": "bb47a7ac-31fc-4413-82b9-986279133428",
   "metadata": {
    "slideshow": {
     "slide_type": "fragment"
    },
    "tags": []
   },
   "source": [
    "\\#8) _When conditions 2 and 3 are True_"
   ]
  },
  {
   "cell_type": "markdown",
   "id": "cb72d303-a4f4-40eb-a9f2-72438b68578a",
   "metadata": {
    "slideshow": {
     "slide_type": "skip"
    },
    "tags": [
     "notes-only"
    ]
   },
   "source": [
    "D"
   ]
  },
  {
   "cell_type": "markdown",
   "id": "a7204192-35ce-4e48-977e-19a97aec770f",
   "metadata": {
    "slideshow": {
     "slide_type": "fragment"
    },
    "tags": []
   },
   "source": [
    "\\#9) _When only condition 1 is True_"
   ]
  },
  {
   "cell_type": "markdown",
   "id": "6f973635-b6ae-4a12-8813-555ff4c8f0bf",
   "metadata": {
    "slideshow": {
     "slide_type": "skip"
    },
    "tags": [
     "notes-only"
    ]
   },
   "source": [
    "A, C"
   ]
  }
 ],
 "metadata": {
  "kernelspec": {
   "display_name": "Python 3 (ipykernel)",
   "language": "python",
   "name": "python3"
  },
  "language_info": {
   "codemirror_mode": {
    "name": "ipython",
    "version": 3
   },
   "file_extension": ".py",
   "mimetype": "text/x-python",
   "name": "python",
   "nbconvert_exporter": "python",
   "pygments_lexer": "ipython3",
   "version": "3.8.2"
  }
 },
 "nbformat": 4,
 "nbformat_minor": 5
}
