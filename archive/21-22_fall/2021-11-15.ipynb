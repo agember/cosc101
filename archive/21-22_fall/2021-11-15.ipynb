{
 "cells": [
  {
   "cell_type": "markdown",
   "metadata": {
    "slideshow": {
     "slide_type": "skip"
    },
    "tags": []
   },
   "source": [
    "# Exam 3 review\n",
    "_COSC 101, Introduction to Computing I, 2021-11-15_"
   ]
  },
  {
   "cell_type": "markdown",
   "metadata": {
    "slideshow": {
     "slide_type": "skip"
    },
    "tags": []
   },
   "source": [
    "## Announcements\n",
    "* Exam 3 Wednesday\n",
    "    * Study materials posted on Moodle"
   ]
  },
  {
   "cell_type": "markdown",
   "metadata": {
    "jp-MarkdownHeadingCollapsed": true,
    "tags": []
   },
   "source": [
    "## Exam topics\n",
    "* string indexing and slicing\n",
    "* string methods\n",
    "* list indexing and slicing\n",
    "* list methods\n",
    "* list cloning & aliasing\n",
    "* reading/writing files\n",
    "* handling exceptions\n",
    "* Plus topics from previous exams"
   ]
  },
  {
   "cell_type": "markdown",
   "metadata": {
    "slideshow": {
     "slide_type": "slide"
    },
    "tags": []
   },
   "source": [
    "## Practice reading code with strings and lists\n",
    "*What is the output of the following programs?*"
   ]
  },
  {
   "cell_type": "code",
   "execution_count": 3,
   "metadata": {
    "tags": [
     "worksheet-code-only"
    ]
   },
   "outputs": [
    {
     "name": "stdout",
     "output_type": "stream",
     "text": [
      "ae\n",
      "on\n",
      "angar\n",
      "pen\n"
     ]
    }
   ],
   "source": [
    "#1)\n",
    "a = 'kangaroo'\n",
    "b = 'penguin'\n",
    "print(a[1] + b[1])\n",
    "print(a[-1] + b[len(b)-1])\n",
    "print(a[1:6])\n",
    "print(b[:3])"
   ]
  },
  {
   "cell_type": "markdown",
   "metadata": {
    "slideshow": {
     "slide_type": "skip"
    },
    "tags": [
     "worksheet-only"
    ]
   },
   "source": [
    "<p style=\"height:4em;\"></p>"
   ]
  },
  {
   "cell_type": "code",
   "execution_count": 20,
   "metadata": {
    "slideshow": {
     "slide_type": "subslide"
    },
    "tags": [
     "worksheet-code-only"
    ]
   },
   "outputs": [
    {
     "name": "stdout",
     "output_type": "stream",
     "text": [
      "L\n",
      "A\n",
      "N\n"
     ]
    }
   ],
   "source": [
    "#2)\n",
    "c = 'flamingo'\n",
    "d = 'elephant'\n",
    "for e in c:\n",
    "    if e in d:\n",
    "        print(e.upper())"
   ]
  },
  {
   "cell_type": "markdown",
   "metadata": {
    "slideshow": {
     "slide_type": "skip"
    },
    "tags": [
     "worksheet-only"
    ]
   },
   "source": [
    "<p style=\"height:4em;\"></p>"
   ]
  },
  {
   "cell_type": "code",
   "execution_count": 5,
   "metadata": {
    "slideshow": {
     "slide_type": "subslide"
    },
    "tags": [
     "worksheet-code-only"
    ]
   },
   "outputs": [
    {
     "name": "stdout",
     "output_type": "stream",
     "text": [
      "\n",
      "g\n",
      "gl\n",
      "glo\n",
      "glob\n"
     ]
    }
   ],
   "source": [
    "#3)\n",
    "s = \"globe\"\n",
    "for i in range(len(s)):\n",
    "    t = \"\"\n",
    "    for j in range(i):\n",
    "        t = t + s[j]\n",
    "    print(t)"
   ]
  },
  {
   "cell_type": "markdown",
   "metadata": {
    "slideshow": {
     "slide_type": "skip"
    },
    "tags": [
     "worksheet-only"
    ]
   },
   "source": [
    "<p style=\"height:4em;\"></p>"
   ]
  },
  {
   "cell_type": "code",
   "execution_count": 6,
   "metadata": {
    "slideshow": {
     "slide_type": "subslide"
    },
    "tags": [
     "worksheet-code-only"
    ]
   },
   "outputs": [
    {
     "name": "stdout",
     "output_type": "stream",
     "text": [
      "0b1a2t\n",
      "tab\n"
     ]
    }
   ],
   "source": [
    "#4)\n",
    "u = \"bat\"\n",
    "v = \"\"\n",
    "w = \"\"\n",
    "for i in range(len(u)):\n",
    "    v = v + str(i) + u[i]\n",
    "    w = u[i] + w\n",
    "print(v)\n",
    "print(w)"
   ]
  },
  {
   "cell_type": "markdown",
   "metadata": {
    "slideshow": {
     "slide_type": "skip"
    },
    "tags": [
     "worksheet-only"
    ]
   },
   "source": [
    "<p style=\"height:5em;\"></p>"
   ]
  },
  {
   "cell_type": "code",
   "execution_count": 7,
   "metadata": {
    "slideshow": {
     "slide_type": "subslide"
    },
    "tags": [
     "worksheet-code-only"
    ]
   },
   "outputs": [
    {
     "name": "stdout",
     "output_type": "stream",
     "text": [
      "redyellow\n",
      "['red', 'yellow', 'orange']\n",
      "['yellow', 'blue', 'green'] ['yellow', 'blue', 'green']\n"
     ]
    }
   ],
   "source": [
    "#5)\n",
    "c = [\"red\", \"yellow\", \"blue\"]\n",
    "w = c[0] + c[1]\n",
    "print(w)\n",
    "x = c[:2] + [\"orange\"]\n",
    "print(x)\n",
    "y = c\n",
    "c.pop(0)\n",
    "y.append(\"green\")\n",
    "print(c, y)"
   ]
  },
  {
   "cell_type": "markdown",
   "metadata": {
    "slideshow": {
     "slide_type": "skip"
    },
    "tags": [
     "worksheet-only"
    ]
   },
   "source": [
    "<p style=\"height:5em;\"></p>"
   ]
  },
  {
   "cell_type": "markdown",
   "metadata": {
    "slideshow": {
     "slide_type": "slide"
    },
    "tags": []
   },
   "source": [
    "## Practice writing code with strings\n",
    "\\#1) Write a function called `emphasize_vowels` that makes all vowels in a string uppercase. For example:\n",
    "* `emphasize_vowels('Spring')` should return `SprIng`\n",
    "* `emphasize_vowels('break')` should return `brEAk`"
   ]
  },
  {
   "cell_type": "markdown",
   "metadata": {
    "slideshow": {
     "slide_type": "skip"
    },
    "tags": [
     "worksheet-only"
    ]
   },
   "source": [
    "<p style=\"height:25em;\"></p>"
   ]
  },
  {
   "cell_type": "code",
   "execution_count": 8,
   "metadata": {
    "slideshow": {
     "slide_type": "skip"
    },
    "tags": [
     "notes-only"
    ]
   },
   "outputs": [],
   "source": [
    "def emphasize_vowels(phrase):\n",
    "    \"\"\"Make all vowels in phrase uppercase\n",
    "    \n",
    "    >>> emphasize_vowels('Spring')\n",
    "    'SprIng'\n",
    "    >>> emphasize_vowels('break')\n",
    "    'brEAk'\n",
    "    \"\"\"\n",
    "    new = \"\"\n",
    "    for c in phrase:\n",
    "        if c in \"aeiou\":\n",
    "            new = new + c.upper()\n",
    "        else:\n",
    "            new = new + c\n",
    "    return new"
   ]
  },
  {
   "cell_type": "markdown",
   "metadata": {
    "slideshow": {
     "slide_type": "subslide"
    },
    "tags": []
   },
   "source": [
    "\\#2) Write a function called `find_reverse` that takes a phrase and a word and returns True if the word appears backwards in the phrase. For example:\n",
    "* `find_reverse('the tab was upside down', 'bat')` should return `True`\n",
    "* `find_reverse('the tab was upside down', 'tab')` should return `False`\n",
    "* `find_reverse('the tab was upside down', 'saw') `should return `True`"
   ]
  },
  {
   "cell_type": "markdown",
   "metadata": {
    "slideshow": {
     "slide_type": "skip"
    },
    "tags": [
     "worksheet-only"
    ]
   },
   "source": [
    "<p style=\"height:25em;\"></p>"
   ]
  },
  {
   "cell_type": "code",
   "execution_count": 9,
   "metadata": {
    "slideshow": {
     "slide_type": "skip"
    },
    "tags": [
     "notes-only"
    ]
   },
   "outputs": [],
   "source": [
    "def find_reverse(phrase, word):\n",
    "    \"\"\"Determines if word appears backwards in phrase\n",
    "    \n",
    "    >>> find_reverse('the tab was upside down', 'bat')\n",
    "    True\n",
    "    >>> find_reverse('the tab was upside down', 'tab')\n",
    "    False\n",
    "    >>> find_reverse('the tab was upside down', 'saw')\n",
    "    True\n",
    "    \"\"\"\n",
    "    reverse = \"\"\n",
    "    for char in word:\n",
    "        reverse = char + reverse\n",
    "    return reverse in phrase"
   ]
  },
  {
   "cell_type": "markdown",
   "metadata": {
    "slideshow": {
     "slide_type": "slide"
    },
    "tags": []
   },
   "source": [
    "## Practice writing code with lists and files\n",
    "Assume the file `dimensions.csv` contains the following data:\n",
    "```\n",
    "sport,type,width,length\n",
    "football,field,160,360\n",
    "basketball,court,50,94\n",
    "soccer,field,210,330\n",
    "hockey,rink,85,200\n",
    "tennis,court,27,78\n",
    "squash,court,21,32\n",
    "baseball,field,325,325\n",
    "rugby,field,226,360\n",
    "curling,rink,15,148\n",
    "```"
   ]
  },
  {
   "cell_type": "code",
   "execution_count": 10,
   "metadata": {
    "slideshow": {
     "slide_type": "skip"
    },
    "tags": [
     "colab-only"
    ]
   },
   "outputs": [],
   "source": [
    "# Run this code cell to create dimensions.csv\n",
    "with open('dimensions.csv', 'w') as dimensions:\n",
    "    dimensions.write(\"sport,type,width,length\\nfootball,field,160,360\\nbasketball,court,50,94\\nsoccer,field,210,330\\nhockey,rink,85,200\\ntennis,court,27,78\\nsquash,court,21,32\\nbaseball,field,325,325\\nrugby,field,226,360\\ncurling,rink,15,148\\n\")"
   ]
  },
  {
   "cell_type": "markdown",
   "metadata": {},
   "source": [
    "\\#1) *Write a program that prints out the names of the columns contained in `dimensions.csv`.*"
   ]
  },
  {
   "cell_type": "markdown",
   "metadata": {
    "slideshow": {
     "slide_type": "skip"
    },
    "tags": [
     "worksheet-only"
    ]
   },
   "source": [
    "<p style=\"height:15em;\"></p>"
   ]
  },
  {
   "cell_type": "code",
   "execution_count": 11,
   "metadata": {
    "slideshow": {
     "slide_type": "skip"
    },
    "tags": [
     "notes-only"
    ]
   },
   "outputs": [
    {
     "name": "stdout",
     "output_type": "stream",
     "text": [
      "sport\n",
      "type\n",
      "width\n",
      "length\n",
      "\n"
     ]
    }
   ],
   "source": [
    "infile = open('dimensions.csv', 'r')\n",
    "first = infile.readline()\n",
    "columns = first.split(',')\n",
    "for column in columns:\n",
    "    print(column)\n",
    "infile.close()"
   ]
  },
  {
   "cell_type": "markdown",
   "metadata": {
    "slideshow": {
     "slide_type": "subslide"
    },
    "tags": []
   },
   "source": [
    "\\#2) *Write a function called `get_sports` that returns a list of the names of the sports contained in `dimensions.csv` **sorted** in alphabetical order.*"
   ]
  },
  {
   "cell_type": "markdown",
   "metadata": {
    "slideshow": {
     "slide_type": "skip"
    },
    "tags": [
     "worksheet-only"
    ]
   },
   "source": [
    "<p style=\"height:20em;\"></p>"
   ]
  },
  {
   "cell_type": "code",
   "execution_count": 12,
   "metadata": {
    "slideshow": {
     "slide_type": "skip"
    },
    "tags": [
     "notes-only"
    ]
   },
   "outputs": [],
   "source": [
    "def get_sports():\n",
    "    '''\n",
    "    >>> get_sports()\n",
    "    ['baseball', 'basketball', 'curling', 'football', 'hockey', 'rugby', 'soccer', 'squash', 'tennis']\n",
    "    '''\n",
    "    infile = open('dimensions.csv', 'r')\n",
    "    infile.readline()\n",
    "    sports = []\n",
    "    for line in infile:\n",
    "        values = line.split(',')\n",
    "        sports = sports + [values[0]]\n",
    "    infile.close()\n",
    "    sports.sort()\n",
    "    return sports"
   ]
  },
  {
   "cell_type": "markdown",
   "metadata": {
    "slideshow": {
     "slide_type": "fragment"
    },
    "tags": []
   },
   "source": [
    "\\#3) *Write a program that prints out the sport name and playing surface dimensions for each sport in `dimensions.csv` whose playing surface is called a \"court\".*"
   ]
  },
  {
   "cell_type": "markdown",
   "metadata": {
    "slideshow": {
     "slide_type": "skip"
    },
    "tags": [
     "worksheet-only"
    ]
   },
   "source": [
    "<p style=\"height:20em;\"></p>"
   ]
  },
  {
   "cell_type": "code",
   "execution_count": 13,
   "metadata": {
    "slideshow": {
     "slide_type": "skip"
    },
    "tags": [
     "notes-only"
    ]
   },
   "outputs": [
    {
     "name": "stdout",
     "output_type": "stream",
     "text": [
      "basketball 50 x 94\n",
      "tennis 27 x 78\n",
      "squash 21 x 32\n"
     ]
    }
   ],
   "source": [
    "infile = open('dimensions.csv', 'r')\n",
    "infile.readline()\n",
    "for line in infile:\n",
    "    values = line.strip().split(',')\n",
    "    if (values[1] == \"court\"):\n",
    "        print(values[0],values[2],'x',values[3])\n",
    "infile.close()"
   ]
  },
  {
   "cell_type": "markdown",
   "metadata": {
    "slideshow": {
     "slide_type": "fragment"
    },
    "tags": []
   },
   "source": [
    "\\#4) *Write a function called `get_types` that returns a list of the playing surface types contained in `dimensions.csv`. Each surface type should only be inclued in the list once, even if appears in `dimensions.csv` multiple times.*"
   ]
  },
  {
   "cell_type": "markdown",
   "metadata": {
    "slideshow": {
     "slide_type": "skip"
    },
    "tags": [
     "worksheet-only"
    ]
   },
   "source": [
    "<p style=\"height:20em;\"></p>"
   ]
  },
  {
   "cell_type": "code",
   "execution_count": 14,
   "metadata": {
    "slideshow": {
     "slide_type": "skip"
    },
    "tags": [
     "notes-only"
    ]
   },
   "outputs": [],
   "source": [
    "def get_types():\n",
    "    '''\n",
    "    >>> get_types()\n",
    "    ['field', 'court', 'rink']\n",
    "    '''\n",
    "    infile = open('dimensions.csv', 'r')\n",
    "    infile.readline()\n",
    "    types = []\n",
    "    for line in infile:\n",
    "        values = line.split(',')\n",
    "        if values[1] not in types:\n",
    "            types = types + [values[1]]\n",
    "    infile.close()\n",
    "    return types"
   ]
  },
  {
   "cell_type": "markdown",
   "metadata": {
    "slideshow": {
     "slide_type": "fragment"
    },
    "tags": []
   },
   "source": [
    "\\#5) *Write a program that creates a new comma-separated variable (CSV) file called `areas.csv` that contains the sport name and area of the playing surface for each sport in `dimensions.csv`.*"
   ]
  },
  {
   "cell_type": "markdown",
   "metadata": {
    "slideshow": {
     "slide_type": "skip"
    },
    "tags": [
     "worksheet-only"
    ]
   },
   "source": [
    "<p style=\"height:15em;\"></p>"
   ]
  },
  {
   "cell_type": "code",
   "execution_count": 15,
   "metadata": {
    "slideshow": {
     "slide_type": "skip"
    },
    "tags": [
     "notes-only"
    ]
   },
   "outputs": [],
   "source": [
    "infile = open('dimensions.csv', 'r')\n",
    "outfile = open('areas.csv', 'w')\n",
    "infile.readline()\n",
    "for line in infile:\n",
    "    values = line.strip().split(',')\n",
    "    area = int(values[2]) * int(values[3])\n",
    "    outfile.write(values[0]+\",\"+str(area)+\"\\n\")\n",
    "infile.close()\n",
    "outfile.close()"
   ]
  },
  {
   "cell_type": "markdown",
   "metadata": {
    "slideshow": {
     "slide_type": "slide"
    },
    "tags": []
   },
   "source": [
    "## More practice reading code"
   ]
  },
  {
   "cell_type": "code",
   "execution_count": 16,
   "metadata": {
    "tags": [
     "worksheet-code-only"
    ]
   },
   "outputs": [
    {
     "name": "stdout",
     "output_type": "stream",
     "text": [
      "spr gni\n"
     ]
    }
   ],
   "source": [
    "#1)\n",
    "a = \"spring\"\n",
    "b = \"\"\n",
    "c = \"\"\n",
    "i = 0\n",
    "while a[i] not in \"aeiou\":\n",
    "    b = b + a[i]\n",
    "    c = c + a[len(a) - 1 - i]\n",
    "    i = i + 1\n",
    "print(b, c)"
   ]
  },
  {
   "cell_type": "markdown",
   "metadata": {
    "slideshow": {
     "slide_type": "skip"
    },
    "tags": [
     "worksheet-only"
    ]
   },
   "source": [
    "<p style=\"height:5em;\"></p>"
   ]
  },
  {
   "cell_type": "markdown",
   "metadata": {
    "slideshow": {
     "slide_type": "slide"
    },
    "tags": []
   },
   "source": [
    "## More practice writing code"
   ]
  },
  {
   "cell_type": "markdown",
   "metadata": {},
   "source": [
    "\\#1) Write a function called `appears_both` that takes a phrase and a word and returns True if any words in the phrase appear both forward and backwards. You must use the `find_reverse` function. For example:\n",
    "* `appears_both('he was using the saw')` should return `True` because `saw` and `was` appear in the sentence\n",
    "* `appears_both('the tab was upside down')` should return `False`"
   ]
  },
  {
   "cell_type": "markdown",
   "metadata": {
    "slideshow": {
     "slide_type": "skip"
    },
    "tags": [
     "worksheet-only"
    ]
   },
   "source": [
    "<p style=\"height:20em;\"></p>"
   ]
  },
  {
   "cell_type": "code",
   "execution_count": 17,
   "metadata": {
    "slideshow": {
     "slide_type": "skip"
    },
    "tags": [
     "notes-only"
    ]
   },
   "outputs": [],
   "source": [
    "def appears_both(phrase):\n",
    "    \"\"\"Checks if any words in phrase appear both forward and backward\n",
    "    \n",
    "    >>> appears_both('he was using the saw')\n",
    "    True\n",
    "    >>> appears_both('the tab was upside down')\n",
    "    False\n",
    "    \"\"\"\n",
    "    phrase = phrase + \" \"\n",
    "    word = \"\"\n",
    "    for char in phrase:\n",
    "        if char == \" \":\n",
    "            if find_reverse(phrase, word):\n",
    "                return True\n",
    "            word = \"\"\n",
    "        else:\n",
    "            word = word + char\n",
    "    return False"
   ]
  },
  {
   "cell_type": "markdown",
   "metadata": {
    "slideshow": {
     "slide_type": "fragment"
    },
    "tags": []
   },
   "source": [
    "\\#2) *Write a program that prints out the name of each of the sports contained in `dimensions.csv`.*"
   ]
  },
  {
   "cell_type": "markdown",
   "metadata": {
    "slideshow": {
     "slide_type": "skip"
    },
    "tags": [
     "worksheet-only"
    ]
   },
   "source": [
    "<p style=\"height:15em;\"></p>"
   ]
  },
  {
   "cell_type": "code",
   "execution_count": 18,
   "metadata": {
    "slideshow": {
     "slide_type": "skip"
    },
    "tags": [
     "notes-only"
    ]
   },
   "outputs": [
    {
     "name": "stdout",
     "output_type": "stream",
     "text": [
      "football\n",
      "basketball\n",
      "soccer\n",
      "hockey\n",
      "tennis\n",
      "squash\n",
      "baseball\n",
      "rugby\n",
      "curling\n"
     ]
    }
   ],
   "source": [
    "infile = open('dimensions.csv', 'r')\n",
    "infile.readline()\n",
    "for line in infile:\n",
    "    values = line.split(',')\n",
    "    print(values[0])\n",
    "infile.close()"
   ]
  },
  {
   "cell_type": "code",
   "execution_count": 19,
   "metadata": {
    "slideshow": {
     "slide_type": "skip"
    },
    "tags": [
     "colab-only"
    ]
   },
   "outputs": [
    {
     "name": "stdout",
     "output_type": "stream",
     "text": [
      "Trying:\n",
      "    appears_both('he was using the saw')\n",
      "Expecting:\n",
      "    True\n",
      "ok\n",
      "Trying:\n",
      "    appears_both('the tab was upside down')\n",
      "Expecting:\n",
      "    False\n",
      "ok\n",
      "Trying:\n",
      "    emphasize_vowels('Spring')\n",
      "Expecting:\n",
      "    'SprIng'\n",
      "ok\n",
      "Trying:\n",
      "    emphasize_vowels('break')\n",
      "Expecting:\n",
      "    'brEAk'\n",
      "ok\n",
      "Trying:\n",
      "    find_reverse('the tab was upside down', 'bat')\n",
      "Expecting:\n",
      "    True\n",
      "ok\n",
      "Trying:\n",
      "    find_reverse('the tab was upside down', 'tab')\n",
      "Expecting:\n",
      "    False\n",
      "ok\n",
      "Trying:\n",
      "    find_reverse('the tab was upside down', 'saw')\n",
      "Expecting:\n",
      "    True\n",
      "ok\n",
      "Trying:\n",
      "    get_sports()\n",
      "Expecting:\n",
      "    ['baseball', 'basketball', 'curling', 'football', 'hockey', 'rugby', 'soccer', 'squash', 'tennis']\n",
      "ok\n",
      "Trying:\n",
      "    get_types()\n",
      "Expecting:\n",
      "    ['field', 'court', 'rink']\n",
      "ok\n",
      "1 items had no tests:\n",
      "    __main__\n",
      "5 items passed all tests:\n",
      "   2 tests in __main__.appears_both\n",
      "   2 tests in __main__.emphasize_vowels\n",
      "   3 tests in __main__.find_reverse\n",
      "   1 tests in __main__.get_sports\n",
      "   1 tests in __main__.get_types\n",
      "9 tests in 6 items.\n",
      "9 passed and 0 failed.\n",
      "Test passed.\n"
     ]
    },
    {
     "data": {
      "text/plain": [
       "TestResults(failed=0, attempted=9)"
      ]
     },
     "execution_count": 19,
     "metadata": {},
     "output_type": "execute_result"
    }
   ],
   "source": [
    "import doctest\n",
    "doctest.testmod(verbose=True)"
   ]
  }
 ],
 "metadata": {
  "celltoolbar": "Tags",
  "kernelspec": {
   "display_name": "Python 3 (ipykernel)",
   "language": "python",
   "name": "python3"
  },
  "language_info": {
   "codemirror_mode": {
    "name": "ipython",
    "version": 3
   },
   "file_extension": ".py",
   "mimetype": "text/x-python",
   "name": "python",
   "nbconvert_exporter": "python",
   "pygments_lexer": "ipython3",
   "version": "3.8.2"
  }
 },
 "nbformat": 4,
 "nbformat_minor": 4
}
