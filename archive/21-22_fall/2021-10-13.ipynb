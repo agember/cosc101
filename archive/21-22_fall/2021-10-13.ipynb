{
 "cells": [
  {
   "cell_type": "markdown",
   "id": "c69af3d6-7f7a-4c1a-9ecc-ca4db0cdf7db",
   "metadata": {
    "slideshow": {
     "slide_type": "skip"
    },
    "tags": []
   },
   "source": [
    "# nested loops\n",
    "_COSC 101, Introduction to Computing I, 2021-10-13_"
   ]
  },
  {
   "cell_type": "markdown",
   "id": "115d557b-6076-414d-8cc4-ca52311f8451",
   "metadata": {
    "slideshow": {
     "slide_type": "skip"
    },
    "tags": []
   },
   "source": [
    "## Announcements\n",
    "* Homework 5 due tomorrow at 5pm\n",
    "* Exam 2 next Wednesday"
   ]
  },
  {
   "cell_type": "markdown",
   "id": "a48b74dc-1585-4a9c-99a9-fd8ae5c084db",
   "metadata": {
    "jp-MarkdownHeadingCollapsed": true,
    "slideshow": {
     "slide_type": "skip"
    },
    "tags": [
     "notes-only"
    ]
   },
   "source": [
    "## Outline\n",
    "* Warm-up\n",
    "* Nested for loops"
   ]
  },
  {
   "cell_type": "markdown",
   "id": "592328c1-71b3-455c-83f8-cc1d807dc847",
   "metadata": {
    "slideshow": {
     "slide_type": "slide"
    },
    "tags": []
   },
   "source": [
    "## Warm-up"
   ]
  },
  {
   "cell_type": "markdown",
   "id": "8cdb5f06-6971-404d-b140-4f4fb4cf54ec",
   "metadata": {
    "tags": []
   },
   "source": [
    "\\#1) _Write a function called `ask_question` that takes a yes/no question and returns `True` or `False` depending on whether the user answered yes or no, respectively. (Hint: use the polling pattern)_"
   ]
  },
  {
   "cell_type": "code",
   "execution_count": 8,
   "id": "55a28f39-ed1d-4a2e-8b56-2bef149a83c7",
   "metadata": {
    "slideshow": {
     "slide_type": "skip"
    },
    "tags": [
     "notes-only"
    ]
   },
   "outputs": [],
   "source": [
    "def ask_question(question):\n",
    "    choice = \"\"\n",
    "    while choice != \"Y\" and choice != \"N\":\n",
    "        choice = input(question + \" (Y/N) \")\n",
    "    if choice == \"Y\":\n",
    "        return True\n",
    "    else:\n",
    "        return False"
   ]
  },
  {
   "cell_type": "markdown",
   "id": "16dbba38-18d8-44b2-8a8e-b4d5bf4a99e5",
   "metadata": {
    "slideshow": {
     "slide_type": "skip"
    },
    "tags": [
     "worksheet-only"
    ]
   },
   "source": [
    "```\n",
    "\n",
    "\n",
    "\n",
    "\n",
    "\n",
    "\n",
    "\n",
    "\n",
    "\n",
    "\n",
    "```"
   ]
  },
  {
   "cell_type": "markdown",
   "id": "510dc48c-8c8b-4494-ab6e-584a169831a2",
   "metadata": {
    "slideshow": {
     "slide_type": "subslide"
    },
    "tags": []
   },
   "source": [
    "\\#2) _Write a function called `get_max_digit` that takes a string of digits and returns the largest digit. For example, `get_max_digit(\"3142\")` should return `4`. (Hint: use the accumulator pattern)_"
   ]
  },
  {
   "cell_type": "code",
   "execution_count": 1,
   "id": "4f8a7a90-abb2-4a6f-aec3-a670a9127c6f",
   "metadata": {
    "slideshow": {
     "slide_type": "skip"
    },
    "tags": [
     "notes-only"
    ]
   },
   "outputs": [],
   "source": [
    "def get_max_digit(digits):\n",
    "    largest = -1\n",
    "    for digit in digits:\n",
    "        if int(digit) > largest:\n",
    "            largest = int(digit)\n",
    "    return digit"
   ]
  },
  {
   "cell_type": "markdown",
   "id": "ee11176a-61e7-4880-a244-5a06c247c5ac",
   "metadata": {
    "slideshow": {
     "slide_type": "skip"
    },
    "tags": [
     "worksheet-only"
    ]
   },
   "source": [
    "```\n",
    "\n",
    "\n",
    "\n",
    "\n",
    "\n",
    "\n",
    "\n",
    "\n",
    "\n",
    "\n",
    "```"
   ]
  },
  {
   "cell_type": "markdown",
   "id": "e13839d1-7a51-4cb7-a6e1-22b4faa9f0b0",
   "metadata": {
    "slideshow": {
     "slide_type": "subslide"
    },
    "tags": []
   },
   "source": [
    "\\#3) _Write a function called `total_caffeine` that asks the user to enter the milligrams (mg) of caffeine for each beverage they consumed in a day until the user indicates they are done consuming beverages. The function should return the total caffeine consumed. (Hint: use the sentinel pattern and the accumulator pattern)_"
   ]
  },
  {
   "cell_type": "code",
   "execution_count": 12,
   "id": "2035ef17-62e0-4948-a016-a279fb4bda15",
   "metadata": {
    "slideshow": {
     "slide_type": "skip"
    },
    "tags": [
     "notes-only"
    ]
   },
   "outputs": [],
   "source": [
    "def total_caffeine():\n",
    "    total = 0\n",
    "    still_consuming = True\n",
    "    while still_consuming:\n",
    "        content = int(input(\"How many mg of caffeine did the beverage contain? \"))\n",
    "        if (content < 0):\n",
    "            still_consuming = False\n",
    "        else:\n",
    "            total = total + content\n",
    "    return total"
   ]
  },
  {
   "cell_type": "markdown",
   "id": "2df0d14a-61fa-4234-be4f-68ad011fd667",
   "metadata": {
    "slideshow": {
     "slide_type": "skip"
    },
    "tags": [
     "worksheet-only"
    ]
   },
   "source": [
    "```\n",
    "\n",
    "\n",
    "\n",
    "\n",
    "\n",
    "\n",
    "\n",
    "\n",
    "\n",
    "\n",
    "\n",
    "```\n",
    "🛑 **STOP HERE** after completing the warm-up; please **DO NOT WORK AHEAD**. If you have extra time, work on the extra practice problems at the end of the worksheet."
   ]
  },
  {
   "cell_type": "markdown",
   "id": "99be468f-e58f-4bfe-91ee-ebfdd0660c82",
   "metadata": {
    "slideshow": {
     "slide_type": "slide"
    },
    "tags": []
   },
   "source": [
    "## Nested for loops"
   ]
  },
  {
   "cell_type": "markdown",
   "id": "6cd00a8b-3e90-4f8a-a903-a8ac52681318",
   "metadata": {
    "slideshow": {
     "slide_type": "skip"
    },
    "tags": [
     "notes-only"
    ]
   },
   "source": [
    "* Body of for loop may contain another for loop"
   ]
  },
  {
   "cell_type": "markdown",
   "id": "c96fdca9-30b7-4868-8ad2-b1f063405516",
   "metadata": {},
   "source": [
    "### Example"
   ]
  },
  {
   "cell_type": "code",
   "execution_count": 2,
   "id": "240f63b4-b170-4709-b50a-31d48066b5de",
   "metadata": {
    "tags": [
     "worksheet-code-only"
    ]
   },
   "outputs": [
    {
     "name": "stdout",
     "output_type": "stream",
     "text": [
      "i=0 j=0\n",
      "i=0 j=1\n",
      "i=1 j=0\n",
      "i=1 j=1\n",
      "i=2 j=0\n",
      "i=2 j=1\n"
     ]
    }
   ],
   "source": [
    "for i in range(3): # Outer for loop\n",
    "    for j in range(2): # Inner for loop\n",
    "        print(\"i=\" + str (i) + \" j=\" + str(j))"
   ]
  },
  {
   "cell_type": "markdown",
   "id": "2e3fdf28-e19b-4d39-8650-76149223296e",
   "metadata": {
    "slideshow": {
     "slide_type": "skip"
    },
    "tags": [
     "notes-only"
    ]
   },
   "source": [
    "![](figures/nested_loops/example_nested_for.png)"
   ]
  },
  {
   "cell_type": "markdown",
   "id": "759661bd-fbe8-4edf-a398-b172f490cc91",
   "metadata": {
    "slideshow": {
     "slide_type": "slide"
    },
    "tags": []
   },
   "source": [
    "### Practice\n",
    "_What is the output of each of the following programs?_"
   ]
  },
  {
   "cell_type": "code",
   "execution_count": 3,
   "id": "d719d770-070c-4bd4-9cee-862b78b4c874",
   "metadata": {
    "tags": [
     "worksheet-code-only"
    ]
   },
   "outputs": [
    {
     "name": "stdout",
     "output_type": "stream",
     "text": [
      "E=2\n",
      "Pair=2,1\n",
      "Pair=2,3\n",
      "Pair=2,5\n",
      "F=5\n",
      "E=4\n",
      "Pair=4,1\n",
      "Pair=4,3\n",
      "Pair=4,5\n",
      "F=5\n",
      "E=6\n",
      "Pair=6,1\n",
      "Pair=6,3\n",
      "Pair=6,5\n",
      "F=5\n"
     ]
    }
   ],
   "source": [
    "#1)\n",
    "for e in [2,4,6]:\n",
    "    print(\"E=\" + str(e))\n",
    "    for f in range(1,6,2):\n",
    "        print(\"Pair=\" + str(e) + \",\" + str(f))\n",
    "    print(\"F=\" + str(f))"
   ]
  },
  {
   "cell_type": "markdown",
   "id": "6b29a98e-7d8f-4ce6-b3c2-0d550f7ec0f1",
   "metadata": {
    "slideshow": {
     "slide_type": "skip"
    },
    "tags": [
     "worksheet-only"
    ]
   },
   "source": [
    "```\n",
    "\n",
    "\n",
    "\n",
    "\n",
    "\n",
    "\n",
    "\n",
    "\n",
    "\n",
    "```"
   ]
  },
  {
   "cell_type": "code",
   "execution_count": 1,
   "id": "24034cfd-6a67-42a7-a0b1-b8ab5691e3fb",
   "metadata": {
    "slideshow": {
     "slide_type": "subslide"
    },
    "tags": [
     "worksheet-code-only"
    ]
   },
   "outputs": [
    {
     "name": "stdout",
     "output_type": "stream",
     "text": [
      "a aa aaa \n",
      "b bb bbb \n",
      "c cc ccc \n"
     ]
    }
   ],
   "source": [
    "#2)\n",
    "for i in ['a','b','c']:\n",
    "    for j in range(1,4):\n",
    "        print(i*j, end=\" \")\n",
    "    print(\"\")"
   ]
  },
  {
   "cell_type": "markdown",
   "id": "4eac0039-de7b-45f5-bbe0-176003bd228c",
   "metadata": {
    "slideshow": {
     "slide_type": "skip"
    },
    "tags": [
     "worksheet-only"
    ]
   },
   "source": [
    "```\n",
    "\n",
    "\n",
    "\n",
    "\n",
    "\n",
    "\n",
    "\n",
    "```"
   ]
  },
  {
   "cell_type": "code",
   "execution_count": 2,
   "id": "8042b2b8-4ac0-4698-be53-22d1170a43e1",
   "metadata": {
    "slideshow": {
     "slide_type": "subslide"
    },
    "tags": [
     "worksheet-code-only"
    ]
   },
   "outputs": [
    {
     "name": "stdout",
     "output_type": "stream",
     "text": [
      "1 11 111 11 1 \n",
      "2 22 222 22 2 \n",
      "3 33 333 33 3 \n"
     ]
    }
   ],
   "source": [
    "#3)\n",
    "max = 3\n",
    "for i in range(1,max+1):\n",
    "    for j in range(1, max):\n",
    "        print(str(i) * j, end=\" \")\n",
    "    for j in range(max, 0, -1):\n",
    "        print(str(i) * j, end=\" \")\n",
    "    print(\"\")"
   ]
  },
  {
   "cell_type": "markdown",
   "id": "7f9c348b-a7f8-4dda-b1f3-25f7febc6810",
   "metadata": {
    "slideshow": {
     "slide_type": "skip"
    },
    "tags": [
     "worksheet-only"
    ]
   },
   "source": [
    "```\n",
    "\n",
    "\n",
    "\n",
    "\n",
    "\n",
    "\n",
    "```"
   ]
  },
  {
   "cell_type": "code",
   "execution_count": 7,
   "id": "69e5e9d6-5b87-450e-916a-c4e917fbc350",
   "metadata": {
    "slideshow": {
     "slide_type": "subslide"
    },
    "tags": [
     "worksheet-code-only"
    ]
   },
   "outputs": [
    {
     "name": "stdout",
     "output_type": "stream",
     "text": [
      "10 \n",
      "20 21 \n",
      "30 31 32 \n",
      "40 41 42 43 \n"
     ]
    }
   ],
   "source": [
    "#4)\n",
    "for i in range(1,5):\n",
    "    for j in range(i):\n",
    "        print(str(i)+str(j), end=\" \")\n",
    "    print(\"\")"
   ]
  },
  {
   "cell_type": "markdown",
   "id": "7b8b3da3-c0d2-48fb-a25d-ccf6d856555b",
   "metadata": {
    "slideshow": {
     "slide_type": "skip"
    },
    "tags": [
     "worksheet-only"
    ]
   },
   "source": [
    "```\n",
    "\n",
    "\n",
    "\n",
    "\n",
    "\n",
    "\n",
    "\n",
    "\n",
    "\n",
    "```"
   ]
  },
  {
   "cell_type": "markdown",
   "id": "f093e335-53a3-487c-8446-95401e223bbb",
   "metadata": {
    "slideshow": {
     "slide_type": "slide"
    },
    "tags": []
   },
   "source": [
    "## Extra practice\n",
    "\\#1) _Write a function called `hundreds_chart` that produces the following output:_\n",
    "```\n",
    "   1   2   3   4   5   6   7   8   9  10\n",
    "  11  12  13  14  15  16  17  18  19  20\n",
    "  21  22  23  24  25  26  27  28  29  30\n",
    "  31  32  33  34  35  36  37  38  39  40\n",
    "  41  42  43  44  45  46  47  48  49  50\n",
    "  51  52  53  54  55  56  57  58  59  60\n",
    "  61  62  63  64  65  66  67  68  69  70\n",
    "  71  72  73  74  75  76  77  78  79  80\n",
    "  81  82  83  84  85  86  87  88  89  90\n",
    "  91  92  93  94  95  96  97  98  99 100\n",
    "```\n",
    "\n",
    "_You can use the following helper function to help you align all of the numbers:_"
   ]
  },
  {
   "cell_type": "code",
   "execution_count": 41,
   "id": "3eb59d14-767a-4bab-bf87-f7811b71e6b2",
   "metadata": {},
   "outputs": [],
   "source": [
    "def print_num_right_align(num):\n",
    "    num = str(num)\n",
    "    pad = 4 - len(num)\n",
    "    print((\" \" * pad) + num, end=\"\")"
   ]
  },
  {
   "cell_type": "code",
   "execution_count": 48,
   "id": "9c398882-9403-4379-9d44-bf17322f5ef4",
   "metadata": {
    "slideshow": {
     "slide_type": "skip"
    },
    "tags": [
     "notes-only"
    ]
   },
   "outputs": [
    {
     "name": "stdout",
     "output_type": "stream",
     "text": [
      "   1   2   3   4   5   6   7   8   9  10\n",
      "  11  12  13  14  15  16  17  18  19  20\n",
      "  21  22  23  24  25  26  27  28  29  30\n",
      "  31  32  33  34  35  36  37  38  39  40\n",
      "  41  42  43  44  45  46  47  48  49  50\n",
      "  51  52  53  54  55  56  57  58  59  60\n",
      "  61  62  63  64  65  66  67  68  69  70\n",
      "  71  72  73  74  75  76  77  78  79  80\n",
      "  81  82  83  84  85  86  87  88  89  90\n",
      "  91  92  93  94  95  96  97  98  99 100\n"
     ]
    }
   ],
   "source": [
    "def hundreds_chart():\n",
    "    \"\"\"Displays a hundreds chart\"\"\"\n",
    "    for row in range(0,10):\n",
    "        for col in range(1,11):\n",
    "            num = row * 10 + col\n",
    "            print_num_right_align(num)\n",
    "        print(\"\")\n",
    "\n",
    "hundreds_chart()"
   ]
  },
  {
   "cell_type": "markdown",
   "id": "6cca3175-c93b-40a4-bf58-dcde64a9f54d",
   "metadata": {
    "slideshow": {
     "slide_type": "skip"
    },
    "tags": [
     "worksheet-only"
    ]
   },
   "source": [
    "```\n",
    "\n",
    "\n",
    "\n",
    "\n",
    "\n",
    "\n",
    "\n",
    "\n",
    "\n",
    "\n",
    "\n",
    "\n",
    "\n",
    "\n",
    "\n",
    "\n",
    "\n",
    "\n",
    "\n",
    "```"
   ]
  },
  {
   "cell_type": "markdown",
   "id": "ef183b11-fc2f-4df9-8488-7e3eaaacaab5",
   "metadata": {
    "jp-MarkdownHeadingCollapsed": true,
    "slideshow": {
     "slide_type": "subslide"
    },
    "tags": []
   },
   "source": [
    "\\#2) _Write a function called `multiplication_table` that takes a positive integer and outputs a multiplication chart from 1 through that number. For example `multiplication_table(5)` should produce:_\n",
    "```\n",
    "     |   1   2   3   4   5\n",
    "-----+--------------------\n",
    "   1 |   1   2   3   4   5\n",
    "   2 |   2   4   6   8  10\n",
    "   3 |   3   6   9  12  15\n",
    "   4 |   4   8  12  16  20\n",
    "   5 |   5  10  15  20  25\n",
    "```\n",
    "\n",
    "_Again, use the `print_num_right_align` helper function to help you align all of the numbers._"
   ]
  },
  {
   "cell_type": "code",
   "execution_count": 53,
   "id": "7b53604e-3ad7-4d89-bae8-6680e57f0c7f",
   "metadata": {
    "slideshow": {
     "slide_type": "skip"
    },
    "tags": [
     "notes-only"
    ]
   },
   "outputs": [
    {
     "name": "stdout",
     "output_type": "stream",
     "text": [
      "     |   1   2   3   4   5\n",
      "-----+--------------------\n",
      "   1 |   1   2   3   4   5\n",
      "   2 |   2   4   6   8  10\n",
      "   3 |   3   6   9  12  15\n",
      "   4 |   4   8  12  16  20\n",
      "   5 |   5  10  15  20  25\n"
     ]
    }
   ],
   "source": [
    "def multiplication_table(upper):\n",
    "    \"\"\"Displays a multiplication table\"\"\"\n",
    "    # Print column headers\n",
    "    print(\"     |\", end=\"\")\n",
    "    for col in range(1,upper+1):\n",
    "        print_num_right_align(col)\n",
    "    print(\"\")\n",
    "    \n",
    "    # Print column header line\n",
    "    print(\"-----+\" + (\"-\" * (upper * 4)))\n",
    "    \n",
    "    # Print rows\n",
    "    for row in range(1,upper+1):\n",
    "        # Print row number\n",
    "        print_num_right_align(row)\n",
    "        print(\" |\", end=\"\")\n",
    "        \n",
    "        # Print multiplication results\n",
    "        for col in range(1,upper+1):\n",
    "            num = row * col\n",
    "            print_num_right_align(num)\n",
    "        print(\"\")\n",
    "\n",
    "multiplication_table(5)"
   ]
  }
 ],
 "metadata": {
  "kernelspec": {
   "display_name": "Python 3 (ipykernel)",
   "language": "python",
   "name": "python3"
  },
  "language_info": {
   "codemirror_mode": {
    "name": "ipython",
    "version": 3
   },
   "file_extension": ".py",
   "mimetype": "text/x-python",
   "name": "python",
   "nbconvert_exporter": "python",
   "pygments_lexer": "ipython3",
   "version": "3.8.2"
  }
 },
 "nbformat": 4,
 "nbformat_minor": 5
}
