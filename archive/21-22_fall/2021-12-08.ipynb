{
 "cells": [
  {
   "cell_type": "markdown",
   "id": "e908f8ae-66dd-4191-b18b-d65080fa18ce",
   "metadata": {
    "slideshow": {
     "slide_type": "skip"
    },
    "tags": []
   },
   "source": [
    "# random forests; implications of machine learning\n",
    "_COSC 101, Introduction to Computing I, 2021-12-08_"
   ]
  },
  {
   "cell_type": "markdown",
   "id": "085a0b18-db2c-4f13-be42-aa69102b211c",
   "metadata": {
    "slideshow": {
     "slide_type": "skip"
    },
    "tags": []
   },
   "source": [
    "## Announcements\n",
    "* Homework #10 due Thursday @ 5pm\n",
    "* Attend faculty candidate research talks\n",
    "    * 11:20am Wed, Dec 15\n",
    "    * Earn 2 points of extra credit on final exam for each talk you attend (earnings capped at 4 points)"
   ]
  },
  {
   "cell_type": "markdown",
   "id": "f7f614b2-904c-410d-8f23-2b6ae2c0266a",
   "metadata": {
    "jp-MarkdownHeadingCollapsed": true,
    "slideshow": {
     "slide_type": "skip"
    },
    "tags": [
     "notes-only"
    ]
   },
   "source": [
    "## Outline\n",
    "* Warm-up\n",
    "* Random forests\n",
    "* Implications of machine learning"
   ]
  },
  {
   "cell_type": "markdown",
   "id": "0401004b-948e-4ed6-806f-25f7fb8f2edf",
   "metadata": {
    "slideshow": {
     "slide_type": "slide"
    },
    "tags": []
   },
   "source": [
    "## Warm-up\n",
    "_Write a program that trains a decision tree using a training set of data and uses it to predict labels for a testing set of data. Assume the program already includes the following functions:_\n",
    "* `get_training_features` — _returns a list of lists, where each sublist contains the feature values (i.e., column values) for a single item (i.e., row) in the training dataset_\n",
    "* `get_training_labels`— _returns a list of strings that contains the labels for each item (i.e., all rows) in the training dataset_\n",
    "* `get_testing_features`  — _returns a list of lists, where each sublist contains the feature values (i.e., column values) for a single item (i.e., row) in the testing dataset_"
   ]
  },
  {
   "cell_type": "code",
   "execution_count": null,
   "id": "9804f6ce-345d-4b30-98db-e2908e537ee5",
   "metadata": {
    "slideshow": {
     "slide_type": "skip"
    },
    "tags": [
     "notes-only"
    ]
   },
   "outputs": [],
   "source": [
    "from sklearn import tree\n",
    "dtree = tree.DecisionTreeClassifier()\n",
    "\n",
    "train_features = get_training_features()\n",
    "train_labels = get_training_labels()\n",
    "dtree.fit(train_features, train_labels)\n",
    "\n",
    "test_features = get_testing_features()\n",
    "predictions = dtree.predict(test_features)\n",
    "print(predictions)"
   ]
  },
  {
   "cell_type": "markdown",
   "id": "02a1713b-4018-43c4-ac9d-49e78838bc75",
   "metadata": {
    "slideshow": {
     "slide_type": "skip"
    },
    "tags": [
     "notes-only"
    ]
   },
   "source": [
    "## Random forest\n",
    "* Train multiple decision trees\n",
    "* Each tree is trained on a different subset of the training data\n",
    "* Make a prediction with every tree, and use the most common prediction as the final prediction\n",
    "\n",
    "### Activity\n",
    "* Add additional pictures into training set\n",
    "* Randomly remove 8 pictures\n",
    "* Manually construct a decision tree to decide _does it fly?_\n",
    "* After each group is done, every tree will make a prediction and we'll choose the majority vote\n",
    "* Things to predict\n",
    "    * Train\n",
    "    * Pigeon\n",
    "    * Kite\n",
    "    * Penguin"
   ]
  },
  {
   "cell_type": "markdown",
   "id": "b9f387fb-af09-4183-93f3-51e5131cbecc",
   "metadata": {
    "slideshow": {
     "slide_type": "skip"
    },
    "tags": [
     "notes-only"
    ]
   },
   "source": [
    "## Implications of machine learning\n",
    "* _Who/what were XiaoIce and Tay?_ — chatbots\n",
    "* _How does the description of XiaoIce relate to the fact that she/it is an AI-based chatbot?_"
   ]
  },
  {
   "cell_type": "markdown",
   "id": "e8a0d583-6dad-4833-8edf-5d625b6f1c7d",
   "metadata": {
    "slideshow": {
     "slide_type": "slide"
    },
    "tags": [
     "notes-only"
    ]
   },
   "source": [
    "<img src=\"figures/xiaoice.png\" style=\"width:500px;\" />"
   ]
  },
  {
   "cell_type": "markdown",
   "id": "2b8c46a5-1911-406b-8d0a-cc7eca41cbd8",
   "metadata": {
    "slideshow": {
     "slide_type": "skip"
    },
    "tags": [
     "notes-only"
    ]
   },
   "source": [
    "* _What might have caused Tay to become \"extremely racist, fascist, and sexist\"?_ — reinforcement learning based on user tweets\n",
    "* _What is your reaction to the ProPublica investigation on recidivism risk algorithms?_\n",
    "* _Why might the recidivism risk algorithms been biased?_ — biased training data\n",
    "* _Why is access to the source code used by high frequency trading algorithms \"useless\"?_ — algorithms are learned, not hard-coded\n",
    "* _How is your life impacted by AI-driven systems?_\n",
    "* _What responsbilities to you have as a programmer?_"
   ]
  }
 ],
 "metadata": {
  "kernelspec": {
   "display_name": "Python 3 (ipykernel)",
   "language": "python",
   "name": "python3"
  },
  "language_info": {
   "codemirror_mode": {
    "name": "ipython",
    "version": 3
   },
   "file_extension": ".py",
   "mimetype": "text/x-python",
   "name": "python",
   "nbconvert_exporter": "python",
   "pygments_lexer": "ipython3",
   "version": "3.8.2"
  }
 },
 "nbformat": 4,
 "nbformat_minor": 5
}
