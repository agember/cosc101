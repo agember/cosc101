{
 "cells": [
  {
   "cell_type": "markdown",
   "id": "2c323b50-5c91-478a-b3d2-157920986259",
   "metadata": {
    "slideshow": {
     "slide_type": "skip"
    },
    "tags": []
   },
   "source": [
    "# String indexing; belonging & success in CS\n",
    "_COSC 101, Introduction to Computing I, 2021-09-17_"
   ]
  },
  {
   "cell_type": "markdown",
   "id": "4a7004a0-7023-4d5d-ab05-e9d1901afdbc",
   "metadata": {
    "slideshow": {
     "slide_type": "skip"
    },
    "tags": []
   },
   "source": [
    "## Announcements\n",
    "* Exam 1 Wednesday during class\n",
    "    * Review materials posted on Moodle"
   ]
  },
  {
   "cell_type": "markdown",
   "id": "bca7713c-9b4c-4ef0-af8b-ece15ec1fba1",
   "metadata": {
    "slideshow": {
     "slide_type": "skip"
    },
    "tags": []
   },
   "source": [
    "## Outline\n",
    "* Warm-up\n",
    "* String indexing\n",
    "* Belonging & Success in CS"
   ]
  },
  {
   "cell_type": "markdown",
   "id": "972ab75d-2d2d-49c1-a3b1-6fa99f6803de",
   "metadata": {
    "slideshow": {
     "slide_type": "slide"
    },
    "tags": []
   },
   "source": [
    "## Warm-up\n",
    "_Each of the following programs contains redundant code. Rewrite the program to use a loop and eliminate the redundancy._"
   ]
  },
  {
   "cell_type": "code",
   "execution_count": null,
   "id": "98b44460-9cd5-4ea7-91b0-8ac6608d5735",
   "metadata": {
    "tags": [
     "worksheet-code-only"
    ]
   },
   "outputs": [],
   "source": [
    "#1)\n",
    "import random\n",
    "die1 = random.randrange(0,6)\n",
    "die2 = random.randrange(0,6)\n",
    "die3 = random.randrange(0,6)\n",
    "print(\"Die 1: \" + str(die1))\n",
    "print(\"Die 2: \" + str(die2))\n",
    "print(\"Die 3: \" + str(die3))"
   ]
  },
  {
   "cell_type": "code",
   "execution_count": null,
   "id": "0e3960e0-4ae5-4493-8657-09419cd65007",
   "metadata": {
    "slideshow": {
     "slide_type": "skip"
    },
    "tags": [
     "notes-only"
    ]
   },
   "outputs": [],
   "source": [
    "import random\n",
    "for num in [1,2,3]:\n",
    "    roll = random.randrange(0,6)\n",
    "    print(\"Die \" + str(num) + \": \" + str(roll))"
   ]
  },
  {
   "cell_type": "markdown",
   "id": "76f07398-434c-4757-8d2f-8f22fe4d0ddf",
   "metadata": {
    "slideshow": {
     "slide_type": "skip"
    },
    "tags": [
     "worksheet-only"
    ]
   },
   "source": [
    "```Python\n",
    "\n",
    "\n",
    "```"
   ]
  },
  {
   "cell_type": "code",
   "execution_count": null,
   "id": "929c767d-7557-4c14-92a3-0822154e8627",
   "metadata": {
    "slideshow": {
     "slide_type": "subslide"
    },
    "tags": []
   },
   "outputs": [],
   "source": [
    "#2)\n",
    "import turtle\n",
    "window = turtle.Screen()\n",
    "crush = turtle.Turtle()\n",
    "crush.forward(10)\n",
    "crush.right(90)\n",
    "crush.forward(20)\n",
    "crush.right(90)\n",
    "crush.forward(30)\n",
    "crush.right(90)\n",
    "crush.forward(40)\n",
    "crush.right(90)\n",
    "crush.forward(50)\n",
    "crush.right(90)\n",
    "crush.forward(60)\n",
    "crush.right(90)\n",
    "crush.forward(70)\n",
    "crush.right(90)\n",
    "crush.forward(80)\n",
    "crush.right(90)\n",
    "window.exitonclick()"
   ]
  },
  {
   "cell_type": "code",
   "execution_count": null,
   "id": "927decee-0e81-4eff-bdfb-b9d9a2b811da",
   "metadata": {
    "slideshow": {
     "slide_type": "skip"
    },
    "tags": [
     "notes-only"
    ]
   },
   "outputs": [],
   "source": [
    "import turtle\n",
    "window = turtle.Screen()\n",
    "crush = turtle.Turtle()\n",
    "for i in range(10, 90, 10):\n",
    "    crush.forward(i)\n",
    "    crush.right(90)\n",
    "window.exitonclick()"
   ]
  },
  {
   "cell_type": "markdown",
   "id": "0a067943-cfd9-43b0-bbdd-c2f0d36ab265",
   "metadata": {
    "slideshow": {
     "slide_type": "skip"
    },
    "tags": [
     "worksheet-only"
    ]
   },
   "source": [
    "```Python\n",
    "\n",
    "\n",
    "\n",
    "```"
   ]
  },
  {
   "cell_type": "code",
   "execution_count": 4,
   "id": "2cf4dad6-086e-4c12-ac38-cc49c63f5520",
   "metadata": {
    "slideshow": {
     "slide_type": "subslide"
    },
    "tags": [
     "worksheet-code-only"
    ]
   },
   "outputs": [],
   "source": [
    "#3)\n",
    "import turtle\n",
    "window = turtle.Screen()\n",
    "ash = turtle.Turtle()\n",
    "ash.left(120)\n",
    "ash.forward(100)\n",
    "ash.left(120)\n",
    "ash.forward(100)\n",
    "ash.left(120)\n",
    "ash.forward(100)\n",
    "ash.left(180)\n",
    "ash.left(120)\n",
    "ash.forward(100)\n",
    "ash.left(120)\n",
    "ash.forward(100)\n",
    "ash.left(120)\n",
    "ash.forward(100)\n",
    "window.exitonclick()"
   ]
  },
  {
   "cell_type": "code",
   "execution_count": null,
   "id": "e30f6ec3-03d0-4cc1-a159-05b447d97ba4",
   "metadata": {
    "slideshow": {
     "slide_type": "skip"
    },
    "tags": [
     "notes-only"
    ]
   },
   "outputs": [],
   "source": [
    "import turtle\n",
    "window = turtle.Screen()\n",
    "ash = turtle.Turtle()\n",
    "ash.pensize(3)\n",
    "for side in [1,2,3]:\n",
    "    ash.left(120)\n",
    "    ash.forward(100)\n",
    "ash.left(180)\n",
    "for side in [1,2,3]:\n",
    "    ash.left(120)\n",
    "    ash.forward(100)\n",
    "window.exitonclick()"
   ]
  },
  {
   "cell_type": "markdown",
   "id": "b05c465a-c0bc-47d0-a9df-868d31ced8df",
   "metadata": {
    "slideshow": {
     "slide_type": "skip"
    },
    "tags": [
     "worksheet-only"
    ]
   },
   "source": [
    "```Python\n",
    "\n",
    "```"
   ]
  },
  {
   "cell_type": "code",
   "execution_count": null,
   "id": "ad1aaebf-f0eb-4c87-b707-a1d420f405fb",
   "metadata": {
    "slideshow": {
     "slide_type": "subslide"
    },
    "tags": []
   },
   "outputs": [],
   "source": [
    "#4)\n",
    "print(\"1 is odd\")\n",
    "print(\"2 is even\")\n",
    "print(\"3 is odd\")\n",
    "print(\"4 is even\")\n",
    "print(\"5 is odd\")\n",
    "print(\"6 is even\")"
   ]
  },
  {
   "cell_type": "code",
   "execution_count": null,
   "id": "e7519758-cdda-407c-b8cf-cf7c2888af44",
   "metadata": {
    "slideshow": {
     "slide_type": "skip"
    },
    "tags": [
     "notes-only"
    ]
   },
   "outputs": [],
   "source": [
    "for num in range(1, 7):\n",
    "    if (num % 2 == 0):\n",
    "        print(num, \"is even\")\n",
    "    else:\n",
    "        print(num, \"is odd\")"
   ]
  },
  {
   "cell_type": "markdown",
   "id": "6746d1ce-b4d9-43b4-bac5-a9f12441c0ae",
   "metadata": {
    "slideshow": {
     "slide_type": "skip"
    },
    "tags": [
     "worksheet-only"
    ]
   },
   "source": [
    "```Python\n",
    "\n",
    "\n",
    "```\n",
    "🛑 **STOP HERE** after completing the warm-up; please **DO NOT WORK AHEAD**. If you have extra time, take a few deep breaths and relax."
   ]
  },
  {
   "cell_type": "markdown",
   "id": "19a6990d-fc0a-4321-8dd5-7078de2792eb",
   "metadata": {
    "slideshow": {
     "slide_type": "slide"
    },
    "tags": []
   },
   "source": [
    "## String indexing"
   ]
  },
  {
   "cell_type": "markdown",
   "id": "d3d4df87-0037-41f6-9c41-091e716d6d2d",
   "metadata": {
    "slideshow": {
     "slide_type": "skip"
    },
    "tags": [
     "notes-only"
    ]
   },
   "source": [
    "### Overview\n",
    "* _How can we iterate through a string character by character?_ — using a for loop"
   ]
  },
  {
   "cell_type": "code",
   "execution_count": 21,
   "id": "da7e5c71-37c8-4f31-abe9-f32f7e7d7c63",
   "metadata": {
    "slideshow": {
     "slide_type": "fragment"
    },
    "tags": [
     "notes-only"
    ]
   },
   "outputs": [
    {
     "name": "stdout",
     "output_type": "stream",
     "text": [
      "d\n",
      "o\n",
      "g\n"
     ]
    }
   ],
   "source": [
    "word = \"dog\"\n",
    "for character in word:\n",
    "    print(character)"
   ]
  },
  {
   "cell_type": "markdown",
   "id": "2faeeaeb-421f-4d21-8183-d37482602497",
   "metadata": {
    "slideshow": {
     "slide_type": "skip"
    },
    "tags": [
     "notes-only"
    ]
   },
   "source": [
    "* Can also reference characters by index"
   ]
  },
  {
   "cell_type": "code",
   "execution_count": 22,
   "id": "7c3e3d2e-c715-431e-b2a2-bcc9578ebc42",
   "metadata": {
    "slideshow": {
     "slide_type": "fragment"
    },
    "tags": [
     "notes-only"
    ]
   },
   "outputs": [
    {
     "name": "stdout",
     "output_type": "stream",
     "text": [
      "d\n",
      "o\n",
      "g\n"
     ]
    }
   ],
   "source": [
    "word = \"dog\"\n",
    "length = len(word)\n",
    "for index in range(length):\n",
    "    character = word[index]\n",
    "    print(character)"
   ]
  },
  {
   "cell_type": "markdown",
   "id": "a905cb38-8c4d-4db0-8b33-548667e4ccc7",
   "metadata": {
    "slideshow": {
     "slide_type": "skip"
    },
    "tags": [
     "notes-only"
    ]
   },
   "source": [
    "* Notice: first character has index `0`, last character has index `length-1`\n",
    "* Can also use negative indices — last character has index `-1`, first character has index `-length`\n",
    "\n",
    "### Practice"
   ]
  },
  {
   "cell_type": "markdown",
   "id": "4b8db17f-b03e-4cdd-a140-550d818d4257",
   "metadata": {
    "slideshow": {
     "slide_type": "slide"
    },
    "tags": []
   },
   "source": [
    "Assume the following code has been executed:"
   ]
  },
  {
   "cell_type": "code",
   "execution_count": 14,
   "id": "d603ab92-0de8-4fb3-9427-951338308b3f",
   "metadata": {},
   "outputs": [],
   "source": [
    "animal = \"cat\""
   ]
  },
  {
   "cell_type": "markdown",
   "id": "b44d7042-1070-43a0-bc84-56abcfe98e37",
   "metadata": {},
   "source": [
    "_What will each of the programs output?_"
   ]
  },
  {
   "cell_type": "code",
   "execution_count": 15,
   "id": "c436221a-5f4b-4318-a8a1-d1a55b80f78f",
   "metadata": {
    "tags": [
     "worksheet-code-only"
    ]
   },
   "outputs": [
    {
     "name": "stdout",
     "output_type": "stream",
     "text": [
      "a\n",
      "t\n"
     ]
    }
   ],
   "source": [
    "#1)\n",
    "stop = len(animal)\n",
    "for index in range(1, stop):\n",
    "    print(animal[index])"
   ]
  },
  {
   "cell_type": "markdown",
   "id": "63820baa-9a7d-43fd-9c41-79e1c7b0409f",
   "metadata": {
    "slideshow": {
     "slide_type": "skip"
    },
    "tags": [
     "worksheet-only"
    ]
   },
   "source": [
    "```Python\n",
    "\n",
    "```"
   ]
  },
  {
   "cell_type": "code",
   "execution_count": 16,
   "id": "e38bc2ff-edfa-4579-a2f9-06ffe3bf3d7f",
   "metadata": {
    "slideshow": {
     "slide_type": "fragment"
    },
    "tags": [
     "worksheet-code-only"
    ]
   },
   "outputs": [
    {
     "name": "stdout",
     "output_type": "stream",
     "text": [
      "t\n",
      "a\n",
      "c\n"
     ]
    }
   ],
   "source": [
    "#2)\n",
    "stop = len(animal) + 1\n",
    "for index in range(1, stop):\n",
    "    index = index * -1\n",
    "    print(animal[index])"
   ]
  },
  {
   "cell_type": "markdown",
   "id": "9214a00b-8140-4813-adbf-ae35726a3067",
   "metadata": {
    "slideshow": {
     "slide_type": "skip"
    },
    "tags": [
     "worksheet-only"
    ]
   },
   "source": [
    "```Python\n",
    "\n",
    "```"
   ]
  },
  {
   "cell_type": "code",
   "execution_count": 19,
   "id": "a2936df2-2639-419c-84c9-0c5bb5ac5758",
   "metadata": {
    "slideshow": {
     "slide_type": "subslide"
    },
    "tags": [
     "worksheet-code-only"
    ]
   },
   "outputs": [
    {
     "name": "stdout",
     "output_type": "stream",
     "text": [
      ",c,a,t\n"
     ]
    }
   ],
   "source": [
    "#3)\n",
    "stop = len(animal)\n",
    "animal2 = \"\"\n",
    "for index in range(stop):\n",
    "    animal2 = animal2 + \",\" + animal[index]\n",
    "print(animal2)"
   ]
  },
  {
   "cell_type": "markdown",
   "id": "f1ca7d4e-d1c1-4fb4-8dff-73d742ca2969",
   "metadata": {
    "slideshow": {
     "slide_type": "skip"
    },
    "tags": [
     "worksheet-only"
    ]
   },
   "source": [
    "```Python\n",
    "\n",
    "```"
   ]
  },
  {
   "cell_type": "code",
   "execution_count": 20,
   "id": "a672fd72-74f3-4344-878b-ac34f987c2e7",
   "metadata": {
    "slideshow": {
     "slide_type": "fragment"
    },
    "tags": [
     "worksheet-code-only"
    ]
   },
   "outputs": [
    {
     "name": "stdout",
     "output_type": "stream",
     "text": [
      "tac\n"
     ]
    }
   ],
   "source": [
    "#4)\n",
    "stop = len(animal)\n",
    "animal3 = \"\"\n",
    "for index in range(stop):\n",
    "    animal3 = animal[index] + animal3\n",
    "print(animal3)"
   ]
  },
  {
   "cell_type": "markdown",
   "id": "1103ed32-98b2-4fae-b7fc-3943da27767d",
   "metadata": {
    "slideshow": {
     "slide_type": "skip"
    },
    "tags": [
     "worksheet-only"
    ]
   },
   "source": [
    "```Python\n",
    "\n",
    "```"
   ]
  },
  {
   "cell_type": "markdown",
   "id": "8c911817-2de0-447e-849c-cceeeca04710",
   "metadata": {
    "slideshow": {
     "slide_type": "skip"
    },
    "tags": [
     "notes-only"
    ]
   },
   "source": [
    "## Belonging & success in computer science\n",
    "* Panelists\n",
    "    * Lily Davisson '22\n",
    "    * Taylor Davis '23\n",
    "* Questions\n",
    "    * What do you find most rewarding about CS (especially when you took 101)?\n",
    "    * What do you find most challenging about CS (especially when you took 101)? How do you overcome this challenge?\n",
    "    * How have your identities shaped your experience in CS at Colgate and beyond? What support systems (if any) have you leveraged?\n",
    "    * How have you used your CS expertise beyond courses in CS? How do you hope to use your CS expertise in the future?"
   ]
  },
  {
   "cell_type": "code",
   "execution_count": null,
   "id": "bd1955d9-a556-4bf0-8133-81eba9955a5d",
   "metadata": {},
   "outputs": [],
   "source": []
  }
 ],
 "metadata": {
  "kernelspec": {
   "display_name": "Python 3 (ipykernel)",
   "language": "python",
   "name": "python3"
  },
  "language_info": {
   "codemirror_mode": {
    "name": "ipython",
    "version": 3
   },
   "file_extension": ".py",
   "mimetype": "text/x-python",
   "name": "python",
   "nbconvert_exporter": "python",
   "pygments_lexer": "ipython3",
   "version": "3.8.2"
  }
 },
 "nbformat": 4,
 "nbformat_minor": 5
}
