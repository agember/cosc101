{
 "cells": [
  {
   "cell_type": "markdown",
   "id": "7742df3a-ea16-434f-9f5c-31b9fac5f265",
   "metadata": {},
   "source": [
    "# Debugging; modules; function calls; objects\n",
    "_COSC 101, Introduction to Computing I, 2021-09-10_"
   ]
  },
  {
   "cell_type": "markdown",
   "id": "ea05b1fa-498a-4899-ac70-3e68420dc0a2",
   "metadata": {},
   "source": [
    "## Announcements\n",
    "* Homework 2 due Thursday at 5pm"
   ]
  },
  {
   "cell_type": "markdown",
   "id": "95482993-80c8-47bf-b7eb-9ec81fe6b6e2",
   "metadata": {
    "tags": [
     "notes-only"
    ]
   },
   "source": [
    "## Outline\n",
    "* Warm-up\n",
    "* Debugging practice\n",
    "* Modules"
   ]
  },
  {
   "cell_type": "markdown",
   "id": "693cf7fe-8f20-42fa-bf9e-3ee2ad3cdb67",
   "metadata": {},
   "source": [
    "## Warm-up\n",
    "_Write a program that asks for yesterday’s and today’s high temperatures and outputs `Today is warmer`, `Today is colder`, or `Today is the same`._"
   ]
  },
  {
   "cell_type": "code",
   "execution_count": null,
   "id": "e487bfc8-5b9d-4035-aca8-e1a69a610986",
   "metadata": {
    "tags": [
     "notes-only"
    ]
   },
   "outputs": [],
   "source": [
    "yesterday = float(input(\"Yesterday's high temperature: \"))\n",
    "today = float(input(\"Today's high temperature: \"))\n",
    "if today > yesterday:\n",
    "    print(\"Today is warmer\")\n",
    "elif today < yesterday:\n",
    "    print(\"Today is colder\")\n",
    "else:\n",
    "    print(\"Today is the same\")"
   ]
  },
  {
   "cell_type": "markdown",
   "id": "0d9ee466-9062-48ef-ac63-69a0c519d35a",
   "metadata": {
    "tags": [
     "worksheet-only"
    ]
   },
   "source": [
    "```Python\n",
    "\n",
    "\n",
    "\n",
    "\n",
    "\n",
    "\n",
    "\n",
    "\n",
    "\n",
    "```\n",
    "🛑 **STOP HERE** after completing the warm-up; please **DO NOT WORK AHEAD**. If you have extra time, work on the extra practice problems at the end of the worksheet."
   ]
  },
  {
   "cell_type": "markdown",
   "id": "18557827-d3d6-4465-8eb9-8c462a6662bc",
   "metadata": {
    "slideshow": {
     "slide_type": "skip"
    },
    "tags": [
     "notes-only"
    ]
   },
   "source": [
    "## Good programming practices\n",
    "* Understand the target semantics — i.e., what output should the program produce for various inputs?\n",
    "* Decompose the solution and implement one step at a time\n",
    "    * Run your program after you implement each step\n",
    "    * Worst programming practice: write a full solution to a problem first, then run it\n",
    "* Test on different inputs\n",
    "    * Include boundary cases — inputs that are at the extremes of the acceptable (or expected) range\n",
    "\n",
    "### Example\n",
    "_Write a program that asks for a user’s first and last name and outputs which is the longest._\n",
    "* Decompose solution and implement one step:\n",
    "    * Ask user for first and last name\n",
    "        ```Python\n",
    "        first = input(\"Your first name: \")\n",
    "        last = input(\"Your last name: \")\n",
    "        ```\n",
    "    * Compute the lengths\n",
    "    * Determine which is longer\n",
    "* Test on different inputs:\n",
    "    * Include temporary print statement\n",
    "        ```Python\n",
    "        print(first, last)\n",
    "        ```\n",
    "    * 1st test case: `Katherine`, `Johnson`\n",
    "    * 2nd test case: `Mary`, `Jackson`\n",
    "    * 3rd test case: `Dorothy`, `Vaughan` (boundary)\n",
    "* Implement next step and retest\n",
    "    ```Python\n",
    "    first_len = len(first)\n",
    "    last_len = len(last)\n",
    "    print(first_len, last_len)\n",
    "    ```\n",
    "* Implement next step and retest\n",
    "    ```Python\n",
    "    if (first_len < last_len):\n",
    "      print(\"Your first name is longer\")\n",
    "    else:\n",
    "      print(\"Your last name is longer\")\n",
    "    ```\n",
    "* Debugging strategies\n",
    "    * Add print statements\n",
    "    * Use CodeLens (also called Visualize) — you will get practice with this in lab"
   ]
  },
  {
   "cell_type": "markdown",
   "id": "3b1e2ab7-575d-47bc-b605-b745c08914d6",
   "metadata": {
    "tags": [
     "notes-only"
    ]
   },
   "source": [
    "## Debugging practice\n",
    "_A scientist tried to write a program that asks for a temperature in degrees fahrenheit and converts the temperature to degrees celsius and degrees kelvin._"
   ]
  },
  {
   "cell_type": "code",
   "execution_count": null,
   "id": "818b330b-3827-40c9-93ee-a2c2b910b242",
   "metadata": {
    "tags": [
     "notes-only"
    ]
   },
   "outputs": [],
   "source": [
    "f = input(\"Temperature in degrees fahrenheit:\")\n",
    "c = f - 32 * (9 / 5\n",
    "print(\"Temperature in degrees celsius:\"+c)\n",
    "k = c + 273.15\n",
    "print(\"Temperature in degrees kelvin:+k\")"
   ]
  },
  {
   "cell_type": "markdown",
   "id": "bb8a226b-56ab-4749-8720-92b058e51213",
   "metadata": {
    "tags": [
     "notes-only"
    ]
   },
   "source": [
    "1. Syntax error on line 3\n",
    "    1. Comment out line 3 ⇒ syntax error on line 4; comment out line 4 ⇒ syntax error on line 5; suggests syntax error is before line 3\n",
    "    2. Uncomment lines 3 and 4; comment out line 2 ⇒ syntax error goes away\n",
    "    3. Add missing parenthesis\n",
    "2. Type error on line 2\n",
    "    1. Add `print(f, type(f))` between lines 1 and 2 ⇒ f is a string\n",
    "    2. Cannot subtract string and integer\n",
    "    3. Add `f = int(f)` between lines 2 and 3\n",
    "3. Type error on line 3\n",
    "    1. Add `print(c, type(c))` between lines 2 and 3 ⇒ c is a float\n",
    "    2. Cannot add string and float\n",
    "    3. Add `c = str(c)` between lines 2 and 3\n",
    "4. Type error on line 4\n",
    "    1. Add 1print(c, type(c))1 between lines 3 and 4 ⇒ c is a str\n",
    "    2. We just added a conversion to fix the previous error, which caused a new problem\n",
    "    3. Alternative fix for previous error: change line 3 to `print(\"Temperature in degrees celsius:\"+str(c))`\n",
    "5. Semantic error on line 5\n",
    "    1. Update line 5 to `print(\"Temperature in degrees kelvin:\"+k)`\n",
    "6. Semantic error on line 3\n",
    "    1. Update line 2 to `c = (f - 32) * (9 / 5)`\n"
   ]
  },
  {
   "cell_type": "markdown",
   "id": "399c3ec0-6eac-4d64-821b-5802f937da9c",
   "metadata": {
    "tags": [
     "notes-only"
    ]
   },
   "source": [
    "## Function calls\n",
    "* _What is a function?_ — a set of statements that are referred to by a given name\n",
    "    * E.g., `print`, `input`, `int`, `float`, `str`\n",
    "* _What is a function call?_ — a request to execute the statements within the named function\n",
    "    * E.g., `print(\"message\")`, `int(\"13\")`\n",
    "* _How is a function called?_ — function name, left parenthesis `(`, comma-separated list of parameters (if required), right parenthesis `)`\n",
    "    * E.g., `print(\"one\", \"two\", \"three\")`"
   ]
  },
  {
   "cell_type": "markdown",
   "id": "cc128277-6e29-4677-9b1b-20422cf0ce35",
   "metadata": {},
   "source": [
    "## Modules"
   ]
  },
  {
   "cell_type": "markdown",
   "id": "3cc9e089-bf71-49ab-83f4-6a2bd9347032",
   "metadata": {
    "tags": [
     "notes-only"
    ]
   },
   "source": [
    "* _What is a module?_ — a file containing functions, variables, and classes (i.e., new types of objects) that are intended for use in other Python programs\n",
    "* _What are some examples of modules you might use?_ — `math`, `random`, `turtles`\n",
    "* _What do you need to include in your program if you want to use a module?_ — an `import` statement\n",
    "* _How do you use something contained in an imported module?_ — using the module name, dot (`.`), and the name of the thing you want to use, e.g., `math.pi`\n",
    "\n",
    "### Practice\n",
    " [TSA pseudo-randomizer YouTube video](https://www.youtube.com/watch?v=P_KmFJ2gGzw)"
   ]
  },
  {
   "cell_type": "markdown",
   "id": "5beefaea-6f59-4bf2-8e53-a8652c4e7b79",
   "metadata": {},
   "source": [
    "\\#1) _Write your own TSA pseudo-randomizer app. Hint: Use the `randint` function from the `random` module; `randint` requires two parameters—a minimum and maximum integer—and generates a random integer that is greater than or equal to the minimum and less than or equal to the maximum._"
   ]
  },
  {
   "cell_type": "code",
   "execution_count": null,
   "id": "83160e39-6317-4326-b61e-022815aff159",
   "metadata": {
    "tags": [
     "notes-only"
    ]
   },
   "outputs": [],
   "source": [
    "import random\n",
    "# Choose direction\n",
    "direction = random.randint(0,1)\n",
    "# Output choice\n",
    "if direction == 0:\n",
    "    print(\"<<-- Left\")\n",
    "else:\n",
    "    print(\"Right -->>\")"
   ]
  },
  {
   "cell_type": "markdown",
   "id": "027174f7-f0c8-4f5f-81a6-692a3d8ec7c5",
   "metadata": {
    "tags": [
     "worksheet-only"
    ]
   },
   "source": [
    "```Python\n",
    "\n",
    "\n",
    "\n",
    "\n",
    "\n",
    "\n",
    "\n",
    "\n",
    "\n",
    "```"
   ]
  },
  {
   "cell_type": "markdown",
   "id": "147a4058-42b0-4a09-a7ef-8ba65a55be4d",
   "metadata": {},
   "source": [
    "\\#2) _Write a program that asks for the number of sides on a die and “rolls” the die._"
   ]
  },
  {
   "cell_type": "code",
   "execution_count": null,
   "id": "38928ce4-8c12-4de4-979a-eadd67a361fb",
   "metadata": {
    "tags": [
     "notes-only"
    ]
   },
   "outputs": [],
   "source": [
    "import random\n",
    "# Get number of sides\n",
    "sides = int(input(\"How many sides?\"))\n",
    "# Roll\n",
    "roll = random.randint(1, sides)\n",
    "print(\"You rolled\", roll)"
   ]
  },
  {
   "cell_type": "markdown",
   "id": "dc04c04f-b2ae-414c-b031-beb375f518df",
   "metadata": {
    "tags": [
     "worksheet-only"
    ]
   },
   "source": [
    "```Python\n",
    "\n",
    "\n",
    "\n",
    "\n",
    "\n",
    "\n",
    "\n",
    "\n",
    "\n",
    "\n",
    "```\n",
    "🛑 **STOP HERE** after completing the above questions; please **DO NOT WORK AHEAD**. If you have extra time, work on the extra practice problems at the end of the worksheet."
   ]
  },
  {
   "cell_type": "markdown",
   "id": "641b3f26-568e-42c9-88ba-ceb1c8ce14b4",
   "metadata": {},
   "source": [
    "## Extra practice\n",
    "\\#1) _Write a program that asks for the length of the sides of a right triangle and computes the length of the hypotenuse. Hint: You’ll need to use the Pythagorean theorem (a² + b² = c²) and the `sqrt` function in the `math` module._"
   ]
  },
  {
   "cell_type": "code",
   "execution_count": 3,
   "id": "11d2b3d0-4d94-40d9-9e2a-97eef3fc13de",
   "metadata": {
    "tags": [
     "notes-only"
    ]
   },
   "outputs": [
    {
     "name": "stdin",
     "output_type": "stream",
     "text": [
      "Length of side A?  3\n",
      "Length of side B?  4\n"
     ]
    },
    {
     "name": "stdout",
     "output_type": "stream",
     "text": [
      "Length of the hypotenuse: 5.0\n"
     ]
    }
   ],
   "source": [
    "import math\n",
    "side_a = int(input(\"Length of side A? \"))\n",
    "side_b = int(input(\"Length of side B? \"))\n",
    "side_c = math.sqrt(side_a ** 2 + side_b ** 2)\n",
    "print(\"Length of the hypotenuse:\", side_c)"
   ]
  },
  {
   "cell_type": "markdown",
   "id": "065381cc-04e6-458f-bc5b-9e79c3ce23c1",
   "metadata": {
    "tags": [
     "worksheet-only"
    ]
   },
   "source": [
    "```Python\n",
    "\n",
    "\n",
    "\n",
    "\n",
    "\n",
    "\n",
    "```"
   ]
  },
  {
   "cell_type": "markdown",
   "id": "a03e3c78-9e56-42fc-8396-ab0ce54ff906",
   "metadata": {},
   "source": [
    "\\#2) _Write a program that asks for the length of the hpotenuse and one side of a right triangle and computes the angle opposite the side in radians. Hint: You’ll need to use the law of sines (a/sin A = b/sin B = c/sin C) and the `sin` and `asin` functions (which work with radians, not degrees) and the `pi` constant in the `math` module._"
   ]
  },
  {
   "cell_type": "code",
   "execution_count": 5,
   "id": "c7b7d05b-cf91-47ae-a133-5f4d5f78ef64",
   "metadata": {
    "tags": [
     "notes-only"
    ]
   },
   "outputs": [
    {
     "name": "stdin",
     "output_type": "stream",
     "text": [
      "Length of hypotenuse?  5\n",
      "Length of side?  3\n"
     ]
    },
    {
     "name": "stdout",
     "output_type": "stream",
     "text": [
      "0.6435011087932844\n"
     ]
    }
   ],
   "source": [
    "import math\n",
    "hypotenuse = int(input(\"Length of hypotenuse? \"))\n",
    "side = int(input(\"Length of side? \"))\n",
    "right_angle = math.pi / 2\n",
    "angle = side *  math.sin(right_angle) / hypotenuse\n",
    "angle = math.asin(angle)\n",
    "print(angle)"
   ]
  },
  {
   "cell_type": "markdown",
   "id": "c50e0482-505a-4349-a31f-62ee168bb1a3",
   "metadata": {
    "tags": [
     "worksheet-only"
    ]
   },
   "source": [
    "```Python\n",
    "\n",
    "\n",
    "\n",
    "\n",
    "\n",
    "\n",
    "\n",
    "\n",
    "\n",
    "\n",
    "```"
   ]
  },
  {
   "cell_type": "markdown",
   "id": "056fe1eb-5eb2-42dd-b54e-48222185bac1",
   "metadata": {},
   "source": [
    "\\#3) _Write a program that asks for the length of the sides of a right triangle and draws the corresponding triangle. Hint: You’ll need to reuse some of your code from the above programs, along with the `degrees` function in the `math` module to convert radians to degrees._"
   ]
  },
  {
   "cell_type": "code",
   "execution_count": null,
   "id": "729fea80-b951-4f0d-814f-c1bf63f21fe5",
   "metadata": {
    "tags": [
     "notes-only"
    ]
   },
   "outputs": [],
   "source": [
    "import math\n",
    "import turtle\n",
    "\n",
    "# Length of sides\n",
    "side_a = int(input(\"Length of side A? \"))\n",
    "side_b = int(input(\"Length of side B? \"))\n",
    "side_c = int(math.sqrt(side_a ** 2 + side_b ** 2))\n",
    "\n",
    "# Angles\n",
    "angle_c = math.pi / 2\n",
    "angle_a = side_a * math.sin(angle_c) / side_c\n",
    "angle_a = math.asin(angle_a)\n",
    "\n",
    "# Draw triangle\n",
    "window = turtle.Screen()\n",
    "speedy = turtle.Turtle()\n",
    "speedy.forward(side_a)\n",
    "speedy.left(math.degrees(angle_c))\n",
    "speedy.forward(side_b)\n",
    "speedy.left(180 - math.degrees(angle_a))\n",
    "speedy.forward(side_c)\n",
    "window.exitonclick()"
   ]
  },
  {
   "cell_type": "markdown",
   "id": "ab6eb23c-3083-468f-8757-130d75fa9222",
   "metadata": {
    "tags": [
     "worksheet-only"
    ]
   },
   "source": [
    "```Python\n",
    "\n",
    "\n",
    "\n",
    "\n",
    "\n",
    "\n",
    "\n",
    "\n",
    "\n",
    "\n",
    "\n",
    "\n",
    "\n",
    "\n",
    "\n",
    "\n",
    "\n",
    "\n",
    "\n",
    "\n",
    "\n",
    "\n",
    "\n",
    "\n",
    "\n",
    "\n",
    "\n",
    "```"
   ]
  },
  {
   "cell_type": "markdown",
   "id": "1cc39afc-1ade-490e-9e1e-fd24285a0fc5",
   "metadata": {},
   "source": [
    "\\#4) _Write a program that draws the Big Dipper constellation_\n",
    "\n",
    "![Big Dipper constellation](https://static.thenounproject.com/png/5239-200.png)"
   ]
  },
  {
   "cell_type": "code",
   "execution_count": null,
   "id": "dc17578c-9557-4170-85bb-c95e6724fd9f",
   "metadata": {
    "tags": [
     "notes-only"
    ]
   },
   "outputs": [],
   "source": [
    "import turtle\n",
    "\n",
    "window = turtle.Screen()\n",
    "ghido = turtle.Turtle()\n",
    "\n",
    "ghido.left(10)\n",
    "ghido.forward(50)\n",
    "ghido.right(35)\n",
    "ghido.forward(50)\n",
    "ghido.right(55)\n",
    "ghido.forward(50)\n",
    "ghido.left(75)\n",
    "ghido.forward(50)\n",
    "ghido.left(75)\n",
    "ghido.forward(50)\n",
    "ghido.left(105)\n",
    "ghido.forward(75)\n",
    "\n",
    "window.exitonclick()"
   ]
  }
 ],
 "metadata": {
  "kernelspec": {
   "display_name": "Python 3 (ipykernel)",
   "language": "python",
   "name": "python3"
  },
  "language_info": {
   "codemirror_mode": {
    "name": "ipython",
    "version": 3
   },
   "file_extension": ".py",
   "mimetype": "text/x-python",
   "name": "python",
   "nbconvert_exporter": "python",
   "pygments_lexer": "ipython3",
   "version": "3.8.2"
  }
 },
 "nbformat": 4,
 "nbformat_minor": 5
}
