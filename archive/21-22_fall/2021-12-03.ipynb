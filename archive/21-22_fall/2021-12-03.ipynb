{
 "cells": [
  {
   "cell_type": "markdown",
   "id": "0683129d-4889-4734-adaf-62a553d842fa",
   "metadata": {
    "slideshow": {
     "slide_type": "skip"
    },
    "tags": []
   },
   "source": [
    "# introduction to machine learning\n",
    "_COSC 101, Introduction to Computing I, 2021-12-03_"
   ]
  },
  {
   "cell_type": "markdown",
   "id": "d1bbf54e-d89b-4cd2-8da5-59ba682257da",
   "metadata": {
    "slideshow": {
     "slide_type": "skip"
    },
    "tags": []
   },
   "source": [
    "## Announcements\n",
    "* Homework #10 due Thursday @ 5pm\n",
    "* DEI reflection due Monday @ 11pm"
   ]
  },
  {
   "cell_type": "markdown",
   "id": "1310ea80-ba72-4f20-b522-7c1a2136e10f",
   "metadata": {
    "slideshow": {
     "slide_type": "skip"
    },
    "tags": [
     "notes-only"
    ]
   },
   "source": [
    "## Outline\n",
    "* Warm-up\n",
    "* What is ML?\n",
    "* Key terms\n",
    "* Types of ML"
   ]
  },
  {
   "cell_type": "markdown",
   "id": "faf7ab90-5ecf-4eeb-b7dc-8bd317bc58ee",
   "metadata": {
    "slideshow": {
     "slide_type": "slide"
    },
    "tags": []
   },
   "source": [
    "## Warm-up\n",
    "_For each of the following problems:_\n",
    "1. _What is the condition and result for the base case?_\n",
    "2. _What is the smaller problem on which you recurse?_\n",
    "3. _How do you combine the simple piece and the result of the recursive call?_\n",
    "\n",
    "\\#1) Sum the numbers in a list"
   ]
  },
  {
   "cell_type": "markdown",
   "id": "4c2be8fc-764a-45d4-8c33-176c2ec95e2e",
   "metadata": {
    "slideshow": {
     "slide_type": "skip"
    },
    "tags": [
     "notes-only"
    ]
   },
   "source": [
    "1. Condition: list with one (or zero) number(s); result: the number (or zero)\n",
    "2. List without the first (or last) number\n",
    "3. Add the first (or last) number in the list to the sum of the rest of the list"
   ]
  },
  {
   "cell_type": "markdown",
   "id": "649a84db-620a-4093-b185-eea2086f8d69",
   "metadata": {
    "slideshow": {
     "slide_type": "skip"
    },
    "tags": [
     "worksheet-only"
    ]
   },
   "source": [
    "```\n",
    "\n",
    "\n",
    "\n",
    "\n",
    "\n",
    "\n",
    "\n",
    "\n",
    "```"
   ]
  },
  {
   "cell_type": "markdown",
   "id": "02381c04-cae5-4be2-a928-9e488c81d730",
   "metadata": {
    "slideshow": {
     "slide_type": "fragment"
    },
    "tags": []
   },
   "source": [
    "\\#2) Reverse the characters in a string (e.g., `COLGATE` becomes `ETAGLOC`"
   ]
  },
  {
   "cell_type": "markdown",
   "id": "bbb1fd55-94df-48b6-a1c2-060267499d17",
   "metadata": {
    "slideshow": {
     "slide_type": "skip"
    },
    "tags": [
     "notes-only"
    ]
   },
   "source": [
    "1. Condition: string with one (or zero) character(s); result: single character (or empty string)\n",
    "2. Reverse the string without the first (or last) character\n",
    "3. Add the reverse of the rest of the string to the first character of the string (or add the last character of the string to the reverse of the rest of the string"
   ]
  },
  {
   "cell_type": "markdown",
   "id": "06d42b4a-2745-4151-807a-0828d493b49a",
   "metadata": {
    "slideshow": {
     "slide_type": "skip"
    },
    "tags": [
     "worksheet-only"
    ]
   },
   "source": [
    "```\n",
    "\n",
    "\n",
    "\n",
    "\n",
    "\n",
    "\n",
    "\n",
    "\n",
    "```"
   ]
  },
  {
   "cell_type": "markdown",
   "id": "6b024ae5-3c01-4e1a-8527-f8e548359e01",
   "metadata": {
    "slideshow": {
     "slide_type": "skip"
    },
    "tags": [
     "notes-only"
    ]
   },
   "source": [
    "## What is machine learning (ML)?\n",
    "* _What is machine learning?_ — deriving an algorithm from data, instead of being explicitly programmed\n",
    "* Example: recognizing hand-written digits\n",
    "    * Assume an image contains a hand-written digit\n",
    "    * Recall: _How are images represented?_ — as a grid of pixels\n",
    "    * If a pixel is black, it is part of the digit; if a pixel is white it is not part of the digit\n",
    "    * _Given an image, how would you write an algorithm to determine if the image contains the digit 1?_ — look for a vertical sequence of black pixels; all other pixels should be white\n",
    "        * _What if someone writes a 1 at a slight angle?_ — the digit won't be detected\n",
    "        * _Could we fix this?_ — write a more complex algorithm that doesn't require the line to be strictly vertical\n",
    "    * _Given an image, how would you write an algorithm to determine if the image contains the digit 7?_ — look for a horizontal sequence of black pixels whose right side intersects the top of a diagonal sequence of black pixels; all other pixels should be white\n",
    "    * _Given an image, how would you write an algorithm to determine if the image contains the digit 5?_ — this is a hard problem for a human\n",
    "* Machine learning approach: the computer \"writes\" the algorithm based on examples of hand-written digits\n",
    "    * Algorithm learns probabilities that certain pixels are black or white for certain digits\n",
    "    * For exmaple, the corners of a hand-written 1 will always be white, whereas the upper-right corner of a hand-written 5 will be black with highly probability\n",
    "    * Given a new image, the highest probability digit is identified"
   ]
  },
  {
   "cell_type": "markdown",
   "id": "a07e8697-c1b4-4089-afb3-5172997ca05f",
   "metadata": {
    "slideshow": {
     "slide_type": "skip"
    },
    "tags": [
     "notes-only"
    ]
   },
   "source": [
    "## Key terms\n",
    "* Model — the \"algorithm\" that is derived from data\n",
    "    * For example, the probabilities of each pixel being black for each hand-written digit\n",
    "* Training — the act of constructing a model\n",
    "* Training data — information used to construct the model\n",
    "* Features — characteristics of each data item\n",
    "* Testing — the act of measuring a model's accuracy\n",
    "* Testing data — information used to evaluate the model's accuracy; typically the data is split into training and testing"
   ]
  }
 ],
 "metadata": {
  "kernelspec": {
   "display_name": "Python 3 (ipykernel)",
   "language": "python",
   "name": "python3"
  },
  "language_info": {
   "codemirror_mode": {
    "name": "ipython",
    "version": 3
   },
   "file_extension": ".py",
   "mimetype": "text/x-python",
   "name": "python",
   "nbconvert_exporter": "python",
   "pygments_lexer": "ipython3",
   "version": "3.8.2"
  }
 },
 "nbformat": 4,
 "nbformat_minor": 5
}
