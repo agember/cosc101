{
 "cells": [
  {
   "cell_type": "markdown",
   "id": "b10a9b7c",
   "metadata": {
    "editable": true,
    "slideshow": {
     "slide_type": "skip"
    },
    "tags": []
   },
   "source": [
    "# Hello, Python: computational thinking; errors & debugging\n",
    "_COSC 101, Introduction to Computing I, 2021-08-30_"
   ]
  },
  {
   "cell_type": "markdown",
   "id": "619d2e6c",
   "metadata": {
    "slideshow": {
     "slide_type": "skip"
    }
   },
   "source": [
    "## Announcements\n",
    "* Masks are required in class\n",
    "* Before next class: read sections 2.1-2.7, 9.3 and answer pre-class questions"
   ]
  },
  {
   "cell_type": "markdown",
   "id": "2a327a5a",
   "metadata": {
    "slideshow": {
     "slide_type": "skip"
    },
    "tags": [
     "notes-only"
    ]
   },
   "source": [
    "## Outline\n",
    "* Warm-up\n",
    "* Computational thinking\n",
    "* Programming\n",
    "* Hello, Python!\n",
    "* Errors and debugging"
   ]
  },
  {
   "cell_type": "markdown",
   "id": "73aabf8d",
   "metadata": {
    "slideshow": {
     "slide_type": "slide"
    }
   },
   "source": [
    "## Warm-up\n",
    "What is an example of an algorithm you lookup and execute in real life?\n",
    "(Recall: an algorithm is a step by step list of instructions that solve a problem.)"
   ]
  },
  {
   "cell_type": "markdown",
   "id": "f9018fcd",
   "metadata": {
    "slideshow": {
     "slide_type": "skip"
    },
    "tags": [
     "worksheet-only"
    ]
   },
   "source": [
    "<p style=\"height:10em;\"></p>"
   ]
  },
  {
   "cell_type": "markdown",
   "id": "1be1261c",
   "metadata": {
    "slideshow": {
     "slide_type": "skip"
    },
    "tags": [
     "notes-only"
    ]
   },
   "source": [
    "## Computational thinking\n",
    "* _Computational thinking is the thought processes involved in formulating a problem and expressing its solution(s) in such a way that a computer—human or machine—can effectively carry out._ -- Jeannette M. Wing\n",
    "    * Decomposition — break the problem into smaller sub-problems\n",
    "    * Pattern recognition — look for similarities with previously solved problems, across sub-problems, within sub-problems, etc.\n",
    "    * Abstraction — determine which details are important\n",
    "    * Algorithm design — create unambiguous step-by-step instructions\n",
    "* Example: How do I grow flowers?\n",
    "* _Decomposition_\n",
    "    * How do I prepare the soil?\n",
    "    * How do I plant the seeds?\n",
    "    * How do I care for the plants?\n",
    "* _Pattern recognition_\n",
    "    * Growing flowers is similar to growing vegetables\n",
    "    * Repeat steps for each plant\n",
    "    * Repeat care steps every day\n",
    "* _Abstraction_\n",
    "    * Assume pot is provided\n",
    "    * Assume filling a water can is known\n",
    "* _Algorithm — e.g., plant the seeds_\n",
    "    1. How do I prepare the soil?\n",
    "        1. Get an empty pot\n",
    "        2. Fill the pot to the top with soil\n",
    "    2. How do I plant the seeds? — steps for each seed:\n",
    "        1. Make a hole that is 1 cm deep\n",
    "        2. Place a seed in the hole\n",
    "        3. Cover the seed with soil\n",
    "    3. How do I care for the plants?\n",
    "        1. Place the pot in the sun\n",
    "        2. Water the plants daily\n",
    "* Ambiguity — humans rely on contextual clues and experience; computers do _exactly_ what you tell them\n",
    "    * Make a hole that is 1 cm deep does not specify the width\n",
    "    * Cover the seed with soil does not specify how much soil\n",
    "    * Water the plants daily does not specify how much water"
   ]
  },
  {
   "cell_type": "markdown",
   "id": "e0a883ee",
   "metadata": {
    "slideshow": {
     "slide_type": "slide"
    }
   },
   "source": [
    "## Computational thinking practice\n",
    "(1) _Draw a simple picture (e.g., a stick figure)._"
   ]
  },
  {
   "cell_type": "markdown",
   "id": "8330e6cc",
   "metadata": {
    "slideshow": {
     "slide_type": "skip"
    },
    "tags": [
     "worksheet-only"
    ]
   },
   "source": [
    "<p style=\"page-break-after: always;\"></p>"
   ]
  },
  {
   "cell_type": "markdown",
   "id": "468742e2",
   "metadata": {
    "slideshow": {
     "slide_type": "-"
    }
   },
   "source": [
    "(2) _Write a set of steps someone should take (i.e., an algorithm) to draw the same picture._"
   ]
  },
  {
   "cell_type": "markdown",
   "id": "005554e4",
   "metadata": {
    "slideshow": {
     "slide_type": "skip"
    },
    "tags": [
     "worksheet-only"
    ]
   },
   "source": [
    "<p style=\"height:35em;\"></p>"
   ]
  },
  {
   "cell_type": "markdown",
   "id": "0ae9f696",
   "metadata": {
    "slideshow": {
     "slide_type": "-"
    }
   },
   "source": [
    "(3) _Swap instructions with your neighbor and follow their instructions._"
   ]
  },
  {
   "cell_type": "markdown",
   "id": "bcdbd249",
   "metadata": {
    "slideshow": {
     "slide_type": "skip"
    },
    "tags": [
     "worksheet-only"
    ]
   },
   "source": [
    "<p style=\"page-break-after: always;\"></p>"
   ]
  },
  {
   "cell_type": "markdown",
   "id": "0f79bb1c",
   "metadata": {
    "slideshow": {
     "slide_type": "-"
    }
   },
   "source": [
    "(4) _Compare your drawings. How well does what you drew match up with what your neighbor originally drew? How can you improve your instructions?_"
   ]
  },
  {
   "cell_type": "markdown",
   "id": "ef447247",
   "metadata": {
    "slideshow": {
     "slide_type": "skip"
    },
    "tags": [
     "notes-only"
    ]
   },
   "source": [
    "## Programming\n",
    "* _Recall: what is programming?_ — representing algorithms in a notation (language) that can be followed by a computer\n",
    "* Natural language is inherently ambiguous\n",
    "    * A robot could not follow our algorithm for growing flowers\n",
    "* Programming languages are unambiguous — an instruction has exactly one meaning\t\n",
    "* _What are the basic types of instructions used by Python (and nearly every programming language)?_\n",
    "    * Receiving input — e.g., from keyboard\n",
    "    * Providing output — e.g., display text on screen\n",
    "    * Math and logic\n",
    "    * Conditional execution\n",
    "    * Repetition"
   ]
  },
  {
   "cell_type": "markdown",
   "id": "0fbfdae2",
   "metadata": {
    "slideshow": {
     "slide_type": "skip"
    },
    "tags": [
     "notes-only"
    ]
   },
   "source": [
    "## Hello Python\n",
    "* Two modes of programming in Python\n",
    "    * Type instructions into interpreter (console) — instructions are executed as they are entered\n",
    "    * Type instructions in a file — instructions are executed when file is read by interpreter (run)\n",
    "* First program"
   ]
  },
  {
   "cell_type": "code",
   "execution_count": 7,
   "id": "bd2b4198",
   "metadata": {
    "slideshow": {
     "slide_type": "skip"
    },
    "tags": [
     "notes-only"
    ]
   },
   "outputs": [
    {
     "name": "stdout",
     "output_type": "stream",
     "text": [
      "Hello, Python!\n"
     ]
    }
   ],
   "source": [
    "print(\"Hello, Python!\")"
   ]
  },
  {
   "cell_type": "markdown",
   "id": "59ccbb13",
   "metadata": {
    "slideshow": {
     "slide_type": "slide"
    }
   },
   "source": [
    "## Errors"
   ]
  },
  {
   "cell_type": "markdown",
   "id": "4cf5d52f",
   "metadata": {
    "slideshow": {
     "slide_type": "skip"
    },
    "tags": [
     "notes-only"
    ]
   },
   "source": [
    "* Debugging — process of correcting errors (or bugs) in your program\n",
    "* Grace Hopper (an officer in the Navy) found a dead moth on a relay in one of the first computers (the Harvard Mark II) caused a problem, and the name bug stuck"
   ]
  },
  {
   "cell_type": "markdown",
   "id": "f18d46d2",
   "metadata": {
    "editable": true,
    "slideshow": {
     "slide_type": "-"
    },
    "tags": [
     "notes-only"
    ]
   },
   "source": [
    "![Photo of First Computer \"Bug\"](https://media.nationalgeographic.org/assets/photos/669/8b7/6698b759-f30f-43d9-9cf1-b6350cdd39bd_r646x537.jpg?2391e3e2118844ef3fef9c236c4b14666e9bbdcd)"
   ]
  },
  {
   "cell_type": "markdown",
   "id": "b14ba96e",
   "metadata": {
    "slideshow": {
     "slide_type": "skip"
    },
    "tags": [
     "notes-only"
    ]
   },
   "source": [
    "* _What are the three kinds of errors that can occur in a program? When are they detected?_\n",
    "    * Syntax error — a grammatical error\n",
    "        * Detected when you enter an instruction into the interpreter\n",
    "    * Runtime error — infeasible instructions\n",
    "        * Detected when the interpreter executes the instruction\n",
    "    * Semantic error — wrong instructions\n",
    "        * Detected when a human examines the program's output"
   ]
  },
  {
   "cell_type": "markdown",
   "id": "e9ef8796",
   "metadata": {
    "editable": true,
    "slideshow": {
     "slide_type": "slide"
    },
    "tags": []
   },
   "source": [
    "_What type of error exists in each of the following programs?_ "
   ]
  },
  {
   "cell_type": "code",
   "execution_count": 12,
   "id": "d7583bd5",
   "metadata": {
    "slideshow": {
     "slide_type": "fragment"
    },
    "tags": [
     "worksheet-code-only"
    ]
   },
   "outputs": [
    {
     "name": "stdout",
     "output_type": "stream",
     "text": [
      "six plus seven is\n"
     ]
    },
    {
     "data": {
      "text/plain": [
       "-1"
      ]
     },
     "execution_count": 12,
     "metadata": {},
     "output_type": "execute_result"
    }
   ],
   "source": [
    "print(\"six plus seven is...\")\n",
    "6-7"
   ]
  },
  {
   "cell_type": "markdown",
   "id": "211747c6",
   "metadata": {
    "slideshow": {
     "slide_type": "skip"
    },
    "tags": [
     "worksheet-only"
    ]
   },
   "source": [
    "<p style=\"height:3em;\"></p>"
   ]
  },
  {
   "cell_type": "markdown",
   "id": "2abe5a51",
   "metadata": {
    "slideshow": {
     "slide_type": "skip"
    },
    "tags": [
     "notes-only"
    ]
   },
   "source": [
    "\n",
    "Semantic — output is unexpected"
   ]
  },
  {
   "cell_type": "code",
   "execution_count": 9,
   "id": "0975c5d8",
   "metadata": {
    "slideshow": {
     "slide_type": "fragment"
    },
    "tags": [
     "worksheet-code-only"
    ]
   },
   "outputs": [
    {
     "ename": "SyntaxError",
     "evalue": "unexpected EOF while parsing (3286650260.py, line 1)",
     "output_type": "error",
     "traceback": [
      "\u001b[0;36m  File \u001b[0;32m\"/var/folders/bd/35sz70xs5837wszrx11bw1yc0000gn/T/ipykernel_29667/3286650260.py\"\u001b[0;36m, line \u001b[0;32m1\u001b[0m\n\u001b[0;31m    print(\"Lucky number 13\"\u001b[0m\n\u001b[0m                           ^\u001b[0m\n\u001b[0;31mSyntaxError\u001b[0m\u001b[0;31m:\u001b[0m unexpected EOF while parsing\n"
     ]
    }
   ],
   "source": [
    "print(\"Lucky number 13\""
   ]
  },
  {
   "cell_type": "markdown",
   "id": "cd7ce3fa",
   "metadata": {
    "slideshow": {
     "slide_type": "skip"
    },
    "tags": [
     "worksheet-only"
    ]
   },
   "source": [
    "<p style=\"height:3em;\"></p>"
   ]
  },
  {
   "cell_type": "markdown",
   "id": "bb53622f",
   "metadata": {
    "slideshow": {
     "slide_type": "skip"
    },
    "tags": [
     "notes-only"
    ]
   },
   "source": [
    "Syntax — missing parenthesis"
   ]
  },
  {
   "cell_type": "code",
   "execution_count": 10,
   "id": "5def09e9",
   "metadata": {
    "slideshow": {
     "slide_type": "fragment"
    },
    "tags": [
     "worksheet-code-only"
    ]
   },
   "outputs": [
    {
     "ename": "ZeroDivisionError",
     "evalue": "division by zero",
     "output_type": "error",
     "traceback": [
      "\u001b[0;31m---------------------------------------------------------------------------\u001b[0m",
      "\u001b[0;31mZeroDivisionError\u001b[0m                         Traceback (most recent call last)",
      "\u001b[0;32m/var/folders/bd/35sz70xs5837wszrx11bw1yc0000gn/T/ipykernel_29667/181629082.py\u001b[0m in \u001b[0;36m<module>\u001b[0;34m\u001b[0m\n\u001b[0;32m----> 1\u001b[0;31m \u001b[0;36m13\u001b[0m \u001b[0;34m/\u001b[0m \u001b[0;36m0\u001b[0m\u001b[0;34m\u001b[0m\u001b[0;34m\u001b[0m\u001b[0m\n\u001b[0m",
      "\u001b[0;31mZeroDivisionError\u001b[0m: division by zero"
     ]
    }
   ],
   "source": [
    "13 / 0"
   ]
  },
  {
   "cell_type": "markdown",
   "id": "f32c950f",
   "metadata": {
    "slideshow": {
     "slide_type": "skip"
    },
    "tags": [
     "worksheet-only"
    ]
   },
   "source": [
    "<p style=\"height:3em;\"></p>"
   ]
  },
  {
   "cell_type": "markdown",
   "id": "d6a8a407",
   "metadata": {
    "slideshow": {
     "slide_type": "skip"
    },
    "tags": [
     "notes-only"
    ]
   },
   "source": [
    "Runtime — cannot divide by zero"
   ]
  },
  {
   "cell_type": "code",
   "execution_count": 11,
   "id": "72fad13a",
   "metadata": {
    "slideshow": {
     "slide_type": "fragment"
    },
    "tags": [
     "worksheet-code-only"
    ]
   },
   "outputs": [
    {
     "ename": "NameError",
     "evalue": "name 'PRINT' is not defined",
     "output_type": "error",
     "traceback": [
      "\u001b[0;31m---------------------------------------------------------------------------\u001b[0m",
      "\u001b[0;31mNameError\u001b[0m                                 Traceback (most recent call last)",
      "\u001b[0;32m/var/folders/bd/35sz70xs5837wszrx11bw1yc0000gn/T/ipykernel_29667/2100839225.py\u001b[0m in \u001b[0;36m<module>\u001b[0;34m\u001b[0m\n\u001b[0;32m----> 1\u001b[0;31m \u001b[0mPRINT\u001b[0m\u001b[0;34m(\u001b[0m\u001b[0;34m\"13 men who offered $13 and 13 prayers\"\u001b[0m\u001b[0;34m)\u001b[0m\u001b[0;34m\u001b[0m\u001b[0;34m\u001b[0m\u001b[0m\n\u001b[0m",
      "\u001b[0;31mNameError\u001b[0m: name 'PRINT' is not defined"
     ]
    }
   ],
   "source": [
    "PRINT(\"13 men who offered $13 and 13 prayers\")"
   ]
  },
  {
   "cell_type": "markdown",
   "id": "da995415",
   "metadata": {
    "slideshow": {
     "slide_type": "skip"
    },
    "tags": [
     "worksheet-only"
    ]
   },
   "source": [
    "<p style=\"height:3em;\"></p>"
   ]
  },
  {
   "cell_type": "markdown",
   "id": "de5e36c4",
   "metadata": {
    "editable": true,
    "slideshow": {
     "slide_type": "skip"
    },
    "tags": [
     "notes-only"
    ]
   },
   "source": [
    "Syntax — Python is case-sensitive"
   ]
  }
 ],
 "metadata": {
  "celltoolbar": "Tags",
  "kernelspec": {
   "display_name": "Python 3 (ipykernel)",
   "language": "python",
   "name": "python3"
  },
  "language_info": {
   "codemirror_mode": {
    "name": "ipython",
    "version": 3
   },
   "file_extension": ".py",
   "mimetype": "text/x-python",
   "name": "python",
   "nbconvert_exporter": "python",
   "pygments_lexer": "ipython3",
   "version": "3.9.6"
  }
 },
 "nbformat": 4,
 "nbformat_minor": 5
}
