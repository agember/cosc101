{
 "cells": [
  {
   "cell_type": "markdown",
   "id": "e3f73e0d-4654-4749-b02c-cac690b0b700",
   "metadata": {
    "slideshow": {
     "slide_type": "skip"
    },
    "tags": []
   },
   "source": [
    "# sentinel values\n",
    "_COSC 101, Introduction to Computing I, 2021-10-08_"
   ]
  },
  {
   "cell_type": "markdown",
   "id": "85e6cec0-348a-4c9f-8ce5-eb93f712bdb5",
   "metadata": {
    "slideshow": {
     "slide_type": "skip"
    },
    "tags": []
   },
   "source": [
    "## Announcements\n",
    "* Homework 5 due Thursday"
   ]
  },
  {
   "cell_type": "markdown",
   "id": "1d2ed5ca-5f88-4841-bdc2-d31cb8faba94",
   "metadata": {
    "slideshow": {
     "slide_type": "skip"
    },
    "tags": [
     "notes-only"
    ]
   },
   "source": [
    "## Outline\n",
    "* Warm-up\n",
    "* Loops patterns"
   ]
  },
  {
   "cell_type": "markdown",
   "id": "ec03c7b3-2e6d-4a4b-a4ef-cd825897877e",
   "metadata": {
    "slideshow": {
     "slide_type": "slide"
    },
    "tags": []
   },
   "source": [
    "## Warm-up\n",
    "_Write a function called `lazy_divide` that takes a dividend and a divisor (both integers) and uses subtraction to compute the result of performing integer division._"
   ]
  },
  {
   "cell_type": "code",
   "execution_count": 17,
   "id": "f9399d48-a9a5-4663-8fa8-87519ee7182b",
   "metadata": {
    "slideshow": {
     "slide_type": "skip"
    },
    "tags": [
     "notes-only"
    ]
   },
   "outputs": [],
   "source": [
    "def lazy_divide(dividend, divisor):\n",
    "    \"\"\"\n",
    "    >>> lazy_divide(6, 2)\n",
    "    3\n",
    "    >>> lazy_divide(16, 4)\n",
    "    4\n",
    "    >>> lazy_divide(7, 2)\n",
    "    3\n",
    "    \"\"\"\n",
    "    quotient = 0\n",
    "    while (dividend >= divisor):\n",
    "        dividend = dividend - divisor\n",
    "        quotient = quotient + 1\n",
    "    return quotient"
   ]
  },
  {
   "cell_type": "markdown",
   "id": "03ff5538-dd6a-4355-a53f-0feea4825540",
   "metadata": {
    "slideshow": {
     "slide_type": "skip"
    },
    "tags": [
     "worksheet-only"
    ]
   },
   "source": [
    "```\n",
    "\n",
    "\n",
    "\n",
    "\n",
    "\n",
    "\n",
    "\n",
    "\n",
    "\n",
    "\n",
    "\n",
    "```\n",
    "🛑 **STOP HERE** after completing the warm-up; please **DO NOT WORK AHEAD**. If you have extra time, work on the extra practice problems at the end of the worksheet."
   ]
  },
  {
   "cell_type": "markdown",
   "id": "a81d2530-a910-413e-9296-0a476ce16fee",
   "metadata": {
    "slideshow": {
     "slide_type": "slide"
    },
    "tags": [
     "notes-only"
    ]
   },
   "source": [
    "## Practice writing while loops (continued)\n",
    "\\#1) _Write a function called `ask_words` that takes an integer and prompts the user to enter words (one word at a time) until the total number of characters entered equals or exceeds the provided number._"
   ]
  },
  {
   "cell_type": "code",
   "execution_count": 10,
   "id": "3cfb5661-e680-4307-b287-c355c20de6a3",
   "metadata": {
    "slideshow": {
     "slide_type": "skip"
    },
    "tags": [
     "notes-only"
    ]
   },
   "outputs": [],
   "source": [
    "def ask_words(target):\n",
    "    count = 0\n",
    "    while (count < target):\n",
    "        word = input(\"Enter a word: \")\n",
    "        count = count + len(word)"
   ]
  },
  {
   "cell_type": "markdown",
   "id": "8a17d639-39fe-4c13-a620-6f68ffe8420d",
   "metadata": {
    "slideshow": {
     "slide_type": "subslide"
    },
    "tags": [
     "notes-only"
    ]
   },
   "source": [
    "\\#2) _In the biological process of cell division, a parent cell divides into two daughter cells. Each of these two daughter cells then divides into two grandaughter cells. Each of these four grandaughter cells then divides into two great-grandaughter cells, etc. In other words, the total number of cells doubles with each round of cell division. Write a function called `cells` that takes a number of rounds of cell division that occur and returns the total number of cells that exist after the specified number of rounds. Assume you start with a single cell._"
   ]
  },
  {
   "cell_type": "code",
   "execution_count": 14,
   "id": "07e32f34-e604-43f5-bee5-dd08bbe03d4d",
   "metadata": {
    "slideshow": {
     "slide_type": "skip"
    },
    "tags": [
     "notes-only"
    ]
   },
   "outputs": [],
   "source": [
    "def cells(rounds):\n",
    "    \"\"\"\n",
    "    Determines the number of cells that will exist after the specified number of rounds of cell division\n",
    "    \n",
    "    >>> cells(0)\n",
    "    1\n",
    "    >>> cells(1)\n",
    "    2\n",
    "    >>> cells(2)\n",
    "    4\n",
    "    >>> cells(5)\n",
    "    32\n",
    "    \"\"\"\n",
    "    total = 1\n",
    "    while (rounds > 0):\n",
    "        total = total * 2\n",
    "        rounds = rounds - 1\n",
    "    return total"
   ]
  },
  {
   "cell_type": "markdown",
   "id": "8df220b3-a410-4fe9-8b09-d3a277946a3c",
   "metadata": {
    "slideshow": {
     "slide_type": "fragment"
    },
    "tags": [
     "notes-only"
    ]
   },
   "source": [
    "\\#3) _Again, consider the biological process of cell division. Write a function called `rounds` that takes the number of cells that should exist, and computes the number of rounds of cell division that must occur to have at least that many cells (asuming you started with a single cell)._"
   ]
  },
  {
   "cell_type": "code",
   "execution_count": 15,
   "id": "e01e9bff-e452-4535-a56a-149b08a633ba",
   "metadata": {
    "slideshow": {
     "slide_type": "skip"
    },
    "tags": [
     "notes-only"
    ]
   },
   "outputs": [],
   "source": [
    "def rounds(target):\n",
    "    \"\"\"\n",
    "    Determines the number of rounds of cell division that must occur to have the target number of cells\n",
    "    \n",
    "    >>> rounds(1)\n",
    "    0\n",
    "    >>> rounds(2)\n",
    "    1\n",
    "    >>> rounds(4)\n",
    "    2\n",
    "    >>> rounds(5)\n",
    "    3\n",
    "    \"\"\"\n",
    "    cells = 1\n",
    "    count = 0\n",
    "    while cells < target:\n",
    "        cells = cells * 2\n",
    "        count = count + 1\n",
    "    return count"
   ]
  },
  {
   "cell_type": "markdown",
   "id": "2bab328b-d470-44b1-9e4a-3fb96ba8cf92",
   "metadata": {
    "slideshow": {
     "slide_type": "skip"
    },
    "tags": []
   },
   "source": [
    "## Loop patterns"
   ]
  },
  {
   "cell_type": "markdown",
   "id": "b807f5e1-f86e-43c9-b991-c62d994e5e1b",
   "metadata": {
    "slideshow": {
     "slide_type": "slide"
    },
    "tags": []
   },
   "source": [
    "### Accumulator pattern"
   ]
  },
  {
   "cell_type": "markdown",
   "id": "3888a6fd-9b41-40fe-9a81-fe01f15488c8",
   "metadata": {
    "slideshow": {
     "slide_type": "skip"
    },
    "tags": [
     "notes-only"
    ]
   },
   "source": [
    "* You want to build a string or calculate a total in steps --> use a loop\n",
    "* On each iteration, the loop should integrate the next value into the exist value\n",
    "* Applying the pattern\n",
    "    * Assign an initial value (e.g., `0` or `\"\"`) to the the accumulator variable befor the loop\n",
    "    * Update the accumulator variable's value in the body of the loop\n",
    "    * After the loop finishes (i.e., all iterations have completed), the variable should hold the final desired value\n",
    "* Example"
   ]
  },
  {
   "cell_type": "code",
   "execution_count": 7,
   "id": "c660c49e-743a-4d48-ad93-c576dcd042bf",
   "metadata": {
    "tags": [
     "worksheet-code-only"
    ]
   },
   "outputs": [
    {
     "name": "stdout",
     "output_type": "stream",
     "text": [
      "Your temporary security code is 512075\n"
     ]
    }
   ],
   "source": [
    "import random\n",
    "code = \"\"\n",
    "while len(code) < 6:\n",
    "    digit = random.randint(0,9)\n",
    "    code = code + str(digit)\n",
    "print(\"Your temporary security code is\", code)"
   ]
  },
  {
   "cell_type": "markdown",
   "id": "ff120348-e813-4dbb-9c7c-545a82c58c6b",
   "metadata": {
    "slideshow": {
     "slide_type": "skip"
    },
    "tags": [
     "notes-only"
    ]
   },
   "source": [
    "**Sign-up for multi-factor authentication at https://myaccount.colgate.edu/duo**"
   ]
  },
  {
   "cell_type": "markdown",
   "id": "62fbafe2-6452-45c2-b07e-50904bcac1ec",
   "metadata": {
    "slideshow": {
     "slide_type": "subslide"
    },
    "tags": []
   },
   "source": [
    "### Sentinel pattern"
   ]
  },
  {
   "cell_type": "markdown",
   "id": "bfe1bdb4-fbc8-45ca-b729-b62603ea2d62",
   "metadata": {
    "slideshow": {
     "slide_type": "skip"
    },
    "tags": [
     "notes-only"
    ]
   },
   "source": [
    "* You want to prompt a user for input multiple times, but you don’t know how many times to prompt the user --> use a while loop\n",
    "* To signal they are done entering input, the user enters a predetermined value (e.g., `0`) called the _sentinel value_, which causes the loop to terminte\n",
    "* Applying the pattern\n",
    "    * Assign the value `True` to a variable (called the _sentinel variable_) before the while loop\n",
    "    * Use the sentinel variable as the condition for the while loop\n",
    "    * In the loop body, prompt for input\n",
    "    * If the user entered the sentinel value, re-assign the value `False` to the sentinel variable; Otherwise, process the input as desired\n",
    "* Example:"
   ]
  },
  {
   "cell_type": "code",
   "execution_count": 2,
   "id": "d27f29a3-e7e2-42a5-8e87-e2298a3abf77",
   "metadata": {
    "tags": [
     "worksheet-code-only"
    ]
   },
   "outputs": [
    {
     "name": "stdin",
     "output_type": "stream",
     "text": [
      "Enter a positive number (or -1 if finished): 5\n"
     ]
    },
    {
     "name": "stdout",
     "output_type": "stream",
     "text": [
      "You entered 5\n"
     ]
    },
    {
     "name": "stdin",
     "output_type": "stream",
     "text": [
      "Enter a positive number (or -1 if finished): 3\n"
     ]
    },
    {
     "name": "stdout",
     "output_type": "stream",
     "text": [
      "You entered 3\n"
     ]
    },
    {
     "name": "stdin",
     "output_type": "stream",
     "text": [
      "Enter a positive number (or -1 if finished): 9\n"
     ]
    },
    {
     "name": "stdout",
     "output_type": "stream",
     "text": [
      "You entered 9\n"
     ]
    },
    {
     "name": "stdin",
     "output_type": "stream",
     "text": [
      "Enter a positive number (or -1 if finished): -1\n"
     ]
    },
    {
     "name": "stdout",
     "output_type": "stream",
     "text": [
      "Done\n"
     ]
    }
   ],
   "source": [
    "sentinel = True\n",
    "while sentinel:\n",
    "    num = int(input(\"Enter a positive number (or -1 if finished):\"))\n",
    "    if num == -1:\n",
    "        sentinel = False\n",
    "    else:\n",
    "       print(\"You entered\", num)\n",
    "print(\"Done\")"
   ]
  },
  {
   "cell_type": "markdown",
   "id": "6b91e21f-2e52-41c2-a3f6-91c71c84e4b4",
   "metadata": {
    "slideshow": {
     "slide_type": "subslide"
    },
    "tags": []
   },
   "source": [
    "### Polling pattern"
   ]
  },
  {
   "cell_type": "markdown",
   "id": "e3694d62-a2c2-4ae6-a17e-e5a63d54fc95",
   "metadata": {
    "slideshow": {
     "slide_type": "skip"
    },
    "tags": [
     "notes-only"
    ]
   },
   "source": [
    "* You want to prompt a user for input and keep re-prompting until they enter a valid value --> use a while loop\n",
    "* The loop condition should check whether the entered value is invalid\n",
    "* Applying the pattern\n",
    "    * Initialize a variable (called the input variable) to an invalid input value (e.g., `\"\"`)\n",
    "    * The condition for the while loop should check if the value is invalid (e.g., is not a specific character)\n",
    "    * In the loop body, prompt for input and assign the input to the input variable\n",
    "* Example"
   ]
  },
  {
   "cell_type": "code",
   "execution_count": 4,
   "id": "e4e0baef-6b7a-45e9-8308-aae1443671ad",
   "metadata": {
    "tags": [
     "worksheet-code-only"
    ]
   },
   "outputs": [
    {
     "name": "stdin",
     "output_type": "stream",
     "text": [
      "Do you want A, B, or C?  D\n",
      "Do you want A, B, or C?  X\n",
      "Do you want A, B, or C?  B\n"
     ]
    },
    {
     "name": "stdout",
     "output_type": "stream",
     "text": [
      "You chose B\n"
     ]
    }
   ],
   "source": [
    "choice = \"\"\n",
    "while choice != \"A\" and choice != \"B\" and choice != \"C\":\n",
    "    choice = input(\"Do you want A, B, or C? \")\n",
    "print(\"You chose \" + choice)"
   ]
  },
  {
   "cell_type": "markdown",
   "id": "819c41c3-672f-4325-b048-7a24121cd145",
   "metadata": {
    "slideshow": {
     "slide_type": "slide"
    },
    "tags": []
   },
   "source": [
    "### Selecting a pattern\n",
    "_For each of the following scenarios, indicate which loop pattern you should apply. (You **do not** need to write any code.)_"
   ]
  },
  {
   "cell_type": "markdown",
   "id": "15689a0a-1eb0-4e55-98d2-78fcfa427ca8",
   "metadata": {
    "tags": []
   },
   "source": [
    "\\#1) _Write a function called `acronym` that takes a multi-word phrase and returns a string containing the first letter of each word in the phrase._"
   ]
  },
  {
   "cell_type": "markdown",
   "id": "c7dfcc12-7a8b-4a1b-a6c4-620cd5e9e7e1",
   "metadata": {
    "slideshow": {
     "slide_type": "skip"
    },
    "tags": [
     "notes-only"
    ]
   },
   "source": [
    "Accumulator pattern — accumulate a string"
   ]
  },
  {
   "cell_type": "markdown",
   "id": "3f91c24b-3008-45ad-987e-903c4d8b5f7c",
   "metadata": {
    "slideshow": {
     "slide_type": "skip"
    },
    "tags": [
     "worksheet-only"
    ]
   },
   "source": [
    "```\n",
    "\n",
    "```"
   ]
  },
  {
   "cell_type": "markdown",
   "id": "7cf7088d-215e-4bc0-9c9e-d31ebeeab2cc",
   "metadata": {
    "slideshow": {
     "slide_type": "fragment"
    },
    "tags": []
   },
   "source": [
    "\\#2) _Write a function called `ask_questions` that takes a yes/no question and returns `True` or `False` depending on whether the user answered yes or no, respectively._"
   ]
  },
  {
   "cell_type": "markdown",
   "id": "724cb4fa-389a-4b78-84b7-3be90b812c7c",
   "metadata": {
    "slideshow": {
     "slide_type": "skip"
    },
    "tags": [
     "notes-only"
    ]
   },
   "source": [
    "Polling pattern — user must answer yes or no"
   ]
  },
  {
   "cell_type": "markdown",
   "id": "08cd5d8d-a09d-41c9-9137-565da9be800b",
   "metadata": {
    "slideshow": {
     "slide_type": "skip"
    },
    "tags": [
     "worksheet-only"
    ]
   },
   "source": [
    "```\n",
    "\n",
    "```"
   ]
  },
  {
   "cell_type": "markdown",
   "id": "68fdd7c1-efe4-41ab-b5a9-ad711833502c",
   "metadata": {
    "slideshow": {
     "slide_type": "fragment"
    },
    "tags": []
   },
   "source": [
    "\\#3) _Create a modified `main` function for homework 4 that **does not** ask for the number of customers ahead of time and **does not** print the total amount billed after all customers' information has been entered._"
   ]
  },
  {
   "cell_type": "markdown",
   "id": "c526128d-52e4-4f71-b6e4-2911e800058e",
   "metadata": {
    "slideshow": {
     "slide_type": "skip"
    },
    "tags": [
     "notes-only"
    ]
   },
   "source": [
    "Sentinel pattern — continue asking for customer information until user enters billing code `f` (for finished)"
   ]
  },
  {
   "cell_type": "markdown",
   "id": "5f95eed3-416e-4257-b06a-e5fb0831552c",
   "metadata": {
    "slideshow": {
     "slide_type": "skip"
    },
    "tags": [
     "worksheet-only"
    ]
   },
   "source": [
    "```\n",
    "\n",
    "```"
   ]
  },
  {
   "cell_type": "markdown",
   "id": "4931b47c-70ea-445e-9202-6e698e50def6",
   "metadata": {
    "slideshow": {
     "slide_type": "fragment"
    },
    "tags": []
   },
   "source": [
    "\\#4) _Create a modified `one_customer` function for homework 4 that asks the user to enter a new billing code and/or meter reading if they enter an invalid billing code or meter reading._"
   ]
  },
  {
   "cell_type": "markdown",
   "id": "86c77520-50a3-473f-bd8b-d178b38735d7",
   "metadata": {
    "slideshow": {
     "slide_type": "skip"
    },
    "tags": [
     "notes-only"
    ]
   },
   "source": [
    "Polling pattern — user must enter a valid billing code and meter readings"
   ]
  },
  {
   "cell_type": "markdown",
   "id": "98c3dff8-c384-4f75-a757-31a8cbb0befe",
   "metadata": {
    "slideshow": {
     "slide_type": "skip"
    },
    "tags": [
     "worksheet-only"
    ]
   },
   "source": [
    "```\n",
    "\n",
    "```"
   ]
  },
  {
   "cell_type": "markdown",
   "id": "b188e4f1-9ca1-4bd9-9c80-3a18ffe75064",
   "metadata": {
    "slideshow": {
     "slide_type": "subslide"
    },
    "tags": []
   },
   "source": [
    "\\#5) _Write a function called `get_day_of_year` that prompts the user to enter a day of the year and returns a valid day of the year (1 through 365) as an integer._"
   ]
  },
  {
   "cell_type": "markdown",
   "id": "b6a3500c-d78e-4926-b965-59fce951649c",
   "metadata": {
    "slideshow": {
     "slide_type": "skip"
    },
    "tags": [
     "notes-only"
    ]
   },
   "source": [
    "Polling pattern — user must enter a number between 1 and 365 (inclusive)"
   ]
  },
  {
   "cell_type": "markdown",
   "id": "5b4ed0e1-3851-4d76-9b77-d96f42370a96",
   "metadata": {
    "slideshow": {
     "slide_type": "skip"
    },
    "tags": [
     "worksheet-only"
    ]
   },
   "source": [
    "```\n",
    "\n",
    "```"
   ]
  },
  {
   "cell_type": "markdown",
   "id": "3cfd2c9a-c8e8-433f-baf0-5900abd8cc6c",
   "metadata": {
    "slideshow": {
     "slide_type": "fragment"
    },
    "tags": []
   },
   "source": [
    "\\#6) _Write a function called `get_max_digit` that takes a string of digits and returns the largest digit. For example, `get_max_digit(\"3142\")` should return `4`._"
   ]
  },
  {
   "cell_type": "markdown",
   "id": "9875f67a-e246-4644-94a2-fa2df7bff2be",
   "metadata": {
    "slideshow": {
     "slide_type": "skip"
    },
    "tags": [
     "notes-only"
    ]
   },
   "source": [
    "Accumulator pattern — \"accumulate\" the max"
   ]
  },
  {
   "cell_type": "markdown",
   "id": "7349e141-0848-469a-914c-7c6f2b38f37e",
   "metadata": {
    "slideshow": {
     "slide_type": "skip"
    },
    "tags": [
     "worksheet-only"
    ]
   },
   "source": [
    "```\n",
    "\n",
    "```"
   ]
  },
  {
   "cell_type": "markdown",
   "id": "e929a842-2b7b-4a24-aff7-e55a16615716",
   "metadata": {
    "slideshow": {
     "slide_type": "fragment"
    },
    "tags": []
   },
   "source": [
    "\\#7) _Write a function called `total_caffeine` that asks the user to enter the milligrams (mg) of caffeine for each beverage they consumed in a day until the user indicates they are done consuming beverages. The function should return the total caffeine consumed._"
   ]
  },
  {
   "cell_type": "markdown",
   "id": "8c4e803e-c273-475d-821b-ae1e27e77839",
   "metadata": {
    "slideshow": {
     "slide_type": "skip"
    },
    "tags": [
     "notes-only"
    ]
   },
   "source": [
    "Sentinel pattern — continue asking for caffeine amount until user enters `-1`\n",
    "\n",
    "Accumulator pattern — accumulating total caffeine consumed"
   ]
  },
  {
   "cell_type": "markdown",
   "id": "99ae3ee7-f8c1-4c6b-9669-118a1e6605da",
   "metadata": {
    "slideshow": {
     "slide_type": "skip"
    },
    "tags": [
     "worksheet-only"
    ]
   },
   "source": [
    "```\n",
    "\n",
    "```"
   ]
  },
  {
   "cell_type": "markdown",
   "id": "8212ffac-95c1-4331-bc35-905e86396185",
   "metadata": {
    "slideshow": {
     "slide_type": "skip"
    },
    "tags": []
   },
   "source": [
    "## Extra practice\n",
    "_Discount Airlines, Inc. has asked you to write a Python program to help its customers calculate how many reward miles they have earned. Your program should repeatedly ask the user for the distance of a flight until the user enters 0. Then your program will output the total number of miles flown and whether the customer achieved bronze (less than 20,000 miles flow) or silver (at least 20,000 miles flow) status._"
   ]
  },
  {
   "cell_type": "code",
   "execution_count": null,
   "id": "a1ec7e9f-205b-4a70-97a4-7193b63be13d",
   "metadata": {
    "slideshow": {
     "slide_type": "skip"
    },
    "tags": [
     "notes-only"
    ]
   },
   "outputs": [],
   "source": [
    "more_flights = True\n",
    "total_distance = 0\n",
    "count = 0\n",
    "while more_flights:\n",
    "    dist = int(input(\"What was the distance of flight \" + str(count + 1) + \"? \"))\n",
    "    if dist == 0:\n",
    "        more_flights = False\n",
    "    else:\n",
    "        count = count + 1\n",
    "        total_distance = total_distance + dist\n",
    "print(\"You flew\", str(total_distance), \"miles.\")\n",
    "if total_distance < 20000:\n",
    "    print(\"You earned bronze status.\")\n",
    "else:\n",
    "    print(\"You earned silver status.\")"
   ]
  }
 ],
 "metadata": {
  "kernelspec": {
   "display_name": "Python 3 (ipykernel)",
   "language": "python",
   "name": "python3"
  },
  "language_info": {
   "codemirror_mode": {
    "name": "ipython",
    "version": 3
   },
   "file_extension": ".py",
   "mimetype": "text/x-python",
   "name": "python",
   "nbconvert_exporter": "python",
   "pygments_lexer": "ipython3",
   "version": "3.8.2"
  }
 },
 "nbformat": 4,
 "nbformat_minor": 5
}
