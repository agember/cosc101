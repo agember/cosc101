{
 "cells": [
  {
   "cell_type": "markdown",
   "id": "0b065171-2e0d-4d80-a6f8-4c5d4162ee6a",
   "metadata": {
    "slideshow": {
     "slide_type": "skip"
    },
    "tags": []
   },
   "source": [
    "# review\n",
    "_COSC 101, Introduction to Computing I, 2021-12-08_"
   ]
  },
  {
   "cell_type": "markdown",
   "id": "46a71d18-3de0-4b4e-8cc5-74ea72822355",
   "metadata": {
    "slideshow": {
     "slide_type": "skip"
    },
    "tags": []
   },
   "source": [
    "## Announcements\n",
    "* Final exam Tuesday 12pm-2pm\n",
    "* Office hours\n",
    "    * Today 10:15am-11:45am\n",
    "    * Monday 12pm-4pm\n",
    "* Attend faculty candidate research talks\n",
    "    * 11:20am Wed, Dec 15\n",
    "    * Earn 2 points of extra credit on final exam for each talk you attend (earnings capped at 4 points)"
   ]
  },
  {
   "cell_type": "markdown",
   "id": "74c399c4-bd3a-40ef-9cfc-e0c110de92b1",
   "metadata": {},
   "source": [
    "## Final exam topics\n",
    "* The final exam is *cumulative* and encompasses all topics covered by earlier exams.\n",
    "* The *new* concepts since the last exam include:\n",
    "    * dictionaries\n",
    "    * use of data structures (list, dictionaries) in different types of problems\n",
    "    * machine learning"
   ]
  },
  {
   "cell_type": "markdown",
   "id": "0f4ddcaf-0cf3-412d-8b40-4f3bfdedcc3c",
   "metadata": {},
   "source": [
    "## Dictionaries and lists\n",
    "*What is the output of the following programs?*"
   ]
  },
  {
   "cell_type": "code",
   "execution_count": 1,
   "id": "dd8950d2-7611-4232-8754-7e736d9673b0",
   "metadata": {
    "tags": [
     "worksheet-code-only"
    ]
   },
   "outputs": [
    {
     "name": "stdout",
     "output_type": "stream",
     "text": [
      "b.a\n",
      "a.y\n"
     ]
    },
    {
     "ename": "KeyError",
     "evalue": "3",
     "output_type": "error",
     "traceback": [
      "\u001b[0;31m---------------------------------------------------------------------------\u001b[0m",
      "\u001b[0;31mKeyError\u001b[0m                                  Traceback (most recent call last)",
      "\u001b[0;32m<ipython-input-1-93030741e6ec>\u001b[0m in \u001b[0;36m<module>\u001b[0;34m\u001b[0m\n\u001b[1;32m      9\u001b[0m \u001b[0mprint\u001b[0m\u001b[0;34m(\u001b[0m\u001b[0mlookup\u001b[0m\u001b[0;34m(\u001b[0m\u001b[0;34m[\u001b[0m\u001b[0;36m2\u001b[0m\u001b[0;34m,\u001b[0m \u001b[0;36m4\u001b[0m\u001b[0;34m]\u001b[0m\u001b[0;34m,\u001b[0m \u001b[0md\u001b[0m\u001b[0;34m)\u001b[0m\u001b[0;34m)\u001b[0m\u001b[0;34m\u001b[0m\u001b[0;34m\u001b[0m\u001b[0m\n\u001b[1;32m     10\u001b[0m \u001b[0mprint\u001b[0m\u001b[0;34m(\u001b[0m\u001b[0mlookup\u001b[0m\u001b[0;34m(\u001b[0m\u001b[0;34m[\u001b[0m\u001b[0;36m1\u001b[0m\u001b[0;34m,\u001b[0m \u001b[0;36m8\u001b[0m\u001b[0;34m]\u001b[0m\u001b[0;34m,\u001b[0m \u001b[0md\u001b[0m\u001b[0;34m)\u001b[0m\u001b[0;34m)\u001b[0m\u001b[0;34m\u001b[0m\u001b[0;34m\u001b[0m\u001b[0m\n\u001b[0;32m---> 11\u001b[0;31m \u001b[0mprint\u001b[0m\u001b[0;34m(\u001b[0m\u001b[0mlookup\u001b[0m\u001b[0;34m(\u001b[0m\u001b[0;34m[\u001b[0m\u001b[0;36m1\u001b[0m\u001b[0;34m,\u001b[0m \u001b[0;36m2\u001b[0m\u001b[0;34m,\u001b[0m \u001b[0;36m3\u001b[0m\u001b[0;34m,\u001b[0m \u001b[0;36m4\u001b[0m\u001b[0;34m]\u001b[0m\u001b[0;34m,\u001b[0m \u001b[0md\u001b[0m\u001b[0;34m)\u001b[0m\u001b[0;34m)\u001b[0m\u001b[0;34m\u001b[0m\u001b[0;34m\u001b[0m\u001b[0m\n\u001b[0m",
      "\u001b[0;32m<ipython-input-1-93030741e6ec>\u001b[0m in \u001b[0;36mlookup\u001b[0;34m(lst, dct)\u001b[0m\n\u001b[1;32m      2\u001b[0m     \u001b[0mr\u001b[0m \u001b[0;34m=\u001b[0m \u001b[0;34m''\u001b[0m\u001b[0;34m\u001b[0m\u001b[0;34m\u001b[0m\u001b[0m\n\u001b[1;32m      3\u001b[0m     \u001b[0;32mfor\u001b[0m \u001b[0mi\u001b[0m \u001b[0;32min\u001b[0m \u001b[0mlst\u001b[0m\u001b[0;34m:\u001b[0m\u001b[0;34m\u001b[0m\u001b[0;34m\u001b[0m\u001b[0m\n\u001b[0;32m----> 4\u001b[0;31m         \u001b[0mr\u001b[0m \u001b[0;34m+=\u001b[0m \u001b[0mdct\u001b[0m\u001b[0;34m[\u001b[0m\u001b[0mi\u001b[0m\u001b[0;34m]\u001b[0m \u001b[0;34m+\u001b[0m \u001b[0;34m'.'\u001b[0m\u001b[0;34m\u001b[0m\u001b[0;34m\u001b[0m\u001b[0m\n\u001b[0m\u001b[1;32m      5\u001b[0m     \u001b[0;32mreturn\u001b[0m \u001b[0mr\u001b[0m\u001b[0;34m[\u001b[0m\u001b[0;34m:\u001b[0m\u001b[0;34m-\u001b[0m\u001b[0;36m1\u001b[0m\u001b[0;34m]\u001b[0m\u001b[0;34m\u001b[0m\u001b[0;34m\u001b[0m\u001b[0m\n\u001b[1;32m      6\u001b[0m \u001b[0;34m\u001b[0m\u001b[0m\n",
      "\u001b[0;31mKeyError\u001b[0m: 3"
     ]
    }
   ],
   "source": [
    "#1)\n",
    "def lookup(lst, dct):\n",
    "    r = ''\n",
    "    for i in lst:\n",
    "        r += dct[i] + '.'\n",
    "    return r[:-1]\n",
    "\n",
    "c = 'May'\n",
    "d = {1: 'a', 2: 'b', 8: c[-1], 4: c[1]}\n",
    "print(lookup([2, 4], d))\n",
    "print(lookup([1, 8], d))\n",
    "print(lookup([1, 2, 3, 4], d))"
   ]
  },
  {
   "cell_type": "markdown",
   "id": "a3e512a4-2edb-4b9f-bb08-fef84719f0c5",
   "metadata": {
    "tags": [
     "worksheet-only"
    ]
   },
   "source": [
    "<div style=\"page-break-after:always;\"></div>"
   ]
  },
  {
   "cell_type": "code",
   "execution_count": 2,
   "id": "970f552b-4e49-44af-9eb6-67b4b969240b",
   "metadata": {
    "tags": [
     "worksheet-code-only"
    ]
   },
   "outputs": [
    {
     "name": "stdout",
     "output_type": "stream",
     "text": [
      "{'a': [1], 'b': [2]}\n",
      "{'a': [1], 'b': [2]}\n",
      "{'a': [1], 'b': [2, 3, 5], 'c': [4]}\n"
     ]
    },
    {
     "ename": "IndexError",
     "evalue": "list index out of range",
     "output_type": "error",
     "traceback": [
      "\u001b[0;31m---------------------------------------------------------------------------\u001b[0m",
      "\u001b[0;31mIndexError\u001b[0m                                Traceback (most recent call last)",
      "\u001b[0;32m<ipython-input-2-b223dabdaa87>\u001b[0m in \u001b[0;36m<module>\u001b[0;34m\u001b[0m\n\u001b[1;32m     13\u001b[0m \u001b[0md3\u001b[0m \u001b[0;34m=\u001b[0m \u001b[0minsert\u001b[0m\u001b[0;34m(\u001b[0m\u001b[0;34m[\u001b[0m\u001b[0;34m'b'\u001b[0m\u001b[0;34m,\u001b[0m \u001b[0;34m'c'\u001b[0m\u001b[0;34m,\u001b[0m \u001b[0;34m'b'\u001b[0m\u001b[0;34m]\u001b[0m\u001b[0;34m,\u001b[0m \u001b[0;34m[\u001b[0m\u001b[0;36m3\u001b[0m\u001b[0;34m,\u001b[0m \u001b[0;36m4\u001b[0m\u001b[0;34m,\u001b[0m \u001b[0;36m5\u001b[0m\u001b[0;34m,\u001b[0m \u001b[0;36m6\u001b[0m\u001b[0;34m]\u001b[0m\u001b[0;34m,\u001b[0m \u001b[0md2\u001b[0m\u001b[0;34m)\u001b[0m\u001b[0;34m\u001b[0m\u001b[0;34m\u001b[0m\u001b[0m\n\u001b[1;32m     14\u001b[0m \u001b[0mprint\u001b[0m\u001b[0;34m(\u001b[0m\u001b[0md3\u001b[0m\u001b[0;34m)\u001b[0m\u001b[0;34m\u001b[0m\u001b[0;34m\u001b[0m\u001b[0m\n\u001b[0;32m---> 15\u001b[0;31m \u001b[0md4\u001b[0m \u001b[0;34m=\u001b[0m \u001b[0minsert\u001b[0m\u001b[0;34m(\u001b[0m\u001b[0;34m[\u001b[0m\u001b[0;34m'd'\u001b[0m\u001b[0;34m,\u001b[0m \u001b[0;34m'e'\u001b[0m\u001b[0;34m]\u001b[0m\u001b[0;34m,\u001b[0m \u001b[0;34m[\u001b[0m\u001b[0;36m7\u001b[0m\u001b[0;34m]\u001b[0m\u001b[0;34m,\u001b[0m \u001b[0md3\u001b[0m\u001b[0;34m)\u001b[0m\u001b[0;34m\u001b[0m\u001b[0;34m\u001b[0m\u001b[0m\n\u001b[0m\u001b[1;32m     16\u001b[0m \u001b[0mprint\u001b[0m\u001b[0;34m(\u001b[0m\u001b[0md4\u001b[0m\u001b[0;34m)\u001b[0m\u001b[0;34m\u001b[0m\u001b[0;34m\u001b[0m\u001b[0m\n",
      "\u001b[0;32m<ipython-input-2-b223dabdaa87>\u001b[0m in \u001b[0;36minsert\u001b[0;34m(lst1, lst2, dct)\u001b[0m\n\u001b[1;32m      2\u001b[0m     \u001b[0;32mfor\u001b[0m \u001b[0mi\u001b[0m \u001b[0;32min\u001b[0m \u001b[0mrange\u001b[0m\u001b[0;34m(\u001b[0m\u001b[0mlen\u001b[0m\u001b[0;34m(\u001b[0m\u001b[0mlst1\u001b[0m\u001b[0;34m)\u001b[0m\u001b[0;34m)\u001b[0m\u001b[0;34m:\u001b[0m\u001b[0;34m\u001b[0m\u001b[0;34m\u001b[0m\u001b[0m\n\u001b[1;32m      3\u001b[0m         \u001b[0;32mif\u001b[0m \u001b[0mlst1\u001b[0m\u001b[0;34m[\u001b[0m\u001b[0mi\u001b[0m\u001b[0;34m]\u001b[0m \u001b[0;32mnot\u001b[0m \u001b[0;32min\u001b[0m \u001b[0mdct\u001b[0m\u001b[0;34m:\u001b[0m\u001b[0;34m\u001b[0m\u001b[0;34m\u001b[0m\u001b[0m\n\u001b[0;32m----> 4\u001b[0;31m             \u001b[0mdct\u001b[0m\u001b[0;34m[\u001b[0m\u001b[0mlst1\u001b[0m\u001b[0;34m[\u001b[0m\u001b[0mi\u001b[0m\u001b[0;34m]\u001b[0m\u001b[0;34m]\u001b[0m \u001b[0;34m=\u001b[0m \u001b[0;34m[\u001b[0m\u001b[0mlst2\u001b[0m\u001b[0;34m[\u001b[0m\u001b[0mi\u001b[0m\u001b[0;34m]\u001b[0m\u001b[0;34m]\u001b[0m\u001b[0;34m\u001b[0m\u001b[0;34m\u001b[0m\u001b[0m\n\u001b[0m\u001b[1;32m      5\u001b[0m         \u001b[0;32melse\u001b[0m\u001b[0;34m:\u001b[0m\u001b[0;34m\u001b[0m\u001b[0;34m\u001b[0m\u001b[0m\n\u001b[1;32m      6\u001b[0m             \u001b[0mdct\u001b[0m\u001b[0;34m[\u001b[0m\u001b[0mlst1\u001b[0m\u001b[0;34m[\u001b[0m\u001b[0mi\u001b[0m\u001b[0;34m]\u001b[0m\u001b[0;34m]\u001b[0m \u001b[0;34m+=\u001b[0m \u001b[0;34m[\u001b[0m\u001b[0mlst2\u001b[0m\u001b[0;34m[\u001b[0m\u001b[0mi\u001b[0m\u001b[0;34m]\u001b[0m\u001b[0;34m]\u001b[0m\u001b[0;34m\u001b[0m\u001b[0;34m\u001b[0m\u001b[0m\n",
      "\u001b[0;31mIndexError\u001b[0m: list index out of range"
     ]
    }
   ],
   "source": [
    "#2)\n",
    "def insert(lst1, lst2, dct):\n",
    "    for i in range(len(lst1)):\n",
    "        if lst1[i] not in dct:\n",
    "            dct[lst1[i]] = [lst2[i]]\n",
    "        else:\n",
    "            dct[lst1[i]] += [lst2[i]]\n",
    "    return dct\n",
    "\n",
    "d = {}\n",
    "d2 = insert(['a', 'b'], [1, 2], d)\n",
    "print(d)\n",
    "print(d2)\n",
    "d3 = insert(['b', 'c', 'b'], [3, 4, 5, 6], d2)\n",
    "print(d3)\n",
    "d4 = insert(['d', 'e'], [7], d3)\n",
    "print(d4)"
   ]
  },
  {
   "cell_type": "markdown",
   "id": "fc650df2-04ca-436d-8003-b4130dae03ed",
   "metadata": {
    "tags": [
     "worksheet-only"
    ]
   },
   "source": [
    "```\n",
    "\n",
    "\n",
    "\n",
    "```"
   ]
  },
  {
   "cell_type": "code",
   "execution_count": 1,
   "id": "cd8208a2-6888-405a-a94b-366a3eb3b369",
   "metadata": {
    "tags": [
     "worksheet-code-only"
    ]
   },
   "outputs": [
    {
     "name": "stdout",
     "output_type": "stream",
     "text": [
      "['b', 'd']\n",
      "{'a': [1, 2], 'b': [0, 1, 2], 'c': [0, 2]}\n"
     ]
    }
   ],
   "source": [
    "#3)\n",
    "def remove(lst, dct):\n",
    "    i = 0\n",
    "    while i < len(lst):\n",
    "        if lst[i] in dct:\n",
    "            dct[lst[i]].remove(i)\n",
    "            del lst[i]\n",
    "        i += 1\n",
    "\n",
    "lst1 = ['a', 'b', 'c', 'd']\n",
    "dct1 = {'a': [0, 1, 2], 'b': [0, 1, 2], 'c': [0, 1, 2]}\n",
    "remove(lst1, dct1)\n",
    "print(lst1)\n",
    "print(dct1)"
   ]
  },
  {
   "cell_type": "markdown",
   "id": "3008cbd0-b572-44ba-ab95-d013256533d2",
   "metadata": {
    "tags": [
     "worksheet-only"
    ]
   },
   "source": [
    "```\n",
    "\n",
    "\n",
    "\n",
    "```"
   ]
  },
  {
   "cell_type": "code",
   "execution_count": 2,
   "id": "340c66ec-da5b-4155-9166-fb2726be601e",
   "metadata": {
    "tags": [
     "worksheet-code-only"
    ]
   },
   "outputs": [
    {
     "name": "stdout",
     "output_type": "stream",
     "text": [
      "{'a': 'b', 'c': 'd', 'e': 'b'}\n",
      "{'b': 'e', 'd': 'c'}\n",
      "{'e': 'b', 'c': 'd'}\n"
     ]
    }
   ],
   "source": [
    "#4)\n",
    "def flip(dct1):\n",
    "    dct2 = {}\n",
    "    for i in dct1:\n",
    "        dct2[dct1[i]] = i\n",
    "    return dct2\n",
    "\n",
    "dctA = {'a': 'b', 'c': 'd', 'e': 'b'}\n",
    "dctB = flip(dctA)\n",
    "print(dctA)\n",
    "print(dctB)\n",
    "dctC = flip(dctB)\n",
    "print(dctC)"
   ]
  },
  {
   "cell_type": "markdown",
   "id": "2871558c-90d2-4663-b250-9ae88ed2cec8",
   "metadata": {
    "tags": [
     "worksheet-only"
    ]
   },
   "source": [
    "<div style=\"page-break-after:always;\"></div>"
   ]
  },
  {
   "cell_type": "markdown",
   "id": "540315cd-0340-4122-b6e9-6d062ce3cc8c",
   "metadata": {},
   "source": [
    "## Strings\n",
    "*Assume the following code has been executed:*"
   ]
  },
  {
   "cell_type": "code",
   "execution_count": 11,
   "id": "074220fb-c325-4d60-9323-a8985a4bd871",
   "metadata": {
    "tags": [
     "notes-only"
    ]
   },
   "outputs": [],
   "source": [
    "mystr = \"Sample string\""
   ]
  },
  {
   "cell_type": "markdown",
   "id": "3689da72-0d9e-4208-8508-cba3181832fd",
   "metadata": {},
   "source": [
    "_What is the output of each of the following epxressions?_"
   ]
  },
  {
   "cell_type": "code",
   "execution_count": 12,
   "id": "2dfd4dff-39b6-402b-9c28-1fcd2f615b46",
   "metadata": {
    "tags": [
     "worksheet-code-only"
    ]
   },
   "outputs": [
    {
     "data": {
      "text/plain": [
       "'g'"
      ]
     },
     "execution_count": 12,
     "metadata": {},
     "output_type": "execute_result"
    }
   ],
   "source": [
    "mystr[-1]"
   ]
  },
  {
   "cell_type": "markdown",
   "id": "cc6b361c-e1ce-4d21-b2d9-2da24f478489",
   "metadata": {
    "tags": [
     "worksheet-only"
    ]
   },
   "source": [
    "```\n",
    "\n",
    "```"
   ]
  },
  {
   "cell_type": "code",
   "execution_count": 13,
   "id": "f303c0bb-f93f-4b0e-a848-3aba6822f452",
   "metadata": {
    "tags": [
     "worksheet-code-only"
    ]
   },
   "outputs": [
    {
     "ename": "IndexError",
     "evalue": "string index out of range",
     "output_type": "error",
     "traceback": [
      "\u001b[0;31m---------------------------------------------------------------------------\u001b[0m",
      "\u001b[0;31mIndexError\u001b[0m                                Traceback (most recent call last)",
      "\u001b[0;32m<ipython-input-13-31ea7a37ee60>\u001b[0m in \u001b[0;36m<module>\u001b[0;34m\u001b[0m\n\u001b[0;32m----> 1\u001b[0;31m \u001b[0mmystr\u001b[0m\u001b[0;34m[\u001b[0m\u001b[0mlen\u001b[0m\u001b[0;34m(\u001b[0m\u001b[0mmystr\u001b[0m\u001b[0;34m)\u001b[0m\u001b[0;34m]\u001b[0m\u001b[0;34m\u001b[0m\u001b[0;34m\u001b[0m\u001b[0m\n\u001b[0m",
      "\u001b[0;31mIndexError\u001b[0m: string index out of range"
     ]
    }
   ],
   "source": [
    "mystr[len(mystr)]"
   ]
  },
  {
   "cell_type": "markdown",
   "id": "32e633bc-bfff-4b53-8f48-4ac2ad7e1b71",
   "metadata": {
    "tags": [
     "worksheet-only"
    ]
   },
   "source": [
    "```\n",
    "\n",
    "```"
   ]
  },
  {
   "cell_type": "code",
   "execution_count": 14,
   "id": "3bee237e-8e3a-4ee9-914b-19c77109f3de",
   "metadata": {
    "tags": [
     "worksheet-code-only"
    ]
   },
   "outputs": [
    {
     "data": {
      "text/plain": [
       "'Sang'"
      ]
     },
     "execution_count": 14,
     "metadata": {},
     "output_type": "execute_result"
    }
   ],
   "source": [
    "mystr[:2] + mystr[-2:]"
   ]
  },
  {
   "cell_type": "markdown",
   "id": "f8339096-1e63-48fa-8d1e-ac0cc5b0e9ec",
   "metadata": {
    "tags": [
     "worksheet-only"
    ]
   },
   "source": [
    "```\n",
    "\n",
    "```"
   ]
  },
  {
   "cell_type": "code",
   "execution_count": 15,
   "id": "aef25f67-e268-4bc9-a13a-cb9f973b2b14",
   "metadata": {
    "tags": [
     "worksheet-code-only"
    ]
   },
   "outputs": [
    {
     "data": {
      "text/plain": [
       "'Sample stringSample string'"
      ]
     },
     "execution_count": 15,
     "metadata": {},
     "output_type": "execute_result"
    }
   ],
   "source": [
    "mystr * 2"
   ]
  },
  {
   "cell_type": "markdown",
   "id": "ff8f3bd4-6856-4d85-98bf-30216483565a",
   "metadata": {
    "tags": [
     "worksheet-only"
    ]
   },
   "source": [
    "```\n",
    "\n",
    "```"
   ]
  },
  {
   "cell_type": "code",
   "execution_count": 16,
   "id": "357b992e-3d85-4728-ab23-3801ede8cf12",
   "metadata": {
    "tags": [
     "worksheet-code-only"
    ]
   },
   "outputs": [
    {
     "data": {
      "text/plain": [
       "'Sample_string'"
      ]
     },
     "execution_count": 16,
     "metadata": {},
     "output_type": "execute_result"
    }
   ],
   "source": [
    "\"_\".join(mystr.split())"
   ]
  },
  {
   "cell_type": "markdown",
   "id": "4ccd2c7e-642a-4876-9af8-d6f9f8a2aa38",
   "metadata": {
    "tags": [
     "worksheet-only"
    ]
   },
   "source": [
    "```\n",
    "\n",
    "```"
   ]
  },
  {
   "cell_type": "markdown",
   "id": "4e226ea8-0b89-489e-ac01-bf26d7ce8e59",
   "metadata": {},
   "source": [
    "## Aliasing\n",
    "*Which of the following are **pure** functions (i.e., they do not modify the original string or list passed to the function)?*"
   ]
  },
  {
   "cell_type": "code",
   "execution_count": 21,
   "id": "f31b309c-0f2f-46b9-9ee1-1796a9fc4f91",
   "metadata": {},
   "outputs": [],
   "source": [
    "def funcA(instr):\n",
    "    outstr = instr[:]\n",
    "    outstr = outstr.lower()\n",
    "    return outstr"
   ]
  },
  {
   "cell_type": "code",
   "execution_count": 22,
   "id": "bb1e4e5c-b947-4fbe-83f4-8a6956fd074f",
   "metadata": {},
   "outputs": [],
   "source": [
    "def funcB(insrt):\n",
    "    outstr = instr\n",
    "    oustr = outstr.upper()\n",
    "    return outstr"
   ]
  },
  {
   "cell_type": "code",
   "execution_count": 23,
   "id": "03f4e7a9-4820-4132-9038-f5daaa49b564",
   "metadata": {},
   "outputs": [],
   "source": [
    "def funcC(inlist):\n",
    "    outlist = inlist\n",
    "    outlist.append('New')\n",
    "    return outlist"
   ]
  },
  {
   "cell_type": "code",
   "execution_count": 24,
   "id": "48f633d5-506b-42fe-9ce3-fb11a53c8c7c",
   "metadata": {},
   "outputs": [],
   "source": [
    "def funcD(inlist):\n",
    "    outlist = inlist\n",
    "    outlist = outlist + ['New']\n",
    "    return outlist    "
   ]
  },
  {
   "cell_type": "code",
   "execution_count": 25,
   "id": "99f5d811-b98b-443f-b747-e11fcb402f51",
   "metadata": {},
   "outputs": [],
   "source": [
    "def funcE(inlist):\n",
    "    outlist = inlist[:]\n",
    "    outlist.extend(['New'])\n",
    "    return outlist"
   ]
  },
  {
   "cell_type": "markdown",
   "id": "ca76da32-498c-4add-88c5-139f47011c33",
   "metadata": {
    "tags": [
     "notes-only"
    ]
   },
   "source": [
    "All functions **except** `funcC` are pure functions"
   ]
  },
  {
   "cell_type": "markdown",
   "id": "3351d25a-f762-42be-bb1b-e48eaf65bae1",
   "metadata": {
    "tags": [
     "worksheet-only"
    ]
   },
   "source": [
    "<div style=\"page-break-after:always;\"></div>"
   ]
  },
  {
   "cell_type": "markdown",
   "id": "5a0558a6-7c88-4267-bb12-7dd3ab1ef6cb",
   "metadata": {
    "tags": []
   },
   "source": [
    "## Writing functions\n",
    "\\#1) *Write a function called `contains` that takes a string (`to_search`) and a list of strings (`to_find`) as parameters and returns the first string in `to_find` that also appears in `to_search`. If no strings in `to_find` appear in `to_search`, then return `None`. For example:*\n",
    "```\n",
    ">>> contains('penguin', ['hen', 'pen', 'egg', 'in'])\n",
    "'pen'\n",
    ">>> contains('giraffe', ['hen', 'pen', 'egg', 'in'])\n",
    "None\n",
    "```"
   ]
  },
  {
   "cell_type": "code",
   "execution_count": 52,
   "id": "6a1349a6-772c-4e2e-a036-0e1894dabdd0",
   "metadata": {
    "tags": [
     "notes-only"
    ]
   },
   "outputs": [
    {
     "name": "stdout",
     "output_type": "stream",
     "text": [
      "pen\n",
      "None\n"
     ]
    }
   ],
   "source": [
    "def contains(to_search, to_find):\n",
    "    for find in to_find:\n",
    "        if find in to_search:\n",
    "            return find\n",
    "        \n",
    "print(contains('penguin', ['hen', 'pen', 'egg', 'in']))\n",
    "print(contains('giraffe', ['hen', 'pen', 'egg', 'in']))"
   ]
  },
  {
   "cell_type": "markdown",
   "id": "7faa0e06-0f44-487b-98e4-940c98818c38",
   "metadata": {
    "tags": [
     "worksheet-only"
    ]
   },
   "source": [
    "```\n",
    "\n",
    "\n",
    "\n",
    "\n",
    "\n",
    "\n",
    "\n",
    "\n",
    "\n",
    "\n",
    "\n",
    "```"
   ]
  },
  {
   "cell_type": "markdown",
   "id": "9ae9fec4-ac07-4ae7-87f5-6999263023d6",
   "metadata": {
    "tags": []
   },
   "source": [
    "\\#2) *Write a function called `get_choice `that takes a list of options (e.g., yes, no, maybe) and asks the user to choose one of the options by entering the first letter of the options. You may assume every option starts with a different letter. Your function should accept lower and uppercase letters. The function should return the chosen option (the full word, not just the first letter). If the user enters an invalid option, then the function should again ask the user to choose an option. For example:*\n",
    "```\n",
    ">>> get_choice(['yes','no','maybe'])\n",
    "Yes, No, Maybe? X\n",
    "Yes, No, Maybe? y\n",
    "yes\n",
    "```"
   ]
  },
  {
   "cell_type": "code",
   "execution_count": 54,
   "id": "73dfb67a-0404-4340-824a-8623933fda55",
   "metadata": {
    "tags": [
     "notes-only"
    ]
   },
   "outputs": [
    {
     "name": "stdout",
     "output_type": "stream",
     "text": [
      "Yes, No, Maybe? X\n",
      "Yes, No, Maybe? y\n"
     ]
    },
    {
     "data": {
      "text/plain": [
       "'yes'"
      ]
     },
     "execution_count": 54,
     "metadata": {},
     "output_type": "execute_result"
    }
   ],
   "source": [
    "def get_choice(options):\n",
    "    choices = {}\n",
    "    for i in range(len(options)):\n",
    "        choices[options[i][0].upper()] = options[i]\n",
    "        options[i] = options[i][0].upper() + options[i][1:]\n",
    "    choice = \"\" # Empty string\n",
    "    while choice.upper() not in choices:\n",
    "        choice = input(\", \".join(options) + \"? \")\n",
    "    return choices[choice.upper()]\n",
    "\n",
    "get_choice(['yes','no','maybe'])"
   ]
  },
  {
   "cell_type": "markdown",
   "id": "375bc5ef-54c5-4521-b2c3-6428d95fb13b",
   "metadata": {
    "tags": [
     "worksheet-only"
    ]
   },
   "source": [
    "<div style=\"page-break-after:always;\"></div>"
   ]
  },
  {
   "cell_type": "markdown",
   "id": "0bdfcc84-7ff1-49b3-be09-96182724907c",
   "metadata": {},
   "source": [
    "\\#3) *Write a function called `splice` that takes two strings (`str1` and `str2`) and an integer (`index`) as a parameter and returns a new string with `str2` inserted into `str1` at index. For example, `splice(\"abcd\", \"ef\", 2)` should return `\"abefcd\"`. If `index` is less than zero, `str2` should be put at the front of `str1`; if index is greater than the length of `str1`, then `str2` should be put at the end of `str1`.*"
   ]
  },
  {
   "cell_type": "code",
   "execution_count": 56,
   "id": "be8f6f8b-b62a-4cfc-8fc9-892f20a7830e",
   "metadata": {
    "tags": [
     "notes-only"
    ]
   },
   "outputs": [
    {
     "data": {
      "text/plain": [
       "'abefcd'"
      ]
     },
     "execution_count": 56,
     "metadata": {},
     "output_type": "execute_result"
    }
   ],
   "source": [
    "def splice(str1, str2, index):\n",
    "    if index < 0:\n",
    "        index = 0\n",
    "    elif index > len(str1):\n",
    "        index = len(str1)\n",
    "    return str1[:index] + str2 + str1[index:]\n",
    "\n",
    "splice(\"abcd\", \"ef\", 2)"
   ]
  },
  {
   "cell_type": "markdown",
   "id": "9fd0beb8-67d5-492f-9dd1-a882d9e9f953",
   "metadata": {
    "tags": [
     "worksheet-only"
    ]
   },
   "source": [
    "```\n",
    "\n",
    "\n",
    "\n",
    "\n",
    "\n",
    "\n",
    "\n",
    "\n",
    "\n",
    "\n",
    "\n",
    "\n",
    "\n",
    "\n",
    "\n",
    "\n",
    "```"
   ]
  }
 ],
 "metadata": {
  "kernelspec": {
   "display_name": "Python 3 (ipykernel)",
   "language": "python",
   "name": "python3"
  },
  "language_info": {
   "codemirror_mode": {
    "name": "ipython",
    "version": 3
   },
   "file_extension": ".py",
   "mimetype": "text/x-python",
   "name": "python",
   "nbconvert_exporter": "python",
   "pygments_lexer": "ipython3",
   "version": "3.8.2"
  }
 },
 "nbformat": 4,
 "nbformat_minor": 5
}
