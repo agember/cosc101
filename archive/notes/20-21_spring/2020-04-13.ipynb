{
 "cells": [
  {
   "cell_type": "markdown",
   "metadata": {},
   "source": [
    "# 2020-04-13: Exam 3 review"
   ]
  },
  {
   "cell_type": "markdown",
   "metadata": {},
   "source": [
    "# Announcements\n",
    "* Complete Exam 3 between Wednesday @ noon EDT and Thursday @ noon EDT\n",
    "    * Once you start the exam, you have 75 minutes to complete it\n",
    "    * You may consult your notes, the textbook, and the course Moodle page while you are taking the exam\n",
    "    * You may **not** run code in IDLE or Visualize, talk to classmates about the exam, or post questions/answers online\n",
    "* Drop-in to Zoom during our class period on Wednesday if you want to ask questions"
   ]
  },
  {
   "cell_type": "markdown",
   "metadata": {},
   "source": [
    "# Practice writing programs with lists and files\n",
    "Assume the file `dimensions.csv` contains the following data:\n",
    "```\n",
    "sport,type,width,length\n",
    "football,field,160,360\n",
    "basketball,court,50,94\n",
    "soccer,field,210,330\n",
    "hockey,rink,85,200\n",
    "tennis,court,27,78\n",
    "squash,court,21,32\n",
    "baseball,field,325,325\n",
    "rugby,field,226,360\n",
    "curling,rink,15,148\n",
    "```"
   ]
  },
  {
   "cell_type": "code",
   "execution_count": 1,
   "metadata": {
    "tags": [
     "colab-only"
    ]
   },
   "outputs": [],
   "source": [
    "# Run this code cell to create dimensions.csv\n",
    "with open('dimensions.csv', 'w') as dimensions:\n",
    "    dimensions.write(\"sport,type,width,length\\nfootball,field,160,360\\nbasketball,court,50,94\\nsoccer,field,210,330\\nhockey,rink,85,200\\ntennis,court,27,78\\nsquash,court,21,32\\nbaseball,field,325,325\\nrugby,field,226,360\\ncurling,rink,15,148\\n\")"
   ]
  },
  {
   "cell_type": "markdown",
   "metadata": {},
   "source": [
    "*Write a program that prints out the names of the columns contained in `dimensions.csv`.*"
   ]
  },
  {
   "cell_type": "code",
   "execution_count": null,
   "metadata": {
    "tags": [
     "colab-only"
    ]
   },
   "outputs": [],
   "source": []
  },
  {
   "cell_type": "code",
   "execution_count": 2,
   "metadata": {
    "tags": [
     "notes-only"
    ]
   },
   "outputs": [
    {
     "name": "stdout",
     "output_type": "stream",
     "text": [
      "sport\n",
      "type\n",
      "width\n",
      "length\n",
      "\n"
     ]
    }
   ],
   "source": [
    "infile = open('dimensions.csv', 'r')\n",
    "first = infile.readline()\n",
    "columns = first.split(',')\n",
    "for column in columns:\n",
    "    print(column)\n",
    "infile.close()"
   ]
  },
  {
   "cell_type": "markdown",
   "metadata": {},
   "source": [
    "*Write a program that prints out the name of each of the sports contained in `dimensions.csv`.*"
   ]
  },
  {
   "cell_type": "code",
   "execution_count": null,
   "metadata": {
    "tags": [
     "colab-only"
    ]
   },
   "outputs": [],
   "source": []
  },
  {
   "cell_type": "code",
   "execution_count": 3,
   "metadata": {
    "tags": [
     "notes-only"
    ]
   },
   "outputs": [
    {
     "name": "stdout",
     "output_type": "stream",
     "text": [
      "football\n",
      "basketball\n",
      "soccer\n",
      "hockey\n",
      "tennis\n",
      "squash\n",
      "baseball\n",
      "rugby\n",
      "curling\n"
     ]
    }
   ],
   "source": [
    "infile = open('dimensions.csv', 'r')\n",
    "infile.readline()\n",
    "for line in infile:\n",
    "    values = line.split(',')\n",
    "    print(values[0])\n",
    "infile.close()"
   ]
  },
  {
   "cell_type": "markdown",
   "metadata": {},
   "source": [
    "*Write a function called `get_sports` that returns a list of the names of the sports contained in `dimensions.csv` **sorted** in alphabetical order.*"
   ]
  },
  {
   "cell_type": "code",
   "execution_count": null,
   "metadata": {
    "tags": [
     "colab-only"
    ]
   },
   "outputs": [],
   "source": []
  },
  {
   "cell_type": "code",
   "execution_count": 4,
   "metadata": {
    "tags": [
     "notes-only"
    ]
   },
   "outputs": [
    {
     "name": "stdout",
     "output_type": "stream",
     "text": [
      "['baseball', 'basketball', 'curling', 'football', 'hockey', 'rugby', 'soccer', 'squash', 'tennis']\n"
     ]
    }
   ],
   "source": [
    "def get_sports():\n",
    "    infile = open('dimensions.csv', 'r')\n",
    "    infile.readline()\n",
    "    sports = []\n",
    "    for line in infile:\n",
    "        values = line.split(',')\n",
    "        sports = sports + [values[0]]\n",
    "    infile.close()\n",
    "    return sorted(sports)\n",
    "\n",
    "print(get_sports())"
   ]
  },
  {
   "cell_type": "markdown",
   "metadata": {},
   "source": [
    "*Write a program that prints out the sport name and playing surface dimensions for each sport in `dimensions.csv` whose playing surface is called a \"court\".*"
   ]
  },
  {
   "cell_type": "code",
   "execution_count": null,
   "metadata": {
    "tags": [
     "colab-only"
    ]
   },
   "outputs": [],
   "source": []
  },
  {
   "cell_type": "code",
   "execution_count": 5,
   "metadata": {
    "tags": [
     "notes-only"
    ]
   },
   "outputs": [
    {
     "name": "stdout",
     "output_type": "stream",
     "text": [
      "basketball 50 x 94\n",
      "tennis 27 x 78\n",
      "squash 21 x 32\n"
     ]
    }
   ],
   "source": [
    "infile = open('dimensions.csv', 'r')\n",
    "infile.readline()\n",
    "for line in infile:\n",
    "    values = line.strip().split(',')\n",
    "    if (values[1] == \"court\"):\n",
    "        print(values[0],values[2],'x',values[3])\n",
    "infile.close()"
   ]
  },
  {
   "cell_type": "markdown",
   "metadata": {},
   "source": [
    "*Write a program that prints out the name of the sport with the **widest** playing surface contained in `dimensions.csv`.*"
   ]
  },
  {
   "cell_type": "code",
   "execution_count": null,
   "metadata": {
    "tags": [
     "colab-only"
    ]
   },
   "outputs": [],
   "source": []
  },
  {
   "cell_type": "code",
   "execution_count": 6,
   "metadata": {
    "tags": [
     "notes-only"
    ]
   },
   "outputs": [
    {
     "name": "stdout",
     "output_type": "stream",
     "text": [
      "baseball\n"
     ]
    }
   ],
   "source": [
    "infile = open('dimensions.csv', 'r')\n",
    "infile.readline()\n",
    "widest_sport = \"\"\n",
    "widest_size = 0\n",
    "for line in infile:\n",
    "    values = line.strip().split(',')\n",
    "    width = int(values[2])\n",
    "    if (width > widest_size):\n",
    "        widest_size = width\n",
    "        widest_sport = values[0]\n",
    "infile.close()\n",
    "print(widest_sport)"
   ]
  },
  {
   "cell_type": "markdown",
   "metadata": {},
   "source": [
    "*Write a function called `get_types` that returns a list of the playing surface types contained in `dimensions.csv`. Each surface type should only be inclued in the list once, even if appears in `dimensions.csv` multiple times.*"
   ]
  },
  {
   "cell_type": "code",
   "execution_count": null,
   "metadata": {
    "tags": [
     "colab-only"
    ]
   },
   "outputs": [],
   "source": []
  },
  {
   "cell_type": "code",
   "execution_count": 7,
   "metadata": {
    "tags": [
     "notes-only"
    ]
   },
   "outputs": [
    {
     "name": "stdout",
     "output_type": "stream",
     "text": [
      "['field', 'court', 'rink']\n"
     ]
    }
   ],
   "source": [
    "def get_types():\n",
    "    infile = open('dimensions.csv', 'r')\n",
    "    infile.readline()\n",
    "    types = []\n",
    "    for line in infile:\n",
    "        values = line.split(',')\n",
    "        if values[1] not in types:\n",
    "            types = types + [values[1]]\n",
    "    infile.close()\n",
    "    return types\n",
    "\n",
    "print(get_types())"
   ]
  },
  {
   "cell_type": "markdown",
   "metadata": {},
   "source": [
    "*Write a program that creates a new comma-separated variable (CSV) file called `areas.csv` that contains the sport name and area of the playing surface for each sport in `dimensions.csv`.*"
   ]
  },
  {
   "cell_type": "code",
   "execution_count": null,
   "metadata": {
    "tags": [
     "colab-only"
    ]
   },
   "outputs": [],
   "source": []
  },
  {
   "cell_type": "code",
   "execution_count": 8,
   "metadata": {
    "tags": [
     "notes-only"
    ]
   },
   "outputs": [
    {
     "name": "stdout",
     "output_type": "stream",
     "text": [
      "football,57600\r\n",
      "basketball,4700\r\n",
      "soccer,69300\r\n",
      "hockey,17000\r\n",
      "tennis,2106\r\n",
      "squash,672\r\n",
      "baseball,105625\r\n",
      "rugby,81360\r\n",
      "curling,2220\r\n"
     ]
    }
   ],
   "source": [
    "infile = open('dimensions.csv', 'r')\n",
    "outfile = open('areas.csv', 'w')\n",
    "infile.readline()\n",
    "for line in infile:\n",
    "    values = line.strip().split(',')\n",
    "    area = int(values[2]) * int(values[3])\n",
    "    outfile.write(values[0]+\",\"+str(area)+\"\\n\")\n",
    "infile.close()\n",
    "outfile.close()\n",
    "\n",
    "# Display the contents of the file (NOTE: This is not Python code; this is a special feature of Google Colab)\n",
    "!cat areas.csv"
   ]
  },
  {
   "cell_type": "markdown",
   "metadata": {},
   "source": [
    "*Write a program that creates a new comma-separated variable (CSV) file called `longest.csv` that contains, for each type of playing surface, the name of the playing surface and the length of the longest playing surface of that type. (NOTE: This program is more complex than we would expect you to write on the exam.)*"
   ]
  },
  {
   "cell_type": "code",
   "execution_count": null,
   "metadata": {
    "tags": [
     "colab-only"
    ]
   },
   "outputs": [],
   "source": []
  },
  {
   "cell_type": "code",
   "execution_count": 9,
   "metadata": {
    "tags": [
     "notes-only"
    ]
   },
   "outputs": [
    {
     "name": "stdout",
     "output_type": "stream",
     "text": [
      "field,360\r\n",
      "court,94\r\n",
      "rink,200\r\n"
     ]
    }
   ],
   "source": [
    "infile = open('dimensions.csv', 'r')\n",
    "longest = []\n",
    "infile.readline()\n",
    "for line in infile:\n",
    "    values = line.strip().split(',')\n",
    "    surface_type = values[1]\n",
    "    length = int(values[3])\n",
    "    found = False\n",
    "    for item in longest:\n",
    "        if item[0] == surface_type:\n",
    "            found = True\n",
    "            if item[1] < length:\n",
    "                item[1] = length\n",
    "    if not found:\n",
    "        longest = longest + [[surface_type, length]]\n",
    "infile.close()\n",
    "\n",
    "outfile = open('longest.csv', 'w')\n",
    "for item in longest:\n",
    "    outfile.write(item[0]+\",\"+str(item[1])+\"\\n\")\n",
    "outfile.close()\n",
    "\n",
    "# Display the contents of the file (NOTE: This is not Python code; this is a special feature of Google Colab)\n",
    "!cat longest.csv"
   ]
  }
 ],
 "metadata": {
  "celltoolbar": "Tags",
  "kernelspec": {
   "display_name": "Python 3",
   "language": "python",
   "name": "python3"
  },
  "language_info": {
   "codemirror_mode": {
    "name": "ipython",
    "version": 3
   },
   "file_extension": ".py",
   "mimetype": "text/x-python",
   "name": "python",
   "nbconvert_exporter": "python",
   "pygments_lexer": "ipython3",
   "version": "3.7.6"
  }
 },
 "nbformat": 4,
 "nbformat_minor": 4
}
