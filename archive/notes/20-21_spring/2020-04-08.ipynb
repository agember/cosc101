{
 "cells": [
  {
   "cell_type": "markdown",
   "metadata": {},
   "source": [
    "# 2020-04-08: Files: writing; exceptions"
   ]
  },
  {
   "cell_type": "markdown",
   "metadata": {},
   "source": [
    "# Announcements\n",
    "* Homework #8 due Thursday @ 11pm EDT\n",
    "* Exam #3 next Wednesday/Thursday -- study materials posted on Moodle"
   ]
  },
  {
   "cell_type": "markdown",
   "metadata": {},
   "source": [
    "# Warm-up\n",
    "Write a function called `odd_lines` that takes the name of a file and returns a list containing the 1st, 3rd, 5th, etc. line of the file."
   ]
  },
  {
   "cell_type": "code",
   "execution_count": 1,
   "metadata": {
    "tags": [
     "worksheet-only",
     "colab-only"
    ]
   },
   "outputs": [
    {
     "name": "stdout",
     "output_type": "stream",
     "text": [
      "Expected: ['First\\n', 'Third\\n', 'Fifth\\n']\n",
      "Got: None\n"
     ]
    }
   ],
   "source": [
    "def odd_lines(filename):\n",
    "    '''Construct a list containing the 1st, 3rd, 5th, etc. line of the file'''\n",
    "    # TODO\n",
    "\n",
    "# Testing\n",
    "with open('warm-up.txt', 'w') as myfile:\n",
    "    myfile.write('First\\nSecond\\nThird\\nFourth\\nFifth\\nSixth\\n')\n",
    "got = odd_lines('warm-up.txt')\n",
    "print(\"Expected: ['First\\\\n', 'Third\\\\n', 'Fifth\\\\n']\")\n",
    "print(\"Got:\", got)"
   ]
  },
  {
   "cell_type": "code",
   "execution_count": 2,
   "metadata": {
    "tags": [
     "notes-only"
    ]
   },
   "outputs": [
    {
     "name": "stdout",
     "output_type": "stream",
     "text": [
      "Expected: ['First\\n', 'Third\\n', 'Fifth\\n']\n",
      "Got: ['First\\n', 'Third\\n', 'Fifth\\n']\n"
     ]
    }
   ],
   "source": [
    "def odd_lines(filename):\n",
    "    '''Construct a list containing the 1st, 3rd, 5th, etc. line of the file'''\n",
    "    infile = open(filename, 'r')\n",
    "    line = infile.readline() # Read first line\n",
    "    lines = []\n",
    "    while line != '': # Repeat until end of file\n",
    "        lines = lines + [line]\n",
    "        line = infile.readline() # Skip a line\n",
    "        line = infile.readline()\n",
    "    infile.close()\n",
    "    return lines\n",
    "\n",
    "# Testing\n",
    "with open('warm-up.txt', 'w') as myfile:\n",
    "    myfile.write('First\\nSecond\\nThird\\nFourth\\nFifth\\nSixth\\n')\n",
    "got = odd_lines('warm-up.txt')\n",
    "print(\"Expected: ['First\\\\n', 'Third\\\\n', 'Fifth\\\\n']\")\n",
    "print(\"Got:\", got)"
   ]
  },
  {
   "cell_type": "markdown",
   "metadata": {},
   "source": [
    "# Writing files"
   ]
  },
  {
   "cell_type": "markdown",
   "metadata": {
    "tags": [
     "notes-only"
    ]
   },
   "source": [
    "* What does a program need to do to write data to a file?\n",
    "    * Open the file in write mode: e.g., `myfile = open('myfile.txt', 'w')`\n",
    "    * Call the write function on the file object: e.g., `myfile.write('Hello, file!\\n')`\n",
    "    * Close the file: e.g., `myfile.close()`\n",
    "* You must explicitly include newline characters in the string passed to write if you want the next string you write to appear on the next line of the file\n",
    "    * write **does not** automatically include newlines like print does\n",
    "* If you do not call close, part of the data may be lost\n",
    "    * Python stores data in a temporary buffer before writing it to the file; close ensures all data in the buffer is added to the file"
   ]
  },
  {
   "cell_type": "code",
   "execution_count": null,
   "metadata": {
    "tags": [
     "colab-only"
    ]
   },
   "outputs": [],
   "source": []
  },
  {
   "cell_type": "markdown",
   "metadata": {},
   "source": [
    "# Debugging file reading/writing\n",
    "Assume the file `months.txt` contains the following data:\n",
    "```\n",
    "January\n",
    "February\n",
    "March\n",
    "April\n",
    "May\n",
    "June\n",
    "July\n",
    "August\n",
    "September\n",
    "October\n",
    "November\n",
    "December\n",
    "```"
   ]
  },
  {
   "cell_type": "code",
   "execution_count": 24,
   "metadata": {
    "tags": [
     "colab-only"
    ]
   },
   "outputs": [],
   "source": [
    "# Run this code cell to create months.txt\n",
    "with open('months.txt', 'w') as months:\n",
    "    months.write('January\\nFebruary\\nMarch\\nApril\\nMay\\nJune\\nJuly\\nAugust\\nSeptember\\nOctober\\nNovember\\nDecember\\n')"
   ]
  },
  {
   "cell_type": "markdown",
   "metadata": {},
   "source": [
    "*Identify and correct the error(s) in each of the following programs.*"
   ]
  },
  {
   "cell_type": "code",
   "execution_count": 25,
   "metadata": {
    "tags": [
     "worksheet-code-only"
    ]
   },
   "outputs": [
    {
     "name": "stdout",
     "output_type": "stream",
     "text": [
      "January\n",
      "\n",
      "February\n",
      "\n",
      "March\n",
      "\n",
      "April\n",
      "\n",
      "May\n",
      "\n",
      "June\n",
      "\n",
      "July\n",
      "\n",
      "August\n",
      "\n",
      "September\n",
      "\n",
      "October\n",
      "\n",
      "November\n",
      "\n",
      "December\n",
      "\n"
     ]
    }
   ],
   "source": [
    "# Print the contents of the file\n",
    "months = open('months.txt', 'r')\n",
    "for line in months:\n",
    "    print(line)"
   ]
  },
  {
   "cell_type": "code",
   "execution_count": 26,
   "metadata": {
    "tags": [
     "notes-only"
    ]
   },
   "outputs": [
    {
     "name": "stdout",
     "output_type": "stream",
     "text": [
      "January\n",
      "February\n",
      "March\n",
      "April\n",
      "May\n",
      "June\n",
      "July\n",
      "August\n",
      "September\n",
      "October\n",
      "November\n",
      "December\n"
     ]
    }
   ],
   "source": [
    "# CORRECTED\n",
    "# Print the contents of the file\n",
    "months = open('months.txt', 'r')\n",
    "for line in months:\n",
    "    print(line.strip()) # Need to strip newline to avoid extra blank lines\n",
    "months.close() # Need to close file"
   ]
  },
  {
   "cell_type": "code",
   "execution_count": 27,
   "metadata": {
    "tags": [
     "worksheet-code-only"
    ]
   },
   "outputs": [
    {
     "name": "stdout",
     "output_type": "stream",
     "text": [
      "9\n",
      "6\n",
      "5\n",
      "7\n",
      "8\n",
      "9\n"
     ]
    }
   ],
   "source": [
    "# Print the number of characters in each month\n",
    "months = open('months.txt', 'r')\n",
    "while months.readline() != '':\n",
    "    line = months.readline()\n",
    "    print(len(line))\n",
    "months.close()"
   ]
  },
  {
   "cell_type": "code",
   "execution_count": 28,
   "metadata": {
    "tags": [
     "notes-only"
    ]
   },
   "outputs": [
    {
     "name": "stdout",
     "output_type": "stream",
     "text": [
      "8\n",
      "9\n",
      "6\n",
      "6\n",
      "4\n",
      "5\n",
      "5\n",
      "7\n",
      "10\n",
      "8\n",
      "9\n",
      "9\n"
     ]
    }
   ],
   "source": [
    "# CORRECTED\n",
    "# Print the number of characters in each months\n",
    "months = open('months.txt', 'r')\n",
    "line = months.readline() # Priming read\n",
    "while line != '': # Check if previously read line was empty\n",
    "    print(len(line))\n",
    "    line = months.readline() # Read next line\n",
    "months.close()"
   ]
  },
  {
   "cell_type": "code",
   "execution_count": 19,
   "metadata": {
    "tags": [
     "worksheet-code-only"
    ]
   },
   "outputs": [
    {
     "ename": "UnsupportedOperation",
     "evalue": "not readable",
     "output_type": "error",
     "traceback": [
      "\u001b[0;31m---------------------------------------------------------------------------\u001b[0m",
      "\u001b[0;31mUnsupportedOperation\u001b[0m                      Traceback (most recent call last)",
      "\u001b[0;32m<ipython-input-19-76560140db0d>\u001b[0m in \u001b[0;36m<module>\u001b[0;34m\u001b[0m\n\u001b[1;32m      1\u001b[0m \u001b[0;31m# Store the number of lines in `months.txt` in a new file called `count.txt`\u001b[0m\u001b[0;34m\u001b[0m\u001b[0;34m\u001b[0m\u001b[0;34m\u001b[0m\u001b[0m\n\u001b[1;32m      2\u001b[0m \u001b[0mmonths\u001b[0m \u001b[0;34m=\u001b[0m \u001b[0mopen\u001b[0m\u001b[0;34m(\u001b[0m\u001b[0;34m'months.txt'\u001b[0m\u001b[0;34m,\u001b[0m \u001b[0;34m'w'\u001b[0m\u001b[0;34m)\u001b[0m\u001b[0;34m\u001b[0m\u001b[0;34m\u001b[0m\u001b[0m\n\u001b[0;32m----> 3\u001b[0;31m \u001b[0mdata\u001b[0m \u001b[0;34m=\u001b[0m \u001b[0mmonths\u001b[0m\u001b[0;34m.\u001b[0m\u001b[0mread\u001b[0m\u001b[0;34m(\u001b[0m\u001b[0;34m)\u001b[0m\u001b[0;34m\u001b[0m\u001b[0;34m\u001b[0m\u001b[0m\n\u001b[0m\u001b[1;32m      4\u001b[0m \u001b[0mmonths\u001b[0m\u001b[0;34m.\u001b[0m\u001b[0mclose\u001b[0m\u001b[0;34m(\u001b[0m\u001b[0;34m)\u001b[0m\u001b[0;34m\u001b[0m\u001b[0;34m\u001b[0m\u001b[0m\n\u001b[1;32m      5\u001b[0m \u001b[0msize\u001b[0m \u001b[0;34m=\u001b[0m \u001b[0mopen\u001b[0m\u001b[0;34m(\u001b[0m\u001b[0;34m'size.txt'\u001b[0m\u001b[0;34m,\u001b[0m \u001b[0;34m'w'\u001b[0m\u001b[0;34m)\u001b[0m\u001b[0;34m\u001b[0m\u001b[0;34m\u001b[0m\u001b[0m\n",
      "\u001b[0;31mUnsupportedOperation\u001b[0m: not readable"
     ]
    }
   ],
   "source": [
    "# Store the number of lines in `months.txt` in a new file called `count.txt`\n",
    "months = open('months.txt', 'w')\n",
    "data = months.read()\n",
    "months.close()\n",
    "size = open('size.txt', 'w')\n",
    "size.write('lines: '+str(len(data)))\n",
    "size.close()\n",
    "# Display the contents of size.txt (NOTE: This is a special feature of Google Colab, this is not standard Python code)\n",
    "!cat size.txt"
   ]
  },
  {
   "cell_type": "code",
   "execution_count": 30,
   "metadata": {
    "tags": [
     "notes-only"
    ]
   },
   "outputs": [
    {
     "name": "stdout",
     "output_type": "stream",
     "text": [
      "lines: 12"
     ]
    }
   ],
   "source": [
    "# CORRECTED\n",
    "# Store the number of lines in `months.txt` in a new file called `count.txt`\n",
    "months = open('months.txt', 'r') # Open file for reading\n",
    "data = months.readlines() # Get a list of lines\n",
    "months.close()\n",
    "size = open('size.txt', 'w')\n",
    "size.write('lines: '+str(len(data)))\n",
    "size.close()\n",
    "# Display the contents of size.txt (NOTE: This is a special feature of Google Colab, this is not standard Python code)\n",
    "!cat size.txt"
   ]
  },
  {
   "cell_type": "markdown",
   "metadata": {},
   "source": [
    "# Exceptions"
   ]
  },
  {
   "cell_type": "markdown",
   "metadata": {},
   "source": [
    "* *What happens if we run the following program and the user enters `one`?*"
   ]
  },
  {
   "cell_type": "code",
   "execution_count": 32,
   "metadata": {
    "tags": [
     "worksheet-code-only",
     "notes-code-only"
    ]
   },
   "outputs": [
    {
     "name": "stdout",
     "output_type": "stream",
     "text": [
      "Enter a number: one\n"
     ]
    },
    {
     "ename": "ValueError",
     "evalue": "invalid literal for int() with base 10: 'one'",
     "output_type": "error",
     "traceback": [
      "\u001b[0;31m---------------------------------------------------------------------------\u001b[0m",
      "\u001b[0;31mValueError\u001b[0m                                Traceback (most recent call last)",
      "\u001b[0;32m<ipython-input-32-e5e4786827d2>\u001b[0m in \u001b[0;36m<module>\u001b[0;34m\u001b[0m\n\u001b[0;32m----> 1\u001b[0;31m \u001b[0mnum\u001b[0m \u001b[0;34m=\u001b[0m \u001b[0mint\u001b[0m\u001b[0;34m(\u001b[0m\u001b[0minput\u001b[0m\u001b[0;34m(\u001b[0m\u001b[0;34m'Enter a number: '\u001b[0m\u001b[0;34m)\u001b[0m\u001b[0;34m)\u001b[0m\u001b[0;34m\u001b[0m\u001b[0;34m\u001b[0m\u001b[0m\n\u001b[0m",
      "\u001b[0;31mValueError\u001b[0m: invalid literal for int() with base 10: 'one'"
     ]
    }
   ],
   "source": [
    "num = int(input('Enter a number: '))"
   ]
  },
  {
   "cell_type": "markdown",
   "metadata": {
    "tags": [
     "notes-only"
    ]
   },
   "source": [
    "* The `int` function raises an exception: `ValueError: invalid literal for int() with base 10: 'one'`\n",
    "* *What is one way we can avoid having the program crash when a user provides invalid input?* --- perform input validation"
   ]
  }
 ],
 "metadata": {
  "celltoolbar": "Tags",
  "kernelspec": {
   "display_name": "Python 3",
   "language": "python",
   "name": "python3"
  },
  "language_info": {
   "codemirror_mode": {
    "name": "ipython",
    "version": 3
   },
   "file_extension": ".py",
   "mimetype": "text/x-python",
   "name": "python",
   "nbconvert_exporter": "python",
   "pygments_lexer": "ipython3",
   "version": "3.7.6"
  }
 },
 "nbformat": 4,
 "nbformat_minor": 4
}
