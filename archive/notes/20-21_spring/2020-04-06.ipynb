{
 "cells": [
  {
   "cell_type": "markdown",
   "metadata": {},
   "source": [
    "# 2020-04-06: Files: reading"
   ]
  },
  {
   "cell_type": "markdown",
   "metadata": {},
   "source": [
    "# Announcements\n",
    "* Homework #8 due Thursday @ 11pm EDT\n",
    "* Exam #3 study materials and practice exam posted on Moodle"
   ]
  },
  {
   "cell_type": "markdown",
   "metadata": {},
   "source": [
    "# Warm-up\n",
    "Write a function called `split_name` that takes a string containing a person's last name and first name, separated by a comma, and returns a list containing the person's first name and last name, in that order. For example `split_name('Gember-Jacobson, Aaron')` should return `['Aaron', 'Gember-Jacobson']`."
   ]
  },
  {
   "cell_type": "code",
   "execution_count": 1,
   "metadata": {
    "tags": [
     "worksheet-only",
     "colab-only"
    ]
   },
   "outputs": [
    {
     "name": "stdout",
     "output_type": "stream",
     "text": [
      "Expected: ['Aaron', 'Gember-Jacobson']    Got: None\n"
     ]
    }
   ],
   "source": [
    "def split_name(name):\n",
    "    '''Converts a person's name written as 'Last, First' into a list of names ['First', 'Last']'''\n",
    "    # TODO\n",
    "    \n",
    "names = split_name('Gember-Jacobson, Aaron')\n",
    "print(\"Expected: ['Aaron', 'Gember-Jacobson']    Got:\", names)    "
   ]
  },
  {
   "cell_type": "code",
   "execution_count": 2,
   "metadata": {
    "tags": [
     "notes-only"
    ]
   },
   "outputs": [
    {
     "name": "stdout",
     "output_type": "stream",
     "text": [
      "Expected: ['Aaron', 'Gember-Jacobson']    Got: ['Aaron', 'Gember-Jacobson']\n"
     ]
    }
   ],
   "source": [
    "def split_name(name):\n",
    "    '''Converts a person's name written as 'Last, First' into a list of names ['First', 'Last']'''\n",
    "    parts = name.split(',')\n",
    "    names = [parts[1].strip(), parts[0].strip()]\n",
    "    return names\n",
    "\n",
    "names = split_name('Gember-Jacobson, Aaron')\n",
    "print(\"Expected: ['Aaron', 'Gember-Jacobson']    Got:\", names)    "
   ]
  },
  {
   "cell_type": "markdown",
   "metadata": {
    "tags": [
     "notes-only"
    ]
   },
   "source": [
    "# Questions about lists?"
   ]
  },
  {
   "cell_type": "markdown",
   "metadata": {},
   "source": [
    "# Accessing files"
   ]
  },
  {
   "cell_type": "code",
   "execution_count": 3,
   "metadata": {
    "tags": [
     "colab-only"
    ]
   },
   "outputs": [],
   "source": [
    "# Run this code cell to create myfile.txt\n",
    "with open('myfile.txt', 'w') as myfile:\n",
    "    myfile.write('First line\\nSecond line\\nThird line\\nFourth line\\nFifth line')"
   ]
  },
  {
   "cell_type": "markdown",
   "metadata": {
    "tags": [
     "notes-only"
    ]
   },
   "source": [
    "* Programs often read/write data from files\n",
    "* Files can contain many different types of data --- text, image, video, audio, source code, etc.\n",
    "    * Same type of data may also be stored in different formats --- e.g., audio may be encoded as mp3, aac, etc.\n",
    "* You have already used the `cImage` module to read/write images\n",
    "* Goal: read/write text files\n",
    "* *What does a program need to do before it can read data from a file?* --- open the file for reading\n",
    "    * `open` takes filepath and mode (`'r'` for read or `'w'` for write) as arguments; returns file object\n",
    "    * Example: `myfile = open('myfile.txt', 'r')`\n",
    "* *What does a program need to do when it is done reading data from file?* --- close the file\n",
    "    * `close` is invoked on a file object\n",
    "    * Example: `myfile.close()`"
   ]
  },
  {
   "cell_type": "markdown",
   "metadata": {
    "tags": [
     "notes-only"
    ]
   },
   "source": [
    "# Reading files\n",
    "* First, open the file\n",
    "* Read every line of the file, one line at a time --- use a for loop\n",
    "    * Example:\n",
    "    ```\n",
    "    for line in myfile:\n",
    "        print(len(line))\n",
    "    ```\n",
    "* Read one line at a time -- use the `readline` function\n",
    "    * Example:\n",
    "    ```\n",
    "    line1 = myfile.readline()\n",
    "    line2 = myfile.readline()\n",
    "    ```\n",
    "    * The next call to `readline` returns the next line of the file\n",
    "    * If the file is closed and then opened again, the next call to `readline` will start at the beginning of the file\n",
    "        * Example:\n",
    "        ```\n",
    "        myfile = open('myfile.txt', 'r')\n",
    "        line1 = myfile.readline()\n",
    "        myfile.close()\n",
    "        myfile = open('myfile.txt', 'r')\n",
    "        line1again = myfile.readline()\n",
    "        myfile.close()\n",
    "        ```\n",
    "     * When the end of the file is reached, `readline` returns the empty string (`\"\"`)\n",
    "* Read all lines of the file into a list of strings --- use the `readlines` function\n",
    "    * Example: `list_of_lines = myfile.readlines()`\n",
    "* Read the entire file into a string --- use the `read` function\n",
    "    * Example: `entire_file = myfile.read()`\n",
    "* Strings include the newline character (`'\\n'`)\n",
    "    * Remove newline using the strip function\n",
    "    * Example: `line = line.strip()`"
   ]
  },
  {
   "cell_type": "markdown",
   "metadata": {},
   "source": [
    "# File reading methods practice\n",
    "Assume the file `flowers.txt` contains the following data:\n",
    "```\n",
    "Rose\n",
    "Tulip\n",
    "Daisy\n",
    "```"
   ]
  },
  {
   "cell_type": "code",
   "execution_count": 4,
   "metadata": {
    "tags": [
     "colab-only"
    ]
   },
   "outputs": [],
   "source": [
    "# Run this code cell to create flowers.txt\n",
    "with open('flowers.txt', 'w') as flowers:\n",
    "    flowers.write('Rose\\nTulip\\nDaisy\\n')"
   ]
  },
  {
   "cell_type": "markdown",
   "metadata": {},
   "source": [
    "*What is the output of each of the following programs?*"
   ]
  },
  {
   "cell_type": "code",
   "execution_count": 5,
   "metadata": {
    "tags": [
     "worksheet-code-only"
    ]
   },
   "outputs": [
    {
     "name": "stdout",
     "output_type": "stream",
     "text": [
      "5\n",
      "#Rose\n",
      "#\n"
     ]
    }
   ],
   "source": [
    "flowers = open('flowers.txt', 'r')\n",
    "data = flowers.readline()\n",
    "print(len(data))\n",
    "print(\"#\"+str(data)+\"#\")\n",
    "flowers.close()"
   ]
  },
  {
   "cell_type": "markdown",
   "metadata": {
    "tags": [
     "colab-only"
    ]
   },
   "source": [
    "*Put the expected output in this text cell, then run the code cell above to check your answer.*"
   ]
  },
  {
   "cell_type": "code",
   "execution_count": 6,
   "metadata": {
    "tags": [
     "worksheet-code-only"
    ]
   },
   "outputs": [
    {
     "name": "stdout",
     "output_type": "stream",
     "text": [
      "4\n",
      "#Rose#\n",
      "5\n",
      "#Tulip#\n",
      "5\n",
      "#Daisy#\n"
     ]
    }
   ],
   "source": [
    "flowers = open('flowers.txt', 'r')\n",
    "for data in flowers:\n",
    "    data = data.strip()\n",
    "    print(len(data))\n",
    "    print(\"#\"+str(data)+\"#\")\n",
    "flowers.close()"
   ]
  },
  {
   "cell_type": "markdown",
   "metadata": {
    "tags": [
     "colab-only"
    ]
   },
   "source": [
    "*Put the expected output in this text cell, then run the code cell above to check your answer.*"
   ]
  },
  {
   "cell_type": "code",
   "execution_count": 7,
   "metadata": {
    "tags": [
     "worksheet-code-only"
    ]
   },
   "outputs": [
    {
     "name": "stdout",
     "output_type": "stream",
     "text": [
      "16\n",
      "#Rose\n",
      "Tulip\n",
      "Daisy#\n"
     ]
    }
   ],
   "source": [
    "flowers = open('flowers.txt', 'r')\n",
    "data = flowers.read()\n",
    "data = data.strip()\n",
    "print(len(data))\n",
    "print(\"#\"+str(data)+\"#\")\n",
    "flowers.close()"
   ]
  },
  {
   "cell_type": "markdown",
   "metadata": {
    "tags": [
     "colab-only"
    ]
   },
   "source": [
    "*Put the expected output in this text cell, then run the code cell above to check your answer.*"
   ]
  },
  {
   "cell_type": "code",
   "execution_count": 8,
   "metadata": {
    "tags": [
     "worksheet-code-only"
    ]
   },
   "outputs": [
    {
     "name": "stdout",
     "output_type": "stream",
     "text": [
      "3\n",
      "#['Rose\\n', 'Tulip\\n', 'Daisy\\n']#\n"
     ]
    }
   ],
   "source": [
    "flowers = open('flowers.txt', 'r')\n",
    "data = flowers.readlines()\n",
    "print(len(data))\n",
    "print(\"#\"+str(data)+\"#\")\n",
    "flowers.close()"
   ]
  },
  {
   "cell_type": "markdown",
   "metadata": {
    "tags": [
     "colab-only"
    ]
   },
   "source": [
    "*Put the expected output in this text cell, then run the code cell above to check your answer.*"
   ]
  },
  {
   "cell_type": "markdown",
   "metadata": {},
   "source": [
    "# Reading data files\n",
    "* A comma-separated variable (CSV) file is often used to store data\n",
    "* Each line in a CSV file is like a row in a table (or spreadsheet)\n",
    "* A comma (`,`) is used to delineate the values (or columns) within each line (or row)\n",
    "* The first line of the file usually contains column names\n",
    "* Assume the file `people.csv` contains the following data on notable computer scientists:\n",
    "```\n",
    "LastName,FirstName,KnownFor\n",
    "Johnson,Katherine,was a \"human computer\" at NASA\n",
    "Dean,Mark,co-created the IBM personal computer\n",
    "Berners-Lee,Tim,invented the World Wide Web\n",
    "Hopper,Grace,found the first computer bug\n",
    "```"
   ]
  },
  {
   "cell_type": "code",
   "execution_count": 9,
   "metadata": {
    "tags": [
     "colab-only"
    ]
   },
   "outputs": [],
   "source": [
    "# Run this code cell to create people.csv\n",
    "with open('people.csv', 'w') as people:\n",
    "    people.write(\"\"\"LastName,FirstName,KnownFor\\nJohnson,Katherine,was a \"Human computer\" at NASA\\nDean,Mark,co-created the IBM personal computer\\nBerners-Lee,Tim,invented the World Wide Web\\nHopper,Grace,found the first computer bug\"\"\")"
   ]
  },
  {
   "cell_type": "markdown",
   "metadata": {
    "tags": [
     "notes-only"
    ]
   },
   "source": [
    "* Use `readline()` to read the first line containing the column names\n",
    "* Use `strip()` to remove the \"trailing newline\"\n",
    "* Use `split(',')` to convert a line into a list of values"
   ]
  },
  {
   "cell_type": "code",
   "execution_count": 10,
   "metadata": {
    "tags": [
     "notes-only"
    ]
   },
   "outputs": [
    {
     "name": "stdout",
     "output_type": "stream",
     "text": [
      "['LastName', 'FirstName', 'KnownFor']\n"
     ]
    }
   ],
   "source": [
    "people = open('people.csv', 'r')\n",
    "first = people.readline()\n",
    "first = first.strip()\n",
    "column_names = first.split(',')\n",
    "print(column_names)"
   ]
  },
  {
   "cell_type": "markdown",
   "metadata": {
    "tags": [
     "notes-only"
    ]
   },
   "source": [
    "* Use for loop to iterate through lines (or rows) of data\n",
    "* Again, use `strip` and `split`\n",
    "* Use indexing or slicing to access specific values"
   ]
  },
  {
   "cell_type": "code",
   "execution_count": 11,
   "metadata": {
    "tags": [
     "notes-only"
    ]
   },
   "outputs": [
    {
     "name": "stdout",
     "output_type": "stream",
     "text": [
      "Katherine Johnson was a \"Human computer\" at NASA\n",
      "Mark Dean co-created the IBM personal computer\n",
      "Tim Berners-Lee invented the World Wide Web\n",
      "Grace Hopper found the first computer bug\n"
     ]
    }
   ],
   "source": [
    "for line in people:\n",
    "    values = line.strip().split(',')\n",
    "    print(values[1],values[0],values[2])"
   ]
  },
  {
   "cell_type": "markdown",
   "metadata": {
    "tags": [
     "notes-only"
    ]
   },
   "source": [
    "* Remember to close the file!"
   ]
  },
  {
   "cell_type": "code",
   "execution_count": 12,
   "metadata": {
    "tags": [
     "notes-only"
    ]
   },
   "outputs": [],
   "source": [
    "people.close()"
   ]
  },
  {
   "cell_type": "markdown",
   "metadata": {
    "tags": [
     "notes-only"
    ]
   },
   "source": [
    "* Instead of using `readline` and a for loop, you can use `readlines` with indexing, slicing, and a for loop"
   ]
  },
  {
   "cell_type": "code",
   "execution_count": 13,
   "metadata": {
    "tags": [
     "notes-only"
    ]
   },
   "outputs": [
    {
     "name": "stdout",
     "output_type": "stream",
     "text": [
      "['LastName', 'FirstName', 'KnownFor']\n",
      "Katherine Johnson was a \"Human computer\" at NASA\n",
      "Mark Dean co-created the IBM personal computer\n",
      "Tim Berners-Lee invented the World Wide Web\n",
      "Grace Hopper found the first computer bug\n"
     ]
    }
   ],
   "source": [
    "people = open('people.csv', 'r')\n",
    "lines = people.readlines()\n",
    "first = lines[0].strip()\n",
    "column_names = first.split(',')\n",
    "print(column_names)\n",
    "for line in lines[1:]:\n",
    "    values = line.strip().split(',')\n",
    "    print(values[1],values[0],values[2])\n",
    "people.close()"
   ]
  },
  {
   "cell_type": "markdown",
   "metadata": {},
   "source": [
    "# Reading data files practice\n",
    "* Write a function called `load_data` that takes a filename and returns a list of lists, where each sublist contains the data from one row of the file. The column names should **not** be included."
   ]
  },
  {
   "cell_type": "code",
   "execution_count": 14,
   "metadata": {
    "tags": [
     "colab-only",
     "worksheet-only"
    ]
   },
   "outputs": [
    {
     "name": "stdout",
     "output_type": "stream",
     "text": [
      "Expected: [['Johnson', 'Katherine', 'was a \"human computer\" at NASA'], ['Dean', 'Mark', 'co-created the IBM personal computer'], ['Berners-Lee', 'Tim', 'invented the World Wide Web'], ['Hopper', 'Grace', 'found the first computer bug']]\n",
      "Got: None\n"
     ]
    }
   ],
   "source": [
    "def load_data(filename):\n",
    "    '''Return a list containing rows of data from a file'''\n",
    "    # TODO\n",
    "\n",
    "data = load_data('people.csv')\n",
    "print(\"\"\"Expected: [['Johnson', 'Katherine', 'was a \"human computer\" at NASA'], ['Dean', 'Mark', 'co-created the IBM personal computer'], ['Berners-Lee', 'Tim', 'invented the World Wide Web'], ['Hopper', 'Grace', 'found the first computer bug']]\"\"\")\n",
    "print(\"Got:\",data)"
   ]
  },
  {
   "cell_type": "code",
   "execution_count": 15,
   "metadata": {
    "tags": [
     "notes-only"
    ]
   },
   "outputs": [
    {
     "name": "stdout",
     "output_type": "stream",
     "text": [
      "Expected: [['Johnson', 'Katherine', 'was a \"human computer\" at NASA'], ['Dean', 'Mark', 'co-created the IBM personal computer'], ['Berners-Lee', 'Tim', 'invented the World Wide Web'], ['Hopper', 'Grace', 'found the first computer bug']]\n",
      "Got: [['Johnson', 'Katherine', 'was a \"Human computer\" at NASA'], ['Dean', 'Mark', 'co-created the IBM personal computer'], ['Berners-Lee', 'Tim', 'invented the World Wide Web'], ['Hopper', 'Grace', 'found the first computer bug']]\n"
     ]
    }
   ],
   "source": [
    "def load_data(filename):\n",
    "    '''Return a list containing rows of data from a file'''\n",
    "    datafile = open(filename, 'r')\n",
    "    datafile.readline() # Discard column names\n",
    "    rows = []\n",
    "    for line in datafile:\n",
    "        values = line.strip().split(',')\n",
    "        rows.append(values)\n",
    "    datafile.close()\n",
    "    return rows\n",
    "\n",
    "data = load_data('people.csv')\n",
    "print(\"\"\"Expected: [['Johnson', 'Katherine', 'was a \"human computer\" at NASA'], ['Dean', 'Mark', 'co-created the IBM personal computer'], ['Berners-Lee', 'Tim', 'invented the World Wide Web'], ['Hopper', 'Grace', 'found the first computer bug']]\"\"\")\n",
    "print(\"Got:\",data)"
   ]
  },
  {
   "cell_type": "markdown",
   "metadata": {},
   "source": [
    "* Write a function called `ask_question` that takes the rows of data from a file of a people and asks a question using the value in the `KnownFor` column. For example, `Who co-created the IBM personal computer?`"
   ]
  },
  {
   "cell_type": "code",
   "execution_count": 16,
   "metadata": {
    "tags": [
     "colab-only",
     "worksheet-only"
    ]
   },
   "outputs": [],
   "source": [
    "import random\n",
    "\n",
    "def trivia_question(data):\n",
    "    '''Ask a trivia question about a randomly choosen person'''\n",
    "    # TODO\n",
    "    \n",
    "trivia_question(data)"
   ]
  },
  {
   "cell_type": "code",
   "execution_count": null,
   "metadata": {
    "tags": [
     "notes-only"
    ]
   },
   "outputs": [
    {
     "name": "stdout",
     "output_type": "stream",
     "text": [
      "Who found the first computer bug?\n"
     ]
    }
   ],
   "source": [
    "import random\n",
    "\n",
    "def trivia_question(data):\n",
    "    '''Ask a trivia question about a randomly choosen person'''\n",
    "    index = random.randrange(0, len(data))\n",
    "    row = data[index]\n",
    "    known_for = row[2]\n",
    "    print(\"Who \"+known_for+\"?\")\n",
    "    guess = input(\"Enter a person's name: \")\n",
    "    answer = row[1]+\" \"+row[0]\n",
    "    if (answer == guess):\n",
    "        print(\"You're correct! Well done!\")\n",
    "    else:\n",
    "        print(\"Sorry, your answer is incorrect. The correct answer is: \"+answer)\n",
    "    \n",
    "trivia_question(data)"
   ]
  },
  {
   "cell_type": "markdown",
   "metadata": {},
   "source": [
    "* Update your `trivia_question` function to also prompt the user for a person's name and check if the user's answer was correct?"
   ]
  }
 ],
 "metadata": {
  "celltoolbar": "Tags",
  "kernelspec": {
   "display_name": "Python 3",
   "language": "python",
   "name": "python3"
  },
  "language_info": {
   "codemirror_mode": {
    "name": "ipython",
    "version": 3
   },
   "file_extension": ".py",
   "mimetype": "text/x-python",
   "name": "python",
   "nbconvert_exporter": "python",
   "pygments_lexer": "ipython3",
   "version": "3.7.6"
  }
 },
 "nbformat": 4,
 "nbformat_minor": 4
}
