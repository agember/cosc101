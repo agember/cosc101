{
 "cells": [
  {
   "cell_type": "markdown",
   "metadata": {},
   "source": [
    "# 2020-04-17: Dictionaries: fundamentals"
   ]
  },
  {
   "cell_type": "markdown",
   "metadata": {},
   "source": [
    "# Announcements\n",
    "* Homework #9 due Thursday, April 23 @ 11pm EDT"
   ]
  },
  {
   "cell_type": "markdown",
   "metadata": {
    "tags": [
     "notes-only"
    ]
   },
   "source": [
    "# Dictionaries"
   ]
  },
  {
   "cell_type": "markdown",
   "metadata": {
    "tags": [
     "notes-only"
    ]
   },
   "source": [
    "* Recall: string is a sequence of characters; list is a sequence of values\n",
    "* Dictionary is a collection of key-value pairs\n",
    "    * Analogy: dictionary (non-programming sense) is a collection of words and their definitions\n",
    "    * Each key has a single corresponding value\n",
    "    * A dictionary cannot contain the same key more than once\n",
    "    * Key can be of any *hashable* type (e.g., string, int, bool, tuple); may have keys of multiple types\n",
    "    * Value can be of any type; may have values of multiple types\n",
    "* *How do you create an empty dictionary?* --- `{}`\n",
    "* *How do you refer to a particular item in a dictionary?* --- `dictname[keyname]`"
   ]
  },
  {
   "cell_type": "code",
   "execution_count": null,
   "metadata": {
    "tags": [
     "colab-only"
    ]
   },
   "outputs": [],
   "source": []
  },
  {
   "cell_type": "markdown",
   "metadata": {},
   "source": [
    "# Practice with dictionaries\n",
    "*What is the output of each of the following programs?*"
   ]
  },
  {
   "cell_type": "code",
   "execution_count": 3,
   "metadata": {
    "tags": [
     "worksheet-code-only"
    ]
   },
   "outputs": [
    {
     "name": "stdout",
     "output_type": "stream",
     "text": [
      "Wolverines\n",
      "{'Loyola': 'Ramblers', 'Michigan': 'Wolverines', 'Villanova': 'Wildcats', 'Kansas': 'Jayhawks'}\n",
      "4\n"
     ]
    }
   ],
   "source": [
    "teams = { 'Loyola' : 'Ramblers', 'Michigan' : 'Wolverines' }\n",
    "print(teams['Michigan'])\n",
    "teams['Villanova'] = 'Wildcats'\n",
    "teams['Kansas'] = 'Jayhawks'\n",
    "print(teams)\n",
    "print(len(teams))"
   ]
  },
  {
   "cell_type": "markdown",
   "metadata": {
    "tags": [
     "colab-only"
    ]
   },
   "source": [
    "*Put the expected output in this text cell, then run the code cell above to check your answer.*"
   ]
  },
  {
   "cell_type": "code",
   "execution_count": 4,
   "metadata": {
    "tags": [
     "worksheet-code-only"
    ]
   },
   "outputs": [
    {
     "name": "stdout",
     "output_type": "stream",
     "text": [
      "Kansas\n"
     ]
    },
    {
     "ename": "KeyError",
     "evalue": "2",
     "output_type": "error",
     "traceback": [
      "\u001b[0;31m---------------------------------------------------------------------------\u001b[0m",
      "\u001b[0;31mKeyError\u001b[0m                                  Traceback (most recent call last)",
      "\u001b[0;32m<ipython-input-4-217b03020b80>\u001b[0m in \u001b[0;36m<module>\u001b[0;34m\u001b[0m\n\u001b[1;32m      5\u001b[0m \u001b[0mranks\u001b[0m\u001b[0;34m[\u001b[0m\u001b[0;36m1\u001b[0m\u001b[0;34m]\u001b[0m \u001b[0;34m=\u001b[0m \u001b[0;34m'Kansas'\u001b[0m\u001b[0;34m\u001b[0m\u001b[0;34m\u001b[0m\u001b[0m\n\u001b[1;32m      6\u001b[0m \u001b[0mprint\u001b[0m\u001b[0;34m(\u001b[0m\u001b[0mranks\u001b[0m\u001b[0;34m[\u001b[0m\u001b[0;36m1\u001b[0m\u001b[0;34m]\u001b[0m\u001b[0;34m)\u001b[0m\u001b[0;34m\u001b[0m\u001b[0;34m\u001b[0m\u001b[0m\n\u001b[0;32m----> 7\u001b[0;31m \u001b[0mprint\u001b[0m\u001b[0;34m(\u001b[0m\u001b[0mranks\u001b[0m\u001b[0;34m[\u001b[0m\u001b[0;36m2\u001b[0m\u001b[0;34m]\u001b[0m\u001b[0;34m)\u001b[0m\u001b[0;34m\u001b[0m\u001b[0;34m\u001b[0m\u001b[0m\n\u001b[0m",
      "\u001b[0;31mKeyError\u001b[0m: 2"
     ]
    }
   ],
   "source": [
    "ranks = {}\n",
    "ranks[11] = 'Loyola'\n",
    "ranks[3] = 'Michigan'\n",
    "ranks[1] = 'Villanova'\n",
    "ranks[1] = 'Kansas'\n",
    "print(ranks[1])\n",
    "print(ranks[2])"
   ]
  },
  {
   "cell_type": "markdown",
   "metadata": {
    "tags": [
     "colab-only"
    ]
   },
   "source": [
    "*Put the expected output in this text cell, then run the code cell above to check your answer.*"
   ]
  },
  {
   "cell_type": "code",
   "execution_count": 5,
   "metadata": {
    "tags": [
     "worksheet-code-only"
    ]
   },
   "outputs": [
    {
     "name": "stdout",
     "output_type": "stream",
     "text": [
      "{'Wagner': 'Michigan', 'Custer': 'Loyola', 'Matthews': 'Michigan', 'Ingram': 'Loyola'}\n"
     ]
    },
    {
     "ename": "KeyError",
     "evalue": "0",
     "output_type": "error",
     "traceback": [
      "\u001b[0;31m---------------------------------------------------------------------------\u001b[0m",
      "\u001b[0;31mKeyError\u001b[0m                                  Traceback (most recent call last)",
      "\u001b[0;32m<ipython-input-5-30919f8fdf90>\u001b[0m in \u001b[0;36m<module>\u001b[0;34m\u001b[0m\n\u001b[1;32m      3\u001b[0m \u001b[0mplayers\u001b[0m\u001b[0;34m[\u001b[0m\u001b[0;34m'Ingram'\u001b[0m\u001b[0;34m]\u001b[0m \u001b[0;34m=\u001b[0m \u001b[0;34m'Loyola'\u001b[0m\u001b[0;34m\u001b[0m\u001b[0;34m\u001b[0m\u001b[0m\n\u001b[1;32m      4\u001b[0m \u001b[0mprint\u001b[0m\u001b[0;34m(\u001b[0m\u001b[0mplayers\u001b[0m\u001b[0;34m)\u001b[0m\u001b[0;34m\u001b[0m\u001b[0;34m\u001b[0m\u001b[0m\n\u001b[0;32m----> 5\u001b[0;31m \u001b[0mprint\u001b[0m\u001b[0;34m(\u001b[0m\u001b[0mplayers\u001b[0m\u001b[0;34m[\u001b[0m\u001b[0;36m0\u001b[0m\u001b[0;34m]\u001b[0m\u001b[0;34m)\u001b[0m\u001b[0;34m\u001b[0m\u001b[0;34m\u001b[0m\u001b[0m\n\u001b[0m",
      "\u001b[0;31mKeyError\u001b[0m: 0"
     ]
    }
   ],
   "source": [
    "players = {'Wagner' : 'Michigan', 'Custer' : 'Loyola' }\n",
    "players['Matthews'] = 'Michigan'\n",
    "players['Ingram'] = 'Loyola'\n",
    "print(players)\n",
    "print(players[0])"
   ]
  },
  {
   "cell_type": "markdown",
   "metadata": {
    "tags": [
     "colab-only"
    ]
   },
   "source": [
    "*Put the expected output in this text cell, then run the code cell above to check your answer.*"
   ]
  },
  {
   "cell_type": "markdown",
   "metadata": {
    "tags": [
     "notes-only"
    ]
   },
   "source": [
    "# Dictionary methods & operators"
   ]
  },
  {
   "cell_type": "markdown",
   "metadata": {
    "tags": [
     "notes-only"
    ]
   },
   "source": [
    "* `len()` --- number of keys in the dictionary\n",
    "* `keys()` --- list of keys\n",
    "* `values()` --- list of values\n",
    "* `items()` --- list of key/value tuples\n",
    "* `get(key)` --- gets the item associated with key\n",
    "* `in` --- checks if key exists in dictionary\n",
    "* `del` --- remove a key and its corresponding value"
   ]
  },
  {
   "cell_type": "code",
   "execution_count": null,
   "metadata": {
    "tags": [
     "colab-only"
    ]
   },
   "outputs": [],
   "source": []
  },
  {
   "cell_type": "markdown",
   "metadata": {},
   "source": [
    "# Practice with dictionary methods and operators\n",
    "*What is the output of each of the following programs?*"
   ]
  },
  {
   "cell_type": "code",
   "execution_count": 6,
   "metadata": {
    "tags": [
     "worksheet-code-only"
    ]
   },
   "outputs": [
    {
     "name": "stdout",
     "output_type": "stream",
     "text": [
      "Wagner Wolverines\n",
      "Matthews Wolverines\n",
      "Custer Ramblers\n",
      "Ingram Ramblers\n"
     ]
    }
   ],
   "source": [
    "players = {'Wagner' : 'Michigan', 'Matthews' : 'Michigan', 'Custer' : 'Loyola' , 'Ingram' : 'Loyola'}\n",
    "teams = {'Loyola': 'Ramblers', 'Michigan': 'Wolverines', 'Villanova': 'Wildcats', 'Kansas': 'Jayhawks'}\n",
    "for k in players.keys():\n",
    "    v = players[k]\n",
    "    print(k, teams[v])"
   ]
  },
  {
   "cell_type": "markdown",
   "metadata": {
    "tags": [
     "colab-only"
    ]
   },
   "source": [
    "*Put the expected output in this text cell, then run the code cell above to check your answer.*"
   ]
  },
  {
   "cell_type": "code",
   "execution_count": 7,
   "metadata": {
    "tags": [
     "worksheet-code-only"
    ]
   },
   "outputs": [
    {
     "name": "stdout",
     "output_type": "stream",
     "text": [
      "Ramblers 11\n",
      "Wolverines 3\n",
      "Wildcats 1\n",
      "Jayhawks 1\n"
     ]
    }
   ],
   "source": [
    "teams = {'Loyola': 'Ramblers', 'Michigan': 'Wolverines', 'Villanova': 'Wildcats', 'Kansas': 'Jayhawks'}\n",
    "rank = {11 : ['Loyola'], 3 : ['Michigan'], 1: ['Villanova', 'Kansas']}\n",
    "for i in rank:\n",
    "    for j in rank[i]:\n",
    "        print(teams[j], i)"
   ]
  },
  {
   "cell_type": "markdown",
   "metadata": {
    "tags": [
     "colab-only"
    ]
   },
   "source": [
    "*Put the expected output in this text cell, then run the code cell above to check your answer.*"
   ]
  },
  {
   "cell_type": "code",
   "execution_count": 8,
   "metadata": {
    "tags": [
     "worksheet-code-only"
    ]
   },
   "outputs": [
    {
     "name": "stdout",
     "output_type": "stream",
     "text": [
      "Go Michigan\n",
      "Go Wolverines\n",
      "Well done Wolverines\n",
      "Go Villanova\n",
      "Go Wildcats\n",
      "Well done Wildcats\n",
      "Go None\n"
     ]
    },
    {
     "ename": "KeyError",
     "evalue": "'Duke'",
     "output_type": "error",
     "traceback": [
      "\u001b[0;31m---------------------------------------------------------------------------\u001b[0m",
      "\u001b[0;31mKeyError\u001b[0m                                  Traceback (most recent call last)",
      "\u001b[0;32m<ipython-input-8-82ad76ec6e26>\u001b[0m in \u001b[0;36m<module>\u001b[0;34m\u001b[0m\n\u001b[1;32m      5\u001b[0m         \u001b[0mprint\u001b[0m\u001b[0;34m(\u001b[0m\u001b[0;34m\"Go\"\u001b[0m\u001b[0;34m,\u001b[0m\u001b[0mi\u001b[0m\u001b[0;34m)\u001b[0m\u001b[0;34m\u001b[0m\u001b[0;34m\u001b[0m\u001b[0m\n\u001b[1;32m      6\u001b[0m     \u001b[0mprint\u001b[0m\u001b[0;34m(\u001b[0m\u001b[0;34m\"Go\"\u001b[0m\u001b[0;34m,\u001b[0m\u001b[0mteams\u001b[0m\u001b[0;34m.\u001b[0m\u001b[0mget\u001b[0m\u001b[0;34m(\u001b[0m\u001b[0mi\u001b[0m\u001b[0;34m)\u001b[0m\u001b[0;34m)\u001b[0m\u001b[0;34m\u001b[0m\u001b[0;34m\u001b[0m\u001b[0m\n\u001b[0;32m----> 7\u001b[0;31m     \u001b[0mprint\u001b[0m\u001b[0;34m(\u001b[0m\u001b[0;34m\"Well done\"\u001b[0m\u001b[0;34m,\u001b[0m\u001b[0mteams\u001b[0m\u001b[0;34m[\u001b[0m\u001b[0mi\u001b[0m\u001b[0;34m]\u001b[0m\u001b[0;34m)\u001b[0m\u001b[0;34m\u001b[0m\u001b[0;34m\u001b[0m\u001b[0m\n\u001b[0m",
      "\u001b[0;31mKeyError\u001b[0m: 'Duke'"
     ]
    }
   ],
   "source": [
    "teams = {'Loyola': 'Ramblers', 'Michigan': 'Wolverines', 'Villanova': 'Wildcats', 'Kansas': 'Jayhawks'}\n",
    "bracket = ['Michigan', 'Villanova', 'Duke']\n",
    "for i in bracket:\n",
    "    if i in teams:\n",
    "        print(\"Go\",i)\n",
    "    print(\"Go\",teams.get(i))\n",
    "    print(\"Well done\",teams[i])"
   ]
  },
  {
   "cell_type": "markdown",
   "metadata": {
    "tags": [
     "colab-only"
    ]
   },
   "source": [
    "*Put the expected output in this text cell, then run the code cell above to check your answer.*"
   ]
  },
  {
   "cell_type": "code",
   "execution_count": 9,
   "metadata": {
    "tags": [
     "worksheet-code-only"
    ]
   },
   "outputs": [
    {
     "name": "stdout",
     "output_type": "stream",
     "text": [
      "{'Michigan': 2, 'Loyola': 1}\n"
     ]
    }
   ],
   "source": [
    "teams = {}\n",
    "players = {'Wagner' : 'Michigan', 'Ingram' : 'Loyola', 'Matthews' : 'Michigan'}\n",
    "for j in players.values():\n",
    "    if j not in teams:\n",
    "        teams[j] = 0\n",
    "    teams[j] += 1\n",
    "print(teams)"
   ]
  },
  {
   "cell_type": "markdown",
   "metadata": {
    "tags": [
     "colab-only"
    ]
   },
   "source": [
    "*Put the expected output in this text cell, then run the code cell above to check your answer.*"
   ]
  },
  {
   "cell_type": "code",
   "execution_count": 10,
   "metadata": {
    "tags": [
     "worksheet-code-only"
    ]
   },
   "outputs": [
    {
     "name": "stdout",
     "output_type": "stream",
     "text": [
      "{'Michigan': 58, 'Duke': None, 'Kansas': 85}\n"
     ]
    }
   ],
   "source": [
    "teams = {'Florida State' : 54, 'Michigan' : 58 , 'Duke' : 81, 'Kansas' : 85}\n",
    "teams['Duke'] = None\n",
    "del teams['Florida State']\n",
    "print(teams)"
   ]
  },
  {
   "cell_type": "markdown",
   "metadata": {
    "tags": [
     "colab-only"
    ]
   },
   "source": [
    "*Put the expected output in this text cell, then run the code cell above to check your answer.*"
   ]
  }
 ],
 "metadata": {
  "celltoolbar": "Tags",
  "kernelspec": {
   "display_name": "Python 3",
   "language": "python",
   "name": "python3"
  },
  "language_info": {
   "codemirror_mode": {
    "name": "ipython",
    "version": 3
   },
   "file_extension": ".py",
   "mimetype": "text/x-python",
   "name": "python",
   "nbconvert_exporter": "python",
   "pygments_lexer": "ipython3",
   "version": "3.7.6"
  }
 },
 "nbformat": 4,
 "nbformat_minor": 4
}
