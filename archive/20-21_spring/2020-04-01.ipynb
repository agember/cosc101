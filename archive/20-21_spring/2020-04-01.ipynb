{
 "cells": [
  {
   "cell_type": "markdown",
   "metadata": {
    "slideshow": {
     "slide_type": "skip"
    }
   },
   "source": [
    "# 2020-04-01: Lists: references"
   ]
  },
  {
   "cell_type": "markdown",
   "metadata": {
    "slideshow": {
     "slide_type": "skip"
    }
   },
   "source": [
    "# Announcements\n",
    "* No synchronous class on Friday --- worksheet with practice problems posted on Moodle\n",
    "* Homework #8 due Thursday, April 9 @ 11pm EDT"
   ]
  },
  {
   "cell_type": "markdown",
   "metadata": {
    "slideshow": {
     "slide_type": "slide"
    }
   },
   "source": [
    "# Warm-up\n",
    "*What is the output of the following program?*"
   ]
  },
  {
   "cell_type": "code",
   "execution_count": 1,
   "metadata": {
    "slideshow": {
     "slide_type": "-"
    },
    "tags": [
     "worksheet-code-only"
    ]
   },
   "outputs": [
    {
     "name": "stdout",
     "output_type": "stream",
     "text": [
      "[['EDT'], 'PDT']\n",
      "[['EDT'], 'Central', 'Mountain', 'PDT']\n",
      "['Eastern', 'Central', 'Mountain', 'PDT']\n"
     ]
    }
   ],
   "source": [
    "timezones = ['Eastern', 'Pacific']\n",
    "timezones[0] = ['EDT']\n",
    "timezones[-1] = 'PDT'\n",
    "print(timezones)\n",
    "timezones[1:1] = ['Central', 'Mountain']\n",
    "print(timezones)\n",
    "timezones[0:1] = ['Eastern']\n",
    "print(timezones)"
   ]
  },
  {
   "cell_type": "markdown",
   "metadata": {
    "slideshow": {
     "slide_type": "skip"
    },
    "tags": [
     "colab-only"
    ]
   },
   "source": [
    "*Put the expected output in this text cell, then run the code cell above to check your answer.*"
   ]
  },
  {
   "cell_type": "markdown",
   "metadata": {
    "slideshow": {
     "slide_type": "skip"
    },
    "tags": [
     "notes-only"
    ]
   },
   "source": [
    "# References\n",
    "* Recall: a list is a sequential collection of values\n",
    "    * Analogy: a folder holds a sequential collection of papers\n",
    "    * `[2, 4, 6]`\n",
    "* When you assign a list to a variable, the variable becomes a name for the collection\n",
    "    * Analogy: label folder"
   ]
  },
  {
   "cell_type": "code",
   "execution_count": 2,
   "metadata": {
    "slideshow": {
     "slide_type": "skip"
    },
    "tags": [
     "notes-only"
    ]
   },
   "outputs": [
    {
     "name": "stdout",
     "output_type": "stream",
     "text": [
      "[2, 4, 6]\n"
     ]
    }
   ],
   "source": [
    "listA = [2, 4, 6]\n",
    "print(listA)"
   ]
  },
  {
   "cell_type": "markdown",
   "metadata": {
    "slideshow": {
     "slide_type": "skip"
    },
    "tags": [
     "notes-only"
    ]
   },
   "source": [
    "* When you add and remove items, you are changing what is in the collection, but the name still refers to the same collection\n",
    "    * Analogy: add and remove papers from a folder, but you are not relabeling the folder"
   ]
  },
  {
   "cell_type": "code",
   "execution_count": 3,
   "metadata": {
    "slideshow": {
     "slide_type": "skip"
    },
    "tags": [
     "notes-only"
    ]
   },
   "outputs": [
    {
     "name": "stdout",
     "output_type": "stream",
     "text": [
      "A [2, 40, 6]\n"
     ]
    }
   ],
   "source": [
    "listA[1] = 40\n",
    "print(\"A\", listA)"
   ]
  },
  {
   "cell_type": "markdown",
   "metadata": {
    "slideshow": {
     "slide_type": "skip"
    },
    "tags": [
     "notes-only"
    ]
   },
   "source": [
    "* Creating another list creates another sequential collection of values\n",
    "    * Analogy: get a new folder"
   ]
  },
  {
   "cell_type": "code",
   "execution_count": 4,
   "metadata": {
    "slideshow": {
     "slide_type": "skip"
    },
    "tags": [
     "notes-only"
    ]
   },
   "outputs": [
    {
     "name": "stdout",
     "output_type": "stream",
     "text": [
      "A [2, 40, 6] B []\n"
     ]
    }
   ],
   "source": [
    "listB = []\n",
    "print(\"A\", listA, \"B\", listB)"
   ]
  },
  {
   "cell_type": "markdown",
   "metadata": {
    "slideshow": {
     "slide_type": "skip"
    },
    "tags": [
     "notes-only"
    ]
   },
   "source": [
    "* Even if you put the same values in each list, the collections are still different\n",
    "    * Analogy: put the same papers in each folder, but each folder is still separate"
   ]
  },
  {
   "cell_type": "code",
   "execution_count": 5,
   "metadata": {
    "slideshow": {
     "slide_type": "skip"
    },
    "tags": [
     "notes-only"
    ]
   },
   "outputs": [
    {
     "name": "stdout",
     "output_type": "stream",
     "text": [
      "A [2, 40, 6] B [2, 40, 6]\n"
     ]
    }
   ],
   "source": [
    "listB.append(2)\n",
    "listB.append(40)\n",
    "listB.append(6)\n",
    "print(\"A\", listA, \"B\", listB)"
   ]
  },
  {
   "cell_type": "markdown",
   "metadata": {
    "slideshow": {
     "slide_type": "skip"
    },
    "tags": [
     "notes-only"
    ]
   },
   "source": [
    "# Aliasing\n",
    "* However, if you assign the name of a list to a new name, then you create an alias\n",
    "    * Analogy: add another label to the list"
   ]
  },
  {
   "cell_type": "code",
   "execution_count": 6,
   "metadata": {
    "slideshow": {
     "slide_type": "skip"
    },
    "tags": [
     "notes-only"
    ]
   },
   "outputs": [
    {
     "name": "stdout",
     "output_type": "stream",
     "text": [
      "A [2, 40, 6] C [2, 40, 6]\n"
     ]
    }
   ],
   "source": [
    "listC = listA\n",
    "print(\"A\", listA, \"C\", listC)"
   ]
  },
  {
   "cell_type": "markdown",
   "metadata": {
    "slideshow": {
     "slide_type": "skip"
    },
    "tags": [
     "notes-only"
    ]
   },
   "source": [
    "* Regardless which name you use, you are referring to the same list; hence, changes made using one name will also be reflected if you use the other name to refer to the list\n",
    "    * Analogy: add and remove papers from the same folder with multiple labels"
   ]
  },
  {
   "cell_type": "code",
   "execution_count": 7,
   "metadata": {
    "slideshow": {
     "slide_type": "skip"
    },
    "tags": [
     "notes-only"
    ]
   },
   "outputs": [
    {
     "name": "stdout",
     "output_type": "stream",
     "text": [
      "A [20, 40, 6] C [20, 40, 6]\n",
      "A [20, 40, 60] C [20, 40, 60]\n"
     ]
    }
   ],
   "source": [
    "listC[0] = 20\n",
    "print(\"A\", listA, \"C\", listC)\n",
    "listA[2] = 60\n",
    "print(\"A\", listA, \"C\", listC)"
   ]
  },
  {
   "cell_type": "markdown",
   "metadata": {
    "slideshow": {
     "slide_type": "skip"
    },
    "tags": [
     "notes-only"
    ]
   },
   "source": [
    "* You can check if two different names refer to the same list using the `is` operator\n",
    "* You can check if two lists (which may or may not be the same list) contain the same items using the `==` opearator"
   ]
  },
  {
   "cell_type": "code",
   "execution_count": 8,
   "metadata": {
    "slideshow": {
     "slide_type": "skip"
    },
    "tags": [
     "notes-only"
    ]
   },
   "outputs": [
    {
     "name": "stdout",
     "output_type": "stream",
     "text": [
      "A [20, 40, 60] C [20, 40, 60] D [20, 40, 60]\n",
      "A is C? True A is D? False\n",
      "A == C? True A == D? True\n"
     ]
    }
   ],
   "source": [
    "listD = [20, 40, 60]\n",
    "print(\"A\", listA, \"C\", listC, \"D\", listD)\n",
    "print(\"A is C?\", listA is listC, \"A is D?\", listA is listD)\n",
    "print(\"A == C?\", listA == listC, \"A == D?\", listA == listD)"
   ]
  },
  {
   "cell_type": "markdown",
   "metadata": {
    "slideshow": {
     "slide_type": "skip"
    },
    "tags": [
     "notes-only"
    ]
   },
   "source": [
    "* To avoid aliasing, you must create a clone of (part of) the list using the slice operator\n",
    "    * Analogy: get a new folder with a copy of all of the items in the original folder"
   ]
  },
  {
   "cell_type": "code",
   "execution_count": 9,
   "metadata": {
    "slideshow": {
     "slide_type": "skip"
    },
    "tags": [
     "notes-only"
    ]
   },
   "outputs": [
    {
     "name": "stdout",
     "output_type": "stream",
     "text": [
      "A [20, 40, 60] E [20, 40, 60]\n",
      "A [20, 40, 60] E [10, 40, 60]\n",
      "A [20, 40, 70] E [10, 40, 60]\n"
     ]
    }
   ],
   "source": [
    "listE = listA[:]\n",
    "print(\"A\", listA, \"E\", listE)\n",
    "listE[0] = 10\n",
    "print(\"A\", listA, \"E\", listE)\n",
    "listA[2] = 70\n",
    "print(\"A\", listA, \"E\", listE)"
   ]
  },
  {
   "cell_type": "markdown",
   "metadata": {
    "slideshow": {
     "slide_type": "skip"
    },
    "tags": [
     "notes-only"
    ]
   },
   "source": [
    "* Parameters\n",
    "    * Recall: at the start of the function, all actual parameters and are assigned to the formal parameters\n",
    "    * Consequently, list name is assigned another name → formal parameter is an alias\n",
    "    * Consequence: changing the list using the formal parameter will change the same list as changing the list using the actual parameter"
   ]
  },
  {
   "cell_type": "code",
   "execution_count": 10,
   "metadata": {
    "slideshow": {
     "slide_type": "skip"
    },
    "tags": [
     "notes-only"
    ]
   },
   "outputs": [
    {
     "name": "stdout",
     "output_type": "stream",
     "text": [
      "Q [1, 3, 5]\n",
      "R [1, 3, 5]\n",
      "R [2, 3, 5]\n",
      "Q [2, 3, 5]\n"
     ]
    }
   ],
   "source": [
    "def funcX(listR):\n",
    "    print(\"R\", listR)\n",
    "    listR[0] = 2\n",
    "    print(\"R\", listR)\n",
    "    \n",
    "listQ = [1, 3, 5]\n",
    "print(\"Q\", listQ)\n",
    "funcX(listQ)\n",
    "print(\"Q\", listQ)"
   ]
  },
  {
   "cell_type": "markdown",
   "metadata": {
    "slideshow": {
     "slide_type": "skip"
    },
    "tags": [
     "notes-only"
    ]
   },
   "source": [
    "* Sublists\n",
    "    * Recall: can have a list within a list\n",
    "        * Analogy: put a folder within a folder\n",
    "    * If you add one list to another list, then the latter will simply contain a reference to the former"
   ]
  },
  {
   "cell_type": "code",
   "execution_count": 11,
   "metadata": {
    "slideshow": {
     "slide_type": "skip"
    },
    "tags": [
     "notes-only"
    ]
   },
   "outputs": [
    {
     "name": "stdout",
     "output_type": "stream",
     "text": [
      "Q [2, 3, 5] S [6, 7]\n",
      "Q [2, 3, 5] S [[2, 3, 5], 7]\n",
      "Q [2, 4, 5] S [[2, 4, 5], 7]\n"
     ]
    }
   ],
   "source": [
    "listS = [6, 7]\n",
    "print(\"Q\", listQ, \"S\", listS)\n",
    "listS[0] = listQ\n",
    "print(\"Q\", listQ, \"S\", listS)\n",
    "listQ[1] = 4\n",
    "print(\"Q\", listQ, \"S\", listS)"
   ]
  },
  {
   "cell_type": "code",
   "execution_count": 12,
   "metadata": {
    "slideshow": {
     "slide_type": "skip"
    },
    "tags": [
     "notes-only"
    ]
   },
   "outputs": [
    {
     "name": "stdout",
     "output_type": "stream",
     "text": [
      "Q [2, 4, 5] T []\n",
      "Q [2, 4, 5] T [2, 4, 5]\n",
      "Q [2, 4, 6] T [2, 4, 5]\n"
     ]
    }
   ],
   "source": [
    "listT = []\n",
    "print(\"Q\", listQ, \"T\", listT)\n",
    "listT[:] = listQ\n",
    "print(\"Q\", listQ, \"T\", listT)\n",
    "listQ[2] = 6\n",
    "print(\"Q\", listQ, \"T\", listT)"
   ]
  },
  {
   "cell_type": "markdown",
   "metadata": {
    "slideshow": {
     "slide_type": "slide"
    }
   },
   "source": [
    "# References and aliasing practice\n",
    "Draw a reference diagram for each of the following programs and determine the program's output."
   ]
  },
  {
   "cell_type": "code",
   "execution_count": 13,
   "metadata": {
    "slideshow": {
     "slide_type": "-"
    },
    "tags": [
     "worksheet-code-only"
    ]
   },
   "outputs": [
    {
     "name": "stdout",
     "output_type": "stream",
     "text": [
      "A [10, 20, 30, 40] B [15, 30] C [15, 30]\n"
     ]
    }
   ],
   "source": [
    "a = [10, 20, 30, 40]\n",
    "b = a[1:3]\n",
    "c = b\n",
    "c[0] = 15\n",
    "print(\"A\", a, \"B\", b, \"C\", c)"
   ]
  },
  {
   "cell_type": "code",
   "execution_count": 14,
   "metadata": {
    "slideshow": {
     "slide_type": "slide"
    },
    "tags": [
     "worksheet-code-only"
    ]
   },
   "outputs": [
    {
     "name": "stdout",
     "output_type": "stream",
     "text": [
      "U [2, 3, 5] V [2, 4, 6]\n"
     ]
    }
   ],
   "source": [
    "def swapZero(d, e):\n",
    "    f = d\n",
    "    d[0] = e[0]\n",
    "    e[0] = f[0]\n",
    "    \n",
    "u = [1, 3, 5]\n",
    "v = [2, 4, 6]\n",
    "swapZero(u, v)\n",
    "print(\"U\", u, \"V\", v)"
   ]
  },
  {
   "cell_type": "code",
   "execution_count": 15,
   "metadata": {
    "slideshow": {
     "slide_type": "slide"
    },
    "tags": [
     "worksheet-code-only"
    ]
   },
   "outputs": [
    {
     "name": "stdout",
     "output_type": "stream",
     "text": [
      "W [1, 4, 5] X [2, 3, 6]\n"
     ]
    }
   ],
   "source": [
    "def swapOne(g, h):\n",
    "    i = g[:]\n",
    "    g[1] = h[1]\n",
    "    h[1] = i[1]\n",
    "\n",
    "w = [1, 3, 5]\n",
    "x = [2, 4, 6]\n",
    "swapOne(w, x)\n",
    "print(\"W\", w, \"X\", x)"
   ]
  },
  {
   "cell_type": "code",
   "execution_count": 16,
   "metadata": {
    "slideshow": {
     "slide_type": "slide"
    },
    "tags": [
     "worksheet-code-only"
    ]
   },
   "outputs": [
    {
     "name": "stdout",
     "output_type": "stream",
     "text": [
      "Y [1, 3, 5] Z [2, 4, 6]\n"
     ]
    }
   ],
   "source": [
    "def swapTwo(p, q):\n",
    "    r = p[:]\n",
    "    s = q[:]\n",
    "    r[1] = s[1]\n",
    "    s[1] = p[1]\n",
    "    \n",
    "y = [1, 3, 5]\n",
    "z = [2, 4, 6]\n",
    "swapTwo(y, z)\n",
    "print(\"Y\", y, \"Z\", z)"
   ]
  },
  {
   "cell_type": "code",
   "execution_count": 17,
   "metadata": {
    "slideshow": {
     "slide_type": "slide"
    },
    "tags": [
     "worksheet-code-only"
    ]
   },
   "outputs": [
    {
     "name": "stdout",
     "output_type": "stream",
     "text": [
      "J [5, 10, 15] K [5, 10]\n"
     ]
    }
   ],
   "source": [
    "j = [5, 10]\n",
    "k = j\n",
    "j = j + [15]\n",
    "print(\"J\", j, \"K\", k)"
   ]
  },
  {
   "cell_type": "code",
   "execution_count": 18,
   "metadata": {
    "slideshow": {
     "slide_type": "slide"
    },
    "tags": [
     "worksheet-code-only"
    ]
   },
   "outputs": [
    {
     "name": "stdout",
     "output_type": "stream",
     "text": [
      "M None N [5, 10, 15]\n"
     ]
    }
   ],
   "source": [
    "m = [5, 10]\n",
    "n = m\n",
    "m = m.append(15)\n",
    "print(\"M\", m, \"N\", n)"
   ]
  },
  {
   "cell_type": "markdown",
   "metadata": {
    "slideshow": {
     "slide_type": "slide"
    }
   },
   "source": [
    "# Programming practice\n",
    "* Write a function called `remove_false_original` that takes a list of boolean values and removes all False values from the list."
   ]
  },
  {
   "cell_type": "code",
   "execution_count": 19,
   "metadata": {
    "slideshow": {
     "slide_type": "-"
    },
    "tags": [
     "worksheet-only",
     "worksheet-code-only"
    ]
   },
   "outputs": [
    {
     "name": "stdout",
     "output_type": "stream",
     "text": [
      "Failed 1st test: orig [True, False, True]\n",
      "Failed 2nd test: orig [True, False, False, True]\n"
     ]
    }
   ],
   "source": [
    "def remove_false_original(boolean_list):\n",
    "    '''Removes all False values from boolean_list'''\n",
    "    # TODO\n",
    "    \n",
    "def test_remove_false_original():\n",
    "    orig = [True, False, True]\n",
    "    remove_false_original(orig)\n",
    "    if orig != [True, True]:\n",
    "        print(\"Failed 1st test: orig\", orig)\n",
    "    else:\n",
    "        print(\"Passed 1st test\")\n",
    "        \n",
    "    orig = [True, False, False, True]\n",
    "    remove_false_original(orig)\n",
    "    if orig != [True, True]:\n",
    "        print(\"Failed 2nd test: orig\", orig)\n",
    "    else:\n",
    "        print(\"Passed 2nd test\")\n",
    "\n",
    "test_remove_false_original()"
   ]
  },
  {
   "cell_type": "code",
   "execution_count": 20,
   "metadata": {
    "slideshow": {
     "slide_type": "skip"
    },
    "tags": [
     "notes-only"
    ]
   },
   "outputs": [
    {
     "name": "stdout",
     "output_type": "stream",
     "text": [
      "Passed 1st test\n",
      "Passed 2nd test\n"
     ]
    }
   ],
   "source": [
    "def remove_false_original(boolean_list):\n",
    "    '''Removes all False values from boolean_list'''\n",
    "    i = 0\n",
    "    while i < len(boolean_list):\n",
    "        if not boolean_list[i]:\n",
    "            del boolean_list[i]\n",
    "        else:\n",
    "            i = i + 1\n",
    "\n",
    "def test_remove_false_original():\n",
    "    orig = [True, False, True]\n",
    "    remove_false_original(orig)\n",
    "    if orig != [True, True]:\n",
    "        print(\"Failed 1st test: orig\", orig)\n",
    "    else:\n",
    "        print(\"Passed 1st test\")\n",
    "        \n",
    "    orig = [True, False, False, True]\n",
    "    remove_false_original(orig)\n",
    "    if orig != [True, True]:\n",
    "        print(\"Failed 2nd test: orig\", orig)\n",
    "    else:\n",
    "        print(\"Passed 2nd test\")\n",
    "\n",
    "test_remove_false_original()"
   ]
  },
  {
   "cell_type": "markdown",
   "metadata": {
    "slideshow": {
     "slide_type": "slide"
    }
   },
   "source": [
    "* Write a function called `remove_false_copy` that takes a list of boolean values and returns a copy of the list with all False values removed. The original list should not be modified."
   ]
  },
  {
   "cell_type": "code",
   "execution_count": 21,
   "metadata": {
    "slideshow": {
     "slide_type": "-"
    },
    "tags": [
     "woirksheet-only",
     "worksheet-code-only"
    ]
   },
   "outputs": [
    {
     "name": "stdout",
     "output_type": "stream",
     "text": [
      "Failed 1st test: orig [True, False, True] copy None\n",
      "Failed 2nd test: orig [True, False, False, True] copy None\n"
     ]
    }
   ],
   "source": [
    "def remove_false_copy(boolean_list):\n",
    "    '''Creates a copy of boolean_list with all False values removed'''\n",
    "    # TODO\n",
    "\n",
    "def test_remove_false_copy():\n",
    "    orig = [True, False, True]\n",
    "    copy = remove_false_copy(orig)\n",
    "    if orig != [True, False, True] or copy != [True, True]:\n",
    "        print(\"Failed 1st test: orig\", orig, \"copy\", copy)\n",
    "    else:\n",
    "        print(\"Passed 1st test\")\n",
    "        \n",
    "    orig = [True, False, False, True]\n",
    "    copy = remove_false_copy(orig)\n",
    "    if orig != [True, False, False, True] or copy != [True, True]:\n",
    "        print(\"Failed 2nd test: orig\", orig, \"copy\", copy)\n",
    "    else:\n",
    "        print(\"Passed 2nd test\")\n",
    "\n",
    "test_remove_false_copy()"
   ]
  },
  {
   "cell_type": "code",
   "execution_count": 22,
   "metadata": {
    "slideshow": {
     "slide_type": "skip"
    },
    "tags": [
     "notes-only"
    ]
   },
   "outputs": [
    {
     "name": "stdout",
     "output_type": "stream",
     "text": [
      "Passed 1st test\n",
      "Passed 2nd test\n"
     ]
    }
   ],
   "source": [
    "def remove_false_copy(boolean_list):\n",
    "    '''Creates a copy of boolean_list with all False values removed'''\n",
    "    copy_list = boolean_list[:]\n",
    "    i = 0\n",
    "    while i < len(copy_list):\n",
    "        if not copy_list[i]:\n",
    "            del copy_list[i]\n",
    "        else:\n",
    "            i = i + 1\n",
    "    return copy_list\n",
    "\n",
    "def test_remove_false_copy():\n",
    "    orig = [True, False, True]\n",
    "    copy = remove_false_copy(orig)\n",
    "    if orig != [True, False, True] or copy != [True, True]:\n",
    "        print(\"Failed 1st test: orig\", orig, \"copy\", copy)\n",
    "    else:\n",
    "        print(\"Passed 1st test\")\n",
    "        \n",
    "    orig = [True, False, False, True]\n",
    "    copy = remove_false_copy(orig)\n",
    "    if orig != [True, False, False, True] or copy != [True, True]:\n",
    "        print(\"Failed 2nd test: orig\", orig, \"copy\", copy)\n",
    "    else:\n",
    "        print(\"Passed 2nd test\")\n",
    "\n",
    "test_remove_false_copy()"
   ]
  },
  {
   "cell_type": "markdown",
   "metadata": {
    "slideshow": {
     "slide_type": "slide"
    }
   },
   "source": [
    "* Write a function called `reverse` that takes a list and returns a copy of the list with the order of items reversed. The original list should not be modified."
   ]
  },
  {
   "cell_type": "code",
   "execution_count": 23,
   "metadata": {
    "slideshow": {
     "slide_type": "-"
    },
    "tags": [
     "worksheet-only",
     "worksheet-code-only"
    ]
   },
   "outputs": [
    {
     "name": "stdout",
     "output_type": "stream",
     "text": [
      "Failed 1st test: orig [10, 20] rev None\n",
      "Failed 2nd test: orig [30, 40, 50, 60, 70] rev None\n"
     ]
    }
   ],
   "source": [
    "def reverse(my_list):\n",
    "    '''Creates a copy of my_list with the order of items reversed'''\n",
    "    # TODO\n",
    "\n",
    "def test_reverse():\n",
    "    orig = [10, 20]\n",
    "    rev = reverse(orig)\n",
    "    if orig != [10, 20] or rev != [20, 10]:\n",
    "        print(\"Failed 1st test: orig\", orig, \"rev\", rev)\n",
    "    else:\n",
    "        print(\"Passed 1st test\")\n",
    "        \n",
    "    orig = [30, 40, 50, 60, 70]\n",
    "    rev = reverse(orig)\n",
    "    if orig != [30, 40, 50, 60, 70] or rev != [70, 60, 50, 40, 30]:\n",
    "        print(\"Failed 2nd test: orig\", orig, \"rev\", rev)\n",
    "    else:\n",
    "        print(\"Passed 2nd test\")\n",
    "\n",
    "test_reverse()"
   ]
  },
  {
   "cell_type": "code",
   "execution_count": 24,
   "metadata": {
    "slideshow": {
     "slide_type": "skip"
    },
    "tags": [
     "notes-only"
    ]
   },
   "outputs": [
    {
     "name": "stdout",
     "output_type": "stream",
     "text": [
      "Passed 1st test\n",
      "Passed 2nd test\n"
     ]
    }
   ],
   "source": [
    "def reverse(my_list):\n",
    "    reverse_list = []\n",
    "    for item in my_list:\n",
    "        reverse_list[0:0] = [item]\n",
    "    return reverse_list\n",
    "\n",
    "def test_reverse():\n",
    "    orig = [10, 20]\n",
    "    rev = reverse(orig)\n",
    "    if orig != [10, 20] or rev != [20, 10]:\n",
    "        print(\"Failed 1st test: orig\", orig, \"rev\", rev)\n",
    "    else:\n",
    "        print(\"Passed 1st test\")\n",
    "        \n",
    "    orig = [30, 40, 50, 60, 70]\n",
    "    rev = reverse(orig)\n",
    "    if orig != [30, 40, 50, 60, 70] or rev != [70, 60, 50, 40, 30]:\n",
    "        print(\"Failed 2nd test: orig\", orig, \"rev\", rev)\n",
    "    else:\n",
    "        print(\"Passed 2nd test\")\n",
    "\n",
    "test_reverse()"
   ]
  }
 ],
 "metadata": {
  "celltoolbar": "Slideshow",
  "kernelspec": {
   "display_name": "Python 3",
   "language": "python",
   "name": "python3"
  },
  "language_info": {
   "codemirror_mode": {
    "name": "ipython",
    "version": 3
   },
   "file_extension": ".py",
   "mimetype": "text/x-python",
   "name": "python",
   "nbconvert_exporter": "python",
   "pygments_lexer": "ipython3",
   "version": "3.7.6"
  }
 },
 "nbformat": 4,
 "nbformat_minor": 4
}
