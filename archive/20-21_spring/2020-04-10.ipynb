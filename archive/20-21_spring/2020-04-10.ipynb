{
 "cells": [
  {
   "cell_type": "markdown",
   "metadata": {},
   "source": [
    "# 2020-04-10: Files: exceptions; review"
   ]
  },
  {
   "cell_type": "markdown",
   "metadata": {},
   "source": [
    "# Announcements\n",
    "* Exam #3 next Wednesday/Thursday -- study materials posted on Moodle"
   ]
  },
  {
   "cell_type": "markdown",
   "metadata": {},
   "source": [
    "# Warm-up\n",
    "*What is the contents of `seasons.txt` after the program has finished?*"
   ]
  },
  {
   "cell_type": "code",
   "execution_count": 1,
   "metadata": {
    "tags": [
     "worksheet-code-only"
    ]
   },
   "outputs": [
    {
     "name": "stdout",
     "output_type": "stream",
     "text": [
      "In Hamilton:\r\n",
      "Winter is...cold and snowy\r\n",
      "Spring is...warm and rainy\r\n",
      "Summer is...hot and sunny\r\n",
      "Autumn is...cool and windy\r\n"
     ]
    }
   ],
   "source": [
    "seasons = [['Winter', 'cold', 'snowy'], ['Spring', 'warm', 'rainy'], ['Summer', 'hot', 'sunny'], ['Autumn', 'cool', 'windy']]\n",
    "outfile = open('seasons.txt', 'w')\n",
    "outfile.write('In Hamilton:\\n')\n",
    "for season in seasons:\n",
    "    outfile.write(season[0] + ' is...')\n",
    "    outfile.write(' and '.join(season[1:]) + '\\n')\n",
    "outfile.close()\n",
    "\n",
    "# Display the contents of the file (NOTE: This is not Python code; this is a special feature of Google Colab)\n",
    "!cat seasons.txt"
   ]
  },
  {
   "cell_type": "markdown",
   "metadata": {},
   "source": [
    "# Exceptions\n",
    "* *Recall: What happens if we run the following program and the user enters one?*"
   ]
  },
  {
   "cell_type": "code",
   "execution_count": 2,
   "metadata": {
    "tags": [
     "worksheet-code-only"
    ]
   },
   "outputs": [
    {
     "name": "stdout",
     "output_type": "stream",
     "text": [
      "Enter a number: one\n"
     ]
    },
    {
     "ename": "ValueError",
     "evalue": "invalid literal for int() with base 10: 'one'",
     "output_type": "error",
     "traceback": [
      "\u001b[0;31m---------------------------------------------------------------------------\u001b[0m",
      "\u001b[0;31mValueError\u001b[0m                                Traceback (most recent call last)",
      "\u001b[0;32m<ipython-input-2-e5e4786827d2>\u001b[0m in \u001b[0;36m<module>\u001b[0;34m\u001b[0m\n\u001b[0;32m----> 1\u001b[0;31m \u001b[0mnum\u001b[0m \u001b[0;34m=\u001b[0m \u001b[0mint\u001b[0m\u001b[0;34m(\u001b[0m\u001b[0minput\u001b[0m\u001b[0;34m(\u001b[0m\u001b[0;34m'Enter a number: '\u001b[0m\u001b[0;34m)\u001b[0m\u001b[0;34m)\u001b[0m\u001b[0;34m\u001b[0m\u001b[0;34m\u001b[0m\u001b[0m\n\u001b[0m",
      "\u001b[0;31mValueError\u001b[0m: invalid literal for int() with base 10: 'one'"
     ]
    }
   ],
   "source": [
    "num = int(input('Enter a number: '))"
   ]
  },
  {
   "cell_type": "markdown",
   "metadata": {
    "tags": [
     "notes-only"
    ]
   },
   "source": [
    "* The `int` function raises an exception: `ValueError: invalid literal for int() with base 10: 'one'`\n",
    "* Exception --- a signal that something exceptional (i.e., unexpected or unrecoverable) has happened\n",
    "* *What causes an exception?* --- invalid input, invalid math (e.g., divide by zero), attempt to open a non-existent file, etc.\n",
    "* *Why do we need exceptions?* --- a function may not know what to do when something unexpected occurs, so it needs to notify the calling function\n",
    "* Exceptions breaks a program’s flow of execution\n",
    "    * Function where exception occurred stops executing --- e.g., the `int` function stops executing\n",
    "    * Exception is passed to calling function\n",
    "        * If calling function includes code to “recover” from the exception then execution resumes in the **exception handling** code\n",
    "        * Otherwise, the exception is passed to the preceding function\n",
    "        * Again, if preceding function includes code to “recover” from the exception then execution resumes in the exception handling code\n",
    "        * Otherwise, the exception is passed to the preceding function\n",
    "        * If the program does not have any code to handle the exception, then it crashes"
   ]
  },
  {
   "cell_type": "markdown",
   "metadata": {},
   "source": [
    "* *What is the flow of execution for the following program?*"
   ]
  },
  {
   "cell_type": "code",
   "execution_count": null,
   "metadata": {
    "tags": [
     "worksheet-code-only"
    ]
   },
   "outputs": [],
   "source": [
    "def func3():\n",
    "    num = int(input('Enter a number: '))\n",
    "    return num\n",
    "\n",
    "def func2():\n",
    "    input_num = func3()\n",
    "    return input_num * 2\n",
    "\n",
    "def func1():\n",
    "    doubled_num = func2()\n",
    "    return doubled_num * 2\n",
    "\n",
    "def main():\n",
    "    quadrupled_num = func1()\n",
    "    print(\"Quadrupled:\", quadrupled_num)\n",
    "\n",
    "main()"
   ]
  },
  {
   "cell_type": "markdown",
   "metadata": {
    "tags": [
     "notes-only"
    ]
   },
   "source": [
    "* Flow of execution\n",
    "    * `main` calls `func1` which calls `func2` which calls `func3` which calls `input` and `int`\n",
    "    * `int` raises an exception\n",
    "    * `func3` has no code to recover from (i.e., handle) the exception\n",
    "    * Attempt to resume execution in caller (`func2`)\n",
    "    * `func2` has no code to handle the exception\n",
    "    * Attempt to resume execution in preceding caller (`func1`)\n",
    "    * `func1` has no code to handle the exception\n",
    "    * Attempt to resume execution in preceding caller (`main`)\n",
    "    * `main` has no code to handle the exception\n",
    "    * Attempt to resume execution outside of function\n",
    "    * No code outside of function to handle the exception -> program crashes\n",
    "* *How could we prevent our program from crashing if the user enters invalid input?*\n",
    "    * Validate the user’s input **before** converting to an int and ask for new input if the user did not enter a valid integer\n",
    "    * **Catch** the exception and ask for new input\n",
    "* Best practice: do not use exception handling (`try-except`) if you can easily write code to check for and recover from errors\n",
    "    * For example, validating the user's input before converting to an int is better than catching an exception"
   ]
  },
  {
   "cell_type": "markdown",
   "metadata": {},
   "source": [
    "* *Modify the code below such that the `read_data` function returns `None`, instead of causing the program to crash, if the file does not exist*"
   ]
  },
  {
   "cell_type": "code",
   "execution_count": null,
   "metadata": {
    "tags": [
     "worksheet-code-only"
    ]
   },
   "outputs": [],
   "source": [
    "def read_data(filename):\n",
    "    '''Read data from a file'''\n",
    "    infile = open(filename, 'r')\n",
    "    data = infile.read()\n",
    "    infile.close()\n",
    "    return data\n",
    "\n",
    "def main():\n",
    "    data = read_data('seasons.txt')\n",
    "    print(data)\n",
    "    data = read_data('does-not-exist.txt')\n",
    "    print(data)\n",
    "    \n",
    "main()"
   ]
  },
  {
   "cell_type": "code",
   "execution_count": null,
   "metadata": {
    "tags": [
     "notes-only"
    ]
   },
   "outputs": [],
   "source": [
    "def read_data(filename):\n",
    "    '''Read data from a file'''\n",
    "    try:\n",
    "        infile = open(filename, 'r')\n",
    "        data = infile.read()\n",
    "        infile.close()\n",
    "        return data\n",
    "    except:\n",
    "        return None\n",
    "\n",
    "def main():\n",
    "    data = read_data('seasons.txt')\n",
    "    print(data)\n",
    "    data = read_data('does-not-exist.txt')\n",
    "    print(data)\n",
    "    \n",
    "main()"
   ]
  },
  {
   "cell_type": "markdown",
   "metadata": {},
   "source": [
    "# Lists review\n",
    "Assume the following code has been executed:"
   ]
  },
  {
   "cell_type": "code",
   "execution_count": null,
   "metadata": {},
   "outputs": [],
   "source": [
    "birds = [\"robin\", \"bluejay\", \"cardinal\", \"owl\"]\n",
    "trees = [[\"white oak\", \"red oak\"], [\"red maple\", \"japanese maple\", \"sugar maple\"], [\"silver birch\", \"paper birch\"]]\n",
    "flowers = \"crocus&tulip&daffodil\""
   ]
  },
  {
   "cell_type": "markdown",
   "metadata": {},
   "source": [
    "*Which of the following statements replaces `bluejay` with `sparrow` in the `birds` list?*"
   ]
  },
  {
   "cell_type": "code",
   "execution_count": null,
   "metadata": {
    "tags": [
     "worksheet-code-only",
     "notes-code-only"
    ]
   },
   "outputs": [],
   "source": [
    "birds[1] = \"sparrow\" # Option 1\n",
    "birds[-1] = \"sparrow\" # Option 2\n",
    "birds[1:1] = \"sparrow\" # Option 3\n",
    "birds[1:1] = [\"sparrow\"] # Option 4\n",
    "birds[1:2] = \"sparrow\" # Option 5\n",
    "birds[1:2] = [\"sparrow\"] # Option 6"
   ]
  },
  {
   "cell_type": "markdown",
   "metadata": {
    "tags": [
     "notes-only"
    ]
   },
   "source": [
    "Options 1, 6"
   ]
  },
  {
   "cell_type": "markdown",
   "metadata": {},
   "source": [
    "*Which of the following statements sorts the list `birds` in alphabetical order?*"
   ]
  },
  {
   "cell_type": "code",
   "execution_count": null,
   "metadata": {
    "tags": [
     "worksheet-code-only",
     "notes-code-only"
    ]
   },
   "outputs": [],
   "source": [
    "birds = sorted(birds) # Option 1\n",
    "birds = birds.sort() # Option 2\n",
    "birds.sort() # Option 3\n",
    "birds = birds[:] # Option 4\n",
    "birds = birds[1] + birds[2] + birds[3] + birds[0] # Option 5\n",
    "birds = birds[1:4] + [birds[0]] # Option 6"
   ]
  },
  {
   "cell_type": "markdown",
   "metadata": {
    "tags": [
     "notes-only"
    ]
   },
   "source": [
    "Options 1, 3, 6"
   ]
  },
  {
   "cell_type": "markdown",
   "metadata": {},
   "source": [
    "*Which of the following expressions counts the number of oak species in the `trees` list?*"
   ]
  },
  {
   "cell_type": "code",
   "execution_count": null,
   "metadata": {
    "tags": [
     "worksheet-code-only",
     "notes-code-only"
    ]
   },
   "outputs": [],
   "source": [
    "len(trees) # Option 1\n",
    "len(trees[0]) # Option 2\n",
    "len(trees[0][0]) + len(trees[0][1]) # Option 3\n",
    "len(trees[0:1]) # Option 4\n",
    "len(trees[0][:]) # Option 5"
   ]
  },
  {
   "cell_type": "markdown",
   "metadata": {
    "tags": [
     "notes-only"
    ]
   },
   "source": [
    "Options 2, 5"
   ]
  },
  {
   "cell_type": "markdown",
   "metadata": {},
   "source": [
    "*Which of the following statements inserts `boxelder maple` into the sublist of maple species in the `trees` list?*"
   ]
  },
  {
   "cell_type": "code",
   "execution_count": null,
   "metadata": {
    "tags": [
     "worksheet-code-only",
     "notes-code-only"
    ]
   },
   "outputs": [],
   "source": [
    "trees = trees + [\"boxelder maple\"] # Option 1\n",
    "trees[1] = trees[1] + [\"boxelder maple\"] # Option 2\n",
    "trees[1].append(\"boxelder maple\") # Option 3\n",
    "trees[1].extend(\"boxelder maple\") # Option 4\n",
    "trees[1][3] = [\"boxelder maple\"] # Option 5\n",
    "trees[1][3:3] = [\"boxelder maple\"]  # Option 6"
   ]
  },
  {
   "cell_type": "markdown",
   "metadata": {
    "tags": [
     "notes-only"
    ]
   },
   "source": [
    "Options 2, 3, 6"
   ]
  },
  {
   "cell_type": "markdown",
   "metadata": {},
   "source": [
    "*Which of the following statements replaces `japanese maple` with `norway maple` in the `trees` list?*"
   ]
  },
  {
   "cell_type": "code",
   "execution_count": null,
   "metadata": {
    "tags": [
     "worksheet-code-only",
     "notes-code-only"
    ]
   },
   "outputs": [],
   "source": [
    "trees[1] = \"norway maple\" # Option 1\n",
    "trees[4] = \"norway maple\" # Option 2\n",
    "trees[1][1] = \"norway maple\" # Option 3\n",
    "trees[-1][-1] = \"norway maple\" # Option 4\n",
    "trees[1][1:2] = [\"norway maple\"] # Option 5\n",
    "trees[1:2][1] = \"norway maple\" # Option 6"
   ]
  },
  {
   "cell_type": "markdown",
   "metadata": {
    "tags": [
     "notes-only"
    ]
   },
   "source": [
    "Options 3, 5"
   ]
  },
  {
   "cell_type": "markdown",
   "metadata": {},
   "source": [
    "*Which of the following sets of statements removes the sublists from the `trees` list such that `trees` contains all of the tree specifies without any sublists?*"
   ]
  },
  {
   "cell_type": "code",
   "execution_count": null,
   "metadata": {
    "tags": [
     "worksheet-code-only",
     "notes-code-only"
    ]
   },
   "outputs": [],
   "source": [
    "# Option 1\n",
    "trees.extend(trees[0])\n",
    "trees.extend(trees[1])\n",
    "trees.extend(trees[2])\n",
    "trees[:3] = []\n",
    "\n",
    "# Option 2\n",
    "trees = trees[0] + trees[1] + trees[2]\n",
    "\n",
    "# Option 3\n",
    "trees = trees[0][0] + trees[0][1] + trees[1][0] + trees[1][1] + trees[1][2] + trees[2][0] + trees[2][1]\n",
    "\n",
    "# Option 4\n",
    "trees[0:1] = trees[0]\n",
    "trees[1:2] = trees[1]\n",
    "trees[2:3] = trees[2]\n",
    "\n",
    "# Option 5\n",
    "trees[0:1] = trees[0]\n",
    "trees[2:3] = trees[2]\n",
    "trees[5:6] = trees[5]"
   ]
  },
  {
   "cell_type": "markdown",
   "metadata": {
    "tags": [
     "notes-only"
    ]
   },
   "source": [
    "Options 1, 2, 5"
   ]
  },
  {
   "cell_type": "markdown",
   "metadata": {},
   "source": [
    "*Which of the following statements converts the string `flowers` to a list of flowers?*"
   ]
  },
  {
   "cell_type": "code",
   "execution_count": null,
   "metadata": {
    "tags": [
     "worksheet-code-only",
     "notes-code-only"
    ]
   },
   "outputs": [],
   "source": [
    "flowers = flowers.strip() # Option 1\n",
    "flowers = flowers.split('&') # Option 2\n",
    "flowers = '&'.join(flowers) # Option 3\n",
    "flowers = [flowers[:6], flowers[7:12], flowers[13:]] # Option 4\n",
    "flowers = flowers.slice('&') # Option 5\n",
    "flowers = [flowers[0], flowers[1], flowers[2]] # Option 6"
   ]
  },
  {
   "cell_type": "markdown",
   "metadata": {
    "tags": [
     "notes-only"
    ]
   },
   "source": [
    "Options 2, 4"
   ]
  },
  {
   "cell_type": "markdown",
   "metadata": {},
   "source": [
    "*Write a function called `print_trees` that prints the list of trees in the following format:*\n",
    "```\n",
    "oak: white,red\n",
    "maple: red,japanese,sugar\n",
    "birch: silver,paper\n",
    "```"
   ]
  },
  {
   "cell_type": "code",
   "execution_count": null,
   "metadata": {
    "scrolled": true,
    "tags": [
     "notes-only",
     "notes-code-only"
    ]
   },
   "outputs": [],
   "source": [
    "def print_trees():\n",
    "    '''Print tree species grouped by genus'''\n",
    "    for genus in trees:\n",
    "        genus_name = genus[0].split()[1]\n",
    "        species_names = []\n",
    "        for species in genus:\n",
    "            species_name = species.split()[0]\n",
    "            species_names.append(species_name)\n",
    "        species_names = \",\".join(species_names)\n",
    "        print(genus_name+\": \"+species_names)\n",
    "        \n",
    "print_trees()"
   ]
  }
 ],
 "metadata": {
  "celltoolbar": "Tags",
  "kernelspec": {
   "display_name": "Python 3",
   "language": "python",
   "name": "python3"
  },
  "language_info": {
   "codemirror_mode": {
    "name": "ipython",
    "version": 3
   },
   "file_extension": ".py",
   "mimetype": "text/x-python",
   "name": "python",
   "nbconvert_exporter": "python",
   "pygments_lexer": "ipython3",
   "version": "3.7.6"
  }
 },
 "nbformat": 4,
 "nbformat_minor": 4
}
