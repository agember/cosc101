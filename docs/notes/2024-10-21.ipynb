{
 "cells": [
  {
   "cell_type": "markdown",
   "id": "5f7022fe-ef2e-490a-8b8b-ed4ff5a60402",
   "metadata": {
    "editable": true,
    "slideshow": {
     "slide_type": "skip"
    },
    "tags": []
   },
   "source": [
    "# Sequences: slicing; non-mutating methods\n",
    "_COSC 101, Introduction to Computing I, 2024-10-21_"
   ]
  },
  {
   "cell_type": "markdown",
   "id": "5fbe855e-7d2a-4780-8032-aa853e71a230",
   "metadata": {
    "editable": true,
    "slideshow": {
     "slide_type": "skip"
    },
    "tags": []
   },
   "source": [
    "## Announcements\n",
    "* Homework 6\n",
    "    * Parts 1 and 2 with an assigned partner due Tuesday @ 11:59pm\n",
    "    * Part 3 individually due Friday @ 11:59pm"
   ]
  },
  {
   "cell_type": "markdown",
   "id": "df02a0da-5467-4fc9-8928-8d5a7f693fd6",
   "metadata": {
    "editable": true,
    "slideshow": {
     "slide_type": "slide"
    },
    "tags": []
   },
   "source": [
    "## doctests"
   ]
  },
  {
   "cell_type": "markdown",
   "id": "45edd4ac-f276-42ba-8f0c-c57fc56fc624",
   "metadata": {
    "editable": true,
    "slideshow": {
     "slide_type": "skip"
    },
    "tags": [
     "notes-only"
    ]
   },
   "source": [
    "* Method for automatically checks whether a function returns the correct result\n",
    "    * Must be written by a person who knows what a function should do\n",
    "    * Multiple unit tests should be written for a function\n",
    "* Include function call and expected output within docstring\n",
    "* At top of file `import doctest`; at bottom of file call `doctest.testmod()`\n",
    "* Example:"
   ]
  },
  {
   "cell_type": "code",
   "execution_count": 6,
   "id": "7b4fbb13-ca53-4e4f-b6d0-3bd74a1e54a1",
   "metadata": {
    "editable": true,
    "slideshow": {
     "slide_type": "skip"
    },
    "tags": []
   },
   "outputs": [
    {
     "data": {
      "text/plain": [
       "TestResults(failed=0, attempted=3)"
      ]
     },
     "execution_count": 6,
     "metadata": {},
     "output_type": "execute_result"
    }
   ],
   "source": [
    "import doctest\n",
    "\n",
    "def funcA(w: int, x: int) -> int:\n",
    "    \"\"\"\n",
    "    Computes the minimum\n",
    "    Parameters\n",
    "    * w: first number\n",
    "    * x: second number\n",
    "    Returns\n",
    "    The minimum of the two numbers\n",
    "    \n",
    "    >>> funcA(1, 2)\n",
    "    1\n",
    "    >>> funcA(2, 1)\n",
    "    1\n",
    "    >>> funcA(2, 2)\n",
    "    2\n",
    "    \"\"\"\n",
    "    if (w < x):\n",
    "        return w\n",
    "    else:\n",
    "        return x\n",
    "\n",
    "doctest.testmod()"
   ]
  },
  {
   "cell_type": "markdown",
   "id": "731584e1-7877-4fd1-8189-8b7a8be17fb8",
   "metadata": {
    "editable": true,
    "slideshow": {
     "slide_type": "skip"
    },
    "tags": [
     "notes-only"
    ]
   },
   "source": [
    "* Cannot (easily) use doctests to test functions that require input\n",
    "    * Ask for input only in main (or as few functions as possible)"
   ]
  },
  {
   "cell_type": "markdown",
   "id": "1ade4560-6e32-451a-80e0-c895b0fc1e0d",
   "metadata": {
    "editable": true,
    "slideshow": {
     "slide_type": "skip"
    },
    "tags": [
     "blank"
    ]
   },
   "source": [
    "```\n",
    "\n",
    "\n",
    "\n",
    "\n",
    "\n",
    "\n",
    "\n",
    "\n",
    "\n",
    "\n",
    "\n",
    "\n",
    "\n",
    "\n",
    "```"
   ]
  },
  {
   "cell_type": "markdown",
   "id": "6721fa52-e8f7-46c0-91a8-92bad4566c77",
   "metadata": {
    "editable": true,
    "slideshow": {
     "slide_type": ""
    },
    "tags": [
     "question"
    ]
   },
   "source": [
    "_Write 4 good doctests for each of the following functions:_"
   ]
  },
  {
   "cell_type": "code",
   "execution_count": 34,
   "id": "cc1013f2-5f7e-4506-bd18-1c872532666a",
   "metadata": {
    "editable": true,
    "slideshow": {
     "slide_type": "subslide"
    },
    "tags": [
     "question"
    ]
   },
   "outputs": [],
   "source": [
    "def round10(n: int) -> int:\n",
    "    \"\"\"\n",
    "    Rounds a number to the nearest multiple of ten\n",
    "    Parameter:\n",
    "    * n: number to round\n",
    "    Returns:\n",
    "    number rounded to the nearest multiple of ten\n",
    "    \"\"\"\n",
    "    p = n % 10\n",
    "    if p <= 5:\n",
    "        return n - p\n",
    "    else:\n",
    "        return n + (10 - p)"
   ]
  },
  {
   "cell_type": "code",
   "execution_count": 30,
   "id": "3f130254-e2b7-4d66-b199-cfbdf562ea42",
   "metadata": {
    "editable": true,
    "slideshow": {
     "slide_type": "skip"
    },
    "tags": [
     "answer"
    ]
   },
   "outputs": [],
   "source": [
    "def round10(n):\n",
    "    \"\"\"\n",
    "    Rounds a number to the nearest multiple of ten\n",
    "    Parameter:\n",
    "    * n: number to round\n",
    "    Returns:\n",
    "    number rounded to the nearest multiple of ten\n",
    "    \n",
    "    >>> funcC(13)\n",
    "    10\n",
    "    >>> funcC(27)\n",
    "    30\n",
    "    >>> funcC(30)\n",
    "    30\n",
    "    >>> funcC(45)\n",
    "    40\n",
    "    \"\"\"\n",
    "    p = n % 10\n",
    "    if p <= 5:\n",
    "        return n - p\n",
    "    else:\n",
    "        return n + (10 - p)"
   ]
  },
  {
   "cell_type": "markdown",
   "id": "da38625a-b3db-48a1-b767-3a8bbbbc37cf",
   "metadata": {
    "editable": true,
    "slideshow": {
     "slide_type": "skip"
    },
    "tags": [
     "blank"
    ]
   },
   "source": [
    "```\n",
    "\n",
    "\n",
    "\n",
    "\n",
    "\n",
    "\n",
    "\n",
    "\n",
    "\n",
    "```"
   ]
  },
  {
   "cell_type": "code",
   "execution_count": 32,
   "id": "0e3639b2-37a0-4103-8e19-83f638aa5cc8",
   "metadata": {
    "editable": true,
    "slideshow": {
     "slide_type": "subslide"
    },
    "tags": [
     "question"
    ]
   },
   "outputs": [],
   "source": [
    "def count_words(paragraph: str) -> str:\n",
    "    \"\"\"\n",
    "    Counts the number of words in a paragraph\n",
    "    Parameter\n",
    "    * paragraph: paragraph where each word is separated by a space\n",
    "    Return\n",
    "    the number of words (i.e., spaces) in a paragraph\n",
    "    \"\"\"\n",
    "    words = 0\n",
    "    for char in paragraph:\n",
    "        if char == ' ':\n",
    "            words = words + 1\n",
    "    words = words + 1 # Include last word, which won't have a space afterwards\n",
    "    return words"
   ]
  },
  {
   "cell_type": "code",
   "execution_count": 33,
   "id": "57957794-e0a5-4698-98df-f8b290ec739b",
   "metadata": {
    "editable": true,
    "slideshow": {
     "slide_type": "skip"
    },
    "tags": [
     "answer"
    ]
   },
   "outputs": [],
   "source": [
    "def count_words(paragraph):\n",
    "    \"\"\"\n",
    "    Counts the number of words in a paragraph\n",
    "    Parameter\n",
    "    * paragraph: paragraph where each word is separated by a space\n",
    "    Return\n",
    "    the number of words (i.e., spaces) in a paragraph\n",
    "    \n",
    "    >>> count_words(\"Once upon a time, there lived a COSC 101 student. They loved programming.\")\n",
    "    13\n",
    "    >>> count_words(\"They loved programming.\")\n",
    "    3\n",
    "    >>> count_words(\"Hooray.\")\n",
    "    1\n",
    "    >>> count_words(\"\"Once upon a time, there lived a COSC 101 student.\")\n",
    "    10\n",
    "    \"\"\"\n",
    "    words = 0\n",
    "    for char in paragraph:\n",
    "        if char == ' ':\n",
    "            words = words + 1\n",
    "    words = words + 1 # Include last word, which won't have a space afterwards\n",
    "    return words"
   ]
  },
  {
   "cell_type": "markdown",
   "id": "fa4efbc0-5a7b-4c41-bd2b-3a6f8ea1d4b5",
   "metadata": {
    "editable": true,
    "slideshow": {
     "slide_type": "skip"
    },
    "tags": [
     "blank"
    ]
   },
   "source": [
    "```\n",
    "\n",
    "\n",
    "\n",
    "\n",
    "\n",
    "\n",
    "\n",
    "\n",
    "\n",
    "\n",
    "```"
   ]
  },
  {
   "cell_type": "markdown",
   "id": "b7e9fd7a-8623-4217-bd82-317c4a19a7df",
   "metadata": {
    "editable": true,
    "slideshow": {
     "slide_type": "slide"
    },
    "tags": []
   },
   "source": [
    "## Slicing"
   ]
  },
  {
   "cell_type": "markdown",
   "id": "fcfb80ef-9bf2-468f-ae53-4e99049aaabd",
   "metadata": {
    "editable": true,
    "slideshow": {
     "slide_type": "skip"
    },
    "tags": [
     "notes-only"
    ]
   },
   "source": [
    "* Used to select a contiguous subset of elements in a sequence (e.g., characters in a string or items in a list\n",
    "* Put starting and ending indices in square brackets separated by a colon\n",
    "    * Includes element at starting index, but excludes element at ending index—similar to sequence generated by `range` going to `STOP-1`"
   ]
  },
  {
   "cell_type": "code",
   "execution_count": 8,
   "id": "cc92d345-c08b-4f69-a5d4-bdf08752c710",
   "metadata": {
    "editable": true,
    "slideshow": {
     "slide_type": "skip"
    },
    "tags": [
     "notes-only"
    ]
   },
   "outputs": [
    {
     "name": "stdout",
     "output_type": "stream",
     "text": [
      "Colgate\n",
      "13\n"
     ]
    }
   ],
   "source": [
    "myString = \"Colgate 13\"\n",
    "print(myString[0:7])\n",
    "print(myString[8:10])"
   ]
  },
  {
   "cell_type": "markdown",
   "id": "04c4a428-3cd8-4c6c-bc37-6f13ce1b229a",
   "metadata": {
    "editable": true,
    "slideshow": {
     "slide_type": "skip"
    },
    "tags": [
     "notes-only"
    ]
   },
   "source": [
    "* _What happens if you exclude the starting index?_ —slice starts at the beginning of the string"
   ]
  },
  {
   "cell_type": "code",
   "execution_count": 9,
   "id": "f4d4593c-4bf1-443e-a74e-6baa1502a6d1",
   "metadata": {
    "editable": true,
    "slideshow": {
     "slide_type": "skip"
    },
    "tags": [
     "notes-only"
    ]
   },
   "outputs": [
    {
     "name": "stdout",
     "output_type": "stream",
     "text": [
      "Col\n"
     ]
    }
   ],
   "source": [
    "print(myString[:3])"
   ]
  },
  {
   "cell_type": "markdown",
   "id": "4e2511a9-6d68-4fa2-8f74-7f327a1d09dc",
   "metadata": {
    "editable": true,
    "slideshow": {
     "slide_type": "skip"
    },
    "tags": [
     "notes-only"
    ]
   },
   "source": [
    "* _What happens if you exclude the ending index?_ —slice stops at the end of the string"
   ]
  },
  {
   "cell_type": "code",
   "execution_count": 10,
   "id": "55d9da5b-fc05-4f9b-9dde-d000f0485972",
   "metadata": {
    "editable": true,
    "slideshow": {
     "slide_type": "skip"
    },
    "tags": [
     "notes-only"
    ]
   },
   "outputs": [
    {
     "name": "stdout",
     "output_type": "stream",
     "text": [
      "13\n"
     ]
    }
   ],
   "source": [
    "print(myString[8:])"
   ]
  },
  {
   "cell_type": "markdown",
   "id": "03c8e6cf-e915-4c4b-8c08-d051c2f7bde2",
   "metadata": {
    "editable": true,
    "slideshow": {
     "slide_type": "skip"
    },
    "tags": [
     "blank"
    ]
   },
   "source": [
    "```\n",
    "\n",
    "\n",
    "\n",
    "\n",
    "\n",
    "\n",
    "\n",
    "\n",
    "\n",
    "\n",
    "```"
   ]
  },
  {
   "cell_type": "markdown",
   "id": "d952fc5d-30e0-4310-bb4e-de38b900e75a",
   "metadata": {
    "editable": true,
    "slideshow": {
     "slide_type": ""
    },
    "tags": []
   },
   "source": [
    "_For each of the following programs, fill-in the blanks such that the program produces the expected output._"
   ]
  },
  {
   "cell_type": "markdown",
   "id": "a8ddeb4d-46df-4b75-8b73-b550ba437ac0",
   "metadata": {
    "editable": true,
    "slideshow": {
     "slide_type": ""
    },
    "tags": [
     "question"
    ]
   },
   "source": [
    "Expected output:\n",
    "```\n",
    "You may write me down in history\n",
    "With your bitter, twisted lies,\n",
    "You may trod me in the very dirt\n",
    "But still, like dust, I'll rise.\n",
    "~Maya Angelou\n",
    "```"
   ]
  },
  {
   "cell_type": "code",
   "execution_count": null,
   "id": "06064dc6-d932-4cab-9593-ae04ba560c3d",
   "metadata": {
    "editable": true,
    "slideshow": {
     "slide_type": ""
    },
    "tags": [
     "blank"
    ]
   },
   "outputs": [],
   "source": [
    "def main() -> None:\n",
    "    line1 = \"You may write me down in history\"\n",
    "    print(line1)\n",
    "    line2 = \"W\" + line1[___:___] + line1[-___] + \" your bitter, twisted lies,\"\n",
    "    print(line2)\n",
    "    line3 = line1[:___] + \"trod me\" + line1[-___:-___] + \"the very dirt\"\n",
    "    print(line3)\n",
    "    line4 = \"But still\" + line2[___] + \" like dust\" + line2[___] + \" I'll rise.\"\n",
    "    print(line4)\n",
    "    print(\"~Maya Angelou\")\n",
    "main()"
   ]
  },
  {
   "cell_type": "code",
   "execution_count": 22,
   "id": "aabdbd6f-5ba9-4a24-a004-5a7d96092b57",
   "metadata": {
    "editable": true,
    "slideshow": {
     "slide_type": "skip"
    },
    "tags": [
     "answer"
    ]
   },
   "outputs": [
    {
     "name": "stdout",
     "output_type": "stream",
     "text": [
      "You may write me down in history\n",
      "With your bitter, twisted lies,\n",
      "You may trod me in the very dirt\n",
      "But still, like dust, I'll rise.\n",
      "~Maya Angelou\n"
     ]
    }
   ],
   "source": [
    "def main() -> None:\n",
    "    line1 = \"You may write me down in history\"\n",
    "    print(line1)\n",
    "    line2 = \"W\" + line1[10:12] + line1[-7] + \" your bitter, twisted lies,\"\n",
    "    print(line2)\n",
    "    line3 = line1[:8] + \"trod me\" + line1[-11:-7] + \"the very dirt\"\n",
    "    print(line3)\n",
    "    line4 = \"But still\" + line2[-1] + \" like dust\" + line2[-1] + \" I'll rise.\"\n",
    "    print(line4)\n",
    "    print(\"~Maya Angelou\")\n",
    "main()"
   ]
  },
  {
   "cell_type": "markdown",
   "id": "7d173633-6c7b-4b08-894d-28d30cce072e",
   "metadata": {
    "editable": true,
    "slideshow": {
     "slide_type": "subslide"
    },
    "tags": [
     "question"
    ]
   },
   "source": [
    "Expected output:\n",
    "```\n",
    "tin\n",
    "figure\n",
    "king\n",
    "kat\n",
    "```"
   ]
  },
  {
   "cell_type": "code",
   "execution_count": null,
   "id": "d0eb1729-5b41-4ef3-a513-7b58b01ee6c0",
   "metadata": {
    "editable": true,
    "slideshow": {
     "slide_type": ""
    },
    "tags": [
     "blank"
    ]
   },
   "outputs": [],
   "source": [
    "def main() -> None:\n",
    "    sport = 'figure skating'\n",
    "    print(sport[___:___])\n",
    "    print(sport[:___])\n",
    "    print(sport[___] + sport[___:])\n",
    "    print(sport[-___:-___])\n",
    "main()"
   ]
  },
  {
   "cell_type": "code",
   "execution_count": 23,
   "id": "bf032011-a956-42b0-807a-46cfd4aaced0",
   "metadata": {
    "editable": true,
    "slideshow": {
     "slide_type": "skip"
    },
    "tags": [
     "answer"
    ]
   },
   "outputs": [
    {
     "name": "stdout",
     "output_type": "stream",
     "text": [
      "tin\n",
      "figure\n",
      "king\n",
      "kat\n"
     ]
    }
   ],
   "source": [
    "def main() -> None:\n",
    "    sport = 'figure skating'\n",
    "    print(sport[10:13])\n",
    "    print(sport[:6])\n",
    "    print(sport[8] + sport[11:])\n",
    "    print(sport[-6:-3])\n",
    "main()"
   ]
  },
  {
   "cell_type": "markdown",
   "id": "af4733b4-8946-40ab-b8f7-7c9149f09ed2",
   "metadata": {
    "editable": true,
    "slideshow": {
     "slide_type": "subslide"
    },
    "tags": [
     "question"
    ]
   },
   "source": [
    "Expected output:\n",
    "```\n",
    "When the light is green you go.\n",
    "When the light is red you stop.\n",
    "But what do you do\n",
    "When the light turns blue\n",
    "With orange and lavender spots?\n",
    "~Shel Silverstein\n",
    "```"
   ]
  },
  {
   "cell_type": "code",
   "execution_count": null,
   "id": "c41a605a-09df-4a87-9dac-3217ad97c5dc",
   "metadata": {
    "editable": true,
    "slideshow": {
     "slide_type": ""
    },
    "tags": [
     "blank"
    ]
   },
   "outputs": [],
   "source": [
    "def main() -> None:\n",
    "    line1 = \"When the light is green you go.\"\n",
    "    print(line1)\n",
    "    line2 = line1[:___] + \"red\" + line1[-___:-___] + \"stop.\"\n",
    "    print(line2)\n",
    "    print(\"But what do you do\")\n",
    "    line4 = line2[:___] + \"turns blue\"\n",
    "    print(line4)\n",
    "    print(\"With orange and lavender spots?\")\n",
    "    print(\"~Shel Silverstein\")\n",
    "main()"
   ]
  },
  {
   "cell_type": "code",
   "execution_count": 42,
   "id": "3b42d77a-5b30-462f-9523-da1eaa0ded1f",
   "metadata": {
    "editable": true,
    "slideshow": {
     "slide_type": "skip"
    },
    "tags": [
     "answer"
    ]
   },
   "outputs": [
    {
     "name": "stdout",
     "output_type": "stream",
     "text": [
      "When the light is green you go.\n",
      "When the light is red you stop.\n",
      "But what do you do\n",
      "When the light turns blue\n",
      "With orange and lavender spots?\n",
      "~Shel Silverstein\n"
     ]
    }
   ],
   "source": [
    "def main() -> None:\n",
    "    line1 = \"When the light is green you go.\"\n",
    "    print(line1)\n",
    "    line2 = line1[:18] + \"red\" + line1[-8:-3] + \"stop.\"\n",
    "    print(line2)\n",
    "    print(\"But what do you do\")\n",
    "    line4 = line2[:15] + \"turns blue\"\n",
    "    print(line4)\n",
    "    print(\"With orange and lavender spots?\")\n",
    "    print(\"~Shel Silverstein\")\n",
    "main()"
   ]
  },
  {
   "cell_type": "markdown",
   "id": "6e76c192-5a0f-416d-a90a-92241e72e695",
   "metadata": {
    "editable": true,
    "slideshow": {
     "slide_type": "slide"
    },
    "tags": []
   },
   "source": [
    "## String methods"
   ]
  },
  {
   "cell_type": "markdown",
   "id": "ea7aa10a-37a3-44ce-987c-ff2138437f55",
   "metadata": {
    "editable": true,
    "slideshow": {
     "slide_type": "skip"
    },
    "tags": [
     "notes-only"
    ]
   },
   "source": [
    "* String operators\n",
    "    * `+` — concetantes two strings\n",
    "    * `*` — repeats a string\n",
    "    * `in` — true if one string exists within another string, otherwise false\n",
    "    * `not in` — true if one string does not exist within another string, otherwise false\n",
    "* Built-in functions\n",
    "    * `len` — returns the length of a string\n",
    "* String methods are functions that are applied to a specific string"
   ]
  },
  {
   "cell_type": "code",
   "execution_count": 11,
   "id": "1ea5713a-d85c-48f5-970e-658f168bbe52",
   "metadata": {
    "editable": true,
    "slideshow": {
     "slide_type": "skip"
    },
    "tags": [
     "notes-only"
    ]
   },
   "outputs": [
    {
     "name": "stdout",
     "output_type": "stream",
     "text": [
      "STILL I RISE\n"
     ]
    }
   ],
   "source": [
    "title = 'Still I rise'\n",
    "print(title.upper())"
   ]
  },
  {
   "cell_type": "markdown",
   "id": "eeb00bca-3b28-43fa-8a07-c6fca30dec1b",
   "metadata": {
    "editable": true,
    "slideshow": {
     "slide_type": "skip"
    },
    "tags": [
     "notes-only"
    ]
   },
   "source": [
    "* Common string methods\n",
    "    * `upper`, `lower` — converts all characters to upper or lower case\n",
    "    * `strip` – removes leading and trailing whitespace (space, tab, newline)\n",
    "    * `replace` — replace all occurrences of one substring with another\n",
    "    * `index` — get index where first occurence of substring starts\n",
    "    * `count` – count number of time substring occurs in string\n",
    "    * `split` – returns a list of substrings based on the given delimeter\n",
    "    * `join` – combines a list of substrings with the given delimeter"
   ]
  },
  {
   "cell_type": "code",
   "execution_count": 12,
   "id": "a20b17b5-f6b4-494b-bfd5-6304c26bc0d1",
   "metadata": {
    "editable": true,
    "slideshow": {
     "slide_type": "skip"
    },
    "tags": [
     "notes-only"
    ]
   },
   "outputs": [
    {
     "name": "stdout",
     "output_type": "stream",
     "text": [
      "editor-in-chief\n",
      "['chocolate', 'peppermint', 'pineapple', 'coconut']\n"
     ]
    }
   ],
   "source": [
    "parts = [\"editor\", \"in\", \"chief\"]\n",
    "compound = '-'.join(parts)\n",
    "print(compound)\n",
    "string = \"chocolate,peppermint,pineapple,coconut\"\n",
    "flavors = string.split(\",\")\n",
    "print(flavors)"
   ]
  },
  {
   "cell_type": "markdown",
   "id": "026268ec-f2b0-4998-b4be-3243e1b2e5b8",
   "metadata": {
    "editable": true,
    "slideshow": {
     "slide_type": "skip"
    },
    "tags": [
     "notes-only"
    ]
   },
   "source": [
    "* `replace`, `index`, and `count` also work with lists"
   ]
  },
  {
   "cell_type": "code",
   "execution_count": 27,
   "id": "d5a2ecb0-bdc8-492d-8b31-2466523dfa2b",
   "metadata": {
    "editable": true,
    "slideshow": {
     "slide_type": "skip"
    },
    "tags": [
     "notes-only"
    ]
   },
   "outputs": [
    {
     "name": "stdout",
     "output_type": "stream",
     "text": [
      "3\n",
      "1\n",
      "2\n"
     ]
    }
   ],
   "source": [
    "words = [\"popcorn\", \"popping\", \"goes\", \"pop\", \"pop\", \"pop\"]\n",
    "print(words.count(\"pop\"))\n",
    "print(words[0].count(\"pop\"))\n",
    "print(words.index(\"goes\"))"
   ]
  },
  {
   "cell_type": "markdown",
   "id": "64aec5f8-ecf3-4788-84be-50b81ec5dbdf",
   "metadata": {
    "editable": true,
    "slideshow": {
     "slide_type": "slide"
    },
    "tags": [
     "question"
    ]
   },
   "source": [
    "*What is the output of each of the following programs?*"
   ]
  },
  {
   "cell_type": "code",
   "execution_count": 21,
   "id": "99adc335-c764-4a8a-8db7-219d344cbde3",
   "metadata": {
    "editable": true,
    "slideshow": {
     "slide_type": "-"
    },
    "tags": [
     "worksheet-code-only"
    ]
   },
   "outputs": [
    {
     "name": "stdout",
     "output_type": "stream",
     "text": [
      "['five', 'twenty five thousand six', 'minutes']\n",
      "twenty-five-thousand\n"
     ]
    }
   ],
   "source": [
    "def main() -> None:\n",
    "    year = 'five hundred twenty five thousand six hundred minutes'\n",
    "    hundred = year.split(' hundred ')\n",
    "    print(hundred)\n",
    "    parts = year.split(' ')\n",
    "    print('-'.join(parts[2:5]))\n",
    "main()"
   ]
  },
  {
   "cell_type": "markdown",
   "id": "9a1e9b96-e465-48f8-a2a4-462cff381030",
   "metadata": {
    "editable": true,
    "slideshow": {
     "slide_type": "skip"
    },
    "tags": [
     "blank"
    ]
   },
   "source": [
    "<p style=\"height:5em;\"></p>"
   ]
  },
  {
   "cell_type": "code",
   "execution_count": 11,
   "id": "cbd1dacf-71bd-40e1-97b8-95a0db61a6fb",
   "metadata": {
    "editable": true,
    "slideshow": {
     "slide_type": "subslide"
    },
    "tags": [
     "worksheet-code-only"
    ]
   },
   "outputs": [
    {
     "name": "stdout",
     "output_type": "stream",
     "text": [
      "In daylights? In sunsets? In midnights? In cups of coffee? \n",
      "In inches, in miles, in laughter, in strife?\n"
     ]
    }
   ],
   "source": [
    "def main() -> None:\n",
    "    units1 = [\"daylights\", \"sunsets\", \"midnights\", \"cups of coffee\"]\n",
    "    how1 = \"\"\n",
    "    for unit in units1:\n",
    "        how1 = how1 + \"In \" + unit + \"? \"\n",
    "    print(how1)\n",
    "    units2 = [\"inches\", \"miles\", \"laughter\", \"strife\"]\n",
    "    how2 = \"In \" + \", in \".join(units2) + \"?\"\n",
    "    print(how2)\n",
    "main()"
   ]
  },
  {
   "cell_type": "markdown",
   "id": "91177430-3c6a-462d-824c-55c1862824ba",
   "metadata": {
    "editable": true,
    "slideshow": {
     "slide_type": "skip"
    },
    "tags": [
     "blank"
    ]
   },
   "source": [
    "<p style=\"height:5em;\"></p>"
   ]
  },
  {
   "cell_type": "markdown",
   "id": "2a3f7a31-9d21-4c02-8f3d-94b9692b493f",
   "metadata": {
    "editable": true,
    "slideshow": {
     "slide_type": ""
    },
    "tags": [
     "question"
    ]
   },
   "source": [
    "_Complete the following functions_:"
   ]
  },
  {
   "cell_type": "code",
   "execution_count": 35,
   "id": "259bcbef-70d0-4884-bfc7-3d64a1484dc4",
   "metadata": {
    "editable": true,
    "slideshow": {
     "slide_type": "subslide"
    },
    "tags": [
     "blank"
    ]
   },
   "outputs": [],
   "source": [
    "def emph(phrase: str, word: str) -> str:\n",
    "    \"\"\"\n",
    "    Make the first occurrence of word in phrase uppercase\n",
    "    Parameters\n",
    "    * phrase: phrase containing word\n",
    "    * word: word to emphasize\n",
    "    Returns\n",
    "    phrase with first occurrence of word in uppercase\n",
    "    \n",
    "    >>> emph(\"A person who never made a mistake never tried anything new.\", \"NEVER\")\n",
    "    \"A person who NEVER made a mistake never tried anything new.\"\n",
    "    >>> emph(\"A person who never made a mistake never tried anything new.\", \"the\")\n",
    "    \"A person who never made a mistake never tried anything new.\"\n",
    "    \"\"\"\n",
    "    "
   ]
  },
  {
   "cell_type": "markdown",
   "id": "1ff86923-26ef-4d42-b6ed-0795feab73c1",
   "metadata": {
    "editable": true,
    "slideshow": {
     "slide_type": "skip"
    },
    "tags": [
     "blank"
    ]
   },
   "source": [
    "```\n",
    "\n",
    "\n",
    "\n",
    "\n",
    "\n",
    "\n",
    "\n",
    "```"
   ]
  },
  {
   "cell_type": "code",
   "execution_count": 4,
   "id": "9794c9b3-1338-4668-92e8-78aa0e4824c8",
   "metadata": {
    "editable": true,
    "slideshow": {
     "slide_type": "skip"
    },
    "tags": [
     "answer"
    ]
   },
   "outputs": [],
   "source": [
    "def emph(phrase: str, word: str) -> str:\n",
    "    \"\"\"\n",
    "    Make the first occurrence of word in phrase uppercase\n",
    "    Parameters\n",
    "    * phrase: phrase containing word\n",
    "    * word: word to emphasize\n",
    "    Returns\n",
    "    phrase with first occurrence of word in uppercase\n",
    "    \n",
    "    >>> emph('\"A person who never made a mistake never tried anything new.\"', \"NEVER\")\n",
    "    '\"A person who NEVER made a mistake never tried anything new.\"'\n",
    "    >>> emph('\"A person who never made a mistake never tried anything new.\"', \"the\")\n",
    "    '\"A person who never made a mistake never tried anything new.\"'\n",
    "    \"\"\"\n",
    "    start = phrase.find(word)\n",
    "    if (start >= 0):\n",
    "        end = start + len(word)\n",
    "        return phrase[:start] + phrase[start:end].upper() + phrase[end:]\n",
    "    else:\n",
    "        return phrase"
   ]
  },
  {
   "cell_type": "code",
   "execution_count": 11,
   "id": "9ed82ad8-6642-4dcd-b4e4-e6c44419a75d",
   "metadata": {
    "editable": true,
    "slideshow": {
     "slide_type": "subslide"
    },
    "tags": [
     "blank"
    ]
   },
   "outputs": [],
   "source": [
    "def bleep(phrase: str, swear_words: list) -> str:\n",
    "    \"\"\"\n",
    "    Replace any words in phrase in the list of swear_words with BLEEP\n",
    "    Parameters\n",
    "    * phrase: string in which to bleep out swear words\n",
    "    * swear_words: list of words to bleep out\n",
    "    Returns\n",
    "    phrase with BLEEP in place of any occurrences of swear words\n",
    "    \n",
    "    >>> bleep(\"Oh crap!\", [\"shit\", \"crap\"])\n",
    "    'Oh BLEEP!'\n",
    "    >>> bleep(\"Oh crap, this shit doesn't work!\", [\"shit\", \"crap\"])\n",
    "    \"Oh BLEEP, this BLEEP doesn't work!\"\n",
    "    \"\"\""
   ]
  },
  {
   "cell_type": "markdown",
   "id": "132c7c76-024c-4ebd-85d9-bee6a1416bc4",
   "metadata": {
    "editable": true,
    "slideshow": {
     "slide_type": "skip"
    },
    "tags": [
     "blank"
    ]
   },
   "source": [
    "```\n",
    "\n",
    "\n",
    "\n",
    "\n",
    "\n",
    "\n",
    "\n",
    "\n",
    "\n",
    "```"
   ]
  },
  {
   "cell_type": "code",
   "execution_count": 38,
   "id": "ebfc194f-d8b8-4a50-9a32-e9bff3b06d0e",
   "metadata": {
    "editable": true,
    "slideshow": {
     "slide_type": "skip"
    },
    "tags": [
     "answer"
    ]
   },
   "outputs": [],
   "source": [
    "def bleep(phrase: str, swear_words: list) -> str:\n",
    "    \"\"\"\n",
    "    Replace any words in phrase in the list of swear_words with BLEEP\n",
    "    Parameters\n",
    "    * phrase: string in which to bleep out swear words\n",
    "    * swear_words: list of words to bleep out\n",
    "    Returns\n",
    "    phrase with BLEEP in place of any occurrences of swear words\n",
    "    \n",
    "    >>> bleep(\"Oh crap!\", [\"shit\", \"crap\"])\n",
    "    'Oh BLEEP!'\n",
    "    >>> bleep(\"Oh crap, this shit doesn't work!\", [\"shit\", \"crap\"])\n",
    "    \"Oh BLEEP, this BLEEP doesn't work!\"\n",
    "    \"\"\"\n",
    "    for swear in swear_words:\n",
    "        phrase = phrase.replace(swear, \"BLEEP\")\n",
    "    return phrase"
   ]
  },
  {
   "cell_type": "markdown",
   "id": "040b414b-044d-4e78-8e5a-bf51940a28db",
   "metadata": {
    "editable": true,
    "slideshow": {
     "slide_type": "slide"
    },
    "tags": []
   },
   "source": [
    "## Extra practice"
   ]
  },
  {
   "cell_type": "markdown",
   "id": "ed62c14a-c171-4d6b-ada5-9ae114935326",
   "metadata": {
    "editable": true,
    "slideshow": {
     "slide_type": ""
    },
    "tags": [
     "question"
    ]
   },
   "source": [
    "_Complete the following functions_:"
   ]
  },
  {
   "cell_type": "code",
   "execution_count": null,
   "id": "90d88346-f94f-46ee-982f-139f554a180d",
   "metadata": {
    "editable": true,
    "slideshow": {
     "slide_type": ""
    },
    "tags": [
     "blank"
    ]
   },
   "outputs": [],
   "source": [
    "def eecummings(poem: str) -> string:\n",
    "    \"\"\"\n",
    "    Converts a poem to lowercase\n",
    "    Parameters:\n",
    "    * poem: poem to convert\n",
    "    Returns:\n",
    "    poem with all letters in lowercase\n",
    "    \n",
    "    >>> eecummings(\"I Carry Your Heart With Me\")\n",
    "    'i carry your heart with me'\n",
    "    \"\"\""
   ]
  },
  {
   "cell_type": "markdown",
   "id": "490e5b8b-3ce9-4545-a060-8ebfc45a5687",
   "metadata": {
    "editable": true,
    "slideshow": {
     "slide_type": "skip"
    },
    "tags": [
     "blank"
    ]
   },
   "source": [
    "```\n",
    "\n",
    "\n",
    "\n",
    "```"
   ]
  },
  {
   "cell_type": "code",
   "execution_count": 13,
   "id": "f62b2759-c2b9-4d00-ab55-dbf4125f0216",
   "metadata": {
    "editable": true,
    "slideshow": {
     "slide_type": "skip"
    },
    "tags": [
     "notes-only"
    ]
   },
   "outputs": [],
   "source": [
    "def eecummings(poem):\n",
    "    \"\"\"\n",
    "    Converts a poem to lowercase\n",
    "    Parameters:\n",
    "    * poem: poem to convert\n",
    "    Returns:\n",
    "    poem with all letters in lowercase\n",
    "    \n",
    "    >>> eecummings(\"I Carry Your Heart With Me\")\n",
    "    'i carry your heart with me'\n",
    "    \"\"\"\n",
    "    return poem.lower()"
   ]
  },
  {
   "cell_type": "code",
   "execution_count": 30,
   "id": "e96f3447-7fc3-4413-8e27-248defe6c59f",
   "metadata": {
    "editable": true,
    "slideshow": {
     "slide_type": ""
    },
    "tags": [
     "blank"
    ]
   },
   "outputs": [],
   "source": [
    "def slice(phrase: str, word: str) -> str:\n",
    "    \"\"\"\n",
    "    Return the slice notation (as a string) for extracting word from phrase\n",
    "    Parameter\n",
    "    * phrase: string to slice\n",
    "    * word: word to extract\n",
    "    Return\n",
    "    string representation of slice notation to use\n",
    "    \n",
    "    >>> slice(\"A piece of pizza\", \"of\")\n",
    "    '[8:10]'\n",
    "    >>> slice(\"A piece of pizza\", \"pie\")\n",
    "    '[2:5]'\n",
    "    >>> slice(\"A piece of pizza\", \"A\")\n",
    "    '[:1]'\n",
    "    >>> slice(\"A piece of pizza\", \"pizza\")\n",
    "    '[11:]'\n",
    "    \"\"\""
   ]
  },
  {
   "cell_type": "markdown",
   "id": "03336278-e56b-4f62-a544-8c2467bc2378",
   "metadata": {
    "editable": true,
    "slideshow": {
     "slide_type": "skip"
    },
    "tags": [
     "blank"
    ]
   },
   "source": [
    "```\n",
    "\n",
    "\n",
    "\n",
    "\n",
    "\n",
    "\n",
    "\n",
    "\n",
    "\n",
    "```"
   ]
  },
  {
   "cell_type": "code",
   "execution_count": 14,
   "id": "6197cfd4-f9fe-4e85-a3d4-1c61439f6609",
   "metadata": {
    "editable": true,
    "slideshow": {
     "slide_type": "skip"
    },
    "tags": [
     "answer"
    ]
   },
   "outputs": [],
   "source": [
    "def slice(phrase, word):\n",
    "    \"\"\"\n",
    "    Return the slice notation (as a string) for extracting word from phrase\n",
    "    Parameter\n",
    "    * phrase: string to slice\n",
    "    * word: word to extract\n",
    "    Return\n",
    "    string representation of slice notation to use\n",
    "    \n",
    "    >>> slice(\"A piece of pizza\", \"of\")\n",
    "    '[8:10]'\n",
    "    >>> slice(\"A piece of pizza\", \"pie\")\n",
    "    '[2:5]'\n",
    "    >>> slice(\"A piece of pizza\", \"A\")\n",
    "    '[:1]'\n",
    "    >>> slice(\"A piece of pizza\", \"pizza\")\n",
    "    '[11:]'\n",
    "    \"\"\"\n",
    "    start = phrase.find(word)\n",
    "    end = start + len(word)\n",
    "    if start == 0:\n",
    "        start = \"\"\n",
    "    if end == len(phrase):\n",
    "        end = \"\"\n",
    "    return \"[\"+str(start)+\":\"+str(end)+\"]\""
   ]
  }
 ],
 "metadata": {
  "kernelspec": {
   "display_name": "Python 3 (ipykernel)",
   "language": "python",
   "name": "python3"
  },
  "language_info": {
   "codemirror_mode": {
    "name": "ipython",
    "version": 3
   },
   "file_extension": ".py",
   "mimetype": "text/x-python",
   "name": "python",
   "nbconvert_exporter": "python",
   "pygments_lexer": "ipython3",
   "version": "3.9.6"
  }
 },
 "nbformat": 4,
 "nbformat_minor": 5
}
