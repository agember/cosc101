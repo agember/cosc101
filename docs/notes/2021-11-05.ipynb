{
 "cells": [
  {
   "cell_type": "markdown",
   "metadata": {
    "slideshow": {
     "slide_type": "skip"
    },
    "tags": []
   },
   "source": [
    "# strings and lists\n",
    "_COSC 101, Introduction to Computing I, 2021-11-05_"
   ]
  },
  {
   "cell_type": "markdown",
   "metadata": {
    "jp-MarkdownHeadingCollapsed": true,
    "slideshow": {
     "slide_type": "skip"
    },
    "tags": []
   },
   "source": [
    "## Announcements\n",
    "* Homework 8 due Thursday"
   ]
  },
  {
   "cell_type": "markdown",
   "metadata": {
    "slideshow": {
     "slide_type": "skip"
    },
    "tags": [
     "notes-only"
    ]
   },
   "source": [
    "## Outline\n",
    "* Warm-up\n",
    "* References and aliasing practice (continued)\n",
    "* Strings and lists\n",
    "* Programming practice"
   ]
  },
  {
   "cell_type": "markdown",
   "metadata": {
    "slideshow": {
     "slide_type": "slide"
    }
   },
   "source": [
    "# Warm-up\n",
    "Write a function called `filter_above` that takes a list of integers and a single integer representing a threshold and returns a new list that contains all of the integers in the original list that are above the threshold."
   ]
  },
  {
   "cell_type": "code",
   "execution_count": null,
   "metadata": {
    "slideshow": {
     "slide_type": "-"
    },
    "tags": [
     "worksheet-only"
    ]
   },
   "outputs": [],
   "source": [
    "def filter_above(nums, threshold):\n",
    "    '''\n",
    "    Return all values in nums that are above threshold\n",
    "    >>> filter_above([1, 2, 3, 4, 5], 3)\n",
    "    [4, 5]\n",
    "    >>> filter_above([8, 2, 3, 7, 8], 5)\n",
    "    [8, 7, 8]\n",
    "    '''\n",
    "    \n",
    "    \n",
    "    \n",
    "\n",
    "    \n",
    "    \n",
    "    \n",
    "    \n",
    "    \n",
    "    \n",
    "    \n",
    "    "
   ]
  },
  {
   "cell_type": "code",
   "execution_count": 1,
   "metadata": {
    "slideshow": {
     "slide_type": "skip"
    },
    "tags": [
     "notes-only"
    ]
   },
   "outputs": [
    {
     "name": "stdout",
     "output_type": "stream",
     "text": [
      "Passed 1st test\n",
      "Passed 2nd test\n"
     ]
    }
   ],
   "source": [
    "def filter_above(nums, threshold):\n",
    "    '''Return all values in nums that are above threshold'''\n",
    "    filtered = []\n",
    "    for num in nums:\n",
    "        if num > threshold:\n",
    "            filtered.append(num)\n",
    "    return filtered\n",
    "\n",
    "def test_filter_above():\n",
    "    orig = [1, 2, 3, 4, 5]\n",
    "    filtered = filter_above(orig, 3)\n",
    "    if orig != [1, 2, 3, 4, 5] or filtered != [4, 5]:\n",
    "        print(\"Failed 1st test: orig\", orig, \"filtered\", filtered)\n",
    "    else:\n",
    "        print(\"Passed 1st test\")\n",
    "    \n",
    "    orig = [8, 2, 3, 7, 8]\n",
    "    filtered = filter_above(orig, 5)\n",
    "    if orig != [8, 2, 3, 7, 8] or filtered != [8, 7, 8]:\n",
    "        print(\"Failed 2nd test: orig\", orig, \"filtered\", filtered)\n",
    "    else:\n",
    "        print(\"Passed 2nd test\")\n",
    "        \n",
    "test_filter_above()"
   ]
  },
  {
   "cell_type": "markdown",
   "metadata": {
    "slideshow": {
     "slide_type": "skip"
    },
    "tags": [
     "worksheet-only"
    ]
   },
   "source": [
    "🛑 **STOP HERE** after completing the warm-up; please **DO NOT WORK AHEAD**. If you have extra time, work on the extra practice problems."
   ]
  },
  {
   "cell_type": "markdown",
   "metadata": {
    "slideshow": {
     "slide_type": "slide"
    },
    "tags": [
     "notes-only"
    ]
   },
   "source": [
    "## References and aliasing practice (continued)"
   ]
  },
  {
   "cell_type": "code",
   "execution_count": 16,
   "metadata": {
    "tags": [
     "notes-only"
    ]
   },
   "outputs": [
    {
     "name": "stdout",
     "output_type": "stream",
     "text": [
      "Y [1, 3, 5] Z [2, 4, 6]\n"
     ]
    }
   ],
   "source": [
    "#4)\n",
    "def swapTwo(p, q):\n",
    "    r = p[:]\n",
    "    s = q[:]\n",
    "    r[1] = s[1]\n",
    "    s[1] = p[1]\n",
    "    \n",
    "y = [1, 3, 5]\n",
    "z = [2, 4, 6]\n",
    "swapTwo(y, z)\n",
    "print(\"Y\", y, \"Z\", z)"
   ]
  },
  {
   "cell_type": "code",
   "execution_count": 17,
   "metadata": {
    "slideshow": {
     "slide_type": "subslide"
    },
    "tags": [
     "notes-only"
    ]
   },
   "outputs": [
    {
     "name": "stdout",
     "output_type": "stream",
     "text": [
      "J [5, 10, 15] K [5, 10]\n"
     ]
    }
   ],
   "source": [
    "#5)\n",
    "j = [5, 10]\n",
    "k = j\n",
    "j = j + [15]\n",
    "print(\"J\", j, \"K\", k)"
   ]
  },
  {
   "cell_type": "code",
   "execution_count": 18,
   "metadata": {
    "slideshow": {
     "slide_type": "subslide"
    },
    "tags": [
     "notes-only"
    ]
   },
   "outputs": [
    {
     "name": "stdout",
     "output_type": "stream",
     "text": [
      "M None N [5, 10, 15]\n"
     ]
    }
   ],
   "source": [
    "#6)\n",
    "m = [5, 10]\n",
    "n = m\n",
    "m = m.append(15)\n",
    "print(\"M\", m, \"N\", n)"
   ]
  },
  {
   "cell_type": "markdown",
   "metadata": {
    "slideshow": {
     "slide_type": "slide"
    },
    "tags": []
   },
   "source": [
    "## Strings and lists"
   ]
  },
  {
   "cell_type": "markdown",
   "metadata": {
    "slideshow": {
     "slide_type": "skip"
    },
    "tags": [
     "notes-only"
    ]
   },
   "source": [
    "\n",
    "* Use the `split` method to break a string into parts"
   ]
  },
  {
   "cell_type": "code",
   "execution_count": 5,
   "metadata": {
    "tags": []
   },
   "outputs": [
    {
     "name": "stdout",
     "output_type": "stream",
     "text": [
      "['Can', 'you', 'jump', 'like', 'a', 'kangaroo?', 'Can', 'you', 'roar', 'like', 'a', 'lion?', 'Can', 'you', 'run', 'like', 'a', 'cheetah?']\n",
      "['Can you jump like a kangaroo', ' Can you roar like a lion', ' Can you run like a cheetah', '']\n"
     ]
    }
   ],
   "source": [
    "# Example with split\n",
    "paragraph = \"Can you jump like a kangaroo? Can you roar like a lion? Can you run like a cheetah?\"\n",
    "words = paragraph.split()\n",
    "print(words)\n",
    "sentences = paragraph.split('?')\n",
    "print(sentences)"
   ]
  },
  {
   "cell_type": "markdown",
   "metadata": {
    "slideshow": {
     "slide_type": "skip"
    },
    "tags": []
   },
   "source": [
    "* Use the `join` method to combine a list of strings into a single string separated"
   ]
  },
  {
   "cell_type": "code",
   "execution_count": 3,
   "metadata": {
    "slideshow": {
     "slide_type": "fragment"
    },
    "tags": []
   },
   "outputs": [
    {
     "name": "stdout",
     "output_type": "stream",
     "text": [
      "Can you jump like a kangaroo??? Can you roar like a lion??? Can you run like a cheetah???\n",
      "['Can', 'you', 'roar', 'like', 'a', 'cheetah?']\n",
      "Can you roar like a cheetah?\n"
     ]
    }
   ],
   "source": [
    "# Example with join\n",
    "new_paragraph = '???'.join(sentences)\n",
    "print(new_paragraph)\n",
    "some_words = words[:2] + words[8:10] + words[-2:]\n",
    "print(some_words)\n",
    "new_sentence = ' '.join(some_words)\n",
    "print(new_sentence)"
   ]
  },
  {
   "cell_type": "markdown",
   "metadata": {
    "slideshow": {
     "slide_type": "skip"
    },
    "tags": []
   },
   "source": [
    "* Use the `list` function to covert a string into a list of characters"
   ]
  },
  {
   "cell_type": "code",
   "execution_count": 6,
   "metadata": {
    "slideshow": {
     "slide_type": "fragment"
    },
    "tags": []
   },
   "outputs": [
    {
     "name": "stdout",
     "output_type": "stream",
     "text": [
      "['H', 'a', 'v', 'e', ' ', 'a', ' ', 'g', 'o', 'o', 'd', ' ', 'd', 'a', 'y', '!']\n"
     ]
    }
   ],
   "source": [
    "# Example with conversion to list\n",
    "phrase = \"Have a good day!\"\n",
    "characters = list(phrase)\n",
    "print(characters)"
   ]
  },
  {
   "cell_type": "markdown",
   "metadata": {
    "slideshow": {
     "slide_type": "slide"
    }
   },
   "source": [
    "### Practice\n",
    "*What is the output of each of the following programs?*"
   ]
  },
  {
   "cell_type": "code",
   "execution_count": 10,
   "metadata": {
    "slideshow": {
     "slide_type": "-"
    },
    "tags": [
     "worksheet-code-only"
    ]
   },
   "outputs": [
    {
     "name": "stdout",
     "output_type": "stream",
     "text": [
      "['five', 'twenty five thousand six', 'minutes']\n",
      "six-hundred-five-thousand-five-hundred-minutes\n"
     ]
    }
   ],
   "source": [
    "#1)\n",
    "year = 'five hundred twenty five thousand six hundred minutes'\n",
    "hundred = year.split(' hundred ')\n",
    "print(hundred)\n",
    "parts = year.split(' ')\n",
    "new_year = parts[5:7] + parts[3:5] + parts[0:2] + parts[-1:]\n",
    "print('-'.join(new_year))"
   ]
  },
  {
   "cell_type": "markdown",
   "metadata": {
    "slideshow": {
     "slide_type": "skip"
    },
    "tags": [
     "colab-only"
    ]
   },
   "source": [
    "<p style=\"height:5em;\"></p>"
   ]
  },
  {
   "cell_type": "code",
   "execution_count": 11,
   "metadata": {
    "slideshow": {
     "slide_type": "subslide"
    },
    "tags": [
     "worksheet-code-only"
    ]
   },
   "outputs": [
    {
     "name": "stdout",
     "output_type": "stream",
     "text": [
      "In daylights? In sunsets? In midnights? In cups of coffee? \n",
      "In inches, in miles, in laughter, in strife?\n"
     ]
    }
   ],
   "source": [
    "#2)\n",
    "units1 = [\"daylights\", \"sunsets\", \"midnights\", \"cups of coffee\"]\n",
    "how1 = \"\"\n",
    "for unit in units1:\n",
    "    how1 = how1 + \"In \" + unit + \"? \"\n",
    "print(how1)\n",
    "units2 = [\"inches\", \"miles\", \"laughter\", \"strife\"]\n",
    "how2 = \"In \" + \", in \".join(units2) + \"?\"\n",
    "print(how2)"
   ]
  },
  {
   "cell_type": "markdown",
   "metadata": {
    "slideshow": {
     "slide_type": "skip"
    },
    "tags": [
     "colab-only"
    ]
   },
   "source": [
    "<p style=\"height:5em;\"></p>"
   ]
  },
  {
   "cell_type": "markdown",
   "metadata": {
    "slideshow": {
     "slide_type": "slide"
    }
   },
   "source": [
    "## Programming practice\n",
    "\\#1) *Write a function called `get_words` that takes a sentence and returns a list of the words (in all lowercase) in the sentence. If a word appears more than once, only include it in the list the first time it appears.*"
   ]
  },
  {
   "cell_type": "code",
   "execution_count": null,
   "metadata": {
    "slideshow": {
     "slide_type": "skip"
    },
    "tags": [
     "worksheet-only"
    ]
   },
   "outputs": [],
   "source": [
    "def get_words(sentence):\n",
    "    '''\n",
    "    Get a list of words in the sentence\n",
    "    \n",
    "    >>> get_words(\"thirteen has the most\")\n",
    "    ['thirteen', 'has', 'the', 'most']\n",
    "    >>> get_words(\"Seven AND eight are tied\")\n",
    "    ['seven', 'and', 'eight', 'are', 'tied']\n",
    "    >>> get_words(\"repeat this repeat this\")\n",
    "    ['repeat', 'this']\n",
    "    '''\n",
    "   \n",
    "\n",
    "\n",
    "\n",
    "\n",
    "\n",
    "\n",
    "\n"
   ]
  },
  {
   "cell_type": "code",
   "execution_count": 20,
   "metadata": {
    "slideshow": {
     "slide_type": "skip"
    },
    "tags": [
     "notes-only"
    ]
   },
   "outputs": [],
   "source": [
    "def get_words(sentence):\n",
    "    '''\n",
    "    Get a list of words in the sentence\n",
    "    \n",
    "    >>> get_words(\"thirteen has the most\")\n",
    "    ['thirteen', 'has', 'the', 'most']\n",
    "    >>> get_words(\"Seven AND eight are tied\")\n",
    "    ['seven', 'and', 'eight', 'are', 'tied']\n",
    "    >>> get_words(\"repeat this repeat this\")\n",
    "    ['repeat', 'this']\n",
    "    '''\n",
    "    # Get all words in the sentence in lowercase\n",
    "    sentence = sentence.lower()\n",
    "    all_words = sentence.split(' ')\n",
    "    \n",
    "    # Eliminate duplicates\n",
    "    unique_words = []\n",
    "    for word in all_words:\n",
    "        if word not in unique_words:\n",
    "            unique_words.append(word)\n",
    "    return unique_words"
   ]
  },
  {
   "cell_type": "markdown",
   "metadata": {
    "slideshow": {
     "slide_type": "fragment"
    },
    "tags": []
   },
   "source": [
    "\\#2) *Write a function called `get_lengths` that takes a list of words and returns a list with the length of each word in the list.*"
   ]
  },
  {
   "cell_type": "code",
   "execution_count": null,
   "metadata": {
    "slideshow": {
     "slide_type": "skip"
    },
    "tags": [
     "worksheet-only"
    ]
   },
   "outputs": [],
   "source": [
    "def get_lengths(words):\n",
    "    '''\n",
    "    Compute the length of each word in the list of words\n",
    "    \n",
    "    >>> get_lengths(['thirteen', 'has', 'the', 'most'])\n",
    "    [8, 3, 3, 4]\n",
    "    >>> get_lengths(['seven', 'and', 'eight', 'are', 'tied'])\n",
    "    [5, 3, 5, 3, 4]\n",
    "    >>> get_lengths(['repeat', 'this'])\n",
    "    [6, 4] \n",
    "    '''\n",
    "   \n",
    "\n",
    "\n",
    "\n",
    "\n",
    "\n"
   ]
  },
  {
   "cell_type": "code",
   "execution_count": 23,
   "metadata": {
    "slideshow": {
     "slide_type": "skip"
    },
    "tags": [
     "notes-only"
    ]
   },
   "outputs": [],
   "source": [
    "def get_lengths(words):\n",
    "    '''\n",
    "    Compute the length of each word in the list of words\n",
    "    \n",
    "    >>> get_lengths(['thirteen', 'has', 'the', 'most'])\n",
    "    [8, 3, 3, 4]\n",
    "    >>> get_lengths(['seven', 'and', 'eight', 'are', 'tied'])\n",
    "    [5, 3, 5, 3, 4]\n",
    "    >>> get_lengths(['repeat', 'this'])\n",
    "    [6, 4]\n",
    "    '''\n",
    "    lengths = []\n",
    "    for word in words:\n",
    "        length = len(word)\n",
    "        lengths.append(length)\n",
    "    return lengths"
   ]
  },
  {
   "cell_type": "markdown",
   "metadata": {
    "slideshow": {
     "slide_type": "slide"
    },
    "tags": []
   },
   "source": [
    "## Extra practice\n",
    "\\#1): *What is the output of the following programs?*"
   ]
  },
  {
   "cell_type": "code",
   "execution_count": 9,
   "metadata": {
    "tags": [
     "worksheet-code-only"
    ]
   },
   "outputs": [
    {
     "name": "stdout",
     "output_type": "stream",
     "text": [
      "['How about', 'love', 'Measure in', 'love', 'Seasons of', 'love']\n",
      "[['How about', 'love'], 'Measure in', 'love', ['Seasons of', 'love']]\n",
      "['How about', 'love', 'How about', 'love', 'How about', 'love', 'Measure in', 'love', ['Seasons of', 'love', 'Seasons of', 'love']]\n"
     ]
    }
   ],
   "source": [
    "prefixes = [\"How about\", \"Measure in\", \"Seasons of\"]\n",
    "for i in range(1, 7, 2):\n",
    "    prefixes[i:i] = [\"love\"]\n",
    "print(prefixes)\n",
    "lines = []\n",
    "lines.append(prefixes[:2])\n",
    "lines = lines + prefixes[2:4]\n",
    "lines = lines + [prefixes[4:]]\n",
    "print(lines)\n",
    "lines[0:1] = lines[0] * 3\n",
    "lines[-1] = lines[-1] * 2\n",
    "print(lines)"
   ]
  },
  {
   "cell_type": "markdown",
   "metadata": {
    "slideshow": {
     "slide_type": "subslide"
    },
    "tags": []
   },
   "source": [
    "\\#2) *Write a function called `get_longest` that takes a sentence and returns the longest word in a sentence. If there is a tie, then return a list of words that are tied for longest.*"
   ]
  },
  {
   "cell_type": "code",
   "execution_count": null,
   "metadata": {
    "slideshow": {
     "slide_type": "skip"
    },
    "tags": [
     "worksheet-only"
    ]
   },
   "outputs": [],
   "source": [
    "def get_longest(sentence):\n",
    "    '''\n",
    "    Get the longest word(s) in sentence\n",
    "    \n",
    "    >>> get_longest(\"thirteen has the most\")\n",
    "    'thirteen'\n",
    "    >>> get_longest(\"Seven AND eight are tied\")\n",
    "    ['seven', 'eight']\n",
    "    >>> get_longest(\"repeat this repeat this\")\n",
    "    'repeat'\n",
    "    '''"
   ]
  },
  {
   "cell_type": "code",
   "execution_count": 21,
   "metadata": {
    "slideshow": {
     "slide_type": "skip"
    },
    "tags": [
     "notes-only"
    ]
   },
   "outputs": [],
   "source": [
    "def get_longest(sentence):\n",
    "    '''\n",
    "    Get the longest word(s) in sentence\n",
    "    \n",
    "    >>> get_longest(\"thirteen has the most\")\n",
    "    'thirteen'\n",
    "    >>> get_longest(\"Seven AND eight are tied\")\n",
    "    ['seven', 'eight']\n",
    "    >>> get_longest(\"repeat this repeat this\")\n",
    "    'repeat'\n",
    "    '''\n",
    "    # Get the words and lengths\n",
    "    words = get_words(sentence)\n",
    "    lengths = get_lengths(words)\n",
    "    \n",
    "    # Determine the length of the longest word(s)\n",
    "    longest_length = max(lengths)\n",
    "    \n",
    "    # Get the longest words\n",
    "    longest_words = []\n",
    "    for i in range(len(words)):\n",
    "        if lengths[i] == longest_length:\n",
    "            longest_words.append(words[i])\n",
    "    \n",
    "    # Return a single word or a list of words\n",
    "    if len(longest_words) == 1:\n",
    "        return longest_words[0]\n",
    "    else:\n",
    "        return longest_words"
   ]
  },
  {
   "cell_type": "code",
   "execution_count": 24,
   "metadata": {
    "tags": [
     "notes-only"
    ]
   },
   "outputs": [
    {
     "data": {
      "text/plain": [
       "TestResults(failed=0, attempted=9)"
      ]
     },
     "execution_count": 24,
     "metadata": {},
     "output_type": "execute_result"
    }
   ],
   "source": [
    "import doctest\n",
    "doctest.testmod()"
   ]
  },
  {
   "cell_type": "markdown",
   "metadata": {
    "slideshow": {
     "slide_type": "skip"
    },
    "tags": [
     "colab-only"
    ]
   },
   "source": [
    "<p style=\"height:5em;\"></p>"
   ]
  }
 ],
 "metadata": {
  "celltoolbar": "Slideshow",
  "kernelspec": {
   "display_name": "Python 3 (ipykernel)",
   "language": "python",
   "name": "python3"
  },
  "language_info": {
   "codemirror_mode": {
    "name": "ipython",
    "version": 3
   },
   "file_extension": ".py",
   "mimetype": "text/x-python",
   "name": "python",
   "nbconvert_exporter": "python",
   "pygments_lexer": "ipython3",
   "version": "3.8.2"
  }
 },
 "nbformat": 4,
 "nbformat_minor": 4
}
