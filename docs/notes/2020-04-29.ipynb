{
 "cells": [
  {
   "cell_type": "markdown",
   "metadata": {},
   "source": [
    "# 2020-04-29: Final exam review"
   ]
  },
  {
   "cell_type": "markdown",
   "metadata": {},
   "source": [
    "# Announcements\n",
    "* **Complete the Student Evaluation of Teaching (SET) for this course!**\n",
    "* Homework #10 due Thursday @ 11pm EDT\n",
    "* Complete final exam between Monday, May 4 @ 9am and Friday, May 8 @ 5pm\n",
    "* Extra office hours next week: sign-up at https://agemberjacobson.as.me"
   ]
  },
  {
   "cell_type": "markdown",
   "metadata": {},
   "source": [
    "# Practice: reading code\n",
    "## Strings\n",
    "*Assume `mystr` contains a string with at least 10 characters. Which of the following are **valid** expression (i.e., they will **not** cause a runtime error)?*"
   ]
  },
  {
   "cell_type": "code",
   "execution_count": 11,
   "metadata": {
    "tags": [
     "notes-only"
    ]
   },
   "outputs": [],
   "source": [
    "mystr = \"Sample string\""
   ]
  },
  {
   "cell_type": "code",
   "execution_count": 12,
   "metadata": {
    "tags": [
     "worksheet-code-only"
    ]
   },
   "outputs": [
    {
     "data": {
      "text/plain": [
       "'g'"
      ]
     },
     "execution_count": 12,
     "metadata": {},
     "output_type": "execute_result"
    }
   ],
   "source": [
    "mystr[-1]"
   ]
  },
  {
   "cell_type": "code",
   "execution_count": 13,
   "metadata": {
    "tags": [
     "worksheet-code-only"
    ]
   },
   "outputs": [
    {
     "ename": "IndexError",
     "evalue": "string index out of range",
     "output_type": "error",
     "traceback": [
      "\u001b[0;31m---------------------------------------------------------------------------\u001b[0m",
      "\u001b[0;31mIndexError\u001b[0m                                Traceback (most recent call last)",
      "\u001b[0;32m<ipython-input-13-31ea7a37ee60>\u001b[0m in \u001b[0;36m<module>\u001b[0;34m\u001b[0m\n\u001b[0;32m----> 1\u001b[0;31m \u001b[0mmystr\u001b[0m\u001b[0;34m[\u001b[0m\u001b[0mlen\u001b[0m\u001b[0;34m(\u001b[0m\u001b[0mmystr\u001b[0m\u001b[0;34m)\u001b[0m\u001b[0;34m]\u001b[0m\u001b[0;34m\u001b[0m\u001b[0;34m\u001b[0m\u001b[0m\n\u001b[0m",
      "\u001b[0;31mIndexError\u001b[0m: string index out of range"
     ]
    }
   ],
   "source": [
    "mystr[len(mystr)]"
   ]
  },
  {
   "cell_type": "code",
   "execution_count": 14,
   "metadata": {
    "tags": [
     "worksheet-code-only"
    ]
   },
   "outputs": [
    {
     "data": {
      "text/plain": [
       "'Sang'"
      ]
     },
     "execution_count": 14,
     "metadata": {},
     "output_type": "execute_result"
    }
   ],
   "source": [
    "mystr[:2] + mystr[-2:]"
   ]
  },
  {
   "cell_type": "code",
   "execution_count": 15,
   "metadata": {
    "tags": [
     "worksheet-code-only"
    ]
   },
   "outputs": [
    {
     "data": {
      "text/plain": [
       "'Sample stringSample string'"
      ]
     },
     "execution_count": 15,
     "metadata": {},
     "output_type": "execute_result"
    }
   ],
   "source": [
    "mystr * 2"
   ]
  },
  {
   "cell_type": "code",
   "execution_count": 16,
   "metadata": {
    "tags": [
     "worksheet-code-only"
    ]
   },
   "outputs": [
    {
     "data": {
      "text/plain": [
       "'Sample_string'"
      ]
     },
     "execution_count": 16,
     "metadata": {},
     "output_type": "execute_result"
    }
   ],
   "source": [
    "\"_\".join(mystr.split())"
   ]
  },
  {
   "cell_type": "markdown",
   "metadata": {
    "tags": [
     "notes-only"
    ]
   },
   "source": [
    "All expressions **except** `mystr(len(mystr))` are valid"
   ]
  },
  {
   "cell_type": "markdown",
   "metadata": {},
   "source": [
    "## Aliasing\n",
    "*Which of the following are **pure** functions (i.e., they do not modify the original string or list passed to the function)?*"
   ]
  },
  {
   "cell_type": "code",
   "execution_count": 21,
   "metadata": {},
   "outputs": [],
   "source": [
    "def funcA(instr):\n",
    "    outstr = instr[:]\n",
    "    outstr = outstr.lower()\n",
    "    return outstr"
   ]
  },
  {
   "cell_type": "code",
   "execution_count": 22,
   "metadata": {},
   "outputs": [],
   "source": [
    "def funcB(insrt):\n",
    "    outstr = instr\n",
    "    oustr = outstr.upper()\n",
    "    return outstr"
   ]
  },
  {
   "cell_type": "code",
   "execution_count": 23,
   "metadata": {},
   "outputs": [],
   "source": [
    "def funcC(inlist):\n",
    "    outlist = inlist\n",
    "    outlist.append('New')\n",
    "    return outlist"
   ]
  },
  {
   "cell_type": "code",
   "execution_count": 24,
   "metadata": {},
   "outputs": [],
   "source": [
    "def funcD(inlist):\n",
    "    outlist = inlist\n",
    "    outlist = outlist + ['New']\n",
    "    return outlist    "
   ]
  },
  {
   "cell_type": "code",
   "execution_count": 25,
   "metadata": {},
   "outputs": [],
   "source": [
    "def funcE(inlist):\n",
    "    outlist = inlist[:]\n",
    "    outlist.extend(['New'])\n",
    "    return outlist"
   ]
  },
  {
   "cell_type": "markdown",
   "metadata": {
    "tags": [
     "notes-only"
    ]
   },
   "source": [
    "All functions **except** `funcC` are pure functions"
   ]
  },
  {
   "cell_type": "markdown",
   "metadata": {},
   "source": [
    "## Scope\n",
    "*Assume you are given the following program:*"
   ]
  },
  {
   "cell_type": "code",
   "execution_count": 29,
   "metadata": {},
   "outputs": [],
   "source": [
    "def expand(a):\n",
    "    b = a * 2\n",
    "    return b\n",
    "\n",
    "def shrink(c):\n",
    "    d = len(c)//2\n",
    "    # INSERT PRINT STATEMENT HERE\n",
    "    return c[:d]\n",
    "\n",
    "e = \"Quack!\"\n",
    "f = expand(e)\n",
    "g = shrink(e)"
   ]
  },
  {
   "cell_type": "markdown",
   "metadata": {},
   "source": [
    "*Which variables (`a`, `b`, `c`, `d`, `e`, `f`, `g`) could be printed at the indicated location without causing a runtime error?*"
   ]
  },
  {
   "cell_type": "markdown",
   "metadata": {
    "tags": [
     "notes-only"
    ]
   },
   "source": [
    "Variables `c`, `d`, `e`, and `f` can be printed."
   ]
  },
  {
   "cell_type": "markdown",
   "metadata": {},
   "source": [
    "## Conditionals\n",
    "*Assume you are given the following function defintion:*"
   ]
  },
  {
   "cell_type": "code",
   "execution_count": 31,
   "metadata": {},
   "outputs": [],
   "source": [
    "def conds_original(num):\n",
    "    if num > 20:\n",
    "        if num < 10:\n",
    "            print('A')\n",
    "    if num < 5:\n",
    "        print('B')\n",
    "    elif num == 5:\n",
    "        print('C')\n",
    "    else:\n",
    "        print('D')"
   ]
  },
  {
   "cell_type": "markdown",
   "metadata": {},
   "source": [
    "*Which of the following function defintions are equivalent?*"
   ]
  },
  {
   "cell_type": "code",
   "execution_count": 32,
   "metadata": {},
   "outputs": [],
   "source": [
    "def conds_version1(num):\n",
    "    if num > 20 and num < 10:\n",
    "        print('A')\n",
    "    if num == 5:\n",
    "        print('C')\n",
    "    elif num < 5:\n",
    "        print('B')\n",
    "    else:\n",
    "        print('D')"
   ]
  },
  {
   "cell_type": "code",
   "execution_count": 33,
   "metadata": {},
   "outputs": [],
   "source": [
    "def conds_version2(num):\n",
    "    if num < 5:\n",
    "        print('B')\n",
    "    elif num == 5:\n",
    "        print('C')\n",
    "    else:\n",
    "        print('D')"
   ]
  },
  {
   "cell_type": "code",
   "execution_count": null,
   "metadata": {},
   "outputs": [],
   "source": [
    "def conds_version3(num):\n",
    "    if num > 20:\n",
    "        if num < 10:\n",
    "            print('A')\n",
    "    if num <= 5:\n",
    "        if num == 5:\n",
    "            print('C')\n",
    "        else:\n",
    "            print('B')\n",
    "    else:\n",
    "        print('D')"
   ]
  },
  {
   "cell_type": "code",
   "execution_count": null,
   "metadata": {},
   "outputs": [],
   "source": [
    "def conds_version4(num):\n",
    "    if num > 20:\n",
    "        if num < 10:\n",
    "            print('A')\n",
    "    if num < 5:\n",
    "        print('B')\n",
    "    if num == 5:\n",
    "        print('C')\n",
    "    else:\n",
    "        print('D')"
   ]
  },
  {
   "cell_type": "code",
   "execution_count": null,
   "metadata": {},
   "outputs": [],
   "source": [
    "def conds_version5(num):\n",
    "    if num > 20 or num < 10:\n",
    "        print('A')\n",
    "    if num < 5:\n",
    "        print('B')\n",
    "    else:\n",
    "        if num == 5:\n",
    "            print('C')\n",
    "        else:\n",
    "            print('D')"
   ]
  },
  {
   "cell_type": "markdown",
   "metadata": {
    "tags": [
     "notes-only"
    ]
   },
   "source": [
    "All functions **except** `conds_version4` are equivalent to `conds_original`"
   ]
  },
  {
   "cell_type": "markdown",
   "metadata": {},
   "source": [
    "## Loops\n",
    "*Assume you are given the following function defintion:*"
   ]
  },
  {
   "cell_type": "code",
   "execution_count": 36,
   "metadata": {},
   "outputs": [],
   "source": [
    "def loops_original(nums, threshold):\n",
    "    for num in nums:\n",
    "        if num > threshold:\n",
    "            return num\n",
    "    return -1"
   ]
  },
  {
   "cell_type": "markdown",
   "metadata": {},
   "source": [
    "*Which of the following function defintions are equivalent?*"
   ]
  },
  {
   "cell_type": "code",
   "execution_count": 37,
   "metadata": {},
   "outputs": [],
   "source": [
    "def loops_version1(nums, threshold):\n",
    "    for num in nums:\n",
    "        if num > threshold:\n",
    "            return num\n",
    "        else:\n",
    "            return -1"
   ]
  },
  {
   "cell_type": "code",
   "execution_count": 38,
   "metadata": {},
   "outputs": [],
   "source": [
    "def loops_version2(nums, threshold):\n",
    "    for num in range(len(nums)):\n",
    "        if num > threshold:\n",
    "            return num\n",
    "    return -1"
   ]
  },
  {
   "cell_type": "code",
   "execution_count": 39,
   "metadata": {},
   "outputs": [],
   "source": [
    "def loops_version3(nums, threshold):\n",
    "    i = 0\n",
    "    while nums[i] <= threshold and i < len(nums):\n",
    "        i = i + 1\n",
    "    if i == len(nums):\n",
    "        return -1\n",
    "    else:\n",
    "        return nums[i]"
   ]
  },
  {
   "cell_type": "code",
   "execution_count": 40,
   "metadata": {},
   "outputs": [],
   "source": [
    "def loops_version4(nums, threshold):\n",
    "    i = 0\n",
    "    while i < len(nums):\n",
    "        if nums[i] > threshold:\n",
    "            return nums[i]\n",
    "    return -1"
   ]
  },
  {
   "cell_type": "code",
   "execution_count": null,
   "metadata": {},
   "outputs": [],
   "source": [
    "def loops_version5(nums, threshold):\n",
    "    for i in range(1, len(nums)):\n",
    "        if nums[i] > threshold:\n",
    "            return nums[i]\n",
    "    return -1"
   ]
  },
  {
   "cell_type": "markdown",
   "metadata": {
    "tags": [
     "notes-only"
    ]
   },
   "source": [
    "**Only** `loops_version3` is equivalent to `loops_original`"
   ]
  },
  {
   "cell_type": "markdown",
   "metadata": {},
   "source": [
    "# Practice: writing code\n",
    "\n",
    "## Strings and lists\n",
    "*Write a function called `contains` that takes a string (`to_search`) and a list of strings (`to_find`) as parameters and returns the first string in `to_find` that also appears in `to_search`. If no strings in `to_find` appear in `to_search`, then return `None`. For example:*\n",
    "```\n",
    ">>> contains('penguin', ['hen', 'pen', 'egg', 'in'])\n",
    "'pen'\n",
    ">>> contains('giraffe', ['hen', 'pen', 'egg', 'in'])\n",
    "None\n",
    "```"
   ]
  },
  {
   "cell_type": "code",
   "execution_count": 51,
   "metadata": {
    "tags": [
     "colab-only"
    ]
   },
   "outputs": [],
   "source": [
    "# Write the contains function in this code cell"
   ]
  },
  {
   "cell_type": "code",
   "execution_count": 52,
   "metadata": {
    "tags": [
     "notes-only"
    ]
   },
   "outputs": [
    {
     "name": "stdout",
     "output_type": "stream",
     "text": [
      "pen\n",
      "None\n"
     ]
    }
   ],
   "source": [
    "def contains(to_search, to_find):\n",
    "    for find in to_find:\n",
    "        if find in to_search:\n",
    "            return find\n",
    "        \n",
    "print(contains('penguin', ['hen', 'pen', 'egg', 'in']))\n",
    "print(contains('giraffe', ['hen', 'pen', 'egg', 'in']))"
   ]
  },
  {
   "cell_type": "markdown",
   "metadata": {},
   "source": [
    "## Input validation\n",
    "*Write a function called `get_choice `that takes a list of options (e.g., yes, no, maybe) and asks the user to choose one of the options by entering the first letter of the options. You may assume every option starts with a different letter. Your function should accept lower and uppercase letters. The function should return the chosen option (the full word, not just the first letter). If the user enters an invalid option, then the function should again ask the user to choose an option. For example:*\n",
    "```\n",
    ">>> get_choice(['yes','no','maybe'])\n",
    "Yes, No, Maybe? X\n",
    "Yes, No, Maybe? y\n",
    "yes\n",
    "```"
   ]
  },
  {
   "cell_type": "code",
   "execution_count": 53,
   "metadata": {
    "tags": [
     "colab-only"
    ]
   },
   "outputs": [],
   "source": [
    "# Write the get_choice function in this code cell"
   ]
  },
  {
   "cell_type": "code",
   "execution_count": 54,
   "metadata": {
    "tags": [
     "notes-only"
    ]
   },
   "outputs": [
    {
     "name": "stdout",
     "output_type": "stream",
     "text": [
      "Yes, No, Maybe? X\n",
      "Yes, No, Maybe? y\n"
     ]
    },
    {
     "data": {
      "text/plain": [
       "'yes'"
      ]
     },
     "execution_count": 54,
     "metadata": {},
     "output_type": "execute_result"
    }
   ],
   "source": [
    "def get_choice(options):\n",
    "    choices = {}\n",
    "    for i in range(len(options)):\n",
    "        choices[options[i][0].upper()] = options[i]\n",
    "        options[i] = options[i][0].upper() + options[i][1:]\n",
    "    choice = \"\" # Empty string\n",
    "    while choice.upper() not in choices:\n",
    "        choice = input(\", \".join(options) + \"? \")\n",
    "    return choices[choice.upper()]\n",
    "\n",
    "get_choice(['yes','no','maybe'])"
   ]
  },
  {
   "cell_type": "markdown",
   "metadata": {},
   "source": [
    "## Strings\n",
    "*Write a function called `splice` that takes two strings (`str1` and `str2`) and an integer (`index`) as a parameter and returns a new string with `str2` inserted into `str1` at index. For example, `splice(\"abcd\", \"ef\", 2)` should return `\"abefcd\"`. If `index` is less than zero, `str2` should be put at the front of `str1`; if index is greater than the length of `str1`, then `str2` should be put at the end of `str1`.*"
   ]
  },
  {
   "cell_type": "code",
   "execution_count": 55,
   "metadata": {
    "tags": [
     "colab-only"
    ]
   },
   "outputs": [],
   "source": [
    "# Write the splice function in this code cell"
   ]
  },
  {
   "cell_type": "code",
   "execution_count": 56,
   "metadata": {
    "tags": [
     "notes-only"
    ]
   },
   "outputs": [
    {
     "data": {
      "text/plain": [
       "'abefcd'"
      ]
     },
     "execution_count": 56,
     "metadata": {},
     "output_type": "execute_result"
    }
   ],
   "source": [
    "def splice(str1, str2, index):\n",
    "    if index < 0:\n",
    "        index = 0\n",
    "    elif index > len(str1):\n",
    "        index = len(str1)\n",
    "    return str1[:index] + str2 + str1[index:]\n",
    "\n",
    "splice(\"abcd\", \"ef\", 2)"
   ]
  },
  {
   "cell_type": "markdown",
   "metadata": {},
   "source": [
    "## Strings and types\n",
    "*Write a function called `convert` that takes a string as a parameter and converts the string to the appropriate type. For example, `convert(\"123\")` should return the integer `123`, `convert(\"4.5\")` should return the float `4.5`, `convert(\"True\")` should return the boolean `True`, and `convert(\"9.0a\")` should return the string `\"9.0a\"`.*"
   ]
  },
  {
   "cell_type": "code",
   "execution_count": 57,
   "metadata": {
    "tags": [
     "colab-only"
    ]
   },
   "outputs": [],
   "source": [
    "# Write the convert function in this code cell"
   ]
  },
  {
   "cell_type": "code",
   "execution_count": 58,
   "metadata": {
    "tags": [
     "notes-only"
    ]
   },
   "outputs": [
    {
     "name": "stdout",
     "output_type": "stream",
     "text": [
      "<class 'int'>\n",
      "<class 'float'>\n",
      "<class 'bool'>\n",
      "<class 'str'>\n"
     ]
    }
   ],
   "source": [
    "def convert(string):\n",
    "    if string == \"True\":\n",
    "        return True\n",
    "    elif string == \"False\":\n",
    "        return False\n",
    "    else:\n",
    "        decimal = False\n",
    "        for ch in string:\n",
    "            if ch == '.':\n",
    "                if decimal: \n",
    "                    return string\n",
    "                else:\n",
    "                    decimal = True\n",
    "            elif not ch.isdigit():\n",
    "                return string\n",
    "        if decimal:\n",
    "            return float(string)\n",
    "        else:\n",
    "            return int(string)\n",
    "        \n",
    "print(type(convert(\"123\")))\n",
    "print(type(convert(\"4.5\")))\n",
    "print(type(convert(\"True\")))\n",
    "print(type(convert(\"9.0a\")))"
   ]
  }
 ],
 "metadata": {
  "celltoolbar": "Tags",
  "kernelspec": {
   "display_name": "Python 3",
   "language": "python",
   "name": "python3"
  },
  "language_info": {
   "codemirror_mode": {
    "name": "ipython",
    "version": 3
   },
   "file_extension": ".py",
   "mimetype": "text/x-python",
   "name": "python",
   "nbconvert_exporter": "python",
   "pygments_lexer": "ipython3",
   "version": "3.7.6"
  }
 },
 "nbformat": 4,
 "nbformat_minor": 4
}
