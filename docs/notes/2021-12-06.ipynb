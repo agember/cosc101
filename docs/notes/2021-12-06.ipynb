{
 "cells": [
  {
   "cell_type": "markdown",
   "id": "3d6acc06-a825-4115-a4a0-89a5c7d35253",
   "metadata": {
    "slideshow": {
     "slide_type": "skip"
    },
    "tags": []
   },
   "source": [
    "# decision trees; random forests\n",
    "_COSC 101, Introduction to Computing I, 2021-12-06_"
   ]
  },
  {
   "cell_type": "markdown",
   "id": "1af76ef5-9947-4301-b9a0-28f5982f977b",
   "metadata": {
    "slideshow": {
     "slide_type": "skip"
    },
    "tags": []
   },
   "source": [
    "## Announcements\n",
    "* Homework #10 due Thursday @ 5pm\n",
    "* DEI reflection due today @ 11pm\n",
    "* Attend faculty candidate research talks\n",
    "    * 11:20am tomorrow and Wed, Dec 15\n",
    "    * Earn 2 points of extra credit on final exam for each talk you attend (earnings capped at 4 points)"
   ]
  },
  {
   "cell_type": "markdown",
   "id": "92f93a17-c49e-42ce-a5d2-3e54b4e10efe",
   "metadata": {
    "slideshow": {
     "slide_type": "skip"
    },
    "tags": [
     "notes-only"
    ]
   },
   "source": [
    "## Outline\n",
    "* Decision trees\n",
    "* scikit-learn\n",
    "* Accuracy\n",
    "* Random forests"
   ]
  },
  {
   "cell_type": "markdown",
   "id": "037339b6-570b-4230-8e7a-b911fa78f604",
   "metadata": {},
   "source": [
    "## No warm-up — Happy last week of classes!"
   ]
  },
  {
   "cell_type": "markdown",
   "id": "86e6ac73-d6f9-4019-8d92-6009a61358a1",
   "metadata": {
    "slideshow": {
     "slide_type": "skip"
    },
    "tags": [
     "notes-only"
    ]
   },
   "source": [
    "## Decision trees\n",
    "* Similar to nested if-statements\n",
    "* At each node in a decision tree, a decision is made (based on features of the data) and the appropriate branch is taken\n",
    "* When there are no more branches, a final outcome (e.g., a label) is decided\n",
    "\n",
    "### Activity\n",
    "* Pictures of things\n",
    "* Manually construct a decision tree to decide _does it fly?_\n",
    "* Start with a single pile of pictures\n",
    "* Select one meaningful characteristic that can be used to divide the pictures into two piles\n",
    "    * For simplicitly: write down a question with a yes/no answer\n",
    "* For each pile, select a meaningful characteristic that can be used to divide into two subpiles\n",
    "    * Again, write down a question with a yes/no answer\n",
    "    * The question can be different for each of the two piles\n",
    "* Repeat until every pile only contains things that do/don't fly\n",
    "* Somewhat similar to playing a game of \"20 questions\"\n",
    "\n",
    "### Reflection\n",
    "* _What was the first characteristic you used to divide the pictures? Why?_\n",
    "* _What were the second characteristics you used to divide the pictures? Were they the same for each pile? Why or why not?_\n",
    "* _Overall, how did you choose questions?_\n",
    "* _What answer would you give for a previously unseen thing—e.g., a train? a pigeon? a kite?_"
   ]
  },
  {
   "cell_type": "markdown",
   "id": "08b15a10-78ee-46bf-877f-742fa649df36",
   "metadata": {
    "slideshow": {
     "slide_type": "skip"
    },
    "tags": []
   },
   "source": [
    "## scikit-learn"
   ]
  },
  {
   "cell_type": "markdown",
   "id": "a9a004e1-d849-4412-8a40-89a1d3300814",
   "metadata": {
    "slideshow": {
     "slide_type": "skip"
    },
    "tags": [
     "notes-only"
    ]
   },
   "source": [
    "* A collection of Python modules for performing machine learning\n",
    "* High-level steps\n",
    "    * 1) Load data — reuse functions we wrote on November 12\n",
    "    * 2) Train — called `fit` in scikit-learn\n",
    "    * 3) Predict\n",
    "    \n",
    "### Load data\n",
    "* Assume we have a comma-separated variable file with a row for each of the items in the prior activity and columns for the label and features\n",
    "```\n",
    "object,flies,has_wings,has_propeller,num_legs,num_wheels\n",
    "penguin,doesn't fly,1,0,2,0\n",
    "ostrich,doesn't fly,1,0,2,0\n",
    "truck,doesn't fly,0,0,0,6\n",
    "car,doesn't fly,0,0,0,4\n",
    "caterpillar,doesn't fly,0,0,8,0\n",
    "ant,doesn't fly,0,0,6,0\n",
    "dog,doesn't fly,0,0,4,0\n",
    "cat,doesn't fly,0,0,4,0\n",
    "biplane,flies,1,0,0,2\n",
    "jetplane,flies,1,0,0,3\n",
    "butterfly,flies,1,0,4,0\n",
    "ladybug,flies,2,0,4,0\n",
    "eagle,flies,1,0,2,0\n",
    "hummingbird,flies,1,0,0,0\n",
    "helicopter,flies,0,1,0,0\n",
    "drone,flies,0,1,0,0\n",
    "```"
   ]
  },
  {
   "cell_type": "code",
   "execution_count": 46,
   "id": "ec51fc61-5191-43c9-a124-6eed123d4f5c",
   "metadata": {
    "slideshow": {
     "slide_type": "skip"
    },
    "tags": [
     "notes-only"
    ]
   },
   "outputs": [],
   "source": [
    "with open('things.csv', 'w') as datafile:\n",
    "    datafile.write(\"object,flies,has_wings,has_propeller,num_legs,num_wheels\\npenguin,doesn't fly,1,0,2,0\\nostrich,doesn't fly,1,0,2,0\\ntruck,doesn't fly,0,0,0,6\\ncar,doesn't fly,0,0,0,4\\ncaterpillar,doesn't fly,0,0,8,0\\nant,doesn't fly,0,0,6,0\\ndog,doesn't fly,0,0,4,0\\ncat,doesn't fly,0,0,4,0\\nbiplane,flies,1,0,0,2\\njetplane,flies,1,0,0,3\\nbutterfly,flies,1,0,4,0\\nladybug,flies,2,0,4,0\\neagle,flies,1,0,2,0\\nhummingbird,flies,1,0,0,0\\nhelicopter,flies,0,1,0,0\\ndrone,flies,0,1,0,0\")"
   ]
  },
  {
   "cell_type": "markdown",
   "id": "37748a27-b83d-42e1-bff0-c1bc9e37ef3c",
   "metadata": {
    "slideshow": {
     "slide_type": "skip"
    },
    "tags": [
     "notes-only"
    ]
   },
   "source": [
    "* Slightly modified `load_data` function from November 12"
   ]
  },
  {
   "cell_type": "code",
   "execution_count": 24,
   "id": "762aac70-1388-48e4-823c-3c7941493490",
   "metadata": {
    "slideshow": {
     "slide_type": "skip"
    },
    "tags": [
     "notes-only"
    ]
   },
   "outputs": [],
   "source": [
    "def load_data(filename, names):\n",
    "    '''\n",
    "    Loads data from a CSV file\n",
    "\n",
    "    >>> load_data('sample.csv', [])\n",
    "    [['Apricot', 'Orange', 'Fruit'], ['Blueberry', 'Blue', 'Fruit'], ['Carrot', 'Orange', 'Vegetable']]\n",
    "    '''\n",
    "    file = open(filename, 'r')\n",
    "    data = []\n",
    "    # Get column names\n",
    "    names += file.readline().strip().split(',')\n",
    "    # Process each row\n",
    "    for line in file:\n",
    "        # Get values for each column\n",
    "        line = line.strip().split(',')\n",
    "        data.append(line)\n",
    "    file.close()\n",
    "    return data"
   ]
  },
  {
   "cell_type": "markdown",
   "id": "d9687f1a-5597-4c01-8404-a25e3efcc57d",
   "metadata": {
    "slideshow": {
     "slide_type": "skip"
    },
    "tags": [
     "notes-only"
    ]
   },
   "source": [
    "* _Which column contains the labels?_ — 2nd column\n",
    "* _Which column contains features?_ — 3rd through 6th columns\n",
    "* Helper functions for selecting columns from November 12"
   ]
  },
  {
   "cell_type": "code",
   "execution_count": 25,
   "id": "2ba8d3f8-7668-492b-8e7d-e60c7d0e6900",
   "metadata": {
    "slideshow": {
     "slide_type": "skip"
    },
    "tags": [
     "notes-only"
    ]
   },
   "outputs": [],
   "source": [
    "def select_single_column(data, idx):\n",
    "    '''\n",
    "    Extract a single column of values from a \"table\" of data\n",
    "    \n",
    "    >>> select_single_column([['Apricot','Orange','Fruit'], ['Blueberry','Blue','Fruit'], ['Carrot','Orange','Vegetable']], 0)\n",
    "    ['Apricot', 'Blueberry', 'Carrot']\n",
    "    '''\n",
    "    values = []\n",
    "    # Process each row\n",
    "    for row in data:\n",
    "        values.append(row[idx])\n",
    "    return values\n",
    "\n",
    "def select_columns(data, start, end):\n",
    "    '''\n",
    "    Extract a range of columns from a \"table\" of data\n",
    "    \n",
    "    >>> select_columns([['Apricot','Orange','Fruit'], ['Blueberry','Blue','Fruit'], ['Carrot','Orange','Vegetable']], 0, 2)\n",
    "    [['Apricot', 'Orange'], ['Blueberry', 'Blue'], ['Carrot', 'Orange']]\n",
    "    '''\n",
    "    filtered = []\n",
    "    # Process each row\n",
    "    for row in data:\n",
    "        filtered.append(row[start:end])\n",
    "    return filtered\n"
   ]
  },
  {
   "cell_type": "markdown",
   "id": "0d473291-f6cd-426b-9280-47471d7f2b0f",
   "metadata": {
    "slideshow": {
     "slide_type": "skip"
    },
    "tags": [
     "notes-only"
    ]
   },
   "source": [
    "* Data loading portion of main"
   ]
  },
  {
   "cell_type": "code",
   "execution_count": 31,
   "id": "2fcbfaca-fb1f-4b39-a6f1-3d76592215f1",
   "metadata": {
    "slideshow": {
     "slide_type": "skip"
    },
    "tags": []
   },
   "outputs": [],
   "source": [
    "column_names = []\n",
    "data = load_data('things.csv', column_names)\n",
    "labels = select_single_column(data, 1)\n",
    "features = select_columns(data,2,6)"
   ]
  },
  {
   "cell_type": "markdown",
   "id": "83aa303f-c640-42cb-a684-91bd003d7ac9",
   "metadata": {
    "slideshow": {
     "slide_type": "skip"
    },
    "tags": [
     "notes-only"
    ]
   },
   "source": [
    "### Training\n",
    "* Use `tree` submodule from `sklearn` module\n",
    "    * _What did we do when we used the `turtle` or `random` modules?_ — `import`"
   ]
  },
  {
   "cell_type": "code",
   "execution_count": 32,
   "id": "c36ecd26-94a2-4f22-9c80-62605021385c",
   "metadata": {
    "tags": []
   },
   "outputs": [],
   "source": [
    "from sklearn import tree"
   ]
  },
  {
   "cell_type": "markdown",
   "id": "45d04fd4-9c01-4b75-9b98-a47f139e4ef6",
   "metadata": {
    "slideshow": {
     "slide_type": "skip"
    },
    "tags": [
     "notes-only"
    ]
   },
   "source": [
    "* Create a `DecisionTreeClassifier` object\n",
    "    * _How did we create a `Turtle` object?_ — `turtle.Turtle()`"
   ]
  },
  {
   "cell_type": "code",
   "execution_count": 33,
   "id": "c3c831ad-4c7b-4b97-ac93-42fe54635fee",
   "metadata": {
    "slideshow": {
     "slide_type": "skip"
    },
    "tags": []
   },
   "outputs": [],
   "source": [
    "dtree = tree.DecisionTreeClassifier()"
   ]
  },
  {
   "cell_type": "markdown",
   "id": "4ae2aa04-55f6-43c2-b221-29fe43f928c0",
   "metadata": {
    "slideshow": {
     "slide_type": "skip"
    },
    "tags": [
     "notes-only"
    ]
   },
   "source": [
    "* Train the `DecisionTreeClassifier` using the `fit` method\n",
    "    * _How did we make a `Turtle` move?_ — turtle.forward(100)"
   ]
  },
  {
   "cell_type": "code",
   "execution_count": 34,
   "id": "be529da1-f30d-46bb-a6b3-5c8d991e5b49",
   "metadata": {
    "slideshow": {
     "slide_type": "skip"
    },
    "tags": [
     "worksheet-code-only"
    ]
   },
   "outputs": [
    {
     "data": {
      "text/plain": [
       "DecisionTreeClassifier()"
      ]
     },
     "execution_count": 34,
     "metadata": {},
     "output_type": "execute_result"
    }
   ],
   "source": [
    "dtree.fit(features, labels)"
   ]
  },
  {
   "cell_type": "markdown",
   "id": "744b696b-c8f9-48b4-9a13-5c5981dbb97e",
   "metadata": {
    "slideshow": {
     "slide_type": "skip"
    },
    "tags": [
     "notes-only"
    ]
   },
   "source": [
    "* Display the tree using the `export_tree` function"
   ]
  },
  {
   "cell_type": "code",
   "execution_count": 35,
   "id": "0be6bd3a-65b3-4c05-9808-1a5674f7ec2d",
   "metadata": {
    "slideshow": {
     "slide_type": "skip"
    },
    "tags": [
     "worksheet-code-only"
    ]
   },
   "outputs": [
    {
     "name": "stdout",
     "output_type": "stream",
     "text": [
      "|--- has_wings <= 0.50\n",
      "|   |--- has_propeller <= 0.50\n",
      "|   |   |--- class: doesn't fly\n",
      "|   |--- has_propeller >  0.50\n",
      "|   |   |--- class: flies\n",
      "|--- has_wings >  0.50\n",
      "|   |--- num_legs <= 1.00\n",
      "|   |   |--- class: flies\n",
      "|   |--- num_legs >  1.00\n",
      "|   |   |--- num_legs <= 3.00\n",
      "|   |   |   |--- class: doesn't fly\n",
      "|   |   |--- num_legs >  3.00\n",
      "|   |   |   |--- class: flies\n",
      "\n"
     ]
    }
   ],
   "source": [
    "print(tree.export_text(dtree, feature_names=column_names[2:6]))"
   ]
  },
  {
   "cell_type": "markdown",
   "id": "c68fdc95-3cdd-478f-88b1-4c5a31a7b174",
   "metadata": {
    "slideshow": {
     "slide_type": "skip"
    },
    "tags": [
     "notes-only"
    ]
   },
   "source": [
    "### Prediction\n",
    "* Create a list of features (`has_wings`, `has_propeller`, `num_legs`, `num_wheels`)"
   ]
  },
  {
   "cell_type": "code",
   "execution_count": 38,
   "id": "f074d967-aa68-4ad8-8fb5-e8714cb87222",
   "metadata": {
    "slideshow": {
     "slide_type": "skip"
    },
    "tags": []
   },
   "outputs": [],
   "source": [
    "train_features = [0, 0, 0, 8]"
   ]
  },
  {
   "cell_type": "markdown",
   "id": "9272eb20-3bb0-4dbe-b3e3-ab26ebc4a808",
   "metadata": {
    "slideshow": {
     "slide_type": "skip"
    },
    "tags": [
     "notes-only"
    ]
   },
   "source": [
    "* Use the `DecisionTreeClassifier`'s `predict` method\n",
    "    * Takes a list of lists, where each sublist is a single set of features\n",
    "    * Returns a list of predictions, where there is one prediction for each sublist provided as a parameter"
   ]
  },
  {
   "cell_type": "code",
   "execution_count": 40,
   "id": "d9341820-67b5-4e6d-80cd-75e2984655a6",
   "metadata": {
    "slideshow": {
     "slide_type": "skip"
    },
    "tags": [
     "notes-only"
    ]
   },
   "outputs": [
    {
     "name": "stdout",
     "output_type": "stream",
     "text": [
      "doesn't fly\n"
     ]
    }
   ],
   "source": [
    "predict_features = [train_features]\n",
    "predictions = dtree.predict(predict_features)\n",
    "print(predictions[0])"
   ]
  },
  {
   "cell_type": "markdown",
   "id": "0c10693a-3990-4adf-a9e6-054ffde79f66",
   "metadata": {
    "slideshow": {
     "slide_type": "skip"
    },
    "tags": [
     "notes-only"
    ]
   },
   "source": [
    "* More predictions"
   ]
  },
  {
   "cell_type": "code",
   "execution_count": 44,
   "id": "db7bb17d-cbfb-4f76-abbb-be533d9d970e",
   "metadata": {
    "slideshow": {
     "slide_type": "skip"
    },
    "tags": [
     "worksheet-code-only"
    ]
   },
   "outputs": [
    {
     "name": "stdout",
     "output_type": "stream",
     "text": [
      "Pigeon doesn't fly\n",
      "Kite doesn't fly\n"
     ]
    }
   ],
   "source": [
    "pigeon_features = [1, 0, 2, 0]\n",
    "kite_features = [0, 0, 0, 0]\n",
    "predict_features = [pigeon_features, kite_features]\n",
    "predictions = dtree.predict(predict_features)\n",
    "print(\"Pigeon\", predictions[0])\n",
    "print(\"Kite\", predictions[1])"
   ]
  },
  {
   "cell_type": "markdown",
   "id": "1fdbf570-bc16-44c6-8238-b29bd8aa77d0",
   "metadata": {
    "slideshow": {
     "slide_type": "skip"
    },
    "tags": [
     "notes-only"
    ]
   },
   "source": [
    "## Accuracy\n",
    "* _Why aren't the predictions correct?_\n",
    "    * Not enough features\n",
    "    * Too few training samples\n",
    "    * Biased training data\n",
    "* Add a more examples of things that fly, then re-train\n",
    "```\n",
    "robin,flies,1,0,2,0\n",
    "bluejay,flies,1,0,2,0\n",
    "cardinal,flies,1,0,2,0\n",
    "fly,flies,1,0,6,0\n",
    "flag,flies,0,0,0,0\n",
    "```"
   ]
  },
  {
   "cell_type": "code",
   "execution_count": null,
   "id": "fb0712d9-7609-471d-bb47-98f82b0af28f",
   "metadata": {
    "slideshow": {
     "slide_type": "skip"
    },
    "tags": [
     "colab-only"
    ]
   },
   "outputs": [],
   "source": [
    "with open('things.csv', 'w') as datafile:\n",
    "        datafile.write(\"object,flies,has_wings,has_propeller,num_legs,num_wheels\\npenguin,doesn't fly,1,0,2,0\\nostrich,doesn't fly,1,0,2,0\\ntruck,doesn't fly,0,0,0,6\\ncar,doesn't fly,0,0,0,4\\ncaterpillar,doesn't fly,0,0,8,0\\nant,doesn't fly,0,0,6,0\\ndog,doesn't fly,0,0,4,0\\ncat,doesn't fly,0,0,4,0\\nbiplane,flies,1,0,0,2\\njetplane,flies,1,0,0,3\\nbutterfly,flies,1,0,4,0\\nladybug,flies,2,0,4,0\\neagle,flies,1,0,2,0\\nhummingbird,flies,1,0,0,0\\nhelicopter,flies,0,1,0,0\\ndrone,flies,0,1,0,0\\nrobin,flies,1,0,2,0\\nbluejay,flies,1,0,2,0\\ncardinal,flies,1,0,2,0\\nfly,flies,1,0,6,0\\nflag,flies,0,0,0,0\")"
   ]
  },
  {
   "cell_type": "code",
   "execution_count": 50,
   "id": "3efaa9ab-8cb4-49d7-8c7c-06d739eb3894",
   "metadata": {
    "slideshow": {
     "slide_type": "skip"
    },
    "tags": [
     "notes-only"
    ]
   },
   "outputs": [
    {
     "name": "stdout",
     "output_type": "stream",
     "text": [
      "|--- has_wings <= 0.50\n",
      "|   |--- has_propeller <= 0.50\n",
      "|   |   |--- num_legs <= 2.00\n",
      "|   |   |   |--- num_wheels <= 2.00\n",
      "|   |   |   |   |--- class: flies\n",
      "|   |   |   |--- num_wheels >  2.00\n",
      "|   |   |   |   |--- class: doesn't fly\n",
      "|   |   |--- num_legs >  2.00\n",
      "|   |   |   |--- class: doesn't fly\n",
      "|   |--- has_propeller >  0.50\n",
      "|   |   |--- class: flies\n",
      "|--- has_wings >  0.50\n",
      "|   |--- num_legs <= 1.00\n",
      "|   |   |--- class: flies\n",
      "|   |--- num_legs >  1.00\n",
      "|   |   |--- num_legs <= 3.00\n",
      "|   |   |   |--- class: flies\n",
      "|   |   |--- num_legs >  3.00\n",
      "|   |   |   |--- class: flies\n",
      "\n",
      "Train doesn't fly\n",
      "Pigeon flies\n",
      "Kite flies\n",
      "Penguin flies\n"
     ]
    }
   ],
   "source": [
    "column_names = []\n",
    "data = load_data('things.csv', column_names)\n",
    "labels = select_single_column(data, 1)\n",
    "features = select_columns(data,2,6)\n",
    "\n",
    "dtree = tree.DecisionTreeClassifier()\n",
    "dtree.fit(features, labels)\n",
    "print(tree.export_text(dtree, feature_names=column_names[2:6]))\n",
    "\n",
    "train_features = [0, 0, 0, 8]\n",
    "pigeon_features = [1, 0, 2, 0]\n",
    "kite_features = [0, 0, 0, 0]\n",
    "penguin_features = [1,0,2,0]\n",
    "predict_features = [train_features, pigeon_features, kite_features, penguin_features]\n",
    "predictions = dtree.predict(predict_features)\n",
    "print(\"Train\", predictions[0])\n",
    "print(\"Pigeon\", predictions[1])\n",
    "print(\"Kite\", predictions[2])\n",
    "print(\"Penguin\", predictions[3])"
   ]
  },
  {
   "cell_type": "markdown",
   "id": "0a08c015-5337-4fbd-a1f1-b90ef6f42b88",
   "metadata": {
    "slideshow": {
     "slide_type": "skip"
    },
    "tags": [
     "notes-only"
    ]
   },
   "source": [
    "* Model may be _overfit_ to training data\n",
    "    * Use an ensemble of decision trees — i.e., a random forest"
   ]
  },
  {
   "cell_type": "markdown",
   "id": "c4619c7a-845e-4a8e-98d6-153a3ca27318",
   "metadata": {
    "slideshow": {
     "slide_type": "skip"
    },
    "tags": [
     "notes-only"
    ]
   },
   "source": [
    "## Random forest\n",
    "* Train multiple decision trees\n",
    "* Each tree is trained on a different subset of the training data\n",
    "* Make a prediction with every tree, and use the most common prediction as the final prediction\n",
    "\n",
    "### Activity\n",
    "* Add additional pictures into training set\n",
    "* Randomly remove 8 pictures\n",
    "* Manually construct a decision tree to decide _does it fly?_\n",
    "* After each group is done, every tree will make a prediction and we'll choose the majority vote\n",
    "* Things to predict\n",
    "    * Train\n",
    "    * Pigeon\n",
    "    * Kite\n",
    "    * Penguin"
   ]
  }
 ],
 "metadata": {
  "kernelspec": {
   "display_name": "Python 3 (ipykernel)",
   "language": "python",
   "name": "python3"
  },
  "language_info": {
   "codemirror_mode": {
    "name": "ipython",
    "version": 3
   },
   "file_extension": ".py",
   "mimetype": "text/x-python",
   "name": "python",
   "nbconvert_exporter": "python",
   "pygments_lexer": "ipython3",
   "version": "3.8.2"
  }
 },
 "nbformat": 4,
 "nbformat_minor": 5
}
