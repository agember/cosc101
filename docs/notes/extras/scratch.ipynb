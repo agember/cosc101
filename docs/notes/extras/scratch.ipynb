{
 "cells": [
  {
   "cell_type": "markdown",
   "id": "f7bfad29-2b55-4109-97e6-2d1881b43c07",
   "metadata": {
    "editable": true,
    "slideshow": {
     "slide_type": ""
    },
    "tags": [
     "question"
    ]
   },
   "source": [
    "_Write a function called `question` that takes a question and a numeric answer, asks player 1 and player 2 for their answer, and returns the number of the player that was the closest without going over._"
   ]
  },
  {
   "cell_type": "code",
   "execution_count": 50,
   "id": "5eacd5e2-567f-4db6-8163-7bf8289dc816",
   "metadata": {
    "editable": true,
    "slideshow": {
     "slide_type": ""
    },
    "tags": [
     "answer"
    ]
   },
   "outputs": [],
   "source": [
    "def question(prompt: str, answer: int):\n",
    "    print(prompt)\n",
    "    player1 = int(input(\"Player 1's answer: \"))\n",
    "    player2 = int(input(\"Player 2's answer: \"))\n",
    "    winner = 0\n",
    "    if (player1 > player2 and player1 <= answer):\n",
    "        winner = 1\n",
    "    if (player2 > player1 and player2 <= answer):\n",
    "        winner = 2\n",
    "    print(winner)"
   ]
  },
  {
   "cell_type": "markdown",
   "id": "725db266-40c4-4156-ac4f-1be830f00d1d",
   "metadata": {
    "editable": true,
    "slideshow": {
     "slide_type": "skip"
    },
    "tags": [
     "blank"
    ]
   },
   "source": [
    "```\n",
    "\n",
    "\n",
    "\n",
    "\n",
    "\n",
    "\n",
    "\n",
    "\n",
    "\n",
    "\n",
    "```"
   ]
  }
 ],
 "metadata": {
  "kernelspec": {
   "display_name": "Python 3 (ipykernel)",
   "language": "python",
   "name": "python3"
  },
  "language_info": {
   "codemirror_mode": {
    "name": "ipython",
    "version": 3
   },
   "file_extension": ".py",
   "mimetype": "text/x-python",
   "name": "python",
   "nbconvert_exporter": "python",
   "pygments_lexer": "ipython3",
   "version": "3.9.6"
  }
 },
 "nbformat": 4,
 "nbformat_minor": 5
}
