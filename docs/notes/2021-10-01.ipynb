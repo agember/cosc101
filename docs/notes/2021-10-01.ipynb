{
 "cells": [
  {
   "cell_type": "markdown",
   "id": "4f978628-9b27-415c-9d7c-be430cbc4bf6",
   "metadata": {
    "slideshow": {
     "slide_type": "skip"
    },
    "tags": []
   },
   "source": [
    "# docstrings; top-down vs. bottom-up programming\n",
    "_COSC 101, Introduction to Computing I, 2021-10-01_"
   ]
  },
  {
   "cell_type": "markdown",
   "id": "0fc0fad5-0d1e-41f2-92ca-fc58edda9f50",
   "metadata": {
    "jp-MarkdownHeadingCollapsed": true,
    "slideshow": {
     "slide_type": "skip"
    },
    "tags": []
   },
   "source": [
    "## Announcements\n",
    "* Homework 4 due Thursday"
   ]
  },
  {
   "cell_type": "markdown",
   "id": "ff355e5d-2a7b-44c0-8389-e6304d023bb5",
   "metadata": {
    "jp-MarkdownHeadingCollapsed": true,
    "slideshow": {
     "slide_type": "skip"
    },
    "tags": [
     "notes-only"
    ]
   },
   "source": [
    "## Outline\n",
    "* Warm-up: docstrings\n",
    "* Review mid-semester feedback\n",
    "* top-down vs. bottom-up programming"
   ]
  },
  {
   "cell_type": "markdown",
   "id": "a6eaca5c-7db9-43e1-b94b-3b777d3c3cee",
   "metadata": {
    "tags": []
   },
   "source": [
    "## Warm-up: docstrings\n",
    "_Write a good docstring for each of the following functions_"
   ]
  },
  {
   "cell_type": "code",
   "execution_count": 11,
   "id": "b0d7129a-cf0f-4788-92be-8815f57d160f",
   "metadata": {},
   "outputs": [],
   "source": [
    "#1)\n",
    "def funcA(w, x):\n",
    "    if (w < x):\n",
    "        return w\n",
    "    else:\n",
    "        return x"
   ]
  },
  {
   "cell_type": "markdown",
   "id": "44f74d65-eb67-48e4-af03-a1c9c9cef5de",
   "metadata": {
    "slideshow": {
     "slide_type": "skip"
    },
    "tags": [
     "notes-only"
    ]
   },
   "source": [
    "`\"\"\"Computes the minimum\"\"\"`"
   ]
  },
  {
   "cell_type": "markdown",
   "id": "55102fbf-68d9-4108-ab15-9a91ddd00d20",
   "metadata": {
    "slideshow": {
     "slide_type": "skip"
    },
    "tags": [
     "worksheet-only"
    ]
   },
   "source": [
    "```\n",
    "\n",
    "```"
   ]
  },
  {
   "cell_type": "code",
   "execution_count": 11,
   "id": "ba7c6a4c-0625-4097-80d5-111f61e9ef21",
   "metadata": {
    "slideshow": {
     "slide_type": "fragment"
    },
    "tags": []
   },
   "outputs": [],
   "source": [
    "#2)\n",
    "def funcB(v):\n",
    "    return (v % 2) == 0"
   ]
  },
  {
   "cell_type": "markdown",
   "id": "7652302f-20f6-4f2b-8dda-df019e0c4ac3",
   "metadata": {
    "slideshow": {
     "slide_type": "skip"
    },
    "tags": [
     "notes-only"
    ]
   },
   "source": [
    "`\"\"\"Determines if a number is even\"\"\"`"
   ]
  },
  {
   "cell_type": "markdown",
   "id": "b6559cd1-bf24-4c06-be91-4705db0b3004",
   "metadata": {
    "slideshow": {
     "slide_type": "skip"
    },
    "tags": [
     "worksheet-only"
    ]
   },
   "source": [
    "```\n",
    "\n",
    "```"
   ]
  },
  {
   "cell_type": "code",
   "execution_count": 11,
   "id": "e72148c5-a26f-4072-9123-1c3265cc9fcd",
   "metadata": {
    "slideshow": {
     "slide_type": "subslide"
    },
    "tags": []
   },
   "outputs": [],
   "source": [
    "#3)\n",
    "def funcC(n):\n",
    "    p = n % 10\n",
    "    if p <= 5:\n",
    "        return n - p\n",
    "    else:\n",
    "        return n + (10 - p)"
   ]
  },
  {
   "cell_type": "markdown",
   "id": "1a76f2ed-e32c-401d-8145-c815c1c8063a",
   "metadata": {
    "slideshow": {
     "slide_type": "skip"
    },
    "tags": [
     "notes-only"
    ]
   },
   "source": [
    "`\"\"\"Rounds a number to the nearest multiple of ten\"\"\"`"
   ]
  },
  {
   "cell_type": "markdown",
   "id": "c4f40070-9eab-49d5-ae2e-6600ba36f4b8",
   "metadata": {
    "slideshow": {
     "slide_type": "skip"
    },
    "tags": [
     "worksheet-only"
    ]
   },
   "source": [
    "```\n",
    "\n",
    "```"
   ]
  },
  {
   "cell_type": "code",
   "execution_count": null,
   "id": "b3f327f7-1658-40e4-b728-d70d820bba21",
   "metadata": {
    "slideshow": {
     "slide_type": "fragment"
    },
    "tags": []
   },
   "outputs": [],
   "source": [
    "#4)\n",
    "import math\n",
    "def funcD(r):\n",
    "    return math.pi * (r ** 2)"
   ]
  },
  {
   "cell_type": "markdown",
   "id": "03f7c019-5966-443a-b0a9-f63a66c6b4a8",
   "metadata": {
    "slideshow": {
     "slide_type": "skip"
    },
    "tags": [
     "notes-only"
    ]
   },
   "source": [
    "`\"\"\"Computes the area of a circle\"\"\"`"
   ]
  },
  {
   "cell_type": "markdown",
   "id": "a6e5bb5a-f905-4fd4-8241-10b6ea741514",
   "metadata": {
    "slideshow": {
     "slide_type": "skip"
    },
    "tags": [
     "worksheet-only"
    ]
   },
   "source": [
    "```\n",
    "\n",
    "```\n",
    "🛑 **STOP HERE** after completing the warm-up question; please **DO NOT WORK AHEAD**. If you have extra time, take a few deep breaths to help reduce stress.\n",
    "<div style=\"page-break-after:always;\"></div>"
   ]
  },
  {
   "cell_type": "markdown",
   "id": "05108d65-e97e-4b3a-8f1a-0b465ba08789",
   "metadata": {
    "slideshow": {
     "slide_type": "skip"
    },
    "tags": [
     "notes-only"
    ]
   },
   "source": [
    "### Overview\n",
    "* Special category of comment that summarizes what a function does\n",
    "* A triple-double-quoted (`\"\"\"`) string placed directly after the function header\n",
    "* Example:"
   ]
  },
  {
   "cell_type": "code",
   "execution_count": 10,
   "id": "9a4a514a-9ce4-4e4c-adf0-993ff69f3340",
   "metadata": {
    "slideshow": {
     "slide_type": "skip"
    },
    "tags": [
     "notes-only"
    ]
   },
   "outputs": [],
   "source": [
    "def add(a, b):\n",
    "    \"\"\"Adds two numbers\"\"\"\n",
    "    sum = a + b\n",
    "    return sum"
   ]
  },
  {
   "cell_type": "markdown",
   "id": "314411d4-c3f9-4271-83ee-5f9cd0f6b37e",
   "metadata": {
    "slideshow": {
     "slide_type": "skip"
    },
    "tags": [
     "notes-only"
    ]
   },
   "source": [
    "* A good docstring should:\n",
    "    * Be useful\n",
    "        * Bad example: `\"\"\"Performs math\"\"\"`\n",
    "    * Be concise — at most a sentence\n",
    "        * Bad example: `\"\"\"This function computes the result of adding two numbers together to obtain their sum.\"\"\"`\n",
    "    * Not describe the line(s) of code in the function body\n",
    "        * Bad example: `\"\"\"Applies the addition operator to variables a and b\"\"\"`"
   ]
  },
  {
   "cell_type": "markdown",
   "id": "5f95f530-dfe3-4163-b7c5-999a3f0d83d9",
   "metadata": {
    "slideshow": {
     "slide_type": "skip"
    },
    "tags": [
     "notes-only"
    ]
   },
   "source": [
    "## top-down vs. bottom-up programming\n",
    "* Recall: computational thinking\n",
    "    * Decomposition — break the problem into smaller sub-problems\n",
    "    * Pattern recognition — look for similarities with previously solved problems, across sub-problems, within sub-problems, etc.\n",
    "        * Use loops and functions to avoid duplicating code\n",
    "    * Abstraction — determine which details are important\n",
    "    * Algorithm design — create unambiguous step-by-step instructions\n",
    "* Recall: good programming practices\n",
    "    * Decompose the solution and implement one step at a time\n",
    "        * Create a separate function for each part of the solution and write one function at a time\n",
    "    * Run/test your program on different inputs after you implement each step\n",
    "        * Create unit tests for each function\n",
    "* Which function do you implement first?\n",
    "    * Top-down: write the main function, the first function main calls, the second function main calls, ..., the last function main calls, the first helper function, the second helper function, ..., the last helper function\n",
    "        * Advantage: allows you to focus on the high-level goals, then work through the details\n",
    "        * Advantage: allows you to develop a partial plan, then flesh out the plan as you go\n",
    "        * Disadvantage: hard to test the main function and functions called by main until the helper functions are written, which happens last\n",
    "    * Bottom-up: write the first helper function, second helper function, ..., the last helper function, the first function main calls, the second function main calls, .., the last function main calls, the main function\n",
    "        * Advantage: allows you to focus on a narrow problem, then assemble pieces to solve the high-level goals\n",
    "        * Advantage: allows you to test small parts of your program and be confident they work, then test a larger part of the program, etc.\n",
    "        * Disadvantage: requires thinking about the details right away\n",
    "* Best practice for beginning computer scientists (i.e., you): define functions from the top-down; implement functions from the bottom-up"
   ]
  },
  {
   "cell_type": "markdown",
   "id": "200c4715-59d7-44be-8c3e-8471d22c7e15",
   "metadata": {
    "slideshow": {
     "slide_type": "slide"
    },
    "tags": []
   },
   "source": [
    "## Top-down design practice\n",
    "_Design a program that asks a user for a paragraph of text and counts the number of characters, words, and sentences in the paragraph. (You may assume there is a single space between every word and a period at the end of every sentence.) **Your design should consist of function definitions and docstrings; also, add a comment in a function's body if it should call one of the other functions.**_"
   ]
  },
  {
   "cell_type": "code",
   "execution_count": 2,
   "id": "f0c26298-2359-448c-b5a1-ac00028fe0f7",
   "metadata": {
    "slideshow": {
     "slide_type": "skip"
    },
    "tags": [
     "notes-only"
    ]
   },
   "outputs": [],
   "source": [
    "def count_characters(paragraph):\n",
    "    \"\"\"Counts the number of characters in a paragraph\"\"\"\n",
    "\n",
    "def count_words(paragraph):\n",
    "    \"\"\"Counts the number of words in a paragraph\"\"\"\n",
    "\n",
    "def count_sentences(paragraph):\n",
    "    \"\"\"Counts the number of sentences in a paragraph\"\"\"\n",
    "\n",
    "def main():\n",
    "    \"\"\"Asks user to enter a paragraph and outputs the number of characters, words, and sentences\"\"\""
   ]
  },
  {
   "cell_type": "markdown",
   "id": "802adccd-fc77-4c9c-948a-375e33a383bc",
   "metadata": {
    "slideshow": {
     "slide_type": "skip"
    },
    "tags": [
     "worksheet-only"
    ]
   },
   "source": [
    "<div style=\"page-break-after:always;\"></div>"
   ]
  },
  {
   "cell_type": "markdown",
   "id": "d8d1dde9-c5e1-4123-a8a9-c1f30453104c",
   "metadata": {
    "slideshow": {
     "slide_type": "skip"
    },
    "tags": [
     "worksheet-only"
    ]
   },
   "source": [
    "<div style=\"page-break-after:always;\"></div>"
   ]
  },
  {
   "cell_type": "markdown",
   "id": "d736f142-b0c5-4724-b213-8ba1cbb2b566",
   "metadata": {
    "slideshow": {
     "slide_type": "skip"
    },
    "tags": []
   },
   "source": [
    "## Bottom-up programming practice\n",
    "_Implement each of the functions included in the design of your programs. **Start with the lowest-level function.**_"
   ]
  },
  {
   "cell_type": "code",
   "execution_count": 1,
   "id": "ca30617a-3169-44b9-8940-88075e645d3d",
   "metadata": {
    "slideshow": {
     "slide_type": "skip"
    },
    "tags": [
     "notes-only"
    ]
   },
   "outputs": [
    {
     "name": "stdin",
     "output_type": "stream",
     "text": [
      "Paragraph:  Colgate challenges students to be enlightened thinkers and prepares them to be global citizens who will thrive in life and in work. Learning here, living here, and climbing the hill of our campus, you feel it: We are always ascending. Colgate is a university that is marked by a proud two-century history and shaped by its bold ambition.\n"
     ]
    },
    {
     "name": "stdout",
     "output_type": "stream",
     "text": [
      "337 characters\n",
      "58 words\n",
      "3 sentences\n"
     ]
    }
   ],
   "source": [
    "#1)\n",
    "def count_characters(paragraph):\n",
    "    \"\"\"Counts the number of characters in a paragraph\"\"\"\n",
    "    return len(paragraph)\n",
    "\n",
    "def count_words(paragraph):\n",
    "    \"\"\"Counts the number of words in a paragraph\"\"\"\n",
    "    words = 0\n",
    "    for char in paragraph:\n",
    "        if char == ' ':\n",
    "            words = words + 1\n",
    "    words = words + 1 # Include last word, which won't have a space afterwards\n",
    "    return words\n",
    "\n",
    "def count_sentences(paragraph):\n",
    "    \"\"\"Counts the number of sentences in a paragraph\"\"\"\n",
    "    sentences = 0\n",
    "    for char in paragraph:\n",
    "        if char == '.':\n",
    "            sentences = sentences + 1\n",
    "    return sentences\n",
    "\n",
    "def main():\n",
    "    \"\"\"Asks user to enter a paragraph and outputs the number of characters, words, and sentences\"\"\"\n",
    "    paragraph = input(\"Paragraph: \")\n",
    "    print(count_characters(paragraph), \"characters\")\n",
    "    print(count_words(paragraph), \"words\")\n",
    "    print(count_sentences(paragraph), \"sentences\")\n",
    "\n",
    "main()"
   ]
  }
 ],
 "metadata": {
  "kernelspec": {
   "display_name": "Python 3 (ipykernel)",
   "language": "python",
   "name": "python3"
  },
  "language_info": {
   "codemirror_mode": {
    "name": "ipython",
    "version": 3
   },
   "file_extension": ".py",
   "mimetype": "text/x-python",
   "name": "python",
   "nbconvert_exporter": "python",
   "pygments_lexer": "ipython3",
   "version": "3.8.2"
  }
 },
 "nbformat": 4,
 "nbformat_minor": 5
}
