{
 "cells": [
  {
   "cell_type": "markdown",
   "id": "e6e5b0e4-43be-4cec-b215-32a31c3f7f3f",
   "metadata": {
    "slideshow": {
     "slide_type": "skip"
    },
    "tags": []
   },
   "source": [
    "# scope; return values\n",
    "_COSC 101, Introduction to Computing I, 2021-09-27_"
   ]
  },
  {
   "cell_type": "markdown",
   "id": "533a7b08-d284-4bfa-827a-16e7e3267b8f",
   "metadata": {
    "jp-MarkdownHeadingCollapsed": true,
    "slideshow": {
     "slide_type": "skip"
    },
    "tags": []
   },
   "source": [
    "## Announcements\n",
    "* Homework 3 due Thursday"
   ]
  },
  {
   "cell_type": "markdown",
   "id": "3da752ce-1c46-4a5b-b13c-2dfd59a6b59f",
   "metadata": {
    "jp-MarkdownHeadingCollapsed": true,
    "slideshow": {
     "slide_type": "skip"
    },
    "tags": [
     "notes-only"
    ]
   },
   "source": [
    "## Outline\n",
    "* Warm-up\n",
    "* Scope\n",
    "* Return values\n",
    "* Return exams"
   ]
  },
  {
   "cell_type": "markdown",
   "id": "e4ff3316-2218-4423-ad27-50b4a4a62aed",
   "metadata": {
    "slideshow": {
     "slide_type": "slide"
    },
    "tags": []
   },
   "source": [
    "## Warm-up\n",
    "_Label each of the following in the program below:_\n",
    "1. Function body\n",
    "2. Function call\n",
    "3. Function definition\n",
    "4. Argument (or actual parameter)\n",
    "5. Parameter (or formal parameter)"
   ]
  },
  {
   "cell_type": "code",
   "execution_count": 21,
   "id": "1f2fb92d-9631-4b70-8d35-793cc99156ed",
   "metadata": {
    "tags": [
     "worksheet-code-only",
     "worksheet-only"
    ]
   },
   "outputs": [
    {
     "name": "stdout",
     "output_type": "stream",
     "text": [
      "5\n"
     ]
    }
   ],
   "source": [
    "def update(x):\n",
    "    if (x < 0):\n",
    "        x = x + 1\n",
    "    elif (x > 0):\n",
    "        x = x - 1\n",
    "\n",
    "a = 5\n",
    "update(a)\n",
    "print(a)"
   ]
  },
  {
   "cell_type": "code",
   "execution_count": 21,
   "id": "d753efe9-8eb5-4d2d-9733-9bbd90a69b61",
   "metadata": {
    "slideshow": {
     "slide_type": "skip"
    },
    "tags": [
     "notes-only"
    ]
   },
   "outputs": [
    {
     "name": "stdout",
     "output_type": "stream",
     "text": [
      "5\n"
     ]
    }
   ],
   "source": [
    "def update(x):    # Function definition; Parameter x\n",
    "    if (x < 0):   # Function body\n",
    "        x = x + 1 # Function body\n",
    "    elif (x > 0): # Function body\n",
    "        x = x - 1 # Function body\n",
    "\n",
    "a = 5 \n",
    "update(a)         # Function call; Argument a\n",
    "print(a)          # Function call; Argument a"
   ]
  },
  {
   "cell_type": "markdown",
   "id": "d168c7c7-f834-43b2-93c4-ee043d7d65c9",
   "metadata": {
    "slideshow": {
     "slide_type": "skip"
    },
    "tags": [
     "worksheet-only"
    ]
   },
   "source": [
    "🛑 **STOP HERE** after completing the warm-up question; please **DO NOT WORK AHEAD**. If you have extra time, work on the extra practice problems at the end of the worksheet."
   ]
  },
  {
   "cell_type": "markdown",
   "id": "e774283d-a369-4ab9-94dc-5b33ba2a6efc",
   "metadata": {
    "slideshow": {
     "slide_type": "slide"
    },
    "tags": []
   },
   "source": [
    "## Scope"
   ]
  },
  {
   "cell_type": "markdown",
   "id": "adf91fa6-f241-4326-81a3-878168c49d39",
   "metadata": {
    "slideshow": {
     "slide_type": "skip"
    },
    "tags": [
     "notes-only"
    ]
   },
   "source": [
    "### Overview\n",
    "* Recall:\n",
    "    * Parameter (or formal parameter) — listed in function definition; akin to left-hand-side of assignment statement\n",
    "    * Argument (or actual parameter) — listed in function call; akin to right-hand-side of assignment statement\n",
    "* Local variables and parameters\n",
    "    * Defined (i.e., first assigned a value) in function\n",
    "    * Only exists in the function in which a value is assigned to it\n",
    "    * Name and value goes away when function finishes → variable is inaccessible outside of the function\n",
    "* Global variables\n",
    "    * Defined outside of a function\n",
    "    * Can be accessed but not updated inside a function"
   ]
  },
  {
   "cell_type": "markdown",
   "id": "9b40035d-d3e8-4c45-a161-83f66d06b132",
   "metadata": {},
   "source": [
    "### Example"
   ]
  },
  {
   "cell_type": "code",
   "execution_count": 5,
   "id": "eb55649f-09ee-40ac-9867-d22c1a5736be",
   "metadata": {
    "tags": [
     "worksheet-code-only"
    ]
   },
   "outputs": [
    {
     "name": "stdout",
     "output_type": "stream",
     "text": [
      "3\n",
      "1\n",
      "4\n",
      "2\n"
     ]
    },
    {
     "ename": "NameError",
     "evalue": "name 'varLocal' is not defined",
     "output_type": "error",
     "traceback": [
      "\u001b[0;31m---------------------------------------------------------------------------\u001b[0m",
      "\u001b[0;31mNameError\u001b[0m                                 Traceback (most recent call last)",
      "\u001b[0;32m/var/folders/bd/35sz70xs5837wszrx11bw1yc0000gn/T/ipykernel_29002/1034276298.py\u001b[0m in \u001b[0;36m<module>\u001b[0;34m\u001b[0m\n\u001b[1;32m     10\u001b[0m \u001b[0mdemoFn\u001b[0m\u001b[0;34m(\u001b[0m\u001b[0;34m)\u001b[0m\u001b[0;34m\u001b[0m\u001b[0;34m\u001b[0m\u001b[0m\n\u001b[1;32m     11\u001b[0m \u001b[0mprint\u001b[0m\u001b[0;34m(\u001b[0m\u001b[0mvarGlobal2\u001b[0m\u001b[0;34m)\u001b[0m \u001b[0;31m# Will still have value 10\u001b[0m\u001b[0;34m\u001b[0m\u001b[0;34m\u001b[0m\u001b[0m\n\u001b[0;32m---> 12\u001b[0;31m \u001b[0mprint\u001b[0m\u001b[0;34m(\u001b[0m\u001b[0mvarLocal\u001b[0m\u001b[0;34m)\u001b[0m \u001b[0;31m# Cannot access local variable varLocal outside of function\u001b[0m\u001b[0;34m\u001b[0m\u001b[0;34m\u001b[0m\u001b[0m\n\u001b[0m",
      "\u001b[0;31mNameError\u001b[0m: name 'varLocal' is not defined"
     ]
    }
   ],
   "source": [
    "def demoFn():\n",
    "    varLocal = 3 # Defines local variable called varLocal\n",
    "    print(varLocal) # Can access local variable varLocal within function\n",
    "    print(varGlobal1) # Can access global variable varGlobal within function\n",
    "    varGlobal2 = 4 # Defines new local variable called varGlobal2\n",
    "    print(varGlobal2) # Can access local variable varGlobal2 within function\n",
    "\n",
    "varGlobal1 = 1 # Define global variable called varGlobal1\n",
    "varGlobal2 = 2 # Define global variable called varGlobal2\n",
    "demoFn()\n",
    "print(varGlobal2) # Will still have value 10\n",
    "print(varLocal) # Cannot access local variable varLocal outside of function"
   ]
  },
  {
   "cell_type": "markdown",
   "id": "1e7f5a87-99ad-49e7-b4a7-1093faffab99",
   "metadata": {
    "tags": [
     "worksheet-only"
    ]
   },
   "source": [
    "<div style=\"page-break-after:always;\"></div>"
   ]
  },
  {
   "cell_type": "markdown",
   "id": "238474e2-d1ea-433b-bdfd-5be84b9c8354",
   "metadata": {
    "slideshow": {
     "slide_type": "slide"
    },
    "tags": []
   },
   "source": [
    "### Practice\n",
    "_What is the output of each of the following programs? If the program contains an error, describe the error._"
   ]
  },
  {
   "cell_type": "code",
   "execution_count": 22,
   "id": "7c8f837c-eee1-4bb8-94ee-b4731d814f56",
   "metadata": {
    "tags": [
     "worksheet-code-only"
    ]
   },
   "outputs": [
    {
     "name": "stdout",
     "output_type": "stream",
     "text": [
      "8\n"
     ]
    }
   ],
   "source": [
    "#1)\n",
    "def multiply():\n",
    "    print(x * y)\n",
    "\n",
    "x = 4\n",
    "y = 2\n",
    "multiply()"
   ]
  },
  {
   "cell_type": "markdown",
   "id": "f5cf0cef-4c79-4f77-a743-4bb98632054f",
   "metadata": {
    "slideshow": {
     "slide_type": "skip"
    },
    "tags": [
     "worksheet-only"
    ]
   },
   "source": [
    "```\n",
    "\n",
    "\n",
    "```"
   ]
  },
  {
   "cell_type": "code",
   "execution_count": 9,
   "id": "1248faec-c6c4-4fdf-b5b7-bc091fed7bf0",
   "metadata": {
    "slideshow": {
     "slide_type": "fragment"
    },
    "tags": [
     "worksheet-code-only"
    ]
   },
   "outputs": [
    {
     "ename": "NameError",
     "evalue": "name 'c' is not defined",
     "output_type": "error",
     "traceback": [
      "\u001b[0;31m---------------------------------------------------------------------------\u001b[0m",
      "\u001b[0;31mNameError\u001b[0m                                 Traceback (most recent call last)",
      "\u001b[0;32m/var/folders/bd/35sz70xs5837wszrx11bw1yc0000gn/T/ipykernel_29002/3923237457.py\u001b[0m in \u001b[0;36m<module>\u001b[0;34m\u001b[0m\n\u001b[1;32m      4\u001b[0m \u001b[0;34m\u001b[0m\u001b[0m\n\u001b[1;32m      5\u001b[0m \u001b[0mdivide\u001b[0m\u001b[0;34m(\u001b[0m\u001b[0;36m10\u001b[0m\u001b[0;34m,\u001b[0m\u001b[0;36m5\u001b[0m\u001b[0;34m)\u001b[0m\u001b[0;34m\u001b[0m\u001b[0;34m\u001b[0m\u001b[0m\n\u001b[0;32m----> 6\u001b[0;31m \u001b[0mprint\u001b[0m\u001b[0;34m(\u001b[0m\u001b[0mc\u001b[0m\u001b[0;34m)\u001b[0m\u001b[0;34m\u001b[0m\u001b[0;34m\u001b[0m\u001b[0m\n\u001b[0m",
      "\u001b[0;31mNameError\u001b[0m: name 'c' is not defined"
     ]
    }
   ],
   "source": [
    "#2)\n",
    "def divide(a, b):\n",
    "    c = a // b\n",
    "\n",
    "divide(10,5)\n",
    "print(c)"
   ]
  },
  {
   "cell_type": "markdown",
   "id": "2596563a-e281-45f0-acf7-4116b40a1956",
   "metadata": {
    "slideshow": {
     "slide_type": "skip"
    },
    "tags": [
     "worksheet-only"
    ]
   },
   "source": [
    "```\n",
    "\n",
    "\n",
    "```"
   ]
  },
  {
   "cell_type": "code",
   "execution_count": 10,
   "id": "8c9c2a7b-6045-4d47-8a44-eb1ca85ba87f",
   "metadata": {
    "slideshow": {
     "slide_type": "subslide"
    },
    "tags": [
     "worksheet-code-only"
    ]
   },
   "outputs": [
    {
     "name": "stdout",
     "output_type": "stream",
     "text": [
      "2\n",
      "10 4\n"
     ]
    }
   ],
   "source": [
    "#3)\n",
    "def sub():\n",
    "    a = 5\n",
    "    b = 3\n",
    "    print(a - b)\n",
    "\n",
    "a = 10\n",
    "b = 4\n",
    "sub()\n",
    "print(a,b)"
   ]
  },
  {
   "cell_type": "markdown",
   "id": "64875d14-1a06-4adf-87a3-b5bbf52b5587",
   "metadata": {
    "slideshow": {
     "slide_type": "skip"
    },
    "tags": [
     "worksheet-only"
    ]
   },
   "source": [
    "```\n",
    "\n",
    "\n",
    "```"
   ]
  },
  {
   "cell_type": "code",
   "execution_count": 11,
   "id": "5cace271-b681-4271-beb6-68ebd51bc518",
   "metadata": {
    "slideshow": {
     "slide_type": "fragment"
    },
    "tags": [
     "worksheet-code-only"
    ]
   },
   "outputs": [
    {
     "name": "stdout",
     "output_type": "stream",
     "text": [
      "11\n"
     ]
    }
   ],
   "source": [
    "#4)\n",
    "def add(a, b):\n",
    "    print(a + b)\n",
    "\n",
    "a = 1\n",
    "b = 2\n",
    "add(5,6)"
   ]
  },
  {
   "cell_type": "markdown",
   "id": "02fa60d9-82ff-4186-b971-283c497b61e4",
   "metadata": {
    "slideshow": {
     "slide_type": "skip"
    },
    "tags": [
     "worksheet-only"
    ]
   },
   "source": [
    "```\n",
    "\n",
    "\n",
    "```"
   ]
  },
  {
   "cell_type": "code",
   "execution_count": 13,
   "id": "f10b35a8-7c72-4fa8-8995-e8a2a27274c9",
   "metadata": {
    "slideshow": {
     "slide_type": "subslide"
    },
    "tags": [
     "worksheet-code-only"
    ]
   },
   "outputs": [
    {
     "ename": "NameError",
     "evalue": "name 'r' is not defined",
     "output_type": "error",
     "traceback": [
      "\u001b[0;31m---------------------------------------------------------------------------\u001b[0m",
      "\u001b[0;31mNameError\u001b[0m                                 Traceback (most recent call last)",
      "\u001b[0;32m/var/folders/bd/35sz70xs5837wszrx11bw1yc0000gn/T/ipykernel_29002/3530872278.py\u001b[0m in \u001b[0;36m<module>\u001b[0;34m\u001b[0m\n\u001b[1;32m      4\u001b[0m \u001b[0;34m\u001b[0m\u001b[0m\n\u001b[1;32m      5\u001b[0m \u001b[0mdouble\u001b[0m\u001b[0;34m(\u001b[0m\u001b[0;36m10\u001b[0m\u001b[0;34m)\u001b[0m\u001b[0;34m\u001b[0m\u001b[0;34m\u001b[0m\u001b[0m\n\u001b[0;32m----> 6\u001b[0;31m \u001b[0mprint\u001b[0m\u001b[0;34m(\u001b[0m\u001b[0mr\u001b[0m\u001b[0;34m)\u001b[0m\u001b[0;34m\u001b[0m\u001b[0;34m\u001b[0m\u001b[0m\n\u001b[0m",
      "\u001b[0;31mNameError\u001b[0m: name 'r' is not defined"
     ]
    }
   ],
   "source": [
    "#5)\n",
    "def double(r):\n",
    "    r = r * 2\n",
    "\n",
    "double(10)\n",
    "print(r)"
   ]
  },
  {
   "cell_type": "markdown",
   "id": "3d1babb2-0578-489a-99ca-6515a8368ba9",
   "metadata": {
    "slideshow": {
     "slide_type": "skip"
    },
    "tags": [
     "worksheet-only"
    ]
   },
   "source": [
    "```\n",
    "\n",
    "\n",
    "```"
   ]
  },
  {
   "cell_type": "code",
   "execution_count": 14,
   "id": "a85078bc-a80c-4906-aae3-8484a85f9ef3",
   "metadata": {
    "slideshow": {
     "slide_type": "fragment"
    },
    "tags": [
     "worksheet-code-only"
    ]
   },
   "outputs": [
    {
     "name": "stdout",
     "output_type": "stream",
     "text": [
      "10 9\n"
     ]
    }
   ],
   "source": [
    "#6)\n",
    "def decrement(y):\n",
    "    y = y - 1\n",
    "    return y\n",
    "\n",
    "y = 10\n",
    "z = decrement(y)\n",
    "print(y,z)"
   ]
  },
  {
   "cell_type": "markdown",
   "id": "a9d35612-c682-431c-b6a0-c7a114b6e632",
   "metadata": {
    "slideshow": {
     "slide_type": "skip"
    },
    "tags": [
     "worksheet-only"
    ]
   },
   "source": [
    "```\n",
    "\n",
    "\n",
    "```\n",
    "🛑 **STOP HERE** after completing the above questions; please **DO NOT WORK AHEAD**. If you have extra time, work on the extra practice problems at the end of the worksheet."
   ]
  },
  {
   "cell_type": "markdown",
   "id": "b4caf511-5acd-4e2c-864d-b4d8422b7b13",
   "metadata": {
    "slideshow": {
     "slide_type": "slide"
    },
    "tags": []
   },
   "source": [
    "## Return values"
   ]
  },
  {
   "cell_type": "markdown",
   "id": "657062ed-3045-4781-b273-1b450c0e4b1c",
   "metadata": {
    "slideshow": {
     "slide_type": "skip"
    },
    "tags": [
     "notes-only"
    ]
   },
   "source": [
    "### Overview\n",
    "* Return value — result provided by the function\n",
    "    * Not the same as printing out the result!\n",
    "* _How do we make a function return a value?_ — add a return statement with the value to return\n",
    "* What does the caller do with the return value?\n",
    "    * Assign it to a variable\n",
    "    * Print it\n",
    "    * Use it as an operand\n",
    " \n",
    "### Practice"
   ]
  },
  {
   "cell_type": "markdown",
   "id": "9f29debf-6b4d-4184-a6ad-8a445fb710eb",
   "metadata": {},
   "source": [
    "_What is the output of each of the following programs?_"
   ]
  },
  {
   "cell_type": "code",
   "execution_count": 41,
   "id": "77e7b8a6-4950-45b3-9d80-94ff5be71f91",
   "metadata": {
    "tags": [
     "worksheet-code-only"
    ]
   },
   "outputs": [
    {
     "name": "stdout",
     "output_type": "stream",
     "text": [
      "x was 5\n",
      "now it is 10\n"
     ]
    }
   ],
   "source": [
    "#1)\n",
    "def magic(a):\n",
    "    return a * 2\n",
    "\n",
    "x = 5\n",
    "print(\"x was \" + str(x))\n",
    "x = magic(x)\n",
    "print(\"now it is \" + str(x))"
   ]
  },
  {
   "cell_type": "markdown",
   "id": "e62cc2e7-3040-43a6-a436-aa7ff1c62533",
   "metadata": {
    "slideshow": {
     "slide_type": "skip"
    },
    "tags": [
     "worksheet-only"
    ]
   },
   "source": [
    "```\n",
    "\n",
    "\n",
    "```"
   ]
  },
  {
   "cell_type": "code",
   "execution_count": 17,
   "id": "67520765-7173-44df-9496-4dc3eb870d6b",
   "metadata": {
    "slideshow": {
     "slide_type": "subslide"
    },
    "tags": [
     "worksheet-code-only"
    ]
   },
   "outputs": [
    {
     "name": "stdout",
     "output_type": "stream",
     "text": [
      "Exam grade: B 80.0%\n"
     ]
    }
   ],
   "source": [
    "#2)\n",
    "def compute_exam_average(exam1, exam2, exam3):\n",
    "    total = exam1 + exam2 + exam3\n",
    "    average = total / 3\n",
    "    return average\n",
    "\n",
    "def convert_to_letter(grade):\n",
    "    if grade >= 90:\n",
    "        return \"A\"\n",
    "    elif grade >= 80:\n",
    "        return \"B\"\n",
    "    elif grade >= 70:\n",
    "        return \"C\"\n",
    "    elif grade >= 60:\n",
    "        return \"D\"\n",
    "    else:\n",
    "        return \"F\"\n",
    "\n",
    "percent = compute_exam_average(75, 85, 80)\n",
    "letter = convert_to_letter(percent)\n",
    "print(\"Exam grade:\", letter, str(percent) + \"%\")"
   ]
  },
  {
   "cell_type": "markdown",
   "id": "3515db36-26b8-4351-a267-3c0aa1f7e96c",
   "metadata": {
    "slideshow": {
     "slide_type": "skip"
    },
    "tags": [
     "worksheet-only"
    ]
   },
   "source": [
    "```\n",
    "\n",
    "\n",
    "```\n",
    "🛑 **STOP HERE** after completing the above questions; please **DO NOT WORK AHEAD**. If you have extra time, work on the extra practice problems at the end of the worksheet.\n",
    "<div style=\"page-break-after:always;\"></div>"
   ]
  },
  {
   "cell_type": "markdown",
   "id": "801f2751-3df1-420f-9e86-4b665632a42c",
   "metadata": {
    "slideshow": {
     "slide_type": "skip"
    },
    "tags": []
   },
   "source": [
    "## Extra practice"
   ]
  },
  {
   "cell_type": "markdown",
   "id": "b095dbbc-7788-4b81-8536-dbc3e8dee95b",
   "metadata": {
    "slideshow": {
     "slide_type": "skip"
    },
    "tags": []
   },
   "source": [
    "\\#1) _Write a program that asks the user for three words and prints the word with the most vowels. Your program must include at least one function._"
   ]
  },
  {
   "cell_type": "code",
   "execution_count": 45,
   "id": "d6c6fa18-2801-4877-9490-5c4e0f7d4235",
   "metadata": {
    "slideshow": {
     "slide_type": "skip"
    },
    "tags": [
     "notes-only"
    ]
   },
   "outputs": [
    {
     "name": "stdin",
     "output_type": "stream",
     "text": [
      "Word 1:  diversity\n",
      "Word 2:  equity\n",
      "Word 3:  inclusion\n"
     ]
    },
    {
     "name": "stdout",
     "output_type": "stream",
     "text": [
      "inclusion has the most vowels\n"
     ]
    }
   ],
   "source": [
    "def count_vowels(word):\n",
    "    vowels = 0\n",
    "    for letter in word:\n",
    "        if letter in \"aeiou\":\n",
    "            vowels = vowels + 1\n",
    "    return vowels\n",
    "\n",
    "most = \"\"\n",
    "for i in range(1,4):\n",
    "    word = input(\"Word \"+str(i)+\": \")\n",
    "    if (count_vowels(word) > count_vowels(most)):\n",
    "        most = word\n",
    "print(most, \"has the most vowels\")"
   ]
  },
  {
   "cell_type": "markdown",
   "id": "d58b3edf-0606-4b89-98a0-2d725714e63e",
   "metadata": {
    "slideshow": {
     "slide_type": "skip"
    },
    "tags": [
     "worksheet-only"
    ]
   },
   "source": [
    "```\n",
    "\n",
    "\n",
    "\n",
    "\n",
    "\n",
    "\n",
    "\n",
    "\n",
    "\n",
    "\n",
    "\n",
    "\n",
    "\n",
    "\n",
    "\n",
    "\n",
    "\n",
    "\n",
    "```"
   ]
  },
  {
   "cell_type": "markdown",
   "id": "e99f9ea5-5600-41fa-a8cc-738bd7fcd20e",
   "metadata": {
    "slideshow": {
     "slide_type": "skip"
    },
    "tags": []
   },
   "source": [
    "\\#2) _Write a program that asks the user how many slices are desired for each of three different kinds of pizza and computes the number of pizzas of each kind to purchase. Assume one pizza has 8 slices. Your program must include at least one function._"
   ]
  },
  {
   "cell_type": "code",
   "execution_count": 48,
   "id": "0ad27c29-6619-49e6-a917-c3af83f7f799",
   "metadata": {
    "slideshow": {
     "slide_type": "skip"
    },
    "tags": [
     "notes-only"
    ]
   },
   "outputs": [
    {
     "name": "stdin",
     "output_type": "stream",
     "text": [
      "How many pieces of cheese pizza?  15\n"
     ]
    },
    {
     "name": "stdout",
     "output_type": "stream",
     "text": [
      "Order 2 cheese pizzas\n"
     ]
    },
    {
     "name": "stdin",
     "output_type": "stream",
     "text": [
      "How many pieces of pepperoni pizza?  10\n"
     ]
    },
    {
     "name": "stdout",
     "output_type": "stream",
     "text": [
      "Order 2 pepperoni pizzas\n"
     ]
    },
    {
     "name": "stdin",
     "output_type": "stream",
     "text": [
      "How many pieces of veggie pizza?  8\n"
     ]
    },
    {
     "name": "stdout",
     "output_type": "stream",
     "text": [
      "Order 1 veggie pizzas\n"
     ]
    }
   ],
   "source": [
    "def slices_to_pizzas(slices):\n",
    "    if (slices % 8 > 0):\n",
    "        extra = 8 - (slices % 8)\n",
    "        slices = slices + extra\n",
    "    return slices // 8\n",
    "\n",
    "for kind in [\"cheese\", \"pepperoni\", \"veggie\"]:\n",
    "    slices = int(input(\"How many pieces of \"+kind+\" pizza? \"))\n",
    "    pizzas = slices_to_pizzas(slices)\n",
    "    print(\"Order\", pizzas, kind, \"pizza(s)\")"
   ]
  }
 ],
 "metadata": {
  "kernelspec": {
   "display_name": "Python 3 (ipykernel)",
   "language": "python",
   "name": "python3"
  },
  "language_info": {
   "codemirror_mode": {
    "name": "ipython",
    "version": 3
   },
   "file_extension": ".py",
   "mimetype": "text/x-python",
   "name": "python",
   "nbconvert_exporter": "python",
   "pygments_lexer": "ipython3",
   "version": "3.8.2"
  }
 },
 "nbformat": 4,
 "nbformat_minor": 5
}
