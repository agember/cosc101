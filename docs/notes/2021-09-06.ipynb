{
 "cells": [
  {
   "cell_type": "markdown",
   "id": "45453238",
   "metadata": {
    "slideshow": {
     "slide_type": "skip"
    }
   },
   "source": [
    "# Hello, Python: boolean expressions; conditionals\n",
    "_COSC 101, Introduction to Computing I, 2021-09-06_"
   ]
  },
  {
   "cell_type": "markdown",
   "id": "c3d4afb5",
   "metadata": {
    "slideshow": {
     "slide_type": "skip"
    }
   },
   "source": [
    "## Announcements\n",
    "* Homework 1 due Thursday at 5pm\n",
    "    * Office hours today 2:30-4pm\n",
    "    * Open lab hours Sunday-Thursday 7-10pm"
   ]
  },
  {
   "cell_type": "markdown",
   "id": "5cb41e7c",
   "metadata": {
    "slideshow": {
     "slide_type": "skip"
    },
    "tags": [
     "notes-only"
    ]
   },
   "source": [
    "## Outline\n",
    "* Warm-up\n",
    "* Boolean expressions\n",
    "* Order of operations\n",
    "* Conditional statements"
   ]
  },
  {
   "cell_type": "markdown",
   "id": "afd016e4",
   "metadata": {
    "slideshow": {
     "slide_type": "slide"
    }
   },
   "source": [
    "## Warm-up\n",
    "_For each program: (1) indicate what it will output, and (2) draw a reference diagram depicting the state of each variable after the program has executed._"
   ]
  },
  {
   "cell_type": "code",
   "execution_count": 9,
   "id": "8abe2f04",
   "metadata": {
    "slideshow": {
     "slide_type": "-"
    },
    "tags": [
     "worksheet-code-only"
    ]
   },
   "outputs": [
    {
     "name": "stdout",
     "output_type": "stream",
     "text": [
      "3 2 3\n"
     ]
    }
   ],
   "source": [
    "#1)\n",
    "a = 1\n",
    "b = 2\n",
    "a = a + b\n",
    "print(a, b, a)"
   ]
  },
  {
   "cell_type": "markdown",
   "id": "756a0ba9",
   "metadata": {
    "slideshow": {
     "slide_type": "skip"
    },
    "tags": [
     "notes-only"
    ]
   },
   "source": [
    "```\n",
    "    ┏━━━━┓\n",
    "a━━>┃  3 ┃\n",
    "    ┗━━━━┛\n",
    "    ┏━━━━┓\n",
    "b━━>┃  2 ┃\n",
    "    ┗━━━━┛\n",
    "```"
   ]
  },
  {
   "cell_type": "markdown",
   "id": "b820c423",
   "metadata": {
    "slideshow": {
     "slide_type": "skip"
    },
    "tags": [
     "worksheet-only"
    ]
   },
   "source": [
    "```\n",
    "\n",
    "\n",
    "```"
   ]
  },
  {
   "cell_type": "code",
   "execution_count": 13,
   "id": "07895cd5",
   "metadata": {
    "slideshow": {
     "slide_type": "fragment"
    },
    "tags": [
     "worksheet-code-only"
    ]
   },
   "outputs": [
    {
     "name": "stdout",
     "output_type": "stream",
     "text": [
      "3 10\n"
     ]
    }
   ],
   "source": [
    "#2)\n",
    "a = 1\n",
    "a = a + 2\n",
    "b = a + 3\n",
    "b = b + 4\n",
    "print(a, b)"
   ]
  },
  {
   "cell_type": "markdown",
   "id": "4d2d7c2b",
   "metadata": {
    "slideshow": {
     "slide_type": "skip"
    },
    "tags": [
     "notes-only"
    ]
   },
   "source": [
    "```\n",
    "    ┏━━━━┓\n",
    "a━━>┃  3 ┃\n",
    "    ┗━━━━┛\n",
    "    ┏━━━━┓\n",
    "b━━>┃ 10 ┃\n",
    "    ┗━━━━┛\n",
    "```"
   ]
  },
  {
   "cell_type": "markdown",
   "id": "09d0bdd7",
   "metadata": {
    "slideshow": {
     "slide_type": "skip"
    },
    "tags": [
     "worksheet-only"
    ]
   },
   "source": [
    "```\n",
    "\n",
    "\n",
    "```"
   ]
  },
  {
   "cell_type": "code",
   "execution_count": 12,
   "id": "c1d28a08",
   "metadata": {
    "slideshow": {
     "slide_type": "subslide"
    },
    "tags": [
     "worksheet-code-only"
    ]
   },
   "outputs": [
    {
     "name": "stdout",
     "output_type": "stream",
     "text": [
      "6 10\n"
     ]
    }
   ],
   "source": [
    "#3)\n",
    "a = 1\n",
    "b = a + 3\n",
    "a = b + 2\n",
    "b = a + 4\n",
    "print(a, b)"
   ]
  },
  {
   "cell_type": "markdown",
   "id": "c1703540",
   "metadata": {
    "slideshow": {
     "slide_type": "skip"
    },
    "tags": [
     "notes-only"
    ]
   },
   "source": [
    "```\n",
    "    ┏━━━━┓\n",
    "a━━>┃  6 ┃\n",
    "    ┗━━━━┛\n",
    "    ┏━━━━┓\n",
    "b━━>┃ 10 ┃\n",
    "    ┗━━━━┛\n",
    "```"
   ]
  },
  {
   "cell_type": "markdown",
   "id": "69e44795",
   "metadata": {
    "slideshow": {
     "slide_type": "skip"
    },
    "tags": [
     "worksheet-only"
    ]
   },
   "source": [
    "```\n",
    "\n",
    "\n",
    "```"
   ]
  },
  {
   "cell_type": "code",
   "execution_count": 4,
   "id": "23b7e114",
   "metadata": {
    "slideshow": {
     "slide_type": "fragment"
    },
    "tags": [
     "worksheet-code-only"
    ]
   },
   "outputs": [
    {
     "name": "stdout",
     "output_type": "stream",
     "text": [
      "beet beet mel-on\n",
      "wa-ter-mel-on\n"
     ]
    }
   ],
   "source": [
    "#4)\n",
    "quarter = \"beet \"\n",
    "half = \"mel-on\"\n",
    "measure = quarter * 2 + half\n",
    "print(measure)\n",
    "measure = \"wa-ter-\" + half\n",
    "print(measure)"
   ]
  },
  {
   "cell_type": "markdown",
   "id": "079a6dfe",
   "metadata": {
    "slideshow": {
     "slide_type": "skip"
    },
    "tags": [
     "notes-only"
    ]
   },
   "source": [
    "```\n",
    "          ┏━━━━━━━━━┓\n",
    "quarter━━>┃ \"beet \" ┃\n",
    "          ┗━━━━━━━━━┛\n",
    "          ┏━━━━━━━━━━┓\n",
    "   half━━>┃ \"mel-on\" ┃\n",
    "          ┗━━━━━━━━━━┛\n",
    "          ┏━━━━━━━━━━━━━━━━━┓\n",
    "mesaure━━>┃ \"wa-ter-mel-on\" ┃\n",
    "          ┗━━━━━━━━━━━━━━━━━┛\n",
    "```"
   ]
  },
  {
   "cell_type": "markdown",
   "id": "75ae0d07",
   "metadata": {
    "slideshow": {
     "slide_type": "skip"
    },
    "tags": [
     "worksheet-only"
    ]
   },
   "source": [
    "```\n",
    "\n",
    "\n",
    "```\n",
    "🛑 Stop here after completing the warm-up; if you have extra time please **skip ahead** to the extra practice."
   ]
  },
  {
   "cell_type": "markdown",
   "id": "8c7a23ad",
   "metadata": {
    "slideshow": {
     "slide_type": "slide"
    }
   },
   "source": [
    "## Boolean expressions"
   ]
  },
  {
   "cell_type": "markdown",
   "id": "71487227",
   "metadata": {
    "slideshow": {
     "slide_type": "skip"
    },
    "tags": [
     "notes-only"
    ]
   },
   "source": [
    "### Overview\n",
    "* _How many boolean values are there?_ — True, False\n",
    "* Boolean expression evaluates to `True`, or `False`\n",
    "    * E.g., numerical comparison (`<`, `>`, `<=`, `=>`, `==`, `!=`)\n",
    "    * E.g., boolean operators applied to boolean expression(s) (`and`, `or`, `not`)\n",
    "    \n",
    "### Practice"
   ]
  },
  {
   "cell_type": "markdown",
   "id": "6ae47b61",
   "metadata": {
    "slideshow": {
     "slide_type": "-"
    }
   },
   "source": [
    "_Which of the following are valid boolean expressions?_"
   ]
  },
  {
   "cell_type": "markdown",
   "id": "6958a91d",
   "metadata": {
    "slideshow": {
     "slide_type": "-"
    }
   },
   "source": [
    "\\#1) `True`"
   ]
  },
  {
   "cell_type": "markdown",
   "id": "71956823",
   "metadata": {
    "slideshow": {
     "slide_type": "skip"
    },
    "tags": [
     "notes-only"
    ]
   },
   "source": [
    "Valid — `True` is a boolean value"
   ]
  },
  {
   "cell_type": "markdown",
   "id": "f554bc22",
   "metadata": {
    "slideshow": {
     "slide_type": "fragment"
    }
   },
   "source": [
    "\\#2) `\"True\"`"
   ]
  },
  {
   "cell_type": "markdown",
   "id": "69c7eb68",
   "metadata": {
    "slideshow": {
     "slide_type": "skip"
    },
    "tags": [
     "notes-only"
    ]
   },
   "source": [
    "Invalid — `\"True\"` is a string, not a boolean value"
   ]
  },
  {
   "cell_type": "markdown",
   "id": "27ad67d5",
   "metadata": {
    "slideshow": {
     "slide_type": "fragment"
    }
   },
   "source": [
    "\\#3) `1 < 2`"
   ]
  },
  {
   "cell_type": "markdown",
   "id": "0c0c4d53",
   "metadata": {
    "slideshow": {
     "slide_type": "skip"
    },
    "tags": [
     "notes-only"
    ]
   },
   "source": [
    "Valid — comparison of integers evaluates to a boolean value (`True` or `False`)"
   ]
  },
  {
   "cell_type": "markdown",
   "id": "176e437c",
   "metadata": {
    "slideshow": {
     "slide_type": "fragment"
    }
   },
   "source": [
    "\\#4) `3 = 3`"
   ]
  },
  {
   "cell_type": "markdown",
   "id": "213b411a",
   "metadata": {
    "slideshow": {
     "slide_type": "skip"
    },
    "tags": [
     "notes-only"
    ]
   },
   "source": [
    "Invalid — use double equals (`==`) for equality comparison; single equals (`=`) is used for (re)assignment"
   ]
  },
  {
   "cell_type": "markdown",
   "id": "28403dfd",
   "metadata": {
    "slideshow": {
     "slide_type": "fragment"
    }
   },
   "source": [
    "\\#5) `4 >= 4`"
   ]
  },
  {
   "cell_type": "markdown",
   "id": "b37344cb",
   "metadata": {
    "slideshow": {
     "slide_type": "skip"
    },
    "tags": [
     "notes-only"
    ]
   },
   "source": [
    "Valid — `>=` means greater than or equal to; as noted above, comparison of integers evaluates to a boolean value"
   ]
  },
  {
   "cell_type": "markdown",
   "id": "ec7a4019",
   "metadata": {
    "slideshow": {
     "slide_type": "skip"
    },
    "tags": [
     "worksheet-only"
    ]
   },
   "source": [
    "🛑 Stop here after completing the above questions; if you have extra time please **skip ahead** to the extra practice."
   ]
  },
  {
   "cell_type": "markdown",
   "id": "11477a75",
   "metadata": {
    "slideshow": {
     "slide_type": "slide"
    }
   },
   "source": [
    "## Order of operations"
   ]
  },
  {
   "cell_type": "markdown",
   "id": "435f947c",
   "metadata": {
    "slideshow": {
     "slide_type": "skip"
    },
    "tags": [
     "notes-only"
    ]
   },
   "source": [
    "### Overview\n",
    "* Order (highest-to-lowest predence)\n",
    "    * Parenthesis — `()`\n",
    "    * Math operations\n",
    "        * Power — `**`\n",
    "        * Multiplication/division — `*`, `/`, `//`, `%`\n",
    "        * Addition/subtraction — `+`, `-`\n",
    "    * Comparison — `==`, `!=`, `<`, `>`, `<=`, `>=`\n",
    "    * Boolean operations\n",
    "        * `not`\n",
    "        * `and`\n",
    "        * `or`\n",
    "\n",
    "### Practice"
   ]
  },
  {
   "cell_type": "markdown",
   "id": "ad22aa24",
   "metadata": {
    "slideshow": {
     "slide_type": "-"
    }
   },
   "source": [
    "_Assume the following assignment statements have been executed:_"
   ]
  },
  {
   "cell_type": "code",
   "execution_count": 18,
   "id": "9ad07aae",
   "metadata": {
    "slideshow": {
     "slide_type": "-"
    }
   },
   "outputs": [],
   "source": [
    "x = -2\n",
    "y = 0\n",
    "z = 5"
   ]
  },
  {
   "cell_type": "markdown",
   "id": "d3e0bf13",
   "metadata": {
    "slideshow": {
     "slide_type": "-"
    }
   },
   "source": [
    "_What does each of the following boolean expressions evaluate to? If the expression is an invalid boolean expression, describe why._"
   ]
  },
  {
   "cell_type": "code",
   "execution_count": null,
   "id": "6bde10c1",
   "metadata": {
    "slideshow": {
     "slide_type": "-"
    },
    "tags": [
     "worksheet-code-only"
    ]
   },
   "outputs": [],
   "source": [
    "#1)\n",
    "x < 0 and y < 0"
   ]
  },
  {
   "cell_type": "code",
   "execution_count": 21,
   "id": "1915d1dd",
   "metadata": {
    "slideshow": {
     "slide_type": "fragment"
    },
    "tags": [
     "worksheet-code-only"
    ]
   },
   "outputs": [
    {
     "data": {
      "text/plain": [
       "True"
      ]
     },
     "execution_count": 21,
     "metadata": {},
     "output_type": "execute_result"
    }
   ],
   "source": [
    "#2) \n",
    "z > 3 and z < 7"
   ]
  },
  {
   "cell_type": "code",
   "execution_count": 22,
   "id": "2057696c",
   "metadata": {
    "slideshow": {
     "slide_type": "fragment"
    },
    "tags": [
     "worksheet-code-only"
    ]
   },
   "outputs": [
    {
     "ename": "SyntaxError",
     "evalue": "invalid syntax (2795633142.py, line 2)",
     "output_type": "error",
     "traceback": [
      "\u001b[0;36m  File \u001b[0;32m\"/var/folders/bd/35sz70xs5837wszrx11bw1yc0000gn/T/ipykernel_790/2795633142.py\"\u001b[0;36m, line \u001b[0;32m2\u001b[0m\n\u001b[0;31m    y not == 0\u001b[0m\n\u001b[0m          ^\u001b[0m\n\u001b[0;31mSyntaxError\u001b[0m\u001b[0;31m:\u001b[0m invalid syntax\n"
     ]
    }
   ],
   "source": [
    "#3)\n",
    "y not == 0"
   ]
  },
  {
   "cell_type": "code",
   "execution_count": 23,
   "id": "5965d46a",
   "metadata": {
    "slideshow": {
     "slide_type": "fragment"
    },
    "tags": [
     "worksheet-code-only"
    ]
   },
   "outputs": [
    {
     "data": {
      "text/plain": [
       "True"
      ]
     },
     "execution_count": 23,
     "metadata": {},
     "output_type": "execute_result"
    }
   ],
   "source": [
    "#4)\n",
    "x < y or (z >= 0 and y <= 5)"
   ]
  },
  {
   "cell_type": "code",
   "execution_count": 24,
   "id": "8f1c2201",
   "metadata": {
    "slideshow": {
     "slide_type": "subslide"
    },
    "tags": [
     "worksheet-code-only"
    ]
   },
   "outputs": [
    {
     "data": {
      "text/plain": [
       "True"
      ]
     },
     "execution_count": 24,
     "metadata": {},
     "output_type": "execute_result"
    }
   ],
   "source": [
    "#5)\n",
    "x + y < z"
   ]
  },
  {
   "cell_type": "code",
   "execution_count": 25,
   "id": "29231d2b",
   "metadata": {
    "slideshow": {
     "slide_type": "fragment"
    },
    "tags": [
     "worksheet-code-only"
    ]
   },
   "outputs": [
    {
     "data": {
      "text/plain": [
       "True"
      ]
     },
     "execution_count": 25,
     "metadata": {},
     "output_type": "execute_result"
    }
   ],
   "source": [
    "#6)\n",
    "\"a\" < \"b\""
   ]
  },
  {
   "cell_type": "code",
   "execution_count": 26,
   "id": "68bbfb4d",
   "metadata": {
    "slideshow": {
     "slide_type": "fragment"
    },
    "tags": [
     "worksheet-code-only"
    ]
   },
   "outputs": [
    {
     "data": {
      "text/plain": [
       "False"
      ]
     },
     "execution_count": 26,
     "metadata": {},
     "output_type": "execute_result"
    }
   ],
   "source": [
    "#7)\n",
    "\"b\" < \"C\""
   ]
  },
  {
   "cell_type": "markdown",
   "id": "5d8ace1b",
   "metadata": {
    "slideshow": {
     "slide_type": "skip"
    },
    "tags": [
     "worksheet-only"
    ]
   },
   "source": [
    "🛑 Stop here after completing the above questions; if you have extra time please **skip ahead** to the programming practice."
   ]
  },
  {
   "cell_type": "markdown",
   "id": "afce6bc5",
   "metadata": {
    "slideshow": {
     "slide_type": "slide"
    }
   },
   "source": [
    "## Conditional statements"
   ]
  },
  {
   "cell_type": "markdown",
   "id": "898ad5d7",
   "metadata": {
    "slideshow": {
     "slide_type": "skip"
    },
    "tags": [
     "notes-only"
    ]
   },
   "source": [
    "### Overview\n",
    "* Used to influence program’s behavior based on the result of a boolean expression\n",
    "* If statement — execute one set of instructions when the specified boolean expression is true and execute a different set of instructions when the expression is false\n",
    "    ```Python\n",
    "    if boolean expression:\n",
    "        statements when true\n",
    "    else:\n",
    "        statements when false\n",
    "    ```\n",
    "    * Statements must be indented\n",
    "    * Else clause is optional\n",
    "* Sequence of execution is non-linear\n",
    "    * Only execute one set of statements, based on the result of the boolean expression\n",
    "    * Skip over other set of statements\n",
    "* Drawing a flowchart is useful"
   ]
  },
  {
   "cell_type": "markdown",
   "id": "fe1f3110",
   "metadata": {
    "slideshow": {
     "slide_type": "-"
    }
   },
   "source": [
    "### Example\n",
    "```Python\n",
    "print(\"This is always first\")\n",
    "if (x > 0):\n",
    "\tprint(\"Expression is true\")\n",
    "\tprint(\"Hooray!\")\n",
    "else:\n",
    "\tprint(\"Expression is false\")\n",
    "\tprint(\"Uh-oh!\")\n",
    "print(\"This is always last\")\n",
    "```"
   ]
  },
  {
   "cell_type": "markdown",
   "id": "2d9754ca",
   "metadata": {
    "slideshow": {
     "slide_type": "skip"
    },
    "tags": [
     "notes-only"
    ]
   },
   "source": [
    "![Flowchart for example](figures/conditionals/example.png)"
   ]
  },
  {
   "cell_type": "markdown",
   "id": "742a456b",
   "metadata": {
    "slideshow": {
     "slide_type": "subslide"
    }
   },
   "source": [
    "\n",
    "### Example without else clause\n",
    "```Python\n",
    "print(\"This is always first\")\n",
    "if (x > 0):\n",
    "\tprint(\"Expression is true\")\n",
    "\tprint(\"This occurs sometimes\")\n",
    "print(\"This is always last\")\n",
    "```"
   ]
  },
  {
   "cell_type": "markdown",
   "id": "332a7252",
   "metadata": {
    "slideshow": {
     "slide_type": "skip"
    },
    "tags": [
     "notes-only"
    ]
   },
   "source": [
    "![Flowchart for example without else caluse](figures/conditionals/example_without_else.png)"
   ]
  },
  {
   "cell_type": "markdown",
   "id": "0c203ffa",
   "metadata": {
    "slideshow": {
     "slide_type": "slide"
    }
   },
   "source": [
    "### Practice\n",
    "_For the following programs: (1) draw a flowchart and (2) specify what output will be produced._"
   ]
  },
  {
   "cell_type": "code",
   "execution_count": 27,
   "id": "1466c5b8",
   "metadata": {
    "slideshow": {
     "slide_type": "-"
    },
    "tags": [
     "worksheet-code-only"
    ]
   },
   "outputs": [
    {
     "name": "stdout",
     "output_type": "stream",
     "text": [
      "noon\n",
      "PM\n"
     ]
    }
   ],
   "source": [
    "#1)\n",
    "hour = 12\n",
    "if (hour == 12):\n",
    "    print(\"noon\")\n",
    "if (hour > 12):\n",
    "    print(\"AM\")\n",
    "else:\n",
    "    print(\"PM\")"
   ]
  },
  {
   "cell_type": "markdown",
   "id": "6ae9b394",
   "metadata": {
    "slideshow": {
     "slide_type": "skip"
    },
    "tags": [
     "worksheet-only"
    ]
   },
   "source": [
    "```\n",
    "\n",
    "\n",
    "\n",
    "\n",
    "\n",
    "\n",
    "\n",
    "\n",
    "\n",
    "\n",
    "\n",
    "\n",
    "\n",
    "\n",
    "```"
   ]
  },
  {
   "cell_type": "code",
   "execution_count": 28,
   "id": "d29c4d64",
   "metadata": {
    "slideshow": {
     "slide_type": "fragment"
    },
    "tags": [
     "worksheet-code-only"
    ]
   },
   "outputs": [
    {
     "name": "stdout",
     "output_type": "stream",
     "text": [
      "20\n"
     ]
    }
   ],
   "source": [
    "#2)\n",
    "cost = 200\n",
    "refund = 3\n",
    "if (cost > 100):\n",
    "    refund = 10\n",
    "refund = refund * 2\n",
    "print(refund)"
   ]
  },
  {
   "cell_type": "markdown",
   "id": "126d2089",
   "metadata": {
    "slideshow": {
     "slide_type": "skip"
    },
    "tags": [
     "worksheet-only"
    ]
   },
   "source": [
    "```\n",
    "\n",
    "\n",
    "\n",
    "\n",
    "\n",
    "\n",
    "\n",
    "\n",
    "\n",
    "\n",
    "\n",
    "\n",
    "\n",
    "\n",
    "```\n",
    "<div style=\"page-break-after:always;\"></div>"
   ]
  },
  {
   "cell_type": "markdown",
   "id": "72660c3c",
   "metadata": {
    "slideshow": {
     "slide_type": "skip"
    }
   },
   "source": [
    "## Extra practice\n",
    "\n",
    "### Boolean operations\n",
    "_What is the output of each of the following programs?_"
   ]
  },
  {
   "cell_type": "code",
   "execution_count": 29,
   "id": "b6854c42",
   "metadata": {
    "slideshow": {
     "slide_type": "skip"
    },
    "tags": [
     "worksheet-code-only"
    ]
   },
   "outputs": [
    {
     "name": "stdout",
     "output_type": "stream",
     "text": [
      "True or True is True\n",
      "True or False is True\n",
      "False or True is True\n",
      "False or False is False\n"
     ]
    }
   ],
   "source": [
    "#1)\n",
    "print(\"True or True is\", True or True)\n",
    "print(\"True or False is\", True or False)\n",
    "print(\"False or True is\", False or True)\n",
    "print(\"False or False is\", False or False)"
   ]
  },
  {
   "cell_type": "markdown",
   "id": "5649807d",
   "metadata": {
    "slideshow": {
     "slide_type": "skip"
    },
    "tags": [
     "worksheet-only"
    ]
   },
   "source": [
    "```\n",
    "\n",
    "\n",
    "\n",
    "\n",
    "```"
   ]
  },
  {
   "cell_type": "code",
   "execution_count": 30,
   "id": "27a80c78",
   "metadata": {
    "slideshow": {
     "slide_type": "skip"
    },
    "tags": [
     "worksheet-code-only"
    ]
   },
   "outputs": [
    {
     "name": "stdout",
     "output_type": "stream",
     "text": [
      "True and True is True\n",
      "True and False is False\n",
      "False and True is False\n",
      "False and False is False\n"
     ]
    }
   ],
   "source": [
    "#2)\n",
    "print(\"True and True is\", True and True)\n",
    "print(\"True and False is\", True and False)\n",
    "print(\"False and True is\", False and True)\n",
    "print(\"False and False is\", False and False)"
   ]
  },
  {
   "cell_type": "markdown",
   "id": "3d856d7e",
   "metadata": {
    "slideshow": {
     "slide_type": "skip"
    },
    "tags": [
     "worksheet-only"
    ]
   },
   "source": [
    "```\n",
    "\n",
    "\n",
    "\n",
    "\n",
    "```"
   ]
  },
  {
   "cell_type": "markdown",
   "id": "0c5202cc",
   "metadata": {
    "slideshow": {
     "slide_type": "skip"
    }
   },
   "source": [
    "### Conditional statements\n",
    "\n",
    "\\#3) Write a program that asks the user a yes/no question and outputs `Correct` or `Incorrect` based on whether the user's answer. For example:\n",
    "```\n",
    "Is a whale a mammal? yes\n",
    "Correct\n",
    "```"
   ]
  },
  {
   "cell_type": "code",
   "execution_count": 32,
   "id": "a5092d73",
   "metadata": {
    "slideshow": {
     "slide_type": "skip"
    },
    "tags": [
     "notes-only"
    ]
   },
   "outputs": [
    {
     "name": "stdout",
     "output_type": "stream",
     "text": [
      "Is a whale a mamal? yes\n",
      "Correct\n"
     ]
    }
   ],
   "source": [
    "answer = input(\"Is a whale a mamal? \")\n",
    "if (answer == \"yes\"):\n",
    "    print(\"Correct\")\n",
    "else:\n",
    "    print(\"Incorrect\")"
   ]
  },
  {
   "cell_type": "markdown",
   "id": "4522955a",
   "metadata": {
    "slideshow": {
     "slide_type": "skip"
    },
    "tags": [
     "worksheet-only"
    ]
   },
   "source": [
    "```Python\n",
    "\n",
    "\n",
    "\n",
    "\n",
    "\n",
    "\n",
    "```"
   ]
  },
  {
   "cell_type": "markdown",
   "id": "cd50bc69",
   "metadata": {
    "slideshow": {
     "slide_type": "skip"
    }
   },
   "source": [
    "\\#4) Write a program that asks the user to enter two numbers and outputs whether or not the first number is evenly divisible by the second number. For example:\n",
    "```\n",
    "First number: 10\n",
    "Second number: 5\n",
    "10 is evenly divisible by 5\n",
    "```"
   ]
  },
  {
   "cell_type": "code",
   "execution_count": 33,
   "id": "4f2802dc",
   "metadata": {
    "slideshow": {
     "slide_type": "skip"
    },
    "tags": [
     "notes-only"
    ]
   },
   "outputs": [
    {
     "name": "stdout",
     "output_type": "stream",
     "text": [
      "First number: 10\n",
      "Second number: 5\n",
      "10 is evenly divisble by 5\n"
     ]
    }
   ],
   "source": [
    "first = int(input(\"First number: \"))\n",
    "second = int(input(\"Second number: \"))\n",
    "if (first % second == 0):\n",
    "    print(first, \"is evenly divisble by\", second)\n",
    "else:\n",
    "    print(first, \"is not evenly divisble by\", second)"
   ]
  },
  {
   "cell_type": "markdown",
   "id": "9508f0e3",
   "metadata": {
    "slideshow": {
     "slide_type": "skip"
    },
    "tags": [
     "worksheet-only"
    ]
   },
   "source": [
    "```Python\n",
    "\n",
    "\n",
    "\n",
    "\n",
    "\n",
    "\n",
    "```"
   ]
  }
 ],
 "metadata": {
  "celltoolbar": "Slideshow",
  "kernelspec": {
   "display_name": "Python 3 (ipykernel)",
   "language": "python",
   "name": "python3"
  },
  "language_info": {
   "codemirror_mode": {
    "name": "ipython",
    "version": 3
   },
   "file_extension": ".py",
   "mimetype": "text/x-python",
   "name": "python",
   "nbconvert_exporter": "python",
   "pygments_lexer": "ipython3",
   "version": "3.8.2"
  }
 },
 "nbformat": 4,
 "nbformat_minor": 5
}
