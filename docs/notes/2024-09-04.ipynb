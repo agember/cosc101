{
 "cells": [
  {
   "cell_type": "markdown",
   "id": "b10a9b7c",
   "metadata": {
    "slideshow": {
     "slide_type": "skip"
    }
   },
   "source": [
    "# Hello: function calls; type conversion; variables\n",
    "_COSC 101, Introduction to Computing I, 2024-09-04_"
   ]
  },
  {
   "cell_type": "markdown",
   "id": "619d2e6c",
   "metadata": {
    "slideshow": {
     "slide_type": "skip"
    }
   },
   "source": [
    "## Announcements\n",
    "* Read and complete activities in sections 2.14-2.15, 3.1-3.7 on Runestone Academy"
   ]
  },
  {
   "cell_type": "markdown",
   "id": "2a327a5a",
   "metadata": {
    "slideshow": {
     "slide_type": "skip"
    },
    "tags": [
     "notes-only"
    ]
   },
   "source": [
    "## Outline\n",
    "* Warm-up\n",
    "* Function calls\n",
    "* Type conversion\n",
    "* Variables"
   ]
  },
  {
   "cell_type": "markdown",
   "id": "73aabf8d",
   "metadata": {
    "slideshow": {
     "slide_type": "slide"
    }
   },
   "source": [
    "## Warm-up: operators (from last class)"
   ]
  },
  {
   "cell_type": "markdown",
   "id": "ad9f3754-437a-47dd-8c27-f3e02d66b063",
   "metadata": {},
   "source": [
    "_Determine the result of each of the following expressions, or indicate if the expression is invalid:_"
   ]
  },
  {
   "cell_type": "code",
   "execution_count": 57,
   "id": "9a307f5e-80d9-48ea-a575-dcebf67cf4d9",
   "metadata": {
    "tags": [
     "worksheet-code-only"
    ]
   },
   "outputs": [
    {
     "data": {
      "text/plain": [
       "13"
      ]
     },
     "execution_count": 57,
     "metadata": {},
     "output_type": "execute_result"
    }
   ],
   "source": [
    "3 + 4 + 6"
   ]
  },
  {
   "cell_type": "markdown",
   "id": "7066e141-ba41-4139-aa92-4c394ebe4dbb",
   "metadata": {
    "slideshow": {
     "slide_type": "skip"
    },
    "tags": [
     "blank"
    ]
   },
   "source": [
    "<div style=\"height:2em;\"></div>"
   ]
  },
  {
   "cell_type": "code",
   "execution_count": 56,
   "id": "df1ccfd9-73ba-4ace-a98a-948811bd6ed4",
   "metadata": {
    "tags": [
     "worksheet-code-only"
    ]
   },
   "outputs": [
    {
     "data": {
      "text/plain": [
       "12.0"
      ]
     },
     "execution_count": 56,
     "metadata": {},
     "output_type": "execute_result"
    }
   ],
   "source": [
    "(5 - 1) * (2.0 + 1)"
   ]
  },
  {
   "cell_type": "markdown",
   "id": "8ae14d00-b64e-46a4-b2e0-d87b5199aa19",
   "metadata": {
    "slideshow": {
     "slide_type": "skip"
    },
    "tags": [
     "blank"
    ]
   },
   "source": [
    "<div style=\"height:2em;\"></div>"
   ]
  },
  {
   "cell_type": "code",
   "execution_count": 43,
   "id": "8c8c94b9-8d15-406d-b190-bd12da365dbf",
   "metadata": {
    "tags": [
     "worksheet-code-only"
    ]
   },
   "outputs": [
    {
     "data": {
      "text/plain": [
       "'NewYork'"
      ]
     },
     "execution_count": 43,
     "metadata": {},
     "output_type": "execute_result"
    }
   ],
   "source": [
    "\"New\" + \"York\""
   ]
  },
  {
   "cell_type": "markdown",
   "id": "cda7d4f9-a5e4-483c-9ab4-a71cb6016fce",
   "metadata": {
    "slideshow": {
     "slide_type": "skip"
    },
    "tags": [
     "blank"
    ]
   },
   "source": [
    "<div style=\"height:2em;\"></div>"
   ]
  },
  {
   "cell_type": "code",
   "execution_count": 40,
   "id": "20cd9f25-2733-4aca-8c03-e37dc9181833",
   "metadata": {
    "tags": [
     "worksheet-code-only"
    ]
   },
   "outputs": [
    {
     "data": {
      "text/plain": [
       "5.5"
      ]
     },
     "execution_count": 40,
     "metadata": {},
     "output_type": "execute_result"
    }
   ],
   "source": [
    "5 / 2 + 3"
   ]
  },
  {
   "cell_type": "markdown",
   "id": "6c320d68-a967-4b37-af30-6c77f20a9fcb",
   "metadata": {
    "slideshow": {
     "slide_type": "skip"
    },
    "tags": [
     "blank"
    ]
   },
   "source": [
    "<div style=\"height:2em;\"></div>"
   ]
  },
  {
   "cell_type": "code",
   "execution_count": 42,
   "id": "ac760c84-f972-424d-abfb-f0e3bd3628ad",
   "metadata": {
    "tags": [
     "worksheet-code-only"
    ]
   },
   "outputs": [
    {
     "ename": "TypeError",
     "evalue": "can only concatenate str (not \"int\") to str",
     "output_type": "error",
     "traceback": [
      "\u001b[0;31m---------------------------------------------------------------------------\u001b[0m",
      "\u001b[0;31mTypeError\u001b[0m                                 Traceback (most recent call last)",
      "\u001b[0;32m/var/folders/bd/35sz70xs5837wszrx11bw1yc0000gn/T/ipykernel_5800/2106897465.py\u001b[0m in \u001b[0;36m<module>\u001b[0;34m\u001b[0m\n\u001b[0;32m----> 1\u001b[0;31m \u001b[0;34m\"75\"\u001b[0m \u001b[0;34m+\u001b[0m \u001b[0;36m25\u001b[0m\u001b[0;34m\u001b[0m\u001b[0;34m\u001b[0m\u001b[0m\n\u001b[0m",
      "\u001b[0;31mTypeError\u001b[0m: can only concatenate str (not \"int\") to str"
     ]
    }
   ],
   "source": [
    "\"75\" + 25"
   ]
  },
  {
   "cell_type": "markdown",
   "id": "6fd9c934-c8c1-4006-a668-a3d9eeea9eb8",
   "metadata": {
    "slideshow": {
     "slide_type": "skip"
    },
    "tags": [
     "blank"
    ]
   },
   "source": [
    "<div style=\"height:2em;\"></div>"
   ]
  },
  {
   "cell_type": "code",
   "execution_count": 36,
   "id": "2705a1b3-4655-4abc-b05a-757b782e7d92",
   "metadata": {
    "tags": [
     "worksheet-code-only"
    ]
   },
   "outputs": [
    {
     "data": {
      "text/plain": [
       "2"
      ]
     },
     "execution_count": 36,
     "metadata": {},
     "output_type": "execute_result"
    }
   ],
   "source": [
    "21 // 3 % 5"
   ]
  },
  {
   "cell_type": "markdown",
   "id": "e1359099-1bef-4c54-a2ae-8e9275cebf4d",
   "metadata": {
    "slideshow": {
     "slide_type": "skip"
    },
    "tags": [
     "blank"
    ]
   },
   "source": [
    "<div style=\"height:2em;\"></div>"
   ]
  },
  {
   "cell_type": "code",
   "execution_count": 66,
   "id": "71cce35d-2048-4837-9df7-85c107934fe5",
   "metadata": {
    "tags": [
     "worksheet-code-only"
    ]
   },
   "outputs": [
    {
     "data": {
      "text/plain": [
       "3"
      ]
     },
     "execution_count": 66,
     "metadata": {},
     "output_type": "execute_result"
    }
   ],
   "source": [
    "7+-4"
   ]
  },
  {
   "cell_type": "markdown",
   "id": "9c6c7534-888f-407f-8195-e967b3b84492",
   "metadata": {
    "slideshow": {
     "slide_type": "skip"
    },
    "tags": [
     "blank"
    ]
   },
   "source": [
    "<div style=\"height:2em;\"></div>"
   ]
  },
  {
   "cell_type": "code",
   "execution_count": 21,
   "id": "2d29360b-69c2-4666-9198-8d584ae816f1",
   "metadata": {
    "tags": [
     "worksheet-code-only"
    ]
   },
   "outputs": [
    {
     "data": {
      "text/plain": [
       "1000"
      ]
     },
     "execution_count": 21,
     "metadata": {},
     "output_type": "execute_result"
    }
   ],
   "source": [
    "10 ** 3"
   ]
  },
  {
   "cell_type": "markdown",
   "id": "dc5861f9-e1db-44bb-82be-daddafe6bbe0",
   "metadata": {
    "slideshow": {
     "slide_type": "skip"
    },
    "tags": [
     "blank"
    ]
   },
   "source": [
    "<div style=\"height:2em;\"></div>"
   ]
  },
  {
   "cell_type": "code",
   "execution_count": 28,
   "id": "9350c351-5cf1-4de1-a5da-d6ae365bfcba",
   "metadata": {
    "tags": [
     "worksheet-code-only"
    ]
   },
   "outputs": [
    {
     "data": {
      "text/plain": [
       "'Mississppi'"
      ]
     },
     "execution_count": 28,
     "metadata": {},
     "output_type": "execute_result"
    }
   ],
   "source": [
    "\"M\" + \"iss\" * 2 + \"ppi\""
   ]
  },
  {
   "cell_type": "markdown",
   "id": "17688ff5-01d9-4e9d-921e-db89c2a2aeb4",
   "metadata": {
    "slideshow": {
     "slide_type": "skip"
    },
    "tags": [
     "blank"
    ]
   },
   "source": [
    "<div style=\"height:2em;\"></div>\n",
    "\n",
    "🛑 Stop here after completing the warm-up; if you have extra time **skip ahead** to the extra practice."
   ]
  },
  {
   "cell_type": "markdown",
   "id": "4f6d4bf2-bc56-469b-bcb3-c732805945ac",
   "metadata": {
    "slideshow": {
     "slide_type": "slide"
    },
    "tags": []
   },
   "source": [
    "## Function calls"
   ]
  },
  {
   "cell_type": "markdown",
   "id": "68ed7a8d-17d3-4f97-8135-45f7c6547eab",
   "metadata": {
    "slideshow": {
     "slide_type": "skip"
    },
    "tags": [
     "notes-only"
    ]
   },
   "source": [
    "* Function takes some values, performs one or more operations, and produces a new value\n",
    "    * Input values are called _arguments_\n",
    "        * Number of input values depends on the function\n",
    "    * Output value is called _return value_\n",
    "        * Some functions (e.g., `print`) return `None` – _more on this next week_\n",
    "* Some functions are \"built-in\" to Python – e.g., `print`, `type`, `len`\n",
    "* Or, you can write your own functions – _more on this next week_\n",
    "* Function call contains: name of the function, open (or left) parenthesis, zero or more arguments separated by commas, close (or right) parenthesis\n",
    "* Function call can take the place of a value"
   ]
  },
  {
   "cell_type": "code",
   "execution_count": 52,
   "id": "93009bf2-a86f-4871-860d-2c3a7bdd2432",
   "metadata": {
    "slideshow": {
     "slide_type": "skip"
    },
    "tags": [
     "notes-only"
    ]
   },
   "outputs": [
    {
     "name": "stdout",
     "output_type": "stream",
     "text": [
      "3.14159\n",
      "<class 'float'>\n"
     ]
    }
   ],
   "source": [
    "print(3.14159)\n",
    "print(type(3.14159))"
   ]
  },
  {
   "cell_type": "markdown",
   "id": "f47b8c5d-447a-42ab-8ba3-e29ca5e8725b",
   "metadata": {
    "slideshow": {
     "slide_type": "skip"
    },
    "tags": [
     "notes-only"
    ]
   },
   "source": [
    "* Functions are a form of _abstraction_ – we don't need to worry about _how_ the return value is computed (i.e., which operations are applied to the arguments); only need to worry about _what_ function does"
   ]
  },
  {
   "cell_type": "markdown",
   "id": "b175892c-4e80-44a0-9b65-d28d3617e2d9",
   "metadata": {
    "tags": [
     "question"
    ]
   },
   "source": [
    "_What does the following program output?_"
   ]
  },
  {
   "cell_type": "code",
   "execution_count": 13,
   "id": "801cc9ef-878d-45e6-bc8b-e42153efc53a",
   "metadata": {
    "tags": [
     "worksheet-code-only"
    ]
   },
   "outputs": [
    {
     "name": "stdout",
     "output_type": "stream",
     "text": [
      "At Colgate the\n",
      "<class 'int'>\n",
      "value\n",
      "13\n",
      "is important\n"
     ]
    }
   ],
   "source": [
    "print(\"At Colgate the\")\n",
    "print(type(13))\n",
    "print(\"value\")\n",
    "print(13)\n",
    "print(\"is important\")"
   ]
  },
  {
   "cell_type": "markdown",
   "id": "fb874cdc-25e9-4703-9c20-99d2a93ebc0d",
   "metadata": {
    "slideshow": {
     "slide_type": "skip"
    },
    "tags": [
     "blank"
    ]
   },
   "source": [
    "<div style=\"height:10em;\"></div>\n",
    "\n",
    "🛑 Stop here after completing the above question; if you have extra time **skip ahead** to the extra practice."
   ]
  },
  {
   "cell_type": "markdown",
   "id": "3cc5cd8a-150f-47fa-bec0-53814a5b79ba",
   "metadata": {
    "slideshow": {
     "slide_type": "skip"
    },
    "tags": [
     "notes-only"
    ]
   },
   "source": [
    "* _How can we make all of the output appear on a single line?_"
   ]
  },
  {
   "cell_type": "code",
   "execution_count": 21,
   "id": "72421828-a2f0-4048-99c7-6592c1ed7fdd",
   "metadata": {
    "slideshow": {
     "slide_type": "skip"
    },
    "tags": [
     "notes-only"
    ]
   },
   "outputs": [
    {
     "name": "stdout",
     "output_type": "stream",
     "text": [
      "At Colgate the <class 'int'> value 13 is important\n"
     ]
    }
   ],
   "source": [
    "# Pass multiple values to print\n",
    "print(\"At Colgate the\", type(13), \"value\", 13, \"is important\")"
   ]
  },
  {
   "cell_type": "code",
   "execution_count": 22,
   "id": "8b429e44-b4a9-46ec-9d15-130d5d1ec227",
   "metadata": {
    "slideshow": {
     "slide_type": "skip"
    },
    "tags": [
     "notes-only"
    ]
   },
   "outputs": [
    {
     "ename": "TypeError",
     "evalue": "can only concatenate str (not \"type\") to str",
     "output_type": "error",
     "traceback": [
      "\u001b[0;31m---------------------------------------------------------------------------\u001b[0m",
      "\u001b[0;31mTypeError\u001b[0m                                 Traceback (most recent call last)",
      "\u001b[0;32m/var/folders/bd/35sz70xs5837wszrx11bw1yc0000gn/T/ipykernel_2368/652197573.py\u001b[0m in \u001b[0;36m<module>\u001b[0;34m\u001b[0m\n\u001b[1;32m      1\u001b[0m \u001b[0;31m# Combine all of the values using `+` – need to convert everything to a string\u001b[0m\u001b[0;34m\u001b[0m\u001b[0;34m\u001b[0m\u001b[0;34m\u001b[0m\u001b[0m\n\u001b[0;32m----> 2\u001b[0;31m \u001b[0mprint\u001b[0m\u001b[0;34m(\u001b[0m\u001b[0;34m\"At Colgate the\"\u001b[0m \u001b[0;34m+\u001b[0m \u001b[0mtype\u001b[0m\u001b[0;34m(\u001b[0m\u001b[0;36m13\u001b[0m\u001b[0;34m)\u001b[0m \u001b[0;34m+\u001b[0m \u001b[0;34m\"value\"\u001b[0m \u001b[0;34m+\u001b[0m \u001b[0;36m13\u001b[0m \u001b[0;34m+\u001b[0m \u001b[0;34m\"is important\"\u001b[0m\u001b[0;34m)\u001b[0m\u001b[0;34m\u001b[0m\u001b[0;34m\u001b[0m\u001b[0m\n\u001b[0m",
      "\u001b[0;31mTypeError\u001b[0m: can only concatenate str (not \"type\") to str"
     ]
    }
   ],
   "source": [
    "# Combine all of the values using `+` – need to convert everything to a string\n",
    "print(\"At Colgate the\" + type(13) + \"value\" + 13 + \"is important\")"
   ]
  },
  {
   "cell_type": "markdown",
   "id": "d5760ab2-df69-46a5-acbe-eb96a1068867",
   "metadata": {
    "slideshow": {
     "slide_type": "slide"
    },
    "tags": []
   },
   "source": [
    "## Type conversion"
   ]
  },
  {
   "cell_type": "markdown",
   "id": "852a46fc-1aca-434e-8272-7bdbdc580503",
   "metadata": {
    "slideshow": {
     "slide_type": "skip"
    },
    "tags": [
     "notes-only"
    ]
   },
   "source": [
    "* Built-in functions to convert values from one type to another\n",
    "    * `str` takes a value of any type and returns a string\n",
    "    * `int` takes a string containing only numbers or a float and returns an integer\n",
    "    * `float` takes a string containing a decimal value or an integer and returns a float"
   ]
  },
  {
   "cell_type": "code",
   "execution_count": 53,
   "id": "3a6aea2a-bb56-498d-acc5-e9e5fd8ee6b2",
   "metadata": {
    "slideshow": {
     "slide_type": "skip"
    },
    "tags": [
     "notes-only"
    ]
   },
   "outputs": [
    {
     "name": "stdout",
     "output_type": "stream",
     "text": [
      "At Colgate the<class 'int'>value13is important\n"
     ]
    }
   ],
   "source": [
    "print(\"At Colgate the\" + str(type(13)) + \"value\" + str(13) + \"is important\")"
   ]
  },
  {
   "cell_type": "code",
   "execution_count": 23,
   "id": "5a9bec0a-8371-46a4-ac27-cb923b0b5814",
   "metadata": {
    "slideshow": {
     "slide_type": "skip"
    },
    "tags": [
     "notes-only"
    ]
   },
   "outputs": [
    {
     "name": "stdout",
     "output_type": "stream",
     "text": [
      "At Colgate the <class 'int'> value 13 is important \n"
     ]
    }
   ],
   "source": [
    "# Remember to use proper spacing\n",
    "print(\"At Colgate the \" + str(type(13)) + \" value \" + str(13) + \" is important \")"
   ]
  },
  {
   "cell_type": "markdown",
   "id": "e0a883ee",
   "metadata": {
    "slideshow": {
     "slide_type": "-"
    },
    "tags": [
     "question"
    ]
   },
   "source": [
    "_Determine the result of each of the following expressions, or indicate if the expression is invalid:_"
   ]
  },
  {
   "cell_type": "code",
   "execution_count": 36,
   "id": "0f96c24d",
   "metadata": {
    "tags": [
     "worksheet-code-only"
    ]
   },
   "outputs": [
    {
     "data": {
      "text/plain": [
       "str"
      ]
     },
     "execution_count": 36,
     "metadata": {},
     "output_type": "execute_result"
    }
   ],
   "source": [
    "type(\"13\")"
   ]
  },
  {
   "cell_type": "markdown",
   "id": "4cdfe14c",
   "metadata": {
    "slideshow": {
     "slide_type": "skip"
    },
    "tags": [
     "worksheet-only"
    ]
   },
   "source": [
    "<div style=\"height:2em;\"></div>"
   ]
  },
  {
   "cell_type": "code",
   "execution_count": 37,
   "id": "dbef1b26",
   "metadata": {
    "tags": [
     "worksheet-code-only"
    ]
   },
   "outputs": [
    {
     "data": {
      "text/plain": [
       "int"
      ]
     },
     "execution_count": 37,
     "metadata": {},
     "output_type": "execute_result"
    }
   ],
   "source": [
    "type(int(\"13\"))"
   ]
  },
  {
   "cell_type": "markdown",
   "id": "8340e6cc",
   "metadata": {
    "slideshow": {
     "slide_type": "skip"
    },
    "tags": [
     "worksheet-only"
    ]
   },
   "source": [
    "<div style=\"height:2em;\"></div>"
   ]
  },
  {
   "cell_type": "code",
   "execution_count": 38,
   "id": "1d45fdfc",
   "metadata": {
    "tags": [
     "worksheet-code-only"
    ]
   },
   "outputs": [
    {
     "ename": "ValueError",
     "evalue": "invalid literal for int() with base 10: 'thirteen'",
     "output_type": "error",
     "traceback": [
      "\u001b[0;31m---------------------------------------------------------------------------\u001b[0m",
      "\u001b[0;31mValueError\u001b[0m                                Traceback (most recent call last)",
      "\u001b[0;32m/var/folders/bd/35sz70xs5837wszrx11bw1yc0000gn/T/ipykernel_2368/3416730934.py\u001b[0m in \u001b[0;36m<module>\u001b[0;34m\u001b[0m\n\u001b[0;32m----> 1\u001b[0;31m \u001b[0mint\u001b[0m\u001b[0;34m(\u001b[0m\u001b[0;34m\"thirteen\"\u001b[0m\u001b[0;34m)\u001b[0m\u001b[0;34m\u001b[0m\u001b[0;34m\u001b[0m\u001b[0m\n\u001b[0m",
      "\u001b[0;31mValueError\u001b[0m: invalid literal for int() with base 10: 'thirteen'"
     ]
    }
   ],
   "source": [
    "int(\"thirteen\")"
   ]
  },
  {
   "cell_type": "markdown",
   "id": "8350e6cc",
   "metadata": {
    "slideshow": {
     "slide_type": "skip"
    },
    "tags": [
     "worksheet-only"
    ]
   },
   "source": [
    "<div style=\"height:2em;\"></div>"
   ]
  },
  {
   "cell_type": "code",
   "execution_count": 39,
   "id": "fe5be5ec",
   "metadata": {
    "tags": [
     "worksheet-code-only"
    ]
   },
   "outputs": [
    {
     "data": {
      "text/plain": [
       "13.0"
      ]
     },
     "execution_count": 39,
     "metadata": {},
     "output_type": "execute_result"
    }
   ],
   "source": [
    "float(13)"
   ]
  },
  {
   "cell_type": "markdown",
   "id": "8360e6cc",
   "metadata": {
    "slideshow": {
     "slide_type": "skip"
    },
    "tags": [
     "worksheet-only"
    ]
   },
   "source": [
    "<div style=\"height:2em;\"></div>"
   ]
  },
  {
   "cell_type": "code",
   "execution_count": 40,
   "id": "58595863",
   "metadata": {
    "tags": [
     "worksheet-code-only"
    ]
   },
   "outputs": [
    {
     "data": {
      "text/plain": [
       "13"
      ]
     },
     "execution_count": 40,
     "metadata": {},
     "output_type": "execute_result"
    }
   ],
   "source": [
    "int(13.13)"
   ]
  },
  {
   "cell_type": "markdown",
   "id": "5d9e1386-6fe7-459f-92bf-c4d2a9300553",
   "metadata": {
    "slideshow": {
     "slide_type": "skip"
    },
    "tags": [
     "worksheet-only"
    ]
   },
   "source": [
    "<div style=\"height:2em;\"></div>"
   ]
  },
  {
   "cell_type": "code",
   "execution_count": 41,
   "id": "17e74b27-f131-4c53-b642-d462dea0e5e8",
   "metadata": {
    "tags": [
     "worksheet-code-only"
    ]
   },
   "outputs": [
    {
     "ename": "SyntaxError",
     "evalue": "invalid syntax (1014797136.py, line 1)",
     "output_type": "error",
     "traceback": [
      "\u001b[0;36m  File \u001b[0;32m\"/var/folders/bd/35sz70xs5837wszrx11bw1yc0000gn/T/ipykernel_2368/1014797136.py\"\u001b[0;36m, line \u001b[0;32m1\u001b[0m\n\u001b[0;31m    int(13.13.13)\u001b[0m\n\u001b[0m             ^\u001b[0m\n\u001b[0;31mSyntaxError\u001b[0m\u001b[0;31m:\u001b[0m invalid syntax\n"
     ]
    }
   ],
   "source": [
    "int(13.13.13)"
   ]
  },
  {
   "cell_type": "markdown",
   "id": "8370e6cc",
   "metadata": {
    "slideshow": {
     "slide_type": "skip"
    },
    "tags": [
     "worksheet-only"
    ]
   },
   "source": [
    "<div style=\"height:2em;\"></div>\n",
    "\n",
    "🛑 Stop here after completing the above questions; if you have extra time **skip ahead** to extra practice."
   ]
  },
  {
   "cell_type": "markdown",
   "id": "8524521f-a35f-4dba-84a5-ab9b4596ebba",
   "metadata": {
    "slideshow": {
     "slide_type": "slide"
    },
    "tags": []
   },
   "source": [
    "## Programming practice"
   ]
  },
  {
   "cell_type": "markdown",
   "id": "f90d80b1-cd5f-4ad0-9b6d-a811f375d4ad",
   "metadata": {
    "tags": [
     "question"
    ]
   },
   "source": [
    "_Assume an item normally costs 39.99, but is on sale for 22.99. Write a single line of code that outputs the percentage savings as a whole number: e.g., `25% savings`._"
   ]
  },
  {
   "cell_type": "code",
   "execution_count": 46,
   "id": "51ae768b-0edc-4766-9909-b6a34863f99a",
   "metadata": {
    "slideshow": {
     "slide_type": "fragment"
    },
    "tags": [
     "notes-only"
    ]
   },
   "outputs": [
    {
     "name": "stdout",
     "output_type": "stream",
     "text": [
      "42% savings\n"
     ]
    }
   ],
   "source": [
    "print(str(int((39.99 - 22.99) / 39.99 * 100)) + \"% savings\")"
   ]
  },
  {
   "cell_type": "markdown",
   "id": "511d91b1-ab0d-4404-9716-c53b84cd382a",
   "metadata": {
    "slideshow": {
     "slide_type": "skip"
    },
    "tags": [
     "blank"
    ]
   },
   "source": [
    "<div style=\"height:3em;\"></div>\n",
    "\n",
    "🛑 Stop here after completing the above question; if you have extra time **skip ahead** to the extra practice."
   ]
  },
  {
   "cell_type": "markdown",
   "id": "286d76a7-c8fb-4753-8e0d-091c2f992792",
   "metadata": {
    "slideshow": {
     "slide_type": "skip"
    },
    "tags": [
     "notes-only"
    ]
   },
   "source": [
    "* _What do you observe about your code?_\n",
    "    * Lots of parenthesis\n",
    "    * Lots of operations\n",
    "    * Lots of function calls\n",
    "    * Same value is used multiple times"
   ]
  },
  {
   "cell_type": "markdown",
   "id": "2c6fb804-5e72-4074-b930-3971d40f8d7b",
   "metadata": {
    "slideshow": {
     "slide_type": "skip"
    },
    "tags": [
     "notes-only"
    ]
   },
   "source": [
    "Here is different code that produces the same output but uses _variables_"
   ]
  },
  {
   "cell_type": "code",
   "execution_count": 51,
   "id": "60f84d50-55c4-4107-9a07-4f0602880033",
   "metadata": {
    "slideshow": {
     "slide_type": "fragment"
    },
    "tags": [
     "notes-only"
    ]
   },
   "outputs": [
    {
     "name": "stdout",
     "output_type": "stream",
     "text": [
      "42% savings\n"
     ]
    }
   ],
   "source": [
    "original_price = 39.99\n",
    "sale_price = 22.99\n",
    "percent_savings = (original_price - sale_price) / original_price * 100\n",
    "print(str(int(percent_savings)) + \"% savings\")"
   ]
  },
  {
   "cell_type": "markdown",
   "id": "5d325701",
   "metadata": {
    "slideshow": {
     "slide_type": "slide"
    }
   },
   "source": [
    "## Variables"
   ]
  },
  {
   "cell_type": "markdown",
   "id": "ef447247",
   "metadata": {
    "slideshow": {
     "slide_type": "skip"
    },
    "tags": [
     "notes-only"
    ]
   },
   "source": [
    "* A variable is a vessel for a value\n",
    "* When you assign a value to a variable, you put the value in the vessel\n",
    "    * E.g., `box = 2`\n",
    "* When you use a variable in an expresison, you use the value in the vessel\n",
    "    * E.g., `3 + box` evaluates to `5`\n",
    "* When you assign a different value to a variable, you **replace** the value in the vessel\n",
    "    * E.g., `box = 7`\n",
    "* When you use a variable in an expression, you use the **current** value in the vessel\n",
    "    * E.g., `3 + box` now evaluates to `10`"
   ]
  },
  {
   "cell_type": "markdown",
   "id": "d5231b4c",
   "metadata": {
    "slideshow": {
     "slide_type": "-"
    }
   },
   "source": [
    "_What do each of the following programs output?_"
   ]
  },
  {
   "cell_type": "code",
   "execution_count": 54,
   "id": "630704a1",
   "metadata": {
    "tags": [
     "worksheet-code-only"
    ]
   },
   "outputs": [
    {
     "name": "stdout",
     "output_type": "stream",
     "text": [
      "7\n",
      "10\n"
     ]
    }
   ],
   "source": [
    "apples = 10\n",
    "print(apples - 3)\n",
    "print(apples)"
   ]
  },
  {
   "cell_type": "markdown",
   "id": "e90d5db8",
   "metadata": {
    "slideshow": {
     "slide_type": "skip"
    },
    "tags": [
     "blank"
    ]
   },
   "source": [
    "<div style=\"height:5em;\"></div>"
   ]
  },
  {
   "cell_type": "code",
   "execution_count": 55,
   "id": "1e405992",
   "metadata": {
    "slideshow": {
     "slide_type": "fragment"
    },
    "tags": [
     "worksheet-code-only",
     "notes-code-only"
    ]
   },
   "outputs": [
    {
     "name": "stdout",
     "output_type": "stream",
     "text": [
      "5 plums\n",
      "7 peaches\n",
      "12 fruits\n"
     ]
    }
   ],
   "source": [
    "plums = 5\n",
    "peaches = 7\n",
    "fruits = plums + peaches\n",
    "print(plums, \"plums\")\n",
    "print(peaches, \"peaches\")\n",
    "print(fruits, \"fruits\")"
   ]
  },
  {
   "cell_type": "markdown",
   "id": "3dc3f9d7",
   "metadata": {
    "slideshow": {
     "slide_type": "skip"
    },
    "tags": [
     "worksheet-only"
    ]
   },
   "source": [
    "<div style=\"height:5em;\"></div>"
   ]
  },
  {
   "cell_type": "code",
   "execution_count": 57,
   "id": "a7b452c9",
   "metadata": {
    "slideshow": {
     "slide_type": "fragment"
    },
    "tags": [
     "worksheet-code-only",
     "notes-code-only"
    ]
   },
   "outputs": [
    {
     "name": "stdout",
     "output_type": "stream",
     "text": [
      "13\n",
      "5\n"
     ]
    }
   ],
   "source": [
    "muffins = 13\n",
    "print(muffins)\n",
    "muffins = 5\n",
    "print(muffins)"
   ]
  },
  {
   "cell_type": "markdown",
   "id": "287a77cd-386e-4f29-a79e-ef10f49332dc",
   "metadata": {
    "slideshow": {
     "slide_type": "skip"
    },
    "tags": [
     "worksheet-only"
    ]
   },
   "source": [
    "<div style=\"height:5em;\"></div>"
   ]
  },
  {
   "cell_type": "code",
   "execution_count": 59,
   "id": "86bb2a40",
   "metadata": {
    "slideshow": {
     "slide_type": "subslide"
    },
    "tags": [
     "worksheet-code-only",
     "notes-code-only"
    ]
   },
   "outputs": [
    {
     "name": "stdout",
     "output_type": "stream",
     "text": [
      "8.0\n",
      "4.5\n"
     ]
    }
   ],
   "source": [
    "bagels = 1\n",
    "donuts = bagels + 2\n",
    "bagels = 4\n",
    "print(bagels * 2.0)\n",
    "print(donuts * 1.5)"
   ]
  },
  {
   "cell_type": "markdown",
   "id": "c424d64a-e792-43b1-ba38-2f7e4a483564",
   "metadata": {
    "slideshow": {
     "slide_type": "skip"
    },
    "tags": [
     "worksheet-only"
    ]
   },
   "source": [
    "<div style=\"height:5em;\"></div>"
   ]
  },
  {
   "cell_type": "code",
   "execution_count": 61,
   "id": "4a3261a8",
   "metadata": {
    "slideshow": {
     "slide_type": "fragment"
    },
    "tags": [
     "worksheet-code-only",
     "notes-code-only"
    ]
   },
   "outputs": [
    {
     "name": "stdout",
     "output_type": "stream",
     "text": [
      "12\n"
     ]
    }
   ],
   "source": [
    "yogurt = 6\n",
    "yogurt = yogurt * 2\n",
    "print(yogurt)"
   ]
  },
  {
   "cell_type": "markdown",
   "id": "9968cf7e-c632-43c8-9942-027e32c99cc4",
   "metadata": {
    "slideshow": {
     "slide_type": "skip"
    },
    "tags": [
     "worksheet-only"
    ]
   },
   "source": [
    "<div style=\"height:5em;\"></div>"
   ]
  },
  {
   "cell_type": "code",
   "execution_count": 65,
   "id": "b1af2ee8",
   "metadata": {
    "slideshow": {
     "slide_type": "subslide"
    },
    "tags": [
     "worksheet-code-only",
     "notes-code-only"
    ]
   },
   "outputs": [
    {
     "name": "stdout",
     "output_type": "stream",
     "text": [
      "Luis Suárez plays football\n",
      "Luis von Ahn co-founded Duolingo\n",
      "Luis Suárez is retiring\n"
     ]
    }
   ],
   "source": [
    "first = \"Luis\"\n",
    "last = \"Suárez\"\n",
    "full = first + \" \" + last\n",
    "print(full + \" plays football\") \n",
    "last = \"von Ahn\"\n",
    "print(first + \" \" + last + \" co-founded Duolingo\")\n",
    "print(full + \" is retiring\")"
   ]
  },
  {
   "cell_type": "markdown",
   "id": "d5670785-303b-46f8-89da-351ef4f2ce23",
   "metadata": {
    "slideshow": {
     "slide_type": "skip"
    },
    "tags": [
     "worksheet-only"
    ]
   },
   "source": [
    "<div style=\"height:5em;\"></div>"
   ]
  },
  {
   "cell_type": "markdown",
   "id": "763bd3a1-c427-46b4-a894-f543f2cba8eb",
   "metadata": {
    "slideshow": {
     "slide_type": "subslide"
    },
    "tags": [
     "question"
    ]
   },
   "source": [
    "_Write a program that calculates the area of a room that is 10 meters long and 5 meters wide._"
   ]
  },
  {
   "cell_type": "code",
   "execution_count": 84,
   "id": "60822779",
   "metadata": {
    "slideshow": {
     "slide_type": "skip"
    },
    "tags": [
     "answer"
    ]
   },
   "outputs": [
    {
     "name": "stdout",
     "output_type": "stream",
     "text": [
      "50\n"
     ]
    }
   ],
   "source": [
    "length = 10\n",
    "width = 5\n",
    "area = length * width\n",
    "print(area)"
   ]
  },
  {
   "cell_type": "markdown",
   "id": "644a32bb-b30e-49a4-83d2-9498f214305e",
   "metadata": {
    "slideshow": {
     "slide_type": "skip"
    },
    "tags": [
     "blank"
    ]
   },
   "source": [
    "<div style=\"height:10em;\"></div>"
   ]
  },
  {
   "cell_type": "markdown",
   "id": "0e0bdd2e-7d3a-4f55-9b08-cd5962bbb46e",
   "metadata": {
    "tags": []
   },
   "source": [
    "_Write a program that calculates sales tax and the total cost for a $11.00 purchase with a tax rate of 8%._"
   ]
  },
  {
   "cell_type": "code",
   "execution_count": 78,
   "id": "776e6110",
   "metadata": {
    "slideshow": {
     "slide_type": "skip"
    },
    "tags": [
     "notes-only"
    ]
   },
   "outputs": [
    {
     "name": "stdout",
     "output_type": "stream",
     "text": [
      "Tax: $0.88\n",
      "Total: $11.88\n"
     ]
    }
   ],
   "source": [
    "purchase = 11.00\n",
    "rate = 0.08\n",
    "tax = purchase * rate\n",
    "print(\"Tax: $\" + str(tax))\n",
    "total = purchase + tax\n",
    "print(\"Total: $\" + str(total))"
   ]
  },
  {
   "cell_type": "markdown",
   "id": "9420614b-328f-4336-b2e8-cabab717eb46",
   "metadata": {
    "slideshow": {
     "slide_type": "skip"
    },
    "tags": [
     "blank"
    ]
   },
   "source": [
    "<div style=\"height:10em;\"></div>"
   ]
  },
  {
   "cell_type": "markdown",
   "id": "dba7a6f9-589a-4e47-b445-c0fdf46951ac",
   "metadata": {
    "tags": [
     "question"
    ]
   },
   "source": [
    "_Write a program that calculates the total size of an apartment with a bedroom that is 4.5m x 8.1m, a living room that is 8m x 10m, a bathroom that is 2.8m x 1.2m, and a kitchen that is 3.25m x 3.75m_"
   ]
  },
  {
   "cell_type": "code",
   "execution_count": 83,
   "id": "871cc50e-6f34-4b68-b8fe-43a8b3c6d24b",
   "metadata": {
    "slideshow": {
     "slide_type": "skip"
    },
    "tags": [
     "answer"
    ]
   },
   "outputs": [
    {
     "name": "stdout",
     "output_type": "stream",
     "text": [
      "The apartment is 131.9975m²\n"
     ]
    }
   ],
   "source": [
    "bedroom = 4.5 * 8.1\n",
    "living = 8 * 10\n",
    "bathroom = 2.8 * 1.2\n",
    "kitchen = 3.25 * 3.75\n",
    "apartment = bedroom + living + bathroom + kitchen\n",
    "print(\"The apartment is \" + str(apartment) + \"m²\")"
   ]
  },
  {
   "cell_type": "markdown",
   "id": "caa172c3-c76b-4eea-a9b5-1ff84b75e2f5",
   "metadata": {
    "slideshow": {
     "slide_type": "skip"
    },
    "tags": [
     "blank"
    ]
   },
   "source": [
    "<div style=\"height:10em;\"></div>"
   ]
  },
  {
   "cell_type": "markdown",
   "id": "1a624598-506e-4f65-9531-625dafcbdfd7",
   "metadata": {
    "slideshow": {
     "slide_type": "slide"
    },
    "tags": []
   },
   "source": [
    "## Extra practice"
   ]
  },
  {
   "cell_type": "markdown",
   "id": "b708fdf3",
   "metadata": {
    "tags": [
     "question"
    ]
   },
   "source": [
    "_Determine the output of each program, or indicate if an error occurs._"
   ]
  },
  {
   "cell_type": "code",
   "execution_count": 66,
   "id": "f81e2e6c",
   "metadata": {
    "slideshow": {
     "slide_type": "-"
    },
    "tags": [
     "worksheet-code-only"
    ]
   },
   "outputs": [
    {
     "name": "stdout",
     "output_type": "stream",
     "text": [
      "7\n"
     ]
    }
   ],
   "source": [
    "print(3 * 2 + 1)"
   ]
  },
  {
   "cell_type": "markdown",
   "id": "211797c6",
   "metadata": {
    "slideshow": {
     "slide_type": "skip"
    },
    "tags": [
     "blank"
    ]
   },
   "source": [
    "<div style=\"height:5em;\"></div>"
   ]
  },
  {
   "cell_type": "code",
   "execution_count": 67,
   "id": "32b98e17",
   "metadata": {
    "slideshow": {
     "slide_type": "fragment"
    },
    "tags": [
     "worksheet-code-only"
    ]
   },
   "outputs": [
    {
     "name": "stdout",
     "output_type": "stream",
     "text": [
      "1.5\n",
      "1\n",
      "2\n"
     ]
    }
   ],
   "source": [
    "print(6/4)\n",
    "print(6//4)\n",
    "print(6%4)"
   ]
  },
  {
   "cell_type": "markdown",
   "id": "2117a7c6",
   "metadata": {
    "slideshow": {
     "slide_type": "skip"
    },
    "tags": [
     "blank"
    ]
   },
   "source": [
    "<div style=\"height:5em;\"></div>"
   ]
  },
  {
   "cell_type": "code",
   "execution_count": 68,
   "id": "e3987590",
   "metadata": {
    "slideshow": {
     "slide_type": "fragment"
    },
    "tags": [
     "worksheet-code-only"
    ]
   },
   "outputs": [
    {
     "name": "stdout",
     "output_type": "stream",
     "text": [
      "16\n"
     ]
    }
   ],
   "source": [
    "print(2 ** 2 ** 2)"
   ]
  },
  {
   "cell_type": "markdown",
   "id": "2117b7c6",
   "metadata": {
    "slideshow": {
     "slide_type": "skip"
    },
    "tags": [
     "blank"
    ]
   },
   "source": [
    "<div style=\"height:5em;\"></div>"
   ]
  },
  {
   "cell_type": "code",
   "execution_count": 69,
   "id": "86d8b8c6",
   "metadata": {
    "slideshow": {
     "slide_type": "fragment"
    },
    "tags": [
     "worksheet-code-only"
    ]
   },
   "outputs": [
    {
     "ename": "SyntaxError",
     "evalue": "invalid syntax (1202401852.py, line 1)",
     "output_type": "error",
     "traceback": [
      "\u001b[0;36m  File \u001b[0;32m\"/var/folders/bd/35sz70xs5837wszrx11bw1yc0000gn/T/ipykernel_2368/1202401852.py\"\u001b[0;36m, line \u001b[0;32m1\u001b[0m\n\u001b[0;31m    print (+ 1 2)\u001b[0m\n\u001b[0m               ^\u001b[0m\n\u001b[0;31mSyntaxError\u001b[0m\u001b[0;31m:\u001b[0m invalid syntax\n"
     ]
    }
   ],
   "source": [
    "print (+ 1 2)"
   ]
  },
  {
   "cell_type": "markdown",
   "id": "2117c7c6",
   "metadata": {
    "slideshow": {
     "slide_type": "skip"
    },
    "tags": [
     "blank"
    ]
   },
   "source": [
    "<div style=\"height:5em;\"></div>"
   ]
  },
  {
   "cell_type": "code",
   "execution_count": 70,
   "id": "66b31ed5",
   "metadata": {
    "slideshow": {
     "slide_type": "subslide"
    },
    "tags": [
     "worksheet-code-only"
    ]
   },
   "outputs": [
    {
     "name": "stdout",
     "output_type": "stream",
     "text": [
      "6\n",
      "15\n"
     ]
    }
   ],
   "source": [
    "x = 5\n",
    "print(x + 1)\n",
    "y = 10\n",
    "print (x + y)"
   ]
  },
  {
   "cell_type": "markdown",
   "id": "2117d7c6",
   "metadata": {
    "slideshow": {
     "slide_type": "skip"
    },
    "tags": [
     "blank"
    ]
   },
   "source": [
    "<div style=\"height:5em;\"></div>"
   ]
  },
  {
   "cell_type": "code",
   "execution_count": 71,
   "id": "b5154a64",
   "metadata": {
    "slideshow": {
     "slide_type": "fragment"
    },
    "tags": [
     "worksheet-code-only"
    ]
   },
   "outputs": [
    {
     "name": "stdout",
     "output_type": "stream",
     "text": [
      "50\n"
     ]
    }
   ],
   "source": [
    "z = 5 * 10\n",
    "print(z)"
   ]
  },
  {
   "cell_type": "markdown",
   "id": "2117e7c6",
   "metadata": {
    "slideshow": {
     "slide_type": "skip"
    },
    "tags": [
     "blank"
    ]
   },
   "source": [
    "<div style=\"height:5em;\"></div>"
   ]
  },
  {
   "cell_type": "code",
   "execution_count": 87,
   "id": "03265b35",
   "metadata": {
    "slideshow": {
     "slide_type": "fragment"
    },
    "tags": [
     "worksheet-code-only"
    ]
   },
   "outputs": [
    {
     "ename": "TypeError",
     "evalue": "can only concatenate str (not \"int\") to str",
     "output_type": "error",
     "traceback": [
      "\u001b[0;31m---------------------------------------------------------------------------\u001b[0m",
      "\u001b[0;31mTypeError\u001b[0m                                 Traceback (most recent call last)",
      "\u001b[0;32m/var/folders/bd/35sz70xs5837wszrx11bw1yc0000gn/T/ipykernel_2368/1039395982.py\u001b[0m in \u001b[0;36m<module>\u001b[0;34m\u001b[0m\n\u001b[1;32m      1\u001b[0m \u001b[0mm\u001b[0m \u001b[0;34m=\u001b[0m \u001b[0;34m'50'\u001b[0m\u001b[0;34m\u001b[0m\u001b[0;34m\u001b[0m\u001b[0m\n\u001b[1;32m      2\u001b[0m \u001b[0mn\u001b[0m \u001b[0;34m=\u001b[0m \u001b[0;36m100\u001b[0m\u001b[0;34m\u001b[0m\u001b[0;34m\u001b[0m\u001b[0m\n\u001b[0;32m----> 3\u001b[0;31m \u001b[0mprint\u001b[0m\u001b[0;34m(\u001b[0m\u001b[0mm\u001b[0m \u001b[0;34m+\u001b[0m \u001b[0mn\u001b[0m\u001b[0;34m)\u001b[0m\u001b[0;34m\u001b[0m\u001b[0;34m\u001b[0m\u001b[0m\n\u001b[0m",
      "\u001b[0;31mTypeError\u001b[0m: can only concatenate str (not \"int\") to str"
     ]
    }
   ],
   "source": [
    "m = '50'\n",
    "n = 100\n",
    "print(m + n)"
   ]
  },
  {
   "cell_type": "markdown",
   "id": "2117f7c6",
   "metadata": {
    "slideshow": {
     "slide_type": "skip"
    },
    "tags": [
     "blank"
    ]
   },
   "source": [
    "<div style=\"height:5em;\"></div>"
   ]
  },
  {
   "cell_type": "code",
   "execution_count": 73,
   "id": "f8794527",
   "metadata": {
    "slideshow": {
     "slide_type": "fragment"
    },
    "tags": [
     "worksheet-code-only"
    ]
   },
   "outputs": [
    {
     "name": "stdout",
     "output_type": "stream",
     "text": [
      "1\n",
      "3\n"
     ]
    }
   ],
   "source": [
    "r = 1\n",
    "s = 2 + r\n",
    "print(r)\n",
    "print(s)"
   ]
  },
  {
   "cell_type": "markdown",
   "id": "28962c49-b43c-4a3c-8166-3b97bdd273ca",
   "metadata": {
    "slideshow": {
     "slide_type": "skip"
    },
    "tags": [
     "blank"
    ]
   },
   "source": [
    "<div style=\"height:5em;\"></div>"
   ]
  },
  {
   "cell_type": "markdown",
   "id": "211748c6",
   "metadata": {
    "slideshow": {
     "slide_type": "skip"
    },
    "tags": [
     "worksheet-only"
    ]
   },
   "source": [
    "<p style=\"height:3em;\"></p>"
   ]
  }
 ],
 "metadata": {
  "celltoolbar": "Tags",
  "kernelspec": {
   "display_name": "Python 3 (ipykernel)",
   "language": "python",
   "name": "python3"
  },
  "language_info": {
   "codemirror_mode": {
    "name": "ipython",
    "version": 3
   },
   "file_extension": ".py",
   "mimetype": "text/x-python",
   "name": "python",
   "nbconvert_exporter": "python",
   "pygments_lexer": "ipython3",
   "version": "3.9.6"
  }
 },
 "nbformat": 4,
 "nbformat_minor": 5
}
