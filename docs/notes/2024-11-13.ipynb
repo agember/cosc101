{
 "cells": [
  {
   "cell_type": "markdown",
   "metadata": {
    "slideshow": {
     "slide_type": "skip"
    },
    "tags": []
   },
   "source": [
    "# Key/value data: dictionary methods\n",
    "_COSC 101, Introduction to Computing I, 2024-11-13_"
   ]
  },
  {
   "cell_type": "markdown",
   "metadata": {
    "editable": true,
    "slideshow": {
     "slide_type": "skip"
    },
    "tags": []
   },
   "source": [
    "## Announcements\n",
    "* Homework 7 due tomorrow at 11:59pm\n",
    "* Exam 3 Friday, Nov 22"
   ]
  },
  {
   "cell_type": "markdown",
   "metadata": {
    "slideshow": {
     "slide_type": "slide"
    },
    "tags": []
   },
   "source": [
    "## Dictionary methods"
   ]
  },
  {
   "cell_type": "markdown",
   "metadata": {
    "editable": true,
    "slideshow": {
     "slide_type": "skip"
    },
    "tags": [
     "notes-only"
    ]
   },
   "source": [
    "* `keys()` — list of keys\n",
    "* `values()` — list of values\n",
    "* `items()` — list of key/value pairs\n",
    "* `get(key)` — gets the item associated with key"
   ]
  },
  {
   "cell_type": "markdown",
   "metadata": {
    "editable": true,
    "slideshow": {
     "slide_type": "skip"
    },
    "tags": [
     "blank"
    ]
   },
   "source": [
    "<p style=\"height:5em;\"></p>"
   ]
  },
  {
   "cell_type": "markdown",
   "metadata": {
    "editable": true,
    "slideshow": {
     "slide_type": ""
    },
    "tags": [
     "question"
    ]
   },
   "source": [
    "*What is the output of the following program?*"
   ]
  },
  {
   "cell_type": "code",
   "execution_count": 11,
   "metadata": {
    "editable": true,
    "slideshow": {
     "slide_type": ""
    },
    "tags": [
     "worksheet-code-only"
    ]
   },
   "outputs": [
    {
     "name": "stdout",
     "output_type": "stream",
     "text": [
      "{'cold': 'hot', 'short': 'tall', 'down': 'up'}\n"
     ]
    }
   ],
   "source": [
    "def main() -> None:\n",
    "    opposites = { 'hot' : 'cold', 'tall' : 'short', 'up' : 'down'}\n",
    "    opposites2 = {}\n",
    "    for word in opposites.keys():\n",
    "        word2 = opposites.get(word)\n",
    "        opposites2[word2] = word\n",
    "    print(opposites2)\n",
    "main()"
   ]
  },
  {
   "cell_type": "markdown",
   "metadata": {
    "editable": true,
    "slideshow": {
     "slide_type": "skip"
    },
    "tags": [
     "blank"
    ]
   },
   "source": [
    "<p style=\"height:10em;\"></p>"
   ]
  },
  {
   "cell_type": "markdown",
   "metadata": {
    "editable": true,
    "slideshow": {
     "slide_type": ""
    },
    "tags": [
     "question"
    ]
   },
   "source": [
    "*What is the output of the following program?*"
   ]
  },
  {
   "cell_type": "code",
   "execution_count": 12,
   "metadata": {
    "editable": true,
    "slideshow": {
     "slide_type": ""
    },
    "tags": [
     "worksheet-code-only"
    ]
   },
   "outputs": [
    {
     "name": "stdout",
     "output_type": "stream",
     "text": [
      "dict_keys(['WI', 'NY'])\n"
     ]
    }
   ],
   "source": [
    "def main() -> None:\n",
    "    cities = {}\n",
    "    zipcodes = { 53051 : 'Menomonee Falls, WI', 53704 : 'Madison, WI', 13346 : 'Hamilton, NY' }\n",
    "    for entry in zipcodes.values():\n",
    "        city_state = entry.split(', ')\n",
    "        cities[city_state[1]] = city_state[0]\n",
    "    print(cities.keys())\n",
    "main()"
   ]
  },
  {
   "cell_type": "markdown",
   "metadata": {
    "editable": true,
    "slideshow": {
     "slide_type": "skip"
    },
    "tags": [
     "blank"
    ]
   },
   "source": [
    "<p style=\"height:10em;\"></p>"
   ]
  },
  {
   "cell_type": "markdown",
   "metadata": {
    "editable": true,
    "slideshow": {
     "slide_type": ""
    },
    "tags": [
     "question"
    ]
   },
   "source": [
    "*What is the output of the following program?*"
   ]
  },
  {
   "cell_type": "code",
   "execution_count": 10,
   "metadata": {
    "editable": true,
    "slideshow": {
     "slide_type": "subslide"
    },
    "tags": [
     "worksheet-code-only"
    ]
   },
   "outputs": [
    {
     "name": "stdout",
     "output_type": "stream",
     "text": [
      "H2O\n",
      "CO2\n"
     ]
    }
   ],
   "source": [
    "def molecule(elements) -> str:\n",
    "    formula = \"\"\n",
    "    for element, count in elements.items():\n",
    "        formula += element\n",
    "        if (count > 1):\n",
    "            formula += str(count)\n",
    "    return formula\n",
    "\n",
    "water = {'H' : 2 , 'O' : 1}\n",
    "carbon_dioxide = { 'C' : 1, 'O' : 2}\n",
    "print(molecule(water))\n",
    "print(molecule(carbon_dioxide))"
   ]
  },
  {
   "cell_type": "markdown",
   "metadata": {
    "editable": true,
    "slideshow": {
     "slide_type": "skip"
    },
    "tags": [
     "blank"
    ]
   },
   "source": [
    "<p style=\"height:10em;\"></p>"
   ]
  },
  {
   "cell_type": "markdown",
   "metadata": {
    "editable": true,
    "slideshow": {
     "slide_type": "slide"
    },
    "tags": []
   },
   "source": [
    "## Dictionary manipulation patterns"
   ]
  },
  {
   "cell_type": "markdown",
   "metadata": {
    "editable": true,
    "slideshow": {
     "slide_type": "skip"
    },
    "tags": [
     "blank"
    ]
   },
   "source": [
    "<p style=\"height:5em;\"></p>"
   ]
  },
  {
   "cell_type": "markdown",
   "metadata": {
    "editable": true,
    "slideshow": {
     "slide_type": "skip"
    },
    "tags": [
     "notes-only"
    ]
   },
   "source": [
    "* Insert new key with initial value\n",
    "```\n",
    "if key not in mydict:\n",
    "    mydict[key] = 0    # Choose appropriate value\n",
    "```\n",
    "* Accumulate value corresponding to key\n",
    "```\n",
    "mydict[key] = mydict[key] + 1     # Choose appropriate accumulation\n",
    "```\n",
    "* Associate multiple values with key\n",
    "```\n",
    "if key not in mydict:\n",
    "    mydict[key] = []    # Initialize non-existent key to empty list\n",
    "mydict[key].append(newValue)     # Add new value to list associated with key\n",
    "```"
   ]
  },
  {
   "cell_type": "markdown",
   "metadata": {
    "editable": true,
    "slideshow": {
     "slide_type": ""
    },
    "tags": [
     "question"
    ]
   },
   "source": [
    "*Write a function called `char_count` that takes a string and returns a dictionary that maps characters to the number of times the character occurs in the string. For example: `char_count('basketball')` should return*\n",
    "```\n",
    "{'b': 2, 'a': 2, 's': 1, 'k': 1, 'e': 1, 't': 1, 'l': 2}\n",
    "```"
   ]
  },
  {
   "cell_type": "code",
   "execution_count": 2,
   "metadata": {
    "editable": true,
    "slideshow": {
     "slide_type": "skip"
    },
    "tags": [
     "answer"
    ]
   },
   "outputs": [],
   "source": [
    "def char_count(string):\n",
    "    \"\"\"\n",
    "    >>> char_count('basketball')\n",
    "    {'b': 2, 'a': 2, 's': 1, 'k': 1, 'e': 1, 't': 1, 'l': 2}\n",
    "    \"\"\"\n",
    "    counts = {}\n",
    "    for ch in string:\n",
    "        if ch in counts:\n",
    "            counts[ch] += 1\n",
    "        else:\n",
    "            counts[ch] = 1\n",
    "    return counts"
   ]
  },
  {
   "cell_type": "markdown",
   "metadata": {
    "editable": true,
    "slideshow": {
     "slide_type": "skip"
    },
    "tags": [
     "blank"
    ]
   },
   "source": [
    "<p style=\"height:15em;\"></p>"
   ]
  },
  {
   "cell_type": "markdown",
   "metadata": {
    "editable": true,
    "slideshow": {
     "slide_type": "fragment"
    },
    "tags": [
     "question"
    ]
   },
   "source": [
    "*Write a function called `group_data` that takes a list of names and data items (e.g., `[name1,data1, name2,data2,...]`) and returns a dictionary that maps names to lists of corresponding data items. For example:*\n",
    "```\n",
    "group_data(['apples','5','pears','8','oranges','3','pears','2'])\n",
    "```\n",
    "*should return*\n",
    "```\n",
    "{'apples' : ['5'], 'pears' : ['8','2'], 'oranges': ['3']}\n",
    "```"
   ]
  },
  {
   "cell_type": "code",
   "execution_count": 4,
   "metadata": {
    "editable": true,
    "slideshow": {
     "slide_type": "skip"
    },
    "tags": [
     "answer"
    ]
   },
   "outputs": [],
   "source": [
    "def group_data(alist):\n",
    "    \"\"\"\n",
    "    >>> group_data(['apples','5','pears','8','oranges','3','pears','2'])\n",
    "    {'apples': ['5'], 'pears': ['8', '2'], 'oranges': ['3']}\n",
    "    \"\"\"\n",
    "    adict = {}\n",
    "    for i in range(0, len(alist), 2):\n",
    "        name = alist[i]\n",
    "        data = alist[i+1]\n",
    "        if name not in adict:\n",
    "            adict[name] = [data]\n",
    "        else:\n",
    "            adict[name].append(data)\n",
    "    return adict"
   ]
  },
  {
   "cell_type": "markdown",
   "metadata": {
    "editable": true,
    "slideshow": {
     "slide_type": "skip"
    },
    "tags": [
     "blank"
    ]
   },
   "source": [
    "<p style=\"height:15em;\"></p>"
   ]
  },
  {
   "cell_type": "code",
   "execution_count": 8,
   "metadata": {
    "editable": true,
    "slideshow": {
     "slide_type": "skip"
    },
    "tags": [
     "colab-only"
    ]
   },
   "outputs": [
    {
     "data": {
      "text/plain": [
       "TestResults(failed=0, attempted=3)"
      ]
     },
     "execution_count": 8,
     "metadata": {},
     "output_type": "execute_result"
    }
   ],
   "source": [
    "import doctest\n",
    "doctest.testmod()"
   ]
  }
 ],
 "metadata": {
  "celltoolbar": "Tags",
  "kernelspec": {
   "display_name": "Python 3 (ipykernel)",
   "language": "python",
   "name": "python3"
  },
  "language_info": {
   "codemirror_mode": {
    "name": "ipython",
    "version": 3
   },
   "file_extension": ".py",
   "mimetype": "text/x-python",
   "name": "python",
   "nbconvert_exporter": "python",
   "pygments_lexer": "ipython3",
   "version": "3.9.6"
  }
 },
 "nbformat": 4,
 "nbformat_minor": 4
}
