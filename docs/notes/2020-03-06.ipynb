{
 "cells": [
  {
   "cell_type": "markdown",
   "metadata": {},
   "source": [
    "# 2020-03-06: Iteration & Strings: top-down design"
   ]
  },
  {
   "cell_type": "markdown",
   "metadata": {
    "tags": [
     "notes-only"
    ]
   },
   "source": [
    "# Announcements\n",
    "* Homework #7 due next Thursday --- string methods (e.g., `find`, `strip`) will **not** be on the exam\n",
    "* Exam #2 Wednesday"
   ]
  },
  {
   "cell_type": "markdown",
   "metadata": {},
   "source": [
    "# Warm-up\n",
    "*Write a function called `gene_simlarity` that takes two equal-length gene sequences and returns the number of nucleotides that match. For example:*\n",
    "* `gene_similarity(\"ATAT\", \"ATAT\")` should return `4`\n",
    "* `gene_similarity(\"ATAT\", \"ACAT\")` should return `3`\n",
    "* `gene_similarity(\"GCTCGA\", \"GCACCA\")` should return `4`"
   ]
  },
  {
   "cell_type": "markdown",
   "metadata": {
    "tags": [
     "worksheet-only"
    ]
   },
   "source": [
    "<p style=\"height:20em;\"></p>"
   ]
  },
  {
   "cell_type": "code",
   "execution_count": 1,
   "metadata": {
    "tags": [
     "notes-only"
    ]
   },
   "outputs": [],
   "source": [
    "def gene_similarity(seq1, seq2):\n",
    "    \"\"\"Counts the number nucleotides that match across two equal-length gene sequences\"\"\"\n",
    "    matches = 0\n",
    "    for i in range(len(seq1)):\n",
    "        if seq1[i] == seq2[i]:\n",
    "            matches = matches + 1\n",
    "    return matches"
   ]
  },
  {
   "cell_type": "markdown",
   "metadata": {},
   "source": [
    "*Challenge: Write a more sophisticated `gene_similarity` function that can handle a pair of gene sequences with different lengths. For example:*\n",
    "*`gene_similarity(\"ATAT\", \"AT\")` should return `2`\n",
    "*`gene_similarity(\"ATA\", \"ACAT\")` should return `2`\n",
    "*`gene_similarity(\"GCTC\", \"GCACCA\")` should return `3`"
   ]
  },
  {
   "cell_type": "code",
   "execution_count": 2,
   "metadata": {
    "tags": [
     "notes-only"
    ]
   },
   "outputs": [],
   "source": [
    "def gene_similarity(seq1, seq2):\n",
    "    \"\"\"Counts the number nucleotides that match across two gene sequences\"\"\"\n",
    "    if len(seq1) < len(seq2):\n",
    "        min_len = len(seq1)\n",
    "    else:\n",
    "        min_len = len(seq2)\n",
    "    matches = 0\n",
    "    for i in range(min_len):\n",
    "        if seq1[i] == seq2[i]:\n",
    "            matches = matches + 1\n",
    "    return matches"
   ]
  },
  {
   "cell_type": "markdown",
   "metadata": {
    "tags": [
     "notes-only"
    ]
   },
   "source": [
    "# Top-down program design (TDD)\n",
    "* A problem solving technique where you approach a large problem by:\n",
    "    1. Starting with a general description of the problem\n",
    "    2. Breaking the problem into several high-level steps\n",
    "    3. Iteratively breaking the steps into smaller steps until you have steps that are easy to solve\n",
    "* Create a plan (using TDD) before you write any code\n",
    "* After you have a plan:\n",
    "    1. Write a function for each small step in your plan\n",
    "    2. Write a function for each high-level step which calls your functions for the smaller steps\n",
    "    3. Write a main function which calls your functions for the high-level steps"
   ]
  },
  {
   "cell_type": "markdown",
   "metadata": {
    "tags": [
     "notes-only"
    ]
   },
   "source": [
    "# Breaking a problem into steps\n",
    "* Well-design functions (i.e., each step in your plan) should meet the **SOFA** criteria:\n",
    "    * **S**hort --- preferably less than a few dozen lines of code\n",
    "    * does **O**ne thing\n",
    "    * takes **F**ew parameters --- no more than 3 or 4 parameters\n",
    "    * maintains a single level of **A**bstraction\n",
    "* Your program as a whole should also meet the **DRY** criteria: *Don’t Repeat Yourself*\n",
    "    * *In what context have we already discussed this criteria (just not by this name)?* --- for loops; while loops; functions\n",
    "    * If the same code is duplicated in multiple places, create a single function containing the code and call the function everywhere the functionality is required\n",
    "    * If the code in multiple functions is similar, create a function that contains a more general algorithm and uses the value of one or more parameters to customize the actions taken by the function"
   ]
  },
  {
   "cell_type": "markdown",
   "metadata": {
    "tags": [
     "notes-only"
    ]
   },
   "source": [
    "# Case Study: Bulls and Cows\n",
    "## Gameplay\n",
    "* Player 1 writes down a secret 4-digit number; all digits must be different (e.g., **1379** is okay, but **1371** is not)\n",
    "* Player 2 tries to guess the 4-digit number\n",
    "* Player 1 provides feeback on the number of matching digits in Player 2's guess\n",
    "    * If the matching digits are in the correct position, they are \"bulls\"\n",
    "    * If they are in different positions, they are \"cows\"\n",
    "    * Example: if Player 1's secret number is **1379** and Player 2's guess is **1234**, then there is one bull (for the **1** and one cow for the **3**\n",
    "* Player 2 can make additional guesses, and Player 1 provides feedback for each guess\n",
    "* If Player 2 does not guess the correct number after several (e.g., 8) attempts, then Player 2 looses\n",
    "* Multiple (e.g., 10) rounds of the game are played to determine the winner; players alternate who selects the secret number\n",
    "* *Play two rounds of Bulls and Cows with the person sitting next to you to ensure you both understand how the game works*\n",
    "* Our goal: write a program that chooses the secret number and provides feedback on a human's guesses"
   ]
  },
  {
   "cell_type": "markdown",
   "metadata": {
    "tags": [
     "notes-only"
    ]
   },
   "source": [
    "## Top-down design: first iteration\n",
    "*What are the high-level steps?*\n",
    "1. Generate a secret number\n",
    "2. Ask for guess\n",
    "3. Determine matches\n",
    "4. Repeat steps 2 & 3 until the guess is correct or a player has made the maximum number of guesses\n",
    "5. Repeat steps 1-4\n",
    "\n",
    "Steps 1-4 are already breaking down the high-level step of playing one round\n"
   ]
  },
  {
   "cell_type": "markdown",
   "metadata": {
    "tags": [
     "notes-only"
    ]
   },
   "source": [
    "## Top-down design: second iteration\n",
    "1. Play round\n",
    "    1. Generate a secret number\n",
    "    2. Ask for guess\n",
    "    3. Determine matches\n",
    "    4. Repeat steps 2 & 3 until the guess is correct or a user has made the maximum number of guesses\n",
    "2. Repeat step 1 if user wants to play again\n",
    "\n",
    "*Which steps need to be broken down further?*"
   ]
  },
  {
   "cell_type": "markdown",
   "metadata": {
    "tags": [
     "notes-only"
    ]
   },
   "source": [
    "## Top-down design: third iteration\n",
    "1. Play round\n",
    "    1. Generate a secret number\n",
    "    2. Ask for guess\n",
    "        1. Ask for guess\n",
    "        2. If guess is invalid, repeat step a\n",
    "    3. Determine matches\n",
    "        1. Count number of Bulls\n",
    "        2. Count number of Cows\n",
    "    4. Check if round is over\n",
    "        1. If guess is correct, end round\n",
    "        2. If maximum guesses have been made, end round\n",
    "        3. Otherwise, repeat steps B-D\n",
    "2. Check if user wants to play again\n",
    "    1. Ask yes/no\n",
    "    2. If input is invalid, repeat step A"
   ]
  },
  {
   "cell_type": "markdown",
   "metadata": {
    "tags": [
     "notes-only"
    ]
   },
   "source": [
    "## Top-down design:  plan functions\n",
    "Create a function for each step. *What should be the names, parameters, and return values for the functions?*\n",
    "1. Play round -- `play_round()`\n",
    "    1. Generate a secret number -- `generate_secret()`; return secret (string)\n",
    "    2. Ask for guess -- `get_guess()`; return guess (string)\n",
    "        1. Ask for guess -- use built-in function `input(prompt)`; return guess (string)\n",
    "        2. If guess is invalid, repeat step a -- `valid_guess(guess)`\n",
    "    3. Determine matches -- `count_matches(secret, guess)`; return number of bulls (int)\n",
    "        1. Count number of Bulls -- `count_bulls(secret, guess)`; return number of bulls (int)\n",
    "        2. Count number of Cows -- `count_cows(secret, guess)`; return number of cows (int)\n",
    "    4. Check if round is over -- `has_won(cows, guess_count)`; return `True`, `False`, or `None`\n",
    "        1. If guess is correct, end round -- `correct_guess(cows)`; return `True`/`False`\n",
    "        2. If maximum guesses have been made, end round  -- `reached_limit(guess_count)`; return `True`/`False`\n",
    "        3. Otherwise, repeat steps B-D\n",
    "2. Check if user wants to play again -- `play_again()` return `True`/`False`\n",
    "    1. Ask yes/no -- use built-in function `input(prompt)`; return choice (string)\n",
    "    2. If input is invalid, repeat step 1 -- `valid_choice(choice)`; return `True`/`False`"
   ]
  },
  {
   "cell_type": "markdown",
   "metadata": {
    "tags": [
     "notes-only"
    ]
   },
   "source": [
    "## Write functions\n",
    "* Write one function at a time, starting with the smallest steps\n",
    "* Write tests for each function, and confirm the function works as desired **before** writing the next function"
   ]
  },
  {
   "cell_type": "markdown",
   "metadata": {},
   "source": [
    "## Doctests\n",
    "Test cases included in the docstring for a function"
   ]
  },
  {
   "cell_type": "code",
   "execution_count": 42,
   "metadata": {},
   "outputs": [],
   "source": [
    "def valid_guess(guess):\n",
    "        \"\"\"Check if user entered a valid guess\n",
    "        \n",
    "        >>> valid_guess('1379')\n",
    "        True\n",
    "        >>> valid_guess('1371')\n",
    "        False\n",
    "        >>> valid_guess('13346')\n",
    "        False\n",
    "        >>> valid_guess('137X')\n",
    "        False\n",
    "        \"\"\"\n",
    "        # TODO: Write function\n",
    "        return True"
   ]
  },
  {
   "cell_type": "code",
   "execution_count": 47,
   "metadata": {
    "tags": [
     "worksheet-code-only"
    ]
   },
   "outputs": [
    {
     "data": {
      "text/plain": [
       "TestResults(failed=0, attempted=10)"
      ]
     },
     "execution_count": 47,
     "metadata": {},
     "output_type": "execute_result"
    }
   ],
   "source": [
    "import doctest\n",
    "doctest.testmod()"
   ]
  },
  {
   "cell_type": "markdown",
   "metadata": {
    "tags": [
     "notes-only"
    ]
   },
   "source": [
    "Focus on writing the following functions:\n",
    "* `valid_guess` -- include doctests\n",
    "* `get_guess`\n",
    "* `count_bulls` -- include doctests\n",
    "* `count_cows` -- include doctests\n",
    "* `play_round`\n",
    "* `main`\n",
    "\n",
    "Write additional functions as time allows."
   ]
  },
  {
   "cell_type": "code",
   "execution_count": 46,
   "metadata": {
    "tags": [
     "notes-only"
    ]
   },
   "outputs": [],
   "source": [
    "def valid_guess(guess):\n",
    "        \"\"\"Check if user entered a valid guess\n",
    "        \n",
    "        >>> valid_guess('1379')\n",
    "        True\n",
    "        >>> valid_guess('1371')\n",
    "        False\n",
    "        >>> valid_guess('13346')\n",
    "        False\n",
    "        >>> valid_guess('137X')\n",
    "        False\n",
    "        \n",
    "        \"\"\"\n",
    "        # Check length\n",
    "        if len(guess) != 4:\n",
    "            return False\n",
    "        # Check digits\n",
    "        for i in range(len(guess)):\n",
    "            # Must only contain digits\n",
    "            if guess[i] not in '0123456789':\n",
    "                return False\n",
    "            # Digit must not be repeated\n",
    "            for j in range(i):\n",
    "                if guess[j] == guess[i]:\n",
    "                    return False\n",
    "        return True"
   ]
  },
  {
   "cell_type": "code",
   "execution_count": 15,
   "metadata": {
    "tags": [
     "notes-only"
    ]
   },
   "outputs": [],
   "source": [
    "def get_guess():\n",
    "    \"\"\"Get a valid guess from the user\"\"\"\n",
    "    valid = False\n",
    "    while not valid:\n",
    "        guess = input(\"Your guess: \")\n",
    "        valid = valid_guess(guess)\n",
    "        if not valid:\n",
    "            print(\"Invalid guess\")\n",
    "    return guess"
   ]
  },
  {
   "cell_type": "code",
   "execution_count": 17,
   "metadata": {
    "tags": [
     "notes-only"
    ]
   },
   "outputs": [],
   "source": [
    "def count_bulls(secret, guess):\n",
    "    \"\"\"Count the number of bulls\n",
    "    \n",
    "    >>> count_bulls(\"1379\", \"1234\")\n",
    "    1\n",
    "    >>> count_bulls(\"1379\", \"2378\")\n",
    "    2\n",
    "    >>> count_bulls(\"1379\", \"9731\")\n",
    "    0\n",
    "    \"\"\"  \n",
    "    bulls = 0\n",
    "    # Compare digits in secret and guess\n",
    "    for i in range(len(secret)):\n",
    "        if secret[i] == guess[i]:\n",
    "            bulls = bulls + 1\n",
    "    return bulls"
   ]
  },
  {
   "cell_type": "code",
   "execution_count": 21,
   "metadata": {
    "tags": [
     "notes-only"
    ]
   },
   "outputs": [],
   "source": [
    "def count_cows(secret, guess):\n",
    "    \"\"\"Count the number of cows\n",
    "    \n",
    "    >>> count_cows(\"1379\", \"1234\")\n",
    "    1\n",
    "    >>> count_cows(\"1379\", \"2378\")\n",
    "    0\n",
    "    >>> count_cows(\"1379\", \"9731\")\n",
    "    4\n",
    "    \"\"\"  \n",
    "    cows = 0\n",
    "    # Compare digits in secret and guess\n",
    "    for i in range(len(secret)):\n",
    "        if guess[i] in secret and secret[i] != guess[i]:\n",
    "            cows = cows + 1\n",
    "    return cows"
   ]
  },
  {
   "cell_type": "code",
   "execution_count": 23,
   "metadata": {
    "tags": [
     "notes-only"
    ]
   },
   "outputs": [],
   "source": [
    "def play_round():\n",
    "    \"\"\"Play a round of the game\"\"\"\n",
    "    # Choose secret\n",
    "    secret = generate_secret()\n",
    "    won = None\n",
    "    guesses = 0\n",
    "    # Keep playing until player wins or looses\n",
    "    while won is None:\n",
    "        guess = get_guess()\n",
    "        guesses = guesses + 1\n",
    "        cows = count_matches(secret, guess)\n",
    "        won = has_won(guesses, cows)\n",
    "    return won"
   ]
  },
  {
   "cell_type": "code",
   "execution_count": 25,
   "metadata": {
    "tags": [
     "notes-only"
    ]
   },
   "outputs": [],
   "source": [
    "def main():\n",
    "    \"\"\"Play Bulls and Cows\"\"\"\n",
    "    again = True\n",
    "    \n",
    "    # Keep playing until player quits\n",
    "    while again:\n",
    "        won = play_round()\n",
    "        if won:\n",
    "            \"You won :)\"\n",
    "        else:\n",
    "            \"You lost :(\"\n",
    "        again = play_again()"
   ]
  },
  {
   "cell_type": "code",
   "execution_count": 29,
   "metadata": {
    "tags": [
     "notes-only"
    ]
   },
   "outputs": [],
   "source": [
    "import random\n",
    "def generate_secret():\n",
    "    \"\"\"Generate a secret\"\"\"\n",
    "    secret = \"\"\n",
    "    choices = \"0123456789\"\n",
    "    for i in range(4):\n",
    "        c = random.randrange(0, len(choices))\n",
    "        secret = secret + choices[c]\n",
    "        choices = choices[:c] + choices[c+1:]\n",
    "    return secret"
   ]
  },
  {
   "cell_type": "code",
   "execution_count": 48,
   "metadata": {
    "tags": [
     "notes-only"
    ]
   },
   "outputs": [],
   "source": [
    "def count_matches(secret, guess):\n",
    "    \"\"\"Count the number of matches between secret and player's guess\n",
    "    \n",
    "    >>> count_matches(\"1379\", \"1234\")\n",
    "    1\n",
    "    >>> count_matches(\"1379\", \"2378\")\n",
    "    2\n",
    "    >>> count_matches(\"1379\", \"9731\")\n",
    "    0\n",
    "    \"\"\"\n",
    "    bulls = count_bulls(secret, guess)\n",
    "    cows = count_cows(secret, guess)\n",
    "    \"{} bulls, {} cows\".format(bulls, cows)\n",
    "    return bulls"
   ]
  }
 ],
 "metadata": {
  "celltoolbar": "Tags",
  "kernelspec": {
   "display_name": "Python 3",
   "language": "python",
   "name": "python3"
  },
  "language_info": {
   "codemirror_mode": {
    "name": "ipython",
    "version": 3
   },
   "file_extension": ".py",
   "mimetype": "text/x-python",
   "name": "python",
   "nbconvert_exporter": "python",
   "pygments_lexer": "ipython3",
   "version": "3.7.6"
  }
 },
 "nbformat": 4,
 "nbformat_minor": 4
}
