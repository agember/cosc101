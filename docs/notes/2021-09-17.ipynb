{
 "cells": [
  {
   "cell_type": "markdown",
   "id": "2c323b50-5c91-478a-b3d2-157920986259",
   "metadata": {},
   "source": [
    "# string indexing; belonging & success in CS\n",
    "_COSC 101, Introduction to Computing I, 2021-09-17_"
   ]
  },
  {
   "cell_type": "markdown",
   "id": "4a7004a0-7023-4d5d-ab05-e9d1901afdbc",
   "metadata": {},
   "source": [
    "## Announcements\n",
    "* Exam 1 Wednesday during class"
   ]
  },
  {
   "cell_type": "markdown",
   "id": "bca7713c-9b4c-4ef0-af8b-ece15ec1fba1",
   "metadata": {},
   "source": [
    "## Outline\n",
    "* Warm-up\n",
    "* string indexing\n",
    "* belonging & success in CS"
   ]
  },
  {
   "cell_type": "markdown",
   "id": "972ab75d-2d2d-49c1-a3b1-6fa99f6803de",
   "metadata": {
    "slideshow": {
     "slide_type": "slide"
    },
    "tags": []
   },
   "source": [
    "## Warm-up\n",
    "_Each of the following programs contains redundant code. Rewrite the program to use a loop and eliminate the redundancy._"
   ]
  },
  {
   "cell_type": "code",
   "execution_count": null,
   "id": "98b44460-9cd5-4ea7-91b0-8ac6608d5735",
   "metadata": {
    "tags": [
     "worksheet-code-only"
    ]
   },
   "outputs": [],
   "source": [
    "#1)\n",
    "import random\n",
    "die1 = random.randrange(0,6)\n",
    "die2 = random.randrange(0,6)\n",
    "die3 = random.randrange(0,6)\n",
    "print(\"Die 1: \" + str(die1))\n",
    "print(\"Die 2: \" + str(die2))\n",
    "print(\"Die 3: \" + str(die3))"
   ]
  },
  {
   "cell_type": "code",
   "execution_count": null,
   "id": "0e3960e0-4ae5-4493-8657-09419cd65007",
   "metadata": {
    "slideshow": {
     "slide_type": "skip"
    },
    "tags": [
     "notes-only"
    ]
   },
   "outputs": [],
   "source": [
    "import random\n",
    "for num in [1,2,3]:\n",
    "    roll = random.randrange(0,6)\n",
    "    print(\"Die \" + str(num) + \": \" + str(roll))"
   ]
  },
  {
   "cell_type": "markdown",
   "id": "76f07398-434c-4757-8d2f-8f22fe4d0ddf",
   "metadata": {
    "slideshow": {
     "slide_type": "skip"
    },
    "tags": [
     "worksheet-only"
    ]
   },
   "source": [
    "```Python\n",
    "\n",
    "```"
   ]
  },
  {
   "cell_type": "code",
   "execution_count": null,
   "id": "929c767d-7557-4c14-92a3-0822154e8627",
   "metadata": {
    "slideshow": {
     "slide_type": "subslide"
    },
    "tags": []
   },
   "outputs": [],
   "source": [
    "#2)\n",
    "import turtle\n",
    "window = turtle.Screen()\n",
    "crush = turtle.Turtle()\n",
    "crush.forward(10)\n",
    "crush.right(90)\n",
    "crush.forward(20)\n",
    "crush.right(90)\n",
    "crush.forward(30)\n",
    "crush.right(90)\n",
    "crush.forward(40)\n",
    "crush.right(90)\n",
    "crush.forward(50)\n",
    "crush.right(90)\n",
    "crush.forward(60)\n",
    "crush.right(90)\n",
    "crush.forward(70)\n",
    "crush.right(90)\n",
    "crush.forward(80)\n",
    "crush.right(90)\n",
    "window.exitonclick()"
   ]
  },
  {
   "cell_type": "code",
   "execution_count": null,
   "id": "927decee-0e81-4eff-bdfb-b9d9a2b811da",
   "metadata": {
    "slideshow": {
     "slide_type": "skip"
    },
    "tags": [
     "notes-only"
    ]
   },
   "outputs": [],
   "source": [
    "import turtle\n",
    "window = turtle.Screen()\n",
    "crush = turtle.Turtle()\n",
    "for i in range(10, 90, 10):\n",
    "    crush.forward(i)\n",
    "    crush.right(90)\n",
    "window.exitonclick()"
   ]
  },
  {
   "cell_type": "markdown",
   "id": "0a067943-cfd9-43b0-bbdd-c2f0d36ab265",
   "metadata": {
    "slideshow": {
     "slide_type": "skip"
    },
    "tags": [
     "worksheet-only"
    ]
   },
   "source": [
    "```Python\n",
    "\n",
    "```"
   ]
  },
  {
   "cell_type": "code",
   "execution_count": 4,
   "id": "2cf4dad6-086e-4c12-ac38-cc49c63f5520",
   "metadata": {
    "slideshow": {
     "slide_type": "subslide"
    },
    "tags": [
     "worksheet-code-only"
    ]
   },
   "outputs": [],
   "source": [
    "#3)\n",
    "import turtle\n",
    "window = turtle.Screen()\n",
    "ash = turtle.Turtle()\n",
    "ash.left(120)\n",
    "ash.forward(100)\n",
    "ash.left(120)\n",
    "ash.forward(100)\n",
    "ash.left(120)\n",
    "ash.forward(100)\n",
    "ash.left(180)\n",
    "ash.left(120)\n",
    "ash.forward(100)\n",
    "ash.left(120)\n",
    "ash.forward(100)\n",
    "ash.left(120)\n",
    "ash.forward(100)\n",
    "window.exitonclick()"
   ]
  },
  {
   "cell_type": "code",
   "execution_count": null,
   "id": "e30f6ec3-03d0-4cc1-a159-05b447d97ba4",
   "metadata": {
    "slideshow": {
     "slide_type": "skip"
    },
    "tags": [
     "notes-only"
    ]
   },
   "outputs": [],
   "source": [
    "import turtle\n",
    "window = turtle.Screen()\n",
    "ash = turtle.Turtle()\n",
    "ash.pensize(3)\n",
    "for side in [1,2,3]:\n",
    "    ash.left(120)\n",
    "    ash.forward(100)\n",
    "ash.left(180)\n",
    "for side in [1,2,3]:\n",
    "    ash.left(120)\n",
    "    ash.forward(100)\n",
    "window.exitonclick()"
   ]
  },
  {
   "cell_type": "markdown",
   "id": "b05c465a-c0bc-47d0-a9df-868d31ced8df",
   "metadata": {
    "slideshow": {
     "slide_type": "skip"
    },
    "tags": [
     "worksheet-only"
    ]
   },
   "source": [
    "```Python\n",
    "\n",
    "```"
   ]
  },
  {
   "cell_type": "code",
   "execution_count": null,
   "id": "ad1aaebf-f0eb-4c87-b707-a1d420f405fb",
   "metadata": {
    "slideshow": {
     "slide_type": "subslide"
    },
    "tags": []
   },
   "outputs": [],
   "source": [
    "#4)\n",
    "print(\"1 is odd\")\n",
    "print(\"2 is even\")\n",
    "print(\"3 is odd\")\n",
    "print(\"4 is even\")\n",
    "print(\"5 is odd\")\n",
    "print(\"6 is even\")"
   ]
  },
  {
   "cell_type": "code",
   "execution_count": null,
   "id": "e7519758-cdda-407c-b8cf-cf7c2888af44",
   "metadata": {
    "slideshow": {
     "slide_type": "skip"
    },
    "tags": [
     "notes-only"
    ]
   },
   "outputs": [],
   "source": [
    "for num in range(1, 7):\n",
    "    if (num % 2 == 0):\n",
    "        print(num, \"is even\")\n",
    "    else:\n",
    "        print(num, \"is odd\")"
   ]
  },
  {
   "cell_type": "markdown",
   "id": "6746d1ce-b4d9-43b4-bac5-a9f12441c0ae",
   "metadata": {
    "slideshow": {
     "slide_type": "skip"
    },
    "tags": [
     "worksheet-only"
    ]
   },
   "source": [
    "```Python\n",
    "\n",
    "```"
   ]
  }
 ],
 "metadata": {
  "kernelspec": {
   "display_name": "Python 3 (ipykernel)",
   "language": "python",
   "name": "python3"
  },
  "language_info": {
   "codemirror_mode": {
    "name": "ipython",
    "version": 3
   },
   "file_extension": ".py",
   "mimetype": "text/x-python",
   "name": "python",
   "nbconvert_exporter": "python",
   "pygments_lexer": "ipython3",
   "version": "3.8.2"
  }
 },
 "nbformat": 4,
 "nbformat_minor": 5
}
