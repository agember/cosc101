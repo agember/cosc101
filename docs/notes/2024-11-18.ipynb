{
 "cells": [
  {
   "cell_type": "markdown",
   "id": "c69af3d6-7f7a-4c1a-9ecc-ca4db0cdf7db",
   "metadata": {
    "slideshow": {
     "slide_type": "skip"
    },
    "tags": []
   },
   "source": [
    "# Nested data: nested loops\n",
    "_COSC 101, Introduction to Computing I, 2024-11-15_"
   ]
  },
  {
   "cell_type": "markdown",
   "id": "115d557b-6076-414d-8cc4-ca52311f8451",
   "metadata": {
    "editable": true,
    "slideshow": {
     "slide_type": "skip"
    },
    "tags": []
   },
   "source": [
    "## Announcements\n",
    "* Exam 3 Friday, Nov 22\n",
    "    * Study materials posted on Moodle"
   ]
  },
  {
   "cell_type": "markdown",
   "id": "99be468f-e58f-4bfe-91ee-ebfdd0660c82",
   "metadata": {
    "editable": true,
    "slideshow": {
     "slide_type": "slide"
    },
    "tags": []
   },
   "source": [
    "## Nested for loops"
   ]
  },
  {
   "cell_type": "markdown",
   "id": "c96fdca9-30b7-4868-8ad2-b1f063405516",
   "metadata": {
    "editable": true,
    "slideshow": {
     "slide_type": ""
    },
    "tags": []
   },
   "source": [
    "_Example_"
   ]
  },
  {
   "cell_type": "code",
   "execution_count": 2,
   "id": "240f63b4-b170-4709-b50a-31d48066b5de",
   "metadata": {
    "editable": true,
    "slideshow": {
     "slide_type": ""
    },
    "tags": [
     "worksheet-code-only"
    ]
   },
   "outputs": [
    {
     "name": "stdout",
     "output_type": "stream",
     "text": [
      "i=0 j=0\n",
      "i=0 j=1\n",
      "i=1 j=0\n",
      "i=1 j=1\n",
      "i=2 j=0\n",
      "i=2 j=1\n"
     ]
    }
   ],
   "source": [
    "for i in range(3): # Outer for loop\n",
    "    for j in range(2): # Inner for loop\n",
    "        print(\"i=\" + str (i) + \" j=\" + str(j))"
   ]
  },
  {
   "cell_type": "markdown",
   "id": "2e3fdf28-e19b-4d39-8650-76149223296e",
   "metadata": {
    "editable": true,
    "slideshow": {
     "slide_type": "skip"
    },
    "tags": [
     "notes-only"
    ]
   },
   "source": [
    "![](figures/nested_loops/example_nested_for.png)"
   ]
  },
  {
   "cell_type": "markdown",
   "id": "b167a8d9-f4dc-437a-9003-0dd70bad0631",
   "metadata": {
    "editable": true,
    "slideshow": {
     "slide_type": "skip"
    },
    "tags": [
     "blank"
    ]
   },
   "source": [
    "<p style=\"height:47em;\"></p>"
   ]
  },
  {
   "cell_type": "markdown",
   "id": "759661bd-fbe8-4edf-a398-b172f490cc91",
   "metadata": {
    "editable": true,
    "slideshow": {
     "slide_type": "slide"
    },
    "tags": [
     "question"
    ]
   },
   "source": [
    "_What is the output of each of the following programs?_"
   ]
  },
  {
   "cell_type": "code",
   "execution_count": 1,
   "id": "d719d770-070c-4bd4-9cee-862b78b4c874",
   "metadata": {
    "editable": true,
    "slideshow": {
     "slide_type": ""
    },
    "tags": [
     "worksheet-code-only"
    ]
   },
   "outputs": [
    {
     "name": "stdout",
     "output_type": "stream",
     "text": [
      "E=2\n",
      "Pair=2,1\n",
      "Pair=2,3\n",
      "Pair=2,5\n",
      "F=5\n",
      "E=4\n",
      "Pair=4,1\n",
      "Pair=4,3\n",
      "Pair=4,5\n",
      "F=5\n",
      "E=6\n",
      "Pair=6,1\n",
      "Pair=6,3\n",
      "Pair=6,5\n",
      "F=5\n"
     ]
    }
   ],
   "source": [
    "def main() -> None:\n",
    "    for e in [2,4,6]:\n",
    "        print(\"E=\" + str(e))\n",
    "        for f in range(1,6,2):\n",
    "            print(\"Pair=\" + str(e) + \",\" + str(f))\n",
    "        print(\"F=\" + str(f))\n",
    "main()"
   ]
  },
  {
   "cell_type": "markdown",
   "id": "6b29a98e-7d8f-4ce6-b3c2-0d550f7ec0f1",
   "metadata": {
    "editable": true,
    "slideshow": {
     "slide_type": "skip"
    },
    "tags": [
     "blank"
    ]
   },
   "source": [
    "<p style=\"height:20em;\"></p>"
   ]
  },
  {
   "cell_type": "code",
   "execution_count": 7,
   "id": "69e5e9d6-5b87-450e-916a-c4e917fbc350",
   "metadata": {
    "editable": true,
    "slideshow": {
     "slide_type": "subslide"
    },
    "tags": [
     "worksheet-code-only"
    ]
   },
   "outputs": [
    {
     "name": "stdout",
     "output_type": "stream",
     "text": [
      "10 \n",
      "20 21 \n",
      "30 31 32 \n",
      "40 41 42 43 \n"
     ]
    }
   ],
   "source": [
    "def main() -> None:\n",
    "    for i in range(1,5):\n",
    "        line = \"\"\n",
    "        for j in range(i):\n",
    "            line = line + str(i) + str(j) + \" \"\n",
    "        print(line)\n",
    "main()"
   ]
  },
  {
   "cell_type": "markdown",
   "id": "7b8b3da3-c0d2-48fb-a25d-ccf6d856555b",
   "metadata": {
    "editable": true,
    "slideshow": {
     "slide_type": "skip"
    },
    "tags": [
     "blank"
    ]
   },
   "source": [
    "<p style=\"height:8em;\"></p>"
   ]
  },
  {
   "cell_type": "markdown",
   "id": "eb57e5a7-7d4b-40bf-af1d-6b6604d18a04",
   "metadata": {
    "editable": true,
    "slideshow": {
     "slide_type": "slide"
    },
    "tags": [
     "question"
    ]
   },
   "source": [
    "_Write a function called `hundreds_chart` that produces the following output:_\n",
    "```\n",
    "   1   2   3   4   5   6   7   8   9  10\n",
    "  11  12  13  14  15  16  17  18  19  20\n",
    "  21  22  23  24  25  26  27  28  29  30\n",
    "  31  32  33  34  35  36  37  38  39  40\n",
    "  41  42  43  44  45  46  47  48  49  50\n",
    "  51  52  53  54  55  56  57  58  59  60\n",
    "  61  62  63  64  65  66  67  68  69  70\n",
    "  71  72  73  74  75  76  77  78  79  80\n",
    "  81  82  83  84  85  86  87  88  89  90\n",
    "  91  92  93  94  95  96  97  98  99 100\n",
    "```\n",
    "\n",
    "_You can use the following helper function to help you align all of the numbers:_"
   ]
  },
  {
   "cell_type": "code",
   "execution_count": 41,
   "id": "3eb59d14-767a-4bab-bf87-f7811b71e6b2",
   "metadata": {
    "editable": true,
    "slideshow": {
     "slide_type": ""
    },
    "tags": [
     "question"
    ]
   },
   "outputs": [],
   "source": [
    "def print_num_right_align(num):\n",
    "    num = str(num)\n",
    "    pad = 4 - len(num)\n",
    "    print((\" \" * pad) + num, end=\"\")"
   ]
  },
  {
   "cell_type": "code",
   "execution_count": null,
   "id": "b5999980-c119-462f-8d1d-99d0ab74c637",
   "metadata": {
    "editable": true,
    "slideshow": {
     "slide_type": "skip"
    },
    "tags": [
     "answer"
    ]
   },
   "outputs": [],
   "source": [
    "def hundreds_chart():\n",
    "    \"\"\"Displays a hundreds chart\"\"\"\n",
    "    for row in range(0,10):\n",
    "        for col in range(1,11):\n",
    "            num = row * 10 + col\n",
    "            print_num_right_align(num)\n",
    "        print(\"\")\n",
    "\n",
    "hundreds_chart()"
   ]
  },
  {
   "cell_type": "markdown",
   "id": "a5ce0fa0-6f7c-4bd9-9f75-ab4b9a28a93d",
   "metadata": {
    "editable": true,
    "slideshow": {
     "slide_type": "skip"
    },
    "tags": [
     "blank"
    ]
   },
   "source": [
    "<p style=\"height:18em;\"></p>"
   ]
  },
  {
   "cell_type": "markdown",
   "id": "18f074be-40b2-4a5b-9b28-207ec4a91dd1",
   "metadata": {
    "editable": true,
    "slideshow": {
     "slide_type": ""
    },
    "tags": []
   },
   "source": [
    "## Extra practice"
   ]
  },
  {
   "cell_type": "markdown",
   "id": "bb32e5e5-a979-488e-a41a-bb6dfdf26996",
   "metadata": {
    "editable": true,
    "slideshow": {
     "slide_type": "slide"
    },
    "tags": [
     "question"
    ]
   },
   "source": [
    "_What is the output of each of the following programs?_"
   ]
  },
  {
   "cell_type": "code",
   "execution_count": 5,
   "id": "24034cfd-6a67-42a7-a0b1-b8ab5691e3fb",
   "metadata": {
    "editable": true,
    "slideshow": {
     "slide_type": "subslide"
    },
    "tags": [
     "worksheet-code-only"
    ]
   },
   "outputs": [
    {
     "name": "stdout",
     "output_type": "stream",
     "text": [
      "a aa aaa \n",
      "b bb bbb \n",
      "c cc ccc \n"
     ]
    }
   ],
   "source": [
    "def main() -> None:\n",
    "    for i in ['a','b','c']:\n",
    "        line = \"\"\n",
    "        for j in range(1,4):\n",
    "            line = line + (i * j) + \" \"\n",
    "        print(line)\n",
    "main()"
   ]
  },
  {
   "cell_type": "markdown",
   "id": "19767665-4ddf-4197-9682-6361ed5fd5f7",
   "metadata": {
    "editable": true,
    "slideshow": {
     "slide_type": "skip"
    },
    "tags": [
     "blank"
    ]
   },
   "source": [
    "<p style=\"height:5em;\"></p>"
   ]
  },
  {
   "cell_type": "code",
   "execution_count": 2,
   "id": "8042b2b8-4ac0-4698-be53-22d1170a43e1",
   "metadata": {
    "editable": true,
    "slideshow": {
     "slide_type": "subslide"
    },
    "tags": [
     "worksheet-code-only"
    ]
   },
   "outputs": [
    {
     "name": "stdout",
     "output_type": "stream",
     "text": [
      "1 11 111 11 1 \n",
      "2 22 222 22 2 \n",
      "3 33 333 33 3 \n"
     ]
    }
   ],
   "source": [
    "def main() -> None:\n",
    "    max = 3\n",
    "    for i in range(1,max+1):\n",
    "        for j in range(1, max):\n",
    "            print(str(i) * j, end=\" \")\n",
    "        for j in range(max, 0, -1):\n",
    "            print(str(i) * j, end=\" \")\n",
    "        print(\"\")\n",
    "main()"
   ]
  },
  {
   "cell_type": "markdown",
   "id": "f9e6abde-f63f-4b71-81e1-b26073f25d2b",
   "metadata": {
    "editable": true,
    "slideshow": {
     "slide_type": "skip"
    },
    "tags": [
     "blank"
    ]
   },
   "source": [
    "<p style=\"height:8em;\"></p>"
   ]
  },
  {
   "cell_type": "markdown",
   "id": "ef183b11-fc2f-4df9-8488-7e3eaaacaab5",
   "metadata": {
    "editable": true,
    "jp-MarkdownHeadingCollapsed": true,
    "slideshow": {
     "slide_type": "subslide"
    },
    "tags": [
     "question"
    ]
   },
   "source": [
    "_Write a function called `multiplication_table` that takes a positive integer and outputs a multiplication chart from 1 through that number. For example `multiplication_table(5)` should produce:_\n",
    "```\n",
    "     |   1   2   3   4   5\n",
    "-----+--------------------\n",
    "   1 |   1   2   3   4   5\n",
    "   2 |   2   4   6   8  10\n",
    "   3 |   3   6   9  12  15\n",
    "   4 |   4   8  12  16  20\n",
    "   5 |   5  10  15  20  25\n",
    "```\n",
    "\n",
    "_Again, use the `print_num_right_align` helper function to help you align all of the numbers._"
   ]
  },
  {
   "cell_type": "code",
   "execution_count": 53,
   "id": "7b53604e-3ad7-4d89-bae8-6680e57f0c7f",
   "metadata": {
    "editable": true,
    "slideshow": {
     "slide_type": "skip"
    },
    "tags": [
     "answer"
    ]
   },
   "outputs": [
    {
     "name": "stdout",
     "output_type": "stream",
     "text": [
      "     |   1   2   3   4   5\n",
      "-----+--------------------\n",
      "   1 |   1   2   3   4   5\n",
      "   2 |   2   4   6   8  10\n",
      "   3 |   3   6   9  12  15\n",
      "   4 |   4   8  12  16  20\n",
      "   5 |   5  10  15  20  25\n"
     ]
    }
   ],
   "source": [
    "def multiplication_table(upper):\n",
    "    \"\"\"Displays a multiplication table\"\"\"\n",
    "    # Print column headers\n",
    "    print(\"     |\", end=\"\")\n",
    "    for col in range(1,upper+1):\n",
    "        print_num_right_align(col)\n",
    "    print(\"\")\n",
    "    \n",
    "    # Print column header line\n",
    "    print(\"-----+\" + (\"-\" * (upper * 4)))\n",
    "    \n",
    "    # Print rows\n",
    "    for row in range(1,upper+1):\n",
    "        # Print row number\n",
    "        print_num_right_align(row)\n",
    "        print(\" |\", end=\"\")\n",
    "        \n",
    "        # Print multiplication results\n",
    "        for col in range(1,upper+1):\n",
    "            num = row * col\n",
    "            print_num_right_align(num)\n",
    "        print(\"\")\n",
    "\n",
    "multiplication_table(5)"
   ]
  }
 ],
 "metadata": {
  "kernelspec": {
   "display_name": "Python 3 (ipykernel)",
   "language": "python",
   "name": "python3"
  },
  "language_info": {
   "codemirror_mode": {
    "name": "ipython",
    "version": 3
   },
   "file_extension": ".py",
   "mimetype": "text/x-python",
   "name": "python",
   "nbconvert_exporter": "python",
   "pygments_lexer": "ipython3",
   "version": "3.9.6"
  }
 },
 "nbformat": 4,
 "nbformat_minor": 5
}
