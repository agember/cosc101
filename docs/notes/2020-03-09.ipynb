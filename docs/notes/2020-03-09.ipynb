{
 "cells": [
  {
   "cell_type": "markdown",
   "metadata": {},
   "source": [
    "# 2020-03-09: Exam 2 Review"
   ]
  },
  {
   "cell_type": "markdown",
   "metadata": {
    "tags": [
     "notes-only"
    ]
   },
   "source": [
    "# Announcements\n",
    "* Homework #7 due Thursday"
   ]
  },
  {
   "cell_type": "markdown",
   "metadata": {},
   "source": [
    "# Exam Topics\n",
    "* functions: defining and calling\n",
    "* how functions work: parameter passing, return values, variable scope\n",
    "* strings (excluding string methods besides upper and lower)\n",
    "* nested `for` loops\n",
    "* `while` loops\n",
    "* Plus topics from the last exam:\n",
    "    * Types (`int`, `str`, `float`, `bool`)\n",
    "    * Variables and assignment\n",
    "    * Operators (`+`, `-`, `*`, `/`, `//`, `%`, `**`, `==`, `!=`, `<`, `>`, `<=`, `>=`)\n",
    "    * Interactive programs (`input`, `print`)\n",
    "    * Repetition with definite loops (`for`)\n",
    "    * Accumulator pattern\n",
    "    * Conditional statements (`if/elif/else`)"
   ]
  },
  {
   "cell_type": "markdown",
   "metadata": {},
   "source": [
    "# Practice reading code\n",
    "*What is the output of the following programs?*"
   ]
  },
  {
   "cell_type": "code",
   "execution_count": 1,
   "metadata": {
    "tags": [
     "worksheet-code-only"
    ]
   },
   "outputs": [
    {
     "name": "stdout",
     "output_type": "stream",
     "text": [
      "ae\n",
      "on\n",
      "angar\n",
      "pen\n"
     ]
    }
   ],
   "source": [
    "a = 'kangaroo'\n",
    "b = 'penguin'\n",
    "print(a[1] + b[1])\n",
    "print(a[-1] + b[len(b)-1])\n",
    "print(a[1:6])\n",
    "print(b[:3])"
   ]
  },
  {
   "cell_type": "markdown",
   "metadata": {
    "tags": [
     "worksheet-only"
    ]
   },
   "source": [
    "<p style=\"height:5em;\"></p>"
   ]
  },
  {
   "cell_type": "code",
   "execution_count": 2,
   "metadata": {
    "tags": [
     "worksheet-code-only"
    ]
   },
   "outputs": [
    {
     "name": "stdout",
     "output_type": "stream",
     "text": [
      "L\n",
      "A\n",
      "N\n"
     ]
    }
   ],
   "source": [
    "c = 'flamingo'\n",
    "d = 'elephant'\n",
    "for e in c:\n",
    "    if e in d:\n",
    "        print(e.upper())"
   ]
  },
  {
   "cell_type": "markdown",
   "metadata": {
    "tags": [
     "worksheet-only"
    ]
   },
   "source": [
    "<p style=\"height:5em;\"></p>"
   ]
  },
  {
   "cell_type": "code",
   "execution_count": 3,
   "metadata": {
    "tags": [
     "worksheet-code-only"
    ]
   },
   "outputs": [
    {
     "name": "stdout",
     "output_type": "stream",
     "text": [
      "30\n",
      "185\n"
     ]
    }
   ],
   "source": [
    "def funcA(f):\n",
    "    f = f * 2\n",
    "    return f * 3\n",
    "    \n",
    "def funcB(g):\n",
    "    g = g + 2\n",
    "    return g + 3\n",
    "\n",
    "h = 5\n",
    "i = funcA(h)\n",
    "print(i)\n",
    "j = funcB(funcA(i))\n",
    "print(j)"
   ]
  },
  {
   "cell_type": "markdown",
   "metadata": {
    "tags": [
     "worksheet-only"
    ]
   },
   "source": [
    "<p style=\"height:5em;\"></p>"
   ]
  },
  {
   "cell_type": "code",
   "execution_count": 4,
   "metadata": {
    "tags": [
     "worksheet-code-only"
    ]
   },
   "outputs": [
    {
     "name": "stdout",
     "output_type": "stream",
     "text": [
      "9 16 7\n",
      "1 4\n"
     ]
    }
   ],
   "source": [
    "def funcC(m):\n",
    "    n = m + 1\n",
    "    o = m * r\n",
    "    q = m - 1\n",
    "    print(n, o, q)\n",
    "    return m // r\n",
    "    \n",
    "q = 1\n",
    "r = 2\n",
    "r = funcC(8)\n",
    "print(q, r)"
   ]
  },
  {
   "cell_type": "markdown",
   "metadata": {
    "tags": [
     "worksheet-only"
    ]
   },
   "source": [
    "<p style=\"height:5em;\"></p>"
   ]
  },
  {
   "cell_type": "code",
   "execution_count": 5,
   "metadata": {
    "tags": [
     "worksheet-code-only"
    ]
   },
   "outputs": [
    {
     "name": "stdout",
     "output_type": "stream",
     "text": [
      "\n",
      "g\n",
      "gl\n",
      "glo\n",
      "glob\n"
     ]
    }
   ],
   "source": [
    "s = \"globe\"\n",
    "for i in range(len(s)):\n",
    "    t = \"\"\n",
    "    for j in range(i):\n",
    "        t = t + s[j]\n",
    "    print(t)"
   ]
  },
  {
   "cell_type": "markdown",
   "metadata": {
    "tags": [
     "worksheet-only"
    ]
   },
   "source": [
    "<p style=\"height:5em;\"></p>"
   ]
  },
  {
   "cell_type": "code",
   "execution_count": 6,
   "metadata": {
    "tags": [
     "worksheet-code-only"
    ]
   },
   "outputs": [
    {
     "name": "stdout",
     "output_type": "stream",
     "text": [
      "0b1a2t\n",
      "tab\n"
     ]
    }
   ],
   "source": [
    "u = \"bat\"\n",
    "v = \"\"\n",
    "w = \"\"\n",
    "for i in range(len(u)):\n",
    "    v = v + str(i) + u[i]\n",
    "    w = u[i] + w\n",
    "print(v)\n",
    "print(w)"
   ]
  },
  {
   "cell_type": "markdown",
   "metadata": {
    "tags": [
     "worksheet-only"
    ]
   },
   "source": [
    "<p style=\"height:5em;\"></p>"
   ]
  },
  {
   "cell_type": "code",
   "execution_count": 7,
   "metadata": {
    "tags": [
     "worksheet-code-only"
    ]
   },
   "outputs": [
    {
     "name": "stdout",
     "output_type": "stream",
     "text": [
      "8\n",
      "32\n"
     ]
    }
   ],
   "source": [
    "def funcD(x):\n",
    "    y = 1\n",
    "    while y <= x:\n",
    "        y = y * 2\n",
    "    return y\n",
    "print(funcD(5))\n",
    "print(funcD(16))"
   ]
  },
  {
   "cell_type": "markdown",
   "metadata": {
    "tags": [
     "worksheet-only"
    ]
   },
   "source": [
    "<p style=\"height:5em;\"></p>"
   ]
  },
  {
   "cell_type": "code",
   "execution_count": 8,
   "metadata": {
    "tags": [
     "worksheet-code-only"
    ]
   },
   "outputs": [
    {
     "name": "stdout",
     "output_type": "stream",
     "text": [
      "spr gni\n"
     ]
    }
   ],
   "source": [
    "a = \"spring\"\n",
    "b = \"\"\n",
    "c = \"\"\n",
    "i = 0\n",
    "while a[i] not in \"aeiou\":\n",
    "    b = b + a[i]\n",
    "    c = c + a[len(a) - 1 - i]\n",
    "    i = i + 1\n",
    "print(b, c)"
   ]
  },
  {
   "cell_type": "markdown",
   "metadata": {
    "tags": [
     "worksheet-only"
    ]
   },
   "source": [
    "<p style=\"height:15em;\"></p>"
   ]
  },
  {
   "cell_type": "markdown",
   "metadata": {},
   "source": [
    "# Practice writing code\n",
    "1) Write a function called `emphasize_vowels` that makes all vowels in a string uppercase. For example:\n",
    "* `emphasize_vowels('Spring')` should return `SprIng`\n",
    "* `emphasize_vowels('break')` should return `brEAk`"
   ]
  },
  {
   "cell_type": "markdown",
   "metadata": {
    "tags": [
     "worksheet-only"
    ]
   },
   "source": [
    "<p style=\"height:25em;\"></p>"
   ]
  },
  {
   "cell_type": "code",
   "execution_count": 9,
   "metadata": {
    "tags": [
     "notes-only"
    ]
   },
   "outputs": [],
   "source": [
    "def emphasize_vowels(phrase):\n",
    "    \"\"\"Make all vowels in phrase uppercase\n",
    "    \n",
    "    >>> emphasize_vowels('Spring')\n",
    "    'SprIng'\n",
    "    >>> emphasize_vowels('break')\n",
    "    'brEAk'\n",
    "    \"\"\"\n",
    "    new = \"\"\n",
    "    for c in phrase:\n",
    "        if c in \"aeiou\":\n",
    "            new = new + c.upper()\n",
    "        else:\n",
    "            new = new + c\n",
    "    return new"
   ]
  },
  {
   "cell_type": "markdown",
   "metadata": {},
   "source": [
    "2) Write a function called `get_choice` that asks the user a provided yes/no question and returns True if the user enters yes, or False if the user enters no. If the user enters an invalid answer, then the error message `Invalid answer` should be displayed and the question should be asked again."
   ]
  },
  {
   "cell_type": "markdown",
   "metadata": {
    "tags": [
     "worksheet-only"
    ]
   },
   "source": [
    "<p style=\"height:25em;\"></p>"
   ]
  },
  {
   "cell_type": "code",
   "execution_count": 10,
   "metadata": {
    "tags": [
     "notes-only"
    ]
   },
   "outputs": [],
   "source": [
    "def get_choice(question):\n",
    "    valid = False\n",
    "    while not valid:\n",
    "        choice = input(question)\n",
    "        if choice == \"yes\":\n",
    "            valid = True # Optional\n",
    "            return True\n",
    "        elif choice == \"no\":\n",
    "            valid = True # Optional\n",
    "            return False\n",
    "        else:\n",
    "            print(\"Invalid choice\")"
   ]
  },
  {
   "cell_type": "markdown",
   "metadata": {},
   "source": [
    "3) Write a function called `find_reverse` that takes a phrase and a word and returns True if the word appears backwards in the phrase. For example:\n",
    "* `find_reverse('the tab was upside down', 'bat')` should return `True`\n",
    "* `find_reverse('the tab was upside down', 'tab')` should return `False`\n",
    "* `find_reverse('the tab was upside down', 'saw') `should return `True`"
   ]
  },
  {
   "cell_type": "markdown",
   "metadata": {
    "tags": [
     "worksheet-only"
    ]
   },
   "source": [
    "<p style=\"height:25em;\"></p>"
   ]
  },
  {
   "cell_type": "code",
   "execution_count": 11,
   "metadata": {
    "tags": [
     "notes-only"
    ]
   },
   "outputs": [],
   "source": [
    "def find_reverse(phrase, word):\n",
    "    \"\"\"Determines if word appears backwards in phrase\n",
    "    \n",
    "    >>> find_reverse('the tab was upside down', 'bat')\n",
    "    True\n",
    "    >>> find_reverse('the tab was upside down', 'tab')\n",
    "    False\n",
    "    >>> find_reverse('the tab was upside down', 'saw')\n",
    "    True\n",
    "    \"\"\"\n",
    "    reverse = \"\"\n",
    "    for char in word:\n",
    "        reverse = char + reverse\n",
    "    return reverse in phrase"
   ]
  },
  {
   "cell_type": "markdown",
   "metadata": {},
   "source": [
    "4) Write a function called `appears_both` that takes a phrase and a word and returns True if any words in the phrase appear both forward and backwards. You must use the `find_reverse` function. For example:\n",
    "* `appears_both('he was using the saw')` should return `True` because `saw` and `was` appear in the sentence\n",
    "* `appears_both('the tab was upside down')` should return `False`"
   ]
  },
  {
   "cell_type": "markdown",
   "metadata": {
    "tags": [
     "worksheet-only"
    ]
   },
   "source": [
    "<p style=\"height:25em;\"></p>"
   ]
  },
  {
   "cell_type": "code",
   "execution_count": 12,
   "metadata": {
    "tags": [
     "notes-only"
    ]
   },
   "outputs": [],
   "source": [
    "def appears_both(phrase):\n",
    "    \"\"\"Checks if any words in phrase appear both forward and backward\n",
    "    \n",
    "    >>> appears_both('he was using the saw')\n",
    "    True\n",
    "    >>> appears_both('the tab was upside down')\n",
    "    False\n",
    "    \"\"\"\n",
    "    phrase = phrase + \" \"\n",
    "    word = \"\"\n",
    "    for char in phrase:\n",
    "        if char == \" \":\n",
    "            if find_reverse(phrase, word):\n",
    "                return True\n",
    "            word = \"\"\n",
    "        else:\n",
    "            word = word + char\n",
    "    return False"
   ]
  },
  {
   "cell_type": "markdown",
   "metadata": {},
   "source": [
    "5) Write a function called `print_monthly_calendar` that takes the number of days in a month and the day of the week on which the first day falls and prints a monthly calendar."
   ]
  },
  {
   "cell_type": "markdown",
   "metadata": {
    "tags": [
     "worksheet-only"
    ]
   },
   "source": [
    "<p style=\"height:20em;\"></p>"
   ]
  },
  {
   "cell_type": "code",
   "execution_count": 13,
   "metadata": {
    "tags": [
     "notes-only"
    ]
   },
   "outputs": [],
   "source": [
    "def print_monthly_calendar(days, day_of_week):\n",
    "    \"\"\"\n",
    "    >>> print_monthly_calendar(31, 0)\n",
    "    01 02 03 04 05 06 07 \n",
    "    08 09 10 11 12 13 14 \n",
    "    15 16 17 18 19 20 21 \n",
    "    22 23 24 25 26 27 28 \n",
    "    29 30 31 \n",
    "    >>> print_monthly_calendar(30, 3)\n",
    "             01 02 03 04 \n",
    "    05 06 07 08 09 10 11 \n",
    "    12 13 14 15 16 17 18 \n",
    "    19 20 21 22 23 24 25 \n",
    "    26 27 28 29 30 \n",
    "    \"\"\"\n",
    "    for i in range(day_of_week):\n",
    "        print(\"   \", end='')\n",
    "    for d in range(1,days+1):\n",
    "        if day_of_week == 7:\n",
    "            print()\n",
    "            day_of_week = 0\n",
    "        if d < 10:\n",
    "            print(\"0\" + str(d)+\" \", end='')\n",
    "        else:\n",
    "            print(str(d)+\" \", end='')\n",
    "        day_of_week = day_of_week + 1"
   ]
  },
  {
   "cell_type": "code",
   "execution_count": 14,
   "metadata": {
    "tags": [
     "notes-only"
    ]
   },
   "outputs": [
    {
     "data": {
      "text/plain": [
       "TestResults(failed=0, attempted=9)"
      ]
     },
     "execution_count": 14,
     "metadata": {},
     "output_type": "execute_result"
    }
   ],
   "source": [
    "import doctest\n",
    "doctest.testmod()"
   ]
  }
 ],
 "metadata": {
  "celltoolbar": "Tags",
  "kernelspec": {
   "display_name": "Python 3",
   "language": "python",
   "name": "python3"
  },
  "language_info": {
   "codemirror_mode": {
    "name": "ipython",
    "version": 3
   },
   "file_extension": ".py",
   "mimetype": "text/x-python",
   "name": "python",
   "nbconvert_exporter": "python",
   "pygments_lexer": "ipython3",
   "version": "3.7.6"
  }
 },
 "nbformat": 4,
 "nbformat_minor": 4
}
