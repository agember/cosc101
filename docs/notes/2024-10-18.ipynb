{
 "cells": [
  {
   "cell_type": "markdown",
   "id": "e3f73e0d-4654-4749-b02c-cac690b0b700",
   "metadata": {
    "editable": true,
    "slideshow": {
     "slide_type": "skip"
    },
    "tags": []
   },
   "source": [
    "# Iteration: break and continue\n",
    "_COSC 101, Introduction to Computing I, 2024-10-18_"
   ]
  },
  {
   "cell_type": "markdown",
   "id": "85e6cec0-348a-4c9f-8ce5-eb93f712bdb5",
   "metadata": {
    "editable": true,
    "slideshow": {
     "slide_type": "skip"
    },
    "tags": []
   },
   "source": [
    "## Announcements\n",
    "* Homework 6\n",
    "    * Parts 1 and 2 with an assigned partner due Tuesday @ 11:59pm\n",
    "    * Part 3 individually due Friday @ 11:59pm"
   ]
  },
  {
   "cell_type": "markdown",
   "id": "befccad1-d0ae-48a6-b857-e988f7f4c909",
   "metadata": {
    "editable": true,
    "slideshow": {
     "slide_type": ""
    },
    "tags": []
   },
   "source": [
    "## break and continue"
   ]
  },
  {
   "cell_type": "markdown",
   "id": "9a289eee-57e0-4cc3-8ed1-a089120752b4",
   "metadata": {
    "editable": true,
    "slideshow": {
     "slide_type": ""
    },
    "tags": [
     "notes-only"
    ]
   },
   "source": [
    "* `break` is used to exit a loop regardless of the status of the continuation condition\n",
    "* `continue` is used to stop the current iteration, recheck the continuation condition, and possibly iterate again"
   ]
  },
  {
   "cell_type": "code",
   "execution_count": 14,
   "id": "e235e6fe-333f-42c6-983a-bfb0ad303a88",
   "metadata": {
    "editable": true,
    "slideshow": {
     "slide_type": ""
    },
    "tags": [
     "worksheet-code-only"
    ]
   },
   "outputs": [
    {
     "name": "stdin",
     "output_type": "stream",
     "text": [
      "How many did you sell?  5\n",
      "How many did you sell?  4\n",
      "How many did you sell?  -1\n"
     ]
    },
    {
     "data": {
      "text/plain": [
       "9"
      ]
     },
     "execution_count": 14,
     "metadata": {},
     "output_type": "execute_result"
    }
   ],
   "source": [
    "def total_sold_abort(goal: int) -> int:\n",
    "    total = 0\n",
    "    while (total < goal):\n",
    "        sold = int(input(\"How many did you sell? \"))\n",
    "        if (sold < 0):\n",
    "            break\n",
    "        total += sold\n",
    "    return total\n",
    "\n",
    "total_sold_abort(10)"
   ]
  },
  {
   "cell_type": "code",
   "execution_count": 13,
   "id": "5eba3b3e-3fae-40be-9b41-3128cf87e174",
   "metadata": {
    "editable": true,
    "slideshow": {
     "slide_type": ""
    },
    "tags": [
     "worksheet-code-only"
    ]
   },
   "outputs": [
    {
     "name": "stdin",
     "output_type": "stream",
     "text": [
      "How many did you sell?  5\n",
      "How many did you sell?  4\n",
      "How many did you sell?  -1\n"
     ]
    },
    {
     "name": "stdout",
     "output_type": "stream",
     "text": [
      "Must be a positive number\n"
     ]
    },
    {
     "name": "stdin",
     "output_type": "stream",
     "text": [
      "How many did you sell?  3\n"
     ]
    },
    {
     "data": {
      "text/plain": [
       "12"
      ]
     },
     "execution_count": 13,
     "metadata": {},
     "output_type": "execute_result"
    }
   ],
   "source": [
    "def total_sold_retry(goal: int) -> int:\n",
    "    total = 0\n",
    "    while (total < goal):\n",
    "        sold = int(input(\"How many did you sell? \"))\n",
    "        if (sold < 0):\n",
    "            print(\"Must be a positive number\")\n",
    "            continue\n",
    "        total += sold\n",
    "    return total\n",
    "\n",
    "total_sold_retry(10)"
   ]
  },
  {
   "cell_type": "markdown",
   "id": "94ba2649-60ce-4b0d-a559-33693c68a3c4",
   "metadata": {
    "editable": true,
    "slideshow": {
     "slide_type": "slide"
    },
    "tags": [
     "question"
    ]
   },
   "source": [
    "## Practice"
   ]
  },
  {
   "cell_type": "markdown",
   "id": "7a7d6f65-ab89-48a0-b186-bd71a8db0355",
   "metadata": {
    "editable": true,
    "slideshow": {
     "slide_type": ""
    },
    "tags": [
     "question"
    ]
   },
   "source": [
    "_Write a function called `ask_question` that takes a yes/no question and returns `True` or `False` depending on whether the user answered yes or no, respectively. (Hint: use the polling pattern)_"
   ]
  },
  {
   "cell_type": "code",
   "execution_count": 2,
   "id": "91f76aa0-7b93-423d-a547-e1ee1f2b36f5",
   "metadata": {
    "editable": true,
    "slideshow": {
     "slide_type": "skip"
    },
    "tags": [
     "answer"
    ]
   },
   "outputs": [],
   "source": [
    "def ask_question(question):\n",
    "    choice = \"\"\n",
    "    while choice not in [\"yes\", \"no\"]:\n",
    "        choice = input(question + \" (yes/no) \")\n",
    "    if choice == \"yes\":\n",
    "        return True\n",
    "    else:\n",
    "        return False"
   ]
  },
  {
   "cell_type": "markdown",
   "id": "e71e19d3-a97b-4d6f-a8d6-8c045d0821b9",
   "metadata": {
    "editable": true,
    "slideshow": {
     "slide_type": "skip"
    },
    "tags": [
     "blank"
    ]
   },
   "source": [
    "```\n",
    "\n",
    "\n",
    "\n",
    "\n",
    "\n",
    "\n",
    "\n",
    "\n",
    "\n",
    "\n",
    "```"
   ]
  },
  {
   "cell_type": "markdown",
   "id": "18892dfd-0700-4e9a-aa32-e8ce409e2ef5",
   "metadata": {
    "editable": true,
    "slideshow": {
     "slide_type": "subslide"
    },
    "tags": [
     "question"
    ]
   },
   "source": [
    "_Write a function called `total_caffeine` that asks the user to enter the milligrams (mg) of caffeine for each beverage they consumed in a day until the user indicates they are done consuming beverages. The function should return the total caffeine consumed. (Hint: use the sentinel pattern and the accumulator pattern)_"
   ]
  },
  {
   "cell_type": "code",
   "execution_count": 12,
   "id": "f483dda5-fb1b-450e-90c2-5ebd95aa4955",
   "metadata": {
    "editable": true,
    "slideshow": {
     "slide_type": "skip"
    },
    "tags": [
     "answer"
    ]
   },
   "outputs": [],
   "source": [
    "def total_caffeine():\n",
    "    total = 0\n",
    "    still_consuming = True\n",
    "    while still_consuming:\n",
    "        content = int(input(\"How many mg of caffeine did the beverage contain? \"))\n",
    "        if (content < 0):\n",
    "            still_consuming = False\n",
    "        else:\n",
    "            total = total + content\n",
    "    return total"
   ]
  },
  {
   "cell_type": "markdown",
   "id": "d2b319dc-92a0-42e5-8aa1-38fa875f0512",
   "metadata": {
    "editable": true,
    "slideshow": {
     "slide_type": "skip"
    },
    "tags": [
     "blank"
    ]
   },
   "source": [
    "```\n",
    "\n",
    "\n",
    "\n",
    "\n",
    "\n",
    "\n",
    "\n",
    "\n",
    "\n",
    "\n",
    "\n",
    "```"
   ]
  },
  {
   "cell_type": "markdown",
   "id": "e9b86b6a-5b6c-4bb0-95f5-c4e0f9846269",
   "metadata": {
    "editable": true,
    "slideshow": {
     "slide_type": "skip"
    },
    "tags": [
     "question"
    ]
   },
   "source": [
    "_Discount Airlines, Inc. has asked you to write a Python program to help its customers calculate how many reward miles they have earned. Your program should repeatedly ask the user for the distance of a flight until the user enters 0. Then your program will output the total number of miles flown and whether the customer achieved bronze (less than 20,000 miles flown), silver (20,000-50,000 miles flown), or gold (more than 50,000 miles flown) status._"
   ]
  },
  {
   "cell_type": "code",
   "execution_count": 3,
   "id": "e66b65aa-9885-4c6b-90ff-5540e0557296",
   "metadata": {
    "editable": true,
    "slideshow": {
     "slide_type": "skip"
    },
    "tags": [
     "answer"
    ]
   },
   "outputs": [
    {
     "name": "stdin",
     "output_type": "stream",
     "text": [
      "What was the distance of flight 1?  1000\n",
      "What was the distance of flight 2?  2000\n",
      "What was the distance of flight 3?  15000\n",
      "What was the distance of flight 4?  0\n"
     ]
    },
    {
     "name": "stdout",
     "output_type": "stream",
     "text": [
      "You flew 18000 miles.\n",
      "You earned bronze status.\n"
     ]
    }
   ],
   "source": [
    "def get_miles() -> int:\n",
    "    more_flights = True\n",
    "    total_distance = 0\n",
    "    count = 0\n",
    "    while more_flights:\n",
    "        dist = int(input(\"What was the distance of flight \" + str(count + 1) + \"? \"))\n",
    "        if dist == 0:\n",
    "            more_flights = False\n",
    "        else:\n",
    "            count = count + 1\n",
    "            total_distance = total_distance + dist\n",
    "    return total_distance\n",
    "    \n",
    "def main() -> None:\n",
    "    total_distance = get_miles()\n",
    "    print(\"You flew\", str(total_distance), \"miles.\")\n",
    "    if total_distance < 20000:\n",
    "        print(\"You earned bronze status.\")\n",
    "    elif total_distance <= 50000:\n",
    "        print(\"You earned silver status.\")\n",
    "    else:\n",
    "        print(\"You earned gold status.\")\n",
    "\n",
    "main()"
   ]
  },
  {
   "cell_type": "markdown",
   "id": "ab334666-8eca-4cfa-96c2-1a463d81c468",
   "metadata": {
    "editable": true,
    "slideshow": {
     "slide_type": "skip"
    },
    "tags": [
     "blank"
    ]
   },
   "source": [
    "```\n",
    "\n",
    "\n",
    "\n",
    "\n",
    "\n",
    "\n",
    "\n",
    "\n",
    "\n",
    "\n",
    "\n",
    "\n",
    "\n",
    "\n",
    "\n",
    "\n",
    "\n",
    "\n",
    "\n",
    "\n",
    "\n",
    "\n",
    "```"
   ]
  },
  {
   "cell_type": "markdown",
   "id": "02e5bbe7-aba6-464b-95e4-743df81ed5f7",
   "metadata": {
    "editable": true,
    "slideshow": {
     "slide_type": ""
    },
    "tags": [
     "question"
    ]
   },
   "source": [
    "Customers at the Cost Mincer grocery store have complained about the long checkout lines, so the store manager wants to measure the average checkout time per item. Your task is to write a program that, for each customer, asks for the number of items purchased and the time required to complete the transaction. The program should continue to ask for inputs until 0 is entered for the number of items. After all inputs have been entered, the program should output the average checkout time per item.\n",
    "\n",
    "Example input/output:\n",
    "```\n",
    "Number of items? 20\n",
    "Checkout time (seconds)? 80\n",
    "Number of items? 60\n",
    "Checkout time (seconds)? 160\n",
    "Number of items? 0\n",
    "Average checkout time per item is 3.0 seconds\n",
    "```"
   ]
  },
  {
   "cell_type": "code",
   "execution_count": 66,
   "id": "db431df3-42f6-431f-ba90-3a6a85c26b74",
   "metadata": {
    "editable": true,
    "slideshow": {
     "slide_type": ""
    },
    "tags": [
     "answer"
    ]
   },
   "outputs": [
    {
     "name": "stdin",
     "output_type": "stream",
     "text": [
      "Number of items?  20\n",
      "Checkout time (seconds)?  80\n",
      "Number of items?  60\n",
      "Checkout time (seconds)?  160\n",
      "Number of items?  0\n"
     ]
    },
    {
     "name": "stdout",
     "output_type": "stream",
     "text": [
      "Average checkout time per item is 3.0 seconds\n"
     ]
    }
   ],
   "source": [
    "def main() -> None:\n",
    "    done = False\n",
    "    total_items = 0\n",
    "    total_time = 0\n",
    "    while not done:\n",
    "        items = int(input(\"Number of items? \"))\n",
    "        if items == 0:\n",
    "            done = True\n",
    "        else:\n",
    "            time = int(input(\"Checkout time (seconds)? \"))\n",
    "            total_items += items\n",
    "            total_time += time\n",
    "    \n",
    "    average = total_time / total_items\n",
    "    print(\"Average checkout time per item is\", average, \"seconds\")\n",
    "main()"
   ]
  }
 ],
 "metadata": {
  "kernelspec": {
   "display_name": "Python 3 (ipykernel)",
   "language": "python",
   "name": "python3"
  },
  "language_info": {
   "codemirror_mode": {
    "name": "ipython",
    "version": 3
   },
   "file_extension": ".py",
   "mimetype": "text/x-python",
   "name": "python",
   "nbconvert_exporter": "python",
   "pygments_lexer": "ipython3",
   "version": "3.9.6"
  }
 },
 "nbformat": 4,
 "nbformat_minor": 5
}
