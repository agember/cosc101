{
 "cells": [
  {
   "cell_type": "markdown",
   "id": "3825b029-78e9-4be1-ba7a-a7b06f8f5999",
   "metadata": {
    "slideshow": {
     "slide_type": "skip"
    },
    "tags": []
   },
   "source": [
    "# iteration with strings\n",
    "_COSC 101, Introduction to Computing I, 2021-10-29_"
   ]
  },
  {
   "cell_type": "markdown",
   "id": "61be4a86-0d90-44d3-8831-1df8e689c910",
   "metadata": {
    "slideshow": {
     "slide_type": "skip"
    },
    "tags": []
   },
   "source": [
    "## Announcements\n",
    "* Homework 7 due Thursday"
   ]
  },
  {
   "cell_type": "markdown",
   "id": "5c9d2d06-5555-4461-8e74-79d00256caf2",
   "metadata": {
    "slideshow": {
     "slide_type": "skip"
    },
    "tags": [
     "notes-only"
    ]
   },
   "source": [
    "## Outline\n",
    "* Warm-up\n",
    "* Iteration with strings\n",
    "* Programming practice"
   ]
  },
  {
   "cell_type": "markdown",
   "id": "bb20640d-d894-49a5-8a85-f15dbbb042a6",
   "metadata": {
    "slideshow": {
     "slide_type": "slide"
    },
    "tags": []
   },
   "source": [
    "## Warm-up\n",
    "_Complete the following functions_:"
   ]
  },
  {
   "cell_type": "code",
   "execution_count": 45,
   "id": "dde1bfb2-888b-4f42-8d21-30045d2e3fac",
   "metadata": {
    "tags": [
     "worksheet-only"
    ]
   },
   "outputs": [],
   "source": [
    "#1)\n",
    "def phone(number):\n",
    "    \"\"\"\n",
    "    Converts a 10-digit integer into a phone number XXX-XXX-XXXX\n",
    "    \n",
    "    >>> phone(3152886298)\n",
    "    '315-288-6298'\n",
    "    \"\"\""
   ]
  },
  {
   "cell_type": "markdown",
   "id": "2e48053d-59cf-485f-a23f-54b88518ad66",
   "metadata": {
    "slideshow": {
     "slide_type": "skip"
    },
    "tags": [
     "worksheet-only"
    ]
   },
   "source": [
    "```Python\n",
    "\n",
    "\n",
    "\n",
    "\n",
    "\n",
    "\n",
    "\n",
    "\n",
    "```"
   ]
  },
  {
   "cell_type": "code",
   "execution_count": 43,
   "id": "fbab8535-5d16-49e1-96c0-86888279ec38",
   "metadata": {
    "slideshow": {
     "slide_type": "skip"
    },
    "tags": [
     "notes-only"
    ]
   },
   "outputs": [],
   "source": [
    "#1)\n",
    "def phone(number):\n",
    "    \"\"\"\n",
    "    Converts a 10-digit integer into a phone number XXX-XXX-XXXX\n",
    "    \n",
    "    >>> phone(3152886298)\n",
    "    '315-288-6298'\n",
    "    \"\"\"\n",
    "    number = str(number)\n",
    "    return \"{}-{}-{}\".format(number[:3], number[3:6], number[-4:])"
   ]
  },
  {
   "cell_type": "code",
   "execution_count": 49,
   "id": "df8014da-9c6e-4b3f-a9f0-079b876cd460",
   "metadata": {
    "slideshow": {
     "slide_type": "subslide"
    },
    "tags": [
     "worksheet-only"
    ]
   },
   "outputs": [],
   "source": [
    "#2)\n",
    "def date(number):\n",
    "    \"\"\"\n",
    "    Converts an 8-digit string into MM/DD/YYYY\n",
    "    \n",
    "    >>> date(\"10272021\")\n",
    "    '10/27/2021'\n",
    "    \"\"\""
   ]
  },
  {
   "cell_type": "markdown",
   "id": "f00098a9-91cb-4720-a04a-1b002d3cfafe",
   "metadata": {
    "slideshow": {
     "slide_type": "skip"
    },
    "tags": [
     "worksheet-only"
    ]
   },
   "source": [
    "```Python\n",
    "\n",
    "\n",
    "\n",
    "\n",
    "\n",
    "\n",
    "\n",
    "\n",
    "```\n",
    "🛑 **STOP HERE** after completing the warm-up; please **DO NOT WORK AHEAD**. If you have extra time, work on the extra practice problems.\n",
    "\n",
    "<div style=\"page-break-after:always;\"></div>"
   ]
  },
  {
   "cell_type": "code",
   "execution_count": 50,
   "id": "4ce1cccc-ebd3-4bd0-b3b8-4b4d68415e3f",
   "metadata": {
    "slideshow": {
     "slide_type": "skip"
    },
    "tags": [
     "notes-only"
    ]
   },
   "outputs": [],
   "source": [
    "#2)\n",
    "def date(number):\n",
    "    \"\"\"\n",
    "    Converts an 8-digit string into MM/DD/YYYY\n",
    "    \n",
    "    >>> date(\"10272021\")\n",
    "    '10/27/2021'\n",
    "    \"\"\"\n",
    "    return \"{}/{}/{}\".format(number[:2], number[2:4], number[4:])"
   ]
  },
  {
   "cell_type": "markdown",
   "id": "2296222f-e05c-4d0d-9eb0-4cec7ee4c19f",
   "metadata": {
    "slideshow": {
     "slide_type": "slide"
    },
    "tags": []
   },
   "source": [
    "## iteration with strings"
   ]
  },
  {
   "cell_type": "markdown",
   "id": "b7398c06-d645-4e6a-a81a-32f420b3424f",
   "metadata": {
    "slideshow": {
     "slide_type": "skip"
    },
    "tags": [
     "notes-only"
    ]
   },
   "source": [
    "### Overview\n",
    "* _Assume there exists a variable containing a string. How would you print out **every character of the string, one character per line**?_"
   ]
  },
  {
   "cell_type": "code",
   "execution_count": 9,
   "id": "674d731b-9248-4c4f-b6ba-86f2d87ecc6a",
   "metadata": {
    "slideshow": {
     "slide_type": "skip"
    },
    "tags": [
     "notes-only"
    ]
   },
   "outputs": [
    {
     "name": "stdout",
     "output_type": "stream",
     "text": [
      "d\n",
      "i\n",
      "v\n",
      "e\n",
      "r\n",
      "s\n",
      "i\n",
      "t\n",
      "y\n"
     ]
    }
   ],
   "source": [
    "myString = \"diversity\"\n",
    "for character in myString:\n",
    "    print(character)"
   ]
  },
  {
   "cell_type": "markdown",
   "id": "f48b82a3-53fa-4eb2-9382-b39d7aeb19ff",
   "metadata": {
    "slideshow": {
     "slide_type": "skip"
    },
    "tags": [
     "notes-only"
    ]
   },
   "source": [
    "* _What if you wanted to print out **every other character, starting with the 1st character**?_"
   ]
  },
  {
   "cell_type": "code",
   "execution_count": 10,
   "id": "ab8219f2-ae96-4b9c-ad4e-b86352891d1a",
   "metadata": {
    "slideshow": {
     "slide_type": "skip"
    },
    "tags": [
     "notes-only"
    ]
   },
   "outputs": [
    {
     "name": "stdout",
     "output_type": "stream",
     "text": [
      "d\n",
      "v\n",
      "r\n",
      "i\n",
      "y\n"
     ]
    }
   ],
   "source": [
    "for i in range(0, len(myString), 2):\n",
    "    print(myString[i])"
   ]
  },
  {
   "cell_type": "markdown",
   "id": "5dedf6de-ddab-47a1-9f6d-332fe96a742f",
   "metadata": {
    "slideshow": {
     "slide_type": "skip"
    },
    "tags": [
     "notes-only"
    ]
   },
   "source": [
    "* _What if you wanted to print out **every character up to and including the third vowel**?_"
   ]
  },
  {
   "cell_type": "code",
   "execution_count": 11,
   "id": "09b4cc51-2164-4075-9d98-44805875e99a",
   "metadata": {
    "slideshow": {
     "slide_type": "skip"
    },
    "tags": [
     "notes-only"
    ]
   },
   "outputs": [
    {
     "name": "stdout",
     "output_type": "stream",
     "text": [
      "d\n",
      "i\n",
      "v\n",
      "e\n",
      "r\n",
      "s\n",
      "i\n"
     ]
    }
   ],
   "source": [
    "vowels = 0\n",
    "i = 0\n",
    "while vowels < 3:\n",
    "    print(myString[i])\n",
    "    if (myString[i] in \"aeiou\"):\n",
    "        vowels += 1\n",
    "    i += 1    "
   ]
  },
  {
   "cell_type": "markdown",
   "id": "34bc5869-fd3e-4e6e-a957-54e6f1eecc09",
   "metadata": {
    "slideshow": {
     "slide_type": "skip"
    },
    "tags": [
     "notes-only"
    ]
   },
   "source": [
    "* _What if you wanted to print out every character up to and including the **fith** vowel?_"
   ]
  },
  {
   "cell_type": "code",
   "execution_count": 12,
   "id": "11992072-5831-4b7c-833a-e7ba9ea5ad1a",
   "metadata": {
    "slideshow": {
     "slide_type": "skip"
    },
    "tags": [
     "notes-only"
    ]
   },
   "outputs": [
    {
     "name": "stdout",
     "output_type": "stream",
     "text": [
      "d\n",
      "i\n",
      "v\n",
      "e\n",
      "r\n",
      "s\n",
      "i\n",
      "t\n",
      "y\n"
     ]
    },
    {
     "ename": "IndexError",
     "evalue": "string index out of range",
     "output_type": "error",
     "traceback": [
      "\u001b[0;31m---------------------------------------------------------------------------\u001b[0m",
      "\u001b[0;31mIndexError\u001b[0m                                Traceback (most recent call last)",
      "\u001b[0;32m/var/folders/bd/35sz70xs5837wszrx11bw1yc0000gn/T/ipykernel_1280/1735290382.py\u001b[0m in \u001b[0;36m<module>\u001b[0;34m\u001b[0m\n\u001b[1;32m      2\u001b[0m \u001b[0mi\u001b[0m \u001b[0;34m=\u001b[0m \u001b[0;36m0\u001b[0m\u001b[0;34m\u001b[0m\u001b[0;34m\u001b[0m\u001b[0m\n\u001b[1;32m      3\u001b[0m \u001b[0;32mwhile\u001b[0m \u001b[0mvowels\u001b[0m \u001b[0;34m<\u001b[0m \u001b[0;36m5\u001b[0m\u001b[0;34m:\u001b[0m\u001b[0;34m\u001b[0m\u001b[0;34m\u001b[0m\u001b[0m\n\u001b[0;32m----> 4\u001b[0;31m     \u001b[0mprint\u001b[0m\u001b[0;34m(\u001b[0m\u001b[0mmyString\u001b[0m\u001b[0;34m[\u001b[0m\u001b[0mi\u001b[0m\u001b[0;34m]\u001b[0m\u001b[0;34m)\u001b[0m\u001b[0;34m\u001b[0m\u001b[0;34m\u001b[0m\u001b[0m\n\u001b[0m\u001b[1;32m      5\u001b[0m     \u001b[0;32mif\u001b[0m \u001b[0;34m(\u001b[0m\u001b[0mmyString\u001b[0m\u001b[0;34m[\u001b[0m\u001b[0mi\u001b[0m\u001b[0;34m]\u001b[0m \u001b[0;32min\u001b[0m \u001b[0;34m\"aeiou\"\u001b[0m\u001b[0;34m)\u001b[0m\u001b[0;34m:\u001b[0m\u001b[0;34m\u001b[0m\u001b[0;34m\u001b[0m\u001b[0m\n\u001b[1;32m      6\u001b[0m         \u001b[0mvowels\u001b[0m \u001b[0;34m+=\u001b[0m \u001b[0;36m1\u001b[0m\u001b[0;34m\u001b[0m\u001b[0;34m\u001b[0m\u001b[0m\n",
      "\u001b[0;31mIndexError\u001b[0m: string index out of range"
     ]
    }
   ],
   "source": [
    "vowels = 0\n",
    "i = 0\n",
    "while vowels < 5:\n",
    "    print(myString[i])\n",
    "    if (myString[i] in \"aeiou\"):\n",
    "        vowels += 1\n",
    "    i += 1    "
   ]
  },
  {
   "cell_type": "markdown",
   "id": "fc8a38aa-3097-4f50-8d3c-a649f420d514",
   "metadata": {
    "slideshow": {
     "slide_type": "skip"
    },
    "tags": [
     "notes-only"
    ]
   },
   "source": [
    "* _How do we prevent this error?_"
   ]
  },
  {
   "cell_type": "code",
   "execution_count": 13,
   "id": "669d6e2a-c184-4748-bb6e-9a020e9b5ba7",
   "metadata": {
    "slideshow": {
     "slide_type": "skip"
    },
    "tags": [
     "notes-only"
    ]
   },
   "outputs": [
    {
     "name": "stdout",
     "output_type": "stream",
     "text": [
      "d\n",
      "i\n",
      "v\n",
      "e\n",
      "r\n",
      "s\n",
      "i\n",
      "t\n",
      "y\n"
     ]
    }
   ],
   "source": [
    "vowels = 0\n",
    "i = 0\n",
    "while vowels < 5 and i < len(myString):\n",
    "    print(myString[i])\n",
    "    if (myString[i] in \"aeiou\"):\n",
    "        vowels += 1\n",
    "    i += 1    "
   ]
  },
  {
   "cell_type": "markdown",
   "id": "8dd708d3-8ba2-4d24-a624-579bfc778932",
   "metadata": {
    "slideshow": {
     "slide_type": "skip"
    },
    "tags": [
     "notes-only"
    ]
   },
   "source": [
    "### Practice"
   ]
  },
  {
   "cell_type": "markdown",
   "id": "187a2ad9-e2cc-452c-8439-d29d984fd3b5",
   "metadata": {
    "tags": []
   },
   "source": [
    "*What is the output of each of the following programs?*"
   ]
  },
  {
   "cell_type": "code",
   "execution_count": 14,
   "id": "6bec7941-ffa1-45b5-8604-73f1cdb6d093",
   "metadata": {
    "tags": [
     "worksheet-code-only"
    ]
   },
   "outputs": [
    {
     "name": "stdout",
     "output_type": "stream",
     "text": [
      "W\n",
      "I\n",
      "D\n"
     ]
    }
   ],
   "source": [
    "#1)\n",
    "def funcA(word):\n",
    "    for i in range(len(word)):\n",
    "        if i % 3 == 0:\n",
    "            print(word[i])\n",
    "        \n",
    "funcA('WIKIPEDIA')"
   ]
  },
  {
   "cell_type": "markdown",
   "id": "ed5c5393-4519-40e6-b41e-8411e9c7e999",
   "metadata": {
    "slideshow": {
     "slide_type": "skip"
    },
    "tags": [
     "worksheet-only"
    ]
   },
   "source": [
    "```\n",
    "\n",
    "```"
   ]
  },
  {
   "cell_type": "code",
   "execution_count": 15,
   "id": "b32e5f2d-3199-4770-9149-61bfde22bc45",
   "metadata": {
    "slideshow": {
     "slide_type": "subslide"
    },
    "tags": [
     "worksheet-code-only"
    ]
   },
   "outputs": [
    {
     "name": "stdout",
     "output_type": "stream",
     "text": [
      "MaGiCaL"
     ]
    }
   ],
   "source": [
    "#2)\n",
    "def funcB(word):\n",
    "    for i in range(len(word)):\n",
    "        if i % 2 == 0:\n",
    "            print(word[i].upper(), end=\"\")\n",
    "        else:\n",
    "            print(word[i], end=\"\")\n",
    "            \n",
    "funcB('magical')"
   ]
  },
  {
   "cell_type": "markdown",
   "id": "939cb88f-7b94-41e5-91e4-42d51abd560d",
   "metadata": {
    "slideshow": {
     "slide_type": "skip"
    },
    "tags": [
     "worksheet-only"
    ]
   },
   "source": [
    "```\n",
    "\n",
    "```"
   ]
  },
  {
   "cell_type": "code",
   "execution_count": 16,
   "id": "63b10dd0-dff7-4312-9a33-117868523c80",
   "metadata": {
    "slideshow": {
     "slide_type": "subslide"
    },
    "tags": [
     "worksheet-code-only"
    ]
   },
   "outputs": [
    {
     "name": "stdout",
     "output_type": "stream",
     "text": [
      "?deneppah tahW"
     ]
    }
   ],
   "source": [
    "#3)\n",
    "def funcC(phrase):\n",
    "    stop = (len(phrase) + 1) * -1\n",
    "    for i in range(-1, stop, -1):\n",
    "        print(phrase[i], end=\"\")\n",
    "\n",
    "funcC('What happened?')"
   ]
  },
  {
   "cell_type": "markdown",
   "id": "583d5b9c-de2f-4cd5-83ab-7c780453e0a1",
   "metadata": {
    "slideshow": {
     "slide_type": "skip"
    },
    "tags": [
     "worksheet-only"
    ]
   },
   "source": [
    "```\n",
    "\n",
    "```"
   ]
  },
  {
   "cell_type": "code",
   "execution_count": 20,
   "id": "99b7cde1-ead3-4f2e-9e59-da456aadd6b4",
   "metadata": {
    "slideshow": {
     "slide_type": "subslide"
    },
    "tags": [
     "worksheet-code-only"
    ]
   },
   "outputs": [
    {
     "name": "stdout",
     "output_type": "stream",
     "text": [
      "alabama\n"
     ]
    }
   ],
   "source": [
    "#4)\n",
    "def funcD(consonants, vowel):\n",
    "    result = vowel\n",
    "    for ch in consonants:\n",
    "        result = result + ch + vowel\n",
    "    return result\n",
    "\n",
    "print(funcD('lbm', 'a'))"
   ]
  },
  {
   "cell_type": "markdown",
   "id": "0db00a96-420d-4955-9634-52b709560790",
   "metadata": {
    "slideshow": {
     "slide_type": "skip"
    },
    "tags": [
     "worksheet-only"
    ]
   },
   "source": [
    "```\n",
    "\n",
    "```"
   ]
  },
  {
   "cell_type": "code",
   "execution_count": 21,
   "id": "acbc73c4-85e4-4172-acc8-49c19bcc7a3d",
   "metadata": {
    "slideshow": {
     "slide_type": "subslide"
    },
    "tags": [
     "worksheet-code-only"
    ]
   },
   "outputs": [
    {
     "name": "stdout",
     "output_type": "stream",
     "text": [
      "mississippi\n"
     ]
    }
   ],
   "source": [
    "#5)\n",
    "def funcE(start, consonants, vowel):\n",
    "    result = start\n",
    "    for ch in consonants:\n",
    "        result = result + vowel + ch * 2\n",
    "    return result + vowel\n",
    "\n",
    "print(funcE('m','ssp','i'))"
   ]
  },
  {
   "cell_type": "markdown",
   "id": "383b5019-7a1c-4537-b2c4-107eca201e34",
   "metadata": {
    "slideshow": {
     "slide_type": "skip"
    },
    "tags": [
     "worksheet-only"
    ]
   },
   "source": [
    "<div style=\"page-break-after:always;\"></div>"
   ]
  },
  {
   "cell_type": "markdown",
   "id": "fb307743-d6a5-446a-a1ee-2b3fc0a4fe5e",
   "metadata": {
    "slideshow": {
     "slide_type": "skip"
    }
   },
   "source": [
    "## Programming practice\n",
    "\n",
    "\\#1) *Write a function `remove_digits` that takes a string and returns the string with all digits removed. For example:*\n",
    "\n",
    "* `remove_digits(\"abc123\")` should return `\"abc\"`\n",
    "* `remove_digits(\"a1b2c3\")` should return `\"abc\"`"
   ]
  },
  {
   "cell_type": "markdown",
   "id": "1fbbaff5-da68-44fb-b99e-3427d0876eb4",
   "metadata": {
    "slideshow": {
     "slide_type": "skip"
    },
    "tags": [
     "worksheet-only"
    ]
   },
   "source": [
    "<p style=\"height:15em;\"></p>"
   ]
  },
  {
   "cell_type": "code",
   "execution_count": 30,
   "id": "520a43f8-ce22-4d7c-9f6d-665c95b2a0b7",
   "metadata": {
    "slideshow": {
     "slide_type": "skip"
    },
    "tags": [
     "notes-only"
    ]
   },
   "outputs": [],
   "source": [
    "def remove_digits(phrase):\n",
    "    \"\"\"\n",
    "    Remove all digits from phrase\n",
    "    \n",
    "    >>> remove_digits(\"abc123\")\n",
    "    'abc'\n",
    "    >>> remove_digits(\"a1b2c3\")\n",
    "    'abc'\n",
    "    \"\"\"\n",
    "    result = \"\"\n",
    "    for character in phrase:\n",
    "        if character not in \"0123456789\":\n",
    "            result = result + character\n",
    "    return result"
   ]
  },
  {
   "cell_type": "markdown",
   "id": "be3e87f7-5bc5-4f14-94d2-fd57ec97b1bf",
   "metadata": {
    "slideshow": {
     "slide_type": "skip"
    }
   },
   "source": [
    "\\#2) *Write a function called `capitalize` that takes a location (a string) and returns the location with a properly capitalized city name and country code. For example:*\n",
    "\n",
    "* `capitalize(\"london, uk\")` should return `\"London, UK\"`\n",
    "* `capitalize(\"los angeles, us\")` should return `\"Los Angeles, US\"`"
   ]
  },
  {
   "cell_type": "markdown",
   "id": "5caef1fe-3abf-438e-abcd-d8db96a4028e",
   "metadata": {
    "slideshow": {
     "slide_type": "skip"
    },
    "tags": [
     "worksheet-only"
    ]
   },
   "source": [
    "<p style=\"height:20em;\"></p>"
   ]
  },
  {
   "cell_type": "code",
   "execution_count": 28,
   "id": "20d16933-4bf4-47f3-94ef-e8d34d851519",
   "metadata": {
    "slideshow": {
     "slide_type": "skip"
    },
    "tags": [
     "notes-only"
    ]
   },
   "outputs": [],
   "source": [
    "def capitalize(location):\n",
    "    \"\"\"\n",
    "    Properly capitalize a city name and country code\n",
    "    \n",
    "    >>> capitalize(\"london, uk\")\n",
    "    'London, UK'\n",
    "    >>> capitalize(\"los angeles, us\")\n",
    "    'Los Angeles, US'\n",
    "    \"\"\"\n",
    "    result = \"\"\n",
    "    after_comma = False\n",
    "    for index in range(len(location)):\n",
    "        if location[index] == ',':\n",
    "            after_comma = True\n",
    "        if after_comma or index == 0 or location[index-1] == ' ':\n",
    "            result = result + location[index].upper()\n",
    "        else:\n",
    "            result = result + location[index]\n",
    "    return result"
   ]
  },
  {
   "cell_type": "markdown",
   "id": "d67b00c1-fa7b-401d-ba68-45b271171485",
   "metadata": {
    "slideshow": {
     "slide_type": "slide"
    },
    "tags": []
   },
   "source": [
    "## Extra practice\n",
    "\\#1) *Write a function called `flipcase` that converts all lowercase letters to uppercase and all uppercase letters to lowercase; numbers, spaces, and punctuation should be left unchanged.*"
   ]
  },
  {
   "cell_type": "code",
   "execution_count": 26,
   "id": "2388d46b-4627-4087-905c-29514e7f7400",
   "metadata": {
    "slideshow": {
     "slide_type": "skip"
    },
    "tags": [
     "notes-only"
    ]
   },
   "outputs": [],
   "source": [
    "def flipcase(phrase):\n",
    "    \"\"\"\n",
    "    >>> flipcase('FlIp')\n",
    "    'fLiP'\n",
    "    >>> flipcase('sWItcH')\n",
    "    'SwiTCh'\n",
    "    \"\"\"\n",
    "    result = \"\"\n",
    "    for letter in phrase:\n",
    "        if letter.islower():\n",
    "            result += letter.upper()\n",
    "        elif letter.isupper():\n",
    "            result += letter.lower()\n",
    "        else:\n",
    "            result += letter\n",
    "    return result"
   ]
  },
  {
   "cell_type": "markdown",
   "id": "d8453aa1-7d7d-4462-88b0-1f20c175e8eb",
   "metadata": {
    "slideshow": {
     "slide_type": "skip"
    },
    "tags": [
     "worksheet-only"
    ]
   },
   "source": [
    "```\n",
    "\n",
    "```\n",
    "<div style=\"page-break-after:always;\"></div>"
   ]
  },
  {
   "cell_type": "markdown",
   "id": "10f2bc61-2f3d-472a-a661-a18a4d1fb257",
   "metadata": {},
   "source": [
    "\\#2) *Write a function called `molecular_formula` that takes a string containing the constituent atoms of a molecule and updates the string to contain the molecular formula. For example, the string `\"HHO\"` should be changed to `\"H2O\"`, and the string `\"HHSOOOO\"` should be changed to `\"H2SO4\"`. You can assume:*\n",
    "\n",
    "* *Molecules will only contain elements that are represented by a single letter — e.g., a molecule may contain `'H'` but not `\"Na\"`*\n",
    "* *All atoms of the same element are listed consecutively — e.g., the constituent atoms may be provided as `\"HHO\"` but not `\"HOH\"`*\n",
    "* *The elements are listed in the order they should appear in the molecular formula — e.g., the constituent atoms `\"HHO\"` are changed to the molecular formula `\"H2O\"`, whereas the constituent atoms `\"OHH\"` are changed to the molecular formula `\"OH2\"`*"
   ]
  },
  {
   "cell_type": "code",
   "execution_count": 47,
   "id": "3962e915-60f8-4bee-afc3-ac6e2cfbfa2a",
   "metadata": {
    "slideshow": {
     "slide_type": "skip"
    },
    "tags": [
     "notes-only"
    ]
   },
   "outputs": [],
   "source": [
    "def molecular_formula(elements):\n",
    "    \"\"\"\n",
    "    >>> molecular_formula(\"HHO\")\n",
    "    'H2O'\n",
    "    >>> molecular_formula(\"HHSOOOO\")\n",
    "    'H2SO4'\n",
    "    >>> molecular_formula(\"OHH\")\n",
    "    'OH2'\n",
    "    \"\"\"\n",
    "    formula = \"\"\n",
    "    count = 0\n",
    "    last = \"\"\n",
    "    for letter in elements:\n",
    "        # Same element as previous\n",
    "        if letter == last:\n",
    "            count += 1\n",
    "            \n",
    "        # New element\n",
    "        else:\n",
    "            # Print previous element\n",
    "            formula += last\n",
    "            if count > 1:\n",
    "                formula += str(count)\n",
    "            count = 1\n",
    "        last = letter\n",
    "    \n",
    "    # Last element\n",
    "    formula += last\n",
    "    if count > 1:\n",
    "        formula += str(count)\n",
    "    return formula\n",
    "            "
   ]
  },
  {
   "cell_type": "code",
   "execution_count": 48,
   "id": "059cccdc-29b0-4592-af3a-5394b61b7f39",
   "metadata": {
    "slideshow": {
     "slide_type": "skip"
    },
    "tags": [
     "notes-only"
    ]
   },
   "outputs": [
    {
     "data": {
      "text/plain": [
       "TestResults(failed=0, attempted=9)"
      ]
     },
     "execution_count": 48,
     "metadata": {},
     "output_type": "execute_result"
    }
   ],
   "source": [
    "import doctest\n",
    "doctest.testmod()"
   ]
  }
 ],
 "metadata": {
  "kernelspec": {
   "display_name": "Python 3 (ipykernel)",
   "language": "python",
   "name": "python3"
  },
  "language_info": {
   "codemirror_mode": {
    "name": "ipython",
    "version": 3
   },
   "file_extension": ".py",
   "mimetype": "text/x-python",
   "name": "python",
   "nbconvert_exporter": "python",
   "pygments_lexer": "ipython3",
   "version": "3.8.2"
  }
 },
 "nbformat": 4,
 "nbformat_minor": 5
}
