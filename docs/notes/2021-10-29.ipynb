{
 "cells": [
  {
   "cell_type": "markdown",
   "id": "3825b029-78e9-4be1-ba7a-a7b06f8f5999",
   "metadata": {
    "slideshow": {
     "slide_type": "skip"
    },
    "tags": []
   },
   "source": [
    "# string methods; string formatting\n",
    "_COSC 101, Introduction to Computing I, 2021-10-29_"
   ]
  },
  {
   "cell_type": "markdown",
   "id": "61be4a86-0d90-44d3-8831-1df8e689c910",
   "metadata": {
    "slideshow": {
     "slide_type": "skip"
    },
    "tags": []
   },
   "source": [
    "## Announcements\n",
    "* Homework 7 due Thursday"
   ]
  },
  {
   "cell_type": "markdown",
   "id": "5c9d2d06-5555-4461-8e74-79d00256caf2",
   "metadata": {
    "slideshow": {
     "slide_type": "skip"
    },
    "tags": [
     "notes-only"
    ]
   },
   "source": [
    "## Outline\n",
    "* Warm-up"
   ]
  },
  {
   "cell_type": "markdown",
   "id": "bb20640d-d894-49a5-8a85-f15dbbb042a6",
   "metadata": {},
   "source": [
    "## Warm-up\n",
    "_Complete the following functions_:"
   ]
  },
  {
   "cell_type": "code",
   "execution_count": 45,
   "id": "dde1bfb2-888b-4f42-8d21-30045d2e3fac",
   "metadata": {
    "slideshow": {
     "slide_type": "subslide"
    },
    "tags": [
     "worksheet-only"
    ]
   },
   "outputs": [],
   "source": [
    "#1)\n",
    "def phone(number):\n",
    "    \"\"\"\n",
    "    Converts a 10-digit integer into a phone number XXX-XXX-XXXX\n",
    "    \n",
    "    >>> phone(3152886298)\n",
    "    '315-288-6298'\n",
    "    \"\"\""
   ]
  },
  {
   "cell_type": "markdown",
   "id": "2e48053d-59cf-485f-a23f-54b88518ad66",
   "metadata": {
    "slideshow": {
     "slide_type": "skip"
    },
    "tags": [
     "worksheet-only"
    ]
   },
   "source": [
    "```Python\n",
    "\n",
    "\n",
    "\n",
    "\n",
    "\n",
    "\n",
    "\n",
    "```"
   ]
  },
  {
   "cell_type": "code",
   "execution_count": 43,
   "id": "fbab8535-5d16-49e1-96c0-86888279ec38",
   "metadata": {
    "slideshow": {
     "slide_type": "skip"
    },
    "tags": [
     "notes-only"
    ]
   },
   "outputs": [],
   "source": [
    "#1)\n",
    "def phone(number):\n",
    "    \"\"\"\n",
    "    Converts a 10-digit integer into a phone number XXX-XXX-XXXX\n",
    "    \n",
    "    >>> phone(3152886298)\n",
    "    '315-288-6298'\n",
    "    \"\"\"\n",
    "    number = str(number)\n",
    "    return \"{}-{}-{}\".format(number[:3], number[3:6], number[-4:])"
   ]
  },
  {
   "cell_type": "code",
   "execution_count": 49,
   "id": "df8014da-9c6e-4b3f-a9f0-079b876cd460",
   "metadata": {
    "slideshow": {
     "slide_type": "subslide"
    },
    "tags": [
     "worksheet-only"
    ]
   },
   "outputs": [],
   "source": [
    "#2)\n",
    "def date(number):\n",
    "    \"\"\"\n",
    "    Converts an 8-digit string into MM/DD/YYYY\n",
    "    \n",
    "    >>> date(\"10272021\")\n",
    "    '10/27/2021'\n",
    "    \"\"\""
   ]
  },
  {
   "cell_type": "markdown",
   "id": "f00098a9-91cb-4720-a04a-1b002d3cfafe",
   "metadata": {
    "slideshow": {
     "slide_type": "skip"
    },
    "tags": [
     "worksheet-only"
    ]
   },
   "source": [
    "```Python\n",
    "\n",
    "\n",
    "\n",
    "\n",
    "\n",
    "\n",
    "\n",
    "```\n",
    "🛑 **STOP HERE** after completing the warm-up; please **DO NOT WORK AHEAD**. If you have extra time, work on the extra practice problems."
   ]
  },
  {
   "cell_type": "code",
   "execution_count": 50,
   "id": "4ce1cccc-ebd3-4bd0-b3b8-4b4d68415e3f",
   "metadata": {
    "slideshow": {
     "slide_type": "skip"
    },
    "tags": [
     "notes-only"
    ]
   },
   "outputs": [],
   "source": [
    "#2)\n",
    "def date(number):\n",
    "    \"\"\"\n",
    "    Converts an 8-digit string into MM/DD/YYYY\n",
    "    \n",
    "    >>> date(\"10272021\")\n",
    "    '10/27/2021'\n",
    "    \"\"\"\n",
    "    return \"{}/{}/{}\".format(number[:2], number[2:4], number[4:])"
   ]
  }
 ],
 "metadata": {
  "kernelspec": {
   "display_name": "Python 3 (ipykernel)",
   "language": "python",
   "name": "python3"
  },
  "language_info": {
   "codemirror_mode": {
    "name": "ipython",
    "version": 3
   },
   "file_extension": ".py",
   "mimetype": "text/x-python",
   "name": "python",
   "nbconvert_exporter": "python",
   "pygments_lexer": "ipython3",
   "version": "3.8.2"
  }
 },
 "nbformat": 4,
 "nbformat_minor": 5
}
