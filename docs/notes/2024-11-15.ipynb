{
 "cells": [
  {
   "cell_type": "markdown",
   "id": "58d0898d-79e2-4f85-93f0-47035cec0e1e",
   "metadata": {
    "editable": true,
    "slideshow": {
     "slide_type": "skip"
    },
    "tags": []
   },
   "source": [
    "# Nested data: nested lists\n",
    "_COSC 101, Introduction to Computing I, 2024-11-15_"
   ]
  },
  {
   "cell_type": "markdown",
   "id": "4047d826-0032-4078-bccb-b2df4db8d85c",
   "metadata": {
    "editable": true,
    "slideshow": {
     "slide_type": "skip"
    },
    "tags": []
   },
   "source": [
    "## Announcements\n",
    "* Exam 3 Friday, Nov 22\n",
    "    * Study materials posted on Moodle"
   ]
  },
  {
   "cell_type": "markdown",
   "id": "6505521f-a6b6-443e-a687-83dacef4738a",
   "metadata": {
    "editable": true,
    "slideshow": {
     "slide_type": ""
    },
    "tags": []
   },
   "source": [
    "## Nested lists"
   ]
  },
  {
   "cell_type": "markdown",
   "id": "e7435b1c-260f-428c-b84c-6650bd3de9ff",
   "metadata": {
    "editable": true,
    "slideshow": {
     "slide_type": ""
    },
    "tags": [
     "notes-only"
    ]
   },
   "source": [
    "* Lists can be nested inside of lists"
   ]
  },
  {
   "cell_type": "code",
   "execution_count": 11,
   "id": "c909aec3-d6d3-4d02-8d52-f38c03638b09",
   "metadata": {
    "editable": true,
    "slideshow": {
     "slide_type": ""
    },
    "tags": [
     "notes-only"
    ]
   },
   "outputs": [
    {
     "name": "stdout",
     "output_type": "stream",
     "text": [
      "['Colgate', 13]\n",
      "Colgate\n"
     ]
    }
   ],
   "source": [
    "mylist = [[\"Colgate\", 13], [\"Pi\", 3.14159]]\n",
    "print(mylist[0])\n",
    "print(mylist[0][0])"
   ]
  },
  {
   "cell_type": "markdown",
   "id": "e6fdfd27-e9b7-4778-8814-89290d2ec9f7",
   "metadata": {
    "editable": true,
    "slideshow": {
     "slide_type": ""
    },
    "tags": [
     "notes-only"
    ]
   },
   "source": [
    "* If you append a list to a list, you created a nested list"
   ]
  },
  {
   "cell_type": "code",
   "execution_count": 14,
   "id": "d784224f-c4fe-4a1c-92fe-0dff23a8206f",
   "metadata": {
    "editable": true,
    "slideshow": {
     "slide_type": ""
    },
    "tags": [
     "notes-only"
    ]
   },
   "outputs": [
    {
     "name": "stdout",
     "output_type": "stream",
     "text": [
      "['Capitals', ['Albany', 'NY']]\n",
      "['Albany', 'NY']\n"
     ]
    }
   ],
   "source": [
    "newlist = [\"Capitals\"]\n",
    "newlist.append([\"Albany\", \"NY\"])\n",
    "print(newlist)\n",
    "print(newlist[1])"
   ]
  },
  {
   "cell_type": "markdown",
   "id": "fb81f50b-bd0b-4d3a-bce1-6f62c991e502",
   "metadata": {
    "editable": true,
    "slideshow": {
     "slide_type": "skip"
    },
    "tags": [
     "blank"
    ]
   },
   "source": [
    "<p style=\"height:6em;\"></p>"
   ]
  },
  {
   "cell_type": "markdown",
   "id": "8cc6151d-43de-4fe7-8d12-5ac7f901e5fc",
   "metadata": {
    "editable": true,
    "slideshow": {
     "slide_type": ""
    },
    "tags": [
     "question"
    ]
   },
   "source": [
    "_What does the following program output?_"
   ]
  },
  {
   "cell_type": "code",
   "execution_count": 18,
   "id": "63f36c2c-a3d1-4794-a196-1cf7f7d41a89",
   "metadata": {
    "editable": true,
    "slideshow": {
     "slide_type": ""
    },
    "tags": [
     "worksheet-code-only"
    ]
   },
   "outputs": [
    {
     "name": "stdout",
     "output_type": "stream",
     "text": [
      "[2, [13, 8], [99], [32], 64, [128, 256]]\n"
     ]
    }
   ],
   "source": [
    "def main() -> None:\n",
    "    nums = [2, [4, 8], [], [32], 64]\n",
    "    nums.append([128, 256])\n",
    "    nums[1][0] = 13\n",
    "    nums[2].append(99)\n",
    "    print(nums)\n",
    "main()"
   ]
  },
  {
   "cell_type": "markdown",
   "id": "989ba949-5310-4d0c-8324-6e8ca0e38dfd",
   "metadata": {
    "editable": true,
    "slideshow": {
     "slide_type": "skip"
    },
    "tags": [
     "blank"
    ]
   },
   "source": [
    "<p style=\"height:6em;\"></p>"
   ]
  },
  {
   "cell_type": "markdown",
   "id": "c9a05c05-9dd0-4d8e-b91c-dbde24067d07",
   "metadata": {
    "editable": true,
    "slideshow": {
     "slide_type": ""
    },
    "tags": [
     "question"
    ]
   },
   "source": [
    "_What does the following program output?_"
   ]
  },
  {
   "cell_type": "code",
   "execution_count": 17,
   "id": "5e5286b1-8372-4aad-b8a2-268f01016e7a",
   "metadata": {
    "editable": true,
    "slideshow": {
     "slide_type": ""
    },
    "tags": [
     "worksheet-code-only"
    ]
   },
   "outputs": [
    {
     "name": "stdout",
     "output_type": "stream",
     "text": [
      "[['BIOL', 'CHEM', 'PHYS'], ['THEA', 'MUSI']]\n",
      "[['BIOL', 'CHEM', 'PHYS'], ['THEA', 'MUSI'], 'ECON', ['HIST']]\n",
      "['FMST', ['GEOL', 'ENST'], 'ECON', ['HIST', 'PHIL']]\n"
     ]
    }
   ],
   "source": [
    "def main() -> None:\n",
    "    science = [\"BIOL\", \"CHEM\", \"PHYS\"]\n",
    "    arts = [\"THEA\", \"MUSI\"]\n",
    "    departments = [science, arts]\n",
    "    print(departments)\n",
    "    departments.append(\"ECON\")\n",
    "    departments.append([\"HIST\"])\n",
    "    print(departments)\n",
    "    departments[0] = \"FMST\"\n",
    "    departments[1] = [\"GEOL\", \"ENST\"]\n",
    "    departments[-1].append(\"PHIL\")\n",
    "    print(departments)\n",
    "main()"
   ]
  },
  {
   "cell_type": "markdown",
   "id": "8cbb81cf-75b7-4910-9616-08e31a244acd",
   "metadata": {
    "editable": true,
    "slideshow": {
     "slide_type": "skip"
    },
    "tags": [
     "blank"
    ]
   },
   "source": [
    "<p style=\"height:6em;\"></p>"
   ]
  },
  {
   "cell_type": "code",
   "execution_count": 2,
   "id": "f973d676-77d7-48de-986f-c95d6665551f",
   "metadata": {
    "editable": true,
    "slideshow": {
     "slide_type": ""
    },
    "tags": [
     "colab-only"
    ]
   },
   "outputs": [],
   "source": [
    "with open('sample.csv', 'w') as outfile:\n",
    "    outfile.write(\"Apricot,Orange,Fruit\\nBlueberry,Blue,Fruit\\nCarrot,Orange,Vegetable\\n\")"
   ]
  },
  {
   "cell_type": "markdown",
   "id": "6fee160e-4776-4fbb-a188-b788ab4260e4",
   "metadata": {
    "editable": true,
    "slideshow": {
     "slide_type": "slide"
    },
    "tags": [
     "question"
    ]
   },
   "source": [
    "*Write a function called `load_data` that takes the name of a comma-separated variable (CSV) file and returns a list of lists, where each sublist contains the values from a single row (i.e., line) of the CSV file.*\n",
    "\n",
    "*For example, assume `sample.csv` contains the following:*\n",
    "```Python\n",
    "Apricot,Orange,Fruit\n",
    "Blueberry,Blue,Fruit\n",
    "Carrot,Orange,Vegetable\n",
    "```\n",
    "\n",
    "`load_data('sample.csv')` should return:\n",
    "```Python\n",
    "[['Apricot','Orange','Fruit'], ['Blueberry','Blue','Fruit'], ['Carrot','Orange','Vegetable']]\n",
    "```"
   ]
  },
  {
   "cell_type": "code",
   "execution_count": 3,
   "id": "130724c1-947e-4143-a09d-d3b2df7c9b40",
   "metadata": {
    "editable": true,
    "slideshow": {
     "slide_type": "skip"
    },
    "tags": [
     "answer"
    ]
   },
   "outputs": [],
   "source": [
    "def load_data(filename):\n",
    "    '''\n",
    "    Loads data from a CSV file\n",
    "    \n",
    "    >>> load_data('sample.csv')\n",
    "    [['Apricot', 'Orange', 'Fruit'], ['Blueberry', 'Blue', 'Fruit'], ['Carrot', 'Orange', 'Vegetable']]\n",
    "    '''\n",
    "    file = open(filename, 'r')\n",
    "    data = []\n",
    "    # Process each row\n",
    "    for line in file:\n",
    "        # Get values for each column\n",
    "        line = line.strip().split(',')\n",
    "        data.append(line)\n",
    "    file.close()\n",
    "    return data"
   ]
  },
  {
   "cell_type": "markdown",
   "id": "a1bc830b-a274-407f-9a05-4472196e5220",
   "metadata": {
    "editable": true,
    "slideshow": {
     "slide_type": "skip"
    },
    "tags": [
     "blank"
    ]
   },
   "source": [
    "<p style=\"height:20em;\"></p>"
   ]
  },
  {
   "cell_type": "markdown",
   "id": "afeabe41-7d3d-4ae8-802f-873605b801d9",
   "metadata": {
    "editable": true,
    "slideshow": {
     "slide_type": "slide"
    },
    "tags": [
     "question"
    ]
   },
   "source": [
    "*Write a function called `select_columns` which takes a list of lists (as returned by `load_data`), a starting index, and an ending index, and and returns a list of lists in which each sublist only contains the items from the starting index up to (but not including) the ending index.*\n",
    "\n",
    "*For example, assume:*\n",
    "```Python\n",
    "data = [['Apricot','Orange','Fruit'], ['Blueberry','Blue','Fruit'], ['Carrot','Orange','Vegetable']]\n",
    "```\n",
    "\n",
    "*`select_columns(data, 0, 2)` should return:*\n",
    "```Python\n",
    "[['Apricot','Orange'], ['Blueberry','Blue'], ['Carrot','Orange']]\n",
    "```"
   ]
  },
  {
   "cell_type": "code",
   "execution_count": 4,
   "id": "7aaa8c6b-2673-4015-bca7-5f98dba1d2bf",
   "metadata": {
    "editable": true,
    "slideshow": {
     "slide_type": "skip"
    },
    "tags": [
     "answer"
    ]
   },
   "outputs": [],
   "source": [
    "def select_columns(data, start, end):\n",
    "    '''\n",
    "    Extract a range of columns from a \"table\" of data\n",
    "    \n",
    "    >>> select_columns([['Apricot','Orange','Fruit'], ['Blueberry','Blue','Fruit'], ['Carrot','Orange','Vegetable']], 0, 2)\n",
    "    [['Apricot', 'Orange'], ['Blueberry', 'Blue'], ['Carrot', 'Orange']]\n",
    "    '''\n",
    "    filtered = []\n",
    "    # Process each row\n",
    "    for row in data:\n",
    "        filtered.append(row[start:end])\n",
    "    return filtered"
   ]
  },
  {
   "cell_type": "markdown",
   "id": "cff19fa7-0d62-4dfd-9acd-d75f846d7f1d",
   "metadata": {
    "editable": true,
    "slideshow": {
     "slide_type": "skip"
    },
    "tags": [
     "blank"
    ]
   },
   "source": [
    "<p style=\"height:20em;\"></p>"
   ]
  },
  {
   "cell_type": "markdown",
   "id": "7f955718-1ebe-4b71-9ba9-df1bf96f265d",
   "metadata": {
    "editable": true,
    "slideshow": {
     "slide_type": "subslide"
    },
    "tags": [
     "question"
    ]
   },
   "source": [
    "*Write a function called `select_rows` which takes a list of lists (as returned by `load_data`), a column index, and a desired value, and returns a list of lists which only includes the sublists from the original list of lists that had the specified value in the specified index.*\n",
    "\n",
    "*For example, assume:*\n",
    "```Python\n",
    "data = [['Apricot','Orange','Fruit'], ['Blueberry','Blue','Fruit'], ['Carrot','Orange','Vegetable']]\n",
    "```\n",
    "\n",
    "*`select_rows(data, 2, 'Fruit')` should return:*\n",
    "```Python\n",
    "[['Apricot','Orange','Fruit'], ['Blueberry','Blue','Fruit']]\n",
    "```\n",
    "\n",
    "*Similarly, `select_rows(data, 1, 'Orange')` should return:*\n",
    "```Python\n",
    "[['Apricot','Orange','Fruit'], ['Carrot','Orange','Vegetable']]\n",
    "```"
   ]
  },
  {
   "cell_type": "code",
   "execution_count": 5,
   "id": "78793879-36b0-417a-a7ec-19366e8eb6d6",
   "metadata": {
    "editable": true,
    "slideshow": {
     "slide_type": "skip"
    },
    "tags": [
     "answer"
    ]
   },
   "outputs": [],
   "source": [
    "def select_rows(data, idx, value):\n",
    "    '''\n",
    "    Extract rows that contain the specified value in the specified column\n",
    "    \n",
    "    >>> select_rows([['Apricot','Orange','Fruit'], ['Blueberry','Blue','Fruit'], ['Carrot','Orange','Vegetable']], 2, 'Fruit')\n",
    "    [['Apricot', 'Orange', 'Fruit'], ['Blueberry', 'Blue', 'Fruit']]\n",
    "    >>> select_rows([['Apricot','Orange','Fruit'], ['Blueberry','Blue','Fruit'], ['Carrot','Orange','Vegetable']], 1, 'Orange')\n",
    "    [['Apricot', 'Orange', 'Fruit'], ['Carrot', 'Orange', 'Vegetable']]\n",
    "    '''\n",
    "    filtered = []\n",
    "    # Process each row\n",
    "    for row in data:\n",
    "        if (row[idx] == value):\n",
    "            filtered.append(row)\n",
    "    return filtered"
   ]
  },
  {
   "cell_type": "markdown",
   "id": "1a664515-74db-4d37-9fda-dee4158ec4e8",
   "metadata": {
    "editable": true,
    "slideshow": {
     "slide_type": "skip"
    },
    "tags": [
     "blank"
    ]
   },
   "source": [
    "<p style=\"height:20em;\"></p>"
   ]
  },
  {
   "cell_type": "markdown",
   "id": "24c17967-138d-4f0d-9ef7-b029b5c5bb85",
   "metadata": {
    "editable": true,
    "slideshow": {
     "slide_type": ""
    },
    "tags": []
   },
   "source": [
    "## Extra practice"
   ]
  },
  {
   "cell_type": "markdown",
   "id": "95302573-272b-4c43-a053-44f4f8fc48d3",
   "metadata": {
    "editable": true,
    "slideshow": {
     "slide_type": "slide"
    },
    "tags": [
     "question"
    ]
   },
   "source": [
    "*Write a function called `save_data` that takes a list of lists and the name of a comma-separated variable (CSV) file and writes each sublist as a \"row\" in the CSV file.*\n",
    "\n",
    "*For example, assume:*\n",
    "```Python\n",
    "data = [['Orange','Fruit'], ['Blue','Fruit'], ['Orange','Vegetable']]\n",
    "```\n",
    "\n",
    "*`save_data(data, 'filtered.csv')` should create a file called `filtered.csv` which contains the following:*\n",
    "```Python\n",
    "Orange,Fruit\n",
    "Blue,Fruit\n",
    "Orange,Vegetable\n",
    "```"
   ]
  },
  {
   "cell_type": "code",
   "execution_count": 6,
   "id": "fe82b60e-a37e-4ad0-81d9-38a81905842e",
   "metadata": {
    "editable": true,
    "slideshow": {
     "slide_type": "skip"
    },
    "tags": [
     "answer"
    ]
   },
   "outputs": [],
   "source": [
    "def save_data(data, filename):\n",
    "    '''\n",
    "    Extract rows that contain the specified value in the specified column\n",
    "    \n",
    "    >>> save_data([['Orange','Fruit'], ['Blue','Fruit'], ['Orange','Vegetable']], 'filtered.csv')\n",
    "    '''\n",
    "    file = open(filename, 'w')\n",
    "    # Process each row\n",
    "    for row in data:\n",
    "        # Separate column values with commas\n",
    "        line = \",\".join(row)\n",
    "        file.write(line + \"\\n\")\n",
    "    file.close()"
   ]
  },
  {
   "cell_type": "markdown",
   "id": "2e65ed16-9668-42fd-9de2-0fdf002bdf5b",
   "metadata": {
    "editable": true,
    "slideshow": {
     "slide_type": "skip"
    },
    "tags": [
     "blank"
    ]
   },
   "source": [
    "<p style=\"height:15em;\"></p>"
   ]
  },
  {
   "cell_type": "markdown",
   "id": "b73ee994-fff5-4e66-8f91-1c76733f185f",
   "metadata": {
    "editable": true,
    "slideshow": {
     "slide_type": "slide"
    },
    "tags": [
     "question"
    ]
   },
   "source": [
    "*Write a function called `select_single_column` that takes a list of lists and a column index, and returns a list containing the values in that column from every row.*\n",
    "\n",
    "*For example, assume:*\n",
    "```Python\n",
    "data = [['Apricot','Orange','Fruit'], ['Blueberry','Blue','Fruit'], ['Carrot','Orange','Vegetable']]\n",
    "```\n",
    "\n",
    "*`select_single_column(data, 0)` should return:*\n",
    "```Python\n",
    "['Apricot', 'Blueberry', 'Carrot']\n",
    "```"
   ]
  },
  {
   "cell_type": "code",
   "execution_count": 7,
   "id": "39e03a5c-4b3d-4f7e-948f-958506585e64",
   "metadata": {
    "editable": true,
    "slideshow": {
     "slide_type": "skip"
    },
    "tags": [
     "answer"
    ]
   },
   "outputs": [],
   "source": [
    "def select_single_column(data, idx):\n",
    "    '''\n",
    "    Extract a single column of values from a \"table\" of data\n",
    "    \n",
    "    >>> select_single_column([['Apricot','Orange','Fruit'], ['Blueberry','Blue','Fruit'], ['Carrot','Orange','Vegetable']], 0)\n",
    "    ['Apricot', 'Blueberry', 'Carrot']\n",
    "    '''\n",
    "    values = []\n",
    "    # Process each row\n",
    "    for row in data:\n",
    "        values.append(row[idx])\n",
    "    return values"
   ]
  },
  {
   "cell_type": "markdown",
   "id": "5919d251-eade-4eb8-8d50-aea9304cc02e",
   "metadata": {
    "editable": true,
    "slideshow": {
     "slide_type": "skip"
    },
    "tags": [
     "blank"
    ]
   },
   "source": [
    "<p style=\"height:20em;\"></p>"
   ]
  },
  {
   "cell_type": "markdown",
   "id": "3e8be7d5-7942-46bb-921e-708d0ea1154e",
   "metadata": {
    "editable": true,
    "slideshow": {
     "slide_type": "subslide"
    },
    "tags": [
     "question"
    ]
   },
   "source": [
    "*Write a function called `select_single_row` that takes a list of lists and a row index, and returns a list containing the values in that row from every column.*\n",
    "\n",
    "*For example, assume:*\n",
    "```Python\n",
    "data = [['Apricot','Orange','Fruit'], ['Blueberry','Blue','Fruit'], ['Carrot','Orange','Vegetable']]\n",
    "```\n",
    "\n",
    "*`select_single_row(data, 1)` should return:*\n",
    "```Python\n",
    "['Blueberry', 'Blue', 'Fruit']\n",
    "```"
   ]
  },
  {
   "cell_type": "code",
   "execution_count": 8,
   "id": "ef8c87e8-9329-4bac-9490-0ddcf823cd4f",
   "metadata": {
    "editable": true,
    "slideshow": {
     "slide_type": "skip"
    },
    "tags": [
     "answer"
    ]
   },
   "outputs": [],
   "source": [
    "def select_single_row(data, idx):\n",
    "    '''\n",
    "    Extract a single column of values from a \"table\" of data\n",
    "    \n",
    "    >>> select_single_row([['Apricot','Orange','Fruit'], ['Blueberry','Blue','Fruit'], ['Carrot','Orange','Vegetable']], 1)\n",
    "    ['Blueberry', 'Blue', 'Fruit']\n",
    "    '''\n",
    "    return data[idx]"
   ]
  },
  {
   "cell_type": "markdown",
   "id": "111a93f6-b915-4d69-99a0-1bae31ade45f",
   "metadata": {
    "editable": true,
    "slideshow": {
     "slide_type": "skip"
    },
    "tags": [
     "blank"
    ]
   },
   "source": [
    "<p style=\"height:20em;\"></p>"
   ]
  },
  {
   "cell_type": "code",
   "execution_count": 10,
   "id": "151da02c-c07c-4260-a8f0-5159ded7358a",
   "metadata": {
    "editable": true,
    "slideshow": {
     "slide_type": "skip"
    },
    "tags": [
     "colab-only"
    ]
   },
   "outputs": [
    {
     "data": {
      "text/plain": [
       "TestResults(failed=0, attempted=7)"
      ]
     },
     "execution_count": 10,
     "metadata": {},
     "output_type": "execute_result"
    }
   ],
   "source": [
    "import doctest\n",
    "doctest.testmod()"
   ]
  }
 ],
 "metadata": {
  "kernelspec": {
   "display_name": "Python 3 (ipykernel)",
   "language": "python",
   "name": "python3"
  },
  "language_info": {
   "codemirror_mode": {
    "name": "ipython",
    "version": 3
   },
   "file_extension": ".py",
   "mimetype": "text/x-python",
   "name": "python",
   "nbconvert_exporter": "python",
   "pygments_lexer": "ipython3",
   "version": "3.9.6"
  }
 },
 "nbformat": 4,
 "nbformat_minor": 5
}
