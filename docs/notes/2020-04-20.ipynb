{
 "cells": [
  {
   "cell_type": "markdown",
   "metadata": {},
   "source": [
    "# 2020-04-02: Dictionaries: references"
   ]
  },
  {
   "cell_type": "markdown",
   "metadata": {},
   "source": [
    "# Announcements\n",
    "* Homework #9 due Thursday @ 11pm EDT"
   ]
  },
  {
   "cell_type": "markdown",
   "metadata": {},
   "source": [
    "# Warm-up\n",
    "*What is the output of the following program?*"
   ]
  },
  {
   "cell_type": "code",
   "execution_count": 23,
   "metadata": {
    "tags": [
     "worksheet-code-only"
    ]
   },
   "outputs": [
    {
     "name": "stdout",
     "output_type": "stream",
     "text": [
      "{'cold': 'hot', 'short': 'tall', 'down': 'up'}\n"
     ]
    }
   ],
   "source": [
    "opposites = { 'hot' : 'cold', 'tall' : 'short', 'up' : 'down'}\n",
    "opposites2 = {}\n",
    "for word in opposites:\n",
    "    opposites2[opposites[word]] = word\n",
    "print(opposites2)"
   ]
  },
  {
   "cell_type": "markdown",
   "metadata": {
    "tags": [
     "colab-only"
    ]
   },
   "source": [
    "*Put the expected output in this text cell, then run the code cell above to check your answer.*"
   ]
  },
  {
   "cell_type": "markdown",
   "metadata": {
    "tags": [
     "notes-only"
    ]
   },
   "source": [
    "# Aliasing"
   ]
  },
  {
   "cell_type": "markdown",
   "metadata": {
    "tags": [
     "notes-only"
    ]
   },
   "source": [
    "* *Recall: how do we create a new dictionary?* --- using curly braces: `{}`"
   ]
  },
  {
   "cell_type": "code",
   "execution_count": 9,
   "metadata": {
    "tags": [
     "notes-only"
    ]
   },
   "outputs": [],
   "source": [
    "dictA = { 'x' : 1, 'y' : 3 }"
   ]
  },
  {
   "cell_type": "markdown",
   "metadata": {
    "tags": [
     "notes-only"
    ]
   },
   "source": [
    "* *Recall from lists: what is aliasing?* --- multiple names referring to the same dictionary\n",
    "* *How is an alias created?* --- assign the name of a dictionary to a new name"
   ]
  },
  {
   "cell_type": "code",
   "execution_count": 10,
   "metadata": {
    "tags": [
     "notes-only"
    ]
   },
   "outputs": [],
   "source": [
    "dictB = dictA"
   ]
  },
  {
   "cell_type": "markdown",
   "metadata": {
    "tags": [
     "notes-only"
    ]
   },
   "source": [
    "* Regardless which name you use, you are referring to the same dictionary; hence, changes made using one name will also be reflected if you use the other name to refer to the dictionary"
   ]
  },
  {
   "cell_type": "code",
   "execution_count": 11,
   "metadata": {
    "tags": [
     "notes-only"
    ]
   },
   "outputs": [],
   "source": [
    "dictB['z'] = 7\n",
    "dictA['x'] = 10"
   ]
  },
  {
   "cell_type": "markdown",
   "metadata": {
    "tags": [
     "notes-only"
    ]
   },
   "source": [
    "* *How can we check if two names refer to the same dictionary?* --- using the `is` operator"
   ]
  },
  {
   "cell_type": "code",
   "execution_count": 12,
   "metadata": {
    "tags": [
     "notes-only"
    ]
   },
   "outputs": [
    {
     "data": {
      "text/plain": [
       "True"
      ]
     },
     "execution_count": 12,
     "metadata": {},
     "output_type": "execute_result"
    }
   ],
   "source": [
    "dictA is dictB"
   ]
  },
  {
   "cell_type": "markdown",
   "metadata": {
    "tags": [
     "notes-only"
    ]
   },
   "source": [
    "* To avoid aliasing, you must create a clone of the dictionary using the `copy()` function"
   ]
  },
  {
   "cell_type": "code",
   "execution_count": 13,
   "metadata": {
    "tags": [
     "notes-only"
    ]
   },
   "outputs": [],
   "source": [
    "dictC = dictA.copy()"
   ]
  },
  {
   "cell_type": "markdown",
   "metadata": {},
   "source": [
    "# Aliasing practice\n",
    "*What is the output of the following programs?*"
   ]
  },
  {
   "cell_type": "code",
   "execution_count": 14,
   "metadata": {
    "tags": [
     "worksheet-code-only"
    ]
   },
   "outputs": [
    {
     "name": "stdout",
     "output_type": "stream",
     "text": [
      "True\n",
      "True\n",
      "False\n",
      "False\n"
     ]
    }
   ],
   "source": [
    "zipcodes = { 90210: 'Beverly Hills, CA', 10001 : 'New York, NY' }\n",
    "cities = zipcodes\n",
    "zipcodes[13346] = 'Hamilton, NY'\n",
    "newyork = zipcodes.copy()\n",
    "del newyork[90210]\n",
    "print(zipcodes is cities)\n",
    "print(zipcodes == cities)\n",
    "print(zipcodes is newyork)\n",
    "print(zipcodes == newyork)"
   ]
  },
  {
   "cell_type": "markdown",
   "metadata": {
    "tags": [
     "colab-only"
    ]
   },
   "source": [
    "*Put the expected output in this text cell, then run the code cell above to check your answer.*"
   ]
  },
  {
   "cell_type": "code",
   "execution_count": 15,
   "metadata": {
    "tags": [
     "worksheet-code-only"
    ]
   },
   "outputs": [
    {
     "name": "stdout",
     "output_type": "stream",
     "text": [
      "{'United States': 1, 'China': 86, 'India': 91}\n",
      "{'United States': 1, 'China': 86, 'India': 91, 61: 'Australia'}\n"
     ]
    }
   ],
   "source": [
    "def expand(prefixes):\n",
    "    prefixes['India'] = 91\n",
    "    codes = prefixes.copy()\n",
    "    codes[61] = 'Australia'\n",
    "    return codes\n",
    "\n",
    "areacodes = { 'United States' : 1, 'China' : 86 }\n",
    "expandcodes = expand(areacodes)\n",
    "print(areacodes)\n",
    "del areacodes['United States']\n",
    "print(expandcodes)"
   ]
  },
  {
   "cell_type": "markdown",
   "metadata": {
    "tags": [
     "colab-only"
    ]
   },
   "source": [
    "*Put the expected output in this text cell, then run the code cell above to check your answer.*"
   ]
  },
  {
   "cell_type": "code",
   "execution_count": 16,
   "metadata": {
    "tags": [
     "worksheet-code-only"
    ]
   },
   "outputs": [
    {
     "name": "stdout",
     "output_type": "stream",
     "text": [
      "{'water': {'H': 2, 'O': 2}, 'acid': {'H': 2, 'S': 1, 'O': 4}, 'agua': {'H': 2, 'O': 2}}\n"
     ]
    }
   ],
   "source": [
    "molecules = { }\n",
    "molecules['water'] = {'H' : 2 , 'O' : 1}\n",
    "molecules['acid'] = {'H' : 2, 'S' : 1, 'O' : 4 }\n",
    "molecules['agua'] = molecules['water']\n",
    "chosen = molecules['agua']\n",
    "chosen['O'] = 2\n",
    "print(molecules)"
   ]
  },
  {
   "cell_type": "markdown",
   "metadata": {
    "tags": [
     "colab-only"
    ]
   },
   "source": [
    "*Put the expected output in this text cell, then run the code cell above to check your answer.*"
   ]
  },
  {
   "cell_type": "markdown",
   "metadata": {},
   "source": [
    "# Dictionary manipulation patterns\n",
    "* Insert new key with initial value\n",
    "```\n",
    "if key not in mydict:\n",
    "    mydict[key] = 0    # Choose appropriate value\n",
    "```\n",
    "* Accumulate value corresponding to key\n",
    "```\n",
    "mydict[key] = mydict[key] + 1     # Choose appropriate accumulation\n",
    "```\n",
    "* Associate multiple values with key\n",
    "```\n",
    "if key not in mydict:\n",
    "    mydict[key] = []    # Initialize non-existent key to empty list\n",
    "mydict[key].append(newValue)     # Add new value to list associated with key\n",
    "```"
   ]
  },
  {
   "cell_type": "markdown",
   "metadata": {},
   "source": [
    "# Programming practice\n",
    "*Write a function called `char_count` that takes a string and returns a dictionary that maps characters to the number of times the character occurs in the string. For example: `char_count('basketball')` should return `{'b': 2, 'a': 2, 's': 1, 'k': 1, 'e': 1, 't': 1, 'l': 2}`*"
   ]
  },
  {
   "cell_type": "code",
   "execution_count": null,
   "metadata": {
    "tags": [
     "colab-only"
    ]
   },
   "outputs": [],
   "source": []
  },
  {
   "cell_type": "code",
   "execution_count": 19,
   "metadata": {
    "tags": [
     "notes-only"
    ]
   },
   "outputs": [
    {
     "name": "stdout",
     "output_type": "stream",
     "text": [
      "{'b': 2, 'a': 2, 's': 1, 'k': 1, 'e': 1, 't': 1, 'l': 2}\n"
     ]
    }
   ],
   "source": [
    "def char_count(string):\n",
    "    counts = {}\n",
    "    for ch in string:\n",
    "        if ch in counts:\n",
    "            counts[ch] += 1\n",
    "        else:\n",
    "            counts[ch] = 1\n",
    "    return counts\n",
    "\n",
    "print(char_count('basketball'))"
   ]
  },
  {
   "cell_type": "markdown",
   "metadata": {},
   "source": [
    "*Write a function called `group_data` that takes a list of names and data items (e.g., `[name1,data1, name2,data2,...]`) and returns a dictionary that maps names to lists of corresponding data items. For example: `group_data(['apples','5','pears','8','oranges','3','pears','2'])` should return `{'apples' : ['5'], 'pears' : ['8','2'], 'oranges': ['3']}`*"
   ]
  },
  {
   "cell_type": "code",
   "execution_count": null,
   "metadata": {
    "tags": [
     "colab-only"
    ]
   },
   "outputs": [],
   "source": []
  },
  {
   "cell_type": "code",
   "execution_count": 20,
   "metadata": {
    "tags": [
     "notes-only"
    ]
   },
   "outputs": [
    {
     "name": "stdout",
     "output_type": "stream",
     "text": [
      "{'apples': ['5'], 'pears': ['8', '2'], 'oranges': ['3']}\n"
     ]
    }
   ],
   "source": [
    "def group_data(alist):\n",
    "    adict = {}\n",
    "    for i in range(0, len(alist), 2):\n",
    "        name = alist[i]\n",
    "        data = alist[i+1]\n",
    "        if name not in adict:\n",
    "            adict[name] = [data]\n",
    "        else:\n",
    "            adict[name].append(data)\n",
    "    return adict\n",
    "\n",
    "print(group_data(['apples','5','pears','8','oranges','3','pears','2']))"
   ]
  },
  {
   "cell_type": "markdown",
   "metadata": {},
   "source": [
    "*Assume each line of the file `synonyms.txt` contains a word followed by one or more synonyms, e.g.:*\n",
    "```\n",
    "small little compact tiny\n",
    "large big huge immense vast\n",
    "tall large towering \n",
    "```\n",
    "*Write a function called `load_synonyms` that reads the file and returns a dictionary containing the words and their corresponding list of synonyms, e.g.:*\n",
    "```\n",
    "{'small' : ['little','compact','tiny'], 'large' : ['big','huge','immense','vast'], 'tall' : ['large','towering']}\n",
    "```"
   ]
  },
  {
   "cell_type": "code",
   "execution_count": null,
   "metadata": {
    "tags": [
     "colab-only"
    ]
   },
   "outputs": [],
   "source": []
  },
  {
   "cell_type": "code",
   "execution_count": 21,
   "metadata": {
    "tags": [
     "notes-only"
    ]
   },
   "outputs": [
    {
     "name": "stdout",
     "output_type": "stream",
     "text": [
      "{'small': ['little', 'compact', 'tiny'], 'large': ['big', 'huge', 'immense', 'vast'], 'tall': ['large', 'towering']}\n"
     ]
    }
   ],
   "source": [
    "with open('synonyms.txt', 'w') as outfile:\n",
    "    outfile.write('small little compact tiny\\nlarge big huge immense vast\\ntall large towering')\n",
    "    \n",
    "def load_synonyms():\n",
    "    file = open('synonyms.txt', 'r')\n",
    "    synonyms = {}\n",
    "    for line in file:\n",
    "        words = line.split()\n",
    "        synonyms[words[0]] = words[1:]\n",
    "    file.close()\n",
    "    return synonyms\n",
    "\n",
    "print(load_synonyms())"
   ]
  }
 ],
 "metadata": {
  "celltoolbar": "Tags",
  "kernelspec": {
   "display_name": "Python 3",
   "language": "python",
   "name": "python3"
  },
  "language_info": {
   "codemirror_mode": {
    "name": "ipython",
    "version": 3
   },
   "file_extension": ".py",
   "mimetype": "text/x-python",
   "name": "python",
   "nbconvert_exporter": "python",
   "pygments_lexer": "ipython3",
   "version": "3.7.6"
  }
 },
 "nbformat": 4,
 "nbformat_minor": 4
}
