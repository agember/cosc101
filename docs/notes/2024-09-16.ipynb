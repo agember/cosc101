{
 "cells": [
  {
   "cell_type": "markdown",
   "id": "418f2156",
   "metadata": {
    "editable": true,
    "slideshow": {
     "slide_type": "skip"
    },
    "tags": []
   },
   "source": [
    "# Functions: docstrings; (de)composition\n",
    "_COSC 101, Introduction to Computing I, 2024-09-16_"
   ]
  },
  {
   "cell_type": "markdown",
   "id": "ba521109",
   "metadata": {
    "editable": true,
    "slideshow": {
     "slide_type": "skip"
    },
    "tags": []
   },
   "source": [
    "## Announcements\n",
    "* Homework 2 due Thursday at 11:59pm"
   ]
  },
  {
   "cell_type": "markdown",
   "id": "4e0b409d-95ff-4232-91e8-a7c91cfccb60",
   "metadata": {
    "editable": true,
    "slideshow": {
     "slide_type": "slide"
    },
    "tags": []
   },
   "source": [
    "## Docstrings"
   ]
  },
  {
   "cell_type": "markdown",
   "id": "62636ee2-3579-430b-a7d7-4d7fdc8665b7",
   "metadata": {
    "editable": true,
    "slideshow": {
     "slide_type": "skip"
    },
    "tags": [
     "notes-only"
    ]
   },
   "source": [
    "* Special category of comment that summarizes what a function does\n",
    "* A triple-double-quoted (`\"\"\"`) string placed directly after the function header\n",
    "* Example:"
   ]
  },
  {
   "cell_type": "code",
   "execution_count": 1,
   "id": "5cba594d-76a4-4785-b69c-004f1fb748d1",
   "metadata": {
    "editable": true,
    "slideshow": {
     "slide_type": ""
    },
    "tags": []
   },
   "outputs": [],
   "source": [
    "def convert_to_meters(feet: int, inches: int) -> float:\n",
    "    \"\"\"\n",
    "    Converts a length in feet and inches to meters\n",
    "\n",
    "    Parameters:\n",
    "        feet: feet component of length\n",
    "        inches: inches component of length\n",
    "    Returns:\n",
    "        length in meters\n",
    "    \"\"\"\n",
    "    feet = feet + inches / 12\n",
    "    return feet * 0.3058"
   ]
  },
  {
   "cell_type": "markdown",
   "id": "ba5a6234-17c7-4c90-8960-a46aaecdf304",
   "metadata": {
    "editable": true,
    "slideshow": {
     "slide_type": "skip"
    },
    "tags": [
     "notes-only"
    ]
   },
   "source": [
    "* A good docstring should:\n",
    "    * Include a useful summary\n",
    "        * Bad example: `Performs conversion`\n",
    "    * Include a concise summary — a short sentence summarizing the behavior\n",
    "        * Bad example: `This function converts the length measurement to feet and multiplies the feet by 0.3058 to get the length in meters.`\n",
    "    * Not describe the lines of code in the function body\n",
    "        * Bad example: `Adds feet to inches divided by 12 and multiplies by 0.3058`\n",
    "    * Include all parameters with a short description of each\n",
    "        * Bad example: `Parameters: feet, inches`\n",
    "        * Bad example: `feet: a length measured in the United States customary measurement feet, in which 12 inches are in one foot`\n",
    "        * Good parameter names are also important\n",
    "            * Bad example: `f` and `i`\n",
    "            * Bad example: `length_in_feet` and `length_in_inches`\n",
    "    * Include a short description of what the function returns\n",
    "         * Bad example: `The result of converting inches to feet and feet to meters`"
   ]
  },
  {
   "cell_type": "markdown",
   "id": "b6ab0dcc-e58e-4a8a-8a74-3dab0407cb75",
   "metadata": {
    "editable": true,
    "slideshow": {
     "slide_type": "subslide"
    },
    "tags": [
     "question"
    ]
   },
   "source": [
    "_Write a good docstring for each of the following functions_"
   ]
  },
  {
   "cell_type": "code",
   "execution_count": null,
   "id": "b3f327f7-1658-40e4-b728-d70d820bba21",
   "metadata": {
    "editable": true,
    "slideshow": {
     "slide_type": "fragment"
    },
    "tags": []
   },
   "outputs": [],
   "source": [
    "import math\n",
    "def funcA(radius: float) -> float:\n",
    "    return math.pi * (radius ** 2)"
   ]
  },
  {
   "cell_type": "code",
   "execution_count": null,
   "id": "209a2358-3e47-4b22-98ef-80161617cdc8",
   "metadata": {
    "editable": true,
    "slideshow": {
     "slide_type": "skip"
    },
    "tags": [
     "answer"
    ]
   },
   "outputs": [],
   "source": [
    "\"\"\"\n",
    "Computes the area of a circle\n",
    "\n",
    "Parameters:\n",
    "    radius: circle's radius\n",
    "Returns:\n",
    "    area of the circle\n",
    "\"\"\""
   ]
  },
  {
   "cell_type": "markdown",
   "id": "8109977b-82c6-45d1-ad4d-657326df9921",
   "metadata": {
    "editable": true,
    "slideshow": {
     "slide_type": "skip"
    },
    "tags": [
     "blank"
    ]
   },
   "source": [
    "```\n",
    "\n",
    "\n",
    "\n",
    "\n",
    "\n",
    "\n",
    "\n",
    "```"
   ]
  },
  {
   "cell_type": "code",
   "execution_count": 3,
   "id": "ed8030f3-598b-4f44-aec8-a3f645710f6f",
   "metadata": {
    "editable": true,
    "slideshow": {
     "slide_type": "fragment"
    },
    "tags": []
   },
   "outputs": [],
   "source": [
    "def funcB(hours: int, minutes: int, seconds: int) -> int:\n",
    "    minutes = minutes + (hours * 60)\n",
    "    seconds = seconds + (minutes * 60)\n",
    "    return seconds"
   ]
  },
  {
   "cell_type": "code",
   "execution_count": null,
   "id": "ccc71d42-ed53-4d1b-b6ba-e52624e77900",
   "metadata": {
    "editable": true,
    "slideshow": {
     "slide_type": "skip"
    },
    "tags": [
     "notes-only",
     "answer"
    ]
   },
   "outputs": [],
   "source": [
    "\"\"\"\n",
    "Converts a time in hours, minutes, and seconds to seconds\n",
    "\n",
    "Parameters:\n",
    "    hours: hours component of time\n",
    "    minutes: minutes component of time\n",
    "    seconds: seconds component of time\n",
    "Returns:\n",
    "    the time in seconds\n",
    "\"\"\""
   ]
  },
  {
   "cell_type": "markdown",
   "id": "c53200f2-fb88-4dd9-b57d-ba97410ff18a",
   "metadata": {
    "editable": true,
    "slideshow": {
     "slide_type": "skip"
    },
    "tags": [
     "blank"
    ]
   },
   "source": [
    "```\n",
    "\n",
    "\n",
    "\n",
    "\n",
    "\n",
    "\n",
    "\n",
    "```\n",
    "\n",
    "🛑 **STOP here** after completing the docstrings; if you have extra time **skip** to the extra practice."
   ]
  },
  {
   "cell_type": "markdown",
   "id": "cc66a6bf-e803-4040-8686-cdb8ff90efdf",
   "metadata": {
    "editable": true,
    "slideshow": {
     "slide_type": "slide"
    },
    "tags": []
   },
   "source": [
    "## Decomposition and composition"
   ]
  },
  {
   "cell_type": "markdown",
   "id": "d6631e84-bd69-4bf6-a092-c258f662b9d2",
   "metadata": {
    "editable": true,
    "slideshow": {
     "slide_type": "skip"
    },
    "tags": [
     "notes-only"
    ]
   },
   "source": [
    "* Already discussed decomposition as a motivation for functions – remember the cupcake recipe with ingredients and directions?\n",
    "* Already been using composition by...\n",
    "    * Calling built-in functions (e.g., `print`) from functions we wrote\n",
    "    * Writing a `main` function that calls functions we wrote"
   ]
  },
  {
   "cell_type": "markdown",
   "id": "ea65c207-3e25-4a07-af16-737b4bd55072",
   "metadata": {
    "editable": true,
    "slideshow": {
     "slide_type": ""
    },
    "tags": [
     "question"
    ]
   },
   "source": [
    "_A person's taxable income is their annual income minus eligible deductions (e.g., contributions to charity and a traditional individual retirement account (IRA)). Write a `main` function that uses built-in funtions and the functions below to compute a person's taxable income._"
   ]
  },
  {
   "cell_type": "code",
   "execution_count": null,
   "id": "f3ec9714-d8f9-4bd3-9e2b-14994efed405",
   "metadata": {
    "editable": true,
    "slideshow": {
     "slide_type": ""
    },
    "tags": []
   },
   "outputs": [],
   "source": [
    "def compute_deductions() -> float:\n",
    "    \"\"\"\n",
    "    Calculate total deduction\n",
    "\n",
    "    Return:\n",
    "        user's total deducation\n",
    "    \"\"\"\n",
    "    monthly = float(input(\"How much did you contribute to charity each month? $\"))\n",
    "    charity = monthly * 12\n",
    "    monthly = float(input(\"How much did you contribute to a tradtional IRA each month? $\"))\n",
    "    ira = monthly * 12\n",
    "    total = charity + ira\n",
    "    return total\n",
    "\n",
    "def taxable(income: float, deductions: float) -> float:\n",
    "    \"\"\"\n",
    "    Calculate taxable income\n",
    "\n",
    "    Parameters:\n",
    "        income: annual income\n",
    "        deductions: total deductions\n",
    "    Return:\n",
    "        taxable income\n",
    "    \"\"\"\n",
    "    taxable = income - deductions\n",
    "    return taxable"
   ]
  },
  {
   "cell_type": "code",
   "execution_count": 11,
   "id": "7f11d761-4d3e-4306-8e9c-75447f59b84e",
   "metadata": {
    "editable": true,
    "slideshow": {
     "slide_type": ""
    },
    "tags": [
     "answer"
    ]
   },
   "outputs": [
    {
     "name": "stdin",
     "output_type": "stream",
     "text": [
      "How much did you earn last year? $ 50000\n",
      "How much did you contribute to charity each month?  50\n",
      "How much did you contribute to a traditional IRA each month?  100\n"
     ]
    },
    {
     "name": "stdout",
     "output_type": "stream",
     "text": [
      "Your taxable income is $48200.0\n"
     ]
    }
   ],
   "source": [
    "def main():\n",
    "    income = float(input(\"How much did you earn last year? $\"))\n",
    "    deductions = compute_deductions()\n",
    "    net = taxable(income, deductions)\n",
    "    print(\"Your taxable income is $\"+str(net))\n",
    "\n",
    "main()"
   ]
  },
  {
   "cell_type": "markdown",
   "id": "c8c0c55a-62ca-45c3-9cc1-f674c4c7bcb1",
   "metadata": {
    "editable": true,
    "slideshow": {
     "slide_type": "skip"
    },
    "tags": [
     "blank"
    ]
   },
   "source": [
    "```\n",
    "\n",
    "\n",
    "\n",
    "\n",
    "\n",
    "\n",
    "\n",
    "\n",
    "\n",
    "\n",
    "```\n",
    "\n",
    "<div style=\"page-break-after:always;\"></div>"
   ]
  },
  {
   "cell_type": "markdown",
   "id": "daf17f9a-23d1-48b0-b395-ce639b04d812",
   "metadata": {
    "editable": true,
    "slideshow": {
     "slide_type": "subslide"
    },
    "tags": [
     "question"
    ]
   },
   "source": [
    "_Decompose the task of computing total deductions into subproblems and look for patterns. Write a new function based on the identified subproblems and patterns, and re-write the `compute_deductions` function to use your new function. Your re-written `compute_deductions` function should not require any changes to the `main` function your wrote above._"
   ]
  },
  {
   "cell_type": "code",
   "execution_count": 10,
   "id": "6753fe0f-9cda-424e-9d9f-6fc99e40b7bf",
   "metadata": {
    "editable": true,
    "slideshow": {
     "slide_type": ""
    },
    "tags": [
     "answer"
    ]
   },
   "outputs": [
    {
     "name": "stdin",
     "output_type": "stream",
     "text": [
      "How much did you earn last year?  50000\n",
      "How much did you contribute to charity each month?  50\n",
      "How much did you contribute to a traditional IRA each month?  100\n"
     ]
    },
    {
     "name": "stdout",
     "output_type": "stream",
     "text": [
      "Your taxable income is $48200.0\n"
     ]
    }
   ],
   "source": [
    "def contribute(thing: str) -> float:\n",
    "    \"\"\"\n",
    "    Determine user's annual contributions to something\n",
    "\n",
    "    Parameters:\n",
    "        item: item to which the user contributed\n",
    "    Return:\n",
    "        amount user contributed in a year\n",
    "    \"\"\"\n",
    "    monthly = float(input(\"How much did you contribute to \"+thing+\" each month? $\"))\n",
    "    annually = monthly * 12\n",
    "    return annually\n",
    "    \n",
    "def compute_deductions() -> float:\n",
    "    \"\"\"\n",
    "    Calculate total deduction based on contributions\n",
    "\n",
    "    Return:\n",
    "        user's total deducation\n",
    "    \"\"\"\n",
    "    charity = contribute(\"charity\")\n",
    "    ira = contribute(\"a traditional IRA\")\n",
    "    total = charity + ira\n",
    "    return total"
   ]
  },
  {
   "cell_type": "markdown",
   "id": "8c945a5c-29c1-42cd-9038-739f40bb0f8b",
   "metadata": {
    "editable": true,
    "slideshow": {
     "slide_type": "skip"
    },
    "tags": [
     "blank"
    ]
   },
   "source": [
    "```\n",
    "\n",
    "\n",
    "\n",
    "\n",
    "\n",
    "\n",
    "\n",
    "\n",
    "\n",
    "\n",
    "\n",
    "\n",
    "\n",
    "\n",
    "\n",
    "\n",
    "\n",
    "\n",
    "\n",
    "\n",
    "\n",
    "\n",
    "\n",
    "\n",
    "\n",
    "```"
   ]
  },
  {
   "cell_type": "markdown",
   "id": "852f0b9c-b31b-4831-a86d-2a286e316ef5",
   "metadata": {
    "editable": true,
    "slideshow": {
     "slide_type": "slide"
    },
    "tags": []
   },
   "source": [
    "## Extra practice"
   ]
  },
  {
   "cell_type": "markdown",
   "id": "4e365e63-1427-496d-a07d-bed198105cd6",
   "metadata": {
    "editable": true,
    "slideshow": {
     "slide_type": ""
    },
    "tags": [
     "question"
    ]
   },
   "source": [
    "_What is the output of this program? (Remember to draw a reference diagram!)_"
   ]
  },
  {
   "cell_type": "code",
   "execution_count": 7,
   "id": "a9b12674-7d52-40f5-8f21-b583cbc0423a",
   "metadata": {
    "editable": true,
    "slideshow": {
     "slide_type": ""
    },
    "tags": [
     "worksheet-code-only"
    ]
   },
   "outputs": [
    {
     "name": "stdout",
     "output_type": "stream",
     "text": [
      "49\n"
     ]
    }
   ],
   "source": [
    "def alpha(x: int, y: int) -> int:\n",
    "    return x + y\n",
    "\n",
    "def beta(x: int) -> int:\n",
    "    z = alpha(x, 3)\n",
    "    return z**2\n",
    "\n",
    "def main() -> None:\n",
    "    i = 4\n",
    "    print(beta(i))\n",
    "\n",
    "main()"
   ]
  },
  {
   "cell_type": "markdown",
   "id": "bbc28696-c651-47b1-840a-ebf59e39a6bd",
   "metadata": {
    "editable": true,
    "slideshow": {
     "slide_type": ""
    },
    "tags": [
     "blank"
    ]
   },
   "source": [
    "```\n",
    "\n",
    "\n",
    "```"
   ]
  },
  {
   "cell_type": "markdown",
   "id": "ea241ebd-d068-40df-972f-d860f1c4e09a",
   "metadata": {
    "editable": true,
    "slideshow": {
     "slide_type": ""
    },
    "tags": [
     "question"
    ]
   },
   "source": [
    "_What is the output of this program? (Remember to draw a reference diagram!)_"
   ]
  },
  {
   "cell_type": "code",
   "execution_count": 1,
   "id": "3a93663c-6d7f-45ee-999e-6ffe23bfb83d",
   "metadata": {
    "editable": true,
    "slideshow": {
     "slide_type": ""
    },
    "tags": [
     "worksheet-code-only"
    ]
   },
   "outputs": [
    {
     "name": "stdout",
     "output_type": "stream",
     "text": [
      "A B\n",
      "AB\n",
      "B A\n",
      "A B None\n"
     ]
    }
   ],
   "source": [
    "def func1(x, y):\n",
    "    print(x, y)\n",
    "    return x + y\n",
    "\n",
    "def func2(x, y):\n",
    "    z = x\n",
    "    x = y\n",
    "    y = z\n",
    "    print(x, y)\n",
    "\n",
    "def main():\n",
    "    x = \"A\"\n",
    "    y = \"B\"\n",
    "    result1 = func1(x, y)\n",
    "    print(result1)\n",
    "    result2 = func2(x, y)\n",
    "    print(x, y, result2)\n",
    "\n",
    "main()"
   ]
  },
  {
   "cell_type": "markdown",
   "id": "1174ce38-5add-412a-9b94-0c1f752201c1",
   "metadata": {
    "editable": true,
    "slideshow": {
     "slide_type": "skip"
    },
    "tags": [
     "blank"
    ]
   },
   "source": [
    "```\n",
    "\n",
    "\n",
    "\n",
    "\n",
    "\n",
    "```"
   ]
  },
  {
   "cell_type": "markdown",
   "id": "c1ead8cd-88d3-4dbb-a17a-0ed99e1f1568",
   "metadata": {
    "editable": true,
    "slideshow": {
     "slide_type": ""
    },
    "tags": [
     "question"
    ]
   },
   "source": [
    "_Add type annotations to the functions in the program above._"
   ]
  },
  {
   "cell_type": "markdown",
   "id": "908f3fe1-d335-42eb-80ac-fb2e4a052a3e",
   "metadata": {
    "editable": true,
    "slideshow": {
     "slide_type": "subslide"
    },
    "tags": [
     "question"
    ]
   },
   "source": [
    "_Label each of the following in the program below:_\n",
    "1. Function bodies\n",
    "2. Function calls\n",
    "3. Function definitions\n",
    "4. Arguments\n",
    "5. Parameters\n",
    "6. Return types"
   ]
  },
  {
   "cell_type": "code",
   "execution_count": 6,
   "id": "1f2fb92d-9631-4b70-8d35-793cc99156ed",
   "metadata": {
    "editable": true,
    "slideshow": {
     "slide_type": ""
    },
    "tags": [
     "worksheet-code-only"
    ]
   },
   "outputs": [
    {
     "name": "stdout",
     "output_type": "stream",
     "text": [
      "5 20\n"
     ]
    }
   ],
   "source": [
    "def update(x: int) -> int:\n",
    "    \n",
    "    x = x * 2\n",
    "    \n",
    "    return x * 2\n",
    "\n",
    "def main() -> None:\n",
    "    \n",
    "    a = 5\n",
    "    \n",
    "    b = update(a)\n",
    "    \n",
    "    print(a, b)\n",
    "\n",
    "main()"
   ]
  },
  {
   "cell_type": "code",
   "execution_count": null,
   "id": "8b0d6439-eacf-4e7d-9164-69fe46dfe5da",
   "metadata": {
    "editable": true,
    "slideshow": {
     "slide_type": "skip"
    },
    "tags": [
     "answer"
    ]
   },
   "outputs": [],
   "source": [
    "def update(x: int) -> int: # Function definition; x is a parameter; None is the return type\n",
    "    x = x * 2       # Function body\n",
    "    return x * 2    # Function body\n",
    "\n",
    "def main() -> None: # Function definition; None is the return type\n",
    "    a = 5           # Function body\n",
    "    b = update(a)   # Function body; function call; a is an argument\n",
    "    print(a, b)     # Function body; function call; a and b are arguments\n",
    "\n",
    "main() # Function call"
   ]
  }
 ],
 "metadata": {
  "celltoolbar": "Tags",
  "kernelspec": {
   "display_name": "Python 3 (ipykernel)",
   "language": "python",
   "name": "python3"
  },
  "language_info": {
   "codemirror_mode": {
    "name": "ipython",
    "version": 3
   },
   "file_extension": ".py",
   "mimetype": "text/x-python",
   "name": "python",
   "nbconvert_exporter": "python",
   "pygments_lexer": "ipython3",
   "version": "3.9.6"
  }
 },
 "nbformat": 4,
 "nbformat_minor": 5
}
