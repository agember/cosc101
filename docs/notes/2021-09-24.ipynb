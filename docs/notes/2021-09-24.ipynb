{
 "cells": [
  {
   "cell_type": "markdown",
   "id": "c26c73ab-0af1-49bd-81c6-bccf9ec56c62",
   "metadata": {
    "slideshow": {
     "slide_type": "skip"
    },
    "tags": []
   },
   "source": [
    "# Defining functions; calling functions; returning values\n",
    "_COSC 101, Introduction to Computing I, 2021-09-24_"
   ]
  },
  {
   "cell_type": "markdown",
   "id": "71164517-66ee-4057-b267-fb8adc591fc8",
   "metadata": {
    "slideshow": {
     "slide_type": "skip"
    },
    "tags": []
   },
   "source": [
    "## Announcements\n",
    "* Homework 3 due Thursday"
   ]
  },
  {
   "cell_type": "markdown",
   "id": "557fc7d2-b7e2-4f10-8895-153747abd351",
   "metadata": {
    "slideshow": {
     "slide_type": "skip"
    },
    "tags": [
     "notes-only"
    ]
   },
   "source": [
    "## Outline\n",
    "* Defining functions\n",
    "* Calling functions\n",
    "* Executing functions\n",
    "* Returning values"
   ]
  },
  {
   "cell_type": "markdown",
   "id": "30c73df3-7e43-43df-a6f8-4ee3225e24bc",
   "metadata": {
    "slideshow": {
     "slide_type": "slide"
    },
    "tags": []
   },
   "source": [
    "## No warm-up — Happy Friday!"
   ]
  },
  {
   "cell_type": "markdown",
   "id": "39ac175b-34dc-4f6c-b6f9-05c00c312b11",
   "metadata": {
    "slideshow": {
     "slide_type": "slide"
    },
    "tags": []
   },
   "source": [
    "## Defining functions"
   ]
  },
  {
   "cell_type": "markdown",
   "id": "0c8e867b-e67d-4482-ba73-c05e71aad68c",
   "metadata": {
    "slideshow": {
     "slide_type": "skip"
    },
    "tags": [
     "notes-only"
    ]
   },
   "source": [
    "### Overview\n",
    "* _Recall: what is a function?_ — a set of statements that are referred to by a given name\n",
    "* Thus far we have only used functions provided by Python (modules) — e.g., `str`, `type`, `print`, `input`, `random.randint`\n",
    "* _Why would we want to write our own functions?_\n",
    "    * Organize program into chunks that mirror how we decompose the problem/solution\n",
    "        * Recall: decomposition (breaking a problem into sub-problems) is the first step of computational thinking\n",
    "        * Recall: a good programming practice is to decompose the solution and implement one step at a time\n",
    "    * Avoid duplicating code at multiple points in a program\n",
    "        * A `for` loop only avoids duplicating code at a single point in a program\n",
    "* _How would we write a function that takes a time in minutes and time in seconds and prints whether the time in minutes is greater than, less than, or equal to the time in seconds?_"
   ]
  },
  {
   "cell_type": "code",
   "execution_count": 32,
   "id": "d04ac2c5-2272-4f8d-8880-a76db53d1fbe",
   "metadata": {
    "slideshow": {
     "slide_type": "skip"
    },
    "tags": [
     "notes-only"
    ]
   },
   "outputs": [],
   "source": [
    "def compare_time(minutes, seconds):\n",
    "    # minutes = 2\n",
    "    # seconds = sec\n",
    "    if (minutes * 60 < seconds):\n",
    "        comparison = \"is less than\"\n",
    "    elif (minutes * 60 > seconds):\n",
    "        comparison = \"is greater than\"\n",
    "    else:\n",
    "        comparison = \"equals\"\n",
    "    print(minutes, \"minutes\", comparison, seconds, \"seconds\")"
   ]
  },
  {
   "cell_type": "markdown",
   "id": "abff0913-edb6-44a5-a384-69bd6dc20b4b",
   "metadata": {
    "slideshow": {
     "slide_type": "skip"
    },
    "tags": [
     "notes-only"
    ]
   },
   "source": [
    "* Parameters — values a function needs to do its job\n",
    "* Statements in the function body are **not** executed until the function is called"
   ]
  },
  {
   "cell_type": "markdown",
   "id": "30716c99-5eb9-493e-a919-881cb1586176",
   "metadata": {
    "slideshow": {
     "slide_type": "skip"
    },
    "tags": [
     "notes-only"
    ]
   },
   "source": [
    "### Practice"
   ]
  },
  {
   "cell_type": "markdown",
   "id": "57f19a84-3da6-4349-8c98-cfbd35ae0abf",
   "metadata": {},
   "source": [
    "_Which of the following are valid function definitions? If a definition is invalid, describe what is wrong._"
   ]
  },
  {
   "cell_type": "code",
   "execution_count": 5,
   "id": "8b44ac22-2f35-4122-b020-b3701e8fe0e2",
   "metadata": {
    "tags": [
     "worksheet-code-only"
    ]
   },
   "outputs": [],
   "source": [
    "#1)\n",
    "def greet(name):\n",
    "    print(\"Hello \" + name)"
   ]
  },
  {
   "cell_type": "markdown",
   "id": "a5ff3e74-c323-49ce-b500-c1e94a4f6031",
   "metadata": {
    "slideshow": {
     "slide_type": "skip"
    },
    "tags": [
     "notes-only"
    ]
   },
   "source": [
    "Valid — function definition starts with `def` keyword; function name conforms to the rules of a variable name; parameters are enclosed in parenthesis; function body is indented"
   ]
  },
  {
   "cell_type": "markdown",
   "id": "b4211ad4-ed5f-4a85-ab37-fd16bf56eac8",
   "metadata": {
    "slideshow": {
     "slide_type": "skip"
    },
    "tags": [
     "worksheet-only"
    ]
   },
   "source": [
    "```\n",
    "\n",
    "```"
   ]
  },
  {
   "cell_type": "code",
   "execution_count": 45,
   "id": "3d8fe17f-1de6-4395-899c-d508ba932fff",
   "metadata": {
    "slideshow": {
     "slide_type": "fragment"
    },
    "tags": [
     "worksheet-code-only"
    ]
   },
   "outputs": [
    {
     "ename": "SyntaxError",
     "evalue": "invalid syntax (728649032.py, line 2)",
     "output_type": "error",
     "traceback": [
      "\u001b[0;36m  File \u001b[0;32m\"/var/folders/bd/35sz70xs5837wszrx11bw1yc0000gn/T/ipykernel_19499/728649032.py\"\u001b[0;36m, line \u001b[0;32m2\u001b[0m\n\u001b[0;31m    def welcome:\u001b[0m\n\u001b[0m               ^\u001b[0m\n\u001b[0;31mSyntaxError\u001b[0m\u001b[0;31m:\u001b[0m invalid syntax\n"
     ]
    }
   ],
   "source": [
    "#2)\n",
    "def welcome:\n",
    "    print(\"Welcome to Colgate\")"
   ]
  },
  {
   "cell_type": "markdown",
   "id": "ed8a0385-8579-4b79-b446-20d37ac5e080",
   "metadata": {
    "slideshow": {
     "slide_type": "skip"
    },
    "tags": [
     "notes-only"
    ]
   },
   "source": [
    "Invalid — missing parenthesis after function name"
   ]
  },
  {
   "cell_type": "markdown",
   "id": "dda73100-e8b5-4db8-9b8b-eeb1d2a7449b",
   "metadata": {
    "slideshow": {
     "slide_type": "skip"
    },
    "tags": [
     "worksheet-only"
    ]
   },
   "source": [
    "```\n",
    "\n",
    "```"
   ]
  },
  {
   "cell_type": "code",
   "execution_count": 46,
   "id": "1fa0f2e1-1ed1-4f2b-b7b5-74c49fa60f9d",
   "metadata": {
    "slideshow": {
     "slide_type": "fragment"
    },
    "tags": [
     "worksheet-code-only"
    ]
   },
   "outputs": [
    {
     "ename": "SyntaxError",
     "evalue": "invalid syntax (2203606384.py, line 2)",
     "output_type": "error",
     "traceback": [
      "\u001b[0;36m  File \u001b[0;32m\"/var/folders/bd/35sz70xs5837wszrx11bw1yc0000gn/T/ipykernel_19499/2203606384.py\"\u001b[0;36m, line \u001b[0;32m2\u001b[0m\n\u001b[0;31m    def year()\u001b[0m\n\u001b[0m              ^\u001b[0m\n\u001b[0;31mSyntaxError\u001b[0m\u001b[0;31m:\u001b[0m invalid syntax\n"
     ]
    }
   ],
   "source": [
    "#3)\n",
    "def year()\n",
    "    print(\"It is 2021\")"
   ]
  },
  {
   "cell_type": "markdown",
   "id": "096854de-5b74-4b74-ae70-acaf717f90d2",
   "metadata": {
    "slideshow": {
     "slide_type": "skip"
    },
    "tags": [
     "notes-only"
    ]
   },
   "source": [
    "Invalid — missing colon after parenthesis"
   ]
  },
  {
   "cell_type": "markdown",
   "id": "dbdf29f0-30fa-4f1f-849a-35f4cb82da99",
   "metadata": {
    "slideshow": {
     "slide_type": "skip"
    },
    "tags": [
     "worksheet-only"
    ]
   },
   "source": [
    "```\n",
    "\n",
    "```"
   ]
  },
  {
   "cell_type": "code",
   "execution_count": 47,
   "id": "0c4a60d2-e475-4f95-96af-f9cd43daff0a",
   "metadata": {
    "slideshow": {
     "slide_type": "subslide"
    },
    "tags": [
     "worksheet-code-only"
    ]
   },
   "outputs": [
    {
     "ename": "SyntaxError",
     "evalue": "invalid syntax (1903050535.py, line 2)",
     "output_type": "error",
     "traceback": [
      "\u001b[0;36m  File \u001b[0;32m\"/var/folders/bd/35sz70xs5837wszrx11bw1yc0000gn/T/ipykernel_19499/1903050535.py\"\u001b[0;36m, line \u001b[0;32m2\u001b[0m\n\u001b[0;31m    def mid-autumn-festival():\u001b[0m\n\u001b[0m           ^\u001b[0m\n\u001b[0;31mSyntaxError\u001b[0m\u001b[0;31m:\u001b[0m invalid syntax\n"
     ]
    }
   ],
   "source": [
    "#4)\n",
    "def mid-autumn-festival():\n",
    "    print(\"September 21 was the Mid-Autumn Festival \")"
   ]
  },
  {
   "cell_type": "markdown",
   "id": "ddd9a315-1825-4747-976e-107694388896",
   "metadata": {
    "slideshow": {
     "slide_type": "skip"
    },
    "tags": [
     "notes-only"
    ]
   },
   "source": [
    "Invalid — cannot include `-` in function name"
   ]
  },
  {
   "cell_type": "markdown",
   "id": "02cccb1b-d25b-42fe-912c-98687fe3960c",
   "metadata": {
    "slideshow": {
     "slide_type": "skip"
    },
    "tags": [
     "worksheet-only"
    ]
   },
   "source": [
    "```\n",
    "\n",
    "```"
   ]
  },
  {
   "cell_type": "code",
   "execution_count": 48,
   "id": "f142005f-0871-4cdd-a83f-631143fc6126",
   "metadata": {
    "slideshow": {
     "slide_type": "fragment"
    },
    "tags": [
     "worksheet-code-only"
    ]
   },
   "outputs": [],
   "source": [
    "#5)\n",
    "def sports(a, b):\n",
    "    print(\"Do you like to play \" + a + \" or \" + b + \"?\")"
   ]
  },
  {
   "cell_type": "markdown",
   "id": "8ac0ee72-70d4-4e4f-9d1c-451fd5abcfaf",
   "metadata": {
    "slideshow": {
     "slide_type": "skip"
    },
    "tags": [
     "notes-only"
    ]
   },
   "source": [
    "Valid — paremters separated by commas"
   ]
  },
  {
   "cell_type": "markdown",
   "id": "313b0730-d4b6-4646-b797-ffd94776691b",
   "metadata": {
    "slideshow": {
     "slide_type": "skip"
    },
    "tags": [
     "worksheet-only"
    ]
   },
   "source": [
    "```\n",
    "\n",
    "```"
   ]
  },
  {
   "cell_type": "code",
   "execution_count": 49,
   "id": "c942cdfd-a5b4-493f-ad18-bf32d3b29972",
   "metadata": {
    "slideshow": {
     "slide_type": "fragment"
    },
    "tags": [
     "worksheet-code-only"
    ]
   },
   "outputs": [
    {
     "ename": "SyntaxError",
     "evalue": "invalid syntax (4055639592.py, line 2)",
     "output_type": "error",
     "traceback": [
      "\u001b[0;36m  File \u001b[0;32m\"/var/folders/bd/35sz70xs5837wszrx11bw1yc0000gn/T/ipykernel_19499/4055639592.py\"\u001b[0;36m, line \u001b[0;32m2\u001b[0m\n\u001b[0;31m    watch(c):\u001b[0m\n\u001b[0m             ^\u001b[0m\n\u001b[0;31mSyntaxError\u001b[0m\u001b[0;31m:\u001b[0m invalid syntax\n"
     ]
    }
   ],
   "source": [
    "#6)\n",
    "watch(c):\n",
    "    print(\"Did you watch \" + c + \" yesterday?\")"
   ]
  },
  {
   "cell_type": "markdown",
   "id": "aa2ce659-198b-4e1d-8648-0b3eb7b8eeb4",
   "metadata": {
    "slideshow": {
     "slide_type": "skip"
    },
    "tags": [
     "notes-only"
    ]
   },
   "source": [
    "Invalid — missing `def` keyword"
   ]
  },
  {
   "cell_type": "markdown",
   "id": "202b6cfe-266d-4fd3-9d65-0f6494909837",
   "metadata": {
    "slideshow": {
     "slide_type": "skip"
    },
    "tags": [
     "worksheet-only"
    ]
   },
   "source": [
    "```\n",
    "\n",
    "```\n",
    "🛑 **STOP HERE** after completing the above questions; please **DO NOT WORK AHEAD**. If you have extra time, take a few deep breaths to help reduce stress.\n",
    "<div style=\"page-break-after:always;\"></div>"
   ]
  },
  {
   "cell_type": "markdown",
   "id": "9647bb1d-432c-43d6-ac3e-fd8a03b92c10",
   "metadata": {
    "slideshow": {
     "slide_type": "slide"
    },
    "tags": []
   },
   "source": [
    "## Calling functions"
   ]
  },
  {
   "cell_type": "markdown",
   "id": "ad27c8f6-a888-456b-90e6-3cd3727a8851",
   "metadata": {
    "slideshow": {
     "slide_type": "skip"
    },
    "tags": [
     "notes-only"
    ]
   },
   "source": [
    "### Overview\n",
    "* Function must be called in order for the statements it its body to be executed\n",
    "    * Function must be defined before it can be called\n",
    "* Arguments — values provided to a function\n",
    "    * Must match the number and order of parameters\n",
    "    * Functions implicitly start with statements that assign each argument to each parameter"
   ]
  },
  {
   "cell_type": "code",
   "execution_count": 20,
   "id": "59224466-d2b2-4cfb-8e7a-49dcb99845cb",
   "metadata": {
    "slideshow": {
     "slide_type": "skip"
    },
    "tags": [
     "notes-only"
    ]
   },
   "outputs": [
    {
     "name": "stdout",
     "output_type": "stream",
     "text": [
      "2 minutes equals 120 seconds\n"
     ]
    }
   ],
   "source": [
    "sec = 120\n",
    "compare_time(2, sec)"
   ]
  },
  {
   "cell_type": "markdown",
   "id": "ac9bf636-287b-43b7-8e75-3b8a43487ee8",
   "metadata": {
    "slideshow": {
     "slide_type": "skip"
    },
    "tags": [
     "notes-only"
    ]
   },
   "source": [
    "### Practice"
   ]
  },
  {
   "cell_type": "markdown",
   "id": "b9b0fd9e-c50b-4cf4-8c12-7e32798188e2",
   "metadata": {},
   "source": [
    "_Assume a program defines the following functions:_"
   ]
  },
  {
   "cell_type": "code",
   "execution_count": 21,
   "id": "71f42c69-50f9-4dc5-a038-d271406e3a38",
   "metadata": {},
   "outputs": [],
   "source": [
    "def greet(name):\n",
    "    print(\"Hello \" + name)\n",
    "\n",
    "def welcome():\n",
    "    print(\"Welcome to Hamilton\")\n",
    "\n",
    "def sports(a, b):\n",
    "    print(\"Do you like to play \" + a + \" or \" + b + \"?\")"
   ]
  },
  {
   "cell_type": "markdown",
   "id": "1a5c3e68-5d5d-4c76-b653-2b1ffee1d3a1",
   "metadata": {},
   "source": [
    "_Which of the following are valid function calls? If a call is invalid, describe what is wrong._"
   ]
  },
  {
   "cell_type": "code",
   "execution_count": 24,
   "id": "b71de05d-5123-4a0a-95fb-170cd8a60a20",
   "metadata": {
    "tags": [
     "worksheet-code-only"
    ]
   },
   "outputs": [
    {
     "name": "stdout",
     "output_type": "stream",
     "text": [
      "Hello Aaron\n"
     ]
    }
   ],
   "source": [
    "#1)\n",
    "greet(\"Aaron\")"
   ]
  },
  {
   "cell_type": "markdown",
   "id": "104ea1d3-9282-4ca3-8061-276bed9ac8b3",
   "metadata": {
    "slideshow": {
     "slide_type": "skip"
    },
    "tags": [
     "notes-only"
    ]
   },
   "source": [
    "Valid — function exists; arguments enclosed in parenthesis; number of arguments matches number of parameters"
   ]
  },
  {
   "cell_type": "markdown",
   "id": "b204ba8e-4bd0-4aaf-a9ef-4741dabaf0bf",
   "metadata": {
    "slideshow": {
     "slide_type": "skip"
    },
    "tags": [
     "worksheet-only"
    ]
   },
   "source": [
    "```\n",
    "```"
   ]
  },
  {
   "cell_type": "code",
   "execution_count": 25,
   "id": "250376ec-0e6a-4c27-be0a-d99f2e79267d",
   "metadata": {
    "slideshow": {
     "slide_type": "fragment"
    },
    "tags": [
     "worksheet-code-only"
    ]
   },
   "outputs": [
    {
     "data": {
      "text/plain": [
       "<function __main__.welcome()>"
      ]
     },
     "execution_count": 25,
     "metadata": {},
     "output_type": "execute_result"
    }
   ],
   "source": [
    "#2)\n",
    "welcome"
   ]
  },
  {
   "cell_type": "markdown",
   "id": "3709a56f-99cc-4dfb-9a22-5c87fd2a34a4",
   "metadata": {
    "slideshow": {
     "slide_type": "skip"
    },
    "tags": [
     "notes-only"
    ]
   },
   "source": [
    "Invalid — missing parenthesis"
   ]
  },
  {
   "cell_type": "markdown",
   "id": "9242b7bd-b2de-40c8-8c74-396fcecfb595",
   "metadata": {
    "slideshow": {
     "slide_type": "skip"
    },
    "tags": [
     "worksheet-only"
    ]
   },
   "source": [
    "```\n",
    "```"
   ]
  },
  {
   "cell_type": "code",
   "execution_count": 26,
   "id": "b03ed5c5-433a-4624-8b8b-c70d900894d5",
   "metadata": {
    "slideshow": {
     "slide_type": "subslide"
    },
    "tags": [
     "worksheet-code-only"
    ]
   },
   "outputs": [
    {
     "name": "stdout",
     "output_type": "stream",
     "text": [
      "Do you like to play basketball or lacrosse?\n"
     ]
    }
   ],
   "source": [
    "#3)\n",
    "sports(\"basketball\", \"lacrosse\")"
   ]
  },
  {
   "cell_type": "markdown",
   "id": "344b5ad3-5c82-4bef-bc58-6dc7d0813d4b",
   "metadata": {
    "slideshow": {
     "slide_type": "skip"
    },
    "tags": [
     "notes-only"
    ]
   },
   "source": [
    "Valid"
   ]
  },
  {
   "cell_type": "markdown",
   "id": "e0229dc8-ad75-476c-b83b-691429889727",
   "metadata": {
    "slideshow": {
     "slide_type": "skip"
    },
    "tags": [
     "worksheet-only"
    ]
   },
   "source": [
    "```\n",
    "```"
   ]
  },
  {
   "cell_type": "code",
   "execution_count": 27,
   "id": "7179c83e-b9fc-446b-bf36-40edbd23a113",
   "metadata": {
    "slideshow": {
     "slide_type": "fragment"
    },
    "tags": [
     "worksheet-code-only"
    ]
   },
   "outputs": [
    {
     "ename": "TypeError",
     "evalue": "greet() missing 1 required positional argument: 'name'",
     "output_type": "error",
     "traceback": [
      "\u001b[0;31m---------------------------------------------------------------------------\u001b[0m",
      "\u001b[0;31mTypeError\u001b[0m                                 Traceback (most recent call last)",
      "\u001b[0;32m/var/folders/bd/35sz70xs5837wszrx11bw1yc0000gn/T/ipykernel_19499/3902655829.py\u001b[0m in \u001b[0;36m<module>\u001b[0;34m\u001b[0m\n\u001b[1;32m      1\u001b[0m \u001b[0;31m#4)\u001b[0m\u001b[0;34m\u001b[0m\u001b[0;34m\u001b[0m\u001b[0;34m\u001b[0m\u001b[0m\n\u001b[0;32m----> 2\u001b[0;31m \u001b[0mgreet\u001b[0m\u001b[0;34m(\u001b[0m\u001b[0;34m)\u001b[0m\u001b[0;34m\u001b[0m\u001b[0;34m\u001b[0m\u001b[0m\n\u001b[0m",
      "\u001b[0;31mTypeError\u001b[0m: greet() missing 1 required positional argument: 'name'"
     ]
    }
   ],
   "source": [
    "#4)\n",
    "greet()"
   ]
  },
  {
   "cell_type": "markdown",
   "id": "262c09f5-33da-45bf-b0be-2bf192f85f48",
   "metadata": {
    "slideshow": {
     "slide_type": "skip"
    },
    "tags": [
     "notes-only"
    ]
   },
   "source": [
    "Invalid — number of arguments does not match number of parameters"
   ]
  },
  {
   "cell_type": "markdown",
   "id": "a370de9c-0fbc-4bdf-9ed4-3a23c55c893d",
   "metadata": {
    "slideshow": {
     "slide_type": "skip"
    },
    "tags": [
     "worksheet-only"
    ]
   },
   "source": [
    "```\n",
    "```"
   ]
  },
  {
   "cell_type": "code",
   "execution_count": 28,
   "id": "eea6ba6b-63e5-4e0b-a19e-2051bc1da5fb",
   "metadata": {
    "slideshow": {
     "slide_type": "fragment"
    },
    "tags": [
     "worksheet-code-only"
    ]
   },
   "outputs": [
    {
     "name": "stdout",
     "output_type": "stream",
     "text": [
      "Welcome to Hamilton\n"
     ]
    }
   ],
   "source": [
    "#5)\n",
    "welcome()"
   ]
  },
  {
   "cell_type": "markdown",
   "id": "d8f804a4-900b-4402-9fab-1f04d541cfd3",
   "metadata": {
    "slideshow": {
     "slide_type": "skip"
    },
    "tags": [
     "notes-only"
    ]
   },
   "source": [
    "Valid"
   ]
  },
  {
   "cell_type": "markdown",
   "id": "7aa638cc-c2f3-448e-8e9f-ccabed23772e",
   "metadata": {
    "slideshow": {
     "slide_type": "skip"
    },
    "tags": [
     "worksheet-only"
    ]
   },
   "source": [
    "```\n",
    "```"
   ]
  },
  {
   "cell_type": "code",
   "execution_count": 29,
   "id": "e0a69cd6-05c5-4854-ab87-1ec73662c630",
   "metadata": {
    "slideshow": {
     "slide_type": "fragment"
    },
    "tags": [
     "worksheet-code-only"
    ]
   },
   "outputs": [
    {
     "ename": "NameError",
     "evalue": "name 'tvshow' is not defined",
     "output_type": "error",
     "traceback": [
      "\u001b[0;31m---------------------------------------------------------------------------\u001b[0m",
      "\u001b[0;31mNameError\u001b[0m                                 Traceback (most recent call last)",
      "\u001b[0;32m/var/folders/bd/35sz70xs5837wszrx11bw1yc0000gn/T/ipykernel_19499/3471159768.py\u001b[0m in \u001b[0;36m<module>\u001b[0;34m\u001b[0m\n\u001b[1;32m      1\u001b[0m \u001b[0;31m#6)\u001b[0m\u001b[0;34m\u001b[0m\u001b[0;34m\u001b[0m\u001b[0;34m\u001b[0m\u001b[0m\n\u001b[0;32m----> 2\u001b[0;31m \u001b[0mtvshow\u001b[0m\u001b[0;34m(\u001b[0m\u001b[0;34m\"Tiny House Nation\"\u001b[0m\u001b[0;34m)\u001b[0m\u001b[0;34m\u001b[0m\u001b[0;34m\u001b[0m\u001b[0m\n\u001b[0m",
      "\u001b[0;31mNameError\u001b[0m: name 'tvshow' is not defined"
     ]
    }
   ],
   "source": [
    "#6)\n",
    "tvshow(\"Tiny House Nation\")"
   ]
  },
  {
   "cell_type": "markdown",
   "id": "d8181736-ee5c-467f-85bd-cf81b2ff32fb",
   "metadata": {
    "slideshow": {
     "slide_type": "skip"
    },
    "tags": [
     "notes-only"
    ]
   },
   "source": [
    "Invalid — function `tvshow` has not been defined"
   ]
  },
  {
   "cell_type": "markdown",
   "id": "d458ccde-73c5-4757-93ca-7c898cad81c9",
   "metadata": {
    "slideshow": {
     "slide_type": "skip"
    },
    "tags": [
     "worksheet-only"
    ]
   },
   "source": [
    "```\n",
    "```\n",
    "🛑 **STOP HERE** after completing the above questions; please **DO NOT WORK AHEAD**. If you have extra time, take a few deep breaths to help reduce stress."
   ]
  },
  {
   "cell_type": "markdown",
   "id": "79b2807f-6010-4c74-8d18-8ca3a0744a32",
   "metadata": {
    "slideshow": {
     "slide_type": "slide"
    },
    "tags": []
   },
   "source": [
    "## Executing functions"
   ]
  },
  {
   "cell_type": "markdown",
   "id": "ebb8c0fc-c06a-4862-a9bf-59a56fce3af5",
   "metadata": {
    "slideshow": {
     "slide_type": "skip"
    },
    "tags": [
     "notes-only"
    ]
   },
   "source": [
    "### Overview\n",
    "* When a function is called:\n",
    "    * The statements in the body of the function definition are executed in order\n",
    "    * After executing the last statement in the body, resume execution where the function was called"
   ]
  },
  {
   "cell_type": "markdown",
   "id": "44bb92d1-99e0-4d65-906d-cd4dcb58268d",
   "metadata": {
    "slideshow": {
     "slide_type": "skip"
    },
    "tags": []
   },
   "source": [
    "### Example"
   ]
  },
  {
   "cell_type": "code",
   "execution_count": 31,
   "id": "a6c20974-5419-4304-8502-1d3026a2820c",
   "metadata": {
    "tags": [
     "worksheet-code-only"
    ]
   },
   "outputs": [
    {
     "name": "stdout",
     "output_type": "stream",
     "text": [
      "before demoFn\n",
      "demoFn 1\n",
      "demoFn 2\n",
      "after demoFn\n"
     ]
    }
   ],
   "source": [
    "def demoFn():\n",
    "    print(\"demoFn 1\")\n",
    "    print(\"demoFn 2\")\n",
    "\n",
    "print(\"before demoFn\")\n",
    "demoFn()\n",
    "print(\"after demoFn\")"
   ]
  },
  {
   "cell_type": "markdown",
   "id": "11c9c0ec-e263-4f71-894b-562ddc6e3992",
   "metadata": {
    "slideshow": {
     "slide_type": "skip"
    },
    "tags": [
     "notes-only"
    ]
   },
   "source": [
    "![Flowchart for example](figures/functions/example_executing.png)"
   ]
  },
  {
   "cell_type": "markdown",
   "id": "a13405f4-036e-47d9-a716-7c8b9c959831",
   "metadata": {
    "slideshow": {
     "slide_type": "slide"
    },
    "tags": []
   },
   "source": [
    "<div style=\"page-break-after:always;\"></div>\n",
    "\n",
    "### Practice\n",
    "_For each of the following programs, indicate: (1) what the program outputs; (2) the order in which the statements will execute, starting with the `print(\"BEGIN\")` statement_"
   ]
  },
  {
   "cell_type": "code",
   "execution_count": 35,
   "id": "b94e3841-adb1-4fd6-8dca-f9364da30fc8",
   "metadata": {
    "tags": [
     "worksheet-code-only"
    ]
   },
   "outputs": [
    {
     "name": "stdout",
     "output_type": "stream",
     "text": [
      "BEGIN\n",
      "Double\n",
      "16\n",
      "Half\n",
      "4.0\n",
      "END\n"
     ]
    }
   ],
   "source": [
    "#1)\n",
    "def halve(a):        # Line 1\n",
    "    print(a / 2)     # Line 2\n",
    "    \n",
    "def double(b):       # Line 3\n",
    "    print(b * 2)     # Line 4\n",
    "\n",
    "print(\"BEGIN\")       # Line 5\n",
    "x = 8                # Line 6\n",
    "print(\"Double\")      # Line 7\n",
    "double(x)            # Line 8\n",
    "print(\"Half\")        # Line 9\n",
    "halve(x)             # Line 10\n",
    "print(\"END\")         # Line 11"
   ]
  },
  {
   "cell_type": "markdown",
   "id": "e493dd69-e69f-4659-964e-7f849f72bb7e",
   "metadata": {
    "slideshow": {
     "slide_type": "skip"
    },
    "tags": [
     "notes-only"
    ]
   },
   "source": [
    "5, 6, 7, 8, 3, 4, 9, 10, 1, 2, 11"
   ]
  },
  {
   "cell_type": "markdown",
   "id": "dd40a14f-315f-455f-809e-853b79636bf2",
   "metadata": {
    "slideshow": {
     "slide_type": "skip"
    },
    "tags": [
     "worksheet-only"
    ]
   },
   "source": [
    "```\n",
    "\n",
    "\n",
    "\n",
    "\n",
    "```"
   ]
  },
  {
   "cell_type": "code",
   "execution_count": 37,
   "id": "762d486c-7b4a-4f18-be8d-2e60c4e2be3e",
   "metadata": {
    "slideshow": {
     "slide_type": "subslide"
    },
    "tags": [
     "worksheet-code-only"
    ]
   },
   "outputs": [
    {
     "name": "stdout",
     "output_type": "stream",
     "text": [
      "BEGIN\n",
      "7\n",
      "11\n",
      "END\n"
     ]
    }
   ],
   "source": [
    "#2)\n",
    "def sum(a, b):       # Line 1\n",
    "    print(a + b)     # Line 2\n",
    "\n",
    "print(\"BEGIN\")       # Line 3\n",
    "sum(3, 4)            # Line 4\n",
    "x = 5                # Line 5\n",
    "y = 6                # Line 6\n",
    "sum(x, y)            # Line 7\n",
    "print(\"END\")         # Line 8"
   ]
  },
  {
   "cell_type": "markdown",
   "id": "e990881f-a414-4589-856e-0e631133d678",
   "metadata": {
    "slideshow": {
     "slide_type": "skip"
    },
    "tags": [
     "notes-only"
    ]
   },
   "source": [
    "3, 4, 1, 2, 5, 6, 7, 1, 2, 8"
   ]
  },
  {
   "cell_type": "markdown",
   "id": "e9ab6994-343d-40fe-a2d6-569f0552dc1f",
   "metadata": {
    "slideshow": {
     "slide_type": "skip"
    },
    "tags": [
     "worksheet-only"
    ]
   },
   "source": [
    "```\n",
    "\n",
    "\n",
    "\n",
    "```"
   ]
  },
  {
   "cell_type": "code",
   "execution_count": 51,
   "id": "c2af54e4-bccf-4d96-b12e-d2999231ebd2",
   "metadata": {
    "slideshow": {
     "slide_type": "subslide"
    },
    "tags": [
     "worksheet-code-only"
    ]
   },
   "outputs": [
    {
     "name": "stdout",
     "output_type": "stream",
     "text": [
      "BEGIN\n",
      "5\n",
      "6\n",
      "13\n",
      "END\n"
     ]
    }
   ],
   "source": [
    "#3)\n",
    "def add(a, b):       # Line 1     \n",
    "    print(a + b)     # Line 2\n",
    "    \n",
    "def sub(c, d):       # Line 3\n",
    "    print(c - d)     # Line 4\n",
    "\n",
    "print(\"BEGIN\")       # Line 5\n",
    "add(2, 3)            # Line 6\n",
    "x = 8                # Line 7\n",
    "y = 2                # Line 8\n",
    "sub(x, y)            # Line 9\n",
    "add(x + y, 1 + 2)    # Line 10\n",
    "print(\"END\")         # Line 11"
   ]
  },
  {
   "cell_type": "markdown",
   "id": "0513c01d-6f6a-4f9b-848d-0990ddeab679",
   "metadata": {
    "slideshow": {
     "slide_type": "skip"
    },
    "tags": [
     "notes-only"
    ]
   },
   "source": [
    "5, 6, 1, 2, 7, 8, 9, 3, 4, 10, 1, 2, 11"
   ]
  },
  {
   "cell_type": "markdown",
   "id": "7acebf0a-61bf-4c56-80b0-46c839405f6d",
   "metadata": {
    "slideshow": {
     "slide_type": "skip"
    },
    "tags": [
     "worksheet-only"
    ]
   },
   "source": [
    "```\n",
    "\n",
    "\n",
    "```"
   ]
  },
  {
   "cell_type": "code",
   "execution_count": 40,
   "id": "39e78f46-68b7-49d5-a8c4-7f27ea2f2d9a",
   "metadata": {
    "slideshow": {
     "slide_type": "subslide"
    },
    "tags": [
     "worksheet-code-only"
    ]
   },
   "outputs": [
    {
     "name": "stdout",
     "output_type": "stream",
     "text": [
      "BEGIN\n",
      "2\n",
      "END\n"
     ]
    }
   ],
   "source": [
    "#4)\n",
    "def increment(x):    # Line 1 \n",
    "    x = x + 1        # Line 2 \n",
    "\n",
    "print(\"BEGIN\")       # Line 3\n",
    "a = 2                # Line 4 \n",
    "increment(a)         # Line 5\n",
    "print(a)             # Line 6\n",
    "print(\"END\")         # Line 7"
   ]
  },
  {
   "cell_type": "markdown",
   "id": "be8ea61c-7e38-47d3-a05c-d9912f36b097",
   "metadata": {
    "slideshow": {
     "slide_type": "skip"
    },
    "tags": []
   },
   "source": [
    "3, 4, 5, 1, 2, 6, 7"
   ]
  },
  {
   "cell_type": "markdown",
   "id": "1b7c2d41-a6fe-4ec5-acb4-02b3003cf938",
   "metadata": {
    "slideshow": {
     "slide_type": "skip"
    },
    "tags": []
   },
   "source": [
    "```\n",
    "\n",
    "```\n",
    "🛑 **STOP HERE** after completing the above questions; please **DO NOT WORK AHEAD**. If you have extra time, take a few deep breaths to help reduce stress."
   ]
  },
  {
   "cell_type": "markdown",
   "id": "48c4f8b2-d982-4bcf-9740-b53f3ff77fb0",
   "metadata": {
    "slideshow": {
     "slide_type": "slide"
    },
    "tags": []
   },
   "source": [
    "## Return values"
   ]
  },
  {
   "cell_type": "markdown",
   "id": "ee9a91b9-cebb-4cde-80db-89bf32bc78b7",
   "metadata": {
    "slideshow": {
     "slide_type": "skip"
    },
    "tags": [
     "notes-only"
    ]
   },
   "source": [
    "### Overview\n",
    "* Return value — result provided by the function\n",
    "    * Not the same as printing out the result!\n",
    "* _How do we make a function return a value?_ — add a return statement with the value to return\n",
    "* What does the caller do with the return value?\n",
    "    * Assign it to a variable\n",
    "    * Print it\n",
    "    * Use it as an operand\n",
    " \n",
    "### Practice"
   ]
  },
  {
   "cell_type": "markdown",
   "id": "da3b71e9-8e7a-4388-bf9e-1015544258a4",
   "metadata": {},
   "source": [
    "_What is the output of each of the following programs?_"
   ]
  },
  {
   "cell_type": "code",
   "execution_count": 41,
   "id": "4419135f-c4b8-4581-9446-1d0eb4e80945",
   "metadata": {
    "tags": [
     "worksheet-code-only"
    ]
   },
   "outputs": [
    {
     "name": "stdout",
     "output_type": "stream",
     "text": [
      "x was 5\n",
      "now it is 10\n"
     ]
    }
   ],
   "source": [
    "#1)\n",
    "def magic(a):\n",
    "    return a * 2\n",
    "\n",
    "x = 5\n",
    "print(\"x was \" + str(x))\n",
    "x = magic(x)\n",
    "print(\"now it is \" + str(x))"
   ]
  },
  {
   "cell_type": "markdown",
   "id": "d5aa9fcb-773c-4b7c-b9c0-c5b44dd9ad4b",
   "metadata": {
    "slideshow": {
     "slide_type": "skip"
    },
    "tags": [
     "worksheet-only"
    ]
   },
   "source": [
    "```\n",
    "\n",
    "```"
   ]
  },
  {
   "cell_type": "code",
   "execution_count": 44,
   "id": "c91d47f0-7a7b-4dfe-bb68-f2d89db12e35",
   "metadata": {
    "slideshow": {
     "slide_type": "subslide"
    },
    "tags": [
     "worksheet-code-only"
    ]
   },
   "outputs": [
    {
     "name": "stdout",
     "output_type": "stream",
     "text": [
      "Grade: B 80.0%\n"
     ]
    }
   ],
   "source": [
    "#2)\n",
    "def compute_grade(exam1, exam2, exam3):\n",
    "    sum = exam1 + exam2 + exam3\n",
    "    return sum / 3\n",
    "\n",
    "def convert_to_letter(grade):\n",
    "    if grade >= 90:\n",
    "        return \"A\"\n",
    "    elif grade >= 80:\n",
    "        return \"B\"\n",
    "    elif grade >= 70:\n",
    "        return \"C\"\n",
    "    elif grade >= 60:\n",
    "        return \"D\"\n",
    "    else:\n",
    "        return \"F\"\n",
    "\n",
    "grade = compute_grade(75, 85, 80)\n",
    "letter = convert_to_letter(grade)\n",
    "print(\"Grade:\", letter, str(grade) + \"%\")"
   ]
  },
  {
   "cell_type": "markdown",
   "id": "c31a04eb-00f4-4972-b3fc-77edfc5dff5b",
   "metadata": {
    "tags": [
     "worksheet-only"
    ]
   },
   "source": [
    "## Have a fun and safe weekend!"
   ]
  }
 ],
 "metadata": {
  "kernelspec": {
   "display_name": "Python 3 (ipykernel)",
   "language": "python",
   "name": "python3"
  },
  "language_info": {
   "codemirror_mode": {
    "name": "ipython",
    "version": 3
   },
   "file_extension": ".py",
   "mimetype": "text/x-python",
   "name": "python",
   "nbconvert_exporter": "python",
   "pygments_lexer": "ipython3",
   "version": "3.8.2"
  }
 },
 "nbformat": 4,
 "nbformat_minor": 5
}
