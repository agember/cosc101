{
 "cells": [
  {
   "cell_type": "markdown",
   "metadata": {
    "editable": true,
    "slideshow": {
     "slide_type": "skip"
    },
    "tags": []
   },
   "source": [
    "# Sequences: mutating lists\n",
    "_COSC 101, Introduction to Computing I, 2024-10-30_"
   ]
  },
  {
   "cell_type": "markdown",
   "metadata": {
    "editable": true,
    "slideshow": {
     "slide_type": "skip"
    },
    "tags": []
   },
   "source": [
    "## Announcements\n",
    "* Exam 2 retakes Friday, Nov 8 during class"
   ]
  },
  {
   "cell_type": "markdown",
   "metadata": {
    "editable": true,
    "slideshow": {
     "slide_type": "slide"
    },
    "tags": []
   },
   "source": [
    "## Operations on lists"
   ]
  },
  {
   "cell_type": "markdown",
   "metadata": {
    "editable": true,
    "slideshow": {
     "slide_type": "skip"
    },
    "tags": [
     "notes-only"
    ]
   },
   "source": [
    "* Concatenation — use plus (+) operator\n",
    "    * Creates a single list with the items from both lists"
   ]
  },
  {
   "cell_type": "code",
   "execution_count": 18,
   "metadata": {
    "slideshow": {
     "slide_type": "skip"
    },
    "tags": [
     "notes-only"
    ]
   },
   "outputs": [
    {
     "data": {
      "text/plain": [
       "[1, 2, 3, 4]"
      ]
     },
     "execution_count": 18,
     "metadata": {},
     "output_type": "execute_result"
    }
   ],
   "source": [
    "[1, 2] + [3, 4]"
   ]
  },
  {
   "cell_type": "markdown",
   "metadata": {
    "jp-MarkdownHeadingCollapsed": true,
    "slideshow": {
     "slide_type": "skip"
    },
    "tags": [
     "notes-only"
    ]
   },
   "source": [
    "* Repetition — use multiplication (*) operator\n",
    "    * Creates a single list with all items repeated the specified number of times"
   ]
  },
  {
   "cell_type": "code",
   "execution_count": 15,
   "metadata": {
    "slideshow": {
     "slide_type": "skip"
    },
    "tags": [
     "notes-only"
    ]
   },
   "outputs": [
    {
     "data": {
      "text/plain": [
       "[5, 6, 5, 6]"
      ]
     },
     "execution_count": 15,
     "metadata": {},
     "output_type": "execute_result"
    }
   ],
   "source": [
    "[5, 6] * 2"
   ]
  },
  {
   "cell_type": "markdown",
   "metadata": {
    "slideshow": {
     "slide_type": "skip"
    },
    "tags": [
     "notes-only"
    ]
   },
   "source": [
    "* Replace — use assignment `=` statement\n",
    "    * Replaces a value at a particular index\n",
    "    * Replaces a slice at a particular location"
   ]
  },
  {
   "cell_type": "code",
   "execution_count": 10,
   "metadata": {
    "slideshow": {
     "slide_type": "skip"
    },
    "tags": [
     "notes-only"
    ]
   },
   "outputs": [
    {
     "name": "stdout",
     "output_type": "stream",
     "text": [
      "[5, 10, 20]\n",
      "[3, 6, 20]\n"
     ]
    }
   ],
   "source": [
    "lst = [5,15,20]\n",
    "lst[1] = 10\n",
    "print(lst)\n",
    "lst[0:2] = [3, 6]\n",
    "print(lst)"
   ]
  },
  {
   "cell_type": "markdown",
   "metadata": {
    "slideshow": {
     "slide_type": "skip"
    },
    "tags": [
     "notes-only"
    ]
   },
   "source": [
    "* Remove\n",
    "    * Use `del` operator – removes the item at a particular index\n",
    "    * Replace slice with nothing – removes all items in the slice\n",
    "    * Use `pop` method – removes the item at the end of the list"
   ]
  },
  {
   "cell_type": "code",
   "execution_count": 18,
   "metadata": {
    "slideshow": {
     "slide_type": "skip"
    },
    "tags": [
     "notes-only"
    ]
   },
   "outputs": [
    {
     "name": "stdout",
     "output_type": "stream",
     "text": [
      "[10, 12, 13, 14]\n",
      "[10, 14]\n",
      "[10]\n"
     ]
    }
   ],
   "source": [
    "lst = [10, 11, 12, 13, 14]\n",
    "del lst[1]\n",
    "print(lst)\n",
    "lst[1:3] = []\n",
    "print(lst)\n",
    "lst.pop()\n",
    "print(lst)"
   ]
  },
  {
   "cell_type": "markdown",
   "metadata": {
    "editable": true,
    "slideshow": {
     "slide_type": ""
    },
    "tags": [
     "notes-only"
    ]
   },
   "source": [
    "* Insert\n",
    "    * Use assignment `=` statement with slice with same starting and ending indices – adds item at a particular index\n",
    "    * Use `append` method – adds item at the end of the list\n",
    "    * Use `insert` method – adds item at specified index"
   ]
  },
  {
   "cell_type": "code",
   "execution_count": 17,
   "metadata": {
    "editable": true,
    "slideshow": {
     "slide_type": "skip"
    },
    "tags": [
     "notes-only"
    ]
   },
   "outputs": [
    {
     "name": "stdout",
     "output_type": "stream",
     "text": [
      "['a', 'b', 'c', 'e']\n",
      "['a', 'b', 'c', 'e', 'f']\n",
      "['a', 'b', 'c', 'd', 'e', 'f']\n"
     ]
    }
   ],
   "source": [
    "lst = ['a', 'b', 'e']\n",
    "lst[2:2] = ['c']\n",
    "print(lst)\n",
    "lst.append('f')\n",
    "print(lst)\n",
    "lst.insert(3, 'd')\n",
    "print(lst)"
   ]
  },
  {
   "cell_type": "markdown",
   "metadata": {
    "editable": true,
    "slideshow": {
     "slide_type": "skip"
    },
    "tags": [
     "blank"
    ]
   },
   "source": [
    "<p style=\"height:10em;\"></p>"
   ]
  },
  {
   "cell_type": "markdown",
   "metadata": {
    "editable": true,
    "slideshow": {
     "slide_type": ""
    },
    "tags": [
     "question"
    ]
   },
   "source": [
    "*What does the following code ouput? If a particular print statement causes an error, describe what is wrong with that statement; assume subsequent print statements still execute.*"
   ]
  },
  {
   "cell_type": "code",
   "execution_count": 3,
   "metadata": {
    "editable": true,
    "slideshow": {
     "slide_type": ""
    },
    "tags": [
     "worksheet-code-only"
    ]
   },
   "outputs": [
    {
     "name": "stdout",
     "output_type": "stream",
     "text": [
      "a) [1, 2, 3, 4]\n",
      "b) [5, 6, 5, 15]\n",
      "c) [5, 15, 20, 30]\n"
     ]
    },
    {
     "ename": "TypeError",
     "evalue": "can only concatenate list (not \"int\") to list",
     "output_type": "error",
     "traceback": [
      "\u001b[0;31m---------------------------------------------------------------------------\u001b[0m",
      "\u001b[0;31mTypeError\u001b[0m                                 Traceback (most recent call last)",
      "Cell \u001b[0;32mIn[3], line 11\u001b[0m\n\u001b[1;32m      7\u001b[0m \u001b[38;5;28mprint\u001b[39m(\u001b[38;5;124m'\u001b[39m\u001b[38;5;124mb)\u001b[39m\u001b[38;5;124m'\u001b[39m, [\u001b[38;5;241m5\u001b[39m, \u001b[38;5;241m6\u001b[39m] \u001b[38;5;241m+\u001b[39m x)\n\u001b[1;32m      9\u001b[0m \u001b[38;5;28mprint\u001b[39m(\u001b[38;5;124m'\u001b[39m\u001b[38;5;124mc)\u001b[39m\u001b[38;5;124m'\u001b[39m, x \u001b[38;5;241m+\u001b[39m y[\u001b[38;5;241m1\u001b[39m:\u001b[38;5;241m3\u001b[39m])\n\u001b[0;32m---> 11\u001b[0m \u001b[38;5;28mprint\u001b[39m(\u001b[38;5;124m'\u001b[39m\u001b[38;5;124md)\u001b[39m\u001b[38;5;124m'\u001b[39m, \u001b[43mx\u001b[49m\u001b[43m \u001b[49m\u001b[38;5;241;43m+\u001b[39;49m\u001b[43m \u001b[49m\u001b[38;5;241;43m25\u001b[39;49m)\n",
      "\u001b[0;31mTypeError\u001b[0m: can only concatenate list (not \"int\") to list"
     ]
    }
   ],
   "source": [
    "x = [5, 15]\n",
    "y = [10, 20, 30, 40]\n",
    "z = ['q', 'r', 's']\n",
    "\n",
    "print('a)', [1, 2] + [3, 4])\n",
    "\n",
    "print('b)', [5, 6] + x)\n",
    "\n",
    "print('c)', x + y[1:3])\n",
    "\n",
    "print('d)', x + 25)"
   ]
  },
  {
   "cell_type": "code",
   "execution_count": 4,
   "metadata": {
    "editable": true,
    "slideshow": {
     "slide_type": ""
    },
    "tags": [
     "worksheet-code-only"
    ]
   },
   "outputs": [
    {
     "name": "stdout",
     "output_type": "stream",
     "text": [
      "e) [5, 15, 't']\n",
      "f) [7, 8, 7, 8]\n",
      "g) [5, 15, 5, 15, 5, 15]\n",
      "h) []\n"
     ]
    }
   ],
   "source": [
    "print('e)', x + ['t'])\n",
    "\n",
    "print('f)', [7, 8] * 2)\n",
    "\n",
    "print('g)', x * 3)\n",
    "\n",
    "print('h)', y * 0)"
   ]
  },
  {
   "cell_type": "code",
   "execution_count": 5,
   "metadata": {
    "editable": true,
    "slideshow": {
     "slide_type": ""
    },
    "tags": [
     "worksheet-code-only"
    ]
   },
   "outputs": [
    {
     "name": "stdout",
     "output_type": "stream",
     "text": [
      "i) [5, 15, 5, 15, 10, 20, 30, 40]\n",
      "j) [10, 30, 40]\n",
      "k) ['q', 'r', 'u', 'v', 's']\n",
      "l) 25\n"
     ]
    }
   ],
   "source": [
    "print('i)', x * 2 + y)\n",
    "\n",
    "del y[1]\n",
    "print('j)', y)\n",
    "\n",
    "z[2:2] = ['u', 'v']\n",
    "print('k)', z)\n",
    "\n",
    "x.append(25)\n",
    "x = x.pop()\n",
    "print('l)', x)"
   ]
  },
  {
   "cell_type": "markdown",
   "metadata": {
    "editable": true,
    "slideshow": {
     "slide_type": "slide"
    },
    "tags": [
     "question"
    ]
   },
   "source": [
    "*Assume a list of integers has been assigned to the variable `nums`. Write a snippet of code that updates each item in the list to be twice its old value. For example: `[1, 3, 5]` would be updated to `[2, 6, 10]`*"
   ]
  },
  {
   "cell_type": "code",
   "execution_count": 10,
   "metadata": {
    "editable": true,
    "slideshow": {
     "slide_type": "skip"
    },
    "tags": [
     "answer"
    ]
   },
   "outputs": [
    {
     "name": "stdout",
     "output_type": "stream",
     "text": [
      "[2, 6, 10]\n"
     ]
    }
   ],
   "source": [
    "nums = [1, 3, 5]\n",
    "for index in range(len(nums)):\n",
    "    nums[index] = nums[index] * 2\n",
    "print(nums)"
   ]
  },
  {
   "cell_type": "markdown",
   "metadata": {
    "editable": true,
    "slideshow": {
     "slide_type": "skip"
    },
    "tags": [
     "blank"
    ]
   },
   "source": [
    "<p style=\"height:10em;\"></p>"
   ]
  },
  {
   "cell_type": "markdown",
   "metadata": {
    "editable": true,
    "slideshow": {
     "slide_type": "fragment"
    },
    "tags": []
   },
   "source": [
    "*Assume a list of integers has been assigned to the variable `nums`. Write a snippet of code that updates each item to be the sum of the values up to and including the item being updated. For example: `[1, 3, 5]` would be updated to `[1, 4, 9]`*"
   ]
  },
  {
   "cell_type": "code",
   "execution_count": 6,
   "metadata": {
    "editable": true,
    "slideshow": {
     "slide_type": "skip"
    },
    "tags": [
     "answer"
    ]
   },
   "outputs": [
    {
     "name": "stdout",
     "output_type": "stream",
     "text": [
      "[1, 4, 8]\n"
     ]
    }
   ],
   "source": [
    "nums = [1, 3, 4]\n",
    "total = 0\n",
    "for index in range(len(nums)):\n",
    "    total = total + nums[index]\n",
    "    nums[index] = total\n",
    "print(nums)"
   ]
  },
  {
   "cell_type": "markdown",
   "metadata": {
    "editable": true,
    "slideshow": {
     "slide_type": "skip"
    },
    "tags": [
     "blank"
    ]
   },
   "source": [
    "<p style=\"height:10em;\"></p>"
   ]
  },
  {
   "cell_type": "markdown",
   "metadata": {
    "editable": true,
    "slideshow": {
     "slide_type": "slide"
    },
    "tags": []
   },
   "source": [
    "## Extra practice"
   ]
  },
  {
   "cell_type": "markdown",
   "metadata": {
    "editable": true,
    "slideshow": {
     "slide_type": "fragment"
    },
    "tags": []
   },
   "source": [
    "*Assume a list of strings has been assigned to the variable `words`. Write a snippet of code that updates each item to be only the first three letters of the original item. For example: `[\"January\", \"February\", \"March\"]` would be updated to `[\"Jan\", \"Feb\", \"Mar\"]`*"
   ]
  },
  {
   "cell_type": "code",
   "execution_count": 7,
   "metadata": {
    "editable": true,
    "slideshow": {
     "slide_type": "skip"
    },
    "tags": [
     "answer"
    ]
   },
   "outputs": [
    {
     "name": "stdout",
     "output_type": "stream",
     "text": [
      "['Jan', 'Feb', 'Mar']\n"
     ]
    }
   ],
   "source": [
    "words = [\"January\", \"February\", \"March\"]\n",
    "for index in range(len(words)):\n",
    "    current = words[index]\n",
    "    words[index] = current[:3]\n",
    "print(words)"
   ]
  },
  {
   "cell_type": "markdown",
   "metadata": {
    "editable": true,
    "slideshow": {
     "slide_type": "skip"
    },
    "tags": [
     "blank"
    ]
   },
   "source": [
    "<p style=\"height:10em;\"></p>"
   ]
  }
 ],
 "metadata": {
  "celltoolbar": "Slideshow",
  "kernelspec": {
   "display_name": "Python 3 (ipykernel)",
   "language": "python",
   "name": "python3"
  },
  "language_info": {
   "codemirror_mode": {
    "name": "ipython",
    "version": 3
   },
   "file_extension": ".py",
   "mimetype": "text/x-python",
   "name": "python",
   "nbconvert_exporter": "python",
   "pygments_lexer": "ipython3",
   "version": "3.9.6"
  }
 },
 "nbformat": 4,
 "nbformat_minor": 4
}
