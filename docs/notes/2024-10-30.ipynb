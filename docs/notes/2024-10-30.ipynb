{
 "cells": [
  {
   "cell_type": "markdown",
   "metadata": {
    "editable": true,
    "slideshow": {
     "slide_type": "skip"
    },
    "tags": []
   },
   "source": [
    "# Sequences: mutating lists; references\n",
    "_COSC 101, Introduction to Computing I, 2024-10-30_"
   ]
  },
  {
   "cell_type": "markdown",
   "metadata": {
    "editable": true,
    "slideshow": {
     "slide_type": "skip"
    },
    "tags": []
   },
   "source": [
    "## Announcements\n",
    "* Exam 2 retakes Friday, Nov 8 during class"
   ]
  },
  {
   "cell_type": "markdown",
   "metadata": {
    "editable": true,
    "slideshow": {
     "slide_type": "slide"
    },
    "tags": []
   },
   "source": [
    "## Operations on lists"
   ]
  },
  {
   "cell_type": "markdown",
   "metadata": {
    "editable": true,
    "slideshow": {
     "slide_type": "skip"
    },
    "tags": [
     "notes-only"
    ]
   },
   "source": [
    "* Concatenation — use plus (+) operator\n",
    "    * Creates a single list with the items from both lists"
   ]
  },
  {
   "cell_type": "code",
   "execution_count": 18,
   "metadata": {
    "slideshow": {
     "slide_type": "skip"
    },
    "tags": [
     "notes-only"
    ]
   },
   "outputs": [
    {
     "data": {
      "text/plain": [
       "[1, 2, 3, 4]"
      ]
     },
     "execution_count": 18,
     "metadata": {},
     "output_type": "execute_result"
    }
   ],
   "source": [
    "[1, 2] + [3, 4]"
   ]
  },
  {
   "cell_type": "markdown",
   "metadata": {
    "jp-MarkdownHeadingCollapsed": true,
    "slideshow": {
     "slide_type": "skip"
    },
    "tags": [
     "notes-only"
    ]
   },
   "source": [
    "* Repetition — use multiplication (*) operator\n",
    "    * Creates a single list with all items repeated the specified number of times"
   ]
  },
  {
   "cell_type": "code",
   "execution_count": 15,
   "metadata": {
    "slideshow": {
     "slide_type": "skip"
    },
    "tags": [
     "notes-only"
    ]
   },
   "outputs": [
    {
     "data": {
      "text/plain": [
       "[5, 6, 5, 6]"
      ]
     },
     "execution_count": 15,
     "metadata": {},
     "output_type": "execute_result"
    }
   ],
   "source": [
    "[5, 6] * 2"
   ]
  },
  {
   "cell_type": "markdown",
   "metadata": {
    "slideshow": {
     "slide_type": "skip"
    },
    "tags": [
     "notes-only"
    ]
   },
   "source": [
    "* Replace — use assignment `=` statement\n",
    "    * Replaces a value at a particular index\n",
    "    * Replaces a slice at a particular location"
   ]
  },
  {
   "cell_type": "code",
   "execution_count": 10,
   "metadata": {
    "slideshow": {
     "slide_type": "skip"
    },
    "tags": [
     "notes-only"
    ]
   },
   "outputs": [
    {
     "name": "stdout",
     "output_type": "stream",
     "text": [
      "[5, 10, 20]\n",
      "[3, 6, 20]\n"
     ]
    }
   ],
   "source": [
    "lst = [5,15,20]\n",
    "lst[1] = 10\n",
    "print(lst)\n",
    "lst[0:2] = [3, 6]\n",
    "print(lst)"
   ]
  },
  {
   "cell_type": "markdown",
   "metadata": {
    "slideshow": {
     "slide_type": "skip"
    },
    "tags": [
     "notes-only"
    ]
   },
   "source": [
    "* Remove\n",
    "    * Use `del` operator – removes the item at a particular index\n",
    "    * Replace slice with nothing – removes all items in the slice\n",
    "    * Use `pop` method – removes the item at the end of the list"
   ]
  },
  {
   "cell_type": "code",
   "execution_count": 18,
   "metadata": {
    "slideshow": {
     "slide_type": "skip"
    },
    "tags": [
     "notes-only"
    ]
   },
   "outputs": [
    {
     "name": "stdout",
     "output_type": "stream",
     "text": [
      "[10, 12, 13, 14]\n",
      "[10, 14]\n",
      "[10]\n"
     ]
    }
   ],
   "source": [
    "lst = [10, 11, 12, 13, 14]\n",
    "del lst[1]\n",
    "print(lst)\n",
    "lst[1:3] = []\n",
    "print(lst)\n",
    "lst.pop()\n",
    "print(lst)"
   ]
  },
  {
   "cell_type": "markdown",
   "metadata": {
    "editable": true,
    "slideshow": {
     "slide_type": ""
    },
    "tags": [
     "notes-only"
    ]
   },
   "source": [
    "* Insert\n",
    "    * Use assignment `=` statement with slice with same starting and ending indices – adds item at a particular index\n",
    "    * Use `append` method – adds item at the end of the list\n",
    "    * Use `insert` method – adds item at specified index"
   ]
  },
  {
   "cell_type": "code",
   "execution_count": 17,
   "metadata": {
    "editable": true,
    "slideshow": {
     "slide_type": "skip"
    },
    "tags": [
     "notes-only"
    ]
   },
   "outputs": [
    {
     "name": "stdout",
     "output_type": "stream",
     "text": [
      "['a', 'b', 'c', 'e']\n",
      "['a', 'b', 'c', 'e', 'f']\n",
      "['a', 'b', 'c', 'd', 'e', 'f']\n"
     ]
    }
   ],
   "source": [
    "lst = ['a', 'b', 'e']\n",
    "lst[2:2] = ['c']\n",
    "print(lst)\n",
    "lst.append('f')\n",
    "print(lst)\n",
    "lst.insert(3, 'd')\n",
    "print(lst)"
   ]
  },
  {
   "cell_type": "markdown",
   "metadata": {
    "editable": true,
    "slideshow": {
     "slide_type": "skip"
    },
    "tags": [
     "blank"
    ]
   },
   "source": [
    "<p style=\"height:10em;\"></p>"
   ]
  },
  {
   "cell_type": "markdown",
   "metadata": {
    "editable": true,
    "slideshow": {
     "slide_type": ""
    },
    "tags": [
     "question"
    ]
   },
   "source": [
    "*What does the following code ouput? If a particular print statement causes an error, describe what is wrong with that statement; assume subsequent print statements still execute.*"
   ]
  },
  {
   "cell_type": "code",
   "execution_count": 3,
   "metadata": {
    "editable": true,
    "slideshow": {
     "slide_type": ""
    },
    "tags": [
     "worksheet-code-only"
    ]
   },
   "outputs": [
    {
     "name": "stdout",
     "output_type": "stream",
     "text": [
      "a) [1, 2, 3, 4]\n",
      "b) [5, 6, 5, 15]\n",
      "c) [5, 15, 20, 30]\n"
     ]
    },
    {
     "ename": "TypeError",
     "evalue": "can only concatenate list (not \"int\") to list",
     "output_type": "error",
     "traceback": [
      "\u001b[0;31m---------------------------------------------------------------------------\u001b[0m",
      "\u001b[0;31mTypeError\u001b[0m                                 Traceback (most recent call last)",
      "Cell \u001b[0;32mIn[3], line 11\u001b[0m\n\u001b[1;32m      7\u001b[0m \u001b[38;5;28mprint\u001b[39m(\u001b[38;5;124m'\u001b[39m\u001b[38;5;124mb)\u001b[39m\u001b[38;5;124m'\u001b[39m, [\u001b[38;5;241m5\u001b[39m, \u001b[38;5;241m6\u001b[39m] \u001b[38;5;241m+\u001b[39m x)\n\u001b[1;32m      9\u001b[0m \u001b[38;5;28mprint\u001b[39m(\u001b[38;5;124m'\u001b[39m\u001b[38;5;124mc)\u001b[39m\u001b[38;5;124m'\u001b[39m, x \u001b[38;5;241m+\u001b[39m y[\u001b[38;5;241m1\u001b[39m:\u001b[38;5;241m3\u001b[39m])\n\u001b[0;32m---> 11\u001b[0m \u001b[38;5;28mprint\u001b[39m(\u001b[38;5;124m'\u001b[39m\u001b[38;5;124md)\u001b[39m\u001b[38;5;124m'\u001b[39m, \u001b[43mx\u001b[49m\u001b[43m \u001b[49m\u001b[38;5;241;43m+\u001b[39;49m\u001b[43m \u001b[49m\u001b[38;5;241;43m25\u001b[39;49m)\n",
      "\u001b[0;31mTypeError\u001b[0m: can only concatenate list (not \"int\") to list"
     ]
    }
   ],
   "source": [
    "x = [5, 15]\n",
    "y = [10, 20, 30, 40]\n",
    "z = ['q', 'r', 's']\n",
    "\n",
    "print('a)', [1, 2] + [3, 4])\n",
    "\n",
    "print('b)', [5, 6] + x)\n",
    "\n",
    "print('c)', x + y[1:3])\n",
    "\n",
    "print('d)', x + 25)"
   ]
  },
  {
   "cell_type": "code",
   "execution_count": 4,
   "metadata": {
    "editable": true,
    "slideshow": {
     "slide_type": ""
    },
    "tags": [
     "worksheet-code-only"
    ]
   },
   "outputs": [
    {
     "name": "stdout",
     "output_type": "stream",
     "text": [
      "e) [5, 15, 't']\n",
      "f) [7, 8, 7, 8]\n",
      "g) [5, 15, 5, 15, 5, 15]\n",
      "h) []\n"
     ]
    }
   ],
   "source": [
    "print('e)', x + ['t'])\n",
    "\n",
    "print('f)', [7, 8] * 2)\n",
    "\n",
    "print('g)', x * 3)\n",
    "\n",
    "print('h)', y * 0)"
   ]
  },
  {
   "cell_type": "code",
   "execution_count": 5,
   "metadata": {
    "editable": true,
    "slideshow": {
     "slide_type": ""
    },
    "tags": [
     "worksheet-code-only"
    ]
   },
   "outputs": [
    {
     "name": "stdout",
     "output_type": "stream",
     "text": [
      "i) [5, 15, 5, 15, 10, 20, 30, 40]\n",
      "j) [10, 30, 40]\n",
      "k) ['q', 'r', 'u', 'v', 's']\n",
      "l) 25\n"
     ]
    }
   ],
   "source": [
    "print('i)', x * 2 + y)\n",
    "\n",
    "del y[1]\n",
    "print('j)', y)\n",
    "\n",
    "z[2:2] = ['u', 'v']\n",
    "print('k)', z)\n",
    "\n",
    "x.append(25)\n",
    "x = x.pop()\n",
    "print('l)', x)"
   ]
  },
  {
   "cell_type": "markdown",
   "metadata": {
    "editable": true,
    "slideshow": {
     "slide_type": "slide"
    },
    "tags": [
     "question"
    ]
   },
   "source": [
    "*Assume a list of integers has been assigned to the variable `nums`. Write a snippet of code that updates each item in the list to be twice its old value. For example: `[1, 3, 5]` would be updated to `[2, 6, 10]`*"
   ]
  },
  {
   "cell_type": "code",
   "execution_count": 10,
   "metadata": {
    "editable": true,
    "slideshow": {
     "slide_type": "skip"
    },
    "tags": [
     "answer"
    ]
   },
   "outputs": [
    {
     "name": "stdout",
     "output_type": "stream",
     "text": [
      "[2, 6, 10]\n"
     ]
    }
   ],
   "source": [
    "nums = [1, 3, 5]\n",
    "for index in range(len(nums)):\n",
    "    nums[index] = nums[index] * 2\n",
    "print(nums)"
   ]
  },
  {
   "cell_type": "markdown",
   "metadata": {
    "editable": true,
    "slideshow": {
     "slide_type": "skip"
    },
    "tags": [
     "blank"
    ]
   },
   "source": [
    "<p style=\"height:10em;\"></p>"
   ]
  },
  {
   "cell_type": "markdown",
   "metadata": {
    "editable": true,
    "slideshow": {
     "slide_type": "fragment"
    },
    "tags": []
   },
   "source": [
    "*Assume a list of integers has been assigned to the variable `nums`. Write a snippet of code that updates each item to be the sum of the values up to and including the item being updated. For example: `[1, 3, 5]` would be updated to `[1, 4, 9]`*"
   ]
  },
  {
   "cell_type": "code",
   "execution_count": 6,
   "metadata": {
    "editable": true,
    "slideshow": {
     "slide_type": "skip"
    },
    "tags": [
     "answer"
    ]
   },
   "outputs": [
    {
     "name": "stdout",
     "output_type": "stream",
     "text": [
      "[1, 4, 8]\n"
     ]
    }
   ],
   "source": [
    "nums = [1, 3, 4]\n",
    "total = 0\n",
    "for index in range(len(nums)):\n",
    "    total = total + nums[index]\n",
    "    nums[index] = total\n",
    "print(nums)"
   ]
  },
  {
   "cell_type": "markdown",
   "metadata": {
    "editable": true,
    "slideshow": {
     "slide_type": "skip"
    },
    "tags": [
     "blank"
    ]
   },
   "source": [
    "<p style=\"height:10em;\"></p>"
   ]
  },
  {
   "cell_type": "markdown",
   "metadata": {
    "editable": true,
    "slideshow": {
     "slide_type": "skip"
    },
    "tags": [
     "notes-only"
    ]
   },
   "source": [
    "## References\n",
    "* Recall: a list is a sequential collection of values\n",
    "    * Analogy: a folder holds a sequential collection of papers\n",
    "    * `[2, 4, 6]`\n",
    "* When you assign a list to a variable, the variable becomes a name for the collection\n",
    "    * Analogy: label folder"
   ]
  },
  {
   "cell_type": "code",
   "execution_count": 2,
   "metadata": {
    "slideshow": {
     "slide_type": "skip"
    },
    "tags": [
     "notes-only"
    ]
   },
   "outputs": [
    {
     "name": "stdout",
     "output_type": "stream",
     "text": [
      "[2, 4, 6]\n"
     ]
    }
   ],
   "source": [
    "listA = [2, 4, 6]\n",
    "print(listA)"
   ]
  },
  {
   "cell_type": "markdown",
   "metadata": {
    "editable": true,
    "slideshow": {
     "slide_type": "skip"
    },
    "tags": [
     "notes-only"
    ]
   },
   "source": [
    "* When you add and remove items, you are changing what is in the collection, but the name still refers to the same collection\n",
    "    * Analogy: add and remove papers from a folder, but you are not relabeling the folder"
   ]
  },
  {
   "cell_type": "code",
   "execution_count": 3,
   "metadata": {
    "slideshow": {
     "slide_type": "skip"
    },
    "tags": [
     "notes-only"
    ]
   },
   "outputs": [
    {
     "name": "stdout",
     "output_type": "stream",
     "text": [
      "A [2, 40, 6]\n"
     ]
    }
   ],
   "source": [
    "listA[1] = 40\n",
    "print(\"A\", listA)"
   ]
  },
  {
   "cell_type": "markdown",
   "metadata": {
    "editable": true,
    "slideshow": {
     "slide_type": "skip"
    },
    "tags": [
     "notes-only"
    ]
   },
   "source": [
    "* Creating another list creates another sequential collection of values\n",
    "    * Analogy: get a new folder"
   ]
  },
  {
   "cell_type": "code",
   "execution_count": 4,
   "metadata": {
    "slideshow": {
     "slide_type": "skip"
    },
    "tags": [
     "notes-only"
    ]
   },
   "outputs": [
    {
     "name": "stdout",
     "output_type": "stream",
     "text": [
      "A [2, 40, 6] B []\n"
     ]
    }
   ],
   "source": [
    "listB = []\n",
    "print(\"A\", listA, \"B\", listB)"
   ]
  },
  {
   "cell_type": "markdown",
   "metadata": {
    "editable": true,
    "slideshow": {
     "slide_type": "skip"
    },
    "tags": [
     "notes-only"
    ]
   },
   "source": [
    "* Even if you put the same values in each list, the collections are still different\n",
    "    * Analogy: put the same papers in each folder, but each folder is still separate"
   ]
  },
  {
   "cell_type": "code",
   "execution_count": 5,
   "metadata": {
    "slideshow": {
     "slide_type": "skip"
    },
    "tags": [
     "notes-only"
    ]
   },
   "outputs": [
    {
     "name": "stdout",
     "output_type": "stream",
     "text": [
      "A [2, 40, 6] B [2, 40, 6]\n"
     ]
    }
   ],
   "source": [
    "listB.append(2)\n",
    "listB.append(40)\n",
    "listB.append(6)\n",
    "print(\"A\", listA, \"B\", listB)"
   ]
  },
  {
   "cell_type": "markdown",
   "metadata": {
    "editable": true,
    "slideshow": {
     "slide_type": "skip"
    },
    "tags": [
     "notes-only"
    ]
   },
   "source": [
    "# Aliasing\n",
    "* However, if you assign the name of a list to a new name, then you create an alias\n",
    "    * Analogy: add another label to the list"
   ]
  },
  {
   "cell_type": "code",
   "execution_count": 6,
   "metadata": {
    "editable": true,
    "slideshow": {
     "slide_type": "skip"
    },
    "tags": [
     "notes-only"
    ]
   },
   "outputs": [
    {
     "name": "stdout",
     "output_type": "stream",
     "text": [
      "A [2, 40, 6] C [2, 40, 6]\n"
     ]
    }
   ],
   "source": [
    "listC = listA\n",
    "print(\"A\", listA, \"C\", listC)"
   ]
  },
  {
   "cell_type": "markdown",
   "metadata": {
    "editable": true,
    "slideshow": {
     "slide_type": "skip"
    },
    "tags": [
     "notes-only"
    ]
   },
   "source": [
    "* Regardless which name you use, you are referring to the same list; hence, changes made using one name will also be reflected if you use the other name to refer to the list\n",
    "    * Analogy: add and remove papers from the same folder with multiple labels"
   ]
  },
  {
   "cell_type": "code",
   "execution_count": 7,
   "metadata": {
    "slideshow": {
     "slide_type": "skip"
    },
    "tags": [
     "notes-only"
    ]
   },
   "outputs": [
    {
     "name": "stdout",
     "output_type": "stream",
     "text": [
      "A [20, 40, 6] C [20, 40, 6]\n",
      "A [20, 40, 60] C [20, 40, 60]\n"
     ]
    }
   ],
   "source": [
    "listC[0] = 20\n",
    "print(\"A\", listA, \"C\", listC)\n",
    "listA[2] = 60\n",
    "print(\"A\", listA, \"C\", listC)"
   ]
  },
  {
   "cell_type": "markdown",
   "metadata": {
    "slideshow": {
     "slide_type": "skip"
    },
    "tags": [
     "notes-only"
    ]
   },
   "source": [
    "* You can check if two different names refer to the same list using the `is` operator\n",
    "* You can check if two lists (which may or may not be the same list) contain the same items using the `==` opearator"
   ]
  },
  {
   "cell_type": "code",
   "execution_count": 8,
   "metadata": {
    "slideshow": {
     "slide_type": "skip"
    },
    "tags": [
     "notes-only"
    ]
   },
   "outputs": [
    {
     "name": "stdout",
     "output_type": "stream",
     "text": [
      "A [20, 40, 60] C [20, 40, 60] D [20, 40, 60]\n",
      "A is C? True A is D? False\n",
      "A == C? True A == D? True\n"
     ]
    }
   ],
   "source": [
    "listD = [20, 40, 60]\n",
    "print(\"A\", listA, \"C\", listC, \"D\", listD)\n",
    "print(\"A is C?\", listA is listC, \"A is D?\", listA is listD)\n",
    "print(\"A == C?\", listA == listC, \"A == D?\", listA == listD)"
   ]
  },
  {
   "cell_type": "markdown",
   "metadata": {
    "slideshow": {
     "slide_type": "skip"
    },
    "tags": [
     "notes-only"
    ]
   },
   "source": [
    "* To avoid aliasing, you must create a clone of (part of) the list using the slice operator\n",
    "    * Analogy: get a new folder with a copy of all of the items in the original folder"
   ]
  },
  {
   "cell_type": "code",
   "execution_count": null,
   "metadata": {
    "slideshow": {
     "slide_type": "skip"
    },
    "tags": [
     "notes-only"
    ]
   },
   "outputs": [],
   "source": [
    "listE = listA[:]\n",
    "print(\"A\", listA, \"E\", listE)\n",
    "listE[0] = 10\n",
    "print(\"A\", listA, \"E\", listE)\n",
    "listA[2] = 70\n",
    "print(\"A\", listA, \"E\", listE)"
   ]
  },
  {
   "cell_type": "markdown",
   "metadata": {
    "editable": true,
    "slideshow": {
     "slide_type": "skip"
    },
    "tags": [
     "notes-only"
    ]
   },
   "source": [
    "* Parameters\n",
    "    * Recall: at the start of the function, all actual parameters and are assigned to the formal parameters\n",
    "    * Consequently, list name is assigned another name → formal parameter is an alias\n",
    "    * Consequence: changing the list using the formal parameter will change the same list as changing the list using the actual parameter"
   ]
  },
  {
   "cell_type": "code",
   "execution_count": 1,
   "metadata": {
    "editable": true,
    "slideshow": {
     "slide_type": "skip"
    },
    "tags": [
     "notes-only"
    ]
   },
   "outputs": [
    {
     "name": "stdout",
     "output_type": "stream",
     "text": [
      "Q [1, 3, 5]\n",
      "R [1, 3, 5]\n",
      "R [2, 3, 5]\n",
      "Q [2, 3, 5]\n"
     ]
    }
   ],
   "source": [
    "def funcX(listR):\n",
    "    print(\"R\", listR)\n",
    "    listR[0] = 2\n",
    "    print(\"R\", listR)\n",
    "\n",
    "def main() -> None:\n",
    "    listQ = [1, 3, 5]\n",
    "    print(\"Q\", listQ)\n",
    "    funcX(listQ)\n",
    "    print(\"Q\", listQ)\n",
    "\n",
    "main()"
   ]
  },
  {
   "cell_type": "markdown",
   "metadata": {
    "editable": true,
    "slideshow": {
     "slide_type": "slide"
    },
    "tags": []
   },
   "source": [
    "## Extra practice"
   ]
  },
  {
   "cell_type": "markdown",
   "metadata": {
    "editable": true,
    "slideshow": {
     "slide_type": "fragment"
    },
    "tags": []
   },
   "source": [
    "*Assume a list of strings has been assigned to the variable `words`. Write a snippet of code that updates each item to be only the first three letters of the original item. For example: `[\"January\", \"February\", \"March\"]` would be updated to `[\"Jan\", \"Feb\", \"Mar\"]`*"
   ]
  },
  {
   "cell_type": "code",
   "execution_count": 7,
   "metadata": {
    "editable": true,
    "slideshow": {
     "slide_type": "skip"
    },
    "tags": [
     "answer"
    ]
   },
   "outputs": [
    {
     "name": "stdout",
     "output_type": "stream",
     "text": [
      "['Jan', 'Feb', 'Mar']\n"
     ]
    }
   ],
   "source": [
    "words = [\"January\", \"February\", \"March\"]\n",
    "for index in range(len(words)):\n",
    "    current = words[index]\n",
    "    words[index] = current[:3]\n",
    "print(words)"
   ]
  },
  {
   "cell_type": "markdown",
   "metadata": {
    "editable": true,
    "slideshow": {
     "slide_type": "skip"
    },
    "tags": [
     "blank"
    ]
   },
   "source": [
    "<p style=\"height:10em;\"></p>"
   ]
  }
 ],
 "metadata": {
  "celltoolbar": "Slideshow",
  "kernelspec": {
   "display_name": "Python 3 (ipykernel)",
   "language": "python",
   "name": "python3"
  },
  "language_info": {
   "codemirror_mode": {
    "name": "ipython",
    "version": 3
   },
   "file_extension": ".py",
   "mimetype": "text/x-python",
   "name": "python",
   "nbconvert_exporter": "python",
   "pygments_lexer": "ipython3",
   "version": "3.9.6"
  }
 },
 "nbformat": 4,
 "nbformat_minor": 4
}
