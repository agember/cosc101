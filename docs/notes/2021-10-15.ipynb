{
 "cells": [
  {
   "cell_type": "markdown",
   "id": "d51cbf6a-75ff-40cc-a72d-616fd68bb5b3",
   "metadata": {
    "slideshow": {
     "slide_type": "skip"
    },
    "tags": []
   },
   "source": [
    "# image processing\n",
    "_COSC 101, Introduction to Computing I, 2021-10-15_"
   ]
  },
  {
   "cell_type": "markdown",
   "id": "3cc635df-5e30-4825-b8d3-4bb4e555e6b0",
   "metadata": {
    "slideshow": {
     "slide_type": "skip"
    },
    "tags": []
   },
   "source": [
    "## Announcements\n",
    "* Exam 2 Wednesday"
   ]
  },
  {
   "cell_type": "markdown",
   "id": "8ec7ef4f-88db-4c4a-999b-fff6c6dea2eb",
   "metadata": {
    "jp-MarkdownHeadingCollapsed": true,
    "slideshow": {
     "slide_type": "skip"
    },
    "tags": [
     "notes-only"
    ]
   },
   "source": [
    "## Outline\n",
    "* Warm-up\n",
    "* Image processing"
   ]
  },
  {
   "cell_type": "markdown",
   "id": "a69bc682-2bff-4d8d-b63b-d1aa02fae0e5",
   "metadata": {
    "slideshow": {
     "slide_type": "slide"
    },
    "tags": []
   },
   "source": [
    "## Warm-up\n",
    "_For each of the following programs, fill-in the blanks such that the program produces the desired output._"
   ]
  },
  {
   "cell_type": "code",
   "execution_count": null,
   "id": "7ca86853-7162-46aa-a49b-c45f3c836294",
   "metadata": {
    "tags": [
     "worksheet-code-only"
    ]
   },
   "outputs": [],
   "source": [
    "#1)\n",
    "for i in range(3):\n",
    "    for j in range(3):\n",
    "        print(______, end=\" \")\n",
    "    print(\"\")"
   ]
  },
  {
   "cell_type": "markdown",
   "id": "c9638c39-f47c-47dc-88dd-dfc8a5abca09",
   "metadata": {},
   "source": [
    "```\n",
    "0 1 2  \n",
    "0 1 2  \n",
    "0 1 2 \n",
    "```"
   ]
  },
  {
   "cell_type": "code",
   "execution_count": 20,
   "id": "02ced14b-e8d3-4778-9a84-700aa075ca13",
   "metadata": {
    "slideshow": {
     "slide_type": "skip"
    },
    "tags": [
     "notes-only"
    ]
   },
   "outputs": [
    {
     "name": "stdout",
     "output_type": "stream",
     "text": [
      "0 1 2 \n",
      "0 1 2 \n",
      "0 1 2 \n"
     ]
    }
   ],
   "source": [
    "for i in range(3):\n",
    "    for j in range(3):\n",
    "        print(j, end=\" \")\n",
    "    print(\"\")"
   ]
  },
  {
   "cell_type": "code",
   "execution_count": null,
   "id": "7838ce8d-c9ca-4e0d-816f-8f0a315b5395",
   "metadata": {
    "slideshow": {
     "slide_type": "subslide"
    },
    "tags": [
     "worksheet-code-only"
    ]
   },
   "outputs": [],
   "source": [
    "#2)\n",
    "for i in ['c','b','a']:\n",
    "    for j in range(____________):\n",
    "        print(i*j, end=\" \")\n",
    "    print(\"\")"
   ]
  },
  {
   "cell_type": "markdown",
   "id": "96fdfb8b-d86e-4936-92da-be98a274151a",
   "metadata": {},
   "source": [
    "```\n",
    "ccc cc c \n",
    "bbb bb b \n",
    "aaa aa a \n",
    "```"
   ]
  },
  {
   "cell_type": "code",
   "execution_count": 4,
   "id": "0e0e1dd5-0160-4922-b27d-0587104c3778",
   "metadata": {
    "slideshow": {
     "slide_type": "skip"
    },
    "tags": [
     "notes-only"
    ]
   },
   "outputs": [
    {
     "name": "stdout",
     "output_type": "stream",
     "text": [
      "ccc cc c \n",
      "bbb bb b \n",
      "aaa aa a \n"
     ]
    }
   ],
   "source": [
    "for i in ['c','b','a']:\n",
    "    for j in range(3, 0 , -1):\n",
    "        print(i*j, end=\" \")\n",
    "    print(\"\")"
   ]
  },
  {
   "cell_type": "code",
   "execution_count": null,
   "id": "6e5ef75a-414c-4ba5-86b0-57a1633f049e",
   "metadata": {
    "slideshow": {
     "slide_type": "subslide"
    },
    "tags": [
     "worksheet-code-only"
    ]
   },
   "outputs": [],
   "source": [
    "#3)\n",
    "for i in range(________):\n",
    "    for j in range(________):\n",
    "        print(j, end=\" \")\n",
    "    print(\"\")"
   ]
  },
  {
   "cell_type": "markdown",
   "id": "6075e1f0-ebfb-4601-8856-3db5dbfc9088",
   "metadata": {},
   "source": [
    "```\n",
    "0 1 2 3 \n",
    "1 2 3 4 \n",
    "2 3 4 5 \n",
    "3 4 5 6 \n",
    "```"
   ]
  },
  {
   "cell_type": "code",
   "execution_count": 7,
   "id": "a39cdf6c-872b-4300-99d2-a7166c8afeb6",
   "metadata": {
    "slideshow": {
     "slide_type": "skip"
    },
    "tags": [
     "notes-only"
    ]
   },
   "outputs": [
    {
     "name": "stdout",
     "output_type": "stream",
     "text": [
      "0 1 2 3 \n",
      "1 2 3 4 \n",
      "2 3 4 5 \n",
      "3 4 5 6 \n"
     ]
    }
   ],
   "source": [
    "for i in range(4):\n",
    "    for j in range(i, i+4):\n",
    "        print(j, end=\" \")\n",
    "    print(\"\")"
   ]
  },
  {
   "cell_type": "markdown",
   "id": "9b1734f1-bfc2-4e02-baa2-a517c93c7f83",
   "metadata": {
    "slideshow": {
     "slide_type": "skip"
    },
    "tags": [
     "worksheet-only"
    ]
   },
   "source": [
    "🛑 **STOP HERE** after completing the warm-up; please **DO NOT WORK AHEAD**. If you have extra time, work on the extra practice problems.\n",
    "\n",
    "<div style=\"page-break-after:always;\"></div>"
   ]
  },
  {
   "cell_type": "markdown",
   "id": "4b42e02c-d878-48f8-a71c-8d394982fa5d",
   "metadata": {
    "slideshow": {
     "slide_type": "skip"
    },
    "tags": []
   },
   "source": [
    "## Image processing"
   ]
  },
  {
   "cell_type": "markdown",
   "id": "c2e68b9a-b2ce-42b8-8456-e6a973c0117f",
   "metadata": {
    "jp-MarkdownHeadingCollapsed": true,
    "slideshow": {
     "slide_type": "skip"
    },
    "tags": [
     "notes-only"
    ]
   },
   "source": [
    "### Overview\n",
    "* Images are made up of dots called pixels, which form a grid\n",
    "* Each pixel is a mix of red, green, and blue\n",
    "    * Each value must be between 0 and 255 (inclusive)\n",
    "* Use the `image` module to work with images\n",
    "    * Load an image from a file using `image.Image(\"FILENAME\")` replacing `FILENAME` with the name of the image file\n",
    "    * Get the image dimensions using an image object's `getWidth()` and `getHeight()` functions\n",
    "    * Get a particular pixel using an image object's `getPixel(x, y)` function with the appropriate x and y coordinates as arguments\n",
    "    * Set a particular pixel using an image object's `setPixel(x, y, pix)` function with the appropriate x and y coordinates and a Pixel object\n",
    "    * Create a pixel of a particular color using `image.pixel(red, green, blue)` with the appropriate red, green, and blue amounts"
   ]
  },
  {
   "cell_type": "markdown",
   "id": "553acb32-7bc5-4f9a-b86d-13a81883ef8c",
   "metadata": {
    "slideshow": {
     "slide_type": "slide"
    },
    "tags": []
   },
   "source": [
    "### Example: print pixel values\n",
    "\n",
    "<img src=\"figures/images/grid_zoom.png\" style=\"width:100px;\">"
   ]
  },
  {
   "cell_type": "code",
   "execution_count": 19,
   "id": "28e9ed29-f2fb-4edc-a733-c22a3e53f854",
   "metadata": {
    "tags": [
     "worksheet-code-only"
    ]
   },
   "outputs": [
    {
     "name": "stdout",
     "output_type": "stream",
     "text": [
      "(0,0,0) (0,0,50) (0,0,100) (0,0,150) (0,0,200) \n",
      "(50,0,0) (50,0,50) (50,0,100) (50,0,150) (50,0,200) \n",
      "(100,0,0) (100,0,50) (100,0,100) (100,0,150) (100,0,200) \n",
      "(150,0,0) (150,0,50) (150,0,100) (150,0,150) (150,0,200) \n",
      "(200,0,0) (200,0,50) (200,0,100) (200,0,150) (200,0,200) \n"
     ]
    }
   ],
   "source": [
    "import image\n",
    "\n",
    "# create image object\n",
    "img = image.Image('figures/images/grid.gif')\n",
    "\n",
    "# get dimensions\n",
    "width = img.getWidth()\n",
    "height = img.getHeight()\n",
    "\n",
    "# print color values for each pixel\n",
    "for x in range(width):\n",
    "    for y in range(height):\n",
    "        # get pixel\n",
    "        pix = img.getPixel(x, y)\n",
    "        red = str(pix.getRed())\n",
    "        green = str(pix.getGreen())\n",
    "        blue = str(pix.getBlue())\n",
    "        \n",
    "        # output color values\n",
    "        print('('+red+','+green+','+blue+')',end=' ')\n",
    "    print()"
   ]
  },
  {
   "cell_type": "markdown",
   "id": "fa45a4c6-f3f3-4af0-8795-d45c993ad197",
   "metadata": {
    "slideshow": {
     "slide_type": "skip"
    },
    "tags": [
     "worksheet-only"
    ]
   },
   "source": [
    "<div style=\"page-break-after:always;\"></div>"
   ]
  },
  {
   "cell_type": "markdown",
   "id": "db582ea1-38b8-4266-8242-aa6176b483ec",
   "metadata": {
    "slideshow": {
     "slide_type": "subslide"
    },
    "tags": []
   },
   "source": [
    "### Example: invert pixel color\n",
    "\n",
    "<img src=\"figures/images/inverted_zoom.png\" style=\"width:100px;\">"
   ]
  },
  {
   "cell_type": "code",
   "execution_count": 16,
   "id": "7dfce7cc-2c9e-41d4-8e1d-2be33ce2ca06",
   "metadata": {},
   "outputs": [],
   "source": [
    "import image\n",
    "\n",
    "# create image object\n",
    "img = image.Image('figures/images/grid.gif')\n",
    "cpy = img.copy()\n",
    "\n",
    "# get dimensions\n",
    "width = img.getWidth()\n",
    "height = img.getHeight()\n",
    "\n",
    "# invert color values for each pixel\n",
    "for x in range(width):\n",
    "    for y in range(height):\n",
    "        # get original pixel\n",
    "        pix = img.getPixel(x, y)\n",
    "\n",
    "        # compute inverted RGB\n",
    "        r = 255 - pix.getRed()\n",
    "        g = 255 - pix.getGreen()\n",
    "        b = 255 - pix.getBlue()\n",
    "\n",
    "        # update pixel in copy\n",
    "        new_pix = image.Pixel(r, g, b)\n",
    "        cpy.setPixel(x, y, new_pix)\n",
    "\n",
    "cpy.save('figures/images/inverted.gif')"
   ]
  },
  {
   "cell_type": "markdown",
   "id": "db7917b9-fa2a-4778-a3bd-855108fec88a",
   "metadata": {
    "slideshow": {
     "slide_type": "skip"
    },
    "tags": [
     "worksheet-only"
    ]
   },
   "source": [
    "<div style=\"page-break-after:always;\"></div>"
   ]
  },
  {
   "cell_type": "markdown",
   "id": "6b86e32b-e120-4452-be5e-9a9bae2c2240",
   "metadata": {
    "slideshow": {
     "slide_type": "subslide"
    },
    "tags": []
   },
   "source": [
    "### Practice\n",
    "_Write a program that rotates the grid image 90 degrees clockwise, resulting in the following image:_\n",
    "\n",
    "<img src=\"figures/images/rotated_zoom.png\" style=\"width:100px;\">"
   ]
  },
  {
   "cell_type": "code",
   "execution_count": 18,
   "id": "1a4deeb8-d476-4849-b8d3-a0db2c5a56f3",
   "metadata": {
    "slideshow": {
     "slide_type": "skip"
    },
    "tags": [
     "notes-only"
    ]
   },
   "outputs": [],
   "source": [
    "import image\n",
    "\n",
    "# create image object\n",
    "img = image.Image('figures/images/grid.gif')\n",
    "cpy = img.copy()\n",
    "\n",
    "# get dimensions\n",
    "width = img.getWidth()\n",
    "height = img.getHeight()\n",
    "\n",
    "# invert color values for each pixel\n",
    "for x in range(width):\n",
    "    for y in range(height):\n",
    "        # get original pixel\n",
    "        pix = img.getPixel(x, y)\n",
    "\n",
    "        # store in new location\n",
    "        cpy.setPixel(width-1-y, x, pix)\n",
    "\n",
    "cpy.save('figures/images/rotated.gif')"
   ]
  },
  {
   "cell_type": "markdown",
   "id": "aa0dc63a-85e2-447e-a8dd-5eb081b15f4e",
   "metadata": {
    "tags": [
     "worksheet-only"
    ]
   },
   "source": [
    "<div style=\"page-break-after:always;\"></div>"
   ]
  },
  {
   "cell_type": "markdown",
   "id": "d57364db-8478-4054-afa8-255816e0fc57",
   "metadata": {
    "slideshow": {
     "slide_type": "slide"
    },
    "tags": []
   },
   "source": [
    "## Extra practice"
   ]
  },
  {
   "cell_type": "markdown",
   "id": "cbefbe24-636b-4396-b2ab-b37db713a862",
   "metadata": {
    "tags": []
   },
   "source": [
    "\\#1) _Write a function called `punnet_square` that takes two genotypes (as strings) and outputs a punnet square. For example `punnet_square(\"Gg\", \"gg\")` should produce:_\n",
    "```\n",
    "  g  g  \n",
    "G Gg Gg \n",
    "g gg gg \n",
    "```"
   ]
  },
  {
   "cell_type": "code",
   "execution_count": null,
   "id": "896847a8-c4e7-4514-9404-206ffc22ff37",
   "metadata": {
    "slideshow": {
     "slide_type": "skip"
    },
    "tags": [
     "notes-only"
    ]
   },
   "outputs": [
    {
     "name": "stdout",
     "output_type": "stream",
     "text": [
      "  g  g  \n",
      "G Gg Gg \n",
      "g gg gg \n"
     ]
    }
   ],
   "source": [
    "def punnet_square(maternal, paternal):\n",
    "    print(\"  \", end=\"\")\n",
    "    for p in paternal:\n",
    "        print(p + \"  \", end=\"\")\n",
    "    print(\"\")\n",
    "    for m in maternal:\n",
    "        print(m + \" \", end=\"\")\n",
    "        for p in paternal:\n",
    "            if (p > m):\n",
    "                print(m + p + \" \", end=\"\")\n",
    "            else:\n",
    "                print(p + m + \" \", end=\"\")\n",
    "        print(\"\")\n",
    "punnet_square(\"Gg\", \"gg\")"
   ]
  },
  {
   "cell_type": "markdown",
   "id": "4d14d252-c0e2-4953-86fb-9d5ba45d1e27",
   "metadata": {
    "slideshow": {
     "slide_type": "skip"
    },
    "tags": [
     "worksheet-only"
    ]
   },
   "source": [
    "```\n",
    "\n",
    "\n",
    "\n",
    "\n",
    "\n",
    "\n",
    "\n",
    "\n",
    "\n",
    "\n",
    "\n",
    "```"
   ]
  },
  {
   "cell_type": "markdown",
   "id": "1ab3bcc4-e0df-4a41-bb99-f700fdd960d5",
   "metadata": {
    "slideshow": {
     "slide_type": "subslide"
    },
    "tags": []
   },
   "source": [
    "\\#2) _Write a function called `tear` that takes an image object and returns a copy of the image in which the right side of the image appears to have been torn-off, leaving a ragged edge in the middle of the image. For example:_\n",
    "\n",
    "<img src=\"figures/images/colgate.gif\"> <img src=\"figures/images/colgate_torn.gif\">\n",
    "\n",
    "_(Hint: Use `random.randint` to choose where the tear occurs. Fill the right side of the image with white pixels.)_"
   ]
  },
  {
   "cell_type": "code",
   "execution_count": 25,
   "id": "b44e6bbd-ca06-420d-abdb-6ac63f9b3314",
   "metadata": {
    "slideshow": {
     "slide_type": "skip"
    },
    "tags": [
     "notes-only"
    ]
   },
   "outputs": [],
   "source": [
    "import image\n",
    "import random\n",
    "\n",
    "def tear(img):\n",
    "    cpy = img.copy()\n",
    "    height = cpy.getHeight()\n",
    "    width = cpy.getWidth()\n",
    "    mid = width // 2    \n",
    "    white = image.Pixel(255, 255, 255)\n",
    "    for y in range(height):\n",
    "        mid = mid + random.randint(-2, 2)\n",
    "        for x in range(mid, width):\n",
    "            cpy.setPixel(x, y, white)\n",
    "    return cpy\n",
    "\n",
    "\n",
    "# create image object\n",
    "img = image.Image('figures/images/colgate.gif')\n",
    "cpy = tear(img)\n",
    "cpy.save('figures/images/colgate_torn.gif')  "
   ]
  }
 ],
 "metadata": {
  "kernelspec": {
   "display_name": "Python 3 (ipykernel)",
   "language": "python",
   "name": "python3"
  },
  "language_info": {
   "codemirror_mode": {
    "name": "ipython",
    "version": 3
   },
   "file_extension": ".py",
   "mimetype": "text/x-python",
   "name": "python",
   "nbconvert_exporter": "python",
   "pygments_lexer": "ipython3",
   "version": "3.8.2"
  }
 },
 "nbformat": 4,
 "nbformat_minor": 5
}
