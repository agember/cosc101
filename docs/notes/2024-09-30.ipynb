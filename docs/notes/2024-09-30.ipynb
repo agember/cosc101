{
 "cells": [
  {
   "cell_type": "markdown",
   "id": "559c9099-9563-4730-ac81-f2f47b4f83d2",
   "metadata": {
    "editable": true,
    "slideshow": {
     "slide_type": "skip"
    },
    "tags": []
   },
   "source": [
    "# Exam 1 review\n",
    "_COSC 101, Introduction to Computing I, 2024-09-30_"
   ]
  },
  {
   "cell_type": "markdown",
   "id": "acf70d86-39b2-4945-890e-b351346ae85f",
   "metadata": {
    "editable": true,
    "slideshow": {
     "slide_type": "skip"
    },
    "tags": []
   },
   "source": [
    "## Announcements\n",
    "* Exam 1 in class on Wednesday\n",
    "    * Combination of code reading and code writing\n",
    "    * Study by solving problems (all linked from Moodle): in-class worksheets; Prof. Davis' class worksheets; exam 1 practice problems\n",
    "* Revisions to up to two parts from Homework 1 and/or 2 due Thursday @ 11:59pm"
   ]
  },
  {
   "cell_type": "markdown",
   "id": "1dea39c8-2497-4f85-a50d-9da472ba9ec9",
   "metadata": {
    "editable": true,
    "slideshow": {
     "slide_type": "slide"
    },
    "tags": []
   },
   "source": [
    "## Exam topics\n",
    "* Computational thinking (decomposition, patterns, abstraction)\n",
    "* Types (int, str, float, bool)\n",
    "* Expressions, variables, and assignment\n",
    "* Interactive programs (input, print)\n",
    "* Errors & debugging\n",
    "* Functions (defining, calling, parameters, return, docstrings)\n",
    "* String and list indexing\n",
    "* Repetition with definite loops (for, range, accumulator pattern)"
   ]
  },
  {
   "cell_type": "markdown",
   "id": "d45b7dcc-2caf-4508-92ec-e31fd3d64185",
   "metadata": {
    "editable": true,
    "slideshow": {
     "slide_type": "slide"
    },
    "tags": []
   },
   "source": [
    "## Expressions"
   ]
  },
  {
   "cell_type": "markdown",
   "id": "67425bcd-501f-4925-9dc0-2c0d3981d5dc",
   "metadata": {
    "editable": true,
    "slideshow": {
     "slide_type": ""
    },
    "tags": [
     "question"
    ]
   },
   "source": [
    "_What is the result of each expression? If an error occurs, describe what is wrong._"
   ]
  },
  {
   "cell_type": "code",
   "execution_count": 1,
   "id": "02f036a5-d37d-44ef-8222-e88ac89d7842",
   "metadata": {
    "editable": true,
    "slideshow": {
     "slide_type": ""
    },
    "tags": [
     "worksheet-code-only"
    ]
   },
   "outputs": [
    {
     "data": {
      "text/plain": [
       "float"
      ]
     },
     "execution_count": 1,
     "metadata": {},
     "output_type": "execute_result"
    }
   ],
   "source": [
    "type(5.0)"
   ]
  },
  {
   "cell_type": "markdown",
   "id": "74878245-52c0-4fa3-b592-9d9490f7ba0b",
   "metadata": {
    "editable": true,
    "slideshow": {
     "slide_type": "skip"
    },
    "tags": [
     "blank"
    ]
   },
   "source": [
    "```\n",
    "\n",
    "```"
   ]
  },
  {
   "cell_type": "code",
   "execution_count": 38,
   "id": "9a09b390-facc-418a-9555-95f9c1d79904",
   "metadata": {
    "editable": true,
    "slideshow": {
     "slide_type": ""
    },
    "tags": [
     "worksheet-code-only"
    ]
   },
   "outputs": [
    {
     "data": {
      "text/plain": [
       "str"
      ]
     },
     "execution_count": 38,
     "metadata": {},
     "output_type": "execute_result"
    }
   ],
   "source": [
    "type('17')"
   ]
  },
  {
   "cell_type": "markdown",
   "id": "80ac73de-0b96-4c78-8984-c1bc7ac5028e",
   "metadata": {
    "editable": true,
    "slideshow": {
     "slide_type": "skip"
    },
    "tags": [
     "blank"
    ]
   },
   "source": [
    "```\n",
    "\n",
    "```"
   ]
  },
  {
   "cell_type": "code",
   "execution_count": 18,
   "id": "98e5f7f6-55fa-4b3d-bd50-6bdc533b1b1b",
   "metadata": {
    "editable": true,
    "slideshow": {
     "slide_type": ""
    },
    "tags": [
     "worksheet-code-only"
    ]
   },
   "outputs": [
    {
     "data": {
      "text/plain": [
       "str"
      ]
     },
     "execution_count": 18,
     "metadata": {},
     "output_type": "execute_result"
    }
   ],
   "source": [
    "type(\"789\")"
   ]
  },
  {
   "cell_type": "markdown",
   "id": "ec984268-2525-4f36-98ef-cb1060bd007c",
   "metadata": {
    "editable": true,
    "slideshow": {
     "slide_type": "skip"
    },
    "tags": [
     "blank"
    ]
   },
   "source": [
    "```\n",
    "\n",
    "```"
   ]
  },
  {
   "cell_type": "code",
   "execution_count": 6,
   "id": "1af389bc-78d8-4987-9391-8b9a955ec6fc",
   "metadata": {
    "editable": true,
    "slideshow": {
     "slide_type": ""
    },
    "tags": [
     "worksheet-code-only"
    ]
   },
   "outputs": [
    {
     "data": {
      "text/plain": [
       "14"
      ]
     },
     "execution_count": 6,
     "metadata": {},
     "output_type": "execute_result"
    }
   ],
   "source": [
    "2 + 3 * 4"
   ]
  },
  {
   "cell_type": "markdown",
   "id": "e017f041-48d5-4ef1-b46a-d272ff0a1c57",
   "metadata": {
    "editable": true,
    "slideshow": {
     "slide_type": "skip"
    },
    "tags": [
     "blank"
    ]
   },
   "source": [
    "```\n",
    "\n",
    "```"
   ]
  },
  {
   "cell_type": "code",
   "execution_count": 7,
   "id": "e857f94b-c5b1-4e0f-b8d2-f19162e03505",
   "metadata": {
    "editable": true,
    "slideshow": {
     "slide_type": ""
    },
    "tags": [
     "worksheet-code-only"
    ]
   },
   "outputs": [
    {
     "data": {
      "text/plain": [
       "3"
      ]
     },
     "execution_count": 7,
     "metadata": {},
     "output_type": "execute_result"
    }
   ],
   "source": [
    "10 // 3"
   ]
  },
  {
   "cell_type": "markdown",
   "id": "0e7ef614-4570-4ffb-b160-c2221b868597",
   "metadata": {
    "editable": true,
    "slideshow": {
     "slide_type": "skip"
    },
    "tags": [
     "blank"
    ]
   },
   "source": [
    "```\n",
    "\n",
    "```"
   ]
  },
  {
   "cell_type": "code",
   "execution_count": 8,
   "id": "165da5c0-1158-41e2-9ac8-0b904f8ac690",
   "metadata": {
    "editable": true,
    "slideshow": {
     "slide_type": ""
    },
    "tags": [
     "worksheet-code-only"
    ]
   },
   "outputs": [
    {
     "data": {
      "text/plain": [
       "7.5"
      ]
     },
     "execution_count": 8,
     "metadata": {},
     "output_type": "execute_result"
    }
   ],
   "source": [
    "15 / 2"
   ]
  },
  {
   "cell_type": "markdown",
   "id": "95afa781-ef3e-44a6-b557-49bed389aa14",
   "metadata": {
    "editable": true,
    "slideshow": {
     "slide_type": "skip"
    },
    "tags": [
     "blank"
    ]
   },
   "source": [
    "```\n",
    "\n",
    "```"
   ]
  },
  {
   "cell_type": "code",
   "execution_count": 9,
   "id": "2cdb4077-6cbe-4102-985f-0e2d3f497278",
   "metadata": {
    "editable": true,
    "slideshow": {
     "slide_type": ""
    },
    "tags": [
     "worksheet-code-only"
    ]
   },
   "outputs": [
    {
     "data": {
      "text/plain": [
       "0"
      ]
     },
     "execution_count": 9,
     "metadata": {},
     "output_type": "execute_result"
    }
   ],
   "source": [
    "6 % 2"
   ]
  },
  {
   "cell_type": "markdown",
   "id": "540c3820-1765-428a-97cc-ff50c5ce60da",
   "metadata": {
    "editable": true,
    "slideshow": {
     "slide_type": "skip"
    },
    "tags": [
     "blank"
    ]
   },
   "source": [
    "```\n",
    "\n",
    "```"
   ]
  },
  {
   "cell_type": "code",
   "execution_count": 15,
   "id": "6abd614c-590e-4132-8b54-745ecd8a57eb",
   "metadata": {
    "editable": true,
    "slideshow": {
     "slide_type": ""
    },
    "tags": [
     "worksheet-code-only"
    ]
   },
   "outputs": [
    {
     "ename": "TypeError",
     "evalue": "can only concatenate str (not \"int\") to str",
     "output_type": "error",
     "traceback": [
      "\u001b[0;31m---------------------------------------------------------------------------\u001b[0m",
      "\u001b[0;31mTypeError\u001b[0m                                 Traceback (most recent call last)",
      "\u001b[0;32m/var/folders/bd/35sz70xs5837wszrx11bw1yc0000gn/T/ipykernel_22323/2126290684.py\u001b[0m in \u001b[0;36m<module>\u001b[0;34m\u001b[0m\n\u001b[1;32m      1\u001b[0m \u001b[0;31m#11)\u001b[0m\u001b[0;34m\u001b[0m\u001b[0;34m\u001b[0m\u001b[0;34m\u001b[0m\u001b[0m\n\u001b[0;32m----> 2\u001b[0;31m \u001b[0;34m'abc'\u001b[0m \u001b[0;34m+\u001b[0m \u001b[0;36m123\u001b[0m\u001b[0;34m\u001b[0m\u001b[0;34m\u001b[0m\u001b[0m\n\u001b[0m",
      "\u001b[0;31mTypeError\u001b[0m: can only concatenate str (not \"int\") to str"
     ]
    }
   ],
   "source": [
    "'abc' + 123"
   ]
  },
  {
   "cell_type": "markdown",
   "id": "d274d681-4620-42ac-b54c-b4c6e540a42e",
   "metadata": {
    "editable": true,
    "slideshow": {
     "slide_type": "skip"
    },
    "tags": [
     "blank"
    ]
   },
   "source": [
    "```\n",
    "\n",
    "```"
   ]
  },
  {
   "cell_type": "code",
   "execution_count": 16,
   "id": "cca5cc93-c7e8-4146-a77f-8fc7474b4da3",
   "metadata": {
    "editable": true,
    "slideshow": {
     "slide_type": ""
    },
    "tags": [
     "worksheet-code-only"
    ]
   },
   "outputs": [
    {
     "data": {
      "text/plain": [
       "'banana'"
      ]
     },
     "execution_count": 16,
     "metadata": {},
     "output_type": "execute_result"
    }
   ],
   "source": [
    "\"ba\" + \"na\" * 2"
   ]
  },
  {
   "cell_type": "markdown",
   "id": "6a8c1d88-c715-4dbe-a99e-2052499e1364",
   "metadata": {
    "editable": true,
    "slideshow": {
     "slide_type": "skip"
    },
    "tags": [
     "blank"
    ]
   },
   "source": [
    "```\n",
    "\n",
    "```"
   ]
  },
  {
   "cell_type": "markdown",
   "id": "233f1dc9-0283-4245-9309-68639ee69967",
   "metadata": {
    "editable": true,
    "slideshow": {
     "slide_type": "slide"
    },
    "tags": []
   },
   "source": [
    "## Code tracing"
   ]
  },
  {
   "cell_type": "markdown",
   "id": "cf7e4576-2558-4b2e-9e36-4fbb334628a0",
   "metadata": {
    "editable": true,
    "slideshow": {
     "slide_type": ""
    },
    "tags": [
     "question"
    ]
   },
   "source": [
    "_What is the output of the following programs?_"
   ]
  },
  {
   "cell_type": "code",
   "execution_count": 25,
   "id": "6e73851c-5b6c-45b8-a61b-96216c2bdb5f",
   "metadata": {
    "editable": true,
    "slideshow": {
     "slide_type": ""
    },
    "tags": [
     "worksheet-code-only"
    ]
   },
   "outputs": [
    {
     "name": "stdout",
     "output_type": "stream",
     "text": [
      "2 3 4\n"
     ]
    }
   ],
   "source": [
    "def main() -> None:\n",
    "    a = 1\n",
    "    b = 2\n",
    "    c = a + 3\n",
    "    a = b\n",
    "    b = b + 1\n",
    "    print(a, b, c)\n",
    "\n",
    "main()"
   ]
  },
  {
   "cell_type": "markdown",
   "id": "bf30ab5f-ba47-4999-8c22-85f8b3d3106d",
   "metadata": {
    "editable": true,
    "slideshow": {
     "slide_type": "skip"
    },
    "tags": [
     "blank"
    ]
   },
   "source": [
    "```\n",
    "\n",
    "\n",
    "\n",
    "```"
   ]
  },
  {
   "cell_type": "code",
   "execution_count": 13,
   "id": "b16dc0c9-6f57-4788-94d5-3d91bc5bfd8c",
   "metadata": {
    "editable": true,
    "slideshow": {
     "slide_type": ""
    },
    "tags": [
     "worksheet-code-only"
    ]
   },
   "outputs": [
    {
     "name": "stdout",
     "output_type": "stream",
     "text": [
      "ae\n",
      "on\n"
     ]
    }
   ],
   "source": [
    "def main() -> None:\n",
    "    a = 'kangaroo'\n",
    "    b = 'penguin'\n",
    "    print(a[1] + b[1])\n",
    "    print(a[-1] + b[len(b)-1])\n",
    "\n",
    "main()"
   ]
  },
  {
   "cell_type": "markdown",
   "id": "6c7cb7f2-72b8-4d62-a518-70608a37c3a6",
   "metadata": {
    "editable": true,
    "slideshow": {
     "slide_type": "skip"
    },
    "tags": [
     "blank"
    ]
   },
   "source": [
    "```\n",
    "\n",
    "\n",
    "\n",
    "```"
   ]
  },
  {
   "cell_type": "code",
   "execution_count": 14,
   "id": "bbe393ce-f422-4352-a059-5dec9906fb46",
   "metadata": {
    "editable": true,
    "slideshow": {
     "slide_type": "subslide"
    },
    "tags": [
     "worksheet-code-only"
    ]
   },
   "outputs": [
    {
     "name": "stdout",
     "output_type": "stream",
     "text": [
      "0b1a2t\n",
      "tab\n"
     ]
    }
   ],
   "source": [
    "def main() -> None:\n",
    "    u = \"bat\"\n",
    "    v = \"\"\n",
    "    w = \"\"\n",
    "    for i in range(len(u)):\n",
    "        v = v + str(i) + u[i]\n",
    "        w = u[i] + w\n",
    "    print(v)\n",
    "    print(w)\n",
    "\n",
    "main()"
   ]
  },
  {
   "cell_type": "markdown",
   "id": "a41b92a9-5c64-4855-8328-55faf9a954a9",
   "metadata": {
    "editable": true,
    "slideshow": {
     "slide_type": "skip"
    },
    "tags": [
     "blank"
    ]
   },
   "source": [
    "```\n",
    "\n",
    "\n",
    "\n",
    "\n",
    "\n",
    "\n",
    "\n",
    "\n",
    "```"
   ]
  },
  {
   "cell_type": "code",
   "execution_count": 27,
   "id": "97a034b2-9ea1-4725-aab0-f945280c4809",
   "metadata": {
    "editable": true,
    "slideshow": {
     "slide_type": ""
    },
    "tags": [
     "worksheet-code-only"
    ]
   },
   "outputs": [
    {
     "name": "stdout",
     "output_type": "stream",
     "text": [
      "01234 8642 2\n"
     ]
    }
   ],
   "source": [
    "def main() -> None:\n",
    "    a = ''\n",
    "    b = str(8)\n",
    "    for c in range(5):\n",
    "        a = a + str(c)\n",
    "    for c in range(6, 0, -2):\n",
    "        b = b + str(c)\n",
    "    print(a,b,c)\n",
    "\n",
    "main()"
   ]
  },
  {
   "cell_type": "markdown",
   "id": "d25b3222-1bca-48f3-9d8d-228b4e5f23d7",
   "metadata": {
    "editable": true,
    "slideshow": {
     "slide_type": "skip"
    },
    "tags": [
     "blank"
    ]
   },
   "source": [
    "```\n",
    "\n",
    "\n",
    "\n",
    "\n",
    "\n",
    "\n",
    "\n",
    "\n",
    "```"
   ]
  },
  {
   "cell_type": "code",
   "execution_count": 15,
   "id": "5e7fa0a7-d9ff-4272-bc64-65f37d5a4810",
   "metadata": {
    "editable": true,
    "slideshow": {
     "slide_type": "subslide"
    },
    "tags": [
     "worksheet-code-only"
    ]
   },
   "outputs": [
    {
     "name": "stdout",
     "output_type": "stream",
     "text": [
      "30\n",
      "185\n",
      "None\n"
     ]
    }
   ],
   "source": [
    "def funcA(f: int) -> int:\n",
    "    f = f * 2\n",
    "    return f * 3\n",
    "    \n",
    "def funcB(g: int) -> None:\n",
    "    g = g + 2\n",
    "    print(g + 3)\n",
    "\n",
    "def main() -> None:\n",
    "    h = 5\n",
    "    i = funcA(h)\n",
    "    print(i)\n",
    "    j = funcB(funcA(i))\n",
    "    print(j)\n",
    "\n",
    "main()"
   ]
  },
  {
   "cell_type": "markdown",
   "id": "7270aee6-1849-4e53-9476-6c5891b779bc",
   "metadata": {
    "editable": true,
    "slideshow": {
     "slide_type": "skip"
    },
    "tags": [
     "blank"
    ]
   },
   "source": [
    "```\n",
    "\n",
    "\n",
    "\n",
    "\n",
    "\n",
    "```"
   ]
  },
  {
   "cell_type": "code",
   "execution_count": 19,
   "id": "a909d79b-780f-46b2-aca0-58da80d5162c",
   "metadata": {
    "editable": true,
    "slideshow": {
     "slide_type": "subslide"
    },
    "tags": [
     "worksheet-code-only"
    ]
   },
   "outputs": [
    {
     "name": "stdout",
     "output_type": "stream",
     "text": [
      "9 7\n",
      "8 2\n",
      "ed\n"
     ]
    }
   ],
   "source": [
    "def funcC(m: int) -> int:\n",
    "    n = m + 1\n",
    "    q = m - 1\n",
    "    print(n, q)\n",
    "    return m // 3\n",
    "\n",
    "def funcD(u: str, v: int) -> str:\n",
    "    w = u[v] + u[-v]\n",
    "    print(w)\n",
    "\n",
    "def main() -> None:\n",
    "    m = 8\n",
    "    q = 2\n",
    "    q = funcC(m)\n",
    "    print(m, q)\n",
    "    r = \"keyboard\"\n",
    "    funcD(r, 1)\n",
    "\n",
    "main()"
   ]
  },
  {
   "cell_type": "markdown",
   "id": "a7d1a856-2266-45fa-8adc-2d9d21f9a951",
   "metadata": {
    "editable": true,
    "slideshow": {
     "slide_type": "skip"
    },
    "tags": [
     "blank"
    ]
   },
   "source": [
    "```\n",
    "\n",
    "\n",
    "\n",
    "\n",
    "\n",
    "\n",
    "\n",
    "```"
   ]
  },
  {
   "cell_type": "markdown",
   "id": "3cdffa2a-b3cc-4cbf-91d2-325f7abdda77",
   "metadata": {
    "editable": true,
    "slideshow": {
     "slide_type": "slide"
    },
    "tags": []
   },
   "source": [
    "## Writing code"
   ]
  },
  {
   "cell_type": "markdown",
   "id": "cdde5c14-b7b2-4321-8844-f2cc17390ef9",
   "metadata": {
    "editable": true,
    "slideshow": {
     "slide_type": ""
    },
    "tags": [
     "question"
    ]
   },
   "source": [
    "_Write a program that computes how much an employee earns in a week. The program should ask for the employee’s hourly pay rate and the number of hours they worked each day of the week._"
   ]
  },
  {
   "cell_type": "code",
   "execution_count": null,
   "id": "34f44682-23c5-4fcc-a7d0-e728b98837ed",
   "metadata": {
    "editable": true,
    "slideshow": {
     "slide_type": "skip"
    },
    "tags": [
     "answer"
    ]
   },
   "outputs": [],
   "source": [
    "def main() -> None:\n",
    "    rate = float(input('Hourly rate? '))\n",
    "    hours = 0\n",
    "    for day in ['Sun', 'Mon', 'Tues', 'Wed', 'Thurs', 'Fri', 'Sat']:\n",
    "        daily_hours = int(input('Hours worked on ' + day + '? '))\n",
    "        hours = hours + daily_hours\n",
    "    print('Weekly pay: $' + str(hours * rate))\n",
    "\n",
    "main()"
   ]
  },
  {
   "cell_type": "markdown",
   "id": "57b6b52f-88dc-408e-9c51-b3c9a38c46b1",
   "metadata": {
    "editable": true,
    "slideshow": {
     "slide_type": "skip"
    },
    "tags": [
     "blank"
    ]
   },
   "source": [
    "```\n",
    "\n",
    "\n",
    "\n",
    "\n",
    "\n",
    "\n",
    "\n",
    "\n",
    "\n",
    "\n",
    "\n",
    "\n",
    "\n",
    "\n",
    "\n",
    "```"
   ]
  },
  {
   "cell_type": "markdown",
   "id": "7f2d2f6e-add3-4838-94ef-1ee28fc6aa3d",
   "metadata": {
    "editable": true,
    "slideshow": {
     "slide_type": ""
    },
    "tags": [
     "question"
    ]
   },
   "source": [
    "_Write a program that asks for a pizza’s diameter (in centimeters) and number of slices and computes the area of each slice. (Hint: The area of a circle is 𝜋r².)_"
   ]
  },
  {
   "cell_type": "code",
   "execution_count": null,
   "id": "8f04723f-e1ef-4b87-b853-c68c41cdedb6",
   "metadata": {
    "editable": true,
    "slideshow": {
     "slide_type": "skip"
    },
    "tags": [
     "answer"
    ]
   },
   "outputs": [],
   "source": [
    "import math\n",
    "def main() -> None:\n",
    "    diameter = int(input('Diameter? '))\n",
    "    slices = int(input('Slices? '))\n",
    "    total_area = math.pi * (diameter/2) ** 2\n",
    "    slice_area = total_area / slices\n",
    "    print('Each slice is', slice_area, 'square cm')\n",
    "\n",
    "main()"
   ]
  },
  {
   "cell_type": "markdown",
   "id": "f0158880-86e6-48ea-9a9a-89b87a0936ae",
   "metadata": {
    "editable": true,
    "slideshow": {
     "slide_type": "skip"
    },
    "tags": [
     "blank"
    ]
   },
   "source": [
    "```\n",
    "\n",
    "\n",
    "\n",
    "\n",
    "\n",
    "\n",
    "\n",
    "\n",
    "\n",
    "\n",
    "\n",
    "\n",
    "\n",
    "\n",
    "\n",
    "\n",
    "```"
   ]
  },
  {
   "cell_type": "markdown",
   "id": "9d5ccfd3-4d52-47b8-8ee0-5a3df6093721",
   "metadata": {
    "editable": true,
    "slideshow": {
     "slide_type": "subslide"
    },
    "tags": []
   },
   "source": [
    "_Write a program that asks for the number of rows and columns and draws a grid of that size. For example:_\n",
    "```\n",
    "How many rows? 3\n",
    "How many columns? 5\n",
    "+-+-+-+-+-+\n",
    "| | | | | |\n",
    "+-+-+-+-+-+\n",
    "| | | | | |\n",
    "+-+-+-+-+-+\n",
    "| | | | | |\n",
    "+-+-+-+-+-+\n",
    "```"
   ]
  },
  {
   "cell_type": "code",
   "execution_count": 11,
   "id": "67381e6a-b342-4cbb-b555-d9efff71b33e",
   "metadata": {
    "editable": true,
    "slideshow": {
     "slide_type": "skip"
    },
    "tags": [
     "answer"
    ]
   },
   "outputs": [
    {
     "name": "stdin",
     "output_type": "stream",
     "text": [
      "How many rows?  3\n",
      "How many columns?  5\n"
     ]
    },
    {
     "name": "stdout",
     "output_type": "stream",
     "text": [
      "+-+-+-+-+-+\n",
      "| | | | | |\n",
      "+-+-+-+-+-+\n",
      "| | | | | |\n",
      "+-+-+-+-+-+\n",
      "| | | | | |\n",
      "+-+-+-+-+-+\n"
     ]
    }
   ],
   "source": [
    "def print_line(cols: int) -> None:\n",
    "    line = \"+\" + (\"-+\" * cols)\n",
    "    print(line)\n",
    "\n",
    "def print_cells(cols: int) -> None:\n",
    "    cells = \"|\" + (\" |\" * cols)\n",
    "    print(cells)\n",
    "\n",
    "def main() -> None:\n",
    "    rows = int(input(\"How many rows? \"))\n",
    "    cols = int(input(\"How many columns? \"))\n",
    "    for i in range(rows):\n",
    "        print_line(cols)\n",
    "        print_cells(cols)\n",
    "    print_line(cols)\n",
    "\n",
    "main()"
   ]
  },
  {
   "cell_type": "markdown",
   "id": "abdc1c71-6c23-4f7d-ad9a-02aabdb9d6c9",
   "metadata": {
    "editable": true,
    "slideshow": {
     "slide_type": "skip"
    },
    "tags": [
     "blank"
    ]
   },
   "source": [
    "```\n",
    "\n",
    "\n",
    "\n",
    "\n",
    "\n",
    "\n",
    "\n",
    "\n",
    "\n",
    "\n",
    "\n",
    "\n",
    "\n",
    "\n",
    "\n",
    "\n",
    "```"
   ]
  }
 ],
 "metadata": {
  "kernelspec": {
   "display_name": "Python 3 (ipykernel)",
   "language": "python",
   "name": "python3"
  },
  "language_info": {
   "codemirror_mode": {
    "name": "ipython",
    "version": 3
   },
   "file_extension": ".py",
   "mimetype": "text/x-python",
   "name": "python",
   "nbconvert_exporter": "python",
   "pygments_lexer": "ipython3",
   "version": "3.9.6"
  }
 },
 "nbformat": 4,
 "nbformat_minor": 5
}
