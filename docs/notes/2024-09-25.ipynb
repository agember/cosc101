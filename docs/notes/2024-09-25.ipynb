{
 "cells": [
  {
   "cell_type": "markdown",
   "id": "f28da67a-4b9a-4818-b024-77b6d20c5d9d",
   "metadata": {
    "editable": true,
    "slideshow": {
     "slide_type": "skip"
    },
    "tags": []
   },
   "source": [
    "# Iteration: mapping patterns to loops\n",
    "_COSC 101, Introduction to Computing I, 2024-09-25_"
   ]
  },
  {
   "cell_type": "markdown",
   "id": "b92bdda7-a263-4332-a4e7-a48ddcd4e95b",
   "metadata": {
    "editable": true,
    "slideshow": {
     "slide_type": "skip"
    },
    "tags": []
   },
   "source": [
    "## Announcements\n",
    "* Homework 3 due Friday at 6pm\n",
    "* Exam 1 next Wednesday during class"
   ]
  },
  {
   "cell_type": "markdown",
   "id": "0599d3ca-64db-4b35-ab17-c32594d7380a",
   "metadata": {
    "editable": true,
    "slideshow": {
     "slide_type": "slide"
    },
    "tags": []
   },
   "source": [
    "## Mapping patterns to loops"
   ]
  },
  {
   "cell_type": "markdown",
   "id": "d24b48dc-0e52-4d00-b784-b127e3fbf445",
   "metadata": {
    "editable": true,
    "slideshow": {
     "slide_type": "skip"
    },
    "tags": [
     "notes-only"
    ]
   },
   "source": [
    "* Process\n",
    "    1. Identify repeated tasks — tasks may not be _exactly_ the same\n",
    "    2. Determine which repeated tasks can be \"collated\"\n",
    "\n",
    "        ![Collated vs uncollated](figures/for_loops/collated-vs-uncollated.png)\n",
    "\n",
    "    3. Determine how many times the \"collated\" tasks need to be repeated\n",
    "    4. Write the tasks, using the loop variable to accommodate _slight_ differences between repetitions"
   ]
  },
  {
   "cell_type": "markdown",
   "id": "a9e3223d-5742-4383-874a-f9adf47b33ea",
   "metadata": {
    "editable": true,
    "slideshow": {
     "slide_type": ""
    },
    "tags": [
     "question"
    ]
   },
   "source": [
    "* Example"
   ]
  },
  {
   "cell_type": "code",
   "execution_count": 4,
   "id": "6753fe0f-9cda-424e-9d9f-6fc99e40b7bf",
   "metadata": {
    "editable": true,
    "slideshow": {
     "slide_type": ""
    },
    "tags": [
     "question"
    ]
   },
   "outputs": [],
   "source": [
    "def contribute(thing: str) -> float:\n",
    "    \"\"\"\n",
    "    Determine user's annual contributions to something\n",
    "\n",
    "    Parameters:\n",
    "        item: item to which the user contributed\n",
    "    Return:\n",
    "        amount user contributed in a year\n",
    "    \"\"\"\n",
    "    monthly = float(input(\"How much did you contribute to \"+thing+\" each month? $\"))\n",
    "    annually = monthly * 12\n",
    "    return annually\n",
    "    \n",
    "def compute_deductions() -> float:\n",
    "    \"\"\"\n",
    "    Calculate total deduction based on contributions\n",
    "\n",
    "    Return:\n",
    "        user's total deducation\n",
    "    \"\"\"\n",
    "    charity = contribute(\"charity\")\n",
    "    total = charity\n",
    "    ira = contribute(\"a traditional IRA\")\n",
    "    total = total + ira\n",
    "    education = contribute(\"education costs\")\n",
    "    total = total + education\n",
    "    return total"
   ]
  },
  {
   "cell_type": "code",
   "execution_count": 11,
   "id": "74b650e4-9074-4f15-8334-a4053248d52d",
   "metadata": {
    "editable": true,
    "slideshow": {
     "slide_type": "skip"
    },
    "tags": [
     "answer"
    ]
   },
   "outputs": [],
   "source": [
    "def compute_deductions() -> float:\n",
    "    \"\"\"\n",
    "    Calculate total deduction based on contributions\n",
    "\n",
    "    Return:\n",
    "        user's total deducation\n",
    "    \"\"\"\n",
    "    total = 0\n",
    "    for thing in [\"charity\", \"a traditional IRA\", \"education costs\"]:\n",
    "        amount = contribute(thing)\n",
    "        total = total + amount\n",
    "    return total"
   ]
  },
  {
   "cell_type": "markdown",
   "id": "bfbdf93b-6bde-4eed-8489-9b41c9b25a17",
   "metadata": {
    "editable": true,
    "slideshow": {
     "slide_type": "skip"
    },
    "tags": [
     "blank"
    ]
   },
   "source": [
    "```\n",
    "\n",
    "\n",
    "\n",
    "\n",
    "\n",
    "\n",
    "\n",
    "\n",
    "\n",
    "\n",
    "```"
   ]
  },
  {
   "cell_type": "code",
   "execution_count": 10,
   "id": "7f11d761-4d3e-4306-8e9c-75447f59b84e",
   "metadata": {
    "editable": true,
    "slideshow": {
     "slide_type": ""
    },
    "tags": [
     "notes-only"
    ]
   },
   "outputs": [
    {
     "name": "stdin",
     "output_type": "stream",
     "text": [
      "How much did you earn last year? $ 50000\n",
      "How much did you contribute to charity each month? $ 50\n",
      "How much did you contribute to a traditional IRA each month? $ 100\n",
      "How much did you contribute to education costs each month? $ 75\n"
     ]
    },
    {
     "name": "stdout",
     "output_type": "stream",
     "text": [
      "Your taxable income is $47300.0\n"
     ]
    }
   ],
   "source": [
    "def taxable(income: float, deductions: float) -> float:\n",
    "    \"\"\"\n",
    "    Calculate taxable income\n",
    "\n",
    "    Parameters:\n",
    "        income: annual income\n",
    "        deductions: total deductions\n",
    "    Return:\n",
    "        taxable income\n",
    "    \"\"\"\n",
    "    taxable = income - deductions\n",
    "    return taxable\n",
    "    \n",
    "def main():\n",
    "    income = float(input(\"How much did you earn last year? $\"))\n",
    "    deductions = compute_deductions()\n",
    "    net = taxable(income, deductions)\n",
    "    print(\"Your taxable income is $\"+str(net))\n",
    "\n",
    "main()"
   ]
  },
  {
   "cell_type": "markdown",
   "id": "b02965eb-1813-4672-9ec5-176fb7f00a3d",
   "metadata": {
    "editable": true,
    "slideshow": {
     "slide_type": "slide"
    },
    "tags": [
     "question"
    ]
   },
   "source": [
    "_Each of the following programs contains redundant code. Rewrite the program to use a loop and eliminate the redundancy._"
   ]
  },
  {
   "cell_type": "code",
   "execution_count": null,
   "id": "ede80772-5dc2-480a-9bed-74da41525e41",
   "metadata": {
    "editable": true,
    "slideshow": {
     "slide_type": ""
    },
    "tags": [
     "question"
    ]
   },
   "outputs": [],
   "source": [
    "import random\n",
    "def main() -> None:\n",
    "    die1 = random.randrange(0,6)\n",
    "    die2 = random.randrange(0,6)\n",
    "    die3 = random.randrange(0,6)\n",
    "    print(\"Die 1: \" + str(die1))\n",
    "    print(\"Die 2: \" + str(die2))\n",
    "    print(\"Die 3: \" + str(die3))\n",
    "\n",
    "main()"
   ]
  },
  {
   "cell_type": "code",
   "execution_count": null,
   "id": "ad8fe841-c1cd-4747-988a-2412f47c8e77",
   "metadata": {
    "editable": true,
    "slideshow": {
     "slide_type": "skip"
    },
    "tags": [
     "answer"
    ]
   },
   "outputs": [],
   "source": [
    "import random\n",
    "def main() -> None:\n",
    "    for num in [1,2,3]:\n",
    "        die = random.randrange(0,6)\n",
    "        print(\"Die \" + str(num) + \": \" + str(die))\n",
    "        \n",
    "main()"
   ]
  },
  {
   "cell_type": "markdown",
   "id": "3e1fff93-53b9-49d2-921c-a73d6e5bda31",
   "metadata": {
    "editable": true,
    "slideshow": {
     "slide_type": "skip"
    },
    "tags": [
     "blank"
    ]
   },
   "source": [
    "```\n",
    "\n",
    "\n",
    "\n",
    "\n",
    "\n",
    "\n",
    "\n",
    "\n",
    "\n",
    "\n",
    "```"
   ]
  },
  {
   "cell_type": "code",
   "execution_count": null,
   "id": "9b1ba9ec-f030-4157-b4f0-9fd3b0eeed54",
   "metadata": {
    "editable": true,
    "slideshow": {
     "slide_type": "subslide"
    },
    "tags": [
     "question"
    ]
   },
   "outputs": [],
   "source": [
    "def main() -> None:\n",
    "    months = [\"Jan\", \"Feb\", \"Mar\", \"Apr\", \"May\", \"Jun\"]\n",
    "    days = [31, 28, 31, 30, 31, 30]\n",
    "    print(months[0] + \" has \" + str(days[0]) + \" days\")\n",
    "    print(months[1] + \" has \" + str(days[1]) + \" days\")\n",
    "    print(months[2] + \" has \" + str(days[2]) + \" days\")\n",
    "    print(months[3] + \" has \" + str(days[3]) + \" days\")\n",
    "    print(months[4] + \" has \" + str(days[4]) + \" days\")\n",
    "    print(months[5] + \" has \" + str(days[5]) + \" days\")\n",
    "main()"
   ]
  },
  {
   "cell_type": "code",
   "execution_count": null,
   "id": "3467a738-a2d7-4921-903d-3df95f90f529",
   "metadata": {
    "editable": true,
    "slideshow": {
     "slide_type": "skip"
    },
    "tags": [
     "answer"
    ]
   },
   "outputs": [],
   "source": [
    "def main() -> None:\n",
    "    months = [\"Jan\", \"Feb\", \"Mar\", \"Apr\", \"May\", \"Jun\"]\n",
    "    days = [31, 28, 31, 30, 31, 30]\n",
    "    for num in range(len(months)):\n",
    "        print(months[num] + \" has \" + str(days[num]) + \" days\")\n",
    "\n",
    "main()"
   ]
  },
  {
   "cell_type": "markdown",
   "id": "d5211526-c08f-4e86-9c28-00c406f1098f",
   "metadata": {
    "editable": true,
    "slideshow": {
     "slide_type": "skip"
    },
    "tags": [
     "blank"
    ]
   },
   "source": [
    "```\n",
    "\n",
    "\n",
    "\n",
    "\n",
    "\n",
    "\n",
    "\n",
    "\n",
    "\n",
    "\n",
    "```"
   ]
  },
  {
   "cell_type": "code",
   "execution_count": null,
   "id": "02449448-e15f-409f-a420-8b1b37296025",
   "metadata": {
    "editable": true,
    "slideshow": {
     "slide_type": "subslide"
    },
    "tags": [
     "question"
    ]
   },
   "outputs": [],
   "source": [
    "def main() -> None:\n",
    "    initials = \"\"\n",
    "    first = input(\"What is your first name? \")\n",
    "    initials = initials + first[0] + \".\"\n",
    "    middle = input(\"What is your middle name? \")\n",
    "    initials = initials + middle[0] + \".\"\n",
    "    last = input(\"What is your last name? \")\n",
    "    initials = initials + last[0] + \".\"\n",
    "    print(\"Your initials are \" + initials)\n",
    "\n",
    "main()"
   ]
  },
  {
   "cell_type": "code",
   "execution_count": null,
   "id": "5457dc71-6b65-4609-83b6-eb8716392577",
   "metadata": {
    "editable": true,
    "slideshow": {
     "slide_type": "skip"
    },
    "tags": [
     "answer"
    ]
   },
   "outputs": [],
   "source": [
    "def main() -> None:\n",
    "    initials = \"\"\n",
    "    for part in [\"first\", \"middle\", \"last\"]:\n",
    "        name = input(\"What is your \" + part + \" name? \")\n",
    "        initials = initials + name[0] + \".\"\n",
    "    print(\"Your initials are \" + initials)\n",
    "\n",
    "main()"
   ]
  },
  {
   "cell_type": "markdown",
   "id": "5e329ed4-5c03-419c-80f5-616e4b30533b",
   "metadata": {
    "editable": true,
    "slideshow": {
     "slide_type": "skip"
    },
    "tags": [
     "blank"
    ]
   },
   "source": [
    "```\n",
    "\n",
    "\n",
    "\n",
    "\n",
    "\n",
    "\n",
    "\n",
    "\n",
    "\n",
    "\n",
    "```\n",
    "🛑 **STOP here** after completing the above questions; if you have extra time **skip** to the extra practice."
   ]
  },
  {
   "cell_type": "markdown",
   "id": "54db99d9-c2e7-4df3-a12e-7af46fbb302b",
   "metadata": {
    "editable": true,
    "slideshow": {
     "slide_type": "subslide"
    },
    "tags": [
     "question"
    ]
   },
   "source": [
    "_Write a program that asks a user how many steps they walked each day of the week and computes their step total for the week. For example:_\n",
    "\n",
    "```\n",
    "How many steps did you walk on Sun?  2000\n",
    "How many steps did you walk on Mon?  7000\n",
    "How many steps did you walk on Tues?  8500\n",
    "How many steps did you walk on Wed?  7312\n",
    "How many steps did you walk on Thurs?  8324\n",
    "How many steps did you walk on Fri?  6381\n",
    "How many steps did you walk on Sat?  2319\n",
    "You walked 41836 steps this week\n",
    "```"
   ]
  },
  {
   "cell_type": "code",
   "execution_count": null,
   "id": "2422fdcb-e7d5-42ce-8a7a-c9da8fe31cf9",
   "metadata": {
    "editable": true,
    "slideshow": {
     "slide_type": "skip"
    },
    "tags": [
     "answer"
    ]
   },
   "outputs": [],
   "source": [
    "def main() -> None:\n",
    "    week_steps = 0\n",
    "    for day in [\"Sun\",\"Mon\",\"Tues\",\"Wed\",\"Thurs\",\"Fri\",\"Sat\"]:\n",
    "        daily_steps = input(\"How many steps did you walk on \"+day+\"? \")\n",
    "        week_steps += int(daily_steps)\n",
    "    print(\"You walked \" + str(week_steps) + \" steps this week\")\n",
    "\n",
    "main()"
   ]
  },
  {
   "cell_type": "markdown",
   "id": "f17f8eac-b23f-48cd-b1ec-fb2535977167",
   "metadata": {
    "editable": true,
    "slideshow": {
     "slide_type": "skip"
    },
    "tags": [
     "blank"
    ]
   },
   "source": [
    "```\n",
    "\n",
    "\n",
    "\n",
    "\n",
    "\n",
    "\n",
    "\n",
    "\n",
    "\n",
    "\n",
    "```"
   ]
  },
  {
   "cell_type": "markdown",
   "id": "32e4bb81-e0d9-4963-b5de-1e1733f71cd1",
   "metadata": {
    "editable": true,
    "slideshow": {
     "slide_type": "subslide"
    },
    "tags": [
     "question"
    ]
   },
   "source": [
    "_Write a program that asks for a whole number and outputs:_\n",
    "1. _The number of digits in the number_\n",
    "2. _The sum of the digits in the number_\n",
    "3. _The digits in reverse order_\n",
    "4. _Every other digit, starting with the first digit_\n",
    "5. _The sum of the digits printed above_\n",
    "\n",
    "_For example:_\n",
    "```\n",
    "Enter a number:  13346\n",
    "There are 5 digits in the number\n",
    "The sum of the digits is 17\n",
    "The reversed number is 64331\n",
    "Including every other digit yields 136\n",
    "The sum of these digits is 10\n",
    "```"
   ]
  },
  {
   "cell_type": "code",
   "execution_count": null,
   "id": "34f8104e-5adc-4f5e-a633-ff71c5425881",
   "metadata": {
    "editable": true,
    "slideshow": {
     "slide_type": "skip"
    },
    "tags": [
     "answer"
    ]
   },
   "outputs": [],
   "source": [
    "def sum(num: str) -> None:\n",
    "    total = 0\n",
    "    for i in range(len(num)):\n",
    "        total = total + int(num[i])\n",
    "    return total\n",
    "\n",
    "def reverse(num: str) -> None:\n",
    "    rev = \"\"\n",
    "    for digit in num:\n",
    "        rev = digit + rev\n",
    "    return rev\n",
    "\n",
    "def skip(num: str) -> None:\n",
    "    part = \"\"\n",
    "    for i in range(0, len(num), 2):\n",
    "        part = part + num[i]\n",
    "    return part\n",
    "\n",
    "def main() -> None:\n",
    "    num = input(\"Enter a number: \")\n",
    "    print(\"There are \" + str(len(num)) + \" digits in the number\")\n",
    "    print(\"The sum of the digits is \" + str(sum(num)))\n",
    "    print(\"The reversed number is \" + reverse(num))\n",
    "    part = skip(num)\n",
    "    print(\"Including every other digit yields \" + part)\n",
    "    print(\"The sum of these digits is \" + str(sum(part)))\n",
    "\n",
    "main()"
   ]
  },
  {
   "cell_type": "markdown",
   "id": "b28fe761-f235-49e3-932a-acd484802647",
   "metadata": {
    "editable": true,
    "slideshow": {
     "slide_type": "skip"
    },
    "tags": [
     "worksheet-only",
     "blank"
    ]
   },
   "source": [
    "```\n",
    "\n",
    "\n",
    "\n",
    "\n",
    "\n",
    "\n",
    "\n",
    "\n",
    "\n",
    "\n",
    "\n",
    "\n",
    "\n",
    "\n",
    "\n",
    "\n",
    "\n",
    "\n",
    "\n",
    "\n",
    "\n",
    "\n",
    "\n",
    "\n",
    "\n",
    "```"
   ]
  },
  {
   "cell_type": "markdown",
   "id": "ef740ba3-4268-4e7d-b12a-20d3ef057c25",
   "metadata": {
    "editable": true,
    "slideshow": {
     "slide_type": "subslide"
    },
    "tags": [
     "question"
    ]
   },
   "source": [
    "_Write a program that asks for the dimensions of multiple rooms and computes the total square footage of a house or apartment. For example:_\n",
    "\n",
    "```\n",
    "What is the length of the living room?  20\n",
    "What is the width of the living room?  10\n",
    "What is the length of the kitchen?  15\n",
    "What is the width of the kitchen?  10\n",
    "What is the length of the bedroom?  12\n",
    "What is the width of the bedroom?  10\n",
    "What is the length of the bathroom?  8\n",
    "What is the width of the bathroom?  6\n",
    "The total square footage is 518.0\n",
    "```"
   ]
  },
  {
   "cell_type": "code",
   "execution_count": null,
   "id": "d2b6e702-638f-4b32-ab23-e32efb7db492",
   "metadata": {
    "editable": true,
    "slideshow": {
     "slide_type": "skip"
    },
    "tags": [
     "answer"
    ]
   },
   "outputs": [],
   "source": [
    "def area(room: str) -> int:\n",
    "    length = float(input(\"What is the length of the \" + room + \"? \"))\n",
    "    width = float(input(\"What is the width of the \" + room + \"? \"))\n",
    "    room_area = length * width\n",
    "    return room_area\n",
    "    \n",
    "def main() -> None:\n",
    "    total_area = 0.0\n",
    "    for room in [\"living room\", \"kitchen\", \"bedroom\", \"bathroom\"]:\n",
    "        total_area = total_area + area(room)\n",
    "    print(\"The total square footage is \" + str(total_area))\n",
    "\n",
    "main()"
   ]
  },
  {
   "cell_type": "markdown",
   "id": "03560d16-5ba5-4c0b-9436-3a4ee5b7ad64",
   "metadata": {
    "editable": true,
    "slideshow": {
     "slide_type": "skip"
    },
    "tags": [
     "blank"
    ]
   },
   "source": [
    "```\n",
    "\n",
    "\n",
    "\n",
    "\n",
    "\n",
    "\n",
    "\n",
    "\n",
    "\n",
    "\n",
    "\n",
    "\n",
    "\n",
    "\n",
    "\n",
    "```"
   ]
  },
  {
   "cell_type": "markdown",
   "id": "8bb5227e-732f-490b-8e7c-be16ffab4f63",
   "metadata": {
    "editable": true,
    "slideshow": {
     "slide_type": "slide"
    },
    "tags": []
   },
   "source": [
    "## Extra practice"
   ]
  },
  {
   "cell_type": "markdown",
   "id": "7b36618c-7693-4cb3-b86c-26cb9e7bd26a",
   "metadata": {
    "editable": true,
    "slideshow": {
     "slide_type": "fragment"
    },
    "tags": [
     "question"
    ]
   },
   "source": [
    "_Write a program that flips a coin as many times as the user requested and outputs the percentage of flips that were head. (Hint: use 0 for tails and 1 for heads)_"
   ]
  },
  {
   "cell_type": "code",
   "execution_count": null,
   "id": "e5e3b9c2-ad31-4cb1-b0c5-6a0965848f66",
   "metadata": {
    "editable": true,
    "slideshow": {
     "slide_type": "skip"
    },
    "tags": [
     "answer"
    ]
   },
   "outputs": [],
   "source": [
    "import random\n",
    "def main() -> None:\n",
    "    # Ask for number of flips\n",
    "    flips = int(input(\"How many flips? \"))\n",
    "    heads = 0\n",
    "    # Flip and count heads\n",
    "    for i in range(flips):\n",
    "        coin = random.randint(0,1)\n",
    "        heads = heads + coin\n",
    "    # Display results\n",
    "    percent = heads/flips * 100\n",
    "    print(str(percent)+\"% of the flips were heads\")\n",
    "\n",
    "main()"
   ]
  },
  {
   "cell_type": "markdown",
   "id": "22bc7cdc-ca7e-4e89-9c48-c2510fca88e6",
   "metadata": {
    "editable": true,
    "slideshow": {
     "slide_type": "skip"
    },
    "tags": [
     "blank"
    ]
   },
   "source": [
    "```Python\n",
    "\n",
    "\n",
    "\n",
    "\n",
    "\n",
    "\n",
    "\n",
    "\n",
    "\n",
    "\n",
    "\n",
    "\n",
    "\n",
    "\n",
    "\n",
    "\n",
    "\n",
    "```"
   ]
  }
 ],
 "metadata": {
  "kernelspec": {
   "display_name": "Python 3 (ipykernel)",
   "language": "python",
   "name": "python3"
  },
  "language_info": {
   "codemirror_mode": {
    "name": "ipython",
    "version": 3
   },
   "file_extension": ".py",
   "mimetype": "text/x-python",
   "name": "python",
   "nbconvert_exporter": "python",
   "pygments_lexer": "ipython3",
   "version": "3.9.6"
  }
 },
 "nbformat": 4,
 "nbformat_minor": 5
}
