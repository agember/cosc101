{
 "cells": [
  {
   "cell_type": "markdown",
   "id": "418f2156",
   "metadata": {
    "editable": true,
    "slideshow": {
     "slide_type": "skip"
    },
    "tags": []
   },
   "source": [
    "# Functions: definition; control flow; parameters\n",
    "_COSC 101, Introduction to Computing I, 2024-09-11_"
   ]
  },
  {
   "cell_type": "markdown",
   "id": "ba521109",
   "metadata": {
    "editable": true,
    "slideshow": {
     "slide_type": "skip"
    },
    "tags": []
   },
   "source": [
    "## Announcements\n",
    "* Homework 1 due Thursday at 11:59pm"
   ]
  },
  {
   "cell_type": "markdown",
   "id": "a561529f",
   "metadata": {
    "editable": true,
    "slideshow": {
     "slide_type": "skip"
    },
    "tags": [
     "notes-only"
    ]
   },
   "source": [
    "## Outline\n",
    "* Warm-up\n",
    "* Defining functions\n",
    "* Control flow\n",
    "* Parameters"
   ]
  },
  {
   "cell_type": "markdown",
   "id": "ad610e2b-9fd1-4696-b29c-270f1741787a",
   "metadata": {
    "editable": true,
    "slideshow": {
     "slide_type": "slide"
    },
    "tags": []
   },
   "source": [
    "## Warm-up"
   ]
  },
  {
   "cell_type": "markdown",
   "id": "92e5ddb2",
   "metadata": {
    "editable": true,
    "slideshow": {
     "slide_type": "-"
    },
    "tags": [
     "question"
    ]
   },
   "source": [
    "_What is the output of the following program? Assume the user enters `frog` and `20` for the inputs._"
   ]
  },
  {
   "cell_type": "code",
   "execution_count": 9,
   "id": "2b98eacf",
   "metadata": {
    "editable": true,
    "slideshow": {
     "slide_type": "-"
    },
    "tags": [
     "worksheet-code-only"
    ]
   },
   "outputs": [
    {
     "name": "stdin",
     "output_type": "stream",
     "text": [
      "What did you see?  frog\n"
     ]
    },
    {
     "name": "stdout",
     "output_type": "stream",
     "text": [
      "That is a <class 'str'>\n",
      "I saw 4-30 of them, not -26\n"
     ]
    },
    {
     "name": "stdin",
     "output_type": "stream",
     "text": [
      "How manyfrogs did you see? 20\n"
     ]
    },
    {
     "name": "stdout",
     "output_type": "stream",
     "text": [
      "I also saw 420 <class 'str'>\n",
      "I wish I saw 50 frog s\n"
     ]
    }
   ],
   "source": [
    "word = input(\"What did you see? \")\n",
    "print(\"That is a\", type(word))\n",
    "lower = 10\n",
    "upper = lower + 20\n",
    "lower = len(word)\n",
    "print(\"I saw\", str(lower) + \"-\" + str(upper), \"of them, not\", lower - upper)\n",
    "count = input(\"How many\" + word + \"s did you see?\")\n",
    "updated = str(lower) + count\n",
    "print(\"I also saw\", updated, type(count))\n",
    "updated = upper + int(count)\n",
    "print(\"I wish I saw\", updated, word, \"s\")"
   ]
  },
  {
   "cell_type": "markdown",
   "id": "205838e8",
   "metadata": {
    "editable": true,
    "slideshow": {
     "slide_type": "skip"
    },
    "tags": [
     "blank"
    ]
   },
   "source": [
    "<div style=\"height:10em;\"></div>"
   ]
  },
  {
   "cell_type": "markdown",
   "id": "73501247-9f89-4bcc-ab05-78790b9f2a3e",
   "metadata": {
    "editable": true,
    "slideshow": {
     "slide_type": ""
    },
    "tags": [
     "question"
    ]
   },
   "source": [
    "_Write a program that asks a user for their age and outputs the year they were born, how old they will be in 2050, and in what year they will twice their current age._"
   ]
  },
  {
   "cell_type": "code",
   "execution_count": 11,
   "id": "961ae225",
   "metadata": {
    "editable": true,
    "scrolled": true,
    "slideshow": {
     "slide_type": "skip"
    },
    "tags": [
     "answer"
    ]
   },
   "outputs": [
    {
     "name": "stdin",
     "output_type": "stream",
     "text": [
      "How old are you?  37\n"
     ]
    },
    {
     "name": "stdout",
     "output_type": "stream",
     "text": [
      "You were born in 1987\n",
      "You will be 63 in 2050\n",
      "You will be twice as old in 2098\n"
     ]
    }
   ],
   "source": [
    "age = int(input(\"How old are you? \"))\n",
    "born = 2024 - age\n",
    "print(\"You were born in\", born)\n",
    "expected = 2050 - 2024 + age\n",
    "print(\"You will be\", expected, \"in 2050\")\n",
    "twice = age * 2 + 2024\n",
    "print(\"You will be twice as old in\", twice)"
   ]
  },
  {
   "cell_type": "markdown",
   "id": "48770dee-e4ec-433a-b805-43a083f45450",
   "metadata": {
    "editable": true,
    "slideshow": {
     "slide_type": "skip"
    },
    "tags": [
     "blank"
    ]
   },
   "source": [
    "<div style=\"height:15em;\"></div>\n",
    "\n",
    "🛑 **STOP here** after completing the warm-up; if you have extra time **skip** to the extra practice.\n",
    "\n",
    "<div style=\"page-break-after:always;\"></div>\n",
    "<div style=\"page-break-after:always;\"></div>"
   ]
  },
  {
   "cell_type": "markdown",
   "id": "d73d7f29-6ceb-4243-a398-9f31bbdccd83",
   "metadata": {
    "editable": true,
    "slideshow": {
     "slide_type": "slide"
    },
    "tags": []
   },
   "source": [
    "## Recall: computational thinking"
   ]
  },
  {
   "cell_type": "markdown",
   "id": "3b6cb65e-8075-4784-9c1b-19e3167d8b5e",
   "metadata": {
    "editable": true,
    "slideshow": {
     "slide_type": "skip"
    },
    "tags": [
     "notes-only"
    ]
   },
   "source": [
    "* Recall that patterns and abstraction are two important parts of computational thinking\n",
    "    * _How do these apply to our cupcake recipe program?_"
   ]
  },
  {
   "cell_type": "code",
   "execution_count": null,
   "id": "fc877737-e25e-43cf-849d-5b77c5edd3a2",
   "metadata": {
    "editable": true,
    "slideshow": {
     "slide_type": ""
    },
    "tags": []
   },
   "outputs": [],
   "source": [
    "dozen = int(input(\"How many dozen cupcakes do you want?\"))\n",
    "print(\"Ingredients:\")\n",
    "print(\"*\", dozen, \"cups flour\")\n",
    "print(\"*\", dozen * 1/4, \"tsp salt\")\n",
    "print(\"*\", dozen, \"tsp baking powder\")\n",
    "print(\"*\", dozen * 1/4, \"cups butter\")\n",
    "print(\"*\", dozen * 3/8, \"cups sugar\")\n",
    "print(\"*\", dozen, \"eggs\")\n",
    "print(\"*\", dozen * 1/2, \"cups milk\")\n",
    "print(\"Directions:\")\n",
    "print(\"1. Preheat oven to 375°F.\")\n",
    "print(\"2. Put liners in \" + str(dozen * 12) + \" muffin cups.\")\n",
    "print(\"3. Cream butter and sugar until light and fluffy. Beat in eggs one at a time.\")\n",
    "print(\"4. Combine flour, salt, and baking soda.\")\n",
    "print(\"5. Add flour mixture and milk to butter and sugar; beat well.\")\n",
    "print(\"6. Divide batter evenly among \" + str(dozen * 12) + \" muffin cups.\")\n",
    "print(\"7. Bake for 18 minutes or until a toothpick comes out clean. Cool in pans.\")"
   ]
  },
  {
   "cell_type": "markdown",
   "id": "2d1f6e69-f624-49c2-86fc-93079a85aea2",
   "metadata": {
    "editable": true,
    "slideshow": {
     "slide_type": "skip"
    },
    "tags": [
     "notes-only"
    ]
   },
   "source": [
    "* We should divide our code into pieces, just like we divide the problem into pieces\n",
    "    * Start by adding some blank lines to separate sections of the code"
   ]
  },
  {
   "cell_type": "code",
   "execution_count": null,
   "id": "c014ce6c-2bd2-49ad-b08e-93eb25831e97",
   "metadata": {
    "editable": true,
    "slideshow": {
     "slide_type": "skip"
    },
    "tags": [
     "notes-only"
    ]
   },
   "outputs": [],
   "source": [
    "dozen = int(input(\"How many dozen cupcakes do you want?\"))\n",
    "\n",
    "print(\"Ingredients:\")\n",
    "print(\"*\", dozen, \"cups flour\")\n",
    "print(\"*\", dozen * 1/4, \"tsp salt\")\n",
    "print(\"*\", dozen, \"tsp baking powder\")\n",
    "print(\"*\", dozen * 1/4, \"cups butter\")\n",
    "print(\"*\", dozen * 3/8, \"cups sugar\")\n",
    "print(\"*\", dozen, \"eggs\")\n",
    "print(\"*\", dozen * 1/2, \"cups milk\")\n",
    "\n",
    "print(\"Directions:\")\n",
    "print(\"1. Preheat oven to 375°F.\")\n",
    "print(\"2. Put liners in \" + str(dozen * 12) + \" muffin cups.\")\n",
    "print(\"3. Cream butter and sugar until light and fluffy. Beat in eggs one at a time.\")\n",
    "print(\"4. Combine flour, salt, and baking soda.\")\n",
    "print(\"5. Add flour mixture and milk to butter and sugar; beat well.\")\n",
    "print(\"6. Divide batter evenly among \" + str(dozen * 12) + \" muffin cups.\")\n",
    "print(\"7. Bake for 18 minutes or until a toothpick comes out clean. Cool in pans.\")"
   ]
  },
  {
   "cell_type": "markdown",
   "id": "d0a3bccd-a80c-47cd-be52-ef91beb68803",
   "metadata": {
    "editable": true,
    "slideshow": {
     "slide_type": "skip"
    },
    "tags": [
     "notes-only"
    ]
   },
   "source": [
    "## Defining functions"
   ]
  },
  {
   "cell_type": "markdown",
   "id": "3d1e0dd0-78be-43b4-9a63-7c42fc2c2b5d",
   "metadata": {
    "editable": true,
    "slideshow": {
     "slide_type": "skip"
    },
    "tags": [
     "blank"
    ]
   },
   "source": [
    "<div style=\"height:20em;\"></div>"
   ]
  },
  {
   "cell_type": "markdown",
   "id": "815c7042-2016-4dc7-b557-d2895d59741c",
   "metadata": {
    "editable": true,
    "slideshow": {
     "slide_type": "skip"
    },
    "tags": [
     "notes-only"
    ]
   },
   "source": [
    "* Group related lines into functions\n",
    "* Recall from the reading: _how do we create our own function?_\n",
    "    * Indent statements within function"
   ]
  },
  {
   "cell_type": "code",
   "execution_count": null,
   "id": "27886c65-def9-47a1-9544-1afab9deffeb",
   "metadata": {
    "editable": true,
    "slideshow": {
     "slide_type": "skip"
    },
    "tags": [
     "notes-only"
    ]
   },
   "outputs": [],
   "source": [
    "def function_name():\n",
    "    First statement in function\n",
    "    Second statement in function\n",
    "    ..."
   ]
  },
  {
   "cell_type": "markdown",
   "id": "2dbbf2fa-5c00-49ab-a96b-9c3fe07bb61e",
   "metadata": {
    "editable": true,
    "slideshow": {
     "slide_type": "skip"
    },
    "tags": [
     "notes-only"
    ]
   },
   "source": [
    "* Let's modify our cupcake program to include functions"
   ]
  },
  {
   "cell_type": "code",
   "execution_count": 28,
   "id": "bd5cf08f-947c-4c68-b363-3f9e2dbc2c1e",
   "metadata": {
    "editable": true,
    "slideshow": {
     "slide_type": "skip"
    },
    "tags": [
     "notes-only"
    ]
   },
   "outputs": [
    {
     "name": "stdin",
     "output_type": "stream",
     "text": [
      "How many dozen cupcakes do you want? 2\n"
     ]
    }
   ],
   "source": [
    "dozen = int(input(\"How many dozen cupcakes do you want?\"))\n",
    "\n",
    "def ingredients():\n",
    "    print(\"Ingredients:\")\n",
    "    print(\"*\", dozen, \"cups flour\")\n",
    "    print(\"*\", dozen * 1/4, \"tsp salt\")\n",
    "    print(\"*\", dozen, \"tsp baking powder\")\n",
    "    print(\"*\", dozen * 1/4, \"cups butter\")\n",
    "    print(\"*\", dozen * 3/8, \"cups sugar\")\n",
    "    print(\"*\", dozen, \"eggs\")\n",
    "    print(\"*\", dozen * 1/2, \"cups milk\")\n",
    "\n",
    "def directions():\n",
    "    print(\"Directions:\")\n",
    "    print(\"1. Preheat oven to 375°F.\")\n",
    "    print(\"2. Put liners in \" + str(dozen * 12) + \" muffin cups.\")\n",
    "    print(\"3. Cream butter and sugar until light and fluffy. Beat in eggs one at a time.\")\n",
    "    print(\"4. Combine flour, salt, and baking soda.\")\n",
    "    print(\"5. Add flour mixture and milk to butter and sugar; beat well.\")\n",
    "    print(\"6. Divide batter evenly among \" + str(dozen * 12) + \" muffin cups.\")\n",
    "    print(\"7. Bake for 18 minutes or until a toothpick comes out clean. Cool in pans.\")"
   ]
  },
  {
   "cell_type": "markdown",
   "id": "f2fd25eb-2a3c-41dd-a350-d5fa24d5ec99",
   "metadata": {
    "editable": true,
    "slideshow": {
     "slide_type": "skip"
    },
    "tags": [
     "notes-only"
    ]
   },
   "source": [
    "* _Why does our program no longer print the ingredients and directions?_ – need to call the functions!"
   ]
  },
  {
   "cell_type": "code",
   "execution_count": null,
   "id": "0f96cc12-3745-40ca-8efc-1c109c16f070",
   "metadata": {
    "editable": true,
    "slideshow": {
     "slide_type": "skip"
    },
    "tags": [
     "notes-only"
    ]
   },
   "outputs": [],
   "source": [
    "dozen = int(input(\"How many dozen cupcakes do you want?\"))\n",
    "ingredients()\n",
    "directions()\n",
    "\n",
    "def ingredients():\n",
    "    print(\"Ingredients:\")\n",
    "    print(\"*\", dozen, \"cups flour\")\n",
    "    print(\"*\", dozen * 1/4, \"tsp salt\")\n",
    "    print(\"*\", dozen, \"tsp baking powder\")\n",
    "    print(\"*\", dozen * 1/4, \"cups butter\")\n",
    "    print(\"*\", dozen * 3/8, \"cups sugar\")\n",
    "    print(\"*\", dozen, \"eggs\")\n",
    "    print(\"*\", dozen * 1/2, \"cups milk\")\n",
    "\n",
    "def directions():\n",
    "    print(\"Directions:\")\n",
    "    print(\"1. Preheat oven to 375°F.\")\n",
    "    print(\"2. Put liners in \" + str(dozen * 12) + \" muffin cups.\")\n",
    "    print(\"3. Cream butter and sugar until light and fluffy. Beat in eggs one at a time.\")\n",
    "    print(\"4. Combine flour, salt, and baking soda.\")\n",
    "    print(\"5. Add flour mixture and milk to butter and sugar; beat well.\")\n",
    "    print(\"6. Divide batter evenly among \" + str(dozen * 12) + \" muffin cups.\")\n",
    "    print(\"7. Bake for 18 minutes or until a toothpick comes out clean. Cool in pans.\")"
   ]
  },
  {
   "cell_type": "markdown",
   "id": "3cd636c1-0c31-4688-9d2c-ffabaf3d2e30",
   "metadata": {
    "editable": true,
    "slideshow": {
     "slide_type": "skip"
    },
    "tags": [
     "notes-only"
    ]
   },
   "source": [
    "* _Why we receive an error that `ingredients` is not defined?_ – function must be defined before it is called"
   ]
  },
  {
   "cell_type": "code",
   "execution_count": null,
   "id": "39c28ea2-7a04-4561-b996-16b95ff54a28",
   "metadata": {
    "editable": true,
    "slideshow": {
     "slide_type": "skip"
    },
    "tags": [
     "notes-only"
    ]
   },
   "outputs": [],
   "source": [
    "dozen = int(input(\"How many dozen cupcakes do you want?\"))\n",
    "\n",
    "def ingredients():\n",
    "    print(\"Ingredients:\")\n",
    "    print(\"*\", dozen, \"cups flour\")\n",
    "    print(\"*\", dozen * 1/4, \"tsp salt\")\n",
    "    print(\"*\", dozen, \"tsp baking powder\")\n",
    "    print(\"*\", dozen * 1/4, \"cups butter\")\n",
    "    print(\"*\", dozen * 3/8, \"cups sugar\")\n",
    "    print(\"*\", dozen, \"eggs\")\n",
    "    print(\"*\", dozen * 1/2, \"cups milk\")\n",
    "\n",
    "def directions():\n",
    "    print(\"Directions:\")\n",
    "    print(\"1. Preheat oven to 375°F.\")\n",
    "    print(\"2. Put liners in \" + str(dozen * 12) + \" muffin cups.\")\n",
    "    print(\"3. Cream butter and sugar until light and fluffy. Beat in eggs one at a time.\")\n",
    "    print(\"4. Combine flour, salt, and baking soda.\")\n",
    "    print(\"5. Add flour mixture and milk to butter and sugar; beat well.\")\n",
    "    print(\"6. Divide batter evenly among \" + str(dozen * 12) + \" muffin cups.\")\n",
    "    print(\"7. Bake for 18 minutes or until a toothpick comes out clean. Cool in pans.\")\n",
    "\n",
    "ingredients()\n",
    "directions()"
   ]
  },
  {
   "cell_type": "markdown",
   "id": "c1ecfbcd-942c-41ee-bdc9-337c0023f7b1",
   "metadata": {
    "editable": true,
    "slideshow": {
     "slide_type": "slide"
    },
    "tags": []
   },
   "source": [
    "## Control flow"
   ]
  },
  {
   "cell_type": "markdown",
   "id": "2174a220-1f33-4bea-8737-fc1d7c6baa7c",
   "metadata": {
    "editable": true,
    "slideshow": {
     "slide_type": "skip"
    },
    "tags": [
     "notes-only"
    ]
   },
   "source": [
    "* _In what order do the lines of code execute?_\n",
    "    * Call to input\n",
    "    * Definition of ingredients\n",
    "    * Defintion of directions\n",
    "    * Call to ingredients – execute every print statement in ingredients function\n",
    "    * Call to directions – execute every print statement in directions function"
   ]
  },
  {
   "cell_type": "markdown",
   "id": "68801654-49e8-4b19-859c-b8d6a93b0ff1",
   "metadata": {
    "editable": true,
    "slideshow": {
     "slide_type": "skip"
    },
    "tags": [
     "notes-only"
    ]
   },
   "source": [
    "* Confusing to have some code at the top, some code at the bottom, and some code in functions\n",
    "    * Add a function called `main`, which is where the program starts\n",
    "    * Still need a call to `main` at the very end of the file"
   ]
  },
  {
   "cell_type": "code",
   "execution_count": null,
   "id": "7ead8d19-3de8-4267-abb1-e4ebe27c46d3",
   "metadata": {
    "editable": true,
    "slideshow": {
     "slide_type": "skip"
    },
    "tags": [
     "notes-only"
    ]
   },
   "outputs": [],
   "source": [
    "def ingredients():\n",
    "    print(\"Ingredients:\")\n",
    "    print(\"*\", dozen, \"cups flour\")\n",
    "    print(\"*\", dozen * 1/4, \"tsp salt\")\n",
    "    print(\"*\", dozen, \"tsp baking powder\")\n",
    "    print(\"*\", dozen * 1/4, \"cups butter\")\n",
    "    print(\"*\", dozen * 3/8, \"cups sugar\")\n",
    "    print(\"*\", dozen, \"eggs\")\n",
    "    print(\"*\", dozen * 1/2, \"cups milk\")\n",
    "\n",
    "def directions():\n",
    "    print(\"Directions:\")\n",
    "    print(\"1. Preheat oven to 375°F.\")\n",
    "    print(\"2. Put liners in \" + str(dozen * 12) + \" muffin cups.\")\n",
    "    print(\"3. Cream butter and sugar until light and fluffy. Beat in eggs one at a time.\")\n",
    "    print(\"4. Combine flour, salt, and baking soda.\")\n",
    "    print(\"5. Add flour mixture and milk to butter and sugar; beat well.\")\n",
    "    print(\"6. Divide batter evenly among \" + str(dozen * 12) + \" muffin cups.\")\n",
    "    print(\"7. Bake for 18 minutes or until a toothpick comes out clean. Cool in pans.\")'\n",
    "\n",
    "def main():\n",
    "    dozen = int(input(\"How many dozen cupcakes do you want?\"))\n",
    "    ingredients()\n",
    "    directions()\n",
    "\n",
    "main()"
   ]
  },
  {
   "cell_type": "code",
   "execution_count": 30,
   "id": "a6c20974-5419-4304-8502-1d3026a2820c",
   "metadata": {
    "editable": true,
    "slideshow": {
     "slide_type": ""
    },
    "tags": [
     "worksheet-code-only"
    ]
   },
   "outputs": [
    {
     "name": "stdout",
     "output_type": "stream",
     "text": [
      "before demoFn\n",
      "demoFn 1\n",
      "demoFn 2\n",
      "after demoFn\n"
     ]
    }
   ],
   "source": [
    "def demoFn():\n",
    "    print(\"demoFn 1\")\n",
    "    print(\"demoFn 2\")\n",
    "\n",
    "def main():\n",
    "    print(\"before demoFn\")\n",
    "    demoFn()\n",
    "    print(\"after demoFn\")\n",
    "\n",
    "main()"
   ]
  },
  {
   "cell_type": "markdown",
   "id": "620fd919-bad3-4134-9593-99f9a7616b06",
   "metadata": {
    "editable": true,
    "slideshow": {
     "slide_type": "skip"
    },
    "tags": [
     "answer"
    ]
   },
   "source": [
    "![Flowchart for example](figures/functions/example_executing.png)"
   ]
  },
  {
   "cell_type": "markdown",
   "id": "2c97fd71-f2eb-4289-86a7-179daa099cc4",
   "metadata": {
    "editable": true,
    "slideshow": {
     "slide_type": "skip"
    },
    "tags": [
     "notes-only"
    ]
   },
   "source": [
    "* _Why we receive an error that `dozen` is not defined?_ – variables are not shared between functions\n",
    "* _How do we provide values to functions?_ – using parameters"
   ]
  },
  {
   "cell_type": "markdown",
   "id": "d32b8c91-e5d9-4c83-8540-68965861a9d1",
   "metadata": {
    "editable": true,
    "slideshow": {
     "slide_type": "skip"
    },
    "tags": [
     "notes-only"
    ]
   },
   "source": [
    "## Parameters"
   ]
  },
  {
   "cell_type": "markdown",
   "id": "3257d38f-86b9-45a7-b2e3-4311c9efe4a5",
   "metadata": {
    "editable": true,
    "slideshow": {
     "slide_type": "skip"
    },
    "tags": [
     "notes-only"
    ]
   },
   "source": [
    "* _How do we define a function that takes a parameter?_"
   ]
  },
  {
   "cell_type": "code",
   "execution_count": null,
   "id": "0f79d3a8-d587-4803-8a20-f952e5e52f68",
   "metadata": {
    "editable": true,
    "slideshow": {
     "slide_type": "skip"
    },
    "tags": [
     "notes-only"
    ]
   },
   "outputs": [],
   "source": [
    "def function_name(parameter_name: parameter_type):\n",
    "    First statement in function\n",
    "    Second statement in function\n",
    "    ..."
   ]
  },
  {
   "cell_type": "code",
   "execution_count": null,
   "id": "aa607e8c-d489-4ae5-8c8f-a73953767134",
   "metadata": {
    "editable": true,
    "slideshow": {
     "slide_type": "skip"
    },
    "tags": [
     "notes-only"
    ]
   },
   "outputs": [],
   "source": [
    "def ingredients(dozen: int):\n",
    "    print(\"Ingredients:\")\n",
    "    print(\"*\", dozen, \"cups flour\")\n",
    "    print(\"*\", dozen * 1/4, \"tsp salt\")\n",
    "    print(\"*\", dozen, \"tsp baking powder\")\n",
    "    print(\"*\", dozen * 1/4, \"cups butter\")\n",
    "    print(\"*\", dozen * 3/8, \"cups sugar\")\n",
    "    print(\"*\", dozen, \"eggs\")\n",
    "    print(\"*\", dozen * 1/2, \"cups milk\")\n",
    "\n",
    "def directions(dozen: int):\n",
    "    print(\"Directions:\")\n",
    "    print(\"1. Preheat oven to 375°F.\")\n",
    "    print(\"2. Put liners in \" + str(dozen * 12) + \" muffin cups.\")\n",
    "    print(\"3. Cream butter and sugar until light and fluffy. Beat in eggs one at a time.\")\n",
    "    print(\"4. Combine flour, salt, and baking soda.\")\n",
    "    print(\"5. Add flour mixture and milk to butter and sugar; beat well.\")\n",
    "    print(\"6. Divide batter evenly among \" + str(dozen * 12) + \" muffin cups.\")\n",
    "    print(\"7. Bake for 18 minutes or until a toothpick comes out clean. Cool in pans.\")\n",
    "\n",
    "def main():\n",
    "    dozen = int(input(\"How many dozen cupcakes do you want?\"))\n",
    "    ingredients(dozen)\n",
    "    directions(dozen)\n",
    "\n",
    "main()"
   ]
  },
  {
   "cell_type": "markdown",
   "id": "e4d1739f-7f86-4b11-9791-dd4f3137b707",
   "metadata": {
    "editable": true,
    "slideshow": {
     "slide_type": "skip"
    },
    "tags": [
     "notes-only"
    ]
   },
   "source": [
    "* Not necessary to use the same name for the parameter in the function definition and the function call\n",
    "    * They are two separate variables regardless of whether or not they have the same name\n",
    "    * A change to a parameter within a function does not impact the parameter included in the function call"
   ]
  },
  {
   "cell_type": "code",
   "execution_count": null,
   "id": "85e298b6-640b-4122-add7-554516a33667",
   "metadata": {
    "editable": true,
    "slideshow": {
     "slide_type": "skip"
    },
    "tags": [
     "notes-only"
    ]
   },
   "outputs": [],
   "source": [
    "def ingredients(dozen: int):\n",
    "    print(\"Ingredients:\")\n",
    "    print(\"*\", dozen, \"cups flour\")\n",
    "    print(\"*\", dozen * 1/4, \"tsp salt\")\n",
    "    print(\"*\", dozen, \"tsp baking powder\")\n",
    "    print(\"*\", dozen * 1/4, \"cups butter\")\n",
    "    print(\"*\", dozen * 3/8, \"cups sugar\")\n",
    "    print(\"*\", dozen, \"eggs\")\n",
    "    print(\"*\", dozen * 1/2, \"cups milk\")\n",
    "\n",
    "def directions(dozen: int):\n",
    "    dozen = dozen * 2\n",
    "    print(\"Directions:\")\n",
    "    print(\"1. Preheat oven to 375°F.\")\n",
    "    print(\"2. Put liners in \" + str(dozen * 12) + \" muffin cups.\")\n",
    "    print(\"3. Cream butter and sugar until light and fluffy. Beat in eggs one at a time.\")\n",
    "    print(\"4. Combine flour, salt, and baking soda.\")\n",
    "    print(\"5. Add flour mixture and milk to butter and sugar; beat well.\")\n",
    "    print(\"6. Divide batter evenly among \" + str(dozen * 12) + \" muffin cups.\")\n",
    "    print(\"7. Bake for 18 minutes or until a toothpick comes out clean. Cool in pans.\")\n",
    "\n",
    "def main():\n",
    "    desired = int(input(\"How many dozen cupcakes do you want?\"))\n",
    "    ingredients(desired)\n",
    "    directions(desired)\n",
    "    print(\"Now you have\", desired, \"dozen cupcakes!\")\n",
    "\n",
    "main()"
   ]
  },
  {
   "cell_type": "markdown",
   "id": "5fc1995b-dc00-4c80-9f98-16ca756f417c",
   "metadata": {
    "editable": true,
    "slideshow": {
     "slide_type": "slide"
    },
    "tags": []
   },
   "source": [
    "## Functions"
   ]
  },
  {
   "cell_type": "markdown",
   "id": "6523fd18-fbac-4de8-96fd-2b87406688f7",
   "metadata": {
    "editable": true,
    "slideshow": {
     "slide_type": ""
    },
    "tags": [
     "question"
    ]
   },
   "source": [
    "_What does the following program output?_"
   ]
  },
  {
   "cell_type": "code",
   "execution_count": 25,
   "id": "71f42c69-50f9-4dc5-a038-d271406e3a38",
   "metadata": {
    "editable": true,
    "slideshow": {
     "slide_type": ""
    },
    "tags": [
     "worksheet-code-only"
    ]
   },
   "outputs": [
    {
     "name": "stdout",
     "output_type": "stream",
     "text": [
      "Hello, Aaron\n",
      "Welcome to Hamilton!\n",
      "You can play tennis or basketball\n"
     ]
    }
   ],
   "source": [
    "def greet(name: str):\n",
    "    print(\"Hello, \" + name)\n",
    "\n",
    "def welcome():\n",
    "    print(\"Welcome to Hamilton!\")\n",
    "\n",
    "def sports(a: str, b: str):\n",
    "    print(\"You can play \" + a + \" or \" + b)\n",
    "\n",
    "def main():\n",
    "    greet(\"Aaron\")\n",
    "    welcome()\n",
    "    sports(\"tennis\", \"basketball\")\n",
    "    \n",
    "main()"
   ]
  },
  {
   "cell_type": "markdown",
   "id": "51d98523-711f-4463-8593-80d40518fd76",
   "metadata": {
    "editable": true,
    "slideshow": {
     "slide_type": "skip"
    },
    "tags": [
     "blank"
    ]
   },
   "source": [
    "<div style=\"height:8em;\"></div>"
   ]
  },
  {
   "cell_type": "markdown",
   "id": "c2aed500-dda5-467c-b4c0-c76127a0c2ec",
   "metadata": {
    "editable": true,
    "slideshow": {
     "slide_type": "subslide"
    },
    "tags": []
   },
   "source": [
    "_What does the following program output?_"
   ]
  },
  {
   "cell_type": "code",
   "execution_count": 24,
   "id": "3d33a969-57a7-4776-938a-48f980b8cc1a",
   "metadata": {
    "editable": true,
    "slideshow": {
     "slide_type": ""
    },
    "tags": [
     "worksheet-code-only"
    ]
   },
   "outputs": [
    {
     "name": "stdout",
     "output_type": "stream",
     "text": [
      "Welcome to Hamilton!\n",
      "You can play tennis or basketball\n",
      "You can play football or volleyball\n",
      "Hello, Aaron\n"
     ]
    }
   ],
   "source": [
    "def greet(name: str):\n",
    "    print(\"Hello, \" + name)\n",
    "\n",
    "def welcome():\n",
    "    print(\"Welcome to Hamilton!\")\n",
    "\n",
    "def sports(a: str, b: str):\n",
    "    print(\"You can play \" + a + \" or \" + b)\n",
    "\n",
    "def main():\n",
    "    welcome()\n",
    "    sports(\"tennis\", \"basketball\")\n",
    "    sports(\"football\", \"volleyball\")\n",
    "    greet(\"Aaron\")\n",
    "    \n",
    "main()"
   ]
  },
  {
   "cell_type": "markdown",
   "id": "9a0a8ad2-9d16-45a7-86fd-71fdd9c5cd3e",
   "metadata": {
    "editable": true,
    "slideshow": {
     "slide_type": "skip"
    },
    "tags": [
     "blank"
    ]
   },
   "source": [
    "<div style=\"height:8em;\"></div>"
   ]
  },
  {
   "cell_type": "markdown",
   "id": "5ef6eff1-4d21-4cd2-91a5-dc6598084bcd",
   "metadata": {
    "editable": true,
    "slideshow": {
     "slide_type": "subslide"
    },
    "tags": [
     "question"
    ]
   },
   "source": [
    "_For each of the following programs, indicate: (1) what the program outputs; (2) the order in which the statements will execute, starting with the `print(\"BEGIN\")` statement_"
   ]
  },
  {
   "cell_type": "code",
   "execution_count": 35,
   "id": "a836ef49-42ac-4e0c-9995-cd228658df79",
   "metadata": {
    "editable": true,
    "slideshow": {
     "slide_type": ""
    },
    "tags": [
     "worksheet-code-only"
    ]
   },
   "outputs": [
    {
     "name": "stdout",
     "output_type": "stream",
     "text": [
      "BEGIN\n",
      "Double\n",
      "16\n",
      "Half\n",
      "4.0\n",
      "END\n"
     ]
    }
   ],
   "source": [
    "def halve(a: int):   # Line 1\n",
    "    print(a / 2)     # Line 2\n",
    "    \n",
    "def double(b: int):  # Line 3\n",
    "    print(b * 2)     # Line 4\n",
    "\n",
    "def main():          # Line 5\n",
    "    print(\"BEGIN\")   # Line 6\n",
    "    x = 8            # Line 7\n",
    "    print(\"Double\")  # Line 8\n",
    "    double(x)        # Line 9\n",
    "    print(\"Half\")    # Line 10\n",
    "    halve(x)         # Line 11\n",
    "    print(\"END\")     # Line 12\n",
    "\n",
    "main()               # Line 13"
   ]
  },
  {
   "cell_type": "markdown",
   "id": "9ef840e7-c12c-4fef-982a-bc0afafdb846",
   "metadata": {
    "editable": true,
    "slideshow": {
     "slide_type": "skip"
    },
    "tags": [
     "answer"
    ]
   },
   "source": [
    "1, 3, 5, 13, 6, 7, 8, 9, 4, 10, 11, 2, 12"
   ]
  },
  {
   "cell_type": "markdown",
   "id": "85eab116-8c95-49f4-914f-2569fc047279",
   "metadata": {
    "editable": true,
    "slideshow": {
     "slide_type": "skip"
    },
    "tags": [
     "blank"
    ]
   },
   "source": [
    "<div style=\"height:10em;\"></div>"
   ]
  },
  {
   "cell_type": "code",
   "execution_count": 26,
   "id": "f2fdeba8-d907-4445-9f26-6ed10159ebb3",
   "metadata": {
    "editable": true,
    "slideshow": {
     "slide_type": "subslide"
    },
    "tags": [
     "worksheet-code-only"
    ]
   },
   "outputs": [
    {
     "name": "stdout",
     "output_type": "stream",
     "text": [
      "BEGIN\n",
      "7\n",
      "11\n",
      "END\n"
     ]
    }
   ],
   "source": [
    "def sum(a: int, b: int): # Line 1\n",
    "    print(a + b)     # Line 2\n",
    "\n",
    "def main():          # Line 3\n",
    "    print(\"BEGIN\")   # Line 4\n",
    "    sum(3, 4)        # Line 5\n",
    "    x = 5            # Line 6\n",
    "    y = 6            # Line 7\n",
    "    sum(x, y)        # Line 8\n",
    "    print(\"END\")     # Line 9\n",
    "\n",
    "main()               # Line 10"
   ]
  },
  {
   "cell_type": "markdown",
   "id": "7930ff34-216d-4618-9b81-ca1844df9ff9",
   "metadata": {
    "editable": true,
    "slideshow": {
     "slide_type": "skip"
    },
    "tags": [
     "answer"
    ]
   },
   "source": [
    "1, 3, 10, 4, 5, 2, 6, 7, 8, 2, 9"
   ]
  },
  {
   "cell_type": "markdown",
   "id": "6305173f-4ba2-4f3f-b235-e6a96e30e85c",
   "metadata": {
    "editable": true,
    "slideshow": {
     "slide_type": "skip"
    },
    "tags": [
     "blank"
    ]
   },
   "source": [
    "<div style=\"height:10em;\"></div>"
   ]
  },
  {
   "cell_type": "code",
   "execution_count": 27,
   "id": "70778841-a8e5-46f9-a202-4990b3608170",
   "metadata": {
    "editable": true,
    "slideshow": {
     "slide_type": "subslide"
    },
    "tags": [
     "worksheet-code-only"
    ]
   },
   "outputs": [
    {
     "name": "stdout",
     "output_type": "stream",
     "text": [
      "BEGIN\n",
      "5\n",
      "6\n",
      "13\n",
      "END\n"
     ]
    }
   ],
   "source": [
    "def main():               # Line 1\n",
    "    print(\"BEGIN\")        # Line 2\n",
    "    add(2, 3)             # Line 3\n",
    "    x = 8                 # Line 4\n",
    "    y = 2                 # Line 5\n",
    "    sub(x, y)             # Line 6\n",
    "    add(x + y, 1 + 2)     # Line 7\n",
    "    print(\"END\")          # Line 8\n",
    "\n",
    "def add(a: int, b: int):  # Line 9     \n",
    "    print(a + b)          # Line 10\n",
    "    \n",
    "def sub(c: int, d: int):  # Line 11\n",
    "    print(c - d)          # Line 12\n",
    "\n",
    "main()                    # Line 13"
   ]
  },
  {
   "cell_type": "markdown",
   "id": "00250d3d-1670-4575-abc4-bb46f5bfe46b",
   "metadata": {
    "editable": true,
    "slideshow": {
     "slide_type": "skip"
    },
    "tags": [
     "answer"
    ]
   },
   "source": [
    "1, 9, 11, 13, 2, 3, 10, 4, 5, 6, 12, 7, 10, 8"
   ]
  },
  {
   "cell_type": "markdown",
   "id": "1bae7073-f0b9-4adf-9fad-e76431f2276b",
   "metadata": {
    "editable": true,
    "slideshow": {
     "slide_type": "skip"
    },
    "tags": [
     "blank"
    ]
   },
   "source": [
    "<div style=\"height:10em;\"></div>"
   ]
  },
  {
   "cell_type": "code",
   "execution_count": 29,
   "id": "00acefdc-7939-4319-a84d-d1fb766c132d",
   "metadata": {
    "editable": true,
    "slideshow": {
     "slide_type": "subslide"
    },
    "tags": [
     "worksheet-code-only"
    ]
   },
   "outputs": [
    {
     "name": "stdout",
     "output_type": "stream",
     "text": [
      "2\n"
     ]
    }
   ],
   "source": [
    "def increment(x: int):   # Line 1 \n",
    "    x = x + 1            # Line 2 \n",
    "\n",
    "def main():              # Line 3\n",
    "    a = 2                # Line 4 \n",
    "    increment(a)         # Line 5\n",
    "    print(a)             # Line 6\n",
    "\n",
    "main()                   # Line 7"
   ]
  },
  {
   "cell_type": "markdown",
   "id": "b6ecbdc9-4501-44b9-b529-4b7d20949bc7",
   "metadata": {
    "editable": true,
    "slideshow": {
     "slide_type": "skip"
    },
    "tags": [
     "answer"
    ]
   },
   "source": [
    "1, 3, 7, 4, 5, 2, 6"
   ]
  },
  {
   "cell_type": "markdown",
   "id": "8e31446d-5edc-4c8a-85a6-297335cb109f",
   "metadata": {
    "editable": true,
    "slideshow": {
     "slide_type": "skip"
    },
    "tags": [
     "blank"
    ]
   },
   "source": [
    "<div style=\"height:5em;\"></div>"
   ]
  },
  {
   "cell_type": "markdown",
   "id": "ecf8b2eb-924f-4c2b-8935-95577213d226",
   "metadata": {
    "editable": true,
    "slideshow": {
     "slide_type": "slide"
    },
    "tags": []
   },
   "source": [
    "## Extra practice"
   ]
  },
  {
   "cell_type": "markdown",
   "id": "74016f75-4b21-46c6-8328-35b6ccc7c61a",
   "metadata": {
    "editable": true,
    "slideshow": {
     "slide_type": ""
    },
    "tags": []
   },
   "source": [
    "_Write a program that asks for an amount of change (in cents) and outputs how many quarters (25¢), dimes (10¢), nickels (5¢), and pennies (1¢) are needed to obtain the target amount._"
   ]
  },
  {
   "cell_type": "code",
   "execution_count": 39,
   "id": "257228bb-3c12-4c18-a7c1-bf28b93b0f95",
   "metadata": {
    "editable": true,
    "slideshow": {
     "slide_type": "skip"
    },
    "tags": [
     "answer"
    ]
   },
   "outputs": [
    {
     "name": "stdin",
     "output_type": "stream",
     "text": [
      "Change (in cents): 68\n"
     ]
    },
    {
     "name": "stdout",
     "output_type": "stream",
     "text": [
      "2 quarters, 1 dimes, 1 nickels, and 3 pennies\n"
     ]
    }
   ],
   "source": [
    "change = int(input(\"Change (in cents):\"))\n",
    "quarters = change // 25\n",
    "change = change % 25\n",
    "dimes = change // 10\n",
    "change = change % 10\n",
    "nickels = change // 5\n",
    "change = change % 5\n",
    "print(quarters, \"quarters,\", dimes, \"dimes,\", nickels, \"nickels, and\", change, \"pennies\")"
   ]
  }
 ],
 "metadata": {
  "celltoolbar": "Tags",
  "kernelspec": {
   "display_name": "Python 3 (ipykernel)",
   "language": "python",
   "name": "python3"
  },
  "language_info": {
   "codemirror_mode": {
    "name": "ipython",
    "version": 3
   },
   "file_extension": ".py",
   "mimetype": "text/x-python",
   "name": "python",
   "nbconvert_exporter": "python",
   "pygments_lexer": "ipython3",
   "version": "3.9.6"
  }
 },
 "nbformat": 4,
 "nbformat_minor": 5
}
