{
 "cells": [
  {
   "cell_type": "markdown",
   "id": "0d8fd148-c77b-4bbd-a056-5f42193278cc",
   "metadata": {
    "editable": true,
    "slideshow": {
     "slide_type": "skip"
    },
    "tags": []
   },
   "source": [
    "# Iteration: for loops\n",
    "_COSC 101, Introduction to Computing I, 2024-09-20_"
   ]
  },
  {
   "cell_type": "markdown",
   "id": "3ed20647-eae1-4d84-a032-cd5b7f69cb13",
   "metadata": {
    "editable": true,
    "slideshow": {
     "slide_type": "slide"
    },
    "tags": []
   },
   "source": [
    "## Recall: computational thinking"
   ]
  },
  {
   "cell_type": "markdown",
   "id": "03cd8fbb-e88d-41b3-9fb0-742b3116dd2c",
   "metadata": {
    "editable": true,
    "slideshow": {
     "slide_type": ""
    },
    "tags": []
   },
   "source": [
    "_To leverage patterns and reduce redundancy in this code, **add a function and rewrite main** to call this funtion._"
   ]
  },
  {
   "cell_type": "code",
   "execution_count": 3,
   "id": "b0d04430-aa9e-42e0-83da-aa60bbd11f39",
   "metadata": {
    "editable": true,
    "slideshow": {
     "slide_type": ""
    },
    "tags": []
   },
   "outputs": [
    {
     "name": "stdin",
     "output_type": "stream",
     "text": [
      "Enter a noun:  cookie\n"
     ]
    },
    {
     "name": "stdout",
     "output_type": "stream",
     "text": [
      "It looks like a cookie.\n",
      "It smells like a cookie.\n",
      "It feels like a cookie.\n",
      "It sounds like a cookie.\n",
      "It tastes like a cookie.\n",
      "It must be a cookie!\n"
     ]
    }
   ],
   "source": [
    "def main():\n",
    "    noun = input(\"Enter a noun: \")\n",
    "    print(\"It looks like a \" + noun + \".\")\n",
    "    print(\"It smells like a \" + noun + \".\")\n",
    "    print(\"It feels like a \" + noun + \".\")\n",
    "    print(\"It sounds like a \" + noun + \".\")\n",
    "    print(\"It tastes like a \" + noun + \".\")\n",
    "    print(\"It must be a \" + noun + \"!\")\n",
    "\n",
    "main()"
   ]
  },
  {
   "cell_type": "code",
   "execution_count": 24,
   "id": "17014d6a-36b3-46f1-8cf5-a9059d680d5c",
   "metadata": {
    "editable": true,
    "slideshow": {
     "slide_type": "skip"
    },
    "tags": [
     "answer"
    ]
   },
   "outputs": [
    {
     "name": "stdin",
     "output_type": "stream",
     "text": [
      "Enter a noun:  cookie\n"
     ]
    },
    {
     "name": "stdout",
     "output_type": "stream",
     "text": [
      "It looks like a cookie.\n",
      "It smells like a cookie.\n",
      "It feels like a cookie.\n",
      "It sounds like a cookie.\n",
      "It tastes like a cookie.\n",
      "It must be a cookie!\n"
     ]
    }
   ],
   "source": [
    "def remark(verb: str, noun: str) -> None:\n",
    "    print(\"It \" + verb + \" like a \" + noun + \".\")\n",
    "\n",
    "def main():\n",
    "    noun = input(\"Enter a noun: \")\n",
    "    remark(\"looks\", noun)\n",
    "    remark(\"smells\", noun)\n",
    "    remark(\"feels\", noun)\n",
    "    remark(\"sounds\", noun)\n",
    "    remark(\"tastes\", noun)\n",
    "    print(\"It must be a \" + noun + \"!\")\n",
    "\n",
    "main()"
   ]
  },
  {
   "cell_type": "markdown",
   "id": "5e3a653b-7c38-4a27-ab61-28e310501fbf",
   "metadata": {
    "editable": true,
    "slideshow": {
     "slide_type": "skip"
    },
    "tags": [
     "blank"
    ]
   },
   "source": [
    "```\n",
    "\n",
    "\n",
    "\n",
    "\n",
    "\n",
    "\n",
    "\n",
    "\n",
    "\n",
    "\n",
    "\n",
    "\n",
    "\n",
    "\n",
    "\n",
    "\n",
    "\n",
    "\n",
    "\n",
    "\n",
    "\n",
    "\n",
    "\n",
    "\n",
    "\n",
    "```"
   ]
  },
  {
   "cell_type": "markdown",
   "id": "c9b2cb55-9ff3-423a-a712-241616b688c2",
   "metadata": {
    "editable": true,
    "slideshow": {
     "slide_type": "slide"
    },
    "tags": []
   },
   "source": [
    "## for loops"
   ]
  },
  {
   "cell_type": "markdown",
   "id": "c3548f6c-2f06-43cc-a669-17134f1a5b65",
   "metadata": {
    "editable": true,
    "slideshow": {
     "slide_type": "skip"
    },
    "tags": [
     "notes-only"
    ]
   },
   "source": [
    "* There is still a lot of repetition of code, let's add a for loop"
   ]
  },
  {
   "cell_type": "code",
   "execution_count": 7,
   "id": "d5ef8643-13c1-476d-84d2-8fed349a950e",
   "metadata": {
    "editable": true,
    "slideshow": {
     "slide_type": "skip"
    },
    "tags": [
     "notes-only"
    ]
   },
   "outputs": [
    {
     "name": "stdin",
     "output_type": "stream",
     "text": [
      "Enter a noun:  cookie\n"
     ]
    },
    {
     "name": "stdout",
     "output_type": "stream",
     "text": [
      "It looks like a cookie.\n",
      "It smells like a cookie.\n",
      "It feels like a cookie.\n",
      "It sounds like a cookie.\n",
      "It tastes like a cookie.\n",
      "It must be a cookie!\n"
     ]
    }
   ],
   "source": [
    "def remark(verb: str, noun: str) -> None:\n",
    "    print(\"It \" + verb + \" like a \" + noun + \".\")\n",
    "\n",
    "def main():\n",
    "    noun = input(\"Enter a noun: \")\n",
    "    for sense in [\"looks\", \"smells\", \"feels\", \"sounds\", \"tastes\"]:\n",
    "        remark(sense, noun)\n",
    "    print(\"It must be a \" + noun + \"!\")\n",
    "\n",
    "main()"
   ]
  },
  {
   "cell_type": "markdown",
   "id": "19db26cd-de2e-42b8-9fd5-6d79f4f692b8",
   "metadata": {
    "editable": true,
    "slideshow": {
     "slide_type": "skip"
    },
    "tags": [
     "notes-only"
    ]
   },
   "source": [
    "* _How many times is the loop body executed?_ — as many times as there are items in the sequence; each time is called an iteration\n",
    "* When is the loop variable updated?_ — before the loop body is executed each time (i.e., before each iteration)\n",
    "* _What is executed after the loop is finished?_ — the statements that come after the loop body and have the same level of indentation as the line containing `for`\n",
    "* Use a flow chart to help understand the code"
   ]
  },
  {
   "cell_type": "markdown",
   "id": "6889dadb-07df-44a4-bebd-4cc0d4e93a1e",
   "metadata": {
    "editable": true,
    "slideshow": {
     "slide_type": "skip"
    },
    "tags": [
     "notes-only"
    ]
   },
   "source": [
    "```\n",
    "┌───────────────────────────────────┐    \n",
    "│   noun = input(\"Enter a noun: \")  │    \n",
    "└─────────────────┬─────────────────┘    \n",
    "                  │                      \n",
    "┌─────────────────▼──────────────────┐   \n",
    "│               for loop             ┼──┐\n",
    "└─────────────────┬──────────────────◄──┘\n",
    "                  │                      \n",
    "┌─────────────────▼─────────────────┐    \n",
    "│print(\"It must be a \" + noun + \"!\")│    \n",
    "└───────────────────────────────────┘\n",
    "```"
   ]
  },
  {
   "cell_type": "markdown",
   "id": "3e33a5db-a8d0-4b15-9492-be6760d12199",
   "metadata": {
    "editable": true,
    "slideshow": {
     "slide_type": "skip"
    },
    "tags": [
     "notes-only"
    ]
   },
   "source": [
    "* More detailed flow chart"
   ]
  },
  {
   "cell_type": "markdown",
   "id": "cb6590d5-2315-4807-83aa-32155c0e65b0",
   "metadata": {
    "editable": true,
    "slideshow": {
     "slide_type": "skip"
    },
    "tags": [
     "notes-only"
    ]
   },
   "source": [
    "```\n",
    "  ┌──────────────────────────────┐    \n",
    "  │noun = input(\"Enter a noun: \")│    \n",
    "  └───────────────┬──────────────┘    \n",
    "                  │                   \n",
    "        ┌─────────▼─────────┐ No      \n",
    "  ┌─────►More items in list?┼────────┐\n",
    "  │     └─────────┬─────────┘        │\n",
    "  │               │                  │\n",
    "  │ ┌─────────────▼─────────────┐    │\n",
    "  │ │sense = <next item in list>│    │\n",
    "  │ └─────────────┬─────────────┘    │\n",
    "  │               │                  │\n",
    "  │     ┌─────────▼─────────┐        │\n",
    "  │     │remark(sense, noun)│        │\n",
    "  │     └─────────┬─────────┘        │\n",
    "  └───────────────┘                  │\n",
    "                                     │\n",
    "                  ┌──────────────────┘\n",
    "┌─────────────────▼─────────────────┐ \n",
    "│print(\"It must be a \" + noun + \"!\")│ \n",
    "└───────────────────────────────────┘\n",
    "```"
   ]
  },
  {
   "cell_type": "markdown",
   "id": "8fa4e359-e630-401f-ac9a-2fa9f9fa9822",
   "metadata": {
    "editable": true,
    "slideshow": {
     "slide_type": "skip"
    },
    "tags": [
     "notes-only"
    ]
   },
   "source": [
    "* Use a trace table to help understand the code"
   ]
  },
  {
   "cell_type": "markdown",
   "id": "e71deddb-2da6-4a9c-8406-0664cc9fd935",
   "metadata": {
    "editable": true,
    "slideshow": {
     "slide_type": "skip"
    },
    "tags": [
     "notes-only"
    ]
   },
   "source": [
    "| Iteration # | Variable: sense | Variable: noun | Output                   |\n",
    "|-------------|-----------------|----------------|--------------------------|\n",
    "| 1st         | looks           | cookie         | It looks like a cookie.  |\n",
    "| 2nd         | smells          | cookie         | It smells like a cookie. |\n",
    "| 3rd         | feels           | cookie         | It feels like a cookie.  |\n",
    "| 4th         | sounds          | cookie         | It sounds like a cookie. |\n",
    "| 5th         | tastes          | cookie         | It tastes like a cookie. |"
   ]
  },
  {
   "cell_type": "markdown",
   "id": "c58b22a4-8c0d-48f5-8d58-b3c332bcb3f7",
   "metadata": {
    "editable": true,
    "slideshow": {
     "slide_type": ""
    },
    "tags": [
     "question"
    ]
   },
   "source": [
    "_For each of the following programs: (1) draw a trace table; (2) provide the output._"
   ]
  },
  {
   "cell_type": "code",
   "execution_count": 20,
   "id": "186a3689-4525-4fd0-8e91-7e9038130408",
   "metadata": {
    "editable": true,
    "slideshow": {
     "slide_type": ""
    },
    "tags": [
     "worksheet-code-only"
    ]
   },
   "outputs": [
    {
     "name": "stdout",
     "output_type": "stream",
     "text": [
      "5\n",
      "4\n",
      "3\n",
      "2\n",
      "1\n",
      "Blast off!\n"
     ]
    }
   ],
   "source": [
    "def main() -> None:\n",
    "    for num in [5,4,3,2,1]:\n",
    "        print(num)\n",
    "    print(\"Blast off!\")\n",
    "\n",
    "main()"
   ]
  },
  {
   "cell_type": "markdown",
   "id": "dbd48300-9902-4a83-9033-67b787c50806",
   "metadata": {
    "editable": true,
    "slideshow": {
     "slide_type": "skip"
    },
    "tags": [
     "blank"
    ]
   },
   "source": [
    "```\n",
    "\n",
    "\n",
    "\n",
    "\n",
    "\n",
    "\n",
    "\n",
    "\n",
    "\n",
    "\n",
    "```"
   ]
  },
  {
   "cell_type": "code",
   "execution_count": 21,
   "id": "894cb5b9-07a1-473f-8593-98c233a7ddb3",
   "metadata": {
    "editable": true,
    "slideshow": {
     "slide_type": "subslide"
    },
    "tags": [
     "worksheet-code-only"
    ]
   },
   "outputs": [
    {
     "name": "stdout",
     "output_type": "stream",
     "text": [
      "Your lucky number is...\n",
      "42\n"
     ]
    }
   ],
   "source": [
    "def main() -> None:\n",
    "    print(\"Your lucky number is...\")\n",
    "    for num in [13, 99, 42]:\n",
    "        result = num\n",
    "    print(result)\n",
    "\n",
    "main()"
   ]
  },
  {
   "cell_type": "markdown",
   "id": "971f5cb7-1b02-4cd8-83aa-125eda832180",
   "metadata": {
    "editable": true,
    "slideshow": {
     "slide_type": "skip"
    },
    "tags": [
     "blank"
    ]
   },
   "source": [
    "```\n",
    "\n",
    "\n",
    "\n",
    "\n",
    "\n",
    "\n",
    "\n",
    "\n",
    "\n",
    "\n",
    "\n",
    "\n",
    "```"
   ]
  },
  {
   "cell_type": "code",
   "execution_count": 22,
   "id": "974aa3f9-8c2e-4041-94a6-054a7d69baa0",
   "metadata": {
    "editable": true,
    "slideshow": {
     "slide_type": "fragment"
    },
    "tags": [
     "worksheet-code-only"
    ]
   },
   "outputs": [
    {
     "name": "stdout",
     "output_type": "stream",
     "text": [
      "Which tree should I plant?\n",
      "apple tree\n",
      "orange tree\n",
      "pear tree\n"
     ]
    },
    {
     "name": "stdin",
     "output_type": "stream",
     "text": [
      " orange\n"
     ]
    },
    {
     "name": "stdout",
     "output_type": "stream",
     "text": [
      "Okay, I'll plant a orange tree\n"
     ]
    }
   ],
   "source": [
    "def main() -> None:\n",
    "    print(\"Which tree should I plant?\")\n",
    "    for tree in ['apple', 'orange', 'pear']:\n",
    "        print(tree + \" tree\")\n",
    "    tree = input(\"\")\n",
    "    print(\"Okay, I'll plant a \" + tree + \" tree\")\n",
    "\n",
    "main()"
   ]
  },
  {
   "cell_type": "markdown",
   "id": "ef1e8205-386b-4f9d-8b42-77be392b3a63",
   "metadata": {
    "editable": true,
    "slideshow": {
     "slide_type": "skip"
    },
    "tags": [
     "blank"
    ]
   },
   "source": [
    "```\n",
    "\n",
    "\n",
    "\n",
    "\n",
    "\n",
    "\n",
    "\n",
    "\n",
    "\n",
    "\n",
    "\n",
    "\n",
    "```"
   ]
  },
  {
   "cell_type": "code",
   "execution_count": 17,
   "id": "3a796fa3-45de-47c5-a42d-a0f4b6ad0e1b",
   "metadata": {
    "editable": true,
    "slideshow": {
     "slide_type": "subslide"
    },
    "tags": [
     "worksheet-code-only"
    ]
   },
   "outputs": [
    {
     "name": "stdout",
     "output_type": "stream",
     "text": [
      "Grocery list:\n",
      "1. grapes\n",
      "2. crackers\n",
      "3. cheese\n",
      "4. olives\n"
     ]
    }
   ],
   "source": [
    "def main() -> None:\n",
    "    print(\"Grocery list:\")\n",
    "    groceries = [\"grapes\", \"crackers\", \"cheese\", \"olives\"]\n",
    "    for num in [0,1,2,3]:\n",
    "        item = groceries[num]\n",
    "        print(str(num + 1) + \". \" + item)\n",
    "\n",
    "main()"
   ]
  },
  {
   "cell_type": "markdown",
   "id": "269046fe-e4b6-4b8a-bc71-5f8b64f77f15",
   "metadata": {
    "editable": true,
    "slideshow": {
     "slide_type": "skip"
    },
    "tags": [
     "blank"
    ]
   },
   "source": [
    "```\n",
    "\n",
    "\n",
    "\n",
    "\n",
    "\n",
    "\n",
    "\n",
    "\n",
    "\n",
    "\n",
    "```"
   ]
  },
  {
   "cell_type": "markdown",
   "id": "dc748aa7-15b6-443d-bb42-3925f3de34c6",
   "metadata": {
    "editable": true,
    "slideshow": {
     "slide_type": "subslide"
    },
    "tags": []
   },
   "source": [
    "_Write a program that asks the user for a noun, a adjective, and a verb, and prints the length of each. For example:_\n",
    "```\n",
    "Noun? chair\n",
    "5 letters\n",
    "Adjective? colorful\n",
    "8 letters\n",
    "Verb? ran\n",
    "3 letters\n",
    "```"
   ]
  },
  {
   "cell_type": "code",
   "execution_count": 23,
   "id": "4dd12ff6-12c4-4db4-844c-b1fd0c84bbe0",
   "metadata": {
    "editable": true,
    "slideshow": {
     "slide_type": "skip"
    },
    "tags": [
     "answer"
    ]
   },
   "outputs": [
    {
     "name": "stdin",
     "output_type": "stream",
     "text": [
      "Noun?  chair\n"
     ]
    },
    {
     "name": "stdout",
     "output_type": "stream",
     "text": [
      "5 letters\n"
     ]
    },
    {
     "name": "stdin",
     "output_type": "stream",
     "text": [
      "Adjective?  colorful\n"
     ]
    },
    {
     "name": "stdout",
     "output_type": "stream",
     "text": [
      "8 letters\n"
     ]
    },
    {
     "name": "stdin",
     "output_type": "stream",
     "text": [
      "Verb?  ran\n"
     ]
    },
    {
     "name": "stdout",
     "output_type": "stream",
     "text": [
      "3 letters\n"
     ]
    }
   ],
   "source": [
    "def main() -> None:\n",
    "    for part in [\"Noun\", \"Adjective\", \"Verb\"]:\n",
    "        word = input(part + \"? \")\n",
    "        print(str(len(word)) + \" letters\")\n",
    "\n",
    "main()"
   ]
  },
  {
   "cell_type": "markdown",
   "id": "57ca2538-2100-460c-9079-557421ca999d",
   "metadata": {
    "editable": true,
    "slideshow": {
     "slide_type": "skip"
    },
    "tags": [
     "blank"
    ]
   },
   "source": [
    "```\n",
    "\n",
    "\n",
    "\n",
    "\n",
    "\n",
    "\n",
    "\n",
    "\n",
    "\n",
    "\n",
    "```"
   ]
  }
 ],
 "metadata": {
  "kernelspec": {
   "display_name": "Python 3 (ipykernel)",
   "language": "python",
   "name": "python3"
  },
  "language_info": {
   "codemirror_mode": {
    "name": "ipython",
    "version": 3
   },
   "file_extension": ".py",
   "mimetype": "text/x-python",
   "name": "python",
   "nbconvert_exporter": "python",
   "pygments_lexer": "ipython3",
   "version": "3.9.6"
  }
 },
 "nbformat": 4,
 "nbformat_minor": 5
}
