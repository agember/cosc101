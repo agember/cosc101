{
 "cells": [
  {
   "cell_type": "markdown",
   "id": "45453238",
   "metadata": {
    "editable": true,
    "slideshow": {
     "slide_type": "skip"
    },
    "tags": []
   },
   "source": [
    "# Conditionals: boolean expressions; if/else\n",
    "_COSC 101, Introduction to Computing I, 2024-09-27_"
   ]
  },
  {
   "cell_type": "markdown",
   "id": "c3d4afb5",
   "metadata": {
    "editable": true,
    "slideshow": {
     "slide_type": "skip"
    },
    "tags": []
   },
   "source": [
    "## Announcements\n",
    "* Homework 3 due today at 6pm\n",
    "* No pre-class reading or questions for Monday\n",
    "* Exam 1 in class on Wednesday\n",
    "    * Combination of code reading and code writing\n",
    "    * Study by solving problems (all linked from Moodle): in-class worksheets; Prof. Davis' class worksheets; exam 1 practice problems"
   ]
  },
  {
   "cell_type": "markdown",
   "id": "8c7a23ad",
   "metadata": {
    "editable": true,
    "slideshow": {
     "slide_type": "slide"
    },
    "tags": []
   },
   "source": [
    "## Boolean expressions"
   ]
  },
  {
   "cell_type": "markdown",
   "id": "71487227",
   "metadata": {
    "editable": true,
    "slideshow": {
     "slide_type": "skip"
    },
    "tags": [
     "notes-only"
    ]
   },
   "source": [
    "* _How many boolean values are there?_ — True, False\n",
    "* Numerical comparisons (`<`, `>`, `<=`, `=>`, `==`, `!=`) evaluate to `True` or `False`\n",
    "* `in` and `not in` evaluates to `True` or `False`"
   ]
  },
  {
   "cell_type": "markdown",
   "id": "6ae47b61",
   "metadata": {
    "editable": true,
    "slideshow": {
     "slide_type": "-"
    },
    "tags": [
     "question"
    ]
   },
   "source": [
    "_Which of the following are valid boolean expressions?_"
   ]
  },
  {
   "cell_type": "code",
   "execution_count": null,
   "id": "c77578ca-dc92-48a8-99e2-a1d13cf753bf",
   "metadata": {
    "editable": true,
    "slideshow": {
     "slide_type": "-"
    },
    "tags": [
     "question"
    ]
   },
   "outputs": [],
   "source": [
    "True"
   ]
  },
  {
   "cell_type": "markdown",
   "id": "71956823",
   "metadata": {
    "editable": true,
    "slideshow": {
     "slide_type": "skip"
    },
    "tags": [
     "answer"
    ]
   },
   "source": [
    "Valid — `True` is a boolean value"
   ]
  },
  {
   "cell_type": "code",
   "execution_count": null,
   "id": "40fc6898-7cc5-4b73-a764-811705067059",
   "metadata": {
    "editable": true,
    "slideshow": {
     "slide_type": "fragment"
    },
    "tags": [
     "question"
    ]
   },
   "outputs": [],
   "source": [
    "\"True\""
   ]
  },
  {
   "cell_type": "markdown",
   "id": "69c7eb68",
   "metadata": {
    "editable": true,
    "slideshow": {
     "slide_type": "skip"
    },
    "tags": [
     "answer"
    ]
   },
   "source": [
    "Invalid — `\"True\"` is a string, not a boolean value"
   ]
  },
  {
   "cell_type": "code",
   "execution_count": null,
   "id": "ed99d752-46e1-4a41-ad92-d89769a1def0",
   "metadata": {
    "editable": true,
    "slideshow": {
     "slide_type": "fragment"
    },
    "tags": [
     "question"
    ]
   },
   "outputs": [],
   "source": [
    "1 < 2"
   ]
  },
  {
   "cell_type": "markdown",
   "id": "0c0c4d53",
   "metadata": {
    "editable": true,
    "slideshow": {
     "slide_type": "skip"
    },
    "tags": [
     "answer"
    ]
   },
   "source": [
    "Valid — comparison of integers evaluates to a boolean value (`True` or `False`)"
   ]
  },
  {
   "cell_type": "code",
   "execution_count": null,
   "id": "bf900e70-db6d-4d4d-a4d5-38622c702fca",
   "metadata": {
    "editable": true,
    "slideshow": {
     "slide_type": "fragment"
    },
    "tags": [
     "question"
    ]
   },
   "outputs": [],
   "source": [
    "3 = 3"
   ]
  },
  {
   "cell_type": "markdown",
   "id": "213b411a",
   "metadata": {
    "editable": true,
    "slideshow": {
     "slide_type": "skip"
    },
    "tags": [
     "answer"
    ]
   },
   "source": [
    "Invalid — use double equals (`==`) for equality comparison; single equals (`=`) is used for (re)assignment"
   ]
  },
  {
   "cell_type": "code",
   "execution_count": null,
   "id": "ac16830c-3142-422f-9d78-d5478ea6c610",
   "metadata": {
    "editable": true,
    "slideshow": {
     "slide_type": "fragment"
    },
    "tags": [
     "question"
    ]
   },
   "outputs": [],
   "source": [
    "4 >= 4"
   ]
  },
  {
   "cell_type": "markdown",
   "id": "b37344cb",
   "metadata": {
    "editable": true,
    "slideshow": {
     "slide_type": "skip"
    },
    "tags": [
     "answer"
    ]
   },
   "source": [
    "Valid — `>=` means greater than or equal to; as noted above, comparison of integers evaluates to a boolean value"
   ]
  },
  {
   "cell_type": "code",
   "execution_count": null,
   "id": "3fae8eb2-3d62-4d2c-a5bc-9af6b48df543",
   "metadata": {
    "editable": true,
    "slideshow": {
     "slide_type": "fragment"
    },
    "tags": []
   },
   "outputs": [],
   "source": [
    "\"gate\" in \"Colgate\""
   ]
  },
  {
   "cell_type": "markdown",
   "id": "b3f72cbc-83a2-4d54-86e6-6ba78f0bc73b",
   "metadata": {
    "editable": true,
    "slideshow": {
     "slide_type": "skip"
    },
    "tags": [
     "answer"
    ]
   },
   "source": [
    "Valid — `in` checks if one string contains another"
   ]
  },
  {
   "cell_type": "code",
   "execution_count": null,
   "id": "b37cd960-ebf2-4dc6-ad99-b3bf58734bc8",
   "metadata": {
    "editable": true,
    "slideshow": {
     "slide_type": "fragment"
    },
    "tags": []
   },
   "outputs": [],
   "source": [
    "13 not in 13346"
   ]
  },
  {
   "cell_type": "markdown",
   "id": "756170d2-6817-404e-9dce-b7c9abb8c3ed",
   "metadata": {
    "editable": true,
    "slideshow": {
     "slide_type": "skip"
    },
    "tags": [
     "answer"
    ]
   },
   "source": [
    "Invalid — `in` does not work with integers"
   ]
  },
  {
   "cell_type": "markdown",
   "id": "ad22aa24",
   "metadata": {
    "editable": true,
    "slideshow": {
     "slide_type": "skip"
    },
    "tags": [
     "question"
    ]
   },
   "source": [
    "_Assume the following assignment statements have been executed:_"
   ]
  },
  {
   "cell_type": "code",
   "execution_count": 56,
   "id": "9ad07aae",
   "metadata": {
    "editable": true,
    "slideshow": {
     "slide_type": "subslide"
    },
    "tags": [
     "question"
    ]
   },
   "outputs": [],
   "source": [
    "x = -2\n",
    "y = 0\n",
    "z = 5\n",
    "u = \"vanilla\"\n",
    "v = \"chocolate\""
   ]
  },
  {
   "cell_type": "markdown",
   "id": "d3e0bf13",
   "metadata": {
    "editable": true,
    "slideshow": {
     "slide_type": "skip"
    },
    "tags": [
     "question"
    ]
   },
   "source": [
    "_What does each of the following boolean expressions evaluate to? If the expression is an invalid boolean expression, describe why._"
   ]
  },
  {
   "cell_type": "code",
   "execution_count": 11,
   "id": "6bde10c1",
   "metadata": {
    "editable": true,
    "slideshow": {
     "slide_type": "-"
    },
    "tags": [
     "worksheet-code-only"
    ]
   },
   "outputs": [
    {
     "data": {
      "text/plain": [
       "True"
      ]
     },
     "execution_count": 11,
     "metadata": {},
     "output_type": "execute_result"
    }
   ],
   "source": [
    "x < 0"
   ]
  },
  {
   "cell_type": "code",
   "execution_count": 13,
   "id": "1915d1dd",
   "metadata": {
    "editable": true,
    "slideshow": {
     "slide_type": "fragment"
    },
    "tags": [
     "worksheet-code-only"
    ]
   },
   "outputs": [
    {
     "data": {
      "text/plain": [
       "False"
      ]
     },
     "execution_count": 13,
     "metadata": {},
     "output_type": "execute_result"
    }
   ],
   "source": [
    "x > y"
   ]
  },
  {
   "cell_type": "code",
   "execution_count": 14,
   "id": "2057696c",
   "metadata": {
    "editable": true,
    "slideshow": {
     "slide_type": "fragment"
    },
    "tags": [
     "worksheet-code-only"
    ]
   },
   "outputs": [
    {
     "ename": "SyntaxError",
     "evalue": "invalid syntax (3681964408.py, line 1)",
     "output_type": "error",
     "traceback": [
      "\u001b[0;36m  Cell \u001b[0;32mIn[14], line 1\u001b[0;36m\u001b[0m\n\u001b[0;31m    y !== 0\u001b[0m\n\u001b[0m        ^\u001b[0m\n\u001b[0;31mSyntaxError\u001b[0m\u001b[0;31m:\u001b[0m invalid syntax\n"
     ]
    }
   ],
   "source": [
    "y !== 0"
   ]
  },
  {
   "cell_type": "code",
   "execution_count": 15,
   "id": "5965d46a",
   "metadata": {
    "editable": true,
    "slideshow": {
     "slide_type": "fragment"
    },
    "tags": [
     "worksheet-code-only"
    ]
   },
   "outputs": [
    {
     "data": {
      "text/plain": [
       "True"
      ]
     },
     "execution_count": 15,
     "metadata": {},
     "output_type": "execute_result"
    }
   ],
   "source": [
    "y >= y"
   ]
  },
  {
   "cell_type": "code",
   "execution_count": 16,
   "id": "8f1c2201",
   "metadata": {
    "editable": true,
    "slideshow": {
     "slide_type": "fragment"
    },
    "tags": [
     "worksheet-code-only"
    ]
   },
   "outputs": [
    {
     "data": {
      "text/plain": [
       "True"
      ]
     },
     "execution_count": 16,
     "metadata": {},
     "output_type": "execute_result"
    }
   ],
   "source": [
    "x + y < z"
   ]
  },
  {
   "cell_type": "code",
   "execution_count": 17,
   "id": "29231d2b",
   "metadata": {
    "editable": true,
    "slideshow": {
     "slide_type": "fragment"
    },
    "tags": [
     "worksheet-code-only"
    ]
   },
   "outputs": [
    {
     "data": {
      "text/plain": [
       "True"
      ]
     },
     "execution_count": 17,
     "metadata": {},
     "output_type": "execute_result"
    }
   ],
   "source": [
    "\"a\" < \"b\""
   ]
  },
  {
   "cell_type": "code",
   "execution_count": 18,
   "id": "68bbfb4d",
   "metadata": {
    "editable": true,
    "slideshow": {
     "slide_type": "fragment"
    },
    "tags": [
     "worksheet-code-only"
    ]
   },
   "outputs": [
    {
     "data": {
      "text/plain": [
       "False"
      ]
     },
     "execution_count": 18,
     "metadata": {},
     "output_type": "execute_result"
    }
   ],
   "source": [
    "\"b\" < \"C\""
   ]
  },
  {
   "cell_type": "code",
   "execution_count": 57,
   "id": "b005679d-c38c-4b46-8a06-1d5693c90964",
   "metadata": {
    "editable": true,
    "slideshow": {
     "slide_type": "fragment"
    },
    "tags": [
     "worksheet-code-only"
    ]
   },
   "outputs": [
    {
     "data": {
      "text/plain": [
       "False"
      ]
     },
     "execution_count": 57,
     "metadata": {},
     "output_type": "execute_result"
    }
   ],
   "source": [
    "u < v"
   ]
  },
  {
   "cell_type": "code",
   "execution_count": 58,
   "id": "a6df2da9-c003-4b53-abd1-9498fc6f67fc",
   "metadata": {
    "editable": true,
    "slideshow": {
     "slide_type": "fragment"
    },
    "tags": [
     "worksheet-code-only"
    ]
   },
   "outputs": [
    {
     "ename": "TypeError",
     "evalue": "'>' not supported between instances of 'str' and 'int'",
     "output_type": "error",
     "traceback": [
      "\u001b[0;31m---------------------------------------------------------------------------\u001b[0m",
      "\u001b[0;31mTypeError\u001b[0m                                 Traceback (most recent call last)",
      "Cell \u001b[0;32mIn[58], line 1\u001b[0m\n\u001b[0;32m----> 1\u001b[0m \u001b[43mu\u001b[49m\u001b[43m \u001b[49m\u001b[38;5;241;43m>\u001b[39;49m\u001b[43m \u001b[49m\u001b[43mz\u001b[49m\n",
      "\u001b[0;31mTypeError\u001b[0m: '>' not supported between instances of 'str' and 'int'"
     ]
    }
   ],
   "source": [
    "u > z"
   ]
  },
  {
   "cell_type": "code",
   "execution_count": 61,
   "id": "406af6e5-d0de-4f52-8162-b4b28f89c75f",
   "metadata": {
    "editable": true,
    "slideshow": {
     "slide_type": "fragment"
    },
    "tags": [
     "worksheet-code-only"
    ]
   },
   "outputs": [
    {
     "data": {
      "text/plain": [
       "False"
      ]
     },
     "execution_count": 61,
     "metadata": {},
     "output_type": "execute_result"
    }
   ],
   "source": [
    "u == z"
   ]
  },
  {
   "cell_type": "markdown",
   "id": "5d8ace1b",
   "metadata": {
    "editable": true,
    "slideshow": {
     "slide_type": "skip"
    },
    "tags": [
     "worksheet-only"
    ]
   },
   "source": [
    "🛑 **STOP here** after completing the above questions; if you have extra time **skip** to the extra practice."
   ]
  },
  {
   "cell_type": "markdown",
   "id": "afce6bc5",
   "metadata": {
    "editable": true,
    "slideshow": {
     "slide_type": "slide"
    },
    "tags": []
   },
   "source": [
    "## Conditional statements"
   ]
  },
  {
   "cell_type": "markdown",
   "id": "898ad5d7",
   "metadata": {
    "editable": true,
    "slideshow": {
     "slide_type": "skip"
    },
    "tags": [
     "notes-only"
    ]
   },
   "source": [
    "* Used to influence program’s behavior based on the result of a boolean expression\n",
    "* If statement — execute one set of instructions when the specified boolean expression is true and execute a different set of instructions when the expression is false\n",
    "    ```Python\n",
    "    if boolean expression:\n",
    "        statements when true\n",
    "    else:\n",
    "        statements when false\n",
    "    ```\n",
    "    * Statements must be indented\n",
    "    * Else clause is optional\n",
    "* Sequence of execution is non-linear\n",
    "    * Only execute one set of statements, based on the result of the boolean expression\n",
    "    * Skip over other set of statements\n",
    "* Drawing a flowchart is useful"
   ]
  },
  {
   "cell_type": "markdown",
   "id": "fe1f3110",
   "metadata": {
    "editable": true,
    "slideshow": {
     "slide_type": "-"
    },
    "tags": []
   },
   "source": [
    "Example\n",
    "```Python\n",
    "print(\"This is always first\")\n",
    "if (x > 0):\n",
    "\tprint(\"Expression is true\")\n",
    "\tprint(\"Hooray!\")\n",
    "else:\n",
    "\tprint(\"Expression is false\")\n",
    "\tprint(\"Uh-oh!\")\n",
    "print(\"This is always last\")\n",
    "```"
   ]
  },
  {
   "cell_type": "markdown",
   "id": "2d9754ca",
   "metadata": {
    "editable": true,
    "slideshow": {
     "slide_type": "skip"
    },
    "tags": [
     "notes-only"
    ]
   },
   "source": [
    "![Flowchart for example](figures/conditionals/example.png)"
   ]
  },
  {
   "cell_type": "markdown",
   "id": "763c6beb-819c-4f3d-9f56-1db9e0ab881f",
   "metadata": {
    "editable": true,
    "slideshow": {
     "slide_type": "skip"
    },
    "tags": [
     "blank"
    ]
   },
   "source": [
    "```\n",
    "\n",
    "\n",
    "\n",
    "\n",
    "\n",
    "\n",
    "\n",
    "```"
   ]
  },
  {
   "cell_type": "markdown",
   "id": "742a456b",
   "metadata": {
    "editable": true,
    "slideshow": {
     "slide_type": "subslide"
    },
    "tags": []
   },
   "source": [
    "Example without else clause\n",
    "```Python\n",
    "print(\"This is always first\")\n",
    "if (x > 0):\n",
    "\tprint(\"Expression is true\")\n",
    "\tprint(\"This occurs sometimes\")\n",
    "print(\"This is always last\")\n",
    "```"
   ]
  },
  {
   "cell_type": "markdown",
   "id": "332a7252",
   "metadata": {
    "editable": true,
    "slideshow": {
     "slide_type": "skip"
    },
    "tags": [
     "notes-only"
    ]
   },
   "source": [
    "![Flowchart for example without else caluse](figures/conditionals/example_without_else.png)"
   ]
  },
  {
   "cell_type": "markdown",
   "id": "7ef3bf17-24c6-4f31-8ebb-358d9dfc0708",
   "metadata": {
    "editable": true,
    "slideshow": {
     "slide_type": "skip"
    },
    "tags": [
     "blank"
    ]
   },
   "source": [
    "```\n",
    "\n",
    "\n",
    "\n",
    "\n",
    "\n",
    "\n",
    "\n",
    "\n",
    "```"
   ]
  },
  {
   "cell_type": "markdown",
   "id": "0c203ffa",
   "metadata": {
    "editable": true,
    "slideshow": {
     "slide_type": "subslide"
    },
    "tags": [
     "question"
    ]
   },
   "source": [
    "_Draw a flow chart for each of the following functions. Specify what output will be produced for each of the following function calls._"
   ]
  },
  {
   "cell_type": "code",
   "execution_count": 29,
   "id": "d29c4d64",
   "metadata": {
    "editable": true,
    "slideshow": {
     "slide_type": ""
    },
    "tags": [
     "worksheet-code-only"
    ]
   },
   "outputs": [],
   "source": [
    "def purchase(cost: int, refund: int) -> None:\n",
    "    if (cost > 100):\n",
    "        refund = 10\n",
    "    refund = refund * 2\n",
    "    print(refund)"
   ]
  },
  {
   "cell_type": "markdown",
   "id": "126d2089",
   "metadata": {
    "editable": true,
    "slideshow": {
     "slide_type": "skip"
    },
    "tags": [
     "blank"
    ]
   },
   "source": [
    "```\n",
    "\n",
    "\n",
    "\n",
    "\n",
    "\n",
    "\n",
    "\n",
    "\n",
    "```"
   ]
  },
  {
   "cell_type": "code",
   "execution_count": 33,
   "id": "f11cb854-961a-4ffe-8ef0-569540b924b7",
   "metadata": {
    "editable": true,
    "slideshow": {
     "slide_type": ""
    },
    "tags": [
     "worksheet-code-only"
    ]
   },
   "outputs": [
    {
     "name": "stdout",
     "output_type": "stream",
     "text": [
      "20\n"
     ]
    }
   ],
   "source": [
    "purchase(200, 3)"
   ]
  },
  {
   "cell_type": "markdown",
   "id": "40e58f3b-5347-45f1-aa51-c92afe3336f8",
   "metadata": {
    "editable": true,
    "slideshow": {
     "slide_type": "skip"
    },
    "tags": [
     "blank"
    ]
   },
   "source": [
    "```\n",
    "```"
   ]
  },
  {
   "cell_type": "code",
   "execution_count": 32,
   "id": "e2505b42-d0d2-4d87-baf8-5cdbfb6b12c7",
   "metadata": {
    "editable": true,
    "slideshow": {
     "slide_type": ""
    },
    "tags": [
     "worksheet-code-only"
    ]
   },
   "outputs": [
    {
     "name": "stdout",
     "output_type": "stream",
     "text": [
      "8\n"
     ]
    }
   ],
   "source": [
    "purchase(50, 4)"
   ]
  },
  {
   "cell_type": "markdown",
   "id": "e6e453d9-5c1d-40c7-a335-e5c578827813",
   "metadata": {
    "editable": true,
    "slideshow": {
     "slide_type": "skip"
    },
    "tags": [
     "blank"
    ]
   },
   "source": [
    "```\n",
    "```"
   ]
  },
  {
   "cell_type": "code",
   "execution_count": 25,
   "id": "1466c5b8",
   "metadata": {
    "editable": true,
    "slideshow": {
     "slide_type": "subslide"
    },
    "tags": [
     "worksheet-code-only"
    ]
   },
   "outputs": [],
   "source": [
    "def time(hour: int) -> None:\n",
    "    if (hour == 12):\n",
    "        print(\"noon\")\n",
    "    if (hour < 12):\n",
    "        print(\"AM\")\n",
    "    else:\n",
    "        print(\"PM\")"
   ]
  },
  {
   "cell_type": "markdown",
   "id": "6ae9b394",
   "metadata": {
    "editable": true,
    "slideshow": {
     "slide_type": "skip"
    },
    "tags": [
     "blank"
    ]
   },
   "source": [
    "```\n",
    "\n",
    "\n",
    "\n",
    "\n",
    "\n",
    "\n",
    "\n",
    "\n",
    "\n",
    "```"
   ]
  },
  {
   "cell_type": "code",
   "execution_count": 26,
   "id": "d70a5198-a1af-4333-a235-27b6b22d3ace",
   "metadata": {
    "editable": true,
    "slideshow": {
     "slide_type": ""
    },
    "tags": [
     "worksheet-code-only"
    ]
   },
   "outputs": [
    {
     "name": "stdout",
     "output_type": "stream",
     "text": [
      "noon\n",
      "PM\n"
     ]
    }
   ],
   "source": [
    "time(12)"
   ]
  },
  {
   "cell_type": "markdown",
   "id": "5fa22ce7-5027-4dbf-a891-d065323301a2",
   "metadata": {
    "editable": true,
    "slideshow": {
     "slide_type": "skip"
    },
    "tags": [
     "blank"
    ]
   },
   "source": [
    "```\n",
    "```"
   ]
  },
  {
   "cell_type": "code",
   "execution_count": 27,
   "id": "a2234197-2d35-4236-89f9-7808554afab6",
   "metadata": {
    "editable": true,
    "slideshow": {
     "slide_type": ""
    },
    "tags": [
     "worksheet-code-only"
    ]
   },
   "outputs": [
    {
     "name": "stdout",
     "output_type": "stream",
     "text": [
      "AM\n"
     ]
    }
   ],
   "source": [
    "time(10)"
   ]
  },
  {
   "cell_type": "markdown",
   "id": "4300c370-088f-41c5-842f-da861844f5d5",
   "metadata": {
    "editable": true,
    "slideshow": {
     "slide_type": "skip"
    },
    "tags": [
     "blank"
    ]
   },
   "source": [
    "```\n",
    "```"
   ]
  },
  {
   "cell_type": "markdown",
   "id": "0c5202cc",
   "metadata": {
    "editable": true,
    "slideshow": {
     "slide_type": "subslide"
    },
    "tags": [
     "question"
    ]
   },
   "source": [
    "_Write a program that asks the user a yes/no question and outputs `Correct` or `Incorrect` based on the user's answer. For example:_\n",
    "```\n",
    "Is a whale a mammal? yes\n",
    "Correct\n",
    "```"
   ]
  },
  {
   "cell_type": "code",
   "execution_count": 35,
   "id": "a5092d73",
   "metadata": {
    "editable": true,
    "slideshow": {
     "slide_type": "skip"
    },
    "tags": [
     "answer"
    ]
   },
   "outputs": [
    {
     "name": "stdin",
     "output_type": "stream",
     "text": [
      "Is a whale a mammal?  yes\n"
     ]
    },
    {
     "name": "stdout",
     "output_type": "stream",
     "text": [
      "Correct\n"
     ]
    }
   ],
   "source": [
    "def main() -> None:\n",
    "    answer = input(\"Is a whale a mammal? \")\n",
    "    if (answer == \"yes\"):\n",
    "        print(\"Correct\")\n",
    "    else:\n",
    "        print(\"Incorrect\")\n",
    "\n",
    "main()"
   ]
  },
  {
   "cell_type": "markdown",
   "id": "4522955a",
   "metadata": {
    "editable": true,
    "slideshow": {
     "slide_type": "skip"
    },
    "tags": [
     "blank"
    ]
   },
   "source": [
    "```\n",
    "\n",
    "\n",
    "\n",
    "\n",
    "\n",
    "\n",
    "\n",
    "\n",
    "\n",
    "\n",
    "\n",
    "\n",
    "```"
   ]
  },
  {
   "cell_type": "markdown",
   "id": "cd50bc69",
   "metadata": {
    "editable": true,
    "slideshow": {
     "slide_type": ""
    },
    "tags": [
     "question"
    ]
   },
   "source": [
    "_Write a function called `is_divisible` that takes two numbers and returns `True` if the first number is evenly divisible by the second number, or false otherwise. For example, `is_divisible(10, 5)` should return `True`._"
   ]
  },
  {
   "cell_type": "code",
   "execution_count": 53,
   "id": "4f2802dc",
   "metadata": {
    "editable": true,
    "slideshow": {
     "slide_type": "skip"
    },
    "tags": [
     "answer"
    ]
   },
   "outputs": [],
   "source": [
    "def is_divisible(first: int, second: int) -> bool:\n",
    "    if (first % second == 0):\n",
    "        return True\n",
    "    else:\n",
    "        return False"
   ]
  },
  {
   "cell_type": "markdown",
   "id": "9508f0e3",
   "metadata": {
    "editable": true,
    "slideshow": {
     "slide_type": "skip"
    },
    "tags": [
     "blank"
    ]
   },
   "source": [
    "```\n",
    "\n",
    "\n",
    "\n",
    "\n",
    "\n",
    "\n",
    "\n",
    "\n",
    "\n",
    "\n",
    "\n",
    "```"
   ]
  },
  {
   "cell_type": "markdown",
   "id": "b4672a6d-1bb4-44bf-8cdd-ee3f661fb04e",
   "metadata": {
    "editable": true,
    "raw_mimetype": "",
    "slideshow": {
     "slide_type": ""
    },
    "tags": [
     "question"
    ]
   },
   "source": [
    "_Write a function called `has_space` that takes a phrase and returns True if the phrase contains a space. For example, `has_space(\"hello programmer\")` should return `True`_"
   ]
  },
  {
   "cell_type": "code",
   "execution_count": 52,
   "id": "c43fe05e-ccf8-4ef2-b1d7-5a6a2d6ff0fe",
   "metadata": {
    "editable": true,
    "slideshow": {
     "slide_type": "skip"
    },
    "tags": [
     "answer"
    ]
   },
   "outputs": [],
   "source": [
    "def has_space(word: str) -> bool:\n",
    "    has_space = False\n",
    "    for letter in word:\n",
    "        if letter == ' ':\n",
    "            has_space = True\n",
    "    return has_space"
   ]
  },
  {
   "cell_type": "markdown",
   "id": "4940faf8-808d-48e6-8fdb-7ca892822ca0",
   "metadata": {
    "editable": true,
    "slideshow": {
     "slide_type": "skip"
    },
    "tags": [
     "blank"
    ]
   },
   "source": [
    "```\n",
    "\n",
    "\n",
    "\n",
    "\n",
    "\n",
    "\n",
    "\n",
    "\n",
    "\n",
    "\n",
    "\n",
    "```"
   ]
  },
  {
   "cell_type": "markdown",
   "id": "81ad4009-b9e0-440c-8b18-4f4a2c3dfbbb",
   "metadata": {
    "editable": true,
    "slideshow": {
     "slide_type": "subslide"
    },
    "tags": [
     "question"
    ]
   },
   "source": [
    "_Draw a flow chart for the following function. Specify what output will be produced for each of the following function calls._"
   ]
  },
  {
   "cell_type": "code",
   "execution_count": 46,
   "id": "475c439f-78f6-4254-bb41-b56442c79153",
   "metadata": {
    "editable": true,
    "slideshow": {
     "slide_type": "-"
    },
    "tags": [
     "worksheet-code-only"
    ]
   },
   "outputs": [],
   "source": [
    "def mystery(x: int, y: int) -> None:\n",
    "    if (x >= 0):\n",
    "        print(\"B\")\n",
    "    if (x > y):\n",
    "        print(\"C\")\n",
    "    else:\n",
    "        print(\"D\")\n",
    "    if (y <= 0):\n",
    "        print(\"E\")\n",
    "    if (x < y):\n",
    "        print(\"F\")\n",
    "    else:\n",
    "        print(\"G\")"
   ]
  },
  {
   "cell_type": "markdown",
   "id": "d9c1caaa-df2c-42b5-ab19-ec9d90a03d52",
   "metadata": {
    "editable": true,
    "slideshow": {
     "slide_type": "skip"
    },
    "tags": [
     "blank"
    ]
   },
   "source": [
    "```\n",
    "\n",
    "\n",
    "\n",
    "\n",
    "\n",
    "\n",
    "\n",
    "\n",
    "\n",
    "```"
   ]
  },
  {
   "cell_type": "code",
   "execution_count": 47,
   "id": "f8be8d53-7d9e-4e1d-a1ef-6b1744fdb064",
   "metadata": {
    "editable": true,
    "slideshow": {
     "slide_type": ""
    },
    "tags": [
     "worksheet-code-only"
    ]
   },
   "outputs": [
    {
     "name": "stdout",
     "output_type": "stream",
     "text": [
      "B\n",
      "C\n",
      "E\n",
      "G\n"
     ]
    }
   ],
   "source": [
    "mystery(13, -42)"
   ]
  },
  {
   "cell_type": "markdown",
   "id": "ad923839-a75b-4e4d-b2e2-39f08afde69d",
   "metadata": {
    "editable": true,
    "slideshow": {
     "slide_type": "skip"
    },
    "tags": [
     "blank"
    ]
   },
   "source": [
    "```\n",
    "\n",
    "\n",
    "\n",
    "\n",
    "```"
   ]
  },
  {
   "cell_type": "code",
   "execution_count": 48,
   "id": "0ada861c-4ce5-48a9-a4ca-e5a193b0dee9",
   "metadata": {
    "editable": true,
    "slideshow": {
     "slide_type": ""
    },
    "tags": [
     "worksheet-code-only"
    ]
   },
   "outputs": [
    {
     "name": "stdout",
     "output_type": "stream",
     "text": [
      "D\n",
      "F\n"
     ]
    }
   ],
   "source": [
    "mystery(-10, 20)"
   ]
  },
  {
   "cell_type": "markdown",
   "id": "cbf13e13-33c8-41bd-9a8e-d55c591ed115",
   "metadata": {
    "editable": true,
    "slideshow": {
     "slide_type": "skip"
    },
    "tags": [
     "blank"
    ]
   },
   "source": [
    "```\n",
    "\n",
    "\n",
    "\n",
    "\n",
    "```"
   ]
  },
  {
   "cell_type": "code",
   "execution_count": 49,
   "id": "24b03ad1-4317-4133-8d0c-b58000ccfcbc",
   "metadata": {
    "editable": true,
    "slideshow": {
     "slide_type": ""
    },
    "tags": [
     "worksheet-code-only"
    ]
   },
   "outputs": [
    {
     "name": "stdout",
     "output_type": "stream",
     "text": [
      "B\n",
      "D\n",
      "E\n",
      "G\n"
     ]
    }
   ],
   "source": [
    "mystery(0, 0)"
   ]
  },
  {
   "cell_type": "markdown",
   "id": "371aac24-0336-4d63-8e79-b01e6b370ece",
   "metadata": {
    "editable": true,
    "slideshow": {
     "slide_type": "skip"
    },
    "tags": [
     "blank"
    ]
   },
   "source": [
    "```\n",
    "\n",
    "\n",
    "\n",
    "\n",
    "```"
   ]
  },
  {
   "cell_type": "markdown",
   "id": "25253a26-ee45-4931-a2c5-c3dfa60bd477",
   "metadata": {
    "editable": true,
    "raw_mimetype": "",
    "slideshow": {
     "slide_type": "subslide"
    },
    "tags": [
     "question"
    ]
   },
   "source": [
    "_Write a function called `count_occurences` that takes a word and a character and returns the number of times the character appears in the word. For example, `count_occurences(\"university\", \"i\")` should return `2`._"
   ]
  },
  {
   "cell_type": "code",
   "execution_count": 51,
   "id": "9f318104-9e78-4b12-89a8-c81e190dce23",
   "metadata": {
    "editable": true,
    "slideshow": {
     "slide_type": "skip"
    },
    "tags": [
     "answer"
    ]
   },
   "outputs": [],
   "source": [
    "def count_occurences(word: str, find: str) -> int:\n",
    "    count = 0\n",
    "    for letter in word:\n",
    "        if letter == find:\n",
    "            count = count + 1\n",
    "    return count"
   ]
  },
  {
   "cell_type": "markdown",
   "id": "44044a7c-fffa-4274-8fce-1d63405c9df9",
   "metadata": {
    "editable": true,
    "slideshow": {
     "slide_type": "skip"
    },
    "tags": [
     "blank"
    ]
   },
   "source": [
    "```\n",
    "\n",
    "\n",
    "\n",
    "\n",
    "\n",
    "\n",
    "\n",
    "\n",
    "\n",
    "\n",
    "\n",
    "```"
   ]
  },
  {
   "cell_type": "markdown",
   "id": "1be2c493-22f6-46a1-9f12-51f48751f219",
   "metadata": {
    "editable": true,
    "slideshow": {
     "slide_type": "slide"
    },
    "tags": []
   },
   "source": [
    "## Extra practice"
   ]
  },
  {
   "cell_type": "markdown",
   "id": "87aed462-88f1-4dfa-9488-5683bb61bd96",
   "metadata": {
    "editable": true,
    "slideshow": {
     "slide_type": ""
    },
    "tags": [
     "question"
    ]
   },
   "source": [
    "_Write a function called `mix` that takes two strings of equal length and returns a string that contains the 1st letter of the 1st word, followed by the 1st letter of the 2nd word, followed by the 2nd letter of the 1st word, followed by the 2nd letter of the 2nd word, etc. For example, `mix(\"abc\", \"xyz\")` should return `\"axbycz\"` and `mix(\"set\", \"hes\")` should return \"sheets\"._"
   ]
  },
  {
   "cell_type": "code",
   "execution_count": 63,
   "id": "337959c0-480e-4686-bbef-f241e5f9eef5",
   "metadata": {
    "editable": true,
    "slideshow": {
     "slide_type": "skip"
    },
    "tags": [
     "answer"
    ]
   },
   "outputs": [
    {
     "data": {
      "text/plain": [
       "'axbycz'"
      ]
     },
     "execution_count": 63,
     "metadata": {},
     "output_type": "execute_result"
    }
   ],
   "source": [
    "def mix(first: str, second: str) -> str:\n",
    "    length = len(first)\n",
    "    mixed = \"\"\n",
    "    for index in range(length):\n",
    "        mixed = mixed + first[index] + second[index]\n",
    "    return mixed\n",
    "\n",
    "mix(\"abc\", \"xyz\")"
   ]
  },
  {
   "cell_type": "markdown",
   "id": "edbe23dd-809f-43a7-bce7-23a0e844b49b",
   "metadata": {
    "editable": true,
    "slideshow": {
     "slide_type": "skip"
    },
    "tags": [
     "blank"
    ]
   },
   "source": [
    "```\n",
    "\n",
    "\n",
    "\n",
    "\n",
    "\n",
    "\n",
    "\n",
    "\n",
    "\n",
    "\n",
    "\n",
    "```"
   ]
  }
 ],
 "metadata": {
  "celltoolbar": "Slideshow",
  "kernelspec": {
   "display_name": "Python 3 (ipykernel)",
   "language": "python",
   "name": "python3"
  },
  "language_info": {
   "codemirror_mode": {
    "name": "ipython",
    "version": 3
   },
   "file_extension": ".py",
   "mimetype": "text/x-python",
   "name": "python",
   "nbconvert_exporter": "python",
   "pygments_lexer": "ipython3",
   "version": "3.9.6"
  }
 },
 "nbformat": 4,
 "nbformat_minor": 5
}
