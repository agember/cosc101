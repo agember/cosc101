{
 "cells": [
  {
   "cell_type": "markdown",
   "id": "45453238",
   "metadata": {
    "editable": true,
    "slideshow": {
     "slide_type": "skip"
    },
    "tags": []
   },
   "source": [
    "# Conditionals: boolean expressions; if/elif/else\n",
    "_COSC 101, Introduction to Computing I, 2024-10-04_"
   ]
  },
  {
   "cell_type": "markdown",
   "id": "c3d4afb5",
   "metadata": {
    "editable": true,
    "slideshow": {
     "slide_type": "skip"
    },
    "tags": []
   },
   "source": [
    "## Announcements\n",
    "* Homework 4 due Thursday at 11:59pm"
   ]
  },
  {
   "cell_type": "markdown",
   "id": "73fe089a-496b-4cf7-8f23-8fb6f9bd12f6",
   "metadata": {
    "editable": true,
    "slideshow": {
     "slide_type": ""
    },
    "tags": []
   },
   "source": [
    "## Warm-up"
   ]
  },
  {
   "cell_type": "markdown",
   "id": "34d9e0b5-c73e-428a-9b1a-6e33ab798b9b",
   "metadata": {
    "editable": true,
    "slideshow": {
     "slide_type": "slide"
    },
    "tags": [
     "question"
    ]
   },
   "source": [
    "_Draw a flowchart for the following program:_"
   ]
  },
  {
   "cell_type": "code",
   "execution_count": null,
   "id": "def76190",
   "metadata": {
    "editable": true,
    "slideshow": {
     "slide_type": ""
    },
    "tags": [
     "question"
    ]
   },
   "outputs": [],
   "source": [
    "day = input(\"Today is \")\n",
    "if (day == \"Saturday\" or day == \"Sunday\"):\n",
    "    print(\"It is the weekend\")\n",
    "else:\n",
    "    print(\"It is a weekday\")\n",
    "if (day == \"Wednesday\"):\n",
    "    print(\"Halfway to the weekend\")\n",
    "print(\"Happy \" + day + \"!\")"
   ]
  },
  {
   "cell_type": "markdown",
   "id": "02a39da6-bf91-4cd0-8d6c-3e213c807fe7",
   "metadata": {
    "editable": true,
    "slideshow": {
     "slide_type": "skip"
    },
    "tags": [
     "blank"
    ]
   },
   "source": [
    "```\n",
    "\n",
    "\n",
    "\n",
    "\n",
    "\n",
    "\n",
    "\n",
    "```"
   ]
  },
  {
   "cell_type": "markdown",
   "id": "bd358fc1-a488-491c-b6d8-650ed2795831",
   "metadata": {
    "editable": true,
    "slideshow": {
     "slide_type": ""
    },
    "tags": [
     "question"
    ]
   },
   "source": [
    "_What will the program output if a user enters `Saturday`?_"
   ]
  },
  {
   "cell_type": "markdown",
   "id": "a1316ba7-7a64-4e68-aeb9-4afd4a633baf",
   "metadata": {
    "editable": true,
    "slideshow": {
     "slide_type": "skip"
    },
    "tags": [
     "answer"
    ]
   },
   "source": [
    "```\n",
    "Today is Saturday\n",
    "It is the weekend\n",
    "Happy Saturday!\n",
    "```"
   ]
  },
  {
   "cell_type": "markdown",
   "id": "caef89ce-cc4a-45b8-b9ad-11c7c36af85f",
   "metadata": {
    "editable": true,
    "slideshow": {
     "slide_type": "skip"
    },
    "tags": [
     "blank"
    ]
   },
   "source": [
    "```\n",
    "\n",
    "\n",
    "\n",
    "```"
   ]
  },
  {
   "cell_type": "markdown",
   "id": "3fd550de-49ba-4d8b-bcbf-79ba79eb35af",
   "metadata": {
    "editable": true,
    "slideshow": {
     "slide_type": ""
    },
    "tags": [
     "question"
    ]
   },
   "source": [
    "_What will the program output if a user enters `Monday`?_"
   ]
  },
  {
   "cell_type": "markdown",
   "id": "45358898-a323-490b-b4c0-adca82c9f068",
   "metadata": {
    "editable": true,
    "slideshow": {
     "slide_type": "skip"
    },
    "tags": [
     "answer"
    ]
   },
   "source": [
    "```\n",
    "Today is Monday\n",
    "It is a weekday\n",
    "Happy Monday!\n",
    "```"
   ]
  },
  {
   "cell_type": "markdown",
   "id": "d7bffd71-d435-4836-b5c1-5f1b82268204",
   "metadata": {
    "editable": true,
    "slideshow": {
     "slide_type": "skip"
    },
    "tags": [
     "blank"
    ]
   },
   "source": [
    "```\n",
    "\n",
    "\n",
    "\n",
    "```"
   ]
  },
  {
   "cell_type": "markdown",
   "id": "42a847f7-37ae-4c0d-828b-87e61d3ca23c",
   "metadata": {
    "editable": true,
    "slideshow": {
     "slide_type": ""
    },
    "tags": [
     "question"
    ]
   },
   "source": [
    "_What will the program output if a user enters `Wednesday`?_"
   ]
  },
  {
   "cell_type": "markdown",
   "id": "819e9fa2-d5b1-426e-a347-30b831781b63",
   "metadata": {
    "editable": true,
    "slideshow": {
     "slide_type": "skip"
    },
    "tags": [
     "answer"
    ]
   },
   "source": [
    "```\n",
    "Today is Wednesday\n",
    "It is a weekday\n",
    "Happy Wednesday!\n",
    "Halfway to the weekend\n",
    "```"
   ]
  },
  {
   "cell_type": "markdown",
   "id": "067056ca-0585-4595-acc6-452d30ddf87e",
   "metadata": {
    "editable": true,
    "slideshow": {
     "slide_type": "skip"
    },
    "tags": [
     "blank"
    ]
   },
   "source": [
    "```\n",
    "\n",
    "\n",
    "\n",
    "```\n",
    "🛑 **STOP here** after completing the above questions; if you have extra time **skip** to the extra practice."
   ]
  },
  {
   "cell_type": "markdown",
   "id": "4b17f30c-8875-4b34-9c5f-51a9c9d1de94",
   "metadata": {
    "editable": true,
    "slideshow": {
     "slide_type": "slide"
    },
    "tags": []
   },
   "source": [
    "## Boolean operators"
   ]
  },
  {
   "cell_type": "markdown",
   "id": "c93451e9-a898-4e4d-a215-672998acc400",
   "metadata": {
    "editable": true,
    "slideshow": {
     "slide_type": "skip"
    },
    "tags": [
     "notes-only"
    ]
   },
   "source": [
    "* Used to combine two boolean values (or expressions) into a single boolean value\n",
    "    * `and` – `True` if **both** boolean values are `True`, otherwise `False`\n",
    "    * `or` – `True` if **either** boolean value is `True`, otherwise `False`\n",
    "* `not` – inverts a boolean value (or expression)"
   ]
  },
  {
   "cell_type": "markdown",
   "id": "8366a9f0-e1e2-4df8-ab07-aff8dc025c28",
   "metadata": {
    "editable": true,
    "slideshow": {
     "slide_type": "skip"
    },
    "tags": [
     "blank"
    ]
   },
   "source": [
    "```\n",
    "\n",
    "\n",
    "\n",
    "```"
   ]
  },
  {
   "cell_type": "markdown",
   "id": "604b0807-ac9a-4fb5-a812-4eb45290ae98",
   "metadata": {
    "editable": true,
    "slideshow": {
     "slide_type": "-"
    },
    "tags": [
     "question"
    ]
   },
   "source": [
    "_Assume the following assignment statements have been executed:_"
   ]
  },
  {
   "cell_type": "code",
   "execution_count": 2,
   "id": "9ad07aae",
   "metadata": {
    "editable": true,
    "slideshow": {
     "slide_type": "-"
    },
    "tags": [
     "question"
    ]
   },
   "outputs": [],
   "source": [
    "x = -2\n",
    "y = 0\n",
    "z = 5"
   ]
  },
  {
   "cell_type": "markdown",
   "id": "d3e0bf13",
   "metadata": {
    "editable": true,
    "slideshow": {
     "slide_type": "-"
    },
    "tags": [
     "question"
    ]
   },
   "source": [
    "_What does each of the following boolean expressions evaluate to? If the expression is an invalid boolean expression, describe why._"
   ]
  },
  {
   "cell_type": "code",
   "execution_count": 3,
   "id": "6bde10c1",
   "metadata": {
    "editable": true,
    "slideshow": {
     "slide_type": "-"
    },
    "tags": [
     "worksheet-code-only",
     "question"
    ]
   },
   "outputs": [
    {
     "data": {
      "text/plain": [
       "False"
      ]
     },
     "execution_count": 3,
     "metadata": {},
     "output_type": "execute_result"
    }
   ],
   "source": [
    "x < 0 and y < 0"
   ]
  },
  {
   "cell_type": "code",
   "execution_count": 4,
   "id": "1915d1dd",
   "metadata": {
    "editable": true,
    "slideshow": {
     "slide_type": "fragment"
    },
    "tags": [
     "worksheet-code-only",
     "question"
    ]
   },
   "outputs": [
    {
     "data": {
      "text/plain": [
       "True"
      ]
     },
     "execution_count": 4,
     "metadata": {},
     "output_type": "execute_result"
    }
   ],
   "source": [
    "z > 3 and z < 7"
   ]
  },
  {
   "cell_type": "code",
   "execution_count": 5,
   "id": "2057696c",
   "metadata": {
    "editable": true,
    "slideshow": {
     "slide_type": "fragment"
    },
    "tags": [
     "worksheet-code-only",
     "question"
    ]
   },
   "outputs": [
    {
     "ename": "SyntaxError",
     "evalue": "invalid syntax (3457127406.py, line 1)",
     "output_type": "error",
     "traceback": [
      "\u001b[0;36m  Cell \u001b[0;32mIn[5], line 1\u001b[0;36m\u001b[0m\n\u001b[0;31m    y not == 0\u001b[0m\n\u001b[0m          ^\u001b[0m\n\u001b[0;31mSyntaxError\u001b[0m\u001b[0;31m:\u001b[0m invalid syntax\n"
     ]
    }
   ],
   "source": [
    "y not == 0"
   ]
  },
  {
   "cell_type": "code",
   "execution_count": 6,
   "id": "5965d46a",
   "metadata": {
    "editable": true,
    "slideshow": {
     "slide_type": "fragment"
    },
    "tags": [
     "worksheet-code-only",
     "question"
    ]
   },
   "outputs": [
    {
     "data": {
      "text/plain": [
       "True"
      ]
     },
     "execution_count": 6,
     "metadata": {},
     "output_type": "execute_result"
    }
   ],
   "source": [
    "x < y or (z >= 0 and y <= 5)"
   ]
  },
  {
   "cell_type": "markdown",
   "id": "5d8ace1b",
   "metadata": {
    "editable": true,
    "slideshow": {
     "slide_type": "skip"
    },
    "tags": [
     "blank"
    ]
   },
   "source": [
    "🛑 **STOP here** after completing the above questions; if you have extra time **skip** to the extra practice."
   ]
  },
  {
   "cell_type": "markdown",
   "id": "569f794e-4158-4074-9e47-5afbe3371244",
   "metadata": {
    "editable": true,
    "slideshow": {
     "slide_type": "slide"
    },
    "tags": []
   },
   "source": [
    "## if/elif/else"
   ]
  },
  {
   "cell_type": "markdown",
   "id": "e8816064-fc2c-4bce-8404-64b930bd94c8",
   "metadata": {
    "editable": true,
    "slideshow": {
     "slide_type": ""
    },
    "tags": []
   },
   "source": [
    "_Example_"
   ]
  },
  {
   "cell_type": "code",
   "execution_count": null,
   "id": "af2501b8-d9c1-4241-854f-15da8ec8d231",
   "metadata": {
    "editable": true,
    "slideshow": {
     "slide_type": ""
    },
    "tags": [
     "worksheet-code-only"
    ]
   },
   "outputs": [],
   "source": [
    "day = int(input(\"Day? \"))\n",
    "if day <= 7:\n",
    "    print(\"1st week\")\n",
    "elif day > 7 and day <= 14:\n",
    "    print(\"2nd week\")\n",
    "else:\n",
    "    print(\"Beyond\")\n",
    "print(\"End\")"
   ]
  },
  {
   "cell_type": "markdown",
   "id": "0551ccb7-7147-4100-a54c-f7af2a44204a",
   "metadata": {
    "editable": true,
    "slideshow": {
     "slide_type": "skip"
    },
    "tags": [
     "notes-only"
    ]
   },
   "source": [
    "![Flowchart for chained conditionals example](figures/conditionals/example_chained.png)"
   ]
  },
  {
   "cell_type": "markdown",
   "id": "df65a437-90df-4ea4-8d88-3005d34d75df",
   "metadata": {
    "editable": true,
    "slideshow": {
     "slide_type": "skip"
    },
    "tags": [
     "blank"
    ]
   },
   "source": [
    "```\n",
    "\n",
    "\n",
    "\n",
    "\n",
    "\n",
    "\n",
    "\n",
    "\n",
    "\n",
    "\n",
    "\n",
    "```"
   ]
  },
  {
   "cell_type": "markdown",
   "id": "ea35fcdb-8141-43ab-85ca-585ccd34d47b",
   "metadata": {
    "editable": true,
    "slideshow": {
     "slide_type": "subslide"
    },
    "tags": [
     "question"
    ]
   },
   "source": [
    "_Write a program that asks for the number of hours an employee works each week and outputs whether they work full-time (40 or more hours), half-time (exactly 20 hours) or part-time (less than 40 hours, but not exactly 20 hours)._"
   ]
  },
  {
   "cell_type": "code",
   "execution_count": 14,
   "id": "08199378-b718-440e-a530-6be44530e1de",
   "metadata": {
    "editable": true,
    "slideshow": {
     "slide_type": "skip"
    },
    "tags": [
     "answer"
    ]
   },
   "outputs": [
    {
     "name": "stdin",
     "output_type": "stream",
     "text": [
      "How many hours do you work each week?  35\n"
     ]
    },
    {
     "name": "stdout",
     "output_type": "stream",
     "text": [
      "You work part-time\n"
     ]
    }
   ],
   "source": [
    "def main() -> None:\n",
    "    hours = int(input(\"How many hours do you work each week? \"))\n",
    "    if (hours >= 40):\n",
    "        print(\"You work full-time\")\n",
    "    elif (hours == 20):\n",
    "        print(\"You work half-time\")\n",
    "    else:\n",
    "        print(\"You work part-time\")\n",
    "main()"
   ]
  },
  {
   "cell_type": "markdown",
   "id": "cb69c904-9885-47cf-9e01-417017acfcc1",
   "metadata": {
    "editable": true,
    "slideshow": {
     "slide_type": "skip"
    },
    "tags": [
     "blank"
    ]
   },
   "source": [
    "```\n",
    "\n",
    "\n",
    "\n",
    "\n",
    "\n",
    "\n",
    "\n",
    "\n",
    "\n",
    "\n",
    "```"
   ]
  },
  {
   "cell_type": "markdown",
   "id": "4bf1be11-6722-4d1d-941e-f7e5c4f6f578",
   "metadata": {
    "editable": true,
    "slideshow": {
     "slide_type": "subslide"
    },
    "tags": [
     "question"
    ]
   },
   "source": [
    "_For the following program, which code blocks will be executed when the listed conditions are true?_"
   ]
  },
  {
   "cell_type": "markdown",
   "id": "fcccffbd-8210-4439-ae79-c56b018acd7a",
   "metadata": {
    "editable": true,
    "slideshow": {
     "slide_type": ""
    },
    "tags": [
     "question"
    ]
   },
   "source": [
    "```Python\n",
    "if condition 1:\n",
    "    code block A\n",
    "if condition 2:\n",
    "    code block B\n",
    "elif condition 3:\n",
    "    code block C\n",
    "else:\n",
    "    code block D\n",
    "```"
   ]
  },
  {
   "cell_type": "markdown",
   "id": "a167d00d-6f0a-415a-8558-30477d957dea",
   "metadata": {
    "editable": true,
    "slideshow": {
     "slide_type": ""
    },
    "tags": [
     "question"
    ]
   },
   "source": [
    "_When conditions 1 and 2 are True_"
   ]
  },
  {
   "cell_type": "markdown",
   "id": "506bfbbc-91fd-4a53-a664-48536c43d71b",
   "metadata": {
    "editable": true,
    "slideshow": {
     "slide_type": "skip"
    },
    "tags": [
     "answer"
    ]
   },
   "source": [
    "A, B"
   ]
  },
  {
   "cell_type": "markdown",
   "id": "5a1d204d-8794-4f73-be11-16d99745dd4b",
   "metadata": {
    "editable": true,
    "slideshow": {
     "slide_type": ""
    },
    "tags": [
     "question"
    ]
   },
   "source": [
    "_When conditions 2 and 3 are True_"
   ]
  },
  {
   "cell_type": "markdown",
   "id": "8062f420-cfa2-492e-bc50-214d8ac83cd1",
   "metadata": {
    "editable": true,
    "slideshow": {
     "slide_type": "skip"
    },
    "tags": [
     "answer"
    ]
   },
   "source": [
    "B"
   ]
  },
  {
   "cell_type": "markdown",
   "id": "aface27a-fe23-4d09-a477-a409168e7f12",
   "metadata": {
    "editable": true,
    "slideshow": {
     "slide_type": ""
    },
    "tags": [
     "question"
    ]
   },
   "source": [
    "_When only condition 1 is True_"
   ]
  },
  {
   "cell_type": "markdown",
   "id": "e8af1480-ab3e-456f-bd4d-95fc0e3b5ce9",
   "metadata": {
    "editable": true,
    "slideshow": {
     "slide_type": "skip"
    },
    "tags": [
     "answer"
    ]
   },
   "source": [
    "A, D"
   ]
  },
  {
   "cell_type": "markdown",
   "id": "746097d5-df2a-4d0b-a530-513e690e68c8",
   "metadata": {
    "editable": true,
    "slideshow": {
     "slide_type": "subslide"
    },
    "tags": [
     "question"
    ]
   },
   "source": [
    "_For the following program, which code blocks will be executed when `num` is assigned the following values?_"
   ]
  },
  {
   "cell_type": "markdown",
   "id": "6802ca30-29e6-47ff-abce-a1ef3a6dedae",
   "metadata": {
    "editable": true,
    "slideshow": {
     "slide_type": ""
    },
    "tags": [
     "question"
    ]
   },
   "source": [
    "```Python\n",
    "if num < 10:\n",
    "    code block A\n",
    "elif num > 10:\n",
    "    code block B\n",
    "else:\n",
    "    code block C\n",
    "if num > 5 and num < 10:\n",
    "    code block D\n",
    "elif num < 5 or num > 10:\n",
    "    code block E\n",
    "elif num == 10:\n",
    "    code block F\n",
    "```"
   ]
  },
  {
   "cell_type": "markdown",
   "id": "2de76105-b934-49f9-ae72-c8986681669e",
   "metadata": {
    "editable": true,
    "slideshow": {
     "slide_type": ""
    },
    "tags": [
     "question"
    ]
   },
   "source": [
    "_When `num` is `7`_"
   ]
  },
  {
   "cell_type": "markdown",
   "id": "71c3ea83-8e2b-4943-894e-777ccbf99cd1",
   "metadata": {
    "editable": true,
    "slideshow": {
     "slide_type": "skip"
    },
    "tags": [
     "answer"
    ]
   },
   "source": [
    "A, D"
   ]
  },
  {
   "cell_type": "markdown",
   "id": "01c204f0-c9ed-4fee-b07e-c4cf381222d1",
   "metadata": {
    "editable": true,
    "slideshow": {
     "slide_type": ""
    },
    "tags": [
     "question"
    ]
   },
   "source": [
    "_When `num` is `10`_"
   ]
  },
  {
   "cell_type": "markdown",
   "id": "5b969687-7bc9-4253-b9ca-a606e1fcd002",
   "metadata": {
    "editable": true,
    "slideshow": {
     "slide_type": "skip"
    },
    "tags": [
     "answer"
    ]
   },
   "source": [
    "C, F"
   ]
  },
  {
   "cell_type": "markdown",
   "id": "c4627876-f7c1-4809-9800-3787aa20f22d",
   "metadata": {
    "editable": true,
    "slideshow": {
     "slide_type": ""
    },
    "tags": [
     "question"
    ]
   },
   "source": [
    "_When `num` is `15`_"
   ]
  },
  {
   "cell_type": "markdown",
   "id": "88e035eb-4bb7-4e73-9662-4c5c450564ea",
   "metadata": {
    "editable": true,
    "slideshow": {
     "slide_type": "skip"
    },
    "tags": [
     "answer"
    ]
   },
   "source": [
    "B, E"
   ]
  },
  {
   "cell_type": "markdown",
   "id": "63a23825-f7dc-4873-8fc1-39593ce1f240",
   "metadata": {
    "editable": true,
    "slideshow": {
     "slide_type": ""
    },
    "tags": [
     "question"
    ]
   },
   "source": [
    "_When `num` is `5`_"
   ]
  },
  {
   "cell_type": "markdown",
   "id": "b93bb5d2-2a85-4d25-b503-f339980ce83d",
   "metadata": {
    "editable": true,
    "slideshow": {
     "slide_type": "skip"
    },
    "tags": [
     "answer"
    ]
   },
   "source": [
    "A"
   ]
  },
  {
   "cell_type": "markdown",
   "id": "5d85e0ce-f129-4eec-9fe9-e8d2e4b44608",
   "metadata": {
    "editable": true,
    "slideshow": {
     "slide_type": "subslide"
    },
    "tags": [
     "question"
    ]
   },
   "source": [
    "_Write a program that asks for a number and outputs, \"lesser\" if the number is divisible by three, \"greater\" if the number is divisible by five, and \"double\" if the number is disivible by three and five._"
   ]
  },
  {
   "cell_type": "code",
   "execution_count": 18,
   "id": "9b94b568-c709-4708-adb8-77f7409f7250",
   "metadata": {
    "editable": true,
    "slideshow": {
     "slide_type": "skip"
    },
    "tags": [
     "answer"
    ]
   },
   "outputs": [
    {
     "name": "stdin",
     "output_type": "stream",
     "text": [
      "Number:  10\n"
     ]
    },
    {
     "name": "stdout",
     "output_type": "stream",
     "text": [
      "greater\n"
     ]
    }
   ],
   "source": [
    "def main() -> None:\n",
    "    num = int(input(\"Number: \"))\n",
    "    if (num % 3 == 0 and num % 5 == 0):\n",
    "        print(\"double\")\n",
    "    elif (num % 3 == 0):\n",
    "        print(\"lesser\")\n",
    "    elif (num % 5 == 0):\n",
    "        print(\"greater\")\n",
    "main()"
   ]
  },
  {
   "cell_type": "markdown",
   "id": "ff004671-2e16-4b11-bf96-574778a58b6f",
   "metadata": {
    "editable": true,
    "slideshow": {
     "slide_type": "skip"
    },
    "tags": [
     "blank"
    ]
   },
   "source": [
    "```\n",
    "\n",
    "\n",
    "\n",
    "\n",
    "\n",
    "\n",
    "\n",
    "\n",
    "\n",
    "\n",
    "```"
   ]
  },
  {
   "cell_type": "markdown",
   "id": "72660c3c",
   "metadata": {
    "editable": true,
    "slideshow": {
     "slide_type": "skip"
    },
    "tags": []
   },
   "source": [
    "## Extra practice"
   ]
  },
  {
   "cell_type": "markdown",
   "id": "754c0b06-0f85-4e16-b15e-0711c56d00ec",
   "metadata": {
    "editable": true,
    "slideshow": {
     "slide_type": "slide"
    },
    "tags": []
   },
   "source": [
    " _Write a program that asks for a person's age and outputs whether they are a minor (under 18), an adult (18 or older), and/or a teenager (age 13 through 19)._"
   ]
  },
  {
   "cell_type": "code",
   "execution_count": 12,
   "id": "9088badb-dd2e-4222-bae8-f16193bef7a3",
   "metadata": {
    "editable": true,
    "slideshow": {
     "slide_type": "skip"
    },
    "tags": [
     "notes-only"
    ]
   },
   "outputs": [
    {
     "name": "stdin",
     "output_type": "stream",
     "text": [
      "How old are you?  37\n"
     ]
    },
    {
     "name": "stdout",
     "output_type": "stream",
     "text": [
      "You are an adult\n"
     ]
    }
   ],
   "source": [
    "def main() -> None:\n",
    "    age = int(input(\"How old are you? \"))\n",
    "    if (age < 18):\n",
    "        print(\"You are a minor\")\n",
    "    else:\n",
    "        print(\"You are an adult\")\n",
    "    if (age >= 13 and age <= 19):\n",
    "        print(\"You are a teenager\")\n",
    "main()"
   ]
  },
  {
   "cell_type": "markdown",
   "id": "59e72ad1-d587-44ac-994c-9ee63685d4a7",
   "metadata": {
    "editable": true,
    "slideshow": {
     "slide_type": "skip"
    },
    "tags": [
     "blank"
    ]
   },
   "source": [
    "```\n",
    "\n",
    "\n",
    "\n",
    "\n",
    "\n",
    "\n",
    "\n",
    "\n",
    "\n",
    "```"
   ]
  },
  {
   "cell_type": "markdown",
   "id": "6361ab77-5f2e-4ef9-9fd2-1cb7acb7caec",
   "metadata": {
    "editable": true,
    "slideshow": {
     "slide_type": ""
    },
    "tags": [
     "question"
    ]
   },
   "source": [
    "_What is the output of each of the following programs?_"
   ]
  },
  {
   "cell_type": "code",
   "execution_count": 10,
   "id": "b6854c42",
   "metadata": {
    "editable": true,
    "slideshow": {
     "slide_type": "skip"
    },
    "tags": [
     "worksheet-code-only",
     "question"
    ]
   },
   "outputs": [
    {
     "name": "stdout",
     "output_type": "stream",
     "text": [
      "True or True is True\n",
      "True or False is True\n",
      "False or True is True\n",
      "False or False is False\n"
     ]
    }
   ],
   "source": [
    "def main() -> None:\n",
    "    print(\"True or True is\", True or True)\n",
    "    print(\"True or False is\", True or False)\n",
    "    print(\"False or True is\", False or True)\n",
    "    print(\"False or False is\", False or False)\n",
    "main()"
   ]
  },
  {
   "cell_type": "markdown",
   "id": "5649807d",
   "metadata": {
    "editable": true,
    "slideshow": {
     "slide_type": "skip"
    },
    "tags": [
     "blank"
    ]
   },
   "source": [
    "```\n",
    "\n",
    "\n",
    "\n",
    "\n",
    "```"
   ]
  },
  {
   "cell_type": "code",
   "execution_count": 11,
   "id": "27a80c78",
   "metadata": {
    "editable": true,
    "slideshow": {
     "slide_type": "skip"
    },
    "tags": [
     "question",
     "worksheet-code-only"
    ]
   },
   "outputs": [
    {
     "name": "stdout",
     "output_type": "stream",
     "text": [
      "True and True is True\n",
      "True and False is False\n",
      "False and True is False\n",
      "False and False is False\n"
     ]
    }
   ],
   "source": [
    "def main() -> None:\n",
    "    print(\"True and True is\", True and True)\n",
    "    print(\"True and False is\", True and False)\n",
    "    print(\"False and True is\", False and True)\n",
    "    print(\"False and False is\", False and False)\n",
    "main()"
   ]
  }
 ],
 "metadata": {
  "celltoolbar": "Slideshow",
  "kernelspec": {
   "display_name": "Python 3 (ipykernel)",
   "language": "python",
   "name": "python3"
  },
  "language_info": {
   "codemirror_mode": {
    "name": "ipython",
    "version": 3
   },
   "file_extension": ".py",
   "mimetype": "text/x-python",
   "name": "python",
   "nbconvert_exporter": "python",
   "pygments_lexer": "ipython3",
   "version": "3.9.6"
  }
 },
 "nbformat": 4,
 "nbformat_minor": 5
}
