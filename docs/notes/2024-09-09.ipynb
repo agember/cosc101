{
 "cells": [
  {
   "cell_type": "markdown",
   "id": "418f2156",
   "metadata": {
    "editable": true,
    "slideshow": {
     "slide_type": "skip"
    },
    "tags": []
   },
   "source": [
    "# Hello: errors & debugging\n",
    "_COSC 101, Introduction to Computing I, 2024-09-09_"
   ]
  },
  {
   "cell_type": "markdown",
   "id": "ba521109",
   "metadata": {
    "editable": true,
    "slideshow": {
     "slide_type": "skip"
    },
    "tags": []
   },
   "source": [
    "## Announcements\n",
    "* Homework 1 due Thursday at 11:59pm"
   ]
  },
  {
   "cell_type": "markdown",
   "id": "a561529f",
   "metadata": {
    "editable": true,
    "slideshow": {
     "slide_type": "skip"
    },
    "tags": [
     "notes-only"
    ]
   },
   "source": [
    "## Outline\n",
    "* Warm-up: input\n",
    "* Errors"
   ]
  },
  {
   "cell_type": "markdown",
   "id": "ad610e2b-9fd1-4696-b29c-270f1741787a",
   "metadata": {
    "editable": true,
    "slideshow": {
     "slide_type": "slide"
    },
    "tags": []
   },
   "source": [
    "## Warm-up: input (from last class)"
   ]
  },
  {
   "cell_type": "markdown",
   "id": "92e5ddb2",
   "metadata": {
    "editable": true,
    "slideshow": {
     "slide_type": "-"
    },
    "tags": [
     "question"
    ]
   },
   "source": [
    "_Evaluate the following programs. If input is needed, provide your own. Indicate what output is produced or if an error occurs._"
   ]
  },
  {
   "cell_type": "code",
   "execution_count": 3,
   "id": "2b98eacf",
   "metadata": {
    "editable": true,
    "slideshow": {
     "slide_type": "-"
    },
    "tags": [
     "worksheet-code-only"
    ]
   },
   "outputs": [
    {
     "name": "stdin",
     "output_type": "stream",
     "text": [
      "What is your name?  Aaron\n"
     ]
    },
    {
     "name": "stdout",
     "output_type": "stream",
     "text": [
      "There are 5 letters in your name.\n"
     ]
    }
   ],
   "source": [
    "name = input(\"What is your name? \")\n",
    "count = len(name)\n",
    "print(\"There are \" + str(count) + \" letters in your name.\")"
   ]
  },
  {
   "cell_type": "markdown",
   "id": "205838e8",
   "metadata": {
    "slideshow": {
     "slide_type": "skip"
    },
    "tags": [
     "blank"
    ]
   },
   "source": [
    "<div style=\"height:5em;\"></div>"
   ]
  },
  {
   "cell_type": "code",
   "execution_count": 4,
   "id": "b1c00376",
   "metadata": {
    "tags": [
     "worksheet-code-only"
    ]
   },
   "outputs": [
    {
     "name": "stdin",
     "output_type": "stream",
     "text": [
      "What year is it?  2024\n"
     ]
    },
    {
     "ename": "TypeError",
     "evalue": "can only concatenate str (not \"int\") to str",
     "output_type": "error",
     "traceback": [
      "\u001b[0;31m---------------------------------------------------------------------------\u001b[0m",
      "\u001b[0;31mTypeError\u001b[0m                                 Traceback (most recent call last)",
      "\u001b[0;32m/var/folders/bd/35sz70xs5837wszrx11bw1yc0000gn/T/ipykernel_2060/318286003.py\u001b[0m in \u001b[0;36m<module>\u001b[0;34m\u001b[0m\n\u001b[1;32m      1\u001b[0m \u001b[0myear\u001b[0m \u001b[0;34m=\u001b[0m \u001b[0minput\u001b[0m\u001b[0;34m(\u001b[0m\u001b[0;34m\"What year is it? \"\u001b[0m\u001b[0;34m)\u001b[0m\u001b[0;34m\u001b[0m\u001b[0;34m\u001b[0m\u001b[0m\n\u001b[0;32m----> 2\u001b[0;31m \u001b[0myear\u001b[0m \u001b[0;34m=\u001b[0m \u001b[0myear\u001b[0m \u001b[0;34m+\u001b[0m \u001b[0;36m1\u001b[0m\u001b[0;34m\u001b[0m\u001b[0;34m\u001b[0m\u001b[0m\n\u001b[0m\u001b[1;32m      3\u001b[0m \u001b[0mprint\u001b[0m\u001b[0;34m(\u001b[0m\u001b[0;34m\"Next year is\"\u001b[0m\u001b[0;34m,\u001b[0m \u001b[0myear\u001b[0m\u001b[0;34m)\u001b[0m\u001b[0;34m\u001b[0m\u001b[0;34m\u001b[0m\u001b[0m\n",
      "\u001b[0;31mTypeError\u001b[0m: can only concatenate str (not \"int\") to str"
     ]
    }
   ],
   "source": [
    "year = input(\"What year is it? \")\n",
    "year = year + 1\n",
    "print(\"Next year is\", year)"
   ]
  },
  {
   "cell_type": "markdown",
   "id": "8292fe01",
   "metadata": {
    "slideshow": {
     "slide_type": "skip"
    },
    "tags": [
     "blank"
    ]
   },
   "source": [
    "<div style=\"height:5em;\"></div>"
   ]
  },
  {
   "cell_type": "code",
   "execution_count": 20,
   "id": "b99cb362",
   "metadata": {
    "tags": [
     "worksheet-code-only"
    ]
   },
   "outputs": [
    {
     "name": "stdout",
     "output_type": "stream",
     "text": [
      "How old are you? 18\n",
      "You are 126 years old in dog years\n"
     ]
    }
   ],
   "source": [
    "human = input(\"How old are you? \")\n",
    "dog = int(human) * 7\n",
    "print(\"You are\", dog, \"years old in dog years\")"
   ]
  },
  {
   "cell_type": "markdown",
   "id": "7a767367",
   "metadata": {
    "editable": true,
    "slideshow": {
     "slide_type": "skip"
    },
    "tags": [
     "blank"
    ]
   },
   "source": [
    "<div style=\"height:5em;\"></div>"
   ]
  },
  {
   "cell_type": "markdown",
   "id": "73501247-9f89-4bcc-ab05-78790b9f2a3e",
   "metadata": {
    "slideshow": {
     "slide_type": "subslide"
    },
    "tags": [
     "question"
    ]
   },
   "source": [
    "_Write a program that asks a user for their name and age, and outputs: `<name> you don’t look a day over <age - 1>`_"
   ]
  },
  {
   "cell_type": "code",
   "execution_count": 5,
   "id": "961ae225",
   "metadata": {
    "editable": true,
    "slideshow": {
     "slide_type": "skip"
    },
    "tags": [
     "answer"
    ]
   },
   "outputs": [
    {
     "name": "stdin",
     "output_type": "stream",
     "text": [
      "What is your name ?  Joe Biden\n",
      "How old are you?  81\n"
     ]
    },
    {
     "name": "stdout",
     "output_type": "stream",
     "text": [
      "Joe Biden you don’t look a day over 80\n"
     ]
    }
   ],
   "source": [
    "name = input(\"What is your name ? \")\n",
    "age = input(\"How old are you? \")\n",
    "age = int(age) - 1\n",
    "print(name, \"you don’t look a day over\", age)"
   ]
  },
  {
   "cell_type": "markdown",
   "id": "48770dee-e4ec-433a-b805-43a083f45450",
   "metadata": {
    "editable": true,
    "slideshow": {
     "slide_type": "skip"
    },
    "tags": [
     "blank"
    ]
   },
   "source": [
    "<div style=\"height:10em;\"></div>\n",
    "\n",
    "🛑 **STOP here** after completing the warm-up; if you have extra time **skip** to the extra practice."
   ]
  },
  {
   "cell_type": "markdown",
   "id": "e9d87b44-1494-434a-a3b3-795da8ba8be7",
   "metadata": {
    "editable": true,
    "slideshow": {
     "slide_type": "slide"
    },
    "tags": []
   },
   "source": [
    "## Errors"
   ]
  },
  {
   "cell_type": "markdown",
   "id": "f76c3c21-05ea-442e-a65e-b1284435662c",
   "metadata": {
    "editable": true,
    "slideshow": {
     "slide_type": "skip"
    },
    "tags": [
     "notes-only"
    ]
   },
   "source": [
    "* Grace Hopper (an officer in the Navy) found a dead moth on a relay in one of the first computers (the Harvard Mark II) caused a problem, and the name bug stuck"
   ]
  },
  {
   "cell_type": "markdown",
   "id": "8d785dcb-c69e-4186-a043-0dc5f2a5485e",
   "metadata": {
    "editable": true,
    "slideshow": {
     "slide_type": ""
    },
    "tags": [
     "notes-only"
    ]
   },
   "source": [
    "![Photo of First Computer \"Bug\"](https://images.nationalgeographic.org/image/upload/t_edhub_resource_key_image/v1638888858/EducationHub/photos/computer-bug.jpg)"
   ]
  },
  {
   "cell_type": "markdown",
   "id": "3c78264f-fce6-4787-be4b-7dd65b238da4",
   "metadata": {
    "editable": true,
    "slideshow": {
     "slide_type": "skip"
    },
    "tags": [
     "notes-only"
    ]
   },
   "source": [
    "* Recall the three types of errors from the reading: syntax, runtime, and semantic"
   ]
  },
  {
   "cell_type": "markdown",
   "id": "f832e61c-7740-44f9-bf93-7de4c328556e",
   "metadata": {
    "editable": true,
    "slideshow": {
     "slide_type": "subslide"
    },
    "tags": [
     "question"
    ]
   },
   "source": [
    "_What type of error exists in each of the following programs?_ "
   ]
  },
  {
   "cell_type": "code",
   "execution_count": 2,
   "id": "d7583bd5",
   "metadata": {
    "editable": true,
    "slideshow": {
     "slide_type": ""
    },
    "tags": [
     "worksheet-code-only"
    ]
   },
   "outputs": [
    {
     "name": "stdout",
     "output_type": "stream",
     "text": [
      "six plus seven is... -1\n"
     ]
    }
   ],
   "source": [
    "result = 6 - 7\n",
    "print(\"six plus seven is...\", result)"
   ]
  },
  {
   "cell_type": "markdown",
   "id": "9d17b039-bc31-4328-9130-413b3f460ab6",
   "metadata": {
    "editable": true,
    "slideshow": {
     "slide_type": "skip"
    },
    "tags": [
     "answer"
    ]
   },
   "source": [
    "\n",
    "Semantic — output is unexpected"
   ]
  },
  {
   "cell_type": "markdown",
   "id": "d1b20bdb-6a7a-4938-aeb6-a7b37e0a96d1",
   "metadata": {
    "editable": true,
    "slideshow": {
     "slide_type": "skip"
    },
    "tags": [
     "blank"
    ]
   },
   "source": [
    "<p style=\"height:3em;\"></p>"
   ]
  },
  {
   "cell_type": "code",
   "execution_count": 9,
   "id": "0975c5d8",
   "metadata": {
    "editable": true,
    "slideshow": {
     "slide_type": ""
    },
    "tags": [
     "worksheet-code-only"
    ]
   },
   "outputs": [
    {
     "ename": "SyntaxError",
     "evalue": "unexpected EOF while parsing (3286650260.py, line 1)",
     "output_type": "error",
     "traceback": [
      "\u001b[0;36m  File \u001b[0;32m\"/var/folders/bd/35sz70xs5837wszrx11bw1yc0000gn/T/ipykernel_29667/3286650260.py\"\u001b[0;36m, line \u001b[0;32m1\u001b[0m\n\u001b[0;31m    print(\"Lucky number 13\"\u001b[0m\n\u001b[0m                           ^\u001b[0m\n\u001b[0;31mSyntaxError\u001b[0m\u001b[0;31m:\u001b[0m unexpected EOF while parsing\n"
     ]
    }
   ],
   "source": [
    "print(\"Lucky number 13\""
   ]
  },
  {
   "cell_type": "markdown",
   "id": "b17dc7b8-c3e0-4dd8-8a3e-9a953a66ff07",
   "metadata": {
    "editable": true,
    "slideshow": {
     "slide_type": "skip"
    },
    "tags": [
     "answer"
    ]
   },
   "source": [
    "Syntax — missing parenthesis"
   ]
  },
  {
   "cell_type": "markdown",
   "id": "aa82f4e0-625c-4259-8c8d-629d5839f9e9",
   "metadata": {
    "editable": true,
    "slideshow": {
     "slide_type": "skip"
    },
    "tags": [
     "blank"
    ]
   },
   "source": [
    "<p style=\"height:3em;\"></p>"
   ]
  },
  {
   "cell_type": "code",
   "execution_count": 10,
   "id": "5def09e9",
   "metadata": {
    "editable": true,
    "slideshow": {
     "slide_type": ""
    },
    "tags": [
     "worksheet-code-only"
    ]
   },
   "outputs": [
    {
     "ename": "ZeroDivisionError",
     "evalue": "division by zero",
     "output_type": "error",
     "traceback": [
      "\u001b[0;31m---------------------------------------------------------------------------\u001b[0m",
      "\u001b[0;31mZeroDivisionError\u001b[0m                         Traceback (most recent call last)",
      "\u001b[0;32m/var/folders/bd/35sz70xs5837wszrx11bw1yc0000gn/T/ipykernel_29667/181629082.py\u001b[0m in \u001b[0;36m<module>\u001b[0;34m\u001b[0m\n\u001b[0;32m----> 1\u001b[0;31m \u001b[0;36m13\u001b[0m \u001b[0;34m/\u001b[0m \u001b[0;36m0\u001b[0m\u001b[0;34m\u001b[0m\u001b[0;34m\u001b[0m\u001b[0m\n\u001b[0m",
      "\u001b[0;31mZeroDivisionError\u001b[0m: division by zero"
     ]
    }
   ],
   "source": [
    "13 / 0"
   ]
  },
  {
   "cell_type": "markdown",
   "id": "9f00cad8-695f-4c84-98c1-da13040b5eec",
   "metadata": {
    "editable": true,
    "slideshow": {
     "slide_type": "skip"
    },
    "tags": [
     "answer"
    ]
   },
   "source": [
    "Runtime — cannot divide by zero"
   ]
  },
  {
   "cell_type": "markdown",
   "id": "3e202cca-85e4-429c-b43b-3aff120a0413",
   "metadata": {
    "editable": true,
    "slideshow": {
     "slide_type": "skip"
    },
    "tags": [
     "blank"
    ]
   },
   "source": [
    "<p style=\"height:3em;\"></p>"
   ]
  },
  {
   "cell_type": "code",
   "execution_count": 5,
   "id": "72fad13a",
   "metadata": {
    "editable": true,
    "slideshow": {
     "slide_type": ""
    },
    "tags": [
     "worksheet-code-only"
    ]
   },
   "outputs": [
    {
     "ename": "TypeError",
     "evalue": "can only concatenate str (not \"int\") to str",
     "output_type": "error",
     "traceback": [
      "\u001b[0;31m---------------------------------------------------------------------------\u001b[0m",
      "\u001b[0;31mTypeError\u001b[0m                                 Traceback (most recent call last)",
      "Cell \u001b[0;32mIn[5], line 2\u001b[0m\n\u001b[1;32m      1\u001b[0m value \u001b[38;5;241m=\u001b[39m \u001b[38;5;241m13\u001b[39m\n\u001b[0;32m----> 2\u001b[0m \u001b[38;5;28mprint\u001b[39m(value, \u001b[38;5;124;43m\"\u001b[39;49m\u001b[38;5;124;43mmen offered $\u001b[39;49m\u001b[38;5;124;43m\"\u001b[39;49m\u001b[43m \u001b[49m\u001b[38;5;241;43m+\u001b[39;49m\u001b[43m \u001b[49m\u001b[43mvalue\u001b[49m , \u001b[38;5;124m\"\u001b[39m\u001b[38;5;124mand\u001b[39m\u001b[38;5;124m\"\u001b[39m, value, \u001b[38;5;124m\"\u001b[39m\u001b[38;5;124mprayers\u001b[39m\u001b[38;5;124m\"\u001b[39m)\n",
      "\u001b[0;31mTypeError\u001b[0m: can only concatenate str (not \"int\") to str"
     ]
    }
   ],
   "source": [
    "value = 13\n",
    "print(value, \"men offered $\" + value , \"and\", value, \"prayers\")"
   ]
  },
  {
   "cell_type": "markdown",
   "id": "c1b8444f-7597-4297-a0fd-f15facff4954",
   "metadata": {
    "editable": true,
    "slideshow": {
     "slide_type": "skip"
    },
    "tags": [
     "answer"
    ]
   },
   "source": [
    "Runtime — cannot add string and int"
   ]
  },
  {
   "cell_type": "markdown",
   "id": "ab81e66b-29a9-4629-98d0-1e0c622106a7",
   "metadata": {
    "editable": true,
    "slideshow": {
     "slide_type": "skip"
    },
    "tags": [
     "blank"
    ]
   },
   "source": [
    "<p style=\"height:3em;\"></p>"
   ]
  },
  {
   "cell_type": "code",
   "execution_count": 10,
   "id": "75f9dc28-cc7c-42a3-a532-8f278d426ff2",
   "metadata": {
    "editable": true,
    "slideshow": {
     "slide_type": ""
    },
    "tags": [
     "worksheet-code-only"
    ]
   },
   "outputs": [
    {
     "name": "stdout",
     "output_type": "stream",
     "text": [
      "What is your name?\n"
     ]
    },
    {
     "name": "stdin",
     "output_type": "stream",
     "text": [
      "What is your name? Aaron\n"
     ]
    },
    {
     "name": "stdout",
     "output_type": "stream",
     "text": [
      "Hello, Aaron\n"
     ]
    }
   ],
   "source": [
    "print(\"What is your name?\")\n",
    "name = input(\"What is your name?\")\n",
    "print(\"Hello, \" + name)"
   ]
  },
  {
   "cell_type": "markdown",
   "id": "37cc300a-4e7d-4efe-828c-7e166ef2e95d",
   "metadata": {
    "editable": true,
    "slideshow": {
     "slide_type": "skip"
    },
    "tags": [
     "answer"
    ]
   },
   "source": [
    "\n",
    "Semantic — double prompt"
   ]
  },
  {
   "cell_type": "markdown",
   "id": "00d80ecb-35c3-41cc-9421-5cc0a5a62690",
   "metadata": {
    "editable": true,
    "slideshow": {
     "slide_type": "skip"
    },
    "tags": [
     "blank"
    ]
   },
   "source": [
    "<p style=\"height:3em;\"></p>\n",
    "\n",
    "🛑 **STOP here** after completing the above questions; if you have extra time **skip** to the extra practice."
   ]
  },
  {
   "cell_type": "markdown",
   "id": "711f246c-b378-4746-8ca9-1a0417912507",
   "metadata": {
    "editable": true,
    "slideshow": {
     "slide_type": "slide"
    },
    "tags": []
   },
   "source": [
    "## Debugging"
   ]
  },
  {
   "cell_type": "markdown",
   "id": "f2645ef4-f2fe-4c4b-af4e-049435aac84a",
   "metadata": {
    "editable": true,
    "slideshow": {
     "slide_type": "skip"
    },
    "tags": [
     "blank"
    ]
   },
   "source": [
    "<div style=\"page-break-after:always;\"></div>"
   ]
  },
  {
   "cell_type": "markdown",
   "id": "2ebf16be-88c3-43f7-b91e-0477ac246423",
   "metadata": {
    "editable": true,
    "slideshow": {
     "slide_type": "skip"
    },
    "tags": [
     "notes-only"
    ]
   },
   "source": [
    "* Syntax errors\n",
    "    1. Look at the line in the error output by the Python interpreter\n",
    "    2. Look at the lines immediately before and after\n",
    "* Runtime errors\n",
    "    1. Look at the line in the error output by the Python interpreter\n",
    "    2. Look at the line(s) that assigned a value to the variable used in the erroneous line\n",
    "* Semantic errors\n",
    "    1. Trace through the code by hand and draw a reference diagram\n",
    "    2. Add print statements (remove when finished debugging) and compare the expected values with the actual values\n",
    "    3. Try different inputs"
   ]
  },
  {
   "cell_type": "markdown",
   "id": "3babee43-4f90-4bc2-bae8-9eb296a59dcc",
   "metadata": {
    "editable": true,
    "slideshow": {
     "slide_type": ""
    },
    "tags": [
     "question"
    ]
   },
   "source": [
    "_The following program is supposed to ask the user for a weight in kilograms and provide the weight in pounds and ounces–e.g., if the user enters `6.5` the program should output `14 lbs 5 oz`. There are approximately 2.205 pounds in 1 kilogram, and exactly 16 ounces in 1 pound. Find and fix the errors so the program works properly._"
   ]
  },
  {
   "cell_type": "code",
   "execution_count": null,
   "id": "81d5b236-091d-41ba-8d9e-f48300192664",
   "metadata": {
    "editable": true,
    "slideshow": {
     "slide_type": ""
    },
    "tags": [
     "question"
    ]
   },
   "outputs": [],
   "source": [
    "\n",
    "kilograms = input(\"Weight in kilograms: \")\n",
    "\n",
    "pounds = kilograms * 2.205\n",
    "\n",
    "ounces = int(pounds % 1 * 16)\n",
    "\n",
    "pounds = int(pounds)\n",
    "\n",
    "print(pounds + \"lbs\" + ounces + \"oz\")\n"
   ]
  },
  {
   "cell_type": "markdown",
   "id": "d35c6f9a-6195-4fec-bcae-0421681f399f",
   "metadata": {
    "editable": true,
    "slideshow": {
     "slide_type": "skip"
    },
    "tags": [
     "blank"
    ]
   },
   "source": [
    "<p style=\"height:10em;\"></p>"
   ]
  },
  {
   "cell_type": "markdown",
   "id": "1b2df963-8c72-49c2-8d67-64075599f809",
   "metadata": {
    "editable": true,
    "slideshow": {
     "slide_type": "skip"
    },
    "tags": [
     "answer"
    ]
   },
   "source": [
    "* Need to convert input to `float`\n",
    "* Need to convert `pounds` and `ounces` to strings in `print`\n",
    "* Need to add spaces in `\"lbs\"` and `\"oz\"` strings in `print`"
   ]
  },
  {
   "cell_type": "code",
   "execution_count": 10,
   "id": "cc161a6b-1541-4666-ab7c-72e29cd59921",
   "metadata": {
    "editable": true,
    "slideshow": {
     "slide_type": "skip"
    },
    "tags": [
     "answer"
    ]
   },
   "outputs": [
    {
     "name": "stdin",
     "output_type": "stream",
     "text": [
      "Weight in kilograms:  6.5\n"
     ]
    },
    {
     "name": "stdout",
     "output_type": "stream",
     "text": [
      "14 lbs 5 oz\n"
     ]
    }
   ],
   "source": [
    "kilograms = float(input(\"Weight in kilograms: \"))\n",
    "pounds = kilograms * 2.205\n",
    "ounces = int(pounds % 1 * 16)\n",
    "pounds = int(pounds)\n",
    "print(pounds, \"lbs\", ounces, \"oz\")"
   ]
  },
  {
   "cell_type": "markdown",
   "id": "00b1addb-e0eb-4b91-bd3f-0ef6fb9c2390",
   "metadata": {
    "editable": true,
    "slideshow": {
     "slide_type": "subslide"
    },
    "tags": [
     "question"
    ]
   },
   "source": [
    "_The following program is supposed to ask the user for a distance in meters and provide the distance in feet and inches–e.g., if the user enters `1.68` the program should output `5'6\"`. There are approximately 3.281 feet in 1 meter, and exactly 12 inches in 1 foot. A single quote (`'`) is an abbreviation for feet, and and a double quote (`\"`) is an abbreviation for inches. Find and fix the errors so the program works properly._"
   ]
  },
  {
   "cell_type": "code",
   "execution_count": null,
   "id": "62619e24-ef13-467c-839c-b675f1942873",
   "metadata": {
    "editable": true,
    "slideshow": {
     "slide_type": ""
    },
    "tags": [
     "question"
    ]
   },
   "outputs": [],
   "source": [
    "\n",
    "meters = float(input(\"Distance in meters: \"))\n",
    "\n",
    "feet = int(meters * 3.281)\n",
    "\n",
    "inches = int(feet % 1 * 12)\n",
    "\n",
    "print(str(feet) + \"'\" + str(inches) + \"\"\")\n"
   ]
  },
  {
   "cell_type": "markdown",
   "id": "3048c95e-c282-4557-903e-bba83756892c",
   "metadata": {
    "editable": true,
    "slideshow": {
     "slide_type": "skip"
    },
    "tags": [
     "blank"
    ]
   },
   "source": [
    "<div style=\"page-break-after:always;\"></div>"
   ]
  },
  {
   "cell_type": "markdown",
   "id": "003632a9-4c6b-4ddd-9eb6-341931e21d1f",
   "metadata": {
    "editable": true,
    "slideshow": {
     "slide_type": "skip"
    },
    "tags": [
     "answer"
    ]
   },
   "source": [
    "* Need to save fractional feet before converting `feet` to an integer\n",
    "* Need to use single quotes (`'`) around the double quote (`\"`) signifying inches"
   ]
  },
  {
   "cell_type": "code",
   "execution_count": 6,
   "id": "a15d10bc-fe66-482c-9f3f-d528a08dcd58",
   "metadata": {
    "editable": true,
    "slideshow": {
     "slide_type": "skip"
    },
    "tags": [
     "answer"
    ]
   },
   "outputs": [
    {
     "name": "stdin",
     "output_type": "stream",
     "text": [
      "Distance in meters:  1.68\n"
     ]
    },
    {
     "name": "stdout",
     "output_type": "stream",
     "text": [
      "5'6\"\n"
     ]
    }
   ],
   "source": [
    "meters = float(input(\"Distance in meters: \"))\n",
    "feet = meters * 3.281\n",
    "inches = int(feet % 1 * 12)\n",
    "feet = int(feet)\n",
    "print(str(feet) + \"'\" + str(inches) + '\"')"
   ]
  },
  {
   "cell_type": "markdown",
   "id": "6a893269-e1cd-4d46-8b10-96eb9d9ebbfb",
   "metadata": {
    "editable": true,
    "slideshow": {
     "slide_type": ""
    },
    "tags": [
     "question"
    ]
   },
   "source": [
    "_The following program is supposed to print a recipe for making cupcakes. Find and fix the errors so the program works properly._"
   ]
  },
  {
   "cell_type": "code",
   "execution_count": null,
   "id": "35bcd8e4-accd-4e4d-a448-486d49b4309a",
   "metadata": {
    "editable": true,
    "slideshow": {
     "slide_type": ""
    },
    "tags": [
     "question"
    ]
   },
   "outputs": [],
   "source": [
    "\n",
    "dozen = print(\"How many dozen cupcakes do you want?\")\n",
    "\n",
    "print(\"Ingredients:\")\n",
    "\n",
    "print(\"*\", int(dozen), \"cups flour\")\n",
    "\n",
    "print(\"*\", int(dozen) * 1//4, \"tsp salt\")\n",
    "\n",
    "print(\"*\", int(dozen), \"tsp baking powder\")\n",
    "\n",
    "print(\"*\", int(dozen) * 1//4, \"cups butter\")\n",
    "\n",
    "print(\"*\", int(dozen) * 3//8, \"cups sugar\")\n",
    "\n",
    "print(\"*\", int(dozen), \"eggs\")\n",
    "\n",
    "print(\"*\", int(dozen) * 1//2, \"cups milk\")\n",
    "\n",
    "print(\"Directions:\")\n",
    "\n",
    "print(\"1. Preheat oven to 375°F.\")\n",
    "\n",
    "print(\"2. Put liners in\" + str(int(dozen) * 12) + \"muffin cups.\")\n",
    "\n",
    "print(\"3. Cream butter and sugar until light and fluffy. Beat in eggs one at a time.\")\n",
    "\n",
    "print(\"4. Combine flour\", \"salt\", \"and baking soda.\")\n",
    "\n",
    "print(\"5. Add flour mixture and milk to butter and sugar; beat well.\")\n",
    "\n",
    "print(\"6. Divide batter evenly among\" + str(int(dozen) * 12) + \"muffin cups.\")\n",
    "\n",
    "print(\"7. Bake for 18 minutes or until a toothpick comes out clean. Cool in pans.\")\n"
   ]
  },
  {
   "cell_type": "markdown",
   "id": "59a888fd-9553-4f91-be5f-7522aec8ca2c",
   "metadata": {
    "editable": true,
    "slideshow": {
     "slide_type": "skip"
    },
    "tags": [
     "blank"
    ]
   },
   "source": [
    "<div style=\"page-break-after:always;\"></div>"
   ]
  },
  {
   "cell_type": "markdown",
   "id": "a49ffaff-fe2b-4ee9-884d-f5ee73ccf6f7",
   "metadata": {
    "editable": true,
    "slideshow": {
     "slide_type": "skip"
    },
    "tags": [
     "answer"
    ]
   },
   "source": [
    "* Call `input` not `print` to get desired number of cupcakes\n",
    "* Convert `dozen` to an integer once, before performing any calculations\n",
    "* Use regular division (`/`) not integer division (`//`) for fractions\n",
    "* Add spaces in strings before and after count of muffin cups\n",
    "* Put commas in string in step 3, not between strings"
   ]
  },
  {
   "cell_type": "code",
   "execution_count": 36,
   "id": "f1c9077b-ede7-4ef5-b6e4-689cb67ce97c",
   "metadata": {
    "editable": true,
    "slideshow": {
     "slide_type": "skip"
    },
    "tags": [
     "answer"
    ]
   },
   "outputs": [
    {
     "name": "stdin",
     "output_type": "stream",
     "text": [
      "How many dozen cupcakes do you want? 2\n"
     ]
    },
    {
     "name": "stdout",
     "output_type": "stream",
     "text": [
      "Ingredients:\n",
      "* 2 cups flour\n",
      "* 0.5 tsp salt\n",
      "* 2 tsp baking powder\n",
      "* 0.5 cups butter\n",
      "* 0.75 cups sugar\n",
      "* 2 eggs\n",
      "* 1.0 cups milk\n",
      "Directions:\n",
      "1. Preheat oven to 375°F.\n",
      "2. Put liners in 24 muffin cups.\n",
      "3. Cream butter and sugar until light and fluffy. Beat in eggs one at a time.\n",
      "4. Combine flour, salt, and baking soda.\n",
      "5. Add flour mixture and milk to butter and sugar; beat well.\n",
      "6. Divide batter evenly among24muffin cups.\n",
      "7. Bake for 18 minutes or until a toothpick comes out clean. Cool in pans.\n"
     ]
    }
   ],
   "source": [
    "dozen = int(input(\"How many dozen cupcakes do you want?\"))\n",
    "print(\"Ingredients:\")\n",
    "print(\"*\", dozen, \"cups flour\")\n",
    "print(\"*\", dozen * 1/4, \"tsp salt\")\n",
    "print(\"*\", dozen, \"tsp baking powder\")\n",
    "print(\"*\", dozen * 1/4, \"cups butter\")\n",
    "print(\"*\", dozen * 3/8, \"cups sugar\")\n",
    "print(\"*\", dozen, \"eggs\")\n",
    "print(\"*\", dozen * 1/2, \"cups milk\")\n",
    "print(\"Directions:\")\n",
    "print(\"1. Preheat oven to 375°F.\")\n",
    "print(\"2. Put liners in \" + str(dozen * 12) + \" muffin cups.\")\n",
    "print(\"3. Cream butter and sugar until light and fluffy. Beat in eggs one at a time.\")\n",
    "print(\"4. Combine flour, salt, and baking soda.\")\n",
    "print(\"5. Add flour mixture and milk to butter and sugar; beat well.\")\n",
    "print(\"6. Divide batter evenly among\" + str(dozen * 12) + \"muffin cups.\")\n",
    "print(\"7. Bake for 18 minutes or until a toothpick comes out clean. Cool in pans.\")"
   ]
  },
  {
   "cell_type": "markdown",
   "id": "670b55f4-6b6a-4dae-828e-6972e131aeb3",
   "metadata": {
    "editable": true,
    "slideshow": {
     "slide_type": "subslide"
    },
    "tags": [
     "question"
    ]
   },
   "source": [
    "_The heat index quantifies how hot it feels outside based on the temperature and humidity. The following program is supposed to ask for the user for the temperature (in Farenheit) and relative humidity (as a percentage) and provide the heat temperature in celsius and the heat index in farenheit and celsius, rounded to one decimal place. Find and fix the errors so the program works properly. The relevant mathematical formulas are listed below to help you debug the code._\n",
    "* Formula for computing the heat index (`HI`) in Farenheit based on the temperature (`T`) in Farenheight and the relative humidity (`RH`) in percent: `HI = -42.379 + 2.04901523*T + 10.14333127*RH - .22475541*T*RH - .00683783*T² - .05481717*RH² + .00122874*T²*RH + .00085282*T*RH² - .00000199*T²*RH²`\n",
    "* Formula for converting a temperature in farenheit (`F`) to celsius (`C`): `C = (F - 32) * 5/9`\n",
    "* Formula for converting a temperature in celsius (`C`) to farenheit (`F`): `F = (C * 9/5) + 32`"
   ]
  },
  {
   "cell_type": "code",
   "execution_count": null,
   "id": "25a4ae05-5b99-4c12-9b32-2ea07ad85d1f",
   "metadata": {
    "editable": true,
    "slideshow": {
     "slide_type": "skip"
    },
    "tags": [
     "question"
    ]
   },
   "outputs": [],
   "source": [
    "\n",
    "temperature = int(input(\"What is the temperature (in °F)? \"))\n",
    "\n",
    "humidity = int(input(\"What is the relative humidity? \"))\n",
    "\n",
    "temperature = (temperature * 9/5) + 32\n",
    "\n",
    "print(\"Temperature: \" + str(temperature) + \"°C\")\n",
    "\n",
    "heat_index_F = -42.379 + 2.04901523*T + 10.14333127*RH\n",
    "\n",
    "heat_index_F = heat_index_F - .22475541*T*RH - .00683783*T² - .05481717*RH²\n",
    "\n",
    "heat_index_F = heat_index_F + .00122874*T²*RH  + .00085282*T*RH² - .00000199*T²*RH²\n",
    "\n",
    "heat_index_C = (temperature - 32) * 5/9\n",
    "\n",
    "print(\"Heat index: \" + str(round(heat_index_F, 1)) + \"°F\")\n",
    "\n",
    "print(\" / \" + str(round(heat_index_C, 1)) + \"°C\")\n"
   ]
  },
  {
   "cell_type": "markdown",
   "id": "0384bce6-e984-446e-b422-78ed48b3941c",
   "metadata": {
    "editable": true,
    "slideshow": {
     "slide_type": "skip"
    },
    "tags": [
     "blank"
    ]
   },
   "source": [
    "<p style=\"height:10em;\"></p>"
   ]
  },
  {
   "cell_type": "code",
   "execution_count": 21,
   "id": "165ae351-bc82-4dc4-8c45-1bdfbda380dd",
   "metadata": {
    "editable": true,
    "slideshow": {
     "slide_type": "skip"
    },
    "tags": [
     "answer"
    ]
   },
   "outputs": [
    {
     "name": "stdin",
     "output_type": "stream",
     "text": [
      "What is the temperature (in °F)?  90\n",
      "What is the relative humidity?  60\n"
     ]
    },
    {
     "name": "stdout",
     "output_type": "stream",
     "text": [
      "Temperature: 32.2°C\n",
      "Heat index: 99.7°F / 37.6°C\n"
     ]
    }
   ],
   "source": [
    "temperature_F = int(input(\"What is the temperature (in °F)? \"))\n",
    "humidity = int(input(\"What is the relative humidity? \"))\n",
    "temperature_C = (temperature_F - 32) * 5/9\n",
    "print(\"Temperature: \" + str(round(temperature_C, 1)) + \"°C\")\n",
    "heat_index_F = -42.379 + 2.04901523*temperature_F + 10.14333127*humidity\n",
    "heat_index_F = heat_index_F - .22475541*temperature_F*humidity - .00683783*temperature_F**2 - .05481717*humidity**2 \n",
    "heat_index_F = heat_index_F + .00122874*temperature_F**2*humidity  + .00085282*temperature_F*humidity**2 - .00000199*temperature_F**2*humidity**2\n",
    "heat_index_C = (heat_index_F - 32) * 5/9\n",
    "print(\"Heat index: \" + str(round(heat_index_F, 1)) + \"°F / \" + str(round(heat_index_C, 1)) + \"°C\")"
   ]
  },
  {
   "cell_type": "markdown",
   "id": "ecf8b2eb-924f-4c2b-8935-95577213d226",
   "metadata": {
    "editable": true,
    "slideshow": {
     "slide_type": "slide"
    },
    "tags": []
   },
   "source": [
    "## Extra practice"
   ]
  },
  {
   "cell_type": "markdown",
   "id": "5c33c004-b484-4d2b-add2-63e8a0ae2d3d",
   "metadata": {
    "editable": true,
    "slideshow": {
     "slide_type": ""
    },
    "tags": []
   },
   "source": [
    "_Write a program that asks the user for the hour (according to a 24-hour clock) they went to bed and the hour they woke up and tells them how many hours they slept._"
   ]
  },
  {
   "cell_type": "code",
   "execution_count": 35,
   "id": "d600225e-7018-40ef-813e-bc3e52872dee",
   "metadata": {
    "editable": true,
    "slideshow": {
     "slide_type": "skip"
    },
    "tags": [
     "answer"
    ]
   },
   "outputs": [
    {
     "name": "stdin",
     "output_type": "stream",
     "text": [
      "At what hour did you go to bed? 21\n",
      "At what hour did you wakeup? 5\n"
     ]
    },
    {
     "name": "stdout",
     "output_type": "stream",
     "text": [
      "You slept for 8 hours\n"
     ]
    }
   ],
   "source": [
    "bed = int(input(\"At what hour did you go to bed?\"))\n",
    "wakeup = int(input(\"At what hour did you wakeup?\"))\n",
    "slept = 24 - bed + wakeup\n",
    "print(\"You slept for \" + str(slept) + \" hours\")"
   ]
  },
  {
   "cell_type": "markdown",
   "id": "8c4e4a89-89e3-4aff-bf47-adcd5cf688c7",
   "metadata": {
    "editable": true,
    "slideshow": {
     "slide_type": "skip"
    },
    "tags": [
     "blank"
    ]
   },
   "source": [
    "<p style=\"height:10em;\"></p>"
   ]
  }
 ],
 "metadata": {
  "celltoolbar": "Tags",
  "kernelspec": {
   "display_name": "Python 3 (ipykernel)",
   "language": "python",
   "name": "python3"
  },
  "language_info": {
   "codemirror_mode": {
    "name": "ipython",
    "version": 3
   },
   "file_extension": ".py",
   "mimetype": "text/x-python",
   "name": "python",
   "nbconvert_exporter": "python",
   "pygments_lexer": "ipython3",
   "version": "3.9.6"
  }
 },
 "nbformat": 4,
 "nbformat_minor": 5
}
