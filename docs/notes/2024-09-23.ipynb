{
 "cells": [
  {
   "cell_type": "markdown",
   "id": "f28da67a-4b9a-4818-b024-77b6d20c5d9d",
   "metadata": {
    "slideshow": {
     "slide_type": "skip"
    },
    "tags": []
   },
   "source": [
    "# Iteration: range; accumulator pattern\n",
    "_COSC 101, Introduction to Computing I, 2024-09-23_"
   ]
  },
  {
   "cell_type": "markdown",
   "id": "b92bdda7-a263-4332-a4e7-a48ddcd4e95b",
   "metadata": {
    "editable": true,
    "slideshow": {
     "slide_type": "skip"
    },
    "tags": []
   },
   "source": [
    "## Announcements\n",
    "* Homework 3 due Friday at 6pm\n",
    "* Homework 1 feedback available on Gradescope\n",
    "    * Parts on which you received _Significant gaps_ or _Insufficient attempt_ are eligible for revision\n",
    "    * Revisions to up to two parts from homeworks 1 and/or 2 are due Thurs, Oct 3 at 11:59pm"
   ]
  },
  {
   "cell_type": "markdown",
   "id": "ab5ab6d9-f67c-4e4a-a288-464f56491d97",
   "metadata": {
    "editable": true,
    "slideshow": {
     "slide_type": "slide"
    },
    "tags": []
   },
   "source": [
    "## Range"
   ]
  },
  {
   "cell_type": "markdown",
   "id": "be089dd3-8dbe-463c-b38e-b3cfcba13c5e",
   "metadata": {
    "editable": true,
    "slideshow": {
     "slide_type": ""
    },
    "tags": [
     "notes-only"
    ]
   },
   "source": [
    "* `range(NUM)` — generates a sequence of `NUM` integers from `0` to `NUM-1`\n",
    "    * E.g., `range(3)` ↠ `[0, 1, 2]`\n",
    "* Refactored grocery list program:"
   ]
  },
  {
   "cell_type": "code",
   "execution_count": 1,
   "id": "3a796fa3-45de-47c5-a42d-a0f4b6ad0e1b",
   "metadata": {
    "editable": true,
    "slideshow": {
     "slide_type": ""
    },
    "tags": [
     "notes-only"
    ]
   },
   "outputs": [
    {
     "name": "stdout",
     "output_type": "stream",
     "text": [
      "Grocery list:\n",
      "1. grapes\n",
      "2. crackers\n",
      "3. cheese\n",
      "4. olives\n"
     ]
    }
   ],
   "source": [
    "def main() -> None:\n",
    "    print(\"Grocery list:\")\n",
    "    groceries = [\"grapes\", \"crackers\", \"cheese\", \"olives\"]\n",
    "    for num in range(len(groceries)):\n",
    "        item = groceries[num]\n",
    "        print(str(num + 1) + \". \" + item)\n",
    "\n",
    "main()"
   ]
  },
  {
   "cell_type": "markdown",
   "id": "b0454e17-b0d6-459d-91ac-9c14db539ab5",
   "metadata": {
    "editable": true,
    "slideshow": {
     "slide_type": "skip"
    },
    "tags": [
     "notes-only"
    ]
   },
   "source": [
    "* `range(START, STOP)` — generates a sequence of `STOP-START` integers from `START` to `STOP-1`\n",
    "    * E.g., `range(2,5)` ↠ `[2, 3, 4]`\n",
    "* `range(START, STOP, INCREMENT)` — generates a sequence of integers from `START` to `(STOP-1)*INCREMENT`, with `INCREMENT` added to each successive integer\n",
    "    * E.g., `range(2,8,2)` ↠ `[2, 4, 6]`\n",
    "* Sequence of integers is generated on-demand — use `list(range(...))` to get the full sequence"
   ]
  },
  {
   "cell_type": "markdown",
   "id": "ad14f07f-7272-4d3e-9a78-4a01cf2a281f",
   "metadata": {
    "editable": true,
    "slideshow": {
     "slide_type": ""
    },
    "tags": [
     "question"
    ]
   },
   "source": [
    "_What sequence of integers is produced by each of the following code snippets?_"
   ]
  },
  {
   "cell_type": "code",
   "execution_count": 27,
   "id": "28845fee-0a1a-4cef-8cd8-f95f34de3e92",
   "metadata": {
    "editable": true,
    "slideshow": {
     "slide_type": ""
    },
    "tags": [
     "worksheet-code-only"
    ]
   },
   "outputs": [
    {
     "name": "stdout",
     "output_type": "stream",
     "text": [
      "0\n",
      "1\n",
      "2\n",
      "3\n",
      "4\n",
      "5\n"
     ]
    }
   ],
   "source": [
    "for w in range(6):\n",
    "    print(w)"
   ]
  },
  {
   "cell_type": "markdown",
   "id": "10f22701-613e-4262-8799-a9900acb6fe4",
   "metadata": {
    "editable": true,
    "slideshow": {
     "slide_type": "skip"
    },
    "tags": [
     "blank"
    ]
   },
   "source": [
    "```\n",
    "\n",
    "```"
   ]
  },
  {
   "cell_type": "code",
   "execution_count": 28,
   "id": "757ffe30-772c-407a-bad3-a90ba76079eb",
   "metadata": {
    "editable": true,
    "slideshow": {
     "slide_type": "fragment"
    },
    "tags": [
     "worksheet-code-only"
    ]
   },
   "outputs": [
    {
     "name": "stdout",
     "output_type": "stream",
     "text": [
      "10\n",
      "11\n",
      "12\n",
      "13\n",
      "14\n"
     ]
    }
   ],
   "source": [
    "for x in range(10, 15):\n",
    "    print(x)"
   ]
  },
  {
   "cell_type": "markdown",
   "id": "cd18b26f-3527-4f1e-ab63-4777a670412a",
   "metadata": {
    "editable": true,
    "slideshow": {
     "slide_type": "skip"
    },
    "tags": [
     "blank"
    ]
   },
   "source": [
    "```\n",
    "\n",
    "```"
   ]
  },
  {
   "cell_type": "code",
   "execution_count": 32,
   "id": "689ae3ff-3b1b-4ef2-9959-b48a414da774",
   "metadata": {
    "editable": true,
    "slideshow": {
     "slide_type": "fragment"
    },
    "tags": [
     "worksheet-code-only"
    ]
   },
   "outputs": [
    {
     "name": "stdout",
     "output_type": "stream",
     "text": [
      "0\n",
      "3\n",
      "6\n"
     ]
    }
   ],
   "source": [
    "for y in range(0, 7, 3):\n",
    "    print(y)"
   ]
  },
  {
   "cell_type": "markdown",
   "id": "9486190c-fb50-4ee7-8d3c-f561e4f4fbb5",
   "metadata": {
    "editable": true,
    "slideshow": {
     "slide_type": "skip"
    },
    "tags": [
     "blank"
    ]
   },
   "source": [
    "```\n",
    "\n",
    "```"
   ]
  },
  {
   "cell_type": "code",
   "execution_count": 30,
   "id": "82d790b2-dfce-4535-8f32-6a0d14a7c3e7",
   "metadata": {
    "editable": true,
    "slideshow": {
     "slide_type": "fragment"
    },
    "tags": [
     "worksheet-code-only"
    ]
   },
   "outputs": [
    {
     "name": "stdout",
     "output_type": "stream",
     "text": [
      "20\n",
      "19\n",
      "18\n",
      "17\n",
      "16\n"
     ]
    }
   ],
   "source": [
    "for z in range(20, 15, -1):\n",
    "    print(z)"
   ]
  },
  {
   "cell_type": "markdown",
   "id": "c3c96f4b-9230-4c3f-b1ba-a8ecc65a6e10",
   "metadata": {
    "editable": true,
    "slideshow": {
     "slide_type": "skip"
    },
    "tags": [
     "blank"
    ]
   },
   "source": [
    "```\n",
    "\n",
    "```"
   ]
  },
  {
   "cell_type": "markdown",
   "id": "b85ad2fc-322a-4e15-8586-71e544342f30",
   "metadata": {
    "editable": true,
    "slideshow": {
     "slide_type": "slide"
    },
    "tags": [
     "question"
    ]
   },
   "source": [
    "_What call to range would produce each of the following sequences of integers?_"
   ]
  },
  {
   "cell_type": "markdown",
   "id": "8af28319-1640-46bb-9305-123323064b03",
   "metadata": {
    "editable": true,
    "slideshow": {
     "slide_type": "fragment"
    },
    "tags": [
     "question"
    ]
   },
   "source": [
    "`101, 102, 103, 104`"
   ]
  },
  {
   "cell_type": "code",
   "execution_count": 34,
   "id": "a0bee784-cfdc-4855-a6db-f26b7840cf1e",
   "metadata": {
    "editable": true,
    "slideshow": {
     "slide_type": "skip"
    },
    "tags": [
     "answer"
    ]
   },
   "outputs": [
    {
     "name": "stdout",
     "output_type": "stream",
     "text": [
      "101\n",
      "102\n",
      "103\n",
      "104\n"
     ]
    }
   ],
   "source": [
    "for i in range(101, 105):\n",
    "    print(i)"
   ]
  },
  {
   "cell_type": "markdown",
   "id": "b8bc2c3a-0fac-40e9-88ad-72bb69850b95",
   "metadata": {
    "editable": true,
    "slideshow": {
     "slide_type": "skip"
    },
    "tags": [
     "blank"
    ]
   },
   "source": [
    "```\n",
    "\n",
    "```"
   ]
  },
  {
   "cell_type": "markdown",
   "id": "915ee174-2c5b-4e20-885e-bff3d50b930b",
   "metadata": {
    "editable": true,
    "slideshow": {
     "slide_type": "slide"
    },
    "tags": [
     "question"
    ]
   },
   "source": [
    "`10, 20, 30, 40, 50`"
   ]
  },
  {
   "cell_type": "code",
   "execution_count": 35,
   "id": "2c298b97-2687-4126-bb70-be946821df48",
   "metadata": {
    "editable": true,
    "slideshow": {
     "slide_type": "skip"
    },
    "tags": [
     "answer"
    ]
   },
   "outputs": [
    {
     "name": "stdout",
     "output_type": "stream",
     "text": [
      "10\n",
      "20\n",
      "30\n",
      "40\n",
      "50\n"
     ]
    }
   ],
   "source": [
    "for j in range(10, 51, 10):\n",
    "    print(j)"
   ]
  },
  {
   "cell_type": "markdown",
   "id": "0df13213-536e-4819-bd63-5f8d3616ae66",
   "metadata": {
    "editable": true,
    "slideshow": {
     "slide_type": "skip"
    },
    "tags": [
     "blank"
    ]
   },
   "source": [
    "```\n",
    "\n",
    "\n",
    "```\n",
    "🛑 **STOP here** after completing the above questions; if you have extra time **skip** to the extra practice."
   ]
  },
  {
   "cell_type": "markdown",
   "id": "cb67208d-e2f0-46e0-9b5e-f651e379d39b",
   "metadata": {
    "editable": true,
    "slideshow": {
     "slide_type": "slide"
    },
    "tags": []
   },
   "source": [
    "## Accumulator pattern"
   ]
  },
  {
   "cell_type": "markdown",
   "id": "7ca15dee-00a3-4aa2-af8b-cd5d3ef07ed0",
   "metadata": {
    "editable": true,
    "slideshow": {
     "slide_type": "skip"
    },
    "tags": [
     "notes-only"
    ]
   },
   "source": [
    "* Process of iteratively updating a variable\n",
    "* To use the accumulator pattern, you must know:\n",
    "    * What do you want to compute?\n",
    "    * What is its type?\n",
    "    * How can you build it one piece at a time?\n",
    "* Applying the pattern\n",
    "    ```Python\n",
    "    accumVar = 0 # initialize accumulator variable; use the correct type\n",
    "    for i in range(10): # iterate desired number of times\n",
    "        accumVar = accumVar + 1 # update accumulator variable\n",
    "    print(accumVar) # value of accumVar after the loop is the final result\n",
    "    ```"
   ]
  },
  {
   "cell_type": "code",
   "execution_count": 41,
   "id": "8b244534-f1b0-45e9-87ee-e52e954a81fa",
   "metadata": {
    "editable": true,
    "slideshow": {
     "slide_type": ""
    },
    "tags": [
     "worksheet-code-only"
    ]
   },
   "outputs": [
    {
     "name": "stdin",
     "output_type": "stream",
     "text": [
      "Enter a number:  2\n",
      "Enter a number:  4\n",
      "Enter a number:  6\n",
      "Enter a number:  8\n"
     ]
    },
    {
     "name": "stdout",
     "output_type": "stream",
     "text": [
      "5.0\n"
     ]
    }
   ],
   "source": [
    "sum = 0\n",
    "for i in range(4):\n",
    "    sum = sum + int(input(\"Enter a number: \"))\n",
    "avg = sum / 4\n",
    "print(avg)"
   ]
  },
  {
   "cell_type": "markdown",
   "id": "fcb40a82-8c61-4ebb-ac40-c3e9426af099",
   "metadata": {
    "editable": true,
    "slideshow": {
     "slide_type": "skip"
    },
    "tags": [
     "blank"
    ]
   },
   "source": [
    "```\n",
    "\n",
    "\n",
    "\n",
    "\n",
    "\n",
    "\n",
    "\n",
    "\n",
    "\n",
    "\n",
    "```"
   ]
  },
  {
   "cell_type": "markdown",
   "id": "a55c80d0-b583-4ef2-a302-fad191453763",
   "metadata": {
    "editable": true,
    "slideshow": {
     "slide_type": "skip"
    },
    "tags": [
     "notes-only"
    ]
   },
   "source": [
    "* Use a trace table to help understand the code"
   ]
  },
  {
   "cell_type": "markdown",
   "id": "ac2c25c9-5d1b-4a4e-8f12-61408270d740",
   "metadata": {
    "editable": true,
    "slideshow": {
     "slide_type": "skip"
    },
    "tags": [
     "notes-only"
    ]
   },
   "source": [
    "| Iteration # | Variable: sum | Variable: i | Output |\n",
    "|-------------|---------------|-------------|--------|\n",
    "| 1st         | 0 + 2 = 2     | 0           |        |\n",
    "| 2nd         | 2 + 4 = 6     | 1           |        |\n",
    "| 3rd         | 6 + 6 = 12    | 2           |        |\n",
    "| 4th         | 12 + 8 = 20   | 3           |        |"
   ]
  },
  {
   "cell_type": "markdown",
   "id": "1a1c5fd8-b12f-40e8-9809-c37e2d45ac17",
   "metadata": {
    "editable": true,
    "slideshow": {
     "slide_type": "subslide"
    },
    "tags": [
     "question"
    ]
   },
   "source": [
    "_For each of the following programs: (1) draw a trace table; (2) provide the output._"
   ]
  },
  {
   "cell_type": "code",
   "execution_count": 10,
   "id": "22f7a495-b547-461b-89f2-53dec27de261",
   "metadata": {
    "editable": true,
    "slideshow": {
     "slide_type": ""
    },
    "tags": [
     "worksheet-code-only"
    ]
   },
   "outputs": [
    {
     "name": "stdout",
     "output_type": "stream",
     "text": [
      "6\n"
     ]
    }
   ],
   "source": [
    "f = 1\n",
    "for i in range(1, 4):\n",
    "    f = f * i\n",
    "print(f)"
   ]
  },
  {
   "cell_type": "markdown",
   "id": "6967535e-4f10-4452-98ca-a0189c9020c7",
   "metadata": {
    "editable": true,
    "slideshow": {
     "slide_type": "skip"
    },
    "tags": [
     "blank"
    ]
   },
   "source": [
    "```\n",
    "\n",
    "\n",
    "\n",
    "\n",
    "\n",
    "\n",
    "```"
   ]
  },
  {
   "cell_type": "code",
   "execution_count": 15,
   "id": "bd8e39ae-f57b-4ced-bac2-baf795616c08",
   "metadata": {
    "editable": true,
    "slideshow": {
     "slide_type": "fragment"
    },
    "tags": [
     "worksheet-code-only"
    ]
   },
   "outputs": [
    {
     "name": "stdout",
     "output_type": "stream",
     "text": [
      "c-l-o-u-d-\n"
     ]
    }
   ],
   "source": [
    "word = \"cloud\"\n",
    "spell = \"\"\n",
    "for c in word:\n",
    "    spell += c + \"-\"\n",
    "print(spell)"
   ]
  },
  {
   "cell_type": "markdown",
   "id": "47166d9b-2665-4644-a70d-8cc0f3e9b6e6",
   "metadata": {
    "editable": true,
    "slideshow": {
     "slide_type": "skip"
    },
    "tags": [
     "blank"
    ]
   },
   "source": [
    "```\n",
    "\n",
    "\n",
    "\n",
    "\n",
    "\n",
    "\n",
    "```"
   ]
  },
  {
   "cell_type": "code",
   "execution_count": 12,
   "id": "a0038dc6-3182-4913-8e70-b0ba36f861a5",
   "metadata": {
    "editable": true,
    "slideshow": {
     "slide_type": "fragment"
    },
    "tags": [
     "worksheet-code-only"
    ]
   },
   "outputs": [
    {
     "name": "stdin",
     "output_type": "stream",
     "text": [
      "What is your first name?  Clarence\n",
      "What is your last name?  Ellis\n"
     ]
    },
    {
     "name": "stdout",
     "output_type": "stream",
     "text": [
      "Hello Clarence Ellis \n"
     ]
    }
   ],
   "source": [
    "greeting = \"Hello \"\n",
    "for part in ['first','last']:\n",
    "    name = input(\"What is your \" + part + \" name? \")\n",
    "    greeting = greeting + name + \" \"\n",
    "print(greeting)"
   ]
  },
  {
   "cell_type": "markdown",
   "id": "e1c8a3f2-f416-40d6-9ca8-0f95e69e7414",
   "metadata": {
    "slideshow": {
     "slide_type": "skip"
    },
    "tags": [
     "notes-only"
    ]
   },
   "source": [
    "(Clarence \"Skip\" Ellis was the first African-American to earn a Ph.D. in computer science, a pioneer in Computer Supported Cooperative Work and Groupware, and the first African-American to be elected as a Fellow of the Association for Computing Machinery (ACM).)"
   ]
  },
  {
   "cell_type": "markdown",
   "id": "8cade642-190c-49c8-996d-9f20bc97e03a",
   "metadata": {
    "editable": true,
    "slideshow": {
     "slide_type": "skip"
    },
    "tags": [
     "blank"
    ]
   },
   "source": [
    "```\n",
    "\n",
    "\n",
    "\n",
    "\n",
    "\n",
    "\n",
    "```"
   ]
  },
  {
   "cell_type": "markdown",
   "id": "54db99d9-c2e7-4df3-a12e-7af46fbb302b",
   "metadata": {
    "editable": true,
    "slideshow": {
     "slide_type": "slide"
    },
    "tags": []
   },
   "source": [
    "## Extra practice"
   ]
  },
  {
   "cell_type": "markdown",
   "id": "9b870294-7f8a-442d-bda4-d2c2d8d00793",
   "metadata": {
    "editable": true,
    "slideshow": {
     "slide_type": ""
    },
    "tags": [
     "question"
    ]
   },
   "source": [
    "_For each of the following programs: (1) draw a trace table; (2) provide the output._"
   ]
  },
  {
   "cell_type": "code",
   "execution_count": 17,
   "id": "0f2fbc42-e9a3-4ad4-a158-31adbffc5f4e",
   "metadata": {
    "editable": true,
    "slideshow": {
     "slide_type": ""
    },
    "tags": [
     "worksheet-code-only"
    ]
   },
   "outputs": [
    {
     "name": "stdout",
     "output_type": "stream",
     "text": [
      "P\n",
      "E\n",
      "A\n",
      "C\n",
      "E\n"
     ]
    }
   ],
   "source": [
    "def main() -> None:\n",
    "    for char in \"PEACE\":\n",
    "        print(char)\n",
    "\n",
    "main()"
   ]
  },
  {
   "cell_type": "markdown",
   "id": "c3f73208-d47b-4f16-a3bf-3f06c84ca6d9",
   "metadata": {
    "editable": true,
    "slideshow": {
     "slide_type": "skip"
    },
    "tags": [
     "blank"
    ]
   },
   "source": [
    "```\n",
    "\n",
    "\n",
    "\n",
    "\n",
    "\n",
    "\n",
    "\n",
    "```"
   ]
  },
  {
   "cell_type": "code",
   "execution_count": 25,
   "id": "44bf30c3-89de-4c25-bb69-112f0d9219f3",
   "metadata": {
    "editable": true,
    "slideshow": {
     "slide_type": ""
    },
    "tags": [
     "worksheet-code-only"
    ]
   },
   "outputs": [
    {
     "name": "stdout",
     "output_type": "stream",
     "text": [
      "You may shoot me with your words,\n",
      "You may cut me with your eyes,\n",
      "You may kill me with your hatefulness,\n",
      "But still, like air, I'll rise.\n",
      "~ Maya Angelou\n"
     ]
    }
   ],
   "source": [
    "def main() -> None:\n",
    "    verbs = [\"shoot\", \"cut\", \"kill\"]\n",
    "    nouns = [\"words\", \"eyes\", \"hatefulness\"]\n",
    "    for i in [0,1,2]:\n",
    "        print(\"You may \" + verbs[i] + \" me with your \" + nouns[i] + \",\")\n",
    "    print(\"But still, like air, I'll rise.\")\n",
    "    print(\"~ Maya Angelou\")\n",
    "\n",
    "main()"
   ]
  },
  {
   "cell_type": "markdown",
   "id": "d8cb44cf-1baf-4014-b14a-27495a91c3f7",
   "metadata": {
    "editable": true,
    "slideshow": {
     "slide_type": "skip"
    },
    "tags": [
     "blank"
    ]
   },
   "source": [
    "```\n",
    "\n",
    "\n",
    "\n",
    "\n",
    "\n",
    "\n",
    "\n",
    "```"
   ]
  },
  {
   "cell_type": "markdown",
   "id": "c49fdc27-b1d3-4a4f-9e54-9483e3970eb8",
   "metadata": {
    "editable": true,
    "slideshow": {
     "slide_type": ""
    },
    "tags": [
     "question"
    ]
   },
   "source": [
    "_What sequence of integers is produced by each of the following code snippets?_"
   ]
  },
  {
   "cell_type": "code",
   "execution_count": 39,
   "id": "cf0b93a8-96d6-4627-b7b7-46ac3488aaa7",
   "metadata": {
    "editable": true,
    "slideshow": {
     "slide_type": "fragment"
    },
    "tags": [
     "worksheet-code-only"
    ]
   },
   "outputs": [
    {
     "name": "stdout",
     "output_type": "stream",
     "text": [
      "5\n",
      "6\n",
      "7\n",
      "8\n",
      "9\n"
     ]
    }
   ],
   "source": [
    "for q in range(5, 10):\n",
    "    print(q)"
   ]
  },
  {
   "cell_type": "markdown",
   "id": "e411e0a4-0e34-48b2-8b14-f1b0be1056bb",
   "metadata": {
    "editable": true,
    "slideshow": {
     "slide_type": "skip"
    },
    "tags": [
     "blank"
    ]
   },
   "source": [
    "```\n",
    "\n",
    "```"
   ]
  },
  {
   "cell_type": "code",
   "execution_count": 40,
   "id": "da4893c0-dbca-45e9-928f-44326603f90d",
   "metadata": {
    "editable": true,
    "slideshow": {
     "slide_type": "fragment"
    },
    "tags": [
     "worksheet-code-only"
    ]
   },
   "outputs": [
    {
     "name": "stdout",
     "output_type": "stream",
     "text": [
      "14\n",
      "7\n",
      "0\n",
      "-7\n",
      "-14\n"
     ]
    }
   ],
   "source": [
    "for r in range(14, -15, -7):\n",
    "    print(r)"
   ]
  },
  {
   "cell_type": "markdown",
   "id": "ea637e1d-8caa-4893-8236-1e8ddbe8588a",
   "metadata": {
    "editable": true,
    "slideshow": {
     "slide_type": "skip"
    },
    "tags": [
     "blank"
    ]
   },
   "source": [
    "```\n",
    "\n",
    "```"
   ]
  },
  {
   "cell_type": "markdown",
   "id": "d73f1645-0d93-488f-9481-eadd7072d233",
   "metadata": {
    "editable": true,
    "slideshow": {
     "slide_type": "slide"
    },
    "tags": [
     "question"
    ]
   },
   "source": [
    "_What call to range would produce each of the following sequences of integers?_"
   ]
  },
  {
   "cell_type": "markdown",
   "id": "2c8b7dd3-20b9-4bbd-a8dd-edba78cebede",
   "metadata": {
    "editable": true,
    "slideshow": {
     "slide_type": "fragment"
    },
    "tags": [
     "question"
    ]
   },
   "source": [
    "`15, 12, 9, 6`"
   ]
  },
  {
   "cell_type": "code",
   "execution_count": 38,
   "id": "fe8313e5-8adb-4fef-8609-122a910060bc",
   "metadata": {
    "editable": true,
    "slideshow": {
     "slide_type": "skip"
    },
    "tags": [
     "answer"
    ]
   },
   "outputs": [
    {
     "name": "stdout",
     "output_type": "stream",
     "text": [
      "15\n",
      "12\n",
      "9\n",
      "6\n"
     ]
    }
   ],
   "source": [
    "for m in range(15, 5, -3):\n",
    "    print(m)"
   ]
  },
  {
   "cell_type": "markdown",
   "id": "9957d795-15ff-40a4-9df7-fe06fc46c2fd",
   "metadata": {
    "editable": true,
    "slideshow": {
     "slide_type": "skip"
    },
    "tags": [
     "blank"
    ]
   },
   "source": [
    "```\n",
    "\n",
    "```"
   ]
  },
  {
   "cell_type": "markdown",
   "id": "b639ef69-c97b-4f3e-bc78-4fe1b26415c4",
   "metadata": {
    "editable": true,
    "slideshow": {
     "slide_type": "fragment"
    },
    "tags": [
     "question"
    ]
   },
   "source": [
    "`[0, 2, 4, 6, 8, 10]`"
   ]
  },
  {
   "cell_type": "code",
   "execution_count": 37,
   "id": "25e8fa2e-e1b5-4b23-9f9d-8dd575bfa1ed",
   "metadata": {
    "editable": true,
    "slideshow": {
     "slide_type": "skip"
    },
    "tags": [
     "answer"
    ]
   },
   "outputs": [
    {
     "name": "stdout",
     "output_type": "stream",
     "text": [
      "0\n",
      "2\n",
      "4\n",
      "6\n",
      "8\n",
      "10\n"
     ]
    }
   ],
   "source": [
    "for n in range(0, 12, 2):\n",
    "    print(n)"
   ]
  },
  {
   "cell_type": "markdown",
   "id": "afc6c88e-c6a4-455d-9a3e-441bb9700360",
   "metadata": {
    "editable": true,
    "slideshow": {
     "slide_type": "skip"
    },
    "tags": [
     "blank"
    ]
   },
   "source": [
    "```\n",
    "\n",
    "```"
   ]
  }
 ],
 "metadata": {
  "kernelspec": {
   "display_name": "Python 3 (ipykernel)",
   "language": "python",
   "name": "python3"
  },
  "language_info": {
   "codemirror_mode": {
    "name": "ipython",
    "version": 3
   },
   "file_extension": ".py",
   "mimetype": "text/x-python",
   "name": "python",
   "nbconvert_exporter": "python",
   "pygments_lexer": "ipython3",
   "version": "3.9.6"
  }
 },
 "nbformat": 4,
 "nbformat_minor": 5
}
