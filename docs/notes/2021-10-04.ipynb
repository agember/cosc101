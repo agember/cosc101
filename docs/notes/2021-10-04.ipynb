{
 "cells": [
  {
   "cell_type": "markdown",
   "id": "19b01f6f-1ba4-4ea9-a6ed-7be198811af5",
   "metadata": {
    "slideshow": {
     "slide_type": "skip"
    },
    "tags": []
   },
   "source": [
    "# unit testing\n",
    "_COSC 101, Introduction to Computing I, 2021-10-04_"
   ]
  },
  {
   "cell_type": "markdown",
   "id": "8f5fdb7c-8853-4999-85bf-ea70659b9319",
   "metadata": {
    "jp-MarkdownHeadingCollapsed": true,
    "slideshow": {
     "slide_type": "skip"
    },
    "tags": []
   },
   "source": [
    "## Announcements\n",
    "* Homework 4 due Thursday"
   ]
  },
  {
   "cell_type": "markdown",
   "id": "ea592bab-f1f7-45bb-a979-63f806c08eb8",
   "metadata": {
    "slideshow": {
     "slide_type": "skip"
    },
    "tags": [
     "notes-only"
    ]
   },
   "source": [
    "## Outline\n",
    "* Warm-up: top-down design\n",
    "* Unit tests\n",
    "* doctests"
   ]
  },
  {
   "cell_type": "markdown",
   "id": "97cf2696-d29d-419b-aaf1-cb981761ac6c",
   "metadata": {},
   "source": [
    "## Warm-up: top-down design\n",
    "_Design a program that helps a user construct a monthly budget. The program should ask for a user’s annual income, fixed expenses (e.g., rent, groceries, phone), and desired allocation among variable expenses (e.g., clothing, travel). Assume 20% of a user’s annual income is put into savings. **Your design should consist of function definitions and docstrings; also, add a comment in a function's body if it should call one of the other functions. Do not write the function bodies.**_"
   ]
  },
  {
   "cell_type": "code",
   "execution_count": 8,
   "id": "e2d3ebf6-e14d-4471-bddb-4a6b154f818b",
   "metadata": {
    "slideshow": {
     "slide_type": "skip"
    },
    "tags": [
     "notes-only"
    ]
   },
   "outputs": [],
   "source": [
    "def get_income():\n",
    "    \"\"\"Determine monthly income\"\"\"\n",
    "\n",
    "def total_fixed():\n",
    "    \"\"\"Determine total fixed expenses\"\"\"\n",
    "\n",
    "def allocate_variable(leftover):\n",
    "    \"\"\"Allocate remaining income among variable expenses\"\"\"\n",
    "\n",
    "def after_savings(income):\n",
    "    \"\"\"Determine savings\"\"\"\n",
    "\n",
    "def main():\n",
    "    \"\"\"Ask for income, fixed expenses, and variable expenses and output budget details\"\"\""
   ]
  },
  {
   "cell_type": "markdown",
   "id": "3ff0db28-e2a1-4d5d-849e-b83031477532",
   "metadata": {
    "slideshow": {
     "slide_type": "skip"
    },
    "tags": [
     "worksheet-only"
    ]
   },
   "source": [
    "```\n",
    "\n",
    "\n",
    "\n",
    "\n",
    "\n",
    "\n",
    "\n",
    "\n",
    "\n",
    "\n",
    "\n",
    "\n",
    "\n",
    "\n",
    "\n",
    "\n",
    "\n",
    "\n",
    "\n",
    "\n",
    "\n",
    "\n",
    "\n",
    "\n",
    "\n",
    "\n",
    "\n",
    "\n",
    "\n",
    "\n",
    "\n",
    "\n",
    "\n",
    "\n",
    "\n",
    "\n",
    "\n",
    "\n",
    "```\n",
    "🛑 **STOP HERE** after completing the warm-up question; please **DO NOT WORK AHEAD**. If you have extra time, work on the extra practice problems at the end of the worksheet."
   ]
  },
  {
   "cell_type": "markdown",
   "id": "574ac045-7ec8-4420-afb8-910dce516996",
   "metadata": {
    "slideshow": {
     "slide_type": "skip"
    },
    "tags": [
     "notes-only"
    ]
   },
   "source": [
    "## Unit tests\n",
    "* Code that automatically checks whether a function returns the correct result\n",
    "* Must be written by a person who knows what a function should do\n",
    "* Multiple unit tests should be written for a function in order to test:\n",
    "    * Common actual parameters\n",
    "    * Boundary cases"
   ]
  },
  {
   "cell_type": "markdown",
   "id": "f0593c87-c9ff-47ba-8cd8-4bd70fede241",
   "metadata": {
    "slideshow": {
     "slide_type": "slide"
    },
    "tags": []
   },
   "source": [
    "## doctests"
   ]
  },
  {
   "cell_type": "markdown",
   "id": "b88dfd80-2e8f-4ef6-80ce-7ac9e32d5e1f",
   "metadata": {
    "slideshow": {
     "slide_type": "skip"
    },
    "tags": [
     "notes-only"
    ]
   },
   "source": [
    "* Specific way of writing unit tests\n",
    "* Include function call and expected output within docstring\n",
    "* At top of file `import doctest`; at bottom of file call `doctest.testmod()`\n",
    "* Example:"
   ]
  },
  {
   "cell_type": "code",
   "execution_count": 6,
   "id": "a5e2f5d1-6150-4b2f-b7c2-69d59bafb0d2",
   "metadata": {
    "slideshow": {
     "slide_type": "skip"
    },
    "tags": [
     "notes-only"
    ]
   },
   "outputs": [
    {
     "data": {
      "text/plain": [
       "TestResults(failed=0, attempted=3)"
      ]
     },
     "execution_count": 6,
     "metadata": {},
     "output_type": "execute_result"
    }
   ],
   "source": [
    "import doctest\n",
    "\n",
    "def funcA(w, x):\n",
    "    \"\"\"\n",
    "    Computes the minimum\n",
    "    \n",
    "    >>> funcA(1, 2)\n",
    "    1\n",
    "    >>> funcA(2, 1)\n",
    "    1\n",
    "    >>> funcA(2, 2)\n",
    "    2\n",
    "    \"\"\"\n",
    "    if (w < x):\n",
    "        return w\n",
    "    else:\n",
    "        return x\n",
    "\n",
    "doctest.testmod()"
   ]
  },
  {
   "cell_type": "markdown",
   "id": "d2140c5d-168b-4555-9212-bf9f113a6966",
   "metadata": {
    "slideshow": {
     "slide_type": "skip"
    },
    "tags": [
     "notes-only"
    ]
   },
   "source": [
    "* Cannot (easily) use doctests to test functions that require input\n",
    "    * Ask for input only in main (or as few functions as possible)\n",
    "\n",
    "### Practice"
   ]
  },
  {
   "cell_type": "markdown",
   "id": "5cf2a6c2-7ae0-4899-9c86-f2d5974c96be",
   "metadata": {},
   "source": [
    "_Write 4 good doctests for each of the following functions:_"
   ]
  },
  {
   "cell_type": "code",
   "execution_count": 11,
   "id": "9010f7ff-0894-446b-a28d-69eae50a6b7b",
   "metadata": {
    "tags": []
   },
   "outputs": [],
   "source": [
    "#1)\n",
    "def funcB(v):\n",
    "    \"\"\"Determines if a number is even\"\"\"\n",
    "    return (v % 2) == 0"
   ]
  },
  {
   "cell_type": "code",
   "execution_count": null,
   "id": "c0005a38-783c-4e82-9895-86a45ef62c89",
   "metadata": {
    "slideshow": {
     "slide_type": "skip"
    },
    "tags": [
     "notes-only"
    ]
   },
   "outputs": [],
   "source": [
    "def funcB(v):\n",
    "    \"\"\"\n",
    "    Determines if a number is even\n",
    "    \n",
    "    >>> funcB(2)\n",
    "    True\n",
    "    >>> funcB(3)\n",
    "    False\n",
    "    >>> funcB(0)\n",
    "    True\n",
    "    >>> funcB(1)\n",
    "    False\n",
    "    \"\"\"\n",
    "    return (v % 2) == 0"
   ]
  },
  {
   "cell_type": "markdown",
   "id": "17823a49-bdc7-4ab4-bbff-dcc703ef563d",
   "metadata": {
    "slideshow": {
     "slide_type": "skip"
    },
    "tags": [
     "worksheet-only"
    ]
   },
   "source": [
    "```\n",
    "\n",
    "\n",
    "\n",
    "\n",
    "\n",
    "\n",
    "\n",
    "\n",
    "\n",
    "\n",
    "```"
   ]
  },
  {
   "cell_type": "code",
   "execution_count": 11,
   "id": "ac5c601c-4ba6-42c3-8338-6e28ff7d2a1b",
   "metadata": {
    "slideshow": {
     "slide_type": "subslide"
    },
    "tags": []
   },
   "outputs": [],
   "source": [
    "#2)\n",
    "def funcC(n):\n",
    "    \"\"\"Rounds a number to the nearest multiple of ten\"\"\"\n",
    "    p = n % 10\n",
    "    if p <= 5:\n",
    "        return n - p\n",
    "    else:\n",
    "        return n + (10 - p)"
   ]
  },
  {
   "cell_type": "code",
   "execution_count": 10,
   "id": "10481dbd-b945-49cd-95fa-bad1b6bbea43",
   "metadata": {
    "slideshow": {
     "slide_type": "skip"
    },
    "tags": [
     "notes-only"
    ]
   },
   "outputs": [],
   "source": [
    "#2)\n",
    "def funcC(n):\n",
    "    \"\"\"\n",
    "    Rounds a number to the nearest multiple of ten\n",
    "    \n",
    "    >>> funcC(13)\n",
    "    10\n",
    "    >>> funcC(27)\n",
    "    30\n",
    "    >>> funcC(30)\n",
    "    30\n",
    "    >>> funcC(45)\n",
    "    40\n",
    "    \"\"\"\n",
    "    p = n % 10\n",
    "    if p <= 5:\n",
    "        return n - p\n",
    "    else:\n",
    "        return n + (10 - p)"
   ]
  },
  {
   "cell_type": "markdown",
   "id": "cb821533-ae06-4a35-97e6-6f5c332ab845",
   "metadata": {
    "slideshow": {
     "slide_type": "skip"
    },
    "tags": [
     "worksheet-only"
    ]
   },
   "source": [
    "```\n",
    "\n",
    "\n",
    "\n",
    "\n",
    "\n",
    "\n",
    "\n",
    "\n",
    "\n",
    "\n",
    "\n",
    "```"
   ]
  },
  {
   "cell_type": "code",
   "execution_count": 11,
   "id": "5750541f-1b89-4a4b-bc9e-657550aced23",
   "metadata": {
    "slideshow": {
     "slide_type": "subslide"
    },
    "tags": []
   },
   "outputs": [],
   "source": [
    "#3)\n",
    "def count_characters(paragraph):\n",
    "    \"\"\"Counts the number of characters in a paragraph\"\"\"\n",
    "    return len(paragraph)"
   ]
  },
  {
   "cell_type": "code",
   "execution_count": 10,
   "id": "40e20869-80dd-4fed-b267-9aeda3d7ff49",
   "metadata": {
    "slideshow": {
     "slide_type": "skip"
    },
    "tags": [
     "notes-only"
    ]
   },
   "outputs": [],
   "source": [
    "#3)\n",
    "def count_characters(paragraph):\n",
    "    \"\"\"\n",
    "    Counts the number of characters in a paragraph\n",
    "    \n",
    "    >>> count_characters(\"Once upon a time, there lived a COSC 101 student. They loved programming.\")\n",
    "    73\n",
    "    >>> count_characters(\"Once upon a time\")\n",
    "    16\n",
    "    >>> count_characters(\"upon\")\n",
    "    4\n",
    "    >>> count_characters(\"a\")\n",
    "    1\n",
    "    \"\"\"\n",
    "    return len(paragraph)"
   ]
  },
  {
   "cell_type": "markdown",
   "id": "079a38f0-2983-49c7-b3bb-4deee99c73fa",
   "metadata": {
    "slideshow": {
     "slide_type": "skip"
    },
    "tags": [
     "worksheet-only"
    ]
   },
   "source": [
    "```\n",
    "\n",
    "\n",
    "\n",
    "\n",
    "\n",
    "\n",
    "\n",
    "\n",
    "\n",
    "\n",
    "\n",
    "\n",
    "```"
   ]
  },
  {
   "cell_type": "code",
   "execution_count": 11,
   "id": "46ce25de-5ff3-4e56-939f-2af636074db4",
   "metadata": {
    "slideshow": {
     "slide_type": "subslide"
    },
    "tags": []
   },
   "outputs": [],
   "source": [
    "#4)\n",
    "def count_words(paragraph):\n",
    "    \"\"\"Counts the number of words in a paragraph\"\"\"\n",
    "    words = 0\n",
    "    for char in paragraph:\n",
    "        if char == ' ':\n",
    "            words = words + 1\n",
    "    words = words + 1 # Include last word, which won't have a space afterwards\n",
    "    return words"
   ]
  },
  {
   "cell_type": "code",
   "execution_count": 12,
   "id": "ad1a79c3-6dda-4e7d-bafb-f1e831333b58",
   "metadata": {
    "slideshow": {
     "slide_type": "skip"
    },
    "tags": [
     "notes-only"
    ]
   },
   "outputs": [],
   "source": [
    "#4)\n",
    "def count_words(paragraph):\n",
    "    \"\"\"\n",
    "    Counts the number of words in a paragraph\n",
    "    \n",
    "    >>> count_words(\"Once upon a time, there lived a COSC 101 student. They loved programming.\")\n",
    "    13\n",
    "    >>> count_words(\"They loved programming.\")\n",
    "    3\n",
    "    >>> count_words(\"Hooray.\")\n",
    "    1\n",
    "    >>> count_words(\"\"Once upon a time, there lived a COSC 101 student.\")\n",
    "    10\n",
    "    \"\"\"\n",
    "    words = 0\n",
    "    for char in paragraph:\n",
    "        if char == ' ':\n",
    "            words = words + 1\n",
    "    words = words + 1 # Include last word, which won't have a space afterwards\n",
    "    return words"
   ]
  },
  {
   "cell_type": "markdown",
   "id": "5f74efa1-56ae-4525-b5a9-abf16ede1aa1",
   "metadata": {
    "slideshow": {
     "slide_type": "skip"
    },
    "tags": [
     "worksheet-only"
    ]
   },
   "source": [
    "```\n",
    "\n",
    "\n",
    "\n",
    "\n",
    "\n",
    "\n",
    "\n",
    "\n",
    "\n",
    "\n",
    "\n",
    "\n",
    "```"
   ]
  },
  {
   "cell_type": "code",
   "execution_count": 13,
   "id": "a1688a91-5049-48ff-be10-1611b58aeb6d",
   "metadata": {
    "slideshow": {
     "slide_type": "subslide"
    },
    "tags": []
   },
   "outputs": [],
   "source": [
    "#5)\n",
    "def count_sentences(paragraph):\n",
    "    \"\"\"Counts the number of sentences in a paragraph\"\"\"\n",
    "    sentences = 0\n",
    "    for char in paragraph:\n",
    "        if char == '.':\n",
    "            sentences = sentences + 1\n",
    "    return sentences"
   ]
  },
  {
   "cell_type": "code",
   "execution_count": 14,
   "id": "819c0d25-c234-4111-817a-9947b52f4c89",
   "metadata": {
    "slideshow": {
     "slide_type": "skip"
    },
    "tags": [
     "notes-only"
    ]
   },
   "outputs": [],
   "source": [
    "#5)\n",
    "def count_sentences(paragraph):\n",
    "    \"\"\"\n",
    "    Counts the number of sentences in a paragraph\n",
    "    \n",
    "    >>> count_sentences(\"Once upon a time, there lived a COSC 101 student. They loved programming.\")\n",
    "    2\n",
    "    >>> count_words(\"They loved programming.\")\n",
    "    1\n",
    "    >>> count_sentences(\"Hooray.\")\n",
    "    1\n",
    "    >>> count_sentences(\"\"Once upon a time, there lived a COSC 101 student. They loved programming. Hooray.\")\n",
    "    3\n",
    "    \"\"\"\n",
    "    sentences = 0\n",
    "    for char in paragraph:\n",
    "        if char == '.':\n",
    "            sentences = sentences + 1\n",
    "    return sentences"
   ]
  },
  {
   "cell_type": "markdown",
   "id": "6f5a6f6e-3466-4ab3-b618-f1be657a36d0",
   "metadata": {
    "slideshow": {
     "slide_type": "skip"
    },
    "tags": [
     "worksheet-only"
    ]
   },
   "source": [
    "```\n",
    "\n",
    "\n",
    "\n",
    "\n",
    "\n",
    "\n",
    "\n",
    "\n",
    "\n",
    "\n",
    "\n",
    "```"
   ]
  },
  {
   "cell_type": "markdown",
   "id": "233e3830-07c1-40fd-963a-62270513f6ea",
   "metadata": {
    "slideshow": {
     "slide_type": "skip"
    },
    "tags": []
   },
   "source": [
    "## Extra practice"
   ]
  },
  {
   "cell_type": "markdown",
   "id": "c6dcd591-86c2-4a78-b4a1-bc78dd83f6a7",
   "metadata": {
    "slideshow": {
     "slide_type": "skip"
    },
    "tags": []
   },
   "source": [
    "_Implement the functions in the program you designed in the warm-up._"
   ]
  },
  {
   "cell_type": "code",
   "execution_count": 16,
   "id": "eb2f41c5-9397-4a82-87ec-f8cacbbeb4b4",
   "metadata": {
    "slideshow": {
     "slide_type": "skip"
    },
    "tags": [
     "notes-only"
    ]
   },
   "outputs": [
    {
     "name": "stdin",
     "output_type": "stream",
     "text": [
      "What is your annual income? $ 24000\n"
     ]
    },
    {
     "name": "stdout",
     "output_type": "stream",
     "text": [
      "Monthly income: $2000.0\n",
      "You should save $400.0\n",
      "Fixed expenses:\n"
     ]
    },
    {
     "name": "stdin",
     "output_type": "stream",
     "text": [
      "How much is your rent? $ 800\n",
      "How much is your groceries? $ 400\n",
      "How much is your phone plan? $ 100\n"
     ]
    },
    {
     "name": "stdout",
     "output_type": "stream",
     "text": [
      "Total fixed expenses: $1300.0\n",
      "Variable expenses:\n",
      "You have $300.0 left to budget\n"
     ]
    },
    {
     "name": "stdin",
     "output_type": "stream",
     "text": [
      "How much would you like to spend on clothing? $ 150\n"
     ]
    },
    {
     "name": "stdout",
     "output_type": "stream",
     "text": [
      "You have $150.0 left to budget\n"
     ]
    },
    {
     "name": "stdin",
     "output_type": "stream",
     "text": [
      "How much would you like to spend on travel? $ 200\n"
     ]
    },
    {
     "name": "stdout",
     "output_type": "stream",
     "text": [
      "You can only spend $150.0 on travel\n",
      "You have $0.0 to spend on other things\n"
     ]
    }
   ],
   "source": [
    "def get_income():\n",
    "    \"\"\"Determine monthly income\"\"\"\n",
    "    annual = float(input(\"What is your annual income? $\"))\n",
    "    monthly = annual/12\n",
    "    print(\"Monthly income: $\"+str(monthly))\n",
    "    return monthly\n",
    "\n",
    "def total_fixed():\n",
    "    \"\"\"Determine total fixed expenses\"\"\"\n",
    "    print(\"Fixed expenses:\")\n",
    "    total = 0\n",
    "    for expense in [\"rent\", \"groceries\", \"phone plan\"]:\n",
    "        amount = float(input(\"How much is your \"+expense+\"? $\"))\n",
    "        total = total + amount\n",
    "    print(\"Total fixed expenses: $\"+str(total))\n",
    "    return total\n",
    "\n",
    "def allocate_variable(leftover):\n",
    "    \"\"\"Allocate remaining income among variable expenses\"\"\"\n",
    "    print(\"Variable expenses:\")\n",
    "    for expense in [\"clothing\", \"travel\"]:\n",
    "        print(\"You have $\"+str(leftover)+\" left to budget\")\n",
    "        amount = float(input(\"How much would you like to spend on \"+expense+\"? $\"))\n",
    "        if amount > leftover:\n",
    "            print(\"You can only spend $\"+str(leftover)+\" on \"+expense)\n",
    "            amount = leftover\n",
    "        leftover = leftover - amount\n",
    "    print(\"You have $\"+str(leftover)+\" to spend on other things\")\n",
    "\n",
    "def after_savings(income):\n",
    "    \"\"\"Determine savings\"\"\"\n",
    "    save = income * 0.2\n",
    "    print(\"You should save $\"+str(save))\n",
    "    return income - save\n",
    "\n",
    "def main():\n",
    "    \"\"\"Ask for income, fixed expenses, and variable expenses and output budget details\"\"\"\n",
    "    income = get_income()\n",
    "    leftover = after_savings(income)\n",
    "    fixed = total_fixed()\n",
    "    if (fixed > leftover):\n",
    "        print(\"Your fixed expenses exceed your available income!\")\n",
    "    else:\n",
    "        leftover = leftover - fixed\n",
    "        allocate_variable(leftover)\n",
    "\n",
    "main()"
   ]
  }
 ],
 "metadata": {
  "kernelspec": {
   "display_name": "Python 3 (ipykernel)",
   "language": "python",
   "name": "python3"
  },
  "language_info": {
   "codemirror_mode": {
    "name": "ipython",
    "version": 3
   },
   "file_extension": ".py",
   "mimetype": "text/x-python",
   "name": "python",
   "nbconvert_exporter": "python",
   "pygments_lexer": "ipython3",
   "version": "3.8.2"
  }
 },
 "nbformat": 4,
 "nbformat_minor": 5
}
