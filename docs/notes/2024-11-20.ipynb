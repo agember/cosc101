{
 "cells": [
  {
   "cell_type": "markdown",
   "metadata": {
    "slideshow": {
     "slide_type": "skip"
    },
    "tags": []
   },
   "source": [
    "# Review: Exam 3\n",
    "_COSC 101, Introduction to Computing I, 2024-11-20_"
   ]
  },
  {
   "cell_type": "markdown",
   "metadata": {
    "editable": true,
    "slideshow": {
     "slide_type": "skip"
    },
    "tags": []
   },
   "source": [
    "## Announcements\n",
    "* Exam 3 in class on Friday\n",
    "    * Combination of code reading and code writing\n",
    "    * Emphasizes string methods, list methods and mutations, files, dictionaries, and nested lists – still includes material covered earlier\n",
    "    * Study by solving problems (all linked from Moodle): in-class worksheets; Prof. Davis' class worksheets; exam 3 practice problems"
   ]
  },
  {
   "cell_type": "markdown",
   "metadata": {
    "editable": true,
    "slideshow": {
     "slide_type": "slide"
    },
    "tags": []
   },
   "source": [
    "## Practice reading code with strings and lists"
   ]
  },
  {
   "cell_type": "markdown",
   "metadata": {
    "editable": true,
    "slideshow": {
     "slide_type": "slide"
    },
    "tags": [
     "question"
    ]
   },
   "source": [
    "*What is the output of the following programs?*"
   ]
  },
  {
   "cell_type": "code",
   "execution_count": 7,
   "metadata": {
    "editable": true,
    "slideshow": {
     "slide_type": ""
    },
    "tags": [
     "worksheet-code-only"
    ]
   },
   "outputs": [
    {
     "name": "stdout",
     "output_type": "stream",
     "text": [
      "ae\n",
      "on\n",
      "angar\n",
      "pen\n"
     ]
    }
   ],
   "source": [
    "def main() -> None:\n",
    "    a = 'kangaroo'\n",
    "    b = 'penguin'\n",
    "    print(a[1] + b[1])\n",
    "    print(a[-1] + b[len(b)-1])\n",
    "    print(a[1:6])\n",
    "    print(b[:3])\n",
    "\n",
    "main()"
   ]
  },
  {
   "cell_type": "markdown",
   "metadata": {
    "editable": true,
    "slideshow": {
     "slide_type": "skip"
    },
    "tags": [
     "blank"
    ]
   },
   "source": [
    "<p style=\"height:8em;\"></p>"
   ]
  },
  {
   "cell_type": "code",
   "execution_count": 11,
   "metadata": {
    "editable": true,
    "slideshow": {
     "slide_type": "subslide"
    },
    "tags": [
     "worksheet-code-only"
    ]
   },
   "outputs": [
    {
     "name": "stdout",
     "output_type": "stream",
     "text": [
      "0b1a2t\n",
      "TAB\n"
     ]
    }
   ],
   "source": [
    "def mystery(u: str) -> None:\n",
    "    v = \"\"\n",
    "    w = \"\"\n",
    "    for i in range(len(u)):\n",
    "        v = v + str(i) + u[i]\n",
    "        w = u[i] + w\n",
    "    v.upper()\n",
    "    print(v)\n",
    "    print(w.upper())\n",
    "    \n",
    "mystery(\"bat\")"
   ]
  },
  {
   "cell_type": "markdown",
   "metadata": {
    "editable": true,
    "slideshow": {
     "slide_type": "skip"
    },
    "tags": [
     "blank"
    ]
   },
   "source": [
    "<p style=\"height:5em;\"></p>"
   ]
  },
  {
   "cell_type": "code",
   "execution_count": 5,
   "metadata": {
    "editable": true,
    "slideshow": {
     "slide_type": "subslide"
    },
    "tags": [
     "worksheet-code-only"
    ]
   },
   "outputs": [
    {
     "name": "stdout",
     "output_type": "stream",
     "text": [
      "redyellow\n",
      "['red', 'yellow', 'orange']\n",
      "['yellow', 'blue', 'green'] ['yellow', 'blue', 'green']\n"
     ]
    }
   ],
   "source": [
    "def main() -> None:\n",
    "    c = [\"red\", \"yellow\", \"blue\"]\n",
    "    w = c[0] + c[1]\n",
    "    print(w)\n",
    "    x = c[:2] + [\"orange\"]\n",
    "    print(x)\n",
    "    y = c\n",
    "    c.pop(0)\n",
    "    y.append(\"green\")\n",
    "    print(c, y)\n",
    "    \n",
    "main()"
   ]
  },
  {
   "cell_type": "markdown",
   "metadata": {
    "editable": true,
    "slideshow": {
     "slide_type": "skip"
    },
    "tags": [
     "blank"
    ]
   },
   "source": [
    "<p style=\"height:15em;\"></p>"
   ]
  },
  {
   "cell_type": "code",
   "execution_count": 4,
   "metadata": {
    "editable": true,
    "slideshow": {
     "slide_type": ""
    },
    "tags": [
     "worksheet-code-only"
    ]
   },
   "outputs": [
    {
     "name": "stdout",
     "output_type": "stream",
     "text": [
      "spr gni\n"
     ]
    }
   ],
   "source": [
    "def magic(a: str) -> None:\n",
    "    b = \"\"\n",
    "    c = \"\"\n",
    "    i = 0\n",
    "    while a[i] not in \"aeiou\":\n",
    "        b = b + a[i]\n",
    "        c = c + a[len(a) - 1 - i]\n",
    "        i = i + 1\n",
    "    print(b, c)\n",
    "    \n",
    "magic(\"spring\")"
   ]
  },
  {
   "cell_type": "markdown",
   "metadata": {
    "editable": true,
    "slideshow": {
     "slide_type": "skip"
    },
    "tags": [
     "blank"
    ]
   },
   "source": [
    "<p style=\"height:20em;\"></p>"
   ]
  },
  {
   "cell_type": "markdown",
   "metadata": {
    "editable": true,
    "slideshow": {
     "slide_type": ""
    },
    "tags": []
   },
   "source": [
    "## Practice reading code with dictionaries"
   ]
  },
  {
   "cell_type": "markdown",
   "metadata": {
    "editable": true,
    "slideshow": {
     "slide_type": ""
    },
    "tags": [
     "question"
    ]
   },
   "source": [
    "*What is the output of the following programs?*"
   ]
  },
  {
   "cell_type": "code",
   "execution_count": 20,
   "metadata": {
    "editable": true,
    "slideshow": {
     "slide_type": ""
    },
    "tags": [
     "worksheet-code-only"
    ]
   },
   "outputs": [
    {
     "name": "stdout",
     "output_type": "stream",
     "text": [
      "b.a\n",
      "a.y\n"
     ]
    },
    {
     "ename": "KeyError",
     "evalue": "3",
     "output_type": "error",
     "traceback": [
      "\u001b[0;31m---------------------------------------------------------------------------\u001b[0m",
      "\u001b[0;31mKeyError\u001b[0m                                  Traceback (most recent call last)",
      "Cell \u001b[0;32mIn[20], line 14\u001b[0m\n\u001b[1;32m     11\u001b[0m     \u001b[38;5;28mprint\u001b[39m(lookup([\u001b[38;5;241m1\u001b[39m, \u001b[38;5;241m8\u001b[39m], d))\n\u001b[1;32m     12\u001b[0m     \u001b[38;5;28mprint\u001b[39m(lookup([\u001b[38;5;241m1\u001b[39m, \u001b[38;5;241m2\u001b[39m, \u001b[38;5;241m3\u001b[39m, \u001b[38;5;241m4\u001b[39m], d))\n\u001b[0;32m---> 14\u001b[0m \u001b[43mmain\u001b[49m\u001b[43m(\u001b[49m\u001b[43m)\u001b[49m\n",
      "Cell \u001b[0;32mIn[20], line 12\u001b[0m, in \u001b[0;36mmain\u001b[0;34m()\u001b[0m\n\u001b[1;32m     10\u001b[0m \u001b[38;5;28mprint\u001b[39m(lookup([\u001b[38;5;241m2\u001b[39m, \u001b[38;5;241m4\u001b[39m], d))\n\u001b[1;32m     11\u001b[0m \u001b[38;5;28mprint\u001b[39m(lookup([\u001b[38;5;241m1\u001b[39m, \u001b[38;5;241m8\u001b[39m], d))\n\u001b[0;32m---> 12\u001b[0m \u001b[38;5;28mprint\u001b[39m(\u001b[43mlookup\u001b[49m\u001b[43m(\u001b[49m\u001b[43m[\u001b[49m\u001b[38;5;241;43m1\u001b[39;49m\u001b[43m,\u001b[49m\u001b[43m \u001b[49m\u001b[38;5;241;43m2\u001b[39;49m\u001b[43m,\u001b[49m\u001b[43m \u001b[49m\u001b[38;5;241;43m3\u001b[39;49m\u001b[43m,\u001b[49m\u001b[43m \u001b[49m\u001b[38;5;241;43m4\u001b[39;49m\u001b[43m]\u001b[49m\u001b[43m,\u001b[49m\u001b[43m \u001b[49m\u001b[43md\u001b[49m\u001b[43m)\u001b[49m)\n",
      "Cell \u001b[0;32mIn[20], line 4\u001b[0m, in \u001b[0;36mlookup\u001b[0;34m(lst, dct)\u001b[0m\n\u001b[1;32m      2\u001b[0m r \u001b[38;5;241m=\u001b[39m \u001b[38;5;124m'\u001b[39m\u001b[38;5;124m'\u001b[39m\n\u001b[1;32m      3\u001b[0m \u001b[38;5;28;01mfor\u001b[39;00m i \u001b[38;5;129;01min\u001b[39;00m lst:\n\u001b[0;32m----> 4\u001b[0m     r \u001b[38;5;241m+\u001b[39m\u001b[38;5;241m=\u001b[39m \u001b[43mdct\u001b[49m\u001b[43m[\u001b[49m\u001b[43mi\u001b[49m\u001b[43m]\u001b[49m \u001b[38;5;241m+\u001b[39m \u001b[38;5;124m'\u001b[39m\u001b[38;5;124m.\u001b[39m\u001b[38;5;124m'\u001b[39m\n\u001b[1;32m      5\u001b[0m \u001b[38;5;28;01mreturn\u001b[39;00m r[:\u001b[38;5;241m-\u001b[39m\u001b[38;5;241m1\u001b[39m]\n",
      "\u001b[0;31mKeyError\u001b[0m: 3"
     ]
    }
   ],
   "source": [
    "def lookup(lst, dct):\n",
    "    r = ''\n",
    "    for i in lst:\n",
    "        r += dct[i] + '.'\n",
    "    return r[:-1]\n",
    "\n",
    "def main() -> None:\n",
    "    c = 'May'\n",
    "    d = {1: 'a', 2: 'b', 8: c[-1], 4: c[1]}\n",
    "    print(lookup([2, 4], d))\n",
    "    print(lookup([1, 8], d))\n",
    "    print(lookup([1, 2, 3, 4], d))\n",
    "\n",
    "main()"
   ]
  },
  {
   "cell_type": "markdown",
   "metadata": {
    "editable": true,
    "slideshow": {
     "slide_type": "skip"
    },
    "tags": [
     "blank"
    ]
   },
   "source": [
    "<p style=\"height:8em;\"></p>"
   ]
  },
  {
   "cell_type": "code",
   "execution_count": 21,
   "metadata": {
    "editable": true,
    "slideshow": {
     "slide_type": ""
    },
    "tags": [
     "worksheet-code-only"
    ]
   },
   "outputs": [
    {
     "name": "stdout",
     "output_type": "stream",
     "text": [
      "{'a': [1], 'b': [2]}\n",
      "{'a': [1], 'b': [2]}\n",
      "{'a': [1], 'b': [2, 3, 5], 'c': [4]}\n"
     ]
    },
    {
     "ename": "IndexError",
     "evalue": "list index out of range",
     "output_type": "error",
     "traceback": [
      "\u001b[0;31m---------------------------------------------------------------------------\u001b[0m",
      "\u001b[0;31mIndexError\u001b[0m                                Traceback (most recent call last)",
      "Cell \u001b[0;32mIn[21], line 19\u001b[0m\n\u001b[1;32m     16\u001b[0m     d4 \u001b[38;5;241m=\u001b[39m insert([\u001b[38;5;124m'\u001b[39m\u001b[38;5;124md\u001b[39m\u001b[38;5;124m'\u001b[39m, \u001b[38;5;124m'\u001b[39m\u001b[38;5;124me\u001b[39m\u001b[38;5;124m'\u001b[39m], [\u001b[38;5;241m7\u001b[39m], d3)\n\u001b[1;32m     17\u001b[0m     \u001b[38;5;28mprint\u001b[39m(d4)\n\u001b[0;32m---> 19\u001b[0m \u001b[43mmain\u001b[49m\u001b[43m(\u001b[49m\u001b[43m)\u001b[49m\n",
      "Cell \u001b[0;32mIn[21], line 16\u001b[0m, in \u001b[0;36mmain\u001b[0;34m()\u001b[0m\n\u001b[1;32m     14\u001b[0m d3 \u001b[38;5;241m=\u001b[39m insert([\u001b[38;5;124m'\u001b[39m\u001b[38;5;124mb\u001b[39m\u001b[38;5;124m'\u001b[39m, \u001b[38;5;124m'\u001b[39m\u001b[38;5;124mc\u001b[39m\u001b[38;5;124m'\u001b[39m, \u001b[38;5;124m'\u001b[39m\u001b[38;5;124mb\u001b[39m\u001b[38;5;124m'\u001b[39m], [\u001b[38;5;241m3\u001b[39m, \u001b[38;5;241m4\u001b[39m, \u001b[38;5;241m5\u001b[39m, \u001b[38;5;241m6\u001b[39m], d2)\n\u001b[1;32m     15\u001b[0m \u001b[38;5;28mprint\u001b[39m(d3)\n\u001b[0;32m---> 16\u001b[0m d4 \u001b[38;5;241m=\u001b[39m \u001b[43minsert\u001b[49m\u001b[43m(\u001b[49m\u001b[43m[\u001b[49m\u001b[38;5;124;43m'\u001b[39;49m\u001b[38;5;124;43md\u001b[39;49m\u001b[38;5;124;43m'\u001b[39;49m\u001b[43m,\u001b[49m\u001b[43m \u001b[49m\u001b[38;5;124;43m'\u001b[39;49m\u001b[38;5;124;43me\u001b[39;49m\u001b[38;5;124;43m'\u001b[39;49m\u001b[43m]\u001b[49m\u001b[43m,\u001b[49m\u001b[43m \u001b[49m\u001b[43m[\u001b[49m\u001b[38;5;241;43m7\u001b[39;49m\u001b[43m]\u001b[49m\u001b[43m,\u001b[49m\u001b[43m \u001b[49m\u001b[43md3\u001b[49m\u001b[43m)\u001b[49m\n\u001b[1;32m     17\u001b[0m \u001b[38;5;28mprint\u001b[39m(d4)\n",
      "Cell \u001b[0;32mIn[21], line 4\u001b[0m, in \u001b[0;36minsert\u001b[0;34m(lst1, lst2, dct)\u001b[0m\n\u001b[1;32m      2\u001b[0m \u001b[38;5;28;01mfor\u001b[39;00m i \u001b[38;5;129;01min\u001b[39;00m \u001b[38;5;28mrange\u001b[39m(\u001b[38;5;28mlen\u001b[39m(lst1)):\n\u001b[1;32m      3\u001b[0m     \u001b[38;5;28;01mif\u001b[39;00m lst1[i] \u001b[38;5;129;01mnot\u001b[39;00m \u001b[38;5;129;01min\u001b[39;00m dct:\n\u001b[0;32m----> 4\u001b[0m         dct[lst1[i]] \u001b[38;5;241m=\u001b[39m [\u001b[43mlst2\u001b[49m\u001b[43m[\u001b[49m\u001b[43mi\u001b[49m\u001b[43m]\u001b[49m]\n\u001b[1;32m      5\u001b[0m     \u001b[38;5;28;01melse\u001b[39;00m:\n\u001b[1;32m      6\u001b[0m         dct[lst1[i]] \u001b[38;5;241m+\u001b[39m\u001b[38;5;241m=\u001b[39m [lst2[i]]\n",
      "\u001b[0;31mIndexError\u001b[0m: list index out of range"
     ]
    }
   ],
   "source": [
    "def insert(lst1, lst2, dct):\n",
    "    for i in range(len(lst1)):\n",
    "        if lst1[i] not in dct:\n",
    "            dct[lst1[i]] = [lst2[i]]\n",
    "        else:\n",
    "            dct[lst1[i]] += [lst2[i]]\n",
    "    return dct\n",
    "\n",
    "def main() -> None:\n",
    "    d = {}\n",
    "    d2 = insert(['a', 'b'], [1, 2], d)\n",
    "    print(d)\n",
    "    print(d2)\n",
    "    d3 = insert(['b', 'c', 'b'], [3, 4, 5, 6], d2)\n",
    "    print(d3)\n",
    "    d4 = insert(['d', 'e'], [7], d3)\n",
    "    print(d4)\n",
    "\n",
    "main()"
   ]
  },
  {
   "cell_type": "markdown",
   "metadata": {
    "editable": true,
    "slideshow": {
     "slide_type": "skip"
    },
    "tags": [
     "blank"
    ]
   },
   "source": [
    "<p style=\"height:5em;\"></p>"
   ]
  },
  {
   "cell_type": "code",
   "execution_count": 23,
   "metadata": {
    "editable": true,
    "slideshow": {
     "slide_type": ""
    },
    "tags": [
     "worksheet-code-only"
    ]
   },
   "outputs": [
    {
     "name": "stdout",
     "output_type": "stream",
     "text": [
      "['b', 'd']\n",
      "{'a': [1, 2], 'b': [0, 1, 2], 'c': [0, 2]}\n"
     ]
    }
   ],
   "source": [
    "def remove(lst, dct):\n",
    "    i = 0\n",
    "    while i < len(lst):\n",
    "        if lst[i] in dct:\n",
    "            dct[lst[i]].remove(i)\n",
    "            del lst[i]\n",
    "        i += 1\n",
    "\n",
    "def main() -> None:\n",
    "    lst1 = ['a', 'b', 'c', 'd']\n",
    "    dct1 = {'a': [0, 1, 2], 'b': [0, 1, 2], 'c': [0, 1, 2]}\n",
    "    remove(lst1, dct1)\n",
    "    print(lst1)\n",
    "    print(dct1)\n",
    "\n",
    "main()"
   ]
  },
  {
   "cell_type": "markdown",
   "metadata": {
    "editable": true,
    "slideshow": {
     "slide_type": "skip"
    },
    "tags": [
     "blank"
    ]
   },
   "source": [
    "<p style=\"height:12em;\"></p>"
   ]
  },
  {
   "cell_type": "code",
   "execution_count": 24,
   "metadata": {
    "editable": true,
    "slideshow": {
     "slide_type": ""
    },
    "tags": [
     "worksheet-code-only"
    ]
   },
   "outputs": [
    {
     "name": "stdout",
     "output_type": "stream",
     "text": [
      "{'a': 'b', 'c': 'd', 'e': 'b'}\n",
      "{'b': 'e', 'd': 'c'}\n",
      "{'e': 'b', 'c': 'd'}\n"
     ]
    }
   ],
   "source": [
    "def flip(dct1):\n",
    "    dct2 = {}\n",
    "    for i in dct1:\n",
    "        dct2[dct1[i]] = i\n",
    "    return dct2\n",
    "\n",
    "def main() -> None:\n",
    "    dctA = {'a': 'b', 'c': 'd', 'e': 'b'}\n",
    "    dctB = flip(dctA)\n",
    "    print(dctA)\n",
    "    print(dctB)\n",
    "    dctC = flip(dctB)\n",
    "    print(dctC)\n",
    "\n",
    "main()"
   ]
  },
  {
   "cell_type": "markdown",
   "metadata": {
    "editable": true,
    "slideshow": {
     "slide_type": "skip"
    },
    "tags": [
     "blank"
    ]
   },
   "source": [
    "<p style=\"height:13em;\"></p>"
   ]
  },
  {
   "cell_type": "markdown",
   "metadata": {
    "editable": true,
    "slideshow": {
     "slide_type": ""
    },
    "tags": []
   },
   "source": [
    "## Practice writing code with strings"
   ]
  },
  {
   "cell_type": "markdown",
   "metadata": {
    "editable": true,
    "slideshow": {
     "slide_type": "slide"
    },
    "tags": [
     "question"
    ]
   },
   "source": [
    "_Write a function called `emphasize_vowels` that makes all vowels in a string uppercase. For example:_\n",
    "* `emphasize_vowels('Spring')` should return `SprIng`\n",
    "* `emphasize_vowels('break')` should return `brEAk`"
   ]
  },
  {
   "cell_type": "code",
   "execution_count": 8,
   "metadata": {
    "editable": true,
    "slideshow": {
     "slide_type": "skip"
    },
    "tags": [
     "answer"
    ]
   },
   "outputs": [],
   "source": [
    "def emphasize_vowels(phrase):\n",
    "    \"\"\"Make all vowels in phrase uppercase\n",
    "    \n",
    "    >>> emphasize_vowels('Spring')\n",
    "    'SprIng'\n",
    "    >>> emphasize_vowels('break')\n",
    "    'brEAk'\n",
    "    \"\"\"\n",
    "    new = \"\"\n",
    "    for c in phrase:\n",
    "        if c in \"aeiou\":\n",
    "            new = new + c.upper()\n",
    "        else:\n",
    "            new = new + c\n",
    "    return new"
   ]
  },
  {
   "cell_type": "markdown",
   "metadata": {
    "editable": true,
    "slideshow": {
     "slide_type": "skip"
    },
    "tags": [
     "blank"
    ]
   },
   "source": [
    "<p style=\"height:25em;\"></p>"
   ]
  },
  {
   "cell_type": "markdown",
   "metadata": {
    "editable": true,
    "slideshow": {
     "slide_type": "subslide"
    },
    "tags": [
     "question"
    ]
   },
   "source": [
    "_Write a function called `find_reverse` that takes a phrase and a word and returns True if the word appears backwards in the phrase. For example:_\n",
    "* `find_reverse('the tab was upside down', 'bat')` should return `True`\n",
    "* `find_reverse('the tab was upside down', 'tab')` should return `False`\n",
    "* `find_reverse('the tab was upside down', 'saw') `should return `True`"
   ]
  },
  {
   "cell_type": "code",
   "execution_count": 9,
   "metadata": {
    "editable": true,
    "slideshow": {
     "slide_type": "skip"
    },
    "tags": [
     "answer"
    ]
   },
   "outputs": [],
   "source": [
    "def find_reverse(phrase, word):\n",
    "    \"\"\"Determines if word appears backwards in phrase\n",
    "    \n",
    "    >>> find_reverse('the tab was upside down', 'bat')\n",
    "    True\n",
    "    >>> find_reverse('the tab was upside down', 'tab')\n",
    "    False\n",
    "    >>> find_reverse('the tab was upside down', 'saw')\n",
    "    True\n",
    "    \"\"\"\n",
    "    reverse = \"\"\n",
    "    for char in word:\n",
    "        reverse = char + reverse\n",
    "    return reverse in phrase"
   ]
  },
  {
   "cell_type": "markdown",
   "metadata": {
    "editable": true,
    "slideshow": {
     "slide_type": "skip"
    },
    "tags": [
     "blank"
    ]
   },
   "source": [
    "<p style=\"height:25em;\"></p>"
   ]
  },
  {
   "cell_type": "markdown",
   "metadata": {
    "editable": true,
    "slideshow": {
     "slide_type": ""
    },
    "tags": [
     "question"
    ]
   },
   "source": [
    "_Write a function called `appears_both` that takes a phrase and a word and returns True if any words in the phrase appear both forward and backwards. You must use the `find_reverse` function. For example:_\n",
    "* `appears_both('he was using the saw')` should return `True` because `saw` and `was` appear in the sentence\n",
    "* `appears_both('the tab was upside down')` should return `False`"
   ]
  },
  {
   "cell_type": "code",
   "execution_count": 17,
   "metadata": {
    "editable": true,
    "slideshow": {
     "slide_type": "skip"
    },
    "tags": [
     "answer"
    ]
   },
   "outputs": [],
   "source": [
    "def appears_both(phrase):\n",
    "    \"\"\"Checks if any words in phrase appear both forward and backward\n",
    "    \n",
    "    >>> appears_both('he was using the saw')\n",
    "    True\n",
    "    >>> appears_both('the tab was upside down')\n",
    "    False\n",
    "    \"\"\"\n",
    "    phrase = phrase + \" \"\n",
    "    word = \"\"\n",
    "    for char in phrase:\n",
    "        if char == \" \":\n",
    "            if find_reverse(phrase, word):\n",
    "                return True\n",
    "            word = \"\"\n",
    "        else:\n",
    "            word = word + char\n",
    "    return False"
   ]
  },
  {
   "cell_type": "markdown",
   "metadata": {
    "editable": true,
    "slideshow": {
     "slide_type": "skip"
    },
    "tags": [
     "blank"
    ]
   },
   "source": [
    "<p style=\"height:20em;\"></p>"
   ]
  },
  {
   "cell_type": "markdown",
   "metadata": {
    "editable": true,
    "slideshow": {
     "slide_type": ""
    },
    "tags": []
   },
   "source": [
    "## Practice writing code with lists and files"
   ]
  },
  {
   "cell_type": "markdown",
   "metadata": {
    "editable": true,
    "slideshow": {
     "slide_type": "slide"
    },
    "tags": [
     "question"
    ]
   },
   "source": [
    "Assume the file `dimensions.csv` contains the following data:\n",
    "```\n",
    "sport,type,width,length\n",
    "football,field,160,360\n",
    "basketball,court,50,94\n",
    "soccer,field,210,330\n",
    "hockey,rink,85,200\n",
    "tennis,court,27,78\n",
    "squash,court,21,32\n",
    "baseball,field,325,325\n",
    "rugby,field,226,360\n",
    "curling,rink,15,148\n",
    "```"
   ]
  },
  {
   "cell_type": "code",
   "execution_count": 13,
   "metadata": {
    "editable": true,
    "slideshow": {
     "slide_type": "skip"
    },
    "tags": [
     "colab-only"
    ]
   },
   "outputs": [],
   "source": [
    "# Run this code cell to create dimensions.csv\n",
    "with open('dimensions.csv', 'w') as dimensions:\n",
    "    dimensions.write(\"sport,type,width,length\\nfootball,field,160,360\\nbasketball,court,50,94\\nsoccer,field,210,330\\nhockey,rink,85,200\\ntennis,court,27,78\\nsquash,court,21,32\\nbaseball,field,325,325\\nrugby,field,226,360\\ncurling,rink,15,148\\n\")"
   ]
  },
  {
   "cell_type": "markdown",
   "metadata": {
    "editable": true,
    "slideshow": {
     "slide_type": ""
    },
    "tags": [
     "question"
    ]
   },
   "source": [
    "*Write a program that prints out the names of the columns contained in `dimensions.csv`.*"
   ]
  },
  {
   "cell_type": "code",
   "execution_count": 14,
   "metadata": {
    "editable": true,
    "slideshow": {
     "slide_type": "skip"
    },
    "tags": [
     "answer"
    ]
   },
   "outputs": [
    {
     "name": "stdout",
     "output_type": "stream",
     "text": [
      "sport\n",
      "type\n",
      "width\n",
      "length\n",
      "\n"
     ]
    }
   ],
   "source": [
    "def main() -> None:\n",
    "    infile = open('dimensions.csv', 'r')\n",
    "    first = infile.readline()\n",
    "    columns = first.split(',')\n",
    "    for column in columns:\n",
    "        print(column)\n",
    "    infile.close()\n",
    "\n",
    "main()"
   ]
  },
  {
   "cell_type": "markdown",
   "metadata": {
    "editable": true,
    "slideshow": {
     "slide_type": "skip"
    },
    "tags": [
     "blank"
    ]
   },
   "source": [
    "<p style=\"height:15em;\"></p>"
   ]
  },
  {
   "cell_type": "markdown",
   "metadata": {
    "editable": true,
    "slideshow": {
     "slide_type": "subslide"
    },
    "tags": [
     "question"
    ]
   },
   "source": [
    "*Write a function called `get_sports` that returns a list of the names of the sports contained in `dimensions.csv` **sorted** in alphabetical order.*"
   ]
  },
  {
   "cell_type": "code",
   "execution_count": 15,
   "metadata": {
    "editable": true,
    "slideshow": {
     "slide_type": "skip"
    },
    "tags": [
     "answer"
    ]
   },
   "outputs": [],
   "source": [
    "def get_sports():\n",
    "    '''\n",
    "    >>> get_sports()\n",
    "    ['baseball', 'basketball', 'curling', 'football', 'hockey', 'rugby', 'soccer', 'squash', 'tennis']\n",
    "    '''\n",
    "    infile = open('dimensions.csv', 'r')\n",
    "    infile.readline()\n",
    "    sports = []\n",
    "    for line in infile:\n",
    "        values = line.split(',')\n",
    "        sports = sports + [values[0]]\n",
    "    infile.close()\n",
    "    sports.sort()\n",
    "    return sports"
   ]
  },
  {
   "cell_type": "markdown",
   "metadata": {
    "editable": true,
    "slideshow": {
     "slide_type": "skip"
    },
    "tags": [
     "blank"
    ]
   },
   "source": [
    "<p style=\"height:30em;\"></p>"
   ]
  },
  {
   "cell_type": "markdown",
   "metadata": {
    "editable": true,
    "slideshow": {
     "slide_type": "fragment"
    },
    "tags": [
     "question"
    ]
   },
   "source": [
    "*Write a program that prints out the sport name and playing surface dimensions for each sport in `dimensions.csv` whose playing surface is called a \"court\".*"
   ]
  },
  {
   "cell_type": "code",
   "execution_count": 16,
   "metadata": {
    "editable": true,
    "slideshow": {
     "slide_type": "skip"
    },
    "tags": [
     "answer"
    ]
   },
   "outputs": [
    {
     "name": "stdout",
     "output_type": "stream",
     "text": [
      "basketball 50 x 94\n",
      "tennis 27 x 78\n",
      "squash 21 x 32\n"
     ]
    }
   ],
   "source": [
    "def main() -> None:\n",
    "    with open('dimensions.csv', 'r') as infile:\n",
    "        infile.readline()\n",
    "        for line in infile:\n",
    "            values = line.strip().split(',')\n",
    "            if (values[1] == \"court\"):\n",
    "                print(values[0],values[2],'x',values[3])\n",
    "    \n",
    "main()"
   ]
  },
  {
   "cell_type": "markdown",
   "metadata": {
    "editable": true,
    "slideshow": {
     "slide_type": "skip"
    },
    "tags": [
     "blank"
    ]
   },
   "source": [
    "<p style=\"height:28em;\"></p>"
   ]
  },
  {
   "cell_type": "markdown",
   "metadata": {
    "editable": true,
    "slideshow": {
     "slide_type": "fragment"
    },
    "tags": [
     "question"
    ]
   },
   "source": [
    "*Write a function called `get_types` that returns a list of the playing surface types contained in `dimensions.csv`. Each surface type should only be inclued in the list once, even if appears in `dimensions.csv` multiple times.*"
   ]
  },
  {
   "cell_type": "code",
   "execution_count": 14,
   "metadata": {
    "editable": true,
    "slideshow": {
     "slide_type": "skip"
    },
    "tags": [
     "answer"
    ]
   },
   "outputs": [],
   "source": [
    "def get_types():\n",
    "    '''\n",
    "    >>> get_types()\n",
    "    ['field', 'court', 'rink']\n",
    "    '''\n",
    "    infile = open('dimensions.csv', 'r')\n",
    "    infile.readline()\n",
    "    types = []\n",
    "    for line in infile:\n",
    "        values = line.split(',')\n",
    "        if values[1] not in types:\n",
    "            types = types + [values[1]]\n",
    "    infile.close()\n",
    "    return types"
   ]
  },
  {
   "cell_type": "markdown",
   "metadata": {
    "editable": true,
    "slideshow": {
     "slide_type": "skip"
    },
    "tags": [
     "blank"
    ]
   },
   "source": [
    "<p style=\"height:20em;\"></p>"
   ]
  },
  {
   "cell_type": "markdown",
   "metadata": {
    "editable": true,
    "slideshow": {
     "slide_type": "fragment"
    },
    "tags": [
     "question"
    ]
   },
   "source": [
    "*Write a program that creates a new comma-separated variable (CSV) file called `areas.csv` that contains the sport name and area of the playing surface for each sport in `dimensions.csv`.*"
   ]
  },
  {
   "cell_type": "code",
   "execution_count": 17,
   "metadata": {
    "editable": true,
    "slideshow": {
     "slide_type": "skip"
    },
    "tags": [
     "answer"
    ]
   },
   "outputs": [],
   "source": [
    "def main() -> None:\n",
    "    infile = open('dimensions.csv', 'r')\n",
    "    outfile = open('areas.csv', 'w')\n",
    "    infile.readline()\n",
    "    for line in infile:\n",
    "        values = line.strip().split(',')\n",
    "        area = int(values[2]) * int(values[3])\n",
    "        outfile.write(values[0]+\",\"+str(area)+\"\\n\")\n",
    "    infile.close()\n",
    "    outfile.close()\n",
    "\n",
    "main()"
   ]
  },
  {
   "cell_type": "markdown",
   "metadata": {
    "editable": true,
    "slideshow": {
     "slide_type": "skip"
    },
    "tags": [
     "blank"
    ]
   },
   "source": [
    "<p style=\"height:20em;\"></p>"
   ]
  },
  {
   "cell_type": "markdown",
   "metadata": {
    "editable": true,
    "slideshow": {
     "slide_type": "fragment"
    },
    "tags": [
     "question"
    ]
   },
   "source": [
    "*Write a program that prints out the name of each of the sports contained in `dimensions.csv`.*"
   ]
  },
  {
   "cell_type": "code",
   "execution_count": 18,
   "metadata": {
    "editable": true,
    "slideshow": {
     "slide_type": "skip"
    },
    "tags": [
     "answer"
    ]
   },
   "outputs": [
    {
     "name": "stdout",
     "output_type": "stream",
     "text": [
      "football\n",
      "basketball\n",
      "soccer\n",
      "hockey\n",
      "tennis\n",
      "squash\n",
      "baseball\n",
      "rugby\n",
      "curling\n"
     ]
    }
   ],
   "source": [
    "def main() -> None:\n",
    "    infile = open('dimensions.csv', 'r')\n",
    "    infile.readline()\n",
    "    for line in infile:\n",
    "        values = line.split(',')\n",
    "        print(values[0])\n",
    "    infile.close()\n",
    "\n",
    "main()"
   ]
  },
  {
   "cell_type": "markdown",
   "metadata": {
    "editable": true,
    "slideshow": {
     "slide_type": "skip"
    },
    "tags": [
     "blank"
    ]
   },
   "source": [
    "<p style=\"height:10em;\"></p>"
   ]
  },
  {
   "cell_type": "code",
   "execution_count": 19,
   "metadata": {
    "editable": true,
    "slideshow": {
     "slide_type": "skip"
    },
    "tags": [
     "colab-only"
    ]
   },
   "outputs": [
    {
     "name": "stdout",
     "output_type": "stream",
     "text": [
      "Trying:\n",
      "    get_sports()\n",
      "Expecting:\n",
      "    ['baseball', 'basketball', 'curling', 'football', 'hockey', 'rugby', 'soccer', 'squash', 'tennis']\n",
      "ok\n",
      "4 items had no tests:\n",
      "    __main__\n",
      "    __main__.magic\n",
      "    __main__.main\n",
      "    __main__.mystery\n",
      "1 items passed all tests:\n",
      "   1 tests in __main__.get_sports\n",
      "1 tests in 5 items.\n",
      "1 passed and 0 failed.\n",
      "Test passed.\n"
     ]
    },
    {
     "data": {
      "text/plain": [
       "TestResults(failed=0, attempted=1)"
      ]
     },
     "execution_count": 19,
     "metadata": {},
     "output_type": "execute_result"
    }
   ],
   "source": [
    "import doctest\n",
    "doctest.testmod(verbose=True)"
   ]
  }
 ],
 "metadata": {
  "celltoolbar": "Tags",
  "kernelspec": {
   "display_name": "Python 3 (ipykernel)",
   "language": "python",
   "name": "python3"
  },
  "language_info": {
   "codemirror_mode": {
    "name": "ipython",
    "version": 3
   },
   "file_extension": ".py",
   "mimetype": "text/x-python",
   "name": "python",
   "nbconvert_exporter": "python",
   "pygments_lexer": "ipython3",
   "version": "3.9.6"
  }
 },
 "nbformat": 4,
 "nbformat_minor": 4
}
