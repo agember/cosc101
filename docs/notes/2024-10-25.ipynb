{
 "cells": [
  {
   "cell_type": "markdown",
   "id": "559c9099-9563-4730-ac81-f2f47b4f83d2",
   "metadata": {
    "editable": true,
    "slideshow": {
     "slide_type": "skip"
    },
    "tags": []
   },
   "source": [
    "# Review: Exam 2\n",
    "_COSC 101, Introduction to Computing I, 2024-10-25_"
   ]
  },
  {
   "cell_type": "markdown",
   "id": "72dc4296-a9cf-46de-9474-e4f90aef7000",
   "metadata": {
    "editable": true,
    "slideshow": {
     "slide_type": "skip"
    },
    "tags": []
   },
   "source": [
    "## Announcements\n",
    "* Exam 2 in class on Monday\n",
    "    * Combination of code reading and code writing\n",
    "    * Emphasizes conditional statements and while loops – still includes material covered earlier\n",
    "    * Study by solving problems (all linked from Moodle): in-class worksheets; Prof. Davis' class worksheets; exam 2 practice problems"
   ]
  },
  {
   "cell_type": "markdown",
   "id": "233f1dc9-0283-4245-9309-68639ee69967",
   "metadata": {
    "editable": true,
    "slideshow": {
     "slide_type": "slide"
    },
    "tags": []
   },
   "source": [
    "## Code tracing"
   ]
  },
  {
   "cell_type": "markdown",
   "id": "8da4f3f3-981c-4c74-aee7-8d938ca84654",
   "metadata": {
    "editable": true,
    "slideshow": {
     "slide_type": ""
    },
    "tags": [
     "question"
    ]
   },
   "source": [
    "_What output is produced by the following function for each of the calls below?_"
   ]
  },
  {
   "cell_type": "code",
   "execution_count": 9,
   "id": "1f646394-f8ad-4bae-bcf6-5ac9ba803c0e",
   "metadata": {
    "editable": true,
    "slideshow": {
     "slide_type": ""
    },
    "tags": [
     "question"
    ]
   },
   "outputs": [],
   "source": [
    "def mystery(a: int, b: float, c: str) -> None:\n",
    "    if (a > 10):\n",
    "        if (b > 10 and a <= 15):\n",
    "            print('1')\n",
    "        else:\n",
    "            print('2')\n",
    "        print('12')\n",
    "    elif (a < 5):\n",
    "        if (c == 'cat'):\n",
    "            print('3')\n",
    "    else:\n",
    "        print('45')\n",
    "        if (c == 'dog' or b > 10):\n",
    "            print ('4')\n",
    "        else:\n",
    "            print('5')"
   ]
  },
  {
   "cell_type": "code",
   "execution_count": 10,
   "id": "5caa0c7b-bc70-4972-83e4-37e56b4d9de2",
   "metadata": {
    "editable": true,
    "slideshow": {
     "slide_type": ""
    },
    "tags": [
     "worksheet-code-only"
    ]
   },
   "outputs": [
    {
     "name": "stdout",
     "output_type": "stream",
     "text": [
      "2\n",
      "12\n"
     ]
    }
   ],
   "source": [
    "mystery(11, 9, \"cat\")"
   ]
  },
  {
   "cell_type": "markdown",
   "id": "4ede60a2-2832-458b-a91f-681dcbdcc054",
   "metadata": {
    "editable": true,
    "slideshow": {
     "slide_type": ""
    },
    "tags": [
     "blank"
    ]
   },
   "source": [
    "```\n",
    "\n",
    "```"
   ]
  },
  {
   "cell_type": "code",
   "execution_count": 11,
   "id": "373454ad-0afe-49af-9cff-bf9a7e8a0f37",
   "metadata": {
    "editable": true,
    "slideshow": {
     "slide_type": ""
    },
    "tags": [
     "worksheet-code-only"
    ]
   },
   "outputs": [
    {
     "name": "stdout",
     "output_type": "stream",
     "text": [
      "45\n",
      "4\n"
     ]
    }
   ],
   "source": [
    "mystery(10, 11, \"dog\")"
   ]
  },
  {
   "cell_type": "markdown",
   "id": "8e6b70f4-6e4e-45e1-b093-19ab8e34b19e",
   "metadata": {
    "editable": true,
    "slideshow": {
     "slide_type": ""
    },
    "tags": [
     "blank"
    ]
   },
   "source": [
    "```\n",
    "\n",
    "```"
   ]
  },
  {
   "cell_type": "code",
   "execution_count": 12,
   "id": "be05ec3d-444f-46ae-95a3-05ab120a1150",
   "metadata": {
    "editable": true,
    "slideshow": {
     "slide_type": ""
    },
    "tags": [
     "worksheet-code-only"
    ]
   },
   "outputs": [],
   "source": [
    "mystery(4, 11, \"dog\")"
   ]
  },
  {
   "cell_type": "markdown",
   "id": "bb5042b1-47b2-4a88-affd-51e156553e0d",
   "metadata": {
    "editable": true,
    "slideshow": {
     "slide_type": ""
    },
    "tags": [
     "answer"
    ]
   },
   "source": [
    "_No output_"
   ]
  },
  {
   "cell_type": "markdown",
   "id": "9ca4cd5d-6131-416a-ad10-c35d0da59076",
   "metadata": {
    "editable": true,
    "slideshow": {
     "slide_type": ""
    },
    "tags": [
     "blank"
    ]
   },
   "source": [
    "```\n",
    "\n",
    "```"
   ]
  },
  {
   "cell_type": "code",
   "execution_count": 13,
   "id": "829ac6a2-1e57-422b-b247-c911ab038c2b",
   "metadata": {
    "editable": true,
    "slideshow": {
     "slide_type": ""
    },
    "tags": [
     "worksheet-code-only"
    ]
   },
   "outputs": [
    {
     "name": "stdout",
     "output_type": "stream",
     "text": [
      "45\n",
      "4\n"
     ]
    }
   ],
   "source": [
    "mystery(7, 15, \"cat\")"
   ]
  },
  {
   "cell_type": "markdown",
   "id": "d0855db1-d502-4ed4-942f-e73f988e5ec4",
   "metadata": {
    "editable": true,
    "slideshow": {
     "slide_type": ""
    },
    "tags": [
     "blank"
    ]
   },
   "source": [
    "```\n",
    "\n",
    "```"
   ]
  },
  {
   "cell_type": "markdown",
   "id": "e8d48d0e-bb90-4aae-aed1-55ab4b86e0be",
   "metadata": {
    "editable": true,
    "slideshow": {
     "slide_type": ""
    },
    "tags": [
     "question"
    ]
   },
   "source": [
    "_What does the following function output for each of the calls below?_"
   ]
  },
  {
   "cell_type": "code",
   "execution_count": 94,
   "id": "3e51869a-ccb4-42de-83af-7903824aef24",
   "metadata": {
    "editable": true,
    "slideshow": {
     "slide_type": ""
    },
    "tags": [
     "question"
    ]
   },
   "outputs": [],
   "source": [
    "def magic(a: int, b: int) -> None:\n",
    "    c = b * b\n",
    "    while (a > b):\n",
    "        print(a, c)\n",
    "        c = a % c\n",
    "        a = a - 1\n",
    "    print(a + c)"
   ]
  },
  {
   "cell_type": "code",
   "execution_count": 95,
   "id": "fdb0bc7d-65e6-41fa-9cf2-b79316d5c8d5",
   "metadata": {
    "editable": true,
    "slideshow": {
     "slide_type": ""
    },
    "tags": [
     "worksheet-code-only"
    ]
   },
   "outputs": [
    {
     "name": "stdout",
     "output_type": "stream",
     "text": [
      "6 9\n",
      "5 6\n",
      "4 5\n",
      "7\n"
     ]
    }
   ],
   "source": [
    "magic(6, 3)"
   ]
  },
  {
   "cell_type": "markdown",
   "id": "5a5fdbd1-5eea-49b6-b1f6-8e1d106ea3f2",
   "metadata": {
    "editable": true,
    "slideshow": {
     "slide_type": ""
    },
    "tags": [
     "blank"
    ]
   },
   "source": [
    "```\n",
    "\n",
    "\n",
    "\n",
    "\n",
    "\n",
    "\n",
    "\n",
    "\n",
    "\n",
    "```"
   ]
  },
  {
   "cell_type": "code",
   "execution_count": 96,
   "id": "4615cf04-4a71-47d5-9356-05b7a3362faa",
   "metadata": {
    "editable": true,
    "slideshow": {
     "slide_type": ""
    },
    "tags": [
     "worksheet-code-only"
    ]
   },
   "outputs": [
    {
     "name": "stdout",
     "output_type": "stream",
     "text": [
      "10 25\n",
      "9 10\n",
      "8 9\n",
      "7 8\n",
      "6 7\n",
      "11\n"
     ]
    }
   ],
   "source": [
    "magic(10, 5)"
   ]
  },
  {
   "cell_type": "markdown",
   "id": "645db58d-1f33-4817-b46c-73d21afef983",
   "metadata": {
    "editable": true,
    "slideshow": {
     "slide_type": ""
    },
    "tags": [
     "blank"
    ]
   },
   "source": [
    "```\n",
    "\n",
    "\n",
    "\n",
    "\n",
    "\n",
    "\n",
    "\n",
    "\n",
    "\n",
    "\n",
    "```"
   ]
  },
  {
   "cell_type": "code",
   "execution_count": 97,
   "id": "18ed358d-408d-4b94-b746-1f2380bf989b",
   "metadata": {
    "editable": true,
    "slideshow": {
     "slide_type": ""
    },
    "tags": [
     "worksheet-code-only"
    ]
   },
   "outputs": [
    {
     "name": "stdout",
     "output_type": "stream",
     "text": [
      "28\n"
     ]
    }
   ],
   "source": [
    "magic(3, 5)"
   ]
  },
  {
   "cell_type": "markdown",
   "id": "e4dd649e-1088-4209-875b-fcd6e458063c",
   "metadata": {
    "editable": true,
    "slideshow": {
     "slide_type": ""
    },
    "tags": [
     "blank"
    ]
   },
   "source": [
    "```\n",
    "\n",
    "\n",
    "\n",
    "\n",
    "\n",
    "\n",
    "\n",
    "\n",
    "\n",
    "\n",
    "```"
   ]
  },
  {
   "cell_type": "markdown",
   "id": "3cdffa2a-b3cc-4cbf-91d2-325f7abdda77",
   "metadata": {
    "editable": true,
    "slideshow": {
     "slide_type": "slide"
    },
    "tags": []
   },
   "source": [
    "## Writing code"
   ]
  },
  {
   "cell_type": "markdown",
   "id": "578d31d8-3287-4e56-bf59-2c90281ea807",
   "metadata": {
    "editable": true,
    "slideshow": {
     "slide_type": ""
    },
    "tags": [
     "question"
    ]
   },
   "source": [
    "_Write a program that asks for a day in October and prints:_\n",
    "\n",
    "* _\"Diwali\" if the day is 31_\n",
    "* _\"Fire Prevention Week\" if the day is between 6 and 12 (inclusive)_\n",
    "* _\"Halloween” if the day is 31_\n",
    "* _\"Hispanic Heritage Month\" if the day is between 1 and 15 (inclusive)_\n",
    "* _\"Indigenous Peoples' Day” if the day is 14_\n",
    "* _\"World Mental Health Day\" if the day is 10_\n",
    "\n",
    "_The celebrations **must** be printed in alphabetical order._"
   ]
  },
  {
   "cell_type": "code",
   "execution_count": null,
   "id": "c2baf6ae-9867-4261-bc27-ef93a355fa6b",
   "metadata": {
    "editable": true,
    "slideshow": {
     "slide_type": ""
    },
    "tags": [
     "answer"
    ]
   },
   "outputs": [],
   "source": [
    "def main() -> None:\n",
    "    day = int(input('Day in October? '))\n",
    "    \n",
    "    if (day <= 15):\n",
    "        if (day >= 6 and day <= 12):\n",
    "            print(\"Fire Prevention Week\")\n",
    "        print(\"Hispanic Heritage Month\")\n",
    "        if (day == 14):\n",
    "            print(\"Indigenous Peoples' Day\")\n",
    "        elif (day == 10):\n",
    "            print(\"World Mental Health Day\")\n",
    "    elif (day == 31):\n",
    "        print(\"Halloween\")\n",
    "        print(\"Diwali\")\n",
    "main()"
   ]
  },
  {
   "cell_type": "markdown",
   "id": "b85a555a-baa9-450a-9863-4834f8cca8df",
   "metadata": {
    "editable": true,
    "slideshow": {
     "slide_type": ""
    },
    "tags": [
     "blank"
    ]
   },
   "source": [
    "```\n",
    "\n",
    "\n",
    "\n",
    "\n",
    "\n",
    "\n",
    "\n",
    "\n",
    "\n",
    "\n",
    "\n",
    "\n",
    "\n",
    "\n",
    "\n",
    "\n",
    "\n",
    "\n",
    "```"
   ]
  },
  {
   "cell_type": "markdown",
   "id": "d6c2f927-f587-4cfc-b433-a5288346f6f1",
   "metadata": {
    "editable": true,
    "slideshow": {
     "slide_type": ""
    },
    "tags": []
   },
   "source": [
    "_Write a program that asks a user to enter words (one word at a time) until they have entered at least 15 characters. Words less than 3 characters should be ignored. The program should output the average length of the words the user entered._"
   ]
  },
  {
   "cell_type": "code",
   "execution_count": null,
   "id": "85d3649b-4d34-4b25-8470-69ec1eeaebeb",
   "metadata": {
    "editable": true,
    "slideshow": {
     "slide_type": ""
    },
    "tags": [
     "answer"
    ]
   },
   "outputs": [],
   "source": [
    "def main() -> None:\n",
    "    chars = 0\n",
    "    count = 0\n",
    "    while (chars < 15):\n",
    "        word = input(\"Word: \")\n",
    "        if len(word) >= 3:\n",
    "            chars += len(word)\n",
    "            count += 1\n",
    "    print(\"Average: \", chars / count)\n",
    "main()"
   ]
  },
  {
   "cell_type": "markdown",
   "id": "9818640f-b1ef-4778-b1f7-daa13cd15b55",
   "metadata": {
    "editable": true,
    "slideshow": {
     "slide_type": ""
    },
    "tags": [
     "blank"
    ]
   },
   "source": [
    "```\n",
    "\n",
    "\n",
    "\n",
    "\n",
    "\n",
    "\n",
    "\n",
    "\n",
    "\n",
    "\n",
    "\n",
    "\n",
    "\n",
    "\n",
    "\n",
    "\n",
    "```"
   ]
  },
  {
   "cell_type": "markdown",
   "id": "3de58d7b-4c6c-432b-8f0f-b466b0af2d95",
   "metadata": {
    "editable": true,
    "slideshow": {
     "slide_type": ""
    },
    "tags": [
     "question"
    ]
   },
   "source": [
    "_Write a function called `pete_and_repeat` that asks the user the following riddle: `Pete and Repeat were in a boat. Pete fell out, who was left?` If the user enters (`Repeat`), then the program should again ask the user to answer the riddle. If the user enters something else, then the program should print (`Wrong answer`) and again ask the user to answer the riddle._\n",
    "\n",
    "_Example output:_\n",
    "```\n",
    "Pete and Repeat were in a boat. Pete fell out, who was left? Repeat\n",
    "Pete and Repeat were in a boat. Pete fell out, who was left? Repeat\n",
    "Pete and Repeat were in a boat. Pete fell out, who was left? Pete\n",
    "Wrong answer\n",
    "Pete and Repeat were in a boat. Pete fell out, who was left? Repeat\n",
    "...\n",
    "```"
   ]
  },
  {
   "cell_type": "code",
   "execution_count": null,
   "id": "ccd66982-44a3-4fa3-b300-d2a1e87b3b40",
   "metadata": {
    "editable": true,
    "slideshow": {
     "slide_type": ""
    },
    "tags": [
     "answer"
    ]
   },
   "outputs": [],
   "source": [
    "def pete_and_repeat():\n",
    "    answer = \"\"\n",
    "    while answer == \"Repeat\" or answer != \"Repeat\":\n",
    "        answer = input(\"Pete and Repeat were in a boat. Pete fell out, who was left? \")\n",
    "        if answer != \"Repeat\":\n",
    "            print(\"Wrong answer\")\n",
    "pete_and_repeat()"
   ]
  },
  {
   "cell_type": "markdown",
   "id": "fb96deee-0231-4835-bea4-ec871760ae42",
   "metadata": {
    "editable": true,
    "slideshow": {
     "slide_type": ""
    },
    "tags": [
     "blank"
    ]
   },
   "source": [
    "```\n",
    "\n",
    "\n",
    "\n",
    "\n",
    "\n",
    "\n",
    "\n",
    "\n",
    "\n",
    "\n",
    "\n",
    "```"
   ]
  },
  {
   "cell_type": "markdown",
   "id": "40cf8b10-6101-4db7-b9e3-ff45dcaa4661",
   "metadata": {
    "editable": true,
    "slideshow": {
     "slide_type": ""
    },
    "tags": [
     "question"
    ]
   },
   "source": [
    "_The value of the mathematical constant pi (π) can be estimed using the Madhava-Leibniz series:_\n",
    "```\n",
    "π = 4/1 - 4/3 + 4/5 - 4/7 + 4/9 - 4/11 ...\n",
    "```\n",
    "_Write a function called `estimate_pi` that uses the Madhava_Leibniz series to estimate pi until the estimate rounded to two decimal digits is `3.14`._"
   ]
  },
  {
   "cell_type": "code",
   "execution_count": 1,
   "id": "95afc75a-ddb9-4541-bbd7-bd81aaf680f8",
   "metadata": {
    "editable": true,
    "slideshow": {
     "slide_type": ""
    },
    "tags": [
     "answer"
    ]
   },
   "outputs": [],
   "source": [
    "def estimate_pi():\n",
    "    \"\"\"\n",
    "    >>> estimate_pi()\n",
    "    3.1350137774059244\n",
    "    \"\"\"\n",
    "    add = True\n",
    "    estimate = 0.0\n",
    "    i = 1\n",
    "    while round(estimate, 2) != 3.14:\n",
    "        if add:\n",
    "            estimate = estimate + 4/i\n",
    "            add = False\n",
    "        else:\n",
    "            estimate = estimate - 4/i\n",
    "            add = True\n",
    "        i = i + 2\n",
    "    return estimate"
   ]
  },
  {
   "cell_type": "markdown",
   "id": "b653b179-54fe-4646-b987-3d8da34e9def",
   "metadata": {
    "editable": true,
    "slideshow": {
     "slide_type": ""
    },
    "tags": [
     "worksheet-only"
    ]
   },
   "source": [
    "```\n",
    "\n",
    "\n",
    "\n",
    "\n",
    "\n",
    "\n",
    "\n",
    "\n",
    "\n",
    "\n",
    "\n",
    "\n",
    "```"
   ]
  },
  {
   "cell_type": "code",
   "execution_count": null,
   "id": "99ed5506-e129-4ae8-92cc-d58b71ff1007",
   "metadata": {
    "editable": true,
    "slideshow": {
     "slide_type": ""
    },
    "tags": []
   },
   "outputs": [],
   "source": []
  }
 ],
 "metadata": {
  "kernelspec": {
   "display_name": "Python 3 (ipykernel)",
   "language": "python",
   "name": "python3"
  },
  "language_info": {
   "codemirror_mode": {
    "name": "ipython",
    "version": 3
   },
   "file_extension": ".py",
   "mimetype": "text/x-python",
   "name": "python",
   "nbconvert_exporter": "python",
   "pygments_lexer": "ipython3",
   "version": "3.9.6"
  }
 },
 "nbformat": 4,
 "nbformat_minor": 5
}
