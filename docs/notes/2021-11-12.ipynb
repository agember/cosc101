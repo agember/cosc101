{
 "cells": [
  {
   "cell_type": "markdown",
   "id": "58d0898d-79e2-4f85-93f0-47035cec0e1e",
   "metadata": {
    "slideshow": {
     "slide_type": "skip"
    },
    "tags": []
   },
   "source": [
    "# exceptions (continued); data analysis\n",
    "_COSC 101, Introduction to Computing I, 2021-11-12_"
   ]
  },
  {
   "cell_type": "markdown",
   "id": "4047d826-0032-4078-bccb-b2df4db8d85c",
   "metadata": {
    "jp-MarkdownHeadingCollapsed": true,
    "slideshow": {
     "slide_type": "skip"
    },
    "tags": []
   },
   "source": [
    "## Announcements\n",
    "* Exam 3 Wednesday\n",
    "    * Study materials posted on Moodle"
   ]
  },
  {
   "cell_type": "markdown",
   "id": "a58968bc-ae59-4c09-8068-fc34f710fb4f",
   "metadata": {
    "slideshow": {
     "slide_type": "skip"
    },
    "tags": [
     "notes-only"
    ]
   },
   "source": [
    "## Outline\n",
    "* Warm-up\n",
    "* Exceptions (continued)"
   ]
  },
  {
   "cell_type": "markdown",
   "id": "c8ebccc6-e835-4b11-809d-b61984fb7468",
   "metadata": {
    "slideshow": {
     "slide_type": "slide"
    },
    "tags": []
   },
   "source": [
    "## Warm-up\n",
    "*Modify the code below such that the `read_data` function returns `None`, instead of causing the program to crash, if the file does not exist*"
   ]
  },
  {
   "cell_type": "code",
   "execution_count": null,
   "id": "e2325dd6-a3b5-4d66-bf6b-d3974cd423e1",
   "metadata": {
    "tags": [
     "worksheet-code-only"
    ]
   },
   "outputs": [],
   "source": [
    "def read_data(filename):\n",
    "    '''Read data from a file'''\n",
    "    infile = open(filename, 'r')\n",
    "    data = infile.read()\n",
    "    infile.close()\n",
    "    return data\n",
    "\n",
    "def main():\n",
    "    data = read_data('seasons.txt')\n",
    "    print(data)\n",
    "    data = read_data('does-not-exist.txt')\n",
    "    print(data)\n",
    "    \n",
    "main()"
   ]
  },
  {
   "cell_type": "code",
   "execution_count": null,
   "id": "6dfa000f-2e25-45eb-a8e5-72c9022c1e81",
   "metadata": {
    "slideshow": {
     "slide_type": "skip"
    },
    "tags": [
     "notes-only"
    ]
   },
   "outputs": [],
   "source": [
    "def read_data(filename):\n",
    "    '''Read data from a file'''\n",
    "    try:\n",
    "        infile = open(filename, 'r')\n",
    "        data = infile.read()\n",
    "        infile.close()\n",
    "        return data\n",
    "    except:\n",
    "        return None\n",
    "\n",
    "def main():\n",
    "    data = read_data('seasons.txt')\n",
    "    print(data)\n",
    "    data = read_data('does-not-exist.txt')\n",
    "    print(data)\n",
    "    \n",
    "main()"
   ]
  }
 ],
 "metadata": {
  "kernelspec": {
   "display_name": "Python 3 (ipykernel)",
   "language": "python",
   "name": "python3"
  },
  "language_info": {
   "codemirror_mode": {
    "name": "ipython",
    "version": 3
   },
   "file_extension": ".py",
   "mimetype": "text/x-python",
   "name": "python",
   "nbconvert_exporter": "python",
   "pygments_lexer": "ipython3",
   "version": "3.8.2"
  }
 },
 "nbformat": 4,
 "nbformat_minor": 5
}
