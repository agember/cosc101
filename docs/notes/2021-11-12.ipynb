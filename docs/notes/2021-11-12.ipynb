{
 "cells": [
  {
   "cell_type": "markdown",
   "id": "58d0898d-79e2-4f85-93f0-47035cec0e1e",
   "metadata": {
    "slideshow": {
     "slide_type": "skip"
    },
    "tags": []
   },
   "source": [
    "# data analysis\n",
    "_COSC 101, Introduction to Computing I, 2021-11-12_"
   ]
  },
  {
   "cell_type": "markdown",
   "id": "4047d826-0032-4078-bccb-b2df4db8d85c",
   "metadata": {
    "jp-MarkdownHeadingCollapsed": true,
    "slideshow": {
     "slide_type": "skip"
    },
    "tags": []
   },
   "source": [
    "## Announcements\n",
    "* Exam 3 Wednesday\n",
    "    * Study materials posted on Moodle"
   ]
  },
  {
   "cell_type": "markdown",
   "id": "a58968bc-ae59-4c09-8068-fc34f710fb4f",
   "metadata": {
    "slideshow": {
     "slide_type": "skip"
    },
    "tags": [
     "notes-only"
    ]
   },
   "source": [
    "## Outline\n",
    "* Warm-up\n",
    "* Reading data"
   ]
  },
  {
   "cell_type": "markdown",
   "id": "c8ebccc6-e835-4b11-809d-b61984fb7468",
   "metadata": {
    "slideshow": {
     "slide_type": "slide"
    },
    "tags": []
   },
   "source": [
    "## Warm-up\n",
    "*Modify the code below such that the `read_data` function returns `None`, instead of causing the program to crash, if the file does not exist*"
   ]
  },
  {
   "cell_type": "code",
   "execution_count": null,
   "id": "e2325dd6-a3b5-4d66-bf6b-d3974cd423e1",
   "metadata": {
    "tags": [
     "worksheet-code-only"
    ]
   },
   "outputs": [],
   "source": [
    "def read_data(filename):\n",
    "    '''Read data from a file'''\n",
    "    infile = open(filename, 'r')\n",
    "    data = infile.read()\n",
    "    infile.close()\n",
    "    return data\n",
    "\n",
    "def main():\n",
    "    data = read_data('seasons.txt')\n",
    "    print(data)\n",
    "    data = read_data('does-not-exist.txt')\n",
    "    print(data)\n",
    "    \n",
    "main()"
   ]
  },
  {
   "cell_type": "code",
   "execution_count": null,
   "id": "6dfa000f-2e25-45eb-a8e5-72c9022c1e81",
   "metadata": {
    "slideshow": {
     "slide_type": "skip"
    },
    "tags": [
     "notes-only"
    ]
   },
   "outputs": [],
   "source": [
    "def read_data(filename):\n",
    "    '''Read data from a file'''\n",
    "    try:\n",
    "        infile = open(filename, 'r')\n",
    "        data = infile.read()\n",
    "        infile.close()\n",
    "        return data\n",
    "    except:\n",
    "        return None\n",
    "\n",
    "def main():\n",
    "    data = read_data('seasons.txt')\n",
    "    print(data)\n",
    "    data = read_data('does-not-exist.txt')\n",
    "    print(data)\n",
    "    \n",
    "main()"
   ]
  },
  {
   "cell_type": "markdown",
   "id": "6fee160e-4776-4fbb-a188-b788ab4260e4",
   "metadata": {
    "slideshow": {
     "slide_type": "slide"
    },
    "tags": []
   },
   "source": [
    "## Reading data\n",
    "\\#1) *Write a function called `load_data` that takes the name of a comma-separated variable (CSV) file and returns a list of lists, where each sublist contains the values from a single row (i.e., line) of the CSV file.*\n",
    "\n",
    "*For example, assume `sample.csv` contains the following:*\n",
    "```Python\n",
    "Apricot,Orange,Fruit\n",
    "Blueberry,Blue,Fruit\n",
    "Carrot,Orange,Vegetable\n",
    "```\n",
    "\n",
    "`load_data('sample.csv')` should return:\n",
    "```Python\n",
    "[['Apricot','Orange','Fruit'], ['Blueberry','Blue','Fruit'], ['Carrot','Orange','Vegetable']]\n",
    "```"
   ]
  },
  {
   "cell_type": "markdown",
   "id": "afeabe41-7d3d-4ae8-802f-873605b801d9",
   "metadata": {
    "slideshow": {
     "slide_type": "slide"
    },
    "tags": []
   },
   "source": [
    "## Filtering data\n",
    "\\#2) *Write a function called `select_columns` which takes a list of lists (as returned by `load_data`), a starting index, and an ending index, and and returns a list of lists in which each sublist only contains the items from the starting index up to (but not including) the ending index.*\n",
    "\n",
    "*For example, assume:*\n",
    "```Python\n",
    "data = [['Apricot','Orange','Fruit'], ['Blueberry','Blue','Fruit'], ['Carrot','Orange','Vegetable']]\n",
    "```\n",
    "\n",
    "*`select_columns(data, 0, 2)` should return:*\n",
    "```Python\n",
    "[['Apricot','Orange'], ['Blueberry','Blue'], ['Carrot','Orange']]\n",
    "```"
   ]
  },
  {
   "cell_type": "markdown",
   "id": "7f955718-1ebe-4b71-9ba9-df1bf96f265d",
   "metadata": {
    "slideshow": {
     "slide_type": "subslide"
    },
    "tags": []
   },
   "source": [
    "\\#3) *Write a function called `select_rows` which takes a list of lists (as returned by `load_data`), a column index, and a desired value, and returns a list of lists which only includes the sublists from the original list of lists that had the specified value in the specified index.*\n",
    "\n",
    "*For example, assume:*\n",
    "```Python\n",
    "data = [['Apricot','Orange','Fruit'], ['Blueberry','Blue','Fruit'], ['Carrot','Orange','Vegetable']]\n",
    "```\n",
    "\n",
    "*`select_rows(data, 2, 'Fruit')` should return:*\n",
    "```Python\n",
    "[['Apricot','Orange','Fruit'], ['Blueberry','Blue','Fruit']]\n",
    "```\n",
    "\n",
    "*Similarly, `select_rows(data, 1, 'Orange')` should return:*\n",
    "```Python\n",
    "[['Apricot','Orange','Fruit'], ['Carrot','Orange','Vegetable']]\n",
    "```"
   ]
  },
  {
   "cell_type": "markdown",
   "id": "cda62203-7555-4230-8fab-4861d3d860fc",
   "metadata": {
    "slideshow": {
     "slide_type": "slide"
    },
    "tags": []
   },
   "source": [
    "## Saving data\n",
    "\\#4) *Write a function called `save_data` that takes a list of lists and the name of a comma-separated variable (CSV) file and writes each sublist as a \"row\" in the CSV file.*\n",
    "\n",
    "*For example, assume:*\n",
    "```Python\n",
    "data = [['Orange','Fruit'], ['Blue','Fruit'], ['Orange','Vegetable']]\n",
    "```\n",
    "\n",
    "*`save_data(data, 'filtered.csv')` should create a file called `filtered.csv` which contains the following:*\n",
    "```Python\n",
    "Orange,Fruit\n",
    "Blue,Fruit\n",
    "Orange,Vegetable\n",
    "```"
   ]
  },
  {
   "cell_type": "markdown",
   "id": "b73ee994-fff5-4e66-8f91-1c76733f185f",
   "metadata": {
    "slideshow": {
     "slide_type": "slide"
    },
    "tags": []
   },
   "source": [
    "## Extra practice\n",
    "\\#5) *Write a function called `select_single_column` that takes a list of lists and a column index, and returns a list containing the values in that column from every row.*\n",
    "\n",
    "*For example, assume:*\n",
    "```Python\n",
    "data = [['Apricot','Orange','Fruit'], ['Blueberry','Blue','Fruit'], ['Carrot','Orange','Vegetable']]\n",
    "```\n",
    "\n",
    "*`select_single_column(data, 0)` should return:*\n",
    "```Python\n",
    "['Apricot', 'Blueberry', 'Carrot']\n",
    "```"
   ]
  },
  {
   "cell_type": "markdown",
   "id": "3e8be7d5-7942-46bb-921e-708d0ea1154e",
   "metadata": {
    "slideshow": {
     "slide_type": "subslide"
    },
    "tags": []
   },
   "source": [
    "\\#6) *Write a function called `select_single_row` that takes a list of lists and a row index, and returns a list containing the values in that row from every column.*\n",
    "\n",
    "*For example, assume:*\n",
    "```Python\n",
    "data = [['Apricot','Orange','Fruit'], ['Blueberry','Blue','Fruit'], ['Carrot','Orange','Vegetable']]\n",
    "```\n",
    "\n",
    "*`select_single_row(data, 1)` should return:*\n",
    "```Python\n",
    "['Blueberry', 'Blue', 'Fruit']\n",
    "```"
   ]
  }
 ],
 "metadata": {
  "kernelspec": {
   "display_name": "Python 3 (ipykernel)",
   "language": "python",
   "name": "python3"
  },
  "language_info": {
   "codemirror_mode": {
    "name": "ipython",
    "version": 3
   },
   "file_extension": ".py",
   "mimetype": "text/x-python",
   "name": "python",
   "nbconvert_exporter": "python",
   "pygments_lexer": "ipython3",
   "version": "3.8.2"
  }
 },
 "nbformat": 4,
 "nbformat_minor": 5
}
