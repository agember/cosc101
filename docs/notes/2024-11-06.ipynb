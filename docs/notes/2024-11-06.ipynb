{
 "cells": [
  {
   "cell_type": "markdown",
   "metadata": {
    "editable": true,
    "slideshow": {
     "slide_type": "skip"
    },
    "tags": []
   },
   "source": [
    "# Files: writing\n",
    "_COSC 101, Introduction to Computing I, 2024-11-06_"
   ]
  },
  {
   "cell_type": "markdown",
   "metadata": {
    "editable": true,
    "slideshow": {
     "slide_type": "skip"
    },
    "tags": []
   },
   "source": [
    "## Announcements\n",
    "* Revisions to up to two parts from Homework 3 and/or 4 due tomorrow @ 11:59pm\n",
    "* Exam 2 reattempts Friday during class"
   ]
  },
  {
   "cell_type": "markdown",
   "metadata": {
    "editable": true,
    "slideshow": {
     "slide_type": "skip"
    },
    "tags": []
   },
   "source": [
    "## Writing files"
   ]
  },
  {
   "cell_type": "markdown",
   "metadata": {
    "editable": true,
    "slideshow": {
     "slide_type": "skip"
    },
    "tags": [
     "notes-only"
    ]
   },
   "source": [
    "* What does a program need to do to write data to a file?\n",
    "    * Open the file in write mode\n",
    "    * Call the `write` function on the file object\n",
    "    * Call the `close` function on the file object"
   ]
  },
  {
   "cell_type": "code",
   "execution_count": 10,
   "metadata": {
    "editable": true,
    "slideshow": {
     "slide_type": "skip"
    },
    "tags": [
     "notes-only"
    ]
   },
   "outputs": [],
   "source": [
    "myfile = open('myfile.txt', 'w')\n",
    "myfile.write('Hello, file!\\n')\n",
    "myfile.close()"
   ]
  },
  {
   "cell_type": "markdown",
   "metadata": {
    "editable": true,
    "slideshow": {
     "slide_type": "skip"
    },
    "tags": [
     "notes-only"
    ]
   },
   "source": [
    "* You must explicitly include newline characters in the string passed to write if you want the next string you write to appear on the next line of the file\n",
    "    * write **does not** automatically include newlines like print does\n",
    "* If you do not call close, part of the data may be lost\n",
    "    * Python stores data in a temporary buffer before writing it to the file; close ensures all data in the buffer is added to the file"
   ]
  },
  {
   "cell_type": "markdown",
   "metadata": {
    "editable": true,
    "slideshow": {
     "slide_type": "skip"
    },
    "tags": [
     "blank"
    ]
   },
   "source": [
    "<p style=\"height:30em;\"></p>"
   ]
  },
  {
   "cell_type": "markdown",
   "metadata": {
    "editable": true,
    "slideshow": {
     "slide_type": ""
    },
    "tags": []
   },
   "source": [
    "## Debugging file reading/writing"
   ]
  },
  {
   "cell_type": "markdown",
   "metadata": {
    "editable": true,
    "slideshow": {
     "slide_type": "slide"
    },
    "tags": []
   },
   "source": [
    "Assume the file `months.txt` contains the following data:\n",
    "```\n",
    "January\n",
    "February\n",
    "March\n",
    "April\n",
    "May\n",
    "June\n",
    "July\n",
    "August\n",
    "September\n",
    "October\n",
    "November\n",
    "December\n",
    "```"
   ]
  },
  {
   "cell_type": "code",
   "execution_count": 7,
   "metadata": {
    "editable": true,
    "slideshow": {
     "slide_type": "skip"
    },
    "tags": [
     "colab-only"
    ]
   },
   "outputs": [],
   "source": [
    "# Run this code cell to create months.txt\n",
    "with open('months.txt', 'w') as months:\n",
    "    months.write('January\\nFebruary\\nMarch\\nApril\\nMay\\nJune\\nJuly\\nAugust\\nSeptember\\nOctober\\nNovember\\nDecember\\n')"
   ]
  },
  {
   "cell_type": "markdown",
   "metadata": {
    "editable": true,
    "slideshow": {
     "slide_type": ""
    },
    "tags": [
     "question"
    ]
   },
   "source": [
    "*Identify and correct the error(s) in each of the following functions.*"
   ]
  },
  {
   "cell_type": "code",
   "execution_count": 8,
   "metadata": {
    "editable": true,
    "slideshow": {
     "slide_type": ""
    },
    "tags": [
     "worksheet-code-only"
    ]
   },
   "outputs": [
    {
     "name": "stdout",
     "output_type": "stream",
     "text": [
      "January\n",
      "\n",
      "February\n",
      "\n",
      "March\n",
      "\n",
      "April\n",
      "\n",
      "May\n",
      "\n",
      "June\n",
      "\n",
      "July\n",
      "\n",
      "August\n",
      "\n",
      "September\n",
      "\n",
      "October\n",
      "\n",
      "November\n",
      "\n",
      "December\n",
      "\n"
     ]
    }
   ],
   "source": [
    "def print_file() -> None:\n",
    "    \"\"\"Print the contents of the file\"\"\"\n",
    "    months = open('months.txt', 'r')\n",
    "    for line in months:\n",
    "        print(line)\n",
    "print_file()"
   ]
  },
  {
   "cell_type": "code",
   "execution_count": 9,
   "metadata": {
    "editable": true,
    "scrolled": true,
    "slideshow": {
     "slide_type": "skip"
    },
    "tags": [
     "answer"
    ]
   },
   "outputs": [
    {
     "name": "stdout",
     "output_type": "stream",
     "text": [
      "January\n",
      "February\n",
      "March\n",
      "April\n",
      "May\n",
      "June\n",
      "July\n",
      "August\n",
      "September\n",
      "October\n",
      "November\n",
      "December\n"
     ]
    }
   ],
   "source": [
    "# CORRECTED\n",
    "def print_file() -> None:\n",
    "    \"\"\"Print the contents of the file\"\"\"\n",
    "    months = open('months.txt', 'r')\n",
    "    for line in months:\n",
    "        print(line.strip()) # Need to strip newline to avoid extra blank lines\n",
    "    months.close() # Need to close file\n",
    "print_file()"
   ]
  },
  {
   "cell_type": "markdown",
   "metadata": {
    "editable": true,
    "slideshow": {
     "slide_type": "skip"
    },
    "tags": [
     "blank"
    ]
   },
   "source": [
    "<p style=\"height:10em;\"></p>"
   ]
  },
  {
   "cell_type": "code",
   "execution_count": 10,
   "metadata": {
    "editable": true,
    "slideshow": {
     "slide_type": "subslide"
    },
    "tags": [
     "worksheet-code-only"
    ]
   },
   "outputs": [
    {
     "name": "stdout",
     "output_type": "stream",
     "text": [
      "9\n",
      "6\n",
      "5\n",
      "7\n",
      "8\n",
      "9\n"
     ]
    }
   ],
   "source": [
    "def print_character_counts() -> None:\n",
    "    \"\"\"Print the number of characters in each month\"\"\"\n",
    "    months = open('months.txt', 'r')\n",
    "    while months.readline() != '':\n",
    "        line = months.readline()\n",
    "        print(len(line))\n",
    "    months.close()\n",
    "print_character_counts()"
   ]
  },
  {
   "cell_type": "code",
   "execution_count": 11,
   "metadata": {
    "editable": true,
    "slideshow": {
     "slide_type": "skip"
    },
    "tags": [
     "answer"
    ]
   },
   "outputs": [
    {
     "name": "stdout",
     "output_type": "stream",
     "text": [
      "8\n",
      "9\n",
      "6\n",
      "6\n",
      "4\n",
      "5\n",
      "5\n",
      "7\n",
      "10\n",
      "8\n",
      "9\n",
      "9\n"
     ]
    }
   ],
   "source": [
    "# CORRECTED\n",
    "def print_character_counts() -> None:\n",
    "    \"\"\"Print the number of characters in each month\"\"\"\n",
    "    months = open('months.txt', 'r')\n",
    "    line = months.readline() # Priming read\n",
    "    while line != '': # Check if previously read line was empty\n",
    "        print(len(line))\n",
    "        line = months.readline() # Read next line\n",
    "    months.close()\n",
    "print_character_counts()"
   ]
  },
  {
   "cell_type": "markdown",
   "metadata": {
    "editable": true,
    "slideshow": {
     "slide_type": "skip"
    },
    "tags": [
     "blank"
    ]
   },
   "source": [
    "<p style=\"height:10em;\"></p>"
   ]
  },
  {
   "cell_type": "code",
   "execution_count": 12,
   "metadata": {
    "editable": true,
    "slideshow": {
     "slide_type": "subslide"
    },
    "tags": [
     "worksheet-code-only"
    ]
   },
   "outputs": [
    {
     "ename": "UnsupportedOperation",
     "evalue": "not readable",
     "output_type": "error",
     "traceback": [
      "\u001b[0;31m---------------------------------------------------------------------------\u001b[0m",
      "\u001b[0;31mUnsupportedOperation\u001b[0m                      Traceback (most recent call last)",
      "Cell \u001b[0;32mIn[12], line 9\u001b[0m\n\u001b[1;32m      7\u001b[0m     size\u001b[38;5;241m.\u001b[39mwrite(\u001b[38;5;124m'\u001b[39m\u001b[38;5;124mlines: \u001b[39m\u001b[38;5;124m'\u001b[39m\u001b[38;5;241m+\u001b[39m\u001b[38;5;28mstr\u001b[39m(\u001b[38;5;28mlen\u001b[39m(data)))\n\u001b[1;32m      8\u001b[0m     size\u001b[38;5;241m.\u001b[39mclose()\n\u001b[0;32m----> 9\u001b[0m \u001b[43mstore_line_count\u001b[49m\u001b[43m(\u001b[49m\u001b[43m)\u001b[49m\n",
      "Cell \u001b[0;32mIn[12], line 4\u001b[0m, in \u001b[0;36mstore_line_count\u001b[0;34m()\u001b[0m\n\u001b[1;32m      2\u001b[0m \u001b[38;5;250m\u001b[39m\u001b[38;5;124;03m\"\"\"Store the number of lines in months.txt in a new file called count.txt\"\"\"\u001b[39;00m\n\u001b[1;32m      3\u001b[0m months \u001b[38;5;241m=\u001b[39m \u001b[38;5;28mopen\u001b[39m(\u001b[38;5;124m'\u001b[39m\u001b[38;5;124mmonths.txt\u001b[39m\u001b[38;5;124m'\u001b[39m, \u001b[38;5;124m'\u001b[39m\u001b[38;5;124mw\u001b[39m\u001b[38;5;124m'\u001b[39m)\n\u001b[0;32m----> 4\u001b[0m data \u001b[38;5;241m=\u001b[39m \u001b[43mmonths\u001b[49m\u001b[38;5;241;43m.\u001b[39;49m\u001b[43mread\u001b[49m\u001b[43m(\u001b[49m\u001b[43m)\u001b[49m\n\u001b[1;32m      5\u001b[0m months\u001b[38;5;241m.\u001b[39mclose()\n\u001b[1;32m      6\u001b[0m size \u001b[38;5;241m=\u001b[39m \u001b[38;5;28mopen\u001b[39m(\u001b[38;5;124m'\u001b[39m\u001b[38;5;124msize.txt\u001b[39m\u001b[38;5;124m'\u001b[39m, \u001b[38;5;124m'\u001b[39m\u001b[38;5;124mw\u001b[39m\u001b[38;5;124m'\u001b[39m)\n",
      "\u001b[0;31mUnsupportedOperation\u001b[0m: not readable"
     ]
    }
   ],
   "source": [
    "def store_line_count() -> None:\n",
    "    \"\"\"Store the number of lines in months.txt in a new file called count.txt\"\"\"\n",
    "    months = open('months.txt', 'w')\n",
    "    data = months.read()\n",
    "    months.close()\n",
    "    size = open('size.txt', 'w')\n",
    "    size.write('lines: '+str(len(data)))\n",
    "    size.close()\n",
    "store_line_count()"
   ]
  },
  {
   "cell_type": "code",
   "execution_count": 14,
   "metadata": {
    "editable": true,
    "slideshow": {
     "slide_type": "skip"
    },
    "tags": [
     "notes-only"
    ]
   },
   "outputs": [],
   "source": [
    "# CORRECTED\n",
    "def store_line_count() -> None:\n",
    "    \"\"\"Store the number of lines in months.txt in a new file called count.txt\"\"\"\n",
    "    months = open('months.txt', 'r') # Open file for reading\n",
    "    data = months.readlines() # Get a list of lines\n",
    "    months.close()\n",
    "    size = open('size.txt', 'w')\n",
    "    size.write('lines: '+str(len(data)))\n",
    "    size.close()\n",
    "store_line_count()"
   ]
  },
  {
   "cell_type": "markdown",
   "metadata": {
    "editable": true,
    "slideshow": {
     "slide_type": "skip"
    },
    "tags": [
     "blank"
    ]
   },
   "source": [
    "<p style=\"height:10em;\"></p>"
   ]
  },
  {
   "cell_type": "markdown",
   "metadata": {
    "editable": true,
    "slideshow": {
     "slide_type": "slide"
    },
    "tags": []
   },
   "source": [
    "## Extra practice"
   ]
  },
  {
   "cell_type": "markdown",
   "metadata": {
    "editable": true,
    "slideshow": {
     "slide_type": "slide"
    },
    "tags": [
     "question"
    ]
   },
   "source": [
    "_Write a function called `odd_lines` that takes the name of a file and returns a list containing the 1st, 3rd, 5th, etc. line of the file._"
   ]
  },
  {
   "cell_type": "code",
   "execution_count": 2,
   "metadata": {
    "editable": true,
    "slideshow": {
     "slide_type": "skip"
    },
    "tags": [
     "colab-only"
    ]
   },
   "outputs": [],
   "source": [
    "# Create file\n",
    "with open('warm-up.txt', 'w') as myfile:\n",
    "    myfile.write('First\\nSecond\\nThird\\nFourth\\nFifth\\nSixth\\n')"
   ]
  },
  {
   "cell_type": "code",
   "execution_count": 3,
   "metadata": {
    "editable": true,
    "slideshow": {
     "slide_type": "skip"
    },
    "tags": [
     "answer"
    ]
   },
   "outputs": [],
   "source": [
    "def odd_lines(filename):\n",
    "    '''\n",
    "    Construct a list containing the 1st, 3rd, 5th, etc. line of the file\n",
    "    \n",
    "    >>> odd_lines('warm-up.txt')\n",
    "    ['First\\\\n', 'Third\\\\n', 'Fifth\\\\n']\n",
    "    '''\n",
    "    infile = open(filename, 'r')\n",
    "    line = infile.readline() # Read first line\n",
    "    lines = []\n",
    "    while line != '': # Repeat until end of file\n",
    "        lines = lines + [line]\n",
    "        line = infile.readline() # Skip a line\n",
    "        line = infile.readline()\n",
    "    infile.close()\n",
    "    return lines"
   ]
  },
  {
   "cell_type": "markdown",
   "metadata": {
    "editable": true,
    "slideshow": {
     "slide_type": "skip"
    },
    "tags": [
     "blank"
    ]
   },
   "source": [
    "<p style=\"height:20em;\"></p>"
   ]
  },
  {
   "cell_type": "markdown",
   "metadata": {
    "editable": true,
    "slideshow": {
     "slide_type": ""
    },
    "tags": [
     "question"
    ]
   },
   "source": [
    "*What is the contents of `seasons.txt` after the program has finished?*"
   ]
  },
  {
   "cell_type": "code",
   "execution_count": 23,
   "metadata": {
    "editable": true,
    "slideshow": {
     "slide_type": ""
    },
    "tags": [
     "question"
    ]
   },
   "outputs": [],
   "source": [
    "def main() -> None:\n",
    "    seasons = [['Winter', 'cold', 'snowy'], \n",
    "               ['Spring', 'warm', 'rainy'], \n",
    "               ['Summer', 'hot', 'sunny'], \n",
    "               ['Autumn', 'cool', 'windy']]\n",
    "    outfile = open('seasons.txt', 'w')\n",
    "    outfile.write('In Hamilton:\\n')\n",
    "    for season in seasons:\n",
    "        outfile.write(season[0] + ' is...')\n",
    "        outfile.write(' and '.join(season[1:]) + '\\n')\n",
    "    outfile.close()\n",
    "main()"
   ]
  },
  {
   "cell_type": "markdown",
   "metadata": {
    "editable": true,
    "slideshow": {
     "slide_type": "skip"
    },
    "tags": [
     "answer"
    ]
   },
   "source": [
    "```\n",
    "In Hamilton:\n",
    "Winter is...cold and snowy\n",
    "Spring is...warm and rainy\n",
    "Summer is...hot and sunny\n",
    "Autumn is...cool and windy\n",
    "```"
   ]
  },
  {
   "cell_type": "markdown",
   "metadata": {
    "editable": true,
    "slideshow": {
     "slide_type": "skip"
    },
    "tags": [
     "blank"
    ]
   },
   "source": [
    "<p style=\"height:10em;\"></p>"
   ]
  },
  {
   "cell_type": "code",
   "execution_count": 9,
   "metadata": {
    "editable": true,
    "slideshow": {
     "slide_type": "skip"
    },
    "tags": [
     "colab-only"
    ]
   },
   "outputs": [
    {
     "data": {
      "text/plain": [
       "TestResults(failed=0, attempted=1)"
      ]
     },
     "execution_count": 9,
     "metadata": {},
     "output_type": "execute_result"
    }
   ],
   "source": [
    "import doctest\n",
    "doctest.testmod()"
   ]
  }
 ],
 "metadata": {
  "celltoolbar": "Tags",
  "kernelspec": {
   "display_name": "Python 3 (ipykernel)",
   "language": "python",
   "name": "python3"
  },
  "language_info": {
   "codemirror_mode": {
    "name": "ipython",
    "version": 3
   },
   "file_extension": ".py",
   "mimetype": "text/x-python",
   "name": "python",
   "nbconvert_exporter": "python",
   "pygments_lexer": "ipython3",
   "version": "3.9.6"
  }
 },
 "nbformat": 4,
 "nbformat_minor": 4
}
