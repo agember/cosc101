{
 "cells": [
  {
   "cell_type": "markdown",
   "id": "3d6acc06-a825-4115-a4a0-89a5c7d35253",
   "metadata": {
    "editable": true,
    "slideshow": {
     "slide_type": "skip"
    },
    "tags": []
   },
   "source": [
    "# Machine learning: coding\n",
    "_COSC 101, Introduction to Computing I, 2024-12-09_"
   ]
  },
  {
   "cell_type": "markdown",
   "id": "64dcac14-368d-4f93-bec7-70deffd16569",
   "metadata": {
    "editable": true,
    "slideshow": {
     "slide_type": "skip"
    },
    "tags": []
   },
   "source": [
    "## Announcements\n",
    "* Exam 3 reattempts Wednesday 11:20am-11:45am\n",
    "    * No need to attend class on Wednesday if you do not need to reattempt any questions\n",
    "* Revisions to homeworks 5, 6, and/or 7 due Thursday @ 11:59pm"
   ]
  },
  {
   "cell_type": "markdown",
   "id": "8f083d16-eca2-4ec2-acac-19b09dbb3025",
   "metadata": {
    "editable": true,
    "slideshow": {
     "slide_type": ""
    },
    "tags": [
     "notes-only"
    ]
   },
   "source": [
    "## SETs"
   ]
  },
  {
   "cell_type": "markdown",
   "id": "67eef7db-b839-4df8-902f-e246ca87145c",
   "metadata": {
    "editable": true,
    "slideshow": {
     "slide_type": ""
    },
    "tags": [
     "blank"
    ]
   },
   "source": [
    "<p style=\"height:20em;\"></p>"
   ]
  },
  {
   "cell_type": "markdown",
   "id": "21e82f1a-dbb0-4cc1-8b58-95eaa9d8acdd",
   "metadata": {
    "editable": true,
    "slideshow": {
     "slide_type": ""
    },
    "tags": []
   },
   "source": [
    "## Load data"
   ]
  },
  {
   "cell_type": "code",
   "execution_count": 123,
   "id": "1f248ff1-8306-49b3-a7c4-4b14064af07c",
   "metadata": {
    "editable": true,
    "slideshow": {
     "slide_type": ""
    },
    "tags": []
   },
   "outputs": [],
   "source": [
    "def load_data(filename: str) -> dict:\n",
    "    \"\"\"\n",
    "    Read a CSV file and create a list of dictionaries,\n",
    "    where each dictionary corresponds to a row in the\n",
    "    file with the column names as keys.\n",
    "    Parameters:\n",
    "    * filename: name of CSV file\n",
    "    Returns: list containing dictionaries representing rows of data\n",
    "    \"\"\"\n",
    "    data = []\n",
    "    with open(filename, 'r') as file:\n",
    "        # Load column names\n",
    "        line = file.readline()\n",
    "        colnames = line.strip().split(',')\n",
    "\n",
    "        # Load rows of data\n",
    "        for line in file:\n",
    "            values = line.strip().split(',')\n",
    "            row = build_dictionary(colnames, values)\n",
    "            data.append(row)\n",
    "    return data"
   ]
  },
  {
   "cell_type": "code",
   "execution_count": 140,
   "id": "3e11664e-0525-4ded-aa6b-24d572d3326c",
   "metadata": {
    "editable": true,
    "slideshow": {
     "slide_type": ""
    },
    "tags": [
     "answer"
    ]
   },
   "outputs": [],
   "source": [
    "def build_dictionary(keys: list, values: list) -> dict:\n",
    "    \"\"\"\n",
    "    Create a dictionary from a list of keys and a list of string values.\n",
    "    Parameters:\n",
    "    * keys: list of keys\n",
    "    * values: list of string values\n",
    "    Returns: dictionary containing provided keys and values,\n",
    "    with strings of \"True\" or \"False\" converted to booleans\n",
    "    \n",
    "    >>> build_dictionary(['Name', 'Food', 'Animal', 'Color'], ['carrot', 'True', 'False', 'orange'])\n",
    "    {'Name': 'carrot', 'Food': True, 'Animal': False, 'Color': 'orange'}\n",
    "    \"\"\"\n",
    "    data = {}\n",
    "    for i in range(len(keys)):\n",
    "        value = values[i]\n",
    "        if value == \"True\":\n",
    "            value = True\n",
    "        elif value == \"False\":\n",
    "            value = False\n",
    "        data[keys[i]] = value\n",
    "    return data"
   ]
  },
  {
   "cell_type": "code",
   "execution_count": 157,
   "id": "6d692dff-39ae-47b2-9eb7-544812abf236",
   "metadata": {
    "editable": true,
    "slideshow": {
     "slide_type": ""
    },
    "tags": [
     "blank"
    ]
   },
   "outputs": [],
   "source": [
    "def build_dictionary(keys: list, values: list) -> dict:\n",
    "    \"\"\"\n",
    "    Create a dictionary from a list of keys and a list of string values.\n",
    "    Parameters:\n",
    "    * keys: list of keys\n",
    "    * values: list of string values\n",
    "    Returns: dictionary containing provided keys and values,\n",
    "    with strings of \"True\" or \"False\" converted to booleans\n",
    "    \n",
    "    >>> build_dictionary(['Name', 'Food', 'Animal', 'Color'], ['carrot', 'True', 'False', 'orange'])\n",
    "    {'Name': 'carrot', 'Food': True, 'Animal': False, 'Color': 'orange'}\n",
    "    \"\"\""
   ]
  },
  {
   "cell_type": "markdown",
   "id": "4ac3101a-172d-4417-9eb3-a1381de1b333",
   "metadata": {
    "editable": true,
    "slideshow": {
     "slide_type": ""
    },
    "tags": [
     "blank"
    ]
   },
   "source": [
    "<p style=\"height:12em;\"></p>"
   ]
  },
  {
   "cell_type": "markdown",
   "id": "eaf131c8-49c7-4fd7-92a6-55683fb424bf",
   "metadata": {
    "editable": true,
    "slideshow": {
     "slide_type": ""
    },
    "tags": []
   },
   "source": [
    "## Manipulate data"
   ]
  },
  {
   "cell_type": "code",
   "execution_count": 149,
   "id": "047d8e1a-2328-4fd0-b282-9be88b23a042",
   "metadata": {
    "editable": true,
    "slideshow": {
     "slide_type": ""
    },
    "tags": [
     "notes-only"
    ]
   },
   "outputs": [],
   "source": [
    "def extract(data: list, feature: str) -> list:\n",
    "    \"\"\"\n",
    "    Extracts the values associated with a particular key in dictionaries.\n",
    "    Parameters:\n",
    "    * data: list of dictionaries to extract values from\n",
    "    * feature: name of the key whose value to get\n",
    "    Returns: a list of the specified feature values\n",
    "    \n",
    "    >>> extract([{'Name': 'carrot', 'Food': True}, {'Name': 'grass', 'Food': False}], 'Name')\n",
    "    ['carrot', 'grass']\n",
    "    >>> extract([{'Name': 'carrot', 'Food': True}, {'Name': 'grass', 'Food': False}], 'Food')\n",
    "    [True, False]\n",
    "    \"\"\"\n",
    "    values = []\n",
    "    for item in data:\n",
    "        values.append(item[feature])\n",
    "    return values"
   ]
  },
  {
   "cell_type": "code",
   "execution_count": 150,
   "id": "9eb1d493-8e60-48e1-9788-b062a84fea8b",
   "metadata": {
    "editable": true,
    "slideshow": {
     "slide_type": ""
    },
    "tags": [
     "answer"
    ]
   },
   "outputs": [],
   "source": [
    "def divide(data: list, feature: str) -> (list, list):\n",
    "    \"\"\"\n",
    "    Divides a list of dictionaries into two separate lists based on\n",
    "    whether a particular key in dictionary is associated with the value\n",
    "    True or False.\n",
    "    Parameters:\n",
    "    * data: list of dictionaries to divide into two groups\n",
    "    * feature: name of the key to check\n",
    "    Returns: a list of dictionaries where the specified feature is True\n",
    "    and a list of dictionaries where the specified feature is False\n",
    "    \n",
    "    >>> divide([{'Name': 'Carrot', 'Food': True}, {'Name': 'Grass', 'Food': False}], 'Food')\n",
    "    ([{'Name': 'Carrot', 'Food': True}], [{'Name': 'Grass', 'Food': False}])\n",
    "    \"\"\"\n",
    "    true_group = []\n",
    "    false_group = []\n",
    "    for item in data:\n",
    "        if item[feature]:\n",
    "            true_group.append(item)\n",
    "        else:\n",
    "            false_group.append(item)\n",
    "    return true_group, false_group"
   ]
  },
  {
   "cell_type": "code",
   "execution_count": 126,
   "id": "00e1ff1e-2e15-40f4-a10f-cc75ff8ac870",
   "metadata": {
    "editable": true,
    "slideshow": {
     "slide_type": ""
    },
    "tags": [
     "blank"
    ]
   },
   "outputs": [],
   "source": [
    "def divide(data: list, feature: str) -> (list, list):\n",
    "    \"\"\"\n",
    "    Divides a list of dictionaries into two separate lists based on\n",
    "    whether a particular key in dictionary is associated with the value\n",
    "    True or False.\n",
    "    Parameters:\n",
    "    * data: list of dictionaries to divide into two groups\n",
    "    * feature: name of the key to check\n",
    "    Returns: a list of dictionaries where the specified feature is True\n",
    "    and a list of dictionaries where the specified feature is False\n",
    "    \n",
    "    >>> divide([{'Name': 'Carrot', 'Food': True}, {'Name': 'Grass', 'Food': False}], 'Food')\n",
    "    ([{'Name': 'Carrot', 'Food': True}], [{'Name': 'Grass', 'Food': False}])\n",
    "    \"\"\""
   ]
  },
  {
   "cell_type": "markdown",
   "id": "42653b24-0206-43f0-b83e-fc1996987ab2",
   "metadata": {
    "editable": true,
    "slideshow": {
     "slide_type": ""
    },
    "tags": [
     "blank"
    ]
   },
   "source": [
    "<p style=\"height:15em;\"></p>"
   ]
  },
  {
   "cell_type": "markdown",
   "id": "bd61208e-0dca-48a9-8c86-a66af6747b11",
   "metadata": {
    "editable": true,
    "slideshow": {
     "slide_type": ""
    },
    "tags": []
   },
   "source": [
    "## Evaluate features"
   ]
  },
  {
   "cell_type": "code",
   "execution_count": 151,
   "id": "1a0f8f8a-a02b-4ee1-8051-c00d72666c19",
   "metadata": {
    "editable": true,
    "slideshow": {
     "slide_type": ""
    },
    "tags": []
   },
   "outputs": [],
   "source": [
    "import math\n",
    "def uncertainty(data: list, feature: str) -> float:\n",
    "    \"\"\"\n",
    "    Computes the amount of uncertainty based on a specific feature.\n",
    "    Parameters:\n",
    "    * data: list of dictionaries whose values to examine\n",
    "    * feature: name of the key whose value to examine\n",
    "    Returns: amount of uncertainty\n",
    "    \"\"\"\n",
    "    # Determine frequency of values\n",
    "    counts = {}\n",
    "    for item in data:\n",
    "        value = item[feature]\n",
    "        if value not in counts:\n",
    "            counts[value] = 0\n",
    "        counts[value] += 1\n",
    "\n",
    "    # Compute uncertainty based on probability of value occurring\n",
    "    result = 0\n",
    "    for count in counts.values():\n",
    "        probability = count/len(data)\n",
    "        result -= (probability) * math.log2(probability)\n",
    "    return result"
   ]
  },
  {
   "cell_type": "code",
   "execution_count": 152,
   "id": "7e6547a0-4e0b-4852-a435-4b5673a1a748",
   "metadata": {
    "editable": true,
    "slideshow": {
     "slide_type": ""
    },
    "tags": []
   },
   "outputs": [],
   "source": [
    "def information_gain(data: list, label: str, feature: str) -> str:\n",
    "    \"\"\"\n",
    "    Computes the amount of information gain a feature provides.\n",
    "    Parameters:\n",
    "    * data: list of dictionaries whose values to examine\n",
    "    * label: name of the key whose value contains the label\n",
    "    * feature: name of the key whose values to use to divide the data into groups\n",
    "    Returns: information gain\n",
    "    \"\"\"\n",
    "    baseline_uncertainty = uncertainty(data, label)\n",
    "    true_group, false_group = divide(data, feature)\n",
    "    true_uncertainty = uncertainty(true_group, label)\n",
    "    false_uncertainty = uncertainty(false_group, label)\n",
    "    true_weight = len(true_group) / len(data)\n",
    "    false_weight = len(false_group) / len(data)\n",
    "    average_uncertainty = true_weight * true_uncertainty + false_weight * false_uncertainty\n",
    "    return baseline_uncertainty - average_uncertainty"
   ]
  },
  {
   "cell_type": "markdown",
   "id": "47b21f08-8446-4847-8894-a74cea1e2aec",
   "metadata": {
    "editable": true,
    "slideshow": {
     "slide_type": ""
    },
    "tags": [
     "blank"
    ]
   },
   "source": [
    "<p style=\"height:5em;\"></p>"
   ]
  },
  {
   "cell_type": "code",
   "execution_count": 153,
   "id": "635a557e-62a9-448e-a036-9fbb069b0fcf",
   "metadata": {
    "editable": true,
    "slideshow": {
     "slide_type": ""
    },
    "tags": [
     "answer"
    ]
   },
   "outputs": [],
   "source": [
    "def select_feature(data: list, label: str, features: list) -> str:\n",
    "    \"\"\"\n",
    "    Identifies the feature with the highest information gain.\n",
    "    Parameters:\n",
    "    * data: list of dictionaries whose values to examine\n",
    "    * label: name of the key whose value contains the label\n",
    "    * features: list of features to consider\n",
    "    Returns: name of the feature with the highest information gain\n",
    "    \"\"\"\n",
    "    best_info_gain = 0\n",
    "    best_feature = None\n",
    "    for feature in features:\n",
    "        info_gain = information_gain(data, label, feature)\n",
    "        if (info_gain > best_info_gain):\n",
    "            best_info_gain = info_gain\n",
    "            best_feature = feature\n",
    "    return best_feature"
   ]
  },
  {
   "cell_type": "code",
   "execution_count": 145,
   "id": "ecf46922-2d76-426e-b768-8c8666f0f990",
   "metadata": {
    "editable": true,
    "slideshow": {
     "slide_type": ""
    },
    "tags": [
     "blank"
    ]
   },
   "outputs": [],
   "source": [
    "def select_feature(data: list, label: str, features: list) -> str:\n",
    "    \"\"\"\n",
    "    Identifies the feature with the highest information gain.\n",
    "    Parameters:\n",
    "    * data: list of dictionaries whose values to examine\n",
    "    * label: name of the key whose value contains the label\n",
    "    * features: list of features to consider\n",
    "    Returns: name of the feature with the highest information gain\n",
    "    \"\"\""
   ]
  },
  {
   "cell_type": "markdown",
   "id": "60eec401-2b92-42c8-b7e1-1fa13ef33076",
   "metadata": {
    "editable": true,
    "slideshow": {
     "slide_type": ""
    },
    "tags": [
     "blank"
    ]
   },
   "source": [
    "<p style=\"height:15em;\"></p>"
   ]
  },
  {
   "cell_type": "markdown",
   "id": "dadd172d-fd12-42b4-9fe2-a764f0d124bd",
   "metadata": {
    "editable": true,
    "slideshow": {
     "slide_type": ""
    },
    "tags": []
   },
   "source": [
    "## Create decision tree"
   ]
  },
  {
   "cell_type": "code",
   "execution_count": 155,
   "id": "4bb0907c-abc6-4556-85b0-5b8251362116",
   "metadata": {
    "editable": true,
    "slideshow": {
     "slide_type": ""
    },
    "tags": []
   },
   "outputs": [
    {
     "name": "stdout",
     "output_type": "stream",
     "text": [
      "Travels on land?\n",
      "  True: Travels in groups?\n",
      "  False: Has wings?\n"
     ]
    }
   ],
   "source": [
    "def main() -> None:\n",
    "    data = load_data('things.csv')\n",
    "    features = list(data[0].keys())[2:]\n",
    "    best_feature = select_feature(data, \"Flies\", features)\n",
    "    print(best_feature + \"?\")\n",
    "\n",
    "    true_group, false_group = divide(data, best_feature)\n",
    "    best_feature = select_feature(true_group, \"Flies\", features)\n",
    "    print(\"  True: \" + best_feature + \"?\")\n",
    "    best_feature = select_feature(false_group, \"Flies\", features)\n",
    "    print(\"  False: \" + best_feature + \"?\")\n",
    "    \n",
    "main()"
   ]
  },
  {
   "cell_type": "code",
   "execution_count": 143,
   "id": "e520b68b-b9ec-4f3d-a4ee-e9794cb1eaae",
   "metadata": {
    "editable": true,
    "slideshow": {
     "slide_type": ""
    },
    "tags": [
     "answer"
    ]
   },
   "outputs": [],
   "source": [
    "def build_tree(data: list, features: list, indent: str) -> None:\n",
    "    best_feature = select_feature(data, features)\n",
    "    if best_feature == None:\n",
    "        return\n",
    "    else:\n",
    "        print(indent + best_feature + \"?\")\n",
    "        true_group, false_group = divide(data, best_feature)\n",
    "        indent += \"  \"\n",
    "        print(indent + \"True:\")\n",
    "        build_tree(true_group, features, indent)\n",
    "        print(indent + \"False:\")\n",
    "        build_tree(false_group, features, indent)"
   ]
  },
  {
   "cell_type": "code",
   "execution_count": 156,
   "id": "c3d43752-6249-4d21-85b0-36f62c74fdc6",
   "metadata": {
    "editable": true,
    "slideshow": {
     "slide_type": ""
    },
    "tags": [
     "notes-only"
    ]
   },
   "outputs": [
    {
     "data": {
      "text/plain": [
       "TestResults(failed=0, attempted=4)"
      ]
     },
     "execution_count": 156,
     "metadata": {},
     "output_type": "execute_result"
    }
   ],
   "source": [
    "import doctest\n",
    "doctest.testmod()"
   ]
  }
 ],
 "metadata": {
  "kernelspec": {
   "display_name": "Python 3 (ipykernel)",
   "language": "python",
   "name": "python3"
  },
  "language_info": {
   "codemirror_mode": {
    "name": "ipython",
    "version": 3
   },
   "file_extension": ".py",
   "mimetype": "text/x-python",
   "name": "python",
   "nbconvert_exporter": "python",
   "pygments_lexer": "ipython3",
   "version": "3.9.6"
  }
 },
 "nbformat": 4,
 "nbformat_minor": 5
}
