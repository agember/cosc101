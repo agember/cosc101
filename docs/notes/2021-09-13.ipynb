{
 "cells": [
  {
   "cell_type": "markdown",
   "id": "0d8fd148-c77b-4bbd-a056-5f42193278cc",
   "metadata": {
    "slideshow": {
     "slide_type": "skip"
    },
    "tags": []
   },
   "source": [
    "# for loops\n",
    "_COSC 101, Introduction to Computing I, 2021-09-13_"
   ]
  },
  {
   "cell_type": "markdown",
   "id": "9227d35e-fc1f-44cd-8556-7900faa38987",
   "metadata": {
    "slideshow": {
     "slide_type": "skip"
    },
    "tags": []
   },
   "source": [
    "## Announcements\n",
    "* Department tea on DEI in CS — Tuesday @ 11:30am in McGregory 319 (Student Lounge)\n",
    "* Homework 2 due Thursday at 5pm"
   ]
  },
  {
   "cell_type": "markdown",
   "id": "adae116f-4b3f-4a10-b948-814ec51d72ad",
   "metadata": {
    "slideshow": {
     "slide_type": "skip"
    },
    "tags": [
     "notes-only"
    ]
   },
   "source": [
    "## Outline\n",
    "* Warm-up\n",
    "* Clarification on `//`\n",
    "* Turtle graphics\n",
    "* for loop\n",
    "* range"
   ]
  },
  {
   "cell_type": "markdown",
   "id": "05a4838a-31ed-426c-82cb-0e21275e6e08",
   "metadata": {
    "slideshow": {
     "slide_type": "slide"
    },
    "tags": []
   },
   "source": [
    "## Warm-up\n",
    "_Write a program that asks for the size of an angle in degrees and converts the angle to radians. Hint: 180° = π_"
   ]
  },
  {
   "cell_type": "code",
   "execution_count": 1,
   "id": "ce9a2c07-4b0e-495a-83f6-3a6339cdfb9b",
   "metadata": {
    "slideshow": {
     "slide_type": "skip"
    },
    "tags": [
     "notes-only"
    ]
   },
   "outputs": [
    {
     "name": "stdin",
     "output_type": "stream",
     "text": [
      "Degrees?  180\n"
     ]
    },
    {
     "name": "stdout",
     "output_type": "stream",
     "text": [
      "Radians: 3.141592653589793\n"
     ]
    }
   ],
   "source": [
    "import math\n",
    "degrees = float(input(\"Degrees? \"))\n",
    "radians = (degrees / 180) * math.pi\n",
    "print(\"Radians:\", radians)"
   ]
  },
  {
   "cell_type": "markdown",
   "id": "b975ee03-fec6-480f-bcbb-dc11fd5fe9b0",
   "metadata": {
    "slideshow": {
     "slide_type": "skip"
    },
    "tags": [
     "worksheet-only"
    ]
   },
   "source": [
    "```Python\n",
    "\n",
    "\n",
    "\n",
    "\n",
    "\n",
    "```\n",
    "🛑 **STOP HERE** after completing the warm-up; please **DO NOT WORK AHEAD**. If you have extra time, work on the extra practice problems at the end of the worksheet."
   ]
  },
  {
   "cell_type": "markdown",
   "id": "cc8a4acd-2cf4-4ff9-8302-8ac52801ad26",
   "metadata": {
    "slideshow": {
     "slide_type": "slide"
    },
    "tags": [
     "notes-only"
    ]
   },
   "source": [
    "## Clarification on `//`\n",
    "* `//` does **floor division**, not integer division\n",
    "* For positive numbers, floor division and integer division produce the same result"
   ]
  },
  {
   "cell_type": "code",
   "execution_count": 6,
   "id": "ec13091a-3b44-47c2-8433-89907acdddcb",
   "metadata": {
    "tags": [
     "notes-only"
    ]
   },
   "outputs": [
    {
     "name": "stdout",
     "output_type": "stream",
     "text": [
      "3\n",
      "3\n",
      "3\n"
     ]
    }
   ],
   "source": [
    "import math\n",
    "print(10 // 3)\n",
    "print(math.floor(10 / 3))\n",
    "print(int(10 / 3))"
   ]
  },
  {
   "cell_type": "markdown",
   "id": "8d906a29-a35b-42a2-9ec6-f69da765e2e2",
   "metadata": {
    "slideshow": {
     "slide_type": "fragment"
    },
    "tags": [
     "notes-only"
    ]
   },
   "source": [
    "* For negative numbers, floor division and integer division produce different results"
   ]
  },
  {
   "cell_type": "code",
   "execution_count": 7,
   "id": "538587d6-e7a6-4fa0-a289-3790fea2dcc1",
   "metadata": {
    "tags": [
     "notes-only"
    ]
   },
   "outputs": [
    {
     "name": "stdout",
     "output_type": "stream",
     "text": [
      "-4\n",
      "-4\n",
      "-3\n"
     ]
    }
   ],
   "source": [
    "import math\n",
    "print(-10 // 3)\n",
    "print(math.floor(-10 / 3))\n",
    "print(int(-10 / 3))"
   ]
  },
  {
   "cell_type": "markdown",
   "id": "a59cad4f-e768-41d0-85eb-c90ea7667f8d",
   "metadata": {
    "slideshow": {
     "slide_type": "slide"
    },
    "tags": []
   },
   "source": [
    "## Turtle graphics"
   ]
  },
  {
   "cell_type": "markdown",
   "id": "422af09b-6b72-4311-ba04-182aaafb003a",
   "metadata": {
    "slideshow": {
     "slide_type": "skip"
    },
    "tags": [
     "notes-only"
    ]
   },
   "source": [
    "* Useful for illustrating computational thinking\n",
    "* _What do you need to do before you can draw with a turtle?_\n",
    "    * Import the module — `import turtle`\n",
    "    * Create a graphics window — `window = turtle.Screen()`\n",
    "    * Create a `Turtle` object — `bowser = turtle.Turtle()`\n",
    "* Useful Turtle functions\n",
    "    * `forward(steps)` — move forward by the specified number of steps\n",
    "    * `left(degrees)` — turn to the left by the specified number of degrees\n",
    "    * `right(degrees)` — turn to the right by the specified number of degrees\n",
    "    * `up()` — stop drawing\n",
    "    * `down()` — resume drawing\n",
    "    \n",
    "### Practice"
   ]
  },
  {
   "cell_type": "markdown",
   "id": "8aa4cf6b-17b6-4d17-904a-e6a1862ea557",
   "metadata": {},
   "source": [
    "\\#1) _Write a program that draws the number 2 (like on a digital clock)._"
   ]
  },
  {
   "cell_type": "code",
   "execution_count": 1,
   "id": "031c88ef-7443-4c6d-8873-a8ba2e779ca4",
   "metadata": {
    "slideshow": {
     "slide_type": "skip"
    },
    "tags": [
     "notes-only"
    ]
   },
   "outputs": [],
   "source": [
    "import turtle\n",
    "window = turtle.Screen()\n",
    "bowser = turtle.Turtle() # Bowser is a fictional character in Nintendo's Mario series\n",
    "\n",
    "bowser.forward(50)\n",
    "bowser.right(90)\n",
    "bowser.forward(50)\n",
    "bowser.right(90)\n",
    "bowser.forward(50)\n",
    "bowser.left(90)\n",
    "bowser.forward(50)\n",
    "bowser.left(90)\n",
    "bowser.forward(50)\n",
    "\n",
    "window.exitonclick()"
   ]
  },
  {
   "cell_type": "markdown",
   "id": "f39dc099-5e94-41e1-8b64-ffe2c45280f3",
   "metadata": {
    "slideshow": {
     "slide_type": "skip"
    },
    "tags": [
     "worksheet-only"
    ]
   },
   "source": [
    "```Python\n",
    "\n",
    "\n",
    "\n",
    "\n",
    "\n",
    "\n",
    "\n",
    "\n",
    "\n",
    "\n",
    "\n",
    "\n",
    "```"
   ]
  },
  {
   "cell_type": "markdown",
   "id": "e271d831-12ff-448c-af61-68fa526ca37e",
   "metadata": {
    "slideshow": {
     "slide_type": "fragment"
    },
    "tags": []
   },
   "source": [
    "\\#2) _Write a program that draws an equilateral triangle_"
   ]
  },
  {
   "cell_type": "code",
   "execution_count": 1,
   "id": "410e3c72-2ce6-44b9-baca-9711c5b3cd1c",
   "metadata": {
    "slideshow": {
     "slide_type": "skip"
    },
    "tags": [
     "notes-only"
    ]
   },
   "outputs": [],
   "source": [
    "import turtle\n",
    "window = turtle.Screen()\n",
    "shelly = turtle.Turtle() # Shelly is a Muppet turtle who appeared on the television show Sesame Street\n",
    "\n",
    "shelly.forward(100)\n",
    "shelly.left(120)\n",
    "shelly.forward(100)\n",
    "shelly.left(120)\n",
    "shelly.forward(100)\n",
    "\n",
    "window.exitonclick()"
   ]
  },
  {
   "cell_type": "markdown",
   "id": "a66fcd35-29b6-4619-a878-694c54c41f32",
   "metadata": {
    "slideshow": {
     "slide_type": "skip"
    },
    "tags": [
     "worksheet-only"
    ]
   },
   "source": [
    "```Python\n",
    "\n",
    "\n",
    "\n",
    "\n",
    "\n",
    "\n",
    "\n",
    "\n",
    "\n",
    "\n",
    "```\n",
    "🛑 **STOP HERE** after completing the above problems; please **DO NOT WORK AHEAD**. If you have extra time, work on the extra practice problems at the end of the worksheet."
   ]
  },
  {
   "cell_type": "markdown",
   "id": "3ed20647-eae1-4d84-a032-cd5b7f69cb13",
   "metadata": {
    "slideshow": {
     "slide_type": "slide"
    },
    "tags": []
   },
   "source": [
    "## for loops"
   ]
  },
  {
   "cell_type": "markdown",
   "id": "19db26cd-de2e-42b8-9fd5-6d79f4f692b8",
   "metadata": {
    "slideshow": {
     "slide_type": "skip"
    },
    "tags": [
     "notes-only"
    ]
   },
   "source": [
    "### Overview\n",
    "* _What is the purpose of a for loop?_ — to do something repeatedly without duplicating the same code\n",
    "* Syntax:\n",
    "    ```Python\n",
    "    for loop_variable in list:\n",
    "        repeatedly executed statements (i.e., the loop body)\n",
    "    ```\n",
    "* _How many times is the loop body executed?_ — as many times as there are items in the list; each time is called an iteration\n",
    "* When is the loop variable updated?_ — before the loop body is executed each time (i.e., before each iteration)\n",
    "* _What is executed after the loop is finished?_ — the statements that come after the loop body and have the same level of indentation as the line containing `for`\n",
    "\n",
    "\n",
    "### Practice"
   ]
  },
  {
   "cell_type": "markdown",
   "id": "c58b22a4-8c0d-48f5-8d58-b3c332bcb3f7",
   "metadata": {},
   "source": [
    "_What is the output of each of the following programs?_"
   ]
  },
  {
   "cell_type": "code",
   "execution_count": 6,
   "id": "186a3689-4525-4fd0-8e91-7e9038130408",
   "metadata": {
    "tags": [
     "worksheet-code-only"
    ]
   },
   "outputs": [
    {
     "name": "stdout",
     "output_type": "stream",
     "text": [
      "5\n",
      "4\n",
      "3\n",
      "2\n",
      "1\n"
     ]
    }
   ],
   "source": [
    "#1)\n",
    "for num in [5,4,3,2,1]:\n",
    "    print(num)"
   ]
  },
  {
   "cell_type": "markdown",
   "id": "dbd48300-9902-4a83-9033-67b787c50806",
   "metadata": {
    "slideshow": {
     "slide_type": "skip"
    },
    "tags": [
     "worksheet-only"
    ]
   },
   "source": [
    "```\n",
    "```"
   ]
  },
  {
   "cell_type": "code",
   "execution_count": 2,
   "id": "974aa3f9-8c2e-4041-94a6-054a7d69baa0",
   "metadata": {
    "slideshow": {
     "slide_type": "fragment"
    },
    "tags": [
     "worksheet-code-only"
    ]
   },
   "outputs": [
    {
     "name": "stdout",
     "output_type": "stream",
     "text": [
      "apple\n",
      "orange\n",
      "pear\n"
     ]
    }
   ],
   "source": [
    "#2)\n",
    "for tree in ['apple', 'orange', 'pear']:\n",
    "    print(tree)"
   ]
  },
  {
   "cell_type": "markdown",
   "id": "aea2975c-c144-4eae-9237-970af91cca59",
   "metadata": {
    "slideshow": {
     "slide_type": "skip"
    },
    "tags": [
     "worksheet-only"
    ]
   },
   "source": [
    "```\n",
    "\n",
    "\n",
    "\n",
    "```"
   ]
  },
  {
   "cell_type": "code",
   "execution_count": 4,
   "id": "b2d533f1-5052-40fe-a1e8-e3f30431aa29",
   "metadata": {
    "slideshow": {
     "slide_type": "fragment"
    },
    "tags": [
     "worksheet-code-only"
    ]
   },
   "outputs": [
    {
     "name": "stdout",
     "output_type": "stream",
     "text": [
      "2\n",
      "4\n",
      "6\n"
     ]
    }
   ],
   "source": [
    "#3)\n",
    "for num in [1,2,3,4,5,6]:\n",
    "    if num%2 == 0:\n",
    "        print(num)"
   ]
  },
  {
   "cell_type": "markdown",
   "id": "5fcfbdfa-cecc-4d64-b1e2-bc6e26db8448",
   "metadata": {
    "slideshow": {
     "slide_type": "skip"
    },
    "tags": [
     "worksheet-only"
    ]
   },
   "source": [
    "```\\\n",
    "\n",
    "\n",
    "```"
   ]
  },
  {
   "cell_type": "code",
   "execution_count": 7,
   "id": "894cb5b9-07a1-473f-8593-98c233a7ddb3",
   "metadata": {
    "slideshow": {
     "slide_type": "subslide"
    },
    "tags": [
     "worksheet-code-only"
    ]
   },
   "outputs": [
    {
     "name": "stdout",
     "output_type": "stream",
     "text": [
      "3\n"
     ]
    }
   ],
   "source": [
    "#4)\n",
    "for num in [1,2,3]:\n",
    "    result = num\n",
    "print(result)"
   ]
  },
  {
   "cell_type": "markdown",
   "id": "d26d4b17-61fc-4246-bbbe-3f99b7eb4f73",
   "metadata": {
    "slideshow": {
     "slide_type": "skip"
    },
    "tags": [
     "worksheet-only"
    ]
   },
   "source": [
    "```\n",
    "\n",
    "\n",
    "```"
   ]
  },
  {
   "cell_type": "code",
   "execution_count": 1,
   "id": "fe1a9eed-8514-4614-a90f-94521fe3efb7",
   "metadata": {
    "slideshow": {
     "slide_type": "fragment"
    },
    "tags": [
     "worksheet-code-only"
    ]
   },
   "outputs": [],
   "source": [
    "#5)\n",
    "import turtle\n",
    "window = turtle.Screen()\n",
    "mock = turtle.Turtle() # Mock is a functional character in the book Alice's Adventures in Wonderland\n",
    "for side in ['a','b','c','d','e','f','g','h']:\n",
    "    mock.right(45)\n",
    "    mock.forward(100)\n",
    "window.exitonclick()"
   ]
  },
  {
   "cell_type": "markdown",
   "id": "c921dc46-df4a-4488-90c3-aa76112c0c25",
   "metadata": {
    "slideshow": {
     "slide_type": "skip"
    },
    "tags": [
     "notes-only"
    ]
   },
   "source": [
    "![octagon](figures/for_loops/octagon.png)"
   ]
  },
  {
   "cell_type": "markdown",
   "id": "be4c4436-282b-44ff-b5fa-3d43afe725a9",
   "metadata": {
    "slideshow": {
     "slide_type": "skip"
    },
    "tags": [
     "worksheet-only"
    ]
   },
   "source": [
    "```\n",
    "\n",
    "\n",
    "\n",
    "\n",
    "```"
   ]
  },
  {
   "cell_type": "code",
   "execution_count": 1,
   "id": "901f5731-c722-4ba4-8fbd-881fdf7def2f",
   "metadata": {
    "slideshow": {
     "slide_type": "subslide"
    },
    "tags": [
     "worksheet-code-only"
    ]
   },
   "outputs": [],
   "source": [
    "#6)\n",
    "import turtle\n",
    "window = turtle.Screen()\n",
    "spotty = turtle.Turtle() # Spotty is a fictional character in the book Old Mother West Wind\n",
    "spotty.pensize(3)\n",
    "for side in ['ul','ll','lr','ur']:\n",
    "    spotty.left(90)\n",
    "    spotty.forward(100)\n",
    "    spotty.left(90)\n",
    "    spotty.forward(100)\n",
    "    spotty.left(90)\n",
    "    spotty.forward(100)\n",
    "    spotty.left(90)\n",
    "    spotty.forward(100)\n",
    "    spotty.left(90)\n",
    "window.exitonclick()"
   ]
  },
  {
   "cell_type": "markdown",
   "id": "2f24296c-c984-41a1-8f65-67c972b30684",
   "metadata": {
    "slideshow": {
     "slide_type": "skip"
    },
    "tags": [
     "notes-only"
    ]
   },
   "source": [
    "![grid](figures/for_loops/grid.png)"
   ]
  },
  {
   "cell_type": "markdown",
   "id": "3c85e9f9-796f-426e-8315-6f277aa2229c",
   "metadata": {
    "slideshow": {
     "slide_type": "skip"
    },
    "tags": [
     "worksheet-only"
    ]
   },
   "source": [
    "```\n",
    "\n",
    "\n",
    "\n",
    "\n",
    "```\n",
    "🛑 **STOP HERE** after completing the above problems; please **DO NOT WORK AHEAD**. If you have extra time, work on the extra practice problems at the end of the worksheet."
   ]
  },
  {
   "cell_type": "markdown",
   "id": "dfe3f1ed-81e0-4608-ad90-80d705d0c4d7",
   "metadata": {
    "slideshow": {
     "slide_type": "slide"
    },
    "tags": []
   },
   "source": [
    "## Extra practice"
   ]
  },
  {
   "cell_type": "markdown",
   "id": "b78bd138-1048-430b-b01b-3b70639e733b",
   "metadata": {},
   "source": [
    "\\#1) _Write a program that draws a simple house._\n",
    "\n",
    "![House](figures/modules/house.png)"
   ]
  },
  {
   "cell_type": "code",
   "execution_count": null,
   "id": "96da0df6-965c-4250-a967-2c1a2c401cf8",
   "metadata": {
    "slideshow": {
     "slide_type": "skip"
    },
    "tags": [
     "notes-only"
    ]
   },
   "outputs": [],
   "source": [
    "import math\n",
    "import turtle\n",
    "\n",
    "window = turtle.Screen()\n",
    "zaha = turtle.Turtle()\n",
    "\n",
    "# Left wall\n",
    "zaha.right(90)\n",
    "zaha.forward(100)\n",
    "\n",
    "# Base and door\n",
    "zaha.left(90)\n",
    "zaha.forward(35)\n",
    "zaha.left(90)\n",
    "zaha.forward(50)\n",
    "zaha.right(90)\n",
    "zaha.forward(30)\n",
    "zaha.right(90)\n",
    "zaha.forward(50)\n",
    "zaha.left(90)\n",
    "zaha.forward(35)\n",
    "\n",
    "# Right wall\n",
    "zaha.left(90)\n",
    "zaha.forward(100)\n",
    "\n",
    "# Roof\n",
    "zaha.left(45)\n",
    "roof_side = int(math.sqrt(50 ** 2 + 50 ** 2))\n",
    "zaha.forward(roof_side)\n",
    "zaha.left(90)\n",
    "zaha.forward(roof_side)\n",
    "\n",
    "window.exitonclick()"
   ]
  },
  {
   "cell_type": "markdown",
   "id": "fb7e2fdb-d6ec-430b-99b0-7ac1fdb76acf",
   "metadata": {
    "slideshow": {
     "slide_type": "skip"
    },
    "tags": [
     "worksheet-only"
    ]
   },
   "source": [
    "```Python\n",
    "\n",
    "\n",
    "\n",
    "\n",
    "\n",
    "\n",
    "\n",
    "\n",
    "\n",
    "\n",
    "\n",
    "\n",
    "\n",
    "\n",
    "\n",
    "\n",
    "\n",
    "```"
   ]
  },
  {
   "cell_type": "markdown",
   "id": "f70e87f1-c902-4567-a518-b3d4b93c1e56",
   "metadata": {
    "slideshow": {
     "slide_type": "fragment"
    },
    "tags": []
   },
   "source": [
    "\\#2) _Write a number guessing game program: The computer chooses a random number between 1 and 20. The user has 5 chances to guess the correct number. When a user makes a guess, the program should tell them if their number is correct, too high, or too low._"
   ]
  },
  {
   "cell_type": "code",
   "execution_count": null,
   "id": "c5ffa2a2-fe66-4bad-80a3-32b3133703f6",
   "metadata": {
    "slideshow": {
     "slide_type": "skip"
    },
    "tags": [
     "notes-only"
    ]
   },
   "outputs": [],
   "source": [
    "import random\n",
    "# Choose number\n",
    "num = random.randrange(1,21)\n",
    "# Give user five guesses\n",
    "for i in [1,2,3,4,5]:\n",
    "    guess = int(input(\"What is your guess? \"))\n",
    "    # Provide feedback on guess\n",
    "    if (num == guess):\n",
    "        print(\"You are correct!\")\n",
    "        # Exit for loop\n",
    "        break\n",
    "    elif (num < guess):\n",
    "        print(\"Your guess is too high\")\n",
    "    else:\n",
    "        print(\"Your guess is too low\")"
   ]
  }
 ],
 "metadata": {
  "kernelspec": {
   "display_name": "Python 3 (ipykernel)",
   "language": "python",
   "name": "python3"
  },
  "language_info": {
   "codemirror_mode": {
    "name": "ipython",
    "version": 3
   },
   "file_extension": ".py",
   "mimetype": "text/x-python",
   "name": "python",
   "nbconvert_exporter": "python",
   "pygments_lexer": "ipython3",
   "version": "3.8.2"
  }
 },
 "nbformat": 4,
 "nbformat_minor": 5
}
