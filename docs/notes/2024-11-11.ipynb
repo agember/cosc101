{
 "cells": [
  {
   "cell_type": "markdown",
   "metadata": {
    "editable": true,
    "slideshow": {
     "slide_type": "skip"
    },
    "tags": []
   },
   "source": [
    "# Key/value data: dictionary operations\n",
    "_COSC 101, Introduction to Computing I, 2024-11-11_"
   ]
  },
  {
   "cell_type": "markdown",
   "metadata": {
    "editable": true,
    "slideshow": {
     "slide_type": "skip"
    },
    "tags": []
   },
   "source": [
    "## Announcements\n",
    "* Homework 7 due Thursday at 11:59pm"
   ]
  },
  {
   "cell_type": "markdown",
   "metadata": {
    "editable": true,
    "slideshow": {
     "slide_type": ""
    },
    "tags": []
   },
   "source": [
    "## Dictionaries"
   ]
  },
  {
   "cell_type": "markdown",
   "metadata": {
    "editable": true,
    "slideshow": {
     "slide_type": "skip"
    },
    "tags": [
     "notes-only"
    ]
   },
   "source": [
    "* Recall: string is a sequence of characters; list is a sequence of values\n",
    "* Dictionary is a collection of key-value pairs\n",
    "    * Analogy: dictionary (non-programming sense) is a collection of words and their definitions\n",
    "    * Each key has a single corresponding value\n",
    "    * A dictionary cannot contain the same key more than once\n",
    "    * Key can be of any *hashable* type (e.g., string, int, bool, tuple); may have keys of multiple types\n",
    "    * Value can be of any type; may have values of multiple types\n",
    "* *How do you create an empty dictionary?* — `{}`\n",
    "* *How do you refer to a particular item in a dictionary?* — `dictname[keyname]`"
   ]
  },
  {
   "cell_type": "markdown",
   "metadata": {
    "editable": true,
    "slideshow": {
     "slide_type": "skip"
    },
    "tags": [
     "blank"
    ]
   },
   "source": [
    "```\n",
    "\n",
    "\n",
    "\n",
    "\n",
    "\n",
    "\n",
    "\n",
    "```"
   ]
  },
  {
   "cell_type": "markdown",
   "metadata": {
    "editable": true,
    "slideshow": {
     "slide_type": ""
    },
    "tags": [
     "question"
    ]
   },
   "source": [
    "*What is the output of each of the following programs?*"
   ]
  },
  {
   "cell_type": "code",
   "execution_count": 5,
   "metadata": {
    "editable": true,
    "slideshow": {
     "slide_type": ""
    },
    "tags": [
     "worksheet-code-only"
    ]
   },
   "outputs": [
    {
     "name": "stdout",
     "output_type": "stream",
     "text": [
      "Bulldogs\n",
      "{'Colgate': 'Raiders', 'Yale': 'Bulldogs', 'Brown': 'Bears', 'Princeton': 'Tigers'}\n",
      "4\n"
     ]
    }
   ],
   "source": [
    "def main() -> None:\n",
    "    teams = { 'Colgate' : 'Raiders', 'Yale' : 'Bulldogs' }\n",
    "    print(teams['Yale'])\n",
    "    teams['Brown'] = 'Bears'\n",
    "    teams['Princeton'] = 'Tigers'\n",
    "    print(teams)\n",
    "    print(len(teams))\n",
    "main()"
   ]
  },
  {
   "cell_type": "markdown",
   "metadata": {
    "editable": true,
    "slideshow": {
     "slide_type": "skip"
    },
    "tags": [
     "blank"
    ]
   },
   "source": [
    "```\n",
    "\n",
    "\n",
    "\n",
    "\n",
    "```"
   ]
  },
  {
   "cell_type": "code",
   "execution_count": 10,
   "metadata": {
    "editable": true,
    "slideshow": {
     "slide_type": "subslide"
    },
    "tags": [
     "worksheet-code-only"
    ]
   },
   "outputs": [
    {
     "name": "stdout",
     "output_type": "stream",
     "text": [
      "Yale\n"
     ]
    },
    {
     "ename": "KeyError",
     "evalue": "5",
     "output_type": "error",
     "traceback": [
      "\u001b[0;31m---------------------------------------------------------------------------\u001b[0m",
      "\u001b[0;31mKeyError\u001b[0m                                  Traceback (most recent call last)",
      "Cell \u001b[0;32mIn[10], line 9\u001b[0m\n\u001b[1;32m      7\u001b[0m     \u001b[38;5;28mprint\u001b[39m(ranks[\u001b[38;5;241m4\u001b[39m])\n\u001b[1;32m      8\u001b[0m     \u001b[38;5;28mprint\u001b[39m(ranks[\u001b[38;5;241m5\u001b[39m])\n\u001b[0;32m----> 9\u001b[0m \u001b[43mmain\u001b[49m\u001b[43m(\u001b[49m\u001b[43m)\u001b[49m\n",
      "Cell \u001b[0;32mIn[10], line 8\u001b[0m, in \u001b[0;36mmain\u001b[0;34m()\u001b[0m\n\u001b[1;32m      6\u001b[0m ranks[\u001b[38;5;241m4\u001b[39m] \u001b[38;5;241m=\u001b[39m \u001b[38;5;124m'\u001b[39m\u001b[38;5;124mYale\u001b[39m\u001b[38;5;124m'\u001b[39m\n\u001b[1;32m      7\u001b[0m \u001b[38;5;28mprint\u001b[39m(ranks[\u001b[38;5;241m4\u001b[39m])\n\u001b[0;32m----> 8\u001b[0m \u001b[38;5;28mprint\u001b[39m(\u001b[43mranks\u001b[49m\u001b[43m[\u001b[49m\u001b[38;5;241;43m5\u001b[39;49m\u001b[43m]\u001b[49m)\n",
      "\u001b[0;31mKeyError\u001b[0m: 5"
     ]
    }
   ],
   "source": [
    "def main() -> None:\n",
    "    ranks = {}\n",
    "    ranks[8] = 'Brown'\n",
    "    ranks[7] = 'Princeton'\n",
    "    ranks[6] = 'Colgate'\n",
    "    ranks[4] = 'Yale'\n",
    "    print(ranks[4])\n",
    "    print(ranks[5])\n",
    "main()"
   ]
  },
  {
   "cell_type": "markdown",
   "metadata": {
    "editable": true,
    "slideshow": {
     "slide_type": "skip"
    },
    "tags": [
     "blank"
    ]
   },
   "source": [
    "```\n",
    "\n",
    "\n",
    "\n",
    "\n",
    "```"
   ]
  },
  {
   "cell_type": "code",
   "execution_count": 11,
   "metadata": {
    "slideshow": {
     "slide_type": "subslide"
    },
    "tags": [
     "worksheet-code-only"
    ]
   },
   "outputs": [
    {
     "name": "stdout",
     "output_type": "stream",
     "text": [
      "{'McCorkle': 'Colgate', 'Yale': 'Wendell'}\n"
     ]
    },
    {
     "ename": "KeyError",
     "evalue": "0",
     "output_type": "error",
     "traceback": [
      "\u001b[0;31m---------------------------------------------------------------------------\u001b[0m",
      "\u001b[0;31mKeyError\u001b[0m                                  Traceback (most recent call last)",
      "Cell \u001b[0;32mIn[11], line 5\u001b[0m\n\u001b[1;32m      3\u001b[0m     \u001b[38;5;28mprint\u001b[39m(players)\n\u001b[1;32m      4\u001b[0m     \u001b[38;5;28mprint\u001b[39m(players[\u001b[38;5;241m0\u001b[39m])\n\u001b[0;32m----> 5\u001b[0m \u001b[43mmain\u001b[49m\u001b[43m(\u001b[49m\u001b[43m)\u001b[49m\n",
      "Cell \u001b[0;32mIn[11], line 4\u001b[0m, in \u001b[0;36mmain\u001b[0;34m()\u001b[0m\n\u001b[1;32m      2\u001b[0m players \u001b[38;5;241m=\u001b[39m {\u001b[38;5;124m'\u001b[39m\u001b[38;5;124mMcCorkle\u001b[39m\u001b[38;5;124m'\u001b[39m : \u001b[38;5;124m'\u001b[39m\u001b[38;5;124mColgate\u001b[39m\u001b[38;5;124m'\u001b[39m, \u001b[38;5;124m'\u001b[39m\u001b[38;5;124mYale\u001b[39m\u001b[38;5;124m'\u001b[39m : \u001b[38;5;124m'\u001b[39m\u001b[38;5;124mWendell\u001b[39m\u001b[38;5;124m'\u001b[39m }\n\u001b[1;32m      3\u001b[0m \u001b[38;5;28mprint\u001b[39m(players)\n\u001b[0;32m----> 4\u001b[0m \u001b[38;5;28mprint\u001b[39m(\u001b[43mplayers\u001b[49m\u001b[43m[\u001b[49m\u001b[38;5;241;43m0\u001b[39;49m\u001b[43m]\u001b[49m)\n",
      "\u001b[0;31mKeyError\u001b[0m: 0"
     ]
    }
   ],
   "source": [
    "def main() -> None:\n",
    "    players = {'McCorkle' : 'Colgate', 'Yale' : 'Wendell' }\n",
    "    print(players)\n",
    "    print(players[0])\n",
    "main()"
   ]
  },
  {
   "cell_type": "markdown",
   "metadata": {
    "editable": true,
    "slideshow": {
     "slide_type": "skip"
    },
    "tags": [
     "blank"
    ]
   },
   "source": [
    "```\n",
    "\n",
    "\n",
    "\n",
    "\n",
    "```"
   ]
  },
  {
   "cell_type": "markdown",
   "metadata": {
    "editable": true,
    "slideshow": {
     "slide_type": "slide"
    },
    "tags": []
   },
   "source": [
    "## Dictionary operations"
   ]
  },
  {
   "cell_type": "markdown",
   "metadata": {
    "editable": true,
    "slideshow": {
     "slide_type": "skip"
    },
    "tags": [
     "notes-only"
    ]
   },
   "source": [
    "* `len()` — number of keys in the dictionary\n",
    "* `in` — checks if key exists in dictionary\n",
    "    * Using with a `for` loop iterates over the keys\n",
    "* `del` — remove a key and its corresponding value"
   ]
  },
  {
   "cell_type": "markdown",
   "metadata": {
    "editable": true,
    "slideshow": {
     "slide_type": ""
    },
    "tags": [
     "question"
    ]
   },
   "source": [
    "*What is the output of each of the following programs?*"
   ]
  },
  {
   "cell_type": "code",
   "execution_count": 12,
   "metadata": {
    "tags": [
     "worksheet-code-only"
    ]
   },
   "outputs": [
    {
     "name": "stdout",
     "output_type": "stream",
     "text": [
      "McCorkle Raiders\n",
      "Wendell Bulldogs\n",
      "Olnowich Tigers\n",
      "Edwards Bears\n"
     ]
    }
   ],
   "source": [
    "def main() -> None:\n",
    "    players = {'McCorkle' : 'Colgate', 'Wendell' : 'Yale', 'Olnowich' : 'Princeton' , 'Edwards' : 'Brown'}\n",
    "    teams = {'Colgate': 'Raiders', 'Yale': 'Bulldogs', 'Brown': 'Bears', 'Princeton': 'Tigers'}\n",
    "    for k in players:\n",
    "        v = players[k]\n",
    "        print(k, teams[v])\n",
    "main()"
   ]
  },
  {
   "cell_type": "markdown",
   "metadata": {
    "editable": true,
    "slideshow": {
     "slide_type": "skip"
    },
    "tags": [
     "blank"
    ]
   },
   "source": [
    "```\n",
    "\n",
    "\n",
    "\n",
    "\n",
    "\n",
    "\n",
    "```"
   ]
  },
  {
   "cell_type": "code",
   "execution_count": 9,
   "metadata": {
    "slideshow": {
     "slide_type": "subslide"
    },
    "tags": [
     "worksheet-code-only"
    ]
   },
   "outputs": [
    {
     "name": "stdout",
     "output_type": "stream",
     "text": [
      "Go Brown\n",
      "Go Bears\n",
      "Well done Bears\n",
      "Go Yale\n",
      "Go Bulldogs\n",
      "Well done Bulldogs\n"
     ]
    }
   ],
   "source": [
    "def main() -> None:\n",
    "    teams = {'Colgate': 'Raiders', 'Yale': 'Bulldogs', 'Brown': 'Bears', 'Princeton': 'Tigers'}\n",
    "    played = ['Brown', 'Yale']\n",
    "    for i in played:\n",
    "        if i in teams:\n",
    "            print(\"Go\",i)\n",
    "        print(\"Go\",teams[i])\n",
    "        print(\"Well done\",teams[i])\n",
    "main()"
   ]
  },
  {
   "cell_type": "markdown",
   "metadata": {
    "editable": true,
    "slideshow": {
     "slide_type": "skip"
    },
    "tags": [
     "blank"
    ]
   },
   "source": [
    "```\n",
    "\n",
    "\n",
    "\n",
    "\n",
    "\n",
    "\n",
    "```"
   ]
  },
  {
   "cell_type": "code",
   "execution_count": 13,
   "metadata": {
    "slideshow": {
     "slide_type": "subslide"
    },
    "tags": [
     "worksheet-code-only"
    ]
   },
   "outputs": [
    {
     "name": "stdout",
     "output_type": "stream",
     "text": [
      "{'Colgate': 2, 'Yale': 1}\n"
     ]
    }
   ],
   "source": [
    "def main() -> None:\n",
    "    teams = {}\n",
    "    players = {'McCorkle' : 'Colgate', 'Wendell' : 'Yale', 'Murphy' : 'Colgate'}\n",
    "    for j in players.values():\n",
    "        if j not in teams:\n",
    "            teams[j] = 0\n",
    "        teams[j] += 1\n",
    "    print(teams)\n",
    "main()"
   ]
  },
  {
   "cell_type": "markdown",
   "metadata": {
    "editable": true,
    "slideshow": {
     "slide_type": "skip"
    },
    "tags": [
     "blank"
    ]
   },
   "source": [
    "```\n",
    "\n",
    "\n",
    "\n",
    "\n",
    "\n",
    "\n",
    "```"
   ]
  }
 ],
 "metadata": {
  "celltoolbar": "Tags",
  "kernelspec": {
   "display_name": "Python 3 (ipykernel)",
   "language": "python",
   "name": "python3"
  },
  "language_info": {
   "codemirror_mode": {
    "name": "ipython",
    "version": 3
   },
   "file_extension": ".py",
   "mimetype": "text/x-python",
   "name": "python",
   "nbconvert_exporter": "python",
   "pygments_lexer": "ipython3",
   "version": "3.9.6"
  }
 },
 "nbformat": 4,
 "nbformat_minor": 4
}
