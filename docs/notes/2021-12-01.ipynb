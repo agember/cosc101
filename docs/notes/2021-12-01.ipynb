{
 "cells": [
  {
   "cell_type": "markdown",
   "id": "b1ab47a6-7c30-489f-aee6-9993cda72f25",
   "metadata": {
    "slideshow": {
     "slide_type": "skip"
    },
    "tags": []
   },
   "source": [
    "# recursion\n",
    "_COSC 101, Introduction to Computing I, 2021-12-01_"
   ]
  },
  {
   "cell_type": "markdown",
   "id": "0736501a-6e1e-434e-b767-94ea91c8317e",
   "metadata": {
    "slideshow": {
     "slide_type": "skip"
    },
    "tags": []
   },
   "source": [
    "## Announcements\n",
    "* Homework #9 due tomorrow @ 5pm\n",
    "* DEI reflection due Monday @ 11pm"
   ]
  },
  {
   "cell_type": "markdown",
   "id": "46405428-9a28-4d36-bce5-ff99beb2ce2f",
   "metadata": {
    "slideshow": {
     "slide_type": "skip"
    },
    "tags": [
     "notes-only"
    ]
   },
   "source": [
    "## Outline\n",
    "* SETs\n",
    "* Computational thinking\n",
    "* Recursive functions"
   ]
  },
  {
   "cell_type": "markdown",
   "id": "54a7d91a-ae63-4257-bd0f-d14ff14a96a3",
   "metadata": {
    "slideshow": {
     "slide_type": "subslide"
    },
    "tags": []
   },
   "source": [
    "## Warm-up\n",
    "*Assume each line of the file `synonyms.txt` contains a word followed by one or more synonyms, e.g.:*\n",
    "```\n",
    "small little compact tiny\n",
    "large big huge immense vast\n",
    "tall large towering \n",
    "```\n",
    "*Write a function called `load_synonyms` that reads the file and returns a dictionary containing the words and their corresponding list of synonyms, e.g.:*\n",
    "```\n",
    "{'small' : ['little','compact','tiny'], \n",
    " 'large' : ['big','huge','immense','vast'], \n",
    " 'tall' : ['large','towering']}\n",
    "```"
   ]
  },
  {
   "cell_type": "code",
   "execution_count": 1,
   "id": "929c4c0a-476a-4069-8e54-aa763f90755a",
   "metadata": {
    "slideshow": {
     "slide_type": "skip"
    },
    "tags": [
     "colab-only"
    ]
   },
   "outputs": [],
   "source": [
    "with open('synonyms.txt', 'w') as outfile:\n",
    "    outfile.write('small little compact tiny\\nlarge big huge immense vast\\ntall large towering')"
   ]
  },
  {
   "cell_type": "code",
   "execution_count": 2,
   "id": "c196c560-f4d7-4d7f-9f25-981b03411506",
   "metadata": {
    "slideshow": {
     "slide_type": "skip"
    },
    "tags": [
     "notes-only"
    ]
   },
   "outputs": [],
   "source": [
    "def load_synonyms():\n",
    "    \"\"\"\n",
    "    >>> load_synonyms()\n",
    "    {'small': ['little', 'compact', 'tiny'], \n",
    "     'large': ['big', 'huge', 'immense', 'vast'],\n",
    "     'tall': ['large', 'towering']}\n",
    "    \"\"\"\n",
    "    file = open('synonyms.txt', 'r')\n",
    "    synonyms = {}\n",
    "    for line in file:\n",
    "        words = line.split()\n",
    "        synonyms[words[0]] = words[1:]\n",
    "    file.close()\n",
    "    return synonyms"
   ]
  },
  {
   "cell_type": "markdown",
   "id": "a2155862-2621-4e2b-9828-d9ccfbf85c12",
   "metadata": {
    "slideshow": {
     "slide_type": "skip"
    },
    "tags": [
     "worksheet-only"
    ]
   },
   "source": [
    "```\n",
    "\n",
    "\n",
    "\n",
    "\n",
    "\n",
    "\n",
    "\n",
    "\n",
    "\n",
    "\n",
    "\n",
    "\n",
    "\n",
    "\n",
    "\n",
    "\n",
    "\n",
    "\n",
    "\n",
    "```\n",
    "🛑 **STOP HERE** after completing the warm-up; please **DO NOT WORK AHEAD**. If you have extra time, work on the extra practice problems.\n",
    "\n",
    "<div style=\"page-break-after:always;\"></div>"
   ]
  },
  {
   "cell_type": "markdown",
   "id": "029521a6-c443-411a-9b76-097cf913f9ae",
   "metadata": {
    "slideshow": {
     "slide_type": "skip"
    },
    "tags": [
     "notes-only"
    ]
   },
   "source": [
    "## Computational thinking\n",
    "* _Write an algorithm to count how many people there are between you and the left wall of the classroom, including yourself._\n",
    "    ```\n",
    "    count = 0\n",
    "    for desk in your_row:\n",
    "        if person in desk:\n",
    "            if person == you:\n",
    "              return count + 1\n",
    "            else:\n",
    "              count = count + 1\n",
    "    ```\n",
    "* _Now assume the person sitting to your left could help you count how many people there are between you and the left wall of the classroom. What would you ask that person to do? (Assume there is a person to your left.)_\n",
    "    * Ask them to count the number of people to their left, including themself, and tell you the count\n",
    "    * (Wait while they count)\n",
    "    * You add one to their count so the count also includes yourself\n",
    "* _What should you do if there is no person to your left?_ — say the number of people is 1 (i.e., just yourself)\n",
    "* Pseudocode\n",
    "    ```\n",
    "    if not person_to_left:\n",
    "        return 1\n",
    "    else:\n",
    "        count = ask_person_to_left()\n",
    "        return count + 1\n",
    "    ```\n",
    "* What if we wanted to count the total number of people in the row?\n",
    "    * The rightmost person in the row executes our algorithm first\n",
    "    * Everyone in the row is following the same algorithm, so we'll put it in a function so everyone in the row can \"re-use\" the same instructions\n",
    "        ```\n",
    "        def ask_person_to_left():\n",
    "            if not person_to_left:\n",
    "                return 1\n",
    "            else:\n",
    "                count = ask_person_to_left()\n",
    "                return count + 1\n",
    "        ```\n",
    "* Congratulations, you just wrote your first recursive function!"
   ]
  },
  {
   "cell_type": "markdown",
   "id": "d52150f8-c3ef-4f9d-a502-28696fe38008",
   "metadata": {
    "slideshow": {
     "slide_type": "slide"
    },
    "tags": []
   },
   "source": [
    "## Recursion"
   ]
  },
  {
   "cell_type": "markdown",
   "id": "c0660c57-063b-4ad8-96aa-c7f998542574",
   "metadata": {
    "slideshow": {
     "slide_type": "skip"
    },
    "tags": [
     "notes-only"
    ]
   },
   "source": [
    "### Overview\n",
    "* A method of solving a problem that breaks the problem into smaller and smaller subproblems until the subproblem is trivial to solve\n",
    "    * E.g., add one to left neighbor’s count; if person has no left neighbor, they answer 1\n",
    "* A function calls itself — e.g., `ask_person_to_left()`\n",
    "* Every recursive function must have:\n",
    "    * Base case — problem is simple, often when one or nothing is left\n",
    "        * Solve problem directly\n",
    "    * Recursive case — problem is not simple enough to solve directly\n",
    "        * Divide — break into two pieces, a simple piece to handle now and a \"harder\" piece that is a smaller version of the same problem\n",
    "        * Recurse — make a recursive function call (i.e., function calls itself) with harder piece and trust that it will come together correctly\n",
    "        * Combine — put the result of the recursive call and the simple piece together into a complete solution\n",
    "\n",
    "### Practice"
   ]
  },
  {
   "cell_type": "markdown",
   "id": "4328a767-e65e-4ba4-a1a7-e68ec96ee075",
   "metadata": {},
   "source": [
    "_For each of the following problems:_\n",
    "1. _What is the condition and result for the base case?_\n",
    "2. _What is the smaller problem on which you recurse?_\n",
    "3. _How do you combine the simple piece and the result of the recursive call?_\n",
    "\n",
    "\\#1) Count the number of people between you and the left wall of the classroom, including yourself"
   ]
  },
  {
   "cell_type": "markdown",
   "id": "0c0aa723-9773-4298-9d5f-5736b8a3c535",
   "metadata": {
    "slideshow": {
     "slide_type": "skip"
    },
    "tags": [
     "notes-only"
    ]
   },
   "source": [
    "1. Condition: no person to your left; result: 1\n",
    "2. Count the number of people between you and the left wall of the classroom, including yourself\n",
    "3. Add one to your neighbor's count"
   ]
  },
  {
   "cell_type": "markdown",
   "id": "164e922e-8e2c-46f8-84a6-aec22cc69010",
   "metadata": {
    "slideshow": {
     "slide_type": "skip"
    },
    "tags": [
     "worksheet-only"
    ]
   },
   "source": [
    "```\n",
    "\n",
    "\n",
    "\n",
    "\n",
    "\n",
    "\n",
    "\n",
    "\n",
    "```"
   ]
  },
  {
   "cell_type": "markdown",
   "id": "fb17c7c3-5b83-4930-985b-512a5cf4b13d",
   "metadata": {
    "slideshow": {
     "slide_type": "fragment"
    },
    "tags": []
   },
   "source": [
    "\\#2) Sum the numbers in a list"
   ]
  },
  {
   "cell_type": "markdown",
   "id": "0a251282-56cf-4e67-98c8-7432c0fd45c3",
   "metadata": {
    "slideshow": {
     "slide_type": "skip"
    },
    "tags": [
     "notes-only"
    ]
   },
   "source": [
    "1. Condition: list with one (or zero) number(s); result: the number (or zero)\n",
    "2. List without the first (or last) number\n",
    "3. Add the first (or last) number in the list to the sum of the rest of the list"
   ]
  },
  {
   "cell_type": "markdown",
   "id": "4eaefc11-d0df-49db-b529-905b4f96ec7f",
   "metadata": {
    "slideshow": {
     "slide_type": "skip"
    },
    "tags": [
     "worksheet-only"
    ]
   },
   "source": [
    "```\n",
    "\n",
    "\n",
    "\n",
    "\n",
    "\n",
    "\n",
    "\n",
    "\n",
    "```"
   ]
  },
  {
   "cell_type": "markdown",
   "id": "5d9f2068-dc5a-41a4-94e8-9c83b0d8f1ce",
   "metadata": {
    "slideshow": {
     "slide_type": "fragment"
    },
    "tags": []
   },
   "source": [
    "\\#3) Reverse the characters in a string (e.g., `COLGATE` becomes `ETAGLOC`"
   ]
  },
  {
   "cell_type": "markdown",
   "id": "af6d0fe1-adf8-47c3-b29e-22e8fc34aff7",
   "metadata": {
    "slideshow": {
     "slide_type": "skip"
    },
    "tags": [
     "notes-only"
    ]
   },
   "source": [
    "1. Condition: string with one (or zero) character(s); result: single character (or empty string)\n",
    "2. Reverse the string without the first (or last) character\n",
    "3. Add the reverse of the rest of the string to the first character of the string (or add the last character of the string to the reverse of the rest of the string"
   ]
  },
  {
   "cell_type": "markdown",
   "id": "4c1e6f07-aa11-4ffa-bf78-92ec65f7f970",
   "metadata": {
    "slideshow": {
     "slide_type": "skip"
    },
    "tags": [
     "worksheet-only"
    ]
   },
   "source": [
    "```\n",
    "\n",
    "\n",
    "\n",
    "\n",
    "\n",
    "\n",
    "\n",
    "\n",
    "```"
   ]
  },
  {
   "cell_type": "markdown",
   "id": "7224c33b-b8bd-47e4-968a-1b9f5409f720",
   "metadata": {
    "slideshow": {
     "slide_type": "slide"
    },
    "tags": []
   },
   "source": [
    "## Extra practice\n",
    "\\#1) _Write a recursive function called `sumr` that sums the numbers in a list_"
   ]
  },
  {
   "cell_type": "code",
   "execution_count": 14,
   "id": "ce48f918-3458-44b9-9ac0-29208cc74eb7",
   "metadata": {
    "slideshow": {
     "slide_type": "skip"
    },
    "tags": [
     "notes-only"
    ]
   },
   "outputs": [],
   "source": [
    "def sumr(lst):\n",
    "    \"\"\"\n",
    "    >>> sumr([1, 2, 3, 4])\n",
    "    10\n",
    "    \"\"\"\n",
    "    if len(lst) == 0:\n",
    "        result = 0\n",
    "    else:\n",
    "        rest = lst[1:]\n",
    "        result = sumr(rest) + lst[0]\n",
    "    return result"
   ]
  },
  {
   "cell_type": "markdown",
   "id": "7d2018ce-73d0-475b-8110-8032eb38b1f2",
   "metadata": {
    "slideshow": {
     "slide_type": "skip"
    },
    "tags": [
     "worksheet-only"
    ]
   },
   "source": [
    "```\n",
    "\n",
    "\n",
    "\n",
    "\n",
    "\n",
    "\n",
    "\n",
    "\n",
    "\n",
    "\n",
    "\n",
    "```"
   ]
  },
  {
   "cell_type": "markdown",
   "id": "d0a738e1-7954-4515-b753-1895c57b9c2b",
   "metadata": {},
   "source": [
    "\\#2) _Write a recursive function called `reverser` that reverses the characters in a string_"
   ]
  },
  {
   "cell_type": "code",
   "execution_count": 15,
   "id": "a717e7be-7bd0-4385-915b-ff30ac91bc5f",
   "metadata": {
    "slideshow": {
     "slide_type": "skip"
    },
    "tags": [
     "notes-only"
    ]
   },
   "outputs": [],
   "source": [
    "def reverser(string):\n",
    "    \"\"\"\n",
    "    >>> reverser('COLGATE')\n",
    "    'ETAGLOC'\n",
    "    \"\"\"\n",
    "    if len(string) == 0:\n",
    "        result = \"\"\n",
    "    else:\n",
    "        rest = string[1:]\n",
    "        result = reverser(rest) + string[0]\n",
    "    return result"
   ]
  },
  {
   "cell_type": "code",
   "execution_count": 16,
   "id": "b6d02bf6-6598-40f9-b8dc-bffa659e59ec",
   "metadata": {
    "slideshow": {
     "slide_type": "skip"
    },
    "tags": [
     "colab-only"
    ]
   },
   "outputs": [
    {
     "name": "stdout",
     "output_type": "stream",
     "text": [
      "**********************************************************************\n",
      "File \"__main__\", line 3, in __main__.load_synonyms\n",
      "Failed example:\n",
      "    load_synonyms()\n",
      "Expected:\n",
      "    {'small': ['little', 'compact', 'tiny'], \n",
      "     'large': ['big', 'huge', 'immense', 'vast'],\n",
      "     'tall': ['large', 'towering']}\n",
      "Got:\n",
      "    {'small': ['little', 'compact', 'tiny'], 'large': ['big', 'huge', 'immense', 'vast'], 'tall': ['large', 'towering']}\n",
      "**********************************************************************\n",
      "1 items had failures:\n",
      "   1 of   1 in __main__.load_synonyms\n",
      "***Test Failed*** 1 failures.\n"
     ]
    },
    {
     "data": {
      "text/plain": [
       "TestResults(failed=1, attempted=3)"
      ]
     },
     "execution_count": 16,
     "metadata": {},
     "output_type": "execute_result"
    }
   ],
   "source": [
    "import doctest\n",
    "doctest.testmod()"
   ]
  }
 ],
 "metadata": {
  "kernelspec": {
   "display_name": "Python 3 (ipykernel)",
   "language": "python",
   "name": "python3"
  },
  "language_info": {
   "codemirror_mode": {
    "name": "ipython",
    "version": 3
   },
   "file_extension": ".py",
   "mimetype": "text/x-python",
   "name": "python",
   "nbconvert_exporter": "python",
   "pygments_lexer": "ipython3",
   "version": "3.8.2"
  }
 },
 "nbformat": 4,
 "nbformat_minor": 5
}
