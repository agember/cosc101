{
 "cells": [
  {
   "cell_type": "markdown",
   "id": "559c9099-9563-4730-ac81-f2f47b4f83d2",
   "metadata": {},
   "source": [
    "# Exam 1 review\n",
    "_COSC 101, Introduction to Computing I, 2021-09-20_"
   ]
  },
  {
   "cell_type": "markdown",
   "id": "acf70d86-39b2-4945-890e-b351346ae85f",
   "metadata": {},
   "source": [
    "## Announcements\n",
    "* Exam 1 Wednesday during class\n",
    "    * Review materials posted on Moodle\n",
    "* Homework 3 due Thursday, September 30 @ 5pm"
   ]
  },
  {
   "cell_type": "markdown",
   "id": "1dea39c8-2497-4f85-a50d-9da472ba9ec9",
   "metadata": {},
   "source": [
    "## Exam topics\n",
    "* Types (int, str, float, bool)\n",
    "* Expressions, variables, and assignment\n",
    "* Interactive programs (input, print)\n",
    "* Modules (import, random, math, turtle)\n",
    "* Conditional statements (if/elif/else)\n",
    "* Repetition with definite loops (for)\n",
    "* Accumulator patterns"
   ]
  },
  {
   "cell_type": "markdown",
   "id": "d45b7dcc-2caf-4508-92ec-e31fd3d64185",
   "metadata": {},
   "source": [
    "## Expressions\n",
    "_What is the result of each expression? If an error occurs, describe what is wrong._"
   ]
  },
  {
   "cell_type": "code",
   "execution_count": 1,
   "id": "02f036a5-d37d-44ef-8222-e88ac89d7842",
   "metadata": {
    "tags": [
     "worksheet-code-only"
    ]
   },
   "outputs": [
    {
     "data": {
      "text/plain": [
       "float"
      ]
     },
     "execution_count": 1,
     "metadata": {},
     "output_type": "execute_result"
    }
   ],
   "source": [
    "#1)\n",
    "type(5.0)"
   ]
  },
  {
   "cell_type": "markdown",
   "id": "74878245-52c0-4fa3-b592-9d9490f7ba0b",
   "metadata": {
    "tags": [
     "worksheet-only"
    ]
   },
   "source": [
    "```\n",
    "\n",
    "```"
   ]
  },
  {
   "cell_type": "code",
   "execution_count": 38,
   "id": "9a09b390-facc-418a-9555-95f9c1d79904",
   "metadata": {
    "tags": [
     "worksheet-code-only"
    ]
   },
   "outputs": [
    {
     "data": {
      "text/plain": [
       "str"
      ]
     },
     "execution_count": 38,
     "metadata": {},
     "output_type": "execute_result"
    }
   ],
   "source": [
    "#2)\n",
    "type('17')"
   ]
  },
  {
   "cell_type": "markdown",
   "id": "80ac73de-0b96-4c78-8984-c1bc7ac5028e",
   "metadata": {
    "tags": [
     "worksheet-only"
    ]
   },
   "source": [
    "```\n",
    "\n",
    "```"
   ]
  },
  {
   "cell_type": "code",
   "execution_count": 4,
   "id": "98e5f7f6-55fa-4b3d-bd50-6bdc533b1b1b",
   "metadata": {
    "tags": [
     "worksheet-code-only"
    ]
   },
   "outputs": [
    {
     "data": {
      "text/plain": [
       "str"
      ]
     },
     "execution_count": 4,
     "metadata": {},
     "output_type": "execute_result"
    }
   ],
   "source": [
    "#3)\n",
    "type(\"abc123\")"
   ]
  },
  {
   "cell_type": "markdown",
   "id": "ec984268-2525-4f36-98ef-cb1060bd007c",
   "metadata": {
    "tags": [
     "worksheet-only"
    ]
   },
   "source": [
    "```\n",
    "\n",
    "```"
   ]
  },
  {
   "cell_type": "code",
   "execution_count": 5,
   "id": "608bc8e1-2c9b-4a7b-b424-6eb7f7a5fb97",
   "metadata": {
    "tags": [
     "worksheet-code-only"
    ]
   },
   "outputs": [
    {
     "ename": "NameError",
     "evalue": "name 'true' is not defined",
     "output_type": "error",
     "traceback": [
      "\u001b[0;31m---------------------------------------------------------------------------\u001b[0m",
      "\u001b[0;31mNameError\u001b[0m                                 Traceback (most recent call last)",
      "\u001b[0;32m/var/folders/bd/35sz70xs5837wszrx11bw1yc0000gn/T/ipykernel_22323/1675377943.py\u001b[0m in \u001b[0;36m<module>\u001b[0;34m\u001b[0m\n\u001b[1;32m      1\u001b[0m \u001b[0;31m#4)\u001b[0m\u001b[0;34m\u001b[0m\u001b[0;34m\u001b[0m\u001b[0;34m\u001b[0m\u001b[0m\n\u001b[0;32m----> 2\u001b[0;31m \u001b[0mtype\u001b[0m\u001b[0;34m(\u001b[0m\u001b[0mtrue\u001b[0m\u001b[0;34m)\u001b[0m\u001b[0;34m\u001b[0m\u001b[0;34m\u001b[0m\u001b[0m\n\u001b[0m",
      "\u001b[0;31mNameError\u001b[0m: name 'true' is not defined"
     ]
    }
   ],
   "source": [
    "#4)\n",
    "type(true)"
   ]
  },
  {
   "cell_type": "markdown",
   "id": "2d51a52b-1819-497b-bfaf-4c4215e7890d",
   "metadata": {
    "tags": [
     "worksheet-only"
    ]
   },
   "source": [
    "```\n",
    "\n",
    "```"
   ]
  },
  {
   "cell_type": "code",
   "execution_count": 6,
   "id": "1af389bc-78d8-4987-9391-8b9a955ec6fc",
   "metadata": {
    "tags": [
     "worksheet-code-only"
    ]
   },
   "outputs": [
    {
     "data": {
      "text/plain": [
       "14"
      ]
     },
     "execution_count": 6,
     "metadata": {},
     "output_type": "execute_result"
    }
   ],
   "source": [
    "#5)\n",
    "2 + 3 * 4"
   ]
  },
  {
   "cell_type": "markdown",
   "id": "e017f041-48d5-4ef1-b46a-d272ff0a1c57",
   "metadata": {
    "tags": [
     "worksheet-only"
    ]
   },
   "source": [
    "```\n",
    "\n",
    "```"
   ]
  },
  {
   "cell_type": "code",
   "execution_count": 7,
   "id": "e857f94b-c5b1-4e0f-b8d2-f19162e03505",
   "metadata": {
    "tags": [
     "worksheet-code-only"
    ]
   },
   "outputs": [
    {
     "data": {
      "text/plain": [
       "3"
      ]
     },
     "execution_count": 7,
     "metadata": {},
     "output_type": "execute_result"
    }
   ],
   "source": [
    "#6)\n",
    "10 // 3"
   ]
  },
  {
   "cell_type": "markdown",
   "id": "0e7ef614-4570-4ffb-b160-c2221b868597",
   "metadata": {
    "tags": [
     "worksheet-only"
    ]
   },
   "source": [
    "```\n",
    "\n",
    "```"
   ]
  },
  {
   "cell_type": "code",
   "execution_count": 8,
   "id": "165da5c0-1158-41e2-9ac8-0b904f8ac690",
   "metadata": {
    "tags": [
     "worksheet-code-only"
    ]
   },
   "outputs": [
    {
     "data": {
      "text/plain": [
       "7.5"
      ]
     },
     "execution_count": 8,
     "metadata": {},
     "output_type": "execute_result"
    }
   ],
   "source": [
    "#7)\n",
    "15 / 2"
   ]
  },
  {
   "cell_type": "markdown",
   "id": "95afa781-ef3e-44a6-b557-49bed389aa14",
   "metadata": {
    "tags": [
     "worksheet-only"
    ]
   },
   "source": [
    "```\n",
    "\n",
    "```"
   ]
  },
  {
   "cell_type": "code",
   "execution_count": 9,
   "id": "2cdb4077-6cbe-4102-985f-0e2d3f497278",
   "metadata": {
    "tags": [
     "worksheet-code-only"
    ]
   },
   "outputs": [
    {
     "data": {
      "text/plain": [
       "0"
      ]
     },
     "execution_count": 9,
     "metadata": {},
     "output_type": "execute_result"
    }
   ],
   "source": [
    "#8)\n",
    "6 % 2"
   ]
  },
  {
   "cell_type": "markdown",
   "id": "540c3820-1765-428a-97cc-ff50c5ce60da",
   "metadata": {
    "tags": [
     "worksheet-only"
    ]
   },
   "source": [
    "```\n",
    "\n",
    "```"
   ]
  },
  {
   "cell_type": "code",
   "execution_count": 12,
   "id": "e884581c-e9ab-476e-8615-b592c62a0e0b",
   "metadata": {
    "tags": [
     "worksheet-code-only"
    ]
   },
   "outputs": [
    {
     "data": {
      "text/plain": [
       "5.0"
      ]
     },
     "execution_count": 12,
     "metadata": {},
     "output_type": "execute_result"
    }
   ],
   "source": [
    "#9)\n",
    "5 + 5 ** 2 / 25 - 1"
   ]
  },
  {
   "cell_type": "markdown",
   "id": "442cbb32-190f-4622-ab6e-fb7efb66bcb3",
   "metadata": {
    "tags": [
     "worksheet-only"
    ]
   },
   "source": [
    "```\n",
    "\n",
    "```"
   ]
  },
  {
   "cell_type": "code",
   "execution_count": 14,
   "id": "7b4cdbc4-0ce5-4913-b049-a71d862cf636",
   "metadata": {
    "tags": [
     "worksheet-code-only"
    ]
   },
   "outputs": [
    {
     "data": {
      "text/plain": [
       "28"
      ]
     },
     "execution_count": 14,
     "metadata": {},
     "output_type": "execute_result"
    }
   ],
   "source": [
    "#10)\n",
    "(1 + 2 ) * 3 ** 2 + 1"
   ]
  },
  {
   "cell_type": "markdown",
   "id": "aa90c639-6eef-4732-936a-2aad9cadf1ee",
   "metadata": {
    "tags": [
     "worksheet-only"
    ]
   },
   "source": [
    "```\n",
    "\n",
    "```"
   ]
  },
  {
   "cell_type": "code",
   "execution_count": 15,
   "id": "6abd614c-590e-4132-8b54-745ecd8a57eb",
   "metadata": {
    "tags": [
     "worksheet-code-only"
    ]
   },
   "outputs": [
    {
     "ename": "TypeError",
     "evalue": "can only concatenate str (not \"int\") to str",
     "output_type": "error",
     "traceback": [
      "\u001b[0;31m---------------------------------------------------------------------------\u001b[0m",
      "\u001b[0;31mTypeError\u001b[0m                                 Traceback (most recent call last)",
      "\u001b[0;32m/var/folders/bd/35sz70xs5837wszrx11bw1yc0000gn/T/ipykernel_22323/2126290684.py\u001b[0m in \u001b[0;36m<module>\u001b[0;34m\u001b[0m\n\u001b[1;32m      1\u001b[0m \u001b[0;31m#11)\u001b[0m\u001b[0;34m\u001b[0m\u001b[0;34m\u001b[0m\u001b[0;34m\u001b[0m\u001b[0m\n\u001b[0;32m----> 2\u001b[0;31m \u001b[0;34m'abc'\u001b[0m \u001b[0;34m+\u001b[0m \u001b[0;36m123\u001b[0m\u001b[0;34m\u001b[0m\u001b[0;34m\u001b[0m\u001b[0m\n\u001b[0m",
      "\u001b[0;31mTypeError\u001b[0m: can only concatenate str (not \"int\") to str"
     ]
    }
   ],
   "source": [
    "#11)\n",
    "'abc' + 123"
   ]
  },
  {
   "cell_type": "markdown",
   "id": "d274d681-4620-42ac-b54c-b4c6e540a42e",
   "metadata": {
    "tags": [
     "worksheet-only"
    ]
   },
   "source": [
    "```\n",
    "\n",
    "```"
   ]
  },
  {
   "cell_type": "code",
   "execution_count": 16,
   "id": "cca5cc93-c7e8-4146-a77f-8fc7474b4da3",
   "metadata": {
    "tags": [
     "worksheet-code-only"
    ]
   },
   "outputs": [
    {
     "data": {
      "text/plain": [
       "'banana'"
      ]
     },
     "execution_count": 16,
     "metadata": {},
     "output_type": "execute_result"
    }
   ],
   "source": [
    "#12)\n",
    "\"ba\" + \"na\" * 2"
   ]
  },
  {
   "cell_type": "markdown",
   "id": "6a8c1d88-c715-4dbe-a99e-2052499e1364",
   "metadata": {
    "tags": [
     "worksheet-only"
    ]
   },
   "source": [
    "```\n",
    "\n",
    "```"
   ]
  },
  {
   "cell_type": "code",
   "execution_count": 18,
   "id": "4445db9f-eaf5-43f4-8bcb-695ad12fac22",
   "metadata": {
    "tags": [
     "worksheet-code-only"
    ]
   },
   "outputs": [
    {
     "data": {
      "text/plain": [
       "False"
      ]
     },
     "execution_count": 18,
     "metadata": {},
     "output_type": "execute_result"
    }
   ],
   "source": [
    "#13)\n",
    "6 <= 5"
   ]
  },
  {
   "cell_type": "markdown",
   "id": "37c9534a-e5d8-4031-8ee5-90ff746cf674",
   "metadata": {
    "tags": [
     "worksheet-only"
    ]
   },
   "source": [
    "```\n",
    "\n",
    "```"
   ]
  },
  {
   "cell_type": "code",
   "execution_count": 19,
   "id": "037d9f94-6c32-472c-93f1-de59b7237607",
   "metadata": {
    "tags": [
     "worksheet-code-only"
    ]
   },
   "outputs": [
    {
     "ename": "SyntaxError",
     "evalue": "cannot assign to literal (3687688339.py, line 2)",
     "output_type": "error",
     "traceback": [
      "\u001b[0;36m  File \u001b[0;32m\"/var/folders/bd/35sz70xs5837wszrx11bw1yc0000gn/T/ipykernel_22323/3687688339.py\"\u001b[0;36m, line \u001b[0;32m2\u001b[0m\n\u001b[0;31m    1 = 2\u001b[0m\n\u001b[0m    ^\u001b[0m\n\u001b[0;31mSyntaxError\u001b[0m\u001b[0;31m:\u001b[0m cannot assign to literal\n"
     ]
    }
   ],
   "source": [
    "#14)\n",
    "1 = 2"
   ]
  },
  {
   "cell_type": "markdown",
   "id": "bda74f47-b9dc-41d8-8c0e-2071a12aad52",
   "metadata": {
    "tags": [
     "worksheet-only"
    ]
   },
   "source": [
    "```\n",
    "\n",
    "```"
   ]
  },
  {
   "cell_type": "code",
   "execution_count": 20,
   "id": "6f1608c5-ea4d-4f89-ad12-d001314eb601",
   "metadata": {
    "tags": [
     "worksheet-code-only"
    ]
   },
   "outputs": [
    {
     "data": {
      "text/plain": [
       "True"
      ]
     },
     "execution_count": 20,
     "metadata": {},
     "output_type": "execute_result"
    }
   ],
   "source": [
    "#15)\n",
    "2 != 3 and 4 != 5"
   ]
  },
  {
   "cell_type": "markdown",
   "id": "59069e51-f3cc-4a8c-aff0-61c13d01670f",
   "metadata": {
    "tags": [
     "worksheet-only"
    ]
   },
   "source": [
    "```\n",
    "\n",
    "```"
   ]
  },
  {
   "cell_type": "code",
   "execution_count": 21,
   "id": "2371e40d-65d4-4239-a18a-1456aec369fe",
   "metadata": {
    "tags": [
     "worksheet-code-only"
    ]
   },
   "outputs": [
    {
     "data": {
      "text/plain": [
       "True"
      ]
     },
     "execution_count": 21,
     "metadata": {},
     "output_type": "execute_result"
    }
   ],
   "source": [
    "#16)\n",
    "1 > 2 or 3 < 4"
   ]
  },
  {
   "cell_type": "markdown",
   "id": "262b2342-cb21-44bf-9d6a-a9118201cf31",
   "metadata": {
    "tags": [
     "worksheet-only"
    ]
   },
   "source": [
    "```\n",
    "\n",
    "```"
   ]
  },
  {
   "cell_type": "code",
   "execution_count": 23,
   "id": "ef2c0446-ac69-44b7-900d-d1dd3e572cd8",
   "metadata": {
    "tags": [
     "worksheet-code-only"
    ]
   },
   "outputs": [
    {
     "data": {
      "text/plain": [
       "True"
      ]
     },
     "execution_count": 23,
     "metadata": {},
     "output_type": "execute_result"
    }
   ],
   "source": [
    "#17)\n",
    "False or (True and not False)"
   ]
  },
  {
   "cell_type": "markdown",
   "id": "25ef03f7-35b3-4681-aa56-65cac5ec1a7b",
   "metadata": {
    "tags": [
     "worksheet-only"
    ]
   },
   "source": [
    "```\n",
    "\n",
    "```\n",
    "<div style=\"page-break-after:always;\"></div>"
   ]
  },
  {
   "cell_type": "markdown",
   "id": "233f1dc9-0283-4245-9309-68639ee69967",
   "metadata": {
    "tags": []
   },
   "source": [
    "## Code tracing\n",
    "_What is the output of the following programs?_"
   ]
  },
  {
   "cell_type": "code",
   "execution_count": 25,
   "id": "6e73851c-5b6c-45b8-a61b-96216c2bdb5f",
   "metadata": {
    "tags": [
     "worksheet-code-only"
    ]
   },
   "outputs": [
    {
     "name": "stdout",
     "output_type": "stream",
     "text": [
      "2 3 4\n"
     ]
    }
   ],
   "source": [
    "#1)\n",
    "a = 1\n",
    "b = 2\n",
    "c = a + 3\n",
    "a = b\n",
    "b = b + 1\n",
    "print(a, b, c)"
   ]
  },
  {
   "cell_type": "markdown",
   "id": "bf30ab5f-ba47-4999-8c22-85f8b3d3106d",
   "metadata": {
    "tags": [
     "worksheet-only"
    ]
   },
   "source": [
    "```\n",
    "\n",
    "\n",
    "\n",
    "\n",
    "\n",
    "```"
   ]
  },
  {
   "cell_type": "code",
   "execution_count": 26,
   "id": "07adc514-6626-4db8-8e60-87f94ad34e3e",
   "metadata": {
    "tags": [
     "worksheet-code-only"
    ]
   },
   "outputs": [
    {
     "name": "stdout",
     "output_type": "stream",
     "text": [
      "hi adios hi!bye!hi!bye!\n"
     ]
    }
   ],
   "source": [
    "#2)\n",
    "a = 'hi'\n",
    "b = 'bye'\n",
    "c = a + '!' + b + '!'\n",
    "if (a == 'hello'):\n",
    "    b = 'goodbye'\n",
    "else:\n",
    "    b = 'adios'\n",
    "c = c * 2\n",
    "print(a, b, c)"
   ]
  },
  {
   "cell_type": "markdown",
   "id": "7f1a0d55-502b-4134-9c11-0fe772fdd52d",
   "metadata": {
    "tags": [
     "worksheet-only"
    ]
   },
   "source": [
    "```\n",
    "\n",
    "\n",
    "\n",
    "\n",
    "\n",
    "```"
   ]
  },
  {
   "cell_type": "code",
   "execution_count": 27,
   "id": "97a034b2-9ea1-4725-aab0-f945280c4809",
   "metadata": {
    "tags": [
     "worksheet-code-only"
    ]
   },
   "outputs": [
    {
     "name": "stdout",
     "output_type": "stream",
     "text": [
      "01234 8642 2\n"
     ]
    }
   ],
   "source": [
    "#3)\n",
    "a = ''\n",
    "b = str(8)\n",
    "for c in range(5):\n",
    "    a = a + str(c)\n",
    "for c in range(6, 0, -2):\n",
    "    b = b + str(c)\n",
    "print(a,b,c)"
   ]
  },
  {
   "cell_type": "markdown",
   "id": "d25b3222-1bca-48f3-9d8d-228b4e5f23d7",
   "metadata": {
    "tags": [
     "worksheet-only"
    ]
   },
   "source": [
    "```\n",
    "\n",
    "\n",
    "\n",
    "\n",
    "\n",
    "```\n",
    "<div style=\"page-break-after:always;\"></div>"
   ]
  },
  {
   "cell_type": "markdown",
   "id": "9f6e2c3f-eafa-46cd-aca6-77926b27c7cc",
   "metadata": {},
   "source": [
    "## More code tracing\n",
    "_What is the output of the following program for each of the inputs below?_"
   ]
  },
  {
   "cell_type": "code",
   "execution_count": null,
   "id": "1f646394-f8ad-4bae-bcf6-5ac9ba803c0e",
   "metadata": {},
   "outputs": [],
   "source": [
    "a = int(input('A='))\n",
    "b = float(input('B='))\n",
    "c = input('C=')\n",
    "if (a > 10):\n",
    "    if (b > 10 and a <= 15):\n",
    "        print('1')\n",
    "    else:\n",
    "        print('2')\n",
    "elif (a < 5):\n",
    "    if (c == 'cat'):\n",
    "        print('3')\n",
    "else:\n",
    "    if (c == 'dog' or b > 10):\n",
    "        print ('4')\n",
    "    else:\n",
    "        print('5')"
   ]
  },
  {
   "cell_type": "markdown",
   "id": "87683865-6de7-4a98-9508-2eda1b879d80",
   "metadata": {},
   "source": [
    "\\#1) `11`, `9`, `cat`"
   ]
  },
  {
   "cell_type": "markdown",
   "id": "14c03934-cfe9-4c2d-a27f-496f15eadf3d",
   "metadata": {
    "tags": [
     "notes-only"
    ]
   },
   "source": [
    "```\n",
    "A=11\n",
    "B=9\n",
    "C=cat\n",
    "2\n",
    "```"
   ]
  },
  {
   "cell_type": "markdown",
   "id": "19b94472-4abd-4418-b284-19272362e351",
   "metadata": {
    "tags": [
     "worksheet-only"
    ]
   },
   "source": [
    "```\n",
    "\n",
    "\n",
    "\n",
    "\n",
    "\n",
    "```"
   ]
  },
  {
   "cell_type": "markdown",
   "id": "8ce6844c-6d82-454b-8210-11b5e49d3280",
   "metadata": {},
   "source": [
    "\\#2) `10`, `11`, `dog`"
   ]
  },
  {
   "cell_type": "markdown",
   "id": "fb1515dd-905b-4b43-9ec3-98519b0e9509",
   "metadata": {
    "tags": [
     "notes-only"
    ]
   },
   "source": [
    "```\n",
    "A=10\n",
    "B=11\n",
    "C=dog\n",
    "4\n",
    "```"
   ]
  },
  {
   "cell_type": "markdown",
   "id": "80680c07-5c62-45c3-a4f8-1adbb9b4940d",
   "metadata": {
    "tags": [
     "worksheet-only"
    ]
   },
   "source": [
    "```\n",
    "\n",
    "\n",
    "\n",
    "\n",
    "\n",
    "```"
   ]
  },
  {
   "cell_type": "markdown",
   "id": "828509bd-d0e7-4e2f-9668-b4598cbe66fc",
   "metadata": {},
   "source": [
    "\\#3) `4`, `11`, `dog`"
   ]
  },
  {
   "cell_type": "markdown",
   "id": "ee49c39f-f6ab-4afa-81c9-f768a0b97ec4",
   "metadata": {
    "tags": [
     "notes-only"
    ]
   },
   "source": [
    "```\n",
    "A=4\n",
    "B=11\n",
    "C=dog\n",
    "```"
   ]
  },
  {
   "cell_type": "markdown",
   "id": "7d913d59-9455-4db6-9348-6c27911bb613",
   "metadata": {
    "tags": [
     "worksheet-only"
    ]
   },
   "source": [
    "```\n",
    "\n",
    "\n",
    "\n",
    "\n",
    "\n",
    "```"
   ]
  },
  {
   "cell_type": "markdown",
   "id": "0b6e3b0d-94b0-48cd-befc-a976529c43f6",
   "metadata": {},
   "source": [
    "\\#4) `7`, `15`, `cat`"
   ]
  },
  {
   "cell_type": "markdown",
   "id": "6d921a98-0e55-4dc3-9e1f-7860090d4bc2",
   "metadata": {
    "tags": [
     "notes-only"
    ]
   },
   "source": [
    "```\n",
    "A=7\n",
    "B=15\n",
    "C=cat\n",
    "4\n",
    "```"
   ]
  },
  {
   "cell_type": "markdown",
   "id": "182e6cb5-c96c-4cbc-8a83-8e12a359d486",
   "metadata": {
    "tags": [
     "worksheet-only"
    ]
   },
   "source": [
    "```\n",
    "\n",
    "\n",
    "\n",
    "\n",
    "\n",
    "```\n",
    "<div style=\"page-break-after:always;\"></div>"
   ]
  },
  {
   "cell_type": "markdown",
   "id": "75a3b50f-8c9f-4c5b-9de8-452721d33202",
   "metadata": {},
   "source": [
    "_What is the output of the following program for each of the inputs below?_"
   ]
  },
  {
   "cell_type": "code",
   "execution_count": null,
   "id": "3c7ad1c1-d1e1-4b35-adac-8dc56eaf777e",
   "metadata": {
    "tags": []
   },
   "outputs": [],
   "source": [
    "a = int(input('A='))\n",
    "b = int(input('B='))\n",
    "c = 0\n",
    "for i in range(a, b):\n",
    "    if (i % 2 == 0):\n",
    "        c += 1\n",
    "print(c)\n"
   ]
  },
  {
   "cell_type": "markdown",
   "id": "b74a6656-5301-4068-8fe8-80a84cc4737a",
   "metadata": {},
   "source": [
    "\\#5) `0`, `7`"
   ]
  },
  {
   "cell_type": "markdown",
   "id": "9b024695-cb64-41ee-af91-f7b773f947aa",
   "metadata": {
    "tags": [
     "notes-only"
    ]
   },
   "source": [
    "```\n",
    "A=0\n",
    "B=7\n",
    "4\n",
    "```"
   ]
  },
  {
   "cell_type": "markdown",
   "id": "b1f04b33-2fc1-49cd-a184-1350c1592f05",
   "metadata": {
    "tags": [
     "worksheet-only"
    ]
   },
   "source": [
    "```\n",
    "\n",
    "\n",
    "\n",
    "\n",
    "\n",
    "```"
   ]
  },
  {
   "cell_type": "markdown",
   "id": "ea35cb0c-39c0-4048-9345-0e86360f8405",
   "metadata": {},
   "source": [
    "\\#6) `4`, `8`"
   ]
  },
  {
   "cell_type": "markdown",
   "id": "08e59ac8-1a0d-4f94-9d29-618297504bc5",
   "metadata": {
    "tags": [
     "notes-only"
    ]
   },
   "source": [
    "```\n",
    "A=4\n",
    "B=8\n",
    "2\n",
    "```"
   ]
  },
  {
   "cell_type": "markdown",
   "id": "469471df-01b6-43c1-90b6-023450010349",
   "metadata": {
    "tags": [
     "worksheet-only"
    ]
   },
   "source": [
    "```\n",
    "\n",
    "\n",
    "\n",
    "\n",
    "\n",
    "```"
   ]
  },
  {
   "cell_type": "markdown",
   "id": "0abf0cce-074f-4ead-ae78-0b01c2655f3c",
   "metadata": {},
   "source": [
    "\\#7) `-3`, `3`"
   ]
  },
  {
   "cell_type": "markdown",
   "id": "e5487709-aa74-4a58-a2ac-d5095a4a6064",
   "metadata": {
    "tags": [
     "notes-only"
    ]
   },
   "source": [
    "```\n",
    "A=-3\n",
    "B=3\n",
    "3\n",
    "```"
   ]
  },
  {
   "cell_type": "markdown",
   "id": "f8e08d12-c37e-48da-8b09-e5534f8f3c69",
   "metadata": {
    "tags": [
     "worksheet-only"
    ]
   },
   "source": [
    "```\n",
    "\n",
    "\n",
    "\n",
    "\n",
    "\n",
    "```"
   ]
  },
  {
   "cell_type": "markdown",
   "id": "3cdffa2a-b3cc-4cbf-91d2-325f7abdda77",
   "metadata": {},
   "source": [
    "## Writing code\n",
    "\n",
    "\\#1) _Write a program that asks for a month and day and prints \"Happy Fall!” if the user entered September 22 or “Happy Halloween!” if the user entered October 31._"
   ]
  },
  {
   "cell_type": "code",
   "execution_count": null,
   "id": "c2baf6ae-9867-4261-bc27-ef93a355fa6b",
   "metadata": {
    "tags": [
     "notes-only"
    ]
   },
   "outputs": [],
   "source": [
    "month = input('Month? ')\n",
    "day = int(input('Day? '))\n",
    "\n",
    "if (month == \"September\" and day == 22):\n",
    "    print('Happy Fall!')\n",
    "elif (month == \"October\" and day == 31):\n",
    "    print('Happy Halloween!')"
   ]
  },
  {
   "cell_type": "markdown",
   "id": "25c0ebb1-1a0e-42db-b8b9-036ef215de66",
   "metadata": {
    "tags": [
     "worksheet-only"
    ]
   },
   "source": [
    "```C\n",
    "\n",
    "\n",
    "\n",
    "\n",
    "\n",
    "\n",
    "\n",
    "\n",
    "\n",
    "\n",
    "\n",
    "\n",
    "\n",
    "\n",
    "\n",
    "\n",
    "\n",
    "\n",
    "```"
   ]
  },
  {
   "cell_type": "markdown",
   "id": "cdde5c14-b7b2-4321-8844-f2cc17390ef9",
   "metadata": {},
   "source": [
    "\\#2) _Write a program that computes how much an employee earns in a week. The program should ask for the employee’s hourly pay rate and the number of hours they worked each day of the week._"
   ]
  },
  {
   "cell_type": "code",
   "execution_count": null,
   "id": "34f44682-23c5-4fcc-a7d0-e728b98837ed",
   "metadata": {
    "tags": [
     "notes-only"
    ]
   },
   "outputs": [],
   "source": [
    "rate = float(input('Hourly rate? '))\n",
    "hours = 0\n",
    "for day in ['Sun', 'Mon', 'Tues', 'Wed', 'Thurs', 'Fri', 'Sat']:\n",
    "    daily_hours = int(input('Hours worked on ' + day + '? '))\n",
    "    hours = hours + daily_hours\n",
    "print('Weekly pay: $' + str(hours * rate))"
   ]
  },
  {
   "cell_type": "markdown",
   "id": "57b6b52f-88dc-408e-9c51-b3c9a38c46b1",
   "metadata": {
    "tags": [
     "worksheet-only"
    ]
   },
   "source": [
    "```C\n",
    "\n",
    "\n",
    "\n",
    "\n",
    "\n",
    "\n",
    "\n",
    "\n",
    "\n",
    "\n",
    "\n",
    "\n",
    "\n",
    "\n",
    "\n",
    "```"
   ]
  },
  {
   "cell_type": "markdown",
   "id": "7f2d2f6e-add3-4838-94ef-1ee28fc6aa3d",
   "metadata": {},
   "source": [
    "\\#3) _Write a program that asks for a pizza’s diameter (in centimeters) and number of slices and computes the area of each slice. (Hint: The area of a circle is 𝜋r².)_"
   ]
  },
  {
   "cell_type": "code",
   "execution_count": null,
   "id": "8f04723f-e1ef-4b87-b853-c68c41cdedb6",
   "metadata": {
    "tags": [
     "notes-only"
    ]
   },
   "outputs": [],
   "source": [
    "import math\n",
    "diameter = int(input('Diameter? '))\n",
    "slices = int(input('Slices? '))\n",
    "total_area = math.pi * (diameter/2) ** 2\n",
    "slice_area = total_area / slices\n",
    "print('Each slice is', slice_area, 'square cm')"
   ]
  },
  {
   "cell_type": "markdown",
   "id": "f0158880-86e6-48ea-9a9a-89b87a0936ae",
   "metadata": {
    "tags": [
     "worksheet-only"
    ]
   },
   "source": [
    "```C\n",
    "\n",
    "\n",
    "\n",
    "\n",
    "\n",
    "\n",
    "\n",
    "\n",
    "\n",
    "\n",
    "\n",
    "\n",
    "\n",
    "\n",
    "\n",
    "\n",
    "```"
   ]
  },
  {
   "cell_type": "markdown",
   "id": "be8f3bb5-619b-45c2-b2fa-927a2cac245f",
   "metadata": {},
   "source": [
    "\\#4) _Write a program that draws the number 3 as it would appear on a digital clock._"
   ]
  },
  {
   "cell_type": "code",
   "execution_count": null,
   "id": "b7f44273-8c2d-470e-9835-caebd211bf34",
   "metadata": {
    "tags": [
     "notes-only"
    ]
   },
   "outputs": [],
   "source": [
    "import turtle\n",
    "window = turtle.Screen()\n",
    "bigben = turtle.Turtle()\n",
    "for i in range(0,3):\n",
    "    bigben.forward(50)\n",
    "    bigben.right(90)\n",
    "bigben.right(90)\n",
    "for i in range(0,3):\n",
    "    bigben.forward(50)\n",
    "    bigben.right(90)"
   ]
  }
 ],
 "metadata": {
  "kernelspec": {
   "display_name": "Python 3 (ipykernel)",
   "language": "python",
   "name": "python3"
  },
  "language_info": {
   "codemirror_mode": {
    "name": "ipython",
    "version": 3
   },
   "file_extension": ".py",
   "mimetype": "text/x-python",
   "name": "python",
   "nbconvert_exporter": "python",
   "pygments_lexer": "ipython3",
   "version": "3.8.2"
  }
 },
 "nbformat": 4,
 "nbformat_minor": 5
}
