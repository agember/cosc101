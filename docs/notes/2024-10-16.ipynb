{
 "cells": [
  {
   "cell_type": "markdown",
   "id": "e3f73e0d-4654-4749-b02c-cac690b0b700",
   "metadata": {
    "editable": true,
    "slideshow": {
     "slide_type": "skip"
    },
    "tags": []
   },
   "source": [
    "# Iteration: patterns\n",
    "_COSC 101, Introduction to Computing I, 2024-10-16_"
   ]
  },
  {
   "cell_type": "markdown",
   "id": "85e6cec0-348a-4c9f-8ce5-eb93f712bdb5",
   "metadata": {
    "editable": true,
    "slideshow": {
     "slide_type": "skip"
    },
    "tags": []
   },
   "source": [
    "## Announcements\n",
    "* Homework 5 due tomorrow @ 11:59pm"
   ]
  },
  {
   "cell_type": "markdown",
   "id": "ec03c7b3-2e6d-4a4b-a4ef-cd825897877e",
   "metadata": {
    "editable": true,
    "slideshow": {
     "slide_type": "slide"
    },
    "tags": [
     "question"
    ]
   },
   "source": [
    "## Warm-up\n",
    "_Write a function called `lazy_divide` that takes a dividend and a divisor (both integers) and uses subtraction to compute the result of performing integer division._"
   ]
  },
  {
   "cell_type": "code",
   "execution_count": 8,
   "id": "f9399d48-a9a5-4663-8fa8-87519ee7182b",
   "metadata": {
    "editable": true,
    "slideshow": {
     "slide_type": "skip"
    },
    "tags": [
     "answer"
    ]
   },
   "outputs": [],
   "source": [
    "def lazy_divide(dividend, divisor):\n",
    "    \"\"\"\n",
    "    >>> lazy_divide(6, 2)\n",
    "    3\n",
    "    >>> lazy_divide(16, 4)\n",
    "    4\n",
    "    >>> lazy_divide(7, 2)\n",
    "    3\n",
    "    \"\"\"\n",
    "    quotient = 0\n",
    "    while (dividend >= divisor):\n",
    "        dividend = dividend - divisor\n",
    "        quotient = quotient + 1\n",
    "    return quotient"
   ]
  },
  {
   "cell_type": "markdown",
   "id": "03ff5538-dd6a-4355-a53f-0feea4825540",
   "metadata": {
    "editable": true,
    "slideshow": {
     "slide_type": "skip"
    },
    "tags": [
     "blank"
    ]
   },
   "source": [
    "```\n",
    "\n",
    "\n",
    "\n",
    "\n",
    "\n",
    "\n",
    "\n",
    "\n",
    "\n",
    "\n",
    "\n",
    "```"
   ]
  },
  {
   "cell_type": "markdown",
   "id": "2bab328b-d470-44b1-9e4a-3fb96ba8cf92",
   "metadata": {
    "editable": true,
    "slideshow": {
     "slide_type": "skip"
    },
    "tags": []
   },
   "source": [
    "## Loop patterns"
   ]
  },
  {
   "cell_type": "markdown",
   "id": "b807f5e1-f86e-43c9-b991-c62d994e5e1b",
   "metadata": {
    "editable": true,
    "slideshow": {
     "slide_type": "slide"
    },
    "tags": []
   },
   "source": [
    "### Accumulator pattern"
   ]
  },
  {
   "cell_type": "markdown",
   "id": "3888a6fd-9b41-40fe-9a81-fe01f15488c8",
   "metadata": {
    "editable": true,
    "slideshow": {
     "slide_type": "skip"
    },
    "tags": [
     "notes-only"
    ]
   },
   "source": [
    "* You want to build a string or calculate a total in steps --> use a loop\n",
    "* On each iteration, the loop should integrate the next value into the exist value\n",
    "* Applying the pattern\n",
    "    * Assign an initial value (e.g., `0` or `\"\"`) to the the accumulator variable befor the loop\n",
    "    * Update the accumulator variable's value in the body of the loop\n",
    "    * After the loop finishes (i.e., all iterations have completed), the variable should hold the final desired value\n",
    "* Example"
   ]
  },
  {
   "cell_type": "code",
   "execution_count": 5,
   "id": "c660c49e-743a-4d48-ad93-c576dcd042bf",
   "metadata": {
    "editable": true,
    "slideshow": {
     "slide_type": ""
    },
    "tags": [
     "worksheet-code-only"
    ]
   },
   "outputs": [
    {
     "name": "stdout",
     "output_type": "stream",
     "text": [
      "054688\n"
     ]
    }
   ],
   "source": [
    "import random\n",
    "def security_code(digits):\n",
    "    code = \"\"\n",
    "    while len(code) < digits:\n",
    "        digit = random.randint(0,9)\n",
    "        code = code + str(digit)\n",
    "    return code\n",
    "print(security_code(6))"
   ]
  },
  {
   "cell_type": "markdown",
   "id": "62fbafe2-6452-45c2-b07e-50904bcac1ec",
   "metadata": {
    "editable": true,
    "slideshow": {
     "slide_type": "subslide"
    },
    "tags": []
   },
   "source": [
    "### Sentinel pattern"
   ]
  },
  {
   "cell_type": "markdown",
   "id": "bfe1bdb4-fbc8-45ca-b729-b62603ea2d62",
   "metadata": {
    "editable": true,
    "slideshow": {
     "slide_type": "skip"
    },
    "tags": [
     "notes-only"
    ]
   },
   "source": [
    "* You want to prompt a user for input multiple times, but you don’t know how many times to prompt the user --> use a while loop\n",
    "* To signal they are done entering input, the user enters a predetermined value (e.g., `0`) called the _sentinel value_, which causes the loop to terminte\n",
    "* Applying the pattern\n",
    "    * Assign the value `True` to a variable (called the _sentinel variable_) before the while loop\n",
    "    * Use the sentinel variable as the condition for the while loop\n",
    "    * In the loop body, prompt for input\n",
    "    * If the user entered the sentinel value, re-assign the value `False` to the sentinel variable; Otherwise, process the input as desired\n",
    "* Example:"
   ]
  },
  {
   "cell_type": "code",
   "execution_count": 2,
   "id": "d27f29a3-e7e2-42a5-8e87-e2298a3abf77",
   "metadata": {
    "editable": true,
    "slideshow": {
     "slide_type": ""
    },
    "tags": [
     "worksheet-code-only"
    ]
   },
   "outputs": [
    {
     "name": "stdin",
     "output_type": "stream",
     "text": [
      "Enter a positive number (or -1 if finished): 5\n"
     ]
    },
    {
     "name": "stdout",
     "output_type": "stream",
     "text": [
      "You entered 5\n"
     ]
    },
    {
     "name": "stdin",
     "output_type": "stream",
     "text": [
      "Enter a positive number (or -1 if finished): 3\n"
     ]
    },
    {
     "name": "stdout",
     "output_type": "stream",
     "text": [
      "You entered 3\n"
     ]
    },
    {
     "name": "stdin",
     "output_type": "stream",
     "text": [
      "Enter a positive number (or -1 if finished): 9\n"
     ]
    },
    {
     "name": "stdout",
     "output_type": "stream",
     "text": [
      "You entered 9\n"
     ]
    },
    {
     "name": "stdin",
     "output_type": "stream",
     "text": [
      "Enter a positive number (or -1 if finished): -1\n"
     ]
    },
    {
     "name": "stdout",
     "output_type": "stream",
     "text": [
      "Done\n"
     ]
    }
   ],
   "source": [
    "def main() -> None:\n",
    "    sentinel = True\n",
    "    while sentinel:\n",
    "        num = int(input(\"Enter a positive number (or -1 if finished):\"))\n",
    "        if num == -1:\n",
    "            sentinel = False\n",
    "        else:\n",
    "           print(\"You entered\", num)\n",
    "    print(\"Done\")\n",
    "main()"
   ]
  },
  {
   "cell_type": "markdown",
   "id": "6b91e21f-2e52-41c2-a3f6-91c71c84e4b4",
   "metadata": {
    "editable": true,
    "slideshow": {
     "slide_type": "subslide"
    },
    "tags": []
   },
   "source": [
    "### Polling pattern"
   ]
  },
  {
   "cell_type": "markdown",
   "id": "e3694d62-a2c2-4ae6-a17e-e5a63d54fc95",
   "metadata": {
    "editable": true,
    "slideshow": {
     "slide_type": "skip"
    },
    "tags": [
     "notes-only"
    ]
   },
   "source": [
    "* You want to prompt a user for input and keep re-prompting until they enter a valid value --> use a while loop\n",
    "* The loop condition should check whether the entered value is invalid\n",
    "* Applying the pattern\n",
    "    * Initialize a variable (called the input variable) to an invalid input value (e.g., `\"\"`)\n",
    "    * The condition for the while loop should check if the value is invalid (e.g., is not a specific character)\n",
    "    * In the loop body, prompt for input and assign the input to the input variable\n",
    "* Example"
   ]
  },
  {
   "cell_type": "code",
   "execution_count": 7,
   "id": "e4e0baef-6b7a-45e9-8308-aae1443671ad",
   "metadata": {
    "editable": true,
    "slideshow": {
     "slide_type": ""
    },
    "tags": [
     "worksheet-code-only"
    ]
   },
   "outputs": [
    {
     "name": "stdin",
     "output_type": "stream",
     "text": [
      "Choose ['A', 'B', 'C']:  D\n",
      "Choose ['A', 'B', 'C']:  X\n",
      "Choose ['A', 'B', 'C']:  B\n"
     ]
    },
    {
     "name": "stdout",
     "output_type": "stream",
     "text": [
      "B\n"
     ]
    }
   ],
   "source": [
    "def get_choice(choices):\n",
    "    choice = \"\"\n",
    "    while choice not in choices:\n",
    "        choice = input(\"Choose \" + str(choices) + \": \")\n",
    "    return choice\n",
    "print(get_choice([\"A\", \"B\", \"C\"]))"
   ]
  },
  {
   "cell_type": "markdown",
   "id": "de5bebf5-ca78-4517-934b-f6d615f50fc5",
   "metadata": {
    "editable": true,
    "slideshow": {
     "slide_type": "subslide"
    },
    "tags": []
   },
   "source": [
    "### Choosing a pattern"
   ]
  },
  {
   "cell_type": "markdown",
   "id": "819c41c3-672f-4325-b048-7a24121cd145",
   "metadata": {
    "editable": true,
    "slideshow": {
     "slide_type": "slide"
    },
    "tags": [
     "question"
    ]
   },
   "source": [
    "_For each of the following scenarios, indicate which loop pattern you should apply. (You **do not** need to write any code.)_"
   ]
  },
  {
   "cell_type": "markdown",
   "id": "15689a0a-1eb0-4e55-98d2-78fcfa427ca8",
   "metadata": {
    "editable": true,
    "slideshow": {
     "slide_type": ""
    },
    "tags": [
     "question"
    ]
   },
   "source": [
    "_Write a function called `acronym` that takes a multi-word phrase and returns a string containing the first letter of each word in the phrase._"
   ]
  },
  {
   "cell_type": "markdown",
   "id": "c7dfcc12-7a8b-4a1b-a6c4-620cd5e9e7e1",
   "metadata": {
    "editable": true,
    "slideshow": {
     "slide_type": "skip"
    },
    "tags": [
     "answer"
    ]
   },
   "source": [
    "Accumulator pattern — accumulate a string"
   ]
  },
  {
   "cell_type": "markdown",
   "id": "3f91c24b-3008-45ad-987e-903c4d8b5f7c",
   "metadata": {
    "editable": true,
    "slideshow": {
     "slide_type": "skip"
    },
    "tags": [
     "blank"
    ]
   },
   "source": [
    "```\n",
    "```"
   ]
  },
  {
   "cell_type": "markdown",
   "id": "7cf7088d-215e-4bc0-9c9e-d31ebeeab2cc",
   "metadata": {
    "editable": true,
    "slideshow": {
     "slide_type": "fragment"
    },
    "tags": [
     "question"
    ]
   },
   "source": [
    "_Write a function called `ask_questions` that takes a yes/no question and returns `True` or `False` depending on whether the user answered yes or no, respectively._"
   ]
  },
  {
   "cell_type": "markdown",
   "id": "724cb4fa-389a-4b78-84b7-3be90b812c7c",
   "metadata": {
    "editable": true,
    "slideshow": {
     "slide_type": "skip"
    },
    "tags": [
     "answer"
    ]
   },
   "source": [
    "Polling pattern — user must answer yes or no"
   ]
  },
  {
   "cell_type": "markdown",
   "id": "08cd5d8d-a09d-41c9-9137-565da9be800b",
   "metadata": {
    "editable": true,
    "slideshow": {
     "slide_type": "skip"
    },
    "tags": [
     "blank"
    ]
   },
   "source": [
    "```\n",
    "```"
   ]
  },
  {
   "cell_type": "markdown",
   "id": "68fdd7c1-efe4-41ab-b5a9-ad711833502c",
   "metadata": {
    "editable": true,
    "slideshow": {
     "slide_type": "fragment"
    },
    "tags": [
     "question"
    ]
   },
   "source": [
    "_Create a modified `main` function for homework 4 that **does not** ask for the number of customers ahead of time and **does not** print the total amount billed after all customers' information has been entered._"
   ]
  },
  {
   "cell_type": "markdown",
   "id": "c526128d-52e4-4f71-b6e4-2911e800058e",
   "metadata": {
    "editable": true,
    "slideshow": {
     "slide_type": "skip"
    },
    "tags": [
     "answer"
    ]
   },
   "source": [
    "Sentinel pattern — continue asking for customer information until user enters billing code `f` (for finished)"
   ]
  },
  {
   "cell_type": "markdown",
   "id": "5f95eed3-416e-4257-b06a-e5fb0831552c",
   "metadata": {
    "editable": true,
    "slideshow": {
     "slide_type": "skip"
    },
    "tags": [
     "blank"
    ]
   },
   "source": [
    "```\n",
    "```"
   ]
  },
  {
   "cell_type": "markdown",
   "id": "4931b47c-70ea-445e-9202-6e698e50def6",
   "metadata": {
    "editable": true,
    "slideshow": {
     "slide_type": "fragment"
    },
    "tags": [
     "question"
    ]
   },
   "source": [
    "_Create a modified `one_customer` function for homework 4 that asks the user to enter a new billing code and/or meter reading if they enter an invalid billing code or meter reading._"
   ]
  },
  {
   "cell_type": "markdown",
   "id": "86c77520-50a3-473f-bd8b-d178b38735d7",
   "metadata": {
    "editable": true,
    "slideshow": {
     "slide_type": "skip"
    },
    "tags": [
     "answer"
    ]
   },
   "source": [
    "Polling pattern — user must enter a valid billing code and meter readings"
   ]
  },
  {
   "cell_type": "markdown",
   "id": "98c3dff8-c384-4f75-a757-31a8cbb0befe",
   "metadata": {
    "editable": true,
    "slideshow": {
     "slide_type": "skip"
    },
    "tags": [
     "blank"
    ]
   },
   "source": [
    "```\n",
    "```"
   ]
  },
  {
   "cell_type": "markdown",
   "id": "b188e4f1-9ca1-4bd9-9c80-3a18ffe75064",
   "metadata": {
    "editable": true,
    "slideshow": {
     "slide_type": "subslide"
    },
    "tags": [
     "question"
    ]
   },
   "source": [
    "_Write a function called `get_day_of_year` that prompts the user to enter a day of the year and returns a valid day of the year (1 through 365) as an integer._"
   ]
  },
  {
   "cell_type": "markdown",
   "id": "b6a3500c-d78e-4926-b965-59fce951649c",
   "metadata": {
    "editable": true,
    "slideshow": {
     "slide_type": "skip"
    },
    "tags": [
     "answer"
    ]
   },
   "source": [
    "Polling pattern — user must enter a number between 1 and 365 (inclusive)"
   ]
  },
  {
   "cell_type": "markdown",
   "id": "5b4ed0e1-3851-4d76-9b77-d96f42370a96",
   "metadata": {
    "editable": true,
    "slideshow": {
     "slide_type": "skip"
    },
    "tags": [
     "blank"
    ]
   },
   "source": [
    "```\n",
    "```"
   ]
  },
  {
   "cell_type": "markdown",
   "id": "3cfd2c9a-c8e8-433f-baf0-5900abd8cc6c",
   "metadata": {
    "editable": true,
    "slideshow": {
     "slide_type": "fragment"
    },
    "tags": [
     "question"
    ]
   },
   "source": [
    "_Write a function called `get_max_digit` that takes a string of digits and returns the largest digit. For example, `get_max_digit(\"3142\")` should return `4`._"
   ]
  },
  {
   "cell_type": "markdown",
   "id": "9875f67a-e246-4644-94a2-fa2df7bff2be",
   "metadata": {
    "editable": true,
    "slideshow": {
     "slide_type": "skip"
    },
    "tags": [
     "answer"
    ]
   },
   "source": [
    "Accumulator pattern — \"accumulate\" the max"
   ]
  },
  {
   "cell_type": "markdown",
   "id": "7349e141-0848-469a-914c-7c6f2b38f37e",
   "metadata": {
    "editable": true,
    "slideshow": {
     "slide_type": "skip"
    },
    "tags": [
     "blank"
    ]
   },
   "source": [
    "```\n",
    "```"
   ]
  },
  {
   "cell_type": "markdown",
   "id": "e929a842-2b7b-4a24-aff7-e55a16615716",
   "metadata": {
    "editable": true,
    "slideshow": {
     "slide_type": "fragment"
    },
    "tags": [
     "question"
    ]
   },
   "source": [
    "_Write a function called `total_caffeine` that asks the user to enter the milligrams (mg) of caffeine for each beverage they consumed in a day until the user indicates they are done consuming beverages. The function should return the total caffeine consumed._"
   ]
  },
  {
   "cell_type": "markdown",
   "id": "8c4e803e-c273-475d-821b-ae1e27e77839",
   "metadata": {
    "editable": true,
    "slideshow": {
     "slide_type": "skip"
    },
    "tags": [
     "answer"
    ]
   },
   "source": [
    "Sentinel pattern — continue asking for caffeine amount until user enters `-1`\n",
    "\n",
    "Accumulator pattern — accumulating total caffeine consumed"
   ]
  },
  {
   "cell_type": "markdown",
   "id": "99ae3ee7-f8c1-4c6b-9669-118a1e6605da",
   "metadata": {
    "editable": true,
    "slideshow": {
     "slide_type": "skip"
    },
    "tags": [
     "blank"
    ]
   },
   "source": [
    "```\n",
    "```"
   ]
  }
 ],
 "metadata": {
  "kernelspec": {
   "display_name": "Python 3 (ipykernel)",
   "language": "python",
   "name": "python3"
  },
  "language_info": {
   "codemirror_mode": {
    "name": "ipython",
    "version": 3
   },
   "file_extension": ".py",
   "mimetype": "text/x-python",
   "name": "python",
   "nbconvert_exporter": "python",
   "pygments_lexer": "ipython3",
   "version": "3.9.6"
  }
 },
 "nbformat": 4,
 "nbformat_minor": 5
}
