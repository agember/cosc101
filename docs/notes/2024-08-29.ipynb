{
 "cells": [
  {
   "cell_type": "markdown",
   "metadata": {
    "slideshow": {
     "slide_type": "skip"
    }
   },
   "source": [
    "# Hello: introduction\n",
    "_COSC 101, Introduction to Computing I, 2024-08-29_"
   ]
  },
  {
   "cell_type": "markdown",
   "metadata": {
    "slideshow": {
     "slide_type": "skip"
    }
   },
   "source": [
    "## Announcements\n",
    "* Before next class\n",
    "    * Complete \"Getting to know you\" questionnaire\n",
    "    * Review the syllabus\n",
    "    * Create a Runestone Academy account: https://runestone.academy/runestone/default/user/register; specify the course name `colgate-cosc101A-fall24`\n",
    "    * Read and complete activities in sections 1.1-1.10, 2.1-2.3 on Runestone Academy\n",
    "* First lab next week"
   ]
  },
  {
   "cell_type": "markdown",
   "metadata": {
    "tags": [
     "notes-only"
    ]
   },
   "source": [
    "## Outline\n",
    "* Getting to know you\n",
    "* Course topics\n",
    "* Syllabus higlights"
   ]
  },
  {
   "cell_type": "markdown",
   "metadata": {
    "tags": [
     "notes-only"
    ]
   },
   "source": [
    "## Getting to know Aaron\n",
    "* Please call me...Aaron _or_ Professor Aaron\n",
    "* My pronouns are...he/him\n",
    "* Two things I like to do for fun are...building with Legos, and doing house projects.\n",
    "* I am teaching this course because...programming is fun, and I enjoy the “aha” moments that occur when students are learning to program.\n",
    "* My prior experience with computer science is...my first CS course junior year of high school (22 years ago), followed by a bachelor of science, masters of science, and PhD in computer science.\n",
    "* Besides my courses, I expect to spend significant time each week...handling administrative matters for the department in my role as department chair."
   ]
  },
  {
   "cell_type": "markdown",
   "metadata": {
    "tags": [
     "worksheet-only"
    ]
   },
   "source": [
    "## Getting to know you"
   ]
  },
  {
   "cell_type": "markdown",
   "metadata": {
    "tags": [
     "worksheet-only"
    ]
   },
   "source": [
    "*I want to learn more about you, so I can help you have a positive experience in this course. Please respond to the following prompts. I will not share your responses with anyone else.*\n",
    "\n",
    "Please call me..."
   ]
  },
  {
   "cell_type": "markdown",
   "metadata": {
    "tags": [
     "worksheet-only"
    ]
   },
   "source": [
    "<p style=\"height:2em;\"></p>"
   ]
  },
  {
   "cell_type": "markdown",
   "metadata": {
    "tags": [
     "worksheet-only"
    ]
   },
   "source": [
    "My pronouns are..."
   ]
  },
  {
   "cell_type": "markdown",
   "metadata": {
    "tags": [
     "worksheet-only"
    ]
   },
   "source": [
    "<p style=\"height:2em;\"></p>"
   ]
  },
  {
   "cell_type": "markdown",
   "metadata": {
    "tags": [
     "worksheet-only"
    ]
   },
   "source": [
    "Two things I like to do for fun are..."
   ]
  },
  {
   "cell_type": "markdown",
   "metadata": {
    "tags": [
     "worksheet-only"
    ]
   },
   "source": [
    "<p style=\"height:8em;\"></p>"
   ]
  },
  {
   "cell_type": "markdown",
   "metadata": {
    "tags": [
     "worksheet-only"
    ]
   },
   "source": [
    "I am taking this course because..."
   ]
  },
  {
   "cell_type": "markdown",
   "metadata": {
    "tags": [
     "worksheet-only"
    ]
   },
   "source": [
    "<p style=\"height:8em;\"></p>"
   ]
  },
  {
   "cell_type": "markdown",
   "metadata": {
    "tags": [
     "worksheet-only"
    ]
   },
   "source": [
    "My prior experience with computer science is..."
   ]
  },
  {
   "cell_type": "markdown",
   "metadata": {
    "tags": [
     "worksheet-only"
    ]
   },
   "source": [
    "<p style=\"height:8em;\"></p>"
   ]
  },
  {
   "cell_type": "markdown",
   "metadata": {
    "tags": [
     "worksheet-only"
    ]
   },
   "source": [
    "Besides my courses, I expect to spend significant time each week..."
   ]
  },
  {
   "cell_type": "markdown",
   "metadata": {
    "tags": [
     "worksheet-only"
    ]
   },
   "source": [
    "<p style=\"height:8em;\"></p>"
   ]
  },
  {
   "cell_type": "markdown",
   "metadata": {
    "tags": [
     "notes-only"
    ]
   },
   "source": [
    "## What is \"Introduction to Computing I\"?\n",
    "* \"**Computer science** is the study of algorithmic processes and the machines that carry out these processes.\" – Colgate Catalog\n",
    "* \"An **algorithm** is a step by step list of instructions that if followed exactly will solve the problem under consideration.\" – Foundations of Python Programming\n",
    "* \"**Programming** is a skill that allows a computer scientist to take an algorithm and represent it in a notation (a program) that can be followed by a computer.\"  – Foundations of Python Programming\n",
    "* **Introduction** ⇒ no prior programming experience required\n",
    "* Algorithms and programming are only two aspects of computer science; CS also involves:\n",
    "    * Creativity – many ways to solve a problem with different trade-offs\n",
    "    * Data – gathering, organizing, analyzing; processed by programs\n",
    "    * Abstraction – “hiding” some details of the solution, e.g., how the hardware works\n",
    "* Many areas of computer science; knowing how to program is an important first step"
   ]
  },
  {
   "cell_type": "markdown",
   "metadata": {
    "tags": [
     "notes-only"
    ]
   },
   "source": [
    "## Syllabus highlights\n",
    "* Important dates\n",
    "* Before each class, read and complete activites in sections listed on Runestone website \n",
    "    * For Monday: Read and complet activities in sections 1.1-1.10, 2.1-2.3\n",
    "* Class meetings: warm-up problems, presenting concepts, working through examples, problem solving practice individually and in small groups \n",
    "    * Be an **active participant**: listen attentively, ask questions, solve problems, and avoid distractions on your phone/ tablet/laptop\n",
    "    * Be a **respectful participant**: raise your hand, respect others’ identities and contributions, leave space for others to speak, and give credit to others for their ideas\n",
    "* Labs start next week\n",
    "* Academic integrity and collaboration\n",
    "    * You may discuss and collaborate with others or consult forums and generative AI when working on pre-class preparation, materials from class, studying for exams\n",
    "    * You may **NOT** discuss or colloborate with others or use forums or generative AI on homeworks or exams\n",
    "    * I will be reasonably flexible on deadlines\n",
    "    * I want you to succeed, and I will do everything I can to help you!\n",
    "* Seek help and support!\n",
    "    * Office hours are an opportunity to ask questions about material from the textbook, material from class, homeworks, exams, your performance in the class, or non-class related matters"
   ]
  }
 ],
 "metadata": {
  "celltoolbar": "Tags",
  "kernelspec": {
   "display_name": "Python 3 (ipykernel)",
   "language": "python",
   "name": "python3"
  },
  "language_info": {
   "codemirror_mode": {
    "name": "ipython",
    "version": 3
   },
   "file_extension": ".py",
   "mimetype": "text/x-python",
   "name": "python",
   "nbconvert_exporter": "python",
   "pygments_lexer": "ipython3",
   "version": "3.9.6"
  }
 },
 "nbformat": 4,
 "nbformat_minor": 4
}
