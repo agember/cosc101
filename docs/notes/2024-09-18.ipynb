{
 "cells": [
  {
   "cell_type": "markdown",
   "id": "418f2156",
   "metadata": {
    "editable": true,
    "slideshow": {
     "slide_type": "skip"
    },
    "tags": []
   },
   "source": [
    "# Iteration: strings and lists\n",
    "_COSC 101, Introduction to Computing I, 2024-09-18_"
   ]
  },
  {
   "cell_type": "markdown",
   "id": "ba521109",
   "metadata": {
    "editable": true,
    "slideshow": {
     "slide_type": "skip"
    },
    "tags": []
   },
   "source": [
    "## Announcements\n",
    "* Homework 2 due tomorrow at 11:59pm"
   ]
  },
  {
   "cell_type": "markdown",
   "id": "e5a5ac1d-92f9-4416-9e26-9ce9417cea0b",
   "metadata": {
    "editable": true,
    "slideshow": {
     "slide_type": ""
    },
    "tags": []
   },
   "source": [
    "## Collections"
   ]
  },
  {
   "cell_type": "markdown",
   "id": "0f45463d-4c9e-4801-98f1-db5f30634752",
   "metadata": {
    "editable": true,
    "slideshow": {
     "slide_type": ""
    },
    "tags": [
     "notes-only"
    ]
   },
   "source": [
    "* _What are the three types of values we have seen/used in programs thus far?_ – int, float, string\n",
    "* Regardless of the number of digits in an integer, we treat it as a single value – e.g., `7`, `99`, `1819`\n",
    "    * Similarly for floats\n",
    "    * Similarly for strings – e.g., `\"awesome\"`, `\"How are you?\"`, `\"13\"`\n",
    "* However, a string is actually a collection of \"smaller\" values – individual characters\n",
    "    * e.g., `\"awesome\"` is the sequence of characters a, w, e, s, o, m, e\n",
    "    * `\"a\" + \"w\" + \"e\" + \"s\" + \"o\" + \"m\" + \"e\"` evaluates to \"awesome\"\n",
    "    * We cannot think of integers, or floats, as a collection of values, because they don't combine in the same way – e.g., `9 + 9` evalutes to `18` not `99`"
   ]
  },
  {
   "cell_type": "markdown",
   "id": "ebc31416-9a39-47eb-9b3b-59a3338e0fa8",
   "metadata": {
    "editable": true,
    "slideshow": {
     "slide_type": "slide"
    },
    "tags": []
   },
   "source": [
    "## String indexing"
   ]
  },
  {
   "cell_type": "markdown",
   "id": "ccc5fc29-829e-453e-ba0b-6473d1e04540",
   "metadata": {
    "editable": true,
    "slideshow": {
     "slide_type": "skip"
    },
    "tags": [
     "notes-only"
    ]
   },
   "source": [
    "* Characters are numbered left to right starting from 0\n",
    "    ```\n",
    "      0   1   2   3   4   5   6   7   8   9\n",
    "    ┏━━━┳━━━┳━━━┳━━━┳━━━┳━━━┳━━━┳━━━┳━━━┳━━━┓\n",
    "    ┃ C ┃ o ┃ l ┃ g ┃ a ┃ t ┃ e ┃   ┃ 1 ┃ 3 ┃\n",
    "    ┗━━━┻━━━┻━━━┻━━━┻━━━┻━━━┻━━━┻━━━┻━━━┻━━━┛\n",
    "    ```\n",
    "* To access a specific character: use the string name followed by the character number (or index) in square brackets (`[]`)"
   ]
  },
  {
   "cell_type": "code",
   "execution_count": 35,
   "id": "df84478d-d516-4832-b835-256d44a4dd54",
   "metadata": {
    "editable": true,
    "slideshow": {
     "slide_type": "skip"
    },
    "tags": [
     "notes-only"
    ]
   },
   "outputs": [
    {
     "name": "stdout",
     "output_type": "stream",
     "text": [
      "C\n",
      "o\n",
      "a\n"
     ]
    }
   ],
   "source": [
    "myString = 'Colgate 13'\n",
    "print(myString[0])\n",
    "print(myString[1])\n",
    "print(myString[4])"
   ]
  },
  {
   "cell_type": "markdown",
   "id": "e66534fb-e171-4c88-81a7-4491826536a1",
   "metadata": {
    "slideshow": {
     "slide_type": "skip"
    },
    "tags": [
     "notes-only"
    ]
   },
   "source": [
    "* Can also use negative numbers (starting at `-1`) to get a character relative to the end of the string"
   ]
  },
  {
   "cell_type": "code",
   "execution_count": 36,
   "id": "b39615c4-d503-4e86-af65-d18f651787ba",
   "metadata": {
    "editable": true,
    "slideshow": {
     "slide_type": "skip"
    },
    "tags": [
     "notes-only"
    ]
   },
   "outputs": [
    {
     "name": "stdout",
     "output_type": "stream",
     "text": [
      "3\n",
      "e\n"
     ]
    }
   ],
   "source": [
    "print(myString[-1])\n",
    "print(myString[-4])"
   ]
  },
  {
   "cell_type": "markdown",
   "id": "f7a47995-2bc4-4c7d-9d66-d562ea6ef50d",
   "metadata": {
    "editable": true,
    "slideshow": {
     "slide_type": "skip"
    },
    "tags": [
     "blank"
    ]
   },
   "source": [
    "```\n",
    "\n",
    "\n",
    "\n",
    "\n",
    "\n",
    "\n",
    "\n",
    "```"
   ]
  },
  {
   "cell_type": "markdown",
   "id": "02d7d2a1-ae04-455b-a3c7-85fb839e1614",
   "metadata": {
    "editable": true,
    "slideshow": {
     "slide_type": ""
    },
    "tags": [
     "question"
    ]
   },
   "source": [
    "_For each of the following programs, fill-in the blanks such that the program produces the expected output._"
   ]
  },
  {
   "cell_type": "code",
   "execution_count": null,
   "id": "daad9077-1b3c-4d4a-b3a7-3fff54ac4dcf",
   "metadata": {
    "editable": true,
    "slideshow": {
     "slide_type": "subslide"
    },
    "tags": [
     "question"
    ]
   },
   "outputs": [],
   "source": [
    "full = \"New York\"\n",
    "abbreviation = full[-___] + full[-___]\n",
    "print(abbreviation)"
   ]
  },
  {
   "cell_type": "markdown",
   "id": "d9682ab4-6826-429e-b2ae-9cc25a9f2e70",
   "metadata": {
    "editable": true,
    "slideshow": {
     "slide_type": ""
    },
    "tags": [
     "question"
    ]
   },
   "source": [
    "Expected output:\n",
    "```\n",
    "NY\n",
    "```"
   ]
  },
  {
   "cell_type": "code",
   "execution_count": 61,
   "id": "dea4943c-c123-4a0a-b6a8-a84be3459b52",
   "metadata": {
    "editable": true,
    "slideshow": {
     "slide_type": "skip"
    },
    "tags": [
     "answer"
    ]
   },
   "outputs": [
    {
     "name": "stdout",
     "output_type": "stream",
     "text": [
      "NY\n"
     ]
    }
   ],
   "source": [
    "full = \"New York\"\n",
    "abbreviation = full[-8] + full[-4]\n",
    "print(abbreviation)"
   ]
  },
  {
   "cell_type": "code",
   "execution_count": null,
   "id": "6e4c7082-2555-4840-a99b-e6f2a4125143",
   "metadata": {
    "editable": true,
    "slideshow": {
     "slide_type": ""
    },
    "tags": [
     "question"
    ]
   },
   "outputs": [],
   "source": [
    "name = \"Ruth Bader Ginsburg\"\n",
    "initials = name[___] + name[___] + name[___]\n",
    "print(initials)\n",
    "initials = initials[___] + \".\" + initials[___] + \".\" + initials[___]\n",
    "print(initials)"
   ]
  },
  {
   "cell_type": "markdown",
   "id": "332fd78c-0bc5-45cd-b936-0212b37a97f3",
   "metadata": {
    "editable": true,
    "slideshow": {
     "slide_type": ""
    },
    "tags": [
     "question"
    ]
   },
   "source": [
    "Expected output:\n",
    "```\n",
    "RBG\n",
    "R.B.G.\n",
    "```"
   ]
  },
  {
   "cell_type": "code",
   "execution_count": 3,
   "id": "7ad5d47a-ab5e-469c-83cc-91525a6e97ec",
   "metadata": {
    "editable": true,
    "slideshow": {
     "slide_type": "skip"
    },
    "tags": [
     "answer"
    ]
   },
   "outputs": [
    {
     "name": "stdout",
     "output_type": "stream",
     "text": [
      "RBG\n",
      "R.B.G\n"
     ]
    }
   ],
   "source": [
    "name = \"Ruth Bader Ginsburg\"\n",
    "initials = name[0] + name[5] + name[11]\n",
    "print(initials)\n",
    "initials = initials[0] + \".\" + initials[1] + \".\" + initials[2]\n",
    "print(initials)"
   ]
  },
  {
   "cell_type": "markdown",
   "id": "8f2ed1b1-563f-4220-a950-583066742d6b",
   "metadata": {
    "editable": true,
    "slideshow": {
     "slide_type": "skip"
    },
    "tags": [
     "blank"
    ]
   },
   "source": [
    "🛑 **STOP here** after filling in the blanks; if you have extra time **skip** to the extra practice."
   ]
  },
  {
   "cell_type": "markdown",
   "id": "746282ee-8032-4d2b-b974-302780f48d11",
   "metadata": {
    "editable": true,
    "slideshow": {
     "slide_type": "slide"
    },
    "tags": []
   },
   "source": [
    "## Lists"
   ]
  },
  {
   "cell_type": "markdown",
   "id": "ecf4005e-83f2-4e31-9a98-636fd0b038c5",
   "metadata": {
    "editable": true,
    "slideshow": {
     "slide_type": "skip"
    },
    "tags": [
     "notes-only"
    ]
   },
   "source": [
    "* Sequential collection of any type of values (e.g., int, float, string)\n",
    "    * List may contain multiple types of values\n",
    "    * List may even include another list — called a sublist\n",
    "* Create a list using square brackets"
   ]
  },
  {
   "cell_type": "code",
   "execution_count": 4,
   "id": "d69a1271-ec58-4e5a-852a-29c380ec7264",
   "metadata": {
    "editable": true,
    "slideshow": {
     "slide_type": "skip"
    },
    "tags": [
     "notes-only"
    ]
   },
   "outputs": [],
   "source": [
    "list1 = [10, 20, 'aniyah', 'bilal']\n",
    "list2 = [] # empty list\n",
    "list3 = ['carlos', [50, 60]]"
   ]
  },
  {
   "cell_type": "markdown",
   "id": "24656420-fc21-4f90-918e-3bb0605d3926",
   "metadata": {
    "editable": true,
    "slideshow": {
     "slide_type": "skip"
    },
    "tags": [
     "notes-only"
    ]
   },
   "source": [
    "* Each item in the list has an index — just like strings\n",
    "    * The first (i.e., leftmost) item has index 0\n",
    "    * Use negative indices to refer to items starting from the last (i.e., rightmost) item\n",
    "    * Use the slice operator to access a subset of the items in the list"
   ]
  },
  {
   "cell_type": "markdown",
   "id": "9bf4124f-2045-4e76-b11f-7f45e90aa3d3",
   "metadata": {
    "editable": true,
    "slideshow": {
     "slide_type": ""
    },
    "tags": [
     "question"
    ]
   },
   "source": [
    "_What does the following code ouput? If a particular print statement causes an error, describe what is wrong with that statement; assume subsequent print statements still execute._"
   ]
  },
  {
   "cell_type": "code",
   "execution_count": 6,
   "id": "84a442e9-fcf2-43e0-85e3-cc187051ae9a",
   "metadata": {
    "editable": true,
    "slideshow": {
     "slide_type": ""
    },
    "tags": [
     "worksheet-code-only"
    ]
   },
   "outputs": [
    {
     "name": "stdout",
     "output_type": "stream",
     "text": [
      "a) 3\n",
      "b) 5\n",
      "c) 2\n",
      "d) 0\n",
      "e) 42\n"
     ]
    },
    {
     "ename": "IndexError",
     "evalue": "list index out of range",
     "output_type": "error",
     "traceback": [
      "\u001b[0;31m---------------------------------------------------------------------------\u001b[0m",
      "\u001b[0;31mIndexError\u001b[0m                                Traceback (most recent call last)",
      "Cell \u001b[0;32mIn[6], line 16\u001b[0m\n\u001b[1;32m     12\u001b[0m \u001b[38;5;28mprint\u001b[39m(\u001b[38;5;124m'\u001b[39m\u001b[38;5;124md)\u001b[39m\u001b[38;5;124m'\u001b[39m, \u001b[38;5;28mlen\u001b[39m(y))\n\u001b[1;32m     14\u001b[0m \u001b[38;5;28mprint\u001b[39m(\u001b[38;5;124m'\u001b[39m\u001b[38;5;124me)\u001b[39m\u001b[38;5;124m'\u001b[39m, v[\u001b[38;5;241m1\u001b[39m])\n\u001b[0;32m---> 16\u001b[0m \u001b[38;5;28mprint\u001b[39m(\u001b[38;5;124m'\u001b[39m\u001b[38;5;124mf)\u001b[39m\u001b[38;5;124m'\u001b[39m, \u001b[43my\u001b[49m\u001b[43m[\u001b[49m\u001b[38;5;241;43m0\u001b[39;49m\u001b[43m]\u001b[49m)\n",
      "\u001b[0;31mIndexError\u001b[0m: list index out of range"
     ]
    }
   ],
   "source": [
    "v = [13, 42, 99]\n",
    "w = [3, \"plus\", 5, \"equals\", 8]\n",
    "x = [3 + 5, \"=8\"]\n",
    "y = []\n",
    "\n",
    "print('a)', len(v))\n",
    "\n",
    "print('b)', len(w))\n",
    "\n",
    "print('c)', len(x))\n",
    "\n",
    "print('d)', len(y))\n",
    "\n",
    "print('e)', v[1])\n",
    "\n",
    "print('f)', y[0])"
   ]
  },
  {
   "cell_type": "code",
   "execution_count": 11,
   "id": "45ccf859-5d13-42b3-9894-95d05122b1ca",
   "metadata": {
    "editable": true,
    "slideshow": {
     "slide_type": "subslide"
    },
    "tags": [
     "worksheet-code-only"
    ]
   },
   "outputs": [
    {
     "name": "stdout",
     "output_type": "stream",
     "text": [
      "g) equals\n",
      "h) 8\n"
     ]
    },
    {
     "ename": "IndexError",
     "evalue": "list index out of range",
     "output_type": "error",
     "traceback": [
      "\u001b[0;31m---------------------------------------------------------------------------\u001b[0m",
      "\u001b[0;31mIndexError\u001b[0m                                Traceback (most recent call last)",
      "Cell \u001b[0;32mIn[11], line 5\u001b[0m\n\u001b[1;32m      1\u001b[0m \u001b[38;5;28mprint\u001b[39m(\u001b[38;5;124m'\u001b[39m\u001b[38;5;124mg)\u001b[39m\u001b[38;5;124m'\u001b[39m, w[\u001b[38;5;241m-\u001b[39m\u001b[38;5;241m2\u001b[39m])\n\u001b[1;32m      3\u001b[0m \u001b[38;5;28mprint\u001b[39m(\u001b[38;5;124m'\u001b[39m\u001b[38;5;124mh)\u001b[39m\u001b[38;5;124m'\u001b[39m, x[\u001b[38;5;241m0\u001b[39m])\n\u001b[0;32m----> 5\u001b[0m \u001b[38;5;28mprint\u001b[39m(\u001b[38;5;124m'\u001b[39m\u001b[38;5;124mh)\u001b[39m\u001b[38;5;124m'\u001b[39m, \u001b[43mv\u001b[49m\u001b[43m[\u001b[49m\u001b[38;5;241;43m3\u001b[39;49m\u001b[43m]\u001b[49m)\n",
      "\u001b[0;31mIndexError\u001b[0m: list index out of range"
     ]
    }
   ],
   "source": [
    "print('g)', w[-2])\n",
    "\n",
    "print('h)', x[0])\n",
    "\n",
    "print('i)', v[3])"
   ]
  },
  {
   "cell_type": "code",
   "execution_count": 15,
   "id": "836db96f-7471-4d34-9e85-996e78ee742a",
   "metadata": {
    "editable": true,
    "slideshow": {
     "slide_type": ""
    },
    "tags": [
     "worksheet-code-only"
    ]
   },
   "outputs": [
    {
     "name": "stdout",
     "output_type": "stream",
     "text": [
      "j) 8\n",
      "k) p\n",
      "l) 4\n"
     ]
    }
   ],
   "source": [
    "print('j)', x[1][1])\n",
    "\n",
    "print('k)', w[1][0])\n",
    "\n",
    "print('l)', len(w[1]))"
   ]
  },
  {
   "cell_type": "markdown",
   "id": "852f0b9c-b31b-4831-a86d-2a286e316ef5",
   "metadata": {
    "editable": true,
    "slideshow": {
     "slide_type": "slide"
    },
    "tags": []
   },
   "source": [
    "## Extra practice"
   ]
  },
  {
   "cell_type": "markdown",
   "id": "d3d6833f-3775-469c-a44d-22820405b787",
   "metadata": {
    "editable": true,
    "slideshow": {
     "slide_type": "slide"
    },
    "tags": [
     "question"
    ]
   },
   "source": [
    "_Fill-in the blanks such that the program produces the expected output._"
   ]
  },
  {
   "cell_type": "code",
   "execution_count": null,
   "id": "65c20e0b-33fc-4686-a4e7-1d2f1928ea6c",
   "metadata": {
    "editable": true,
    "slideshow": {
     "slide_type": ""
    },
    "tags": [
     "question"
    ]
   },
   "outputs": [],
   "source": [
    "phrase1 = \"Let it go, \"\n",
    "phrase2 = \"Can't hold it back anymore.\"\n",
    "print(__________ * __________ + __________)\n",
    "phrase3 = \"Turn away and slam the door.\"\n",
    "print(__________ * __________ + __________)\n",
    "print(\"~Elsa from Frozen\")"
   ]
  },
  {
   "cell_type": "markdown",
   "id": "a8ca95a5-3587-40a8-bb6e-e7b8960641fb",
   "metadata": {
    "editable": true,
    "slideshow": {
     "slide_type": ""
    },
    "tags": [
     "question"
    ]
   },
   "source": [
    "Expected output:\n",
    "```\n",
    "Let it go, Let it go, Can't hold it back anymore.\n",
    "Let it go, Let it go, Turn away and slam the door.\n",
    "~Elsa from Frozen\n",
    "```"
   ]
  },
  {
   "cell_type": "code",
   "execution_count": 34,
   "id": "432c415b-9093-45c6-a74a-27a84d189bcd",
   "metadata": {
    "editable": true,
    "slideshow": {
     "slide_type": "skip"
    },
    "tags": [
     "answer"
    ]
   },
   "outputs": [
    {
     "name": "stdout",
     "output_type": "stream",
     "text": [
      "Let it go, Let it go, Can't hold it back anymore.\n",
      "Let it go, Let it go, Turn away and slam the door.\n",
      "~Elsa from Frozen\n"
     ]
    }
   ],
   "source": [
    "phrase1 = \"Let it go, \"\n",
    "phrase2 = \"Can't hold it back anymore.\"\n",
    "print(phrase1 * 2 + phrase2)\n",
    "phrase3 = \"Turn away and slam the door.\"\n",
    "print(phrase1 * 2 + phrase3)\n",
    "print(\"~Elsa from Frozen\")"
   ]
  }
 ],
 "metadata": {
  "celltoolbar": "Tags",
  "kernelspec": {
   "display_name": "Python 3 (ipykernel)",
   "language": "python",
   "name": "python3"
  },
  "language_info": {
   "codemirror_mode": {
    "name": "ipython",
    "version": 3
   },
   "file_extension": ".py",
   "mimetype": "text/x-python",
   "name": "python",
   "nbconvert_exporter": "python",
   "pygments_lexer": "ipython3",
   "version": "3.9.6"
  }
 },
 "nbformat": 4,
 "nbformat_minor": 5
}
