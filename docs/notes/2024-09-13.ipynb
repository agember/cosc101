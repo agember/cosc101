{
 "cells": [
  {
   "cell_type": "markdown",
   "id": "418f2156",
   "metadata": {
    "editable": true,
    "slideshow": {
     "slide_type": "skip"
    },
    "tags": []
   },
   "source": [
    "# Functions: scope; return\n",
    "_COSC 101, Introduction to Computing I, 2024-09-13_"
   ]
  },
  {
   "cell_type": "markdown",
   "id": "ba521109",
   "metadata": {
    "editable": true,
    "slideshow": {
     "slide_type": "skip"
    },
    "tags": []
   },
   "source": [
    "## Announcements\n",
    "* Homework 2 posted on Moodle"
   ]
  },
  {
   "cell_type": "markdown",
   "id": "a561529f",
   "metadata": {
    "editable": true,
    "slideshow": {
     "slide_type": "skip"
    },
    "tags": [
     "notes-only"
    ]
   },
   "source": [
    "## Outline\n",
    "* Warm-up\n",
    "* Review warm-up\n",
    "* Scope\n",
    "* Return"
   ]
  },
  {
   "cell_type": "markdown",
   "id": "d0bba273-649f-4f59-940c-ab50027021ac",
   "metadata": {
    "editable": true,
    "slideshow": {
     "slide_type": "slide"
    },
    "tags": []
   },
   "source": [
    "## Happy Colgate day!\n",
    "\n",
    "## Warm-up: warm-up from last class session"
   ]
  },
  {
   "cell_type": "markdown",
   "id": "a08f3575-89ea-48a0-b886-346d5f2c6754",
   "metadata": {
    "editable": true,
    "slideshow": {
     "slide_type": "-"
    },
    "tags": []
   },
   "source": [
    "_Look at the feedback you received. Compare your answers to the answers below. We'll review the problems as a class._"
   ]
  },
  {
   "cell_type": "markdown",
   "id": "841e15b1-78f2-459d-a44a-29a09d51deb3",
   "metadata": {
    "editable": true,
    "slideshow": {
     "slide_type": "subslide"
    },
    "tags": [
     "question"
    ]
   },
   "source": [
    "_What is the output of the following program? Assume the user enters `frog` and `20` for the inputs._"
   ]
  },
  {
   "cell_type": "code",
   "execution_count": null,
   "id": "61d4c389-41c0-4575-8f0f-2ca851f0567c",
   "metadata": {
    "editable": true,
    "slideshow": {
     "slide_type": "-"
    },
    "tags": []
   },
   "outputs": [],
   "source": [
    "word = input(\"What did you see? \")\n",
    "print(\"That is a\", type(word))\n",
    "lower = 10\n",
    "upper = lower + 20\n",
    "lower = len(word)\n",
    "print(\"I saw\", str(lower) + \"-\" + str(upper), \"of them, not\", lower - upper)\n",
    "count = input(\"How many\" + word + \"s did you see?\")\n",
    "updated = str(lower) + count\n",
    "print(\"I also saw\", updated, type(count))\n",
    "updated = upper + int(count)\n",
    "print(\"I wish I saw\", updated, word, \"s\")"
   ]
  },
  {
   "cell_type": "markdown",
   "id": "b3af18a5-40d9-4e88-822b-d457419815d3",
   "metadata": {
    "editable": true,
    "slideshow": {
     "slide_type": ""
    },
    "tags": []
   },
   "source": [
    "```\n",
    "What did you see? frog\n",
    "That is a <class 'str'>\n",
    "I saw 4-30 of them, not -26\n",
    "How manyfrogs did you see?20\n",
    "I also saw 420 <class 'str'>\n",
    "I wish I saw 50 frog s\n",
    "```"
   ]
  },
  {
   "cell_type": "markdown",
   "id": "6b17be13-0782-4d6a-b3ee-a1c225dc671f",
   "metadata": {
    "editable": true,
    "slideshow": {
     "slide_type": "subslide"
    },
    "tags": [
     "question"
    ]
   },
   "source": [
    "_Write a program that asks a user for their age and outputs the year they were born, how old they will be in 2050, and in what year they will twice their current age._"
   ]
  },
  {
   "cell_type": "code",
   "execution_count": null,
   "id": "8ce87159-21d8-47c8-8c64-767f95b74d80",
   "metadata": {
    "editable": true,
    "slideshow": {
     "slide_type": ""
    },
    "tags": []
   },
   "outputs": [],
   "source": [
    "age = int(input(\"How old are you? \"))\n",
    "born = 2024 - age\n",
    "print(\"You were born in\", born)\n",
    "expected = 2050 - 2024 + age\n",
    "print(\"You will be\", expected, \"in 2050\")\n",
    "twice = age + 2024\n",
    "print(\"You will be twice as old in\", twice)"
   ]
  },
  {
   "cell_type": "markdown",
   "id": "2dec4168-a8af-409f-a4a9-0c19e65d0df2",
   "metadata": {
    "editable": true,
    "slideshow": {
     "slide_type": ""
    },
    "tags": []
   },
   "source": [
    "```\n",
    "How old are you?  37\n",
    "You were born in 1987\n",
    "You will be 63 in 2050\n",
    "You will be twice as old in 2098\n",
    "```"
   ]
  },
  {
   "cell_type": "markdown",
   "id": "8f6b0d92-2870-4bd9-95eb-ad7fe9c1431e",
   "metadata": {
    "editable": true,
    "slideshow": {
     "slide_type": "slide"
    },
    "tags": []
   },
   "source": [
    "## Functions (from last class session)"
   ]
  },
  {
   "cell_type": "markdown",
   "id": "6523fd18-fbac-4de8-96fd-2b87406688f7",
   "metadata": {
    "editable": true,
    "slideshow": {
     "slide_type": ""
    },
    "tags": [
     "question"
    ]
   },
   "source": [
    "_Complete the Functions problems on the worksheet from the previous class session_"
   ]
  },
  {
   "cell_type": "markdown",
   "id": "829ec18c-a05f-48cb-a0b6-daf17bf894eb",
   "metadata": {
    "editable": true,
    "slideshow": {
     "slide_type": "slide"
    },
    "tags": []
   },
   "source": [
    "## Scope"
   ]
  },
  {
   "cell_type": "markdown",
   "id": "c9cfa69a-37b4-4179-b440-59be20bb2e12",
   "metadata": {
    "editable": true,
    "slideshow": {
     "slide_type": "skip"
    },
    "tags": [
     "notes-only"
    ]
   },
   "source": [
    "* Recall: a variable is a vessel for a value\n",
    "* Recall: variables only exist within a paticular function\n",
    "* Proper terminology\n",
    "    * Argument – included in the function call; can be values, variables, or expressions (e.g., mathematical operation or another function call)\n",
    "    * Parameter – listed in function definition; treat like a variable\n",
    "    * Arguments are **passed** to the function --> the values codified by the arguments are stored in the parameters\n",
    "* Modifying one variable does not change other variables --> modifying a parameter does not change the argument"
   ]
  },
  {
   "cell_type": "code",
   "execution_count": 13,
   "id": "cf869dee-2a00-4798-828f-59b472834ac0",
   "metadata": {
    "editable": true,
    "slideshow": {
     "slide_type": ""
    },
    "tags": [
     "worksheet-code-only"
    ]
   },
   "outputs": [
    {
     "name": "stdout",
     "output_type": "stream",
     "text": [
      "n is 5\n",
      "a is 1\n",
      "b is 5\n",
      "now b is 10\n",
      "n is still 5\n"
     ]
    }
   ],
   "source": [
    "def demo(a: int, b: int):\n",
    "    print(\"a is\", a)\n",
    "    print(\"b is\", b)\n",
    "    #cannot use (e.g., print) n\n",
    "    b = b * 2\n",
    "    print(\"now b is\", b)\n",
    "\n",
    "def main():\n",
    "    n = 5\n",
    "    print(\"n is\", n)\n",
    "    demo(1, n)\n",
    "    #cannot use (e.g., print) a or b\n",
    "    print(\"n is still\", n)\n",
    "\n",
    "main()"
   ]
  },
  {
   "cell_type": "markdown",
   "id": "8b77ba1c-1685-41ff-82d9-8e515fa42bfe",
   "metadata": {
    "editable": true,
    "slideshow": {
     "slide_type": "skip"
    },
    "tags": [
     "blank"
    ]
   },
   "source": [
    "<div style=\"height:10em;\"></div>"
   ]
  },
  {
   "cell_type": "markdown",
   "id": "d6e00674-db34-4773-b29c-20fc93dd5d8c",
   "metadata": {
    "editable": true,
    "slideshow": {
     "slide_type": "skip"
    },
    "tags": [
     "notes-only"
    ]
   },
   "source": [
    "* Even if you use the same parameter or variable name in two different functions, they are not the same parameter or variable!"
   ]
  },
  {
   "cell_type": "code",
   "execution_count": 14,
   "id": "f7225e72-c2e8-4245-b3cf-2964e030fd47",
   "metadata": {
    "editable": true,
    "slideshow": {
     "slide_type": "subslide"
    },
    "tags": [
     "worksheet-code-only"
    ]
   },
   "outputs": [
    {
     "name": "stdout",
     "output_type": "stream",
     "text": [
      "n is 5\n",
      "a is 1\n",
      "n is 5\n",
      "now n is 10\n",
      "n is still 5\n"
     ]
    }
   ],
   "source": [
    "def demo(a: int, n: int):\n",
    "    print(\"a is\", a)\n",
    "    print(\"n is\", n)\n",
    "    n = n * 2\n",
    "    print(\"now n is\", n)\n",
    "\n",
    "def main():\n",
    "    n = 5\n",
    "    print(\"n is\", n)\n",
    "    demo(1, n)\n",
    "    print(\"n is still\", n)\n",
    "\n",
    "main()"
   ]
  },
  {
   "cell_type": "markdown",
   "id": "8cba1f15-7ddd-4282-bd78-c5d43aac1da0",
   "metadata": {
    "editable": true,
    "slideshow": {
     "slide_type": "skip"
    },
    "tags": [
     "blank"
    ]
   },
   "source": [
    "<div style=\"height:5em;\"></div>"
   ]
  },
  {
   "cell_type": "markdown",
   "id": "5f717ea2-b46c-4c4f-9b56-763fe120ffdf",
   "metadata": {
    "editable": true,
    "slideshow": {
     "slide_type": "skip"
    },
    "tags": [
     "notes-only"
    ]
   },
   "source": [
    "* How do we modify a value inside a function and have that reflected outside of the function?"
   ]
  },
  {
   "cell_type": "markdown",
   "id": "a020b06c-129b-4f7d-ac28-0745993010b7",
   "metadata": {
    "editable": true,
    "slideshow": {
     "slide_type": "slide"
    },
    "tags": []
   },
   "source": [
    "## Return values"
   ]
  },
  {
   "cell_type": "code",
   "execution_count": 11,
   "id": "0006aef1-7063-43bd-95db-6058d598608e",
   "metadata": {
    "editable": true,
    "slideshow": {
     "slide_type": ""
    },
    "tags": [
     "worksheet-code-only"
    ]
   },
   "outputs": [
    {
     "name": "stdout",
     "output_type": "stream",
     "text": [
      "Starting balance: $50.0\n"
     ]
    },
    {
     "name": "stdin",
     "output_type": "stream",
     "text": [
      "First deposit: $ 25\n"
     ]
    },
    {
     "name": "stdout",
     "output_type": "stream",
     "text": [
      "Balance: $75.0\n"
     ]
    },
    {
     "name": "stdin",
     "output_type": "stream",
     "text": [
      "Second deposit: $ 10\n"
     ]
    },
    {
     "name": "stdout",
     "output_type": "stream",
     "text": [
      "Balance: $60.0\n"
     ]
    },
    {
     "name": "stdin",
     "output_type": "stream",
     "text": [
      "Withdrawal: $ 20\n"
     ]
    },
    {
     "name": "stdout",
     "output_type": "stream",
     "text": [
      "Balance: $30.0\n",
      "Final balance: $50.0\n"
     ]
    }
   ],
   "source": [
    "def deposit(balance: float, amount: float) -> None:\n",
    "    balance = balance + amount\n",
    "    print(\"Balance: $\" + str(balance))\n",
    "\n",
    "def main() -> None:\n",
    "    total = 50.0\n",
    "    print(\"Starting balance: $\" + str(total))\n",
    "    add1 = float(input(\"First deposit: $\"))\n",
    "    deposit(total, add1)\n",
    "    add2 = float(input(\"Second deposit: $\"))\n",
    "    deposit(total, add2)\n",
    "    print(\"Ending balance: $\" + str(total))\n",
    "\n",
    "main()"
   ]
  },
  {
   "cell_type": "markdown",
   "id": "5720b960-112d-42fc-80d8-7cc62a9dff81",
   "metadata": {
    "editable": true,
    "slideshow": {
     "slide_type": "skip"
    },
    "tags": [
     "blank"
    ]
   },
   "source": [
    "<div style=\"height:10em;\"></div>"
   ]
  },
  {
   "cell_type": "markdown",
   "id": "6eedc1ee-8b9b-4e60-9f04-3c8f002c8d4f",
   "metadata": {
    "editable": true,
    "slideshow": {
     "slide_type": "skip"
    },
    "tags": [
     "notes-only"
    ]
   },
   "source": [
    "* Use `return` to provide a value **from** a function\n",
    "    * Recall: arguments and parameters provide a value **to** a function\n",
    "* Proper terminology\n",
    "    * Callee – function that was called\n",
    "    * Caller – function that made the call\n",
    "    * Caller passes arguments to the callee\n",
    "    * Callee returns to the caller"
   ]
  },
  {
   "cell_type": "code",
   "execution_count": null,
   "id": "2c2b4ea4-c037-4d03-ad1d-e63458fd45bd",
   "metadata": {
    "editable": true,
    "slideshow": {
     "slide_type": "skip"
    },
    "tags": [
     "notes-only"
    ]
   },
   "outputs": [],
   "source": [
    "def deposit(balance: float, amount: float) -> None:\n",
    "    balance = balance + amount\n",
    "    print(\"Balance: $\" + str(balance))\n",
    "    return balance\n",
    "\n",
    "def main() -> None:\n",
    "    total = 50.0\n",
    "    print(\"Starting balance: $\" + str(total))\n",
    "    add1 = float(input(\"First deposit: $\"))\n",
    "    deposit(total, add1)\n",
    "    add2 = float(input(\"Second deposit: $\"))\n",
    "    deposit(total, add2)\n",
    "    print(\"Ending balance: $\" + str(total))\n",
    "\n",
    "main()"
   ]
  },
  {
   "cell_type": "markdown",
   "id": "4d04eac6-fe89-48aa-a0d5-f74dfb18be61",
   "metadata": {
    "editable": true,
    "slideshow": {
     "slide_type": "skip"
    },
    "tags": [
     "notes-only"
    ]
   },
   "source": [
    "* Caller should store (in a variable) or print the return value"
   ]
  },
  {
   "cell_type": "code",
   "execution_count": null,
   "id": "8dccca32-1ab6-4a8d-bcae-84e677b1dc8c",
   "metadata": {
    "editable": true,
    "slideshow": {
     "slide_type": "skip"
    },
    "tags": [
     "notes-only"
    ]
   },
   "outputs": [],
   "source": [
    "def deposit(balance: float, amount: float) -> None:\n",
    "    balance = balance + amount\n",
    "    print(\"Balance: $\" + str(balance))\n",
    "    return balance\n",
    "\n",
    "def main() -> None:\n",
    "    total = 50.0\n",
    "    print(\"Starting balance: $\" + str(total))\n",
    "    add1 = float(input(\"First deposit: $\"))\n",
    "    new_total1 = deposit(total, add1)\n",
    "    add2 = float(input(\"Second deposit: $\"))\n",
    "    new_total2 = deposit(new_tota1, add2)\n",
    "    print(\"Ending balance: $\" + str(new_total2))\n",
    "\n",
    "main()"
   ]
  },
  {
   "cell_type": "markdown",
   "id": "6877555b-113f-48e4-bbb3-e7650f5aa027",
   "metadata": {
    "editable": true,
    "slideshow": {
     "slide_type": "skip"
    },
    "tags": [
     "notes-only"
    ]
   },
   "source": [
    "* Reuse variables when appropriate"
   ]
  },
  {
   "cell_type": "code",
   "execution_count": null,
   "id": "a5f01396-415f-4fa9-acd5-25f5df6b651e",
   "metadata": {
    "editable": true,
    "slideshow": {
     "slide_type": "skip"
    },
    "tags": [
     "notes-only"
    ]
   },
   "outputs": [],
   "source": [
    "def deposit(balance: float, amount: float) -> None:\n",
    "    balance = balance + amount\n",
    "    print(\"Balance: $\" + str(balance))\n",
    "    return balance\n",
    "\n",
    "def main() -> None:\n",
    "    total = 50.0\n",
    "    print(\"Starting balance: $\" + str(total))\n",
    "    add1 = float(input(\"First deposit: $\"))\n",
    "    total = deposit(total, add1)\n",
    "    add2 = float(input(\"Second deposit: $\"))\n",
    "    total = deposit(total, add2)\n",
    "    print(\"Ending balance: $\" + str(total))\n",
    "\n",
    "main()"
   ]
  },
  {
   "cell_type": "markdown",
   "id": "a3886306-af0f-4981-b892-cef61f8ee0fe",
   "metadata": {
    "editable": true,
    "slideshow": {
     "slide_type": "subslide"
    },
    "tags": [
     "question"
    ]
   },
   "source": [
    "_What is the output of each of the following programs?_"
   ]
  },
  {
   "cell_type": "code",
   "execution_count": 41,
   "id": "99f24ccd-34fb-4572-97bd-9df838e2f40b",
   "metadata": {
    "editable": true,
    "slideshow": {
     "slide_type": ""
    },
    "tags": [
     "worksheet-code-only"
    ]
   },
   "outputs": [
    {
     "name": "stdout",
     "output_type": "stream",
     "text": [
      "x was 5\n",
      "now it is 10\n"
     ]
    }
   ],
   "source": [
    "def magic(a: int) -> None:\n",
    "    return a * 2\n",
    "\n",
    "def main() -> None:\n",
    "    x = 5\n",
    "    print(\"x was \" + str(x))\n",
    "    x = magic(x)\n",
    "    print(\"now it is \" + str(x))\n",
    "\n",
    "main()"
   ]
  },
  {
   "cell_type": "markdown",
   "id": "23d50a42-8d7d-4d7a-a2fe-bcf93c750411",
   "metadata": {
    "editable": true,
    "slideshow": {
     "slide_type": "skip"
    },
    "tags": [
     "blank"
    ]
   },
   "source": [
    "```\n",
    "\n",
    "\n",
    "\n",
    "\n",
    "\n",
    "```"
   ]
  },
  {
   "cell_type": "code",
   "execution_count": 19,
   "id": "080cde72-f03a-4905-ad91-632563d8cc1c",
   "metadata": {
    "editable": true,
    "slideshow": {
     "slide_type": "subslide"
    },
    "tags": [
     "worksheet-code-only"
    ]
   },
   "outputs": [
    {
     "name": "stdout",
     "output_type": "stream",
     "text": [
      "average = 15.0\n",
      "average = 15.0\n"
     ]
    }
   ],
   "source": [
    "def average(num1: int, num2: int, num3: int) -> float:\n",
    "    total = num1 + num2 + num3\n",
    "    return total / 3\n",
    "\n",
    "def main() -> None:\n",
    "    result = average(5, 10, 30)\n",
    "    print(\"average =\", result)\n",
    "    average(3, 12, result)\n",
    "    print(\"average =\", result)\n",
    "\n",
    "main()"
   ]
  },
  {
   "cell_type": "markdown",
   "id": "a8b58ef4-e200-4ae8-bc85-13b5d0e8fd2f",
   "metadata": {
    "editable": true,
    "slideshow": {
     "slide_type": "skip"
    },
    "tags": [
     "blank"
    ]
   },
   "source": [
    "```\n",
    "\n",
    "\n",
    "\n",
    "\n",
    "\n",
    "```"
   ]
  },
  {
   "cell_type": "markdown",
   "id": "8a4eae58-29e5-40ea-9e93-27e91a0039ff",
   "metadata": {
    "editable": true,
    "slideshow": {
     "slide_type": "subslide"
    },
    "tags": []
   },
   "source": [
    "_Write a function `convert_to_meters` that takes a distance in feet and inches and computes the distance in meters. Note: 1 foot is 12 inches and 1 foot is 0.3058 meters._"
   ]
  },
  {
   "cell_type": "code",
   "execution_count": 36,
   "id": "d1f8ec46-404c-4e87-b7e1-020a385cbd29",
   "metadata": {
    "editable": true,
    "slideshow": {
     "slide_type": "skip"
    },
    "tags": [
     "answer"
    ]
   },
   "outputs": [],
   "source": [
    "def convert_to_meters(feet: int, inches: int) -> float:\n",
    "    feet = feet + inches / 12\n",
    "    return feet * 0.3058"
   ]
  },
  {
   "cell_type": "markdown",
   "id": "bbf353ed-d846-4478-be92-dd0145dae1c4",
   "metadata": {
    "editable": true,
    "slideshow": {
     "slide_type": "skip"
    },
    "tags": [
     "blank"
    ]
   },
   "source": [
    "```\n",
    "\n",
    "\n",
    "\n",
    "\n",
    "\n",
    "\n",
    "\n",
    "```"
   ]
  },
  {
   "cell_type": "markdown",
   "id": "37c3165b-2478-4844-b8cb-31855031d62a",
   "metadata": {
    "editable": true,
    "slideshow": {
     "slide_type": ""
    },
    "tags": []
   },
   "source": [
    "_Write a function `convert_to_dozen` that takes a quantity and converts the quantity to dozens, rounding up. For example, `convert_to_dozen(20)` should return `2`, because two dozen is 24 (whereas one dozen is only 12)._"
   ]
  },
  {
   "cell_type": "code",
   "execution_count": 35,
   "id": "d4b23bba-5455-4f1a-a9af-66268cf957cd",
   "metadata": {
    "editable": true,
    "slideshow": {
     "slide_type": "skip"
    },
    "tags": [
     "answer"
    ]
   },
   "outputs": [],
   "source": [
    "def convert_to_dozen(quantity: int) -> int:\n",
    "    dozen = quantity // 12\n",
    "    remain = quantity % 12\n",
    "    extra = (remain + 11) // 12\n",
    "    return dozen + extra"
   ]
  },
  {
   "cell_type": "markdown",
   "id": "19485df2-0e4c-488f-88fd-ee5aebd80ab8",
   "metadata": {
    "editable": true,
    "slideshow": {
     "slide_type": "skip"
    },
    "tags": [
     "blank"
    ]
   },
   "source": [
    "```\n",
    "\n",
    "\n",
    "\n",
    "\n",
    "\n",
    "\n",
    "\n",
    "\n",
    "```"
   ]
  }
 ],
 "metadata": {
  "celltoolbar": "Tags",
  "kernelspec": {
   "display_name": "Python 3 (ipykernel)",
   "language": "python",
   "name": "python3"
  },
  "language_info": {
   "codemirror_mode": {
    "name": "ipython",
    "version": 3
   },
   "file_extension": ".py",
   "mimetype": "text/x-python",
   "name": "python",
   "nbconvert_exporter": "python",
   "pygments_lexer": "ipython3",
   "version": "3.9.6"
  }
 },
 "nbformat": 4,
 "nbformat_minor": 5
}
