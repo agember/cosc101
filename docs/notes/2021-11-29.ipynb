{
 "cells": [
  {
   "cell_type": "markdown",
   "metadata": {
    "slideshow": {
     "slide_type": "skip"
    },
    "tags": []
   },
   "source": [
    "# references\n",
    "_COSC 101, Introduction to Computing I, 2021-11-29_"
   ]
  },
  {
   "cell_type": "markdown",
   "metadata": {
    "slideshow": {
     "slide_type": "skip"
    },
    "tags": []
   },
   "source": [
    "## Announcements\n",
    "* Homework #9 due Thursday @ 5pm\n",
    "* DEI reflection due next Monday @ 11pm"
   ]
  },
  {
   "cell_type": "markdown",
   "metadata": {
    "slideshow": {
     "slide_type": "skip"
    },
    "tags": [
     "notes-only"
    ]
   },
   "source": [
    "## Outline\n",
    "* Warm-up\n",
    "* Aliasing\n",
    "* Dictionary manipulation patterns"
   ]
  },
  {
   "cell_type": "markdown",
   "metadata": {},
   "source": [
    "## Warm-up\n",
    "*What is the output of the following program?*"
   ]
  },
  {
   "cell_type": "code",
   "execution_count": 10,
   "metadata": {
    "tags": [
     "worksheet-code-only"
    ]
   },
   "outputs": [
    {
     "name": "stdout",
     "output_type": "stream",
     "text": [
      "{'cold': 'hot', 'short': 'tall', 'down': 'up'}\n"
     ]
    }
   ],
   "source": [
    "opposites = { 'hot' : 'cold', 'tall' : 'short', 'up' : 'down'}\n",
    "opposites2 = {}\n",
    "for word in opposites:\n",
    "    word2 = opposites[word]\n",
    "    opposites2[word2] = word\n",
    "print(opposites2)"
   ]
  },
  {
   "cell_type": "markdown",
   "metadata": {
    "slideshow": {
     "slide_type": "skip"
    },
    "tags": [
     "worksheet-only"
    ]
   },
   "source": [
    "```\n",
    "\n",
    "\n",
    "\n",
    "\n",
    "```\n",
    "🛑 **STOP HERE** after completing the warm-up; please **DO NOT WORK AHEAD**. If you have extra time, work on the extra practice problems."
   ]
  },
  {
   "cell_type": "markdown",
   "metadata": {
    "slideshow": {
     "slide_type": "slide"
    },
    "tags": []
   },
   "source": [
    "## Aliasing"
   ]
  },
  {
   "cell_type": "markdown",
   "metadata": {
    "slideshow": {
     "slide_type": "skip"
    },
    "tags": [
     "notes-only"
    ]
   },
   "source": [
    "### Overview\n",
    "* *Recall: how do we create a new dictionary?* — using curly braces: `{}`"
   ]
  },
  {
   "cell_type": "code",
   "execution_count": 4,
   "metadata": {
    "slideshow": {
     "slide_type": "skip"
    },
    "tags": [
     "notes-only"
    ]
   },
   "outputs": [],
   "source": [
    "dictA = { 'x' : 1, 'y' : 3 }"
   ]
  },
  {
   "cell_type": "markdown",
   "metadata": {
    "slideshow": {
     "slide_type": "skip"
    },
    "tags": [
     "notes-only"
    ]
   },
   "source": [
    "* *Recall from lists: what is aliasing?* — multiple names referring to the same dictionary\n",
    "* *How is an alias created?* — assign the name of a dictionary to a new name"
   ]
  },
  {
   "cell_type": "code",
   "execution_count": 5,
   "metadata": {
    "slideshow": {
     "slide_type": "skip"
    },
    "tags": [
     "notes-only"
    ]
   },
   "outputs": [],
   "source": [
    "dictB = dictA"
   ]
  },
  {
   "cell_type": "markdown",
   "metadata": {
    "slideshow": {
     "slide_type": "skip"
    },
    "tags": [
     "notes-only"
    ]
   },
   "source": [
    "* Regardless which name you use, you are referring to the same dictionary\n",
    "* Changes made using one name will also be reflected if you use the other name to refer to the dictionary"
   ]
  },
  {
   "cell_type": "code",
   "execution_count": 7,
   "metadata": {
    "slideshow": {
     "slide_type": "skip"
    },
    "tags": [
     "notes-only"
    ]
   },
   "outputs": [
    {
     "name": "stdout",
     "output_type": "stream",
     "text": [
      "{'x': 10, 'y': 3, 'z': 7} {'x': 10, 'y': 3, 'z': 7}\n"
     ]
    }
   ],
   "source": [
    "dictB['z'] = 7\n",
    "dictA['x'] = 10\n",
    "print(dictA, dictB)"
   ]
  },
  {
   "cell_type": "markdown",
   "metadata": {
    "slideshow": {
     "slide_type": "skip"
    },
    "tags": [
     "notes-only"
    ]
   },
   "source": [
    "* *How can we check if two names refer to the same dictionary?* — using the `is` operator"
   ]
  },
  {
   "cell_type": "code",
   "execution_count": 8,
   "metadata": {
    "slideshow": {
     "slide_type": "skip"
    },
    "tags": [
     "notes-only"
    ]
   },
   "outputs": [
    {
     "data": {
      "text/plain": [
       "True"
      ]
     },
     "execution_count": 8,
     "metadata": {},
     "output_type": "execute_result"
    }
   ],
   "source": [
    "dictA is dictB"
   ]
  },
  {
   "cell_type": "markdown",
   "metadata": {
    "slideshow": {
     "slide_type": "skip"
    },
    "tags": [
     "notes-only"
    ]
   },
   "source": [
    "* To avoid aliasing, you must create a clone of the dictionary using the `copy()` function"
   ]
  },
  {
   "cell_type": "code",
   "execution_count": 9,
   "metadata": {
    "slideshow": {
     "slide_type": "skip"
    },
    "tags": [
     "notes-only"
    ]
   },
   "outputs": [
    {
     "name": "stdout",
     "output_type": "stream",
     "text": [
      "{'x': 10, 'y': 3, 'z': 7} {'x': 10, 'y': 3, 'z': 7, 'w': 5}\n"
     ]
    }
   ],
   "source": [
    "dictC = dictA.copy()\n",
    "dictC['w'] = 5\n",
    "print(dictA, dictC)"
   ]
  },
  {
   "cell_type": "markdown",
   "metadata": {
    "slideshow": {
     "slide_type": "skip"
    },
    "tags": [
     "notes-only"
    ]
   },
   "source": [
    "### Practice"
   ]
  },
  {
   "cell_type": "markdown",
   "metadata": {},
   "source": [
    "*What is the output of the following programs?*"
   ]
  },
  {
   "cell_type": "code",
   "execution_count": 11,
   "metadata": {
    "tags": [
     "worksheet-code-only"
    ]
   },
   "outputs": [
    {
     "name": "stdout",
     "output_type": "stream",
     "text": [
      "True\n",
      "True\n",
      "False\n",
      "False\n"
     ]
    }
   ],
   "source": [
    "#1)\n",
    "zipcodes = { 90210: 'Beverly Hills, CA', 10001 : 'New York, NY' }\n",
    "cities = zipcodes\n",
    "zipcodes[13346] = 'Hamilton, NY'\n",
    "newyork = zipcodes.copy()\n",
    "del newyork[90210]\n",
    "print(zipcodes is cities)\n",
    "print(zipcodes == cities)\n",
    "print(zipcodes is newyork)\n",
    "print(zipcodes == newyork)"
   ]
  },
  {
   "cell_type": "markdown",
   "metadata": {
    "slideshow": {
     "slide_type": "skip"
    },
    "tags": [
     "worksheet-only"
    ]
   },
   "source": [
    "```\n",
    "\n",
    "\n",
    "\n",
    "\n",
    "\n",
    "\n",
    "```"
   ]
  },
  {
   "cell_type": "code",
   "execution_count": 13,
   "metadata": {
    "slideshow": {
     "slide_type": "subslide"
    },
    "tags": [
     "worksheet-code-only"
    ]
   },
   "outputs": [
    {
     "name": "stdout",
     "output_type": "stream",
     "text": [
      "{'United States': 1, 'China': 86, 'India': 91}\n",
      "{'United States': 1, 'China': 86, 'India': 91, 61: 'Australia'}\n"
     ]
    }
   ],
   "source": [
    "#2)\n",
    "def expand(prefixes):\n",
    "    prefixes['India'] = 91\n",
    "    codes = prefixes.copy()\n",
    "    codes[61] = 'Australia'\n",
    "    return codes\n",
    "\n",
    "areacodes = { 'United States' : 1, 'China' : 86 }\n",
    "expandcodes = expand(areacodes)\n",
    "print(areacodes)\n",
    "del areacodes['United States']\n",
    "print(expandcodes)"
   ]
  },
  {
   "cell_type": "markdown",
   "metadata": {
    "slideshow": {
     "slide_type": "skip"
    },
    "tags": [
     "worksheet-only"
    ]
   },
   "source": [
    "```\n",
    "\n",
    "\n",
    "\n",
    "\n",
    "```"
   ]
  },
  {
   "cell_type": "code",
   "execution_count": 16,
   "metadata": {
    "slideshow": {
     "slide_type": "subslide"
    },
    "tags": [
     "worksheet-code-only"
    ]
   },
   "outputs": [
    {
     "name": "stdout",
     "output_type": "stream",
     "text": [
      "{'water': {'H': 2, 'O': 2}, 'acid': {'H': 2, 'S': 1, 'O': 4}, 'agua': {'H': 2, 'O': 2}}\n"
     ]
    }
   ],
   "source": [
    "#3)\n",
    "molecules = { }\n",
    "molecules['water'] = {'H' : 2 , 'O' : 1}\n",
    "molecules['acid'] = {'H' : 2, 'S' : 1, 'O' : 4 }\n",
    "molecules['agua'] = molecules['water']\n",
    "chosen = molecules['agua']\n",
    "chosen['O'] = 2\n",
    "print(molecules)"
   ]
  },
  {
   "cell_type": "markdown",
   "metadata": {
    "slideshow": {
     "slide_type": "skip"
    },
    "tags": [
     "worksheet-only"
    ]
   },
   "source": [
    "```\n",
    "\n",
    "\n",
    "\n",
    "\n",
    "\n",
    "```\n",
    "🛑 **STOP HERE** after completing the above questions; please **DO NOT WORK AHEAD**. If you have extra time, work on the extra practice problems."
   ]
  },
  {
   "cell_type": "markdown",
   "metadata": {
    "slideshow": {
     "slide_type": "slide"
    },
    "tags": []
   },
   "source": [
    "## Dictionary manipulation patterns"
   ]
  },
  {
   "cell_type": "markdown",
   "metadata": {
    "slideshow": {
     "slide_type": "skip"
    },
    "tags": [
     "notes-only"
    ]
   },
   "source": [
    "### Overview\n",
    "* Insert new key with initial value\n",
    "```\n",
    "if key not in mydict:\n",
    "    mydict[key] = 0    # Choose appropriate value\n",
    "```\n",
    "* Accumulate value corresponding to key\n",
    "```\n",
    "mydict[key] = mydict[key] + 1     # Choose appropriate accumulation\n",
    "```\n",
    "* Associate multiple values with key\n",
    "```\n",
    "if key not in mydict:\n",
    "    mydict[key] = []    # Initialize non-existent key to empty list\n",
    "mydict[key].append(newValue)     # Add new value to list associated with key\n",
    "```"
   ]
  },
  {
   "cell_type": "markdown",
   "metadata": {
    "slideshow": {
     "slide_type": "skip"
    },
    "tags": [
     "notes-only"
    ]
   },
   "source": [
    "### Practice"
   ]
  },
  {
   "cell_type": "markdown",
   "metadata": {},
   "source": [
    "\\#1) *Write a function called `char_count` that takes a string and returns a dictionary that maps characters to the number of times the character occurs in the string. For example: `char_count('basketball')` should return*\n",
    "```\n",
    "{'b': 2, 'a': 2, 's': 1, 'k': 1, 'e': 1, 't': 1, 'l': 2}\n",
    "```"
   ]
  },
  {
   "cell_type": "code",
   "execution_count": 2,
   "metadata": {
    "slideshow": {
     "slide_type": "skip"
    },
    "tags": [
     "notes-only"
    ]
   },
   "outputs": [],
   "source": [
    "def char_count(string):\n",
    "    \"\"\"\n",
    "    >>> char_count('basketball')\n",
    "    {'b': 2, 'a': 2, 's': 1, 'k': 1, 'e': 1, 't': 1, 'l': 2}\n",
    "    \"\"\"\n",
    "    counts = {}\n",
    "    for ch in string:\n",
    "        if ch in counts:\n",
    "            counts[ch] += 1\n",
    "        else:\n",
    "            counts[ch] = 1\n",
    "    return counts"
   ]
  },
  {
   "cell_type": "markdown",
   "metadata": {
    "slideshow": {
     "slide_type": "skip"
    },
    "tags": [
     "worksheet-only"
    ]
   },
   "source": [
    "```\n",
    "\n",
    "\n",
    "\n",
    "\n",
    "\n",
    "\n",
    "\n",
    "\n",
    "\n",
    "\n",
    "\n",
    "\n",
    "\n",
    "\n",
    "\n",
    "```"
   ]
  },
  {
   "cell_type": "markdown",
   "metadata": {
    "slideshow": {
     "slide_type": "fragment"
    },
    "tags": []
   },
   "source": [
    "\\#2) *Write a function called `group_data` that takes a list of names and data items (e.g., `[name1,data1, name2,data2,...]`) and returns a dictionary that maps names to lists of corresponding data items. For example:*\n",
    "```\n",
    "group_data(['apples','5','pears','8','oranges','3','pears','2'])\n",
    "```\n",
    "*should return*\n",
    "```\n",
    "{'apples' : ['5'], 'pears' : ['8','2'], 'oranges': ['3']}\n",
    "```"
   ]
  },
  {
   "cell_type": "code",
   "execution_count": 4,
   "metadata": {
    "slideshow": {
     "slide_type": "skip"
    },
    "tags": [
     "notes-only"
    ]
   },
   "outputs": [],
   "source": [
    "def group_data(alist):\n",
    "    \"\"\"\n",
    "    >>> group_data(['apples','5','pears','8','oranges','3','pears','2'])\n",
    "    {'apples': ['5'], 'pears': ['8', '2'], 'oranges': ['3']}\n",
    "    \"\"\"\n",
    "    adict = {}\n",
    "    for i in range(0, len(alist), 2):\n",
    "        name = alist[i]\n",
    "        data = alist[i+1]\n",
    "        if name not in adict:\n",
    "            adict[name] = [data]\n",
    "        else:\n",
    "            adict[name].append(data)\n",
    "    return adict"
   ]
  },
  {
   "cell_type": "markdown",
   "metadata": {
    "slideshow": {
     "slide_type": "skip"
    },
    "tags": [
     "worksheet-only"
    ]
   },
   "source": [
    "```\n",
    "\n",
    "\n",
    "\n",
    "\n",
    "\n",
    "\n",
    "\n",
    "\n",
    "\n",
    "\n",
    "\n",
    "\n",
    "\n",
    "\n",
    "\n",
    "\n",
    "```"
   ]
  },
  {
   "cell_type": "markdown",
   "metadata": {
    "slideshow": {
     "slide_type": "slide"
    },
    "tags": []
   },
   "source": [
    "## Extra practice\n",
    "*What is the output of the following programs?*"
   ]
  },
  {
   "cell_type": "code",
   "execution_count": 9,
   "metadata": {
    "tags": [
     "worksheet-code-only"
    ]
   },
   "outputs": [
    {
     "name": "stdout",
     "output_type": "stream",
     "text": [
      "A baby dog is called a puppy\n",
      "A baby cat is called a kitten\n",
      "A baby cow is called a calf\n"
     ]
    }
   ],
   "source": [
    "#1)\n",
    "babies = {'dog': 'puppy', 'cat': 'kitten', 'cow': 'calf'}\n",
    "for adult in babies:\n",
    "    baby = babies[adult]\n",
    "    print(\"A baby\", adult, \"is called a\", baby)"
   ]
  },
  {
   "cell_type": "markdown",
   "metadata": {
    "slideshow": {
     "slide_type": "skip"
    },
    "tags": [
     "worksheet-only"
    ]
   },
   "source": [
    "```\n",
    "\n",
    "\n",
    "\n",
    "\n",
    "\n",
    "```"
   ]
  },
  {
   "cell_type": "code",
   "execution_count": 12,
   "metadata": {
    "slideshow": {
     "slide_type": "subslide"
    },
    "tags": [
     "worksheet-code-only"
    ]
   },
   "outputs": [
    {
     "name": "stdout",
     "output_type": "stream",
     "text": [
      "Nov\n",
      "4 Diwali\n",
      "11 Veteran's Day\n",
      "25 Thanksgiving\n",
      "28 1st night of Hanukkah\n",
      "Dec\n",
      "21 Winter Solstice\n",
      "25 Christmas\n"
     ]
    }
   ],
   "source": [
    "#2)\n",
    "holidays = {'Nov': {4: \"Diwali\", 11 : \"Veteran's Day\", 25: \"Thanksgiving\", 28: \"1st night of Hanukkah\"}, \n",
    "            'Dec': {21: \"Winter Solstice\", 25: \"Christmas\"}}\n",
    "for month in holidays:\n",
    "    print(month)\n",
    "    month = holidays[month]\n",
    "    for day in month:\n",
    "        holiday = month[day]\n",
    "        print(day,holiday)"
   ]
  },
  {
   "cell_type": "code",
   "execution_count": 8,
   "metadata": {
    "slideshow": {
     "slide_type": "skip"
    },
    "tags": [
     "colab-only"
    ]
   },
   "outputs": [
    {
     "data": {
      "text/plain": [
       "TestResults(failed=0, attempted=3)"
      ]
     },
     "execution_count": 8,
     "metadata": {},
     "output_type": "execute_result"
    }
   ],
   "source": [
    "import doctest\n",
    "doctest.testmod()"
   ]
  }
 ],
 "metadata": {
  "celltoolbar": "Tags",
  "kernelspec": {
   "display_name": "Python 3 (ipykernel)",
   "language": "python",
   "name": "python3"
  },
  "language_info": {
   "codemirror_mode": {
    "name": "ipython",
    "version": 3
   },
   "file_extension": ".py",
   "mimetype": "text/x-python",
   "name": "python",
   "nbconvert_exporter": "python",
   "pygments_lexer": "ipython3",
   "version": "3.8.2"
  }
 },
 "nbformat": 4,
 "nbformat_minor": 4
}
