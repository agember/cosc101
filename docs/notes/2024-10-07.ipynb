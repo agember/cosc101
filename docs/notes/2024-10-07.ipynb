{
 "cells": [
  {
   "cell_type": "markdown",
   "id": "b70466f9",
   "metadata": {
    "editable": true,
    "slideshow": {
     "slide_type": "skip"
    },
    "tags": []
   },
   "source": [
    "# Conditionals: nesting\n",
    "_COSC 101, Introduction to Computing I, 2024-10-07_"
   ]
  },
  {
   "cell_type": "markdown",
   "id": "cef2c55b-262d-4a27-b8a5-13673bd0d4fc",
   "metadata": {
    "editable": true,
    "slideshow": {
     "slide_type": "skip"
    },
    "tags": []
   },
   "source": [
    "## Announcements\n",
    "* Homework 4 due Thursday at 11:59pm"
   ]
  },
  {
   "cell_type": "markdown",
   "id": "276bd9e8-e912-489f-92bd-1dc2c386b303",
   "metadata": {
    "editable": true,
    "slideshow": {
     "slide_type": "slide"
    },
    "tags": []
   },
   "source": [
    "## Nested conditionals"
   ]
  },
  {
   "cell_type": "markdown",
   "id": "58154a27",
   "metadata": {
    "editable": true,
    "slideshow": {
     "slide_type": "skip"
    },
    "tags": [
     "notes-only"
    ]
   },
   "source": [
    "* The statements that are executed when a condition is true (or false) may include another if statement"
   ]
  },
  {
   "cell_type": "markdown",
   "id": "c3b2b11c-a8e9-49ae-aa22-e962be15f9ee",
   "metadata": {
    "editable": true,
    "slideshow": {
     "slide_type": ""
    },
    "tags": []
   },
   "source": [
    "_Example_"
   ]
  },
  {
   "cell_type": "code",
   "execution_count": null,
   "id": "c0dfe145",
   "metadata": {
    "editable": true,
    "slideshow": {
     "slide_type": ""
    },
    "tags": [
     "worksheet-code-only"
    ]
   },
   "outputs": [],
   "source": [
    "x = int(input(\"x=\"))\n",
    "y = int(input(\"y=\"))\n",
    "if x > 0:\n",
    "    if y > 0:\n",
    "        print(\"x is positive, y is positive\")\n",
    "    else:\n",
    "        print(\"x is positive, y is negative\")\n",
    "else:\n",
    "    print(\"x is not positive\")\n",
    "print(x, \"+\", y, \"=\", x+y)"
   ]
  },
  {
   "cell_type": "markdown",
   "id": "265776f0",
   "metadata": {
    "editable": true,
    "slideshow": {
     "slide_type": "skip"
    },
    "tags": [
     "notes-only"
    ]
   },
   "source": [
    "![Flowchart for nested conditionals example](figures/conditionals/example_nested.png)"
   ]
  },
  {
   "cell_type": "markdown",
   "id": "395ed660-73b1-4f5b-9076-d70fe77af592",
   "metadata": {
    "editable": true,
    "slideshow": {
     "slide_type": "skip"
    },
    "tags": [
     "blank"
    ]
   },
   "source": [
    "```\n",
    "\n",
    "\n",
    "\n",
    "\n",
    "\n",
    "\n",
    "\n",
    "```"
   ]
  },
  {
   "cell_type": "markdown",
   "id": "7d90da56-3317-4d18-90fb-cb26fbe344df",
   "metadata": {
    "editable": true,
    "slideshow": {
     "slide_type": "subslide"
    },
    "tags": [
     "question"
    ]
   },
   "source": [
    "_Write a program that asks the user for their age. If the user is at least 18 years old, then the program should ask which presidential candidate they plan to vote for. If the user enters `Harris`, the program should output `Democrat`; if the user enters `Trump`, the program should output `Republican`; if the user enters something else, the program should output `Independent`. If the user is younger than 18, the program should output `You are too young`._"
   ]
  },
  {
   "cell_type": "code",
   "execution_count": null,
   "id": "8ae2c5e7-82c9-4141-a6ed-7aa89f70e184",
   "metadata": {
    "editable": true,
    "slideshow": {
     "slide_type": "skip"
    },
    "tags": [
     "answer"
    ]
   },
   "outputs": [],
   "source": [
    "def main() -> None:\n",
    "    age = int(input(\"How old are you? \"))\n",
    "    if (age >= 18):\n",
    "        candidate = input(\"Which candidate do you plan to vote for? \")\n",
    "        if (candidate == \"Harris\"):\n",
    "            print(\"Democrat\")\n",
    "        elif (candidate == \"Trump\"):\n",
    "            print(\"Republican\")\n",
    "        else:\n",
    "            print(\"Independent\")\n",
    "    else:\n",
    "        print(\"You are too young\")\n",
    "main()"
   ]
  },
  {
   "cell_type": "markdown",
   "id": "49fe2957-bb01-4dea-9584-532e1f991083",
   "metadata": {
    "editable": true,
    "slideshow": {
     "slide_type": "skip"
    },
    "tags": [
     "blank"
    ]
   },
   "source": [
    "```\n",
    "\n",
    "\n",
    "\n",
    "\n",
    "\n",
    "\n",
    "\n",
    "\n",
    "\n",
    "\n",
    "\n",
    "\n",
    "\n",
    "```"
   ]
  },
  {
   "cell_type": "markdown",
   "id": "44b385e7-7c25-45ab-9ae3-2ceba9d86aa5",
   "metadata": {
    "editable": true,
    "slideshow": {
     "slide_type": "subslide"
    },
    "tags": [
     "question"
    ]
   },
   "source": [
    "_Draw a flowchart for the following program:_"
   ]
  },
  {
   "cell_type": "code",
   "execution_count": null,
   "id": "2be95fc7-fad0-460a-9081-0fdedb12fcfa",
   "metadata": {
    "editable": true,
    "slideshow": {
     "slide_type": ""
    },
    "tags": [
     "question"
    ]
   },
   "outputs": [],
   "source": [
    "def main() -> None:\n",
    "    a = int(input(\"a=\"))\n",
    "    if a >= 50:\n",
    "        if (a >= 100):\n",
    "            print(\"Extra\")\n",
    "        print(\"Large\")\n",
    "    else:\n",
    "        if (a < 10):\n",
    "            print (\"Small\")\n",
    "        else:\n",
    "            print(\"Medium\")\n",
    "main()"
   ]
  },
  {
   "cell_type": "markdown",
   "id": "6c4caeac-df26-43e2-882e-01b6e0c19d68",
   "metadata": {
    "editable": true,
    "slideshow": {
     "slide_type": "skip"
    },
    "tags": [
     "blank"
    ]
   },
   "source": [
    "```\n",
    "\n",
    "\n",
    "\n",
    "\n",
    "\n",
    "\n",
    "\n",
    "\n",
    "```"
   ]
  },
  {
   "cell_type": "markdown",
   "id": "e0966899-a15d-4f10-97e3-4093ac47300e",
   "metadata": {
    "editable": true,
    "slideshow": {
     "slide_type": ""
    },
    "tags": [
     "question"
    ]
   },
   "source": [
    "_What will the program output if a user enters `25`?_"
   ]
  },
  {
   "cell_type": "markdown",
   "id": "7aeec408-2579-43f2-915c-c0a7d37d5f47",
   "metadata": {
    "editable": true,
    "slideshow": {
     "slide_type": "skip"
    },
    "tags": [
     "answer"
    ]
   },
   "source": [
    "`Medium`"
   ]
  },
  {
   "cell_type": "markdown",
   "id": "62a23065-b497-4fb0-8c8e-0a9cfaaa6ee4",
   "metadata": {
    "editable": true,
    "slideshow": {
     "slide_type": "skip"
    },
    "tags": [
     "blank"
    ]
   },
   "source": [
    "```\n",
    "```"
   ]
  },
  {
   "cell_type": "markdown",
   "id": "3fd5eb44-1529-499c-a12e-af98ff254e8b",
   "metadata": {
    "editable": true,
    "slideshow": {
     "slide_type": ""
    },
    "tags": [
     "question"
    ]
   },
   "source": [
    "_What will the program output if a user enters `125`?_"
   ]
  },
  {
   "cell_type": "markdown",
   "id": "a4f20fcb-fc5c-4968-b8f1-6b5f57111634",
   "metadata": {
    "editable": true,
    "slideshow": {
     "slide_type": "skip"
    },
    "tags": [
     "answer"
    ]
   },
   "source": [
    "```\n",
    "Extra\n",
    "Large\n",
    "```"
   ]
  },
  {
   "cell_type": "markdown",
   "id": "0bad3771-9236-465d-bc67-7729ac239012",
   "metadata": {
    "editable": true,
    "slideshow": {
     "slide_type": "skip"
    },
    "tags": [
     "blank"
    ]
   },
   "source": [
    "```\n",
    "```"
   ]
  },
  {
   "cell_type": "markdown",
   "id": "c62df10f-6da3-44fd-ba67-9115c0d9ee54",
   "metadata": {
    "editable": true,
    "slideshow": {
     "slide_type": "slide"
    },
    "tags": []
   },
   "source": [
    "### Extra practice"
   ]
  },
  {
   "cell_type": "markdown",
   "id": "596cfc22-389b-4a25-b4bf-e56964cf1348",
   "metadata": {
    "editable": true,
    "slideshow": {
     "slide_type": ""
    },
    "tags": [
     "question"
    ]
   },
   "source": [
    "_For the following program, which code blocks will be executed when the listed conditions are true?_"
   ]
  },
  {
   "cell_type": "markdown",
   "id": "009e78d6-06a9-42ff-8da2-9fa5759c9b18",
   "metadata": {
    "editable": true,
    "slideshow": {
     "slide_type": ""
    },
    "tags": [
     "question"
    ]
   },
   "source": [
    "```Python\n",
    "if condition 1:\n",
    "    code block A\n",
    "    if condition 2:\n",
    "        code block B\n",
    "    elif condition 3:\n",
    "        code block C\n",
    "else:\n",
    "    code block D\n",
    "```"
   ]
  },
  {
   "cell_type": "markdown",
   "id": "04d958ac-5beb-4a4f-9ed9-01fa588ea885",
   "metadata": {
    "editable": true,
    "slideshow": {
     "slide_type": ""
    },
    "tags": [
     "question"
    ]
   },
   "source": [
    "_When conditions 1 and 2 are True_"
   ]
  },
  {
   "cell_type": "markdown",
   "id": "c5b66111-9a51-46a2-91b3-712ef199f6e2",
   "metadata": {
    "editable": true,
    "slideshow": {
     "slide_type": "skip"
    },
    "tags": [
     "answer"
    ]
   },
   "source": [
    "A, B"
   ]
  },
  {
   "cell_type": "markdown",
   "id": "72949a32-03c9-433c-babc-c19eb385fe5c",
   "metadata": {
    "editable": true,
    "slideshow": {
     "slide_type": "skip"
    },
    "tags": [
     "blank"
    ]
   },
   "source": [
    "```\n",
    "```"
   ]
  },
  {
   "cell_type": "markdown",
   "id": "97a50b64-990c-49fc-99e5-06d3fe9c0e61",
   "metadata": {
    "editable": true,
    "slideshow": {
     "slide_type": ""
    },
    "tags": [
     "question"
    ]
   },
   "source": [
    "_When conditions 2 and 3 are True_"
   ]
  },
  {
   "cell_type": "markdown",
   "id": "db530c55-b1db-44eb-98a7-78bf3106c061",
   "metadata": {
    "editable": true,
    "slideshow": {
     "slide_type": "skip"
    },
    "tags": [
     "answer"
    ]
   },
   "source": [
    "D"
   ]
  },
  {
   "cell_type": "markdown",
   "id": "6aff9db1-812b-4287-86f8-9f5e58e54f6f",
   "metadata": {
    "editable": true,
    "slideshow": {
     "slide_type": "skip"
    },
    "tags": [
     "blank"
    ]
   },
   "source": [
    "```\n",
    "```"
   ]
  },
  {
   "cell_type": "markdown",
   "id": "736b334c-68ac-46fe-903f-190de576754e",
   "metadata": {
    "editable": true,
    "slideshow": {
     "slide_type": ""
    },
    "tags": [
     "question"
    ]
   },
   "source": [
    "_When only condition 1 is True_"
   ]
  },
  {
   "cell_type": "markdown",
   "id": "ba8fd4e0-f047-4fae-a2c8-3da08cbc503d",
   "metadata": {
    "editable": true,
    "slideshow": {
     "slide_type": "skip"
    },
    "tags": [
     "answer"
    ]
   },
   "source": [
    "A"
   ]
  },
  {
   "cell_type": "markdown",
   "id": "109858ae-bfcf-47e6-b554-65ac63de0976",
   "metadata": {
    "editable": true,
    "slideshow": {
     "slide_type": "skip"
    },
    "tags": [
     "blank"
    ]
   },
   "source": [
    "```\n",
    "```"
   ]
  },
  {
   "cell_type": "markdown",
   "id": "eeb2d22f-0c1e-45bb-91ef-10e45b63ba48",
   "metadata": {
    "editable": true,
    "slideshow": {
     "slide_type": "subslide"
    },
    "tags": [
     "question"
    ]
   },
   "source": [
    "_Draw a flowchart for the following program:_"
   ]
  },
  {
   "cell_type": "code",
   "execution_count": null,
   "id": "3b828695-7af1-4785-bceb-28a75c1b359f",
   "metadata": {
    "editable": true,
    "slideshow": {
     "slide_type": ""
    },
    "tags": [
     "question"
    ]
   },
   "outputs": [],
   "source": [
    "def main() -> None:\n",
    "    i = int(input(\"i=\"))\n",
    "    j = int(input(\"j=\"))\n",
    "    if i > 5:\n",
    "        if j > 15:\n",
    "            print(\"A\")\n",
    "    else:\n",
    "        if j > 15:\n",
    "            print(\"B\")\n",
    "    if i > 10:\n",
    "        print(\"C\")\n",
    "main()"
   ]
  },
  {
   "cell_type": "markdown",
   "id": "254dd0cb-cdca-4f86-bc46-5f9b5c90f7a4",
   "metadata": {
    "editable": true,
    "slideshow": {
     "slide_type": "skip"
    },
    "tags": [
     "blank"
    ]
   },
   "source": [
    "```\n",
    "\n",
    "\n",
    "\n",
    "\n",
    "\n",
    "```"
   ]
  },
  {
   "cell_type": "markdown",
   "id": "5c79d940-d5af-41b8-85be-59dae5fcb112",
   "metadata": {
    "editable": true,
    "slideshow": {
     "slide_type": ""
    },
    "tags": [
     "question"
    ]
   },
   "source": [
    "_What will the program output if a user enters `5` and `20`?_"
   ]
  },
  {
   "cell_type": "markdown",
   "id": "b4ab347f-d0ea-4740-80bc-f6d3846ef59b",
   "metadata": {
    "editable": true,
    "slideshow": {
     "slide_type": "skip"
    },
    "tags": [
     "answer"
    ]
   },
   "source": [
    "`B`"
   ]
  },
  {
   "cell_type": "markdown",
   "id": "9e0723ef-19ef-4d7c-94f5-6628bcb64109",
   "metadata": {
    "editable": true,
    "slideshow": {
     "slide_type": "skip"
    },
    "tags": [
     "blank"
    ]
   },
   "source": [
    "```\n",
    "```"
   ]
  },
  {
   "cell_type": "markdown",
   "id": "61b64f8f-60a5-4f6f-b94d-31c9c6e6a13c",
   "metadata": {
    "editable": true,
    "slideshow": {
     "slide_type": ""
    },
    "tags": [
     "question"
    ]
   },
   "source": [
    "_What will the program output if a user enters `10` and `40`?_"
   ]
  },
  {
   "cell_type": "markdown",
   "id": "d86d9f9e-f8a9-4826-83e0-31bd6b160517",
   "metadata": {
    "editable": true,
    "slideshow": {
     "slide_type": "skip"
    },
    "tags": [
     "answer"
    ]
   },
   "source": [
    "`A`"
   ]
  },
  {
   "cell_type": "markdown",
   "id": "12df4705-8e17-478f-94b0-b332bed61732",
   "metadata": {
    "editable": true,
    "slideshow": {
     "slide_type": "skip"
    },
    "tags": [
     "blank"
    ]
   },
   "source": [
    "```\n",
    "```"
   ]
  },
  {
   "cell_type": "markdown",
   "id": "73cdae48-31e3-4731-80af-1c34e9786a52",
   "metadata": {
    "editable": true,
    "slideshow": {
     "slide_type": ""
    },
    "tags": [
     "question"
    ]
   },
   "source": [
    "_What will the program output if a user enters `20` and `5`?_"
   ]
  },
  {
   "cell_type": "markdown",
   "id": "8e6f3b63-f644-4820-b2bc-1f70b8452f07",
   "metadata": {
    "editable": true,
    "slideshow": {
     "slide_type": "skip"
    },
    "tags": [
     "answer"
    ]
   },
   "source": [
    "`C`"
   ]
  },
  {
   "cell_type": "markdown",
   "id": "f1a53553-fa3b-412c-beb2-83f920c78943",
   "metadata": {
    "editable": true,
    "slideshow": {
     "slide_type": "skip"
    },
    "tags": [
     "blank"
    ]
   },
   "source": [
    "```\n",
    "```"
   ]
  },
  {
   "cell_type": "markdown",
   "id": "a311d58a-ebca-4c10-804b-658eb5824a3f",
   "metadata": {
    "editable": true,
    "slideshow": {
     "slide_type": "subslide"
    },
    "tags": [
     "question"
    ]
   },
   "source": [
    "_For the following program, which code blocks will be executed when the listed conditions are true?_"
   ]
  },
  {
   "cell_type": "markdown",
   "id": "b36c2522-279c-4e2d-bade-9e93e0d261e7",
   "metadata": {
    "editable": true,
    "slideshow": {
     "slide_type": ""
    },
    "tags": [
     "question"
    ]
   },
   "source": [
    "```Python\n",
    "if condition 1:\n",
    "    code block A\n",
    "    if condition 2:\n",
    "        code block B\n",
    "    else:\n",
    "        code block C\n",
    "if condition 3:\n",
    "    code block D\n",
    "```"
   ]
  },
  {
   "cell_type": "markdown",
   "id": "e9216712-baa7-4c42-8279-872b2599014d",
   "metadata": {
    "editable": true,
    "slideshow": {
     "slide_type": ""
    },
    "tags": [
     "question"
    ]
   },
   "source": [
    "_When conditions 1 and 2 are True_"
   ]
  },
  {
   "cell_type": "markdown",
   "id": "2e667520-8690-4d02-b8ae-03348938ecd3",
   "metadata": {
    "editable": true,
    "slideshow": {
     "slide_type": "skip"
    },
    "tags": [
     "answer"
    ]
   },
   "source": [
    "A, B"
   ]
  },
  {
   "cell_type": "markdown",
   "id": "2426104e-17f5-4d5a-9d27-64b99a69c3dc",
   "metadata": {
    "editable": true,
    "slideshow": {
     "slide_type": "skip"
    },
    "tags": [
     "blank"
    ]
   },
   "source": [
    "```\n",
    "```"
   ]
  },
  {
   "cell_type": "markdown",
   "id": "bb47a7ac-31fc-4413-82b9-986279133428",
   "metadata": {
    "editable": true,
    "slideshow": {
     "slide_type": ""
    },
    "tags": [
     "question"
    ]
   },
   "source": [
    "_When conditions 2 and 3 are True_"
   ]
  },
  {
   "cell_type": "markdown",
   "id": "cb72d303-a4f4-40eb-a9f2-72438b68578a",
   "metadata": {
    "editable": true,
    "slideshow": {
     "slide_type": "skip"
    },
    "tags": [
     "answer"
    ]
   },
   "source": [
    "D"
   ]
  },
  {
   "cell_type": "markdown",
   "id": "9daae8de-5a30-4d4c-85b6-32c3f44c64ad",
   "metadata": {
    "editable": true,
    "slideshow": {
     "slide_type": "skip"
    },
    "tags": [
     "blank"
    ]
   },
   "source": [
    "```\n",
    "```"
   ]
  },
  {
   "cell_type": "markdown",
   "id": "a7204192-35ce-4e48-977e-19a97aec770f",
   "metadata": {
    "editable": true,
    "slideshow": {
     "slide_type": ""
    },
    "tags": [
     "question"
    ]
   },
   "source": [
    "_When only condition 1 is True_"
   ]
  },
  {
   "cell_type": "markdown",
   "id": "6f973635-b6ae-4a12-8813-555ff4c8f0bf",
   "metadata": {
    "editable": true,
    "slideshow": {
     "slide_type": "skip"
    },
    "tags": [
     "answer"
    ]
   },
   "source": [
    "A, C"
   ]
  },
  {
   "cell_type": "markdown",
   "id": "f1a5b1b9-af7a-405f-8fa4-4b8b0991ac02",
   "metadata": {
    "editable": true,
    "slideshow": {
     "slide_type": "skip"
    },
    "tags": [
     "blank"
    ]
   },
   "source": [
    "```\n",
    "```"
   ]
  }
 ],
 "metadata": {
  "kernelspec": {
   "display_name": "Python 3 (ipykernel)",
   "language": "python",
   "name": "python3"
  },
  "language_info": {
   "codemirror_mode": {
    "name": "ipython",
    "version": 3
   },
   "file_extension": ".py",
   "mimetype": "text/x-python",
   "name": "python",
   "nbconvert_exporter": "python",
   "pygments_lexer": "ipython3",
   "version": "3.9.6"
  }
 },
 "nbformat": 4,
 "nbformat_minor": 5
}
