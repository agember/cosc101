{
 "cells": [
  {
   "cell_type": "markdown",
   "metadata": {},
   "source": [
    "# 2020-04-27: Final exam review"
   ]
  },
  {
   "cell_type": "markdown",
   "metadata": {},
   "source": [
    "# Announcements\n",
    "* **Complete the Student Evaluation of Teaching (SET) for this course!**\n",
    "* Homework #10 due Thursday @ 11pm EDT\n",
    "* Complete final exam between Monday, May 4 @ 9am and Friday, May 8 @ 5pm\n",
    "* Extra office hours next week: sign-up at https://agemberjacobson.as.me"
   ]
  },
  {
   "cell_type": "markdown",
   "metadata": {},
   "source": [
    "# Final exam topics\n",
    "* The final exam is *cumulative* and encompasses all topics covered by earlier exams.\n",
    "* The *new* concepts since the last exam include:\n",
    "    * dictionaries\n",
    "    * use of data structures (list, dictionaries) in different types of problems\n",
    "    * program design (emphasized more on the final)"
   ]
  },
  {
   "cell_type": "markdown",
   "metadata": {},
   "source": [
    "# Practice: dictionaries and lists\n",
    "*What is the output of the following programs?*"
   ]
  },
  {
   "cell_type": "code",
   "execution_count": 1,
   "metadata": {
    "tags": [
     "worksheet-code-only"
    ]
   },
   "outputs": [
    {
     "name": "stdout",
     "output_type": "stream",
     "text": [
      "b.a\n",
      "a.y\n"
     ]
    },
    {
     "ename": "KeyError",
     "evalue": "3",
     "output_type": "error",
     "traceback": [
      "\u001b[0;31m---------------------------------------------------------------------------\u001b[0m",
      "\u001b[0;31mKeyError\u001b[0m                                  Traceback (most recent call last)",
      "\u001b[0;32m<ipython-input-1-93030741e6ec>\u001b[0m in \u001b[0;36m<module>\u001b[0;34m\u001b[0m\n\u001b[1;32m      9\u001b[0m \u001b[0mprint\u001b[0m\u001b[0;34m(\u001b[0m\u001b[0mlookup\u001b[0m\u001b[0;34m(\u001b[0m\u001b[0;34m[\u001b[0m\u001b[0;36m2\u001b[0m\u001b[0;34m,\u001b[0m \u001b[0;36m4\u001b[0m\u001b[0;34m]\u001b[0m\u001b[0;34m,\u001b[0m \u001b[0md\u001b[0m\u001b[0;34m)\u001b[0m\u001b[0;34m)\u001b[0m\u001b[0;34m\u001b[0m\u001b[0;34m\u001b[0m\u001b[0m\n\u001b[1;32m     10\u001b[0m \u001b[0mprint\u001b[0m\u001b[0;34m(\u001b[0m\u001b[0mlookup\u001b[0m\u001b[0;34m(\u001b[0m\u001b[0;34m[\u001b[0m\u001b[0;36m1\u001b[0m\u001b[0;34m,\u001b[0m \u001b[0;36m8\u001b[0m\u001b[0;34m]\u001b[0m\u001b[0;34m,\u001b[0m \u001b[0md\u001b[0m\u001b[0;34m)\u001b[0m\u001b[0;34m)\u001b[0m\u001b[0;34m\u001b[0m\u001b[0;34m\u001b[0m\u001b[0m\n\u001b[0;32m---> 11\u001b[0;31m \u001b[0mprint\u001b[0m\u001b[0;34m(\u001b[0m\u001b[0mlookup\u001b[0m\u001b[0;34m(\u001b[0m\u001b[0;34m[\u001b[0m\u001b[0;36m1\u001b[0m\u001b[0;34m,\u001b[0m \u001b[0;36m2\u001b[0m\u001b[0;34m,\u001b[0m \u001b[0;36m3\u001b[0m\u001b[0;34m,\u001b[0m \u001b[0;36m4\u001b[0m\u001b[0;34m]\u001b[0m\u001b[0;34m,\u001b[0m \u001b[0md\u001b[0m\u001b[0;34m)\u001b[0m\u001b[0;34m)\u001b[0m\u001b[0;34m\u001b[0m\u001b[0;34m\u001b[0m\u001b[0m\n\u001b[0m",
      "\u001b[0;32m<ipython-input-1-93030741e6ec>\u001b[0m in \u001b[0;36mlookup\u001b[0;34m(lst, dct)\u001b[0m\n\u001b[1;32m      2\u001b[0m     \u001b[0mr\u001b[0m \u001b[0;34m=\u001b[0m \u001b[0;34m''\u001b[0m\u001b[0;34m\u001b[0m\u001b[0;34m\u001b[0m\u001b[0m\n\u001b[1;32m      3\u001b[0m     \u001b[0;32mfor\u001b[0m \u001b[0mi\u001b[0m \u001b[0;32min\u001b[0m \u001b[0mlst\u001b[0m\u001b[0;34m:\u001b[0m\u001b[0;34m\u001b[0m\u001b[0;34m\u001b[0m\u001b[0m\n\u001b[0;32m----> 4\u001b[0;31m         \u001b[0mr\u001b[0m \u001b[0;34m+=\u001b[0m \u001b[0mdct\u001b[0m\u001b[0;34m[\u001b[0m\u001b[0mi\u001b[0m\u001b[0;34m]\u001b[0m \u001b[0;34m+\u001b[0m \u001b[0;34m'.'\u001b[0m\u001b[0;34m\u001b[0m\u001b[0;34m\u001b[0m\u001b[0m\n\u001b[0m\u001b[1;32m      5\u001b[0m     \u001b[0;32mreturn\u001b[0m \u001b[0mr\u001b[0m\u001b[0;34m[\u001b[0m\u001b[0;34m:\u001b[0m\u001b[0;34m-\u001b[0m\u001b[0;36m1\u001b[0m\u001b[0;34m]\u001b[0m\u001b[0;34m\u001b[0m\u001b[0;34m\u001b[0m\u001b[0m\n\u001b[1;32m      6\u001b[0m \u001b[0;34m\u001b[0m\u001b[0m\n",
      "\u001b[0;31mKeyError\u001b[0m: 3"
     ]
    }
   ],
   "source": [
    "def lookup(lst, dct):\n",
    "    r = ''\n",
    "    for i in lst:\n",
    "        r += dct[i] + '.'\n",
    "    return r[:-1]\n",
    "\n",
    "c = 'May'\n",
    "d = {1: 'a', 2: 'b', 8: c[-1], 4: c[1]}\n",
    "print(lookup([2, 4], d))\n",
    "print(lookup([1, 8], d))\n",
    "print(lookup([1, 2, 3, 4], d))"
   ]
  },
  {
   "cell_type": "markdown",
   "metadata": {
    "tags": [
     "colab-only"
    ]
   },
   "source": [
    "*Put the expected output in this text cell, then run the code cell above*"
   ]
  },
  {
   "cell_type": "code",
   "execution_count": 2,
   "metadata": {
    "tags": [
     "worksheet-code-only"
    ]
   },
   "outputs": [
    {
     "name": "stdout",
     "output_type": "stream",
     "text": [
      "{'a': [1], 'b': [2]}\n",
      "{'a': [1], 'b': [2]}\n",
      "{'a': [1], 'b': [2, 3, 5], 'c': [4]}\n"
     ]
    },
    {
     "ename": "IndexError",
     "evalue": "list index out of range",
     "output_type": "error",
     "traceback": [
      "\u001b[0;31m---------------------------------------------------------------------------\u001b[0m",
      "\u001b[0;31mIndexError\u001b[0m                                Traceback (most recent call last)",
      "\u001b[0;32m<ipython-input-2-b223dabdaa87>\u001b[0m in \u001b[0;36m<module>\u001b[0;34m\u001b[0m\n\u001b[1;32m     13\u001b[0m \u001b[0md3\u001b[0m \u001b[0;34m=\u001b[0m \u001b[0minsert\u001b[0m\u001b[0;34m(\u001b[0m\u001b[0;34m[\u001b[0m\u001b[0;34m'b'\u001b[0m\u001b[0;34m,\u001b[0m \u001b[0;34m'c'\u001b[0m\u001b[0;34m,\u001b[0m \u001b[0;34m'b'\u001b[0m\u001b[0;34m]\u001b[0m\u001b[0;34m,\u001b[0m \u001b[0;34m[\u001b[0m\u001b[0;36m3\u001b[0m\u001b[0;34m,\u001b[0m \u001b[0;36m4\u001b[0m\u001b[0;34m,\u001b[0m \u001b[0;36m5\u001b[0m\u001b[0;34m,\u001b[0m \u001b[0;36m6\u001b[0m\u001b[0;34m]\u001b[0m\u001b[0;34m,\u001b[0m \u001b[0md2\u001b[0m\u001b[0;34m)\u001b[0m\u001b[0;34m\u001b[0m\u001b[0;34m\u001b[0m\u001b[0m\n\u001b[1;32m     14\u001b[0m \u001b[0mprint\u001b[0m\u001b[0;34m(\u001b[0m\u001b[0md3\u001b[0m\u001b[0;34m)\u001b[0m\u001b[0;34m\u001b[0m\u001b[0;34m\u001b[0m\u001b[0m\n\u001b[0;32m---> 15\u001b[0;31m \u001b[0md4\u001b[0m \u001b[0;34m=\u001b[0m \u001b[0minsert\u001b[0m\u001b[0;34m(\u001b[0m\u001b[0;34m[\u001b[0m\u001b[0;34m'd'\u001b[0m\u001b[0;34m,\u001b[0m \u001b[0;34m'e'\u001b[0m\u001b[0;34m]\u001b[0m\u001b[0;34m,\u001b[0m \u001b[0;34m[\u001b[0m\u001b[0;36m7\u001b[0m\u001b[0;34m]\u001b[0m\u001b[0;34m,\u001b[0m \u001b[0md3\u001b[0m\u001b[0;34m)\u001b[0m\u001b[0;34m\u001b[0m\u001b[0;34m\u001b[0m\u001b[0m\n\u001b[0m\u001b[1;32m     16\u001b[0m \u001b[0mprint\u001b[0m\u001b[0;34m(\u001b[0m\u001b[0md4\u001b[0m\u001b[0;34m)\u001b[0m\u001b[0;34m\u001b[0m\u001b[0;34m\u001b[0m\u001b[0m\n",
      "\u001b[0;32m<ipython-input-2-b223dabdaa87>\u001b[0m in \u001b[0;36minsert\u001b[0;34m(lst1, lst2, dct)\u001b[0m\n\u001b[1;32m      2\u001b[0m     \u001b[0;32mfor\u001b[0m \u001b[0mi\u001b[0m \u001b[0;32min\u001b[0m \u001b[0mrange\u001b[0m\u001b[0;34m(\u001b[0m\u001b[0mlen\u001b[0m\u001b[0;34m(\u001b[0m\u001b[0mlst1\u001b[0m\u001b[0;34m)\u001b[0m\u001b[0;34m)\u001b[0m\u001b[0;34m:\u001b[0m\u001b[0;34m\u001b[0m\u001b[0;34m\u001b[0m\u001b[0m\n\u001b[1;32m      3\u001b[0m         \u001b[0;32mif\u001b[0m \u001b[0mlst1\u001b[0m\u001b[0;34m[\u001b[0m\u001b[0mi\u001b[0m\u001b[0;34m]\u001b[0m \u001b[0;32mnot\u001b[0m \u001b[0;32min\u001b[0m \u001b[0mdct\u001b[0m\u001b[0;34m:\u001b[0m\u001b[0;34m\u001b[0m\u001b[0;34m\u001b[0m\u001b[0m\n\u001b[0;32m----> 4\u001b[0;31m             \u001b[0mdct\u001b[0m\u001b[0;34m[\u001b[0m\u001b[0mlst1\u001b[0m\u001b[0;34m[\u001b[0m\u001b[0mi\u001b[0m\u001b[0;34m]\u001b[0m\u001b[0;34m]\u001b[0m \u001b[0;34m=\u001b[0m \u001b[0;34m[\u001b[0m\u001b[0mlst2\u001b[0m\u001b[0;34m[\u001b[0m\u001b[0mi\u001b[0m\u001b[0;34m]\u001b[0m\u001b[0;34m]\u001b[0m\u001b[0;34m\u001b[0m\u001b[0;34m\u001b[0m\u001b[0m\n\u001b[0m\u001b[1;32m      5\u001b[0m         \u001b[0;32melse\u001b[0m\u001b[0;34m:\u001b[0m\u001b[0;34m\u001b[0m\u001b[0;34m\u001b[0m\u001b[0m\n\u001b[1;32m      6\u001b[0m             \u001b[0mdct\u001b[0m\u001b[0;34m[\u001b[0m\u001b[0mlst1\u001b[0m\u001b[0;34m[\u001b[0m\u001b[0mi\u001b[0m\u001b[0;34m]\u001b[0m\u001b[0;34m]\u001b[0m \u001b[0;34m+=\u001b[0m \u001b[0;34m[\u001b[0m\u001b[0mlst2\u001b[0m\u001b[0;34m[\u001b[0m\u001b[0mi\u001b[0m\u001b[0;34m]\u001b[0m\u001b[0;34m]\u001b[0m\u001b[0;34m\u001b[0m\u001b[0;34m\u001b[0m\u001b[0m\n",
      "\u001b[0;31mIndexError\u001b[0m: list index out of range"
     ]
    }
   ],
   "source": [
    "def insert(lst1, lst2, dct):\n",
    "    for i in range(len(lst1)):\n",
    "        if lst1[i] not in dct:\n",
    "            dct[lst1[i]] = [lst2[i]]\n",
    "        else:\n",
    "            dct[lst1[i]] += [lst2[i]]\n",
    "    return dct\n",
    "\n",
    "d = {}\n",
    "d2 = insert(['a', 'b'], [1, 2], d)\n",
    "print(d)\n",
    "print(d2)\n",
    "d3 = insert(['b', 'c', 'b'], [3, 4, 5, 6], d2)\n",
    "print(d3)\n",
    "d4 = insert(['d', 'e'], [7], d3)\n",
    "print(d4)"
   ]
  },
  {
   "cell_type": "markdown",
   "metadata": {
    "tags": [
     "colab-only"
    ]
   },
   "source": [
    "*Put the expected output in this text cell, then run the code cell above*"
   ]
  },
  {
   "cell_type": "code",
   "execution_count": 5,
   "metadata": {
    "tags": [
     "worksheet-code-only"
    ]
   },
   "outputs": [
    {
     "name": "stdout",
     "output_type": "stream",
     "text": [
      "['b', 'd']\n",
      "{'a': [1, 2], 'b': [0, 1, 2], 'c': [0, 2]}\n"
     ]
    }
   ],
   "source": [
    "def remove(lst, dct):\n",
    "    i = 0\n",
    "    while i < len(lst):\n",
    "        if lst[i] in dct:\n",
    "            dct[lst[i]].remove(i)\n",
    "            del lst[i]\n",
    "        i += 1\n",
    "\n",
    "lst1 = ['a', 'b', 'c', 'd']\n",
    "dct1 = {'a': [0, 1, 2], 'b': [0, 1, 2], 'c': [0, 1, 2]}\n",
    "remove(lst1, dct1)\n",
    "print(lst1)\n",
    "print(dct1)"
   ]
  },
  {
   "cell_type": "markdown",
   "metadata": {
    "tags": [
     "colab-only"
    ]
   },
   "source": [
    "*Put the expected output in this text cell, then run the code cell above*"
   ]
  },
  {
   "cell_type": "code",
   "execution_count": 6,
   "metadata": {
    "tags": [
     "worksheet-code-only"
    ]
   },
   "outputs": [
    {
     "name": "stdout",
     "output_type": "stream",
     "text": [
      "{'a': 'b', 'c': 'd', 'e': 'b'}\n",
      "{'b': 'e', 'd': 'c'}\n",
      "{'e': 'b', 'c': 'd'}\n"
     ]
    }
   ],
   "source": [
    "def flip(dct1):\n",
    "    dct2 = {}\n",
    "    for i in dct1:\n",
    "        dct2[dct1[i]] = i\n",
    "    return dct2\n",
    "\n",
    "dctA = {'a': 'b', 'c': 'd', 'e': 'b'}\n",
    "dctB = flip(dctA)\n",
    "print(dctA)\n",
    "print(dctB)\n",
    "dctC = flip(dctB)\n",
    "print(dctC)"
   ]
  },
  {
   "cell_type": "markdown",
   "metadata": {
    "tags": [
     "colab-only"
    ]
   },
   "source": [
    "*Put the expected output in this text cell, then run the code cell above*"
   ]
  },
  {
   "cell_type": "markdown",
   "metadata": {},
   "source": [
    "# Practice: program design\n",
    "*Your task is to write a program that helps you maintain a list of tasks you need to complete. You must write each of the functions listed below.*\n",
    "\n",
    "*Assume your current task list is stored in a comma-separated variable (CSV) file. Each line of the file contains a task and a deadline (i.e., a date in the format `YYYY-MM-DD`, separated by a comma. For example:*\n",
    "```\n",
    "Complete SET,2020-04-27\n",
    "Complete Homework #10,2020-04-30\n",
    "```\n",
    "*Write a function called `load_tasks` that takes a filename and returns a dictionary whose keys are task names and  whose values are task deadlines. For example:*\n",
    "```\n",
    ">>> tasks = load_tasks('tasks.csv')\n",
    ">>> print(tasks)\n",
    "{'Complete SET': '2020-04-27', 'Complete Homework #10': '2020-04-30'}\n",
    "```"
   ]
  },
  {
   "cell_type": "code",
   "execution_count": 7,
   "metadata": {
    "tags": [
     "colab-only"
    ]
   },
   "outputs": [],
   "source": [
    "# Create the sample file\n",
    "with open('tasks.csv', 'w') as taskfile:\n",
    "    taskfile.write('Complete SET,2020-04-27\\nComplete Homework #10,2020-04-30\\n')\n",
    "\n",
    "# Write the load_tasks function in this code cell"
   ]
  },
  {
   "cell_type": "code",
   "execution_count": 12,
   "metadata": {
    "tags": [
     "notes-only"
    ]
   },
   "outputs": [
    {
     "name": "stdout",
     "output_type": "stream",
     "text": [
      "{'Complete SET': '2020-04-27', 'Complete Homework #10': '2020-04-30'}\n"
     ]
    }
   ],
   "source": [
    "# Create the sample file\n",
    "with open('tasks.csv', 'w') as taskfile:\n",
    "    taskfile.write('Complete SET,2020-04-27\\nComplete Homework #10,2020-04-30\\n')\n",
    "\n",
    "def load_tasks(filename):\n",
    "    '''Load a task list from a file'''\n",
    "    infile = open(filename, 'r')\n",
    "    tasks = {}\n",
    "    for line in infile:\n",
    "        values = line.strip().split(',')\n",
    "        task = values[0]\n",
    "        deadline = values[1]\n",
    "        tasks[task] = deadline\n",
    "    infile.close()\n",
    "    return tasks\n",
    "\n",
    "tasks = load_tasks('tasks.csv')\n",
    "print(tasks)"
   ]
  },
  {
   "cell_type": "markdown",
   "metadata": {},
   "source": [
    "*Write a function called `print_tasks` that takes the dictionary of tasks and prints the tasks, and their deadlines, in alphabetical order. For example:*\n",
    "```\n",
    ">>> print_tasks(tasks)\n",
    "Complete Homework #10 by 2020-04-30\n",
    "Complete SET by 2020-04-27\n",
    "```"
   ]
  },
  {
   "cell_type": "code",
   "execution_count": 8,
   "metadata": {
    "tags": [
     "colab-only"
    ]
   },
   "outputs": [],
   "source": [
    "# Write the print_tasks function in this code cell"
   ]
  },
  {
   "cell_type": "code",
   "execution_count": 13,
   "metadata": {
    "tags": [
     "notes-only"
    ]
   },
   "outputs": [
    {
     "name": "stdout",
     "output_type": "stream",
     "text": [
      "Complete Homework #10 by 2020-04-30\n",
      "Complete SET by 2020-04-27\n"
     ]
    }
   ],
   "source": [
    "def print_tasks(tasks):\n",
    "    '''Display a list of tasks, and their deadlines, in alphabetical order'''\n",
    "    for task in sorted(tasks.keys()):\n",
    "        deadline = tasks[task]\n",
    "        print(task,'by',deadline)\n",
    "        \n",
    "print_tasks(tasks)"
   ]
  },
  {
   "cell_type": "markdown",
   "metadata": {},
   "source": [
    "*Write a function called `complete_task` that takes the dictionary of tasks, asks the user for a task, and removes the task from the dictionary of tasks. The function should print the error message `No such task` if the task entered by the user does not exist in the list of tasks. For example:*\n",
    "```\n",
    ">>> complete_task(tasks) \n",
    "Enter a task: Exercise\n",
    "No such task\n",
    ">>> complete_task(tasks)\n",
    "Enter a task: Complete Homework #10\n",
    ">>> print(tasks)\n",
    "{'Complete SET': '2020-04-27'}\n",
    "```"
   ]
  },
  {
   "cell_type": "code",
   "execution_count": 15,
   "metadata": {
    "tags": [
     "colab-only"
    ]
   },
   "outputs": [],
   "source": [
    "# Write the complete_task function in this code cell"
   ]
  },
  {
   "cell_type": "code",
   "execution_count": 17,
   "metadata": {
    "tags": [
     "notes-only"
    ]
   },
   "outputs": [
    {
     "name": "stdout",
     "output_type": "stream",
     "text": [
      "Enter a task: Exercise\n",
      "No such task\n",
      "Enter a task: Complete Homework #10\n",
      "{'Complete SET': '2020-04-27'}\n"
     ]
    }
   ],
   "source": [
    "def complete_task(tasks):\n",
    "    '''Remove a completed task'''\n",
    "    task = input('Enter a task: ')\n",
    "    if task in tasks:\n",
    "        del tasks[task]\n",
    "    else:\n",
    "        print('No such task')\n",
    "        \n",
    "complete_task(tasks)\n",
    "complete_task(tasks)\n",
    "print(tasks)"
   ]
  },
  {
   "cell_type": "markdown",
   "metadata": {},
   "source": [
    "*Write a `main` function that calls the appropriate functions to load the current tasks (assume the file is called `tasks.csv`), display the current tasks, and complete a task.*"
   ]
  },
  {
   "cell_type": "code",
   "execution_count": null,
   "metadata": {
    "tags": [
     "colab-only"
    ]
   },
   "outputs": [],
   "source": [
    "# Write the main function in this code cell"
   ]
  },
  {
   "cell_type": "code",
   "execution_count": 19,
   "metadata": {
    "tags": [
     "notes-only"
    ]
   },
   "outputs": [
    {
     "name": "stdout",
     "output_type": "stream",
     "text": [
      "Complete Homework #10 by 2020-04-30\n",
      "Complete SET by 2020-04-27\n",
      "Enter a task: Complete Homework #10\n"
     ]
    }
   ],
   "source": [
    "def main():\n",
    "    '''Load and display current tasks and complete a task'''\n",
    "    tasks = load_tasks('tasks.csv')\n",
    "    print_tasks(tasks)\n",
    "    complete_task(tasks)\n",
    "    \n",
    "main()"
   ]
  },
  {
   "cell_type": "markdown",
   "metadata": {},
   "source": [
    "*Write a function called `add_task` that takes the dictionary of tasks, asks the user for a new task and its deadline, and adds the task to the dictionary of tasks. If the task already exists in the list, then its deadline should be updated. For example:*\n",
    "```\n",
    ">>> add_task(task) \n",
    "Enter a task: Study for final exam\n",
    "Enter its deadline: 2020-05-08\n",
    "Added task\n",
    ">>> add_task(task) \n",
    "Enter a task: Study for final exam\n",
    "Enter its deadline: 2020-05-05\n",
    "Updated task deadline\n",
    ">>> print(tasks)\n",
    "{'Complete SET': '2020-04-27', 'Study for final exam': '2020-05-05'}\n",
    "```"
   ]
  },
  {
   "cell_type": "code",
   "execution_count": 20,
   "metadata": {
    "tags": [
     "colab-only"
    ]
   },
   "outputs": [],
   "source": [
    "# Write the add_task function in this code cell"
   ]
  },
  {
   "cell_type": "code",
   "execution_count": 21,
   "metadata": {
    "tags": [
     "notes-only"
    ]
   },
   "outputs": [
    {
     "name": "stdout",
     "output_type": "stream",
     "text": [
      "Enter a task: Study for final exam\n",
      "Enter its deadline: 2020-05-08\n",
      "Added task\n",
      "Enter a task: Study for final exam\n",
      "Enter its deadline: 2020-05-05\n",
      "Updated task deadline\n",
      "{'Complete SET': '2020-04-27', 'Study for final exam': '2020-05-05'}\n"
     ]
    }
   ],
   "source": [
    "def add_task(tasks):\n",
    "    '''Add a new task or update an existing task's deadline'''\n",
    "    task = input('Enter a task: ')\n",
    "    deadline = input('Enter its deadline: ')\n",
    "    if task in tasks:\n",
    "        print('Updated task deadline')\n",
    "    else:\n",
    "        print('Added task')\n",
    "    tasks[task] = deadline\n",
    "    \n",
    "add_task(tasks)\n",
    "add_task(tasks)\n",
    "print(tasks)"
   ]
  },
  {
   "cell_type": "markdown",
   "metadata": {},
   "source": [
    "*Modify the `main` function to ask a user when they want to add or complete a task (after displaying the tasks) and calll the appropriate functions.*"
   ]
  },
  {
   "cell_type": "code",
   "execution_count": 22,
   "metadata": {
    "tags": [
     "notes-only"
    ]
   },
   "outputs": [
    {
     "name": "stdout",
     "output_type": "stream",
     "text": [
      "Complete Homework #10 by 2020-04-30\n",
      "Complete SET by 2020-04-27\n",
      "Would you like to complete or add a task? add\n",
      "Enter a task: Study for final exam\n",
      "Enter its deadline: 2020-05-08\n",
      "Added task\n"
     ]
    }
   ],
   "source": [
    "def main():\n",
    "    '''Load and display current tasks and complete a task'''\n",
    "    tasks = load_tasks('tasks.csv')\n",
    "    print_tasks(tasks)\n",
    "    action = input('Would you like to complete or add a task? ')\n",
    "    if (action == 'complete'):\n",
    "        complete_task(tasks)\n",
    "    elif (action == 'add'):\n",
    "        add_task(tasks)\n",
    "    else:\n",
    "        print('Invalid action')\n",
    "    \n",
    "main()"
   ]
  },
  {
   "cell_type": "markdown",
   "metadata": {},
   "source": [
    "*Write a function called `save_tasks` that takes the dictionary of tasks and a filename and creates a comma-separated variable (CSV) file with the tasks and their deadlines.*"
   ]
  },
  {
   "cell_type": "code",
   "execution_count": null,
   "metadata": {
    "tags": [
     "colab-only"
    ]
   },
   "outputs": [],
   "source": [
    "# Write the save_tasks function in this code cell"
   ]
  },
  {
   "cell_type": "code",
   "execution_count": 27,
   "metadata": {
    "tags": [
     "notes-only"
    ]
   },
   "outputs": [
    {
     "name": "stdout",
     "output_type": "stream",
     "text": [
      "Complete SET,2020-04-27\r\n",
      "Study for final exam,2020-05-05\r\n"
     ]
    }
   ],
   "source": [
    "def save_tasks(tasks, filename):\n",
    "    '''Save a task list to a file'''\n",
    "    outfile = open(filename, 'w')\n",
    "    for task,deadline in tasks.items():\n",
    "        outfile.write(task + ',' + deadline + '\\n')\n",
    "    outfile.close()\n",
    "\n",
    "save_tasks(tasks, 'tasks.csv')\n",
    "!cat tasks.csv"
   ]
  },
  {
   "cell_type": "markdown",
   "metadata": {},
   "source": [
    "*Modify the `main` function to save the task list after a task has been added or completed.*"
   ]
  },
  {
   "cell_type": "code",
   "execution_count": 28,
   "metadata": {
    "tags": [
     "notes-only"
    ]
   },
   "outputs": [
    {
     "name": "stdout",
     "output_type": "stream",
     "text": [
      "Complete SET by 2020-04-27\n",
      "Study for final exam by 2020-05-05\n",
      "Would you like to complete or add a task? complete\n",
      "Enter a task: Study for final exam\n",
      "Complete SET,2020-04-27\n"
     ]
    }
   ],
   "source": [
    "def main():\n",
    "    '''Load and display current tasks and complete a task'''\n",
    "    tasks = load_tasks('tasks.csv')\n",
    "    print_tasks(tasks)\n",
    "    action = input('Would you like to complete or add a task? ')\n",
    "    if (action == 'complete'):\n",
    "        complete_task(tasks)\n",
    "    elif (action == 'add'):\n",
    "        add_task(tasks)\n",
    "    else:\n",
    "        print('Invalid action')\n",
    "    save_tasks(tasks, 'tasks.csv')\n",
    "    \n",
    "main()\n",
    "!cat tasks.csv"
   ]
  }
 ],
 "metadata": {
  "celltoolbar": "Tags",
  "kernelspec": {
   "display_name": "Python 3",
   "language": "python",
   "name": "python3"
  },
  "language_info": {
   "codemirror_mode": {
    "name": "ipython",
    "version": 3
   },
   "file_extension": ".py",
   "mimetype": "text/x-python",
   "name": "python",
   "nbconvert_exporter": "python",
   "pygments_lexer": "ipython3",
   "version": "3.7.6"
  }
 },
 "nbformat": 4,
 "nbformat_minor": 4
}
