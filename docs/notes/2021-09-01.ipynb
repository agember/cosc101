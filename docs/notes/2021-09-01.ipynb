{
 "cells": [
  {
   "cell_type": "markdown",
   "id": "b10a9b7c",
   "metadata": {
    "slideshow": {
     "slide_type": "skip"
    }
   },
   "source": [
    "# Hello, Python: types; variables; operators\n",
    "_COSC 101, Introduction to Computing I, 2021-09-01_"
   ]
  },
  {
   "cell_type": "markdown",
   "id": "619d2e6c",
   "metadata": {
    "slideshow": {
     "slide_type": "skip"
    }
   },
   "source": [
    "## Announcements\n",
    "* Before next class: read sections 2.8-2.11 and answer pre-class questions"
   ]
  },
  {
   "cell_type": "markdown",
   "id": "2a327a5a",
   "metadata": {
    "slideshow": {
     "slide_type": "skip"
    },
    "tags": [
     "notes-only"
    ]
   },
   "source": [
    "## Outline\n",
    "* Warm-up\n",
    "* Computational thinking\n",
    "* Programming\n",
    "* Hello, Python!\n",
    "* Errors and debugging"
   ]
  },
  {
   "cell_type": "markdown",
   "id": "73aabf8d",
   "metadata": {
    "slideshow": {
     "slide_type": "slide"
    }
   },
   "source": [
    "## Warm-up\n",
    "a) _What is the output of this program?_"
   ]
  },
  {
   "cell_type": "code",
   "execution_count": 16,
   "id": "b9939ca0",
   "metadata": {
    "tags": [
     "worksheet-code-only"
    ]
   },
   "outputs": [
    {
     "name": "stdout",
     "output_type": "stream",
     "text": [
      "Go 'Gate!\n",
      "13\n",
      "3.14159\n"
     ]
    }
   ],
   "source": [
    "print(\"Go 'Gate!\")\n",
    "print(10 + 3)\n",
    "print(3.14159)"
   ]
  },
  {
   "cell_type": "markdown",
   "id": "166fc69b",
   "metadata": {
    "slideshow": {
     "slide_type": "-"
    }
   },
   "source": [
    "b) _What values (or objects) does this code contain?_"
   ]
  },
  {
   "cell_type": "markdown",
   "id": "7a5133f2",
   "metadata": {
    "slideshow": {
     "slide_type": "skip"
    },
    "tags": [
     "notes-only"
    ]
   },
   "source": [
    "* String `Go 'Gate!`\n",
    "* Integer `10`\n",
    "* Integer `3`\n",
    "* Float `3.14159`"
   ]
  },
  {
   "cell_type": "markdown",
   "id": "f9018fcd",
   "metadata": {
    "slideshow": {
     "slide_type": "skip"
    },
    "tags": [
     "worksheet-only"
    ]
   },
   "source": [
    "<p style=\"height:5em;\"></p>\n",
    "\n",
    "🛑 Stop here after completing the warm-up; if you have extra time please **skip ahead** to the programming practice."
   ]
  },
  {
   "cell_type": "markdown",
   "id": "1be1261c",
   "metadata": {
    "slideshow": {
     "slide_type": "slide"
    }
   },
   "source": [
    "## Types"
   ]
  },
  {
   "cell_type": "markdown",
   "id": "edf71d04",
   "metadata": {
    "slideshow": {
     "slide_type": "skip"
    },
    "tags": [
     "notes-only"
    ]
   },
   "source": [
    "* Programs work with values (or objects)\n",
    "* Different types (or classes) of objects\n",
    "    * String — consist of letters, numbers, punctuation, or symbols\n",
    "    * Integer — whole number\n",
    "    * Float — decimal number\n",
    "* _How do you convert between types?_ — use `str()`, `int()`, or `float()`\n",
    "* _Why convert between types?_ — some operations can only be applied to specific types\n",
    "    * E.g., mathematical operators (`+`, `-`, `*`, `/`) can only be used with integers and floats"
   ]
  },
  {
   "cell_type": "markdown",
   "id": "e0a883ee",
   "metadata": {
    "slideshow": {
     "slide_type": "-"
    }
   },
   "source": [
    "* _What is the output of each statement? If an error occurs, specify what type of error._"
   ]
  },
  {
   "cell_type": "code",
   "execution_count": 1,
   "id": "67e4e952",
   "metadata": {
    "slideshow": {
     "slide_type": "-"
    },
    "tags": [
     "worksheet-code-only"
    ]
   },
   "outputs": [
    {
     "name": "stdout",
     "output_type": "stream",
     "text": [
      "<class 'str'>\n"
     ]
    }
   ],
   "source": [
    "print(type('The year is...'))"
   ]
  },
  {
   "cell_type": "markdown",
   "id": "8380e6cc",
   "metadata": {
    "slideshow": {
     "slide_type": "skip"
    },
    "tags": [
     "worksheet-only"
    ]
   },
   "source": [
    "<p style=\"height:3em;\"></p>"
   ]
  },
  {
   "cell_type": "code",
   "execution_count": 2,
   "id": "0f96c24d",
   "metadata": {
    "slideshow": {
     "slide_type": "fragment"
    },
    "tags": [
     "worksheet-code-only"
    ]
   },
   "outputs": [
    {
     "name": "stdout",
     "output_type": "stream",
     "text": [
      "<class 'str'>\n"
     ]
    }
   ],
   "source": [
    "print(type(\"2018\"))"
   ]
  },
  {
   "cell_type": "markdown",
   "id": "4cdfe14c",
   "metadata": {
    "slideshow": {
     "slide_type": "skip"
    },
    "tags": [
     "worksheet-only"
    ]
   },
   "source": [
    "<p style=\"height:3em;\"></p>"
   ]
  },
  {
   "cell_type": "code",
   "execution_count": 3,
   "id": "dbef1b26",
   "metadata": {
    "slideshow": {
     "slide_type": "fragment"
    },
    "tags": [
     "worksheet-code-only"
    ]
   },
   "outputs": [
    {
     "name": "stdout",
     "output_type": "stream",
     "text": [
      "2018\n"
     ]
    }
   ],
   "source": [
    "print(int(\"2018\"))"
   ]
  },
  {
   "cell_type": "markdown",
   "id": "8340e6cc",
   "metadata": {
    "slideshow": {
     "slide_type": "skip"
    },
    "tags": [
     "worksheet-only"
    ]
   },
   "source": [
    "<p style=\"height:3em;\"></p>"
   ]
  },
  {
   "cell_type": "code",
   "execution_count": 4,
   "id": "1d45fdfc",
   "metadata": {
    "slideshow": {
     "slide_type": "fragment"
    },
    "tags": [
     "worksheet-code-only"
    ]
   },
   "outputs": [
    {
     "ename": "SyntaxError",
     "evalue": "EOF while scanning triple-quoted string literal (2104122199.py, line 1)",
     "output_type": "error",
     "traceback": [
      "\u001b[0;36m  File \u001b[0;32m\"/var/folders/bd/35sz70xs5837wszrx11bw1yc0000gn/T/ipykernel_8849/2104122199.py\"\u001b[0;36m, line \u001b[0;32m1\u001b[0m\n\u001b[0;31m    print(type(\"\"\"The month is...\"))\u001b[0m\n\u001b[0m                                    ^\u001b[0m\n\u001b[0;31mSyntaxError\u001b[0m\u001b[0;31m:\u001b[0m EOF while scanning triple-quoted string literal\n"
     ]
    }
   ],
   "source": [
    "print(type(\"\"\"The month is...\"))"
   ]
  },
  {
   "cell_type": "markdown",
   "id": "8350e6cc",
   "metadata": {
    "slideshow": {
     "slide_type": "skip"
    },
    "tags": [
     "worksheet-only"
    ]
   },
   "source": [
    "<p style=\"height:3em;\"></p>"
   ]
  },
  {
   "cell_type": "code",
   "execution_count": 5,
   "id": "fe5be5ec",
   "metadata": {
    "slideshow": {
     "slide_type": "fragment"
    },
    "tags": [
     "worksheet-code-only"
    ]
   },
   "outputs": [
    {
     "ename": "ValueError",
     "evalue": "invalid literal for int() with base 10: 'January'",
     "output_type": "error",
     "traceback": [
      "\u001b[0;31m---------------------------------------------------------------------------\u001b[0m",
      "\u001b[0;31mValueError\u001b[0m                                Traceback (most recent call last)",
      "\u001b[0;32m/var/folders/bd/35sz70xs5837wszrx11bw1yc0000gn/T/ipykernel_8849/3805047258.py\u001b[0m in \u001b[0;36m<module>\u001b[0;34m\u001b[0m\n\u001b[0;32m----> 1\u001b[0;31m \u001b[0mprint\u001b[0m\u001b[0;34m(\u001b[0m\u001b[0mint\u001b[0m\u001b[0;34m(\u001b[0m\u001b[0;34m\"January\"\u001b[0m\u001b[0;34m)\u001b[0m\u001b[0;34m)\u001b[0m\u001b[0;34m\u001b[0m\u001b[0;34m\u001b[0m\u001b[0m\n\u001b[0m",
      "\u001b[0;31mValueError\u001b[0m: invalid literal for int() with base 10: 'January'"
     ]
    }
   ],
   "source": [
    "print(int(\"January\"))"
   ]
  },
  {
   "cell_type": "markdown",
   "id": "8360e6cc",
   "metadata": {
    "slideshow": {
     "slide_type": "skip"
    },
    "tags": [
     "worksheet-only"
    ]
   },
   "source": [
    "<p style=\"height:3em;\"></p>"
   ]
  },
  {
   "cell_type": "code",
   "execution_count": 6,
   "id": "58595863",
   "metadata": {
    "slideshow": {
     "slide_type": "fragment"
    },
    "tags": [
     "worksheet-code-only"
    ]
   },
   "outputs": [
    {
     "name": "stdout",
     "output_type": "stream",
     "text": [
      "1\n"
     ]
    }
   ],
   "source": [
    "print(int(1.83))"
   ]
  },
  {
   "cell_type": "markdown",
   "id": "8370e6cc",
   "metadata": {
    "slideshow": {
     "slide_type": "skip"
    },
    "tags": [
     "worksheet-only"
    ]
   },
   "source": [
    "<p style=\"height:3em;\"></p>\n",
    "\n",
    "🛑 Stop here after completing the above questions; if you have extra time please **skip ahead** to the programming practice."
   ]
  },
  {
   "cell_type": "markdown",
   "id": "5d325701",
   "metadata": {
    "slideshow": {
     "slide_type": "slide"
    }
   },
   "source": [
    "## Variables"
   ]
  },
  {
   "cell_type": "markdown",
   "id": "ef447247",
   "metadata": {
    "slideshow": {
     "slide_type": "skip"
    },
    "tags": [
     "notes-only"
    ]
   },
   "source": [
    "* Variable — a name that refers to a value\n",
    "* _How do we create a new variable?_ — with an assignment statement\n",
    "    * E.g., `myVar = 10`"
   ]
  },
  {
   "cell_type": "markdown",
   "id": "d5231b4c",
   "metadata": {
    "slideshow": {
     "slide_type": "-"
    }
   },
   "source": [
    "* _Which of the folloinwg are valid assignment statements? If a satement is invalid, state why._"
   ]
  },
  {
   "cell_type": "code",
   "execution_count": 17,
   "id": "630704a1",
   "metadata": {
    "tags": [
     "worksheet-code-only",
     "notes-code-only"
    ]
   },
   "outputs": [],
   "source": [
    "weekday = \"Friday\""
   ]
  },
  {
   "cell_type": "markdown",
   "id": "e90d5db8",
   "metadata": {
    "slideshow": {
     "slide_type": "skip"
    },
    "tags": [
     "worksheet-only"
    ]
   },
   "source": [
    "<p style=\"height:3em;\"></p>"
   ]
  },
  {
   "cell_type": "markdown",
   "id": "ae73dd7b",
   "metadata": {
    "slideshow": {
     "slide_type": "skip"
    },
    "tags": [
     "notes-only"
    ]
   },
   "source": [
    "_Valid_"
   ]
  },
  {
   "cell_type": "code",
   "execution_count": 18,
   "id": "1e405992",
   "metadata": {
    "slideshow": {
     "slide_type": "fragment"
    },
    "tags": [
     "worksheet-code-only",
     "notes-code-only"
    ]
   },
   "outputs": [
    {
     "ename": "SyntaxError",
     "evalue": "cannot assign to literal (356853780.py, line 1)",
     "output_type": "error",
     "traceback": [
      "\u001b[0;36m  File \u001b[0;32m\"/var/folders/bd/35sz70xs5837wszrx11bw1yc0000gn/T/ipykernel_8849/356853780.py\"\u001b[0;36m, line \u001b[0;32m1\u001b[0m\n\u001b[0;31m    \"Neil deGrasse Tyson\" = scientist\u001b[0m\n\u001b[0m    ^\u001b[0m\n\u001b[0;31mSyntaxError\u001b[0m\u001b[0;31m:\u001b[0m cannot assign to literal\n"
     ]
    }
   ],
   "source": [
    "\"Neil deGrasse Tyson\" = scientist"
   ]
  },
  {
   "cell_type": "markdown",
   "id": "3dc3f9d7",
   "metadata": {
    "slideshow": {
     "slide_type": "skip"
    },
    "tags": [
     "worksheet-only"
    ]
   },
   "source": [
    "<p style=\"height:3em;\"></p>"
   ]
  },
  {
   "cell_type": "markdown",
   "id": "4d2e715e",
   "metadata": {
    "slideshow": {
     "slide_type": "skip"
    },
    "tags": [
     "notes-only"
    ]
   },
   "source": [
    "_Invalid — variable name must be on the left-hand side and value on the right-hand side_"
   ]
  },
  {
   "cell_type": "code",
   "execution_count": 19,
   "id": "a7b452c9",
   "metadata": {
    "slideshow": {
     "slide_type": "fragment"
    },
    "tags": [
     "worksheet-code-only",
     "notes-code-only"
    ]
   },
   "outputs": [],
   "source": [
    "value1 = 50"
   ]
  },
  {
   "cell_type": "markdown",
   "id": "6eba3861",
   "metadata": {
    "slideshow": {
     "slide_type": "skip"
    },
    "tags": [
     "worksheet-only"
    ]
   },
   "source": [
    "<p style=\"height:3em;\"></p>"
   ]
  },
  {
   "cell_type": "markdown",
   "id": "1507fd40",
   "metadata": {
    "slideshow": {
     "slide_type": "skip"
    },
    "tags": [
     "notes-only"
    ]
   },
   "source": [
    "_Valid_"
   ]
  },
  {
   "cell_type": "code",
   "execution_count": 20,
   "id": "86bb2a40",
   "metadata": {
    "slideshow": {
     "slide_type": "fragment"
    },
    "tags": [
     "worksheet-code-only",
     "notes-code-only"
    ]
   },
   "outputs": [],
   "source": [
    "class_number = 101"
   ]
  },
  {
   "cell_type": "markdown",
   "id": "cd442a2f",
   "metadata": {
    "slideshow": {
     "slide_type": "skip"
    },
    "tags": [
     "worksheet-only"
    ]
   },
   "source": [
    "<p style=\"height:3em;\"></p>"
   ]
  },
  {
   "cell_type": "markdown",
   "id": "bd4c9292",
   "metadata": {
    "slideshow": {
     "slide_type": "skip"
    },
    "tags": [
     "notes-only"
    ]
   },
   "source": [
    "_Valid_"
   ]
  },
  {
   "cell_type": "code",
   "execution_count": 21,
   "id": "4a3261a8",
   "metadata": {
    "slideshow": {
     "slide_type": "fragment"
    },
    "tags": [
     "worksheet-code-only",
     "notes-code-only"
    ]
   },
   "outputs": [
    {
     "ename": "SyntaxError",
     "evalue": "invalid syntax (1390470616.py, line 1)",
     "output_type": "error",
     "traceback": [
      "\u001b[0;36m  File \u001b[0;32m\"/var/folders/bd/35sz70xs5837wszrx11bw1yc0000gn/T/ipykernel_8849/1390470616.py\"\u001b[0;36m, line \u001b[0;32m1\u001b[0m\n\u001b[0;31m    class name = \"Intro to Computing I\"\u001b[0m\n\u001b[0m               ^\u001b[0m\n\u001b[0;31mSyntaxError\u001b[0m\u001b[0;31m:\u001b[0m invalid syntax\n"
     ]
    }
   ],
   "source": [
    "class name = \"Intro to Computing I\""
   ]
  },
  {
   "cell_type": "markdown",
   "id": "1cdc3ed4",
   "metadata": {
    "slideshow": {
     "slide_type": "skip"
    },
    "tags": [
     "worksheet-only"
    ]
   },
   "source": [
    "<p style=\"height:3em;\"></p>"
   ]
  },
  {
   "cell_type": "markdown",
   "id": "506b0c9c",
   "metadata": {
    "slideshow": {
     "slide_type": "skip"
    },
    "tags": [
     "notes-only"
    ]
   },
   "source": [
    "_Invalid — variable names may not contain spaces_"
   ]
  },
  {
   "cell_type": "code",
   "execution_count": 22,
   "id": "b1af2ee8",
   "metadata": {
    "slideshow": {
     "slide_type": "fragment"
    },
    "tags": [
     "worksheet-code-only",
     "notes-code-only"
    ]
   },
   "outputs": [
    {
     "ename": "SyntaxError",
     "evalue": "invalid syntax (1105990589.py, line 1)",
     "output_type": "error",
     "traceback": [
      "\u001b[0;36m  File \u001b[0;32m\"/var/folders/bd/35sz70xs5837wszrx11bw1yc0000gn/T/ipykernel_8849/1105990589.py\"\u001b[0;36m, line \u001b[0;32m1\u001b[0m\n\u001b[0;31m    1st = \"Gold\"\u001b[0m\n\u001b[0m     ^\u001b[0m\n\u001b[0;31mSyntaxError\u001b[0m\u001b[0;31m:\u001b[0m invalid syntax\n"
     ]
    }
   ],
   "source": [
    "1st = \"Gold\""
   ]
  },
  {
   "cell_type": "markdown",
   "id": "431a0b4b",
   "metadata": {
    "slideshow": {
     "slide_type": "skip"
    },
    "tags": [
     "worksheet-only"
    ]
   },
   "source": [
    "<p style=\"height:3em;\"></p>\n",
    "\n",
    "🛑 Stop here after completing the above questions; if you have extra time please **skip ahead** to the programming practice."
   ]
  },
  {
   "cell_type": "markdown",
   "id": "dd861cd3",
   "metadata": {
    "slideshow": {
     "slide_type": "skip"
    },
    "tags": [
     "notes-only"
    ]
   },
   "source": [
    "_Invalid — variable names may not start with a number_"
   ]
  },
  {
   "cell_type": "markdown",
   "id": "59ccbb13",
   "metadata": {
    "slideshow": {
     "slide_type": "slide"
    }
   },
   "source": [
    "## Operators"
   ]
  },
  {
   "cell_type": "markdown",
   "id": "4cf5d52f",
   "metadata": {
    "slideshow": {
     "slide_type": "skip"
    },
    "tags": [
     "notes-only"
    ]
   },
   "source": [
    "* Operator — represents a mathematical (or logical) operation\n",
    "    * E.g., addition (`+`), subtraction (`-`), etc."
   ]
  },
  {
   "cell_type": "markdown",
   "id": "b14ba96e",
   "metadata": {
    "slideshow": {
     "slide_type": "skip"
    }
   },
   "source": [
    "* _Which mathematical operation does each operator represent?_"
   ]
  },
  {
   "cell_type": "markdown",
   "id": "42918cc2",
   "metadata": {
    "slideshow": {
     "slide_type": "-"
    }
   },
   "source": [
    "a) `*`"
   ]
  },
  {
   "cell_type": "markdown",
   "id": "211749c6",
   "metadata": {
    "slideshow": {
     "slide_type": "skip"
    },
    "tags": [
     "worksheet-only"
    ]
   },
   "source": [
    "<p style=\"height:3em;\"></p>"
   ]
  },
  {
   "cell_type": "markdown",
   "id": "2abe5a51",
   "metadata": {
    "slideshow": {
     "slide_type": "skip"
    },
    "tags": [
     "notes-only"
    ]
   },
   "source": [
    "_Multiplication_"
   ]
  },
  {
   "cell_type": "markdown",
   "id": "237e0711",
   "metadata": {
    "slideshow": {
     "slide_type": "fragment"
    }
   },
   "source": [
    "b) `**`"
   ]
  },
  {
   "cell_type": "markdown",
   "id": "211757c6",
   "metadata": {
    "slideshow": {
     "slide_type": "skip"
    },
    "tags": [
     "worksheet-only"
    ]
   },
   "source": [
    "<p style=\"height:3em;\"></p>"
   ]
  },
  {
   "cell_type": "markdown",
   "id": "2abe6a51",
   "metadata": {
    "slideshow": {
     "slide_type": "skip"
    },
    "tags": [
     "notes-only"
    ]
   },
   "source": [
    "_Exponentiation_"
   ]
  },
  {
   "cell_type": "markdown",
   "id": "42928cc2",
   "metadata": {
    "slideshow": {
     "slide_type": "fragment"
    }
   },
   "source": [
    "c) `/`"
   ]
  },
  {
   "cell_type": "markdown",
   "id": "211767c6",
   "metadata": {
    "slideshow": {
     "slide_type": "skip"
    },
    "tags": [
     "worksheet-only"
    ]
   },
   "source": [
    "<p style=\"height:3em;\"></p>"
   ]
  },
  {
   "cell_type": "markdown",
   "id": "2abe7a51",
   "metadata": {
    "slideshow": {
     "slide_type": "skip"
    },
    "tags": [
     "notes-only"
    ]
   },
   "source": [
    "_Division_"
   ]
  },
  {
   "cell_type": "markdown",
   "id": "42938cc2",
   "metadata": {
    "slideshow": {
     "slide_type": "fragment"
    }
   },
   "source": [
    "d) `//`"
   ]
  },
  {
   "cell_type": "markdown",
   "id": "211777c6",
   "metadata": {
    "slideshow": {
     "slide_type": "skip"
    },
    "tags": [
     "worksheet-only"
    ]
   },
   "source": [
    "<p style=\"height:3em;\"></p>"
   ]
  },
  {
   "cell_type": "markdown",
   "id": "2abe8a51",
   "metadata": {
    "slideshow": {
     "slide_type": "skip"
    },
    "tags": [
     "notes-only"
    ]
   },
   "source": [
    "_Integer division_"
   ]
  },
  {
   "cell_type": "markdown",
   "id": "42948cc2",
   "metadata": {
    "slideshow": {
     "slide_type": "fragment"
    }
   },
   "source": [
    "e) `%`"
   ]
  },
  {
   "cell_type": "markdown",
   "id": "211787c6",
   "metadata": {
    "slideshow": {
     "slide_type": "skip"
    },
    "tags": [
     "worksheet-only"
    ]
   },
   "source": [
    "<p style=\"height:3em;\"></p>"
   ]
  },
  {
   "cell_type": "markdown",
   "id": "2abe9a51",
   "metadata": {
    "slideshow": {
     "slide_type": "skip"
    },
    "tags": [
     "notes-only"
    ]
   },
   "source": [
    "_Modulo (integer remainder)_"
   ]
  },
  {
   "cell_type": "markdown",
   "id": "4424b8c7",
   "metadata": {
    "slideshow": {
     "slide_type": "skip"
    },
    "tags": [
     "notes-only"
    ]
   },
   "source": [
    "* Operators follow standard order-of-operations rules from mathematics\n",
    "    * Parenthesis\n",
    "    * Exponentiation\n",
    "    * Multiplication, division\n",
    "    * Addition, subtraction\n",
    "* Operands may be values or variables"
   ]
  },
  {
   "cell_type": "markdown",
   "id": "7d5babd1",
   "metadata": {
    "slideshow": {
     "slide_type": "skip"
    },
    "tags": [
     "worksheet-only"
    ]
   },
   "source": [
    "<p style=\"page-break-after:always;\"></p>"
   ]
  },
  {
   "cell_type": "markdown",
   "id": "b708fdf3",
   "metadata": {
    "slideshow": {
     "slide_type": "slide"
    }
   },
   "source": [
    "* _What is the output of each program? If an error occurs, specify what type of error._"
   ]
  },
  {
   "cell_type": "code",
   "execution_count": 23,
   "id": "f81e2e6c",
   "metadata": {
    "slideshow": {
     "slide_type": "-"
    },
    "tags": [
     "worksheet-code-only"
    ]
   },
   "outputs": [
    {
     "name": "stdout",
     "output_type": "stream",
     "text": [
      "7\n"
     ]
    }
   ],
   "source": [
    "print(3 * 2 + 1)"
   ]
  },
  {
   "cell_type": "markdown",
   "id": "211797c6",
   "metadata": {
    "slideshow": {
     "slide_type": "skip"
    },
    "tags": [
     "worksheet-only"
    ]
   },
   "source": [
    "<p style=\"height:2em;\"></p>"
   ]
  },
  {
   "cell_type": "code",
   "execution_count": 24,
   "id": "32b98e17",
   "metadata": {
    "slideshow": {
     "slide_type": "fragment"
    },
    "tags": [
     "worksheet-code-only"
    ]
   },
   "outputs": [
    {
     "name": "stdout",
     "output_type": "stream",
     "text": [
      "1.5\n",
      "1\n",
      "2\n"
     ]
    }
   ],
   "source": [
    "print(6/4)\n",
    "print(6//4)\n",
    "print(6%4)"
   ]
  },
  {
   "cell_type": "markdown",
   "id": "2117a7c6",
   "metadata": {
    "slideshow": {
     "slide_type": "skip"
    },
    "tags": [
     "worksheet-only"
    ]
   },
   "source": [
    "<p style=\"height:3em;\"></p>"
   ]
  },
  {
   "cell_type": "code",
   "execution_count": 25,
   "id": "e3987590",
   "metadata": {
    "slideshow": {
     "slide_type": "fragment"
    },
    "tags": [
     "worksheet-code-only"
    ]
   },
   "outputs": [
    {
     "name": "stdout",
     "output_type": "stream",
     "text": [
      "16\n"
     ]
    }
   ],
   "source": [
    "print(2 ** 2 ** 2)"
   ]
  },
  {
   "cell_type": "markdown",
   "id": "2117b7c6",
   "metadata": {
    "slideshow": {
     "slide_type": "skip"
    },
    "tags": [
     "worksheet-only"
    ]
   },
   "source": [
    "<p style=\"height:2em;\"></p>"
   ]
  },
  {
   "cell_type": "code",
   "execution_count": 26,
   "id": "86d8b8c6",
   "metadata": {
    "slideshow": {
     "slide_type": "fragment"
    },
    "tags": [
     "worksheet-code-only"
    ]
   },
   "outputs": [
    {
     "ename": "SyntaxError",
     "evalue": "invalid syntax (1202401852.py, line 1)",
     "output_type": "error",
     "traceback": [
      "\u001b[0;36m  File \u001b[0;32m\"/var/folders/bd/35sz70xs5837wszrx11bw1yc0000gn/T/ipykernel_8849/1202401852.py\"\u001b[0;36m, line \u001b[0;32m1\u001b[0m\n\u001b[0;31m    print (+ 1 2)\u001b[0m\n\u001b[0m               ^\u001b[0m\n\u001b[0;31mSyntaxError\u001b[0m\u001b[0;31m:\u001b[0m invalid syntax\n"
     ]
    }
   ],
   "source": [
    "print (+ 1 2)"
   ]
  },
  {
   "cell_type": "markdown",
   "id": "2117c7c6",
   "metadata": {
    "slideshow": {
     "slide_type": "skip"
    },
    "tags": [
     "worksheet-only"
    ]
   },
   "source": [
    "<p style=\"height:2em;\"></p>"
   ]
  },
  {
   "cell_type": "code",
   "execution_count": 27,
   "id": "66b31ed5",
   "metadata": {
    "slideshow": {
     "slide_type": "subslide"
    },
    "tags": [
     "worksheet-code-only"
    ]
   },
   "outputs": [
    {
     "name": "stdout",
     "output_type": "stream",
     "text": [
      "6\n",
      "15\n"
     ]
    }
   ],
   "source": [
    "x = 5\n",
    "print(x + 1)\n",
    "y = 10\n",
    "print (x + y)"
   ]
  },
  {
   "cell_type": "markdown",
   "id": "2117d7c6",
   "metadata": {
    "slideshow": {
     "slide_type": "skip"
    },
    "tags": [
     "worksheet-only"
    ]
   },
   "source": [
    "<p style=\"height:3em;\"></p>"
   ]
  },
  {
   "cell_type": "code",
   "execution_count": 28,
   "id": "b5154a64",
   "metadata": {
    "slideshow": {
     "slide_type": "fragment"
    },
    "tags": [
     "worksheet-code-only"
    ]
   },
   "outputs": [
    {
     "name": "stdout",
     "output_type": "stream",
     "text": [
      "50\n"
     ]
    }
   ],
   "source": [
    "z = 5 * 10\n",
    "print(z)"
   ]
  },
  {
   "cell_type": "markdown",
   "id": "2117e7c6",
   "metadata": {
    "slideshow": {
     "slide_type": "skip"
    },
    "tags": [
     "worksheet-only"
    ]
   },
   "source": [
    "<p style=\"height:3em;\"></p>"
   ]
  },
  {
   "cell_type": "code",
   "execution_count": 29,
   "id": "03265b35",
   "metadata": {
    "slideshow": {
     "slide_type": "fragment"
    },
    "tags": [
     "worksheet-code-only"
    ]
   },
   "outputs": [
    {
     "ename": "TypeError",
     "evalue": "can only concatenate str (not \"int\") to str",
     "output_type": "error",
     "traceback": [
      "\u001b[0;31m---------------------------------------------------------------------------\u001b[0m",
      "\u001b[0;31mTypeError\u001b[0m                                 Traceback (most recent call last)",
      "\u001b[0;32m/var/folders/bd/35sz70xs5837wszrx11bw1yc0000gn/T/ipykernel_8849/1039395982.py\u001b[0m in \u001b[0;36m<module>\u001b[0;34m\u001b[0m\n\u001b[1;32m      1\u001b[0m \u001b[0mm\u001b[0m \u001b[0;34m=\u001b[0m \u001b[0;34m'50'\u001b[0m\u001b[0;34m\u001b[0m\u001b[0;34m\u001b[0m\u001b[0m\n\u001b[1;32m      2\u001b[0m \u001b[0mn\u001b[0m \u001b[0;34m=\u001b[0m \u001b[0;36m100\u001b[0m\u001b[0;34m\u001b[0m\u001b[0;34m\u001b[0m\u001b[0m\n\u001b[0;32m----> 3\u001b[0;31m \u001b[0mprint\u001b[0m\u001b[0;34m(\u001b[0m\u001b[0mm\u001b[0m \u001b[0;34m+\u001b[0m \u001b[0mn\u001b[0m\u001b[0;34m)\u001b[0m\u001b[0;34m\u001b[0m\u001b[0;34m\u001b[0m\u001b[0m\n\u001b[0m",
      "\u001b[0;31mTypeError\u001b[0m: can only concatenate str (not \"int\") to str"
     ]
    }
   ],
   "source": [
    "m = '50'\n",
    "n = 100\n",
    "print(m + n)"
   ]
  },
  {
   "cell_type": "markdown",
   "id": "2117f7c6",
   "metadata": {
    "slideshow": {
     "slide_type": "skip"
    },
    "tags": [
     "worksheet-only"
    ]
   },
   "source": [
    "<p style=\"height:3em;\"></p>"
   ]
  },
  {
   "cell_type": "code",
   "execution_count": 30,
   "id": "f8794527",
   "metadata": {
    "slideshow": {
     "slide_type": "fragment"
    },
    "tags": [
     "worksheet-code-only"
    ]
   },
   "outputs": [
    {
     "name": "stdout",
     "output_type": "stream",
     "text": [
      "1\n",
      "3\n"
     ]
    }
   ],
   "source": [
    "r = 1\n",
    "s = 2 + r\n",
    "print(r)\n",
    "print(s)"
   ]
  },
  {
   "cell_type": "markdown",
   "id": "211748c6",
   "metadata": {
    "slideshow": {
     "slide_type": "skip"
    },
    "tags": [
     "worksheet-only"
    ]
   },
   "source": [
    "<p style=\"height:3em;\"></p>"
   ]
  },
  {
   "cell_type": "markdown",
   "id": "9c17c037",
   "metadata": {
    "slideshow": {
     "slide_type": "skip"
    }
   },
   "source": [
    "## Programming pratice"
   ]
  },
  {
   "cell_type": "markdown",
   "id": "4320efc4",
   "metadata": {
    "slideshow": {
     "slide_type": "skip"
    }
   },
   "source": [
    "a) _Write a program that calculates the area of a rectangle with length 20 and width 10._"
   ]
  },
  {
   "cell_type": "code",
   "execution_count": 31,
   "id": "60822779",
   "metadata": {
    "slideshow": {
     "slide_type": "skip"
    },
    "tags": [
     "notes-only"
    ]
   },
   "outputs": [
    {
     "name": "stdout",
     "output_type": "stream",
     "text": [
      "200\n"
     ]
    }
   ],
   "source": [
    "length = 20\n",
    "width = 10\n",
    "area = length * width\n",
    "print(area)"
   ]
  },
  {
   "cell_type": "markdown",
   "id": "0fd70456",
   "metadata": {
    "slideshow": {
     "slide_type": "skip"
    }
   },
   "source": [
    "b) _Write a program that calculates sales tax and the total cost for a $9.99 purchase with a tax rate of 8%._"
   ]
  },
  {
   "cell_type": "code",
   "execution_count": 15,
   "id": "776e6110",
   "metadata": {
    "slideshow": {
     "slide_type": "skip"
    },
    "tags": [
     "notes-only"
    ]
   },
   "outputs": [
    {
     "name": "stdout",
     "output_type": "stream",
     "text": [
      "0.7992\n",
      "10.789200000000001\n"
     ]
    }
   ],
   "source": [
    "purchase = 9.99\n",
    "rate = 0.08\n",
    "tax = purchase * rate\n",
    "print(tax)\n",
    "total = purchase + tax\n",
    "print(total)"
   ]
  }
 ],
 "metadata": {
  "celltoolbar": "Slideshow",
  "kernelspec": {
   "display_name": "Python 3 (ipykernel)",
   "language": "python",
   "name": "python3"
  },
  "language_info": {
   "codemirror_mode": {
    "name": "ipython",
    "version": 3
   },
   "file_extension": ".py",
   "mimetype": "text/x-python",
   "name": "python",
   "nbconvert_exporter": "python",
   "pygments_lexer": "ipython3",
   "version": "3.8.2"
  }
 },
 "nbformat": 4,
 "nbformat_minor": 5
}
