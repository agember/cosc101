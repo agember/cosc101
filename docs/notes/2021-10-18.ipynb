{
 "cells": [
  {
   "cell_type": "markdown",
   "id": "e8abcf6a-5b89-4822-ad47-d76b06381704",
   "metadata": {
    "slideshow": {
     "slide_type": "skip"
    },
    "tags": []
   },
   "source": [
    "# Exam 2 review\n",
    "_COSC 101, Introduction to Computing I, 2021-10-18_"
   ]
  },
  {
   "cell_type": "markdown",
   "id": "ff09f8f7-18f0-41ef-b3f8-2ff70747a262",
   "metadata": {
    "slideshow": {
     "slide_type": "skip"
    },
    "tags": []
   },
   "source": [
    "## Announcements\n",
    "* Exam 2 Wednesday during class\n",
    "    * Review materials posted on Moodle\n",
    "* Homework 6 due Thursday, October 28"
   ]
  },
  {
   "cell_type": "markdown",
   "id": "6b398b72-4a0e-479b-b80c-33cd23751a40",
   "metadata": {},
   "source": [
    "## Exam topics\n",
    "* functions: defining and calling\n",
    "* how functions work: parameter passing, return values, variable scope\n",
    "* docstrings and doctests\n",
    "* nested for loops\n",
    "* while loops\n",
    "* Plus topics from the last exam:\n",
    "    * Types (int, str, float, bool)\n",
    "    * Expressions, variables, and assignment\n",
    "    * Interactive programs (input, print)\n",
    "    * Modules (import, random, math, turtle)\n",
    "    * Conditional statements (if/elif/else)\n",
    "    * Repetition with definite loops (for)\n",
    "    * Accumulator patterns"
   ]
  },
  {
   "cell_type": "markdown",
   "id": "42215745-a863-42de-8b39-c36dae39a6b3",
   "metadata": {},
   "source": [
    "## Code tracing\n",
    "*What is the output of the following programs?*"
   ]
  },
  {
   "cell_type": "code",
   "execution_count": 1,
   "id": "5e7fa0a7-d9ff-4272-bc64-65f37d5a4810",
   "metadata": {
    "tags": [
     "worksheet-code-only"
    ]
   },
   "outputs": [
    {
     "name": "stdout",
     "output_type": "stream",
     "text": [
      "30\n",
      "185\n"
     ]
    }
   ],
   "source": [
    "#1)\n",
    "def funcA(f):\n",
    "    f = f * 2\n",
    "    return f * 3\n",
    "    \n",
    "def funcB(g):\n",
    "    g = g + 2\n",
    "    return g + 3\n",
    "\n",
    "h = 5\n",
    "i = funcA(h)\n",
    "print(i)\n",
    "j = funcB(funcA(i))\n",
    "print(j)"
   ]
  },
  {
   "cell_type": "markdown",
   "id": "32ec3da4-d39c-4726-a306-7a75b86d693b",
   "metadata": {
    "tags": [
     "worksheet-only"
    ]
   },
   "source": [
    "<p style=\"height:5em;\"></p>\n",
    "<div style=\"page-break-after:always;\"></div>"
   ]
  },
  {
   "cell_type": "code",
   "execution_count": 2,
   "id": "a909d79b-780f-46b2-aca0-58da80d5162c",
   "metadata": {
    "tags": [
     "worksheet-code-only"
    ]
   },
   "outputs": [
    {
     "name": "stdout",
     "output_type": "stream",
     "text": [
      "9 16 7\n",
      "1 4\n"
     ]
    }
   ],
   "source": [
    "#2)\n",
    "def funcC(m):\n",
    "    n = m + 1\n",
    "    o = m * r\n",
    "    q = m - 1\n",
    "    print(n, o, q)\n",
    "    return m // r\n",
    "    \n",
    "q = 1\n",
    "r = 2\n",
    "r = funcC(8)\n",
    "print(q, r)"
   ]
  },
  {
   "cell_type": "markdown",
   "id": "bd43933c-a6c6-4647-8852-b8e50275caac",
   "metadata": {
    "tags": [
     "worksheet-only"
    ]
   },
   "source": [
    "<p style=\"height:5em;\"></p>"
   ]
  },
  {
   "cell_type": "code",
   "execution_count": 15,
   "id": "8f4f4672-092b-4e21-90a9-65c995bc71a8",
   "metadata": {
    "tags": [
     "worksheet-code-only"
    ]
   },
   "outputs": [
    {
     "name": "stdout",
     "output_type": "stream",
     "text": [
      "ah\n",
      "aahh\n",
      "aaahhh\n"
     ]
    }
   ],
   "source": [
    "#3)\n",
    "s = \"ah\"\n",
    "for i in range(1,4):\n",
    "    t = \"\"\n",
    "    for j in s:\n",
    "        t = t + (j * i)\n",
    "    print(t)"
   ]
  },
  {
   "cell_type": "markdown",
   "id": "d5682c72-b5ae-4430-a296-d4527d05d414",
   "metadata": {
    "tags": [
     "worksheet-only"
    ]
   },
   "source": [
    "<p style=\"height:5em;\"></p>"
   ]
  },
  {
   "cell_type": "code",
   "execution_count": 59,
   "id": "5180ebf5-0be3-46a3-a103-4c60beb8a6db",
   "metadata": {
    "tags": [
     "worksheet-code-only"
    ]
   },
   "outputs": [
    {
     "name": "stdout",
     "output_type": "stream",
     "text": [
      "3\n",
      "5\n"
     ]
    }
   ],
   "source": [
    "#4)\n",
    "def funcD(x):\n",
    "    y = 0\n",
    "    while x > 1:\n",
    "        x = x / 2\n",
    "        y += 1\n",
    "    return y\n",
    "print(funcD(5))\n",
    "print(funcD(32))"
   ]
  },
  {
   "cell_type": "markdown",
   "id": "e02126c4-0a85-4474-90ff-3d93dd94f016",
   "metadata": {
    "tags": [
     "worksheet-only"
    ]
   },
   "source": [
    "<p style=\"height:5em;\"></p>"
   ]
  },
  {
   "cell_type": "code",
   "execution_count": null,
   "id": "fbc9490e-fb6b-43c8-996d-c0bdcad4a7ee",
   "metadata": {
    "tags": [
     "worksheet-code-only"
    ]
   },
   "outputs": [],
   "source": [
    "#5)\n",
    "def funcE(x):\n",
    "    y = 0\n",
    "    while y <= x:\n",
    "        y = y * 2\n",
    "    return y\n",
    "print(funcE(5))"
   ]
  },
  {
   "cell_type": "markdown",
   "id": "a9927a71-4d82-408b-8a3d-1215b45fb6ce",
   "metadata": {
    "tags": [
     "worksheet-only"
    ]
   },
   "source": [
    "<p style=\"height:3em;\"></p>"
   ]
  },
  {
   "cell_type": "markdown",
   "id": "d14faca5-628f-49f5-913c-f62e9a7ce410",
   "metadata": {},
   "source": [
    "## Writing code"
   ]
  },
  {
   "cell_type": "markdown",
   "id": "a3e0b2ee-0dad-4a36-986d-f401094d26c0",
   "metadata": {},
   "source": [
    "\\#1) Write a function called `get_amount` that takes a minimum bill size (as an ingeger) asks a user how much money to withdraw from an Automated Teller Machine (ATM) until the user enters an amount that is a multiple of the minimum bill size; the function should return the amount (as an integer). You can assume the user will only enter digits."
   ]
  },
  {
   "cell_type": "code",
   "execution_count": 25,
   "id": "a7b724fe-b7be-4db1-a145-cc52f870ef87",
   "metadata": {
    "tags": [
     "notes-only"
    ]
   },
   "outputs": [],
   "source": [
    "def get_amount(minimum):\n",
    "    amount = 0\n",
    "    while amount <= 0 or amount % minimum != 0:\n",
    "        amount = int(input(\"How much money would you like to withdraw? \"))\n",
    "    return amount"
   ]
  },
  {
   "cell_type": "markdown",
   "id": "b847a0cf-504b-49bf-8a87-b2e69a473342",
   "metadata": {
    "tags": [
     "worksheet-only"
    ]
   },
   "source": [
    "<p style=\"height:15em;\"></p>"
   ]
  },
  {
   "cell_type": "markdown",
   "id": "0439e68c-aace-4ea2-8d38-f76d677e6035",
   "metadata": {},
   "source": [
    "\\#2) Write a funtion called `print_multiples` that takes a positive integer `n` and prints the first multiple of 1, the first two multiples of 2, the first three multiples of 3, etc. up to and including the first n multiples of n. For example, `print_multiples(5)` should output:\n",
    "```\n",
    "1\n",
    "2 4\n",
    "3 6 9\n",
    "4 8 12 16\n",
    "5 10 15 20 25\n",
    "```"
   ]
  },
  {
   "cell_type": "code",
   "execution_count": 67,
   "id": "664d8496-4dba-43bc-a101-7f3e31a1911e",
   "metadata": {
    "tags": [
     "notes-only"
    ]
   },
   "outputs": [],
   "source": [
    "def print_multiples(n):\n",
    "    \"\"\"\n",
    "    >>> print_multiples(5)\n",
    "    1 \n",
    "    2 4 \n",
    "    3 6 9 \n",
    "    4 8 12 16 \n",
    "    5 10 15 20 25 \n",
    "    \"\"\"\n",
    "    for i in range(1, n+1):\n",
    "        for j in range(1,i+1):\n",
    "            print(i*j, end=\" \")\n",
    "        print(\"\")"
   ]
  },
  {
   "cell_type": "markdown",
   "id": "b1780801-02c7-4e28-b094-b55ba2e21adb",
   "metadata": {
    "tags": [
     "worksheet-only"
    ]
   },
   "source": [
    "<p style=\"height:15em;\"></p>"
   ]
  },
  {
   "cell_type": "markdown",
   "id": "056626f5-f0fb-4b92-b002-a9c38b8b3157",
   "metadata": {},
   "source": [
    "\\#3) Write a function called `pete_and_repeat` that asks the user the following riddle: `Pete and Repeat were on a boat. Pete fell out, who was left on the boat?` If the user enters (`Repeat`), then the program should again ask the user to answer the riddle. If the user enters something else, then the program should print (`Wrong answer`) and again ask the user to answer the riddle."
   ]
  },
  {
   "cell_type": "code",
   "execution_count": null,
   "id": "ccd66982-44a3-4fa3-b300-d2a1e87b3b40",
   "metadata": {
    "tags": [
     "notes-only"
    ]
   },
   "outputs": [],
   "source": [
    "def pete_and_repeat():\n",
    "    answer = \"\"\n",
    "    while answer == \"Repeat\" or answer != \"Repeat\":\n",
    "        answer = input(\"Pete and Repeat were on a boat. Pete fell out, who was left on the boat? \")\n",
    "        if answer != \"Repeat\":\n",
    "            print(\"Wrong answer\")\n",
    "pete_and_repeat()"
   ]
  },
  {
   "cell_type": "markdown",
   "id": "1483defe-4a2e-4ed9-a2f9-21034f3f46c0",
   "metadata": {
    "tags": [
     "worksheet-only"
    ]
   },
   "source": [
    "<p style=\"height:15em;\"></p>"
   ]
  },
  {
   "cell_type": "markdown",
   "id": "edce2ad9-993e-44d0-96f7-fcdf51db5a66",
   "metadata": {},
   "source": [
    "\\#4) Customers at the Cost Mincer grocery store have complained about the long checkout lines, so the store manager wants to measure the average checkout time per item. Your task is to write a program that, for each customer, asks for the number of items purchased and the time required to complete the transaction. The program should continue to ask for inputs until 0 is entered for the number of items. After all inputs have been entered, the program should output the average checkout time per item.\n",
    "\n",
    "Example input/output:\n",
    "```\n",
    "Number of items? 20\n",
    "Checkout time (seconds)? 80\n",
    "Number of items? 60\n",
    "Checkout time (seconds)? 160\n",
    "Number of items? 0\n",
    "Average checkout time per item is 3.0 seconds\n",
    "```"
   ]
  },
  {
   "cell_type": "code",
   "execution_count": 66,
   "id": "db431df3-42f6-431f-ba90-3a6a85c26b74",
   "metadata": {
    "tags": [
     "notes-only"
    ]
   },
   "outputs": [
    {
     "name": "stdin",
     "output_type": "stream",
     "text": [
      "Number of items?  20\n",
      "Checkout time (seconds)?  80\n",
      "Number of items?  60\n",
      "Checkout time (seconds)?  160\n",
      "Number of items?  0\n"
     ]
    },
    {
     "name": "stdout",
     "output_type": "stream",
     "text": [
      "Average checkout time per item is 3.0 seconds\n"
     ]
    }
   ],
   "source": [
    "done = False\n",
    "total_items = 0\n",
    "total_time = 0\n",
    "while not done:\n",
    "    items = int(input(\"Number of items? \"))\n",
    "    if items == 0:\n",
    "        done = True\n",
    "    else:\n",
    "        time = int(input(\"Checkout time (seconds)? \"))\n",
    "        total_items += items\n",
    "        total_time += time\n",
    "\n",
    "average = total_time / total_items\n",
    "print(\"Average checkout time per item is\", average, \"seconds\")"
   ]
  },
  {
   "cell_type": "markdown",
   "id": "5439bac4-313e-4ee3-b970-988c093f82ae",
   "metadata": {
    "tags": [
     "worksheet-only"
    ]
   },
   "source": [
    "<p style=\"height:25em;\"></p>"
   ]
  },
  {
   "cell_type": "markdown",
   "id": "6eea3f67-bbf8-4843-9aec-768208191450",
   "metadata": {},
   "source": [
    "\\#5) The value of the mathematical constant pi (π) can be estimed using the Madhava-Leibniz series:\n",
    "```\n",
    "π = 4/1 - 4/3 + 4/5 - 4/7 + 4/9 - 4/11 ...\n",
    "```\n",
    "Write a function called `estimate_pi` that uses the Madhava_Leibniz series to estimate pi until the estimate rounded to two decimal digits is `3.14`."
   ]
  },
  {
   "cell_type": "code",
   "execution_count": 43,
   "id": "0a3789fd-011a-464a-9fc3-675816580726",
   "metadata": {
    "tags": [
     "notes-only"
    ]
   },
   "outputs": [],
   "source": [
    "def estimate_pi():\n",
    "    \"\"\"\n",
    "    >>> estimate_pi()\n",
    "    3.1350137774059244\n",
    "    \"\"\"\n",
    "    add = True\n",
    "    estimate = 0.0\n",
    "    i = 1\n",
    "    while round(estimate, 2) != 3.14:\n",
    "        if add:\n",
    "            estimate = estimate + 4/i\n",
    "            add = False\n",
    "        else:\n",
    "            estimate = estimate - 4/i\n",
    "            add = True\n",
    "        i = i + 2\n",
    "    return estimate"
   ]
  },
  {
   "cell_type": "markdown",
   "id": "dbb47078-91cc-4858-a02f-7bdd25171393",
   "metadata": {
    "tags": [
     "worksheet-only"
    ]
   },
   "source": [
    "<p style=\"height:20em;\"></p>"
   ]
  },
  {
   "cell_type": "markdown",
   "id": "fd50d15c-4e1a-4bbe-8aa7-f66df850b358",
   "metadata": {},
   "source": [
    "\\#6) Write a function called `print_monthly_calendar` that takes the number of days in a month and the day of the week on which the first day falls and prints a monthly calendar. For example `print_monthly_calendar(30, 4)` should output:\n",
    "```\n",
    "            01 02 03 04 \n",
    "05 06 07 08 09 10 11 \n",
    "12 13 14 15 16 17 18 \n",
    "19 20 21 22 23 24 25 \n",
    "26 27 28 29 30 \n",
    "```"
   ]
  },
  {
   "cell_type": "code",
   "execution_count": 20,
   "id": "d448ee98-07a8-4218-80e4-472432c87b10",
   "metadata": {
    "tags": [
     "notes-only"
    ]
   },
   "outputs": [],
   "source": [
    "def print_monthly_calendar(days, day_of_week):\n",
    "    \"\"\"\n",
    "    >>> print_monthly_calendar(31, 1)\n",
    "    01 02 03 04 05 06 07 \n",
    "    08 09 10 11 12 13 14 \n",
    "    15 16 17 18 19 20 21 \n",
    "    22 23 24 25 26 27 28 \n",
    "    29 30 31 \n",
    "    >>> print_monthly_calendar(30, 4)\n",
    "             01 02 03 04 \n",
    "    05 06 07 08 09 10 11 \n",
    "    12 13 14 15 16 17 18 \n",
    "    19 20 21 22 23 24 25 \n",
    "    26 27 28 29 30 \n",
    "    \"\"\"\n",
    "    for i in range(day_of_week-1):\n",
    "        print(\"   \", end='')\n",
    "    for d in range(1,days+1):\n",
    "        if day_of_week == 8:\n",
    "            print()\n",
    "            day_of_week = 1\n",
    "        if d < 10:\n",
    "            print(\"0\" + str(d)+\" \", end='')\n",
    "        else:\n",
    "            print(str(d)+\" \", end='')\n",
    "        day_of_week = day_of_week + 1"
   ]
  },
  {
   "cell_type": "markdown",
   "id": "d9516953-f9e2-488a-bffe-c8ac9daa397a",
   "metadata": {},
   "source": [
    "<p style=\"height:20em;\"></p>"
   ]
  },
  {
   "cell_type": "code",
   "execution_count": 51,
   "id": "07bb0bcb-908e-4e7a-94f0-dbffb8a1759d",
   "metadata": {
    "tags": [
     "notes-only"
    ]
   },
   "outputs": [
    {
     "data": {
      "text/plain": [
       "TestResults(failed=0, attempted=4)"
      ]
     },
     "execution_count": 51,
     "metadata": {},
     "output_type": "execute_result"
    }
   ],
   "source": [
    "import doctest\n",
    "doctest.testmod()"
   ]
  }
 ],
 "metadata": {
  "kernelspec": {
   "display_name": "Python 3 (ipykernel)",
   "language": "python",
   "name": "python3"
  },
  "language_info": {
   "codemirror_mode": {
    "name": "ipython",
    "version": 3
   },
   "file_extension": ".py",
   "mimetype": "text/x-python",
   "name": "python",
   "nbconvert_exporter": "python",
   "pygments_lexer": "ipython3",
   "version": "3.8.2"
  }
 },
 "nbformat": 4,
 "nbformat_minor": 5
}
