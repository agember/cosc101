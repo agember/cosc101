{
 "cells": [
  {
   "cell_type": "markdown",
   "id": "b10a9b7c",
   "metadata": {
    "editable": true,
    "slideshow": {
     "slide_type": "skip"
    },
    "tags": []
   },
   "source": [
    "# Hello: computational thinking; computations in python\n",
    "_COSC 101, Introduction to Computing I, 2024-09-02_"
   ]
  },
  {
   "cell_type": "markdown",
   "id": "619d2e6c",
   "metadata": {
    "slideshow": {
     "slide_type": "skip"
    }
   },
   "source": [
    "## Announcements\n",
    "* Read and complete activities in sections 2.4-2.13 on Runestone Academy\n",
    "* Complete \"Getting to know you\" questionnaire – if you haven’t already\n",
    "* First lab today or tomorrow"
   ]
  },
  {
   "cell_type": "markdown",
   "id": "2a327a5a",
   "metadata": {
    "slideshow": {
     "slide_type": "skip"
    },
    "tags": [
     "notes-only"
    ]
   },
   "source": [
    "## Outline\n",
    "* Warm-up\n",
    "* Computational thinking\n",
    "* Programming\n",
    "* Hello, Python!\n",
    "* Values\n",
    "* Operators"
   ]
  },
  {
   "cell_type": "markdown",
   "id": "73aabf8d",
   "metadata": {
    "slideshow": {
     "slide_type": "slide"
    }
   },
   "source": [
    "## Warm-up\n",
    "What is an example of an algorithm you lookup and execute in real life?\n",
    "(Recall: an algorithm is a step by step list of instructions that solve a problem.)"
   ]
  },
  {
   "cell_type": "markdown",
   "id": "f9018fcd",
   "metadata": {
    "slideshow": {
     "slide_type": "skip"
    },
    "tags": [
     "worksheet-only",
     "blank"
    ]
   },
   "source": [
    "<p style=\"height:5em;\"></p>"
   ]
  },
  {
   "cell_type": "markdown",
   "id": "59b48402-5fff-4218-a3f1-0cd34f9cc082",
   "metadata": {
    "slideshow": {
     "slide_type": "slide"
    },
    "tags": []
   },
   "source": [
    "## Computational thinking"
   ]
  },
  {
   "cell_type": "markdown",
   "id": "1be1261c",
   "metadata": {
    "tags": []
   },
   "source": [
    "_Computational thinking is the thought processes involved in formulating a problem and expressing its solution(s) in such a way that a computer—human or machine—can effectively carry out._ – Jeannette M. Wing"
   ]
  },
  {
   "cell_type": "markdown",
   "id": "61247c10-e2e1-453b-8a7d-a1b2808b1b27",
   "metadata": {
    "slideshow": {
     "slide_type": "skip"
    },
    "tags": [
     "notes-only"
    ]
   },
   "source": [
    "(_Wing is currently Director of the Data Science Institute at Columbia University and previously was Corporate Vice President of Microsoft Researcher and a Professor at Carnegie Mellon University_)\n",
    "* Decomposition — break the problem into smaller sub-problems\n",
    "* Pattern recognition — look for similarities with previously solved problems, across sub-problems, within sub-problems, etc.\n",
    "* Abstraction — determine which details are important\n",
    "* Algorithm design — create unambiguous step-by-step instructions\n",
    "<!--* Example: How do I grow flowers?\n",
    "* _Decomposition_\n",
    "    * How do I prepare the soil?\n",
    "    * How do I plant the seeds?\n",
    "    * How do I care for the plants?\n",
    "* _Pattern recognition_\n",
    "    * Growing flowers is similar to growing vegetables\n",
    "    * Repeat steps for each plant\n",
    "    * Repeat care steps every day\n",
    "* _Abstraction_\n",
    "    * Assume pot is provided\n",
    "    * Assume filling a water can is known\n",
    "* _Algorithm — e.g., plant the seeds_\n",
    "    1. How do I prepare the soil?\n",
    "        1. Get an empty pot\n",
    "        2. Fill the pot to the top with soil\n",
    "    2. How do I plant the seeds? — steps for each seed:\n",
    "        1. Make a hole that is 1 cm deep\n",
    "        2. Place a seed in the hole\n",
    "        3. Cover the seed with soil\n",
    "    3. How do I care for the plants?\n",
    "        1. Place the pot in the sun\n",
    "        2. Water the plants daily\n",
    "* Ambiguity — humans rely on contextual clues and experience; computers do _exactly_ what you tell them\n",
    "    * Make a hole that is 1 cm deep does not specify the width\n",
    "    * Cover the seed with soil does not specify how much soil\n",
    "    * Water the plants daily does not specify how much water-->"
   ]
  },
  {
   "cell_type": "markdown",
   "id": "19f87f1f-8956-4fc8-8339-a23caef62577",
   "metadata": {
    "slideshow": {
     "slide_type": "subslide"
    },
    "tags": [
     "question"
    ]
   },
   "source": [
    "0. Understanding the goal – direct a student to open lab hours\n",
    "    1. _Go outside Bernstein Hall approximately 5 meters from the entrance you used to come into the building this morning._\n",
    "    2. _Enter the building and go to room 333 (the computer lab where open lab hours will be held Sunday-Thursday 7pm-10pm)._\n",
    "    3. _Note (mentally or on paper) any information that may be help you/us solve the problem._"
   ]
  },
  {
   "cell_type": "markdown",
   "id": "d20e26ef-f2c9-45b1-9c36-df22cadc97b8",
   "metadata": {
    "slideshow": {
     "slide_type": "skip"
    },
    "tags": [
     "blank",
     "worksheet-only"
    ]
   },
   "source": [
    "<div style=\"height:10em;\"></div>"
   ]
  },
  {
   "cell_type": "markdown",
   "id": "430c02b4-44b5-4b9a-8585-88ebe1ab2cd9",
   "metadata": {
    "slideshow": {
     "slide_type": "subslide"
    },
    "tags": [
     "question",
     "worksheet-only"
    ]
   },
   "source": [
    "1. Decomposition"
   ]
  },
  {
   "cell_type": "markdown",
   "id": "c338bb06-c77a-4e4d-9f8c-e6b135ea2169",
   "metadata": {
    "slideshow": {
     "slide_type": "skip"
    },
    "tags": [
     "notes-only"
    ]
   },
   "source": [
    "* Initial decomposition\n",
    "    1. Entering the building\n",
    "    2. Getting to third floor\n",
    "    3. Getting to room 333\n",
    "* Futher decomposition\n",
    "    1. Entering the building\n",
    "        1. Getting to the door\n",
    "        2. Getting inside\n",
    "    2. Getting to the third floor\n",
    "        1. Getting to the stairs (or elevator)\n",
    "        2. Going up the stairs (or elevator)\n",
    "    3. Getting to room 333\n",
    "        1. Exiting the stairs (or elevator)\n",
    "        2. Going down the hallway\n",
    "        3. Entering the room"
   ]
  },
  {
   "cell_type": "markdown",
   "id": "08304217-a026-4a0a-aac4-6f8194a2284f",
   "metadata": {
    "slideshow": {
     "slide_type": "skip"
    },
    "tags": [
     "blank",
     "worksheet-only"
    ]
   },
   "source": [
    "<div style=\"height:20em;\"></div>"
   ]
  },
  {
   "cell_type": "markdown",
   "id": "411f51ae-8734-49c9-a976-1f67e68bb607",
   "metadata": {
    "slideshow": {
     "slide_type": "fragment"
    },
    "tags": [
     "question"
    ]
   },
   "source": [
    "2. Pattern recognition"
   ]
  },
  {
   "cell_type": "markdown",
   "id": "7b1d2a3d-f378-4976-a5b3-394f68548320",
   "metadata": {
    "slideshow": {
     "slide_type": "skip"
    },
    "tags": [
     "notes-only"
    ]
   },
   "source": [
    "* Similarities between sub-problems\n",
    "    * Getting to the door; getting to the stairs; going down the hallway\n",
    "    * Getting inside; entering the room\n",
    "* Similarities within subproblems\n",
    "    * Getting to the door; getting to the stairs; going down the hallway – move forward and turn\n",
    "* Similarities with previously solved problems\n",
    "    * Getting to class today"
   ]
  },
  {
   "cell_type": "markdown",
   "id": "a48f8309-c895-4f55-9aa5-fbb70dc8de2a",
   "metadata": {
    "slideshow": {
     "slide_type": "skip"
    },
    "tags": [
     "blank",
     "worksheet-only"
    ]
   },
   "source": [
    "<div style=\"height:15em;\"></div>"
   ]
  },
  {
   "cell_type": "markdown",
   "id": "2824d171-cc6e-46e3-89f4-34d9a239beda",
   "metadata": {
    "slideshow": {
     "slide_type": "fragment"
    },
    "tags": [
     "question"
    ]
   },
   "source": [
    "3. Abstraction"
   ]
  },
  {
   "cell_type": "markdown",
   "id": "793ff9b1-37e2-43c3-b8bb-165f63ab4ad2",
   "metadata": {
    "slideshow": {
     "slide_type": "skip"
    },
    "tags": [
     "notes-only"
    ]
   },
   "source": [
    "* Does the person following directions know how to...\n",
    "    * Move forward?\n",
    "    * Open a door?\n",
    "    * Climb stairs or use an elevator?\n",
    "* What if you were programming a robot instead of providing directions to a human?"
   ]
  },
  {
   "cell_type": "markdown",
   "id": "5985cf58-16d7-4a4d-b3b4-9520566666fc",
   "metadata": {
    "slideshow": {
     "slide_type": "skip"
    },
    "tags": [
     "blank",
     "worksheet-only"
    ]
   },
   "source": [
    "<div style=\"height:15em;\"></div>"
   ]
  },
  {
   "cell_type": "markdown",
   "id": "ed2b12f1-8ae5-4b84-89d6-ad8d7dd106f5",
   "metadata": {
    "slideshow": {
     "slide_type": "fragment"
    },
    "tags": [
     "question"
    ]
   },
   "source": [
    "4. Algorithm design: _write step-by-step instructions_"
   ]
  },
  {
   "cell_type": "markdown",
   "id": "c35ca91b-265c-4128-8d1d-d7298f58d96e",
   "metadata": {
    "slideshow": {
     "slide_type": "skip"
    },
    "tags": [
     "blank",
     "worksheet-only"
    ]
   },
   "source": [
    "<div style=\"height:35em;\"></div>"
   ]
  },
  {
   "cell_type": "markdown",
   "id": "03f102dd-ee40-461e-a9b8-63aa44a18bba",
   "metadata": {
    "slideshow": {
     "slide_type": "subslide"
    },
    "tags": []
   },
   "source": [
    "5. Testing (**before next class**)\n",
    "    1. _Give your instructions to someone who is not in this class. Ask them to follow the instructions. **Do not tell them the end goal!**_\n",
    "    2. _Note where your instructions did not work as expected–e.g., the person went the wrong way._\n"
   ]
  },
  {
   "cell_type": "markdown",
   "id": "8aec8ef4-f092-4b66-a835-1ed3eeeab25f",
   "metadata": {
    "slideshow": {
     "slide_type": "skip"
    },
    "tags": [
     "blank",
     "worksheet-only"
    ]
   },
   "source": [
    "<div style=\"height:15em;\"></div>"
   ]
  },
  {
   "cell_type": "markdown",
   "id": "ef447247",
   "metadata": {
    "slideshow": {
     "slide_type": "skip"
    },
    "tags": [
     "notes-only"
    ]
   },
   "source": [
    "## Programming\n",
    "* _Recall: what is programming?_ — representing algorithms in a notation (language) that can be followed by a computer\n",
    "* Natural language is inherently ambiguous\n",
    "    * A robot could not follow our algorithm for getting to room 333\n",
    "* Programming languages are unambiguous — an instruction has exactly one meaning\t\n",
    "* _What are the basic types of instructions used by Python (and nearly every programming language)?_\n",
    "    * Receiving input — e.g., from keyboard\n",
    "    * Providing output — e.g., display text on screen\n",
    "    * Math and logic\n",
    "    * Conditional execution\n",
    "    * Repetition"
   ]
  },
  {
   "cell_type": "markdown",
   "id": "0fbfdae2",
   "metadata": {
    "slideshow": {
     "slide_type": "skip"
    },
    "tags": [
     "notes-only"
    ]
   },
   "source": [
    "## Hello Python\n",
    "* Two modes of programming in Python\n",
    "    * Type instructions into interpreter (console) — instructions are executed as they are entered\n",
    "    * Type instructions in a file — instructions are executed when file is read by interpreter (run)\n",
    "* First program"
   ]
  },
  {
   "cell_type": "code",
   "execution_count": 7,
   "id": "bd2b4198",
   "metadata": {
    "slideshow": {
     "slide_type": "skip"
    },
    "tags": [
     "notes-only"
    ]
   },
   "outputs": [
    {
     "name": "stdout",
     "output_type": "stream",
     "text": [
      "Hello, Python!\n"
     ]
    }
   ],
   "source": [
    "print(\"Hello, Python!\")"
   ]
  },
  {
   "cell_type": "markdown",
   "id": "3996ece4-9176-4057-b41b-67f0d0486f87",
   "metadata": {
    "slideshow": {
     "slide_type": "slide"
    },
    "tags": []
   },
   "source": [
    "## Values"
   ]
  },
  {
   "cell_type": "markdown",
   "id": "a464a1ce-f37e-4a94-93af-e3eb29a89873",
   "metadata": {
    "slideshow": {
     "slide_type": "skip"
    },
    "tags": [
     "notes-only"
    ]
   },
   "source": [
    "* Programs work with values (or objects)\n",
    "* Different types (or classes) of objects\n",
    "    * String — consist of letters, numbers, punctuation, or symbols; starts and ends with single (`'`) or double (`\"`) quotes\n",
    "    * Integer — whole number\n",
    "    * Float — decimal number"
   ]
  },
  {
   "cell_type": "markdown",
   "id": "fc338dbc-1f41-4a11-9e8c-98be323ca7c7",
   "metadata": {
    "tags": [
     "question"
    ]
   },
   "source": [
    "_Specify the data type for each of the following values:_\n",
    "\n",
    "13346"
   ]
  },
  {
   "cell_type": "markdown",
   "id": "4c75f1d7-5823-4637-85e8-46fb27998bf6",
   "metadata": {
    "slideshow": {
     "slide_type": "skip"
    },
    "tags": [
     "answer"
    ]
   },
   "source": [
    "_integer_"
   ]
  },
  {
   "cell_type": "markdown",
   "id": "fa395067-8ec6-4cb5-a06e-e69d27522276",
   "metadata": {
    "slideshow": {
     "slide_type": "skip"
    },
    "tags": [
     "blank"
    ]
   },
   "source": [
    "<div style=\"height:2em;\"></div>"
   ]
  },
  {
   "cell_type": "markdown",
   "id": "b55f8a03-ed25-42e2-a454-4cb75edb85dc",
   "metadata": {},
   "source": [
    "3.14159"
   ]
  },
  {
   "cell_type": "markdown",
   "id": "494edb3d-5db6-48cf-b490-41288525be22",
   "metadata": {
    "slideshow": {
     "slide_type": "skip"
    },
    "tags": [
     "answer"
    ]
   },
   "source": [
    "_float_"
   ]
  },
  {
   "cell_type": "markdown",
   "id": "9bd30e67-64f1-4d0b-adc6-f244358347c1",
   "metadata": {
    "slideshow": {
     "slide_type": "skip"
    },
    "tags": [
     "blank"
    ]
   },
   "source": [
    "<div style=\"height:2em;\"></div>"
   ]
  },
  {
   "cell_type": "markdown",
   "id": "2d41972f-dd1f-4e83-9966-f75ec716b1be",
   "metadata": {},
   "source": [
    " \"Hamilton, NY\""
   ]
  },
  {
   "cell_type": "markdown",
   "id": "1915dbfe-b582-416e-a1ce-0852000d29be",
   "metadata": {
    "slideshow": {
     "slide_type": "skip"
    },
    "tags": [
     "answer"
    ]
   },
   "source": [
    "_string_"
   ]
  },
  {
   "cell_type": "markdown",
   "id": "3e1c4a78-488b-4096-9252-c94e7da1ab6b",
   "metadata": {
    "slideshow": {
     "slide_type": "skip"
    },
    "tags": [
     "blank"
    ]
   },
   "source": [
    "<div style=\"height:2em;\"></div>"
   ]
  },
  {
   "cell_type": "markdown",
   "id": "a9c05815-046a-4c94-ad19-d3f1ca8f876a",
   "metadata": {},
   "source": [
    "'1819'"
   ]
  },
  {
   "cell_type": "markdown",
   "id": "7456bb45-e43a-48f1-8b2d-455b5e13c963",
   "metadata": {
    "slideshow": {
     "slide_type": "skip"
    },
    "tags": [
     "answer"
    ]
   },
   "source": [
    "_string_"
   ]
  },
  {
   "cell_type": "markdown",
   "id": "0d1042dd-d907-4b67-83d2-8b4e7c981f67",
   "metadata": {
    "slideshow": {
     "slide_type": "skip"
    },
    "tags": [
     "blank"
    ]
   },
   "source": [
    "<div style=\"height:2em;\"></div>"
   ]
  },
  {
   "cell_type": "markdown",
   "id": "e9400142-26ee-4f84-a58f-2a3d5fa99d35",
   "metadata": {},
   "source": [
    "\"XIII\""
   ]
  },
  {
   "cell_type": "markdown",
   "id": "5538cdbc-43e0-40c0-8d93-5a84b5f1741e",
   "metadata": {
    "slideshow": {
     "slide_type": "skip"
    },
    "tags": [
     "answer"
    ]
   },
   "source": [
    "_string_"
   ]
  },
  {
   "cell_type": "markdown",
   "id": "f19a319d-9ac1-4ee3-9a92-49f12483a2d7",
   "metadata": {
    "slideshow": {
     "slide_type": "skip"
    },
    "tags": [
     "blank"
    ]
   },
   "source": [
    "<div style=\"height:2em;\"></div>"
   ]
  },
  {
   "cell_type": "markdown",
   "id": "1b5e2a9f-44fd-4e9c-8f3b-a91af3d5e9d6",
   "metadata": {
    "slideshow": {
     "slide_type": "slide"
    },
    "tags": []
   },
   "source": [
    "## Operators"
   ]
  },
  {
   "cell_type": "markdown",
   "id": "32c87f16-f987-4213-a806-fd6b6102f065",
   "metadata": {
    "editable": true,
    "slideshow": {
     "slide_type": "skip"
    },
    "tags": [
     "notes-only"
    ]
   },
   "source": [
    "* Used to compute new values\n",
    "* Standard mathematical operations (integers or floats): add (`+`), subtract (`-`), multiply (`*`), divide (`/`)\n",
    "* Other mathematical operations (integers or floats): integer division (`//`), modulo (`%`), exponent (`**`)\n",
    "* Operations on strings: concatenation (`+`), repetition (`*`)"
   ]
  },
  {
   "cell_type": "markdown",
   "id": "42a04e58-abaa-4d2f-9812-9abe4e323872",
   "metadata": {},
   "source": [
    "_Determine the result of each of the following expressions, or indicate if the expression is invalid:_"
   ]
  },
  {
   "cell_type": "code",
   "execution_count": 57,
   "id": "9a307f5e-80d9-48ea-a575-dcebf67cf4d9",
   "metadata": {
    "tags": [
     "worksheet-code-only"
    ]
   },
   "outputs": [
    {
     "data": {
      "text/plain": [
       "13"
      ]
     },
     "execution_count": 57,
     "metadata": {},
     "output_type": "execute_result"
    }
   ],
   "source": [
    "3 + 4 + 6"
   ]
  },
  {
   "cell_type": "markdown",
   "id": "cdf63cfb-2327-48fa-a5d2-c959c5e85c08",
   "metadata": {
    "slideshow": {
     "slide_type": "skip"
    },
    "tags": [
     "blank"
    ]
   },
   "source": [
    "<div style=\"height:2em;\"></div>"
   ]
  },
  {
   "cell_type": "code",
   "execution_count": 56,
   "id": "df1ccfd9-73ba-4ace-a98a-948811bd6ed4",
   "metadata": {
    "tags": [
     "worksheet-code-only"
    ]
   },
   "outputs": [
    {
     "data": {
      "text/plain": [
       "12.0"
      ]
     },
     "execution_count": 56,
     "metadata": {},
     "output_type": "execute_result"
    }
   ],
   "source": [
    "(5 - 1) * (2.0 + 1)"
   ]
  },
  {
   "cell_type": "markdown",
   "id": "0822ab9c-a7b2-4ebf-8ad3-5e0d26a77d70",
   "metadata": {
    "slideshow": {
     "slide_type": "skip"
    },
    "tags": [
     "blank"
    ]
   },
   "source": [
    "<div style=\"height:2em;\"></div>"
   ]
  },
  {
   "cell_type": "code",
   "execution_count": 43,
   "id": "8c8c94b9-8d15-406d-b190-bd12da365dbf",
   "metadata": {
    "tags": [
     "worksheet-code-only"
    ]
   },
   "outputs": [
    {
     "data": {
      "text/plain": [
       "'NewYork'"
      ]
     },
     "execution_count": 43,
     "metadata": {},
     "output_type": "execute_result"
    }
   ],
   "source": [
    "\"New\" + \"York\""
   ]
  },
  {
   "cell_type": "markdown",
   "id": "28394731-fd2c-4858-8868-6531ec9577cd",
   "metadata": {
    "slideshow": {
     "slide_type": "skip"
    },
    "tags": [
     "blank"
    ]
   },
   "source": [
    "<div style=\"height:2em;\"></div>"
   ]
  },
  {
   "cell_type": "code",
   "execution_count": 40,
   "id": "20cd9f25-2733-4aca-8c03-e37dc9181833",
   "metadata": {
    "tags": [
     "worksheet-code-only"
    ]
   },
   "outputs": [
    {
     "data": {
      "text/plain": [
       "5.5"
      ]
     },
     "execution_count": 40,
     "metadata": {},
     "output_type": "execute_result"
    }
   ],
   "source": [
    "5 / 2 + 3"
   ]
  },
  {
   "cell_type": "markdown",
   "id": "b9a34e73-4e84-480c-b0da-d950ba8faebf",
   "metadata": {
    "slideshow": {
     "slide_type": "skip"
    },
    "tags": [
     "blank"
    ]
   },
   "source": [
    "<div style=\"height:2em;\"></div>"
   ]
  },
  {
   "cell_type": "code",
   "execution_count": 42,
   "id": "ac760c84-f972-424d-abfb-f0e3bd3628ad",
   "metadata": {
    "tags": [
     "worksheet-code-only"
    ]
   },
   "outputs": [
    {
     "ename": "TypeError",
     "evalue": "can only concatenate str (not \"int\") to str",
     "output_type": "error",
     "traceback": [
      "\u001b[0;31m---------------------------------------------------------------------------\u001b[0m",
      "\u001b[0;31mTypeError\u001b[0m                                 Traceback (most recent call last)",
      "\u001b[0;32m/var/folders/bd/35sz70xs5837wszrx11bw1yc0000gn/T/ipykernel_5800/2106897465.py\u001b[0m in \u001b[0;36m<module>\u001b[0;34m\u001b[0m\n\u001b[0;32m----> 1\u001b[0;31m \u001b[0;34m\"75\"\u001b[0m \u001b[0;34m+\u001b[0m \u001b[0;36m25\u001b[0m\u001b[0;34m\u001b[0m\u001b[0;34m\u001b[0m\u001b[0m\n\u001b[0m",
      "\u001b[0;31mTypeError\u001b[0m: can only concatenate str (not \"int\") to str"
     ]
    }
   ],
   "source": [
    "\"75\" + 25"
   ]
  },
  {
   "cell_type": "markdown",
   "id": "090b9eb8-6b68-406a-833e-e360f73af5be",
   "metadata": {
    "slideshow": {
     "slide_type": "skip"
    },
    "tags": [
     "blank"
    ]
   },
   "source": [
    "<div style=\"height:2em;\"></div>"
   ]
  },
  {
   "cell_type": "code",
   "execution_count": 36,
   "id": "2705a1b3-4655-4abc-b05a-757b782e7d92",
   "metadata": {
    "tags": [
     "worksheet-code-only"
    ]
   },
   "outputs": [
    {
     "data": {
      "text/plain": [
       "2"
      ]
     },
     "execution_count": 36,
     "metadata": {},
     "output_type": "execute_result"
    }
   ],
   "source": [
    "21 // 3 % 5"
   ]
  },
  {
   "cell_type": "markdown",
   "id": "b904aac0-615d-4f6d-b577-61ad5be2fb28",
   "metadata": {
    "slideshow": {
     "slide_type": "skip"
    },
    "tags": [
     "blank"
    ]
   },
   "source": [
    "<div style=\"height:2em;\"></div>"
   ]
  },
  {
   "cell_type": "code",
   "execution_count": 66,
   "id": "71cce35d-2048-4837-9df7-85c107934fe5",
   "metadata": {
    "tags": [
     "worksheet-code-only"
    ]
   },
   "outputs": [
    {
     "data": {
      "text/plain": [
       "3"
      ]
     },
     "execution_count": 66,
     "metadata": {},
     "output_type": "execute_result"
    }
   ],
   "source": [
    "7+-4"
   ]
  },
  {
   "cell_type": "markdown",
   "id": "b5d8972e-03d7-411d-8dd8-b52114ec367c",
   "metadata": {
    "slideshow": {
     "slide_type": "skip"
    },
    "tags": [
     "blank"
    ]
   },
   "source": [
    "<div style=\"height:2em;\"></div>"
   ]
  },
  {
   "cell_type": "code",
   "execution_count": 21,
   "id": "2d29360b-69c2-4666-9198-8d584ae816f1",
   "metadata": {
    "tags": [
     "worksheet-code-only"
    ]
   },
   "outputs": [
    {
     "data": {
      "text/plain": [
       "1000"
      ]
     },
     "execution_count": 21,
     "metadata": {},
     "output_type": "execute_result"
    }
   ],
   "source": [
    "10 ** 3"
   ]
  },
  {
   "cell_type": "markdown",
   "id": "b05f5646-5da1-4f48-9a79-9876045190af",
   "metadata": {
    "slideshow": {
     "slide_type": "skip"
    },
    "tags": [
     "blank"
    ]
   },
   "source": [
    "<div style=\"height:2em;\"></div>"
   ]
  },
  {
   "cell_type": "code",
   "execution_count": 28,
   "id": "9350c351-5cf1-4de1-a5da-d6ae365bfcba",
   "metadata": {
    "tags": [
     "worksheet-code-only"
    ]
   },
   "outputs": [
    {
     "data": {
      "text/plain": [
       "'Mississppi'"
      ]
     },
     "execution_count": 28,
     "metadata": {},
     "output_type": "execute_result"
    }
   ],
   "source": [
    "\"M\" + \"iss\" * 2 + \"ppi\""
   ]
  },
  {
   "cell_type": "markdown",
   "id": "94b2a9bf-7ecd-4e59-a781-1d068f4aa624",
   "metadata": {
    "slideshow": {
     "slide_type": "skip"
    },
    "tags": [
     "blank"
    ]
   },
   "source": [
    "<div style=\"height:2em;\"></div>"
   ]
  }
 ],
 "metadata": {
  "celltoolbar": "Tags",
  "kernelspec": {
   "display_name": "Python 3 (ipykernel)",
   "language": "python",
   "name": "python3"
  },
  "language_info": {
   "codemirror_mode": {
    "name": "ipython",
    "version": 3
   },
   "file_extension": ".py",
   "mimetype": "text/x-python",
   "name": "python",
   "nbconvert_exporter": "python",
   "pygments_lexer": "ipython3",
   "version": "3.9.6"
  }
 },
 "nbformat": 4,
 "nbformat_minor": 5
}
