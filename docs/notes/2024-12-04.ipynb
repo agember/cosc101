{
 "cells": [
  {
   "cell_type": "markdown",
   "id": "0683129d-4889-4734-adaf-62a553d842fa",
   "metadata": {
    "editable": true,
    "slideshow": {
     "slide_type": "skip"
    },
    "tags": []
   },
   "source": [
    "# Machine learning: introduction\n",
    "_COSC 101, Introduction to Computing I, 2024-12-04_"
   ]
  },
  {
   "cell_type": "markdown",
   "id": "d1bbf54e-d89b-4cd2-8da5-59ba682257da",
   "metadata": {
    "editable": true,
    "slideshow": {
     "slide_type": "skip"
    },
    "tags": []
   },
   "source": [
    "## Announcements\n",
    "* Homework #8 due tomorrow @ 11:59pm\n",
    "* Revisions to homeworks 5, 6, and/or 7 due Thurs, Dec 12 @ 11:59pm\n",
    "* Exam 3 reattempts in class Wed, Dec 11"
   ]
  },
  {
   "cell_type": "markdown",
   "id": "0d421417-d646-4794-9783-3603f6fd022d",
   "metadata": {
    "editable": true,
    "slideshow": {
     "slide_type": ""
    },
    "tags": []
   },
   "source": [
    "## Warm-up"
   ]
  },
  {
   "cell_type": "markdown",
   "id": "faf7ab90-5ecf-4eeb-b7dc-8bd317bc58ee",
   "metadata": {
    "editable": true,
    "slideshow": {
     "slide_type": "slide"
    },
    "tags": [
     "question"
    ]
   },
   "source": [
    "_Consider the task of summing the numbers from 1 up to some maximum integer._\n",
    "1. _What is the condition and result for the base case?_\n",
    "2. _What is the smaller problem on which you recurse?_\n",
    "3. _How do you combine the simple piece and the result of the recursive call?_"
   ]
  },
  {
   "cell_type": "markdown",
   "id": "4c2be8fc-764a-45d4-8c33-176c2ec95e2e",
   "metadata": {
    "editable": true,
    "slideshow": {
     "slide_type": "skip"
    },
    "tags": [
     "answer"
    ]
   },
   "source": [
    "1. Condition: maximum is one; result: one\n",
    "2. Maximum minus 1\n",
    "3. Add the maximum to the sum of the numbers from 1 to the maximum-1"
   ]
  },
  {
   "cell_type": "markdown",
   "id": "649a84db-620a-4093-b185-eea2086f8d69",
   "metadata": {
    "editable": true,
    "slideshow": {
     "slide_type": "skip"
    },
    "tags": [
     "blank"
    ]
   },
   "source": [
    "```\n",
    "\n",
    "\n",
    "\n",
    "\n",
    "\n",
    "\n",
    "\n",
    "\n",
    "```"
   ]
  },
  {
   "cell_type": "markdown",
   "id": "02381c04-cae5-4be2-a928-9e488c81d730",
   "metadata": {
    "editable": true,
    "slideshow": {
     "slide_type": "fragment"
    },
    "tags": [
     "question"
    ]
   },
   "source": [
    "_What does the following program output?_"
   ]
  },
  {
   "cell_type": "code",
   "execution_count": 1,
   "id": "29c13ee2-66bc-43a5-8dc6-1c0584217811",
   "metadata": {
    "editable": true,
    "slideshow": {
     "slide_type": "skip"
    },
    "tags": [
     "worksheet-code-only"
    ]
   },
   "outputs": [
    {
     "name": "stdout",
     "output_type": "stream",
     "text": [
      "24\n"
     ]
    }
   ],
   "source": [
    "def mystery(values: list) -> int:\n",
    "    if len(values) == 1:\n",
    "        return values[0]\n",
    "    else:\n",
    "        rest = mystery(values[1:])\n",
    "        if (values[0] > rest):\n",
    "            return values[0]\n",
    "        else:\n",
    "            return rest\n",
    "\n",
    "def main() -> None:\n",
    "    result = mystery([12, 4, 24, 13])\n",
    "    print(result)\n",
    "\n",
    "main()"
   ]
  },
  {
   "cell_type": "markdown",
   "id": "06d42b4a-2745-4151-807a-0828d493b49a",
   "metadata": {
    "editable": true,
    "slideshow": {
     "slide_type": "skip"
    },
    "tags": [
     "worksheet-only"
    ]
   },
   "source": [
    "```\n",
    "\n",
    "\n",
    "\n",
    "\n",
    "\n",
    "\n",
    "```"
   ]
  },
  {
   "cell_type": "markdown",
   "id": "dab2bc7d-3600-495e-8a91-ab429dc340e5",
   "metadata": {
    "editable": true,
    "slideshow": {
     "slide_type": "fragment"
    },
    "tags": [
     "question"
    ]
   },
   "source": [
    "_What does the following program output?_"
   ]
  },
  {
   "cell_type": "code",
   "execution_count": 2,
   "id": "f67dcf50-bd84-418a-9545-8571e333b0d0",
   "metadata": {
    "editable": true,
    "slideshow": {
     "slide_type": "skip"
    },
    "tags": [
     "worksheet-code-only"
    ]
   },
   "outputs": [
    {
     "name": "stdout",
     "output_type": "stream",
     "text": [
      "32\n"
     ]
    }
   ],
   "source": [
    "def magic(num: int) -> int:\n",
    "    if num == 0:\n",
    "        return 1\n",
    "    else:\n",
    "        result = magic(num - 1)\n",
    "        return result * 2\n",
    "\n",
    "def main() -> None:\n",
    "    result = magic(5)\n",
    "    print(result)\n",
    "\n",
    "main()"
   ]
  },
  {
   "cell_type": "markdown",
   "id": "bc071a8f-0afa-4077-a637-0fefc4c89e70",
   "metadata": {
    "editable": true,
    "slideshow": {
     "slide_type": "skip"
    },
    "tags": [
     "worksheet-only"
    ]
   },
   "source": [
    "```\n",
    "\n",
    "\n",
    "\n",
    "\n",
    "\n",
    "\n",
    "```"
   ]
  },
  {
   "cell_type": "markdown",
   "id": "6b024ae5-3c01-4e1a-8527-f8e548359e01",
   "metadata": {
    "editable": true,
    "slideshow": {
     "slide_type": "skip"
    },
    "tags": []
   },
   "source": [
    "## What is machine learning (ML)?"
   ]
  },
  {
   "cell_type": "markdown",
   "id": "060c98fb-f5fa-4bba-93ee-49cd1f7397cc",
   "metadata": {
    "editable": true,
    "slideshow": {
     "slide_type": "skip"
    },
    "tags": [
     "notes-only"
    ]
   },
   "source": [
    "* _What is machine learning?_ — deriving an algorithm from data, instead of being explicitly programmed\n",
    "* Example: recognizing hand-written digits\n",
    "    * Assume an image contains a hand-written digit\n",
    "    * Recall: _How are images represented?_ — as a grid of pixels\n",
    "    * If a pixel is black, it is part of the digit; if a pixel is white it is not part of the digit\n",
    "    * _Given an image, how would you write an algorithm to determine if the image contains the digit 1?_ — look for a vertical sequence of black pixels; all other pixels should be white\n",
    "        * _What if someone writes a 1 at a slight angle?_ — the digit won't be detected\n",
    "        * _Could we fix this?_ — write a more complex algorithm that doesn't require the line to be strictly vertical\n",
    "    * _Given an image, how would you write an algorithm to determine if the image contains the digit 7?_ — look for a horizontal sequence of black pixels whose right side intersects the top of a diagonal sequence of black pixels; all other pixels should be white\n",
    "    * _Given an image, how would you write an algorithm to determine if the image contains the digit 5?_ — this is a hard problem for a human\n",
    "* Machine learning approach: the computer \"writes\" the algorithm based on examples of hand-written digits\n",
    "    * Algorithm learns probabilities that certain pixels are black or white for certain digits\n",
    "    * For example, the corners of a hand-written 1 will always be white, whereas the upper-right corner of a hand-written 5 will be black with highly probability\n",
    "    * Given a new image, the highest probability digit is identified\n",
    "* Homework 8 is also using ML"
   ]
  },
  {
   "cell_type": "markdown",
   "id": "efa6bee6-8e21-432c-9cd6-6ccbe0cac9c6",
   "metadata": {
    "editable": true,
    "slideshow": {
     "slide_type": "skip"
    },
    "tags": [
     "worksheet-only"
    ]
   },
   "source": [
    "```\n",
    "\n",
    "\n",
    "\n",
    "\n",
    "\n",
    "\n",
    "\n",
    "\n",
    "\n",
    "```"
   ]
  },
  {
   "cell_type": "markdown",
   "id": "a07e8697-c1b4-4089-afb3-5172997ca05f",
   "metadata": {
    "editable": true,
    "slideshow": {
     "slide_type": "skip"
    },
    "tags": []
   },
   "source": [
    "## Key terms"
   ]
  },
  {
   "cell_type": "markdown",
   "id": "bd7dbeaa-33a9-401e-8698-da1f16702542",
   "metadata": {
    "editable": true,
    "slideshow": {
     "slide_type": "skip"
    },
    "tags": [
     "notes-only"
    ]
   },
   "source": [
    "* Model — the \"algorithm\" that is derived from data\n",
    "    * For example, the probabilities of each pixel being black for each hand-written digit\n",
    "* Training — the act of constructing a model\n",
    "* Training data — information used to construct the model\n",
    "* Features — characteristics of each data item\n",
    "* Testing — the act of measuring a model's accuracy\n",
    "* Testing data — information used to evaluate the model's accuracy; typically the data is split into training and testing"
   ]
  },
  {
   "cell_type": "markdown",
   "id": "0e13bd36-0a99-4e16-8c60-defd37d4c7ef",
   "metadata": {
    "editable": true,
    "slideshow": {
     "slide_type": "skip"
    },
    "tags": [
     "worksheet-only"
    ]
   },
   "source": [
    "* Model\n",
    "```\n",
    "```\n",
    "* Training\n",
    "```\n",
    "```\n",
    "* Training data\n",
    "```\n",
    "```\n",
    "* Features\n",
    "```\n",
    "```\n",
    "* Testing\n",
    "```\n",
    "```\n",
    "* Testing data"
   ]
  },
  {
   "cell_type": "markdown",
   "id": "3a54017e-b610-42e1-841e-afc0e23d033b",
   "metadata": {
    "editable": true,
    "slideshow": {
     "slide_type": "skip"
    },
    "tags": [
     "notes-only"
    ]
   },
   "source": [
    "## Decision trees\n",
    "* Similar to nested if-statements\n",
    "* At each node in a decision tree, a decision is made (based on features of the data) and the appropriate branch is taken\n",
    "* When there are no more branches, a final outcome (e.g., a label) is decided"
   ]
  },
  {
   "cell_type": "markdown",
   "id": "52f234ec-85cc-4421-a453-7d6ec76cc10f",
   "metadata": {
    "editable": true,
    "slideshow": {
     "slide_type": "skip"
    },
    "tags": [
     "notes-only"
    ]
   },
   "source": [
    "## Activity\n",
    "* Pictures of things\n",
    "* Manually construct a decision tree to decide _does it fly?_\n",
    "* Start with a single pile of pictures\n",
    "* Select one meaningful characteristic that can be used to divide the pictures into two piles\n",
    "    * For simplicitly: write down a question with a yes/no answer\n",
    "* For each pile, select a meaningful characteristic that can be used to divide into two subpiles\n",
    "    * Again, write down a question with a yes/no answer\n",
    "    * The question can be different for each of the two piles\n",
    "* Repeat until every pile only contains things that do/don't fly\n",
    "* Somewhat similar to playing a game of \"20 questions\"\n",
    "\n",
    "### Reflection\n",
    "* _What was the first characteristic you used to divide the pictures? Why?_\n",
    "* _What were the second characteristics you used to divide the pictures? Were they the same for each pile? Why or why not?_\n",
    "* _Overall, how did you choose questions?_\n",
    "* _What answer would you give for a previously unseen thing—e.g., a train? a pigeon? a kite?_"
   ]
  }
 ],
 "metadata": {
  "kernelspec": {
   "display_name": "Python 3 (ipykernel)",
   "language": "python",
   "name": "python3"
  },
  "language_info": {
   "codemirror_mode": {
    "name": "ipython",
    "version": 3
   },
   "file_extension": ".py",
   "mimetype": "text/x-python",
   "name": "python",
   "nbconvert_exporter": "python",
   "pygments_lexer": "ipython3",
   "version": "3.9.6"
  }
 },
 "nbformat": 4,
 "nbformat_minor": 5
}
