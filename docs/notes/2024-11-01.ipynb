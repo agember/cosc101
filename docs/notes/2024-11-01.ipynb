{
 "cells": [
  {
   "cell_type": "markdown",
   "metadata": {
    "editable": true,
    "slideshow": {
     "slide_type": "skip"
    },
    "tags": []
   },
   "source": [
    "# Sequences: references\n",
    "_COSC 101, Introduction to Computing I, 2024-11-01_"
   ]
  },
  {
   "cell_type": "markdown",
   "metadata": {
    "editable": true,
    "slideshow": {
     "slide_type": "skip"
    },
    "tags": []
   },
   "source": [
    "## Announcements\n",
    "* Exam 2 retakes Friday, Nov 8 during class"
   ]
  },
  {
   "cell_type": "markdown",
   "metadata": {
    "editable": true,
    "slideshow": {
     "slide_type": ""
    },
    "tags": []
   },
   "source": [
    "## Warm-up"
   ]
  },
  {
   "cell_type": "markdown",
   "metadata": {
    "editable": true,
    "slideshow": {
     "slide_type": "slide"
    },
    "tags": [
     "question"
    ]
   },
   "source": [
    "*Assume a list of strings has been assigned to the variable `words`. Write a snippet of code that updates each item in the list to contain the first letter in each string. For example: `[\"Computer\", \"Science\"]` would be updated to `[\"C\", \"S\"]`*"
   ]
  },
  {
   "cell_type": "code",
   "execution_count": 5,
   "metadata": {
    "editable": true,
    "slideshow": {
     "slide_type": "skip"
    },
    "tags": [
     "answer"
    ]
   },
   "outputs": [
    {
     "name": "stdout",
     "output_type": "stream",
     "text": [
      "['C', 'S']\n"
     ]
    }
   ],
   "source": [
    "words = [\"Computer\", \"Science\"]\n",
    "for index in range(len(words)):\n",
    "    words[index] = words[index][0]\n",
    "print(words)"
   ]
  },
  {
   "cell_type": "markdown",
   "metadata": {
    "editable": true,
    "slideshow": {
     "slide_type": "skip"
    },
    "tags": [
     "blank"
    ]
   },
   "source": [
    "<p style=\"height:10em;\"></p>"
   ]
  },
  {
   "cell_type": "markdown",
   "metadata": {
    "editable": true,
    "slideshow": {
     "slide_type": "skip"
    },
    "tags": []
   },
   "source": [
    "## References"
   ]
  },
  {
   "cell_type": "markdown",
   "metadata": {
    "editable": true,
    "slideshow": {
     "slide_type": "skip"
    },
    "tags": [
     "notes-only"
    ]
   },
   "source": [
    "* Recall: a list is a sequential collection of values\n",
    "    * Analogy: a folder holds a sequential collection of papers\n",
    "    * `[2, 4, 6]`\n",
    "* When you assign a list to a variable, the variable becomes a name for the collection\n",
    "    * Analogy: label folder"
   ]
  },
  {
   "cell_type": "code",
   "execution_count": 2,
   "metadata": {
    "editable": true,
    "slideshow": {
     "slide_type": "skip"
    },
    "tags": [
     "notes-only"
    ]
   },
   "outputs": [
    {
     "name": "stdout",
     "output_type": "stream",
     "text": [
      "[2, 4, 6]\n"
     ]
    }
   ],
   "source": [
    "listA = [2, 4, 6]\n",
    "print(listA)"
   ]
  },
  {
   "cell_type": "markdown",
   "metadata": {
    "editable": true,
    "slideshow": {
     "slide_type": "skip"
    },
    "tags": [
     "notes-only"
    ]
   },
   "source": [
    "* When you add and remove items, you are changing what is in the collection, but the name still refers to the same collection\n",
    "    * Analogy: add and remove papers from a folder, but you are not relabeling the folder"
   ]
  },
  {
   "cell_type": "code",
   "execution_count": 3,
   "metadata": {
    "slideshow": {
     "slide_type": "skip"
    },
    "tags": [
     "notes-only"
    ]
   },
   "outputs": [
    {
     "name": "stdout",
     "output_type": "stream",
     "text": [
      "A [2, 40, 6]\n"
     ]
    }
   ],
   "source": [
    "listA[1] = 40\n",
    "print(\"A\", listA)"
   ]
  },
  {
   "cell_type": "markdown",
   "metadata": {
    "editable": true,
    "slideshow": {
     "slide_type": "skip"
    },
    "tags": [
     "notes-only"
    ]
   },
   "source": [
    "* Creating another list creates another sequential collection of values\n",
    "    * Analogy: get a new folder"
   ]
  },
  {
   "cell_type": "code",
   "execution_count": 4,
   "metadata": {
    "slideshow": {
     "slide_type": "skip"
    },
    "tags": [
     "notes-only"
    ]
   },
   "outputs": [
    {
     "name": "stdout",
     "output_type": "stream",
     "text": [
      "A [2, 40, 6] B []\n"
     ]
    }
   ],
   "source": [
    "listB = []\n",
    "print(\"A\", listA, \"B\", listB)"
   ]
  },
  {
   "cell_type": "markdown",
   "metadata": {
    "editable": true,
    "slideshow": {
     "slide_type": "skip"
    },
    "tags": [
     "notes-only"
    ]
   },
   "source": [
    "* Even if you put the same values in each list, the collections are still different\n",
    "    * Analogy: put the same papers in each folder, but each folder is still separate"
   ]
  },
  {
   "cell_type": "code",
   "execution_count": 5,
   "metadata": {
    "editable": true,
    "slideshow": {
     "slide_type": "skip"
    },
    "tags": [
     "notes-only"
    ]
   },
   "outputs": [
    {
     "name": "stdout",
     "output_type": "stream",
     "text": [
      "A [2, 40, 6] B [2, 40, 6]\n"
     ]
    }
   ],
   "source": [
    "listB.append(2)\n",
    "listB.append(40)\n",
    "listB.append(6)\n",
    "print(\"A\", listA, \"B\", listB)"
   ]
  },
  {
   "cell_type": "markdown",
   "metadata": {
    "editable": true,
    "slideshow": {
     "slide_type": "skip"
    },
    "tags": [
     "notes-only"
    ]
   },
   "source": [
    "* However, if you assign the name of a list to a new name, then you create an alias\n",
    "    * Analogy: add another label to the list"
   ]
  },
  {
   "cell_type": "code",
   "execution_count": 6,
   "metadata": {
    "editable": true,
    "slideshow": {
     "slide_type": "skip"
    },
    "tags": [
     "notes-only"
    ]
   },
   "outputs": [
    {
     "name": "stdout",
     "output_type": "stream",
     "text": [
      "A [2, 40, 6] C [2, 40, 6]\n"
     ]
    }
   ],
   "source": [
    "listC = listA\n",
    "print(\"A\", listA, \"C\", listC)"
   ]
  },
  {
   "cell_type": "markdown",
   "metadata": {
    "editable": true,
    "slideshow": {
     "slide_type": "skip"
    },
    "tags": [
     "notes-only"
    ]
   },
   "source": [
    "* Regardless which name you use, you are referring to the same list; hence, changes made using one name will also be reflected if you use the other name to refer to the list\n",
    "    * Analogy: add and remove papers from the same folder with multiple labels"
   ]
  },
  {
   "cell_type": "code",
   "execution_count": 7,
   "metadata": {
    "slideshow": {
     "slide_type": "skip"
    },
    "tags": [
     "notes-only"
    ]
   },
   "outputs": [
    {
     "name": "stdout",
     "output_type": "stream",
     "text": [
      "A [20, 40, 6] C [20, 40, 6]\n",
      "A [20, 40, 60] C [20, 40, 60]\n"
     ]
    }
   ],
   "source": [
    "listC[0] = 20\n",
    "print(\"A\", listA, \"C\", listC)\n",
    "listA[2] = 60\n",
    "print(\"A\", listA, \"C\", listC)"
   ]
  },
  {
   "cell_type": "markdown",
   "metadata": {
    "slideshow": {
     "slide_type": "skip"
    },
    "tags": [
     "notes-only"
    ]
   },
   "source": [
    "* You can check if two different names refer to the same list using the `is` operator\n",
    "* You can check if two lists (which may or may not be the same list) contain the same items using the `==` opearator"
   ]
  },
  {
   "cell_type": "code",
   "execution_count": 8,
   "metadata": {
    "slideshow": {
     "slide_type": "skip"
    },
    "tags": [
     "notes-only"
    ]
   },
   "outputs": [
    {
     "name": "stdout",
     "output_type": "stream",
     "text": [
      "A [20, 40, 60] C [20, 40, 60] D [20, 40, 60]\n",
      "A is C? True A is D? False\n",
      "A == C? True A == D? True\n"
     ]
    }
   ],
   "source": [
    "listD = [20, 40, 60]\n",
    "print(\"A\", listA, \"C\", listC, \"D\", listD)\n",
    "print(\"A is C?\", listA is listC, \"A is D?\", listA is listD)\n",
    "print(\"A == C?\", listA == listC, \"A == D?\", listA == listD)"
   ]
  },
  {
   "cell_type": "markdown",
   "metadata": {
    "slideshow": {
     "slide_type": "skip"
    },
    "tags": [
     "notes-only"
    ]
   },
   "source": [
    "* To avoid aliasing, you must create a clone of (part of) the list using the slice operator\n",
    "    * Analogy: get a new folder with a copy of all of the items in the original folder"
   ]
  },
  {
   "cell_type": "code",
   "execution_count": null,
   "metadata": {
    "slideshow": {
     "slide_type": "skip"
    },
    "tags": [
     "notes-only"
    ]
   },
   "outputs": [],
   "source": [
    "listE = listA[:]\n",
    "print(\"A\", listA, \"E\", listE)\n",
    "listE[0] = 10\n",
    "print(\"A\", listA, \"E\", listE)\n",
    "listA[2] = 70\n",
    "print(\"A\", listA, \"E\", listE)"
   ]
  },
  {
   "cell_type": "markdown",
   "metadata": {
    "editable": true,
    "slideshow": {
     "slide_type": "skip"
    },
    "tags": [
     "notes-only"
    ]
   },
   "source": [
    "* Parameters\n",
    "    * Recall: at the start of the function, all actual parameters and are assigned to the formal parameters\n",
    "    * Consequently, list name is assigned another name → formal parameter is an alias\n",
    "    * Consequence: changing the list using the formal parameter will change the same list as changing the list using the actual parameter"
   ]
  },
  {
   "cell_type": "code",
   "execution_count": 1,
   "metadata": {
    "editable": true,
    "slideshow": {
     "slide_type": "skip"
    },
    "tags": [
     "notes-only"
    ]
   },
   "outputs": [
    {
     "name": "stdout",
     "output_type": "stream",
     "text": [
      "Q [1, 3, 5]\n",
      "R [1, 3, 5]\n",
      "R [2, 3, 5]\n",
      "Q [2, 3, 5]\n"
     ]
    }
   ],
   "source": [
    "def funcX(listR):\n",
    "    print(\"R\", listR)\n",
    "    listR[0] = 2\n",
    "    print(\"R\", listR)\n",
    "\n",
    "def main() -> None:\n",
    "    listQ = [1, 3, 5]\n",
    "    print(\"Q\", listQ)\n",
    "    funcX(listQ)\n",
    "    print(\"Q\", listQ)\n",
    "\n",
    "main()"
   ]
  },
  {
   "cell_type": "markdown",
   "metadata": {
    "editable": true,
    "slideshow": {
     "slide_type": "skip"
    },
    "tags": [
     "blank"
    ]
   },
   "source": [
    "<p style=\"height:35em;\"></p>"
   ]
  },
  {
   "cell_type": "markdown",
   "metadata": {
    "editable": true,
    "slideshow": {
     "slide_type": ""
    },
    "tags": []
   },
   "source": [
    "_What is the output of the following program?_"
   ]
  },
  {
   "cell_type": "code",
   "execution_count": 12,
   "metadata": {
    "editable": true,
    "slideshow": {
     "slide_type": ""
    },
    "tags": [
     "worksheet-code-only"
    ]
   },
   "outputs": [
    {
     "name": "stdout",
     "output_type": "stream",
     "text": [
      "True\n",
      "True\n",
      "False\n",
      "True\n",
      "False\n",
      "True\n"
     ]
    }
   ],
   "source": [
    "def main() -> None:\n",
    "    intro = [101, 102]\n",
    "    courses = intro\n",
    "    print(courses is intro)\n",
    "    print(courses == intro)\n",
    "    courses = [intro[0], intro[1]]\n",
    "    print(courses is intro)\n",
    "    print(courses == intro)\n",
    "    courses = intro[:]\n",
    "    print(courses is intro)\n",
    "    print(courses == intro)\n",
    "    \n",
    "main()"
   ]
  },
  {
   "cell_type": "markdown",
   "metadata": {
    "editable": true,
    "slideshow": {
     "slide_type": "skip"
    },
    "tags": [
     "blank"
    ]
   },
   "source": [
    "<p style=\"height:5em;\"></p>"
   ]
  },
  {
   "cell_type": "markdown",
   "metadata": {
    "editable": true,
    "slideshow": {
     "slide_type": ""
    },
    "tags": []
   },
   "source": [
    "_What is the output of the following program?_"
   ]
  },
  {
   "cell_type": "code",
   "execution_count": 17,
   "metadata": {
    "editable": true,
    "slideshow": {
     "slide_type": ""
    },
    "tags": [
     "worksheet-code-only"
    ]
   },
   "outputs": [
    {
     "name": "stdout",
     "output_type": "stream",
     "text": [
      "[102]\n",
      "[102]\n",
      "True\n",
      "True\n",
      "[102]\n",
      "[102, 202, 208]\n",
      "False\n",
      "False\n"
     ]
    }
   ],
   "source": [
    "def enroll1(course: int, schedule: list) -> list:\n",
    "    schedule.append(course)\n",
    "    return schedule\n",
    "\n",
    "def enroll2(courses: list, schedule: list) -> list:\n",
    "    schedule = schedule + courses\n",
    "    return schedule\n",
    "    \n",
    "def main() -> None:\n",
    "    chosen = []\n",
    "    updated = enroll1(102, chosen)\n",
    "    print(chosen)\n",
    "    print(updated)\n",
    "    print(chosen is updated)\n",
    "    print(chosen == updated)\n",
    "    updated = enroll2([202, 208], chosen)\n",
    "    print(chosen)\n",
    "    print(updated)\n",
    "    print(chosen is updated)\n",
    "    print(chosen == updated)\n",
    "\n",
    "main()"
   ]
  },
  {
   "cell_type": "markdown",
   "metadata": {
    "editable": true,
    "slideshow": {
     "slide_type": "skip"
    },
    "tags": [
     "blank"
    ]
   },
   "source": [
    "<p style=\"height:10em;\"></p>"
   ]
  },
  {
   "cell_type": "markdown",
   "metadata": {
    "editable": true,
    "slideshow": {
     "slide_type": "fragment"
    },
    "tags": [
     "question"
    ]
   },
   "source": [
    "_Write a function called `remove_strings` that takes a list of values and returns a new list with all strings removed. For example, `remove_strings([\"Courses\", \"COSC\", 101, \"COSC\", 208, 11.01])` should return the list `[101, 208, 11.01]`. As another example, `remove_strings([\"ABC\", \"123\"])` should return an empty list `[]`._"
   ]
  },
  {
   "cell_type": "code",
   "execution_count": 8,
   "metadata": {
    "editable": true,
    "slideshow": {
     "slide_type": "skip"
    },
    "tags": [
     "answer"
    ]
   },
   "outputs": [
    {
     "data": {
      "text/plain": [
       "TestResults(failed=0, attempted=4)"
      ]
     },
     "execution_count": 8,
     "metadata": {},
     "output_type": "execute_result"
    }
   ],
   "source": [
    "def remove_strings(values: list) -> list:\n",
    "    \"\"\"\n",
    "    >>> remove_strings([\"Courses\", \"COSC\", 101, \"COSC\", 208, 11.01])\n",
    "    [101, 208, 11.01]\n",
    "    >>> remove_strings([\"ABC\", \"123\"])\n",
    "    []\n",
    "    \"\"\"\n",
    "    result = []\n",
    "    for value in values:\n",
    "        if (type(value) != str):\n",
    "            result.append(value)\n",
    "    return result\n",
    "\n",
    "import doctest\n",
    "doctest.testmod()"
   ]
  },
  {
   "cell_type": "markdown",
   "metadata": {
    "editable": true,
    "slideshow": {
     "slide_type": "skip"
    },
    "tags": [
     "blank"
    ]
   },
   "source": [
    "<p style=\"height:25em;\"></p>"
   ]
  },
  {
   "cell_type": "markdown",
   "metadata": {
    "editable": true,
    "slideshow": {
     "slide_type": "fragment"
    },
    "tags": [
     "question"
    ]
   },
   "source": [
    "_Write a function called `filter` that takes a string of numbers of separated by spaces and an integer cut-off and returns a list containing all numbers in the string that are less than the provided cut-off. For example, `filter(\"1 33 46 18 19\", 25)` should return the list `[1, 18, 19]`. As another example, `filter(\"316 208 212 101 214\", 13)` should return an empty list `[]`._"
   ]
  },
  {
   "cell_type": "code",
   "execution_count": 4,
   "metadata": {
    "editable": true,
    "slideshow": {
     "slide_type": "skip"
    },
    "tags": [
     "answer"
    ]
   },
   "outputs": [
    {
     "data": {
      "text/plain": [
       "TestResults(failed=0, attempted=2)"
      ]
     },
     "execution_count": 4,
     "metadata": {},
     "output_type": "execute_result"
    }
   ],
   "source": [
    "def filter(numbers: str, cutoff: int) -> list:\n",
    "    \"\"\"\n",
    "    >>> filter(\"1 33 46 18 19\", 25)\n",
    "    [1, 18, 19]\n",
    "    >>> filter(\"316 208 212 101 214\", 13)\n",
    "    []\n",
    "    \"\"\"\n",
    "    all_nums = numbers.split()\n",
    "    result_nums = []\n",
    "    for num in all_nums:\n",
    "        num = int(num)\n",
    "        if num < cutoff:\n",
    "            result_nums.append(num)\n",
    "    return result_nums\n",
    "\n",
    "import doctest\n",
    "doctest.testmod()"
   ]
  },
  {
   "cell_type": "markdown",
   "metadata": {
    "editable": true,
    "slideshow": {
     "slide_type": "skip"
    },
    "tags": [
     "blank"
    ]
   },
   "source": [
    "<p style=\"height:25em;\"></p>"
   ]
  },
  {
   "cell_type": "markdown",
   "metadata": {
    "editable": true,
    "slideshow": {
     "slide_type": "fragment"
    },
    "tags": [
     "question"
    ]
   },
   "source": [
    "_Write a function called `get_amounts` that repeatedly asks the user how much they purchased until they enter 0 and returns a list containing each of the purchase amounts (excluding 0). For example:_\n",
    "\n",
    "Prompts and user input:\n",
    "```\n",
    "How much was purchase 1? 100\n",
    "How much was purchase 2? 50\n",
    "How much was purchase 3? 200\n",
    "How much was purchase 4? 0\n",
    "```\n",
    "Return value:\n",
    "```\n",
    "[100, 50, 200]\n",
    "```"
   ]
  },
  {
   "cell_type": "code",
   "execution_count": 10,
   "metadata": {
    "editable": true,
    "slideshow": {
     "slide_type": "skip"
    },
    "tags": [
     "answer"
    ]
   },
   "outputs": [
    {
     "name": "stdin",
     "output_type": "stream",
     "text": [
      "How much was purchase 1?  100\n",
      "How much was purchase 2?  50\n",
      "How much was purchase 3?  200\n",
      "How much was purchase 4?  0\n"
     ]
    },
    {
     "data": {
      "text/plain": [
       "[100, 50, 200]"
      ]
     },
     "execution_count": 10,
     "metadata": {},
     "output_type": "execute_result"
    }
   ],
   "source": [
    "def get_amounts() -> list:\n",
    "    amounts = []\n",
    "    count = 1\n",
    "    amount = int(input(\"How much was purchase 1? \"))\n",
    "    while (amount > 0):\n",
    "        amounts.append(amount)\n",
    "        amount = int(input(\"How much was purchase \" + str(len(amounts) + 1) + \"? \"))\n",
    "    return amounts\n",
    "\n",
    "get_amounts()"
   ]
  },
  {
   "cell_type": "markdown",
   "metadata": {
    "editable": true,
    "slideshow": {
     "slide_type": "skip"
    },
    "tags": [
     "blank"
    ]
   },
   "source": [
    "<p style=\"height:15em;\"></p>"
   ]
  }
 ],
 "metadata": {
  "celltoolbar": "Slideshow",
  "kernelspec": {
   "display_name": "Python 3 (ipykernel)",
   "language": "python",
   "name": "python3"
  },
  "language_info": {
   "codemirror_mode": {
    "name": "ipython",
    "version": 3
   },
   "file_extension": ".py",
   "mimetype": "text/x-python",
   "name": "python",
   "nbconvert_exporter": "python",
   "pygments_lexer": "ipython3",
   "version": "3.9.6"
  }
 },
 "nbformat": 4,
 "nbformat_minor": 4
}
