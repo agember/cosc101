{
 "cells": [
  {
   "cell_type": "markdown",
   "id": "987722a8-1131-4cc1-a9b7-ef77049a6d31",
   "metadata": {
    "slideshow": {
     "slide_type": "skip"
    },
    "tags": []
   },
   "source": [
    "# modular programming; main function\n",
    "_COSC 101, Introduction to Computing I, 2021-09-29_"
   ]
  },
  {
   "cell_type": "markdown",
   "id": "4ffee73c-8255-4491-8559-c0ac06d07b4b",
   "metadata": {
    "jp-MarkdownHeadingCollapsed": true,
    "slideshow": {
     "slide_type": "skip"
    },
    "tags": []
   },
   "source": [
    "## Announcements\n",
    "* Homework 3 due tomorrow at 5pm"
   ]
  },
  {
   "cell_type": "markdown",
   "id": "e16cf416-b109-4f63-b1bc-aa3aa78fb471",
   "metadata": {
    "jp-MarkdownHeadingCollapsed": true,
    "slideshow": {
     "slide_type": "skip"
    },
    "tags": [
     "notes-only"
    ]
   },
   "source": [
    "## Outline\n",
    "* Mid-semester feedback\n",
    "* Warm-up\n",
    "* Modular programming\n",
    "* main function"
   ]
  },
  {
   "cell_type": "markdown",
   "id": "384cebe0-e93c-465c-a926-33f72efda5ab",
   "metadata": {},
   "source": [
    "## Warm-up\n",
    "_What is the output of this program?_"
   ]
  },
  {
   "cell_type": "code",
   "execution_count": 9,
   "id": "3a93663c-6d7f-45ee-999e-6ffe23bfb83d",
   "metadata": {
    "tags": [
     "worksheet-code-only"
    ]
   },
   "outputs": [
    {
     "name": "stdout",
     "output_type": "stream",
     "text": [
      "A B\n",
      "AB\n",
      "B A\n",
      "A B None\n"
     ]
    }
   ],
   "source": [
    "def func1(x, y):\n",
    "    print(x, y)\n",
    "    return x + y\n",
    "\n",
    "def func2(x, y):\n",
    "    z = x\n",
    "    x = y\n",
    "    y = z\n",
    "    print(x, y)\n",
    "\n",
    "x = \"A\"\n",
    "y = \"B\"\n",
    "result1 = func1(x, y)\n",
    "print(result1)\n",
    "result2 = func2(x, y)\n",
    "print(x, y, result2)"
   ]
  },
  {
   "cell_type": "markdown",
   "id": "f30e75f8-30a3-4edd-9aeb-07661180b302",
   "metadata": {
    "slideshow": {
     "slide_type": "skip"
    },
    "tags": [
     "worksheet-only"
    ]
   },
   "source": [
    "```\n",
    "\n",
    "\n",
    "\n",
    "\n",
    "\n",
    "```\n",
    "🛑 **STOP HERE** after completing the warm-up question; please **DO NOT WORK AHEAD**. If you have extra time, work on the extra practice problems at the end of the worksheet.\n",
    "<div style=\"page-break-after:always;\"></div>"
   ]
  },
  {
   "cell_type": "markdown",
   "id": "f3be3ce2-345e-4244-ac4c-e64b949f48fe",
   "metadata": {
    "slideshow": {
     "slide_type": "slide"
    },
    "tags": []
   },
   "source": [
    "## Modular programming"
   ]
  },
  {
   "cell_type": "markdown",
   "id": "91bcfa7c-ffdf-4276-8976-be09417baccb",
   "metadata": {
    "slideshow": {
     "slide_type": "skip"
    },
    "tags": [
     "notes-only"
    ]
   },
   "source": [
    "* Final program from last class demonstrates modular programming\n",
    "    * Recall: decomposition (breaking a problem into sub-problems) is the first step of computational thinking\n",
    "    * Recall: a good programming practice is to decompose the solution and implement one step at a time"
   ]
  },
  {
   "cell_type": "code",
   "execution_count": 1,
   "id": "83cf41e4-d882-49c2-aead-56e4874c6f49",
   "metadata": {
    "slideshow": {
     "slide_type": "subslide"
    },
    "tags": [
     "notes-only"
    ]
   },
   "outputs": [
    {
     "name": "stdout",
     "output_type": "stream",
     "text": [
      "Exam grade: B 80.0%\n"
     ]
    }
   ],
   "source": [
    "def compute_exam_average(exam1, exam2, exam3):\n",
    "    total = exam1 + exam2 + exam3\n",
    "    average = total / 3\n",
    "    return average\n",
    "\n",
    "def convert_to_letter(grade):\n",
    "    if grade >= 90:\n",
    "        return \"A\"\n",
    "    elif grade >= 80:\n",
    "        return \"B\"\n",
    "    elif grade >= 70:\n",
    "        return \"C\"\n",
    "    elif grade >= 60:\n",
    "        return \"D\"\n",
    "    else:\n",
    "        return \"F\"\n",
    "\n",
    "percent = compute_exam_average(75, 85, 80)\n",
    "letter = convert_to_letter(percent)\n",
    "print(\"Exam grade:\", letter, str(percent) + \"%\")"
   ]
  },
  {
   "cell_type": "markdown",
   "id": "61ef67bf-b007-4681-bf93-5bf4bbdf771b",
   "metadata": {
    "slideshow": {
     "slide_type": "skip"
    },
    "tags": [
     "notes-only"
    ]
   },
   "source": [
    "* Modular programming also enables code reuse"
   ]
  },
  {
   "cell_type": "code",
   "execution_count": 21,
   "id": "06a71fb6-107b-4a07-9cbc-7438b2d49da4",
   "metadata": {
    "tags": [
     "notes-only"
    ]
   },
   "outputs": [
    {
     "name": "stdout",
     "output_type": "stream",
     "text": [
      "Homework grade: A 92.0%\n"
     ]
    }
   ],
   "source": [
    "def compute_homework_average(hw1, hw2, hw3, hw4, hw5):\n",
    "    total = hw1 + hw2 + hw3 + hw4 + hw5\n",
    "    average = total / 5\n",
    "    return average\n",
    "\n",
    "percent = compute_homework_average(95, 90, 93, 87, 95)\n",
    "letter = convert_to_letter(percent)\n",
    "print(\"Homework grade:\", letter, str(percent) + \"%\")"
   ]
  },
  {
   "cell_type": "markdown",
   "id": "36987a21-b4f3-4b6e-a909-532a92146cb8",
   "metadata": {
    "slideshow": {
     "slide_type": "slide"
    },
    "tags": [
     "notes-only"
    ]
   },
   "source": [
    "### Practice"
   ]
  },
  {
   "cell_type": "markdown",
   "id": "d99eb89f-bba9-42a9-9be8-e68e00e0324d",
   "metadata": {},
   "source": [
    "_Convert each of the following programs into a modular version with at least one function_"
   ]
  },
  {
   "cell_type": "code",
   "execution_count": 42,
   "id": "20cf42ba-328c-445a-b9c8-3890dba4f5af",
   "metadata": {
    "tags": [
     "worksheet-code-only"
    ]
   },
   "outputs": [
    {
     "name": "stdout",
     "output_type": "stream",
     "text": [
      "15200\n"
     ]
    }
   ],
   "source": [
    "#1)\n",
    "standard_wall_height = 10\n",
    "\n",
    "# Calculate square feet of wall space in offices\n",
    "office_short_wall = standard_wall_height * 8\n",
    "office_long_wall = standard_wall_height * 12\n",
    "per_office = 2 * office_short_wall + 2 * office_long_wall\n",
    "total_office = 10 * per_office\n",
    "\n",
    "# Calculate square feet of wall space in classrooms\n",
    "classroom_short_wall = standard_wall_height * 25\n",
    "classroom_long_wall = standard_wall_height * 40\n",
    "per_classroom = 2 * classroom_short_wall + 2 * classroom_long_wall\n",
    "total_classroom = 4 * per_classroom\n",
    "\n",
    "# Calculate square feet of wall space in hallways\n",
    "hallway_long_wall = standard_wall_height * 150\n",
    "per_hallway = 2 * hallway_long_wall\n",
    "total_hallway = 2 * per_hallway\n",
    "\n",
    "# Calculate square feet of wall space in total\n",
    "total = total_office + total_classroom + total_hallway\n",
    "print(total)"
   ]
  },
  {
   "cell_type": "code",
   "execution_count": 41,
   "id": "405c4edc-1873-4a02-bc26-5ac62bc221c9",
   "metadata": {
    "slideshow": {
     "slide_type": "skip"
    },
    "tags": [
     "notes-only"
    ]
   },
   "outputs": [
    {
     "name": "stdout",
     "output_type": "stream",
     "text": [
      "15200\n"
     ]
    }
   ],
   "source": [
    "standard_wall_height = 10\n",
    "\n",
    "def room_walls(width, length):\n",
    "    wallA = standard_wall_height * width\n",
    "    wallB = standard_wall_height * length\n",
    "    return 2 * wallA + 2 * wallB\n",
    "\n",
    "def rooms_total(count, width, length):\n",
    "    return count * room_walls(width, length)\n",
    "\n",
    "total_floor = rooms_total(10, 8, 12) + rooms_total(4, 25, 40) + rooms_total(2, 0, 150)\n",
    "print(total_floor)"
   ]
  },
  {
   "cell_type": "markdown",
   "id": "3e296c7f-9511-4279-8a47-1a41133dd69a",
   "metadata": {
    "slideshow": {
     "slide_type": "skip"
    },
    "tags": [
     "worksheet-only"
    ]
   },
   "source": [
    "<div style=\"page-break-after:always;\"></div>"
   ]
  },
  {
   "cell_type": "code",
   "execution_count": 43,
   "id": "7f3b7dbe-99eb-42f1-ab86-91e82ce1d541",
   "metadata": {
    "slideshow": {
     "slide_type": "subslide"
    },
    "tags": [
     "worksheet-code-only"
    ]
   },
   "outputs": [
    {
     "name": "stdout",
     "output_type": "stream",
     "text": [
      "Boston College won\n",
      "Stony Brook won\n",
      "W&M won\n",
      "Colgate won 0 games\n"
     ]
    }
   ],
   "source": [
    "#2)\n",
    "wins = 0\n",
    "\n",
    "# First game\n",
    "colgate_score = 0\n",
    "boston_college_score = 51\n",
    "if (colgate_score > boston_college_score):\n",
    "    print(\"Colgate won\")\n",
    "    wins = wins + 1\n",
    "else:\n",
    "    print(\"Boston College won\")\n",
    "\n",
    "# Second game\n",
    "colgate_score = 3\n",
    "stony_brook_score = 24\n",
    "if (colgate_score > stony_brook_score):\n",
    "    print(\"Colgate won\")\n",
    "    wins = wins + 1\n",
    "else:\n",
    "    print(\"Stony Brook won\")\n",
    "    \n",
    "# Third game\n",
    "colgate_score = 7\n",
    "wm_score = 27\n",
    "if (colgate_score > wm_score):\n",
    "    print(\"Colgate won\")\n",
    "    wins = wins + 1\n",
    "else:\n",
    "    print(\"W&M won\")\n",
    "    \n",
    "print(\"Colgate won\", wins, \"games\")"
   ]
  },
  {
   "cell_type": "code",
   "execution_count": 3,
   "id": "bc69e705-9666-482e-ae39-b462f69904ea",
   "metadata": {
    "slideshow": {
     "slide_type": "skip"
    },
    "tags": [
     "notes-only"
    ]
   },
   "outputs": [
    {
     "name": "stdout",
     "output_type": "stream",
     "text": [
      "Boston College won\n",
      "Stony Brook won\n",
      "W&M won\n",
      "Colgate won 0 games\n"
     ]
    }
   ],
   "source": [
    "def winner(colgate_score, oponent, oponent_score):\n",
    "    if (colgate_score > oponent_score):\n",
    "        print(\"Colgate won\")\n",
    "        win = True\n",
    "    else:\n",
    "        print(oponent, \"won\")\n",
    "        win = False\n",
    "    return win\n",
    "\n",
    "wins = 0\n",
    "if (winner(0, \"Boston College\", 51)):\n",
    "    wins = wins + 1\n",
    "if (winner(3, \"Stony Brook\", 24)):\n",
    "    wins = wins + 1\n",
    "if (winner(7, \"W&M\", 27)):\n",
    "    wins = wins + 1 \n",
    "print(\"Colgate won\", wins, \"games\")"
   ]
  },
  {
   "cell_type": "markdown",
   "id": "0fe46851-d12b-41af-b3e1-3bbe853a60a6",
   "metadata": {
    "slideshow": {
     "slide_type": "skip"
    },
    "tags": [
     "worksheet-only"
    ]
   },
   "source": [
    "<div style=\"page-break-after:always;\"></div>"
   ]
  },
  {
   "cell_type": "markdown",
   "id": "85c38b9c-a528-48df-83b4-fcdf7cae8ece",
   "metadata": {
    "tags": [
     "notes-only"
    ]
   },
   "source": [
    "## main function"
   ]
  },
  {
   "cell_type": "markdown",
   "id": "238d9c50-a39f-4455-99fa-7d3779f71a8f",
   "metadata": {
    "tags": [
     "notes-only"
    ]
   },
   "source": [
    "### Overview\n",
    "* Include a function called `main` with the primary set of statements the program should execute\n",
    "* Calling the function `main` is a common convention, but this name is not required\n",
    "* The only code that should appear outside of a function is a call to `main` (at the very end of the code)\n",
    "\n",
    "### Example"
   ]
  },
  {
   "cell_type": "code",
   "execution_count": 4,
   "id": "2ef0dcb3-0873-46e8-ba2d-a8da1b215232",
   "metadata": {
    "tags": [
     "notes-only"
    ]
   },
   "outputs": [
    {
     "name": "stdout",
     "output_type": "stream",
     "text": [
      "Boston College won\n",
      "Stony Brook won\n",
      "W&M won\n",
      "Colgate won 0 games\n"
     ]
    }
   ],
   "source": [
    "def main():\n",
    "    wins = 0\n",
    "    if (winner(0, \"Boston College\", 51)):\n",
    "        wins = wins + 1\n",
    "    if (winner(3, \"Stony Brook\", 24)):\n",
    "        wins = wins + 1\n",
    "    if (winner(7, \"W&M\", 27)):\n",
    "        wins = wins + 1 \n",
    "    print(\"Colgate won\", wins, \"games\")\n",
    "\n",
    "main()"
   ]
  },
  {
   "cell_type": "markdown",
   "id": "9cb6b3ed-bb09-4da0-a814-65311ecf7fff",
   "metadata": {},
   "source": [
    "## Extra practice"
   ]
  },
  {
   "cell_type": "markdown",
   "id": "16430d08-23b8-4c82-b3ec-55e4a6922043",
   "metadata": {},
   "source": [
    "_What is the output of each of the following programs?_"
   ]
  },
  {
   "cell_type": "code",
   "execution_count": 26,
   "id": "ceb656a4-2819-4fdb-b925-d11bc97ef3e2",
   "metadata": {
    "tags": [
     "worksheet-code-only"
    ]
   },
   "outputs": [
    {
     "name": "stdout",
     "output_type": "stream",
     "text": [
      "Z\n",
      "Y\n",
      "XY\n",
      "X\n",
      "YZ\n",
      "YYZ\n",
      "ZYYZ\n",
      "WYYZ\n",
      "YYZX\n"
     ]
    }
   ],
   "source": [
    "#1)\n",
    "def func1(a, b, c):\n",
    "    print(b)\n",
    "    print(a)\n",
    "    print(c + a)\n",
    "    return a + b\n",
    "\n",
    "def func2(a, b, c):\n",
    "    print(b)\n",
    "    return c + a\n",
    "\n",
    "def func3(a, b, c):\n",
    "    print(\"W\"+b)\n",
    "    return b + a\n",
    "\n",
    "a = \"X\"\n",
    "b = \"Y\"\n",
    "c = \"Z\"\n",
    "d = func1(b, c, a)\n",
    "e = func2(d, a, b)\n",
    "print(func3(a, e, func1(e, d, c)))"
   ]
  },
  {
   "cell_type": "markdown",
   "id": "b38f0d07-99d8-4c02-bcac-1887bfdb7fe6",
   "metadata": {
    "tags": [
     "worksheet-only"
    ]
   },
   "source": [
    "<div style=\"page-break-after:always;\"></div>"
   ]
  },
  {
   "cell_type": "code",
   "execution_count": 27,
   "id": "a9b12674-7d52-40f5-8f21-b583cbc0423a",
   "metadata": {
    "tags": [
     "worksheet-code-only"
    ]
   },
   "outputs": [
    {
     "name": "stdout",
     "output_type": "stream",
     "text": [
      "49\n"
     ]
    }
   ],
   "source": [
    "#2)\n",
    "def alpha(x, y):\n",
    "    return x + y\n",
    "\n",
    "def beta(x):\n",
    "    z = alpha(x, 3)\n",
    "    return z**2\n",
    "\n",
    "i = 4\n",
    "print(beta(i))"
   ]
  },
  {
   "cell_type": "markdown",
   "id": "3b76c587-6645-4571-a7d6-171e9250802b",
   "metadata": {
    "tags": [
     "worksheet-only"
    ]
   },
   "source": [
    "```\n",
    "\n",
    "```"
   ]
  },
  {
   "cell_type": "code",
   "execution_count": 25,
   "id": "f3ec9714-d8f9-4bd3-9e2b-14994efed405",
   "metadata": {
    "tags": [
     "worksheet-code-only"
    ]
   },
   "outputs": [
    {
     "name": "stdin",
     "output_type": "stream",
     "text": [
      "How much did you earn?  54500\n",
      "How much did you contribute to charity?  500\n",
      "How much did you contribute to a traditional IRA?  1000\n"
     ]
    },
    {
     "name": "stdout",
     "output_type": "stream",
     "text": [
      "Your taxable income is $41950.0\n"
     ]
    }
   ],
   "source": [
    "#3)\n",
    "def contribute(item):\n",
    "    \"\"\"Ask for person's contributions to something\"\"\"\n",
    "    amount = float(input(\"How much did you contribute to \"+item+\"? \"))\n",
    "    return amount\n",
    "    \n",
    "def compute_deductions():\n",
    "    \"\"\"Calculate total deduction\"\"\"\n",
    "    charity = contribute(\"charity\")\n",
    "    ira = contribute(\"a traditional IRA\")\n",
    "    itemized = charity + ira\n",
    "    if itemized < 12550:\n",
    "        itemized = 12550\n",
    "    return itemized\n",
    "\n",
    "def taxable(income, deductions):\n",
    "    taxable = income - deductions\n",
    "    return taxable\n",
    "\n",
    "def main():\n",
    "    income = float(input(\"How much did you earn? \"))\n",
    "    deductions = compute_deductions()\n",
    "    net = taxable(income, deductions)\n",
    "    print(\"Your taxable income is $\"+str(net))\n",
    "\n",
    "main()"
   ]
  },
  {
   "cell_type": "markdown",
   "id": "4103908e-e109-4602-b7ac-469e8d362033",
   "metadata": {},
   "source": [
    "Use inputs: `54000`, `500`, `1000`"
   ]
  }
 ],
 "metadata": {
  "kernelspec": {
   "display_name": "Python 3 (ipykernel)",
   "language": "python",
   "name": "python3"
  },
  "language_info": {
   "codemirror_mode": {
    "name": "ipython",
    "version": 3
   },
   "file_extension": ".py",
   "mimetype": "text/x-python",
   "name": "python",
   "nbconvert_exporter": "python",
   "pygments_lexer": "ipython3",
   "version": "3.8.2"
  }
 },
 "nbformat": 4,
 "nbformat_minor": 5
}
