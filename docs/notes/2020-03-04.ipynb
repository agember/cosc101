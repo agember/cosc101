{
 "cells": [
  {
   "cell_type": "markdown",
   "metadata": {
    "slideshow": {
     "slide_type": "skip"
    }
   },
   "source": [
    "# 2020-03-04: Iteration & Strings: string methods (continued); iteration with strings"
   ]
  },
  {
   "cell_type": "markdown",
   "metadata": {
    "slideshow": {
     "slide_type": "skip"
    },
    "tags": [
     "notes-only"
    ]
   },
   "source": [
    "# Announcements\n",
    "* Homework #6 due tomorrow @ 11pm\n",
    "* Exam #2 next Wednesday"
   ]
  },
  {
   "cell_type": "markdown",
   "metadata": {
    "slideshow": {
     "slide_type": "slide"
    }
   },
   "source": [
    "# Warm-up\n",
    "*Write a function `slice(phrase, word)` that prints the slice notation for extracting `word` from `phrase`*\n",
    "\n",
    "Examples:\n",
    "* `slice(\"A piece of pizza\", \"of\")` should return `\"[8:10]\"`\n",
    "* `slice(\"A piece of pizza\", \"pie\")` should return `\"[2:5]\"`\n",
    "* `slice(\"A piece of pizza\", \"A\")` should return `\"[:1]\"`\n",
    "* `slice(\"A piece of pizza\", \"pizza\")` should return `\"[11:]\"`"
   ]
  },
  {
   "cell_type": "markdown",
   "metadata": {
    "slideshow": {
     "slide_type": "skip"
    },
    "tags": [
     "worksheet-only"
    ]
   },
   "source": [
    "```\n",
    "\n",
    "\n",
    "\n",
    "\n",
    "\n",
    "\n",
    "\n",
    "\n",
    "\n",
    "\n",
    "\n",
    "```"
   ]
  },
  {
   "cell_type": "code",
   "execution_count": 1,
   "metadata": {
    "slideshow": {
     "slide_type": "fragment"
    },
    "tags": [
     "notes-only"
    ]
   },
   "outputs": [],
   "source": [
    "def slice(phrase, word):\n",
    "    \"\"\"Print the slice notation for extracting word from phrase\"\"\"\n",
    "    start = phrase.find(word)\n",
    "    end = start + len(word)\n",
    "    if start == 0:\n",
    "        start = \"\"\n",
    "    if end == len(phrase):\n",
    "        end = \"\"\n",
    "    return \"[{}:{}]\".format(start, end)"
   ]
  },
  {
   "cell_type": "markdown",
   "metadata": {
    "slideshow": {
     "slide_type": "slide"
    }
   },
   "source": [
    "# String operations\n",
    "* `+` — concatenates two strings\n",
    "    * Example: `\"ab\" + \"12\"` is `\"ab12\"`\n",
    "* `*` — repeats a string\n",
    "    * Example: `\"ab\" * 3` is `\"ababab\"`\n",
    "* `in` — true if one string exists within another string, otherwise false\n",
    "    * Example: `\"at\" in \"cat\"` is `True`\n",
    "* `not in` — true if one string does not exist within another string, otherwise false\n",
    "    * Example: `\"b\" not in \"cat\"` is `True`"
   ]
  },
  {
   "cell_type": "markdown",
   "metadata": {
    "slideshow": {
     "slide_type": "slide"
    }
   },
   "source": [
    "# String functions\n",
    "* `len(string)` — returns the length of a string\n",
    "    * Example: `len(\"abc\")` returns `3`\n",
    "* `ord(singleCharString)` — returns the numeric code corresponding to a character\n",
    "    * Example: `ord('A')` returns `65`\n",
    "* `chr(number)` — returns the character corresponding to a  numeric code\n",
    "    * Example: `chr(65)` returns `'A'`"
   ]
  },
  {
   "cell_type": "markdown",
   "metadata": {
    "slideshow": {
     "slide_type": "slide"
    }
   },
   "source": [
    "# String methods\n",
    "* `upper()`, `lower()` — converts all characters to upper or lower case\n",
    "    * Example: `\"abc\".upper()` returns `\"ABC\"`\n",
    "* `strip()`, `lstrip()`, `rstrip()` — removes leading/trailing whitespace (space, tab, newline)\n",
    "    * Example: `\" ab \".strip()` returns `\"ab\"`\n",
    "* `replace(old, new)` — replace all occurrences of one substring with another\n",
    "    * Example: `\"cat in the hat\".replace(\"hat\", \"tie\")` returns `\"cat in the tie\"`\n",
    "* `find(substring)`, `rfind(substring)` — get index where substring is found\n",
    "    * Example: `\"cat in the hat\".find(\"in\")` returns `4`"
   ]
  },
  {
   "cell_type": "markdown",
   "metadata": {
    "slideshow": {
     "slide_type": "slide"
    }
   },
   "source": [
    "# Iterating by character example"
   ]
  },
  {
   "cell_type": "code",
   "execution_count": 2,
   "metadata": {
    "slideshow": {
     "slide_type": "-"
    }
   },
   "outputs": [
    {
     "name": "stdout",
     "output_type": "stream",
     "text": [
      "c\n",
      "a\n",
      "t\n"
     ]
    }
   ],
   "source": [
    "word = 'cat'\n",
    "for character in word:\n",
    "    print(character)"
   ]
  },
  {
   "cell_type": "markdown",
   "metadata": {
    "slideshow": {
     "slide_type": "slide"
    }
   },
   "source": [
    "# Iterating by index examples"
   ]
  },
  {
   "cell_type": "code",
   "execution_count": 3,
   "metadata": {
    "slideshow": {
     "slide_type": "-"
    }
   },
   "outputs": [
    {
     "name": "stdout",
     "output_type": "stream",
     "text": [
      "c\n",
      "a\n",
      "t\n"
     ]
    }
   ],
   "source": [
    "word = 'cat'\n",
    "for index in range(len(word)):\n",
    "    print(word[index])"
   ]
  },
  {
   "cell_type": "code",
   "execution_count": 4,
   "metadata": {
    "slideshow": {
     "slide_type": "fragment"
    }
   },
   "outputs": [
    {
     "name": "stdout",
     "output_type": "stream",
     "text": [
      "c\n",
      "a\n",
      "t\n"
     ]
    }
   ],
   "source": [
    "word = 'cat'\n",
    "index = 0\n",
    "while index < len(word):\n",
    "    print(word[index])\n",
    "    index = index + 1"
   ]
  },
  {
   "cell_type": "markdown",
   "metadata": {
    "slideshow": {
     "slide_type": "slide"
    }
   },
   "source": [
    "# String iteration practice\n",
    "*What is the output of each of the following programs?*"
   ]
  },
  {
   "cell_type": "code",
   "execution_count": 5,
   "metadata": {
    "slideshow": {
     "slide_type": "-"
    },
    "tags": [
     "worksheet-code-only"
    ]
   },
   "outputs": [
    {
     "name": "stdout",
     "output_type": "stream",
     "text": [
      "W\n",
      "I\n",
      "D\n"
     ]
    }
   ],
   "source": [
    "def funcA(word):\n",
    "    for i in range(len(word)):\n",
    "        if i % 3 == 0:\n",
    "            print(word[i])\n",
    "        \n",
    "funcA('WIKIPEDIA')"
   ]
  },
  {
   "cell_type": "code",
   "execution_count": 6,
   "metadata": {
    "slideshow": {
     "slide_type": "fragment"
    },
    "tags": [
     "worksheet-code-only"
    ]
   },
   "outputs": [
    {
     "name": "stdout",
     "output_type": "stream",
     "text": [
      "MaGiCaL"
     ]
    }
   ],
   "source": [
    "def funcB(word):\n",
    "    for i in range(len(word)):\n",
    "        if i % 2 == 0:\n",
    "            print(word[i].upper(), end=\"\")\n",
    "        else:\n",
    "            print(word[i], end=\"\")\n",
    "            \n",
    "funcB('magical')"
   ]
  },
  {
   "cell_type": "code",
   "execution_count": 7,
   "metadata": {
    "slideshow": {
     "slide_type": "fragment"
    },
    "tags": [
     "worksheet-code-only"
    ]
   },
   "outputs": [
    {
     "name": "stdout",
     "output_type": "stream",
     "text": [
      "?deneppah tahW"
     ]
    }
   ],
   "source": [
    "def funcC(phrase):\n",
    "    stop = (len(phrase) + 1) * -1\n",
    "    for i in range(-1, stop, -1):\n",
    "        print(phrase[i], end=\"\")\n",
    "\n",
    "funcC('What happened?')"
   ]
  },
  {
   "cell_type": "markdown",
   "metadata": {
    "slideshow": {
     "slide_type": "slide"
    }
   },
   "source": [
    "# Accumulator pattern example"
   ]
  },
  {
   "cell_type": "code",
   "execution_count": 8,
   "metadata": {
    "slideshow": {
     "slide_type": "-"
    }
   },
   "outputs": [
    {
     "name": "stdout",
     "output_type": "stream",
     "text": [
      "MaGiCaL\n"
     ]
    }
   ],
   "source": [
    "def funcB_accum(word):\n",
    "    result = \"\"\n",
    "    for i in range(len(word)):\n",
    "        if i % 2 == 0:\n",
    "            result = result + word[i].upper()\n",
    "        else:\n",
    "            result = result + word[i]\n",
    "    return result\n",
    "\n",
    "print(funcB_accum('magical'))"
   ]
  },
  {
   "cell_type": "markdown",
   "metadata": {
    "slideshow": {
     "slide_type": "slide"
    }
   },
   "source": [
    "# Accumulator pattern practice\n",
    "*What is the output of the following programs?*"
   ]
  },
  {
   "cell_type": "code",
   "execution_count": 9,
   "metadata": {
    "slideshow": {
     "slide_type": "-"
    },
    "tags": [
     "worksheet-code-only"
    ]
   },
   "outputs": [
    {
     "name": "stdout",
     "output_type": "stream",
     "text": [
      "alabama\n"
     ]
    }
   ],
   "source": [
    "def funcA(consonants, vowel):\n",
    "    result = vowel\n",
    "    for ch in consonants:\n",
    "        result = result + ch + vowel\n",
    "    return result\n",
    "\n",
    "print(funcA('lbm', 'a'))"
   ]
  },
  {
   "cell_type": "code",
   "execution_count": 10,
   "metadata": {
    "slideshow": {
     "slide_type": "-"
    },
    "tags": [
     "worksheet-code-only"
    ]
   },
   "outputs": [
    {
     "name": "stdout",
     "output_type": "stream",
     "text": [
      "mississippi\n"
     ]
    }
   ],
   "source": [
    "def funcB(start, consonants, vowel):\n",
    "    result = start\n",
    "    for ch in consonants:\n",
    "        result = result + vowel + ch * 2\n",
    "    return result + vowel\n",
    "\n",
    "print(funcB('m','ssp','i'))"
   ]
  },
  {
   "cell_type": "markdown",
   "metadata": {
    "slideshow": {
     "slide_type": "skip"
    }
   },
   "source": [
    "# Programming practice\n",
    "\n",
    "a. Write a function `remove_digits(phrase)` that removes all digits from `phrase`\n",
    "\n",
    "Examples:\n",
    "* `remove_digits(\"abc123\")` should return `\"abc\"`\n",
    "* `remove_digits(\"a1b2c3\")` should return `\"abc\"`"
   ]
  },
  {
   "cell_type": "markdown",
   "metadata": {
    "slideshow": {
     "slide_type": "skip"
    },
    "tags": [
     "worksheet-only"
    ]
   },
   "source": [
    "```\n",
    "\n",
    "\n",
    "\n",
    "\n",
    "\n",
    "\n",
    "\n",
    "\n",
    "\n",
    "\n",
    "\n",
    "\n",
    "\n",
    "\n",
    "\n",
    "\n",
    "\n",
    "\n",
    "```"
   ]
  },
  {
   "cell_type": "code",
   "execution_count": 11,
   "metadata": {
    "slideshow": {
     "slide_type": "skip"
    },
    "tags": [
     "notes-only"
    ]
   },
   "outputs": [],
   "source": [
    "def remove_digits(phrase):\n",
    "    \"\"\"Remove all digits from phrase\"\"\"\n",
    "    result = \"\"\n",
    "    for character in phrase:\n",
    "        if character not in \"0123456789\":\n",
    "            result = result + character\n",
    "    return result"
   ]
  },
  {
   "cell_type": "markdown",
   "metadata": {
    "slideshow": {
     "slide_type": "skip"
    }
   },
   "source": [
    "b. Write a function `caesar(text, shift)` that changes every character in `word` to be the the character `shift` characters away from it in the alphabet.\n",
    "\n",
    "Examples:\n",
    "* `caesar(\"CAB\", 1)` should return `\"DBC\"`\n",
    "* `caesar(\"dog\", 1)` should return `\"EPH\"`\n",
    "* `caesar(\"FUN\", 2)` should return `\"HWP\"`\n",
    "* `caesar(\"YB\", 2)` should return `\"AD\"`"
   ]
  },
  {
   "cell_type": "markdown",
   "metadata": {
    "slideshow": {
     "slide_type": "skip"
    },
    "tags": [
     "worksheet-only"
    ]
   },
   "source": [
    "```\n",
    "\n",
    "\n",
    "\n",
    "\n",
    "\n",
    "\n",
    "\n",
    "\n",
    "\n",
    "\n",
    "\n",
    "\n",
    "\n",
    "\n",
    "\n",
    "\n",
    "\n",
    "\n",
    "```"
   ]
  },
  {
   "cell_type": "code",
   "execution_count": 12,
   "metadata": {
    "slideshow": {
     "slide_type": "skip"
    },
    "tags": [
     "notes-only"
    ]
   },
   "outputs": [],
   "source": [
    "def caesar(word, shift):\n",
    "    \"\"\"Apply a Caesar cipher to word\"\"\"\n",
    "    result = \"\"\n",
    "    for character in word.upper():\n",
    "        current_position = ord(character) - ord('A')\n",
    "        new_position = (current_position + shift) % 26\n",
    "        new_code = new_position + ord('A')\n",
    "        result = result + chr(new_code)\n",
    "    return result        "
   ]
  },
  {
   "cell_type": "markdown",
   "metadata": {
    "slideshow": {
     "slide_type": "skip"
    }
   },
   "source": [
    "c. Write a function `capitalize(location)` that properly capitalizes the city name and country code in the `location`\n",
    "\n",
    "Examples:\n",
    "* `capitalize(\"london, uk\")` should return `\"London, UK\"`\n",
    "* `capitalize(\"los angeles, us\")` should return `\"Los Angeles, US\"`"
   ]
  },
  {
   "cell_type": "markdown",
   "metadata": {
    "slideshow": {
     "slide_type": "skip"
    },
    "tags": [
     "worksheet-only"
    ]
   },
   "source": [
    "```\n",
    "\n",
    "\n",
    "\n",
    "\n",
    "\n",
    "\n",
    "\n",
    "\n",
    "\n",
    "\n",
    "\n",
    "\n",
    "\n",
    "\n",
    "\n",
    "\n",
    "\n",
    "\n",
    "```"
   ]
  },
  {
   "cell_type": "code",
   "execution_count": 13,
   "metadata": {
    "slideshow": {
     "slide_type": "skip"
    },
    "tags": [
     "notes-only"
    ]
   },
   "outputs": [],
   "source": [
    "def capitalize(location):\n",
    "    \"\"\"Properly capitalize a city name and country code\"\"\"\n",
    "    result = \"\"\n",
    "    after_comma = False\n",
    "    for index in range(len(location)):\n",
    "        if location[index] == ',':\n",
    "            after_comma = True\n",
    "        if after_comma or index == 0 or location[index-1] == ' ':\n",
    "            result = result + location[index].upper()\n",
    "        else:\n",
    "            result = result + location[index]\n",
    "    return result"
   ]
  }
 ],
 "metadata": {
  "celltoolbar": "Tags",
  "kernelspec": {
   "display_name": "Python 3",
   "language": "python",
   "name": "python3"
  },
  "language_info": {
   "codemirror_mode": {
    "name": "ipython",
    "version": 3
   },
   "file_extension": ".py",
   "mimetype": "text/x-python",
   "name": "python",
   "nbconvert_exporter": "python",
   "pygments_lexer": "ipython3",
   "version": "3.7.6"
  }
 },
 "nbformat": 4,
 "nbformat_minor": 4
}
