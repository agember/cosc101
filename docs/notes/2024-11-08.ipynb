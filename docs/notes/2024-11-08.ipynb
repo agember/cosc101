{
 "cells": [
  {
   "cell_type": "markdown",
   "metadata": {
    "editable": true,
    "slideshow": {
     "slide_type": "skip"
    },
    "tags": []
   },
   "source": [
    "# Files: exceptions\n",
    "_COSC 101, Introduction to Computing I, 2024-11-08_"
   ]
  },
  {
   "cell_type": "markdown",
   "metadata": {
    "editable": true,
    "slideshow": {
     "slide_type": "skip"
    },
    "tags": []
   },
   "source": [
    "## CSV files"
   ]
  },
  {
   "cell_type": "markdown",
   "metadata": {
    "editable": true,
    "slideshow": {
     "slide_type": "skip"
    },
    "tags": [
     "notes-only"
    ]
   },
   "source": [
    "* A comma-separated variable (CSV) file is often used to store data\n",
    "* Each line in a CSV file is like a row in a table (or spreadsheet)\n",
    "* A comma (`,`) is used to delineate the values (or columns) within each line (or row)\n",
    "* The first line of the file usually contains column names"
   ]
  },
  {
   "cell_type": "markdown",
   "metadata": {
    "editable": true,
    "slideshow": {
     "slide_type": ""
    },
    "tags": []
   },
   "source": [
    "Assume the file `people.csv` contains the following data on notable computer scientists:\n",
    "```\n",
    "LastName,FirstName,KnownFor\n",
    "Johnson,Katherine,was a \"human computer\" at NASA\n",
    "Dean,Mark,co-created the IBM personal computer\n",
    "Berners-Lee,Tim,invented the World Wide Web\n",
    "Hopper,Grace,found the first computer bug\n",
    "```"
   ]
  },
  {
   "cell_type": "code",
   "execution_count": 17,
   "metadata": {
    "editable": true,
    "slideshow": {
     "slide_type": "skip"
    },
    "tags": [
     "colab-only"
    ]
   },
   "outputs": [],
   "source": [
    "# Run this code cell to create people.csv\n",
    "with open('people.csv', 'w') as people:\n",
    "    people.write(\"\"\"LastName,FirstName,KnownFor\\nJohnson,Katherine,was a \"Human computer\" at NASA\\nDean,Mark,co-created the IBM personal computer\\nBerners-Lee,Tim,invented the World Wide Web\\nHopper,Grace,found the first computer bug\"\"\")"
   ]
  },
  {
   "cell_type": "markdown",
   "metadata": {
    "editable": true,
    "slideshow": {
     "slide_type": "skip"
    },
    "tags": [
     "notes-only"
    ]
   },
   "source": [
    "* Use `readline()` to read the first line containing the column names\n",
    "* Use `strip()` to remove the \"trailing newline\"\n",
    "* Use `split(',')` to convert a line into a list of values"
   ]
  },
  {
   "cell_type": "code",
   "execution_count": 18,
   "metadata": {
    "editable": true,
    "slideshow": {
     "slide_type": "skip"
    },
    "tags": [
     "notes-only"
    ]
   },
   "outputs": [
    {
     "name": "stdout",
     "output_type": "stream",
     "text": [
      "['LastName', 'FirstName', 'KnownFor']\n"
     ]
    }
   ],
   "source": [
    "people = open('people.csv', 'r')\n",
    "first = people.readline()\n",
    "first = first.strip()\n",
    "column_names = first.split(',')\n",
    "print(column_names)"
   ]
  },
  {
   "cell_type": "markdown",
   "metadata": {
    "editable": true,
    "slideshow": {
     "slide_type": "skip"
    },
    "tags": [
     "notes-only"
    ]
   },
   "source": [
    "* Use for loop to iterate through lines (or rows) of data\n",
    "* Again, use `strip` and `split`\n",
    "* Use indexing or slicing to access specific values"
   ]
  },
  {
   "cell_type": "code",
   "execution_count": 19,
   "metadata": {
    "editable": true,
    "slideshow": {
     "slide_type": "skip"
    },
    "tags": [
     "notes-only"
    ]
   },
   "outputs": [
    {
     "name": "stdout",
     "output_type": "stream",
     "text": [
      "Katherine Johnson was a \"Human computer\" at NASA\n",
      "Mark Dean co-created the IBM personal computer\n",
      "Tim Berners-Lee invented the World Wide Web\n",
      "Grace Hopper found the first computer bug\n"
     ]
    }
   ],
   "source": [
    "for line in people:\n",
    "    values = line.strip().split(',')\n",
    "    print(values[1],values[0],values[2])"
   ]
  },
  {
   "cell_type": "markdown",
   "metadata": {
    "editable": true,
    "slideshow": {
     "slide_type": "skip"
    },
    "tags": [
     "notes-only"
    ]
   },
   "source": [
    "* Remember to close the file!"
   ]
  },
  {
   "cell_type": "code",
   "execution_count": 20,
   "metadata": {
    "editable": true,
    "slideshow": {
     "slide_type": "skip"
    },
    "tags": [
     "notes-only"
    ]
   },
   "outputs": [],
   "source": [
    "people.close()"
   ]
  },
  {
   "cell_type": "markdown",
   "metadata": {
    "editable": true,
    "slideshow": {
     "slide_type": "skip"
    },
    "tags": [
     "notes-only"
    ]
   },
   "source": [
    "* Instead of using `readline` and a for loop, you can use `readlines` with indexing, slicing, and a for loop"
   ]
  },
  {
   "cell_type": "code",
   "execution_count": 21,
   "metadata": {
    "editable": true,
    "slideshow": {
     "slide_type": "skip"
    },
    "tags": [
     "notes-only"
    ]
   },
   "outputs": [
    {
     "name": "stdout",
     "output_type": "stream",
     "text": [
      "['LastName', 'FirstName', 'KnownFor']\n",
      "Katherine Johnson was a \"Human computer\" at NASA\n",
      "Mark Dean co-created the IBM personal computer\n",
      "Tim Berners-Lee invented the World Wide Web\n",
      "Grace Hopper found the first computer bug\n"
     ]
    }
   ],
   "source": [
    "people = open('people.csv', 'r')\n",
    "lines = people.readlines()\n",
    "people.close()\n",
    "\n",
    "first = lines[0].strip()\n",
    "column_names = first.split(',')\n",
    "print(column_names)\n",
    "for line in lines[1:]:\n",
    "    values = line.strip().split(',')\n",
    "    print(values[1],values[0],values[2])"
   ]
  },
  {
   "cell_type": "markdown",
   "metadata": {
    "editable": true,
    "slideshow": {
     "slide_type": "skip"
    },
    "tags": [
     "blank"
    ]
   },
   "source": [
    "<p style=\"height:28em;\"></p>"
   ]
  },
  {
   "cell_type": "markdown",
   "metadata": {
    "editable": true,
    "slideshow": {
     "slide_type": "slide"
    },
    "tags": []
   },
   "source": [
    "## Exceptions"
   ]
  },
  {
   "cell_type": "markdown",
   "metadata": {
    "editable": true,
    "slideshow": {
     "slide_type": ""
    },
    "tags": []
   },
   "source": [
    "*What happens if we run the following program and the user enters `one`?*"
   ]
  },
  {
   "cell_type": "code",
   "execution_count": 32,
   "metadata": {
    "editable": true,
    "slideshow": {
     "slide_type": ""
    },
    "tags": [
     "worksheet-code-only"
    ]
   },
   "outputs": [
    {
     "name": "stdout",
     "output_type": "stream",
     "text": [
      "Enter a number: one\n"
     ]
    },
    {
     "ename": "ValueError",
     "evalue": "invalid literal for int() with base 10: 'one'",
     "output_type": "error",
     "traceback": [
      "\u001b[0;31m---------------------------------------------------------------------------\u001b[0m",
      "\u001b[0;31mValueError\u001b[0m                                Traceback (most recent call last)",
      "\u001b[0;32m<ipython-input-32-e5e4786827d2>\u001b[0m in \u001b[0;36m<module>\u001b[0;34m\u001b[0m\n\u001b[0;32m----> 1\u001b[0;31m \u001b[0mnum\u001b[0m \u001b[0;34m=\u001b[0m \u001b[0mint\u001b[0m\u001b[0;34m(\u001b[0m\u001b[0minput\u001b[0m\u001b[0;34m(\u001b[0m\u001b[0;34m'Enter a number: '\u001b[0m\u001b[0;34m)\u001b[0m\u001b[0;34m)\u001b[0m\u001b[0;34m\u001b[0m\u001b[0;34m\u001b[0m\u001b[0m\n\u001b[0m",
      "\u001b[0;31mValueError\u001b[0m: invalid literal for int() with base 10: 'one'"
     ]
    }
   ],
   "source": [
    "num = int(input('Enter a number: '))"
   ]
  },
  {
   "cell_type": "markdown",
   "metadata": {
    "editable": true,
    "slideshow": {
     "slide_type": "skip"
    },
    "tags": [
     "notes-only"
    ]
   },
   "source": [
    "* Exception — a signal that something exceptional (i.e., unexpected or unrecoverable) has happened\n",
    "* *What causes an exception?* — invalid input, invalid math (e.g., divide by zero), attempt to open a non-existent file, etc.\n",
    "* *Why do we need exceptions?* — a function may not know what to do when something unexpected occurs, so it needs to notify the calling function\n",
    "* Exceptions breaks a program’s flow of execution\n",
    "    * Function where exception occurred stops executing — e.g., the `int` function stops executing\n",
    "    * Exception is passed to calling function\n",
    "        * If calling function includes code to “recover” from the exception then execution resumes in the **exception handling** code\n",
    "        * Otherwise, the exception is passed to the preceding function\n",
    "        * Again, if preceding function includes code to “recover” from the exception then execution resumes in the exception handling code\n",
    "        * Otherwise, the exception is passed to the preceding function\n",
    "        * If the program does not have any code to handle the exception, then it crashes"
   ]
  },
  {
   "cell_type": "markdown",
   "metadata": {
    "editable": true,
    "slideshow": {
     "slide_type": "skip"
    },
    "tags": [
     "blank"
    ]
   },
   "source": [
    "<p style=\"height:5em;\"></p>"
   ]
  },
  {
   "cell_type": "markdown",
   "metadata": {
    "editable": true,
    "slideshow": {
     "slide_type": "slide"
    },
    "tags": []
   },
   "source": [
    "_Example_"
   ]
  },
  {
   "cell_type": "code",
   "execution_count": null,
   "metadata": {
    "editable": true,
    "slideshow": {
     "slide_type": ""
    },
    "tags": [
     "worksheet-code-only"
    ]
   },
   "outputs": [],
   "source": [
    "def func3():\n",
    "    num = int(input('Enter a number: '))\n",
    "    return num\n",
    "\n",
    "def func2():\n",
    "    input_num = func3()\n",
    "    return input_num * 2\n",
    "\n",
    "def func1():\n",
    "    doubled_num = func2()\n",
    "    return doubled_num * 2\n",
    "\n",
    "def main():\n",
    "    quadrupled_num = func1()\n",
    "    print(\"Quadrupled:\", quadrupled_num)\n",
    "\n",
    "main()"
   ]
  },
  {
   "cell_type": "markdown",
   "metadata": {
    "editable": true,
    "slideshow": {
     "slide_type": "skip"
    },
    "tags": [
     "notes-only"
    ]
   },
   "source": [
    "* Flow of execution\n",
    "    * `main` calls `func1` which calls `func2` which calls `func3` which calls `input` and `int`\n",
    "    * `int` raises an exception\n",
    "    * `func3` has no code to recover from (i.e., handle) the exception\n",
    "    * Attempt to resume execution in caller (`func2`)\n",
    "    * `func2` has no code to handle the exception\n",
    "    * Attempt to resume execution in preceding caller (`func1`)\n",
    "    * `func1` has no code to handle the exception\n",
    "    * Attempt to resume execution in preceding caller (`main`)\n",
    "    * `main` has no code to handle the exception\n",
    "    * Attempt to resume execution outside of function\n",
    "    * No code outside of function to handle the exception -> program crashes\n",
    "* *How could we prevent our program from crashing if the user enters invalid input?*\n",
    "    * Validate the user’s input **before** converting to an int and ask for new input if the user did not enter a valid integer\n",
    "    * **Catch** the exception and ask for new input\n",
    "* Best practice: do not use exception handling (`try-except`) if you can easily write code to check for and recover from errors\n",
    "    * For example, validating the user's input before converting to an int is better than catching an exception"
   ]
  },
  {
   "cell_type": "markdown",
   "metadata": {
    "editable": true,
    "slideshow": {
     "slide_type": "skip"
    },
    "tags": [
     "blank"
    ]
   },
   "source": [
    "<p style=\"height:26em;\"></p>"
   ]
  },
  {
   "cell_type": "markdown",
   "metadata": {
    "editable": true,
    "slideshow": {
     "slide_type": "slide"
    },
    "tags": []
   },
   "source": [
    "## Extra Practice"
   ]
  },
  {
   "cell_type": "markdown",
   "metadata": {
    "editable": true,
    "slideshow": {
     "slide_type": ""
    },
    "tags": [
     "question"
    ]
   },
   "source": [
    "*Write a function called `load_data` that takes a filename and returns a list of lists, where each sublist contains the data from one row of the file. The column names should **not** be included.*"
   ]
  },
  {
   "cell_type": "code",
   "execution_count": 37,
   "metadata": {
    "editable": true,
    "slideshow": {
     "slide_type": "skip"
    },
    "tags": [
     "answer"
    ]
   },
   "outputs": [],
   "source": [
    "def load_data(filename):\n",
    "    '''\n",
    "    Return a list containing rows of data from a file\n",
    "    >>> load_data('people.csv')\n",
    "    [['Johnson', 'Katherine', 'was a \"human computer\" at NASA'], \n",
    "     ['Dean', 'Mark', 'co-created the IBM personal computer'], \n",
    "     ['Berners-Lee', 'Tim', 'invented the World Wide Web'], \n",
    "     ['Hopper', 'Grace', 'found the first computer bug']]\n",
    "    '''\n",
    "    datafile = open(filename, 'r')\n",
    "    datafile.readline() # Discard column names\n",
    "    rows = []\n",
    "    for line in datafile:\n",
    "        values = line.strip().split(',')\n",
    "        rows.append(values)\n",
    "    datafile.close()\n",
    "    return rows"
   ]
  },
  {
   "cell_type": "code",
   "execution_count": 22,
   "metadata": {
    "editable": true,
    "slideshow": {
     "slide_type": "skip"
    },
    "tags": [
     "blank"
    ]
   },
   "outputs": [],
   "source": [
    "def load_data(filename):\n",
    "    '''\n",
    "    Return a list containing rows of data from a file\n",
    "    >>> load_data('people.csv')\n",
    "    [['Johnson', 'Katherine', 'was a \"human computer\" at NASA'], \n",
    "     ['Dean', 'Mark', 'co-created the IBM personal computer'], \n",
    "     ['Berners-Lee', 'Tim', 'invented the World Wide Web'], \n",
    "     ['Hopper', 'Grace', 'found the first computer bug']]\n",
    "    '''\n",
    "\n",
    "    \n",
    "    \n",
    "    \n",
    "    \n",
    "    \n",
    "    \n",
    "    \n",
    "    \n",
    "    "
   ]
  },
  {
   "cell_type": "markdown",
   "metadata": {
    "editable": true,
    "slideshow": {
     "slide_type": "fragment"
    },
    "tags": [
     "question"
    ]
   },
   "source": [
    "*Write a function called `ask_question` that takes the rows of data from a file of a people and asks a question using the value in the `KnownFor` column. For example, `Who co-created the IBM personal computer?`*"
   ]
  },
  {
   "cell_type": "code",
   "execution_count": 33,
   "metadata": {
    "editable": true,
    "slideshow": {
     "slide_type": "skip"
    },
    "tags": [
     "answer"
    ]
   },
   "outputs": [
    {
     "name": "stdout",
     "output_type": "stream",
     "text": [
      "Who found the first computer bug?\n"
     ]
    },
    {
     "name": "stdin",
     "output_type": "stream",
     "text": [
      "Enter a person's name:  Grace Hopper\n"
     ]
    },
    {
     "name": "stdout",
     "output_type": "stream",
     "text": [
      "You're correct! Well done!\n"
     ]
    }
   ],
   "source": [
    "import random\n",
    "\n",
    "def trivia_question(data):\n",
    "    '''Ask a trivia question about a randomly choosen person'''\n",
    "    index = random.randrange(0, len(data))\n",
    "    row = data[index]\n",
    "    known_for = row[2]\n",
    "    print(\"Who \"+known_for+\"?\")\n",
    "    guess = input(\"Enter a person's name: \")\n",
    "    answer = row[1]+\" \"+row[0]\n",
    "    if (answer == guess):\n",
    "        print(\"You're correct! Well done!\")\n",
    "    else:\n",
    "        print(\"Sorry, your answer is incorrect. The correct answer is: \"+answer)\n",
    "    \n",
    "trivia_question(load_data('people.csv'))"
   ]
  },
  {
   "cell_type": "markdown",
   "metadata": {
    "editable": true,
    "scrolled": true,
    "slideshow": {
     "slide_type": "skip"
    },
    "tags": [
     "colab-only"
    ]
   },
   "source": [
    "import doctest\n",
    "doctest.testmod()"
   ]
  }
 ],
 "metadata": {
  "celltoolbar": "Tags",
  "kernelspec": {
   "display_name": "Python 3 (ipykernel)",
   "language": "python",
   "name": "python3"
  },
  "language_info": {
   "codemirror_mode": {
    "name": "ipython",
    "version": 3
   },
   "file_extension": ".py",
   "mimetype": "text/x-python",
   "name": "python",
   "nbconvert_exporter": "python",
   "pygments_lexer": "ipython3",
   "version": "3.9.6"
  }
 },
 "nbformat": 4,
 "nbformat_minor": 4
}
