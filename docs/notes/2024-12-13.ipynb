{
 "cells": [
  {
   "cell_type": "markdown",
   "id": "df2376ea-b116-477f-ad5d-c7fb773e3207",
   "metadata": {
    "slideshow": {
     "slide_type": "skip"
    },
    "tags": []
   },
   "source": [
    "# Review: Final Exam\n",
    "_COSC 101, Introduction to Computing I, 2024-12-13_"
   ]
  },
  {
   "cell_type": "markdown",
   "id": "7ae5a924-6696-439c-8f8c-627bcbfa73aa",
   "metadata": {
    "editable": true,
    "slideshow": {
     "slide_type": "skip"
    },
    "tags": []
   },
   "source": [
    "## Announcements\n",
    "* Final exam Friday 12pm-2pm\n",
    "    * Combination of code reading and code writing\n",
    "    * Includes material from across the semester; only new topics are recursion and decision trees\n",
    "    * Study by solving problems (all linked from Moodle): in-class worksheets; Prof. Davis' class worksheets; previous exams; final and previous exam practice problems\n",
    "* Office hours\n",
    "    * Tuesday 10am-11am\n",
    "    * Wednesday 2pm-3pm\n",
    "    * Thursday 10:30am-12:30pm"
   ]
  },
  {
   "cell_type": "markdown",
   "id": "efc460a5-9819-4a0d-b89e-21c442469679",
   "metadata": {
    "editable": true,
    "slideshow": {
     "slide_type": ""
    },
    "tags": []
   },
   "source": [
    "## Recursion"
   ]
  },
  {
   "cell_type": "markdown",
   "id": "43191bf9-732f-406c-9147-eeac8828a5d6",
   "metadata": {
    "editable": true,
    "slideshow": {
     "slide_type": ""
    },
    "tags": [
     "question"
    ]
   },
   "source": [
    "*What is the output of the following program?*"
   ]
  },
  {
   "cell_type": "code",
   "execution_count": 20,
   "id": "d2f299a4-f005-4cd1-b660-f8438d61a886",
   "metadata": {
    "editable": true,
    "slideshow": {
     "slide_type": ""
    },
    "tags": [
     "worksheet-code-only"
    ]
   },
   "outputs": [
    {
     "name": "stdout",
     "output_type": "stream",
     "text": [
      "5\n",
      "6\n"
     ]
    }
   ],
   "source": [
    "def repeat(nums: list) -> int:\n",
    "    if len(nums) == 1:\n",
    "        return nums[0]\n",
    "    else:\n",
    "        rest = repeat(nums[1:])\n",
    "        if (nums[0] > rest):\n",
    "            return nums[0]\n",
    "        else:\n",
    "            return rest\n",
    "\n",
    "def main() -> None:\n",
    "    print(repeat([1, 3, 5]))\n",
    "    print(repeat([6, 4, 2]))\n",
    "\n",
    "main()"
   ]
  },
  {
   "cell_type": "markdown",
   "id": "255914f8-bc95-42ce-89ca-b799dd0c903a",
   "metadata": {
    "editable": true,
    "slideshow": {
     "slide_type": ""
    },
    "tags": [
     "blank"
    ]
   },
   "source": [
    "<p style=\"height:22em;\"></p>"
   ]
  },
  {
   "cell_type": "markdown",
   "id": "443d9422-12b9-402e-866a-a3121d442e9b",
   "metadata": {
    "editable": true,
    "slideshow": {
     "slide_type": ""
    },
    "tags": [
     "question"
    ]
   },
   "source": [
    "*What is the output of the following program?*"
   ]
  },
  {
   "cell_type": "code",
   "execution_count": 24,
   "id": "fdf6c00e-16bd-417d-ab89-daa999231298",
   "metadata": {
    "editable": true,
    "slideshow": {
     "slide_type": ""
    },
    "tags": [
     "worksheet-code-only"
    ]
   },
   "outputs": [
    {
     "name": "stdout",
     "output_type": "stream",
     "text": [
      "False\n",
      "True\n"
     ]
    }
   ],
   "source": [
    "def again(word: str) -> bool:\n",
    "    if len(word) <= 1:\n",
    "        return True\n",
    "    else:\n",
    "        rest = again(word[1:-1])\n",
    "        if word[0] == word[-1] and rest == True:\n",
    "            return True\n",
    "        else:\n",
    "            return False\n",
    "\n",
    "def main() -> None:\n",
    "    print(again(\"airplane\"))\n",
    "    print(again(\"racecar\"))\n",
    "\n",
    "main()"
   ]
  },
  {
   "cell_type": "markdown",
   "id": "264cd7e0-bb19-4d8d-93d6-371a4609a2a1",
   "metadata": {
    "editable": true,
    "slideshow": {
     "slide_type": ""
    },
    "tags": [
     "blank"
    ]
   },
   "source": [
    "<p style=\"height:10em;\"></p>"
   ]
  },
  {
   "cell_type": "markdown",
   "id": "19b5bb32-1115-49a8-b29b-2be850e82ae0",
   "metadata": {},
   "source": [
    "## Decision trees"
   ]
  },
  {
   "cell_type": "markdown",
   "id": "3df97a40-8d73-48bc-be5f-af5021e82b72",
   "metadata": {},
   "source": [
    "_Assume you have the following training data_"
   ]
  },
  {
   "cell_type": "markdown",
   "id": "2f6ea010-f7d5-4364-95a9-fea64665b762",
   "metadata": {},
   "source": [
    "| **Thing** | **Animal** | **Flies** | **Has spots** |\n",
    "|-----------|------------|-----------|---------------|\n",
    "| eagle     | True       | True      | False         |\n",
    "| butterfly | True       | True      | True          |\n",
    "| leopard   | True       | False     | True          |\n",
    "| giraffe   | True       | False     | True          |\n",
    "| airplane  | False      | True      | False         |\n",
    "| drone     | False      | True      | False         |\n",
    "| fork      | False      | False     | False         |\n",
    "| socks     | False      | False     | True          |"
   ]
  },
  {
   "cell_type": "markdown",
   "id": "68512bdf-97a0-4a3f-9e29-1874c1c300f3",
   "metadata": {
    "editable": true,
    "slideshow": {
     "slide_type": ""
    },
    "tags": []
   },
   "source": [
    "_If your goal is to predict whether or not something is an animal, is \"flies\" or \"has spots\" a better feature to include in the decision tree? Briefly explain your answer._"
   ]
  },
  {
   "cell_type": "markdown",
   "id": "cc86806e-d2a5-4bf7-aff5-7d532cc9f178",
   "metadata": {
    "editable": true,
    "slideshow": {
     "slide_type": ""
    },
    "tags": [
     "answer"
    ]
   },
   "source": [
    "\"Has spots\" is a better feature, because 3 of the 4 things that have spots are animals and 3 or the 4 things that don't have spots are not animals. Thus, \"has spots\" reduces the uncertainty of whether or not a thing is an animal. In contrast, half of the things that fly are animals and half are not, and half of the things that don't fly are animals and half are not. Thus, \"flies\" does not reduce the amount of uncertainty as to whether or not a thing is an animal."
   ]
  },
  {
   "cell_type": "markdown",
   "id": "278c2c82-c0d5-4e7f-b82f-5e46a6095b33",
   "metadata": {
    "editable": true,
    "slideshow": {
     "slide_type": ""
    },
    "tags": [
     "blank"
    ]
   },
   "source": [
    "<p style=\"height:5em;\"></p>"
   ]
  },
  {
   "cell_type": "markdown",
   "id": "0f4ddcaf-0cf3-412d-8b40-4f3bfdedcc3c",
   "metadata": {
    "editable": true,
    "slideshow": {
     "slide_type": ""
    },
    "tags": []
   },
   "source": [
    "## Dictionaries and lists"
   ]
  },
  {
   "cell_type": "markdown",
   "id": "b27dad47-c169-4626-b107-4e02f185f363",
   "metadata": {
    "editable": true,
    "slideshow": {
     "slide_type": ""
    },
    "tags": [
     "question"
    ]
   },
   "source": [
    "*What is the output of the following program?*"
   ]
  },
  {
   "cell_type": "code",
   "execution_count": 2,
   "id": "dd8950d2-7611-4232-8754-7e736d9673b0",
   "metadata": {
    "editable": true,
    "slideshow": {
     "slide_type": ""
    },
    "tags": [
     "worksheet-code-only"
    ]
   },
   "outputs": [
    {
     "name": "stdout",
     "output_type": "stream",
     "text": [
      "b.a\n",
      "a.y\n"
     ]
    },
    {
     "ename": "KeyError",
     "evalue": "3",
     "output_type": "error",
     "traceback": [
      "\u001b[0;31m---------------------------------------------------------------------------\u001b[0m",
      "\u001b[0;31mKeyError\u001b[0m                                  Traceback (most recent call last)",
      "Cell \u001b[0;32mIn[2], line 14\u001b[0m\n\u001b[1;32m     11\u001b[0m     \u001b[38;5;28mprint\u001b[39m(lookup([\u001b[38;5;241m1\u001b[39m, \u001b[38;5;241m8\u001b[39m], d))\n\u001b[1;32m     12\u001b[0m     \u001b[38;5;28mprint\u001b[39m(lookup([\u001b[38;5;241m1\u001b[39m, \u001b[38;5;241m2\u001b[39m, \u001b[38;5;241m3\u001b[39m, \u001b[38;5;241m4\u001b[39m], d))\n\u001b[0;32m---> 14\u001b[0m \u001b[43mmain\u001b[49m\u001b[43m(\u001b[49m\u001b[43m)\u001b[49m\n",
      "Cell \u001b[0;32mIn[2], line 12\u001b[0m, in \u001b[0;36mmain\u001b[0;34m()\u001b[0m\n\u001b[1;32m     10\u001b[0m \u001b[38;5;28mprint\u001b[39m(lookup([\u001b[38;5;241m2\u001b[39m, \u001b[38;5;241m4\u001b[39m], d))\n\u001b[1;32m     11\u001b[0m \u001b[38;5;28mprint\u001b[39m(lookup([\u001b[38;5;241m1\u001b[39m, \u001b[38;5;241m8\u001b[39m], d))\n\u001b[0;32m---> 12\u001b[0m \u001b[38;5;28mprint\u001b[39m(\u001b[43mlookup\u001b[49m\u001b[43m(\u001b[49m\u001b[43m[\u001b[49m\u001b[38;5;241;43m1\u001b[39;49m\u001b[43m,\u001b[49m\u001b[43m \u001b[49m\u001b[38;5;241;43m2\u001b[39;49m\u001b[43m,\u001b[49m\u001b[43m \u001b[49m\u001b[38;5;241;43m3\u001b[39;49m\u001b[43m,\u001b[49m\u001b[43m \u001b[49m\u001b[38;5;241;43m4\u001b[39;49m\u001b[43m]\u001b[49m\u001b[43m,\u001b[49m\u001b[43m \u001b[49m\u001b[43md\u001b[49m\u001b[43m)\u001b[49m)\n",
      "Cell \u001b[0;32mIn[2], line 4\u001b[0m, in \u001b[0;36mlookup\u001b[0;34m(lst, dct)\u001b[0m\n\u001b[1;32m      2\u001b[0m r \u001b[38;5;241m=\u001b[39m \u001b[38;5;124m'\u001b[39m\u001b[38;5;124m'\u001b[39m\n\u001b[1;32m      3\u001b[0m \u001b[38;5;28;01mfor\u001b[39;00m i \u001b[38;5;129;01min\u001b[39;00m lst:\n\u001b[0;32m----> 4\u001b[0m     r \u001b[38;5;241m+\u001b[39m\u001b[38;5;241m=\u001b[39m \u001b[43mdct\u001b[49m\u001b[43m[\u001b[49m\u001b[43mi\u001b[49m\u001b[43m]\u001b[49m \u001b[38;5;241m+\u001b[39m \u001b[38;5;124m'\u001b[39m\u001b[38;5;124m.\u001b[39m\u001b[38;5;124m'\u001b[39m\n\u001b[1;32m      5\u001b[0m \u001b[38;5;28;01mreturn\u001b[39;00m r[:\u001b[38;5;241m-\u001b[39m\u001b[38;5;241m1\u001b[39m]\n",
      "\u001b[0;31mKeyError\u001b[0m: 3"
     ]
    }
   ],
   "source": [
    "def lookup(lst: list, dct: dict) -> str:\n",
    "    r = ''\n",
    "    for i in lst:\n",
    "        r += dct[i] + '.'\n",
    "    return r[:-1]\n",
    "\n",
    "def main() -> None:\n",
    "    c = 'May'\n",
    "    d = {1: 'a', 2: 'b', 8: c[-1], 4: c[1]}\n",
    "    print(lookup([2, 4], d))\n",
    "    print(lookup([1, 8], d))\n",
    "    print(lookup([1, 2, 3, 4], d))\n",
    "\n",
    "main()"
   ]
  },
  {
   "cell_type": "markdown",
   "id": "a3e512a4-2edb-4b9f-bb08-fef84719f0c5",
   "metadata": {
    "editable": true,
    "slideshow": {
     "slide_type": ""
    },
    "tags": [
     "blank"
    ]
   },
   "source": [
    "<p style=\"height:10em;\"></p>"
   ]
  },
  {
   "cell_type": "markdown",
   "id": "92064def-ec92-4163-9b91-ce71c20ea7e3",
   "metadata": {
    "editable": true,
    "slideshow": {
     "slide_type": ""
    },
    "tags": [
     "question"
    ]
   },
   "source": [
    "*What is the output of the following program?*"
   ]
  },
  {
   "cell_type": "code",
   "execution_count": 3,
   "id": "340c66ec-da5b-4155-9166-fb2726be601e",
   "metadata": {
    "editable": true,
    "scrolled": true,
    "slideshow": {
     "slide_type": ""
    },
    "tags": [
     "worksheet-code-only"
    ]
   },
   "outputs": [
    {
     "name": "stdout",
     "output_type": "stream",
     "text": [
      "{'a': 'b', 'c': 'd', 'e': 'b'}\n",
      "{'b': 'e', 'd': 'c'}\n",
      "{'e': 'b', 'c': 'd'}\n"
     ]
    }
   ],
   "source": [
    "def flip(dct1: dict) -> dict:\n",
    "    dct2 = {}\n",
    "    for i in dct1:\n",
    "        dct2[dct1[i]] = i\n",
    "    return dct2\n",
    "\n",
    "def main() -> None:\n",
    "    dctA = {'a': 'b', 'c': 'd', 'e': 'b'}\n",
    "    dctB = flip(dctA)\n",
    "    print(dctA)\n",
    "    print(dctB)\n",
    "    dctC = flip(dctB)\n",
    "    print(dctC)\n",
    "    \n",
    "main()"
   ]
  },
  {
   "cell_type": "markdown",
   "id": "e5eecd18-5c8e-4d71-a6ff-dc93faf1dcff",
   "metadata": {
    "editable": true,
    "slideshow": {
     "slide_type": ""
    },
    "tags": [
     "blank"
    ]
   },
   "source": [
    "<p style=\"height:10em;\"></p>"
   ]
  },
  {
   "cell_type": "markdown",
   "id": "540315cd-0340-4122-b6e9-6d062ce3cc8c",
   "metadata": {
    "editable": true,
    "slideshow": {
     "slide_type": ""
    },
    "tags": []
   },
   "source": [
    "## Strings"
   ]
  },
  {
   "cell_type": "markdown",
   "id": "057cd4d6-63f0-4b73-a6f7-3f3b296612fe",
   "metadata": {
    "editable": true,
    "slideshow": {
     "slide_type": ""
    },
    "tags": [
     "question"
    ]
   },
   "source": [
    "*Assume the following code has been executed:*"
   ]
  },
  {
   "cell_type": "code",
   "execution_count": 1,
   "id": "074220fb-c325-4d60-9323-a8985a4bd871",
   "metadata": {
    "editable": true,
    "slideshow": {
     "slide_type": ""
    },
    "tags": [
     "question"
    ]
   },
   "outputs": [],
   "source": [
    "mystr = \"sample string\""
   ]
  },
  {
   "cell_type": "markdown",
   "id": "3689da72-0d9e-4208-8508-cba3181832fd",
   "metadata": {
    "editable": true,
    "slideshow": {
     "slide_type": ""
    },
    "tags": [
     "question"
    ]
   },
   "source": [
    "_What is the output of each of the following epxressions?_"
   ]
  },
  {
   "cell_type": "code",
   "execution_count": 2,
   "id": "2dfd4dff-39b6-402b-9c28-1fcd2f615b46",
   "metadata": {
    "editable": true,
    "slideshow": {
     "slide_type": ""
    },
    "tags": [
     "worksheet-code-only"
    ]
   },
   "outputs": [
    {
     "data": {
      "text/plain": [
       "'g'"
      ]
     },
     "execution_count": 2,
     "metadata": {},
     "output_type": "execute_result"
    }
   ],
   "source": [
    "mystr[-1]"
   ]
  },
  {
   "cell_type": "markdown",
   "id": "cc6b361c-e1ce-4d21-b2d9-2da24f478489",
   "metadata": {
    "editable": true,
    "slideshow": {
     "slide_type": ""
    },
    "tags": [
     "blank"
    ]
   },
   "source": [
    "```\n",
    "\n",
    "```"
   ]
  },
  {
   "cell_type": "code",
   "execution_count": 3,
   "id": "f303c0bb-f93f-4b0e-a848-3aba6822f452",
   "metadata": {
    "editable": true,
    "slideshow": {
     "slide_type": ""
    },
    "tags": [
     "worksheet-code-only"
    ]
   },
   "outputs": [
    {
     "ename": "IndexError",
     "evalue": "string index out of range",
     "output_type": "error",
     "traceback": [
      "\u001b[0;31m---------------------------------------------------------------------------\u001b[0m",
      "\u001b[0;31mIndexError\u001b[0m                                Traceback (most recent call last)",
      "Cell \u001b[0;32mIn[3], line 1\u001b[0m\n\u001b[0;32m----> 1\u001b[0m \u001b[43mmystr\u001b[49m\u001b[43m[\u001b[49m\u001b[38;5;28;43mlen\u001b[39;49m\u001b[43m(\u001b[49m\u001b[43mmystr\u001b[49m\u001b[43m)\u001b[49m\u001b[43m]\u001b[49m\n",
      "\u001b[0;31mIndexError\u001b[0m: string index out of range"
     ]
    }
   ],
   "source": [
    "mystr[len(mystr)]"
   ]
  },
  {
   "cell_type": "markdown",
   "id": "32e633bc-bfff-4b53-8f48-4ac2ad7e1b71",
   "metadata": {
    "editable": true,
    "slideshow": {
     "slide_type": ""
    },
    "tags": [
     "blank"
    ]
   },
   "source": [
    "```\n",
    "\n",
    "```"
   ]
  },
  {
   "cell_type": "code",
   "execution_count": 4,
   "id": "3bee237e-8e3a-4ee9-914b-19c77109f3de",
   "metadata": {
    "editable": true,
    "slideshow": {
     "slide_type": ""
    },
    "tags": [
     "worksheet-code-only"
    ]
   },
   "outputs": [
    {
     "data": {
      "text/plain": [
       "'sang'"
      ]
     },
     "execution_count": 4,
     "metadata": {},
     "output_type": "execute_result"
    }
   ],
   "source": [
    "mystr[:2] + mystr[-2:]"
   ]
  },
  {
   "cell_type": "markdown",
   "id": "f8339096-1e63-48fa-8d1e-ac0cc5b0e9ec",
   "metadata": {
    "editable": true,
    "slideshow": {
     "slide_type": ""
    },
    "tags": [
     "blank"
    ]
   },
   "source": [
    "```\n",
    "\n",
    "```"
   ]
  },
  {
   "cell_type": "code",
   "execution_count": 5,
   "id": "aef25f67-e268-4bc9-a13a-cb9f973b2b14",
   "metadata": {
    "editable": true,
    "slideshow": {
     "slide_type": ""
    },
    "tags": [
     "worksheet-code-only"
    ]
   },
   "outputs": [
    {
     "data": {
      "text/plain": [
       "'sample stringsample string'"
      ]
     },
     "execution_count": 5,
     "metadata": {},
     "output_type": "execute_result"
    }
   ],
   "source": [
    "mystr * 2"
   ]
  },
  {
   "cell_type": "markdown",
   "id": "ff8f3bd4-6856-4d85-98bf-30216483565a",
   "metadata": {
    "editable": true,
    "slideshow": {
     "slide_type": ""
    },
    "tags": [
     "blank"
    ]
   },
   "source": [
    "```\n",
    "\n",
    "```"
   ]
  },
  {
   "cell_type": "code",
   "execution_count": 6,
   "id": "357b992e-3d85-4728-ab23-3801ede8cf12",
   "metadata": {
    "editable": true,
    "slideshow": {
     "slide_type": ""
    },
    "tags": [
     "worksheet-code-only"
    ]
   },
   "outputs": [
    {
     "data": {
      "text/plain": [
       "'sample_string'"
      ]
     },
     "execution_count": 6,
     "metadata": {},
     "output_type": "execute_result"
    }
   ],
   "source": [
    "\"_\".join(mystr.split())"
   ]
  },
  {
   "cell_type": "markdown",
   "id": "4ccd2c7e-642a-4876-9af8-d6f9f8a2aa38",
   "metadata": {
    "editable": true,
    "slideshow": {
     "slide_type": ""
    },
    "tags": [
     "blank"
    ]
   },
   "source": [
    "```\n",
    "\n",
    "```"
   ]
  },
  {
   "cell_type": "code",
   "execution_count": 16,
   "id": "4a7eccbf-85c1-4cc9-b64b-c12c9e4b2257",
   "metadata": {
    "editable": true,
    "slideshow": {
     "slide_type": ""
    },
    "tags": [
     "worksheet-code-only"
    ]
   },
   "outputs": [
    {
     "data": {
      "text/plain": [
       "False"
      ]
     },
     "execution_count": 16,
     "metadata": {},
     "output_type": "execute_result"
    }
   ],
   "source": [
    "mystr.isalpha() and mystr.islower()"
   ]
  },
  {
   "cell_type": "markdown",
   "id": "a0b9872a-24ef-46e4-9a90-e16fcdbcea64",
   "metadata": {
    "editable": true,
    "slideshow": {
     "slide_type": ""
    },
    "tags": [
     "blank"
    ]
   },
   "source": [
    "```\n",
    "\n",
    "```"
   ]
  },
  {
   "cell_type": "code",
   "execution_count": 17,
   "id": "cb2eba5f-6013-4655-ae73-5c6d641d01ef",
   "metadata": {
    "editable": true,
    "slideshow": {
     "slide_type": ""
    },
    "tags": [
     "worksheet-code-only"
    ]
   },
   "outputs": [
    {
     "data": {
      "text/plain": [
       "False"
      ]
     },
     "execution_count": 17,
     "metadata": {},
     "output_type": "execute_result"
    }
   ],
   "source": [
    "mystr.strip() == \"samplestring\""
   ]
  },
  {
   "cell_type": "markdown",
   "id": "6ff1c13b-72e9-4367-9829-b46144d994ee",
   "metadata": {
    "editable": true,
    "slideshow": {
     "slide_type": ""
    },
    "tags": [
     "blank"
    ]
   },
   "source": [
    "```\n",
    "\n",
    "```"
   ]
  },
  {
   "cell_type": "code",
   "execution_count": 19,
   "id": "f493c9e4-835e-43e5-b97e-adae1d80ff1c",
   "metadata": {
    "editable": true,
    "slideshow": {
     "slide_type": ""
    },
    "tags": [
     "worksheet-code-only"
    ]
   },
   "outputs": [
    {
     "data": {
      "text/plain": [
       "False"
      ]
     },
     "execution_count": 19,
     "metadata": {},
     "output_type": "execute_result"
    }
   ],
   "source": [
    "\"map\" in mystr or \"u\" in mystr"
   ]
  },
  {
   "cell_type": "markdown",
   "id": "5cf709a0-f2a1-44b8-9505-ced4082dd5a4",
   "metadata": {
    "editable": true,
    "slideshow": {
     "slide_type": ""
    },
    "tags": [
     "blank"
    ]
   },
   "source": [
    "```\n",
    "\n",
    "```"
   ]
  },
  {
   "cell_type": "code",
   "execution_count": 20,
   "id": "0f0f2dff-49b6-48ec-8455-bdb73fa1c36e",
   "metadata": {
    "editable": true,
    "slideshow": {
     "slide_type": ""
    },
    "tags": [
     "worksheet-code-only"
    ]
   },
   "outputs": [
    {
     "ename": "TypeError",
     "evalue": "can only concatenate str (not \"int\") to str",
     "output_type": "error",
     "traceback": [
      "\u001b[0;31m---------------------------------------------------------------------------\u001b[0m",
      "\u001b[0;31mTypeError\u001b[0m                                 Traceback (most recent call last)",
      "Cell \u001b[0;32mIn[20], line 1\u001b[0m\n\u001b[0;32m----> 1\u001b[0m \u001b[38;5;124;43m\"\u001b[39;49m\u001b[38;5;124;43mlen=\u001b[39;49m\u001b[38;5;124;43m\"\u001b[39;49m\u001b[43m \u001b[49m\u001b[38;5;241;43m+\u001b[39;49m\u001b[43m \u001b[49m\u001b[38;5;28;43mlen\u001b[39;49m\u001b[43m(\u001b[49m\u001b[43mmystr\u001b[49m\u001b[43m)\u001b[49m\n",
      "\u001b[0;31mTypeError\u001b[0m: can only concatenate str (not \"int\") to str"
     ]
    }
   ],
   "source": [
    "\"len=\" + len(mystr)"
   ]
  },
  {
   "cell_type": "markdown",
   "id": "89fb6ed6-1dd8-4e72-acb1-f878fcf4c661",
   "metadata": {
    "editable": true,
    "slideshow": {
     "slide_type": ""
    },
    "tags": []
   },
   "source": [
    "## Writing functions"
   ]
  },
  {
   "cell_type": "markdown",
   "id": "5a0558a6-7c88-4267-bb12-7dd3ab1ef6cb",
   "metadata": {
    "editable": true,
    "slideshow": {
     "slide_type": ""
    },
    "tags": [
     "question"
    ]
   },
   "source": [
    "*Write a function called `contains` that takes a string (`to_search`) and a list of strings (`to_find`) as parameters and returns the first string in `to_find` that also appears in `to_search`. If no strings in `to_find` appear in `to_search`, then return `None`. For example:*\n",
    "```\n",
    ">>> contains('penguin', ['hen', 'pen', 'egg', 'in'])\n",
    "'pen'\n",
    ">>> contains('giraffe', ['hen', 'pen', 'egg', 'in'])\n",
    "None\n",
    "```"
   ]
  },
  {
   "cell_type": "code",
   "execution_count": 17,
   "id": "6a1349a6-772c-4e2e-a036-0e1894dabdd0",
   "metadata": {
    "editable": true,
    "slideshow": {
     "slide_type": ""
    },
    "tags": [
     "answer"
    ]
   },
   "outputs": [],
   "source": [
    "def contains(to_search: str, to_find: list) -> str:\n",
    "    \"\"\"\n",
    "    >>> contains('penguin', ['hen', 'pen', 'egg', 'in'])\n",
    "    'pen'\n",
    "    >>> contains('giraffe', ['hen', 'pen', 'egg', 'in'])\n",
    "    None\n",
    "    \"\"\"\n",
    "    for find in to_find:\n",
    "        if find in to_search:\n",
    "            return find\n",
    "    return None"
   ]
  },
  {
   "cell_type": "markdown",
   "id": "7faa0e06-0f44-487b-98e4-940c98818c38",
   "metadata": {
    "editable": true,
    "slideshow": {
     "slide_type": ""
    },
    "tags": [
     "blank"
    ]
   },
   "source": [
    "<p style=\"height:15em;\"></p>"
   ]
  },
  {
   "cell_type": "markdown",
   "id": "9ae9fec4-ac07-4ae7-87f5-6999263023d6",
   "metadata": {
    "editable": true,
    "slideshow": {
     "slide_type": ""
    },
    "tags": [
     "question"
    ]
   },
   "source": [
    "*Write a function called `get_choice` that takes a list of options (e.g., yes, no, maybe) and asks the user to choose one of the options by entering the first letter of the options. You may assume every option starts with a different letter. Your function should accept lower and uppercase letters. The function should return the chosen option (the full word, not just the first letter). If the user enters an invalid option, then the function should again ask the user to choose an option. For example:*\n",
    "```\n",
    ">>> get_choice(['yes','no','maybe'])\n",
    "Yes, No, Maybe? X\n",
    "Yes, No, Maybe? y\n",
    "yes\n",
    "```"
   ]
  },
  {
   "cell_type": "code",
   "execution_count": 18,
   "id": "73dfb67a-0404-4340-824a-8623933fda55",
   "metadata": {
    "editable": true,
    "slideshow": {
     "slide_type": ""
    },
    "tags": [
     "answer"
    ]
   },
   "outputs": [
    {
     "name": "stdin",
     "output_type": "stream",
     "text": [
      "Yes, No, Maybe?  X\n",
      "Yes, No, Maybe?  y\n"
     ]
    },
    {
     "data": {
      "text/plain": [
       "'yes'"
      ]
     },
     "execution_count": 18,
     "metadata": {},
     "output_type": "execute_result"
    }
   ],
   "source": [
    "def get_choice(options):\n",
    "    choices = {}\n",
    "    for i in range(len(options)):\n",
    "        choices[options[i][0].upper()] = options[i]\n",
    "        options[i] = options[i][0].upper() + options[i][1:]\n",
    "    choice = \"\" # Empty string\n",
    "    while choice.upper() not in choices:\n",
    "        choice = input(\", \".join(options) + \"? \")\n",
    "    return choices[choice.upper()]\n",
    "\n",
    "get_choice(['yes','no','maybe'])"
   ]
  },
  {
   "cell_type": "markdown",
   "id": "576bc32f-c307-45ff-8601-7a83727f6dbe",
   "metadata": {
    "editable": true,
    "slideshow": {
     "slide_type": ""
    },
    "tags": [
     "blank"
    ]
   },
   "source": [
    "<p style=\"height:20em;\"></p>"
   ]
  },
  {
   "cell_type": "markdown",
   "id": "0bdfcc84-7ff1-49b3-be09-96182724907c",
   "metadata": {
    "editable": true,
    "slideshow": {
     "slide_type": ""
    },
    "tags": [
     "question"
    ]
   },
   "source": [
    "*Write a function called `splice` that takes two strings (`str1` and `str2`) and an integer (`index`) as a parameter and returns a new string with `str2` inserted into `str1` at index. For example, `splice(\"abcd\", \"ef\", 2)` should return `\"abefcd\"`. If `index` is less than zero, `str2` should be put at the front of `str1`; if index is greater than the length of `str1`, then `str2` should be put at the end of `str1`.*"
   ]
  },
  {
   "cell_type": "code",
   "execution_count": 14,
   "id": "be8f6f8b-b62a-4cfc-8fc9-892f20a7830e",
   "metadata": {
    "editable": true,
    "slideshow": {
     "slide_type": ""
    },
    "tags": [
     "answer"
    ]
   },
   "outputs": [],
   "source": [
    "def splice(str1, str2, index):\n",
    "    \"\"\"\n",
    "    >>> splice(\"abcd\", \"ef\", 2)\n",
    "    'abefcd'\n",
    "    \"\"\"\n",
    "    if index < 0:\n",
    "        index = 0\n",
    "    elif index > len(str1):\n",
    "        index = len(str1)\n",
    "    return str1[:index] + str2 + str1[index:]"
   ]
  },
  {
   "cell_type": "markdown",
   "id": "9fd0beb8-67d5-492f-9dd1-a882d9e9f953",
   "metadata": {
    "editable": true,
    "slideshow": {
     "slide_type": ""
    },
    "tags": [
     "blank"
    ]
   },
   "source": [
    "<p style=\"height:20em;\"></p>"
   ]
  },
  {
   "cell_type": "markdown",
   "id": "9da86a00-781c-4858-bafc-094ebacc5c92",
   "metadata": {
    "editable": true,
    "slideshow": {
     "slide_type": ""
    },
    "tags": [
     "question"
    ]
   },
   "source": [
    "_Write a function called `total` that takes the name of a file containing either a word or an integer on each line of the file and returns the sum of the integers contained in the file. The function should return -1 if the file does not exist._\n",
    "\n",
    "_Sample file:_\n",
    "```\n",
    "Colgate\n",
    "13\n",
    "courses\n",
    "101\n",
    "102\n",
    "```\n",
    "_Expected result:_ 216"
   ]
  },
  {
   "cell_type": "code",
   "execution_count": 23,
   "id": "0fad5483-340b-4940-ab2f-5fdeb5923ef8",
   "metadata": {
    "editable": true,
    "slideshow": {
     "slide_type": ""
    },
    "tags": [
     "answer"
    ]
   },
   "outputs": [],
   "source": [
    "def total(filename: str) -> int:\n",
    "    try:\n",
    "        result = 0\n",
    "        file = open(filename, 'r')\n",
    "        for line in file:\n",
    "            line = line.strip()\n",
    "            if line.isdigit():\n",
    "                result += int(line)\n",
    "        file.close()\n",
    "        return result\n",
    "    except:\n",
    "        return -1"
   ]
  },
  {
   "cell_type": "code",
   "execution_count": 15,
   "id": "8924e009-08a4-4c8d-8bab-df7175f1dc6c",
   "metadata": {
    "editable": true,
    "slideshow": {
     "slide_type": ""
    },
    "tags": [
     "notes-only"
    ]
   },
   "outputs": [
    {
     "name": "stdout",
     "output_type": "stream",
     "text": [
      "**********************************************************************\n",
      "File \"__main__\", line 5, in __main__.contains\n",
      "Failed example:\n",
      "    contains('giraffe', ['hen', 'pen', 'egg', 'in'])\n",
      "Expected:\n",
      "    None\n",
      "Got nothing\n",
      "**********************************************************************\n",
      "1 items had failures:\n",
      "   1 of   2 in __main__.contains\n",
      "***Test Failed*** 1 failures.\n"
     ]
    },
    {
     "data": {
      "text/plain": [
       "TestResults(failed=1, attempted=3)"
      ]
     },
     "execution_count": 15,
     "metadata": {},
     "output_type": "execute_result"
    }
   ],
   "source": [
    "import doctest\n",
    "doctest.testmod()"
   ]
  }
 ],
 "metadata": {
  "kernelspec": {
   "display_name": "Python 3 (ipykernel)",
   "language": "python",
   "name": "python3"
  },
  "language_info": {
   "codemirror_mode": {
    "name": "ipython",
    "version": 3
   },
   "file_extension": ".py",
   "mimetype": "text/x-python",
   "name": "python",
   "nbconvert_exporter": "python",
   "pygments_lexer": "ipython3",
   "version": "3.9.6"
  }
 },
 "nbformat": 4,
 "nbformat_minor": 5
}
