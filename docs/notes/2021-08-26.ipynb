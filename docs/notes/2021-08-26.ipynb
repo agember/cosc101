{
 "cells": [
  {
   "cell_type": "markdown",
   "metadata": {
    "slideshow": {
     "slide_type": "skip"
    }
   },
   "source": [
    "# Hello\n",
    "_COSC 101, Introduction to Computing I, 2021-08-36_"
   ]
  },
  {
   "cell_type": "markdown",
   "metadata": {
    "slideshow": {
     "slide_type": "skip"
    }
   },
   "source": [
    "## Announcements\n",
    "* Masks are required in class\n",
    "* Before next class\n",
    "    * Complete \"Getting to know you\" questionnaire\n",
    "    * Review the syllabus\n",
    "    * Read sections 1.1-1.13 and answer pre-class questions"
   ]
  },
  {
   "cell_type": "markdown",
   "metadata": {
    "tags": [
     "notes-only"
    ]
   },
   "source": [
    "## Outline\n",
    "* Getting to know you\n",
    "* Course topics\n",
    "* Syllabus higlights"
   ]
  },
  {
   "cell_type": "markdown",
   "metadata": {
    "tags": [
     "notes-only"
    ]
   },
   "source": [
    "## Getting to know Aaron\n",
    "* My full name is...Aaron Gember-Jacobson\n",
    "* I would prefer you call me...Aaron\n",
    "* My personal pronouns are...he/him/his\n",
    "* I decided to teach this course because...programming is fun, and I enjoy the “aha” moments that occur when students are learning to program.\n",
    "* Do you have any experience with computer science?...Yes, I took my first CS course junior year of high school (18 years ago)\n",
    "* Describe two or three things (i.e., activities, people, places, animals, worthy causes, books, etc.) you currently care most about and why?\n",
    "    * My wife (Emily) and kids (Henry, 5; Molly, 3), because they always love and support me\n",
    "    * Walking to campus, because it gives me time to listen to podcasts and clear my mind\n",
    "    * Creating an equitable and inclusive learning environment, because I want to counteract systems of power and privilege within the field of computer science and within Colgate"
   ]
  },
  {
   "cell_type": "markdown",
   "metadata": {},
   "source": [
    "## Getting to know you"
   ]
  },
  {
   "cell_type": "markdown",
   "metadata": {},
   "source": [
    "I want to learn more about you, so I can help ensure you get the most out of this class and your time at Colgate. Please respond to the following prompts. (I will not share your responses with anyone else.)\n",
    "* My full name is..."
   ]
  },
  {
   "cell_type": "markdown",
   "metadata": {
    "tags": [
     "worksheet-only"
    ]
   },
   "source": [
    "<p style=\"height:2em;\"></p>"
   ]
  },
  {
   "cell_type": "markdown",
   "metadata": {},
   "source": [
    "* I would prefer you call me..."
   ]
  },
  {
   "cell_type": "markdown",
   "metadata": {
    "tags": [
     "worksheet-only"
    ]
   },
   "source": [
    "<p style=\"height:2em;\"></p>"
   ]
  },
  {
   "cell_type": "markdown",
   "metadata": {},
   "source": [
    "* My personal pronouns are..."
   ]
  },
  {
   "cell_type": "markdown",
   "metadata": {
    "tags": [
     "worksheet-only"
    ]
   },
   "source": [
    "<p style=\"height:2em;\"></p>"
   ]
  },
  {
   "cell_type": "markdown",
   "metadata": {},
   "source": [
    "* I decided to take this course because..."
   ]
  },
  {
   "cell_type": "markdown",
   "metadata": {
    "tags": [
     "worksheet-only"
    ]
   },
   "source": [
    "<p style=\"height:10em;\"></p>"
   ]
  },
  {
   "cell_type": "markdown",
   "metadata": {},
   "source": [
    "* Do you have any experience with computer science?"
   ]
  },
  {
   "cell_type": "markdown",
   "metadata": {
    "tags": [
     "worksheet-only"
    ]
   },
   "source": [
    "<p style=\"height:10em;\"></p>"
   ]
  },
  {
   "cell_type": "markdown",
   "metadata": {},
   "source": [
    "* Describe two or three things (i.e., activities, people, places, animals, worthy causes, books, etc.) you currently care most about and why."
   ]
  },
  {
   "cell_type": "markdown",
   "metadata": {
    "tags": [
     "notes-only"
    ]
   },
   "source": [
    "## What is \"Introduction to Computing I\"?\n",
    "* \"**Computer science** is the study of algorithmic processes and the machines that carry out these processes.\" -- Colgate Catalog\n",
    "* \"An **algorithm** is a step by step list of instructions that if followed exactly will solve the problem under consideration.\"  -- How to Think Like a Computer Scientist\n",
    "* \"**Programming** is a skill that allows a computer scientist to take an algorithm and represent it in a notation (a program) that can be followed by a computer.\"  -- How to Think Like a Computer Scientist\n",
    "* **Introduction** ⇒ no prior programming experience required\n",
    "* Algorithms and programming are only two aspects of computer science; CS also involves:\n",
    "    * Creativity --- many ways to solve a problem with different trade-offs\n",
    "    * Data --- gathering, organizing, analyzing; processed by programs\n",
    "    * Abstraction --- “hiding” some details of the solution, e.g., how the hardware works\n",
    "* Areas of computer science\n",
    "    * Networking\n",
    "    * Artificial intelligence, machine learning, natural language processing\n",
    "    * Programming languages\n",
    "    * Architecture --- design of computing hardware (e.g., CPU)\n",
    "    * Security\n",
    "    * Human-computer interaction (HCI)\n",
    "    * Graphics\n",
    "    * And more...\n",
    "* Computer science intersects with lots of other disciplines, such as:\n",
    "    * Biology --- searching for patterns in genomic data\n",
    "    * History --- analyzing ancient texts\n",
    "    * Geology --- earthquake modeling\n",
    "    * Political science --- sentiment analysis; predicting election outcomes\n",
    "    * Astronomy --- analyzing telescope images\n",
    "    * Finance --- high-frequency trading"
   ]
  },
  {
   "cell_type": "markdown",
   "metadata": {
    "tags": [
     "notes-only"
    ]
   },
   "source": [
    "## Syllabus highlights\n",
    "* Before each class, read listed textbook sections and answer pre-class questions on Moodle\n",
    "    * For Monday: Read sections 1.1-1.13 and answer pre-class questions\n",
    "* Class meetings: warm-up problems, working through examples, clarifying concepts, individual and small group problem solving  \n",
    "    * Everyone is expected to speak in class; it is okay to be wrong -- I also do things wrong!\n",
    "* Labs start next week\n",
    "* Reflections on DEI in relation to CS\n",
    "* Time management: start assignments when they are released and work over multiple shorter sessions\n",
    "* Deadlines: I will be reasonably flexible as long as you are responsible\n",
    "* Academic honesty: I want you to succeed, and I will do everything I can to help you; violating the academic honesty expectations almost always leads to a bad experience for you and me\n",
    "* Feedback on the course is always welcome"
   ]
  }
 ],
 "metadata": {
  "celltoolbar": "Tags",
  "kernelspec": {
   "display_name": "Python 3 (ipykernel)",
   "language": "python",
   "name": "python3"
  },
  "language_info": {
   "codemirror_mode": {
    "name": "ipython",
    "version": 3
   },
   "file_extension": ".py",
   "mimetype": "text/x-python",
   "name": "python",
   "nbconvert_exporter": "python",
   "pygments_lexer": "ipython3",
   "version": "3.8.2"
  }
 },
 "nbformat": 4,
 "nbformat_minor": 4
}
