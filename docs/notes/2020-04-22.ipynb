{
 "cells": [
  {
   "cell_type": "markdown",
   "metadata": {},
   "source": [
    "# 2020-04-02: Dictionaries: references"
   ]
  },
  {
   "cell_type": "markdown",
   "metadata": {},
   "source": [
    "# Warm-up\n",
    "*Assume each line of the file `synonyms.txt` contains a word followed by one or more synonyms, e.g.:*\n",
    "```\n",
    "small little compact tiny\n",
    "large big huge immense vast\n",
    "tall large towering \n",
    "```\n",
    "*Write a function called `load_synonyms` that reads the file and returns a dictionary containing the words and their corresponding list of synonyms, e.g.:*\n",
    "```\n",
    "{'small' : ['little','compact','tiny'], 'large' : ['big','huge','immense','vast'], 'tall' : ['large','towering']}\n",
    "```"
   ]
  },
  {
   "cell_type": "code",
   "execution_count": null,
   "metadata": {
    "tags": [
     "colab-only"
    ]
   },
   "outputs": [],
   "source": []
  },
  {
   "cell_type": "code",
   "execution_count": 1,
   "metadata": {
    "tags": [
     "notes-only"
    ]
   },
   "outputs": [
    {
     "name": "stdout",
     "output_type": "stream",
     "text": [
      "{'small': ['little', 'compact', 'tiny'], 'large': ['big', 'huge', 'immense', 'vast'], 'tall': ['large', 'towering']}\n"
     ]
    }
   ],
   "source": [
    "with open('synonyms.txt', 'w') as outfile:\n",
    "    outfile.write('small little compact tiny\\nlarge big huge immense vast\\ntall large towering')\n",
    "    \n",
    "def load_synonyms():\n",
    "    file = open('synonyms.txt', 'r')\n",
    "    synonyms = {}\n",
    "    for line in file:\n",
    "        words = line.split()\n",
    "        synonyms[words[0]] = words[1:]\n",
    "    file.close()\n",
    "    return synonyms\n",
    "\n",
    "print(load_synonyms())"
   ]
  }
 ],
 "metadata": {
  "celltoolbar": "Tags",
  "kernelspec": {
   "display_name": "Python 3",
   "language": "python",
   "name": "python3"
  },
  "language_info": {
   "codemirror_mode": {
    "name": "ipython",
    "version": 3
   },
   "file_extension": ".py",
   "mimetype": "text/x-python",
   "name": "python",
   "nbconvert_exporter": "python",
   "pygments_lexer": "ipython3",
   "version": "3.7.6"
  }
 },
 "nbformat": 4,
 "nbformat_minor": 4
}
