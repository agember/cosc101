{
 "cells": [
  {
   "cell_type": "markdown",
   "metadata": {},
   "source": [
    "# 2020-04-22: Dictionaries: tuples"
   ]
  },
  {
   "cell_type": "markdown",
   "metadata": {},
   "source": [
    "# Announcements\n",
    "* Homework #9 due Thursday @ 11pm EDT"
   ]
  },
  {
   "cell_type": "markdown",
   "metadata": {},
   "source": [
    "# Warm-up\n",
    "*Assume each line of the file `synonyms.txt` contains a word followed by one or more synonyms, e.g.:*\n",
    "```\n",
    "small little compact tiny\n",
    "large big huge immense vast\n",
    "tall large towering \n",
    "```\n",
    "*Write a function called `load_synonyms` that reads the file and returns a dictionary containing the words and their corresponding list of synonyms, e.g.:*\n",
    "```\n",
    "{'small' : ['little','compact','tiny'], 'large' : ['big','huge','immense','vast'], 'tall' : ['large','towering']}\n",
    "```"
   ]
  },
  {
   "cell_type": "code",
   "execution_count": 36,
   "metadata": {
    "tags": [
     "colab-only"
    ]
   },
   "outputs": [],
   "source": [
    "# Write the load_synonyms function in this code cell"
   ]
  },
  {
   "cell_type": "code",
   "execution_count": 37,
   "metadata": {
    "tags": [
     "notes-only"
    ]
   },
   "outputs": [
    {
     "name": "stdout",
     "output_type": "stream",
     "text": [
      "{'small': ['little', 'compact', 'tiny'], 'large': ['big', 'huge', 'immense', 'vast'], 'tall': ['large', 'towering']}\n"
     ]
    }
   ],
   "source": [
    "with open('synonyms.txt', 'w') as outfile:\n",
    "    outfile.write('small little compact tiny\\nlarge big huge immense vast\\ntall large towering')\n",
    "    \n",
    "def load_synonyms():\n",
    "    file = open('synonyms.txt', 'r')\n",
    "    synonyms = {}\n",
    "    for line in file:\n",
    "        words = line.split()\n",
    "        synonyms[words[0]] = words[1:]\n",
    "    file.close()\n",
    "    return synonyms\n",
    "\n",
    "print(load_synonyms())"
   ]
  },
  {
   "cell_type": "markdown",
   "metadata": {
    "tags": [
     "notes-only"
    ]
   },
   "source": [
    "# Tuples\n",
    "* Tuples are read-only lists\n",
    "* Use parenthesis `()` instead of square brackets `[]` when defining the list\n",
    "* If a tuple contains only one item, you must include a comma after that item, e.g.: `(1,)`"
   ]
  },
  {
   "cell_type": "markdown",
   "metadata": {},
   "source": [
    "# Practice with tuples\n",
    "*Assume the following statements have been executed*"
   ]
  },
  {
   "cell_type": "code",
   "execution_count": 38,
   "metadata": {},
   "outputs": [],
   "source": [
    "chips = ['potato', 'tortilla', 'chocolate']\n",
    "dips = ('salsa', 'guacamole', 'hummus')"
   ]
  },
  {
   "cell_type": "markdown",
   "metadata": {},
   "source": [
    "*Which of the following are **invalid** expressions/statments? Why?*"
   ]
  },
  {
   "cell_type": "code",
   "execution_count": 39,
   "metadata": {
    "tags": [
     "worksheet-code-only"
    ]
   },
   "outputs": [
    {
     "data": {
      "text/plain": [
       "3"
      ]
     },
     "execution_count": 39,
     "metadata": {},
     "output_type": "execute_result"
    }
   ],
   "source": [
    "len(dips)"
   ]
  },
  {
   "cell_type": "code",
   "execution_count": 40,
   "metadata": {
    "tags": [
     "worksheet-code-only"
    ]
   },
   "outputs": [
    {
     "ename": "TypeError",
     "evalue": "'tuple' object is not callable",
     "output_type": "error",
     "traceback": [
      "\u001b[0;31m---------------------------------------------------------------------------\u001b[0m",
      "\u001b[0;31mTypeError\u001b[0m                                 Traceback (most recent call last)",
      "\u001b[0;32m<ipython-input-40-6c9b76961031>\u001b[0m in \u001b[0;36m<module>\u001b[0;34m\u001b[0m\n\u001b[0;32m----> 1\u001b[0;31m \u001b[0mdips\u001b[0m\u001b[0;34m(\u001b[0m\u001b[0;36m1\u001b[0m\u001b[0;34m)\u001b[0m\u001b[0;34m\u001b[0m\u001b[0;34m\u001b[0m\u001b[0m\n\u001b[0m",
      "\u001b[0;31mTypeError\u001b[0m: 'tuple' object is not callable"
     ]
    }
   ],
   "source": [
    "dips(1)"
   ]
  },
  {
   "cell_type": "code",
   "execution_count": 41,
   "metadata": {
    "tags": [
     "worksheet-code-only"
    ]
   },
   "outputs": [
    {
     "data": {
      "text/plain": [
       "('salsa', 'guacamole')"
      ]
     },
     "execution_count": 41,
     "metadata": {},
     "output_type": "execute_result"
    }
   ],
   "source": [
    "dips[:2]"
   ]
  },
  {
   "cell_type": "code",
   "execution_count": 46,
   "metadata": {
    "tags": [
     "worksheet-code-only"
    ]
   },
   "outputs": [],
   "source": [
    "chips[-1] = \"corn\""
   ]
  },
  {
   "cell_type": "code",
   "execution_count": 47,
   "metadata": {
    "tags": [
     "worksheet-code-only"
    ]
   },
   "outputs": [
    {
     "ename": "TypeError",
     "evalue": "'tuple' object does not support item assignment",
     "output_type": "error",
     "traceback": [
      "\u001b[0;31m---------------------------------------------------------------------------\u001b[0m",
      "\u001b[0;31mTypeError\u001b[0m                                 Traceback (most recent call last)",
      "\u001b[0;32m<ipython-input-47-345f585d4328>\u001b[0m in \u001b[0;36m<module>\u001b[0;34m\u001b[0m\n\u001b[0;32m----> 1\u001b[0;31m \u001b[0mdips\u001b[0m\u001b[0;34m[\u001b[0m\u001b[0;34m-\u001b[0m\u001b[0;36m1\u001b[0m\u001b[0;34m]\u001b[0m \u001b[0;34m=\u001b[0m \u001b[0;34m'sour cream'\u001b[0m\u001b[0;34m\u001b[0m\u001b[0;34m\u001b[0m\u001b[0m\n\u001b[0m",
      "\u001b[0;31mTypeError\u001b[0m: 'tuple' object does not support item assignment"
     ]
    }
   ],
   "source": [
    "dips[-1] = 'sour cream'"
   ]
  },
  {
   "cell_type": "code",
   "execution_count": 43,
   "metadata": {
    "tags": [
     "worksheet-code-only"
    ]
   },
   "outputs": [
    {
     "data": {
      "text/plain": [
       "('salsa', 'guacamole', 'hummus', 'spinach artichoke', 'olive tapenade')"
      ]
     },
     "execution_count": 43,
     "metadata": {},
     "output_type": "execute_result"
    }
   ],
   "source": [
    "dips + ('spinach artichoke', 'olive tapenade')"
   ]
  },
  {
   "cell_type": "code",
   "execution_count": 44,
   "metadata": {
    "tags": [
     "worksheet-code-only"
    ]
   },
   "outputs": [
    {
     "ename": "TypeError",
     "evalue": "can only concatenate tuple (not \"str\") to tuple",
     "output_type": "error",
     "traceback": [
      "\u001b[0;31m---------------------------------------------------------------------------\u001b[0m",
      "\u001b[0;31mTypeError\u001b[0m                                 Traceback (most recent call last)",
      "\u001b[0;32m<ipython-input-44-e2d24e6942cb>\u001b[0m in \u001b[0;36m<module>\u001b[0;34m\u001b[0m\n\u001b[0;32m----> 1\u001b[0;31m \u001b[0mdips\u001b[0m \u001b[0;34m+\u001b[0m \u001b[0;34m(\u001b[0m\u001b[0;34m'queso'\u001b[0m\u001b[0;34m)\u001b[0m\u001b[0;34m\u001b[0m\u001b[0;34m\u001b[0m\u001b[0m\n\u001b[0m",
      "\u001b[0;31mTypeError\u001b[0m: can only concatenate tuple (not \"str\") to tuple"
     ]
    }
   ],
   "source": [
    "dips + ('queso')"
   ]
  },
  {
   "cell_type": "code",
   "execution_count": 45,
   "metadata": {
    "tags": [
     "worksheet-code-only"
    ]
   },
   "outputs": [
    {
     "ename": "TypeError",
     "evalue": "can only concatenate list (not \"tuple\") to list",
     "output_type": "error",
     "traceback": [
      "\u001b[0;31m---------------------------------------------------------------------------\u001b[0m",
      "\u001b[0;31mTypeError\u001b[0m                                 Traceback (most recent call last)",
      "\u001b[0;32m<ipython-input-45-70e2f7776291>\u001b[0m in \u001b[0;36m<module>\u001b[0;34m\u001b[0m\n\u001b[0;32m----> 1\u001b[0;31m \u001b[0mchips\u001b[0m \u001b[0;34m+\u001b[0m \u001b[0mdips\u001b[0m\u001b[0;34m\u001b[0m\u001b[0;34m\u001b[0m\u001b[0m\n\u001b[0m",
      "\u001b[0;31mTypeError\u001b[0m: can only concatenate list (not \"tuple\") to list"
     ]
    }
   ],
   "source": [
    "chips + dips"
   ]
  },
  {
   "cell_type": "markdown",
   "metadata": {
    "tags": [
     "notes-only"
    ]
   },
   "source": [
    "# Tuple assignment & return\n",
    "* A tuple of values can be assigned to a tuple of variables"
   ]
  },
  {
   "cell_type": "code",
   "execution_count": 48,
   "metadata": {
    "tags": [
     "notes-only"
    ]
   },
   "outputs": [
    {
     "name": "stdout",
     "output_type": "stream",
     "text": [
      "1\n",
      "2\n"
     ]
    }
   ],
   "source": [
    "(one, two) = (1, 2)\n",
    "print(one)\n",
    "print(two)"
   ]
  },
  {
   "cell_type": "markdown",
   "metadata": {
    "tags": [
     "notes-only"
    ]
   },
   "source": [
    "* A function can return a tuple of values"
   ]
  },
  {
   "cell_type": "code",
   "execution_count": 50,
   "metadata": {
    "tags": [
     "notes-only"
    ]
   },
   "outputs": [
    {
     "name": "stdout",
     "output_type": "stream",
     "text": [
      "(6, 2, 8, 2.0)\n"
     ]
    }
   ],
   "source": [
    "def two(x):\n",
    "    add = x + 2\n",
    "    sub = x - 2\n",
    "    mul = x * 2\n",
    "    div = x / 2\n",
    "    return (add, sub, mul, div)\n",
    "\n",
    "print(two(4))"
   ]
  },
  {
   "cell_type": "markdown",
   "metadata": {
    "tags": [
     "notes-only"
    ]
   },
   "source": [
    "* Use the `items` function with a dictionary to access each key value pair as a tuple"
   ]
  },
  {
   "cell_type": "code",
   "execution_count": 55,
   "metadata": {
    "tags": [
     "notes-only"
    ]
   },
   "outputs": [
    {
     "name": "stdout",
     "output_type": "stream",
     "text": [
      "A baby dog is called a puppy\n",
      "A baby cat is called a kitten\n",
      "A baby cow is called a calf\n"
     ]
    }
   ],
   "source": [
    "babies = {'dog': 'puppy', 'cat': 'kitten', 'cow': 'calf'}\n",
    "for k, v in babies.items():\n",
    "    print(\"A baby\", k, \"is called a\", v)"
   ]
  },
  {
   "cell_type": "markdown",
   "metadata": {},
   "source": [
    "# Background: Battleship\n",
    "* A board game where players try to guess the location of each others’ ships\n",
    "* Each player has a grid on which they place ships of varying lengths (all ships are 1 unit wide)\n"
   ]
  },
  {
   "cell_type": "markdown",
   "metadata": {},
   "source": [
    "<table>\n",
    "    <tr style=\"background-color:White;\">\n",
    "        <td></td>\n",
    "        <td style=\"width:25px;\">0</td>\n",
    "        <td style=\"width:25px;\">1</td>\n",
    "        <td style=\"width:25px;\">2</td>\n",
    "        <td style=\"width:25px;\">3</td>\n",
    "        <td style=\"width:25px;\">4</td>\n",
    "    </tr>\n",
    "    <tr style=\"background-color:Aqua;\">\n",
    "        <td style=\"background-color:White;\">0</td>\n",
    "        <td rowspan=\"3\" style=\"text-align:center; background-color:Gray; border: 1px solid black;\">A</td>\n",
    "        <td style=\"border: 1px solid black;\"></td>\n",
    "        <td style=\"border: 1px solid black;\"></td>\n",
    "        <td style=\"border: 1px solid black;\"></td>\n",
    "        <td style=\"border: 1px solid black;\"></td>\n",
    "    </tr>\n",
    "    <tr style=\"background-color:Aqua;\">\n",
    "        <td style=\"background-color:White;\">1</td>\n",
    "        <td style=\"border: 1px solid black;\"></td>\n",
    "        <td colspan=\"2\" style=\"text-align:center; background-color:Gray; border: 1px solid black;\">B</td>\n",
    "        <td style=\"border: 1px solid black;\"></td>\n",
    "    </tr>\n",
    "    <tr style=\"background-color:Aqua;\">\n",
    "        <td style=\"background-color:White;\">2</td>\n",
    "        <td style=\"border: 1px solid black;\"></td>\n",
    "        <td style=\"border: 1px solid black;\"></td>\n",
    "        <td style=\"border: 1px solid black;\"></td>\n",
    "        <td style=\"border: 1px solid black;\"></td>\n",
    "    </tr>\n",
    "    <tr style=\"background-color:Aqua;\">\n",
    "        <td style=\"background-color:White;\">3</td>\n",
    "        <td style=\"border: 1px solid black;\"></td>\n",
    "        <td style=\"border: 1px solid black;\"></td>\n",
    "        <td style=\"border: 1px solid black;\"></td>\n",
    "        <td style=\"border: 1px solid black;\"></td>\n",
    "        <td style=\"border: 1px solid black;\"></td>\n",
    "    </tr>\n",
    "    <tr style=\"background-color:Aqua;\">\n",
    "        <td style=\"background-color:White;\">4</td>\n",
    "        <td style=\"border: 1px solid black;\"></td>\n",
    "        <td colspan=\"4\" style=\"text-align:center; background-color:Gray; border: 1px solid black;\">B</td>\n",
    "    </tr>\n",
    "</table>"
   ]
  },
  {
   "cell_type": "markdown",
   "metadata": {},
   "source": [
    "* Each player’s grid of is hidden from the other player\n",
    "* On their turn, a player names a grid coordinate--e.g., (1, 3)--which they think may be occupied by one of the other player’s ship\n",
    "    * If there is not a ship at that coordinate, then the guess is a miss and it is the other player’s turn\n",
    "    * If there is a ship at that coordinate, then the guess is a hit\n",
    "        * The same player gets to guess again\n",
    "        * When a player has guessed all of the coordinates occupied by one of the other player’s ships, then the ship is sunk"
   ]
  },
  {
   "cell_type": "markdown",
   "metadata": {},
   "source": [
    "# Lists vs Dictionaries\n",
    "* Represent the grid as a list of lists\n",
    "    * Each sublist corresponds to one row in the grid\n",
    "    * Each value in a sublist is either a space (for empty) or a letter (for the corresponding ship)"
   ]
  },
  {
   "cell_type": "code",
   "execution_count": 3,
   "metadata": {},
   "outputs": [],
   "source": [
    "grid_as_list = [['A',' ',' ',' ',' '],\n",
    "                ['A',' ','B','B',' '],\n",
    "                ['A',' ',' ',' ',' '],\n",
    "                [' ',' ',' ',' ',' '],\n",
    "                [' ','C','C','C','C']]"
   ]
  },
  {
   "cell_type": "markdown",
   "metadata": {
    "tags": [
     "notes-only"
    ]
   },
   "source": [
    "* *What do you notice about most of the values?* --- they are spaces; larger grid would have even more\n",
    "* More efficient approach: only store the grid locations with ships\n",
    "* Representing the grid as a dictionary\n",
    "    * Each key is a tuple that corresponds to a grid coordinate -- e.g., `(0,1)`"
   ]
  },
  {
   "cell_type": "code",
   "execution_count": 4,
   "metadata": {
    "tags": [
     "notes-only"
    ]
   },
   "outputs": [],
   "source": [
    "grid_as_dict = {(0,0) : 'A', (0,1) : 'A', (0,2) : 'A', \n",
    "                (2,1) : 'B', (3,1) : 'B', \n",
    "                (1,4) : 'C', (2,4) : 'C', (3,4) : 'C', (4,4) : 'C' }"
   ]
  },
  {
   "cell_type": "markdown",
   "metadata": {},
   "source": [
    "* *Write a function called `gridL_to_gridD` that converts a list-of-lists representation of a Battleship grid to a dictionary representation of a Battleship grid. It should work with a grid of any size.*"
   ]
  },
  {
   "cell_type": "code",
   "execution_count": 5,
   "metadata": {
    "tags": [
     "colab-only"
    ]
   },
   "outputs": [],
   "source": [
    "# Write the gridL_to_gridD function in this code cell"
   ]
  },
  {
   "cell_type": "code",
   "execution_count": 6,
   "metadata": {
    "tags": [
     "notes-only"
    ]
   },
   "outputs": [
    {
     "name": "stdout",
     "output_type": "stream",
     "text": [
      "{(0, 0): 'A', (0, 1): 'A', (2, 1): 'B', (3, 1): 'B', (0, 2): 'A', (1, 4): 'C', (2, 4): 'C', (3, 4): 'C', (4, 4): 'C'}\n"
     ]
    }
   ],
   "source": [
    "def gridL_to_gridD(gridL):\n",
    "    gridD = {}\n",
    "    for y in range(len(gridL)):\n",
    "        row = gridL[y]\n",
    "        for x in range(len(row)):\n",
    "            cell = row[x]\n",
    "            if cell != ' ':\n",
    "                gridD[(x,y)] = cell\n",
    "    return gridD\n",
    "\n",
    "print(gridL_to_gridD(grid_as_list))"
   ]
  }
 ],
 "metadata": {
  "celltoolbar": "Tags",
  "kernelspec": {
   "display_name": "Python 3",
   "language": "python",
   "name": "python3"
  },
  "language_info": {
   "codemirror_mode": {
    "name": "ipython",
    "version": 3
   },
   "file_extension": ".py",
   "mimetype": "text/x-python",
   "name": "python",
   "nbconvert_exporter": "python",
   "pygments_lexer": "ipython3",
   "version": "3.7.6"
  }
 },
 "nbformat": 4,
 "nbformat_minor": 4
}
