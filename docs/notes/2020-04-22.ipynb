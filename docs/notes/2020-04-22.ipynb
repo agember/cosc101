{
 "cells": [
  {
   "cell_type": "markdown",
   "metadata": {},
   "source": [
    "# 2020-04-22: Dictionaries: references"
   ]
  },
  {
   "cell_type": "markdown",
   "metadata": {},
   "source": [
    "# Announcements\n",
    "* Homework #9 due Thursday @ 11pm EDT"
   ]
  },
  {
   "cell_type": "markdown",
   "metadata": {},
   "source": [
    "# Warm-up\n",
    "*Assume each line of the file `synonyms.txt` contains a word followed by one or more synonyms, e.g.:*\n",
    "```\n",
    "small little compact tiny\n",
    "large big huge immense vast\n",
    "tall large towering \n",
    "```\n",
    "*Write a function called `load_synonyms` that reads the file and returns a dictionary containing the words and their corresponding list of synonyms, e.g.:*\n",
    "```\n",
    "{'small' : ['little','compact','tiny'], 'large' : ['big','huge','immense','vast'], 'tall' : ['large','towering']}\n",
    "```"
   ]
  },
  {
   "cell_type": "code",
   "execution_count": 1,
   "metadata": {
    "tags": [
     "colab-only"
    ]
   },
   "outputs": [],
   "source": [
    "# Write the load_synonyms function in this code cell"
   ]
  },
  {
   "cell_type": "code",
   "execution_count": 2,
   "metadata": {
    "tags": [
     "notes-only"
    ]
   },
   "outputs": [
    {
     "name": "stdout",
     "output_type": "stream",
     "text": [
      "{'small': ['little', 'compact', 'tiny'], 'large': ['big', 'huge', 'immense', 'vast'], 'tall': ['large', 'towering']}\n"
     ]
    }
   ],
   "source": [
    "with open('synonyms.txt', 'w') as outfile:\n",
    "    outfile.write('small little compact tiny\\nlarge big huge immense vast\\ntall large towering')\n",
    "    \n",
    "def load_synonyms():\n",
    "    file = open('synonyms.txt', 'r')\n",
    "    synonyms = {}\n",
    "    for line in file:\n",
    "        words = line.split()\n",
    "        synonyms[words[0]] = words[1:]\n",
    "    file.close()\n",
    "    return synonyms\n",
    "\n",
    "print(load_synonyms())"
   ]
  },
  {
   "cell_type": "markdown",
   "metadata": {},
   "source": [
    "# Background: Battleship\n",
    "* A board game where players try to guess the location of each others’ ships\n",
    "* Each player has a grid on which they place ships of varying lengths (all ships are 1 unit wide), for example:\n",
    "<table>\n",
    "    <tr style=\"background-color:White;\">\n",
    "        <td></td>\n",
    "        <td style=\"width:25px;\">0</td>\n",
    "        <td style=\"width:25px;\">1</td>\n",
    "        <td style=\"width:25px;\">2</td>\n",
    "        <td style=\"width:25px;\">3</td>\n",
    "        <td style=\"width:25px;\">4</td>\n",
    "    </tr>\n",
    "    <tr style=\"background-color:Aqua;\">\n",
    "        <td style=\"background-color:White;\">0</td>\n",
    "        <td rowspan=\"3\" style=\"text-align:center; background-color:Gray; border: 1px solid black;\">A</td>\n",
    "        <td style=\"border: 1px solid black;\"></td>\n",
    "        <td style=\"border: 1px solid black;\"></td>\n",
    "        <td style=\"border: 1px solid black;\"></td>\n",
    "        <td style=\"border: 1px solid black;\"></td>\n",
    "    </tr>\n",
    "    <tr style=\"background-color:Aqua;\">\n",
    "        <td style=\"background-color:White;\">1</td>\n",
    "        <td style=\"border: 1px solid black;\"></td>\n",
    "        <td colspan=\"2\" style=\"text-align:center; background-color:Gray; border: 1px solid black;\">B</td>\n",
    "        <td style=\"border: 1px solid black;\"></td>\n",
    "    </tr>\n",
    "    <tr style=\"background-color:Aqua;\">\n",
    "        <td style=\"background-color:White;\">2</td>\n",
    "        <td style=\"border: 1px solid black;\"></td>\n",
    "        <td style=\"border: 1px solid black;\"></td>\n",
    "        <td style=\"border: 1px solid black;\"></td>\n",
    "        <td style=\"border: 1px solid black;\"></td>\n",
    "    </tr>\n",
    "    <tr style=\"background-color:Aqua;\">\n",
    "        <td style=\"background-color:White;\">3</td>\n",
    "        <td style=\"border: 1px solid black;\"></td>\n",
    "        <td style=\"border: 1px solid black;\"></td>\n",
    "        <td style=\"border: 1px solid black;\"></td>\n",
    "        <td style=\"border: 1px solid black;\"></td>\n",
    "        <td style=\"border: 1px solid black;\"></td>\n",
    "    </tr>\n",
    "    <tr style=\"background-color:Aqua;\">\n",
    "        <td style=\"background-color:White;\">4</td>\n",
    "        <td style=\"border: 1px solid black;\"></td>\n",
    "        <td colspan=\"4\" style=\"text-align:center; background-color:Gray; border: 1px solid black;\">B</td>\n",
    "    </tr>\n",
    "</table>\n",
    "* Each player’s grid of is hidden from the other player\n",
    "* On their turn, a player names a grid coordinate--e.g., (1, 3)--which they think may be occupied by one of the other player’s ship\n",
    "    * If there is not a ship at that coordinate, then the guess is a miss and it is the other player’s turn\n",
    "    * If there is a ship at that coordinate, then the guess is a hit\n",
    "        * The same player gets to guess again\n",
    "        * When a player has guessed all of the coordinates occupied by one of the other player’s ships, then the ship is sunk\n"
   ]
  },
  {
   "cell_type": "markdown",
   "metadata": {},
   "source": [
    "# Lists vs Dictionaries\n",
    "* Represent the grid as a list of lists\n",
    "    * Each sublist corresponds to one row in the grid\n",
    "    * Each value in a sublist is either a space (for empty) or a letter (for the corresponding ship)"
   ]
  },
  {
   "cell_type": "code",
   "execution_count": 3,
   "metadata": {},
   "outputs": [],
   "source": [
    "grid_as_list = [['A',' ',' ',' ',' '],\n",
    "                ['A',' ','B','B',' '],\n",
    "                ['A',' ',' ',' ',' '],\n",
    "                [' ',' ',' ',' ',' '],\n",
    "                [' ','C','C','C','C']]"
   ]
  },
  {
   "cell_type": "markdown",
   "metadata": {
    "tags": [
     "notes-only"
    ]
   },
   "source": [
    "* *What do you notice about most of the values?* --- they are spaces; larger grid would have even more\n",
    "* More efficient approach: only store the grid locations with ships\n",
    "* Representing the grid as a dictionary\n",
    "    * Each key is a tuple that corresponds to a grid coordinate -- e.g., `(0,1)`"
   ]
  },
  {
   "cell_type": "code",
   "execution_count": 4,
   "metadata": {
    "tags": [
     "notes-only"
    ]
   },
   "outputs": [],
   "source": [
    "grid_as_dict = {(0,0) : 'A', (0,1) : 'A', (0,2) : 'A', \n",
    "                (2,1) : 'B', (3,1) : 'B', \n",
    "                (1,4) : 'C', (2,4) : 'C', (3,4) : 'C', (4,4) : 'C' }"
   ]
  },
  {
   "cell_type": "markdown",
   "metadata": {},
   "source": [
    "* *Write a function called `gridL_to_gridD` that converts a list-of-lists representation of a Battleship grid to a dictionary representation of a Battleship grid. It should work with a grid of any size.*"
   ]
  },
  {
   "cell_type": "code",
   "execution_count": 5,
   "metadata": {
    "tags": [
     "colab-only"
    ]
   },
   "outputs": [],
   "source": [
    "# Write the gridL_to_gridD function in this code cell"
   ]
  },
  {
   "cell_type": "code",
   "execution_count": 6,
   "metadata": {
    "tags": [
     "notes-only"
    ]
   },
   "outputs": [
    {
     "name": "stdout",
     "output_type": "stream",
     "text": [
      "{(0, 0): 'A', (0, 1): 'A', (2, 1): 'B', (3, 1): 'B', (0, 2): 'A', (1, 4): 'C', (2, 4): 'C', (3, 4): 'C', (4, 4): 'C'}\n"
     ]
    }
   ],
   "source": [
    "def gridL_to_gridD(gridL):\n",
    "    gridD = {}\n",
    "    for y in range(len(gridL)):\n",
    "        row = gridL[y]\n",
    "        for x in range(len(row)):\n",
    "            cell = row[x]\n",
    "            if cell != ' ':\n",
    "                gridD[(x,y)] = cell\n",
    "    return gridD\n",
    "\n",
    "print(gridL_to_gridD(grid_as_list))"
   ]
  },
  {
   "cell_type": "markdown",
   "metadata": {},
   "source": [
    "# Using dictionaries\n",
    "* *Write a function called `grid_to_ships` that takes a Battleship grid (as a dictionary) and returns a dictionary whose keys are ship identifiers and whose values are the coordinates occupied by each ship. For example, given the grid above, the function should return:* \n",
    "```\n",
    "{'A':[(0,0), (1,0), (2,0)], 'B':[(1,2), (1,3)], 'C':[(4,1), (4,2), (4,3), (4,4)]}\n",
    "```"
   ]
  },
  {
   "cell_type": "code",
   "execution_count": 7,
   "metadata": {
    "tags": [
     "colab-only"
    ]
   },
   "outputs": [],
   "source": [
    "# Write the grid_to_ships function in this code cell"
   ]
  },
  {
   "cell_type": "code",
   "execution_count": 8,
   "metadata": {
    "tags": [
     "notes-only"
    ]
   },
   "outputs": [
    {
     "name": "stdout",
     "output_type": "stream",
     "text": [
      "{'A': [(0, 0), (0, 1), (0, 2)], 'B': [(2, 1), (3, 1)], 'C': [(1, 4), (2, 4), (3, 4), (4, 4)]}\n"
     ]
    }
   ],
   "source": [
    "def grid_to_ships(grid):\n",
    "    ships = {}\n",
    "    for k in grid:\n",
    "        ship = grid[k]\n",
    "        if ship not in ships:\n",
    "            ships[ship] = []\n",
    "        ships[ship].append(k)\n",
    "    return ships\n",
    "\n",
    "ships = grid_to_ships(grid_as_dict)\n",
    "print(ships)"
   ]
  },
  {
   "cell_type": "markdown",
   "metadata": {},
   "source": [
    "* *Write a function called `get_ship` that takes a Battleship grid (as a dictionary), an x-coordinate, and a y-coordinate and returns the letter of the ship located at that coordinate, or None if no ship is located at that coordinate.*"
   ]
  },
  {
   "cell_type": "code",
   "execution_count": 9,
   "metadata": {
    "tags": [
     "colab-only"
    ]
   },
   "outputs": [],
   "source": [
    "# Write the get_ship function in this code cell"
   ]
  },
  {
   "cell_type": "code",
   "execution_count": 10,
   "metadata": {
    "tags": [
     "notes-only"
    ]
   },
   "outputs": [
    {
     "name": "stdout",
     "output_type": "stream",
     "text": [
      "A\n",
      "None\n"
     ]
    }
   ],
   "source": [
    "def get_ship(grid, x, y):\n",
    "    if (x,y) not in grid:\n",
    "        return None\n",
    "    else:\n",
    "        return grid[(x,y)]\n",
    "\n",
    "print(get_ship(grid_as_dict, 0, 0))\n",
    "print(get_ship(grid_as_dict, 4, 0))"
   ]
  },
  {
   "cell_type": "markdown",
   "metadata": {},
   "source": [
    "* *Write a function called `attack` that takes a Battleship grid (as a dictionary), a dictionary of ships (as returned by `grid_to_ships`), an x-coordinate, and a y-coordinate and returns `'Hit X'` if ship X was hit, `'Sunk X'` if ship X was sunk, and '`Miss'` if no ship is located at that coordinate. (Hint: when a ship is hit, remove the hit coordinate from the ship’s list of coordinates in the ship dictionary.)*"
   ]
  },
  {
   "cell_type": "code",
   "execution_count": 11,
   "metadata": {
    "tags": [
     "colab-only"
    ]
   },
   "outputs": [],
   "source": [
    "# Write the attack function in this code cell"
   ]
  },
  {
   "cell_type": "code",
   "execution_count": 12,
   "metadata": {
    "tags": [
     "notes-only"
    ]
   },
   "outputs": [
    {
     "name": "stdout",
     "output_type": "stream",
     "text": [
      "Miss\n",
      "Hit B\n",
      "Sunk B\n"
     ]
    }
   ],
   "source": [
    "def attack(grid, ships, x, y):\n",
    "    if (x,y) not in grid:\n",
    "        return 'Miss'\n",
    "    ship = get_ship(grid, x, y)\n",
    "    ships[ship].remove((x,y))\n",
    "    if len(ships[ship]) == 0:\n",
    "        return 'Sunk ' + ship\n",
    "    else:\n",
    "        return 'Hit ' + ship\n",
    "    \n",
    "print(attack(grid_as_dict, ships, 1, 1))\n",
    "print(attack(grid_as_dict, ships, 2, 1))\n",
    "print(attack(grid_as_dict, ships, 3, 1))"
   ]
  },
  {
   "cell_type": "markdown",
   "metadata": {},
   "source": [
    "* *Write a `main` function that repeatedly asks the user for x and y coordinates until all ships have been sunk. You can assume the user will not enter the same coordinates twice.*"
   ]
  },
  {
   "cell_type": "code",
   "execution_count": 13,
   "metadata": {
    "tags": [
     "colab-only"
    ]
   },
   "outputs": [],
   "source": [
    "# Write the main function in this code cell"
   ]
  },
  {
   "cell_type": "code",
   "execution_count": 14,
   "metadata": {
    "tags": [
     "notes-only"
    ]
   },
   "outputs": [],
   "source": [
    "def main():\n",
    "    ships = grid_to_ships(grid_as_dict)\n",
    "    while len(ships) > 0:\n",
    "        x = int(input(\"X-coordinate: \"))\n",
    "        y = int(input(\"Y-coordinate: \"))\n",
    "        result = attack(grid_as_dict, ships, x, y)\n",
    "        if 'Sunk' in result:\n",
    "            ship = result[-1]\n",
    "            del ships[ship]\n",
    "        print(result)"
   ]
  }
 ],
 "metadata": {
  "celltoolbar": "Tags",
  "kernelspec": {
   "display_name": "Python 3",
   "language": "python",
   "name": "python3"
  },
  "language_info": {
   "codemirror_mode": {
    "name": "ipython",
    "version": 3
   },
   "file_extension": ".py",
   "mimetype": "text/x-python",
   "name": "python",
   "nbconvert_exporter": "python",
   "pygments_lexer": "ipython3",
   "version": "3.7.6"
  }
 },
 "nbformat": 4,
 "nbformat_minor": 4
}
