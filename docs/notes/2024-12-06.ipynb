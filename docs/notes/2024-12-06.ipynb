{
 "cells": [
  {
   "cell_type": "markdown",
   "id": "3d6acc06-a825-4115-a4a0-89a5c7d35253",
   "metadata": {
    "editable": true,
    "slideshow": {
     "slide_type": "skip"
    },
    "tags": []
   },
   "source": [
    "# Machine learning: implementation\n",
    "_COSC 101, Introduction to Computing I, 2024-12-06_"
   ]
  },
  {
   "cell_type": "markdown",
   "id": "64dcac14-368d-4f93-bec7-70deffd16569",
   "metadata": {
    "editable": true,
    "slideshow": {
     "slide_type": "skip"
    },
    "tags": []
   },
   "source": [
    "## Announcements\n",
    "* Exam 3 reattempts Wednesday 11:20am-11:45am\n",
    "    * No need to attend class on Wednesday if you do not need to reattempt any questions\n",
    "* Revisions to homeworks 5, 6, and/or 7 due Thursday @ 11:59pm"
   ]
  },
  {
   "cell_type": "markdown",
   "id": "d128766f-516a-4b74-9847-54b866c06644",
   "metadata": {},
   "source": [
    "## Warm-up"
   ]
  },
  {
   "cell_type": "markdown",
   "id": "1c8f6c70-1031-48a9-88bb-2a3d078cd948",
   "metadata": {
    "editable": true,
    "slideshow": {
     "slide_type": ""
    },
    "tags": []
   },
   "source": [
    "_Write a function called `predict_fly` that takes a dictionary of boolean features (e.g., `{'animal': True, 'wings': False, 'heavy': True, 'propeller': False}`) and implements your decision tree from last class to predict whether or not the thing flies (i.e., return `True` or `False`)._"
   ]
  },
  {
   "cell_type": "code",
   "execution_count": 5,
   "id": "dd821754-e357-4996-9eab-c19e6ba8c50b",
   "metadata": {
    "editable": true,
    "slideshow": {
     "slide_type": ""
    },
    "tags": [
     "answer"
    ]
   },
   "outputs": [],
   "source": [
    "def predict_fly(features: dict) -> bool:\n",
    "    \"\"\"\n",
    "    >>> predict_fly({'animal': True, 'wings': False, 'heavy': True, 'propeller': False})\n",
    "    False\n",
    "    >>> predict_fly({'animal': False, 'wings': True, 'heavy': True, 'propeller': False})\n",
    "    True\n",
    "    >>> predict_fly({'animal': False, 'wings': False, 'heavy': True, 'propeller': False})\n",
    "    False\n",
    "    \"\"\"\n",
    "    if features[\"animal\"]:\n",
    "        if features[\"wings\"]:\n",
    "            if features[\"heavy\"]:\n",
    "                return False\n",
    "            else:\n",
    "                return True\n",
    "        else:\n",
    "            return False\n",
    "    else:\n",
    "        if features[\"wings\"]:\n",
    "            return True\n",
    "        else:\n",
    "            if features[\"propeller\"]:\n",
    "                return True\n",
    "            else:\n",
    "                return False"
   ]
  },
  {
   "cell_type": "markdown",
   "id": "fe2533ef-f1be-4ee6-ade3-3feb43a4fbe4",
   "metadata": {
    "editable": true,
    "slideshow": {
     "slide_type": "skip"
    },
    "tags": [
     "blank"
    ]
   },
   "source": [
    "<p style=\"height:47em;\"></p>"
   ]
  },
  {
   "cell_type": "markdown",
   "id": "40494b47-1e9e-4dd0-8df4-611e96766e62",
   "metadata": {
    "editable": true,
    "slideshow": {
     "slide_type": ""
    },
    "tags": []
   },
   "source": [
    "## Training data"
   ]
  },
  {
   "cell_type": "markdown",
   "id": "024ee0e4-2f91-4047-8eec-78e8522f0619",
   "metadata": {
    "editable": true,
    "slideshow": {
     "slide_type": "skip"
    },
    "tags": [
     "notes-only"
    ]
   },
   "source": [
    "* _Why aren't the predictions correct?_\n",
    "    * Not enough features\n",
    "    * Too few training samples\n",
    "    * Biased training data"
   ]
  },
  {
   "cell_type": "markdown",
   "id": "6235b51b-0426-4340-9b9e-8548677ebae3",
   "metadata": {
    "editable": true,
    "slideshow": {
     "slide_type": ""
    },
    "tags": []
   },
   "source": [
    "1. _Add to our training data a feature you used in your decision tree_\n",
    "2. _Add an additional thing to our training data along with its features_\n",
    "\n",
    "<img src=\"training_data_sheet.png\" style=\"width:200px;\"/>"
   ]
  },
  {
   "cell_type": "markdown",
   "id": "9e43a684-71a7-4094-8f59-692055cfcd54",
   "metadata": {
    "editable": true,
    "slideshow": {
     "slide_type": ""
    },
    "tags": [
     "notes-only"
    ]
   },
   "source": [
    "## Training"
   ]
  },
  {
   "cell_type": "markdown",
   "id": "356a32b8-fe3a-45d8-8cd9-ccd336f9381a",
   "metadata": {
    "editable": true,
    "slideshow": {
     "slide_type": ""
    },
    "tags": [
     "notes-only"
    ]
   },
   "source": [
    "* How can we automate the process of building a decision tree?\n",
    "* Recall: _What made a question a good or bad question?_ – separated things into more \"pure\" groups\n",
    "* Information gain – measure of reduction in uncertainty\n",
    "* Uncertainty is measured based the probability of a thing belonging to one group versus another\n",
    "    * Example\n",
    "        * Assume we have 4 things that fly and 2 things that don't fly\n",
    "        * The probability of picking a thing that flies is 4/6 and the probability of picking a thing that doesn't fly is 2/6\n",
    "        * The uncertainty is -4/6 * log2 4/6 + -2/6 * log2 2/6 = 0.918\n",
    "    * If everything is in the same group then uncertainty is 0\n",
    "    * If there are an equal number of things in each group, then uncertainty is 1\n",
    "* Information gain is measured based on the uncertainty of a group before dividing it based on a feature compared to the uncertainty of the two groups when divided based on a feature\n",
    "    * Example\n",
    "        * If we have 4 things that fly and 2 things that don't fly, then the uncertainty is 0.918\n",
    "        * Divide into groups based on whether or not they have wings – assume 3 of the 4 things that fly have wings and none of the things that don't fly have wings\n",
    "        * For the group of things with wings, all fly so the uncertainty is 0\n",
    "        * For the group of things without wings, 1 flies and 2 don't fly, so the uncertainty is -1/3 * log2 1/3 + -2/3 * log2 2/3 = 0.918\n",
    "        * Compute the weighted average to compute the new amount of uncertainty: 3/6 * 0 + 3/6 * 0.918 = 0.459\n",
    "        * Information gain is original uncertainty - new uncertainty: 0.981 - 0.459 = 0.459\n",
    "* For a group, compute information gain for each feature; choose feature with highest information gain"
   ]
  },
  {
   "cell_type": "code",
   "execution_count": 4,
   "id": "19deec51-0324-4a44-9f42-983f6c1ba0cb",
   "metadata": {
    "editable": true,
    "slideshow": {
     "slide_type": ""
    },
    "tags": [
     "notes-only"
    ]
   },
   "outputs": [
    {
     "data": {
      "text/plain": [
       "TestResults(failed=0, attempted=3)"
      ]
     },
     "execution_count": 4,
     "metadata": {},
     "output_type": "execute_result"
    }
   ],
   "source": [
    "import doctest\n",
    "doctest.testmod()"
   ]
  }
 ],
 "metadata": {
  "kernelspec": {
   "display_name": "Python 3 (ipykernel)",
   "language": "python",
   "name": "python3"
  },
  "language_info": {
   "codemirror_mode": {
    "name": "ipython",
    "version": 3
   },
   "file_extension": ".py",
   "mimetype": "text/x-python",
   "name": "python",
   "nbconvert_exporter": "python",
   "pygments_lexer": "ipython3",
   "version": "3.9.6"
  }
 },
 "nbformat": 4,
 "nbformat_minor": 5
}
