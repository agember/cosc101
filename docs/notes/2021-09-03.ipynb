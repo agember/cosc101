{
 "cells": [
  {
   "cell_type": "markdown",
   "id": "418f2156",
   "metadata": {
    "slideshow": {
     "slide_type": "skip"
    }
   },
   "source": [
    "# Hello, Python: \"input-process-output\" programs; reassignment\n",
    "_COSC 101, Introduction to Computing I, 2021-09-03_"
   ]
  },
  {
   "cell_type": "markdown",
   "id": "ba521109",
   "metadata": {
    "slideshow": {
     "slide_type": "skip"
    }
   },
   "source": [
    "## Announcements\n",
    "* Homework 1 posted; due Thursday at 11pm\n",
    "* Complete readings and pre-class questions before each class period"
   ]
  },
  {
   "cell_type": "markdown",
   "id": "a561529f",
   "metadata": {
    "slideshow": {
     "slide_type": "skip"
    },
    "tags": [
     "notes-only"
    ]
   },
   "source": [
    "## Outline\n",
    "* Warm-up\n",
    "* Homework 1 overview\n",
    "* Input\n",
    "* \"input-process-output\" programs\n",
    "* Reassignment"
   ]
  },
  {
   "cell_type": "markdown",
   "id": "c800b5d2",
   "metadata": {
    "slideshow": {
     "slide_type": "slide"
    }
   },
   "source": [
    "## Warm-up\n",
    "a) _Write a program that calculates the area of a rubgy field, which is 100 meters long and 68 meters wide._"
   ]
  },
  {
   "cell_type": "code",
   "execution_count": 4,
   "id": "3062e616",
   "metadata": {
    "slideshow": {
     "slide_type": "skip"
    },
    "tags": [
     "notes-only"
    ]
   },
   "outputs": [
    {
     "name": "stdout",
     "output_type": "stream",
     "text": [
      "6800 m²\n"
     ]
    }
   ],
   "source": [
    "length = 100\n",
    "width = 68\n",
    "area = length * width\n",
    "print(area, \"m²\")"
   ]
  },
  {
   "cell_type": "markdown",
   "id": "8eb79b22",
   "metadata": {
    "slideshow": {
     "slide_type": "skip"
    },
    "tags": [
     "worksheet-only"
    ]
   },
   "source": [
    "```Python\n",
    "\n",
    "\n",
    "\n",
    "\n",
    "\n",
    "```"
   ]
  },
  {
   "cell_type": "markdown",
   "id": "f5d8cd6d",
   "metadata": {
    "slideshow": {
     "slide_type": "-"
    }
   },
   "source": [
    "b) _Write a program that calculates the area of a volleyball court, which is 16 meters long and 8 meters wide._"
   ]
  },
  {
   "cell_type": "code",
   "execution_count": 13,
   "id": "1108ccf6",
   "metadata": {
    "slideshow": {
     "slide_type": "skip"
    },
    "tags": [
     "notes-only"
    ]
   },
   "outputs": [
    {
     "name": "stdout",
     "output_type": "stream",
     "text": [
      "128 m²\n"
     ]
    }
   ],
   "source": [
    "length = 16\n",
    "width = 8\n",
    "area = length * width\n",
    "print(area, \"m²\")"
   ]
  },
  {
   "cell_type": "markdown",
   "id": "05ade618",
   "metadata": {
    "slideshow": {
     "slide_type": "skip"
    },
    "tags": [
     "worksheet-only"
    ]
   },
   "source": [
    "```Python\n",
    "\n",
    "\n",
    "\n",
    "\n",
    "\n",
    "```"
   ]
  },
  {
   "cell_type": "markdown",
   "id": "5911c23c",
   "metadata": {
    "slideshow": {
     "slide_type": "-"
    }
   },
   "source": [
    "c) _Are there any patterns you observe?_"
   ]
  },
  {
   "cell_type": "markdown",
   "id": "01a66516",
   "metadata": {
    "slideshow": {
     "slide_type": "skip"
    },
    "tags": [
     "notes-only"
    ]
   },
   "source": [
    "The code is the same except for the values assigned to the `length` and `width` variables"
   ]
  },
  {
   "cell_type": "markdown",
   "id": "812ada48",
   "metadata": {
    "slideshow": {
     "slide_type": "skip"
    },
    "tags": [
     "worksheet-only"
    ]
   },
   "source": [
    "```\n",
    "\n",
    "\n",
    "```\n",
    "🛑 Stop here after completing the warm-up; if you have extra time please **skip ahead** to the programming practice."
   ]
  },
  {
   "cell_type": "markdown",
   "id": "ccc6dc8a",
   "metadata": {
    "slideshow": {
     "slide_type": "skip"
    },
    "tags": [
     "notes-only"
    ]
   },
   "source": [
    "## Homework 1 overview"
   ]
  },
  {
   "cell_type": "markdown",
   "id": "c9dcecad",
   "metadata": {
    "slideshow": {
     "slide_type": "skip"
    },
    "tags": [
     "notes-only"
    ]
   },
   "source": [
    "## Input"
   ]
  },
  {
   "cell_type": "markdown",
   "id": "dcca7356",
   "metadata": {
    "slideshow": {
     "slide_type": "skip"
    },
    "tags": [
     "notes-only"
    ]
   },
   "source": [
    "* _Why do we want to get input from the user?_ — to make programs more: flexible, useful\n",
    "* Use the `input` function to get user input\n",
    "* _What does a programmer provide to the `input` function?_ — a prompt string (i.e., a message that is displayed before waiting for user input\n",
    "    * E.g., `input(\"How old are you? \")`\n",
    "* What is the result of this expression?"
   ]
  },
  {
   "cell_type": "code",
   "execution_count": 9,
   "id": "8017ddf8",
   "metadata": {
    "slideshow": {
     "slide_type": "skip"
    },
    "tags": [
     "notes-only"
    ]
   },
   "outputs": [
    {
     "name": "stdout",
     "output_type": "stream",
     "text": [
      "How old are you? 18\n"
     ]
    },
    {
     "data": {
      "text/plain": [
       "str"
      ]
     },
     "execution_count": 9,
     "metadata": {},
     "output_type": "execute_result"
    }
   ],
   "source": [
    "type(input(\"How old are you? \"))"
   ]
  },
  {
   "cell_type": "markdown",
   "id": "b901d913",
   "metadata": {
    "slideshow": {
     "slide_type": "skip"
    },
    "tags": [
     "notes-only"
    ]
   },
   "source": [
    "* _Where is the value returned by `input` stored?_ — nowhere, unless you call input on the right-hand side of an assignment statement\n",
    "* Example: Write a program that asks a user for their name and age, and outputs: `<name> you don’t look a day over <age - 1>`"
   ]
  },
  {
   "cell_type": "code",
   "execution_count": 21,
   "id": "961ae225",
   "metadata": {
    "slideshow": {
     "slide_type": "skip"
    },
    "tags": [
     "notes-only"
    ]
   },
   "outputs": [
    {
     "name": "stdout",
     "output_type": "stream",
     "text": [
      "What is your name ? Joe Biden\n",
      "How old are you? 78\n",
      "Joe Biden you don’t look a day over 77\n"
     ]
    }
   ],
   "source": [
    "name = input(\"What is your name ? \")\n",
    "age = input(\"How old are you? \")\n",
    "age = int(age) - 1\n",
    "print(name, \"you don’t look a day over\", age)"
   ]
  },
  {
   "cell_type": "markdown",
   "id": "e08b3820",
   "metadata": {
    "slideshow": {
     "slide_type": "skip"
    },
    "tags": [
     "notes-only"
    ]
   },
   "source": [
    "* _Why do we need to call `int` on the age?_ — `input` returns a string\n",
    "* _What happens if a user does not enter a number ofr their age?_ — runtime error"
   ]
  },
  {
   "cell_type": "markdown",
   "id": "6d4081e7",
   "metadata": {
    "slideshow": {
     "slide_type": "slide"
    }
   },
   "source": [
    "## \"input-process-output\" programs"
   ]
  },
  {
   "cell_type": "markdown",
   "id": "89f57f0d",
   "metadata": {
    "slideshow": {
     "slide_type": "skip"
    },
    "tags": [
     "notes-only"
    ]
   },
   "source": [
    "* A common pattern for programs is the following:\n",
    "    * Ask for input\n",
    "    * Perform some computation on the input\n",
    "    * Display the result\n",
    "* The above program is an example of this pattern"
   ]
  },
  {
   "cell_type": "markdown",
   "id": "92e5ddb2",
   "metadata": {
    "slideshow": {
     "slide_type": "-"
    }
   },
   "source": [
    "* _Evaluate the following programs. If input is needed, provide your own. Indicate what output is produced, if any. If an error occurs, specify what type of error._"
   ]
  },
  {
   "cell_type": "code",
   "execution_count": 22,
   "id": "2b98eacf",
   "metadata": {
    "slideshow": {
     "slide_type": "-"
    },
    "tags": [
     "worksheet-code-only"
    ]
   },
   "outputs": [
    {
     "name": "stdout",
     "output_type": "stream",
     "text": [
      "What is your name? Aaron\n",
      "There are 5 letters in your name.\n"
     ]
    }
   ],
   "source": [
    "name = input(\"What is your name? \")\n",
    "count = len(name)\n",
    "print(\"There are \" + str(count) + \" letters in your name.\")"
   ]
  },
  {
   "cell_type": "markdown",
   "id": "205838e8",
   "metadata": {
    "slideshow": {
     "slide_type": "skip"
    },
    "tags": [
     "worksheet-only"
    ]
   },
   "source": [
    "```\n",
    "\n",
    "\n",
    "```"
   ]
  },
  {
   "cell_type": "code",
   "execution_count": 18,
   "id": "b1c00376",
   "metadata": {
    "slideshow": {
     "slide_type": "fragment"
    },
    "tags": [
     "worksheet-code-only"
    ]
   },
   "outputs": [
    {
     "name": "stdout",
     "output_type": "stream",
     "text": [
      "What year is it? 2021\n"
     ]
    },
    {
     "ename": "TypeError",
     "evalue": "can only concatenate str (not \"int\") to str",
     "output_type": "error",
     "traceback": [
      "\u001b[0;31m---------------------------------------------------------------------------\u001b[0m",
      "\u001b[0;31mTypeError\u001b[0m                                 Traceback (most recent call last)",
      "\u001b[0;32m/var/folders/bd/35sz70xs5837wszrx11bw1yc0000gn/T/ipykernel_12517/318286003.py\u001b[0m in \u001b[0;36m<module>\u001b[0;34m\u001b[0m\n\u001b[1;32m      1\u001b[0m \u001b[0myear\u001b[0m \u001b[0;34m=\u001b[0m \u001b[0minput\u001b[0m\u001b[0;34m(\u001b[0m\u001b[0;34m\"What year is it? \"\u001b[0m\u001b[0;34m)\u001b[0m\u001b[0;34m\u001b[0m\u001b[0;34m\u001b[0m\u001b[0m\n\u001b[0;32m----> 2\u001b[0;31m \u001b[0myear\u001b[0m \u001b[0;34m=\u001b[0m \u001b[0myear\u001b[0m \u001b[0;34m+\u001b[0m \u001b[0;36m1\u001b[0m\u001b[0;34m\u001b[0m\u001b[0;34m\u001b[0m\u001b[0m\n\u001b[0m\u001b[1;32m      3\u001b[0m \u001b[0mprint\u001b[0m\u001b[0;34m(\u001b[0m\u001b[0;34m\"Next year is\"\u001b[0m\u001b[0;34m,\u001b[0m \u001b[0myear\u001b[0m\u001b[0;34m)\u001b[0m\u001b[0;34m\u001b[0m\u001b[0;34m\u001b[0m\u001b[0m\n",
      "\u001b[0;31mTypeError\u001b[0m: can only concatenate str (not \"int\") to str"
     ]
    }
   ],
   "source": [
    "year = input(\"What year is it? \")\n",
    "year = year + 1\n",
    "print(\"Next year is\", year)"
   ]
  },
  {
   "cell_type": "markdown",
   "id": "8292fe01",
   "metadata": {
    "slideshow": {
     "slide_type": "skip"
    },
    "tags": [
     "worksheet-only"
    ]
   },
   "source": [
    "```\n",
    "\n",
    "\n",
    "```"
   ]
  },
  {
   "cell_type": "code",
   "execution_count": 20,
   "id": "b99cb362",
   "metadata": {
    "slideshow": {
     "slide_type": "fragment"
    },
    "tags": [
     "worksheet-code-only"
    ]
   },
   "outputs": [
    {
     "name": "stdout",
     "output_type": "stream",
     "text": [
      "How old are you? 18\n",
      "You are 126 years old in dog years\n"
     ]
    }
   ],
   "source": [
    "human = input(\"How old are you? \")\n",
    "dog = int(human) * 7\n",
    "print(\"You are\", dog, \"years old in dog years\")"
   ]
  },
  {
   "cell_type": "markdown",
   "id": "7a767367",
   "metadata": {
    "slideshow": {
     "slide_type": "skip"
    }
   },
   "source": [
    "```\n",
    "\n",
    "\n",
    "```\n",
    "<div style=\"page-break-after:always;\"></div>"
   ]
  },
  {
   "cell_type": "markdown",
   "id": "74f27664",
   "metadata": {
    "slideshow": {
     "slide_type": "fragment"
    }
   },
   "source": [
    "* _Write a program that asks for the length and width of an athletic field and prints the area._"
   ]
  },
  {
   "cell_type": "code",
   "execution_count": 23,
   "id": "c5eaa9c0",
   "metadata": {
    "slideshow": {
     "slide_type": "skip"
    },
    "tags": [
     "notes-only"
    ]
   },
   "outputs": [
    {
     "name": "stdout",
     "output_type": "stream",
     "text": [
      "How long is the field? 100\n",
      "How wide is the field? 68\n",
      "The field is 6800 m²\n"
     ]
    }
   ],
   "source": [
    "length = int(input(\"How long is the field? \"))\n",
    "width = int(input(\"How wide is the field? \"))\n",
    "area = length * width\n",
    "print(\"The field is\", area, \"m²\")"
   ]
  },
  {
   "cell_type": "markdown",
   "id": "70c4bef6",
   "metadata": {
    "slideshow": {
     "slide_type": "skip"
    },
    "tags": [
     "worksheet-only"
    ]
   },
   "source": [
    "```\n",
    "\n",
    "\n",
    "\n",
    "\n",
    "\n",
    "```"
   ]
  },
  {
   "cell_type": "markdown",
   "id": "7fb23610",
   "metadata": {
    "slideshow": {
     "slide_type": "fragment"
    }
   },
   "source": [
    "* _Write a program that asks for the cost of an item and prints the tax amount and total cost with a tax rate of 8%._"
   ]
  },
  {
   "cell_type": "code",
   "execution_count": 24,
   "id": "ce256c1f",
   "metadata": {
    "slideshow": {
     "slide_type": "skip"
    },
    "tags": [
     "notes-only"
    ]
   },
   "outputs": [
    {
     "name": "stdout",
     "output_type": "stream",
     "text": [
      "How much does the item cost? 9.99\n",
      "Tax 0.7992\n",
      "Total 10.789200000000001\n"
     ]
    }
   ],
   "source": [
    "cost = float(input(\"How much does the item cost? \"))\n",
    "tax = cost * 0.08\n",
    "print(\"Tax\", tax)\n",
    "total = cost + tax\n",
    "print(\"Total\", total)"
   ]
  },
  {
   "cell_type": "markdown",
   "id": "f3fa9562",
   "metadata": {
    "slideshow": {
     "slide_type": "skip"
    }
   },
   "source": [
    "```\n",
    "\n",
    "\n",
    "\n",
    "\n",
    "\n",
    "\n",
    "\n",
    "```\n",
    "🛑 Stop here after completing the above questions; if you have extra time please **skip ahead** to the programming practice."
   ]
  },
  {
   "cell_type": "markdown",
   "id": "11d8165b",
   "metadata": {
    "slideshow": {
     "slide_type": "slide"
    }
   },
   "source": [
    "## Reassignment"
   ]
  },
  {
   "cell_type": "markdown",
   "id": "d12c5c8c",
   "metadata": {
    "slideshow": {
     "slide_type": "skip"
    },
    "tags": [
     "notes-only"
    ]
   },
   "source": [
    "* When a variable name is used on the left-hand side of an assignment statement...\n",
    "    * The first time: the variable is created and refers to the value on the right-hand side\n",
    "    * Subsequent times: the variable is updated to refer to the value on the right-hand side\n",
    "* When you use a variable in an expression or statement (excluding the left-hand side of an assignment statement), the latest value assigned to the variable is used\n",
    "* Example"
   ]
  },
  {
   "cell_type": "code",
   "execution_count": 26,
   "id": "5a0c1fdd",
   "metadata": {
    "slideshow": {
     "slide_type": "skip"
    },
    "tags": [
     "notes-only"
    ]
   },
   "outputs": [
    {
     "name": "stdout",
     "output_type": "stream",
     "text": [
      "5\n",
      "10\n"
     ]
    }
   ],
   "source": [
    "myVar = 5\n",
    "print(myVar)\n",
    "myVar = 10\n",
    "print(myVar)"
   ]
  },
  {
   "cell_type": "markdown",
   "id": "5b6a1cf2",
   "metadata": {
    "slideshow": {
     "slide_type": "skip"
    },
    "tags": [
     "notes-only"
    ]
   },
   "source": [
    "* Drawing a reference diagram can help you understand what your program is doing\n",
    "    * Reference diagram after executing myVar = 5\n",
    "        ```\n",
    "                ┏━━━━┓\n",
    "        myVar━━>┃  5 ┃\n",
    "                ┗━━━━┛\n",
    "        ```\n",
    "    * Reference diagram after executing myVar = 10\n",
    "        ```\n",
    "                ┏━━━━┓\n",
    "        myVar━━>┃ 10 ┃\n",
    "                ┗━━━━┛\n",
    "        ```"
   ]
  },
  {
   "cell_type": "markdown",
   "id": "14da31f6",
   "metadata": {
    "slideshow": {
     "slide_type": "-"
    }
   },
   "source": [
    "* _For each program: (1) indicate what it will output, and (2) draw a reference diagram depicting the state of each variable after the program has executed._"
   ]
  },
  {
   "cell_type": "code",
   "execution_count": 27,
   "id": "1fc71ac2",
   "metadata": {
    "slideshow": {
     "slide_type": "-"
    },
    "tags": [
     "worksheet-code-only"
    ]
   },
   "outputs": [
    {
     "name": "stdout",
     "output_type": "stream",
     "text": [
      "cranberry beet\n"
     ]
    }
   ],
   "source": [
    "fruit = \"apple\"\n",
    "vegetable = \"beet\"\n",
    "fruit = \"cranberry\"\n",
    "print(fruit, vegetable)"
   ]
  },
  {
   "cell_type": "markdown",
   "id": "6485834d",
   "metadata": {
    "slideshow": {
     "slide_type": "skip"
    },
    "tags": [
     "worksheet-only"
    ]
   },
   "source": [
    "```\n",
    "\n",
    "```"
   ]
  },
  {
   "cell_type": "code",
   "execution_count": 28,
   "id": "8858a027",
   "metadata": {
    "slideshow": {
     "slide_type": "fragment"
    },
    "tags": [
     "worksheet-code-only"
    ]
   },
   "outputs": [
    {
     "name": "stdout",
     "output_type": "stream",
     "text": [
      "abc 123\n"
     ]
    }
   ],
   "source": [
    "x = 'ab'\n",
    "y = 123\n",
    "x = x + 'c'\n",
    "print(x, y)"
   ]
  },
  {
   "cell_type": "markdown",
   "id": "fbd6c255",
   "metadata": {
    "slideshow": {
     "slide_type": "skip"
    },
    "tags": [
     "worksheet-only"
    ]
   },
   "source": [
    "```\n",
    "\n",
    "```"
   ]
  },
  {
   "cell_type": "code",
   "execution_count": 29,
   "id": "8216a2d4",
   "metadata": {
    "slideshow": {
     "slide_type": "subslide"
    },
    "tags": [
     "worksheet-code-only"
    ]
   },
   "outputs": [
    {
     "name": "stdout",
     "output_type": "stream",
     "text": [
      "3 3\n"
     ]
    }
   ],
   "source": [
    "r = 1\n",
    "s = 2\n",
    "r = r + s\n",
    "s = r\n",
    "print(r, s)"
   ]
  },
  {
   "cell_type": "markdown",
   "id": "fdafdf22",
   "metadata": {
    "slideshow": {
     "slide_type": "skip"
    },
    "tags": [
     "worksheet-only"
    ]
   },
   "source": [
    "```\n",
    "\n",
    "```"
   ]
  },
  {
   "cell_type": "code",
   "execution_count": 34,
   "id": "9837f1fd",
   "metadata": {
    "slideshow": {
     "slide_type": "fragment"
    },
    "tags": [
     "worksheet-code-only"
    ]
   },
   "outputs": [
    {
     "name": "stdout",
     "output_type": "stream",
     "text": [
      "101\n",
      "Science\n",
      "ComputerScience101\n"
     ]
    }
   ],
   "source": [
    "first = \"Computer\"\n",
    "second = \"Science\"\n",
    "third = first + second\n",
    "first = 101\n",
    "third = third + str(first)\n",
    "print(first)\n",
    "print(second)\n",
    "print(third)"
   ]
  },
  {
   "cell_type": "markdown",
   "id": "2be23cf5",
   "metadata": {
    "slideshow": {
     "slide_type": "skip"
    },
    "tags": [
     "worksheet-only"
    ]
   },
   "source": [
    "<div style=\"page-break-after:always;\"></div>"
   ]
  },
  {
   "cell_type": "markdown",
   "id": "2292b501",
   "metadata": {
    "slideshow": {
     "slide_type": "slide"
    }
   },
   "source": [
    "## Programming practice"
   ]
  },
  {
   "cell_type": "markdown",
   "id": "b6c650af",
   "metadata": {
    "slideshow": {
     "slide_type": "-"
    }
   },
   "source": [
    "a) _Write a program that plays a short game of mad libs: ask for three words and fill them in a sentence. (E.g., They **verb** the **adjective** **noun**.)_"
   ]
  },
  {
   "cell_type": "code",
   "execution_count": 35,
   "id": "e8734de0",
   "metadata": {
    "slideshow": {
     "slide_type": "skip"
    },
    "tags": [
     "notes-only"
    ]
   },
   "outputs": [
    {
     "name": "stdout",
     "output_type": "stream",
     "text": [
      "Verb? ate\n",
      "Adjective? red\n",
      "Noun? apple\n",
      "They ate the red apple\n"
     ]
    }
   ],
   "source": [
    "verb = input(\"Verb? \")\n",
    "adjective = input(\"Adjective? \")\n",
    "noun = input(\"Noun? \")\n",
    "print(\"They\", verb, \"the\", adjective, noun)"
   ]
  },
  {
   "cell_type": "markdown",
   "id": "9edba78f",
   "metadata": {
    "slideshow": {
     "slide_type": "skip"
    },
    "tags": [
     "worksheet-only"
    ]
   },
   "source": [
    "```\n",
    "\n",
    "\n",
    "\n",
    "\n",
    "```"
   ]
  },
  {
   "cell_type": "markdown",
   "id": "bfa9d46b",
   "metadata": {
    "slideshow": {
     "slide_type": "fragment"
    }
   },
   "source": [
    "b) _Write a program that asks for a temperature in fahrenheit and outputs the temperature in degrees celsius. (To convert: subtract 32 and multiply by five-ninths)_"
   ]
  },
  {
   "cell_type": "code",
   "execution_count": 37,
   "id": "b807941a",
   "metadata": {
    "slideshow": {
     "slide_type": "skip"
    },
    "tags": [
     "notes-only"
    ]
   },
   "outputs": [
    {
     "name": "stdout",
     "output_type": "stream",
     "text": [
      "Temperature in °F? 70\n",
      "21.11111111111111°C\n"
     ]
    }
   ],
   "source": [
    "farenheit = input(\"Temperature in °F? \")\n",
    "celcius = (int(farenheit) - 32) * 5 / 9\n",
    "print(str(celcius) + \"°C\")"
   ]
  },
  {
   "cell_type": "markdown",
   "id": "12eb3859",
   "metadata": {
    "slideshow": {
     "slide_type": "skip"
    },
    "tags": [
     "worksheet-only"
    ]
   },
   "source": [
    "```\n",
    "\n",
    "\n",
    "\n",
    "\n",
    "```"
   ]
  },
  {
   "cell_type": "markdown",
   "id": "a610e661",
   "metadata": {
    "slideshow": {
     "slide_type": "fragment"
    }
   },
   "source": [
    "c) _Write a program that asks for three integers and prints the average._"
   ]
  },
  {
   "cell_type": "code",
   "execution_count": 41,
   "id": "a1f39f5f",
   "metadata": {
    "slideshow": {
     "slide_type": "skip"
    },
    "tags": [
     "notes-only"
    ]
   },
   "outputs": [
    {
     "name": "stdout",
     "output_type": "stream",
     "text": [
      "First number? 5\n",
      "Second number? 25\n",
      "Third number? 30\n",
      "20.0\n"
     ]
    }
   ],
   "source": [
    "one = input(\"First number? \")\n",
    "two = input(\"Second number? \")\n",
    "three = input(\"Third number? \")\n",
    "sum = int(one) + int(two) + int(three)\n",
    "average = sum / 3\n",
    "print(average)"
   ]
  },
  {
   "cell_type": "markdown",
   "id": "63f9c6f4",
   "metadata": {
    "slideshow": {
     "slide_type": "skip"
    },
    "tags": [
     "worksheet-only"
    ]
   },
   "source": [
    "```\n",
    "\n",
    "\n",
    "\n",
    "\n",
    "\n",
    "\n",
    "\n",
    "```"
   ]
  },
  {
   "cell_type": "markdown",
   "id": "786d9a57",
   "metadata": {
    "slideshow": {
     "slide_type": "fragment"
    }
   },
   "source": [
    "d) _Re-write the above program to use a single variable whose value is reassigned._"
   ]
  },
  {
   "cell_type": "code",
   "execution_count": 42,
   "id": "f4f015a4",
   "metadata": {
    "slideshow": {
     "slide_type": "skip"
    }
   },
   "outputs": [
    {
     "name": "stdout",
     "output_type": "stream",
     "text": [
      "First number? 5\n",
      "Second number? 25\n",
      "Third number? 30\n",
      "20.0\n"
     ]
    }
   ],
   "source": [
    "total = int(input(\"First number? \"))\n",
    "total = total + int(input(\"Second number? \"))\n",
    "total = total + int(input(\"Third number? \"))\n",
    "total = total / 3\n",
    "print(total)"
   ]
  },
  {
   "cell_type": "markdown",
   "id": "c6a23a30",
   "metadata": {
    "slideshow": {
     "slide_type": "skip"
    },
    "tags": [
     "worksheet-only"
    ]
   },
   "source": [
    "```\n",
    "\n",
    "\n",
    "\n",
    "\n",
    "\n",
    "\n",
    "```"
   ]
  },
  {
   "cell_type": "markdown",
   "id": "628f2fd1",
   "metadata": {
    "slideshow": {
     "slide_type": "fragment"
    }
   },
   "source": [
    "e) _Write a program that converts a time in seconds into hours, minutes, and seconds. For example, 4567 seconds is: `1:16:7` (1 hour, 16 minutes, and 7 seconds)._"
   ]
  },
  {
   "cell_type": "code",
   "execution_count": 56,
   "id": "0e660db4",
   "metadata": {
    "slideshow": {
     "slide_type": "skip"
    }
   },
   "outputs": [
    {
     "name": "stdout",
     "output_type": "stream",
     "text": [
      "How many seconds? 4567\n",
      "1:16:7\n"
     ]
    }
   ],
   "source": [
    "seconds = int(input(\"How many seconds? \"))\n",
    "hours = int(seconds / (60 * 60))\n",
    "minutes = int(seconds % (60 * 60) / 60)\n",
    "seconds = seconds % 60\n",
    "print(str(hours)+\":\"+str(minutes)+\":\"+str(seconds))"
   ]
  }
 ],
 "metadata": {
  "celltoolbar": "Slideshow",
  "kernelspec": {
   "display_name": "Python 3 (ipykernel)",
   "language": "python",
   "name": "python3"
  },
  "language_info": {
   "codemirror_mode": {
    "name": "ipython",
    "version": 3
   },
   "file_extension": ".py",
   "mimetype": "text/x-python",
   "name": "python",
   "nbconvert_exporter": "python",
   "pygments_lexer": "ipython3",
   "version": "3.8.2"
  }
 },
 "nbformat": 4,
 "nbformat_minor": 5
}
