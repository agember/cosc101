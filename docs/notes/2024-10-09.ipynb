{
 "cells": [
  {
   "cell_type": "markdown",
   "id": "b70466f9",
   "metadata": {
    "editable": true,
    "slideshow": {
     "slide_type": "skip"
    },
    "tags": []
   },
   "source": [
    "# Conditionals: refactoring\n",
    "_COSC 101, Introduction to Computing I, 2024-10-09_"
   ]
  },
  {
   "cell_type": "markdown",
   "id": "cef2c55b-262d-4a27-b8a5-13673bd0d4fc",
   "metadata": {
    "editable": true,
    "slideshow": {
     "slide_type": "skip"
    },
    "tags": []
   },
   "source": [
    "## Announcements\n",
    "* Homework 4 due tomorrow at 11:59pm\n",
    "* Exam 1 reattempts Wed, Oct 16 during class"
   ]
  },
  {
   "cell_type": "markdown",
   "id": "276bd9e8-e912-489f-92bd-1dc2c386b303",
   "metadata": {
    "editable": true,
    "slideshow": {
     "slide_type": "slide"
    },
    "tags": []
   },
   "source": [
    "## Refactoring"
   ]
  },
  {
   "cell_type": "markdown",
   "id": "96c48b95-ee1c-4fff-8054-55d1ba5867ff",
   "metadata": {
    "editable": true,
    "slideshow": {
     "slide_type": ""
    },
    "tags": []
   },
   "source": [
    "Remove unnecessary `elif`"
   ]
  },
  {
   "cell_type": "code",
   "execution_count": 2,
   "id": "00c0fff6-1529-43b5-89d6-41bd1a44cfbc",
   "metadata": {
    "editable": true,
    "slideshow": {
     "slide_type": ""
    },
    "tags": []
   },
   "outputs": [],
   "source": [
    "def example1(num: int) -> None:\n",
    "    if (num > 0):\n",
    "        print(\"Positive\")\n",
    "    elif (num < 0):\n",
    "        print(\"Negative\")\n",
    "    elif (num == 0):\n",
    "        print(\"Zero\")"
   ]
  },
  {
   "cell_type": "code",
   "execution_count": 2,
   "id": "d2072c7a-da0d-42a7-88cb-ff4b0ea3d90e",
   "metadata": {
    "editable": true,
    "slideshow": {
     "slide_type": "skip"
    },
    "tags": [
     "notes-only"
    ]
   },
   "outputs": [],
   "source": [
    "def example1refactored(num: int) -> None:\n",
    "    if (num > 0):\n",
    "        print(\"Positive\")\n",
    "    elif (num < 0):\n",
    "        print(\"Negative\")\n",
    "    else:\n",
    "        print(\"Zero\")"
   ]
  },
  {
   "cell_type": "markdown",
   "id": "1b0214b3-e364-498e-9b06-43473ed7b906",
   "metadata": {
    "editable": true,
    "slideshow": {
     "slide_type": "skip"
    },
    "tags": [
     "blank"
    ]
   },
   "source": [
    "```\n",
    "\n",
    "\n",
    "\n",
    "\n",
    "\n",
    "\n",
    "\n",
    "\n",
    "\n",
    "```"
   ]
  },
  {
   "cell_type": "markdown",
   "id": "58154a27",
   "metadata": {
    "editable": true,
    "slideshow": {
     "slide_type": "subslide"
    },
    "tags": []
   },
   "source": [
    "Combine condition on inner if (without else) with condition on outer if using `and`"
   ]
  },
  {
   "cell_type": "code",
   "execution_count": 16,
   "id": "5c4a93c5-1627-4fda-9f16-ef570b150564",
   "metadata": {
    "editable": true,
    "slideshow": {
     "slide_type": ""
    },
    "tags": []
   },
   "outputs": [],
   "source": [
    "def example2(x: int, y: int) -> None:\n",
    "    if (x > 0):\n",
    "        if (y > 0):\n",
    "            print(\"upper right quadrant\")\n",
    "    elif (x < 0):\n",
    "        if (y < 0):\n",
    "            print(\"lower left quadrant\")"
   ]
  },
  {
   "cell_type": "code",
   "execution_count": 17,
   "id": "64b360d2-3cd8-46c7-86d0-490ea80d52bd",
   "metadata": {
    "editable": true,
    "slideshow": {
     "slide_type": "skip"
    },
    "tags": [
     "notes-only"
    ]
   },
   "outputs": [],
   "source": [
    "def example2refactored(x: int, y: int) -> None:\n",
    "    if (x > 0) and (y > 0):\n",
    "        print(\"upper right quadrant\")\n",
    "    elif (x < 0) and (y < 0):\n",
    "        print(\"lower left quadrant\")"
   ]
  },
  {
   "cell_type": "markdown",
   "id": "aaf17948-c30f-481b-8ef2-c0c9b1900cd8",
   "metadata": {
    "editable": true,
    "slideshow": {
     "slide_type": "skip"
    },
    "tags": [
     "blank"
    ]
   },
   "source": [
    "```\n",
    "\n",
    "\n",
    "\n",
    "\n",
    "\n",
    "\n",
    "\n",
    "\n",
    "\n",
    "```"
   ]
  },
  {
   "cell_type": "markdown",
   "id": "bc8cd0d9-cafb-400e-a9d7-610ae6db23d1",
   "metadata": {
    "editable": true,
    "slideshow": {
     "slide_type": "subslide"
    },
    "tags": []
   },
   "source": [
    "When nested conditional contains an `else`, outer condition must be \"distributed\""
   ]
  },
  {
   "cell_type": "code",
   "execution_count": 18,
   "id": "229fef3d-6379-4481-b305-45486eee254a",
   "metadata": {
    "editable": true,
    "slideshow": {
     "slide_type": ""
    },
    "tags": []
   },
   "outputs": [],
   "source": [
    "def example3(x: int, y: int) -> None:\n",
    "    if (x > 0):\n",
    "        if (y > 0):\n",
    "            print(\"upper right quadrant\")\n",
    "        else:\n",
    "            print(\"lower right quadrant\")\n",
    "    elif (x < 0):\n",
    "        if (y < 0):\n",
    "            print(\"lower left quadrant\")\n",
    "        else:\n",
    "            print(\"upper left quadrant\")"
   ]
  },
  {
   "cell_type": "code",
   "execution_count": 18,
   "id": "a6376571-120e-4f2b-b48f-b6de4d3402e1",
   "metadata": {
    "editable": true,
    "slideshow": {
     "slide_type": "skip"
    },
    "tags": [
     "notes-only"
    ]
   },
   "outputs": [],
   "source": [
    "def example3recfactored(x: int, y: int) -> None:\n",
    "    if (x > 0) and (y > 0):\n",
    "        print(\"upper right quadrant\")\n",
    "    elif (x > 0):\n",
    "        print(\"lower right quadrant\")\n",
    "    elif (x < 0) and (y < 0):\n",
    "        print(\"lower left quadrant\")\n",
    "    elif (x < 0):\n",
    "        print(\"upper left quadrant\")"
   ]
  },
  {
   "cell_type": "markdown",
   "id": "81a8efd0-1ef8-4e95-a0d9-cd402bcc65de",
   "metadata": {
    "editable": true,
    "slideshow": {
     "slide_type": "skip"
    },
    "tags": [
     "blank"
    ]
   },
   "source": [
    "```\n",
    "\n",
    "\n",
    "\n",
    "\n",
    "\n",
    "\n",
    "\n",
    "\n",
    "\n",
    "\n",
    "\n",
    "\n",
    "\n",
    "```"
   ]
  },
  {
   "cell_type": "markdown",
   "id": "87dd1410-6cdd-4ddb-a2a7-aa8936428d3a",
   "metadata": {
    "editable": true,
    "slideshow": {
     "slide_type": "subslide"
    },
    "tags": []
   },
   "source": [
    "Combine sequential cases with equivalent bodies using `or`"
   ]
  },
  {
   "cell_type": "code",
   "execution_count": 10,
   "id": "8d4cd85c-fb4c-4588-8555-4f1ad36ddb38",
   "metadata": {
    "editable": true,
    "slideshow": {
     "slide_type": ""
    },
    "tags": []
   },
   "outputs": [],
   "source": [
    "def example4(a: int, b: int) -> None:\n",
    "    if (a > b):\n",
    "        print(\"Not equal\")\n",
    "    elif (a < b):\n",
    "        print(\"Not equal\")\n",
    "    else:\n",
    "        print(\"Equal\")"
   ]
  },
  {
   "cell_type": "code",
   "execution_count": 11,
   "id": "37b847c0-ed02-4be4-b675-fee3666a63ca",
   "metadata": {
    "editable": true,
    "slideshow": {
     "slide_type": "skip"
    },
    "tags": [
     "notes-only"
    ]
   },
   "outputs": [],
   "source": [
    "def example4refactored(a: int, b: int) -> None:\n",
    "    if (a > b) or (a < b):\n",
    "        print(\"Not equal\")\n",
    "    else:\n",
    "        print(\"Equal\")"
   ]
  },
  {
   "cell_type": "markdown",
   "id": "193e7529-0698-474d-981d-cc0c5a5bc791",
   "metadata": {
    "editable": true,
    "slideshow": {
     "slide_type": "skip"
    },
    "tags": [
     "blank"
    ]
   },
   "source": [
    "```\n",
    "\n",
    "\n",
    "\n",
    "\n",
    "\n",
    "\n",
    "\n",
    "\n",
    "\n",
    "\n",
    "\n",
    "\n",
    "```"
   ]
  },
  {
   "cell_type": "markdown",
   "id": "57ca6980-1a35-4943-88e9-100fa1b4ce4d",
   "metadata": {
    "editable": true,
    "slideshow": {
     "slide_type": "subslide"
    },
    "tags": []
   },
   "source": [
    "Prune unreachable cases"
   ]
  },
  {
   "cell_type": "code",
   "execution_count": 12,
   "id": "6d119895-c89d-4fe8-8f08-27d89b8ef824",
   "metadata": {
    "editable": true,
    "slideshow": {
     "slide_type": ""
    },
    "tags": []
   },
   "outputs": [],
   "source": [
    "def example5(year: int) -> None:\n",
    "    if (year > 1819):\n",
    "        print(\"After Colgate's founding\")\n",
    "    elif (year > 2000):\n",
    "        print(\"After new millenium\")\n",
    "    else:\n",
    "        print(\"Before Colgate's founding\")"
   ]
  },
  {
   "cell_type": "code",
   "execution_count": 13,
   "id": "557ef901-a023-43a9-80af-577edc45485e",
   "metadata": {
    "editable": true,
    "slideshow": {
     "slide_type": "skip"
    },
    "tags": [
     "notes-only"
    ]
   },
   "outputs": [],
   "source": [
    "def example5refactored(year: int) -> None:\n",
    "    if (year > 1819):\n",
    "        print(\"After Colgate's founding\")\n",
    "    else:\n",
    "        print(\"Before Colgate's founding\")"
   ]
  },
  {
   "cell_type": "code",
   "execution_count": 14,
   "id": "6680c2f3-5bab-4e07-aaa7-f83e8a0681e3",
   "metadata": {
    "editable": true,
    "slideshow": {
     "slide_type": "skip"
    },
    "tags": [
     "notes-only"
    ]
   },
   "outputs": [],
   "source": [
    "def example5alternative(year: int) -> None:\n",
    "    if (year > 1819):\n",
    "        print(\"After Colgate's founding\")\n",
    "        if (year > 2000):\n",
    "            print(\"After new millenium\")\n",
    "    else:\n",
    "        print(\"Before Colgate's founding\")"
   ]
  },
  {
   "cell_type": "markdown",
   "id": "83e08da0-60e9-453b-a2a7-00055f905fcb",
   "metadata": {
    "editable": true,
    "slideshow": {
     "slide_type": "skip"
    },
    "tags": [
     "blank"
    ]
   },
   "source": [
    "```\n",
    "\n",
    "\n",
    "\n",
    "\n",
    "\n",
    "```"
   ]
  },
  {
   "cell_type": "markdown",
   "id": "44b385e7-7c25-45ab-9ae3-2ceba9d86aa5",
   "metadata": {
    "editable": true,
    "slideshow": {
     "slide_type": "subslide"
    },
    "tags": [
     "question"
    ]
   },
   "source": [
    "_Refactor the following function to remove unnecessary conditions and unreachable cases_"
   ]
  },
  {
   "cell_type": "code",
   "execution_count": null,
   "id": "2be95fc7-fad0-460a-9081-0fdedb12fcfa",
   "metadata": {
    "editable": true,
    "slideshow": {
     "slide_type": ""
    },
    "tags": [
     "question"
    ]
   },
   "outputs": [],
   "source": [
    "def practice1(a: int, b: int) -> None:\n",
    "    if (a >= b):\n",
    "        print(\"A\")\n",
    "        if (a == b):\n",
    "            print(\"D\")\n",
    "        elif (a != b):\n",
    "            print(\"E\")\n",
    "    elif (a > b):\n",
    "        print(\"B\")\n",
    "    elif (a < b):\n",
    "        print(\"C\")\n",
    "        if (a + a == b):\n",
    "            print(\"F\")\n",
    "        elif (2 * a == b):\n",
    "            print(\"G\")\n",
    "        elif (b + b == a):\n",
    "            print(\"H\")\n",
    "        else:\n",
    "            print(\"(I\")"
   ]
  },
  {
   "cell_type": "code",
   "execution_count": 19,
   "id": "f8ce5948-6236-4343-b2c0-43dc3f481742",
   "metadata": {
    "editable": true,
    "slideshow": {
     "slide_type": "skip"
    },
    "tags": [
     "answer"
    ]
   },
   "outputs": [],
   "source": [
    "def practice1refactored(a: int, b: int) -> None:\n",
    "    if (a >= b):\n",
    "        print(\"A\")\n",
    "        if (a == b):\n",
    "            print(\"D\")\n",
    "        else:\n",
    "            print(\"E\")\n",
    "    elif (a < b):\n",
    "        print(\"C\")\n",
    "        if (a + a == b):\n",
    "            print(\"F\")\n",
    "        else:\n",
    "            print(\"(I\")"
   ]
  },
  {
   "cell_type": "markdown",
   "id": "6c4caeac-df26-43e2-882e-01b6e0c19d68",
   "metadata": {
    "editable": true,
    "slideshow": {
     "slide_type": "skip"
    },
    "tags": [
     "blank"
    ]
   },
   "source": [
    "```\n",
    "\n",
    "\n",
    "\n",
    "\n",
    "\n",
    "\n",
    "\n",
    "\n",
    "\n",
    "\n",
    "\n",
    "\n",
    "\n",
    "```"
   ]
  },
  {
   "cell_type": "markdown",
   "id": "46ddecc6-d73b-481a-b495-036da663a54b",
   "metadata": {
    "editable": true,
    "slideshow": {
     "slide_type": "subslide"
    },
    "tags": [
     "question"
    ]
   },
   "source": [
    "_Refactor the following function to eliminate nested conditionals_"
   ]
  },
  {
   "cell_type": "code",
   "execution_count": null,
   "id": "622f6d9b-f9a4-4fa0-a6ff-336daa26320f",
   "metadata": {
    "editable": true,
    "slideshow": {
     "slide_type": ""
    },
    "tags": [
     "question"
    ]
   },
   "outputs": [],
   "source": [
    "def practice2(m: int, n: int) -> None:\n",
    "    if (m < 0):\n",
    "        print(\"A\")\n",
    "    elif (m >= 0):\n",
    "        if (m < 10):\n",
    "            print(\"B\")\n",
    "    elif (m >= 10):\n",
    "        if (m < 100):\n",
    "            print(\"C\")\n",
    "        else:\n",
    "            print(\"D\")"
   ]
  },
  {
   "cell_type": "code",
   "execution_count": 19,
   "id": "100b8297-ef1e-4aa2-b88c-07cc1b49606f",
   "metadata": {
    "editable": true,
    "slideshow": {
     "slide_type": "skip"
    },
    "tags": [
     "answer"
    ]
   },
   "outputs": [],
   "source": [
    "def practice2refactored(m: int, n: int) -> None:\n",
    "    if (m < 0):\n",
    "        print(\"A\")\n",
    "    elif (m >= 0) and (m < 10):\n",
    "        print(\"B\")\n",
    "    elif (m >= 10) and (m < 100):\n",
    "        print(\"C\")\n",
    "    elif (m >= 10): # Can further refactor to else\n",
    "        print(\"D\")"
   ]
  },
  {
   "cell_type": "markdown",
   "id": "e931ec1e-cd66-4039-ba74-5af6e9fbc081",
   "metadata": {
    "editable": true,
    "slideshow": {
     "slide_type": "skip"
    },
    "tags": [
     "blank"
    ]
   },
   "source": [
    "```\n",
    "\n",
    "\n",
    "\n",
    "\n",
    "\n",
    "\n",
    "\n",
    "\n",
    "\n",
    "\n",
    "```"
   ]
  },
  {
   "cell_type": "markdown",
   "id": "3a4fb154-0d1e-47d8-8c92-3353d4108fae",
   "metadata": {
    "editable": true,
    "slideshow": {
     "slide_type": "subslide"
    },
    "tags": [
     "question"
    ]
   },
   "source": [
    "_Refactor the following function to eliminate as much duplicated code as possible_"
   ]
  },
  {
   "cell_type": "code",
   "execution_count": null,
   "id": "372b990b-354d-4227-851b-288825974b95",
   "metadata": {
    "editable": true,
    "slideshow": {
     "slide_type": ""
    },
    "tags": [
     "question"
    ]
   },
   "outputs": [],
   "source": [
    "def practice3(q: int, r: int) -> None:\n",
    "    if (q > 100):\n",
    "        print(\"A\")\n",
    "    elif (q == 0):\n",
    "        print(\"B\")\n",
    "    elif (r == 0):\n",
    "        print(\"B\")\n",
    "    elif (r > 100):\n",
    "        print(\"A\")\n",
    "    elif (r > q):\n",
    "        print(\"A\")\n",
    "    else:\n",
    "        print(\"C\")"
   ]
  },
  {
   "cell_type": "code",
   "execution_count": 19,
   "id": "400cc4a7-3d3a-46cf-80d5-14111ffd2584",
   "metadata": {
    "editable": true,
    "slideshow": {
     "slide_type": "skip"
    },
    "tags": [
     "answer"
    ]
   },
   "outputs": [],
   "source": [
    "def practice3refactored(q: int, r: int) -> None:\n",
    "    if (q > 100):\n",
    "        print(\"A\")\n",
    "    elif (q == 0) or (r == 0):\n",
    "        print(\"B\")\n",
    "    elif (r > 100) or (r > q):\n",
    "        print(\"A\")\n",
    "    else:\n",
    "        print(\"C\")"
   ]
  },
  {
   "cell_type": "markdown",
   "id": "2c9ef2fd-a99e-403a-8045-f0d02fe19775",
   "metadata": {
    "editable": true,
    "slideshow": {
     "slide_type": "skip"
    },
    "tags": [
     "blank"
    ]
   },
   "source": [
    "```\n",
    "\n",
    "\n",
    "\n",
    "\n",
    "\n",
    "\n",
    "\n",
    "\n",
    "\n",
    "\n",
    "```"
   ]
  },
  {
   "cell_type": "markdown",
   "id": "c62df10f-6da3-44fd-ba67-9115c0d9ee54",
   "metadata": {
    "editable": true,
    "slideshow": {
     "slide_type": "slide"
    },
    "tags": []
   },
   "source": [
    "### Extra practice"
   ]
  },
  {
   "cell_type": "markdown",
   "id": "73b30f97-974e-47b0-bad5-92ca56cb30c1",
   "metadata": {
    "editable": true,
    "slideshow": {
     "slide_type": ""
    },
    "tags": [
     "question"
    ]
   },
   "source": [
    "_Write a program that asks the user for three words and prints the word with the most vowels. For example:_\n",
    "```\n",
    "Word 1: diversity\n",
    "Word 2: equity\n",
    "Word 3: inclusion\n",
    "inclusion has the most vowels\n",
    "```"
   ]
  },
  {
   "cell_type": "code",
   "execution_count": 21,
   "id": "99781438-79aa-4ed4-b8ef-93cddd40db00",
   "metadata": {
    "editable": true,
    "slideshow": {
     "slide_type": "skip"
    },
    "tags": [
     "answer"
    ]
   },
   "outputs": [
    {
     "name": "stdin",
     "output_type": "stream",
     "text": [
      "Word 1:  diversity\n",
      "Word 2:  equity\n",
      "Word 3:  inclusion\n"
     ]
    },
    {
     "name": "stdout",
     "output_type": "stream",
     "text": [
      "inclusion has the most vowels\n"
     ]
    }
   ],
   "source": [
    "def count_vowels(word: str) -> int:\n",
    "    vowels = 0\n",
    "    for letter in word:\n",
    "        if letter in \"aeiou\":\n",
    "            vowels = vowels + 1\n",
    "    return vowels\n",
    "\n",
    "def main() -> None:\n",
    "    most = \"\"\n",
    "    for i in range(1,4):\n",
    "        word = input(\"Word \"+str(i)+\": \")\n",
    "        if (count_vowels(word) > count_vowels(most)):\n",
    "            most = word\n",
    "    print(most, \"has the most vowels\")\n",
    "\n",
    "main()"
   ]
  },
  {
   "cell_type": "markdown",
   "id": "640bca2c-6102-4461-9eda-735abcf4ad00",
   "metadata": {
    "editable": true,
    "slideshow": {
     "slide_type": "skip"
    },
    "tags": [
     "blank"
    ]
   },
   "source": [
    "```\n",
    "\n",
    "\n",
    "\n",
    "\n",
    "\n",
    "\n",
    "\n",
    "\n",
    "\n",
    "\n",
    "\n",
    "\n",
    "```"
   ]
  },
  {
   "cell_type": "markdown",
   "id": "6e82bd55-7318-44eb-b929-0c7bf6ab501d",
   "metadata": {
    "editable": true,
    "slideshow": {
     "slide_type": "subslide"
    },
    "tags": [
     "question"
    ]
   },
   "source": [
    "_Write a program that asks the user how many slices are desired for each of three different kinds of pizza and computes the number of pizzas of each kind to purchase. Assume one pizza has 8 slices. For example:_\n",
    "```\n",
    "How many pieces of cheese pizza?  15\n",
    "Order 2 cheese pizza(s)\n",
    "How many pieces of pepperoni pizza?  10\n",
    "Order 2 pepperoni pizza(s)\n",
    "How many pieces of veggie pizza?  8\n",
    "Order 1 veggie pizza(s)\n",
    "```"
   ]
  },
  {
   "cell_type": "code",
   "execution_count": 22,
   "id": "3f21cc04-50f5-4c38-af75-693f3c5820e6",
   "metadata": {
    "editable": true,
    "slideshow": {
     "slide_type": "skip"
    },
    "tags": [
     "answer"
    ]
   },
   "outputs": [
    {
     "name": "stdin",
     "output_type": "stream",
     "text": [
      "How many pieces of cheese pizza?  15\n"
     ]
    },
    {
     "name": "stdout",
     "output_type": "stream",
     "text": [
      "Order 2 cheese pizza(s)\n"
     ]
    },
    {
     "name": "stdin",
     "output_type": "stream",
     "text": [
      "How many pieces of pepperoni pizza?  10\n"
     ]
    },
    {
     "name": "stdout",
     "output_type": "stream",
     "text": [
      "Order 2 pepperoni pizza(s)\n"
     ]
    },
    {
     "name": "stdin",
     "output_type": "stream",
     "text": [
      "How many pieces of veggie pizza?  8\n"
     ]
    },
    {
     "name": "stdout",
     "output_type": "stream",
     "text": [
      "Order 1 veggie pizza(s)\n"
     ]
    }
   ],
   "source": [
    "def slices_to_pizzas(slices: int) -> int:\n",
    "    if (slices % 8 > 0):\n",
    "        extra = 8 - (slices % 8)\n",
    "        slices = slices + extra\n",
    "    return slices // 8\n",
    "\n",
    "def main() -> None:\n",
    "    for kind in [\"cheese\", \"pepperoni\", \"veggie\"]:\n",
    "        slices = int(input(\"How many pieces of \"+kind+\" pizza? \"))\n",
    "        pizzas = slices_to_pizzas(slices)\n",
    "        print(\"Order\", pizzas, kind, \"pizza(s)\")\n",
    "        \n",
    "main()"
   ]
  },
  {
   "cell_type": "markdown",
   "id": "c8a6ea34-336e-4966-b197-ae9f56db2326",
   "metadata": {
    "editable": true,
    "slideshow": {
     "slide_type": "skip"
    },
    "tags": [
     "blank"
    ]
   },
   "source": [
    "```\n",
    "\n",
    "\n",
    "\n",
    "\n",
    "\n",
    "\n",
    "\n",
    "\n",
    "\n",
    "\n",
    "\n",
    "\n",
    "\n",
    "\n",
    "```"
   ]
  },
  {
   "cell_type": "markdown",
   "id": "89e0049a-58df-4759-baec-96f28a80372d",
   "metadata": {
    "editable": true,
    "slideshow": {
     "slide_type": "subslide"
    },
    "tags": []
   },
   "source": [
    "_Write a function called `zodiac` that takes the month (as a string) and day (as an int) a person was born and returns their Zodiac sign._\n",
    "* Aries: March 21 – April 19\n",
    "* Taurus: April 20 – May 20\n",
    "* Gemini: May 21 – June 21\n",
    "* Cancer: June 22 – July 22\n",
    "* Leo: July 23 – August 22\n",
    "* Virgo: August 23 – September 22\n",
    "* Libra: September 23 – October 23\n",
    "* Scorpio: October 24 – November 21\n",
    "* Sagittarius: November 22 – December 21\n",
    "* Capricorn: December 22 – January 19\n",
    "* Aquarius: January 20 – February 18\n",
    "* Pisces: February 19 – March 20"
   ]
  },
  {
   "cell_type": "code",
   "execution_count": 20,
   "id": "15ac8ae9-cd17-4365-89b9-ea472e731f8d",
   "metadata": {
    "editable": true,
    "slideshow": {
     "slide_type": "skip"
    },
    "tags": [
     "answer"
    ]
   },
   "outputs": [],
   "source": [
    "def zodiac(month: str, day: int) -> str:\n",
    "    if (month == \"March\" and day >= 21) or (month == \"April\" and day <= 19):\n",
    "        return \"Aries\"\n",
    "    elif (month == \"April\" and day >= 20) or (month == \"May\" and day <= 20):\n",
    "        return \"Taurus\"\n",
    "    elif (month == \"May\" and day >= 21) or (month == \"June\" and day <= 21):\n",
    "        return \"Gemini\"\n",
    "    elif (month == \"June\" and day >= 22) or (month == \"July\" and day <= 22):\n",
    "        return \"Cancer\"\n",
    "    elif (month == \"July\" and day >= 23) or (month == \"August\" and day <= 22):\n",
    "        return \"Leo\"\n",
    "    elif (month == \"August\" and day >= 23) or (month == \"September\" and day <= 22):\n",
    "        return \"Virgo\"\n",
    "    elif (month == \"September\" and day >= 23) or (month == \"October\" and day <= 23):\n",
    "        return \"Libra\"\n",
    "    elif (month == \"October\" and day >= 24) or (month == \"November\" and day <= 21):\n",
    "        return \"Scorpio\"\n",
    "    elif (month == \"November\" and day >= 22) or (month == \"December\" and day <= 21):\n",
    "        return \"Sagittarius\"\n",
    "    elif (month == \"December\" and day >= 22) or (month == \"January\" and day <= 19):\n",
    "        return \"Capricorn\"\n",
    "    elif (month == \"January\" and day >= 20) or (month == \"Feburary\" and day <= 18):\n",
    "        return \"Aquarius\"\n",
    "    else:\n",
    "        return \"Pisces\""
   ]
  },
  {
   "cell_type": "markdown",
   "id": "3fca660b-1c71-42f3-bdfe-63bdf74b2f10",
   "metadata": {
    "editable": true,
    "slideshow": {
     "slide_type": "skip"
    },
    "tags": [
     "blank"
    ]
   },
   "source": [
    "```\n",
    "\n",
    "\n",
    "\n",
    "\n",
    "\n",
    "\n",
    "\n",
    "\n",
    "\n",
    "\n",
    "\n",
    "\n",
    "\n",
    "\n",
    "\n",
    "\n",
    "\n",
    "\n",
    "```"
   ]
  },
  {
   "cell_type": "markdown",
   "id": "98f46c3d-ca4b-449a-9fa5-70a0c45e5268",
   "metadata": {
    "editable": true,
    "slideshow": {
     "slide_type": "subslide"
    },
    "tags": [
     "question"
    ]
   },
   "source": [
    "_Write a function called `flips` that flips a coin a specified number of times and returns the percentage of flips that were heads._"
   ]
  },
  {
   "cell_type": "code",
   "execution_count": 27,
   "id": "a0c813c9-e80d-4c38-83d5-7e6a02c6f71f",
   "metadata": {
    "editable": true,
    "slideshow": {
     "slide_type": "skip"
    },
    "tags": [
     "answer"
    ]
   },
   "outputs": [
    {
     "name": "stdout",
     "output_type": "stream",
     "text": [
      "52.0\n"
     ]
    }
   ],
   "source": [
    "import random\n",
    "def flips(count: int) -> float:\n",
    "    heads = 0\n",
    "    for i in range(0, count):\n",
    "        coin = random.randint(0,1)\n",
    "        if (coin == 0):\n",
    "            heads += 1\n",
    "    percent = heads/count * 100\n",
    "    return percent\n",
    "\n",
    "print(flips(50))"
   ]
  },
  {
   "cell_type": "markdown",
   "id": "42e68458-9755-4541-8699-8c096b9784b5",
   "metadata": {
    "editable": true,
    "slideshow": {
     "slide_type": "skip"
    },
    "tags": [
     "blank"
    ]
   },
   "source": [
    "```\n",
    "\n",
    "\n",
    "\n",
    "\n",
    "\n",
    "\n",
    "```"
   ]
  }
 ],
 "metadata": {
  "kernelspec": {
   "display_name": "Python 3 (ipykernel)",
   "language": "python",
   "name": "python3"
  },
  "language_info": {
   "codemirror_mode": {
    "name": "ipython",
    "version": 3
   },
   "file_extension": ".py",
   "mimetype": "text/x-python",
   "name": "python",
   "nbconvert_exporter": "python",
   "pygments_lexer": "ipython3",
   "version": "3.9.6"
  }
 },
 "nbformat": 4,
 "nbformat_minor": 5
}
