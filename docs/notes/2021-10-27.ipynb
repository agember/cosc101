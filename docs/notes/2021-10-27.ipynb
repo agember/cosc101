{
 "cells": [
  {
   "cell_type": "markdown",
   "id": "c254c520-bdd0-459e-9cb9-99529696dc13",
   "metadata": {
    "slideshow": {
     "slide_type": "skip"
    },
    "tags": []
   },
   "source": [
    "# string methods; string formatting\n",
    "_COSC 101, Introduction to Computing I, 2021-10-27_"
   ]
  },
  {
   "cell_type": "markdown",
   "id": "7f3bfd77-121f-44b5-95eb-9f596c9c6195",
   "metadata": {
    "slideshow": {
     "slide_type": "skip"
    },
    "tags": []
   },
   "source": [
    "## Announcements\n",
    "* Homework 6 due tomorrow at 5pm"
   ]
  },
  {
   "cell_type": "markdown",
   "id": "b278fba6-db15-4c0f-b1ea-ee367ce7ccf8",
   "metadata": {
    "jp-MarkdownHeadingCollapsed": true,
    "slideshow": {
     "slide_type": "skip"
    },
    "tags": [
     "notes-only"
    ]
   },
   "source": [
    "## Outline\n",
    "* Warm-up\n",
    "* string methods\n",
    "* string formatting"
   ]
  },
  {
   "cell_type": "markdown",
   "id": "85225edf-7e50-4f41-9740-10cfaebca940",
   "metadata": {
    "slideshow": {
     "slide_type": "slide"
    },
    "tags": []
   },
   "source": [
    "## Warm-up\n",
    "_Write a function called pig_latin that takes a single word and translates the word to pig latin by moving the first letter to the end of the word and adding “ay” to the end. For example:_\n",
    "* `pig_latin('pig')` returns `'igpay'`\n",
    "* `pig_latin('latin')` returns `'atinlay'`"
   ]
  },
  {
   "cell_type": "code",
   "execution_count": 33,
   "id": "175468fc-7fc4-498d-9323-72f7ff140d26",
   "metadata": {
    "slideshow": {
     "slide_type": "skip"
    },
    "tags": [
     "notes-only"
    ]
   },
   "outputs": [],
   "source": [
    "def pig_latin(word):\n",
    "    \"\"\"\n",
    "    Translate a word to pig latin\n",
    "    \n",
    "    >>> pig_latin('pig')\n",
    "    'igpay'\n",
    "    >>> pig_latin('latin')\n",
    "    'atinlay'\n",
    "    \"\"\"\n",
    "    return word[1:] + word[0] + \"ay\""
   ]
  },
  {
   "cell_type": "markdown",
   "id": "f4449221-7fff-4534-8df5-2ab6d9a7e556",
   "metadata": {
    "slideshow": {
     "slide_type": "skip"
    },
    "tags": [
     "worksheet-only"
    ]
   },
   "source": [
    "```Python\n",
    "\n",
    "\n",
    "\n",
    "\n",
    "\n",
    "\n",
    "\n",
    "```\n",
    "🛑 **STOP HERE** after completing the warm-up; please **DO NOT WORK AHEAD**. If you have extra time, work on the extra practice problems."
   ]
  },
  {
   "cell_type": "markdown",
   "id": "e297ccd9-3c88-4212-ba01-6afbaa0e0348",
   "metadata": {
    "slideshow": {
     "slide_type": "slide"
    },
    "tags": []
   },
   "source": [
    "## String methods"
   ]
  },
  {
   "cell_type": "markdown",
   "id": "e2e92ecc-d21c-44cf-8ede-e357cb8f9d13",
   "metadata": {
    "slideshow": {
     "slide_type": "skip"
    },
    "tags": [
     "notes-only"
    ]
   },
   "source": [
    "## Overview\n",
    "* String operators\n",
    "    * `+` — concetantes two strings\n",
    "    * `*` — repeats a string\n",
    "    * `in` — true if one string exists within another string, otherwise false\n",
    "    * `not in` — true if one string does not exist within another string, otherwise false\n",
    "* Built-in functions\n",
    "    * `len` — returns the length of a string\n",
    "    * `ord` — returns the numeric code corresponding to a character\n",
    "    * `chr` — returns the character corresponding to a numeric code\n",
    "* String methods are functions that are applied to a specific string, similar to working with a `Turtle` object"
   ]
  },
  {
   "cell_type": "code",
   "execution_count": 3,
   "id": "64a8595b-21ea-4f8d-ae64-03a19077f88d",
   "metadata": {
    "slideshow": {
     "slide_type": "skip"
    },
    "tags": [
     "notes-only"
    ]
   },
   "outputs": [
    {
     "name": "stdout",
     "output_type": "stream",
     "text": [
      "STILL I RISE\n"
     ]
    }
   ],
   "source": [
    "title = 'Still I rise'\n",
    "print(title.upper())"
   ]
  },
  {
   "cell_type": "markdown",
   "id": "44c9d683-5970-43ec-9177-b86aa36e1ac7",
   "metadata": {
    "slideshow": {
     "slide_type": "skip"
    },
    "tags": [
     "notes-only"
    ]
   },
   "source": [
    "* Common methods\n",
    "    * `upper`, `lower` — converts all characters to upper or lower case\n",
    "    * `strip`, `lstrip`, `rstrip` — removes leading/trailing whitespace (space, tab, newline)\n",
    "    * `replace` — replace all occurrences of one substring with another\n",
    "    * `find`, `rfind` — get index where substring is found\n",
    "    \n",
    "### Practice"
   ]
  },
  {
   "cell_type": "markdown",
   "id": "eda6553a-898c-4a81-ad7c-d91c072232ca",
   "metadata": {},
   "source": [
    "_Complete the following functions_:"
   ]
  },
  {
   "cell_type": "code",
   "execution_count": null,
   "id": "a3dcb619-b741-49ad-bff1-4be62c1386d9",
   "metadata": {
    "tags": [
     "worksheet-only"
    ]
   },
   "outputs": [],
   "source": [
    "#1)\n",
    "def eecummings(poem):\n",
    "    \"\"\"\n",
    "    Converts a poem to lowercase\n",
    "    \n",
    "    >>> eecummings(\"Still I rise\")\n",
    "    'still i rise'\n",
    "    \"\"\""
   ]
  },
  {
   "cell_type": "markdown",
   "id": "c1da4308-e3e2-4b58-b4c7-7f769d21246c",
   "metadata": {
    "slideshow": {
     "slide_type": "skip"
    },
    "tags": [
     "worksheet-only"
    ]
   },
   "source": [
    "```Python\n",
    "\n",
    "\n",
    "\n",
    "```"
   ]
  },
  {
   "cell_type": "code",
   "execution_count": 7,
   "id": "97171cb3-aecb-483d-a3c4-0b79f84efb30",
   "metadata": {
    "slideshow": {
     "slide_type": "skip"
    },
    "tags": [
     "notes-only"
    ]
   },
   "outputs": [],
   "source": [
    "#1)\n",
    "def eecummings(poem):\n",
    "    \"\"\"\n",
    "    Converts a poem to lowercase\n",
    "    \n",
    "    >>> eecummings(\"Still I rise\")\n",
    "    'still i rise'\n",
    "    \"\"\"\n",
    "    return poem.lower()"
   ]
  },
  {
   "cell_type": "code",
   "execution_count": 46,
   "id": "259bcbef-70d0-4884-bfc7-3d64a1484dc4",
   "metadata": {
    "slideshow": {
     "slide_type": "subslide"
    },
    "tags": [
     "worksheet-only"
    ]
   },
   "outputs": [],
   "source": [
    "#2)\n",
    "def emphasize(phrase, word):\n",
    "    \"\"\"\n",
    "    Make the first occurrence of word in phrase uppercase\n",
    "    \n",
    "    >>> emphasize('\"We all have different gifts, so we all have different ways of saying to the world who we are.\" ~Fred Rogers', \"all\")\n",
    "    '\"We ALL have different gifts, so we all have different ways of saying to the world who we are.\" ~Fred Rogers'\n",
    "    >>> emphasize('\"We all have different gifts, so we all have different ways of saying to the world who we are.\" ~Fred Rogers', \"gifts\")\n",
    "    '\"We all have different GIFTS, so we all have different ways of saying to the world who we are.\" ~Fred Rogers'\n",
    "    >>> emphasize('\"We all have different gifts, so we all have different ways of saying to the world who we are.\" ~Fred Rogers', \"Mister\")\n",
    "    '\"We all have different gifts, so we all have different ways of saying to the world who we are.\" ~Fred Rogers'\n",
    "    \"\"\"\n",
    "    "
   ]
  },
  {
   "cell_type": "markdown",
   "id": "b70f866e-046e-447a-8a03-3c12ed4b5ca0",
   "metadata": {
    "slideshow": {
     "slide_type": "skip"
    },
    "tags": [
     "worksheet-only"
    ]
   },
   "source": [
    "```Python\n",
    "\n",
    "\n",
    "\n",
    "\n",
    "\n",
    "\n",
    "\n",
    "\n",
    "\n",
    "\n",
    "\n",
    "```"
   ]
  },
  {
   "cell_type": "code",
   "execution_count": 4,
   "id": "9794c9b3-1338-4668-92e8-78aa0e4824c8",
   "metadata": {
    "slideshow": {
     "slide_type": "skip"
    },
    "tags": [
     "notes-only"
    ]
   },
   "outputs": [],
   "source": [
    "#2)\n",
    "def emphasize(phrase, word):\n",
    "    \"\"\"\n",
    "    Make the first occurrence of word in phrase uppercase\n",
    "    \n",
    "    >>> emphasize('\"We all have different gifts, so we all have different ways of saying to the world who we are.\" ~Fred Rogers', \"all\")\n",
    "    '\"We ALL have different gifts, so we all have different ways of saying to the world who we are.\" ~Fred Rogers'\n",
    "    >>> emphasize('\"We all have different gifts, so we all have different ways of saying to the world who we are.\" ~Fred Rogers', \"gifts\")\n",
    "    '\"We all have different GIFTS, so we all have different ways of saying to the world who we are.\" ~Fred Rogers'\n",
    "    >>> emphasize('\"We all have different gifts, so we all have different ways of saying to the world who we are.\" ~Fred Rogers', \"Mister\")\n",
    "    '\"We all have different gifts, so we all have different ways of saying to the world who we are.\" ~Fred Rogers'\n",
    "    \"\"\"\n",
    "    start = phrase.find(word)\n",
    "    if (start >= 0):\n",
    "        end = start + len(word)\n",
    "        return phrase[:start] + phrase[start:end].upper() + phrase[end:]\n",
    "    else:\n",
    "        return phrase"
   ]
  },
  {
   "cell_type": "code",
   "execution_count": 11,
   "id": "9ed82ad8-6642-4dcd-b4e4-e6c44419a75d",
   "metadata": {
    "slideshow": {
     "slide_type": "subslide"
    },
    "tags": [
     "worksheet-only"
    ]
   },
   "outputs": [],
   "source": [
    "#3)\n",
    "def bleep(phrase, swear_words):\n",
    "    \"\"\"\n",
    "    Replace any words in phrase in the list of swear_words with BLEEP\n",
    "    \n",
    "    >>> bleep(\"Oh crap!\", [\"shit\", \"crap\"])\n",
    "    'Oh BLEEP!'\n",
    "    >>> bleep(\"Oh crap, this shit doesn't work!\", [\"shit\", \"crap\"])\n",
    "    \"Oh BLEEP, this BLEEP doesn't work!\"\n",
    "    \"\"\""
   ]
  },
  {
   "cell_type": "markdown",
   "id": "eb804cc1-d2be-4437-bb7b-778e669f99d7",
   "metadata": {
    "slideshow": {
     "slide_type": "skip"
    },
    "tags": [
     "worksheet-only"
    ]
   },
   "source": [
    "```Python\n",
    "\n",
    "\n",
    "\n",
    "\n",
    "\n",
    "\n",
    "```\n",
    "🛑 **STOP HERE** after completing the above problems; please **DO NOT WORK AHEAD**. If you have extra time, work on the extra practice problems."
   ]
  },
  {
   "cell_type": "code",
   "execution_count": 38,
   "id": "ebfc194f-d8b8-4a50-9a32-e9bff3b06d0e",
   "metadata": {
    "slideshow": {
     "slide_type": "skip"
    },
    "tags": [
     "notes-only"
    ]
   },
   "outputs": [],
   "source": [
    "#3)\n",
    "def bleep(phrase, swear_words):\n",
    "    \"\"\"\n",
    "    Replace any words in phrase in the list of swear_words with BLEEP\n",
    "    \n",
    "    >>> bleep(\"Oh crap!\", [\"shit\", \"crap\"])\n",
    "    'Oh BLEEP!'\n",
    "    >>> bleep(\"Oh crap, this shit doesn't work!\", [\"shit\", \"crap\"])\n",
    "    \"Oh BLEEP, this BLEEP doesn't work!\"\n",
    "    \"\"\"\n",
    "    for swear in swear_words:\n",
    "        phrase = phrase.replace(swear, \"BLEEP\")\n",
    "    return phrase"
   ]
  },
  {
   "cell_type": "markdown",
   "id": "9789de6a-dcdb-484c-9109-e377d665be20",
   "metadata": {
    "slideshow": {
     "slide_type": "slide"
    },
    "tags": []
   },
   "source": [
    "## String formatting"
   ]
  },
  {
   "cell_type": "markdown",
   "id": "18993789-202e-45ea-aee3-56a0f9678700",
   "metadata": {
    "slideshow": {
     "slide_type": "skip"
    },
    "tags": [
     "notes-only"
    ]
   },
   "source": [
    "### Overview\n",
    "* _Assume I wanted to write a function called `word_length` that takes a single word and prints the word and its length. For example: `word_length('rain')` should output `\"rain is 4 characters long!\"`. How would I write the body of the function?_\n",
    "* _Now assume I wanted `word_length('rain')` to output `\"rain has length 4!\"` How would I change the body of the function?_\n",
    "* Simpler alternative: string `format` method\n",
    "    * Create a string that contains curly places as placeholders for values\n",
    "    * Call `format` on the string with a list of values to fill-in the placeholders"
   ]
  },
  {
   "cell_type": "code",
   "execution_count": 35,
   "id": "60d8191f-4673-4d55-a42c-6658bc8b8b0f",
   "metadata": {
    "slideshow": {
     "slide_type": "skip"
    },
    "tags": [
     "notes-only"
    ]
   },
   "outputs": [
    {
     "name": "stdout",
     "output_type": "stream",
     "text": [
      "rain has length 4!\n"
     ]
    }
   ],
   "source": [
    "word = \"rain\"\n",
    "print(\"{} has length {}!\".format(word, len(word)))"
   ]
  },
  {
   "cell_type": "markdown",
   "id": "80734dd6-8030-4566-9f01-7abd236428e5",
   "metadata": {
    "slideshow": {
     "slide_type": "skip"
    },
    "tags": [
     "notes-only"
    ]
   },
   "source": [
    "### Practice"
   ]
  },
  {
   "cell_type": "markdown",
   "id": "49455d0f-50ef-44a7-985c-eebe09df64ea",
   "metadata": {},
   "source": [
    "_Complete the following functions_:"
   ]
  },
  {
   "cell_type": "code",
   "execution_count": 39,
   "id": "8aaeb52c-9228-436f-a748-a0067a5f7a82",
   "metadata": {
    "tags": [
     "worksheet-only"
    ]
   },
   "outputs": [],
   "source": [
    "#1)\n",
    "def y2k(date):\n",
    "    \"\"\"\n",
    "    Converts a date in the format 'Month DD, YY' to 'DD Month 19YY'\n",
    "    \n",
    "    >>> y2k(\"March 02, 20\")\n",
    "    '02 March 1920'\n",
    "    >>> y2k(\"January 01, 00\")\n",
    "    '01 January 1900'\n",
    "    \"\"\""
   ]
  },
  {
   "cell_type": "markdown",
   "id": "3fcda710-848f-4ecb-a88f-c9c0665ed50f",
   "metadata": {
    "slideshow": {
     "slide_type": "skip"
    },
    "tags": [
     "worksheet-only"
    ]
   },
   "source": [
    "```Python\n",
    "\n",
    "\n",
    "\n",
    "\n",
    "\n",
    "\n",
    "\n",
    "```"
   ]
  },
  {
   "cell_type": "code",
   "execution_count": 40,
   "id": "9ef36858-615e-460d-b5ed-a76864dfc70e",
   "metadata": {
    "slideshow": {
     "slide_type": "skip"
    },
    "tags": [
     "notes-only"
    ]
   },
   "outputs": [],
   "source": [
    "#1)\n",
    "def y2k(date):\n",
    "    \"\"\"\n",
    "    Converts a date in the format 'Month DD, YY' to 'DD Month 19YY'\n",
    "    \n",
    "    >>> y2k(\"March 02, 20\")\n",
    "    '02 March 1920'\n",
    "    >>> y2k(\"January 01, 00\")\n",
    "    '01 January 1900'\n",
    "    \"\"\"\n",
    "    year = date[-2:]\n",
    "    day = date[-6:-4]\n",
    "    month_end = date.find(\" \")\n",
    "    month = date[:month_end]\n",
    "    return \"{} {} 19{}\".format(day, month, year)"
   ]
  },
  {
   "cell_type": "markdown",
   "id": "ce682f90-774f-4ba6-80cc-9646e4f379e3",
   "metadata": {
    "slideshow": {
     "slide_type": "slide"
    },
    "tags": [
     "worksheet-only"
    ]
   },
   "source": [
    "## Extra practice"
   ]
  },
  {
   "cell_type": "markdown",
   "id": "d7085d87-8001-4a30-a8bf-6cf115814fb4",
   "metadata": {},
   "source": [
    "_Complete the following functions_:"
   ]
  },
  {
   "cell_type": "code",
   "execution_count": 30,
   "id": "298680d4-fae2-479a-bca7-cab31c406d3f",
   "metadata": {
    "tags": [
     "worksheet-only"
    ]
   },
   "outputs": [],
   "source": [
    "def slice(phrase, word):\n",
    "    \"\"\"\n",
    "    Return the slice notation (as a string) for extracting word from phrase\n",
    "    \n",
    "    >>> slice(\"A piece of pizza\", \"of\")\n",
    "    '[8:10]'\n",
    "    >>> slice(\"A piece of pizza\", \"pie\")\n",
    "    '[2:5]'\n",
    "    >>> slice(\"A piece of pizza\", \"A\")\n",
    "    '[:1]'\n",
    "    >>> slice(\"A piece of pizza\", \"pizza\")\n",
    "    '[11:]'\n",
    "    \"\"\""
   ]
  },
  {
   "cell_type": "markdown",
   "id": "25e6d4da-8062-42c7-9561-c9c1270bf960",
   "metadata": {
    "slideshow": {
     "slide_type": "skip"
    },
    "tags": [
     "worksheet-only"
    ]
   },
   "source": [
    "```Python\n",
    "\n",
    "\n",
    "\n",
    "\n",
    "\n",
    "\n",
    "\n",
    "```"
   ]
  },
  {
   "cell_type": "code",
   "execution_count": 30,
   "id": "b775ecae-812e-4095-b792-2dca62ed8172",
   "metadata": {
    "slideshow": {
     "slide_type": "skip"
    },
    "tags": [
     "notes-only"
    ]
   },
   "outputs": [],
   "source": [
    "def slice(phrase, word):\n",
    "    \"\"\"\n",
    "    Return the slice notation (as a string) for extracting word from phrase\n",
    "    \n",
    "    >>> slice(\"A piece of pizza\", \"of\")\n",
    "    '[8:10]'\n",
    "    >>> slice(\"A piece of pizza\", \"pie\")\n",
    "    '[2:5]'\n",
    "    >>> slice(\"A piece of pizza\", \"A\")\n",
    "    '[:1]'\n",
    "    >>> slice(\"A piece of pizza\", \"pizza\")\n",
    "    '[11:]'\n",
    "    \"\"\"\n",
    "    start = phrase.find(word)\n",
    "    end = start + len(word)\n",
    "    if start == 0:\n",
    "        start = \"\"\n",
    "    if end == len(phrase):\n",
    "        end = \"\"\n",
    "    return \"[{}:{}]\".format(start, end)"
   ]
  },
  {
   "cell_type": "code",
   "execution_count": null,
   "id": "74c04d1d-a576-43e3-ab4d-1b195bd842a4",
   "metadata": {
    "slideshow": {
     "slide_type": "skip"
    },
    "tags": [
     "notes-only"
    ]
   },
   "outputs": [],
   "source": [
    "import doctest\n",
    "doctest.testmod(verbose=True)"
   ]
  }
 ],
 "metadata": {
  "kernelspec": {
   "display_name": "Python 3 (ipykernel)",
   "language": "python",
   "name": "python3"
  },
  "language_info": {
   "codemirror_mode": {
    "name": "ipython",
    "version": 3
   },
   "file_extension": ".py",
   "mimetype": "text/x-python",
   "name": "python",
   "nbconvert_exporter": "python",
   "pygments_lexer": "ipython3",
   "version": "3.8.2"
  }
 },
 "nbformat": 4,
 "nbformat_minor": 5
}
