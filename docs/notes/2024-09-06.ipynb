{
 "cells": [
  {
   "cell_type": "markdown",
   "id": "418f2156",
   "metadata": {
    "slideshow": {
     "slide_type": "skip"
    }
   },
   "source": [
    "# Hello: variables; input; errors & debugging\n",
    "_COSC 101, Introduction to Computing I, 2024-09-06_"
   ]
  },
  {
   "cell_type": "markdown",
   "id": "ba521109",
   "metadata": {
    "slideshow": {
     "slide_type": "skip"
    }
   },
   "source": [
    "## Announcements\n",
    "* Homework 1 posted; due Thursday at 11:59pm\n",
    "* Read and complete activites in the textbook on Runestone Academy before each class period"
   ]
  },
  {
   "cell_type": "markdown",
   "id": "a561529f",
   "metadata": {
    "slideshow": {
     "slide_type": "skip"
    },
    "tags": [
     "notes-only"
    ]
   },
   "source": [
    "## Outline\n",
    "* Variables\n",
    "* Input"
   ]
  },
  {
   "cell_type": "markdown",
   "id": "ad610e2b-9fd1-4696-b29c-270f1741787a",
   "metadata": {
    "slideshow": {
     "slide_type": "slide"
    },
    "tags": []
   },
   "source": [
    "## No warm-up: Happy Friday!"
   ]
  },
  {
   "cell_type": "markdown",
   "id": "eeac3caa-7cb4-4218-a06e-e47a7809be70",
   "metadata": {
    "slideshow": {
     "slide_type": "slide"
    }
   },
   "source": [
    "## Variables"
   ]
  },
  {
   "cell_type": "markdown",
   "id": "e322c599-680e-4366-93ca-6bad804e652e",
   "metadata": {
    "slideshow": {
     "slide_type": "skip"
    },
    "tags": [
     "notes-only"
    ]
   },
   "source": [
    "* Recall the \"dense\" code we wrote last time to output the percentage savins for an item that normally costs 39.99, but is on sale for 22.99"
   ]
  },
  {
   "cell_type": "code",
   "execution_count": null,
   "id": "6a8dfd33-9c60-45cd-bea7-d972615ac1c3",
   "metadata": {
    "tags": [
     "notes-only"
    ]
   },
   "outputs": [
    {
     "name": "stdout",
     "output_type": "stream",
     "text": [
      "42% savings\n"
     ]
    }
   ],
   "source": [
    "print(str(int((39.99 - 22.99) / 39.99 * 100)) + \"% savings\")"
   ]
  },
  {
   "cell_type": "markdown",
   "id": "1ed0d3ff-6516-48c7-90e2-d0562d48f3ea",
   "metadata": {
    "slideshow": {
     "slide_type": "skip"
    },
    "tags": [
     "notes-only"
    ]
   },
   "source": [
    "* Here is different code that produces the same output but uses _variables_"
   ]
  },
  {
   "cell_type": "code",
   "execution_count": null,
   "id": "3a52ecc4-ea52-4196-8664-815ccde0a142",
   "metadata": {
    "slideshow": {
     "slide_type": "fragment"
    },
    "tags": [
     "notes-only"
    ]
   },
   "outputs": [
    {
     "name": "stdout",
     "output_type": "stream",
     "text": [
      "42% savings\n"
     ]
    }
   ],
   "source": [
    "original_price = 39.99\n",
    "sale_price = 22.99\n",
    "percent_savings = (original_price - sale_price) / original_price * 100\n",
    "print(str(int(percent_savings)) + \"% savings\")"
   ]
  },
  {
   "cell_type": "markdown",
   "id": "1a418304-8d0d-421a-91a0-fd0ab72bf040",
   "metadata": {
    "slideshow": {
     "slide_type": "skip"
    },
    "tags": [
     "notes-only"
    ]
   },
   "source": [
    "* A variable is a vessel for a value\n",
    "* When you assign a value to a variable, you put the value in the vessel\n",
    "    * E.g., `box = 2`\n",
    "* When you use a variable in an expresison, you use the value in the vessel\n",
    "    * E.g., `3 + box` evaluates to `5`\n",
    "* When you assign a different value to a variable, you **replace** the value in the vessel\n",
    "    * E.g., `box = 7`\n",
    "* When you use a variable in an expression, you use the **current** value in the vessel\n",
    "    * E.g., `3 + box` now evaluates to `10`\n",
    "* Draw a reference diagram to help you understand what your program is doing\n",
    "    * Reference diagram after executing box = 2\n",
    "        ```\n",
    "                ┏━━━━┓\n",
    "        box ━━> ┃  5 ┃\n",
    "                ┗━━━━┛\n",
    "        ```\n",
    "    * Reference diagram after executing box = 7\n",
    "        ```\n",
    "                ┏━━━━┓\n",
    "        box ━━> ┃  7 ┃\n",
    "                ┗━━━━┛\n",
    "        ```"
   ]
  },
  {
   "cell_type": "markdown",
   "id": "2de7e905-376b-415e-a870-a72a9bceb1ed",
   "metadata": {
    "slideshow": {
     "slide_type": "subslide"
    },
    "tags": []
   },
   "source": [
    "_For each of the following programs: (1) draw a reference diagram depecting the state of each variable as the program is executed; (2) indicate what the program will output._"
   ]
  },
  {
   "cell_type": "code",
   "execution_count": 7,
   "id": "97a9b19b-7c5c-45d2-bac8-26c17e0f6dba",
   "metadata": {
    "tags": [
     "worksheet-code-only"
    ]
   },
   "outputs": [
    {
     "name": "stdout",
     "output_type": "stream",
     "text": [
      "7\n",
      "10\n"
     ]
    }
   ],
   "source": [
    "apples = 10\n",
    "print(apples - 3)\n",
    "print(apples)"
   ]
  },
  {
   "cell_type": "markdown",
   "id": "0549a537-4bef-48c2-8d2f-38d202c83f1b",
   "metadata": {
    "slideshow": {
     "slide_type": "skip"
    },
    "tags": [
     "answer",
     "test-only"
    ]
   },
   "source": [
    "```\n",
    "          ┏━━━━┓\n",
    "apples ━━>┃ 10 ┃\n",
    "          ┗━━━━┛\n",
    "```"
   ]
  },
  {
   "cell_type": "markdown",
   "id": "0c66710a-00de-4411-9e32-eb122b021c2c",
   "metadata": {
    "slideshow": {
     "slide_type": "skip"
    },
    "tags": [
     "blank"
    ]
   },
   "source": [
    "<div style=\"height:10em;\"></div>"
   ]
  },
  {
   "cell_type": "code",
   "execution_count": 6,
   "id": "46b1faf8-7e95-428f-9796-08d5819f66fb",
   "metadata": {
    "slideshow": {
     "slide_type": "subslide"
    },
    "tags": [
     "worksheet-code-only"
    ]
   },
   "outputs": [
    {
     "name": "stdout",
     "output_type": "stream",
     "text": [
      "5 plums\n",
      "7 peaches\n",
      "12 fruits\n"
     ]
    }
   ],
   "source": [
    "plums = 5\n",
    "peaches = 7\n",
    "fruits = plums + peaches\n",
    "print(plums, \"plums\")\n",
    "print(peaches, \"peaches\")\n",
    "print(fruits, \"fruits\")"
   ]
  },
  {
   "cell_type": "markdown",
   "id": "c63d2006-3bf7-4e4b-aaea-76a4875fa0b4",
   "metadata": {
    "slideshow": {
     "slide_type": "skip"
    },
    "tags": [
     "answer"
    ]
   },
   "source": [
    "```\n",
    "          ┏━━━━┓\n",
    "plums  ━━>┃  5 ┃\n",
    "          ┗━━━━┛\n",
    "          ┏━━━━┓\n",
    "peaches━━>┃  7 ┃\n",
    "          ┗━━━━┛\n",
    "          ┏━━━━┓\n",
    "fruits ━━>┃ 12 ┃\n",
    "          ┗━━━━┛\n",
    "```"
   ]
  },
  {
   "cell_type": "markdown",
   "id": "48e79167-736a-4254-9686-4f135fc4aa62",
   "metadata": {
    "slideshow": {
     "slide_type": "skip"
    },
    "tags": [
     "blank"
    ]
   },
   "source": [
    "<div style=\"height:10em;\"></div>"
   ]
  },
  {
   "cell_type": "code",
   "execution_count": 8,
   "id": "ff0eb623-a75e-4724-8e41-7bab977ba8b7",
   "metadata": {
    "slideshow": {
     "slide_type": "subslide"
    },
    "tags": [
     "worksheet-code-only"
    ]
   },
   "outputs": [
    {
     "name": "stdout",
     "output_type": "stream",
     "text": [
      "8.0\n",
      "4.5\n"
     ]
    }
   ],
   "source": [
    "bagels = 1\n",
    "donuts = bagels + 2\n",
    "bagels = 4\n",
    "print(bagels * 2.0)\n",
    "print(donuts * 1.5)"
   ]
  },
  {
   "cell_type": "markdown",
   "id": "25ddd475-8e66-40fb-bb93-14cb8b864f09",
   "metadata": {
    "slideshow": {
     "slide_type": "skip"
    },
    "tags": [
     "answer"
    ]
   },
   "source": [
    "```\n",
    "          ┏━━━━┓\n",
    "bagels ━━>┃  4 ┃\n",
    "          ┗━━━━┛\n",
    "          ┏━━━━┓\n",
    "donuts ━━>┃  3 ┃\n",
    "          ┗━━━━┛\n",
    "```"
   ]
  },
  {
   "cell_type": "markdown",
   "id": "8171e5c0-1760-4569-a609-deee8a0b60fd",
   "metadata": {
    "slideshow": {
     "slide_type": "skip"
    },
    "tags": [
     "worksheet-only",
     "blank"
    ]
   },
   "source": [
    "<div style=\"height:10em;\"></div>"
   ]
  },
  {
   "cell_type": "code",
   "execution_count": 9,
   "id": "825c6af9-815b-4bbb-afdc-c3ee3ed00883",
   "metadata": {
    "slideshow": {
     "slide_type": "subslide"
    },
    "tags": [
     "worksheet-code-only"
    ]
   },
   "outputs": [
    {
     "name": "stdout",
     "output_type": "stream",
     "text": [
      "12\n"
     ]
    }
   ],
   "source": [
    "yogurt = 6\n",
    "yogurt = yogurt * 2\n",
    "print(yogurt)"
   ]
  },
  {
   "cell_type": "markdown",
   "id": "e56c37ed-b566-4bd4-b17a-1401d0459977",
   "metadata": {
    "slideshow": {
     "slide_type": "skip"
    },
    "tags": [
     "answer"
    ]
   },
   "source": [
    "```\n",
    "          ┏━━━━┓\n",
    "yogurt ━━>┃ 12 ┃\n",
    "          ┗━━━━┛\n",
    "```"
   ]
  },
  {
   "cell_type": "markdown",
   "id": "69e286c0-c9ae-4cfd-bfe5-e96319c9ee89",
   "metadata": {
    "slideshow": {
     "slide_type": "skip"
    },
    "tags": [
     "blank"
    ]
   },
   "source": [
    "<div style=\"height:10em;\"></div>"
   ]
  },
  {
   "cell_type": "markdown",
   "id": "acf119c6-ee51-4a7b-a593-9eb988fae16a",
   "metadata": {
    "slideshow": {
     "slide_type": "subslide"
    },
    "tags": [
     "question"
    ]
   },
   "source": [
    "_Write a program that calculates the area of a rubgy field, which is 100 meters long and 68 meters wide._"
   ]
  },
  {
   "cell_type": "code",
   "execution_count": 4,
   "id": "393b2fab-c610-4c0e-97ce-11a021407e34",
   "metadata": {
    "slideshow": {
     "slide_type": "skip"
    },
    "tags": [
     "answer"
    ]
   },
   "outputs": [
    {
     "name": "stdout",
     "output_type": "stream",
     "text": [
      "6800 m²\n"
     ]
    }
   ],
   "source": [
    "length = 100\n",
    "width = 68\n",
    "area = length * width\n",
    "print(area, \"m²\")"
   ]
  },
  {
   "cell_type": "markdown",
   "id": "bbb1d1f2-e0c9-42d8-8552-7f9cac8dd020",
   "metadata": {
    "slideshow": {
     "slide_type": "skip"
    },
    "tags": [
     "blank"
    ]
   },
   "source": [
    "<div style=\"height:10em;\"></div>"
   ]
  },
  {
   "cell_type": "markdown",
   "id": "f6761151-b1fe-48af-a8e0-6ced91914a60",
   "metadata": {
    "slideshow": {
     "slide_type": "-"
    },
    "tags": [
     "question"
    ]
   },
   "source": [
    "_Write a program that calculates the area of a volleyball court, which is 16 meters long and 8 meters wide._"
   ]
  },
  {
   "cell_type": "code",
   "execution_count": 13,
   "id": "0d0c107f-e9db-4e38-b46c-9d46afb2d14c",
   "metadata": {
    "slideshow": {
     "slide_type": "skip"
    },
    "tags": [
     "answer"
    ]
   },
   "outputs": [
    {
     "name": "stdout",
     "output_type": "stream",
     "text": [
      "128 m²\n"
     ]
    }
   ],
   "source": [
    "length = 16\n",
    "width = 8\n",
    "area = length * width\n",
    "print(area, \"m²\")"
   ]
  },
  {
   "cell_type": "markdown",
   "id": "f91307ab-3652-447c-a518-335d4b88abbc",
   "metadata": {
    "slideshow": {
     "slide_type": "skip"
    },
    "tags": [
     "blank"
    ]
   },
   "source": [
    "<div style=\"height:16em;\"></div>"
   ]
  },
  {
   "cell_type": "markdown",
   "id": "6e7d0df4-776c-44bf-9a73-35f5e42d6975",
   "metadata": {
    "slideshow": {
     "slide_type": "subslide"
    },
    "tags": [
     "question"
    ]
   },
   "source": [
    "_What does the following program output?_"
   ]
  },
  {
   "cell_type": "code",
   "execution_count": 57,
   "id": "1bf0fc99-8758-43fc-9f18-6d85ab5b1eaa",
   "metadata": {
    "tags": [
     "worksheet-code-only"
    ]
   },
   "outputs": [
    {
     "name": "stdout",
     "output_type": "stream",
     "text": [
      "13\n",
      "5\n"
     ]
    }
   ],
   "source": [
    "muffins = 13\n",
    "print(muffins)\n",
    "muffins = 5\n",
    "print(muffins)"
   ]
  },
  {
   "cell_type": "markdown",
   "id": "87ad2389-0afa-4a50-acb2-4eff293ca768",
   "metadata": {
    "slideshow": {
     "slide_type": "skip"
    },
    "tags": [
     "blank"
    ]
   },
   "source": [
    "<div style=\"height:5em;\"></div>"
   ]
  },
  {
   "cell_type": "markdown",
   "id": "cbc7fdda-bb3b-4998-91e1-08cb544720f9",
   "metadata": {
    "slideshow": {
     "slide_type": "subslide"
    },
    "tags": [
     "question"
    ]
   },
   "source": [
    "_What does the following program output?_"
   ]
  },
  {
   "cell_type": "code",
   "execution_count": 65,
   "id": "b82bd6a3-08eb-4fe9-8664-60d17d5ef694",
   "metadata": {
    "tags": [
     "worksheet-code-only"
    ]
   },
   "outputs": [
    {
     "name": "stdout",
     "output_type": "stream",
     "text": [
      "Luis Suárez plays football\n",
      "Luis von Ahn co-founded Duolingo\n",
      "Luis Suárez is retiring\n"
     ]
    }
   ],
   "source": [
    "first = \"Luis\"\n",
    "last = \"Suárez\"\n",
    "full = first + \" \" + last\n",
    "print(full + \" plays football\") \n",
    "last = \"von Ahn\"\n",
    "print(first + \" \" + last + \" co-founded Duolingo\")\n",
    "print(full + \" is retiring\")"
   ]
  },
  {
   "cell_type": "markdown",
   "id": "3bc3b765-d755-4135-bd97-bb030f7b06ad",
   "metadata": {
    "slideshow": {
     "slide_type": "skip"
    },
    "tags": [
     "blank"
    ]
   },
   "source": [
    "<div style=\"height:5em;\"></div>"
   ]
  },
  {
   "cell_type": "markdown",
   "id": "9022792f-c860-46f0-b19f-769b181ca2f8",
   "metadata": {
    "slideshow": {
     "slide_type": "subslide"
    },
    "tags": []
   },
   "source": [
    "_Write a program that calculates sales tax and the total cost for a $11.00 purchase with a tax rate of 8%._"
   ]
  },
  {
   "cell_type": "code",
   "execution_count": 78,
   "id": "646f03d0-074f-4ee5-8ec0-fee1acb9cfe2",
   "metadata": {
    "slideshow": {
     "slide_type": "skip"
    },
    "tags": [
     "answer"
    ]
   },
   "outputs": [
    {
     "name": "stdout",
     "output_type": "stream",
     "text": [
      "Tax: $0.88\n",
      "Total: $11.88\n"
     ]
    }
   ],
   "source": [
    "purchase = 11.00\n",
    "rate = 0.08\n",
    "tax = purchase * rate\n",
    "print(\"Tax: $\" + str(tax))\n",
    "total = purchase + tax\n",
    "print(\"Total: $\" + str(total))"
   ]
  },
  {
   "cell_type": "markdown",
   "id": "644f256f-cbc2-42cd-9cbc-f57d0d986f2a",
   "metadata": {
    "slideshow": {
     "slide_type": "skip"
    },
    "tags": [
     "blank"
    ]
   },
   "source": [
    "<div style=\"height:10em;\"></div>"
   ]
  },
  {
   "cell_type": "markdown",
   "id": "a2a47d07-d4e5-48f5-a113-54e2e3a6129a",
   "metadata": {
    "tags": [
     "question"
    ]
   },
   "source": [
    "_Write a program that calculates the total size of an apartment with a bedroom that is 4.5m x 8.1m, a living room that is 8m x 10m, a bathroom that is 2.8m x 1.2m, and a kitchen that is 3.25m x 3.75m_"
   ]
  },
  {
   "cell_type": "code",
   "execution_count": 83,
   "id": "64def7f3-1e04-488e-930d-2422318596b3",
   "metadata": {
    "slideshow": {
     "slide_type": "skip"
    },
    "tags": [
     "answer"
    ]
   },
   "outputs": [
    {
     "name": "stdout",
     "output_type": "stream",
     "text": [
      "The apartment is 131.9975m²\n"
     ]
    }
   ],
   "source": [
    "bedroom = 4.5 * 8.1\n",
    "living = 8 * 10\n",
    "bathroom = 2.8 * 1.2\n",
    "kitchen = 3.25 * 3.75\n",
    "apartment = bedroom + living + bathroom + kitchen\n",
    "print(\"The apartment is \" + str(apartment) + \"m²\")"
   ]
  },
  {
   "cell_type": "markdown",
   "id": "1b27efbf-403f-485b-80f9-1de62fc48530",
   "metadata": {
    "slideshow": {
     "slide_type": "skip"
    },
    "tags": [
     "blank"
    ]
   },
   "source": [
    "<div style=\"height:18em;\"></div>"
   ]
  },
  {
   "cell_type": "markdown",
   "id": "c9b3afe2-c691-4101-afd3-85ae90d69c1e",
   "metadata": {
    "slideshow": {
     "slide_type": "subslide"
    },
    "tags": [
     "question"
    ]
   },
   "source": [
    "_For each of the following programs: (1) draw a reference diagram depecting the state of each variable as the program is executed; (2) indicate what the program will output._"
   ]
  },
  {
   "cell_type": "code",
   "execution_count": 2,
   "id": "1fc71ac2",
   "metadata": {
    "slideshow": {
     "slide_type": "-"
    },
    "tags": [
     "worksheet-code-only"
    ]
   },
   "outputs": [
    {
     "name": "stdout",
     "output_type": "stream",
     "text": [
      "cranberry beet\n"
     ]
    }
   ],
   "source": [
    "fruit = \"apple\"\n",
    "vegetable = \"beet\"\n",
    "fruit = \"cranberry\"\n",
    "print(fruit, vegetable)"
   ]
  },
  {
   "cell_type": "markdown",
   "id": "aa58981b-f629-4ee9-87a4-8446d2e4a5b5",
   "metadata": {
    "slideshow": {
     "slide_type": "skip"
    },
    "tags": [
     "blank"
    ]
   },
   "source": [
    "<div style=\"height:10em;\"></div>"
   ]
  },
  {
   "cell_type": "code",
   "execution_count": 3,
   "id": "8858a027",
   "metadata": {
    "slideshow": {
     "slide_type": "subslide"
    },
    "tags": [
     "worksheet-code-only"
    ]
   },
   "outputs": [
    {
     "name": "stdout",
     "output_type": "stream",
     "text": [
      "abc 123\n"
     ]
    }
   ],
   "source": [
    "x = 'ab'\n",
    "y = 123\n",
    "x = x + 'c'\n",
    "print(x, y)"
   ]
  },
  {
   "cell_type": "markdown",
   "id": "da8add50-7a43-4a6d-a3fb-eacd0b1c0082",
   "metadata": {
    "slideshow": {
     "slide_type": "skip"
    },
    "tags": [
     "blank"
    ]
   },
   "source": [
    "<div style=\"height:10em;\"></div>"
   ]
  },
  {
   "cell_type": "code",
   "execution_count": 4,
   "id": "8216a2d4",
   "metadata": {
    "slideshow": {
     "slide_type": "subslide"
    },
    "tags": [
     "worksheet-code-only"
    ]
   },
   "outputs": [
    {
     "name": "stdout",
     "output_type": "stream",
     "text": [
      "3 3\n"
     ]
    }
   ],
   "source": [
    "r = 1\n",
    "s = 2\n",
    "r = r + s\n",
    "s = r\n",
    "print(r, s)"
   ]
  },
  {
   "cell_type": "markdown",
   "id": "ab20656c-ce71-4d37-b8cc-4a81b4e50d02",
   "metadata": {
    "slideshow": {
     "slide_type": "skip"
    },
    "tags": [
     "blank"
    ]
   },
   "source": [
    "<div style=\"height:10em;\"></div>"
   ]
  },
  {
   "cell_type": "code",
   "execution_count": 5,
   "id": "9837f1fd",
   "metadata": {
    "slideshow": {
     "slide_type": "subslide"
    },
    "tags": [
     "worksheet-code-only"
    ]
   },
   "outputs": [
    {
     "name": "stdout",
     "output_type": "stream",
     "text": [
      "101\n",
      "Science\n",
      "ComputerScience101\n"
     ]
    }
   ],
   "source": [
    "first = \"Computer\"\n",
    "second = \"Science\"\n",
    "third = first + second\n",
    "first = 101\n",
    "third = third + str(first)\n",
    "print(first)\n",
    "print(second)\n",
    "print(third)"
   ]
  },
  {
   "cell_type": "markdown",
   "id": "c4a33ffd-51f1-409a-965d-0270bc35d6b5",
   "metadata": {
    "slideshow": {
     "slide_type": "skip"
    },
    "tags": [
     "blank"
    ]
   },
   "source": [
    "<div style=\"height:10em;\"></div>"
   ]
  },
  {
   "cell_type": "markdown",
   "id": "c9dcecad",
   "metadata": {
    "slideshow": {
     "slide_type": "slide"
    },
    "tags": []
   },
   "source": [
    "## Input"
   ]
  },
  {
   "cell_type": "markdown",
   "id": "dcca7356",
   "metadata": {
    "slideshow": {
     "slide_type": "skip"
    },
    "tags": [
     "notes-only"
    ]
   },
   "source": [
    "* _Are there any patterns you observe in the programs that calculate the area of a rugy field and the area of a volleyball court?_ – the code is the same except for the values assigned to the `length` and `width` variables\n",
    "* Instead of hard-coding values, use the `input` function to get user input – makes program more flexible and useful\n",
    "* _What does a programmer provide to the `input` function?_ — a prompt string (i.e., a message that is displayed before waiting for user input\n",
    "    * E.g., `input(\"How old are you? \")`\n",
    "* What is the result of this expression?"
   ]
  },
  {
   "cell_type": "code",
   "execution_count": 1,
   "id": "8017ddf8",
   "metadata": {
    "slideshow": {
     "slide_type": "skip"
    },
    "tags": [
     "notes-only"
    ]
   },
   "outputs": [
    {
     "name": "stdin",
     "output_type": "stream",
     "text": [
      "What is the length (in meters)?  100\n"
     ]
    },
    {
     "data": {
      "text/plain": [
       "str"
      ]
     },
     "execution_count": 1,
     "metadata": {},
     "output_type": "execute_result"
    }
   ],
   "source": [
    "type(input(\"What is the length (in meters)? \"))"
   ]
  },
  {
   "cell_type": "markdown",
   "id": "b901d913",
   "metadata": {
    "slideshow": {
     "slide_type": "skip"
    },
    "tags": [
     "notes-only"
    ]
   },
   "source": [
    "* _Where is the value returned by `input` stored?_ — nowhere, unless you call input on the right-hand side of an assignment statement\n",
    "* Let's write a program that asks a user for the length and width of the field/court and calculates its area"
   ]
  },
  {
   "cell_type": "code",
   "execution_count": 2,
   "id": "b04a9805-26ce-4da4-9b71-daebe7eb3b8f",
   "metadata": {
    "scrolled": true,
    "slideshow": {
     "slide_type": "skip"
    },
    "tags": [
     "notes-only"
    ]
   },
   "outputs": [
    {
     "name": "stdin",
     "output_type": "stream",
     "text": [
      "How long is the field/court (in meters)?  100\n",
      "How wide is the field/court (in meters)?  68\n"
     ]
    },
    {
     "name": "stdout",
     "output_type": "stream",
     "text": [
      "The field/court is 6800 m²\n"
     ]
    }
   ],
   "source": [
    "length = int(input(\"How long is the field/court (in meters)? \"))\n",
    "width = int(input(\"How wide is the field/court (in meters)? \"))\n",
    "area = length * width\n",
    "print(\"The field/court is\", area, \"m²\")"
   ]
  },
  {
   "cell_type": "markdown",
   "id": "2cb8e65f-8a19-4c1d-b916-dbde09276b62",
   "metadata": {
    "slideshow": {
     "slide_type": "skip"
    },
    "tags": [
     "notes-only"
    ]
   },
   "source": [
    "* _Why do we need to call `int` on the input?_ — `input` returns a string\n",
    "* _What happens if a user does not enter a number for the length or width?_ — program terminates with an error\n",
    "* This program demonstrates a common programming pattern (\"input-process-output\" programs):\n",
    "    * Ask for input\n",
    "    * Perform some computation on the input\n",
    "    * Display the result"
   ]
  },
  {
   "cell_type": "markdown",
   "id": "92e5ddb2",
   "metadata": {
    "slideshow": {
     "slide_type": "-"
    },
    "tags": [
     "question"
    ]
   },
   "source": [
    "_Evaluate the following programs. If input is needed, provide your own. Indicate what output is produced or if an error occurs._"
   ]
  },
  {
   "cell_type": "code",
   "execution_count": 3,
   "id": "2b98eacf",
   "metadata": {
    "slideshow": {
     "slide_type": "-"
    },
    "tags": [
     "worksheet-code-only"
    ]
   },
   "outputs": [
    {
     "name": "stdin",
     "output_type": "stream",
     "text": [
      "What is your name?  Aaron\n"
     ]
    },
    {
     "name": "stdout",
     "output_type": "stream",
     "text": [
      "There are 5 letters in your name.\n"
     ]
    }
   ],
   "source": [
    "name = input(\"What is your name? \")\n",
    "count = len(name)\n",
    "print(\"There are \" + str(count) + \" letters in your name.\")"
   ]
  },
  {
   "cell_type": "markdown",
   "id": "205838e8",
   "metadata": {
    "slideshow": {
     "slide_type": "skip"
    },
    "tags": [
     "blank"
    ]
   },
   "source": [
    "<div style=\"height:5em;\"></div>"
   ]
  },
  {
   "cell_type": "code",
   "execution_count": 4,
   "id": "b1c00376",
   "metadata": {
    "tags": [
     "worksheet-code-only"
    ]
   },
   "outputs": [
    {
     "name": "stdin",
     "output_type": "stream",
     "text": [
      "What year is it?  2024\n"
     ]
    },
    {
     "ename": "TypeError",
     "evalue": "can only concatenate str (not \"int\") to str",
     "output_type": "error",
     "traceback": [
      "\u001b[0;31m---------------------------------------------------------------------------\u001b[0m",
      "\u001b[0;31mTypeError\u001b[0m                                 Traceback (most recent call last)",
      "\u001b[0;32m/var/folders/bd/35sz70xs5837wszrx11bw1yc0000gn/T/ipykernel_2060/318286003.py\u001b[0m in \u001b[0;36m<module>\u001b[0;34m\u001b[0m\n\u001b[1;32m      1\u001b[0m \u001b[0myear\u001b[0m \u001b[0;34m=\u001b[0m \u001b[0minput\u001b[0m\u001b[0;34m(\u001b[0m\u001b[0;34m\"What year is it? \"\u001b[0m\u001b[0;34m)\u001b[0m\u001b[0;34m\u001b[0m\u001b[0;34m\u001b[0m\u001b[0m\n\u001b[0;32m----> 2\u001b[0;31m \u001b[0myear\u001b[0m \u001b[0;34m=\u001b[0m \u001b[0myear\u001b[0m \u001b[0;34m+\u001b[0m \u001b[0;36m1\u001b[0m\u001b[0;34m\u001b[0m\u001b[0;34m\u001b[0m\u001b[0m\n\u001b[0m\u001b[1;32m      3\u001b[0m \u001b[0mprint\u001b[0m\u001b[0;34m(\u001b[0m\u001b[0;34m\"Next year is\"\u001b[0m\u001b[0;34m,\u001b[0m \u001b[0myear\u001b[0m\u001b[0;34m)\u001b[0m\u001b[0;34m\u001b[0m\u001b[0;34m\u001b[0m\u001b[0m\n",
      "\u001b[0;31mTypeError\u001b[0m: can only concatenate str (not \"int\") to str"
     ]
    }
   ],
   "source": [
    "year = input(\"What year is it? \")\n",
    "year = year + 1\n",
    "print(\"Next year is\", year)"
   ]
  },
  {
   "cell_type": "markdown",
   "id": "8292fe01",
   "metadata": {
    "slideshow": {
     "slide_type": "skip"
    },
    "tags": [
     "blank"
    ]
   },
   "source": [
    "<div style=\"height:5em;\"></div>"
   ]
  },
  {
   "cell_type": "code",
   "execution_count": 20,
   "id": "b99cb362",
   "metadata": {
    "tags": [
     "worksheet-code-only"
    ]
   },
   "outputs": [
    {
     "name": "stdout",
     "output_type": "stream",
     "text": [
      "How old are you? 18\n",
      "You are 126 years old in dog years\n"
     ]
    }
   ],
   "source": [
    "human = input(\"How old are you? \")\n",
    "dog = int(human) * 7\n",
    "print(\"You are\", dog, \"years old in dog years\")"
   ]
  },
  {
   "cell_type": "markdown",
   "id": "7a767367",
   "metadata": {
    "slideshow": {
     "slide_type": "skip"
    },
    "tags": [
     "blank"
    ]
   },
   "source": [
    "<div style=\"height:5em;\"></div>"
   ]
  },
  {
   "cell_type": "markdown",
   "id": "73501247-9f89-4bcc-ab05-78790b9f2a3e",
   "metadata": {
    "slideshow": {
     "slide_type": "subslide"
    },
    "tags": [
     "question"
    ]
   },
   "source": [
    "_Write a program that asks a user for their name and age, and outputs: `<name> you don’t look a day over <age - 1>`_"
   ]
  },
  {
   "cell_type": "code",
   "execution_count": 5,
   "id": "961ae225",
   "metadata": {
    "slideshow": {
     "slide_type": "skip"
    },
    "tags": [
     "answer"
    ]
   },
   "outputs": [
    {
     "name": "stdin",
     "output_type": "stream",
     "text": [
      "What is your name ?  Joe Biden\n",
      "How old are you?  81\n"
     ]
    },
    {
     "name": "stdout",
     "output_type": "stream",
     "text": [
      "Joe Biden you don’t look a day over 80\n"
     ]
    }
   ],
   "source": [
    "name = input(\"What is your name ? \")\n",
    "age = input(\"How old are you? \")\n",
    "age = int(age) - 1\n",
    "print(name, \"you don’t look a day over\", age)"
   ]
  },
  {
   "cell_type": "markdown",
   "id": "70c4bef6",
   "metadata": {
    "slideshow": {
     "slide_type": "skip"
    },
    "tags": [
     "blank"
    ]
   },
   "source": [
    "<div style=\"height:10em;\"></div>"
   ]
  },
  {
   "cell_type": "markdown",
   "id": "7fb23610",
   "metadata": {
    "tags": [
     "question"
    ]
   },
   "source": [
    "_Write a program that asks for the cost of an item and prints the tax amount and total cost with a tax rate of 8%._"
   ]
  },
  {
   "cell_type": "code",
   "execution_count": 1,
   "id": "ce256c1f",
   "metadata": {
    "slideshow": {
     "slide_type": "skip"
    },
    "tags": [
     "answer"
    ]
   },
   "outputs": [
    {
     "name": "stdin",
     "output_type": "stream",
     "text": [
      "How much does the item cost?  11.00\n"
     ]
    },
    {
     "name": "stdout",
     "output_type": "stream",
     "text": [
      "Tax: $0.88\n",
      "Total: $11.88\n"
     ]
    }
   ],
   "source": [
    "cost = float(input(\"How much does the item cost? \"))\n",
    "tax = cost * 0.08\n",
    "print(\"Tax: $\" + str(tax))\n",
    "total = cost + tax\n",
    "print(\"Total: $\" + str(total))"
   ]
  },
  {
   "cell_type": "markdown",
   "id": "f3fa9562",
   "metadata": {
    "slideshow": {
     "slide_type": "skip"
    },
    "tags": [
     "blank"
    ]
   },
   "source": [
    "<div style=\"height:10em;\"></div>"
   ]
  },
  {
   "cell_type": "markdown",
   "id": "bfa9d46b",
   "metadata": {
    "tags": [
     "question"
    ]
   },
   "source": [
    "_Write a program that asks for a temperature in fahrenheit and outputs the temperature in degrees celsius. (To convert: subtract 32 and multiply by five-ninths)_"
   ]
  },
  {
   "cell_type": "code",
   "execution_count": 37,
   "id": "b807941a",
   "metadata": {
    "slideshow": {
     "slide_type": "skip"
    },
    "tags": [
     "answer"
    ]
   },
   "outputs": [
    {
     "name": "stdout",
     "output_type": "stream",
     "text": [
      "Temperature in °F? 70\n",
      "21.11111111111111°C\n"
     ]
    }
   ],
   "source": [
    "farenheit = input(\"Temperature in °F? \")\n",
    "celcius = (int(farenheit) - 32) * 5 / 9\n",
    "print(str(celcius) + \"°C\")"
   ]
  },
  {
   "cell_type": "markdown",
   "id": "12eb3859",
   "metadata": {
    "slideshow": {
     "slide_type": "skip"
    },
    "tags": [
     "blank"
    ]
   },
   "source": [
    "<div style=\"height:10em;\"></div>"
   ]
  },
  {
   "cell_type": "markdown",
   "id": "a610e661",
   "metadata": {
    "tags": [
     "question"
    ]
   },
   "source": [
    "_Write a program that asks for three integers and prints the average._"
   ]
  },
  {
   "cell_type": "code",
   "execution_count": 41,
   "id": "a1f39f5f",
   "metadata": {
    "slideshow": {
     "slide_type": "skip"
    },
    "tags": [
     "answer"
    ]
   },
   "outputs": [
    {
     "name": "stdout",
     "output_type": "stream",
     "text": [
      "First number? 5\n",
      "Second number? 25\n",
      "Third number? 30\n",
      "20.0\n"
     ]
    }
   ],
   "source": [
    "one = input(\"First number? \")\n",
    "two = input(\"Second number? \")\n",
    "three = input(\"Third number? \")\n",
    "sum = int(one) + int(two) + int(three)\n",
    "average = sum / 3\n",
    "print(average)"
   ]
  },
  {
   "cell_type": "markdown",
   "id": "63f9c6f4",
   "metadata": {
    "slideshow": {
     "slide_type": "skip"
    },
    "tags": [
     "worksheet-only",
     "blank"
    ]
   },
   "source": [
    "<div style=\"height:10em;\"></div>"
   ]
  },
  {
   "cell_type": "markdown",
   "id": "786d9a57",
   "metadata": {
    "tags": [
     "question"
    ]
   },
   "source": [
    "_Re-write the above program to use a single variable whose value is reassigned._"
   ]
  },
  {
   "cell_type": "code",
   "execution_count": 42,
   "id": "f4f015a4",
   "metadata": {
    "slideshow": {
     "slide_type": "skip"
    },
    "tags": [
     "answer"
    ]
   },
   "outputs": [
    {
     "name": "stdout",
     "output_type": "stream",
     "text": [
      "First number? 5\n",
      "Second number? 25\n",
      "Third number? 30\n",
      "20.0\n"
     ]
    }
   ],
   "source": [
    "total = int(input(\"First number? \"))\n",
    "total = total + int(input(\"Second number? \"))\n",
    "total = total + int(input(\"Third number? \"))\n",
    "total = total / 3\n",
    "print(total)"
   ]
  }
 ],
 "metadata": {
  "celltoolbar": "Tags",
  "kernelspec": {
   "display_name": "Python 3 (ipykernel)",
   "language": "python",
   "name": "python3"
  },
  "language_info": {
   "codemirror_mode": {
    "name": "ipython",
    "version": 3
   },
   "file_extension": ".py",
   "mimetype": "text/x-python",
   "name": "python",
   "nbconvert_exporter": "python",
   "pygments_lexer": "ipython3",
   "version": "3.9.6"
  }
 },
 "nbformat": 4,
 "nbformat_minor": 5
}
