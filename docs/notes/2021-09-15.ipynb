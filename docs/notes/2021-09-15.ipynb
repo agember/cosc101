{
 "cells": [
  {
   "cell_type": "markdown",
   "id": "f28da67a-4b9a-4818-b024-77b6d20c5d9d",
   "metadata": {
    "slideshow": {
     "slide_type": "skip"
    },
    "tags": []
   },
   "source": [
    "# range; accumulator pattern; mapping patterns to loops\n",
    "_COSC 101, Introduction to Computing I, 2021-09-15_"
   ]
  },
  {
   "cell_type": "markdown",
   "id": "b92bdda7-a263-4332-a4e7-a48ddcd4e95b",
   "metadata": {
    "slideshow": {
     "slide_type": "skip"
    },
    "tags": []
   },
   "source": [
    "## Announcements\n",
    "* Homework 2 due tomorrow at 5pm"
   ]
  },
  {
   "cell_type": "markdown",
   "id": "f566ea1d-106b-4998-b6bb-2ee530742588",
   "metadata": {
    "slideshow": {
     "slide_type": "skip"
    },
    "tags": [
     "notes-only"
    ]
   },
   "source": [
    "## Outline\n",
    "* Range\n",
    "* Accumulator pattern\n",
    "* Mapping patterns to loops"
   ]
  },
  {
   "cell_type": "markdown",
   "id": "bb52ab3c-ca98-41b6-9183-ee86c105145b",
   "metadata": {},
   "source": [
    "## No warm-up; Happy Wednesday!"
   ]
  },
  {
   "cell_type": "markdown",
   "id": "ab5ab6d9-f67c-4e4a-a288-464f56491d97",
   "metadata": {
    "slideshow": {
     "slide_type": "slide"
    },
    "tags": []
   },
   "source": [
    "## Range"
   ]
  },
  {
   "cell_type": "markdown",
   "id": "b0454e17-b0d6-459d-91ac-9c14db539ab5",
   "metadata": {
    "slideshow": {
     "slide_type": "skip"
    },
    "tags": [
     "notes-only"
    ]
   },
   "source": [
    "### Overview\n",
    "* Function that generates a sequence of integers\n",
    "* `range(NUM)` — generates a sequence of `NUM` integers from `0` to `NUM-1`\n",
    "    * E.g., `range(3)` ↠ `[0, 1, 2]`\n",
    "* `range(START, STOP)` — generates a sequence of `STOP-START` integers from `START` to `STOP-1`\n",
    "    * E.g., `range(2,5)` ↠ `[2, 3, 4]`\n",
    "* `range(START, STOP, INCREMENT)` — generates a sequence of integers from `START` to `(STOP-1)*INCREMENT`, with `INCREMENT` added to each successive integer\n",
    "    * E.g., `range(2,8,2)` ↠ `[2, 4, 6]`\n",
    "* Sequence of integers is generated on-demand — use `list(range(...))` to get the full sequence\n",
    "\n",
    "### Practice"
   ]
  },
  {
   "cell_type": "markdown",
   "id": "ad14f07f-7272-4d3e-9a78-4a01cf2a281f",
   "metadata": {},
   "source": [
    "_What sequence of integers is produced by each of the following invocations of range?_"
   ]
  },
  {
   "cell_type": "code",
   "execution_count": 10,
   "id": "28845fee-0a1a-4cef-8cd8-f95f34de3e92",
   "metadata": {
    "tags": [
     "worksheet-code-only"
    ]
   },
   "outputs": [
    {
     "data": {
      "text/plain": [
       "[0, 1, 2, 3, 4, 5]"
      ]
     },
     "execution_count": 10,
     "metadata": {},
     "output_type": "execute_result"
    }
   ],
   "source": [
    "#1)\n",
    "list(range(6))"
   ]
  },
  {
   "cell_type": "markdown",
   "id": "10f22701-613e-4262-8799-a9900acb6fe4",
   "metadata": {
    "slideshow": {
     "slide_type": "skip"
    },
    "tags": [
     "worksheet-only"
    ]
   },
   "source": [
    "```\n",
    "```"
   ]
  },
  {
   "cell_type": "code",
   "execution_count": 6,
   "id": "757ffe30-772c-407a-bad3-a90ba76079eb",
   "metadata": {
    "slideshow": {
     "slide_type": "fragment"
    },
    "tags": [
     "worksheet-code-only"
    ]
   },
   "outputs": [
    {
     "data": {
      "text/plain": [
       "[10, 11, 12, 13, 14]"
      ]
     },
     "execution_count": 6,
     "metadata": {},
     "output_type": "execute_result"
    }
   ],
   "source": [
    "#2)\n",
    "list(range(10, 15))"
   ]
  },
  {
   "cell_type": "markdown",
   "id": "cd18b26f-3527-4f1e-ab63-4777a670412a",
   "metadata": {
    "slideshow": {
     "slide_type": "skip"
    },
    "tags": [
     "worksheet-only"
    ]
   },
   "source": [
    "```\n",
    "```"
   ]
  },
  {
   "cell_type": "code",
   "execution_count": 5,
   "id": "cf0b93a8-96d6-4627-b7b7-46ac3488aaa7",
   "metadata": {
    "slideshow": {
     "slide_type": "fragment"
    },
    "tags": [
     "worksheet-code-only"
    ]
   },
   "outputs": [
    {
     "data": {
      "text/plain": [
       "[5, 6, 7, 8, 9]"
      ]
     },
     "execution_count": 5,
     "metadata": {},
     "output_type": "execute_result"
    }
   ],
   "source": [
    "#3)\n",
    "list(range(5, 10))"
   ]
  },
  {
   "cell_type": "markdown",
   "id": "777b1de5-e419-42a5-ab97-4246c2df3571",
   "metadata": {
    "slideshow": {
     "slide_type": "skip"
    },
    "tags": [
     "worksheet-only"
    ]
   },
   "source": [
    "```\n",
    "```"
   ]
  },
  {
   "cell_type": "code",
   "execution_count": 7,
   "id": "689ae3ff-3b1b-4ef2-9959-b48a414da774",
   "metadata": {
    "slideshow": {
     "slide_type": "fragment"
    },
    "tags": [
     "worksheet-code-only"
    ]
   },
   "outputs": [
    {
     "data": {
      "text/plain": [
       "[0, 3, 6]"
      ]
     },
     "execution_count": 7,
     "metadata": {},
     "output_type": "execute_result"
    }
   ],
   "source": [
    "#4)\n",
    "list(range(0, 7, 3))"
   ]
  },
  {
   "cell_type": "markdown",
   "id": "9486190c-fb50-4ee7-8d3c-f561e4f4fbb5",
   "metadata": {
    "slideshow": {
     "slide_type": "skip"
    },
    "tags": [
     "worksheet-only"
    ]
   },
   "source": [
    "```\n",
    "```"
   ]
  },
  {
   "cell_type": "code",
   "execution_count": 8,
   "id": "82d790b2-dfce-4535-8f32-6a0d14a7c3e7",
   "metadata": {
    "slideshow": {
     "slide_type": "fragment"
    },
    "tags": [
     "worksheet-code-only"
    ]
   },
   "outputs": [
    {
     "data": {
      "text/plain": [
       "[20, 19, 18, 17, 16]"
      ]
     },
     "execution_count": 8,
     "metadata": {},
     "output_type": "execute_result"
    }
   ],
   "source": [
    "#5)\n",
    "list(range(20, 15, -1))"
   ]
  },
  {
   "cell_type": "markdown",
   "id": "c3c96f4b-9230-4c3f-b1ba-a8ecc65a6e10",
   "metadata": {
    "slideshow": {
     "slide_type": "skip"
    },
    "tags": [
     "worksheet-only"
    ]
   },
   "source": [
    "```\n",
    "```"
   ]
  },
  {
   "cell_type": "code",
   "execution_count": 9,
   "id": "da4893c0-dbca-45e9-928f-44326603f90d",
   "metadata": {
    "slideshow": {
     "slide_type": "fragment"
    },
    "tags": [
     "worksheet-code-only"
    ]
   },
   "outputs": [
    {
     "data": {
      "text/plain": [
       "[14, 7, 0, -7, -14]"
      ]
     },
     "execution_count": 9,
     "metadata": {},
     "output_type": "execute_result"
    }
   ],
   "source": [
    "#6)\n",
    "list(range(14, -15, -7))"
   ]
  },
  {
   "cell_type": "markdown",
   "id": "2b678809-621e-4a50-916a-804c9467c326",
   "metadata": {
    "slideshow": {
     "slide_type": "skip"
    },
    "tags": [
     "worksheet-only"
    ]
   },
   "source": [
    "```\n",
    "```"
   ]
  },
  {
   "cell_type": "markdown",
   "id": "b85ad2fc-322a-4e15-8586-71e544342f30",
   "metadata": {
    "slideshow": {
     "slide_type": "slide"
    },
    "tags": []
   },
   "source": [
    "_What call to range would produce each of the following sequences of integers?_\n",
    "\n",
    "\\#1) `[10, 20, 30, 40, 50]`"
   ]
  },
  {
   "cell_type": "code",
   "execution_count": 1,
   "id": "2c298b97-2687-4126-bb70-be946821df48",
   "metadata": {
    "slideshow": {
     "slide_type": "skip"
    },
    "tags": [
     "notes-only"
    ]
   },
   "outputs": [
    {
     "data": {
      "text/plain": [
       "[10, 20, 30, 40, 50]"
      ]
     },
     "execution_count": 1,
     "metadata": {},
     "output_type": "execute_result"
    }
   ],
   "source": [
    "list(range(10, 51, 10))"
   ]
  },
  {
   "cell_type": "markdown",
   "id": "900e5521-4148-4334-9c41-90ddea21f110",
   "metadata": {
    "slideshow": {
     "slide_type": "skip"
    },
    "tags": [
     "worksheet-only"
    ]
   },
   "source": [
    "```Python\n",
    "\n",
    "```"
   ]
  },
  {
   "cell_type": "markdown",
   "id": "391f1469-f288-4131-9e0d-15f41acb2ab8",
   "metadata": {
    "slideshow": {
     "slide_type": "fragment"
    },
    "tags": []
   },
   "source": [
    "\\#2) `[101, 102, 103, 104]`"
   ]
  },
  {
   "cell_type": "code",
   "execution_count": 6,
   "id": "a0bee784-cfdc-4855-a6db-f26b7840cf1e",
   "metadata": {
    "slideshow": {
     "slide_type": "skip"
    },
    "tags": [
     "notes-only"
    ]
   },
   "outputs": [
    {
     "data": {
      "text/plain": [
       "[101, 102, 103, 104]"
      ]
     },
     "execution_count": 6,
     "metadata": {},
     "output_type": "execute_result"
    }
   ],
   "source": [
    "list(range(101, 105))"
   ]
  },
  {
   "cell_type": "markdown",
   "id": "efc9188c-82f8-4a6b-b534-07e4697d99e0",
   "metadata": {
    "slideshow": {
     "slide_type": "skip"
    },
    "tags": [
     "worksheet-only"
    ]
   },
   "source": [
    "```Python\n",
    "\n",
    "```"
   ]
  },
  {
   "cell_type": "markdown",
   "id": "46c59aec-924f-4027-8041-c88da94f3c92",
   "metadata": {
    "slideshow": {
     "slide_type": "fragment"
    },
    "tags": []
   },
   "source": [
    "\\#3) `[15, 12, 9, 6]`"
   ]
  },
  {
   "cell_type": "code",
   "execution_count": 7,
   "id": "fe8313e5-8adb-4fef-8609-122a910060bc",
   "metadata": {
    "slideshow": {
     "slide_type": "skip"
    },
    "tags": [
     "notes-only"
    ]
   },
   "outputs": [
    {
     "data": {
      "text/plain": [
       "[15, 12, 9, 6]"
      ]
     },
     "execution_count": 7,
     "metadata": {},
     "output_type": "execute_result"
    }
   ],
   "source": [
    "list(range(15, 5, -3))"
   ]
  },
  {
   "cell_type": "markdown",
   "id": "26169726-c143-476b-890b-d876eaa8dc40",
   "metadata": {
    "slideshow": {
     "slide_type": "skip"
    },
    "tags": [
     "worksheet-only"
    ]
   },
   "source": [
    "```Python\n",
    "\n",
    "```"
   ]
  },
  {
   "cell_type": "markdown",
   "id": "8c33006b-6680-45bd-aab4-68410779650f",
   "metadata": {
    "slideshow": {
     "slide_type": "fragment"
    },
    "tags": []
   },
   "source": [
    "\\#4) `[0, 2, 4, 6, 8, 10]`"
   ]
  },
  {
   "cell_type": "code",
   "execution_count": 8,
   "id": "25e8fa2e-e1b5-4b23-9f9d-8dd575bfa1ed",
   "metadata": {
    "slideshow": {
     "slide_type": "skip"
    },
    "tags": [
     "notes-only"
    ]
   },
   "outputs": [
    {
     "data": {
      "text/plain": [
       "[0, 2, 4, 6, 8, 10]"
      ]
     },
     "execution_count": 8,
     "metadata": {},
     "output_type": "execute_result"
    }
   ],
   "source": [
    "list(range(0, 11, 2))"
   ]
  },
  {
   "cell_type": "markdown",
   "id": "0df13213-536e-4819-bd63-5f8d3616ae66",
   "metadata": {
    "slideshow": {
     "slide_type": "skip"
    },
    "tags": [
     "worksheet-only"
    ]
   },
   "source": [
    "```Python\n",
    "\n",
    "```\n",
    "🛑 **STOP HERE** after completing the above questions; please **DO NOT WORK AHEAD**. If you have extra time, work on the extra practice problems at the end of the worksheet.\n",
    "<div style=\"page-break-after:always;\"></div>"
   ]
  },
  {
   "cell_type": "markdown",
   "id": "cb67208d-e2f0-46e0-9b5e-f651e379d39b",
   "metadata": {
    "slideshow": {
     "slide_type": "slide"
    },
    "tags": []
   },
   "source": [
    "## Accumulator pattern"
   ]
  },
  {
   "cell_type": "markdown",
   "id": "7ca15dee-00a3-4aa2-af8b-cd5d3ef07ed0",
   "metadata": {
    "slideshow": {
     "slide_type": "skip"
    },
    "tags": [
     "notes-only"
    ]
   },
   "source": [
    "### Overview\n",
    "* Process of iteratively updating a variable\n",
    "* To use the accumulator pattern, you must know:\n",
    "    * What do you want to compute?\n",
    "    * What is its type?\n",
    "    * How can you build it one piece at a time?\n",
    "* Applying the pattern\n",
    "    ```Python\n",
    "    accumVar = 0 # initialize accumulator variable; use the correct type\n",
    "    for i in range(10): # iterate desired number of times\n",
    "        accumVar = accumVar + 1 # update accumulator variable\n",
    "    print(accumVar) # value of accumVar after the loop is the final result\n",
    "    ```\n",
    "    \n",
    "### Example: computing an average"
   ]
  },
  {
   "cell_type": "code",
   "execution_count": 5,
   "id": "8b244534-f1b0-45e9-87ee-e52e954a81fa",
   "metadata": {
    "slideshow": {
     "slide_type": "skip"
    },
    "tags": [
     "notes-only"
    ]
   },
   "outputs": [
    {
     "name": "stdin",
     "output_type": "stream",
     "text": [
      "Enter a number:  2\n",
      "Enter a number:  4\n",
      "Enter a number:  6\n",
      "Enter a number:  8\n"
     ]
    },
    {
     "name": "stdout",
     "output_type": "stream",
     "text": [
      "5.0\n"
     ]
    }
   ],
   "source": [
    "sum = 0\n",
    "for i in range(4):\n",
    "    sum += int(input(\"Enter a number: \"))\n",
    "avg = sum / 4\n",
    "print(avg)"
   ]
  },
  {
   "cell_type": "markdown",
   "id": "1a1c5fd8-b12f-40e8-9809-c37e2d45ac17",
   "metadata": {},
   "source": [
    "\n",
    "_What is the output of the following programs? If necessary, provide input of your choosing._"
   ]
  },
  {
   "cell_type": "code",
   "execution_count": 3,
   "id": "22f7a495-b547-461b-89f2-53dec27de261",
   "metadata": {
    "tags": [
     "worksheet-code-only"
    ]
   },
   "outputs": [
    {
     "name": "stdout",
     "output_type": "stream",
     "text": [
      "6\n"
     ]
    }
   ],
   "source": [
    "#1)\n",
    "f = 1\n",
    "for i in range(1, 4):\n",
    "    f = f * i\n",
    "print(f)"
   ]
  },
  {
   "cell_type": "markdown",
   "id": "6967535e-4f10-4452-98ca-a0189c9020c7",
   "metadata": {
    "slideshow": {
     "slide_type": "skip"
    },
    "tags": [
     "worksheet-only"
    ]
   },
   "source": [
    "```\n",
    "\n",
    "\n",
    "```"
   ]
  },
  {
   "cell_type": "code",
   "execution_count": 13,
   "id": "bd8e39ae-f57b-4ced-bac2-baf795616c08",
   "metadata": {
    "slideshow": {
     "slide_type": "fragment"
    },
    "tags": [
     "worksheet-code-only"
    ]
   },
   "outputs": [
    {
     "name": "stdin",
     "output_type": "stream",
     "text": [
      "Enter a word:  encyclopedia\n"
     ]
    },
    {
     "name": "stdout",
     "output_type": "stream",
     "text": [
      "e-n-c-y-c-l-o-p-e-d-i-a-\n"
     ]
    }
   ],
   "source": [
    "#2)\n",
    "word = input(\"Enter a word: \")\n",
    "spell = \"\"\n",
    "for c in word:\n",
    "    spell += c + \"-\"\n",
    "print(spell)"
   ]
  },
  {
   "cell_type": "markdown",
   "id": "47166d9b-2665-4644-a70d-8cc0f3e9b6e6",
   "metadata": {
    "slideshow": {
     "slide_type": "skip"
    },
    "tags": [
     "worksheet-only"
    ]
   },
   "source": [
    "```\n",
    "\n",
    "\n",
    "```"
   ]
  },
  {
   "cell_type": "code",
   "execution_count": 4,
   "id": "a0038dc6-3182-4913-8e70-b0ba36f861a5",
   "metadata": {
    "slideshow": {
     "slide_type": "fragment"
    },
    "tags": [
     "worksheet-code-only"
    ]
   },
   "outputs": [
    {
     "name": "stdin",
     "output_type": "stream",
     "text": [
      "What is your first name?  Clarence\n",
      "What is your last name?  Ellis\n"
     ]
    },
    {
     "name": "stdout",
     "output_type": "stream",
     "text": [
      "Hello Clarence Ellis \n"
     ]
    }
   ],
   "source": [
    "#3)\n",
    "greeting = \"Hello \"\n",
    "for part in ['first','last']:\n",
    "    name = input(\"What is your \" + part + \" name? \")\n",
    "    greeting = greeting + name + \" \"\n",
    "print(greeting)"
   ]
  },
  {
   "cell_type": "markdown",
   "id": "e1c8a3f2-f416-40d6-9ca8-0f95e69e7414",
   "metadata": {
    "slideshow": {
     "slide_type": "skip"
    },
    "tags": [
     "notes-only"
    ]
   },
   "source": [
    "(Clarence \"Skip\" Ellis was the first African-American to earn a Ph.D. in computer science, a pioneer in Computer Supported Cooperative Work and Groupware, and the first African-American to be elected as a Fellow of the Association for Computing Machinery (ACM).)"
   ]
  },
  {
   "cell_type": "markdown",
   "id": "8cade642-190c-49c8-996d-9f20bc97e03a",
   "metadata": {
    "slideshow": {
     "slide_type": "skip"
    },
    "tags": []
   },
   "source": [
    "```\n",
    "\n",
    "\n",
    "```\n",
    "🛑 **STOP HERE** after completing the above problems; please **DO NOT WORK AHEAD**. If you have extra time, work on the extra practice problems at the end of the worksheet."
   ]
  },
  {
   "cell_type": "markdown",
   "id": "0599d3ca-64db-4b35-ab17-c32594d7380a",
   "metadata": {
    "slideshow": {
     "slide_type": "slide"
    },
    "tags": []
   },
   "source": [
    "## Mapping patterns to loops"
   ]
  },
  {
   "cell_type": "markdown",
   "id": "d24b48dc-0e52-4d00-b784-b127e3fbf445",
   "metadata": {
    "slideshow": {
     "slide_type": "skip"
    },
    "tags": [
     "notes-only"
    ]
   },
   "source": [
    "### Process\n",
    "1. Identify repeated tasks — tasks may not be _exactly_ the same\n",
    "2. Determine which repeated tasks can be \"collated\"\n",
    "\n",
    "    ![Collated vs uncollated](figures/for_loops/collated-vs-uncollated.png)\n",
    "\n",
    "3. Determine how many times the \"collated\" tasks need to be repeated\n",
    "4. Write the tasks, using the loop variable to accommodate _slight_ differences between repetitions"
   ]
  },
  {
   "cell_type": "markdown",
   "id": "a9e3223d-5742-4383-874a-f9adf47b33ea",
   "metadata": {
    "tags": []
   },
   "source": [
    "### Example"
   ]
  },
  {
   "cell_type": "code",
   "execution_count": null,
   "id": "e94114ed-1de6-4d9b-9c06-43d81c6f742f",
   "metadata": {},
   "outputs": [],
   "source": [
    "import turtle\n",
    "window = turtle.Screen()\n",
    "dora = turtle.Turtle()\n",
    "dora.left(90)\n",
    "dora.forward(50)\n",
    "dora.right(90)\n",
    "dora.forward(50)\n",
    "dora.left(90)\n",
    "dora.forward(50)\n",
    "dora.right(90)\n",
    "dora.forward(50)\n",
    "dora.left(90)\n",
    "dora.forward(50)\n",
    "dora.right(90)\n",
    "dora.forward(50)\n",
    "window.exitonclick()"
   ]
  },
  {
   "cell_type": "code",
   "execution_count": null,
   "id": "74b650e4-9074-4f15-8334-a4053248d52d",
   "metadata": {
    "slideshow": {
     "slide_type": "skip"
    },
    "tags": [
     "notes-only"
    ]
   },
   "outputs": [],
   "source": [
    "import turtle\n",
    "window = turtle.Screen()\n",
    "dora = turtle.Turtle()\n",
    "for i in range(0, 3):\n",
    "    dora.left(90)\n",
    "    dora.forward(50)\n",
    "    dora.right(90)\n",
    "    dora.forward(50)\n",
    "window.exitonclick()"
   ]
  },
  {
   "cell_type": "markdown",
   "id": "54db99d9-c2e7-4df3-a12e-7af46fbb302b",
   "metadata": {
    "slideshow": {
     "slide_type": "slide"
    },
    "tags": []
   },
   "source": [
    "## Extra practice\n",
    "\\#1) _Write a program that asks a user how many steps they walked each day of the week and computes their step total for the week._"
   ]
  },
  {
   "cell_type": "code",
   "execution_count": null,
   "id": "2422fdcb-e7d5-42ce-8a7a-c9da8fe31cf9",
   "metadata": {
    "slideshow": {
     "slide_type": "skip"
    },
    "tags": [
     "notes-only"
    ]
   },
   "outputs": [],
   "source": [
    "week_steps = 0\n",
    "for day in [\"Sun\",\"Mon\",\"Tues\",\"Wed\",\"Thurs\",\"Fri\",\"Sat\"]:\n",
    "    daily_steps = input(\"How many steps did you walk on \"+day+\"? \")\n",
    "    week_steps += int(daily_steps)\n",
    "print(\"You walked \" + str(week_steps) + \" this week\")"
   ]
  },
  {
   "cell_type": "markdown",
   "id": "f17f8eac-b23f-48cd-b1ec-fb2535977167",
   "metadata": {
    "slideshow": {
     "slide_type": "skip"
    },
    "tags": [
     "worksheet-only"
    ]
   },
   "source": [
    "```Python\n",
    "\n",
    "\n",
    "\n",
    "\n",
    "\n",
    "```"
   ]
  },
  {
   "cell_type": "markdown",
   "id": "ef740ba3-4268-4e7d-b12a-20d3ef057c25",
   "metadata": {
    "slideshow": {
     "slide_type": "fragment"
    },
    "tags": []
   },
   "source": [
    "\\#2) _Write a program that asks for the dimensions of multiple rooms and computes the total square footage of a house or apartment._"
   ]
  },
  {
   "cell_type": "code",
   "execution_count": null,
   "id": "d2b6e702-638f-4b32-ab23-e32efb7db492",
   "metadata": {
    "slideshow": {
     "slide_type": "skip"
    },
    "tags": [
     "notes-only"
    ]
   },
   "outputs": [],
   "source": [
    "total_area = 0.0\n",
    "for room in [\"living room\", \"kitchen\", \"bedroom\", \"bathroom\"]:\n",
    "    length = float(input(\"What is the length of the \" + room + \"? \"))\n",
    "    width = float(input(\"What is the width of the \" + room + \"? \"))\n",
    "    room_area = length * width\n",
    "    total_area += room_area\n",
    "print(\"The total square footage is \" + str(total_area))"
   ]
  },
  {
   "cell_type": "markdown",
   "id": "03560d16-5ba5-4c0b-9436-3a4ee5b7ad64",
   "metadata": {
    "slideshow": {
     "slide_type": "skip"
    },
    "tags": [
     "worksheet-only"
    ]
   },
   "source": [
    "```Python\n",
    "\n",
    "\n",
    "\n",
    "\n",
    "\n",
    "\n",
    "\n",
    "\n",
    "\n",
    "\n",
    "\n",
    "```"
   ]
  },
  {
   "cell_type": "markdown",
   "id": "7b36618c-7693-4cb3-b86c-26cb9e7bd26a",
   "metadata": {
    "slideshow": {
     "slide_type": "fragment"
    },
    "tags": []
   },
   "source": [
    "\\#3) _Write a program that flips a coin as many times as the user requested and outputs the percentage of flips that were heads._"
   ]
  },
  {
   "cell_type": "code",
   "execution_count": null,
   "id": "e5e3b9c2-ad31-4cb1-b0c5-6a0965848f66",
   "metadata": {
    "slideshow": {
     "slide_type": "skip"
    },
    "tags": [
     "notes-only"
    ]
   },
   "outputs": [],
   "source": [
    "import random\n",
    "# Ask for number of flips\n",
    "flips = int(input(\"How many flips? \"))\n",
    "heads = 0\n",
    "# Flip and count heads\n",
    "for i in range(0, flips):\n",
    "    coin = random.randint(0,1)\n",
    "    if (coin == 0):\n",
    "        heads += 1\n",
    "# Display results\n",
    "percent = heads/flips * 100\n",
    "print(str(percent)+\"% of the slips were heads\")"
   ]
  },
  {
   "cell_type": "markdown",
   "id": "22bc7cdc-ca7e-4e89-9c48-c2510fca88e6",
   "metadata": {
    "slideshow": {
     "slide_type": "skip"
    },
    "tags": [
     "worksheet-only"
    ]
   },
   "source": [
    "```Python\n",
    "\n",
    "\n",
    "\n",
    "\n",
    "\n",
    "\n",
    "\n",
    "\n",
    "\n",
    "\n",
    "\n",
    "\n",
    "\n",
    "\n",
    "\n",
    "\n",
    "\n",
    "```"
   ]
  },
  {
   "cell_type": "markdown",
   "id": "b2e23fc2-25d3-4e1e-be18-3dbf35f25b09",
   "metadata": {
    "slideshow": {
     "slide_type": "fragment"
    },
    "tags": []
   },
   "source": [
    "\\#4) _Write a program that asks for ten positive numbers and outputs the largest number._"
   ]
  },
  {
   "cell_type": "code",
   "execution_count": null,
   "id": "9aa6e6b1-8818-4bd3-85bf-3b2e38ca9e9e",
   "metadata": {
    "slideshow": {
     "slide_type": "skip"
    },
    "tags": [
     "notes-only"
    ]
   },
   "outputs": [],
   "source": [
    "largest = 0\n",
    "for i in range(0, 10):\n",
    "    num = int(input(\"Enter a positive number: \"))\n",
    "    if num > largest:\n",
    "        largest = num\n",
    "print(\"The largest number is\", largest)"
   ]
  }
 ],
 "metadata": {
  "kernelspec": {
   "display_name": "Python 3 (ipykernel)",
   "language": "python",
   "name": "python3"
  },
  "language_info": {
   "codemirror_mode": {
    "name": "ipython",
    "version": 3
   },
   "file_extension": ".py",
   "mimetype": "text/x-python",
   "name": "python",
   "nbconvert_exporter": "python",
   "pygments_lexer": "ipython3",
   "version": "3.8.2"
  }
 },
 "nbformat": 4,
 "nbformat_minor": 5
}
