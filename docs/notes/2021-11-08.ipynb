{
 "cells": [
  {
   "cell_type": "markdown",
   "metadata": {
    "slideshow": {
     "slide_type": "skip"
    },
    "tags": []
   },
   "source": [
    "# reading files\n",
    "_COSC 101, Introduction to Computing I, 2021-11-08_"
   ]
  },
  {
   "cell_type": "markdown",
   "metadata": {
    "jp-MarkdownHeadingCollapsed": true,
    "slideshow": {
     "slide_type": "skip"
    },
    "tags": []
   },
   "source": [
    "## Announcements\n",
    "* Homework 8 due Thursday\n",
    "* Exam 3 next week Wednesday\n",
    "    * Study materials posted on Moodle"
   ]
  },
  {
   "cell_type": "markdown",
   "metadata": {
    "slideshow": {
     "slide_type": "skip"
    },
    "tags": [
     "notes-only"
    ]
   },
   "source": [
    "## Outline\n",
    "* Warm-up\n",
    "* Accessing files\n",
    "* Reading files\n",
    "* Reading data files"
   ]
  },
  {
   "cell_type": "markdown",
   "metadata": {
    "slideshow": {
     "slide_type": "slide"
    },
    "tags": []
   },
   "source": [
    "# Warm-up\n",
    "Write a function called `split_name` that takes a string containing a person's last name and first name, separated by a comma, and returns a list containing the person's first name and last name, in that order. For example `split_name('Gember-Jacobson, Aaron')` should return `['Aaron', 'Gember-Jacobson']`."
   ]
  },
  {
   "cell_type": "code",
   "execution_count": null,
   "metadata": {
    "tags": [
     "worksheet-only"
    ]
   },
   "outputs": [],
   "source": [
    "\n",
    "\n",
    "\n",
    "\n",
    "\n",
    "\n",
    "\n",
    "    \n",
    "    \n",
    "    \n",
    "    \n",
    "    \n",
    "    "
   ]
  },
  {
   "cell_type": "code",
   "execution_count": 2,
   "metadata": {
    "slideshow": {
     "slide_type": "skip"
    },
    "tags": [
     "notes-only"
    ]
   },
   "outputs": [],
   "source": [
    "def split_name(name):\n",
    "    '''\n",
    "    Converts a person's name written as 'Last, First' into a list of names ['First', 'Last']\n",
    "    >>> split_name('Gember-Jacobson, Aaron')\n",
    "    ['Aaron', 'Gember-Jacobson']\n",
    "    '''\n",
    "    parts = name.split(', ')\n",
    "    names = [parts[1], parts[0]]\n",
    "    return names"
   ]
  },
  {
   "cell_type": "markdown",
   "metadata": {
    "slideshow": {
     "slide_type": "skip"
    },
    "tags": [
     "worksheet-only"
    ]
   },
   "source": [
    "🛑 **STOP HERE** after completing the warm-up; please **DO NOT WORK AHEAD**. If you have extra time, work on the extra practice problems."
   ]
  },
  {
   "cell_type": "markdown",
   "metadata": {
    "slideshow": {
     "slide_type": "skip"
    },
    "tags": [
     "notes-only"
    ]
   },
   "source": [
    "## Accessing files"
   ]
  },
  {
   "cell_type": "code",
   "execution_count": 17,
   "metadata": {
    "slideshow": {
     "slide_type": "skip"
    },
    "tags": [
     "colab-only"
    ]
   },
   "outputs": [],
   "source": [
    "# Create a file for testing\n",
    "with open('myfile.txt', 'w') as myfile:\n",
    "    myfile.write('First line\\nSecond line\\nThird line')"
   ]
  },
  {
   "cell_type": "markdown",
   "metadata": {
    "slideshow": {
     "slide_type": "skip"
    },
    "tags": [
     "notes-only"
    ]
   },
   "source": [
    "* Files can contain many different types of data—text, image, video, audio, source code, etc.\n",
    "    * Same type of data may also be stored in different formats—e.g., audio may be encoded as mp3, aac, etc.\n",
    "* You have already used the `cImage` module to read/write images\n",
    "* _What does a program need to do before it can read data from a file?_ — open the file for reading\n",
    "    * `open` takes filepath and mode (`'r'` for read or `'w'` for write) as arguments; returns file object"
   ]
  },
  {
   "cell_type": "code",
   "execution_count": 6,
   "metadata": {
    "slideshow": {
     "slide_type": "skip"
    },
    "tags": [
     "notes-only"
    ]
   },
   "outputs": [],
   "source": [
    "myfile = open('myfile.txt', 'r')"
   ]
  },
  {
   "cell_type": "markdown",
   "metadata": {
    "slideshow": {
     "slide_type": "skip"
    },
    "tags": [
     "notes-only"
    ]
   },
   "source": [
    "* _What does a program need to do when it is done reading data from file?_ — close the file"
   ]
  },
  {
   "cell_type": "code",
   "execution_count": 7,
   "metadata": {
    "slideshow": {
     "slide_type": "skip"
    },
    "tags": [
     "notes-only"
    ]
   },
   "outputs": [],
   "source": [
    "myfile.close()"
   ]
  },
  {
   "cell_type": "markdown",
   "metadata": {
    "slideshow": {
     "slide_type": "slide"
    },
    "tags": []
   },
   "source": [
    "## Reading files"
   ]
  },
  {
   "cell_type": "markdown",
   "metadata": {
    "slideshow": {
     "slide_type": "skip"
    },
    "tags": [
     "notes-only"
    ]
   },
   "source": [
    "### Overview\n",
    "* Read every line of the file, one line at a time — use a for loop"
   ]
  },
  {
   "cell_type": "code",
   "execution_count": 18,
   "metadata": {
    "slideshow": {
     "slide_type": "skip"
    },
    "tags": [
     "notes-only"
    ]
   },
   "outputs": [
    {
     "name": "stdout",
     "output_type": "stream",
     "text": [
      "First line\n",
      "\n",
      "Second line\n",
      "\n",
      "Third line\n"
     ]
    }
   ],
   "source": [
    "myfile = open('myfile.txt', 'r')\n",
    "for line in myfile:\n",
    "    print(line)\n",
    "myfile.close()"
   ]
  },
  {
   "cell_type": "markdown",
   "metadata": {
    "slideshow": {
     "slide_type": "skip"
    },
    "tags": [
     "notes-only"
    ]
   },
   "source": [
    "* Read one line at a time — use the `readline` function\n",
    "    * The next call to `readline` returns the next line of the file\n",
    "    * If the file is closed and then opened again, the next call to `readline` will start at the beginning of the file\n",
    "     * When the end of the file is reached, `readline` returns the empty string (`\"\"`)"
   ]
  },
  {
   "cell_type": "code",
   "execution_count": 21,
   "metadata": {
    "slideshow": {
     "slide_type": "skip"
    },
    "tags": [
     "notes-only"
    ]
   },
   "outputs": [
    {
     "name": "stdout",
     "output_type": "stream",
     "text": [
      "First line\n",
      "\n",
      "Second line\n",
      "\n",
      "First line\n",
      "\n"
     ]
    }
   ],
   "source": [
    "myfile = open('myfile.txt', 'r')\n",
    "line1 = myfile.readline()\n",
    "line2 = myfile.readline()\n",
    "myfile.close()\n",
    "print(line1)\n",
    "print(line2)\n",
    "\n",
    "myfile = open('myfile.txt', 'r')\n",
    "line1again = myfile.readline()\n",
    "myfile.close()\n",
    "print(line1again)"
   ]
  },
  {
   "cell_type": "markdown",
   "metadata": {
    "slideshow": {
     "slide_type": "skip"
    },
    "tags": [
     "notes-only"
    ]
   },
   "source": [
    "* Read all lines of the file into a list of strings — use the `readlines` function"
   ]
  },
  {
   "cell_type": "code",
   "execution_count": 20,
   "metadata": {
    "slideshow": {
     "slide_type": "skip"
    },
    "tags": [
     "notes-only"
    ]
   },
   "outputs": [
    {
     "name": "stdout",
     "output_type": "stream",
     "text": [
      "['First line\\n', 'Second line\\n', 'Third line']\n"
     ]
    }
   ],
   "source": [
    "myfile = open('myfile.txt', 'r')\n",
    "list_of_lines = myfile.readlines()\n",
    "myfile.close()\n",
    "print(list_of_lines)"
   ]
  },
  {
   "cell_type": "markdown",
   "metadata": {
    "slideshow": {
     "slide_type": "skip"
    },
    "tags": [
     "notes-only"
    ]
   },
   "source": [
    "* Read the entire file into a string — use the `read` function"
   ]
  },
  {
   "cell_type": "code",
   "execution_count": null,
   "metadata": {
    "slideshow": {
     "slide_type": "skip"
    },
    "tags": [
     "notes-only"
    ]
   },
   "outputs": [],
   "source": [
    "myfile = open('myfile.txt', 'r')\n",
    "entire_file = myfile.read()\n",
    "myfile.close()\n",
    "print(entire_file)"
   ]
  },
  {
   "cell_type": "markdown",
   "metadata": {
    "slideshow": {
     "slide_type": "skip"
    },
    "tags": [
     "notes-only"
    ]
   },
   "source": [
    "* Strings include the newline character (`'\\n'`)\n",
    "    * Remove newline using the `strip` function"
   ]
  },
  {
   "cell_type": "code",
   "execution_count": 24,
   "metadata": {
    "slideshow": {
     "slide_type": "skip"
    },
    "tags": [
     "notes-only"
    ]
   },
   "outputs": [
    {
     "name": "stdout",
     "output_type": "stream",
     "text": [
      "First line\n",
      "Second line\n"
     ]
    }
   ],
   "source": [
    "line1 = line1.strip()\n",
    "line2 = line2.strip()\n",
    "print(line1)\n",
    "print(line2)"
   ]
  },
  {
   "cell_type": "markdown",
   "metadata": {
    "slideshow": {
     "slide_type": "skip"
    },
    "tags": [
     "notes-only"
    ]
   },
   "source": [
    "### Practice"
   ]
  },
  {
   "cell_type": "markdown",
   "metadata": {},
   "source": [
    "_Assume the file `flowers.txt` contains the following data:_\n",
    "```\n",
    "Rose\n",
    "Tulip\n",
    "Daisy\n",
    "```"
   ]
  },
  {
   "cell_type": "code",
   "execution_count": 4,
   "metadata": {
    "slideshow": {
     "slide_type": "skip"
    },
    "tags": [
     "colab-only"
    ]
   },
   "outputs": [],
   "source": [
    "# Run this code cell to create flowers.txt\n",
    "with open('flowers.txt', 'w') as flowers:\n",
    "    flowers.write('Rose\\nTulip\\nDaisy\\n')"
   ]
  },
  {
   "cell_type": "markdown",
   "metadata": {},
   "source": [
    "*What is the output of each of the following programs?*"
   ]
  },
  {
   "cell_type": "code",
   "execution_count": 5,
   "metadata": {
    "tags": [
     "worksheet-code-only"
    ]
   },
   "outputs": [
    {
     "name": "stdout",
     "output_type": "stream",
     "text": [
      "5\n",
      "#Rose\n",
      "#\n"
     ]
    }
   ],
   "source": [
    "#1)\n",
    "flowers = open('flowers.txt', 'r')\n",
    "data = flowers.readline()\n",
    "print(len(data))\n",
    "print(\"#\"+str(data)+\"#\")\n",
    "flowers.close()"
   ]
  },
  {
   "cell_type": "markdown",
   "metadata": {
    "slideshow": {
     "slide_type": "skip"
    },
    "tags": [
     "worksheet-only"
    ]
   },
   "source": [
    "```\n",
    "\n",
    "\n",
    "\n",
    "\n",
    "\n",
    "\n",
    "\n",
    "```"
   ]
  },
  {
   "cell_type": "code",
   "execution_count": 6,
   "metadata": {
    "slideshow": {
     "slide_type": "subslide"
    },
    "tags": [
     "worksheet-code-only"
    ]
   },
   "outputs": [
    {
     "name": "stdout",
     "output_type": "stream",
     "text": [
      "4\n",
      "#Rose#\n",
      "5\n",
      "#Tulip#\n",
      "5\n",
      "#Daisy#\n"
     ]
    }
   ],
   "source": [
    "#2)\n",
    "flowers = open('flowers.txt', 'r')\n",
    "for data in flowers:\n",
    "    data = data.strip()\n",
    "    print(len(data))\n",
    "    print(\"#\"+str(data)+\"#\")\n",
    "flowers.close()"
   ]
  },
  {
   "cell_type": "markdown",
   "metadata": {
    "slideshow": {
     "slide_type": "skip"
    },
    "tags": [
     "worksheet-only"
    ]
   },
   "source": [
    "```\n",
    "\n",
    "\n",
    "\n",
    "\n",
    "\n",
    "\n",
    "\n",
    "```"
   ]
  },
  {
   "cell_type": "code",
   "execution_count": 7,
   "metadata": {
    "slideshow": {
     "slide_type": "subslide"
    },
    "tags": [
     "worksheet-code-only"
    ]
   },
   "outputs": [
    {
     "name": "stdout",
     "output_type": "stream",
     "text": [
      "16\n",
      "#Rose\n",
      "Tulip\n",
      "Daisy#\n"
     ]
    }
   ],
   "source": [
    "#3)\n",
    "flowers = open('flowers.txt', 'r')\n",
    "data = flowers.read()\n",
    "data = data.strip()\n",
    "print(len(data))\n",
    "print(\"#\"+str(data)+\"#\")\n",
    "flowers.close()"
   ]
  },
  {
   "cell_type": "markdown",
   "metadata": {
    "slideshow": {
     "slide_type": "skip"
    },
    "tags": [
     "worksheet-only"
    ]
   },
   "source": [
    "```\n",
    "\n",
    "\n",
    "\n",
    "\n",
    "\n",
    "\n",
    "\n",
    "```"
   ]
  },
  {
   "cell_type": "code",
   "execution_count": 8,
   "metadata": {
    "slideshow": {
     "slide_type": "subslide"
    },
    "tags": [
     "worksheet-code-only"
    ]
   },
   "outputs": [
    {
     "name": "stdout",
     "output_type": "stream",
     "text": [
      "3\n",
      "#['Rose\\n', 'Tulip\\n', 'Daisy\\n']#\n"
     ]
    }
   ],
   "source": [
    "#4)\n",
    "flowers = open('flowers.txt', 'r')\n",
    "data = flowers.readlines()\n",
    "print(len(data))\n",
    "print(\"#\"+str(data)+\"#\")\n",
    "flowers.close()"
   ]
  },
  {
   "cell_type": "markdown",
   "metadata": {
    "slideshow": {
     "slide_type": "skip"
    },
    "tags": [
     "worksheet-only"
    ]
   },
   "source": [
    "```\n",
    "\n",
    "\n",
    "\n",
    "\n",
    "\n",
    "\n",
    "\n",
    "```\n",
    "\n",
    "<div style=\"page-break-after:always;\"></div>"
   ]
  },
  {
   "cell_type": "markdown",
   "metadata": {
    "slideshow": {
     "slide_type": "skip"
    },
    "tags": [
     "notes-only"
    ]
   },
   "source": [
    "## Reading data files"
   ]
  },
  {
   "cell_type": "markdown",
   "metadata": {
    "slideshow": {
     "slide_type": "skip"
    },
    "tags": [
     "notes-only"
    ]
   },
   "source": [
    "### Overview\n",
    "* A comma-separated variable (CSV) file is often used to store data\n",
    "* Each line in a CSV file is like a row in a table (or spreadsheet)\n",
    "* A comma (`,`) is used to delineate the values (or columns) within each line (or row)\n",
    "* The first line of the file usually contains column names\n",
    "* Assume the file `people.csv` contains the following data on notable computer scientists:\n",
    "```\n",
    "LastName,FirstName,KnownFor\n",
    "Johnson,Katherine,was a \"human computer\" at NASA\n",
    "Dean,Mark,co-created the IBM personal computer\n",
    "Berners-Lee,Tim,invented the World Wide Web\n",
    "Hopper,Grace,found the first computer bug\n",
    "```"
   ]
  },
  {
   "cell_type": "code",
   "execution_count": 25,
   "metadata": {
    "slideshow": {
     "slide_type": "skip"
    },
    "tags": [
     "colab-only"
    ]
   },
   "outputs": [],
   "source": [
    "# Run this code cell to create people.csv\n",
    "with open('people.csv', 'w') as people:\n",
    "    people.write(\"\"\"LastName,FirstName,KnownFor\\nJohnson,Katherine,was a \"Human computer\" at NASA\\nDean,Mark,co-created the IBM personal computer\\nBerners-Lee,Tim,invented the World Wide Web\\nHopper,Grace,found the first computer bug\"\"\")"
   ]
  },
  {
   "cell_type": "markdown",
   "metadata": {
    "slideshow": {
     "slide_type": "skip"
    },
    "tags": [
     "notes-only"
    ]
   },
   "source": [
    "* Use `readline()` to read the first line containing the column names\n",
    "* Use `strip()` to remove the \"trailing newline\"\n",
    "* Use `split(',')` to convert a line into a list of values"
   ]
  },
  {
   "cell_type": "code",
   "execution_count": 26,
   "metadata": {
    "slideshow": {
     "slide_type": "skip"
    },
    "tags": [
     "notes-only"
    ]
   },
   "outputs": [
    {
     "name": "stdout",
     "output_type": "stream",
     "text": [
      "['LastName', 'FirstName', 'KnownFor']\n"
     ]
    }
   ],
   "source": [
    "people = open('people.csv', 'r')\n",
    "first = people.readline()\n",
    "first = first.strip()\n",
    "column_names = first.split(',')\n",
    "print(column_names)"
   ]
  },
  {
   "cell_type": "markdown",
   "metadata": {
    "slideshow": {
     "slide_type": "skip"
    },
    "tags": [
     "notes-only"
    ]
   },
   "source": [
    "* Use for loop to iterate through lines (or rows) of data\n",
    "* Again, use `strip` and `split`\n",
    "* Use indexing or slicing to access specific values"
   ]
  },
  {
   "cell_type": "code",
   "execution_count": 27,
   "metadata": {
    "slideshow": {
     "slide_type": "skip"
    },
    "tags": [
     "notes-only"
    ]
   },
   "outputs": [
    {
     "name": "stdout",
     "output_type": "stream",
     "text": [
      "Katherine Johnson was a \"Human computer\" at NASA\n",
      "Mark Dean co-created the IBM personal computer\n",
      "Tim Berners-Lee invented the World Wide Web\n",
      "Grace Hopper found the first computer bug\n"
     ]
    }
   ],
   "source": [
    "for line in people:\n",
    "    values = line.strip().split(',')\n",
    "    print(values[1],values[0],values[2])"
   ]
  },
  {
   "cell_type": "markdown",
   "metadata": {
    "slideshow": {
     "slide_type": "skip"
    },
    "tags": [
     "notes-only"
    ]
   },
   "source": [
    "* Remember to close the file!"
   ]
  },
  {
   "cell_type": "code",
   "execution_count": 12,
   "metadata": {
    "slideshow": {
     "slide_type": "skip"
    },
    "tags": [
     "notes-only"
    ]
   },
   "outputs": [],
   "source": [
    "people.close()"
   ]
  },
  {
   "cell_type": "markdown",
   "metadata": {
    "slideshow": {
     "slide_type": "skip"
    },
    "tags": [
     "notes-only"
    ]
   },
   "source": [
    "* Instead of using `readline` and a for loop, you can use `readlines` with indexing, slicing, and a for loop"
   ]
  },
  {
   "cell_type": "code",
   "execution_count": 28,
   "metadata": {
    "slideshow": {
     "slide_type": "skip"
    },
    "tags": [
     "notes-only"
    ]
   },
   "outputs": [
    {
     "name": "stdout",
     "output_type": "stream",
     "text": [
      "['LastName', 'FirstName', 'KnownFor']\n",
      "Katherine Johnson was a \"Human computer\" at NASA\n",
      "Mark Dean co-created the IBM personal computer\n",
      "Tim Berners-Lee invented the World Wide Web\n",
      "Grace Hopper found the first computer bug\n"
     ]
    }
   ],
   "source": [
    "people = open('people.csv', 'r')\n",
    "lines = people.readlines()\n",
    "people.close()\n",
    "\n",
    "first = lines[0].strip()\n",
    "column_names = first.split(',')\n",
    "print(column_names)\n",
    "for line in lines[1:]:\n",
    "    values = line.strip().split(',')\n",
    "    print(values[1],values[0],values[2])"
   ]
  },
  {
   "cell_type": "markdown",
   "metadata": {
    "slideshow": {
     "slide_type": "slide"
    },
    "tags": []
   },
   "source": [
    "## Extra Practice"
   ]
  },
  {
   "cell_type": "markdown",
   "metadata": {},
   "source": [
    "\\#1) *Write a function called `load_data` that takes a filename and returns a list of lists, where each sublist contains the data from one row of the file. The column names should **not** be included.*"
   ]
  },
  {
   "cell_type": "code",
   "execution_count": 38,
   "metadata": {
    "slideshow": {
     "slide_type": "skip"
    },
    "tags": [
     "worksheet-only"
    ]
   },
   "outputs": [],
   "source": [
    "def load_data(filename):\n",
    "    '''\n",
    "    Return a list containing rows of data from a file\n",
    "    >>> load_data('people.csv')\n",
    "    [['Johnson', 'Katherine', 'was a \"human computer\" at NASA'], \n",
    "     ['Dean', 'Mark', 'co-created the IBM personal computer'], \n",
    "     ['Berners-Lee', 'Tim', 'invented the World Wide Web'], \n",
    "     ['Hopper', 'Grace', 'found the first computer bug']]\n",
    "    '''\n",
    "\n",
    "    \n",
    "    \n",
    "    \n",
    "    \n",
    "    \n",
    "    \n",
    "    \n",
    "    \n",
    "    "
   ]
  },
  {
   "cell_type": "code",
   "execution_count": 37,
   "metadata": {
    "slideshow": {
     "slide_type": "skip"
    },
    "tags": [
     "notes-only"
    ]
   },
   "outputs": [],
   "source": [
    "def load_data(filename):\n",
    "    '''\n",
    "    Return a list containing rows of data from a file\n",
    "    >>> load_data('people.csv')\n",
    "    [['Johnson', 'Katherine', 'was a \"human computer\" at NASA'], ['Dean', 'Mark', 'co-created the IBM personal computer'], ['Berners-Lee', 'Tim', 'invented the World Wide Web'], ['Hopper', 'Grace', 'found the first computer bug']]\n",
    "    '''\n",
    "    datafile = open(filename, 'r')\n",
    "    datafile.readline() # Discard column names\n",
    "    rows = []\n",
    "    for line in datafile:\n",
    "        values = line.strip().split(',')\n",
    "        rows.append(values)\n",
    "    datafile.close()\n",
    "    return rows"
   ]
  },
  {
   "cell_type": "markdown",
   "metadata": {
    "slideshow": {
     "slide_type": "fragment"
    },
    "tags": []
   },
   "source": [
    "\\#2) *Write a function called `ask_question` that takes the rows of data from a file of a people and asks a question using the value in the `KnownFor` column. For example, `Who co-created the IBM personal computer?`*"
   ]
  },
  {
   "cell_type": "code",
   "execution_count": 33,
   "metadata": {
    "slideshow": {
     "slide_type": "skip"
    },
    "tags": [
     "notes-only"
    ]
   },
   "outputs": [
    {
     "name": "stdout",
     "output_type": "stream",
     "text": [
      "Who found the first computer bug?\n"
     ]
    },
    {
     "name": "stdin",
     "output_type": "stream",
     "text": [
      "Enter a person's name:  Grace Hopper\n"
     ]
    },
    {
     "name": "stdout",
     "output_type": "stream",
     "text": [
      "You're correct! Well done!\n"
     ]
    }
   ],
   "source": [
    "import random\n",
    "\n",
    "def trivia_question(data):\n",
    "    '''Ask a trivia question about a randomly choosen person'''\n",
    "    index = random.randrange(0, len(data))\n",
    "    row = data[index]\n",
    "    known_for = row[2]\n",
    "    print(\"Who \"+known_for+\"?\")\n",
    "    guess = input(\"Enter a person's name: \")\n",
    "    answer = row[1]+\" \"+row[0]\n",
    "    if (answer == guess):\n",
    "        print(\"You're correct! Well done!\")\n",
    "    else:\n",
    "        print(\"Sorry, your answer is incorrect. The correct answer is: \"+answer)\n",
    "    \n",
    "trivia_question(load_data('people.csv'))"
   ]
  },
  {
   "cell_type": "code",
   "execution_count": 36,
   "metadata": {
    "slideshow": {
     "slide_type": "skip"
    },
    "tags": [
     "colab-only"
    ]
   },
   "outputs": [
    {
     "name": "stdout",
     "output_type": "stream",
     "text": [
      "**********************************************************************\n",
      "File \"__main__\", line 4, in __main__.load_data\n",
      "Failed example:\n",
      "    load_data('people.csv')\n",
      "Expected:\n",
      "    [['Johnson', 'Katherine', 'was a \"human computer\" at NASA'], ['Dean', 'Mark', 'co-created the IBM personal computer'], ['Berners-Lee', 'Tim', 'invented the World Wide Web'], ['Hopper', 'Grace', 'found the first computer bug']]\n",
      "Got:\n",
      "    [['Johnson', 'Katherine', 'was a \"Human computer\" at NASA'], ['Dean', 'Mark', 'co-created the IBM personal computer'], ['Berners-Lee', 'Tim', 'invented the World Wide Web'], ['Hopper', 'Grace', 'found the first computer bug']]\n",
      "**********************************************************************\n",
      "1 items had failures:\n",
      "   1 of   1 in __main__.load_data\n",
      "***Test Failed*** 1 failures.\n"
     ]
    },
    {
     "data": {
      "text/plain": [
       "TestResults(failed=1, attempted=2)"
      ]
     },
     "execution_count": 36,
     "metadata": {},
     "output_type": "execute_result"
    }
   ],
   "source": [
    "import doctest\n",
    "doctest.testmod()"
   ]
  }
 ],
 "metadata": {
  "celltoolbar": "Tags",
  "kernelspec": {
   "display_name": "Python 3 (ipykernel)",
   "language": "python",
   "name": "python3"
  },
  "language_info": {
   "codemirror_mode": {
    "name": "ipython",
    "version": 3
   },
   "file_extension": ".py",
   "mimetype": "text/x-python",
   "name": "python",
   "nbconvert_exporter": "python",
   "pygments_lexer": "ipython3",
   "version": "3.8.2"
  }
 },
 "nbformat": 4,
 "nbformat_minor": 4
}
