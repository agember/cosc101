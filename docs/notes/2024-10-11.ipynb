{
 "cells": [
  {
   "cell_type": "markdown",
   "id": "111d1859-669a-4396-b054-36231555c294",
   "metadata": {
    "editable": true,
    "slideshow": {
     "slide_type": "skip"
    },
    "tags": []
   },
   "source": [
    "# Iteration: definite vs indefinite; while loops\n",
    "_COSC 101, Introduction to Computing I, 2024-10-11_"
   ]
  },
  {
   "cell_type": "markdown",
   "id": "122ea8ce-f63c-4c78-833a-c4c34fdf7b97",
   "metadata": {
    "editable": true,
    "slideshow": {
     "slide_type": "skip"
    },
    "tags": []
   },
   "source": [
    "## Announcements\n",
    "* Exam 1 reattempts Wedednesday during class\n",
    "* Homework 5 due Thurs, Oct 17 at 11:59pm"
   ]
  },
  {
   "cell_type": "markdown",
   "id": "d05103f0-f506-480d-8453-2ddf0d18114a",
   "metadata": {
    "editable": true,
    "slideshow": {
     "slide_type": "slide"
    },
    "tags": []
   },
   "source": [
    "## Definite vs indefinite iteration"
   ]
  },
  {
   "cell_type": "markdown",
   "id": "d8900b8f-46e4-42cf-93b5-e3ef86715d99",
   "metadata": {
    "editable": true,
    "slideshow": {
     "slide_type": "skip"
    },
    "tags": [
     "notes-only"
    ]
   },
   "source": [
    "* Do we know how many times a task needs to be repeated before beginning the repetition?\n",
    "    * Definite — number of iterations is known before loop starts\n",
    "        * E.g., interview 50 people for a research study\n",
    "    * Indefinite — number of iterations is not known before loop starts\n",
    "        * E.g., call potential participants until 50 people have agreed to be part of the study\n",
    "* Which type of loop to use?\n",
    "    * Definite — `for` loop\n",
    "    * Indefinite — `while` loop\n",
    "* How is the number of iterations determined?\n",
    "    * `for` loop iterates over a sequence of values\n",
    "        * E.g., `for person in participants`\n",
    "    * `while` loop repeats as long as a condition is true\n",
    "        * E.g., `while num_participants < 50`"
   ]
  },
  {
   "cell_type": "markdown",
   "id": "4eade141-ba7c-4549-b955-b282c95ee5f8",
   "metadata": {
    "editable": true,
    "slideshow": {
     "slide_type": ""
    },
    "tags": [
     "question"
    ]
   },
   "source": [
    "_For each of the following situtations, determine whether it is definite or indefinite iteration._\n",
    "\n",
    "_Roll a 6-sided die 20 times and count the number of times a 6 is rolled_"
   ]
  },
  {
   "cell_type": "markdown",
   "id": "c5fc6694-35dd-489e-a67f-d6799d05b0eb",
   "metadata": {
    "editable": true,
    "slideshow": {
     "slide_type": "skip"
    },
    "tags": [
     "answer"
    ]
   },
   "source": [
    "Definite — need exactly 20 iterations"
   ]
  },
  {
   "cell_type": "markdown",
   "id": "c4884fcb-edd4-445b-8874-bd7dee16aa63",
   "metadata": {
    "editable": true,
    "slideshow": {
     "slide_type": "skip"
    },
    "tags": [
     "blank"
    ]
   },
   "source": [
    "```\n",
    "```"
   ]
  },
  {
   "cell_type": "markdown",
   "id": "6caf1b8f-8e8f-445c-ac95-be4c75fb08dd",
   "metadata": {
    "editable": true,
    "slideshow": {
     "slide_type": "fragment"
    },
    "tags": [
     "question"
    ]
   },
   "source": [
    "_Roll a 6-sided die until a 6 is rolled_"
   ]
  },
  {
   "cell_type": "markdown",
   "id": "ed1913c9-eeaa-40e4-bb71-ab8cee61113b",
   "metadata": {
    "editable": true,
    "slideshow": {
     "slide_type": "skip"
    },
    "tags": [
     "answer"
    ]
   },
   "source": [
    "Indefinite — number of iterations depends on the outcome of each roll"
   ]
  },
  {
   "cell_type": "markdown",
   "id": "67d5e957-9d1d-432f-a4c8-28bf73c7f6e4",
   "metadata": {
    "editable": true,
    "slideshow": {
     "slide_type": "skip"
    },
    "tags": [
     "blank"
    ]
   },
   "source": [
    "```\n",
    "```"
   ]
  },
  {
   "cell_type": "markdown",
   "id": "c46d35c1-e6fc-4188-bf3a-6aa4d8bada8c",
   "metadata": {
    "editable": true,
    "slideshow": {
     "slide_type": "fragment"
    },
    "tags": [
     "question"
    ]
   },
   "source": [
    "_Count the number of letters in a string_"
   ]
  },
  {
   "cell_type": "markdown",
   "id": "a405713b-7a61-4eb9-bfd0-f024fa3f395f",
   "metadata": {
    "editable": true,
    "slideshow": {
     "slide_type": "skip"
    },
    "tags": [
     "answer"
    ]
   },
   "source": [
    "Definite — the number of iterations equals the number of characters in the string"
   ]
  },
  {
   "cell_type": "markdown",
   "id": "593ff7d4-004f-42bf-980b-9655af199eb5",
   "metadata": {
    "editable": true,
    "slideshow": {
     "slide_type": "skip"
    },
    "tags": [
     "blank"
    ]
   },
   "source": [
    "```\n",
    "```"
   ]
  },
  {
   "cell_type": "markdown",
   "id": "e97be3ec-6fca-41a2-afab-7bb6b72400a4",
   "metadata": {
    "editable": true,
    "slideshow": {
     "slide_type": "fragment"
    },
    "tags": [
     "question"
    ]
   },
   "source": [
    "_Ask the user to enter words (one at a time) until they have entered 100 words_"
   ]
  },
  {
   "cell_type": "markdown",
   "id": "1c692e85-9194-48e4-9442-4e47a44fe429",
   "metadata": {
    "editable": true,
    "slideshow": {
     "slide_type": "skip"
    },
    "tags": [
     "answer"
    ]
   },
   "source": [
    "Definite — need exactly 100 iterations"
   ]
  },
  {
   "cell_type": "markdown",
   "id": "290b7281-2f22-4869-8bb4-a249cadafad8",
   "metadata": {
    "editable": true,
    "slideshow": {
     "slide_type": "skip"
    },
    "tags": [
     "blank"
    ]
   },
   "source": [
    "```\n",
    "```"
   ]
  },
  {
   "cell_type": "markdown",
   "id": "caee4436-4eb5-49d4-92ee-6a9fffeb4ee2",
   "metadata": {
    "editable": true,
    "slideshow": {
     "slide_type": "fragment"
    },
    "tags": [
     "question"
    ]
   },
   "source": [
    "_Ask the user to enter words (one word at a time) until they have entered at least 100 characters_"
   ]
  },
  {
   "cell_type": "markdown",
   "id": "d421aa21-d796-4f27-8dad-a3b51183c4ce",
   "metadata": {
    "editable": true,
    "slideshow": {
     "slide_type": "skip"
    },
    "tags": [
     "answer"
    ]
   },
   "source": [
    "Indefinite — number of iterations depends on the length of each word"
   ]
  },
  {
   "cell_type": "markdown",
   "id": "3cd11018-d9ab-4b14-b16b-7fec2f793d45",
   "metadata": {
    "editable": true,
    "slideshow": {
     "slide_type": "skip"
    },
    "tags": [
     "blank"
    ]
   },
   "source": [
    "```\n",
    "```"
   ]
  },
  {
   "cell_type": "markdown",
   "id": "4f1599d6-06af-4132-9159-9ed44e1d61e9",
   "metadata": {
    "editable": true,
    "slideshow": {
     "slide_type": "slide"
    },
    "tags": []
   },
   "source": [
    "## while loops"
   ]
  },
  {
   "cell_type": "markdown",
   "id": "37382cd2-f7cf-4ca2-a74c-71df06702db3",
   "metadata": {
    "editable": true,
    "slideshow": {
     "slide_type": "skip"
    },
    "tags": [
     "notes-only"
    ]
   },
   "source": [
    "* Use a boolean expression to determine whether or not the loop executes (again)\n",
    "    * Similar to using a boolean expression in a conditional statement to determine whether or not to execute the if-body"
   ]
  },
  {
   "cell_type": "code",
   "execution_count": 1,
   "id": "df25b9ba-251b-4706-8201-554ddcf45e3f",
   "metadata": {
    "editable": true,
    "slideshow": {
     "slide_type": ""
    },
    "tags": [
     "worksheet-code-only"
    ]
   },
   "outputs": [
    {
     "name": "stdout",
     "output_type": "stream",
     "text": [
      "1\n",
      "2\n",
      "3\n",
      "4\n",
      "5\n",
      "Done\n"
     ]
    }
   ],
   "source": [
    "# Example\n",
    "def main() -> None:\n",
    "    count = 0\n",
    "    while count < 5:\n",
    "        count = count + 1\n",
    "        print(count)\n",
    "    print(\"Done\")\n",
    "main()"
   ]
  },
  {
   "cell_type": "markdown",
   "id": "bfbee3c5-99b4-4333-88c8-ebf90ca8bc8b",
   "metadata": {
    "editable": true,
    "slideshow": {
     "slide_type": "skip"
    },
    "tags": [
     "notes-only"
    ]
   },
   "source": [
    "* Use a flow chart to help understand the code\n",
    "\n",
    "![](figures/while_loops/while_loop_example.png)\n",
    "\n",
    "* Use a trace table to help understand the code\n",
    "\n",
    "| Iteration # | Variable: count | Output |\n",
    "|-------------|-----------------|--------|\n",
    "| Before      | 0               |        |\n",
    "| 1st         | 1               | 1      |\n",
    "| 2nd         | 2               | 2      |\n",
    "| 3rd         | 3               | 3      |\n",
    "| 4th         | 4               | 4      |\n",
    "| 5th         | 5               | 5      |\n",
    "| After       | 5               | Done   |\n",
    "  \n",
    "* The body of the loop **must** change the value of one or more variables used in the loop condition such that eventually the loop condition is false\n",
    "* _What happens if the loop condition is always true?_ — the loop runs forever; called an infinite loop"
   ]
  },
  {
   "cell_type": "markdown",
   "id": "1b0ce4f3-ffff-4cd0-91af-d4f2efe585ad",
   "metadata": {
    "editable": true,
    "slideshow": {
     "slide_type": "skip"
    },
    "tags": [
     "blank"
    ]
   },
   "source": [
    "```\n",
    "\n",
    "\n",
    "\n",
    "\n",
    "\n",
    "\n",
    "\n",
    "\n",
    "\n",
    "\n",
    "\n",
    "\n",
    "```"
   ]
  },
  {
   "cell_type": "markdown",
   "id": "40f7ea8e-2b35-4b73-8b9b-803bbb535295",
   "metadata": {
    "editable": true,
    "slideshow": {
     "slide_type": "slide"
    },
    "tags": [
     "question"
    ]
   },
   "source": [
    "_What does the following program output?_"
   ]
  },
  {
   "cell_type": "code",
   "execution_count": 2,
   "id": "4530018f-b7d3-497b-94b7-43b1a472e7fd",
   "metadata": {
    "editable": true,
    "slideshow": {
     "slide_type": ""
    },
    "tags": [
     "worksheet-code-only"
    ]
   },
   "outputs": [
    {
     "name": "stdout",
     "output_type": "stream",
     "text": [
      "2\n",
      "4\n",
      "8\n",
      "16\n"
     ]
    }
   ],
   "source": [
    "def main() -> None:\n",
    "    total = 1\n",
    "    while total < 16:\n",
    "        total = total * 2\n",
    "        print(total)\n",
    "main()"
   ]
  },
  {
   "cell_type": "markdown",
   "id": "ee2e2c8f-30f7-4492-9617-7a7eee3ad8fb",
   "metadata": {
    "editable": true,
    "slideshow": {
     "slide_type": "skip"
    },
    "tags": [
     "blank"
    ]
   },
   "source": [
    "```\n",
    "\n",
    "\n",
    "\n",
    "\n",
    "\n",
    "\n",
    "\n",
    "```"
   ]
  },
  {
   "cell_type": "markdown",
   "id": "98038942-b5ef-4c5d-8b38-ef1f7228b273",
   "metadata": {
    "editable": true,
    "slideshow": {
     "slide_type": "slide"
    },
    "tags": [
     "question"
    ]
   },
   "source": [
    "_What does the following program output?_"
   ]
  },
  {
   "cell_type": "code",
   "execution_count": 3,
   "id": "9c8c4e13-91b4-4829-98f3-f37641898885",
   "metadata": {
    "editable": true,
    "slideshow": {
     "slide_type": "subslide"
    },
    "tags": [
     "worksheet-code-only"
    ]
   },
   "outputs": [
    {
     "name": "stdout",
     "output_type": "stream",
     "text": [
      "6 5\n",
      "4 4\n",
      "2 3\n",
      "0 2\n"
     ]
    }
   ],
   "source": [
    "def main() -> None:\n",
    "    a = 6\n",
    "    b = 5\n",
    "    while a >= 0 and b > 0:\n",
    "        print(a, b)\n",
    "        a = a - 2\n",
    "        b = b - 1\n",
    "main()"
   ]
  },
  {
   "cell_type": "markdown",
   "id": "ca7aadcf-179c-44f2-a8d2-9ac1230fd2c2",
   "metadata": {
    "editable": true,
    "slideshow": {
     "slide_type": "skip"
    },
    "tags": [
     "blank"
    ]
   },
   "source": [
    "```\n",
    "\n",
    "\n",
    "\n",
    "\n",
    "\n",
    "\n",
    "\n",
    "```"
   ]
  },
  {
   "cell_type": "markdown",
   "id": "f7f7341f-6fbd-4296-afdd-c7dca5c309f5",
   "metadata": {
    "editable": true,
    "slideshow": {
     "slide_type": "slide"
    },
    "tags": []
   },
   "source": [
    "_Write a function called `ask_words` that takes an integer and prompts the user to enter words (one word at a time) until the total number of characters entered equals or exceeds the provided number._"
   ]
  },
  {
   "cell_type": "code",
   "execution_count": 10,
   "id": "bccdb07d-73f2-478f-a5ac-14356e33ed35",
   "metadata": {
    "editable": true,
    "slideshow": {
     "slide_type": "skip"
    },
    "tags": [
     "notes-only"
    ]
   },
   "outputs": [],
   "source": [
    "def ask_words(target):\n",
    "    count = 0\n",
    "    while (count < target):\n",
    "        word = input(\"Enter a word: \")\n",
    "        count = count + len(word)"
   ]
  },
  {
   "cell_type": "markdown",
   "id": "36a11bf7-43cf-42af-a6c1-22a302763c31",
   "metadata": {
    "editable": true,
    "slideshow": {
     "slide_type": "skip"
    },
    "tags": [
     "worksheet-only"
    ]
   },
   "source": [
    "```\n",
    "\n",
    "\n",
    "\n",
    "\n",
    "\n",
    "\n",
    "\n",
    "\n",
    "\n",
    "\n",
    "```"
   ]
  },
  {
   "cell_type": "markdown",
   "id": "5843ffd8-939e-4f37-b52b-32be4f0abc48",
   "metadata": {
    "editable": true,
    "slideshow": {
     "slide_type": "slide"
    },
    "tags": [
     "question"
    ]
   },
   "source": [
    "_What does the following program output?_"
   ]
  },
  {
   "cell_type": "code",
   "execution_count": null,
   "id": "bf6f36be-489d-4d13-b90b-4912699cce41",
   "metadata": {
    "editable": true,
    "slideshow": {
     "slide_type": "subslide"
    },
    "tags": [
     "worksheet-code-only"
    ]
   },
   "outputs": [],
   "source": [
    "def main() -> None:\n",
    "    i = 1\n",
    "    while i < 5:\n",
    "        if i % 3 == 1:\n",
    "            i = i + 1\n",
    "        elif i % 3 == 2:\n",
    "            i = i - 1\n",
    "        print(i)\n",
    "None"
   ]
  },
  {
   "cell_type": "markdown",
   "id": "f7cf676e-9454-46bb-a693-6c8a7f75af33",
   "metadata": {
    "editable": true,
    "slideshow": {
     "slide_type": "skip"
    },
    "tags": [
     "blank"
    ]
   },
   "source": [
    "```\n",
    "\n",
    "\n",
    "\n",
    "\n",
    "```"
   ]
  },
  {
   "cell_type": "markdown",
   "id": "b760b79a-e097-4d77-ba11-47e81f3d57e0",
   "metadata": {
    "editable": true,
    "slideshow": {
     "slide_type": "slide"
    },
    "tags": []
   },
   "source": [
    "## Extra practice"
   ]
  },
  {
   "cell_type": "markdown",
   "id": "fad4b155-264a-480a-9c3c-bd37f92dc83d",
   "metadata": {
    "editable": true,
    "slideshow": {
     "slide_type": "slide"
    },
    "tags": [
     "question"
    ]
   },
   "source": [
    "_Write a function called `only_letters` that takes a string and returns true if the string only contains letters, and false otherwise._"
   ]
  },
  {
   "cell_type": "code",
   "execution_count": 2,
   "id": "e5601a71-748d-465d-abf1-e5c9d150a580",
   "metadata": {
    "editable": true,
    "slideshow": {
     "slide_type": "skip"
    },
    "tags": [
     "answer"
    ]
   },
   "outputs": [
    {
     "data": {
      "text/plain": [
       "TestResults(failed=0, attempted=4)"
      ]
     },
     "execution_count": 2,
     "metadata": {},
     "output_type": "execute_result"
    }
   ],
   "source": [
    "import doctest\n",
    "import string\n",
    "def only_letters(s):\n",
    "    \"\"\"\n",
    "    Checks if a string contains only letters\n",
    "    \n",
    "    >>> only_letters(\"nIcE\")\n",
    "    True\n",
    "    >>> only_letters(\"a I\")\n",
    "    False\n",
    "    >>> only_letters(\"H2O\")\n",
    "    False\n",
    "    >>> only_letters(\"I2\")\n",
    "    False\n",
    "    \"\"\"\n",
    "    non_letter = False\n",
    "    for c in s:\n",
    "        if c not in string.ascii_letters:\n",
    "            non_letter = True\n",
    "    if non_letter:\n",
    "        return False\n",
    "    else:\n",
    "        return True\n",
    "\n",
    "doctest.testmod()"
   ]
  },
  {
   "cell_type": "markdown",
   "id": "9d28b5b6-49e0-4978-b5a8-6cf670db8e4f",
   "metadata": {
    "editable": true,
    "slideshow": {
     "slide_type": "skip"
    },
    "tags": [
     "blank"
    ]
   },
   "source": [
    "```\n",
    "\n",
    "\n",
    "\n",
    "\n",
    "\n",
    "\n",
    "\n",
    "\n",
    "\n",
    "\n",
    "\n",
    "```"
   ]
  },
  {
   "cell_type": "markdown",
   "id": "97d6ab14-ed5c-4364-90fe-6336aee60741",
   "metadata": {
    "editable": true,
    "slideshow": {
     "slide_type": ""
    },
    "tags": [
     "question"
    ]
   },
   "source": [
    "_Write a function called `get_donations` that takes a fundraising goal (in dollars) and repeatedly asks the user for donation amounts until the fundraising goal has been met. The function should return the total number of donations entered._"
   ]
  },
  {
   "cell_type": "code",
   "execution_count": 17,
   "id": "bc325d71-cce6-4bc2-86c8-17bdb76e5590",
   "metadata": {
    "editable": true,
    "slideshow": {
     "slide_type": "skip"
    },
    "tags": [
     "answer"
    ]
   },
   "outputs": [],
   "source": [
    "def get_donations(goal):\n",
    "    count = 0\n",
    "    raised = 0\n",
    "    while (raised < goal):\n",
    "        contribution = float(input(\"Donation amount: $\"))\n",
    "        raised = raised + contribution\n",
    "        count = count + 1\n",
    "    return count"
   ]
  },
  {
   "cell_type": "markdown",
   "id": "e91acb32-9069-413a-9246-5cb2e070e3e5",
   "metadata": {
    "editable": true,
    "slideshow": {
     "slide_type": "skip"
    },
    "tags": [
     "blank"
    ]
   },
   "source": [
    "```\n",
    "\n",
    "\n",
    "\n",
    "\n",
    "\n",
    "\n",
    "\n",
    "\n",
    "\n",
    "\n",
    "\n",
    "```"
   ]
  },
  {
   "cell_type": "markdown",
   "id": "9c37f0be-7bd6-4582-924c-3cbf5e5a9113",
   "metadata": {
    "editable": true,
    "slideshow": {
     "slide_type": "subslide"
    },
    "tags": [
     "question"
    ]
   },
   "source": [
    "_In the biological process of cell division, a parent cell divides into two daughter cells. Each of these two daughter cells then divides into two grandaughter cells. Each of these four grandaughter cells then divides into two great-grandaughter cells, etc. In other words, the total number of cells doubles with each round of cell division. Write a function called `cells` that takes a number of rounds of cell division that occur and returns the total number of cells that exist after the specified number of rounds. Assume you start with a single cell._"
   ]
  },
  {
   "cell_type": "code",
   "execution_count": 14,
   "id": "0b53e0b5-3a38-4c41-bd3b-95c3503ee007",
   "metadata": {
    "editable": true,
    "slideshow": {
     "slide_type": "skip"
    },
    "tags": [
     "answer"
    ]
   },
   "outputs": [],
   "source": [
    "def cells(rounds):\n",
    "    \"\"\"\n",
    "    Determines the number of cells that will exist after the specified number of rounds of cell division\n",
    "    \n",
    "    >>> cells(0)\n",
    "    1\n",
    "    >>> cells(1)\n",
    "    2\n",
    "    >>> cells(2)\n",
    "    4\n",
    "    >>> cells(5)\n",
    "    32\n",
    "    \"\"\"\n",
    "    total = 1\n",
    "    while (rounds > 0):\n",
    "        total = total * 2\n",
    "        rounds = rounds - 1\n",
    "    return total"
   ]
  },
  {
   "cell_type": "markdown",
   "id": "9580dc04-d635-4d64-a0c8-d0bb048e351c",
   "metadata": {
    "editable": true,
    "slideshow": {
     "slide_type": "skip"
    },
    "tags": [
     "blank"
    ]
   },
   "source": [
    "```\n",
    "\n",
    "\n",
    "\n",
    "\n",
    "\n",
    "\n",
    "\n",
    "```"
   ]
  },
  {
   "cell_type": "markdown",
   "id": "8e4221a9-9864-41d5-94c8-1b28987831e6",
   "metadata": {
    "editable": true,
    "slideshow": {
     "slide_type": "fragment"
    },
    "tags": [
     "question"
    ]
   },
   "source": [
    "_Again, consider the biological process of cell division. Write a function called `rounds` that takes the number of cells that should exist, and computes the number of rounds of cell division that must occur to have at least that many cells (asuming you started with a single cell)._"
   ]
  },
  {
   "cell_type": "code",
   "execution_count": 15,
   "id": "cb71bc19-2227-4126-b16b-94244dbcb487",
   "metadata": {
    "editable": true,
    "slideshow": {
     "slide_type": "skip"
    },
    "tags": [
     "answer"
    ]
   },
   "outputs": [],
   "source": [
    "def rounds(target):\n",
    "    \"\"\"\n",
    "    Determines the number of rounds of cell division that must occur to have the target number of cells\n",
    "    \n",
    "    >>> rounds(1)\n",
    "    0\n",
    "    >>> rounds(2)\n",
    "    1\n",
    "    >>> rounds(4)\n",
    "    2\n",
    "    >>> rounds(5)\n",
    "    3\n",
    "    \"\"\"\n",
    "    cells = 1\n",
    "    count = 0\n",
    "    while cells < target:\n",
    "        cells = cells * 2\n",
    "        count = count + 1\n",
    "    return count"
   ]
  },
  {
   "cell_type": "markdown",
   "id": "cca48872-df3f-4ed1-b3de-3bcc44694f0d",
   "metadata": {
    "editable": true,
    "slideshow": {
     "slide_type": "skip"
    },
    "tags": [
     "blank"
    ]
   },
   "source": [
    "```\n",
    "\n",
    "\n",
    "\n",
    "\n",
    "\n",
    "\n",
    "\n",
    "```"
   ]
  },
  {
   "cell_type": "markdown",
   "id": "f3b96050-a9c5-46ae-8466-40693cb7cf85",
   "metadata": {
    "editable": true,
    "slideshow": {
     "slide_type": "subslide"
    },
    "tags": [
     "question"
    ]
   },
   "source": [
    "_Various measures of public health (e.g., number of active cases of COVID-19) are often reporting using a rolling average (e.g., the average over the past 7 days). A slight variation of a rolling average is an estimated weighted moving average (EWMA), which takes a fraction of the previous average and a fraction of a new value and computes a new average._"
   ]
  },
  {
   "cell_type": "code",
   "execution_count": 4,
   "id": "84c6c257-26cc-49da-8e8e-30dd64eddcfa",
   "metadata": {
    "editable": true,
    "slideshow": {
     "slide_type": "skip"
    },
    "tags": [
     "question"
    ]
   },
   "outputs": [],
   "source": [
    "def compute_ewma(previous, today):\n",
    "    new = previous * (6 / 7) + today * (1 / 7)\n",
    "    return new"
   ]
  },
  {
   "cell_type": "markdown",
   "id": "cab4ed74-68fd-4249-9a6d-859a9debe55d",
   "metadata": {
    "editable": true,
    "slideshow": {
     "slide_type": "fragment"
    },
    "tags": [
     "question"
    ]
   },
   "source": [
    "_Write a function called `monitor_average` that takes a threshold and asks for daily case counts until the EWMA exceeds the threshold._"
   ]
  },
  {
   "cell_type": "code",
   "execution_count": 20,
   "id": "90e3d613-0540-447e-b7ab-0f1cf5e2e9dd",
   "metadata": {
    "editable": true,
    "slideshow": {
     "slide_type": "skip"
    },
    "tags": [
     "answer"
    ]
   },
   "outputs": [],
   "source": [
    "def monitor_average(threshold):\n",
    "    day = 1\n",
    "    average = 0\n",
    "    while (average < threshold):\n",
    "        today = int(input(\"Number of active cases on day \"+str(day)+\"? \"))\n",
    "        average = compute_ewma(average, today)\n",
    "        day = day + 1\n",
    "    print(\"The EWMA of active cases exceeded the threshold on day\", day)"
   ]
  }
 ],
 "metadata": {
  "kernelspec": {
   "display_name": "Python 3 (ipykernel)",
   "language": "python",
   "name": "python3"
  },
  "language_info": {
   "codemirror_mode": {
    "name": "ipython",
    "version": 3
   },
   "file_extension": ".py",
   "mimetype": "text/x-python",
   "name": "python",
   "nbconvert_exporter": "python",
   "pygments_lexer": "ipython3",
   "version": "3.9.6"
  }
 },
 "nbformat": 4,
 "nbformat_minor": 5
}
