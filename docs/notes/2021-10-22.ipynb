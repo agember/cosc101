{
 "cells": [
  {
   "cell_type": "markdown",
   "id": "1450de01-3fc1-406e-83e8-775cb58fa853",
   "metadata": {},
   "source": [
    "# Beyond 101\n",
    "_COSC 101, Introduction to Computing I, 2021-10-22_"
   ]
  },
  {
   "cell_type": "markdown",
   "id": "9ddef245-4452-46c0-86a9-35b6150f3ae8",
   "metadata": {},
   "source": [
    "## Announcements\n",
    "* Homework 6 due Thursday"
   ]
  },
  {
   "cell_type": "markdown",
   "id": "cf94c999-7dcf-4212-a6d1-6aefb945cb07",
   "metadata": {},
   "source": [
    "## Outline\n",
    "* Past/future of 101\n",
    "* Using computational thinking and programming in other disciplines\n",
    "* Future CS courses\n",
    "* Homework 6 work time"
   ]
  },
  {
   "cell_type": "markdown",
   "id": "71063f46-e90f-4e4e-b70a-b81142037499",
   "metadata": {},
   "source": [
    "## Past/future of 101\n",
    "* Learned:\n",
    "    * Fundamental building blocks of programs: variables, input/output, if statements, loops (for & while), functions, modules\n",
    "    * How to decompose problems\n",
    "    * How to decompose solutions and use solution patterns (input process-output, accumulator, sentinel, nested loops)\n",
    "    * How to document and test code\n",
    "* Second half of 101:\n",
    "  * working with more/complex data\n",
    "    * strings\n",
    "    * lists\n",
    "    * dictionaries\n",
    "    * files\n",
    "  * additional problem solving pattern: recursion"
   ]
  },
  {
   "cell_type": "markdown",
   "id": "f58fd771-bafc-4d2b-80a4-37ffd322bd3e",
   "metadata": {},
   "source": [
    "## Using computational thinking and programming in other disciplines\n",
    "* Write programs to analyze many types of data\n",
    "  * numbers\n",
    "  * simple text\n",
    "  * images\n",
    "* In many domains\n",
    "  * finance/economics/business\n",
    "  * science\n",
    "  * Healthcare\n",
    "  * education\n",
    "  * politics\n",
    "* _How could you (have) use(d) computational thinking and programming in a course this semester or last year?_"
   ]
  },
  {
   "cell_type": "markdown",
   "id": "2e0cd072-e7b9-4ec7-afa1-c91f19b6d344",
   "metadata": {},
   "source": [
    "## Future CS courses\n",
    "* Introduction to Computing II (COSC 102)\n",
    "    * New language: Java\n",
    "    * Creating object classes\n",
    "    * Ways of storing data: e.g., linked lists, queue\n",
    "    * Common data analysis tasks: e.g., sorting, searching\n",
    "    * More problem solving and debugging\n",
    "* Data Structures & Algorithms (COSC 202) — more ways of storing data (e.g., trees); designing efficient algorithms\n",
    "* Introduction to Computer Systems (COSC 208) — how does the underlying hardware (e.g., CPU) and software (e.g., operating system) work?\n",
    "* Discrete Strutures (COSC 290) — mathematical foundations of computer science\n",
    "* Electives\n",
    "    * Computer networks\n",
    "    * Human Computer Interaction (HCI)\n",
    "    * Machine learning\n",
    "    * Security & privacy\n",
    "    * Natural language processing (NLP)\n",
    "    * Graphics\n",
    "    * Software engineering\n",
    "    * Databases\n",
    "    * Theory of computing\n",
    "    * Operating systems"
   ]
  }
 ],
 "metadata": {
  "kernelspec": {
   "display_name": "Python 3 (ipykernel)",
   "language": "python",
   "name": "python3"
  },
  "language_info": {
   "codemirror_mode": {
    "name": "ipython",
    "version": 3
   },
   "file_extension": ".py",
   "mimetype": "text/x-python",
   "name": "python",
   "nbconvert_exporter": "python",
   "pygments_lexer": "ipython3",
   "version": "3.8.2"
  }
 },
 "nbformat": 4,
 "nbformat_minor": 5
}
